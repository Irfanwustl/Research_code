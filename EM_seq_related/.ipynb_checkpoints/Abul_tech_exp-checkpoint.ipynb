{
 "cells": [
  {
   "cell_type": "code",
   "execution_count": 1,
   "metadata": {},
   "outputs": [
    {
     "data": {
      "text/html": [
       "<div>\n",
       "<style scoped>\n",
       "    .dataframe tbody tr th:only-of-type {\n",
       "        vertical-align: middle;\n",
       "    }\n",
       "\n",
       "    .dataframe tbody tr th {\n",
       "        vertical-align: top;\n",
       "    }\n",
       "\n",
       "    .dataframe thead th {\n",
       "        text-align: right;\n",
       "    }\n",
       "</style>\n",
       "<table border=\"1\" class=\"dataframe\">\n",
       "  <thead>\n",
       "    <tr style=\"text-align: right;\">\n",
       "      <th></th>\n",
       "      <th>position</th>\n",
       "      <th>EM-Seq_10-cfDNA.bedgraph_rolled</th>\n",
       "      <th>EM-Seq_30-cfDNA.bedgraph_rolled</th>\n",
       "      <th>EM-Seq_3-cfDNA.bedgraph_rolled</th>\n",
       "    </tr>\n",
       "  </thead>\n",
       "  <tbody>\n",
       "    <tr>\n",
       "      <th>0</th>\n",
       "      <td>chr1:17378</td>\n",
       "      <td>1.0</td>\n",
       "      <td>NaN</td>\n",
       "      <td>0.5</td>\n",
       "    </tr>\n",
       "    <tr>\n",
       "      <th>1</th>\n",
       "      <td>chr1:17406</td>\n",
       "      <td>1.0</td>\n",
       "      <td>NaN</td>\n",
       "      <td>1.0</td>\n",
       "    </tr>\n",
       "    <tr>\n",
       "      <th>2</th>\n",
       "      <td>chr1:17452</td>\n",
       "      <td>1.0</td>\n",
       "      <td>NaN</td>\n",
       "      <td>1.0</td>\n",
       "    </tr>\n",
       "    <tr>\n",
       "      <th>3</th>\n",
       "      <td>chr1:17478</td>\n",
       "      <td>1.0</td>\n",
       "      <td>NaN</td>\n",
       "      <td>1.0</td>\n",
       "    </tr>\n",
       "    <tr>\n",
       "      <th>4</th>\n",
       "      <td>chr1:17483</td>\n",
       "      <td>1.0</td>\n",
       "      <td>NaN</td>\n",
       "      <td>1.0</td>\n",
       "    </tr>\n",
       "  </tbody>\n",
       "</table>\n",
       "</div>"
      ],
      "text/plain": [
       "     position  EM-Seq_10-cfDNA.bedgraph_rolled  \\\n",
       "0  chr1:17378                              1.0   \n",
       "1  chr1:17406                              1.0   \n",
       "2  chr1:17452                              1.0   \n",
       "3  chr1:17478                              1.0   \n",
       "4  chr1:17483                              1.0   \n",
       "\n",
       "   EM-Seq_30-cfDNA.bedgraph_rolled  EM-Seq_3-cfDNA.bedgraph_rolled  \n",
       "0                              NaN                             0.5  \n",
       "1                              NaN                             1.0  \n",
       "2                              NaN                             1.0  \n",
       "3                              NaN                             1.0  \n",
       "4                              NaN                             1.0  "
      ]
     },
     "execution_count": 1,
     "metadata": {},
     "output_type": "execute_result"
    }
   ],
   "source": [
    "import pandas as pd\n",
    "infile='/Users/irffanalahi/Research/Research_update/Dataqc/Abul_technical_exp_EM-seq/EM-Seq_cfDNA_technical_expt_bg_rolled_all_matrixCin'\n",
    "randomrows=10000\n",
    "indf=pd.read_csv(infile,sep='\\t')\n",
    "indf.head()"
   ]
  },
  {
   "cell_type": "code",
   "execution_count": 2,
   "metadata": {},
   "outputs": [
    {
     "data": {
      "text/html": [
       "<div>\n",
       "<style scoped>\n",
       "    .dataframe tbody tr th:only-of-type {\n",
       "        vertical-align: middle;\n",
       "    }\n",
       "\n",
       "    .dataframe tbody tr th {\n",
       "        vertical-align: top;\n",
       "    }\n",
       "\n",
       "    .dataframe thead th {\n",
       "        text-align: right;\n",
       "    }\n",
       "</style>\n",
       "<table border=\"1\" class=\"dataframe\">\n",
       "  <thead>\n",
       "    <tr style=\"text-align: right;\">\n",
       "      <th></th>\n",
       "      <th>position</th>\n",
       "      <th>EM-Seq_10-cfDNA.bedgraph_rolled</th>\n",
       "      <th>EM-Seq_30-cfDNA.bedgraph_rolled</th>\n",
       "      <th>EM-Seq_3-cfDNA.bedgraph_rolled</th>\n",
       "    </tr>\n",
       "  </thead>\n",
       "  <tbody>\n",
       "    <tr>\n",
       "      <th>6</th>\n",
       "      <td>chr1:17562</td>\n",
       "      <td>1.00</td>\n",
       "      <td>0.500</td>\n",
       "      <td>0.00</td>\n",
       "    </tr>\n",
       "    <tr>\n",
       "      <th>26</th>\n",
       "      <td>chr1:54649</td>\n",
       "      <td>0.33</td>\n",
       "      <td>1.000</td>\n",
       "      <td>0.50</td>\n",
       "    </tr>\n",
       "    <tr>\n",
       "      <th>28</th>\n",
       "      <td>chr1:64563</td>\n",
       "      <td>0.50</td>\n",
       "      <td>0.000</td>\n",
       "      <td>0.67</td>\n",
       "    </tr>\n",
       "    <tr>\n",
       "      <th>30</th>\n",
       "      <td>chr1:74902</td>\n",
       "      <td>0.75</td>\n",
       "      <td>0.800</td>\n",
       "      <td>1.00</td>\n",
       "    </tr>\n",
       "    <tr>\n",
       "      <th>31</th>\n",
       "      <td>chr1:74953</td>\n",
       "      <td>1.00</td>\n",
       "      <td>0.835</td>\n",
       "      <td>1.00</td>\n",
       "    </tr>\n",
       "  </tbody>\n",
       "</table>\n",
       "</div>"
      ],
      "text/plain": [
       "      position  EM-Seq_10-cfDNA.bedgraph_rolled  \\\n",
       "6   chr1:17562                             1.00   \n",
       "26  chr1:54649                             0.33   \n",
       "28  chr1:64563                             0.50   \n",
       "30  chr1:74902                             0.75   \n",
       "31  chr1:74953                             1.00   \n",
       "\n",
       "    EM-Seq_30-cfDNA.bedgraph_rolled  EM-Seq_3-cfDNA.bedgraph_rolled  \n",
       "6                             0.500                            0.00  \n",
       "26                            1.000                            0.50  \n",
       "28                            0.000                            0.67  \n",
       "30                            0.800                            1.00  \n",
       "31                            0.835                            1.00  "
      ]
     },
     "execution_count": 2,
     "metadata": {},
     "output_type": "execute_result"
    }
   ],
   "source": [
    "indf = indf.dropna()\n",
    "indf.head()"
   ]
  },
  {
   "cell_type": "code",
   "execution_count": 10,
   "metadata": {},
   "outputs": [
    {
     "data": {
      "text/html": [
       "<div>\n",
       "<style scoped>\n",
       "    .dataframe tbody tr th:only-of-type {\n",
       "        vertical-align: middle;\n",
       "    }\n",
       "\n",
       "    .dataframe tbody tr th {\n",
       "        vertical-align: top;\n",
       "    }\n",
       "\n",
       "    .dataframe thead th {\n",
       "        text-align: right;\n",
       "    }\n",
       "</style>\n",
       "<table border=\"1\" class=\"dataframe\">\n",
       "  <thead>\n",
       "    <tr style=\"text-align: right;\">\n",
       "      <th></th>\n",
       "      <th>position</th>\n",
       "      <th>EM-Seq_10-cfDNA.bedgraph_rolled</th>\n",
       "      <th>EM-Seq_30-cfDNA.bedgraph_rolled</th>\n",
       "      <th>EM-Seq_3-cfDNA.bedgraph_rolled</th>\n",
       "    </tr>\n",
       "  </thead>\n",
       "  <tbody>\n",
       "    <tr>\n",
       "      <th>24940698</th>\n",
       "      <td>chr9:70386095</td>\n",
       "      <td>0.860</td>\n",
       "      <td>0.912</td>\n",
       "      <td>1.000</td>\n",
       "    </tr>\n",
       "    <tr>\n",
       "      <th>22837594</th>\n",
       "      <td>chr7:104940359</td>\n",
       "      <td>0.861</td>\n",
       "      <td>0.864</td>\n",
       "      <td>1.000</td>\n",
       "    </tr>\n",
       "    <tr>\n",
       "      <th>3519166</th>\n",
       "      <td>chr11:1336762</td>\n",
       "      <td>0.000</td>\n",
       "      <td>0.000</td>\n",
       "      <td>0.000</td>\n",
       "    </tr>\n",
       "    <tr>\n",
       "      <th>17417547</th>\n",
       "      <td>chr3:185426179</td>\n",
       "      <td>1.000</td>\n",
       "      <td>0.875</td>\n",
       "      <td>0.939</td>\n",
       "    </tr>\n",
       "    <tr>\n",
       "      <th>20150183</th>\n",
       "      <td>chr5:156294387</td>\n",
       "      <td>1.000</td>\n",
       "      <td>0.921</td>\n",
       "      <td>0.964</td>\n",
       "    </tr>\n",
       "  </tbody>\n",
       "</table>\n",
       "</div>"
      ],
      "text/plain": [
       "                position  EM-Seq_10-cfDNA.bedgraph_rolled  \\\n",
       "24940698   chr9:70386095                            0.860   \n",
       "22837594  chr7:104940359                            0.861   \n",
       "3519166    chr11:1336762                            0.000   \n",
       "17417547  chr3:185426179                            1.000   \n",
       "20150183  chr5:156294387                            1.000   \n",
       "\n",
       "          EM-Seq_30-cfDNA.bedgraph_rolled  EM-Seq_3-cfDNA.bedgraph_rolled  \n",
       "24940698                            0.912                           1.000  \n",
       "22837594                            0.864                           1.000  \n",
       "3519166                             0.000                           0.000  \n",
       "17417547                            0.875                           0.939  \n",
       "20150183                            0.921                           0.964  "
      ]
     },
     "execution_count": 10,
     "metadata": {},
     "output_type": "execute_result"
    }
   ],
   "source": [
    "randomdf=(indf.sample(n = randomrows,random_state=0)).copy()\n",
    "randomdf.head()"
   ]
  },
  {
   "cell_type": "code",
   "execution_count": 11,
   "metadata": {},
   "outputs": [
    {
     "data": {
      "text/plain": [
       "(10000, 4)"
      ]
     },
     "execution_count": 11,
     "metadata": {},
     "output_type": "execute_result"
    }
   ],
   "source": [
    "randomdf.shape"
   ]
  },
  {
   "cell_type": "code",
   "execution_count": 13,
   "metadata": {},
   "outputs": [
    {
     "data": {
      "text/html": [
       "<div>\n",
       "<style scoped>\n",
       "    .dataframe tbody tr th:only-of-type {\n",
       "        vertical-align: middle;\n",
       "    }\n",
       "\n",
       "    .dataframe tbody tr th {\n",
       "        vertical-align: top;\n",
       "    }\n",
       "\n",
       "    .dataframe thead th {\n",
       "        text-align: right;\n",
       "    }\n",
       "</style>\n",
       "<table border=\"1\" class=\"dataframe\">\n",
       "  <thead>\n",
       "    <tr style=\"text-align: right;\">\n",
       "      <th></th>\n",
       "      <th>EM-Seq_10-cfDNA.bedgraph_rolled</th>\n",
       "      <th>EM-Seq_30-cfDNA.bedgraph_rolled</th>\n",
       "      <th>EM-Seq_3-cfDNA.bedgraph_rolled</th>\n",
       "    </tr>\n",
       "    <tr>\n",
       "      <th>position</th>\n",
       "      <th></th>\n",
       "      <th></th>\n",
       "      <th></th>\n",
       "    </tr>\n",
       "  </thead>\n",
       "  <tbody>\n",
       "    <tr>\n",
       "      <th>chr9:70386095</th>\n",
       "      <td>0.860</td>\n",
       "      <td>0.912</td>\n",
       "      <td>1.000</td>\n",
       "    </tr>\n",
       "    <tr>\n",
       "      <th>chr7:104940359</th>\n",
       "      <td>0.861</td>\n",
       "      <td>0.864</td>\n",
       "      <td>1.000</td>\n",
       "    </tr>\n",
       "    <tr>\n",
       "      <th>chr11:1336762</th>\n",
       "      <td>0.000</td>\n",
       "      <td>0.000</td>\n",
       "      <td>0.000</td>\n",
       "    </tr>\n",
       "    <tr>\n",
       "      <th>chr3:185426179</th>\n",
       "      <td>1.000</td>\n",
       "      <td>0.875</td>\n",
       "      <td>0.939</td>\n",
       "    </tr>\n",
       "    <tr>\n",
       "      <th>chr5:156294387</th>\n",
       "      <td>1.000</td>\n",
       "      <td>0.921</td>\n",
       "      <td>0.964</td>\n",
       "    </tr>\n",
       "  </tbody>\n",
       "</table>\n",
       "</div>"
      ],
      "text/plain": [
       "                EM-Seq_10-cfDNA.bedgraph_rolled  \\\n",
       "position                                          \n",
       "chr9:70386095                             0.860   \n",
       "chr7:104940359                            0.861   \n",
       "chr11:1336762                             0.000   \n",
       "chr3:185426179                            1.000   \n",
       "chr5:156294387                            1.000   \n",
       "\n",
       "                EM-Seq_30-cfDNA.bedgraph_rolled  \\\n",
       "position                                          \n",
       "chr9:70386095                             0.912   \n",
       "chr7:104940359                            0.864   \n",
       "chr11:1336762                             0.000   \n",
       "chr3:185426179                            0.875   \n",
       "chr5:156294387                            0.921   \n",
       "\n",
       "                EM-Seq_3-cfDNA.bedgraph_rolled  \n",
       "position                                        \n",
       "chr9:70386095                            1.000  \n",
       "chr7:104940359                           1.000  \n",
       "chr11:1336762                            0.000  \n",
       "chr3:185426179                           0.939  \n",
       "chr5:156294387                           0.964  "
      ]
     },
     "execution_count": 13,
     "metadata": {},
     "output_type": "execute_result"
    }
   ],
   "source": [
    "randomdf.set_index('position',inplace=True)\n",
    "randomdf.head()"
   ]
  },
  {
   "cell_type": "code",
   "execution_count": 15,
   "metadata": {},
   "outputs": [
    {
     "data": {
      "image/png": "[encoded data removed]",
      "text/plain": [
       "<Figure size 288x288 with 1 Axes>"
      ]
     },
     "metadata": {
      "needs_background": "light"
     },
     "output_type": "display_data"
    }
   ],
   "source": [
    "import matplotlib.pyplot as plt\n",
    "\n",
    "plt.matshow(randomdf.corr())\n",
    "plt.show()"
   ]
  },
  {
   "cell_type": "code",
   "execution_count": 17,
   "metadata": {},
   "outputs": [
    {
     "data": {
      "text/html": [
       "<div>\n",
       "<style scoped>\n",
       "    .dataframe tbody tr th:only-of-type {\n",
       "        vertical-align: middle;\n",
       "    }\n",
       "\n",
       "    .dataframe tbody tr th {\n",
       "        vertical-align: top;\n",
       "    }\n",
       "\n",
       "    .dataframe thead th {\n",
       "        text-align: right;\n",
       "    }\n",
       "</style>\n",
       "<table border=\"1\" class=\"dataframe\">\n",
       "  <thead>\n",
       "    <tr style=\"text-align: right;\">\n",
       "      <th></th>\n",
       "      <th>EM-Seq_10-cfDNA.bedgraph_rolled</th>\n",
       "      <th>EM-Seq_30-cfDNA.bedgraph_rolled</th>\n",
       "      <th>EM-Seq_3-cfDNA.bedgraph_rolled</th>\n",
       "    </tr>\n",
       "  </thead>\n",
       "  <tbody>\n",
       "    <tr>\n",
       "      <th>EM-Seq_10-cfDNA.bedgraph_rolled</th>\n",
       "      <td>1.000000</td>\n",
       "      <td>0.924148</td>\n",
       "      <td>0.924964</td>\n",
       "    </tr>\n",
       "    <tr>\n",
       "      <th>EM-Seq_30-cfDNA.bedgraph_rolled</th>\n",
       "      <td>0.924148</td>\n",
       "      <td>1.000000</td>\n",
       "      <td>0.919187</td>\n",
       "    </tr>\n",
       "    <tr>\n",
       "      <th>EM-Seq_3-cfDNA.bedgraph_rolled</th>\n",
       "      <td>0.924964</td>\n",
       "      <td>0.919187</td>\n",
       "      <td>1.000000</td>\n",
       "    </tr>\n",
       "  </tbody>\n",
       "</table>\n",
       "</div>"
      ],
      "text/plain": [
       "                                 EM-Seq_10-cfDNA.bedgraph_rolled  \\\n",
       "EM-Seq_10-cfDNA.bedgraph_rolled                         1.000000   \n",
       "EM-Seq_30-cfDNA.bedgraph_rolled                         0.924148   \n",
       "EM-Seq_3-cfDNA.bedgraph_rolled                          0.924964   \n",
       "\n",
       "                                 EM-Seq_30-cfDNA.bedgraph_rolled  \\\n",
       "EM-Seq_10-cfDNA.bedgraph_rolled                         0.924148   \n",
       "EM-Seq_30-cfDNA.bedgraph_rolled                         1.000000   \n",
       "EM-Seq_3-cfDNA.bedgraph_rolled                          0.919187   \n",
       "\n",
       "                                 EM-Seq_3-cfDNA.bedgraph_rolled  \n",
       "EM-Seq_10-cfDNA.bedgraph_rolled                        0.924964  \n",
       "EM-Seq_30-cfDNA.bedgraph_rolled                        0.919187  \n",
       "EM-Seq_3-cfDNA.bedgraph_rolled                         1.000000  "
      ]
     },
     "execution_count": 17,
     "metadata": {},
     "output_type": "execute_result"
    }
   ],
   "source": [
    "randomdf.corr('pearson')"
   ]
  },
  {
   "cell_type": "code",
   "execution_count": 18,
   "metadata": {},
   "outputs": [
    {
     "data": {
      "text/html": [
       "<div>\n",
       "<style scoped>\n",
       "    .dataframe tbody tr th:only-of-type {\n",
       "        vertical-align: middle;\n",
       "    }\n",
       "\n",
       "    .dataframe tbody tr th {\n",
       "        vertical-align: top;\n",
       "    }\n",
       "\n",
       "    .dataframe thead th {\n",
       "        text-align: right;\n",
       "    }\n",
       "</style>\n",
       "<table border=\"1\" class=\"dataframe\">\n",
       "  <thead>\n",
       "    <tr style=\"text-align: right;\">\n",
       "      <th></th>\n",
       "      <th>EM-Seq_10-cfDNA.bedgraph_rolled</th>\n",
       "      <th>EM-Seq_30-cfDNA.bedgraph_rolled</th>\n",
       "      <th>EM-Seq_3-cfDNA.bedgraph_rolled</th>\n",
       "    </tr>\n",
       "  </thead>\n",
       "  <tbody>\n",
       "    <tr>\n",
       "      <th>EM-Seq_10-cfDNA.bedgraph_rolled</th>\n",
       "      <td>1.000000</td>\n",
       "      <td>0.661100</td>\n",
       "      <td>0.671002</td>\n",
       "    </tr>\n",
       "    <tr>\n",
       "      <th>EM-Seq_30-cfDNA.bedgraph_rolled</th>\n",
       "      <td>0.661100</td>\n",
       "      <td>1.000000</td>\n",
       "      <td>0.644252</td>\n",
       "    </tr>\n",
       "    <tr>\n",
       "      <th>EM-Seq_3-cfDNA.bedgraph_rolled</th>\n",
       "      <td>0.671002</td>\n",
       "      <td>0.644252</td>\n",
       "      <td>1.000000</td>\n",
       "    </tr>\n",
       "  </tbody>\n",
       "</table>\n",
       "</div>"
      ],
      "text/plain": [
       "                                 EM-Seq_10-cfDNA.bedgraph_rolled  \\\n",
       "EM-Seq_10-cfDNA.bedgraph_rolled                         1.000000   \n",
       "EM-Seq_30-cfDNA.bedgraph_rolled                         0.661100   \n",
       "EM-Seq_3-cfDNA.bedgraph_rolled                          0.671002   \n",
       "\n",
       "                                 EM-Seq_30-cfDNA.bedgraph_rolled  \\\n",
       "EM-Seq_10-cfDNA.bedgraph_rolled                         0.661100   \n",
       "EM-Seq_30-cfDNA.bedgraph_rolled                         1.000000   \n",
       "EM-Seq_3-cfDNA.bedgraph_rolled                          0.644252   \n",
       "\n",
       "                                 EM-Seq_3-cfDNA.bedgraph_rolled  \n",
       "EM-Seq_10-cfDNA.bedgraph_rolled                        0.671002  \n",
       "EM-Seq_30-cfDNA.bedgraph_rolled                        0.644252  \n",
       "EM-Seq_3-cfDNA.bedgraph_rolled                         1.000000  "
      ]
     },
     "execution_count": 18,
     "metadata": {},
     "output_type": "execute_result"
    }
   ],
   "source": [
    "randomdf.corr('spearman')"
   ]
  },
  {
   "cell_type": "code",
   "execution_count": null,
   "metadata": {},
   "outputs": [],
   "source": [
    "###pearson spearman plot###"
   ]
  },
  {
   "cell_type": "code",
   "execution_count": 14,
   "metadata": {
    "scrolled": true
   },
   "outputs": [
    {
     "data": {
      "text/plain": [
       "<matplotlib.axes._subplots.AxesSubplot at 0x7f848eed5320>"
      ]
     },
     "execution_count": 14,
     "metadata": {},
     "output_type": "execute_result"
    },
    {
     "data": {
      "image/png": "[encoded data removed]",
      "text/plain": [
       "<Figure size 432x288 with 1 Axes>"
      ]
     },
     "metadata": {
      "needs_background": "light"
     },
     "output_type": "display_data"
    }
   ],
   "source": [
    "####hypo hyper standard deviation\n",
    "\n",
    "randomdf.boxplot() "
   ]
  },
  {
   "cell_type": "code",
   "execution_count": null,
   "metadata": {},
   "outputs": [],
   "source": []
  }
 ],
 "metadata": {
  "kernelspec": {
   "display_name": "Python 3",
   "language": "python",
   "name": "python3"
  },
  "language_info": {
   "codemirror_mode": {
    "name": "ipython",
    "version": 3
   },
   "file_extension": ".py",
   "mimetype": "text/x-python",
   "name": "python",
   "nbconvert_exporter": "python",
   "pygments_lexer": "ipython3",
   "version": "3.6.7"
  }
 },
 "nbformat": 4,
 "nbformat_minor": 2
}
