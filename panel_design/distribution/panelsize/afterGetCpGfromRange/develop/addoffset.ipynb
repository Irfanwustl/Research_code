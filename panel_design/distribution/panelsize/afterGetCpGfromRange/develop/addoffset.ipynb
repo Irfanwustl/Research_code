{
 "cells": [
  {
   "cell_type": "code",
   "execution_count": 1,
   "metadata": {},
   "outputs": [],
   "source": [
    "import pandas as pd\n",
    "infile='/Users/irffanalahi/Research/Research_code/panel_design/distribution/mergetest/toy1.bed'\n",
    "outfile=infile+\"_offsetadded.txt\"\n",
    "\n",
    "offset=50\n",
    "indf=pd.read_csv(infile,sep=\"\\t\",header=None)\n",
    "#indf.head()"
   ]
  },
  {
   "cell_type": "code",
   "execution_count": 2,
   "metadata": {},
   "outputs": [],
   "source": [
    "indf.rename(columns={0: 'chrom', 1: 'prevstart',2:'prevend'},inplace=True,errors='raise')\n",
    "#indf.head()"
   ]
  },
  {
   "cell_type": "code",
   "execution_count": 3,
   "metadata": {},
   "outputs": [],
   "source": [
    "indf['start']=indf['prevstart']-offset\n",
    "indf['end']=indf['prevend']+offset\n",
    "outdf=indf[['chrom','start','end']]\n",
    "#outdf.head()"
   ]
  },
  {
   "cell_type": "code",
   "execution_count": 4,
   "metadata": {},
   "outputs": [],
   "source": [
    "outdf.to_csv(outfile,sep=\"\\t\",index=False,header=False)"
   ]
  }
 ],
 "metadata": {
  "kernelspec": {
   "display_name": "Python 3",
   "language": "python",
   "name": "python3"
  },
  "language_info": {
   "codemirror_mode": {
    "name": "ipython",
    "version": 3
   },
   "file_extension": ".py",
   "mimetype": "text/x-python",
   "name": "python",
   "nbconvert_exporter": "python",
   "pygments_lexer": "ipython3",
   "version": "3.6.7"
  }
 },
 "nbformat": 4,
 "nbformat_minor": 2
}
