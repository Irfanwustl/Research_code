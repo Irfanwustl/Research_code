{
 "cells": [
  {
   "cell_type": "code",
   "execution_count": 1,
   "metadata": {},
   "outputs": [],
   "source": [
    "import pandas as pd\n",
    "from collections import defaultdict\n",
    "infile=\"toy7_out.bed\"\n",
    "outfile=infile+\"_stats.txt\"\n",
    "\n",
    "\n",
    "indf=pd.read_csv(infile,sep=\"\\t\",header=None)\n",
    "#indf.head()"
   ]
  },
  {
   "cell_type": "code",
   "execution_count": 2,
   "metadata": {},
   "outputs": [],
   "source": [
    "indf.rename(columns={0: 'chrom', 1: 'start',2:'end',3:'#cpg'},inplace=True,errors='raise')\n",
    "#indf"
   ]
  },
  {
   "cell_type": "code",
   "execution_count": 3,
   "metadata": {},
   "outputs": [],
   "source": [
    "unique_cpg_number=list(set(indf['#cpg'].tolist()))\n",
    "unique_cpg_number.sort()\n"
   ]
  },
  {
   "cell_type": "code",
   "execution_count": 4,
   "metadata": {},
   "outputs": [],
   "source": [
    "outdict = defaultdict(list)\n",
    "\n",
    "for uc in unique_cpg_number:\n",
    "    tempdf=indf[indf['#cpg']>=uc]\n",
    "    \n",
    "    outdict['atleast_linked_group_size'].append(uc)\n",
    "    outdict['total_cpg'].append(tempdf.shape[0])\n",
    "\n",
    "outdf=pd.DataFrame.from_dict(outdict)\n",
    "\n",
    "outdf.to_csv(outfile,sep=\"\\t\",index=False)\n"
   ]
  }
 ],
 "metadata": {
  "kernelspec": {
   "display_name": "Python 3",
   "language": "python",
   "name": "python3"
  },
  "language_info": {
   "codemirror_mode": {
    "name": "ipython",
    "version": 3
   },
   "file_extension": ".py",
   "mimetype": "text/x-python",
   "name": "python",
   "nbconvert_exporter": "python",
   "pygments_lexer": "ipython3",
   "version": "3.6.7"
  }
 },
 "nbformat": 4,
 "nbformat_minor": 2
}
