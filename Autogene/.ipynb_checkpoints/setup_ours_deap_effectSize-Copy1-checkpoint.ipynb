{
 "cells": [
  {
   "cell_type": "code",
   "execution_count": 1,
   "metadata": {},
   "outputs": [
    {
     "name": "stderr",
     "output_type": "stream",
     "text": [
      "/Library/Frameworks/Python.framework/Versions/3.6/lib/python3.6/site-packages/anndata/_core/anndata.py:21: FutureWarning: pandas.core.index is deprecated and will be removed in a future version.  The public classes are available in the top-level namespace.\n",
      "  from pandas.core.index import RangeIndex\n"
     ]
    }
   ],
   "source": [
    "%config InlineBackend.figure_formats = ['retina']  # increase resolution on retina screens\n",
    "import numpy as np\n",
    "import scanpy as sc\n",
    "import scipy as sci\n",
    "import pandas as pd\n",
    "\n",
    "import matplotlib as mpl\n",
    "import matplotlib.pyplot as plt\n",
    "import seaborn as sns\n",
    "\n",
    "#import autogenes as ag\n",
    "from deap import creator, base, tools, algorithms\n",
    "\n",
    "from sklearn.svm import NuSVR\n",
    "import pickle"
   ]
  },
  {
   "cell_type": "code",
   "execution_count": 2,
   "metadata": {},
   "outputs": [
    {
     "data": {
      "text/html": [
       "<div>\n",
       "<style scoped>\n",
       "    .dataframe tbody tr th:only-of-type {\n",
       "        vertical-align: middle;\n",
       "    }\n",
       "\n",
       "    .dataframe tbody tr th {\n",
       "        vertical-align: top;\n",
       "    }\n",
       "\n",
       "    .dataframe thead th {\n",
       "        text-align: right;\n",
       "    }\n",
       "</style>\n",
       "<table border=\"1\" class=\"dataframe\">\n",
       "  <thead>\n",
       "    <tr style=\"text-align: right;\">\n",
       "      <th></th>\n",
       "      <th>Epcam.1382</th>\n",
       "      <th>Epcam.1389</th>\n",
       "      <th>Epcam.1313</th>\n",
       "      <th>CD8.Tumor.1382</th>\n",
       "      <th>CD56.Tumor.1382</th>\n",
       "      <th>CD19.Tumor.1382</th>\n",
       "      <th>CD4.Tumor.1382</th>\n",
       "      <th>CD14.Tumor.1382</th>\n",
       "      <th>CD8.PBMC.1382</th>\n",
       "      <th>CD19.PBMC.1382</th>\n",
       "      <th>...</th>\n",
       "      <th>CD8.PBMC.1313</th>\n",
       "      <th>CD19.PBMC.1313</th>\n",
       "      <th>CD56.PBMC.1313</th>\n",
       "      <th>CD4.PBMC.1382</th>\n",
       "      <th>CD4.PBMC.1389</th>\n",
       "      <th>CD8.PBMC.1389</th>\n",
       "      <th>CD14.PBMC.1313</th>\n",
       "      <th>CD56.PBMC.1389</th>\n",
       "      <th>CD19.PBMC.1389</th>\n",
       "      <th>CD14.PBMC.1389</th>\n",
       "    </tr>\n",
       "  </thead>\n",
       "  <tbody>\n",
       "    <tr>\n",
       "      <th>chr16:53208310</th>\n",
       "      <td>0.0</td>\n",
       "      <td>0.0</td>\n",
       "      <td>0.0</td>\n",
       "      <td>0.0</td>\n",
       "      <td>0.0</td>\n",
       "      <td>0.0</td>\n",
       "      <td>0.0</td>\n",
       "      <td>0.0</td>\n",
       "      <td>75.1</td>\n",
       "      <td>42.9</td>\n",
       "      <td>...</td>\n",
       "      <td>100.0</td>\n",
       "      <td>40.0</td>\n",
       "      <td>14.3</td>\n",
       "      <td>81.1</td>\n",
       "      <td>93.4</td>\n",
       "      <td>49.8</td>\n",
       "      <td>10.7</td>\n",
       "      <td>16.5</td>\n",
       "      <td>8.2</td>\n",
       "      <td>29.8</td>\n",
       "    </tr>\n",
       "    <tr>\n",
       "      <th>chr2:41768639</th>\n",
       "      <td>0.0</td>\n",
       "      <td>0.0</td>\n",
       "      <td>0.0</td>\n",
       "      <td>0.0</td>\n",
       "      <td>0.0</td>\n",
       "      <td>0.0</td>\n",
       "      <td>0.0</td>\n",
       "      <td>0.0</td>\n",
       "      <td>62.5</td>\n",
       "      <td>33.7</td>\n",
       "      <td>...</td>\n",
       "      <td>69.0</td>\n",
       "      <td>0.0</td>\n",
       "      <td>19.8</td>\n",
       "      <td>75.0</td>\n",
       "      <td>57.1</td>\n",
       "      <td>50.0</td>\n",
       "      <td>71.4</td>\n",
       "      <td>25.0</td>\n",
       "      <td>40.2</td>\n",
       "      <td>22.8</td>\n",
       "    </tr>\n",
       "    <tr>\n",
       "      <th>chr11:57711478</th>\n",
       "      <td>0.0</td>\n",
       "      <td>0.0</td>\n",
       "      <td>0.0</td>\n",
       "      <td>0.0</td>\n",
       "      <td>0.0</td>\n",
       "      <td>0.0</td>\n",
       "      <td>0.0</td>\n",
       "      <td>0.0</td>\n",
       "      <td>61.5</td>\n",
       "      <td>28.3</td>\n",
       "      <td>...</td>\n",
       "      <td>82.0</td>\n",
       "      <td>33.3</td>\n",
       "      <td>41.9</td>\n",
       "      <td>71.3</td>\n",
       "      <td>50.0</td>\n",
       "      <td>87.2</td>\n",
       "      <td>50.4</td>\n",
       "      <td>33.0</td>\n",
       "      <td>10.9</td>\n",
       "      <td>85.7</td>\n",
       "    </tr>\n",
       "    <tr>\n",
       "      <th>chr10:31009395</th>\n",
       "      <td>0.0</td>\n",
       "      <td>0.0</td>\n",
       "      <td>0.0</td>\n",
       "      <td>0.0</td>\n",
       "      <td>0.0</td>\n",
       "      <td>0.0</td>\n",
       "      <td>0.0</td>\n",
       "      <td>0.0</td>\n",
       "      <td>50.0</td>\n",
       "      <td>50.3</td>\n",
       "      <td>...</td>\n",
       "      <td>86.0</td>\n",
       "      <td>0.0</td>\n",
       "      <td>33.0</td>\n",
       "      <td>86.0</td>\n",
       "      <td>100.0</td>\n",
       "      <td>80.0</td>\n",
       "      <td>75.0</td>\n",
       "      <td>92.6</td>\n",
       "      <td>100.0</td>\n",
       "      <td>90.7</td>\n",
       "    </tr>\n",
       "    <tr>\n",
       "      <th>chr6:44617053</th>\n",
       "      <td>0.0</td>\n",
       "      <td>0.0</td>\n",
       "      <td>0.0</td>\n",
       "      <td>0.0</td>\n",
       "      <td>0.0</td>\n",
       "      <td>0.0</td>\n",
       "      <td>0.0</td>\n",
       "      <td>0.0</td>\n",
       "      <td>55.7</td>\n",
       "      <td>28.6</td>\n",
       "      <td>...</td>\n",
       "      <td>14.0</td>\n",
       "      <td>14.5</td>\n",
       "      <td>0.0</td>\n",
       "      <td>100.0</td>\n",
       "      <td>67.0</td>\n",
       "      <td>100.0</td>\n",
       "      <td>0.0</td>\n",
       "      <td>88.0</td>\n",
       "      <td>100.0</td>\n",
       "      <td>60.0</td>\n",
       "    </tr>\n",
       "    <tr>\n",
       "      <th>...</th>\n",
       "      <td>...</td>\n",
       "      <td>...</td>\n",
       "      <td>...</td>\n",
       "      <td>...</td>\n",
       "      <td>...</td>\n",
       "      <td>...</td>\n",
       "      <td>...</td>\n",
       "      <td>...</td>\n",
       "      <td>...</td>\n",
       "      <td>...</td>\n",
       "      <td>...</td>\n",
       "      <td>...</td>\n",
       "      <td>...</td>\n",
       "      <td>...</td>\n",
       "      <td>...</td>\n",
       "      <td>...</td>\n",
       "      <td>...</td>\n",
       "      <td>...</td>\n",
       "      <td>...</td>\n",
       "      <td>...</td>\n",
       "      <td>...</td>\n",
       "    </tr>\n",
       "    <tr>\n",
       "      <th>chr1:235997080</th>\n",
       "      <td>0.0</td>\n",
       "      <td>0.0</td>\n",
       "      <td>0.0</td>\n",
       "      <td>100.0</td>\n",
       "      <td>50.0</td>\n",
       "      <td>50.0</td>\n",
       "      <td>54.7</td>\n",
       "      <td>100.0</td>\n",
       "      <td>24.7</td>\n",
       "      <td>20.0</td>\n",
       "      <td>...</td>\n",
       "      <td>0.0</td>\n",
       "      <td>0.0</td>\n",
       "      <td>0.0</td>\n",
       "      <td>14.0</td>\n",
       "      <td>0.0</td>\n",
       "      <td>5.9</td>\n",
       "      <td>16.5</td>\n",
       "      <td>12.5</td>\n",
       "      <td>0.0</td>\n",
       "      <td>11.3</td>\n",
       "    </tr>\n",
       "    <tr>\n",
       "      <th>chr4:70927454</th>\n",
       "      <td>0.0</td>\n",
       "      <td>0.0</td>\n",
       "      <td>0.0</td>\n",
       "      <td>100.0</td>\n",
       "      <td>59.8</td>\n",
       "      <td>100.0</td>\n",
       "      <td>33.0</td>\n",
       "      <td>100.0</td>\n",
       "      <td>6.2</td>\n",
       "      <td>40.0</td>\n",
       "      <td>...</td>\n",
       "      <td>12.5</td>\n",
       "      <td>0.0</td>\n",
       "      <td>16.7</td>\n",
       "      <td>9.3</td>\n",
       "      <td>14.1</td>\n",
       "      <td>0.0</td>\n",
       "      <td>0.0</td>\n",
       "      <td>18.2</td>\n",
       "      <td>28.6</td>\n",
       "      <td>0.0</td>\n",
       "    </tr>\n",
       "    <tr>\n",
       "      <th>chr16:23467213</th>\n",
       "      <td>0.0</td>\n",
       "      <td>0.0</td>\n",
       "      <td>0.0</td>\n",
       "      <td>100.0</td>\n",
       "      <td>40.0</td>\n",
       "      <td>100.0</td>\n",
       "      <td>57.1</td>\n",
       "      <td>100.0</td>\n",
       "      <td>17.0</td>\n",
       "      <td>75.0</td>\n",
       "      <td>...</td>\n",
       "      <td>0.0</td>\n",
       "      <td>6.1</td>\n",
       "      <td>0.0</td>\n",
       "      <td>30.1</td>\n",
       "      <td>0.0</td>\n",
       "      <td>0.0</td>\n",
       "      <td>0.0</td>\n",
       "      <td>33.3</td>\n",
       "      <td>0.0</td>\n",
       "      <td>14.6</td>\n",
       "    </tr>\n",
       "    <tr>\n",
       "      <th>chr2:233292771</th>\n",
       "      <td>0.0</td>\n",
       "      <td>0.0</td>\n",
       "      <td>0.0</td>\n",
       "      <td>100.0</td>\n",
       "      <td>50.0</td>\n",
       "      <td>100.0</td>\n",
       "      <td>50.0</td>\n",
       "      <td>100.0</td>\n",
       "      <td>0.0</td>\n",
       "      <td>43.0</td>\n",
       "      <td>...</td>\n",
       "      <td>0.0</td>\n",
       "      <td>14.3</td>\n",
       "      <td>0.0</td>\n",
       "      <td>15.0</td>\n",
       "      <td>14.0</td>\n",
       "      <td>0.0</td>\n",
       "      <td>0.0</td>\n",
       "      <td>14.1</td>\n",
       "      <td>0.0</td>\n",
       "      <td>0.0</td>\n",
       "    </tr>\n",
       "    <tr>\n",
       "      <th>chr17:75619770</th>\n",
       "      <td>0.0</td>\n",
       "      <td>0.0</td>\n",
       "      <td>0.0</td>\n",
       "      <td>100.0</td>\n",
       "      <td>40.0</td>\n",
       "      <td>100.0</td>\n",
       "      <td>60.0</td>\n",
       "      <td>100.0</td>\n",
       "      <td>20.3</td>\n",
       "      <td>43.0</td>\n",
       "      <td>...</td>\n",
       "      <td>5.0</td>\n",
       "      <td>0.0</td>\n",
       "      <td>0.0</td>\n",
       "      <td>33.0</td>\n",
       "      <td>0.0</td>\n",
       "      <td>9.3</td>\n",
       "      <td>0.0</td>\n",
       "      <td>0.0</td>\n",
       "      <td>0.0</td>\n",
       "      <td>0.0</td>\n",
       "    </tr>\n",
       "  </tbody>\n",
       "</table>\n",
       "<p>541 rows × 23 columns</p>\n",
       "</div>"
      ],
      "text/plain": [
       "                Epcam.1382  Epcam.1389  Epcam.1313  CD8.Tumor.1382  \\\n",
       "chr16:53208310         0.0         0.0         0.0             0.0   \n",
       "chr2:41768639          0.0         0.0         0.0             0.0   \n",
       "chr11:57711478         0.0         0.0         0.0             0.0   \n",
       "chr10:31009395         0.0         0.0         0.0             0.0   \n",
       "chr6:44617053          0.0         0.0         0.0             0.0   \n",
       "...                    ...         ...         ...             ...   \n",
       "chr1:235997080         0.0         0.0         0.0           100.0   \n",
       "chr4:70927454          0.0         0.0         0.0           100.0   \n",
       "chr16:23467213         0.0         0.0         0.0           100.0   \n",
       "chr2:233292771         0.0         0.0         0.0           100.0   \n",
       "chr17:75619770         0.0         0.0         0.0           100.0   \n",
       "\n",
       "                CD56.Tumor.1382  CD19.Tumor.1382  CD4.Tumor.1382  \\\n",
       "chr16:53208310              0.0              0.0             0.0   \n",
       "chr2:41768639               0.0              0.0             0.0   \n",
       "chr11:57711478              0.0              0.0             0.0   \n",
       "chr10:31009395              0.0              0.0             0.0   \n",
       "chr6:44617053               0.0              0.0             0.0   \n",
       "...                         ...              ...             ...   \n",
       "chr1:235997080             50.0             50.0            54.7   \n",
       "chr4:70927454              59.8            100.0            33.0   \n",
       "chr16:23467213             40.0            100.0            57.1   \n",
       "chr2:233292771             50.0            100.0            50.0   \n",
       "chr17:75619770             40.0            100.0            60.0   \n",
       "\n",
       "                CD14.Tumor.1382  CD8.PBMC.1382  CD19.PBMC.1382  ...  \\\n",
       "chr16:53208310              0.0           75.1            42.9  ...   \n",
       "chr2:41768639               0.0           62.5            33.7  ...   \n",
       "chr11:57711478              0.0           61.5            28.3  ...   \n",
       "chr10:31009395              0.0           50.0            50.3  ...   \n",
       "chr6:44617053               0.0           55.7            28.6  ...   \n",
       "...                         ...            ...             ...  ...   \n",
       "chr1:235997080            100.0           24.7            20.0  ...   \n",
       "chr4:70927454             100.0            6.2            40.0  ...   \n",
       "chr16:23467213            100.0           17.0            75.0  ...   \n",
       "chr2:233292771            100.0            0.0            43.0  ...   \n",
       "chr17:75619770            100.0           20.3            43.0  ...   \n",
       "\n",
       "                CD8.PBMC.1313  CD19.PBMC.1313  CD56.PBMC.1313  CD4.PBMC.1382  \\\n",
       "chr16:53208310          100.0            40.0            14.3           81.1   \n",
       "chr2:41768639            69.0             0.0            19.8           75.0   \n",
       "chr11:57711478           82.0            33.3            41.9           71.3   \n",
       "chr10:31009395           86.0             0.0            33.0           86.0   \n",
       "chr6:44617053            14.0            14.5             0.0          100.0   \n",
       "...                       ...             ...             ...            ...   \n",
       "chr1:235997080            0.0             0.0             0.0           14.0   \n",
       "chr4:70927454            12.5             0.0            16.7            9.3   \n",
       "chr16:23467213            0.0             6.1             0.0           30.1   \n",
       "chr2:233292771            0.0            14.3             0.0           15.0   \n",
       "chr17:75619770            5.0             0.0             0.0           33.0   \n",
       "\n",
       "                CD4.PBMC.1389  CD8.PBMC.1389  CD14.PBMC.1313  CD56.PBMC.1389  \\\n",
       "chr16:53208310           93.4           49.8            10.7            16.5   \n",
       "chr2:41768639            57.1           50.0            71.4            25.0   \n",
       "chr11:57711478           50.0           87.2            50.4            33.0   \n",
       "chr10:31009395          100.0           80.0            75.0            92.6   \n",
       "chr6:44617053            67.0          100.0             0.0            88.0   \n",
       "...                       ...            ...             ...             ...   \n",
       "chr1:235997080            0.0            5.9            16.5            12.5   \n",
       "chr4:70927454            14.1            0.0             0.0            18.2   \n",
       "chr16:23467213            0.0            0.0             0.0            33.3   \n",
       "chr2:233292771           14.0            0.0             0.0            14.1   \n",
       "chr17:75619770            0.0            9.3             0.0             0.0   \n",
       "\n",
       "                CD19.PBMC.1389  CD14.PBMC.1389  \n",
       "chr16:53208310             8.2            29.8  \n",
       "chr2:41768639             40.2            22.8  \n",
       "chr11:57711478            10.9            85.7  \n",
       "chr10:31009395           100.0            90.7  \n",
       "chr6:44617053            100.0            60.0  \n",
       "...                        ...             ...  \n",
       "chr1:235997080             0.0            11.3  \n",
       "chr4:70927454             28.6             0.0  \n",
       "chr16:23467213             0.0            14.6  \n",
       "chr2:233292771             0.0             0.0  \n",
       "chr17:75619770             0.0             0.0  \n",
       "\n",
       "[541 rows x 23 columns]"
      ]
     },
     "execution_count": 2,
     "metadata": {},
     "output_type": "execute_result"
    }
   ],
   "source": [
    "file =\"SM_100_100_median_ref\"\n",
    "adata = pd.read_csv(file,sep=\"\\t\",index_col=0)\n",
    "adata"
   ]
  },
  {
   "cell_type": "code",
   "execution_count": 3,
   "metadata": {},
   "outputs": [],
   "source": [
    "def group_celltype(df,cluster):\n",
    "    #cells = [x for x in df.columns.values if x.startswith(cluster)]\n",
    "    cells=[]\n",
    "   \n",
    "    \n",
    "    for y in df.columns.values:\n",
    "        if y.find(cluster)!=-1:\n",
    "            cells.append(y)\n",
    "    return cells\n",
    "    "
   ]
  },
  {
   "cell_type": "code",
   "execution_count": 4,
   "metadata": {},
   "outputs": [],
   "source": [
    "def cellSpecific_mean(df,cellType):\n",
    "    \n",
    "    clusters=cellType\n",
    "    sc_mean = pd.DataFrame(index=df.index.values,columns=clusters)\n",
    "    for cluster in clusters:\n",
    "        cells = group_celltype(df,cluster)\n",
    "       \n",
    "        sc_part =df.loc[:,cells]\n",
    "        \n",
    "        \n",
    "        \n",
    "        sc_mean[cluster]=pd.DataFrame(np.mean(sc_part,axis=1),index=df.index.values)\n",
    "    centroids_sc_hv = sc_mean\n",
    "    return centroids_sc_hv"
   ]
  },
  {
   "cell_type": "code",
   "execution_count": 5,
   "metadata": {},
   "outputs": [],
   "source": [
    "def cellSpecific_median(df,cellType):\n",
    "    \n",
    "    clusters=cellType\n",
    "    sc_mean = pd.DataFrame(index=df.index.values,columns=clusters)\n",
    "    for cluster in clusters:\n",
    "        cells = group_celltype(df,cluster)\n",
    "       \n",
    "        sc_part =df.loc[:,cells]\n",
    "        \n",
    "        \n",
    "        \n",
    "        sc_mean[cluster]=pd.DataFrame(np.median(sc_part,axis=1),index=df.index.values)\n",
    "    centroids_sc_hv = sc_mean\n",
    "    return centroids_sc_hv"
   ]
  },
  {
   "cell_type": "code",
   "execution_count": 6,
   "metadata": {},
   "outputs": [],
   "source": [
    "def cellSpecific_std(df,cellType):\n",
    "    clusters=cellType\n",
    "    sc_mean = pd.DataFrame(index=df.index.values,columns=clusters)\n",
    "    for cluster in clusters:\n",
    "        cells = group_celltype(df,cluster)\n",
    "       \n",
    "        sc_part =df.loc[:,cells]\n",
    "        \n",
    "        \n",
    "        \n",
    "        sc_mean[cluster]=pd.DataFrame(np.std(sc_part,axis=1),index=df.index.values)\n",
    "    centroids_sc_hv = sc_mean\n",
    "    return centroids_sc_hv"
   ]
  },
  {
   "cell_type": "code",
   "execution_count": 7,
   "metadata": {},
   "outputs": [],
   "source": [
    "#adata.index.values"
   ]
  },
  {
   "cell_type": "code",
   "execution_count": 8,
   "metadata": {},
   "outputs": [
    {
     "data": {
      "text/html": [
       "<div>\n",
       "<style scoped>\n",
       "    .dataframe tbody tr th:only-of-type {\n",
       "        vertical-align: middle;\n",
       "    }\n",
       "\n",
       "    .dataframe tbody tr th {\n",
       "        vertical-align: top;\n",
       "    }\n",
       "\n",
       "    .dataframe thead th {\n",
       "        text-align: right;\n",
       "    }\n",
       "</style>\n",
       "<table border=\"1\" class=\"dataframe\">\n",
       "  <thead>\n",
       "    <tr style=\"text-align: right;\">\n",
       "      <th></th>\n",
       "      <th>PBMC</th>\n",
       "      <th>Tumor</th>\n",
       "      <th>Epcam</th>\n",
       "    </tr>\n",
       "  </thead>\n",
       "  <tbody>\n",
       "    <tr>\n",
       "      <th>chr16:53208310</th>\n",
       "      <td>45.573333</td>\n",
       "      <td>0.0</td>\n",
       "      <td>0.0</td>\n",
       "    </tr>\n",
       "    <tr>\n",
       "      <th>chr2:41768639</th>\n",
       "      <td>44.666667</td>\n",
       "      <td>0.0</td>\n",
       "      <td>0.0</td>\n",
       "    </tr>\n",
       "    <tr>\n",
       "      <th>chr11:57711478</th>\n",
       "      <td>52.366667</td>\n",
       "      <td>0.0</td>\n",
       "      <td>0.0</td>\n",
       "    </tr>\n",
       "    <tr>\n",
       "      <th>chr10:31009395</th>\n",
       "      <td>61.373333</td>\n",
       "      <td>0.0</td>\n",
       "      <td>0.0</td>\n",
       "    </tr>\n",
       "    <tr>\n",
       "      <th>chr6:44617053</th>\n",
       "      <td>43.446667</td>\n",
       "      <td>0.0</td>\n",
       "      <td>0.0</td>\n",
       "    </tr>\n",
       "  </tbody>\n",
       "</table>\n",
       "</div>"
      ],
      "text/plain": [
       "                     PBMC  Tumor  Epcam\n",
       "chr16:53208310  45.573333    0.0    0.0\n",
       "chr2:41768639   44.666667    0.0    0.0\n",
       "chr11:57711478  52.366667    0.0    0.0\n",
       "chr10:31009395  61.373333    0.0    0.0\n",
       "chr6:44617053   43.446667    0.0    0.0"
      ]
     },
     "execution_count": 8,
     "metadata": {},
     "output_type": "execute_result"
    }
   ],
   "source": [
    "clusters = np.array(['PBMC','Tumor','Epcam'])\n",
    "\n",
    "centroids_sc_hv=cellSpecific_mean(adata,clusters)\n",
    "#centroids_sc_hv=cellSpecific_median(adata,clusters)\n",
    "centroids_sc_hv.head()\n",
    "#centroids_sc_hv.shape"
   ]
  },
  {
   "cell_type": "code",
   "execution_count": 9,
   "metadata": {},
   "outputs": [],
   "source": [
    "centroids_sc_hv_std=cellSpecific_std(adata,clusters)"
   ]
  },
  {
   "cell_type": "code",
   "execution_count": 10,
   "metadata": {},
   "outputs": [
    {
     "data": {
      "text/html": [
       "<div>\n",
       "<style scoped>\n",
       "    .dataframe tbody tr th:only-of-type {\n",
       "        vertical-align: middle;\n",
       "    }\n",
       "\n",
       "    .dataframe tbody tr th {\n",
       "        vertical-align: top;\n",
       "    }\n",
       "\n",
       "    .dataframe thead th {\n",
       "        text-align: right;\n",
       "    }\n",
       "</style>\n",
       "<table border=\"1\" class=\"dataframe\">\n",
       "  <thead>\n",
       "    <tr style=\"text-align: right;\">\n",
       "      <th></th>\n",
       "      <th>PBMC</th>\n",
       "      <th>Tumor</th>\n",
       "      <th>Epcam</th>\n",
       "    </tr>\n",
       "  </thead>\n",
       "  <tbody>\n",
       "    <tr>\n",
       "      <th>chr16:53208310</th>\n",
       "      <td>34.168123</td>\n",
       "      <td>0.0</td>\n",
       "      <td>0.0</td>\n",
       "    </tr>\n",
       "    <tr>\n",
       "      <th>chr2:41768639</th>\n",
       "      <td>22.763675</td>\n",
       "      <td>0.0</td>\n",
       "      <td>0.0</td>\n",
       "    </tr>\n",
       "    <tr>\n",
       "      <th>chr11:57711478</th>\n",
       "      <td>23.968887</td>\n",
       "      <td>0.0</td>\n",
       "      <td>0.0</td>\n",
       "    </tr>\n",
       "    <tr>\n",
       "      <th>chr10:31009395</th>\n",
       "      <td>33.789593</td>\n",
       "      <td>0.0</td>\n",
       "      <td>0.0</td>\n",
       "    </tr>\n",
       "    <tr>\n",
       "      <th>chr6:44617053</th>\n",
       "      <td>38.446948</td>\n",
       "      <td>0.0</td>\n",
       "      <td>0.0</td>\n",
       "    </tr>\n",
       "  </tbody>\n",
       "</table>\n",
       "</div>"
      ],
      "text/plain": [
       "                     PBMC  Tumor  Epcam\n",
       "chr16:53208310  34.168123    0.0    0.0\n",
       "chr2:41768639   22.763675    0.0    0.0\n",
       "chr11:57711478  23.968887    0.0    0.0\n",
       "chr10:31009395  33.789593    0.0    0.0\n",
       "chr6:44617053   38.446948    0.0    0.0"
      ]
     },
     "execution_count": 10,
     "metadata": {},
     "output_type": "execute_result"
    }
   ],
   "source": [
    "centroids_sc_hv_std.head()"
   ]
  },
  {
   "cell_type": "code",
   "execution_count": 11,
   "metadata": {},
   "outputs": [],
   "source": [
    "#medout=file+\"_median\"+\".txt\"\n",
    "#centroids_sc_hv.to_csv(medout,sep=\"\\t\")"
   ]
  },
  {
   "cell_type": "code",
   "execution_count": 12,
   "metadata": {},
   "outputs": [
    {
     "data": {
      "text/plain": [
       "(541, 3)"
      ]
     },
     "execution_count": 12,
     "metadata": {},
     "output_type": "execute_result"
    }
   ],
   "source": [
    "centroids_sc_hv.shape"
   ]
  },
  {
   "cell_type": "code",
   "execution_count": 13,
   "metadata": {},
   "outputs": [],
   "source": [
    "from autogenes_effectsize import ga"
   ]
  },
  {
   "cell_type": "code",
   "execution_count": 14,
   "metadata": {},
   "outputs": [
    {
     "name": "stdout",
     "output_type": "stream",
     "text": [
      "[<function condition at 0x13284cb70>, <function distance at 0x13284ca60>]\n",
      "['condition', 'distance']\n"
     ]
    }
   ],
   "source": [
    "from autogenes_effectsize import objectives as ga_objectives\n",
    "objectives_func = []\n",
    "objectives_names = []\n",
    "#objectives = ('correlation','distance')\n",
    "#objectives =('distance',)\n",
    "objectives =('condition','distance')\n",
    "for f in objectives:\n",
    "    if callable(f):\n",
    "        objectives_func.append(f)\n",
    "        objectives_names.append(f.__name__)\n",
    "    elif isinstance(f,str):\n",
    "        if not hasattr(ga_objectives,f):\n",
    "            raise ValueError(f\"No such objective: {f}\")\n",
    "        else:\n",
    "            objectives_names.append(f)\n",
    "            objectives_func.append(getattr(ga_objectives,f))\n",
    "    else:\n",
    "        raise ValueError(\"Invalid objective\")\n",
    "\n",
    "    objectives_num = len(objectives_func)\n",
    "    #self.weights = weights\n",
    "print(objectives_func)\n",
    "print(objectives_names)"
   ]
  },
  {
   "cell_type": "code",
   "execution_count": 15,
   "metadata": {},
   "outputs": [],
   "source": [
    "my_ga=ga.GeneticAlgorithm(\n",
    "        data=centroids_sc_hv.T.values, \n",
    "        ngen=5000,\n",
    "        mode='fixed',\n",
    "        weights=(-1.0,1.0),\n",
    "        #weights=(1.0,),\n",
    "        objectives_names=objectives_names, \n",
    "        objectives_func=objectives_func, \n",
    "        seed=0, \n",
    "        verbose=False,\n",
    "        nfeatures=75,\n",
    "        offspring_size= 100,\n",
    "        data_Std=centroids_sc_hv_std.T.values\n",
    "        \n",
    "        \n",
    "      )"
   ]
  },
  {
   "cell_type": "code",
   "execution_count": 16,
   "metadata": {},
   "outputs": [],
   "source": [
    "hof = my_ga.run()"
   ]
  },
  {
   "cell_type": "code",
   "execution_count": 17,
   "metadata": {},
   "outputs": [],
   "source": [
    "centroids_sc_pareto = centroids_sc_hv[hof[0]]"
   ]
  },
  {
   "cell_type": "code",
   "execution_count": 18,
   "metadata": {},
   "outputs": [
    {
     "data": {
      "text/plain": [
       "1.2982782735953253"
      ]
     },
     "execution_count": 18,
     "metadata": {},
     "output_type": "execute_result"
    }
   ],
   "source": [
    "ga_objectives.correlation(centroids_sc_hv[hof[0]].T.values,centroids_sc_hv_std.T.values)"
   ]
  },
  {
   "cell_type": "code",
   "execution_count": 19,
   "metadata": {},
   "outputs": [
    {
     "data": {
      "text/plain": [
       "1.16749467040324"
      ]
     },
     "execution_count": 19,
     "metadata": {},
     "output_type": "execute_result"
    }
   ],
   "source": [
    "ga_objectives.condition(centroids_sc_hv[hof[0]].T.values,centroids_sc_hv_std.T.values)"
   ]
  },
  {
   "cell_type": "code",
   "execution_count": 20,
   "metadata": {},
   "outputs": [],
   "source": [
    "def hof_obj_values(obj,hof,largerdf,largerdfStd):\n",
    "    obj_val=[]\n",
    "    \n",
    "    for i in range(len(hof)):\n",
    "        obj_val.append(obj(largerdf[hof[i]].T.values,largerdfStd[hof[i]].T.values)) \n",
    "        \n",
    "    return obj_val\n",
    "\n",
    "v1=hof_obj_values(ga_objectives.condition,hof,centroids_sc_hv,centroids_sc_hv_std)\n",
    "v2=hof_obj_values(ga_objectives.distance,hof,centroids_sc_hv,centroids_sc_hv_std)"
   ]
  },
  {
   "cell_type": "code",
   "execution_count": 21,
   "metadata": {},
   "outputs": [
    {
     "data": {
      "image/png": "[encoded data removed]",
      "text/plain": [
       "<Figure size 432x288 with 1 Axes>"
      ]
     },
     "metadata": {
      "image/png": {
       "height": 261,
       "width": 395
      },
      "needs_background": "light"
     },
     "output_type": "display_data"
    }
   ],
   "source": [
    "def plot_paretolike(val1,val2,objNmae1,objName2,invert=False):\n",
    "    line = plt.plot(val1,val2,marker='o')\n",
    "    plt.xlabel(objNmae1)\n",
    "    plt.ylabel(objName2)\n",
    "    if invert:\n",
    "        plt.gca().invert_yaxis()\n",
    "plot_paretolike(v1,v2,ga_objectives.condition.__name__,ga_objectives.distance.__name__)"
   ]
  },
  {
   "cell_type": "code",
   "execution_count": 26,
   "metadata": {},
   "outputs": [
    {
     "data": {
      "image/png": "[encoded data removed]",
      "text/plain": [
       "<Figure size 432x432 with 1 Axes>"
      ]
     },
     "metadata": {
      "image/png": {
       "height": 372,
       "width": 381
      },
      "needs_background": "light"
     },
     "output_type": "display_data"
    }
   ],
   "source": [
    "from kneed import DataGenerator, KneeLocator\n",
    "\n",
    "kneedle = KneeLocator(v1, v2, S=1, curve='concave', direction='increasing',online=True,interp_method='polynomial')\n",
    "kneedle.plot_knee()"
   ]
  },
  {
   "cell_type": "code",
   "execution_count": 22,
   "metadata": {},
   "outputs": [
    {
     "data": {
      "text/html": [
       "<div>\n",
       "<style scoped>\n",
       "    .dataframe tbody tr th:only-of-type {\n",
       "        vertical-align: middle;\n",
       "    }\n",
       "\n",
       "    .dataframe tbody tr th {\n",
       "        vertical-align: top;\n",
       "    }\n",
       "\n",
       "    .dataframe thead th {\n",
       "        text-align: right;\n",
       "    }\n",
       "</style>\n",
       "<table border=\"1\" class=\"dataframe\">\n",
       "  <thead>\n",
       "    <tr style=\"text-align: right;\">\n",
       "      <th></th>\n",
       "      <th>PBMC</th>\n",
       "      <th>Tumor</th>\n",
       "      <th>Epcam</th>\n",
       "    </tr>\n",
       "  </thead>\n",
       "  <tbody>\n",
       "    <tr>\n",
       "      <th>chr10:31009395</th>\n",
       "      <td>61.373333</td>\n",
       "      <td>0.0</td>\n",
       "      <td>0.000000</td>\n",
       "    </tr>\n",
       "    <tr>\n",
       "      <th>chr17:29542949</th>\n",
       "      <td>80.886667</td>\n",
       "      <td>0.0</td>\n",
       "      <td>23.666667</td>\n",
       "    </tr>\n",
       "    <tr>\n",
       "      <th>chr9:93974421</th>\n",
       "      <td>80.706667</td>\n",
       "      <td>0.0</td>\n",
       "      <td>0.000000</td>\n",
       "    </tr>\n",
       "    <tr>\n",
       "      <th>chr6:9025201</th>\n",
       "      <td>75.686667</td>\n",
       "      <td>0.0</td>\n",
       "      <td>0.000000</td>\n",
       "    </tr>\n",
       "    <tr>\n",
       "      <th>chr4:155601269</th>\n",
       "      <td>67.713333</td>\n",
       "      <td>0.0</td>\n",
       "      <td>0.000000</td>\n",
       "    </tr>\n",
       "    <tr>\n",
       "      <th>...</th>\n",
       "      <td>...</td>\n",
       "      <td>...</td>\n",
       "      <td>...</td>\n",
       "    </tr>\n",
       "    <tr>\n",
       "      <th>chr10:100887826</th>\n",
       "      <td>11.900000</td>\n",
       "      <td>79.8</td>\n",
       "      <td>0.000000</td>\n",
       "    </tr>\n",
       "    <tr>\n",
       "      <th>chr2:26249465</th>\n",
       "      <td>12.786667</td>\n",
       "      <td>92.0</td>\n",
       "      <td>0.000000</td>\n",
       "    </tr>\n",
       "    <tr>\n",
       "      <th>chr22:32119903</th>\n",
       "      <td>13.993333</td>\n",
       "      <td>93.4</td>\n",
       "      <td>0.000000</td>\n",
       "    </tr>\n",
       "    <tr>\n",
       "      <th>chr22:49534519</th>\n",
       "      <td>16.193333</td>\n",
       "      <td>88.4</td>\n",
       "      <td>0.000000</td>\n",
       "    </tr>\n",
       "    <tr>\n",
       "      <th>chr3:191311540</th>\n",
       "      <td>9.740000</td>\n",
       "      <td>64.7</td>\n",
       "      <td>0.000000</td>\n",
       "    </tr>\n",
       "  </tbody>\n",
       "</table>\n",
       "<p>75 rows × 3 columns</p>\n",
       "</div>"
      ],
      "text/plain": [
       "                      PBMC  Tumor      Epcam\n",
       "chr10:31009395   61.373333    0.0   0.000000\n",
       "chr17:29542949   80.886667    0.0  23.666667\n",
       "chr9:93974421    80.706667    0.0   0.000000\n",
       "chr6:9025201     75.686667    0.0   0.000000\n",
       "chr4:155601269   67.713333    0.0   0.000000\n",
       "...                    ...    ...        ...\n",
       "chr10:100887826  11.900000   79.8   0.000000\n",
       "chr2:26249465    12.786667   92.0   0.000000\n",
       "chr22:32119903   13.993333   93.4   0.000000\n",
       "chr22:49534519   16.193333   88.4   0.000000\n",
       "chr3:191311540    9.740000   64.7   0.000000\n",
       "\n",
       "[75 rows x 3 columns]"
      ]
     },
     "execution_count": 22,
     "metadata": {},
     "output_type": "execute_result"
    }
   ],
   "source": [
    "centroids_sc_pareto"
   ]
  },
  {
   "cell_type": "code",
   "execution_count": 23,
   "metadata": {},
   "outputs": [
    {
     "data": {
      "image/png": "[encoded data removed]",
      "text/plain": [
       "<Figure size 720x720 with 4 Axes>"
      ]
     },
     "metadata": {
      "image/png": {
       "height": 574,
       "width": 588
      }
     },
     "output_type": "display_data"
    }
   ],
   "source": [
    "#Correlation matrix\n",
    "corr = pd.DataFrame(data = np.corrcoef(centroids_sc_pareto.T), columns = centroids_sc_pareto.columns, index = centroids_sc_pareto.columns)\n",
    "mask = np.zeros_like(corr)\n",
    "mask[np.triu_indices_from(mask)] = True\n",
    "with sns.axes_style(\"white\"):\n",
    "    sns_plot =sns.clustermap(np.abs(corr),cmap=sns.color_palette(\"GnBu\", 1000), robust=True)"
   ]
  },
  {
   "cell_type": "code",
   "execution_count": 24,
   "metadata": {},
   "outputs": [
    {
     "data": {
      "image/png": "[encoded data removed]",
      "text/plain": [
       "<Figure size 720x720 with 4 Axes>"
      ]
     },
     "metadata": {
      "image/png": {
       "height": 652,
       "width": 588
      },
      "needs_background": "light"
     },
     "output_type": "display_data"
    }
   ],
   "source": [
    "#marker genes\n",
    "import seaborn as sns\n",
    "subTypes = pd.DataFrame\n",
    "subTypes = centroids_sc_pareto.columns\n",
    "type_pal = sns.husl_palette(centroids_sc_pareto.columns.size, s=0.7)\n",
    "lut = dict(zip(centroids_sc_pareto.columns.unique(), type_pal))\n",
    "row_colors = subTypes.map(lut)\n",
    "sns_plot = sns.clustermap(centroids_sc_pareto.T, cmap=\"mako\", robust=True)"
   ]
  },
  {
   "cell_type": "code",
   "execution_count": 25,
   "metadata": {},
   "outputs": [
    {
     "data": {
      "text/plain": [
       "(75, 3)"
      ]
     },
     "execution_count": 25,
     "metadata": {},
     "output_type": "execute_result"
    }
   ],
   "source": [
    "centroids_sc_pareto.shape"
   ]
  }
 ],
 "metadata": {
  "kernelspec": {
   "display_name": "Python 3",
   "language": "python",
   "name": "python3"
  },
  "language_info": {
   "codemirror_mode": {
    "name": "ipython",
    "version": 3
   },
   "file_extension": ".py",
   "mimetype": "text/x-python",
   "name": "python",
   "nbconvert_exporter": "python",
   "pygments_lexer": "ipython3",
   "version": "3.6.7"
  }
 },
 "nbformat": 4,
 "nbformat_minor": 2
}
