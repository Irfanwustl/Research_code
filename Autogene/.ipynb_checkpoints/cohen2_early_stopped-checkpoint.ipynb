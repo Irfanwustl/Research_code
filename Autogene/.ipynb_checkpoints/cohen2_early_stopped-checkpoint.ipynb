{
 "cells": [
  {
   "cell_type": "markdown",
   "metadata": {},
   "source": [
    "Parameters"
   ]
  },
  {
   "cell_type": "code",
   "execution_count": 1,
   "metadata": {},
   "outputs": [],
   "source": [
    "kernel_name='cohen2'"
   ]
  },
  {
   "cell_type": "code",
   "execution_count": 2,
   "metadata": {},
   "outputs": [],
   "source": [
    "minobj='condition2'\n",
    "maxobj='effectsize_cohen2' #'distance' #'affectSize'"
   ]
  },
  {
   "cell_type": "code",
   "execution_count": 3,
   "metadata": {},
   "outputs": [],
   "source": [
    "ngen=5000\n",
    "nfeatures=75\n",
    "population_size=200\n",
    "offspring_size=200"
   ]
  },
  {
   "cell_type": "code",
   "execution_count": 4,
   "metadata": {},
   "outputs": [],
   "source": [
    "cluster_list=['PBMC','Tumor','Epcam']\n",
    "cluster_column_name_should_be=['PBL','TIL','EPCAM']\n",
    "\n",
    "reffile ='SM_1000_1000_median_ref_forag_phencomp.txt'\n",
    "phenoclassfile=\"orig_sig_prevonlyPhenoclass_AG.txt\""
   ]
  },
  {
   "cell_type": "code",
   "execution_count": 5,
   "metadata": {},
   "outputs": [
    {
     "name": "stderr",
     "output_type": "stream",
     "text": [
      "/Library/Frameworks/Python.framework/Versions/3.6/lib/python3.6/site-packages/anndata/_core/anndata.py:21: FutureWarning: pandas.core.index is deprecated and will be removed in a future version.  The public classes are available in the top-level namespace.\n",
      "  from pandas.core.index import RangeIndex\n"
     ]
    }
   ],
   "source": [
    "%config InlineBackend.figure_formats = ['retina']  # increase resolution on retina screens\n",
    "import numpy as np\n",
    "import scanpy as sc\n",
    "import scipy as sci\n",
    "import pandas as pd\n",
    "\n",
    "import matplotlib as mpl\n",
    "import matplotlib.pyplot as plt\n",
    "import seaborn as sns\n",
    "\n",
    "#import autogenes as ag\n",
    "from deap import creator, base, tools, algorithms\n",
    "\n",
    "from sklearn.svm import NuSVR\n",
    "import pickle\n",
    "\n",
    "from autogenes_effectsize2 import ga\n",
    "from autogenes_effectsize2 import objectives as ga_objectives"
   ]
  },
  {
   "cell_type": "code",
   "execution_count": 6,
   "metadata": {},
   "outputs": [],
   "source": [
    "\n",
    "refData = pd.read_csv(reffile,sep=\"\\t\",index_col=0)\n",
    "\n",
    "phenoclass=pd.read_csv(phenoclassfile,sep=\"\\t\",index_col=0,header=None)\n"
   ]
  },
  {
   "cell_type": "code",
   "execution_count": 7,
   "metadata": {},
   "outputs": [
    {
     "data": {
      "text/html": [
       "<div>\n",
       "<style scoped>\n",
       "    .dataframe tbody tr th:only-of-type {\n",
       "        vertical-align: middle;\n",
       "    }\n",
       "\n",
       "    .dataframe tbody tr th {\n",
       "        vertical-align: top;\n",
       "    }\n",
       "\n",
       "    .dataframe thead th {\n",
       "        text-align: right;\n",
       "    }\n",
       "</style>\n",
       "<table border=\"1\" class=\"dataframe\">\n",
       "  <thead>\n",
       "    <tr style=\"text-align: right;\">\n",
       "      <th></th>\n",
       "      <th>1</th>\n",
       "      <th>2</th>\n",
       "      <th>3</th>\n",
       "      <th>4</th>\n",
       "      <th>5</th>\n",
       "      <th>6</th>\n",
       "      <th>7</th>\n",
       "      <th>8</th>\n",
       "      <th>9</th>\n",
       "      <th>10</th>\n",
       "      <th>...</th>\n",
       "      <th>14</th>\n",
       "      <th>15</th>\n",
       "      <th>16</th>\n",
       "      <th>17</th>\n",
       "      <th>18</th>\n",
       "      <th>19</th>\n",
       "      <th>20</th>\n",
       "      <th>21</th>\n",
       "      <th>22</th>\n",
       "      <th>23</th>\n",
       "    </tr>\n",
       "    <tr>\n",
       "      <th>0</th>\n",
       "      <th></th>\n",
       "      <th></th>\n",
       "      <th></th>\n",
       "      <th></th>\n",
       "      <th></th>\n",
       "      <th></th>\n",
       "      <th></th>\n",
       "      <th></th>\n",
       "      <th></th>\n",
       "      <th></th>\n",
       "      <th></th>\n",
       "      <th></th>\n",
       "      <th></th>\n",
       "      <th></th>\n",
       "      <th></th>\n",
       "      <th></th>\n",
       "      <th></th>\n",
       "      <th></th>\n",
       "      <th></th>\n",
       "      <th></th>\n",
       "      <th></th>\n",
       "    </tr>\n",
       "  </thead>\n",
       "  <tbody>\n",
       "    <tr>\n",
       "      <th>PBL</th>\n",
       "      <td>2</td>\n",
       "      <td>2</td>\n",
       "      <td>2</td>\n",
       "      <td>2</td>\n",
       "      <td>2</td>\n",
       "      <td>1</td>\n",
       "      <td>1</td>\n",
       "      <td>1</td>\n",
       "      <td>1</td>\n",
       "      <td>1</td>\n",
       "      <td>...</td>\n",
       "      <td>1</td>\n",
       "      <td>1</td>\n",
       "      <td>1</td>\n",
       "      <td>1</td>\n",
       "      <td>1</td>\n",
       "      <td>1</td>\n",
       "      <td>1</td>\n",
       "      <td>2</td>\n",
       "      <td>2</td>\n",
       "      <td>2</td>\n",
       "    </tr>\n",
       "    <tr>\n",
       "      <th>TIL</th>\n",
       "      <td>1</td>\n",
       "      <td>1</td>\n",
       "      <td>1</td>\n",
       "      <td>1</td>\n",
       "      <td>1</td>\n",
       "      <td>2</td>\n",
       "      <td>2</td>\n",
       "      <td>2</td>\n",
       "      <td>2</td>\n",
       "      <td>2</td>\n",
       "      <td>...</td>\n",
       "      <td>2</td>\n",
       "      <td>2</td>\n",
       "      <td>2</td>\n",
       "      <td>2</td>\n",
       "      <td>2</td>\n",
       "      <td>2</td>\n",
       "      <td>2</td>\n",
       "      <td>2</td>\n",
       "      <td>2</td>\n",
       "      <td>2</td>\n",
       "    </tr>\n",
       "    <tr>\n",
       "      <th>EPCAM</th>\n",
       "      <td>2</td>\n",
       "      <td>2</td>\n",
       "      <td>2</td>\n",
       "      <td>2</td>\n",
       "      <td>2</td>\n",
       "      <td>2</td>\n",
       "      <td>2</td>\n",
       "      <td>2</td>\n",
       "      <td>2</td>\n",
       "      <td>2</td>\n",
       "      <td>...</td>\n",
       "      <td>2</td>\n",
       "      <td>2</td>\n",
       "      <td>2</td>\n",
       "      <td>2</td>\n",
       "      <td>2</td>\n",
       "      <td>2</td>\n",
       "      <td>2</td>\n",
       "      <td>1</td>\n",
       "      <td>1</td>\n",
       "      <td>1</td>\n",
       "    </tr>\n",
       "  </tbody>\n",
       "</table>\n",
       "<p>3 rows × 23 columns</p>\n",
       "</div>"
      ],
      "text/plain": [
       "       1   2   3   4   5   6   7   8   9   10  ...  14  15  16  17  18  19  \\\n",
       "0                                              ...                           \n",
       "PBL     2   2   2   2   2   1   1   1   1   1  ...   1   1   1   1   1   1   \n",
       "TIL     1   1   1   1   1   2   2   2   2   2  ...   2   2   2   2   2   2   \n",
       "EPCAM   2   2   2   2   2   2   2   2   2   2  ...   2   2   2   2   2   2   \n",
       "\n",
       "       20  21  22  23  \n",
       "0                      \n",
       "PBL     1   2   2   2  \n",
       "TIL     2   2   2   2  \n",
       "EPCAM   2   1   1   1  \n",
       "\n",
       "[3 rows x 23 columns]"
      ]
     },
     "execution_count": 7,
     "metadata": {},
     "output_type": "execute_result"
    }
   ],
   "source": [
    "phenoclass"
   ]
  },
  {
   "cell_type": "markdown",
   "metadata": {},
   "source": [
    "My functions"
   ]
  },
  {
   "cell_type": "code",
   "execution_count": 8,
   "metadata": {},
   "outputs": [],
   "source": [
    "def getobjvalfromhof(inhof):\n",
    "    l=len(inhof)\n",
    "    val1=[]\n",
    "    val2=[]\n",
    "    for i in range(l):\n",
    "        val1.append(inhof.items[i].fitness.values[0])\n",
    "        val2.append(inhof.items[i].fitness.values[1])\n",
    "    return val1,val2"
   ]
  },
  {
   "cell_type": "code",
   "execution_count": 9,
   "metadata": {},
   "outputs": [],
   "source": [
    "def group_celltype(df,cluster):\n",
    "    #cells = [x for x in df.columns.values if x.startswith(cluster)]\n",
    "    cells=[]\n",
    "   \n",
    "    \n",
    "    for y in df.columns.values:\n",
    "        if y.find(cluster)!=-1:\n",
    "            cells.append(y)\n",
    "    return cells\n",
    "\n",
    "\n",
    "def cellSpecific_mean(df,cellType):\n",
    "    \n",
    "    clusters=cellType\n",
    "    sc_mean = pd.DataFrame(index=df.index.values,columns=clusters)\n",
    "    for cluster in clusters:\n",
    "        cells = group_celltype(df,cluster)\n",
    "       \n",
    "        sc_part =df.loc[:,cells]\n",
    "        \n",
    "        \n",
    "        \n",
    "        sc_mean[cluster]=pd.DataFrame(np.mean(sc_part,axis=1),index=df.index.values)\n",
    "    centroids_sc_hv = sc_mean\n",
    "    return centroids_sc_hv\n",
    "''' this is working but not used here\n",
    "def cellSpecific_median(df,cellType):\n",
    "    \n",
    "    clusters=cellType\n",
    "    sc_mean = pd.DataFrame(index=df.index.values,columns=clusters)\n",
    "    for cluster in clusters:\n",
    "        cells = group_celltype(df,cluster)\n",
    "       \n",
    "        sc_part =df.loc[:,cells]\n",
    "        \n",
    "        \n",
    "        \n",
    "        sc_mean[cluster]=pd.DataFrame(np.median(sc_part,axis=1),index=df.index.values)\n",
    "    centroids_sc_hv = sc_mean\n",
    "    return centroids_sc_hv\n",
    "'''\n",
    "def cellSpecific_std(df,cellType):\n",
    "    clusters=cellType\n",
    "    sc_mean = pd.DataFrame(index=df.index.values,columns=clusters)\n",
    "    for cluster in clusters:\n",
    "        cells = group_celltype(df,cluster)\n",
    "       \n",
    "        sc_part =df.loc[:,cells]\n",
    "        \n",
    "        \n",
    "        \n",
    "        sc_mean[cluster]=pd.DataFrame(np.std(sc_part,axis=1),index=df.index.values)\n",
    "    centroids_sc_hv = sc_mean\n",
    "    return centroids_sc_hv\n",
    "def hof_obj_values(obj,hof,largerdf,largerdfStd,refData,phenoclass):\n",
    "    obj_val=[]\n",
    "    \n",
    "    for i in range(len(hof)):\n",
    "        obj_val.append(obj(largerdf[hof[i]].T.values,largerdfStd[hof[i]].T.values,refData[hof[i]],phenoclass)) \n",
    "        \n",
    "    return obj_val\n",
    "def plot_paretolike(val1,val2,objNmae1,objName2,invert=False):\n",
    "    line = plt.plot(val1,val2,marker='o')\n",
    "    plt.xlabel(objNmae1)\n",
    "    plt.ylabel(objName2)\n",
    "    if invert:\n",
    "        plt.gca().invert_yaxis()\n",
    "def normalize_list(inlist):\n",
    "    a=inlist.copy()\n",
    "    amin, amax = min(a), max(a)\n",
    "    for i, val in enumerate(a):\n",
    "        a[i] = (val-amin) / (amax-amin)\n",
    "    return a\n",
    "\n",
    "\n",
    "def yod_index(y,x):\n",
    "    diff=[]\n",
    "    for i in range(len(x)):\n",
    "        diff.append(y[i]-x[i])\n",
    "    index=diff.index(max(diff))\n",
    "    return index\n",
    "def plot_paretolike_yod(val1,val2,objNmae1,objName2,yod_index,invert=False):\n",
    "    line = plt.plot(val1,val2,marker='o')\n",
    "    plt.xlabel(objNmae1)\n",
    "    plt.ylabel(objName2)\n",
    "    plt.axvline(x=val1[yod_index], color='r', linestyle='-')\n",
    "    if invert:\n",
    "        plt.gca().invert_yaxis()"
   ]
  },
  {
   "cell_type": "code",
   "execution_count": 10,
   "metadata": {},
   "outputs": [
    {
     "data": {
      "text/html": [
       "<div>\n",
       "<style scoped>\n",
       "    .dataframe tbody tr th:only-of-type {\n",
       "        vertical-align: middle;\n",
       "    }\n",
       "\n",
       "    .dataframe tbody tr th {\n",
       "        vertical-align: top;\n",
       "    }\n",
       "\n",
       "    .dataframe thead th {\n",
       "        text-align: right;\n",
       "    }\n",
       "</style>\n",
       "<table border=\"1\" class=\"dataframe\">\n",
       "  <thead>\n",
       "    <tr style=\"text-align: right;\">\n",
       "      <th></th>\n",
       "      <th>PBMC</th>\n",
       "      <th>Tumor</th>\n",
       "      <th>Epcam</th>\n",
       "    </tr>\n",
       "  </thead>\n",
       "  <tbody>\n",
       "    <tr>\n",
       "      <th>chr7:3600615</th>\n",
       "      <td>33.333333</td>\n",
       "      <td>79.80</td>\n",
       "      <td>66.666667</td>\n",
       "    </tr>\n",
       "    <tr>\n",
       "      <th>chr22:37273913</th>\n",
       "      <td>42.266667</td>\n",
       "      <td>88.00</td>\n",
       "      <td>63.333333</td>\n",
       "    </tr>\n",
       "    <tr>\n",
       "      <th>chr9:91529619</th>\n",
       "      <td>42.140000</td>\n",
       "      <td>93.40</td>\n",
       "      <td>58.333333</td>\n",
       "    </tr>\n",
       "    <tr>\n",
       "      <th>chr6:106155943</th>\n",
       "      <td>52.673333</td>\n",
       "      <td>96.70</td>\n",
       "      <td>66.666667</td>\n",
       "    </tr>\n",
       "    <tr>\n",
       "      <th>chr3:58421109</th>\n",
       "      <td>47.826667</td>\n",
       "      <td>87.28</td>\n",
       "      <td>66.666667</td>\n",
       "    </tr>\n",
       "  </tbody>\n",
       "</table>\n",
       "</div>"
      ],
      "text/plain": [
       "                     PBMC  Tumor      Epcam\n",
       "chr7:3600615    33.333333  79.80  66.666667\n",
       "chr22:37273913  42.266667  88.00  63.333333\n",
       "chr9:91529619   42.140000  93.40  58.333333\n",
       "chr6:106155943  52.673333  96.70  66.666667\n",
       "chr3:58421109   47.826667  87.28  66.666667"
      ]
     },
     "execution_count": 10,
     "metadata": {},
     "output_type": "execute_result"
    }
   ],
   "source": [
    "clusters = np.array(cluster_list)\n",
    "centroids_sc_hv=cellSpecific_mean(refData,clusters)\n",
    "#centroids_sc_hv=cellSpecific_median(adata,clusters)\n",
    "centroids_sc_hv.head()\n",
    "#centroids_sc_hv.shape"
   ]
  },
  {
   "cell_type": "code",
   "execution_count": 11,
   "metadata": {},
   "outputs": [
    {
     "data": {
      "text/html": [
       "<div>\n",
       "<style scoped>\n",
       "    .dataframe tbody tr th:only-of-type {\n",
       "        vertical-align: middle;\n",
       "    }\n",
       "\n",
       "    .dataframe tbody tr th {\n",
       "        vertical-align: top;\n",
       "    }\n",
       "\n",
       "    .dataframe thead th {\n",
       "        text-align: right;\n",
       "    }\n",
       "</style>\n",
       "<table border=\"1\" class=\"dataframe\">\n",
       "  <thead>\n",
       "    <tr style=\"text-align: right;\">\n",
       "      <th></th>\n",
       "      <th>PBMC</th>\n",
       "      <th>Tumor</th>\n",
       "      <th>Epcam</th>\n",
       "    </tr>\n",
       "  </thead>\n",
       "  <tbody>\n",
       "    <tr>\n",
       "      <th>chr7:3600615</th>\n",
       "      <td>30.734707</td>\n",
       "      <td>24.677115</td>\n",
       "      <td>47.140452</td>\n",
       "    </tr>\n",
       "    <tr>\n",
       "      <th>chr22:37273913</th>\n",
       "      <td>40.211701</td>\n",
       "      <td>19.390719</td>\n",
       "      <td>28.674418</td>\n",
       "    </tr>\n",
       "    <tr>\n",
       "      <th>chr9:91529619</th>\n",
       "      <td>34.052465</td>\n",
       "      <td>13.200000</td>\n",
       "      <td>42.491829</td>\n",
       "    </tr>\n",
       "    <tr>\n",
       "      <th>chr6:106155943</th>\n",
       "      <td>42.506117</td>\n",
       "      <td>6.600000</td>\n",
       "      <td>47.140452</td>\n",
       "    </tr>\n",
       "    <tr>\n",
       "      <th>chr3:58421109</th>\n",
       "      <td>38.644283</td>\n",
       "      <td>23.681081</td>\n",
       "      <td>47.140452</td>\n",
       "    </tr>\n",
       "  </tbody>\n",
       "</table>\n",
       "</div>"
      ],
      "text/plain": [
       "                     PBMC      Tumor      Epcam\n",
       "chr7:3600615    30.734707  24.677115  47.140452\n",
       "chr22:37273913  40.211701  19.390719  28.674418\n",
       "chr9:91529619   34.052465  13.200000  42.491829\n",
       "chr6:106155943  42.506117   6.600000  47.140452\n",
       "chr3:58421109   38.644283  23.681081  47.140452"
      ]
     },
     "execution_count": 11,
     "metadata": {},
     "output_type": "execute_result"
    }
   ],
   "source": [
    "centroids_sc_hv_std=cellSpecific_std(refData,clusters)\n",
    "centroids_sc_hv_std.head()"
   ]
  },
  {
   "cell_type": "code",
   "execution_count": 12,
   "metadata": {},
   "outputs": [
    {
     "name": "stdout",
     "output_type": "stream",
     "text": [
      "[<function condition2 at 0x137630c80>, <function effectsize_cohen2 at 0x137630f28>]\n",
      "['condition2', 'effectsize_cohen2']\n"
     ]
    }
   ],
   "source": [
    "objectives_func = []\n",
    "objectives_names = []\n",
    "#objectives = ('correlation','distance')\n",
    "#objectives =('distance',)\n",
    "objectives =(minobj,maxobj)\n",
    "for f in objectives:\n",
    "    if callable(f):\n",
    "        objectives_func.append(f)\n",
    "        objectives_names.append(f.__name__)\n",
    "    elif isinstance(f,str):\n",
    "        if not hasattr(ga_objectives,f):\n",
    "            raise ValueError(f\"No such objective: {f}\")\n",
    "        else:\n",
    "            objectives_names.append(f)\n",
    "            objectives_func.append(getattr(ga_objectives,f))\n",
    "    else:\n",
    "        raise ValueError(\"Invalid objective\")\n",
    "\n",
    "    objectives_num = len(objectives_func)\n",
    "    #self.weights = weights\n",
    "print(objectives_func)\n",
    "print(objectives_names)"
   ]
  },
  {
   "cell_type": "code",
   "execution_count": 13,
   "metadata": {},
   "outputs": [],
   "source": [
    "my_ga=ga.GeneticAlgorithm(\n",
    "        data=centroids_sc_hv.T.values, \n",
    "        ngen=ngen,\n",
    "        population_size=population_size,\n",
    "        mode='fixed',\n",
    "        weights=(-1.0,1.0),\n",
    "        #weights=(1.0,),\n",
    "        objectives_names=objectives_names, \n",
    "        objectives_func=objectives_func, \n",
    "        seed=0, \n",
    "        verbose=False,\n",
    "        nfeatures=nfeatures,\n",
    "        offspring_size= offspring_size,\n",
    "        data_Std=centroids_sc_hv_std.T.values,\n",
    "        ref_Data=refData,\n",
    "        pheno_class=phenoclass\n",
    "        \n",
    "        \n",
    "      )"
   ]
  },
  {
   "cell_type": "code",
   "execution_count": 14,
   "metadata": {},
   "outputs": [],
   "source": [
    "hof = my_ga.run()"
   ]
  },
  {
   "cell_type": "code",
   "execution_count": 15,
   "metadata": {},
   "outputs": [
    {
     "data": {
      "text/plain": [
       "121"
      ]
     },
     "execution_count": 15,
     "metadata": {},
     "output_type": "execute_result"
    }
   ],
   "source": [
    "len(hof)"
   ]
  },
  {
   "cell_type": "code",
   "execution_count": 16,
   "metadata": {},
   "outputs": [],
   "source": [
    "vhof1,vhof2=getobjvalfromhof(hof)"
   ]
  },
  {
   "cell_type": "code",
   "execution_count": 17,
   "metadata": {},
   "outputs": [
    {
     "name": "stdout",
     "output_type": "stream",
     "text": [
      "[1.1399195999455243, 1.140407207305298, 1.1411795446993205, 1.1426597403844776, 1.1437300644073565, 1.1437432669824703, 1.1438146075837754, 1.1444338351488037, 1.145800832803847, 1.1460347510394446, 1.1464790156076492, 1.14686194302594, 1.146892370266401, 1.1471090874638579, 1.1494385757708283, 1.1494982077553446, 1.1495712020998068, 1.1496242072273506, 1.1519924753432393, 1.154865310098408, 1.1585311563297274, 1.1612797342129317, 1.1613614418267304, 1.164888388697295, 1.1705206447201602, 1.1718675162659922, 1.1727684039207142, 1.174463426870886, 1.1744789011256958, 1.1762088692129775, 1.176920585012354, 1.1815505936547086, 1.197893637716157, 1.202536210817263, 1.2092014128069135, 1.2098281465809195, 1.2112630655621073, 1.2199628203618058, 1.2218221946670134, 1.2279272225247184, 1.2300285503191695, 1.2305183683396297, 1.2311893707994934, 1.237798694460989, 1.2390076407513195, 1.2433539679515377, 1.2568443550715922, 1.2589683235992273, 1.2653377603469833, 1.274556379140927, 1.2794910409872693, 1.288176109587325, 1.2922152530559643, 1.29473561273864, 1.301030617249911, 1.3171889969384176, 1.3388950834818365, 1.350662537217608, 1.3573041214645187, 1.3589834559034712, 1.3658698394381368, 1.3676169939916878, 1.3763267189421804, 1.379085149068784, 1.3791220084340137, 1.3798718227563043, 1.3819695568302386, 1.401965640484722, 1.4053293972762808, 1.41076289975433, 1.4114722092997383, 1.4132690384918027, 1.4334539400598203, 1.450182789866419, 1.4618769501369169, 1.466133188522526, 1.46658131818937, 1.4690322274475736, 1.4748229099603958, 1.4825086814675523, 1.4964707328730722, 1.4978140690950974, 1.5027341030033072, 1.5065383186179975, 1.5096863771270435, 1.5212351278755702, 1.5230124817189115, 1.5444537003742684, 1.5669120157706131, 1.5689418280760572, 1.5707919849446494, 1.5842722129990505, 1.5917422495867506, 1.5997592687803115, 1.6024624174430264, 1.6081119475574164, 1.6237806091656168, 1.635831071039605, 1.664473481707544, 1.6750736649554765, 1.6769110617981686, 1.682081092455991, 1.6820828202440135, 1.69450248088651, 1.6964000244577662, 1.7127552144845217, 1.7461710460990563, 1.7576922564361126, 1.7621779785971243, 1.7662850198000488, 1.7691850618362766, 1.7858137711307445, 1.8151961539475387, 1.8214944735020622, 1.8399079541310714, 1.8727269182173916, 1.8746311051884916, 1.8841307487218593, 1.89034656942293, 1.90706929657254, 1.9085110419985134]\n"
     ]
    }
   ],
   "source": [
    "print(vhof1)"
   ]
  },
  {
   "cell_type": "code",
   "execution_count": 18,
   "metadata": {},
   "outputs": [
    {
     "name": "stdout",
     "output_type": "stream",
     "text": [
      "[179.54779074720284, 183.41919645594132, 201.13242828055422, 210.6218465122464, 210.6575414595126, 210.68830544214543, 211.39358310821342, 227.3787771409992, 227.46174950397568, 227.54397271782318, 227.6918075653363, 228.59057737542162, 228.85865120789796, 229.27729994074394, 253.274661240672, 253.33900649351813, 253.84685632863145, 254.04006336035792, 282.64421796667705, 386.04267545588385, 400.6897201852797, 423.7064813890624, 423.828171151637, 438.0110806318133, 442.49829680642796, 479.4873048268035, 481.5809459482089, 515.3326459572056, 515.8700837821816, 574.3278721554523, 574.734192780002, 620.5400465521451, 630.6970237520214, 631.0485471357273, 631.1083421439604, 631.2108932250951, 631.4876466129678, 638.6998647526744, 652.961359165226, 653.4224023762478, 676.6807484393449, 697.4570639519388, 746.1335260200369, 746.3358430910556, 748.0683547974357, 801.3731099488109, 806.959778961997, 807.3299706344503, 838.9338608287184, 889.8299911881523, 890.1357422354583, 895.1007682833472, 896.9110333132286, 916.5775951592187, 930.852016245859, 990.7110448806835, 992.7885497355435, 1025.2888153293763, 1043.1751935030695, 1043.9340572151536, 1048.3520513982476, 1051.3410302428472, 1054.7595304786978, 1056.2731228904333, 1076.1343329893086, 1081.1693970381928, 1119.8752885007202, 1137.0603539488932, 1137.2320146959485, 1139.5994414696017, 1149.6867098540358, 1199.4436163873393, 1208.6083745033407, 1214.5088201599829, 1224.213803662495, 1224.8006709940416, 1242.1351062962863, 1242.94277589644, 1257.9664982588924, 1290.0655970600849, 1294.8595013740742, 1298.5070702066837, 1299.940662819013, 1309.7136023945181, 1314.4307846367722, 1325.6842863804268, 1350.2919525799698, 1398.8651682403654, 1407.5253481453988, 1416.513111103222, 1417.5646789284608, 1420.1304362092856, 1436.347637171172, 1439.9813689038003, 1454.517546761394, 1473.5349366097896, 1479.1011146772055, 1510.9479320275063, 1521.1109198254449, 1532.3273584786994, 1533.638360941889, 1534.6740943293514, 1535.846252982732, 1543.5372799479985, 1553.8683959471095, 1592.2989440577246, 1598.5635440502408, 1598.6221703875876, 1616.1330996004083, 1662.1068814597566, 1663.287319354871, 1663.619631770587, 1673.6211679059404, 1676.3024629740498, 1685.3372215202398, 1687.8007559756077, 1699.997231961848, 1700.3509125654282, 1708.9828365325127, 1735.698318867652, 1756.8235916542744]\n"
     ]
    }
   ],
   "source": [
    "print(vhof2)"
   ]
  },
  {
   "cell_type": "code",
   "execution_count": 19,
   "metadata": {},
   "outputs": [
    {
     "name": "stdout",
     "output_type": "stream",
     "text": [
      "120\n"
     ]
    }
   ],
   "source": [
    "ynot_normal=yod_index(vhof2,vhof1)\n",
    "print(ynot_normal)"
   ]
  },
  {
   "cell_type": "code",
   "execution_count": 20,
   "metadata": {},
   "outputs": [
    {
     "name": "stdout",
     "output_type": "stream",
     "text": [
      "71\n"
     ]
    }
   ],
   "source": [
    "y_normal=yod_index(normalize_list(vhof2),normalize_list(vhof1))\n",
    "print(y_normal)\n"
   ]
  },
  {
   "cell_type": "code",
   "execution_count": 21,
   "metadata": {},
   "outputs": [
    {
     "name": "stdout",
     "output_type": "stream",
     "text": [
      "1.4132690384918027\n",
      "1199.4436163873393\n"
     ]
    }
   ],
   "source": [
    "print(vhof1[y_normal])\n",
    "print(vhof2[y_normal])"
   ]
  },
  {
   "cell_type": "code",
   "execution_count": 22,
   "metadata": {},
   "outputs": [
    {
     "data": {
      "image/png": "[encoded data removed]",
      "text/plain": [
       "<Figure size 432x288 with 1 Axes>"
      ]
     },
     "metadata": {
      "image/png": {
       "height": 261,
       "width": 395
      },
      "needs_background": "light"
     },
     "output_type": "display_data"
    }
   ],
   "source": [
    "plot_paretolike_yod(vhof1,vhof2,minobj,maxobj,y_normal)"
   ]
  },
  {
   "cell_type": "code",
   "execution_count": 23,
   "metadata": {},
   "outputs": [],
   "source": [
    "\n",
    "selected_index=hof[y_normal]\n",
    "centroids_sc_pareto=centroids_sc_hv[selected_index]"
   ]
  },
  {
   "cell_type": "code",
   "execution_count": null,
   "metadata": {},
   "outputs": [],
   "source": [
    "v1=hof_obj_values(getattr(ga_objectives,minobj),hof,centroids_sc_hv,centroids_sc_hv_std,refData,phenoclass)\n",
    "v2=hof_obj_values(getattr(ga_objectives,maxobj),hof,centroids_sc_hv,centroids_sc_hv_std,refData,phenoclass)\n",
    "plot_paretolike(v1,v2,minobj,maxobj)"
   ]
  },
  {
   "cell_type": "code",
   "execution_count": null,
   "metadata": {},
   "outputs": [],
   "source": [
    "plot_paretolike_yod(v1,v2,minobj,maxobj,y_normal)"
   ]
  },
  {
   "cell_type": "code",
   "execution_count": null,
   "metadata": {},
   "outputs": [],
   "source": [
    "print(v1)\n",
    "print(v2)"
   ]
  },
  {
   "cell_type": "code",
   "execution_count": null,
   "metadata": {
    "scrolled": true
   },
   "outputs": [],
   "source": [
    "centroids_sc_pareto"
   ]
  },
  {
   "cell_type": "code",
   "execution_count": null,
   "metadata": {},
   "outputs": [],
   "source": [
    "newref=refData[selected_index].copy()\n",
    "adata=newref\n",
    "subTypes = pd.DataFrame\n",
    "subTypes = adata.columns\n",
    "type_pal = sns.husl_palette(adata.columns.size, s=0.7)\n",
    "lut = dict(zip(adata.columns.unique(), type_pal))\n",
    "row_colors = subTypes.map(lut)\n",
    "sns_plot = sns.clustermap(adata.T, cmap=\"mako\", robust=True,row_cluster=False)"
   ]
  },
  {
   "cell_type": "code",
   "execution_count": null,
   "metadata": {},
   "outputs": [],
   "source": [
    "\n",
    "outreffilefile=reffile+\"_\"+kernel_name+\"_\"+str(ngen)+\"_p\"+str(population_size)+\"_o\"+str(offspring_size)+\"_SM_ref_yod_\"+str(y_normal)+\".txt\"\n",
    "newref.to_csv(outreffilefile,sep=\"\\t\")"
   ]
  },
  {
   "cell_type": "code",
   "execution_count": null,
   "metadata": {},
   "outputs": [],
   "source": [
    "#marker genes\n",
    "import seaborn as sns\n",
    "subTypes = pd.DataFrame\n",
    "subTypes = centroids_sc_pareto.columns\n",
    "type_pal = sns.husl_palette(centroids_sc_pareto.columns.size, s=0.7)\n",
    "lut = dict(zip(centroids_sc_pareto.columns.unique(), type_pal))\n",
    "row_colors = subTypes.map(lut)\n",
    "sns_plot = sns.clustermap(centroids_sc_pareto.T, cmap=\"mako\", robust=True)"
   ]
  },
  {
   "cell_type": "code",
   "execution_count": null,
   "metadata": {},
   "outputs": [],
   "source": [
    "centroids_sc_pareto.index.name=\"NAME\"\n",
    "centroids_sc_pareto.columns=cluster_column_name_should_be\n",
    "outfile=reffile+\"_\"+kernel_name+\"_\"+str(ngen)+\"_p\"+str(population_size)+\"_o\"+str(offspring_size)+\"_SM_yod\"+str(y_normal)+\".txt\"\n",
    "centroids_sc_pareto.to_csv(outfile,sep=\"\\t\")"
   ]
  },
  {
   "cell_type": "code",
   "execution_count": null,
   "metadata": {},
   "outputs": [],
   "source": [
    "#marker genes\n",
    "import seaborn as sns\n",
    "subTypes = pd.DataFrame\n",
    "subTypes = centroids_sc_pareto.columns\n",
    "type_pal = sns.husl_palette(centroids_sc_pareto.columns.size, s=0.7)\n",
    "lut = dict(zip(centroids_sc_pareto.columns.unique(), type_pal))\n",
    "row_colors = subTypes.map(lut)\n",
    "sns_plot = sns.clustermap(centroids_sc_pareto.T, cmap=\"mako\", robust=True)"
   ]
  },
  {
   "cell_type": "code",
   "execution_count": null,
   "metadata": {},
   "outputs": [],
   "source": [
    "v_test=hof_obj_values(getattr(ga_objectives,'effectsize_cohen2'),[selected_index],centroids_sc_hv,centroids_sc_hv_std,refData,phenoclass)\n",
    "print(v_test)"
   ]
  },
  {
   "cell_type": "code",
   "execution_count": null,
   "metadata": {},
   "outputs": [],
   "source": [
    "v_test=hof_obj_values(getattr(ga_objectives,'condition2'),[selected_index],centroids_sc_hv,centroids_sc_hv_std,refData,phenoclass)\n",
    "print(v_test)"
   ]
  },
  {
   "cell_type": "code",
   "execution_count": null,
   "metadata": {},
   "outputs": [],
   "source": [
    "v_test=hof_obj_values(getattr(ga_objectives,'condition'),[selected_index],centroids_sc_hv,centroids_sc_hv_std,refData,phenoclass)\n",
    "print(v_test)"
   ]
  },
  {
   "cell_type": "code",
   "execution_count": null,
   "metadata": {},
   "outputs": [],
   "source": [
    "v_test=hof_obj_values(getattr(ga_objectives,'distance'),[selected_index],centroids_sc_hv,centroids_sc_hv_std,refData,phenoclass)\n",
    "print(v_test)"
   ]
  },
  {
   "cell_type": "code",
   "execution_count": null,
   "metadata": {},
   "outputs": [],
   "source": [
    "\n",
    "v_test=hof_obj_values(getattr(ga_objectives,'effectsize_cohen'),[selected_index],centroids_sc_hv,centroids_sc_hv_std,refData,phenoclass)\n",
    "print(v_test)"
   ]
  },
  {
   "cell_type": "code",
   "execution_count": null,
   "metadata": {},
   "outputs": [],
   "source": [
    "v_test=ga_objectives.effectsize_cohen2(centroids_sc_hv[selected_index].T.values,centroids_sc_hv_std[selected_index].T.values,refData[selected_index],phenoclass)\n",
    "print(v_test)"
   ]
  }
 ],
 "metadata": {
  "kernelspec": {
   "display_name": "Python 3",
   "language": "python",
   "name": "python3"
  },
  "language_info": {
   "codemirror_mode": {
    "name": "ipython",
    "version": 3
   },
   "file_extension": ".py",
   "mimetype": "text/x-python",
   "name": "python",
   "nbconvert_exporter": "python",
   "pygments_lexer": "ipython3",
   "version": "3.6.7"
  }
 },
 "nbformat": 4,
 "nbformat_minor": 2
}
