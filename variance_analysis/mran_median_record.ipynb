{
 "cells": [
  {
   "cell_type": "code",
   "execution_count": 1,
   "metadata": {},
   "outputs": [],
   "source": [
    "import pandas as pd"
   ]
  },
  {
   "cell_type": "code",
   "execution_count": 2,
   "metadata": {},
   "outputs": [],
   "source": [
    "filename=\"/Users/irffanalahi/Research/weekly/for_8_20_20/variance_analysis/stdcal/v2/hdata_all_matrix_NO_NA\"\n",
    "df=pd.read_csv(filename,sep=\"\\t\")\n",
    "g1=[\"med-H1-cfD.bedgraph_rolled\",\"med-H2-cfD.bedgraph_rolled\",\"med-H3-cfD.bedgraph_rolled\",\"med-H4-cfD.bedgraph_rolled\"]\n",
    "\n",
    "outfilename=filename+\"_meanmed.txt\""
   ]
  },
  {
   "cell_type": "code",
   "execution_count": 3,
   "metadata": {},
   "outputs": [],
   "source": [
    "gmean=df[g1].mean(axis = 1)\n",
    "#gmean"
   ]
  },
  {
   "cell_type": "code",
   "execution_count": 4,
   "metadata": {},
   "outputs": [],
   "source": [
    "gmedian=df[g1].median(axis = 1)\n",
    "#gmedian"
   ]
  },
  {
   "cell_type": "code",
   "execution_count": 5,
   "metadata": {},
   "outputs": [],
   "source": [
    "dfnew=pd.DataFrame({\"allmean\":gmean,\"allmedian\":gmedian})\n",
    "\n",
    "outdf = pd.concat([df, dfnew], axis=1)\n",
    "\n",
    "\n",
    "outdf.to_csv(outfilename,sep=\"\\t\",index=False)\n",
    "dfnew.to_csv(outfilename+\"_only.txt\",sep=\"\\t\",index=False)"
   ]
  }
 ],
 "metadata": {
  "kernelspec": {
   "display_name": "Python 3",
   "language": "python",
   "name": "python3"
  },
  "language_info": {
   "codemirror_mode": {
    "name": "ipython",
    "version": 3
   },
   "file_extension": ".py",
   "mimetype": "text/x-python",
   "name": "python",
   "nbconvert_exporter": "python",
   "pygments_lexer": "ipython3",
   "version": "3.6.7"
  }
 },
 "nbformat": 4,
 "nbformat_minor": 2
}
