{
 "cells": [
  {
   "cell_type": "code",
   "execution_count": 1,
   "metadata": {},
   "outputs": [],
   "source": [
    "import pandas as pd"
   ]
  },
  {
   "cell_type": "code",
   "execution_count": 2,
   "metadata": {},
   "outputs": [],
   "source": [
    "filename=\"/Users/irffanalahi/Research/weekly/for_8_20_20/variance_analysis/stdcal/v2/hdata_all_matrix_NO_NA_meanmed.txt\"\n",
    "df=pd.read_csv(filename,sep=\"\\t\")\n",
    "cutoff=.15"
   ]
  },
  {
   "cell_type": "code",
   "execution_count": 3,
   "metadata": {},
   "outputs": [],
   "source": [
    "meancutoffdf=df[df.allmean <= cutoff]"
   ]
  },
  {
   "cell_type": "code",
   "execution_count": 4,
   "metadata": {},
   "outputs": [],
   "source": [
    "medcutoffdf=df[df.allmedian <= cutoff]"
   ]
  },
  {
   "cell_type": "code",
   "execution_count": 5,
   "metadata": {},
   "outputs": [],
   "source": [
    "meancutofffilename=filename+\"_meancutoff_\"+str(cutoff)+\".txt\"\n",
    "medcutofffilename=filename+\"_mediancutoff_\"+str(cutoff)+\".txt\"\n",
    "\n",
    "meancutoffdf.to_csv(meancutofffilename,sep=\"\\t\",index=False)\n",
    "medcutoffdf.to_csv(medcutofffilename,sep=\"\\t\",index=False)"
   ]
  }
 ],
 "metadata": {
  "kernelspec": {
   "display_name": "Python 3",
   "language": "python",
   "name": "python3"
  },
  "language_info": {
   "codemirror_mode": {
    "name": "ipython",
    "version": 3
   },
   "file_extension": ".py",
   "mimetype": "text/x-python",
   "name": "python",
   "nbconvert_exporter": "python",
   "pygments_lexer": "ipython3",
   "version": "3.6.7"
  }
 },
 "nbformat": 4,
 "nbformat_minor": 2
}
