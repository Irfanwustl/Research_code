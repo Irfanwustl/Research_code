{
 "cells": [
  {
   "cell_type": "code",
   "execution_count": 1,
   "metadata": {},
   "outputs": [],
   "source": [
    "import pandas as pd"
   ]
  },
  {
   "cell_type": "code",
   "execution_count": 2,
   "metadata": {},
   "outputs": [],
   "source": [
    "filename=\"/Users/irffanalahi/Research/weekly/for_8_20_20/variance_analysis/stdcal/v2/hdata_all_matrix_NO_NA_meanmed.txt_meancutoff_0.15.txt\"\n",
    "df=pd.read_csv(filename,sep=\"\\t\")\n",
    "g1=[\"med-H1-cfD.bedgraph_rolled\"]\n",
    "g2=[\"med-H2-cfD.bedgraph_rolled\"]\n",
    "g3=[\"med-H3-cfD.bedgraph_rolled\"]\n",
    "g4=[\"med-H4-cfD.bedgraph_rolled\"]\n",
    "outfilename=filename+\"_std.txt\""
   ]
  },
  {
   "cell_type": "code",
   "execution_count": 3,
   "metadata": {},
   "outputs": [
    {
     "data": {
      "text/plain": [
       "med-H1-cfD.bedgraph_rolled    0.087175\n",
       "dtype: float64"
      ]
     },
     "execution_count": 3,
     "metadata": {},
     "output_type": "execute_result"
    }
   ],
   "source": [
    "g1Std=df[g1].std(axis = 0)\n",
    "g1Std"
   ]
  },
  {
   "cell_type": "code",
   "execution_count": 4,
   "metadata": {},
   "outputs": [
    {
     "data": {
      "text/plain": [
       "med-H1-cfD.bedgraph_rolled    0.035397\n",
       "dtype: float64"
      ]
     },
     "execution_count": 4,
     "metadata": {},
     "output_type": "execute_result"
    }
   ],
   "source": [
    "g1Mean=df[g1].mean(axis = 0)\n",
    "g1Mean"
   ]
  },
  {
   "cell_type": "code",
   "execution_count": 5,
   "metadata": {},
   "outputs": [
    {
     "data": {
      "text/plain": [
       "med-H2-cfD.bedgraph_rolled    0.078359\n",
       "dtype: float64"
      ]
     },
     "execution_count": 5,
     "metadata": {},
     "output_type": "execute_result"
    }
   ],
   "source": [
    "g2Std=df[g2].std(axis = 0)\n",
    "g2Std"
   ]
  },
  {
   "cell_type": "code",
   "execution_count": 6,
   "metadata": {},
   "outputs": [
    {
     "data": {
      "text/plain": [
       "med-H2-cfD.bedgraph_rolled    0.033413\n",
       "dtype: float64"
      ]
     },
     "execution_count": 6,
     "metadata": {},
     "output_type": "execute_result"
    }
   ],
   "source": [
    "g2Mean=df[g2].mean(axis = 0)\n",
    "g2Mean"
   ]
  },
  {
   "cell_type": "code",
   "execution_count": 7,
   "metadata": {},
   "outputs": [
    {
     "data": {
      "text/plain": [
       "med-H3-cfD.bedgraph_rolled    0.083058\n",
       "dtype: float64"
      ]
     },
     "execution_count": 7,
     "metadata": {},
     "output_type": "execute_result"
    }
   ],
   "source": [
    "g3Std=df[g3].std(axis = 0)\n",
    "g3Std"
   ]
  },
  {
   "cell_type": "code",
   "execution_count": 8,
   "metadata": {},
   "outputs": [
    {
     "data": {
      "text/plain": [
       "med-H3-cfD.bedgraph_rolled    0.036407\n",
       "dtype: float64"
      ]
     },
     "execution_count": 8,
     "metadata": {},
     "output_type": "execute_result"
    }
   ],
   "source": [
    "g3Mean=df[g3].mean(axis = 0)\n",
    "g3Mean"
   ]
  },
  {
   "cell_type": "code",
   "execution_count": 9,
   "metadata": {},
   "outputs": [
    {
     "data": {
      "text/plain": [
       "med-H4-cfD.bedgraph_rolled    0.084352\n",
       "dtype: float64"
      ]
     },
     "execution_count": 9,
     "metadata": {},
     "output_type": "execute_result"
    }
   ],
   "source": [
    "g4Std=df[g4].std(axis = 0)\n",
    "g4Std"
   ]
  },
  {
   "cell_type": "code",
   "execution_count": 10,
   "metadata": {},
   "outputs": [
    {
     "data": {
      "text/plain": [
       "med-H4-cfD.bedgraph_rolled    0.041966\n",
       "dtype: float64"
      ]
     },
     "execution_count": 10,
     "metadata": {},
     "output_type": "execute_result"
    }
   ],
   "source": [
    "g4Mean=df[g4].mean(axis = 0)\n",
    "g4Mean"
   ]
  },
  {
   "cell_type": "code",
   "execution_count": 11,
   "metadata": {},
   "outputs": [],
   "source": [
    "#dfStdcol1 = '+'.join(g1)\n",
    "#dfStdcol2='+'.join(g2)"
   ]
  },
  {
   "cell_type": "code",
   "execution_count": 12,
   "metadata": {},
   "outputs": [],
   "source": [
    "#dfStd=pd.DataFrame({dfStdcol1:g1Std,dfStdcol2:g2Std})\n",
    "\n",
    "#outdf = pd.concat([df, dfStd], axis=1)\n",
    "\n",
    "\n",
    "#outdf.to_csv(outfilename,sep=\"\\t\",index=False)\n",
    "#dfStd.to_csv(outfilename+\"_only.txt\",sep=\"\\t\",index=False)"
   ]
  }
 ],
 "metadata": {
  "kernelspec": {
   "display_name": "Python 3",
   "language": "python",
   "name": "python3"
  },
  "language_info": {
   "codemirror_mode": {
    "name": "ipython",
    "version": 3
   },
   "file_extension": ".py",
   "mimetype": "text/x-python",
   "name": "python",
   "nbconvert_exporter": "python",
   "pygments_lexer": "ipython3",
   "version": "3.6.7"
  }
 },
 "nbformat": 4,
 "nbformat_minor": 2
}
