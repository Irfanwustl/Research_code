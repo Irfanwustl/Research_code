{
 "cells": [
  {
   "cell_type": "code",
   "execution_count": 1,
   "metadata": {},
   "outputs": [],
   "source": [
    "import pandas as pd\n",
    "import glob\n",
    "import os\n",
    "from collections import defaultdict\n",
    "\n",
    "infolder='/Users/irffanalahi/Research/Research_update/chromosome_Y_analysis/Extracting_SRY_gene/fulldepth_info'\n"
   ]
  },
  {
   "cell_type": "code",
   "execution_count": 2,
   "metadata": {},
   "outputs": [],
   "source": [
    "def listdir_nohidden(path):\n",
    "    return glob.glob(os.path.join(path, '*'))"
   ]
  },
  {
   "cell_type": "code",
   "execution_count": 3,
   "metadata": {},
   "outputs": [],
   "source": [
    "allfiles=listdir_nohidden(infolder)"
   ]
  },
  {
   "cell_type": "code",
   "execution_count": 4,
   "metadata": {},
   "outputs": [],
   "source": [
    "outdict = defaultdict(list)\n",
    "for infile in allfiles:\n",
    "    indf=pd.read_csv(infile,sep='\\t',header=None)\n",
    "    SRYdf=indf[(indf[0]=='chrY') & (indf[1]>2786855) & (indf[1]<2787682)]\n",
    "    \n",
    "    if SRYdf.shape[0]==0:\n",
    "        tempmedian=0\n",
    "    else:\n",
    "        tempmedian=SRYdf[2].median()\n",
    "   \n",
    "        \n",
    "    outdict[os.path.basename(infile)].append(tempmedian)"
   ]
  },
  {
   "cell_type": "code",
   "execution_count": 5,
   "metadata": {},
   "outputs": [
    {
     "data": {
      "text/plain": [
       "defaultdict(list,\n",
       "            {'YUMEDIC-14-3303-auto_sorted_fullinfodepth.txt': [0],\n",
       "             'YURAISE-13-2954-auto_sorted_fullinfodepth.txt': [14.0]})"
      ]
     },
     "execution_count": 5,
     "metadata": {},
     "output_type": "execute_result"
    }
   ],
   "source": [
    "outdict"
   ]
  },
  {
   "cell_type": "code",
   "execution_count": 6,
   "metadata": {},
   "outputs": [],
   "source": [
    "outdf=pd.DataFrame.from_dict(outdict,orient='index',columns=['median_depth'])\n",
    "outdf.to_csv(infolder+\"_srydepth.txt\",sep='\\t')"
   ]
  }
 ],
 "metadata": {
  "kernelspec": {
   "display_name": "Python 3",
   "language": "python",
   "name": "python3"
  },
  "language_info": {
   "codemirror_mode": {
    "name": "ipython",
    "version": 3
   },
   "file_extension": ".py",
   "mimetype": "text/x-python",
   "name": "python",
   "nbconvert_exporter": "python",
   "pygments_lexer": "ipython3",
   "version": "3.6.7"
  }
 },
 "nbformat": 4,
 "nbformat_minor": 2
}
