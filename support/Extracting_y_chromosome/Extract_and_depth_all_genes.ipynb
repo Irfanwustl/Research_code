{
 "cells": [
  {
   "cell_type": "code",
   "execution_count": 1,
   "metadata": {},
   "outputs": [
    {
     "data": {
      "text/html": [
       "<div>\n",
       "<style scoped>\n",
       "    .dataframe tbody tr th:only-of-type {\n",
       "        vertical-align: middle;\n",
       "    }\n",
       "\n",
       "    .dataframe tbody tr th {\n",
       "        vertical-align: top;\n",
       "    }\n",
       "\n",
       "    .dataframe thead th {\n",
       "        text-align: right;\n",
       "    }\n",
       "</style>\n",
       "<table border=\"1\" class=\"dataframe\">\n",
       "  <thead>\n",
       "    <tr style=\"text-align: right;\">\n",
       "      <th></th>\n",
       "      <th>0</th>\n",
       "      <th>1</th>\n",
       "      <th>2</th>\n",
       "      <th>3</th>\n",
       "    </tr>\n",
       "  </thead>\n",
       "  <tbody>\n",
       "    <tr>\n",
       "      <th>0</th>\n",
       "      <td>chrY</td>\n",
       "      <td>2785855</td>\n",
       "      <td>2788682</td>\n",
       "      <td>SRY</td>\n",
       "    </tr>\n",
       "    <tr>\n",
       "      <th>1</th>\n",
       "      <td>chrY</td>\n",
       "      <td>2840602</td>\n",
       "      <td>2933000</td>\n",
       "      <td>RPS4Y1</td>\n",
       "    </tr>\n",
       "    <tr>\n",
       "      <th>2</th>\n",
       "      <td>chrY</td>\n",
       "      <td>2934281</td>\n",
       "      <td>2983506</td>\n",
       "      <td>ZFY</td>\n",
       "    </tr>\n",
       "    <tr>\n",
       "      <th>3</th>\n",
       "      <td>chrY</td>\n",
       "      <td>3578041</td>\n",
       "      <td>3581041</td>\n",
       "      <td>TGIF2LY</td>\n",
       "    </tr>\n",
       "    <tr>\n",
       "      <th>4</th>\n",
       "      <td>chrY</td>\n",
       "      <td>4999226</td>\n",
       "      <td>5743224</td>\n",
       "      <td>PCDH11Y</td>\n",
       "    </tr>\n",
       "  </tbody>\n",
       "</table>\n",
       "</div>"
      ],
      "text/plain": [
       "      0        1        2        3\n",
       "0  chrY  2785855  2788682      SRY\n",
       "1  chrY  2840602  2933000   RPS4Y1\n",
       "2  chrY  2934281  2983506      ZFY\n",
       "3  chrY  3578041  3581041  TGIF2LY\n",
       "4  chrY  4999226  5743224  PCDH11Y"
      ]
     },
     "execution_count": 1,
     "metadata": {},
     "output_type": "execute_result"
    }
   ],
   "source": [
    "import pandas as pd\n",
    "import glob\n",
    "import os\n",
    "from collections import defaultdict\n",
    "\n",
    "infolder='/Users/irffanalahi/Research/Research_update/Gender_analysis/for_igv/better_depth/chrY_pp_Y_depthfullinfo'\n",
    "geneinfofile='/Users/irffanalahi/Research/Research_update/Gender_analysis/Extracting_SRY_gene/chrY_gene_1000_1000.txt'\n",
    "\n",
    "geneinfodf=pd.read_csv(geneinfofile,sep='\\t',header=None)\n",
    "geneinfodf.head()"
   ]
  },
  {
   "cell_type": "code",
   "execution_count": 2,
   "metadata": {},
   "outputs": [],
   "source": [
    "genelist=geneinfodf[3].tolist()\n",
    "#genelist"
   ]
  },
  {
   "cell_type": "code",
   "execution_count": 3,
   "metadata": {},
   "outputs": [],
   "source": [
    "def listdir_nohidden(path):\n",
    "    return glob.glob(os.path.join(path, '*'))"
   ]
  },
  {
   "cell_type": "code",
   "execution_count": 4,
   "metadata": {},
   "outputs": [],
   "source": [
    "allfiles=listdir_nohidden(infolder)"
   ]
  },
  {
   "cell_type": "code",
   "execution_count": 5,
   "metadata": {},
   "outputs": [],
   "source": [
    "outdict = defaultdict(list)\n",
    "outdictgenesize = defaultdict(list)\n",
    "\n",
    "\n",
    "\n",
    "for infile in allfiles:\n",
    "    indf=pd.read_csv(infile,sep='\\t',header=None)\n",
    "    for index, row in geneinfodf.iterrows():\n",
    "        \n",
    " \n",
    "        #print(type(row[0]),type(row[1]),type(row[2]))\n",
    "        \n",
    "        SRYdf=indf[(indf[0]==row[0]) & (indf[1]>=row[1]) & (indf[1]<=row[2])]\n",
    "        \n",
    "        gene_size=row[2]-row[1]\n",
    "\n",
    "        if SRYdf.shape[0]==0:\n",
    "            tempmedian=0\n",
    "            normalizby_gene_size=0\n",
    "        else:\n",
    "            tempmedian=SRYdf[2].median()\n",
    "            normalizby_gene_size=SRYdf[2].sum()/gene_size\n",
    "            \n",
    "\n",
    "\n",
    "        outdict[os.path.basename(infile)].append(tempmedian)\n",
    "        outdictgenesize[os.path.basename(infile)].append(normalizby_gene_size)"
   ]
  },
  {
   "cell_type": "code",
   "execution_count": 6,
   "metadata": {},
   "outputs": [],
   "source": [
    "#outdict"
   ]
  },
  {
   "cell_type": "code",
   "execution_count": 7,
   "metadata": {},
   "outputs": [],
   "source": [
    "outdf=pd.DataFrame.from_dict(outdict,orient='index',columns=genelist)\n",
    "outdf.to_csv(infolder+\"_gene_depth.txt\",sep='\\t')\n",
    "\n",
    "outdf_genesize=pd.DataFrame.from_dict(outdictgenesize,orient='index',columns=genelist)\n",
    "outdf_genesize.to_csv(infolder+\"_gene_depth_normalizbygenesize.txt\",sep='\\t')"
   ]
  }
 ],
 "metadata": {
  "kernelspec": {
   "display_name": "Python 3",
   "language": "python",
   "name": "python3"
  },
  "language_info": {
   "codemirror_mode": {
    "name": "ipython",
    "version": 3
   },
   "file_extension": ".py",
   "mimetype": "text/x-python",
   "name": "python",
   "nbconvert_exporter": "python",
   "pygments_lexer": "ipython3",
   "version": "3.6.7"
  }
 },
 "nbformat": 4,
 "nbformat_minor": 2
}
