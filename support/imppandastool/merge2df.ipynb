{
 "cells": [
  {
   "cell_type": "code",
   "execution_count": 1,
   "metadata": {},
   "outputs": [],
   "source": [
    "import pandas as pd\n",
    "\n",
    "f1=\"/Users/irffanalahi/Research/weekly/for_3_24_21/ML/ML_postprocess/dataprepare/testdata/filnamerename/subtracttrainingdata/predict/onlypredictedfile/combine_cellproportion/mergewithgt/mel_dataset_cp2pos_cp1neg.txt_testsize_0.7_model_testfile_allfinal_lenrefCPG_subsetoffinal_cpg2_row_combinedfilename.txt_informative_meltumor_cpg2.txt_notraining.txt_predicted.txt_MEL_TUMOR_proportion.txt_merged.txt\"\n",
    "f2=\"/Users/irffanalahi/Research/weekly/for_3_24_21/ML/ML_postprocess/dataprepare/testdata/filnamerename/subtracttrainingdata/predict/onlypredictedfile/combine_cellproportion/mergewithgt/response.txt\"\n",
    "\n",
    "out=f1+\"_merged.txt\"\n",
    "\n",
    "f1df=pd.read_csv(f1,sep=\"\\t\",index_col=0)\n",
    "f2df=pd.read_csv(f2,sep=\"\\t\",index_col=0)\n"
   ]
  },
  {
   "cell_type": "code",
   "execution_count": 2,
   "metadata": {},
   "outputs": [],
   "source": [
    "df_combined = pd.concat([f1df, f2df], axis=1)\n",
    "df_combined.to_csv(out,sep=\"\\t\",na_rep=\"NA\")"
   ]
  }
 ],
 "metadata": {
  "kernelspec": {
   "display_name": "Python 3",
   "language": "python",
   "name": "python3"
  },
  "language_info": {
   "codemirror_mode": {
    "name": "ipython",
    "version": 3
   },
   "file_extension": ".py",
   "mimetype": "text/x-python",
   "name": "python",
   "nbconvert_exporter": "python",
   "pygments_lexer": "ipython3",
   "version": "3.6.7"
  }
 },
 "nbformat": 4,
 "nbformat_minor": 2
}
