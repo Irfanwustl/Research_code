{
 "cells": [
  {
   "cell_type": "code",
   "execution_count": 1,
   "metadata": {},
   "outputs": [],
   "source": [
    "import pandas as pd\n",
    "\n",
    "infile1=\"/Users/irffanalahi/Research/Research_update/SM/melcfdref/bestworkingref/genomic_analysis/pbltilmel_mincp2outcutoff_addedcol_genomic_feature_withrepeat_header_celltypeseperated/otheranalysis/genomic_region_stats/promdataready_all_matrixCin_nr0.5_imputed_g1_TIL_9_g2_others_9.txt_q0.05_diff0.1_hypo.txt_PBL_TIL_MEL_TUMOR.txt_percentile_percedf.txt\"\n",
    "infile2=\"/Users/irffanalahi/Research/Research_update/SM/melcfdref/bestworkingref/genomic_analysis/pbltilmel_mincp2outcutoff_addedcol_genomic_feature_withrepeat_header_celltypeseperated/otheranalysis/genomic_region_stats/TIL_row_combined.txt_prioritizedregion.txt\"\n",
    "\n",
    "outname=infile1+\"_merged.txt\"\n",
    "\n",
    "indf1=pd.read_csv(infile1,sep=\"\\t\")\n",
    "indf2=pd.read_csv(infile2,sep=\"\\t\")\n"
   ]
  },
  {
   "cell_type": "code",
   "execution_count": 2,
   "metadata": {},
   "outputs": [],
   "source": [
    "df_combined = indf1.merge(indf2, on=['chrom','start','end'],how='inner')\n",
    "df_combined.to_csv(outname,sep=\"\\t\",index=False)"
   ]
  }
 ],
 "metadata": {
  "kernelspec": {
   "display_name": "Python 3",
   "language": "python",
   "name": "python3"
  },
  "language_info": {
   "codemirror_mode": {
    "name": "ipython",
    "version": 3
   },
   "file_extension": ".py",
   "mimetype": "text/x-python",
   "name": "python",
   "nbconvert_exporter": "python",
   "pygments_lexer": "ipython3",
   "version": "3.6.7"
  }
 },
 "nbformat": 4,
 "nbformat_minor": 2
}
