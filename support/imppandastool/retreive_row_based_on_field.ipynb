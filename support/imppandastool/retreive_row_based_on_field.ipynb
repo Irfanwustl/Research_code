{
 "cells": [
  {
   "cell_type": "code",
   "execution_count": 1,
   "metadata": {},
   "outputs": [
    {
     "data": {
      "text/html": [
       "<div>\n",
       "<style scoped>\n",
       "    .dataframe tbody tr th:only-of-type {\n",
       "        vertical-align: middle;\n",
       "    }\n",
       "\n",
       "    .dataframe tbody tr th {\n",
       "        vertical-align: top;\n",
       "    }\n",
       "\n",
       "    .dataframe thead th {\n",
       "        text-align: right;\n",
       "    }\n",
       "</style>\n",
       "<table border=\"1\" class=\"dataframe\">\n",
       "  <thead>\n",
       "    <tr style=\"text-align: right;\">\n",
       "      <th></th>\n",
       "      <th>0</th>\n",
       "      <th>1</th>\n",
       "      <th>2</th>\n",
       "      <th>3</th>\n",
       "    </tr>\n",
       "  </thead>\n",
       "  <tbody>\n",
       "    <tr>\n",
       "      <th>0</th>\n",
       "      <td>chr1</td>\n",
       "      <td>68090</td>\n",
       "      <td>69090</td>\n",
       "      <td>OR4F5</td>\n",
       "    </tr>\n",
       "    <tr>\n",
       "      <th>1</th>\n",
       "      <td>chr1</td>\n",
       "      <td>451678</td>\n",
       "      <td>452678</td>\n",
       "      <td>OR4F29</td>\n",
       "    </tr>\n",
       "    <tr>\n",
       "      <th>2</th>\n",
       "      <td>chr1</td>\n",
       "      <td>686654</td>\n",
       "      <td>687654</td>\n",
       "      <td>OR4F16</td>\n",
       "    </tr>\n",
       "    <tr>\n",
       "      <th>3</th>\n",
       "      <td>chr1</td>\n",
       "      <td>924730</td>\n",
       "      <td>925730</td>\n",
       "      <td>SAMD11</td>\n",
       "    </tr>\n",
       "    <tr>\n",
       "      <th>4</th>\n",
       "      <td>chr1</td>\n",
       "      <td>924937</td>\n",
       "      <td>925937</td>\n",
       "      <td>SAMD11</td>\n",
       "    </tr>\n",
       "  </tbody>\n",
       "</table>\n",
       "</div>"
      ],
      "text/plain": [
       "      0       1       2       3\n",
       "0  chr1   68090   69090   OR4F5\n",
       "1  chr1  451678  452678  OR4F29\n",
       "2  chr1  686654  687654  OR4F16\n",
       "3  chr1  924730  925730  SAMD11\n",
       "4  chr1  924937  925937  SAMD11"
      ]
     },
     "execution_count": 1,
     "metadata": {},
     "output_type": "execute_result"
    }
   ],
   "source": [
    "import pandas as pd\n",
    "largefile=\"/Users/irffanalahi/Research/weekly/for_1_21_21/smwithna/genomic_feature/downstream/postprocess/protein-coding_gene_promoterSorteduniq.txt\"\n",
    "largedf=pd.read_csv(largefile,sep=\"\\t\",header=None)\n",
    "outname=\"/Users/irffanalahi/Research/weekly/for_1_21_21/smwithna/genomic_feature/downstream/postprocess/corressprompos.txt\"\n",
    "listofval=\"/Users/irffanalahi/Research/weekly/for_1_21_21/smwithna/genomic_feature/downstream/postprocess/prom.txt\"\n",
    "listofval=pd.read_csv(listofval,sep=\"\\t\",header=None)\n",
    "largfilecol=3\n",
    "\n",
    "largedf.head()"
   ]
  },
  {
   "cell_type": "code",
   "execution_count": 2,
   "metadata": {},
   "outputs": [],
   "source": [
    "listofval=listofval[0].tolist()"
   ]
  },
  {
   "cell_type": "code",
   "execution_count": 3,
   "metadata": {},
   "outputs": [
    {
     "data": {
      "text/html": [
       "<div>\n",
       "<style scoped>\n",
       "    .dataframe tbody tr th:only-of-type {\n",
       "        vertical-align: middle;\n",
       "    }\n",
       "\n",
       "    .dataframe tbody tr th {\n",
       "        vertical-align: top;\n",
       "    }\n",
       "\n",
       "    .dataframe thead th {\n",
       "        text-align: right;\n",
       "    }\n",
       "</style>\n",
       "<table border=\"1\" class=\"dataframe\">\n",
       "  <thead>\n",
       "    <tr style=\"text-align: right;\">\n",
       "      <th></th>\n",
       "      <th>0</th>\n",
       "      <th>1</th>\n",
       "      <th>2</th>\n",
       "      <th>3</th>\n",
       "    </tr>\n",
       "  </thead>\n",
       "  <tbody>\n",
       "    <tr>\n",
       "      <th>10801</th>\n",
       "      <td>chr10</td>\n",
       "      <td>126071387</td>\n",
       "      <td>126072387</td>\n",
       "      <td>ADAM12</td>\n",
       "    </tr>\n",
       "    <tr>\n",
       "      <th>10802</th>\n",
       "      <td>chr10</td>\n",
       "      <td>126072840</td>\n",
       "      <td>126073840</td>\n",
       "      <td>ADAM12</td>\n",
       "    </tr>\n",
       "    <tr>\n",
       "      <th>10803</th>\n",
       "      <td>chr10</td>\n",
       "      <td>126292706</td>\n",
       "      <td>126293706</td>\n",
       "      <td>ADAM12</td>\n",
       "    </tr>\n",
       "    <tr>\n",
       "      <th>16193</th>\n",
       "      <td>chr12</td>\n",
       "      <td>9602665</td>\n",
       "      <td>9603665</td>\n",
       "      <td>KLRB1</td>\n",
       "    </tr>\n",
       "    <tr>\n",
       "      <th>16194</th>\n",
       "      <td>chr12</td>\n",
       "      <td>9607916</td>\n",
       "      <td>9608916</td>\n",
       "      <td>KLRB1</td>\n",
       "    </tr>\n",
       "  </tbody>\n",
       "</table>\n",
       "</div>"
      ],
      "text/plain": [
       "           0          1          2       3\n",
       "10801  chr10  126071387  126072387  ADAM12\n",
       "10802  chr10  126072840  126073840  ADAM12\n",
       "10803  chr10  126292706  126293706  ADAM12\n",
       "16193  chr12    9602665    9603665   KLRB1\n",
       "16194  chr12    9607916    9608916   KLRB1"
      ]
     },
     "execution_count": 3,
     "metadata": {},
     "output_type": "execute_result"
    }
   ],
   "source": [
    "outdf=largedf[largedf[largfilecol].isin(listofval)]\n",
    "outdf.head()"
   ]
  },
  {
   "cell_type": "code",
   "execution_count": 4,
   "metadata": {},
   "outputs": [],
   "source": [
    "outdf.to_csv(outname,sep=\"\\t\",index=False,header=False)"
   ]
  }
 ],
 "metadata": {
  "kernelspec": {
   "display_name": "Python 3",
   "language": "python",
   "name": "python3"
  },
  "language_info": {
   "codemirror_mode": {
    "name": "ipython",
    "version": 3
   },
   "file_extension": ".py",
   "mimetype": "text/x-python",
   "name": "python",
   "nbconvert_exporter": "python",
   "pygments_lexer": "ipython3",
   "version": "3.6.7"
  }
 },
 "nbformat": 4,
 "nbformat_minor": 2
}
