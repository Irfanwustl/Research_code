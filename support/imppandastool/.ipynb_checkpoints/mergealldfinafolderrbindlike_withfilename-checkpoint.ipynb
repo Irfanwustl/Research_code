{
 "cells": [
  {
   "cell_type": "code",
   "execution_count": 1,
   "metadata": {},
   "outputs": [],
   "source": [
    "import pandas as pd\n",
    "import glob, os\n"
   ]
  },
  {
   "cell_type": "code",
   "execution_count": 2,
   "metadata": {},
   "outputs": [],
   "source": [
    "infolder=\"/Users/irffanalahi/Research/weekly/for_3_17_21/MLmodel/dataprepare_fragclassification/downstream/DCB_NDB_seperate/finalize/cpg2_nohealthy_melpos\"\n",
    "out=infolder+\"_row_combined.txt\""
   ]
  },
  {
   "cell_type": "code",
   "execution_count": 3,
   "metadata": {},
   "outputs": [],
   "source": [
    "files = glob.glob(infolder+'/*.txt')\n",
    "filesdf=[pd.read_csv(fp,sep=\"\\t\") for fp in files]"
   ]
  },
  {
   "cell_type": "code",
   "execution_count": 4,
   "metadata": {},
   "outputs": [
    {
     "data": {
      "text/html": [
       "<div>\n",
       "<style scoped>\n",
       "    .dataframe tbody tr th:only-of-type {\n",
       "        vertical-align: middle;\n",
       "    }\n",
       "\n",
       "    .dataframe tbody tr th {\n",
       "        vertical-align: top;\n",
       "    }\n",
       "\n",
       "    .dataframe thead th {\n",
       "        text-align: right;\n",
       "    }\n",
       "</style>\n",
       "<table border=\"1\" class=\"dataframe\">\n",
       "  <thead>\n",
       "    <tr style=\"text-align: right;\">\n",
       "      <th></th>\n",
       "      <th>ReadName</th>\n",
       "      <th>acceptedCpGLen</th>\n",
       "      <th>notacceptedCpGLen</th>\n",
       "      <th>len_hypolist</th>\n",
       "      <th>len_hyperlist</th>\n",
       "      <th>fraglength</th>\n",
       "      <th>finalacceptedfor</th>\n",
       "      <th>finalrejectedfor</th>\n",
       "    </tr>\n",
       "  </thead>\n",
       "  <tbody>\n",
       "    <tr>\n",
       "      <th>0</th>\n",
       "      <td>A00354:213:H7HJ2DSXY:2:1265:29008:13275</td>\n",
       "      <td>2</td>\n",
       "      <td>0</td>\n",
       "      <td>2</td>\n",
       "      <td>0</td>\n",
       "      <td>87.0</td>\n",
       "      <td>MEL_TUMOR</td>\n",
       "      <td>notdetermined</td>\n",
       "    </tr>\n",
       "    <tr>\n",
       "      <th>1</th>\n",
       "      <td>A00354:213:H7HJ2DSXY:2:1422:27145:35947</td>\n",
       "      <td>4</td>\n",
       "      <td>0</td>\n",
       "      <td>4</td>\n",
       "      <td>0</td>\n",
       "      <td>200.0</td>\n",
       "      <td>MEL_TUMOR</td>\n",
       "      <td>notdetermined</td>\n",
       "    </tr>\n",
       "    <tr>\n",
       "      <th>2</th>\n",
       "      <td>A00354:213:H7HJ2DSXY:2:1618:19334:25144</td>\n",
       "      <td>3</td>\n",
       "      <td>0</td>\n",
       "      <td>4</td>\n",
       "      <td>0</td>\n",
       "      <td>140.0</td>\n",
       "      <td>MEL_TUMOR</td>\n",
       "      <td>notdetermined</td>\n",
       "    </tr>\n",
       "    <tr>\n",
       "      <th>3</th>\n",
       "      <td>A00354:213:H7HJ2DSXY:2:1311:11849:1846</td>\n",
       "      <td>4</td>\n",
       "      <td>0</td>\n",
       "      <td>4</td>\n",
       "      <td>0</td>\n",
       "      <td>174.0</td>\n",
       "      <td>MEL_TUMOR</td>\n",
       "      <td>notdetermined</td>\n",
       "    </tr>\n",
       "    <tr>\n",
       "      <th>4</th>\n",
       "      <td>A00354:213:H7HJ2DSXY:2:1256:9480:28870</td>\n",
       "      <td>3</td>\n",
       "      <td>0</td>\n",
       "      <td>3</td>\n",
       "      <td>0</td>\n",
       "      <td>169.0</td>\n",
       "      <td>MEL_TUMOR</td>\n",
       "      <td>notdetermined</td>\n",
       "    </tr>\n",
       "  </tbody>\n",
       "</table>\n",
       "</div>"
      ],
      "text/plain": [
       "                                  ReadName  acceptedCpGLen  notacceptedCpGLen  \\\n",
       "0  A00354:213:H7HJ2DSXY:2:1265:29008:13275               2                  0   \n",
       "1  A00354:213:H7HJ2DSXY:2:1422:27145:35947               4                  0   \n",
       "2  A00354:213:H7HJ2DSXY:2:1618:19334:25144               3                  0   \n",
       "3   A00354:213:H7HJ2DSXY:2:1311:11849:1846               4                  0   \n",
       "4   A00354:213:H7HJ2DSXY:2:1256:9480:28870               3                  0   \n",
       "\n",
       "   len_hypolist  len_hyperlist  fraglength finalacceptedfor finalrejectedfor  \n",
       "0             2              0        87.0        MEL_TUMOR    notdetermined  \n",
       "1             4              0       200.0        MEL_TUMOR    notdetermined  \n",
       "2             4              0       140.0        MEL_TUMOR    notdetermined  \n",
       "3             4              0       174.0        MEL_TUMOR    notdetermined  \n",
       "4             3              0       169.0        MEL_TUMOR    notdetermined  "
      ]
     },
     "execution_count": 4,
     "metadata": {},
     "output_type": "execute_result"
    }
   ],
   "source": [
    "df_combined = pd.concat(filesdf, axis=0)\n",
    "df_combined.head()"
   ]
  },
  {
   "cell_type": "code",
   "execution_count": 5,
   "metadata": {},
   "outputs": [],
   "source": [
    "df_combined.to_csv(out,sep=\"\\t\",na_rep=\"NA\",index=False)"
   ]
  }
 ],
 "metadata": {
  "kernelspec": {
   "display_name": "Python 3",
   "language": "python",
   "name": "python3"
  },
  "language_info": {
   "codemirror_mode": {
    "name": "ipython",
    "version": 3
   },
   "file_extension": ".py",
   "mimetype": "text/x-python",
   "name": "python",
   "nbconvert_exporter": "python",
   "pygments_lexer": "ipython3",
   "version": "3.6.7"
  }
 },
 "nbformat": 4,
 "nbformat_minor": 2
}
