{
 "cells": [
  {
   "cell_type": "code",
   "execution_count": 1,
   "metadata": {},
   "outputs": [],
   "source": [
    "import pandas as pd\n",
    "\n",
    "f1=\"/Users/irffanalahi/Research/weekly/for_2_11_21/readcounting_onyale/forpreprocess/SM2/DiagSM2/forplot/BLthirteen_all_matrixCin_nr0.5_subseted.txt\"\n",
    "f2=\"/Users/irffanalahi/Research/weekly/for_2_11_21/readcounting_onyale/forpreprocess/SM2/DiagSM2/forplot/qcutdiffsortSMref.txt\"\n",
    "\n",
    "out=f1+\"_merged.txt\"\n",
    "\n",
    "f1df=pd.read_csv(f1,sep=\"\\t\",index_col=0)\n",
    "f2df=pd.read_csv(f2,sep=\"\\t\",index_col=0)\n"
   ]
  },
  {
   "cell_type": "code",
   "execution_count": 2,
   "metadata": {},
   "outputs": [],
   "source": [
    "df_combined = pd.concat([f1df, f2df], axis=1)\n",
    "df_combined.to_csv(out,sep=\"\\t\",na_rep=\"NA\")"
   ]
  }
 ],
 "metadata": {
  "kernelspec": {
   "display_name": "Python 3",
   "language": "python",
   "name": "python3"
  },
  "language_info": {
   "codemirror_mode": {
    "name": "ipython",
    "version": 3
   },
   "file_extension": ".py",
   "mimetype": "text/x-python",
   "name": "python",
   "nbconvert_exporter": "python",
   "pygments_lexer": "ipython3",
   "version": "3.6.7"
  }
 },
 "nbformat": 4,
 "nbformat_minor": 2
}
