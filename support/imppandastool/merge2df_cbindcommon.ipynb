{
 "cells": [
  {
   "cell_type": "code",
   "execution_count": 1,
   "metadata": {},
   "outputs": [],
   "source": [
    "import pandas as pd\n",
    "\n",
    "f1=\"/Users/irffanalahi/Research/Research_update/SM/melcfdref/bestworkingref/Survivalanalysis/PBLtilMel_meldiff-.7_other-.1_q0.00001_sorted4_1_singleCpG_final_assignedref.txt_uniq.txt_result_nocov_mincpg3_ABSreadcount_divisioned.txt_CSxOut.txtMergedResponseRC.txt\"\n",
    "f2=\"/Users/irffanalahi/Research/Research_update/SM/melcfdref/bestworkingref/Survivalanalysis/SurvivaldataforcfDNAtoirfan8_11_21.txt\"\n",
    "\n",
    "out=f1+\"_merged.txt\"\n",
    "\n",
    "f1df=pd.read_csv(f1,sep=\"\\t\",index_col='Mixture')\n",
    "f2df=pd.read_csv(f2,sep=\"\\t\",index_col='Mixture')\n"
   ]
  },
  {
   "cell_type": "code",
   "execution_count": 2,
   "metadata": {},
   "outputs": [],
   "source": [
    "df_combined = pd.concat([f1df, f2df], axis=1,join='inner')\n",
    "df_combined.to_csv(out,sep=\"\\t\",na_rep=\"NA\")\n"
   ]
  },
  {
   "cell_type": "code",
   "execution_count": 3,
   "metadata": {},
   "outputs": [
    {
     "data": {
      "text/plain": [
       "(36, 18)"
      ]
     },
     "execution_count": 3,
     "metadata": {},
     "output_type": "execute_result"
    }
   ],
   "source": [
    "df_combined.shape"
   ]
  }
 ],
 "metadata": {
  "kernelspec": {
   "display_name": "Python 3",
   "language": "python",
   "name": "python3"
  },
  "language_info": {
   "codemirror_mode": {
    "name": "ipython",
    "version": 3
   },
   "file_extension": ".py",
   "mimetype": "text/x-python",
   "name": "python",
   "nbconvert_exporter": "python",
   "pygments_lexer": "ipython3",
   "version": "3.6.7"
  }
 },
 "nbformat": 4,
 "nbformat_minor": 2
}
