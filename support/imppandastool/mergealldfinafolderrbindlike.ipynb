{
 "cells": [
  {
   "cell_type": "code",
   "execution_count": 1,
   "metadata": {},
   "outputs": [],
   "source": [
    "import pandas as pd\n",
    "import glob, os\n"
   ]
  },
  {
   "cell_type": "code",
   "execution_count": 2,
   "metadata": {},
   "outputs": [],
   "source": [
    "infolder=\"/Users/irffanalahi/Research/Research_update/SM/melcfdref/Allseperated/differenttil/DMRofCD8PBLvsTIL/towardssm/CD8TIL_onlyrelevant\"\n",
    "out=infolder+\"_row_combined.txt\""
   ]
  },
  {
   "cell_type": "code",
   "execution_count": 3,
   "metadata": {},
   "outputs": [],
   "source": [
    "files = glob.glob(infolder+'/*.txt')\n",
    "filesdf=[pd.read_csv(fp,sep=\"\\t\") for fp in files]"
   ]
  },
  {
   "cell_type": "code",
   "execution_count": 4,
   "metadata": {},
   "outputs": [
    {
     "data": {
      "text/html": [
       "<div>\n",
       "<style scoped>\n",
       "    .dataframe tbody tr th:only-of-type {\n",
       "        vertical-align: middle;\n",
       "    }\n",
       "\n",
       "    .dataframe tbody tr th {\n",
       "        vertical-align: top;\n",
       "    }\n",
       "\n",
       "    .dataframe thead th {\n",
       "        text-align: right;\n",
       "    }\n",
       "</style>\n",
       "<table border=\"1\" class=\"dataframe\">\n",
       "  <thead>\n",
       "    <tr style=\"text-align: right;\">\n",
       "      <th></th>\n",
       "      <th>chrom</th>\n",
       "      <th>start</th>\n",
       "      <th>end</th>\n",
       "      <th>q</th>\n",
       "      <th>diff</th>\n",
       "      <th>#cpg</th>\n",
       "      <th>p(MWU)</th>\n",
       "      <th>p(2dks)</th>\n",
       "      <th>CD8_TIL</th>\n",
       "      <th>others</th>\n",
       "      <th>diffcolpos</th>\n",
       "      <th>neglogq</th>\n",
       "    </tr>\n",
       "  </thead>\n",
       "  <tbody>\n",
       "    <tr>\n",
       "      <th>0</th>\n",
       "      <td>chr1</td>\n",
       "      <td>935543</td>\n",
       "      <td>935836</td>\n",
       "      <td>0.000526</td>\n",
       "      <td>-0.332050</td>\n",
       "      <td>20</td>\n",
       "      <td>1.437100e-11</td>\n",
       "      <td>6.113700e-08</td>\n",
       "      <td>0.20655</td>\n",
       "      <td>0.53860</td>\n",
       "      <td>0.332050</td>\n",
       "      <td>3.278940</td>\n",
       "    </tr>\n",
       "    <tr>\n",
       "      <th>1</th>\n",
       "      <td>chr1</td>\n",
       "      <td>936061</td>\n",
       "      <td>936339</td>\n",
       "      <td>0.000092</td>\n",
       "      <td>-0.364889</td>\n",
       "      <td>21</td>\n",
       "      <td>2.047300e-13</td>\n",
       "      <td>6.998100e-09</td>\n",
       "      <td>0.38587</td>\n",
       "      <td>0.75076</td>\n",
       "      <td>0.364889</td>\n",
       "      <td>4.037427</td>\n",
       "    </tr>\n",
       "    <tr>\n",
       "      <th>2</th>\n",
       "      <td>chr1</td>\n",
       "      <td>2259135</td>\n",
       "      <td>2259422</td>\n",
       "      <td>0.000047</td>\n",
       "      <td>-0.490350</td>\n",
       "      <td>10</td>\n",
       "      <td>2.834900e-09</td>\n",
       "      <td>3.054100e-09</td>\n",
       "      <td>0.12240</td>\n",
       "      <td>0.61275</td>\n",
       "      <td>0.490350</td>\n",
       "      <td>4.331623</td>\n",
       "    </tr>\n",
       "    <tr>\n",
       "      <th>3</th>\n",
       "      <td>chr1</td>\n",
       "      <td>3073914</td>\n",
       "      <td>3074057</td>\n",
       "      <td>0.000010</td>\n",
       "      <td>-0.439519</td>\n",
       "      <td>18</td>\n",
       "      <td>1.632400e-12</td>\n",
       "      <td>4.926000e-10</td>\n",
       "      <td>0.17165</td>\n",
       "      <td>0.61117</td>\n",
       "      <td>0.439519</td>\n",
       "      <td>4.987965</td>\n",
       "    </tr>\n",
       "    <tr>\n",
       "      <th>4</th>\n",
       "      <td>chr1</td>\n",
       "      <td>7935406</td>\n",
       "      <td>7936548</td>\n",
       "      <td>0.000002</td>\n",
       "      <td>-0.468333</td>\n",
       "      <td>20</td>\n",
       "      <td>4.929400e-14</td>\n",
       "      <td>6.648300e-11</td>\n",
       "      <td>0.36022</td>\n",
       "      <td>0.82855</td>\n",
       "      <td>0.468333</td>\n",
       "      <td>5.730767</td>\n",
       "    </tr>\n",
       "  </tbody>\n",
       "</table>\n",
       "</div>"
      ],
      "text/plain": [
       "  chrom    start      end         q      diff #cpg        p(MWU)  \\\n",
       "0  chr1   935543   935836  0.000526 -0.332050   20  1.437100e-11   \n",
       "1  chr1   936061   936339  0.000092 -0.364889   21  2.047300e-13   \n",
       "2  chr1  2259135  2259422  0.000047 -0.490350   10  2.834900e-09   \n",
       "3  chr1  3073914  3074057  0.000010 -0.439519   18  1.632400e-12   \n",
       "4  chr1  7935406  7936548  0.000002 -0.468333   20  4.929400e-14   \n",
       "\n",
       "        p(2dks)  CD8_TIL   others  diffcolpos   neglogq  \n",
       "0  6.113700e-08  0.20655  0.53860    0.332050  3.278940  \n",
       "1  6.998100e-09  0.38587  0.75076    0.364889  4.037427  \n",
       "2  3.054100e-09  0.12240  0.61275    0.490350  4.331623  \n",
       "3  4.926000e-10  0.17165  0.61117    0.439519  4.987965  \n",
       "4  6.648300e-11  0.36022  0.82855    0.468333  5.730767  "
      ]
     },
     "execution_count": 4,
     "metadata": {},
     "output_type": "execute_result"
    }
   ],
   "source": [
    "df_combined = pd.concat(filesdf, axis=0)\n",
    "df_combined.head()"
   ]
  },
  {
   "cell_type": "code",
   "execution_count": 5,
   "metadata": {},
   "outputs": [],
   "source": [
    "df_combined.to_csv(out,sep=\"\\t\",na_rep=\"NA\",index=False)"
   ]
  }
 ],
 "metadata": {
  "kernelspec": {
   "display_name": "Python 3",
   "language": "python",
   "name": "python3"
  },
  "language_info": {
   "codemirror_mode": {
    "name": "ipython",
    "version": 3
   },
   "file_extension": ".py",
   "mimetype": "text/x-python",
   "name": "python",
   "nbconvert_exporter": "python",
   "pygments_lexer": "ipython3",
   "version": "3.6.7"
  }
 },
 "nbformat": 4,
 "nbformat_minor": 2
}
