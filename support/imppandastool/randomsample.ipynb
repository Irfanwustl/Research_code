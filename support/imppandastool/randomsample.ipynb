{
 "cells": [
  {
   "cell_type": "code",
   "execution_count": 1,
   "metadata": {},
   "outputs": [],
   "source": [
    "import pandas as pd "
   ]
  },
  {
   "cell_type": "code",
   "execution_count": 2,
   "metadata": {},
   "outputs": [],
   "source": [
    "infile=\"/Users/irffanalahi/Research/weekly/for_9_3_20/checkwithblockvalue/downstramanalysis/heatmap/plot/blour_monod2_intersectedSortedMerged_std_filtered_cpg3_std1_all_matrix_NO_NA_mat_Ciberin_shortname.txt\"\n",
    "samplerownum=10000\n",
    "outfilename=infile+\"_sampled_\"+str(samplerownum)\n",
    "\n",
    "\n",
    "df=pd.read_csv(infile,index_col=0,sep=\"\\t\")\n"
   ]
  },
  {
   "cell_type": "code",
   "execution_count": 3,
   "metadata": {},
   "outputs": [],
   "source": [
    "outdf=df.sample(n = samplerownum) \n",
    "outdf.to_csv(outfilename,sep=\"\\t\")\n"
   ]
  },
  {
   "cell_type": "code",
   "execution_count": 4,
   "metadata": {},
   "outputs": [
    {
     "name": "stdout",
     "output_type": "stream",
     "text": [
      "done\n"
     ]
    }
   ],
   "source": [
    "print(\"done\")"
   ]
  }
 ],
 "metadata": {
  "kernelspec": {
   "display_name": "Python 3",
   "language": "python",
   "name": "python3"
  },
  "language_info": {
   "codemirror_mode": {
    "name": "ipython",
    "version": 3
   },
   "file_extension": ".py",
   "mimetype": "text/x-python",
   "name": "python",
   "nbconvert_exporter": "python",
   "pygments_lexer": "ipython3",
   "version": "3.6.7"
  }
 },
 "nbformat": 4,
 "nbformat_minor": 2
}
