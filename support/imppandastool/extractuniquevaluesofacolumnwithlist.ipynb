{
 "cells": [
  {
   "cell_type": "code",
   "execution_count": 1,
   "metadata": {},
   "outputs": [],
   "source": [
    "import pandas as pd"
   ]
  },
  {
   "cell_type": "code",
   "execution_count": 2,
   "metadata": {},
   "outputs": [
    {
     "data": {
      "text/html": [
       "<div>\n",
       "<style scoped>\n",
       "    .dataframe tbody tr th:only-of-type {\n",
       "        vertical-align: middle;\n",
       "    }\n",
       "\n",
       "    .dataframe tbody tr th {\n",
       "        vertical-align: top;\n",
       "    }\n",
       "\n",
       "    .dataframe thead th {\n",
       "        text-align: right;\n",
       "    }\n",
       "</style>\n",
       "<table border=\"1\" class=\"dataframe\">\n",
       "  <thead>\n",
       "    <tr style=\"text-align: right;\">\n",
       "      <th></th>\n",
       "      <th>chrom</th>\n",
       "      <th>start</th>\n",
       "      <th>end</th>\n",
       "      <th>celltype</th>\n",
       "      <th>blockchr</th>\n",
       "      <th>blockstart</th>\n",
       "      <th>blockend</th>\n",
       "    </tr>\n",
       "  </thead>\n",
       "  <tbody>\n",
       "    <tr>\n",
       "      <th>0</th>\n",
       "      <td>chr3</td>\n",
       "      <td>122060546</td>\n",
       "      <td>122060548</td>\n",
       "      <td>['CD14']</td>\n",
       "      <td>chr3</td>\n",
       "      <td>122060397</td>\n",
       "      <td>122060721</td>\n",
       "    </tr>\n",
       "    <tr>\n",
       "      <th>1</th>\n",
       "      <td>chr16</td>\n",
       "      <td>79097508</td>\n",
       "      <td>79097510</td>\n",
       "      <td>['CD14']</td>\n",
       "      <td>chr16</td>\n",
       "      <td>79097359</td>\n",
       "      <td>79097659</td>\n",
       "    </tr>\n",
       "    <tr>\n",
       "      <th>2</th>\n",
       "      <td>chr1</td>\n",
       "      <td>159431113</td>\n",
       "      <td>159431115</td>\n",
       "      <td>['CD14']</td>\n",
       "      <td>chr1</td>\n",
       "      <td>159430964</td>\n",
       "      <td>159431264</td>\n",
       "    </tr>\n",
       "    <tr>\n",
       "      <th>3</th>\n",
       "      <td>chr8</td>\n",
       "      <td>42957889</td>\n",
       "      <td>42957891</td>\n",
       "      <td>['CD14']</td>\n",
       "      <td>chr8</td>\n",
       "      <td>42957740</td>\n",
       "      <td>42958040</td>\n",
       "    </tr>\n",
       "    <tr>\n",
       "      <th>4</th>\n",
       "      <td>chr12</td>\n",
       "      <td>49219528</td>\n",
       "      <td>49219530</td>\n",
       "      <td>['CD14']</td>\n",
       "      <td>chr12</td>\n",
       "      <td>49219379</td>\n",
       "      <td>49219679</td>\n",
       "    </tr>\n",
       "  </tbody>\n",
       "</table>\n",
       "</div>"
      ],
      "text/plain": [
       "   chrom      start        end  celltype blockchr  blockstart   blockend\n",
       "0   chr3  122060546  122060548  ['CD14']     chr3   122060397  122060721\n",
       "1  chr16   79097508   79097510  ['CD14']    chr16    79097359   79097659\n",
       "2   chr1  159431113  159431115  ['CD14']     chr1   159430964  159431264\n",
       "3   chr8   42957889   42957891  ['CD14']     chr8    42957740   42958040\n",
       "4  chr12   49219528   49219530  ['CD14']    chr12    49219379   49219679"
      ]
     },
     "execution_count": 2,
     "metadata": {},
     "output_type": "execute_result"
    }
   ],
   "source": [
    "indf=pd.read_csv(\"/Users/irffanalahi/Research/Research_code/gitignorefolder/MHB_per_read/moretest/rd2_v3/data/sm/blwithneu_hypo_stat.txt_0.01_2_g50.txtWithSurrounding.txt_3cpgnc.txt\",sep=\"\\t\")\n",
    "indf['celltype']=indf.celltype.apply(lambda x: x[1:-1].split(','))\n",
    "indf.head()"
   ]
  },
  {
   "cell_type": "code",
   "execution_count": 3,
   "metadata": {},
   "outputs": [],
   "source": [
    "def extactuniquecelltype():\n",
    "    celllist=indf['celltype'].tolist()\n",
    "    allcells = [x for sublist in celllist for x in sublist]\n",
    "    alluniquecells=list(set(allcells))\n",
    "    return alluniquecells"
   ]
  },
  {
   "cell_type": "code",
   "execution_count": 4,
   "metadata": {},
   "outputs": [
    {
     "name": "stdout",
     "output_type": "stream",
     "text": [
      "<class 'list'>\n",
      "[\"'CD14'\", \"'CD8'\", \"'CD56'\", \"'CD19'\", \"'Neu'\", \"'CD4'\"]\n"
     ]
    }
   ],
   "source": [
    "cccc=extactuniquecelltype()\n",
    "print(type(cccc))\n",
    "print(cccc)"
   ]
  }
 ],
 "metadata": {
  "kernelspec": {
   "display_name": "Python 3",
   "language": "python",
   "name": "python3"
  },
  "language_info": {
   "codemirror_mode": {
    "name": "ipython",
    "version": 3
   },
   "file_extension": ".py",
   "mimetype": "text/x-python",
   "name": "python",
   "nbconvert_exporter": "python",
   "pygments_lexer": "ipython3",
   "version": "3.6.7"
  }
 },
 "nbformat": 4,
 "nbformat_minor": 2
}
