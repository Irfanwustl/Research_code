{
 "cells": [
  {
   "cell_type": "code",
   "execution_count": 1,
   "metadata": {},
   "outputs": [],
   "source": [
    "import pandas as pd\n",
    "import glob, os\n",
    "import os.path\n"
   ]
  },
  {
   "cell_type": "code",
   "execution_count": 2,
   "metadata": {},
   "outputs": [],
   "source": [
    "infolder=\"/Users/irffanalahi/Research/weekly/for_3_24_21/ML/ML_postprocess/dataprepare/testdata/allfinal_lenrefCPG_subsetoffinal_cpg2\"\n",
    "out=infolder+\"_row_combinedfilename.txt\""
   ]
  },
  {
   "cell_type": "code",
   "execution_count": 3,
   "metadata": {},
   "outputs": [],
   "source": [
    "files = glob.glob(infolder+'/*.txt')\n",
    "filesdf=[]\n",
    "for fp in files:\n",
    "    tmpdf=pd.read_csv(fp,sep=\"\\t\")\n",
    "    tmpdf['filename']=os.path.basename(fp)\n",
    "    filesdf.append(tmpdf)\n",
    "    \n"
   ]
  },
  {
   "cell_type": "code",
   "execution_count": 4,
   "metadata": {},
   "outputs": [
    {
     "data": {
      "text/html": [
       "<div>\n",
       "<style scoped>\n",
       "    .dataframe tbody tr th:only-of-type {\n",
       "        vertical-align: middle;\n",
       "    }\n",
       "\n",
       "    .dataframe tbody tr th {\n",
       "        vertical-align: top;\n",
       "    }\n",
       "\n",
       "    .dataframe thead th {\n",
       "        text-align: right;\n",
       "    }\n",
       "</style>\n",
       "<table border=\"1\" class=\"dataframe\">\n",
       "  <thead>\n",
       "    <tr style=\"text-align: right;\">\n",
       "      <th></th>\n",
       "      <th>ReadName</th>\n",
       "      <th>acceptedCpGLen</th>\n",
       "      <th>notacceptedCpGLen</th>\n",
       "      <th>len_hypolist</th>\n",
       "      <th>len_hyperlist</th>\n",
       "      <th>fraglength</th>\n",
       "      <th>finalacceptedfor</th>\n",
       "      <th>finalrejectedfor</th>\n",
       "      <th>filename</th>\n",
       "    </tr>\n",
       "  </thead>\n",
       "  <tbody>\n",
       "    <tr>\n",
       "      <th>0</th>\n",
       "      <td>A00354:213:H7HJ2DSXY:3:1108:19831:28134</td>\n",
       "      <td>0</td>\n",
       "      <td>0</td>\n",
       "      <td>3</td>\n",
       "      <td>0</td>\n",
       "      <td>146.0</td>\n",
       "      <td>notdetermined</td>\n",
       "      <td>notdetermined</td>\n",
       "      <td>tot-YUVIRTUE_20-4029-cfDNA.bg_howsm_single_mod...</td>\n",
       "    </tr>\n",
       "    <tr>\n",
       "      <th>1</th>\n",
       "      <td>A00354:213:H7HJ2DSXY:3:1325:30563:3724</td>\n",
       "      <td>0</td>\n",
       "      <td>0</td>\n",
       "      <td>1</td>\n",
       "      <td>0</td>\n",
       "      <td>149.0</td>\n",
       "      <td>notdetermined</td>\n",
       "      <td>notdetermined</td>\n",
       "      <td>tot-YUVIRTUE_20-4029-cfDNA.bg_howsm_single_mod...</td>\n",
       "    </tr>\n",
       "    <tr>\n",
       "      <th>2</th>\n",
       "      <td>A00354:213:H7HJ2DSXY:3:1660:28646:32503</td>\n",
       "      <td>0</td>\n",
       "      <td>0</td>\n",
       "      <td>1</td>\n",
       "      <td>0</td>\n",
       "      <td>158.0</td>\n",
       "      <td>notdetermined</td>\n",
       "      <td>notdetermined</td>\n",
       "      <td>tot-YUVIRTUE_20-4029-cfDNA.bg_howsm_single_mod...</td>\n",
       "    </tr>\n",
       "    <tr>\n",
       "      <th>3</th>\n",
       "      <td>A00354:213:H7HJ2DSXY:3:2548:18819:36996</td>\n",
       "      <td>0</td>\n",
       "      <td>0</td>\n",
       "      <td>1</td>\n",
       "      <td>0</td>\n",
       "      <td>158.0</td>\n",
       "      <td>notdetermined</td>\n",
       "      <td>notdetermined</td>\n",
       "      <td>tot-YUVIRTUE_20-4029-cfDNA.bg_howsm_single_mod...</td>\n",
       "    </tr>\n",
       "    <tr>\n",
       "      <th>4</th>\n",
       "      <td>A00354:213:H7HJ2DSXY:3:2604:18087:29371</td>\n",
       "      <td>0</td>\n",
       "      <td>0</td>\n",
       "      <td>1</td>\n",
       "      <td>0</td>\n",
       "      <td>154.0</td>\n",
       "      <td>notdetermined</td>\n",
       "      <td>notdetermined</td>\n",
       "      <td>tot-YUVIRTUE_20-4029-cfDNA.bg_howsm_single_mod...</td>\n",
       "    </tr>\n",
       "  </tbody>\n",
       "</table>\n",
       "</div>"
      ],
      "text/plain": [
       "                                  ReadName  acceptedCpGLen  notacceptedCpGLen  \\\n",
       "0  A00354:213:H7HJ2DSXY:3:1108:19831:28134               0                  0   \n",
       "1   A00354:213:H7HJ2DSXY:3:1325:30563:3724               0                  0   \n",
       "2  A00354:213:H7HJ2DSXY:3:1660:28646:32503               0                  0   \n",
       "3  A00354:213:H7HJ2DSXY:3:2548:18819:36996               0                  0   \n",
       "4  A00354:213:H7HJ2DSXY:3:2604:18087:29371               0                  0   \n",
       "\n",
       "   len_hypolist  len_hyperlist  fraglength finalacceptedfor finalrejectedfor  \\\n",
       "0             3              0       146.0    notdetermined    notdetermined   \n",
       "1             1              0       149.0    notdetermined    notdetermined   \n",
       "2             1              0       158.0    notdetermined    notdetermined   \n",
       "3             1              0       158.0    notdetermined    notdetermined   \n",
       "4             1              0       154.0    notdetermined    notdetermined   \n",
       "\n",
       "                                            filename  \n",
       "0  tot-YUVIRTUE_20-4029-cfDNA.bg_howsm_single_mod...  \n",
       "1  tot-YUVIRTUE_20-4029-cfDNA.bg_howsm_single_mod...  \n",
       "2  tot-YUVIRTUE_20-4029-cfDNA.bg_howsm_single_mod...  \n",
       "3  tot-YUVIRTUE_20-4029-cfDNA.bg_howsm_single_mod...  \n",
       "4  tot-YUVIRTUE_20-4029-cfDNA.bg_howsm_single_mod...  "
      ]
     },
     "execution_count": 4,
     "metadata": {},
     "output_type": "execute_result"
    }
   ],
   "source": [
    "df_combined = pd.concat(filesdf, axis=0)\n",
    "df_combined.head()"
   ]
  },
  {
   "cell_type": "code",
   "execution_count": 5,
   "metadata": {},
   "outputs": [],
   "source": [
    "df_combined.to_csv(out,sep=\"\\t\",na_rep=\"NA\",index=False)"
   ]
  }
 ],
 "metadata": {
  "kernelspec": {
   "display_name": "Python 3",
   "language": "python",
   "name": "python3"
  },
  "language_info": {
   "codemirror_mode": {
    "name": "ipython",
    "version": 3
   },
   "file_extension": ".py",
   "mimetype": "text/x-python",
   "name": "python",
   "nbconvert_exporter": "python",
   "pygments_lexer": "ipython3",
   "version": "3.6.7"
  }
 },
 "nbformat": 4,
 "nbformat_minor": 2
}
