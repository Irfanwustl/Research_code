{
 "cells": [
  {
   "cell_type": "code",
   "execution_count": null,
   "metadata": {},
   "outputs": [],
   "source": [
    "import  pandas  as pd\n",
    "infile='/Users/irffanalahi/Research/Research_update/SoftRD/largerEXP/BL22genepromdelta.7/Realdata/irAE/benchmark_withcelfie/boxplots/celfie-on-melanoma_CSxOut.txt_irAEgt_PreTX.txt'\n",
    "\n"
   ]
  },
  {
   "cell_type": "code",
   "execution_count": null,
   "metadata": {},
   "outputs": [],
   "source": [
    "standardnamedict={\"Macrophage.M0\":\"Mac (M0)\",\"Macrophage.M1\":\"Mac (M1)\",\"Macrophage.M2\":\"Mac (M2)\",\"T.CD4.naive\":\"Naive CD4 T\",\"T.CD8.naive\":\"Naive CD8\",\"CD4\": \"Naive CD4\", \"CD8\": \"Naive CD8 T\",\"B.Cell.memory\":\"Memory B\",'Mn':'Mono','CD14':'Mono','CD19':'B Cell','B.Cell.naive':'Naive B','Plasma.Cell':'PC','T.CD8.central.memory':'CD8 TCM','T.CD8.effector.memory':'CD8 TEM','m8':'CD8 memory','T.CD8.effector.memory.terminal':'CD8 TEMRA','T.CD4.central.memory':'CD4 TCM','em4':'CD4 TEM','m4':'CD4 memory','mNeu':'PMN','Eo':'Eosinophil','Treg':'Tregs','Mg':'Megakaryocyte','Er':'Erythrocyte','NK.Cell':'NK','Dendtritic.immature':'iDC'}"
   ]
  }
 ],
 "metadata": {
  "kernelspec": {
   "display_name": "Python 3",
   "language": "python",
   "name": "python3"
  },
  "language_info": {
   "codemirror_mode": {
    "name": "ipython",
    "version": 3
   },
   "file_extension": ".py",
   "mimetype": "text/x-python",
   "name": "python",
   "nbconvert_exporter": "python",
   "pygments_lexer": "ipython3",
   "version": "3.6.7"
  }
 },
 "nbformat": 4,
 "nbformat_minor": 2
}
