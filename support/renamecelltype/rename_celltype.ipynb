{
 "cells": [
  {
   "cell_type": "code",
   "execution_count": 1,
   "metadata": {},
   "outputs": [
    {
     "data": {
      "text/html": [
       "<div>\n",
       "<style scoped>\n",
       "    .dataframe tbody tr th:only-of-type {\n",
       "        vertical-align: middle;\n",
       "    }\n",
       "\n",
       "    .dataframe tbody tr th {\n",
       "        vertical-align: top;\n",
       "    }\n",
       "\n",
       "    .dataframe thead th {\n",
       "        text-align: right;\n",
       "    }\n",
       "</style>\n",
       "<table border=\"1\" class=\"dataframe\">\n",
       "  <thead>\n",
       "    <tr style=\"text-align: right;\">\n",
       "      <th></th>\n",
       "      <th>AUC</th>\n",
       "    </tr>\n",
       "    <tr>\n",
       "      <th>Celltype</th>\n",
       "      <th></th>\n",
       "    </tr>\n",
       "  </thead>\n",
       "  <tbody>\n",
       "    <tr>\n",
       "      <th>NaiveCD4</th>\n",
       "      <td>0.552662</td>\n",
       "    </tr>\n",
       "    <tr>\n",
       "      <th>NaiveCD8</th>\n",
       "      <td>0.876682</td>\n",
       "    </tr>\n",
       "    <tr>\n",
       "      <th>nB</th>\n",
       "      <td>0.872083</td>\n",
       "    </tr>\n",
       "    <tr>\n",
       "      <th>NK</th>\n",
       "      <td>0.877914</td>\n",
       "    </tr>\n",
       "    <tr>\n",
       "      <th>PC</th>\n",
       "      <td>0.928283</td>\n",
       "    </tr>\n",
       "  </tbody>\n",
       "</table>\n",
       "</div>"
      ],
      "text/plain": [
       "               AUC\n",
       "Celltype          \n",
       "NaiveCD4  0.552662\n",
       "NaiveCD8  0.876682\n",
       "nB        0.872083\n",
       "NK        0.877914\n",
       "PC        0.928283"
      ]
     },
     "execution_count": 1,
     "metadata": {},
     "output_type": "execute_result"
    }
   ],
   "source": [
    "import pandas as pd\n",
    "infile='/Users/irffanalahi/Research/Research_update/SoftRD/largerEXP/BL22genepromdelta.7/insilico/training/bestrefperfforTEST/BL22_genepromSM_0.7.txt_TRAININGbestref.txtTESTDATA_result_nodupindex_binnedstats.pkl_totalformatteddata.pkl_RFAUC.txt'\n",
    "\n",
    "\n",
    "\n",
    "##cell type as index###\n",
    "\n",
    "indf=pd.read_csv(infile,sep=\"\\t\",index_col=0)\n",
    "indf.head()"
   ]
  },
  {
   "cell_type": "code",
   "execution_count": 2,
   "metadata": {},
   "outputs": [],
   "source": [
    "standardnamedict={\"CD4\": \"Naive CD4\", \"CD8\": \"Naive CD8\",\"mB\":\"Memory B cell\",'Mn':'Mono','CD14':'Mono','CD19':'B Cell','nB':'Naive B cell','PC':'Palsma','cm8':'CD8 central memory','em8':'CD8 effector memory','m8':'CD8 memory','ed8':'CD8 effector','cm4':'CD4 central memory','em4':'CD4 effector memory','m4':'CD4 memory','mNeu':'PMN','Eo':'Eosinophil','Tr':'Tregs','Mg':'Megakaryocyte'}"
   ]
  },
  {
   "cell_type": "code",
   "execution_count": 3,
   "metadata": {},
   "outputs": [
    {
     "data": {
      "text/html": [
       "<div>\n",
       "<style scoped>\n",
       "    .dataframe tbody tr th:only-of-type {\n",
       "        vertical-align: middle;\n",
       "    }\n",
       "\n",
       "    .dataframe tbody tr th {\n",
       "        vertical-align: top;\n",
       "    }\n",
       "\n",
       "    .dataframe thead th {\n",
       "        text-align: right;\n",
       "    }\n",
       "</style>\n",
       "<table border=\"1\" class=\"dataframe\">\n",
       "  <thead>\n",
       "    <tr style=\"text-align: right;\">\n",
       "      <th></th>\n",
       "      <th>AUC</th>\n",
       "    </tr>\n",
       "    <tr>\n",
       "      <th>Celltype</th>\n",
       "      <th></th>\n",
       "    </tr>\n",
       "  </thead>\n",
       "  <tbody>\n",
       "    <tr>\n",
       "      <th>NaiveCD4</th>\n",
       "      <td>0.552662</td>\n",
       "    </tr>\n",
       "    <tr>\n",
       "      <th>NaiveCD8</th>\n",
       "      <td>0.876682</td>\n",
       "    </tr>\n",
       "    <tr>\n",
       "      <th>Naive B cell</th>\n",
       "      <td>0.872083</td>\n",
       "    </tr>\n",
       "    <tr>\n",
       "      <th>NK</th>\n",
       "      <td>0.877914</td>\n",
       "    </tr>\n",
       "    <tr>\n",
       "      <th>Palsma</th>\n",
       "      <td>0.928283</td>\n",
       "    </tr>\n",
       "  </tbody>\n",
       "</table>\n",
       "</div>"
      ],
      "text/plain": [
       "                   AUC\n",
       "Celltype              \n",
       "NaiveCD4      0.552662\n",
       "NaiveCD8      0.876682\n",
       "Naive B cell  0.872083\n",
       "NK            0.877914\n",
       "Palsma        0.928283"
      ]
     },
     "execution_count": 3,
     "metadata": {},
     "output_type": "execute_result"
    }
   ],
   "source": [
    "outdf=indf.copy()\n",
    "outdf.rename(index=standardnamedict,inplace=True)\n",
    "outdf.head()"
   ]
  },
  {
   "cell_type": "code",
   "execution_count": 4,
   "metadata": {},
   "outputs": [],
   "source": [
    "outdf.to_csv(infile+\"_ctrename.txt\",sep=\"\\t\")"
   ]
  }
 ],
 "metadata": {
  "kernelspec": {
   "display_name": "Python 3",
   "language": "python",
   "name": "python3"
  },
  "language_info": {
   "codemirror_mode": {
    "name": "ipython",
    "version": 3
   },
   "file_extension": ".py",
   "mimetype": "text/x-python",
   "name": "python",
   "nbconvert_exporter": "python",
   "pygments_lexer": "ipython3",
   "version": "3.6.7"
  }
 },
 "nbformat": 4,
 "nbformat_minor": 2
}
