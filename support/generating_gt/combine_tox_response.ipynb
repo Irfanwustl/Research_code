{
 "cells": [
  {
   "cell_type": "code",
   "execution_count": 1,
   "metadata": {},
   "outputs": [
    {
     "data": {
      "text/html": [
       "<div>\n",
       "<style scoped>\n",
       "    .dataframe tbody tr th:only-of-type {\n",
       "        vertical-align: middle;\n",
       "    }\n",
       "\n",
       "    .dataframe tbody tr th {\n",
       "        vertical-align: top;\n",
       "    }\n",
       "\n",
       "    .dataframe thead th {\n",
       "        text-align: right;\n",
       "    }\n",
       "</style>\n",
       "<table border=\"1\" class=\"dataframe\">\n",
       "  <thead>\n",
       "    <tr style=\"text-align: right;\">\n",
       "      <th></th>\n",
       "      <th>ICI response status</th>\n",
       "      <th>Metastatic melanoma subtype</th>\n",
       "      <th>ICI regimen</th>\n",
       "    </tr>\n",
       "    <tr>\n",
       "      <th>YU_ID</th>\n",
       "      <th></th>\n",
       "      <th></th>\n",
       "      <th></th>\n",
       "    </tr>\n",
       "  </thead>\n",
       "  <tbody>\n",
       "    <tr>\n",
       "      <th>YUMAGIE</th>\n",
       "      <td>?</td>\n",
       "      <td>?</td>\n",
       "      <td>Combination</td>\n",
       "    </tr>\n",
       "    <tr>\n",
       "      <th>YUNEXUS</th>\n",
       "      <td>?</td>\n",
       "      <td>Uveal</td>\n",
       "      <td>Combination</td>\n",
       "    </tr>\n",
       "    <tr>\n",
       "      <th>YUZERU</th>\n",
       "      <td>DCB</td>\n",
       "      <td>Sun-exposed</td>\n",
       "      <td>Anti-PD1</td>\n",
       "    </tr>\n",
       "    <tr>\n",
       "      <th>YUDAB</th>\n",
       "      <td>NDB</td>\n",
       "      <td>Sun-exposed</td>\n",
       "      <td>Anti-PD1</td>\n",
       "    </tr>\n",
       "    <tr>\n",
       "      <th>YUFARM</th>\n",
       "      <td>NDB</td>\n",
       "      <td>Acral</td>\n",
       "      <td>Anti-PD1</td>\n",
       "    </tr>\n",
       "  </tbody>\n",
       "</table>\n",
       "</div>"
      ],
      "text/plain": [
       "        ICI response status Metastatic melanoma subtype  ICI regimen\n",
       "YU_ID                                                               \n",
       "YUMAGIE                   ?                           ?  Combination\n",
       "YUNEXUS                   ?                       Uveal  Combination\n",
       "YUZERU                  DCB                 Sun-exposed     Anti-PD1\n",
       "YUDAB                   NDB                 Sun-exposed     Anti-PD1\n",
       "YUFARM                  NDB                       Acral     Anti-PD1"
      ]
     },
     "execution_count": 1,
     "metadata": {},
     "output_type": "execute_result"
    }
   ],
   "source": [
    "import pandas as pd\n",
    "responsefile='Response.txt'\n",
    "toxfile='TOX.txt'\n",
    "\n",
    "responsedf=pd.read_csv(responsefile,sep='\\t',index_col='YU_ID')\n",
    "toxdf=pd.read_csv(toxfile,sep='\\t',index_col='YU_ID')\n",
    "\n",
    "\n",
    "responsedf.head()"
   ]
  },
  {
   "cell_type": "code",
   "execution_count": 2,
   "metadata": {},
   "outputs": [
    {
     "data": {
      "text/html": [
       "<div>\n",
       "<style scoped>\n",
       "    .dataframe tbody tr th:only-of-type {\n",
       "        vertical-align: middle;\n",
       "    }\n",
       "\n",
       "    .dataframe tbody tr th {\n",
       "        vertical-align: top;\n",
       "    }\n",
       "\n",
       "    .dataframe thead th {\n",
       "        text-align: right;\n",
       "    }\n",
       "</style>\n",
       "<table border=\"1\" class=\"dataframe\">\n",
       "  <thead>\n",
       "    <tr style=\"text-align: right;\">\n",
       "      <th></th>\n",
       "      <th>Toxicity</th>\n",
       "    </tr>\n",
       "    <tr>\n",
       "      <th>YU_ID</th>\n",
       "      <th></th>\n",
       "    </tr>\n",
       "  </thead>\n",
       "  <tbody>\n",
       "    <tr>\n",
       "      <th>YUARGE</th>\n",
       "      <td>0</td>\n",
       "    </tr>\n",
       "    <tr>\n",
       "      <th>YUBAIX</th>\n",
       "      <td>3</td>\n",
       "    </tr>\n",
       "    <tr>\n",
       "      <th>YUBIFO</th>\n",
       "      <td>0</td>\n",
       "    </tr>\n",
       "    <tr>\n",
       "      <th>YUBLIT</th>\n",
       "      <td>2</td>\n",
       "    </tr>\n",
       "    <tr>\n",
       "      <th>YUBRET</th>\n",
       "      <td>2</td>\n",
       "    </tr>\n",
       "  </tbody>\n",
       "</table>\n",
       "</div>"
      ],
      "text/plain": [
       "       Toxicity\n",
       "YU_ID          \n",
       "YUARGE        0\n",
       "YUBAIX        3\n",
       "YUBIFO        0\n",
       "YUBLIT        2\n",
       "YUBRET        2"
      ]
     },
     "execution_count": 2,
     "metadata": {},
     "output_type": "execute_result"
    }
   ],
   "source": [
    "toxdf.head()"
   ]
  },
  {
   "cell_type": "code",
   "execution_count": 3,
   "metadata": {},
   "outputs": [
    {
     "data": {
      "text/plain": [
       "(24, 4)"
      ]
     },
     "execution_count": 3,
     "metadata": {},
     "output_type": "execute_result"
    }
   ],
   "source": [
    "merged=responsedf.merge(toxdf,how='left',left_index=True,right_index=True)\n",
    "merged.shape"
   ]
  },
  {
   "cell_type": "code",
   "execution_count": 4,
   "metadata": {},
   "outputs": [],
   "source": [
    "merged.to_csv(responsefile+\"_merged.txt\",sep='\\t',na_rep='NA')"
   ]
  }
 ],
 "metadata": {
  "kernelspec": {
   "display_name": "Python 3",
   "language": "python",
   "name": "python3"
  },
  "language_info": {
   "codemirror_mode": {
    "name": "ipython",
    "version": 3
   },
   "file_extension": ".py",
   "mimetype": "text/x-python",
   "name": "python",
   "nbconvert_exporter": "python",
   "pygments_lexer": "ipython3",
   "version": "3.6.7"
  }
 },
 "nbformat": 4,
 "nbformat_minor": 2
}
