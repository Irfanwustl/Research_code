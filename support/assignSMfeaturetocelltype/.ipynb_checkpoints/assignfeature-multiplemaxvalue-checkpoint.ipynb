{
 "cells": [
  {
   "cell_type": "code",
   "execution_count": 1,
   "metadata": {},
   "outputs": [],
   "source": [
    "import pandas as pd"
   ]
  },
  {
   "cell_type": "code",
   "execution_count": 2,
   "metadata": {},
   "outputs": [],
   "source": [
    "SM=\"/Users/irffanalahi/Research/weekly/for_10_1_20/SM/run/test/q25d1.txt_inverted_head.txt_SM/SigMatrix\"  #\"/Users/irffanalahi/Research/Research_code/MONOD2/CiberintoMHB/blumhb50SM.txt\" ###must be the SM\n",
    "outname=SM+\"_assigned.txt\"\n",
    "SMdf=pd.read_csv(SM,index_col=0,sep=\"\\t\")"
   ]
  },
  {
   "cell_type": "code",
   "execution_count": 3,
   "metadata": {},
   "outputs": [
    {
     "data": {
      "text/html": [
       "<div>\n",
       "<style scoped>\n",
       "    .dataframe tbody tr th:only-of-type {\n",
       "        vertical-align: middle;\n",
       "    }\n",
       "\n",
       "    .dataframe tbody tr th {\n",
       "        vertical-align: top;\n",
       "    }\n",
       "\n",
       "    .dataframe thead th {\n",
       "        text-align: right;\n",
       "    }\n",
       "</style>\n",
       "<table border=\"1\" class=\"dataframe\">\n",
       "  <thead>\n",
       "    <tr style=\"text-align: right;\">\n",
       "      <th></th>\n",
       "      <th>PBL</th>\n",
       "      <th>TIL</th>\n",
       "      <th>EPCAM</th>\n",
       "    </tr>\n",
       "    <tr>\n",
       "      <th>NAME</th>\n",
       "      <th></th>\n",
       "      <th></th>\n",
       "      <th></th>\n",
       "    </tr>\n",
       "  </thead>\n",
       "  <tbody>\n",
       "    <tr>\n",
       "      <th>chr1:778696</th>\n",
       "      <td>83.0</td>\n",
       "      <td>101.0</td>\n",
       "      <td>101.0</td>\n",
       "    </tr>\n",
       "    <tr>\n",
       "      <th>chr1:778680</th>\n",
       "      <td>85.4</td>\n",
       "      <td>101.0</td>\n",
       "      <td>101.0</td>\n",
       "    </tr>\n",
       "    <tr>\n",
       "      <th>chr1:778691</th>\n",
       "      <td>83.9</td>\n",
       "      <td>101.0</td>\n",
       "      <td>101.0</td>\n",
       "    </tr>\n",
       "    <tr>\n",
       "      <th>chr1:631742</th>\n",
       "      <td>9.7</td>\n",
       "      <td>21.0</td>\n",
       "      <td>72.0</td>\n",
       "    </tr>\n",
       "    <tr>\n",
       "      <th>chr1:631787</th>\n",
       "      <td>25.9</td>\n",
       "      <td>30.0</td>\n",
       "      <td>85.9</td>\n",
       "    </tr>\n",
       "  </tbody>\n",
       "</table>\n",
       "</div>"
      ],
      "text/plain": [
       "              PBL    TIL  EPCAM\n",
       "NAME                           \n",
       "chr1:778696  83.0  101.0  101.0\n",
       "chr1:778680  85.4  101.0  101.0\n",
       "chr1:778691  83.9  101.0  101.0\n",
       "chr1:631742   9.7   21.0   72.0\n",
       "chr1:631787  25.9   30.0   85.9"
      ]
     },
     "execution_count": 3,
     "metadata": {},
     "output_type": "execute_result"
    }
   ],
   "source": [
    "SMdf.head()"
   ]
  },
  {
   "cell_type": "code",
   "execution_count": 4,
   "metadata": {},
   "outputs": [],
   "source": [
    "maxValueIndexObj = SMdf.idxmax(axis=1)\n",
    "maxValueIndexdf=pd.DataFrame({\"celltype\":maxValueIndexObj})\n",
    "maxValueIndexdf.head()\n",
    "maxValueIndexdf.to_csv(outname,sep=\"\\t\")"
   ]
  },
  {
   "cell_type": "code",
   "execution_count": 5,
   "metadata": {},
   "outputs": [
    {
     "data": {
      "text/html": [
       "<div>\n",
       "<style scoped>\n",
       "    .dataframe tbody tr th:only-of-type {\n",
       "        vertical-align: middle;\n",
       "    }\n",
       "\n",
       "    .dataframe tbody tr th {\n",
       "        vertical-align: top;\n",
       "    }\n",
       "\n",
       "    .dataframe thead th {\n",
       "        text-align: right;\n",
       "    }\n",
       "</style>\n",
       "<table border=\"1\" class=\"dataframe\">\n",
       "  <thead>\n",
       "    <tr style=\"text-align: right;\">\n",
       "      <th></th>\n",
       "      <th>PBL</th>\n",
       "      <th>TIL</th>\n",
       "      <th>EPCAM</th>\n",
       "      <th>celltype</th>\n",
       "    </tr>\n",
       "    <tr>\n",
       "      <th>NAME</th>\n",
       "      <th></th>\n",
       "      <th></th>\n",
       "      <th></th>\n",
       "      <th></th>\n",
       "    </tr>\n",
       "  </thead>\n",
       "  <tbody>\n",
       "    <tr>\n",
       "      <th>chr1:778696</th>\n",
       "      <td>83.0</td>\n",
       "      <td>101.0</td>\n",
       "      <td>101.0</td>\n",
       "      <td>TIL</td>\n",
       "    </tr>\n",
       "    <tr>\n",
       "      <th>chr1:778680</th>\n",
       "      <td>85.4</td>\n",
       "      <td>101.0</td>\n",
       "      <td>101.0</td>\n",
       "      <td>TIL</td>\n",
       "    </tr>\n",
       "    <tr>\n",
       "      <th>chr1:778691</th>\n",
       "      <td>83.9</td>\n",
       "      <td>101.0</td>\n",
       "      <td>101.0</td>\n",
       "      <td>TIL</td>\n",
       "    </tr>\n",
       "    <tr>\n",
       "      <th>chr1:631742</th>\n",
       "      <td>9.7</td>\n",
       "      <td>21.0</td>\n",
       "      <td>72.0</td>\n",
       "      <td>EPCAM</td>\n",
       "    </tr>\n",
       "    <tr>\n",
       "      <th>chr1:631787</th>\n",
       "      <td>25.9</td>\n",
       "      <td>30.0</td>\n",
       "      <td>85.9</td>\n",
       "      <td>EPCAM</td>\n",
       "    </tr>\n",
       "  </tbody>\n",
       "</table>\n",
       "</div>"
      ],
      "text/plain": [
       "              PBL    TIL  EPCAM celltype\n",
       "NAME                                    \n",
       "chr1:778696  83.0  101.0  101.0      TIL\n",
       "chr1:778680  85.4  101.0  101.0      TIL\n",
       "chr1:778691  83.9  101.0  101.0      TIL\n",
       "chr1:631742   9.7   21.0   72.0    EPCAM\n",
       "chr1:631787  25.9   30.0   85.9    EPCAM"
      ]
     },
     "execution_count": 5,
     "metadata": {},
     "output_type": "execute_result"
    }
   ],
   "source": [
    "outdf=pd.merge(SMdf, maxValueIndexdf, left_index=True, right_index=True)\n",
    "outdf.head()"
   ]
  }
 ],
 "metadata": {
  "kernelspec": {
   "display_name": "Python 3",
   "language": "python",
   "name": "python3"
  },
  "language_info": {
   "codemirror_mode": {
    "name": "ipython",
    "version": 3
   },
   "file_extension": ".py",
   "mimetype": "text/x-python",
   "name": "python",
   "nbconvert_exporter": "python",
   "pygments_lexer": "ipython3",
   "version": "3.6.7"
  }
 },
 "nbformat": 4,
 "nbformat_minor": 2
}
