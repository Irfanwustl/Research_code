{
 "cells": [
  {
   "cell_type": "code",
   "execution_count": 1,
   "metadata": {},
   "outputs": [],
   "source": [
    "import pandas as pd"
   ]
  },
  {
   "cell_type": "code",
   "execution_count": 2,
   "metadata": {},
   "outputs": [],
   "source": [
    "sm=\"CD4CD8poormanMHB_hypo.txt_assigned_withsortedpos.txt_mhb_head\"#\"/Users/irffanalahi/Research/Research_code/MHB_per_read/ReadBasedDecon2/data/corres_pos_cgr1-1222701_nodup_sorted_cpg_testSM.txt\"#\"data/smMHB_cd4_cd8_g50_hypo_assigned_maual_list_testing.txt_mhb\"#\"data/corres_pos_cgr1-1222701_nodup_sorted_cpg_testSM.txt\"\n",
    "sm=pd.read_csv(sm, sep=\"\\t\")"
   ]
  },
  {
   "cell_type": "code",
   "execution_count": 3,
   "metadata": {},
   "outputs": [
    {
     "data": {
      "text/html": [
       "<div>\n",
       "<style scoped>\n",
       "    .dataframe tbody tr th:only-of-type {\n",
       "        vertical-align: middle;\n",
       "    }\n",
       "\n",
       "    .dataframe tbody tr th {\n",
       "        vertical-align: top;\n",
       "    }\n",
       "\n",
       "    .dataframe thead th {\n",
       "        text-align: right;\n",
       "    }\n",
       "</style>\n",
       "<table border=\"1\" class=\"dataframe\">\n",
       "  <thead>\n",
       "    <tr style=\"text-align: right;\">\n",
       "      <th></th>\n",
       "      <th>chrom</th>\n",
       "      <th>start</th>\n",
       "      <th>end</th>\n",
       "      <th>celltype</th>\n",
       "    </tr>\n",
       "  </thead>\n",
       "  <tbody>\n",
       "    <tr>\n",
       "      <th>0</th>\n",
       "      <td>chr5</td>\n",
       "      <td>133468857</td>\n",
       "      <td>133468859</td>\n",
       "      <td>['CD14']</td>\n",
       "    </tr>\n",
       "    <tr>\n",
       "      <th>1</th>\n",
       "      <td>chr3</td>\n",
       "      <td>12354870</td>\n",
       "      <td>12354872</td>\n",
       "      <td>['CD14']</td>\n",
       "    </tr>\n",
       "    <tr>\n",
       "      <th>2</th>\n",
       "      <td>chr3</td>\n",
       "      <td>43695595</td>\n",
       "      <td>43695597</td>\n",
       "      <td>['CD14']</td>\n",
       "    </tr>\n",
       "    <tr>\n",
       "      <th>3</th>\n",
       "      <td>chr18</td>\n",
       "      <td>58730615</td>\n",
       "      <td>58730617</td>\n",
       "      <td>['CD14']</td>\n",
       "    </tr>\n",
       "    <tr>\n",
       "      <th>4</th>\n",
       "      <td>chr2</td>\n",
       "      <td>101180117</td>\n",
       "      <td>101180119</td>\n",
       "      <td>['CD14']</td>\n",
       "    </tr>\n",
       "  </tbody>\n",
       "</table>\n",
       "</div>"
      ],
      "text/plain": [
       "   chrom      start        end  celltype\n",
       "0   chr5  133468857  133468859  ['CD14']\n",
       "1   chr3   12354870   12354872  ['CD14']\n",
       "2   chr3   43695595   43695597  ['CD14']\n",
       "3  chr18   58730615   58730617  ['CD14']\n",
       "4   chr2  101180117  101180119  ['CD14']"
      ]
     },
     "execution_count": 3,
     "metadata": {},
     "output_type": "execute_result"
    }
   ],
   "source": [
    "sm.head()"
   ]
  },
  {
   "cell_type": "code",
   "execution_count": 4,
   "metadata": {
    "scrolled": true
   },
   "outputs": [
    {
     "name": "stdout",
     "output_type": "stream",
     "text": [
      "<class 'str'>\n",
      "<class 'str'>\n",
      "<class 'str'>\n",
      "<class 'str'>\n",
      "<class 'str'>\n",
      "<class 'str'>\n",
      "<class 'str'>\n",
      "<class 'str'>\n",
      "<class 'str'>\n"
     ]
    }
   ],
   "source": [
    "for index, row in sm.iterrows():\n",
    "    print(type(row['celltype']))\n",
    "    "
   ]
  },
  {
   "cell_type": "code",
   "execution_count": 5,
   "metadata": {},
   "outputs": [
    {
     "data": {
      "text/plain": [
       "0    ['CD14']\n",
       "1    ['CD14']\n",
       "2    ['CD14']\n",
       "3    ['CD14']\n",
       "4    ['CD14']\n",
       "5    ['CD14']\n",
       "6    ['CD14']\n",
       "7    ['CD14']\n",
       "8    ['CD14']\n",
       "Name: celltype, dtype: object"
      ]
     },
     "execution_count": 5,
     "metadata": {},
     "output_type": "execute_result"
    }
   ],
   "source": [
    "sm.celltype"
   ]
  }
 ],
 "metadata": {
  "kernelspec": {
   "display_name": "Python 3",
   "language": "python",
   "name": "python3"
  },
  "language_info": {
   "codemirror_mode": {
    "name": "ipython",
    "version": 3
   },
   "file_extension": ".py",
   "mimetype": "text/x-python",
   "name": "python",
   "nbconvert_exporter": "python",
   "pygments_lexer": "ipython3",
   "version": "3.6.7"
  }
 },
 "nbformat": 4,
 "nbformat_minor": 2
}
