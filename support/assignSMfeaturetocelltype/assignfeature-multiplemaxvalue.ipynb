{
 "cells": [
  {
   "cell_type": "code",
   "execution_count": 1,
   "metadata": {},
   "outputs": [],
   "source": [
    "import pandas as pd\n",
    "import numpy as np\n",
    "import itertools as IT\n",
    "import operator"
   ]
  },
  {
   "cell_type": "code",
   "execution_count": 2,
   "metadata": {},
   "outputs": [],
   "source": [
    "SM=\"/Users/irffanalahi/Research/weekly/for_10_1_20/SM/poormanMHB/cd4cd8/processthelonglist/CD4CD8poormanMHB_hypo.txt\"  #\"/Users/irffanalahi/Research/Research_code/MONOD2/CiberintoMHB/blumhb50SM.txt\" ###must be the SM\n",
    "outname=SM+\"_assigned.txt\"\n",
    "SMdf=pd.read_csv(SM,index_col=0,sep=\"\\t\")"
   ]
  },
  {
   "cell_type": "code",
   "execution_count": 3,
   "metadata": {},
   "outputs": [
    {
     "data": {
      "text/html": [
       "<div>\n",
       "<style scoped>\n",
       "    .dataframe tbody tr th:only-of-type {\n",
       "        vertical-align: middle;\n",
       "    }\n",
       "\n",
       "    .dataframe tbody tr th {\n",
       "        vertical-align: top;\n",
       "    }\n",
       "\n",
       "    .dataframe thead th {\n",
       "        text-align: right;\n",
       "    }\n",
       "</style>\n",
       "<table border=\"1\" class=\"dataframe\">\n",
       "  <thead>\n",
       "    <tr style=\"text-align: right;\">\n",
       "      <th></th>\n",
       "      <th>CD14</th>\n",
       "      <th>CD19</th>\n",
       "      <th>CD4CD8</th>\n",
       "      <th>CD56</th>\n",
       "    </tr>\n",
       "    <tr>\n",
       "      <th>NAME</th>\n",
       "      <th></th>\n",
       "      <th></th>\n",
       "      <th></th>\n",
       "      <th></th>\n",
       "    </tr>\n",
       "  </thead>\n",
       "  <tbody>\n",
       "    <tr>\n",
       "      <th>chr5:133468858</th>\n",
       "      <td>101.0</td>\n",
       "      <td>1.0</td>\n",
       "      <td>1.0</td>\n",
       "      <td>1.0</td>\n",
       "    </tr>\n",
       "    <tr>\n",
       "      <th>chr3:12354871</th>\n",
       "      <td>91.9</td>\n",
       "      <td>1.0</td>\n",
       "      <td>1.0</td>\n",
       "      <td>1.0</td>\n",
       "    </tr>\n",
       "    <tr>\n",
       "      <th>chr3:43695596</th>\n",
       "      <td>101.0</td>\n",
       "      <td>1.0</td>\n",
       "      <td>1.0</td>\n",
       "      <td>1.0</td>\n",
       "    </tr>\n",
       "    <tr>\n",
       "      <th>chr18:58730616</th>\n",
       "      <td>89.2</td>\n",
       "      <td>1.0</td>\n",
       "      <td>1.0</td>\n",
       "      <td>1.0</td>\n",
       "    </tr>\n",
       "    <tr>\n",
       "      <th>chr2:101180118</th>\n",
       "      <td>101.0</td>\n",
       "      <td>1.0</td>\n",
       "      <td>1.0</td>\n",
       "      <td>1.0</td>\n",
       "    </tr>\n",
       "  </tbody>\n",
       "</table>\n",
       "</div>"
      ],
      "text/plain": [
       "                 CD14  CD19  CD4CD8  CD56\n",
       "NAME                                     \n",
       "chr5:133468858  101.0   1.0     1.0   1.0\n",
       "chr3:12354871    91.9   1.0     1.0   1.0\n",
       "chr3:43695596   101.0   1.0     1.0   1.0\n",
       "chr18:58730616   89.2   1.0     1.0   1.0\n",
       "chr2:101180118  101.0   1.0     1.0   1.0"
      ]
     },
     "execution_count": 3,
     "metadata": {},
     "output_type": "execute_result"
    }
   ],
   "source": [
    "SMdf.head()"
   ]
  },
  {
   "cell_type": "code",
   "execution_count": 4,
   "metadata": {},
   "outputs": [],
   "source": [
    "rowmax = SMdf.max(axis=1)\n",
    "idx = np.where(SMdf.values == rowmax[:,None])\n",
    "\n",
    "groups = IT.groupby(zip(*idx), key=operator.itemgetter(0))\n",
    "\n",
    "#[[SMdf.columns[j] for i, j in grp] for k, grp in groups]"
   ]
  },
  {
   "cell_type": "code",
   "execution_count": 5,
   "metadata": {},
   "outputs": [
    {
     "name": "stdout",
     "output_type": "stream",
     "text": [
      "               celltype\n",
      "NAME                   \n",
      "chr5:133468858   [CD14]\n",
      "chr3:12354871    [CD14]\n",
      "chr3:43695596    [CD14]\n",
      "chr18:58730616   [CD14]\n",
      "chr2:101180118   [CD14]\n"
     ]
    }
   ],
   "source": [
    "maxValueIndexObj = [[SMdf.columns[j] for i, j in grp] for k, grp in groups]#SMdf.idxmax(axis=1)\n",
    "maxValueIndexdf=pd.DataFrame({\"celltype\":maxValueIndexObj},index=SMdf.index)\n",
    "\n",
    "print(maxValueIndexdf.head())\n",
    "maxValueIndexdf.to_csv(outname,sep=\"\\t\")"
   ]
  },
  {
   "cell_type": "code",
   "execution_count": 6,
   "metadata": {},
   "outputs": [
    {
     "data": {
      "text/html": [
       "<div>\n",
       "<style scoped>\n",
       "    .dataframe tbody tr th:only-of-type {\n",
       "        vertical-align: middle;\n",
       "    }\n",
       "\n",
       "    .dataframe tbody tr th {\n",
       "        vertical-align: top;\n",
       "    }\n",
       "\n",
       "    .dataframe thead th {\n",
       "        text-align: right;\n",
       "    }\n",
       "</style>\n",
       "<table border=\"1\" class=\"dataframe\">\n",
       "  <thead>\n",
       "    <tr style=\"text-align: right;\">\n",
       "      <th></th>\n",
       "      <th>CD14</th>\n",
       "      <th>CD19</th>\n",
       "      <th>CD4CD8</th>\n",
       "      <th>CD56</th>\n",
       "      <th>celltype</th>\n",
       "    </tr>\n",
       "    <tr>\n",
       "      <th>NAME</th>\n",
       "      <th></th>\n",
       "      <th></th>\n",
       "      <th></th>\n",
       "      <th></th>\n",
       "      <th></th>\n",
       "    </tr>\n",
       "  </thead>\n",
       "  <tbody>\n",
       "    <tr>\n",
       "      <th>chr5:133468858</th>\n",
       "      <td>101.0</td>\n",
       "      <td>1.0</td>\n",
       "      <td>1.0</td>\n",
       "      <td>1.0</td>\n",
       "      <td>[CD14]</td>\n",
       "    </tr>\n",
       "    <tr>\n",
       "      <th>chr3:12354871</th>\n",
       "      <td>91.9</td>\n",
       "      <td>1.0</td>\n",
       "      <td>1.0</td>\n",
       "      <td>1.0</td>\n",
       "      <td>[CD14]</td>\n",
       "    </tr>\n",
       "    <tr>\n",
       "      <th>chr3:43695596</th>\n",
       "      <td>101.0</td>\n",
       "      <td>1.0</td>\n",
       "      <td>1.0</td>\n",
       "      <td>1.0</td>\n",
       "      <td>[CD14]</td>\n",
       "    </tr>\n",
       "    <tr>\n",
       "      <th>chr18:58730616</th>\n",
       "      <td>89.2</td>\n",
       "      <td>1.0</td>\n",
       "      <td>1.0</td>\n",
       "      <td>1.0</td>\n",
       "      <td>[CD14]</td>\n",
       "    </tr>\n",
       "    <tr>\n",
       "      <th>chr2:101180118</th>\n",
       "      <td>101.0</td>\n",
       "      <td>1.0</td>\n",
       "      <td>1.0</td>\n",
       "      <td>1.0</td>\n",
       "      <td>[CD14]</td>\n",
       "    </tr>\n",
       "  </tbody>\n",
       "</table>\n",
       "</div>"
      ],
      "text/plain": [
       "                 CD14  CD19  CD4CD8  CD56 celltype\n",
       "NAME                                              \n",
       "chr5:133468858  101.0   1.0     1.0   1.0   [CD14]\n",
       "chr3:12354871    91.9   1.0     1.0   1.0   [CD14]\n",
       "chr3:43695596   101.0   1.0     1.0   1.0   [CD14]\n",
       "chr18:58730616   89.2   1.0     1.0   1.0   [CD14]\n",
       "chr2:101180118  101.0   1.0     1.0   1.0   [CD14]"
      ]
     },
     "execution_count": 6,
     "metadata": {},
     "output_type": "execute_result"
    }
   ],
   "source": [
    "outdf=pd.merge(SMdf, maxValueIndexdf, left_index=True, right_index=True)\n",
    "outdf.head()"
   ]
  }
 ],
 "metadata": {
  "kernelspec": {
   "display_name": "Python 3",
   "language": "python",
   "name": "python3"
  },
  "language_info": {
   "codemirror_mode": {
    "name": "ipython",
    "version": 3
   },
   "file_extension": ".py",
   "mimetype": "text/x-python",
   "name": "python",
   "nbconvert_exporter": "python",
   "pygments_lexer": "ipython3",
   "version": "3.6.7"
  }
 },
 "nbformat": 4,
 "nbformat_minor": 2
}
