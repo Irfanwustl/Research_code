{
 "cells": [
  {
   "cell_type": "code",
   "execution_count": 1,
   "metadata": {},
   "outputs": [],
   "source": [
    "import pandas as pd\n",
    "import numpy as np\n",
    "import itertools as IT\n",
    "import operator"
   ]
  },
  {
   "cell_type": "code",
   "execution_count": 2,
   "metadata": {},
   "outputs": [],
   "source": [
    "SM=\"/Users/irffanalahi/Research/weekly/for_1_21_21/smwithna/genomicfeature2/promdataready_all_matrixCinScaled_inverted_nr0.5_hypo_stat.txt_0.1_0.5_g50.txt\"  #\"/Users/irffanalahi/Research/Research_code/MONOD2/CiberintoMHB/blumhb50SM.txt\" ###must be the SM\n",
    "outname=SM+\"_assigned.txt\"\n",
    "SMdf=pd.read_csv(SM,index_col=0,sep=\"\\t\")"
   ]
  },
  {
   "cell_type": "code",
   "execution_count": 3,
   "metadata": {},
   "outputs": [
    {
     "data": {
      "text/html": [
       "<div>\n",
       "<style scoped>\n",
       "    .dataframe tbody tr th:only-of-type {\n",
       "        vertical-align: middle;\n",
       "    }\n",
       "\n",
       "    .dataframe tbody tr th {\n",
       "        vertical-align: top;\n",
       "    }\n",
       "\n",
       "    .dataframe thead th {\n",
       "        text-align: right;\n",
       "    }\n",
       "</style>\n",
       "<table border=\"1\" class=\"dataframe\">\n",
       "  <thead>\n",
       "    <tr style=\"text-align: right;\">\n",
       "      <th></th>\n",
       "      <th>PBL</th>\n",
       "      <th>TIL</th>\n",
       "      <th>MEL_TUMOR</th>\n",
       "    </tr>\n",
       "    <tr>\n",
       "      <th>position</th>\n",
       "      <th></th>\n",
       "      <th></th>\n",
       "      <th></th>\n",
       "    </tr>\n",
       "  </thead>\n",
       "  <tbody>\n",
       "    <tr>\n",
       "      <th>chrX:92459728</th>\n",
       "      <td>1.0</td>\n",
       "      <td>1.0</td>\n",
       "      <td>101.0</td>\n",
       "    </tr>\n",
       "    <tr>\n",
       "      <th>chr9:125012942</th>\n",
       "      <td>1.0</td>\n",
       "      <td>1.0</td>\n",
       "      <td>101.0</td>\n",
       "    </tr>\n",
       "    <tr>\n",
       "      <th>chr3:42922140</th>\n",
       "      <td>1.0</td>\n",
       "      <td>1.0</td>\n",
       "      <td>101.0</td>\n",
       "    </tr>\n",
       "    <tr>\n",
       "      <th>chr5:137538755</th>\n",
       "      <td>1.0</td>\n",
       "      <td>1.0</td>\n",
       "      <td>101.0</td>\n",
       "    </tr>\n",
       "    <tr>\n",
       "      <th>chr3:77164551</th>\n",
       "      <td>1.0</td>\n",
       "      <td>1.0</td>\n",
       "      <td>101.0</td>\n",
       "    </tr>\n",
       "  </tbody>\n",
       "</table>\n",
       "</div>"
      ],
      "text/plain": [
       "                PBL  TIL  MEL_TUMOR\n",
       "position                           \n",
       "chrX:92459728   1.0  1.0      101.0\n",
       "chr9:125012942  1.0  1.0      101.0\n",
       "chr3:42922140   1.0  1.0      101.0\n",
       "chr5:137538755  1.0  1.0      101.0\n",
       "chr3:77164551   1.0  1.0      101.0"
      ]
     },
     "execution_count": 3,
     "metadata": {},
     "output_type": "execute_result"
    }
   ],
   "source": [
    "SMdf.head()"
   ]
  },
  {
   "cell_type": "code",
   "execution_count": 4,
   "metadata": {},
   "outputs": [],
   "source": [
    "rowmax = SMdf.max(axis=1)\n",
    "idx = np.where(SMdf.values == rowmax[:,None])\n",
    "\n",
    "groups = IT.groupby(zip(*idx), key=operator.itemgetter(0))\n",
    "\n",
    "#[[SMdf.columns[j] for i, j in grp] for k, grp in groups]"
   ]
  },
  {
   "cell_type": "code",
   "execution_count": 5,
   "metadata": {},
   "outputs": [
    {
     "name": "stdout",
     "output_type": "stream",
     "text": [
      "                   celltype\n",
      "position                   \n",
      "chrX:92459728   [MEL_TUMOR]\n",
      "chr9:125012942  [MEL_TUMOR]\n",
      "chr3:42922140   [MEL_TUMOR]\n",
      "chr5:137538755  [MEL_TUMOR]\n",
      "chr3:77164551   [MEL_TUMOR]\n"
     ]
    }
   ],
   "source": [
    "maxValueIndexObj = [[SMdf.columns[j] for i, j in grp] for k, grp in groups]#SMdf.idxmax(axis=1)\n",
    "maxValueIndexdf=pd.DataFrame({\"celltype\":maxValueIndexObj},index=SMdf.index)\n",
    "\n",
    "print(maxValueIndexdf.head())\n",
    "maxValueIndexdf.to_csv(outname,sep=\"\\t\")"
   ]
  },
  {
   "cell_type": "code",
   "execution_count": 6,
   "metadata": {},
   "outputs": [
    {
     "data": {
      "text/html": [
       "<div>\n",
       "<style scoped>\n",
       "    .dataframe tbody tr th:only-of-type {\n",
       "        vertical-align: middle;\n",
       "    }\n",
       "\n",
       "    .dataframe tbody tr th {\n",
       "        vertical-align: top;\n",
       "    }\n",
       "\n",
       "    .dataframe thead th {\n",
       "        text-align: right;\n",
       "    }\n",
       "</style>\n",
       "<table border=\"1\" class=\"dataframe\">\n",
       "  <thead>\n",
       "    <tr style=\"text-align: right;\">\n",
       "      <th></th>\n",
       "      <th>PBL</th>\n",
       "      <th>TIL</th>\n",
       "      <th>MEL_TUMOR</th>\n",
       "      <th>celltype</th>\n",
       "    </tr>\n",
       "    <tr>\n",
       "      <th>position</th>\n",
       "      <th></th>\n",
       "      <th></th>\n",
       "      <th></th>\n",
       "      <th></th>\n",
       "    </tr>\n",
       "  </thead>\n",
       "  <tbody>\n",
       "    <tr>\n",
       "      <th>chrX:92459728</th>\n",
       "      <td>1.0</td>\n",
       "      <td>1.0</td>\n",
       "      <td>101.0</td>\n",
       "      <td>[MEL_TUMOR]</td>\n",
       "    </tr>\n",
       "    <tr>\n",
       "      <th>chr9:125012942</th>\n",
       "      <td>1.0</td>\n",
       "      <td>1.0</td>\n",
       "      <td>101.0</td>\n",
       "      <td>[MEL_TUMOR]</td>\n",
       "    </tr>\n",
       "    <tr>\n",
       "      <th>chr3:42922140</th>\n",
       "      <td>1.0</td>\n",
       "      <td>1.0</td>\n",
       "      <td>101.0</td>\n",
       "      <td>[MEL_TUMOR]</td>\n",
       "    </tr>\n",
       "    <tr>\n",
       "      <th>chr5:137538755</th>\n",
       "      <td>1.0</td>\n",
       "      <td>1.0</td>\n",
       "      <td>101.0</td>\n",
       "      <td>[MEL_TUMOR]</td>\n",
       "    </tr>\n",
       "    <tr>\n",
       "      <th>chr3:77164551</th>\n",
       "      <td>1.0</td>\n",
       "      <td>1.0</td>\n",
       "      <td>101.0</td>\n",
       "      <td>[MEL_TUMOR]</td>\n",
       "    </tr>\n",
       "  </tbody>\n",
       "</table>\n",
       "</div>"
      ],
      "text/plain": [
       "                PBL  TIL  MEL_TUMOR     celltype\n",
       "position                                        \n",
       "chrX:92459728   1.0  1.0      101.0  [MEL_TUMOR]\n",
       "chr9:125012942  1.0  1.0      101.0  [MEL_TUMOR]\n",
       "chr3:42922140   1.0  1.0      101.0  [MEL_TUMOR]\n",
       "chr5:137538755  1.0  1.0      101.0  [MEL_TUMOR]\n",
       "chr3:77164551   1.0  1.0      101.0  [MEL_TUMOR]"
      ]
     },
     "execution_count": 6,
     "metadata": {},
     "output_type": "execute_result"
    }
   ],
   "source": [
    "outdf=pd.merge(SMdf, maxValueIndexdf, left_index=True, right_index=True)\n",
    "outdf.head()"
   ]
  }
 ],
 "metadata": {
  "kernelspec": {
   "display_name": "Python 3",
   "language": "python",
   "name": "python3"
  },
  "language_info": {
   "codemirror_mode": {
    "name": "ipython",
    "version": 3
   },
   "file_extension": ".py",
   "mimetype": "text/x-python",
   "name": "python",
   "nbconvert_exporter": "python",
   "pygments_lexer": "ipython3",
   "version": "3.6.7"
  }
 },
 "nbformat": 4,
 "nbformat_minor": 2
}
