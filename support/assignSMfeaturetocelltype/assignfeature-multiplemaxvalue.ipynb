{
 "cells": [
  {
   "cell_type": "code",
   "execution_count": 1,
   "metadata": {},
   "outputs": [],
   "source": [
    "import pandas as pd\n",
    "import numpy as np\n",
    "import itertools as IT\n",
    "import operator"
   ]
  },
  {
   "cell_type": "code",
   "execution_count": 2,
   "metadata": {},
   "outputs": [],
   "source": [
    "SM=\"/Users/irffanalahi/Research/weekly/for_10_15_20/singleton/bluallpblhypo_stat.txt_0.01_2_g50.txt\"  #\"/Users/irffanalahi/Research/Research_code/MONOD2/CiberintoMHB/blumhb50SM.txt\" ###must be the SM\n",
    "outname=SM+\"_assigned.txt\"\n",
    "SMdf=pd.read_csv(SM,index_col=0,sep=\"\\t\")"
   ]
  },
  {
   "cell_type": "code",
   "execution_count": 3,
   "metadata": {},
   "outputs": [
    {
     "data": {
      "text/html": [
       "<div>\n",
       "<style scoped>\n",
       "    .dataframe tbody tr th:only-of-type {\n",
       "        vertical-align: middle;\n",
       "    }\n",
       "\n",
       "    .dataframe tbody tr th {\n",
       "        vertical-align: top;\n",
       "    }\n",
       "\n",
       "    .dataframe thead th {\n",
       "        text-align: right;\n",
       "    }\n",
       "</style>\n",
       "<table border=\"1\" class=\"dataframe\">\n",
       "  <thead>\n",
       "    <tr style=\"text-align: right;\">\n",
       "      <th></th>\n",
       "      <th>CD14</th>\n",
       "      <th>CD19</th>\n",
       "      <th>CD4</th>\n",
       "      <th>CD8</th>\n",
       "      <th>CD56</th>\n",
       "    </tr>\n",
       "    <tr>\n",
       "      <th>position</th>\n",
       "      <th></th>\n",
       "      <th></th>\n",
       "      <th></th>\n",
       "      <th></th>\n",
       "      <th></th>\n",
       "    </tr>\n",
       "  </thead>\n",
       "  <tbody>\n",
       "    <tr>\n",
       "      <th>chr12:68530075</th>\n",
       "      <td>1.0</td>\n",
       "      <td>1.0</td>\n",
       "      <td>1.0</td>\n",
       "      <td>1.0</td>\n",
       "      <td>95.4</td>\n",
       "    </tr>\n",
       "    <tr>\n",
       "      <th>chr13:114070979</th>\n",
       "      <td>1.0</td>\n",
       "      <td>1.0</td>\n",
       "      <td>1.0</td>\n",
       "      <td>1.0</td>\n",
       "      <td>91.9</td>\n",
       "    </tr>\n",
       "    <tr>\n",
       "      <th>chr18:49815077</th>\n",
       "      <td>1.0</td>\n",
       "      <td>1.0</td>\n",
       "      <td>1.0</td>\n",
       "      <td>1.0</td>\n",
       "      <td>85.6</td>\n",
       "    </tr>\n",
       "    <tr>\n",
       "      <th>chr2:202366912</th>\n",
       "      <td>1.0</td>\n",
       "      <td>1.0</td>\n",
       "      <td>1.0</td>\n",
       "      <td>6.7</td>\n",
       "      <td>97.6</td>\n",
       "    </tr>\n",
       "    <tr>\n",
       "      <th>chr3:172655561</th>\n",
       "      <td>1.0</td>\n",
       "      <td>1.0</td>\n",
       "      <td>1.0</td>\n",
       "      <td>1.0</td>\n",
       "      <td>96.2</td>\n",
       "    </tr>\n",
       "  </tbody>\n",
       "</table>\n",
       "</div>"
      ],
      "text/plain": [
       "                 CD14  CD19  CD4  CD8  CD56\n",
       "position                                   \n",
       "chr12:68530075    1.0   1.0  1.0  1.0  95.4\n",
       "chr13:114070979   1.0   1.0  1.0  1.0  91.9\n",
       "chr18:49815077    1.0   1.0  1.0  1.0  85.6\n",
       "chr2:202366912    1.0   1.0  1.0  6.7  97.6\n",
       "chr3:172655561    1.0   1.0  1.0  1.0  96.2"
      ]
     },
     "execution_count": 3,
     "metadata": {},
     "output_type": "execute_result"
    }
   ],
   "source": [
    "SMdf.head()"
   ]
  },
  {
   "cell_type": "code",
   "execution_count": 4,
   "metadata": {},
   "outputs": [],
   "source": [
    "rowmax = SMdf.max(axis=1)\n",
    "idx = np.where(SMdf.values == rowmax[:,None])\n",
    "\n",
    "groups = IT.groupby(zip(*idx), key=operator.itemgetter(0))\n",
    "\n",
    "#[[SMdf.columns[j] for i, j in grp] for k, grp in groups]"
   ]
  },
  {
   "cell_type": "code",
   "execution_count": 5,
   "metadata": {},
   "outputs": [
    {
     "name": "stdout",
     "output_type": "stream",
     "text": [
      "                celltype\n",
      "position                \n",
      "chr12:68530075    [CD56]\n",
      "chr13:114070979   [CD56]\n",
      "chr18:49815077    [CD56]\n",
      "chr2:202366912    [CD56]\n",
      "chr3:172655561    [CD56]\n"
     ]
    }
   ],
   "source": [
    "maxValueIndexObj = [[SMdf.columns[j] for i, j in grp] for k, grp in groups]#SMdf.idxmax(axis=1)\n",
    "maxValueIndexdf=pd.DataFrame({\"celltype\":maxValueIndexObj},index=SMdf.index)\n",
    "\n",
    "print(maxValueIndexdf.head())\n",
    "maxValueIndexdf.to_csv(outname,sep=\"\\t\")"
   ]
  },
  {
   "cell_type": "code",
   "execution_count": 6,
   "metadata": {},
   "outputs": [
    {
     "data": {
      "text/html": [
       "<div>\n",
       "<style scoped>\n",
       "    .dataframe tbody tr th:only-of-type {\n",
       "        vertical-align: middle;\n",
       "    }\n",
       "\n",
       "    .dataframe tbody tr th {\n",
       "        vertical-align: top;\n",
       "    }\n",
       "\n",
       "    .dataframe thead th {\n",
       "        text-align: right;\n",
       "    }\n",
       "</style>\n",
       "<table border=\"1\" class=\"dataframe\">\n",
       "  <thead>\n",
       "    <tr style=\"text-align: right;\">\n",
       "      <th></th>\n",
       "      <th>CD14</th>\n",
       "      <th>CD19</th>\n",
       "      <th>CD4</th>\n",
       "      <th>CD8</th>\n",
       "      <th>CD56</th>\n",
       "      <th>celltype</th>\n",
       "    </tr>\n",
       "    <tr>\n",
       "      <th>position</th>\n",
       "      <th></th>\n",
       "      <th></th>\n",
       "      <th></th>\n",
       "      <th></th>\n",
       "      <th></th>\n",
       "      <th></th>\n",
       "    </tr>\n",
       "  </thead>\n",
       "  <tbody>\n",
       "    <tr>\n",
       "      <th>chr12:68530075</th>\n",
       "      <td>1.0</td>\n",
       "      <td>1.0</td>\n",
       "      <td>1.0</td>\n",
       "      <td>1.0</td>\n",
       "      <td>95.4</td>\n",
       "      <td>[CD56]</td>\n",
       "    </tr>\n",
       "    <tr>\n",
       "      <th>chr13:114070979</th>\n",
       "      <td>1.0</td>\n",
       "      <td>1.0</td>\n",
       "      <td>1.0</td>\n",
       "      <td>1.0</td>\n",
       "      <td>91.9</td>\n",
       "      <td>[CD56]</td>\n",
       "    </tr>\n",
       "    <tr>\n",
       "      <th>chr18:49815077</th>\n",
       "      <td>1.0</td>\n",
       "      <td>1.0</td>\n",
       "      <td>1.0</td>\n",
       "      <td>1.0</td>\n",
       "      <td>85.6</td>\n",
       "      <td>[CD56]</td>\n",
       "    </tr>\n",
       "    <tr>\n",
       "      <th>chr2:202366912</th>\n",
       "      <td>1.0</td>\n",
       "      <td>1.0</td>\n",
       "      <td>1.0</td>\n",
       "      <td>6.7</td>\n",
       "      <td>97.6</td>\n",
       "      <td>[CD56]</td>\n",
       "    </tr>\n",
       "    <tr>\n",
       "      <th>chr3:172655561</th>\n",
       "      <td>1.0</td>\n",
       "      <td>1.0</td>\n",
       "      <td>1.0</td>\n",
       "      <td>1.0</td>\n",
       "      <td>96.2</td>\n",
       "      <td>[CD56]</td>\n",
       "    </tr>\n",
       "  </tbody>\n",
       "</table>\n",
       "</div>"
      ],
      "text/plain": [
       "                 CD14  CD19  CD4  CD8  CD56 celltype\n",
       "position                                            \n",
       "chr12:68530075    1.0   1.0  1.0  1.0  95.4   [CD56]\n",
       "chr13:114070979   1.0   1.0  1.0  1.0  91.9   [CD56]\n",
       "chr18:49815077    1.0   1.0  1.0  1.0  85.6   [CD56]\n",
       "chr2:202366912    1.0   1.0  1.0  6.7  97.6   [CD56]\n",
       "chr3:172655561    1.0   1.0  1.0  1.0  96.2   [CD56]"
      ]
     },
     "execution_count": 6,
     "metadata": {},
     "output_type": "execute_result"
    }
   ],
   "source": [
    "outdf=pd.merge(SMdf, maxValueIndexdf, left_index=True, right_index=True)\n",
    "outdf.head()"
   ]
  }
 ],
 "metadata": {
  "kernelspec": {
   "display_name": "Python 3",
   "language": "python",
   "name": "python3"
  },
  "language_info": {
   "codemirror_mode": {
    "name": "ipython",
    "version": 3
   },
   "file_extension": ".py",
   "mimetype": "text/x-python",
   "name": "python",
   "nbconvert_exporter": "python",
   "pygments_lexer": "ipython3",
   "version": "3.6.7"
  }
 },
 "nbformat": 4,
 "nbformat_minor": 2
}
