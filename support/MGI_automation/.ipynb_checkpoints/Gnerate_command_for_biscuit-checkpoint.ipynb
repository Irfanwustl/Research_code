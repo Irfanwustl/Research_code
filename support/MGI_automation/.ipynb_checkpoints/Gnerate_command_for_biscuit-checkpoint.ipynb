{
 "cells": [
  {
   "cell_type": "code",
   "execution_count": 1,
   "metadata": {},
   "outputs": [],
   "source": [
    "### question\n",
    "#1: can extraction label be anything?\n",
    "####\n",
    "#todo: fix read number\n",
    "###\n",
    "\n",
    "import glob\n",
    "import os\n",
    "\n",
    "\n",
    "\n",
    "bamfolder='/Users/irffanalahi/Research/Research_code/support/MGI_automation/toydata/bamfolder'\n",
    "\n",
    "outfile=bamfolder+\".sh\"\n",
    "\n",
    "\n",
    "extraction_label='auto'\n",
    "\n",
    "readnumber=1231343\n"
   ]
  },
  {
   "cell_type": "code",
   "execution_count": 2,
   "metadata": {},
   "outputs": [],
   "source": [
    "def listdir_nohidden(path):\n",
    "    return glob.glob(os.path.join(path, '*'))"
   ]
  },
  {
   "cell_type": "code",
   "execution_count": 3,
   "metadata": {},
   "outputs": [
    {
     "data": {
      "text/plain": [
       "['/Users/irffanalahi/Research/Research_code/support/MGI_automation/toydata/bamfolder/EM_4_cfDNA',\n",
       " '/Users/irffanalahi/Research/Research_code/support/MGI_automation/toydata/bamfolder/EM_3_cfDNA',\n",
       " '/Users/irffanalahi/Research/Research_code/support/MGI_automation/toydata/bamfolder/EM_10_cfDNA']"
      ]
     },
     "execution_count": 3,
     "metadata": {},
     "output_type": "execute_result"
    }
   ],
   "source": [
    "allbamfolder=listdir_nohidden(bamfolder)\n",
    "allbamfolder"
   ]
  },
  {
   "cell_type": "code",
   "execution_count": 4,
   "metadata": {},
   "outputs": [],
   "source": [
    "\n",
    "commandlist=['gsub -G compute-aadel\\n\\n\\n']\n",
    "for abam in allbamfolder:\n",
    "    str0='\\n\\n\\n#################################################\\n'\n",
    "    source=os.path.basename(abam)\n",
    "    str1='genome individual create --taxon=1653198737 --name='+source+'\\n'\n",
    "    sample_name=source+'-'+extraction_label\n",
    "    str2='genome sample create --source='+source+' --extraction-label='+extraction_label+' --name='+sample_name+'\\n'\n",
    "    library_name=sample_name+'-'+'library'\n",
    "    str3='genome library create --name='+library_name+' --sample='+sample_name+'   --bisulfite-conversion=STANDARD \\n'\n",
    "    \n",
    "    str4='genome instrument-data import trusted-data --analysis-project=17eb4eea6cb344f889c546a3a5f7c686 --import-source-name=Chaudhuri_WGBS  --library='+library_name+'   --source-directory='+abam+'  --import-format=bam --read-count='+str(readnumber)+'\\n'\n",
    "    \n",
    "    \n",
    "    \n",
    "    fullcommand=str0+str1+str2+str3+str4\n",
    "    \n",
    "    commandlist.append(fullcommand)\n",
    "    \n",
    "    \n",
    "    \n",
    "    \n",
    "    "
   ]
  },
  {
   "cell_type": "code",
   "execution_count": 5,
   "metadata": {},
   "outputs": [],
   "source": [
    "with open(outfile, 'w') as f:\n",
    "    for item in commandlist:\n",
    "        f.write(\"%s\" % item)"
   ]
  }
 ],
 "metadata": {
  "kernelspec": {
   "display_name": "Python 3",
   "language": "python",
   "name": "python3"
  },
  "language_info": {
   "codemirror_mode": {
    "name": "ipython",
    "version": 3
   },
   "file_extension": ".py",
   "mimetype": "text/x-python",
   "name": "python",
   "nbconvert_exporter": "python",
   "pygments_lexer": "ipython3",
   "version": "3.6.7"
  }
 },
 "nbformat": 4,
 "nbformat_minor": 2
}
