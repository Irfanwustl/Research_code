{
 "cells": [
  {
   "cell_type": "code",
   "execution_count": 1,
   "metadata": {},
   "outputs": [],
   "source": [
    "import glob\n",
    "import os\n",
    "import sys\n",
    "\n",
    "fastqfolder='/Users/irffanalahi/Research/Research_code/support/MGI_automation/toydata/fastqfolder'\n",
    "\n",
    "\n",
    "outfolder='/Users/irffanalahi/Research/Research_code/support/MGI_automation/toydata/fastqfolder_convertingtobam'\n",
    "\n",
    "outcommandfile=outfolder+\"/\"+os.path.basename(outfolder)+\"_bamconversion.sh\"\n",
    "\n",
    "outfolder_bams=outfolder+\"/\"+os.path.basename(outfolder)+\"_allbams\"\n",
    "outfolder_logs=outfolder+\"/\"+os.path.basename(outfolder)+\"_bamconversiion_logs\"\n",
    "\n",
    "\n",
    "os.mkdir(outfolder)\n",
    "os.mkdir(outfolder_bams)\n",
    "os.mkdir(outfolder_logs)"
   ]
  },
  {
   "cell_type": "code",
   "execution_count": 2,
   "metadata": {},
   "outputs": [],
   "source": [
    "R1fastqs=glob.glob(fastqfolder+'/*_R1.fastq.gz')\n",
    "R2fastqs=glob.glob(fastqfolder+'/*_R2.fastq.gz')\n"
   ]
  },
  {
   "cell_type": "code",
   "execution_count": 3,
   "metadata": {},
   "outputs": [],
   "source": [
    "bsub_commandlist=[]\n",
    "\n",
    "for r1fastq in R1fastqs:\n",
    "    r1fastq_base=os.path.basename(r1fastq).replace('_R1.fastq.gz','')\n",
    "    \n",
    "    \n",
    "    r2fastq_path=fastqfolder+'/'+r1fastq_base+'_R2.fastq.gz'\n",
    "    \n",
    "    if r2fastq_path not in R2fastqs:\n",
    "        print(\"R1,R2 mismatch. Exiting\")\n",
    "        sys.exit(1)\n",
    "    \n",
    "    outforthisbam=outfolder_bams+\"/\"+r1fastq_base\n",
    "    \n",
    "    os.mkdir(outforthisbam)\n",
    "    \n",
    "    bsub_command=\"bsub -M 48000000 -R 'select[mem>48000] rusage[mem=48000]' -oo\"+outfolder_logs+\"/\"+r1fastq_base+\".log\" + \"  -q general -a 'docker(broadinstitute/picard)' java -jar /usr/picard/picard.jar FastqToSam F1=\"+r1fastq+\" F2=\"+r2fastq_path+ \\\n",
    "    \"  O=\"+outforthisbam+\"/\"+r1fastq_base+\".bam\"+\" SM=\"+r1fastq_base+\"\\n\\n\"\n",
    "    \n",
    "    bsub_commandlist.append(bsub_command)\n",
    "   "
   ]
  },
  {
   "cell_type": "code",
   "execution_count": 4,
   "metadata": {},
   "outputs": [],
   "source": [
    "with open(outcommandfile, 'w') as f:\n",
    "    for item in bsub_commandlist:\n",
    "        f.write(\"%s\" % item)"
   ]
  }
 ],
 "metadata": {
  "kernelspec": {
   "display_name": "Python 3",
   "language": "python",
   "name": "python3"
  },
  "language_info": {
   "codemirror_mode": {
    "name": "ipython",
    "version": 3
   },
   "file_extension": ".py",
   "mimetype": "text/x-python",
   "name": "python",
   "nbconvert_exporter": "python",
   "pygments_lexer": "ipython3",
   "version": "3.6.7"
  }
 },
 "nbformat": 4,
 "nbformat_minor": 2
}
