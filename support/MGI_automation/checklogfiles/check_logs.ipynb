{
 "cells": [
  {
   "cell_type": "code",
   "execution_count": 1,
   "metadata": {},
   "outputs": [],
   "source": [
    "import pandas as pd\n",
    "import glob\n",
    "import os\n",
    "\n",
    "logsdir='bamfiles_bamconversiion_logs'\n"
   ]
  },
  {
   "cell_type": "code",
   "execution_count": 2,
   "metadata": {},
   "outputs": [],
   "source": [
    "def listdir_nohidden(path):\n",
    "    return glob.glob(os.path.join(path, '*'))"
   ]
  },
  {
   "cell_type": "code",
   "execution_count": 3,
   "metadata": {},
   "outputs": [
    {
     "data": {
      "text/plain": [
       "['bamfiles_bamconversiion_logs/YUNANCY-20-4157.log',\n",
       " 'bamfiles_bamconversiion_logs/YUHONEY-20-4052.log',\n",
       " 'bamfiles_bamconversiion_logs/YUCADA-14-3260.log',\n",
       " 'bamfiles_bamconversiion_logs/YUBIFO-15-3368.log',\n",
       " 'bamfiles_bamconversiion_logs/YUJADE-14-3169.log',\n",
       " 'bamfiles_bamconversiion_logs/YURAISE-13-2954.log',\n",
       " 'bamfiles_bamconversiion_logs/YUALOE-20-4117.log',\n",
       " 'bamfiles_bamconversiion_logs/YUVASI-09-1042.log',\n",
       " 'bamfiles_bamconversiion_logs/YUMEDIC-14-3303.log',\n",
       " 'bamfiles_bamconversiion_logs/YUVARDO-15-3376.log',\n",
       " 'bamfiles_bamconversiion_logs/YUFROZE-15-3390.log',\n",
       " 'bamfiles_bamconversiion_logs/YUSTE-09-894.log',\n",
       " 'bamfiles_bamconversiion_logs/YUGIM-15-3448.log',\n",
       " 'bamfiles_bamconversiion_logs/YUNOCA-11-2340.log',\n",
       " 'bamfiles_bamconversiion_logs/YUZAT-16-3532.log',\n",
       " 'bamfiles_bamconversiion_logs/YUTOPAZ-14-3254.log',\n",
       " 'bamfiles_bamconversiion_logs/YUGRAPH-15-3367.log',\n",
       " 'bamfiles_bamconversiion_logs/YUDUAR-20-4128.log',\n",
       " 'bamfiles_bamconversiion_logs/YUSAU-08-722.log',\n",
       " 'bamfiles_bamconversiion_logs/YULAMB-15-3410.log',\n",
       " 'bamfiles_bamconversiion_logs/YUARGE-14-3173.log',\n",
       " 'bamfiles_bamconversiion_logs/YUFAVOR-14-3175.log',\n",
       " 'bamfiles_bamconversiion_logs/YURADIO-14-3253.log',\n",
       " 'bamfiles_bamconversiion_logs/YUBAIX-15-3422.log']"
      ]
     },
     "execution_count": 3,
     "metadata": {},
     "output_type": "execute_result"
    }
   ],
   "source": [
    "alllogs=listdir_nohidden(logsdir)\n",
    "alllogs"
   ]
  },
  {
   "cell_type": "code",
   "execution_count": 6,
   "metadata": {},
   "outputs": [
    {
     "name": "stdout",
     "output_type": "stream",
     "text": [
      "yes\n",
      "yes\n"
     ]
    }
   ],
   "source": [
    "for alogfile in alllogs:\n",
    "\n",
    "    with open(alogfile) as file:\n",
    "        lines = [line.rstrip() for line in file]\n",
    "        \n",
    "        if 'Successfully completed.' not in lines:\n",
    "            print('yes')\n",
    "            \n"
   ]
  }
 ],
 "metadata": {
  "kernelspec": {
   "display_name": "Python 3",
   "language": "python",
   "name": "python3"
  },
  "language_info": {
   "codemirror_mode": {
    "name": "ipython",
    "version": 3
   },
   "file_extension": ".py",
   "mimetype": "text/x-python",
   "name": "python",
   "nbconvert_exporter": "python",
   "pygments_lexer": "ipython3",
   "version": "3.6.7"
  }
 },
 "nbformat": 4,
 "nbformat_minor": 2
}
