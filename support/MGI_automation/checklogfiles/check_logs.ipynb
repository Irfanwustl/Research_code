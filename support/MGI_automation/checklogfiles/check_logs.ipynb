{
 "cells": [
  {
   "cell_type": "code",
   "execution_count": 1,
   "metadata": {},
   "outputs": [],
   "source": [
    "import pandas as pd\n",
    "import glob\n",
    "import os\n",
    "\n",
    "logsdir='/Users/irffanalahi/rest_summer_2019/support/EM_yale_cfDNA_second_batch/logs'\n"
   ]
  },
  {
   "cell_type": "code",
   "execution_count": 2,
   "metadata": {},
   "outputs": [],
   "source": [
    "def listdir_nohidden(path):\n",
    "    return glob.glob(os.path.join(path, '*'))"
   ]
  },
  {
   "cell_type": "code",
   "execution_count": 3,
   "metadata": {},
   "outputs": [],
   "source": [
    "alllogs=glob.glob(logsdir+'/*.log')\n",
    "#alllogs"
   ]
  },
  {
   "cell_type": "code",
   "execution_count": 4,
   "metadata": {},
   "outputs": [
    {
     "name": "stdout",
     "output_type": "stream",
     "text": [
      "/Users/irffanalahi/rest_summer_2019/support/EM_yale_cfDNA_second_batch/logs/Nu-62-PBMC_R2.fastq.gz.log\n"
     ]
    }
   ],
   "source": [
    "alllogdict=dict()\n",
    "\n",
    "for alogfile in alllogs:\n",
    "\n",
    "    with open(alogfile) as file:\n",
    "        lines = [line.rstrip() for line in file]\n",
    "        \n",
    "        if 'Successfully completed.' not in lines:\n",
    "            print(alogfile)\n",
    "            alllogdict[os.path.basename(alogfile)]=['Failed']\n",
    "        else:\n",
    "            \n",
    "            alllogdict[os.path.basename(alogfile)]=['Succeeded']\n"
   ]
  },
  {
   "cell_type": "code",
   "execution_count": 5,
   "metadata": {},
   "outputs": [],
   "source": [
    "alllogDF=pd.DataFrame.from_dict(alllogdict,orient='index')\n",
    "alllogDF.to_csv(logsdir+\"_summary.txt\",sep='\\t',header=False)"
   ]
  }
 ],
 "metadata": {
  "kernelspec": {
   "display_name": "Python 3",
   "language": "python",
   "name": "python3"
  },
  "language_info": {
   "codemirror_mode": {
    "name": "ipython",
    "version": 3
   },
   "file_extension": ".py",
   "mimetype": "text/x-python",
   "name": "python",
   "nbconvert_exporter": "python",
   "pygments_lexer": "ipython3",
   "version": "3.6.7"
  }
 },
 "nbformat": 4,
 "nbformat_minor": 2
}
