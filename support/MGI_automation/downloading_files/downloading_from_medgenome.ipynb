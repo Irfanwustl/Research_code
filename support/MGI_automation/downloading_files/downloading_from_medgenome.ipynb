{
 "cells": [
  {
   "cell_type": "code",
   "execution_count": 1,
   "metadata": {},
   "outputs": [
    {
     "data": {
      "text/html": [
       "<div>\n",
       "<style scoped>\n",
       "    .dataframe tbody tr th:only-of-type {\n",
       "        vertical-align: middle;\n",
       "    }\n",
       "\n",
       "    .dataframe tbody tr th {\n",
       "        vertical-align: top;\n",
       "    }\n",
       "\n",
       "    .dataframe thead th {\n",
       "        text-align: right;\n",
       "    }\n",
       "</style>\n",
       "<table border=\"1\" class=\"dataframe\">\n",
       "  <thead>\n",
       "    <tr style=\"text-align: right;\">\n",
       "      <th></th>\n",
       "      <th>0</th>\n",
       "      <th>1</th>\n",
       "    </tr>\n",
       "  </thead>\n",
       "  <tbody>\n",
       "    <tr>\n",
       "      <th>0</th>\n",
       "      <td>e9766dc127a1b59c918dc5bd89c059ee</td>\n",
       "      <td>YUADD-20-4110_R1.fastq.gz</td>\n",
       "    </tr>\n",
       "    <tr>\n",
       "      <th>1</th>\n",
       "      <td>c80a2fcd70e57c0e2d58b994480ebb19</td>\n",
       "      <td>YUADD-20-4110_R2.fastq.gz</td>\n",
       "    </tr>\n",
       "    <tr>\n",
       "      <th>2</th>\n",
       "      <td>750590866962cfb627cbad9fc1892eab</td>\n",
       "      <td>YUBLIT-11-2164_R1.fastq.gz</td>\n",
       "    </tr>\n",
       "    <tr>\n",
       "      <th>3</th>\n",
       "      <td>bec7fa4c0f535f79812da9bc9a391251</td>\n",
       "      <td>YUBLIT-11-2164_R2.fastq.gz</td>\n",
       "    </tr>\n",
       "    <tr>\n",
       "      <th>4</th>\n",
       "      <td>fe397615a3c85a87e73f914be12d3800</td>\n",
       "      <td>YUBRET-15-3411_R1.fastq.gz</td>\n",
       "    </tr>\n",
       "  </tbody>\n",
       "</table>\n",
       "</div>"
      ],
      "text/plain": [
       "                                  0                           1\n",
       "0  e9766dc127a1b59c918dc5bd89c059ee   YUADD-20-4110_R1.fastq.gz\n",
       "1  c80a2fcd70e57c0e2d58b994480ebb19   YUADD-20-4110_R2.fastq.gz\n",
       "2  750590866962cfb627cbad9fc1892eab  YUBLIT-11-2164_R1.fastq.gz\n",
       "3  bec7fa4c0f535f79812da9bc9a391251  YUBLIT-11-2164_R2.fastq.gz\n",
       "4  fe397615a3c85a87e73f914be12d3800  YUBRET-15-3411_R1.fastq.gz"
      ]
     },
     "execution_count": 1,
     "metadata": {},
     "output_type": "execute_result"
    }
   ],
   "source": [
    "import pandas as pd\n",
    "import os\n",
    "\n",
    "medgenomesite='https://portal-us.medgenome.com/P2003825_04222022/FASTQ' ###without backslash\n",
    "username='P2003825_04222022'\n",
    "password='t^8s368cK!@%'\n",
    "infile='md5sum.txt'\n",
    "\n",
    "wheretodownload='mydir'\n",
    "\n",
    "os.makedirs(wheretodownload)\n",
    "\n",
    "fastqdownloadfolder=wheretodownload+'/FASTQ'\n",
    "os.makedirs(fastqdownloadfolder)\n",
    "logfolder=wheretodownload+'/logs'\n",
    "os.makedirs(logfolder)\n",
    "\n",
    "\n",
    "\n",
    "indf=pd.read_csv(infile,header=None, delimiter=r\"\\s+\")\n",
    "indf.head()"
   ]
  },
  {
   "cell_type": "code",
   "execution_count": 2,
   "metadata": {},
   "outputs": [
    {
     "data": {
      "text/plain": [
       "48"
      ]
     },
     "execution_count": 2,
     "metadata": {},
     "output_type": "execute_result"
    }
   ],
   "source": [
    "allfiles=indf[1].tolist()\n",
    "len(allfiles)"
   ]
  },
  {
   "cell_type": "code",
   "execution_count": 3,
   "metadata": {},
   "outputs": [],
   "source": [
    "\n",
    "commandlist=['set +H \\n']\n",
    "\n",
    "for afile in allfiles:\n",
    "    tempcommand=\"bsub -M 48000000 -R 'select[mem>48000] rusage[mem=48000]' -oo \" +logfolder+'/'+afile+'.log  wget -P '+fastqdownloadfolder+'  --no-directories --user='+username+' --password='+password+' --recursive --no-parent --continue --no-check-certificate -e robots=off ' +medgenomesite+'/'+afile+\" \\n\"\n",
    "    commandlist.append(tempcommand)\n",
    "    "
   ]
  },
  {
   "cell_type": "code",
   "execution_count": 4,
   "metadata": {},
   "outputs": [
    {
     "data": {
      "text/plain": [
       "['set +H \\n',\n",
       " \"bsub -M 48000000 -R 'select[mem>48000] rusage[mem=48000]' -oo mydir/logs/YUADD-20-4110_R1.fastq.gz.log  wget -P mydir/FASTQ  --no-directories --user=P2003825_04222022 --password=t^8s368cK!@% --recursive --no-parent --continue --no-check-certificate -e robots=off https://portal-us.medgenome.com/P2003825_04222022/FASTQ/YUADD-20-4110_R1.fastq.gz \\n\",\n",
       " \"bsub -M 48000000 -R 'select[mem>48000] rusage[mem=48000]' -oo mydir/logs/YUADD-20-4110_R2.fastq.gz.log  wget -P mydir/FASTQ  --no-directories --user=P2003825_04222022 --password=t^8s368cK!@% --recursive --no-parent --continue --no-check-certificate -e robots=off https://portal-us.medgenome.com/P2003825_04222022/FASTQ/YUADD-20-4110_R2.fastq.gz \\n\",\n",
       " \"bsub -M 48000000 -R 'select[mem>48000] rusage[mem=48000]' -oo mydir/logs/YUBLIT-11-2164_R1.fastq.gz.log  wget -P mydir/FASTQ  --no-directories --user=P2003825_04222022 --password=t^8s368cK!@% --recursive --no-parent --continue --no-check-certificate -e robots=off https://portal-us.medgenome.com/P2003825_04222022/FASTQ/YUBLIT-11-2164_R1.fastq.gz \\n\",\n",
       " \"bsub -M 48000000 -R 'select[mem>48000] rusage[mem=48000]' -oo mydir/logs/YUBLIT-11-2164_R2.fastq.gz.log  wget -P mydir/FASTQ  --no-directories --user=P2003825_04222022 --password=t^8s368cK!@% --recursive --no-parent --continue --no-check-certificate -e robots=off https://portal-us.medgenome.com/P2003825_04222022/FASTQ/YUBLIT-11-2164_R2.fastq.gz \\n\",\n",
       " \"bsub -M 48000000 -R 'select[mem>48000] rusage[mem=48000]' -oo mydir/logs/YUBRET-15-3411_R1.fastq.gz.log  wget -P mydir/FASTQ  --no-directories --user=P2003825_04222022 --password=t^8s368cK!@% --recursive --no-parent --continue --no-check-certificate -e robots=off https://portal-us.medgenome.com/P2003825_04222022/FASTQ/YUBRET-15-3411_R1.fastq.gz \\n\",\n",
       " \"bsub -M 48000000 -R 'select[mem>48000] rusage[mem=48000]' -oo mydir/logs/YUBRET-15-3411_R2.fastq.gz.log  wget -P mydir/FASTQ  --no-directories --user=P2003825_04222022 --password=t^8s368cK!@% --recursive --no-parent --continue --no-check-certificate -e robots=off https://portal-us.medgenome.com/P2003825_04222022/FASTQ/YUBRET-15-3411_R2.fastq.gz \\n\",\n",
       " \"bsub -M 48000000 -R 'select[mem>48000] rusage[mem=48000]' -oo mydir/logs/YUBUMP-14-3166_R1.fastq.gz.log  wget -P mydir/FASTQ  --no-directories --user=P2003825_04222022 --password=t^8s368cK!@% --recursive --no-parent --continue --no-check-certificate -e robots=off https://portal-us.medgenome.com/P2003825_04222022/FASTQ/YUBUMP-14-3166_R1.fastq.gz \\n\",\n",
       " \"bsub -M 48000000 -R 'select[mem>48000] rusage[mem=48000]' -oo mydir/logs/YUBUMP-14-3166_R2.fastq.gz.log  wget -P mydir/FASTQ  --no-directories --user=P2003825_04222022 --password=t^8s368cK!@% --recursive --no-parent --continue --no-check-certificate -e robots=off https://portal-us.medgenome.com/P2003825_04222022/FASTQ/YUBUMP-14-3166_R2.fastq.gz \\n\",\n",
       " \"bsub -M 48000000 -R 'select[mem>48000] rusage[mem=48000]' -oo mydir/logs/YUCEVO-20-4119_R1.fastq.gz.log  wget -P mydir/FASTQ  --no-directories --user=P2003825_04222022 --password=t^8s368cK!@% --recursive --no-parent --continue --no-check-certificate -e robots=off https://portal-us.medgenome.com/P2003825_04222022/FASTQ/YUCEVO-20-4119_R1.fastq.gz \\n\",\n",
       " \"bsub -M 48000000 -R 'select[mem>48000] rusage[mem=48000]' -oo mydir/logs/YUCEVO-20-4119_R2.fastq.gz.log  wget -P mydir/FASTQ  --no-directories --user=P2003825_04222022 --password=t^8s368cK!@% --recursive --no-parent --continue --no-check-certificate -e robots=off https://portal-us.medgenome.com/P2003825_04222022/FASTQ/YUCEVO-20-4119_R2.fastq.gz \\n\",\n",
       " \"bsub -M 48000000 -R 'select[mem>48000] rusage[mem=48000]' -oo mydir/logs/YUCONFE-14-3261_R1.fastq.gz.log  wget -P mydir/FASTQ  --no-directories --user=P2003825_04222022 --password=t^8s368cK!@% --recursive --no-parent --continue --no-check-certificate -e robots=off https://portal-us.medgenome.com/P2003825_04222022/FASTQ/YUCONFE-14-3261_R1.fastq.gz \\n\",\n",
       " \"bsub -M 48000000 -R 'select[mem>48000] rusage[mem=48000]' -oo mydir/logs/YUCONFE-14-3261_R2.fastq.gz.log  wget -P mydir/FASTQ  --no-directories --user=P2003825_04222022 --password=t^8s368cK!@% --recursive --no-parent --continue --no-check-certificate -e robots=off https://portal-us.medgenome.com/P2003825_04222022/FASTQ/YUCONFE-14-3261_R2.fastq.gz \\n\",\n",
       " \"bsub -M 48000000 -R 'select[mem>48000] rusage[mem=48000]' -oo mydir/logs/YUCOT-09-970_R1.fastq.gz.log  wget -P mydir/FASTQ  --no-directories --user=P2003825_04222022 --password=t^8s368cK!@% --recursive --no-parent --continue --no-check-certificate -e robots=off https://portal-us.medgenome.com/P2003825_04222022/FASTQ/YUCOT-09-970_R1.fastq.gz \\n\",\n",
       " \"bsub -M 48000000 -R 'select[mem>48000] rusage[mem=48000]' -oo mydir/logs/YUCOT-09-970_R2.fastq.gz.log  wget -P mydir/FASTQ  --no-directories --user=P2003825_04222022 --password=t^8s368cK!@% --recursive --no-parent --continue --no-check-certificate -e robots=off https://portal-us.medgenome.com/P2003825_04222022/FASTQ/YUCOT-09-970_R2.fastq.gz \\n\",\n",
       " \"bsub -M 48000000 -R 'select[mem>48000] rusage[mem=48000]' -oo mydir/logs/YUCUSK-11-2018_R1.fastq.gz.log  wget -P mydir/FASTQ  --no-directories --user=P2003825_04222022 --password=t^8s368cK!@% --recursive --no-parent --continue --no-check-certificate -e robots=off https://portal-us.medgenome.com/P2003825_04222022/FASTQ/YUCUSK-11-2018_R1.fastq.gz \\n\",\n",
       " \"bsub -M 48000000 -R 'select[mem>48000] rusage[mem=48000]' -oo mydir/logs/YUCUSK-11-2018_R2.fastq.gz.log  wget -P mydir/FASTQ  --no-directories --user=P2003825_04222022 --password=t^8s368cK!@% --recursive --no-parent --continue --no-check-certificate -e robots=off https://portal-us.medgenome.com/P2003825_04222022/FASTQ/YUCUSK-11-2018_R2.fastq.gz \\n\",\n",
       " \"bsub -M 48000000 -R 'select[mem>48000] rusage[mem=48000]' -oo mydir/logs/YUDAB-11-2423_R1.fastq.gz.log  wget -P mydir/FASTQ  --no-directories --user=P2003825_04222022 --password=t^8s368cK!@% --recursive --no-parent --continue --no-check-certificate -e robots=off https://portal-us.medgenome.com/P2003825_04222022/FASTQ/YUDAB-11-2423_R1.fastq.gz \\n\",\n",
       " \"bsub -M 48000000 -R 'select[mem>48000] rusage[mem=48000]' -oo mydir/logs/YUDAB-11-2423_R2.fastq.gz.log  wget -P mydir/FASTQ  --no-directories --user=P2003825_04222022 --password=t^8s368cK!@% --recursive --no-parent --continue --no-check-certificate -e robots=off https://portal-us.medgenome.com/P2003825_04222022/FASTQ/YUDAB-11-2423_R2.fastq.gz \\n\",\n",
       " \"bsub -M 48000000 -R 'select[mem>48000] rusage[mem=48000]' -oo mydir/logs/YUDEBIT-12-2757_R1.fastq.gz.log  wget -P mydir/FASTQ  --no-directories --user=P2003825_04222022 --password=t^8s368cK!@% --recursive --no-parent --continue --no-check-certificate -e robots=off https://portal-us.medgenome.com/P2003825_04222022/FASTQ/YUDEBIT-12-2757_R1.fastq.gz \\n\",\n",
       " \"bsub -M 48000000 -R 'select[mem>48000] rusage[mem=48000]' -oo mydir/logs/YUDEBIT-12-2757_R2.fastq.gz.log  wget -P mydir/FASTQ  --no-directories --user=P2003825_04222022 --password=t^8s368cK!@% --recursive --no-parent --continue --no-check-certificate -e robots=off https://portal-us.medgenome.com/P2003825_04222022/FASTQ/YUDEBIT-12-2757_R2.fastq.gz \\n\",\n",
       " \"bsub -M 48000000 -R 'select[mem>48000] rusage[mem=48000]' -oo mydir/logs/YUDIGIT-11-2144_R1.fastq.gz.log  wget -P mydir/FASTQ  --no-directories --user=P2003825_04222022 --password=t^8s368cK!@% --recursive --no-parent --continue --no-check-certificate -e robots=off https://portal-us.medgenome.com/P2003825_04222022/FASTQ/YUDIGIT-11-2144_R1.fastq.gz \\n\",\n",
       " \"bsub -M 48000000 -R 'select[mem>48000] rusage[mem=48000]' -oo mydir/logs/YUDIGIT-11-2144_R2.fastq.gz.log  wget -P mydir/FASTQ  --no-directories --user=P2003825_04222022 --password=t^8s368cK!@% --recursive --no-parent --continue --no-check-certificate -e robots=off https://portal-us.medgenome.com/P2003825_04222022/FASTQ/YUDIGIT-11-2144_R2.fastq.gz \\n\",\n",
       " \"bsub -M 48000000 -R 'select[mem>48000] rusage[mem=48000]' -oo mydir/logs/YUDIME-09-1158_R1.fastq.gz.log  wget -P mydir/FASTQ  --no-directories --user=P2003825_04222022 --password=t^8s368cK!@% --recursive --no-parent --continue --no-check-certificate -e robots=off https://portal-us.medgenome.com/P2003825_04222022/FASTQ/YUDIME-09-1158_R1.fastq.gz \\n\",\n",
       " \"bsub -M 48000000 -R 'select[mem>48000] rusage[mem=48000]' -oo mydir/logs/YUDIME-09-1158_R2.fastq.gz.log  wget -P mydir/FASTQ  --no-directories --user=P2003825_04222022 --password=t^8s368cK!@% --recursive --no-parent --continue --no-check-certificate -e robots=off https://portal-us.medgenome.com/P2003825_04222022/FASTQ/YUDIME-09-1158_R2.fastq.gz \\n\",\n",
       " \"bsub -M 48000000 -R 'select[mem>48000] rusage[mem=48000]' -oo mydir/logs/YUFARM-14-3192_R1.fastq.gz.log  wget -P mydir/FASTQ  --no-directories --user=P2003825_04222022 --password=t^8s368cK!@% --recursive --no-parent --continue --no-check-certificate -e robots=off https://portal-us.medgenome.com/P2003825_04222022/FASTQ/YUFARM-14-3192_R1.fastq.gz \\n\",\n",
       " \"bsub -M 48000000 -R 'select[mem>48000] rusage[mem=48000]' -oo mydir/logs/YUFARM-14-3192_R2.fastq.gz.log  wget -P mydir/FASTQ  --no-directories --user=P2003825_04222022 --password=t^8s368cK!@% --recursive --no-parent --continue --no-check-certificate -e robots=off https://portal-us.medgenome.com/P2003825_04222022/FASTQ/YUFARM-14-3192_R2.fastq.gz \\n\",\n",
       " \"bsub -M 48000000 -R 'select[mem>48000] rusage[mem=48000]' -oo mydir/logs/YUFROME-14-3165_R1.fastq.gz.log  wget -P mydir/FASTQ  --no-directories --user=P2003825_04222022 --password=t^8s368cK!@% --recursive --no-parent --continue --no-check-certificate -e robots=off https://portal-us.medgenome.com/P2003825_04222022/FASTQ/YUFROME-14-3165_R1.fastq.gz \\n\",\n",
       " \"bsub -M 48000000 -R 'select[mem>48000] rusage[mem=48000]' -oo mydir/logs/YUFROME-14-3165_R2.fastq.gz.log  wget -P mydir/FASTQ  --no-directories --user=P2003825_04222022 --password=t^8s368cK!@% --recursive --no-parent --continue --no-check-certificate -e robots=off https://portal-us.medgenome.com/P2003825_04222022/FASTQ/YUFROME-14-3165_R2.fastq.gz \\n\",\n",
       " \"bsub -M 48000000 -R 'select[mem>48000] rusage[mem=48000]' -oo mydir/logs/YUFURL-17-3690_R1.fastq.gz.log  wget -P mydir/FASTQ  --no-directories --user=P2003825_04222022 --password=t^8s368cK!@% --recursive --no-parent --continue --no-check-certificate -e robots=off https://portal-us.medgenome.com/P2003825_04222022/FASTQ/YUFURL-17-3690_R1.fastq.gz \\n\",\n",
       " \"bsub -M 48000000 -R 'select[mem>48000] rusage[mem=48000]' -oo mydir/logs/YUFURL-17-3690_R2.fastq.gz.log  wget -P mydir/FASTQ  --no-directories --user=P2003825_04222022 --password=t^8s368cK!@% --recursive --no-parent --continue --no-check-certificate -e robots=off https://portal-us.medgenome.com/P2003825_04222022/FASTQ/YUFURL-17-3690_R2.fastq.gz \\n\",\n",
       " \"bsub -M 48000000 -R 'select[mem>48000] rusage[mem=48000]' -oo mydir/logs/YUHIMO-09-1242_R1.fastq.gz.log  wget -P mydir/FASTQ  --no-directories --user=P2003825_04222022 --password=t^8s368cK!@% --recursive --no-parent --continue --no-check-certificate -e robots=off https://portal-us.medgenome.com/P2003825_04222022/FASTQ/YUHIMO-09-1242_R1.fastq.gz \\n\",\n",
       " \"bsub -M 48000000 -R 'select[mem>48000] rusage[mem=48000]' -oo mydir/logs/YUHIMO-09-1242_R2.fastq.gz.log  wget -P mydir/FASTQ  --no-directories --user=P2003825_04222022 --password=t^8s368cK!@% --recursive --no-parent --continue --no-check-certificate -e robots=off https://portal-us.medgenome.com/P2003825_04222022/FASTQ/YUHIMO-09-1242_R2.fastq.gz \\n\",\n",
       " \"bsub -M 48000000 -R 'select[mem>48000] rusage[mem=48000]' -oo mydir/logs/YUMAGIE-21-4264_R1.fastq.gz.log  wget -P mydir/FASTQ  --no-directories --user=P2003825_04222022 --password=t^8s368cK!@% --recursive --no-parent --continue --no-check-certificate -e robots=off https://portal-us.medgenome.com/P2003825_04222022/FASTQ/YUMAGIE-21-4264_R1.fastq.gz \\n\",\n",
       " \"bsub -M 48000000 -R 'select[mem>48000] rusage[mem=48000]' -oo mydir/logs/YUMAGIE-21-4264_R2.fastq.gz.log  wget -P mydir/FASTQ  --no-directories --user=P2003825_04222022 --password=t^8s368cK!@% --recursive --no-parent --continue --no-check-certificate -e robots=off https://portal-us.medgenome.com/P2003825_04222022/FASTQ/YUMAGIE-21-4264_R2.fastq.gz \\n\",\n",
       " \"bsub -M 48000000 -R 'select[mem>48000] rusage[mem=48000]' -oo mydir/logs/YUNEXUS-11-2449_R1.fastq.gz.log  wget -P mydir/FASTQ  --no-directories --user=P2003825_04222022 --password=t^8s368cK!@% --recursive --no-parent --continue --no-check-certificate -e robots=off https://portal-us.medgenome.com/P2003825_04222022/FASTQ/YUNEXUS-11-2449_R1.fastq.gz \\n\",\n",
       " \"bsub -M 48000000 -R 'select[mem>48000] rusage[mem=48000]' -oo mydir/logs/YUNEXUS-11-2449_R2.fastq.gz.log  wget -P mydir/FASTQ  --no-directories --user=P2003825_04222022 --password=t^8s368cK!@% --recursive --no-parent --continue --no-check-certificate -e robots=off https://portal-us.medgenome.com/P2003825_04222022/FASTQ/YUNEXUS-11-2449_R2.fastq.gz \\n\",\n",
       " \"bsub -M 48000000 -R 'select[mem>48000] rusage[mem=48000]' -oo mydir/logs/YUNOCA-12-2478_R1.fastq.gz.log  wget -P mydir/FASTQ  --no-directories --user=P2003825_04222022 --password=t^8s368cK!@% --recursive --no-parent --continue --no-check-certificate -e robots=off https://portal-us.medgenome.com/P2003825_04222022/FASTQ/YUNOCA-12-2478_R1.fastq.gz \\n\",\n",
       " \"bsub -M 48000000 -R 'select[mem>48000] rusage[mem=48000]' -oo mydir/logs/YUNOCA-12-2478_R2.fastq.gz.log  wget -P mydir/FASTQ  --no-directories --user=P2003825_04222022 --password=t^8s368cK!@% --recursive --no-parent --continue --no-check-certificate -e robots=off https://portal-us.medgenome.com/P2003825_04222022/FASTQ/YUNOCA-12-2478_R2.fastq.gz \\n\",\n",
       " \"bsub -M 48000000 -R 'select[mem>48000] rusage[mem=48000]' -oo mydir/logs/YUPOGER-15-3353_R1.fastq.gz.log  wget -P mydir/FASTQ  --no-directories --user=P2003825_04222022 --password=t^8s368cK!@% --recursive --no-parent --continue --no-check-certificate -e robots=off https://portal-us.medgenome.com/P2003825_04222022/FASTQ/YUPOGER-15-3353_R1.fastq.gz \\n\",\n",
       " \"bsub -M 48000000 -R 'select[mem>48000] rusage[mem=48000]' -oo mydir/logs/YUPOGER-15-3353_R2.fastq.gz.log  wget -P mydir/FASTQ  --no-directories --user=P2003825_04222022 --password=t^8s368cK!@% --recursive --no-parent --continue --no-check-certificate -e robots=off https://portal-us.medgenome.com/P2003825_04222022/FASTQ/YUPOGER-15-3353_R2.fastq.gz \\n\",\n",
       " \"bsub -M 48000000 -R 'select[mem>48000] rusage[mem=48000]' -oo mydir/logs/YUPRETE-14-3183_R1.fastq.gz.log  wget -P mydir/FASTQ  --no-directories --user=P2003825_04222022 --password=t^8s368cK!@% --recursive --no-parent --continue --no-check-certificate -e robots=off https://portal-us.medgenome.com/P2003825_04222022/FASTQ/YUPRETE-14-3183_R1.fastq.gz \\n\",\n",
       " \"bsub -M 48000000 -R 'select[mem>48000] rusage[mem=48000]' -oo mydir/logs/YUPRETE-14-3183_R2.fastq.gz.log  wget -P mydir/FASTQ  --no-directories --user=P2003825_04222022 --password=t^8s368cK!@% --recursive --no-parent --continue --no-check-certificate -e robots=off https://portal-us.medgenome.com/P2003825_04222022/FASTQ/YUPRETE-14-3183_R2.fastq.gz \\n\",\n",
       " \"bsub -M 48000000 -R 'select[mem>48000] rusage[mem=48000]' -oo mydir/logs/YURIDA-12-2690_R1.fastq.gz.log  wget -P mydir/FASTQ  --no-directories --user=P2003825_04222022 --password=t^8s368cK!@% --recursive --no-parent --continue --no-check-certificate -e robots=off https://portal-us.medgenome.com/P2003825_04222022/FASTQ/YURIDA-12-2690_R1.fastq.gz \\n\",\n",
       " \"bsub -M 48000000 -R 'select[mem>48000] rusage[mem=48000]' -oo mydir/logs/YURIDA-12-2690_R2.fastq.gz.log  wget -P mydir/FASTQ  --no-directories --user=P2003825_04222022 --password=t^8s368cK!@% --recursive --no-parent --continue --no-check-certificate -e robots=off https://portal-us.medgenome.com/P2003825_04222022/FASTQ/YURIDA-12-2690_R2.fastq.gz \\n\",\n",
       " \"bsub -M 48000000 -R 'select[mem>48000] rusage[mem=48000]' -oo mydir/logs/YUSONG-20-4072_R1.fastq.gz.log  wget -P mydir/FASTQ  --no-directories --user=P2003825_04222022 --password=t^8s368cK!@% --recursive --no-parent --continue --no-check-certificate -e robots=off https://portal-us.medgenome.com/P2003825_04222022/FASTQ/YUSONG-20-4072_R1.fastq.gz \\n\",\n",
       " \"bsub -M 48000000 -R 'select[mem>48000] rusage[mem=48000]' -oo mydir/logs/YUSONG-20-4072_R2.fastq.gz.log  wget -P mydir/FASTQ  --no-directories --user=P2003825_04222022 --password=t^8s368cK!@% --recursive --no-parent --continue --no-check-certificate -e robots=off https://portal-us.medgenome.com/P2003825_04222022/FASTQ/YUSONG-20-4072_R2.fastq.gz \\n\",\n",
       " \"bsub -M 48000000 -R 'select[mem>48000] rusage[mem=48000]' -oo mydir/logs/YUZERU-11-2052_R1.fastq.gz.log  wget -P mydir/FASTQ  --no-directories --user=P2003825_04222022 --password=t^8s368cK!@% --recursive --no-parent --continue --no-check-certificate -e robots=off https://portal-us.medgenome.com/P2003825_04222022/FASTQ/YUZERU-11-2052_R1.fastq.gz \\n\",\n",
       " \"bsub -M 48000000 -R 'select[mem>48000] rusage[mem=48000]' -oo mydir/logs/YUZERU-11-2052_R2.fastq.gz.log  wget -P mydir/FASTQ  --no-directories --user=P2003825_04222022 --password=t^8s368cK!@% --recursive --no-parent --continue --no-check-certificate -e robots=off https://portal-us.medgenome.com/P2003825_04222022/FASTQ/YUZERU-11-2052_R2.fastq.gz \\n\"]"
      ]
     },
     "execution_count": 4,
     "metadata": {},
     "output_type": "execute_result"
    }
   ],
   "source": [
    "commandlist"
   ]
  },
  {
   "cell_type": "code",
   "execution_count": 5,
   "metadata": {},
   "outputs": [],
   "source": [
    "with open(wheretodownload+\"/medgenome_download.sh\", 'w') as f:\n",
    "    for item in commandlist:\n",
    "        f.write(\"%s\" % item)"
   ]
  }
 ],
 "metadata": {
  "kernelspec": {
   "display_name": "Python 3",
   "language": "python",
   "name": "python3"
  },
  "language_info": {
   "codemirror_mode": {
    "name": "ipython",
    "version": 3
   },
   "file_extension": ".py",
   "mimetype": "text/x-python",
   "name": "python",
   "nbconvert_exporter": "python",
   "pygments_lexer": "ipython3",
   "version": "3.6.7"
  }
 },
 "nbformat": 4,
 "nbformat_minor": 2
}
