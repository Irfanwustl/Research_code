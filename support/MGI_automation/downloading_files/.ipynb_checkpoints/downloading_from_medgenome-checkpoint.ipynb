{
 "cells": [
  {
   "cell_type": "code",
   "execution_count": 4,
   "metadata": {},
   "outputs": [
    {
     "data": {
      "text/html": [
       "<div>\n",
       "<style scoped>\n",
       "    .dataframe tbody tr th:only-of-type {\n",
       "        vertical-align: middle;\n",
       "    }\n",
       "\n",
       "    .dataframe tbody tr th {\n",
       "        vertical-align: top;\n",
       "    }\n",
       "\n",
       "    .dataframe thead th {\n",
       "        text-align: right;\n",
       "    }\n",
       "</style>\n",
       "<table border=\"1\" class=\"dataframe\">\n",
       "  <thead>\n",
       "    <tr style=\"text-align: right;\">\n",
       "      <th></th>\n",
       "      <th>0</th>\n",
       "      <th>1</th>\n",
       "    </tr>\n",
       "  </thead>\n",
       "  <tbody>\n",
       "    <tr>\n",
       "      <th>0</th>\n",
       "      <td>e9766dc127a1b59c918dc5bd89c059ee</td>\n",
       "      <td>YUADD-20-4110_R1.fastq.gz</td>\n",
       "    </tr>\n",
       "    <tr>\n",
       "      <th>1</th>\n",
       "      <td>c80a2fcd70e57c0e2d58b994480ebb19</td>\n",
       "      <td>YUADD-20-4110_R2.fastq.gz</td>\n",
       "    </tr>\n",
       "    <tr>\n",
       "      <th>2</th>\n",
       "      <td>750590866962cfb627cbad9fc1892eab</td>\n",
       "      <td>YUBLIT-11-2164_R1.fastq.gz</td>\n",
       "    </tr>\n",
       "    <tr>\n",
       "      <th>3</th>\n",
       "      <td>bec7fa4c0f535f79812da9bc9a391251</td>\n",
       "      <td>YUBLIT-11-2164_R2.fastq.gz</td>\n",
       "    </tr>\n",
       "    <tr>\n",
       "      <th>4</th>\n",
       "      <td>fe397615a3c85a87e73f914be12d3800</td>\n",
       "      <td>YUBRET-15-3411_R1.fastq.gz</td>\n",
       "    </tr>\n",
       "  </tbody>\n",
       "</table>\n",
       "</div>"
      ],
      "text/plain": [
       "                                  0                           1\n",
       "0  e9766dc127a1b59c918dc5bd89c059ee   YUADD-20-4110_R1.fastq.gz\n",
       "1  c80a2fcd70e57c0e2d58b994480ebb19   YUADD-20-4110_R2.fastq.gz\n",
       "2  750590866962cfb627cbad9fc1892eab  YUBLIT-11-2164_R1.fastq.gz\n",
       "3  bec7fa4c0f535f79812da9bc9a391251  YUBLIT-11-2164_R2.fastq.gz\n",
       "4  fe397615a3c85a87e73f914be12d3800  YUBRET-15-3411_R1.fastq.gz"
      ]
     },
     "execution_count": 4,
     "metadata": {},
     "output_type": "execute_result"
    }
   ],
   "source": [
    "import pandas as pd\n",
    "\n",
    "medgenomesite='https://portal-us.medgenome.com/P2003825_04222022/FASTQ'\n",
    "username='P2003825_04222022'\n",
    "password='t^8s368cK!@%'\n",
    "\n",
    "wheretodownload='mydir'\n",
    "\n",
    "\n",
    "infile='md5sum.txt'\n",
    "indf=pd.read_csv(infile,header=None, delimiter=r\"\\s+\")\n",
    "indf.head()"
   ]
  },
  {
   "cell_type": "code",
   "execution_count": 6,
   "metadata": {},
   "outputs": [
    {
     "data": {
      "text/plain": [
       "48"
      ]
     },
     "execution_count": 6,
     "metadata": {},
     "output_type": "execute_result"
    }
   ],
   "source": [
    "allfiles=indf[1].tolist()\n",
    "len(allfiles)"
   ]
  },
  {
   "cell_type": "code",
   "execution_count": null,
   "metadata": {},
   "outputs": [],
   "source": [
    "for afile in allfiles:\n",
    "    "
   ]
  }
 ],
 "metadata": {
  "kernelspec": {
   "display_name": "Python 3",
   "language": "python",
   "name": "python3"
  },
  "language_info": {
   "codemirror_mode": {
    "name": "ipython",
    "version": 3
   },
   "file_extension": ".py",
   "mimetype": "text/x-python",
   "name": "python",
   "nbconvert_exporter": "python",
   "pygments_lexer": "ipython3",
   "version": "3.6.7"
  }
 },
 "nbformat": 4,
 "nbformat_minor": 2
}
