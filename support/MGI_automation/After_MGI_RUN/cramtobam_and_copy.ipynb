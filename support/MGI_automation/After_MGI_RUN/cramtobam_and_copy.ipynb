{
 "cells": [
  {
   "cell_type": "code",
   "execution_count": 1,
   "metadata": {},
   "outputs": [],
   "source": [
    "###if multiple build, exit\n",
    "\n",
    "\n",
    "import yaml\n",
    "import pandas as pd\n",
    "import glob\n",
    "import sys\n",
    "import os"
   ]
  },
  {
   "cell_type": "code",
   "execution_count": 2,
   "metadata": {},
   "outputs": [
    {
     "data": {
      "text/plain": [
       "['bad7948630624c169812530852219653', 'bad7948630624c169812530852262456']"
      ]
     },
     "execution_count": 2,
     "metadata": {},
     "output_type": "execute_result"
    }
   ],
   "source": [
    "model_info_file='/Users/irffanalahi/Research/Research_code/support/MGI_automation/After_MGI_RUN/toydata/filelist.txt'\n",
    "\n",
    "\n",
    "destinationfolder='/Users/irffanalahi/Research/Research_code/support/MGI_automation/After_MGI_RUN/toydata/destination'\n",
    "destinationfolder_bam=destinationfolder+\"_bam\"\n",
    "destinationfolder_commands=destinationfolder+\"_commands\"\n",
    "\n",
    "os.mkdir(destinationfolder)\n",
    "os.mkdir(destinationfolder_bam)\n",
    "os.mkdir(destinationfolder_commands)\n",
    "\n",
    "\n",
    "\n",
    "\n",
    "gmspath='/storage1/fs1/aadel/Active/gmsroot'\n",
    "\n",
    "model_info_df=pd.read_csv(model_info_file,sep='\\t',header=None)\n",
    "\n",
    "model_info_list=model_info_df[0].tolist()\n",
    "model_info_list"
   ]
  },
  {
   "cell_type": "code",
   "execution_count": 3,
   "metadata": {},
   "outputs": [],
   "source": [
    "\n",
    "copycommands=[]\n",
    "cramtobamcommands=[]\n",
    "\n",
    "for onemodel in model_info_list:\n",
    "    build=glob.glob(gmspath+\"/\"+onemodel+'/build*')\n",
    "    if len(build)!=1:\n",
    "        print(onemodel)\n",
    "        print('buld not one. EXITING')\n",
    "    \n",
    "    build=build[0]\n",
    "    \n",
    "    with open(build+'/inputs.yaml', 'r') as file:\n",
    "        yamlinfo = yaml.safe_load(file)\n",
    "        samplename=yamlinfo['sample_name']\n",
    "    \n",
    "    copycommand=\"bsub -M 48000000 -R 'select[mem>48000] rusage[mem=48000]' -oo \"+destinationfolder_commands+\"/\"+samplename+\"_copy.log\" + \"  -q general -a 'docker(irfanwustl/pythonsamtoolsfresh)'  cp -r \"+gmspath+\"/\"+onemodel+' '+destinationfolder+\"/\"+samplename+\"\\n\"\n",
    "    \n",
    "    \n",
    "    \n",
    "    copycommands.append(copycommand)\n",
    "    \n",
    "    \n",
    "    cramtobamcommand=\"bsub -M 48000000 -R 'select[mem>48000] rusage[mem=48000]' -oo \"+destinationfolder_commands+\"/\"+samplename+\"_cramtobam.log\" + \"  -q general -a 'docker(irfanwustl/pythonsamtoolsfresh)'\"+ \" samtools view -b -T /storage1/fs1/aadel/Active/work/Hg38Reference/all_sequences.fa -o \"+destinationfolder_bam+\"/\"+samplename+\".final.bam  \"+gmspath+\"/\"+onemodel+\"/build*/results/final.cram\\n\"\n",
    "\n",
    "    cramtobamcommands.append(cramtobamcommand)"
   ]
  },
  {
   "cell_type": "code",
   "execution_count": 4,
   "metadata": {},
   "outputs": [],
   "source": [
    "with open(destinationfolder_commands+\"/copy_commands.sh\", 'w') as f:\n",
    "    for item in copycommands:\n",
    "        f.write(\"%s\" % item)"
   ]
  },
  {
   "cell_type": "code",
   "execution_count": 5,
   "metadata": {},
   "outputs": [],
   "source": [
    "with open(destinationfolder_commands+\"/cramtobam_commands.sh\", 'w') as f:\n",
    "    for item in cramtobamcommands:\n",
    "        f.write(\"%s\" % item)"
   ]
  }
 ],
 "metadata": {
  "kernelspec": {
   "display_name": "Python 3",
   "language": "python",
   "name": "python3"
  },
  "language_info": {
   "codemirror_mode": {
    "name": "ipython",
    "version": 3
   },
   "file_extension": ".py",
   "mimetype": "text/x-python",
   "name": "python",
   "nbconvert_exporter": "python",
   "pygments_lexer": "ipython3",
   "version": "3.6.7"
  }
 },
 "nbformat": 4,
 "nbformat_minor": 2
}
