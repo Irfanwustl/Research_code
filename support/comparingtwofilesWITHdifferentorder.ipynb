{
 "cells": [
  {
   "cell_type": "code",
   "execution_count": 1,
   "metadata": {},
   "outputs": [
    {
     "name": "stdout",
     "output_type": "stream",
     "text": [
      "Yup they're the same!\n"
     ]
    }
   ],
   "source": [
    "filename1 = \"/Users/irffanalahi/Research/Research_update/SoftRD/hashtable_stats/B22withLTME/v3_3steps/thirdstepanalysis/try3/towardsSM/forgenomic_feature/result/naive_myloid_CD8TIL_OthermeanIINTWITH_melCD8TIL_activatted-.1_intwith_CD8TL_melCD8TIL_-0.9CD8TIL_-0.9_onlypos__row_combined.txt\"\n",
    "filename2 = \"/Users/irffanalahi/Research/Research_update/SoftRD/hashtable_stats/B22withLTME/v3_3steps/thirdstepanalysis/try3/towardsSM/forgenomic_feature/result/CD8TILb_row_combined.txt\"\n",
    "file1contents = set(open(filename1).readlines())\n",
    "file2contents = set(open(filename2).readlines())\n",
    "\n",
    "#print('hggc')\n",
    "if file1contents == file2contents:\n",
    "    print(\"Yup they're the same!\")\n",
    "else:\n",
    "    print(\"Nope, they differ.  In file2, not file1:\\n\\n\")\n",
    "    for diffLine in file2contents - file1contents:\n",
    "        print(\"\\t\", diffLine)\n",
    "    print (\"\\n\\nIn file1, not file2:\\n\\n\")\n",
    "    for diffLine in file1contents - file2contents:\n",
    "        print(\"\\t\", diffLine)"
   ]
  }
 ],
 "metadata": {
  "kernelspec": {
   "display_name": "Python 3",
   "language": "python",
   "name": "python3"
  },
  "language_info": {
   "codemirror_mode": {
    "name": "ipython",
    "version": 3
   },
   "file_extension": ".py",
   "mimetype": "text/x-python",
   "name": "python",
   "nbconvert_exporter": "python",
   "pygments_lexer": "ipython3",
   "version": "3.6.7"
  }
 },
 "nbformat": 4,
 "nbformat_minor": 2
}
