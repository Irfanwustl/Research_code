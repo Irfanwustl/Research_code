{
 "cells": [
  {
   "cell_type": "code",
   "execution_count": 1,
   "metadata": {},
   "outputs": [
    {
     "data": {
      "text/html": [
       "<div>\n",
       "<style scoped>\n",
       "    .dataframe tbody tr th:only-of-type {\n",
       "        vertical-align: middle;\n",
       "    }\n",
       "\n",
       "    .dataframe tbody tr th {\n",
       "        vertical-align: top;\n",
       "    }\n",
       "\n",
       "    .dataframe thead th {\n",
       "        text-align: right;\n",
       "    }\n",
       "</style>\n",
       "<table border=\"1\" class=\"dataframe\">\n",
       "  <thead>\n",
       "    <tr style=\"text-align: right;\">\n",
       "      <th></th>\n",
       "      <th>Mixture</th>\n",
       "      <th>Naive CD4 T</th>\n",
       "      <th>Naive CD8</th>\n",
       "      <th>Naive B</th>\n",
       "      <th>NK_x</th>\n",
       "      <th>Mono_x</th>\n",
       "      <th>Mac (M0)</th>\n",
       "      <th>Mac (M1)</th>\n",
       "      <th>Mac (M2)</th>\n",
       "      <th>iDC</th>\n",
       "      <th>...</th>\n",
       "      <th>Bcell</th>\n",
       "      <th>CD4</th>\n",
       "      <th>CD8</th>\n",
       "      <th>NK_y</th>\n",
       "      <th>CD4TCM_dividedby_CD4</th>\n",
       "      <th>CD4TEM_dividedby_CD4</th>\n",
       "      <th>CD4TEM_dividedby_CD4 (z-score)</th>\n",
       "      <th>CD4TCM_dividedby_CD4 (z-score)</th>\n",
       "      <th>YU ID</th>\n",
       "      <th>Total</th>\n",
       "    </tr>\n",
       "  </thead>\n",
       "  <tbody>\n",
       "    <tr>\n",
       "      <th>0</th>\n",
       "      <td>YUALOE-20-4117-auto</td>\n",
       "      <td>3.486732</td>\n",
       "      <td>3.203924</td>\n",
       "      <td>3.813109</td>\n",
       "      <td>3.954008</td>\n",
       "      <td>4.750200</td>\n",
       "      <td>4.773674</td>\n",
       "      <td>4.298200</td>\n",
       "      <td>4.033450</td>\n",
       "      <td>4.593498</td>\n",
       "      <td>...</td>\n",
       "      <td>14.616935</td>\n",
       "      <td>14.089715</td>\n",
       "      <td>11.221483</td>\n",
       "      <td>17.170296</td>\n",
       "      <td>0.249316</td>\n",
       "      <td>0.244236</td>\n",
       "      <td>-0.820118</td>\n",
       "      <td>-0.417713</td>\n",
       "      <td>NaN</td>\n",
       "      <td>NaN</td>\n",
       "    </tr>\n",
       "    <tr>\n",
       "      <th>1</th>\n",
       "      <td>YUARGE-14-3173-auto</td>\n",
       "      <td>3.460535</td>\n",
       "      <td>3.334532</td>\n",
       "      <td>4.188991</td>\n",
       "      <td>3.723046</td>\n",
       "      <td>4.017930</td>\n",
       "      <td>5.383950</td>\n",
       "      <td>5.674409</td>\n",
       "      <td>4.235804</td>\n",
       "      <td>3.972492</td>\n",
       "      <td>...</td>\n",
       "      <td>14.768629</td>\n",
       "      <td>18.611069</td>\n",
       "      <td>15.927072</td>\n",
       "      <td>18.515512</td>\n",
       "      <td>0.254318</td>\n",
       "      <td>0.302025</td>\n",
       "      <td>0.420356</td>\n",
       "      <td>-0.285093</td>\n",
       "      <td>NaN</td>\n",
       "      <td>NaN</td>\n",
       "    </tr>\n",
       "    <tr>\n",
       "      <th>2</th>\n",
       "      <td>YUBAIX-15-3422-auto</td>\n",
       "      <td>3.358083</td>\n",
       "      <td>3.408130</td>\n",
       "      <td>3.718981</td>\n",
       "      <td>3.988179</td>\n",
       "      <td>4.584372</td>\n",
       "      <td>4.595531</td>\n",
       "      <td>4.122248</td>\n",
       "      <td>3.895946</td>\n",
       "      <td>4.172684</td>\n",
       "      <td>...</td>\n",
       "      <td>14.207386</td>\n",
       "      <td>11.674035</td>\n",
       "      <td>10.885113</td>\n",
       "      <td>16.580754</td>\n",
       "      <td>0.286379</td>\n",
       "      <td>0.295201</td>\n",
       "      <td>0.273866</td>\n",
       "      <td>0.564938</td>\n",
       "      <td>NaN</td>\n",
       "      <td>NaN</td>\n",
       "    </tr>\n",
       "    <tr>\n",
       "      <th>3</th>\n",
       "      <td>YUBIFO-15-3368-auto</td>\n",
       "      <td>3.612930</td>\n",
       "      <td>3.973339</td>\n",
       "      <td>3.846230</td>\n",
       "      <td>4.225009</td>\n",
       "      <td>3.927643</td>\n",
       "      <td>5.149107</td>\n",
       "      <td>5.371289</td>\n",
       "      <td>4.964708</td>\n",
       "      <td>4.119997</td>\n",
       "      <td>...</td>\n",
       "      <td>15.056122</td>\n",
       "      <td>17.243284</td>\n",
       "      <td>16.054438</td>\n",
       "      <td>20.307240</td>\n",
       "      <td>0.245492</td>\n",
       "      <td>0.264764</td>\n",
       "      <td>-0.379481</td>\n",
       "      <td>-0.519104</td>\n",
       "      <td>NaN</td>\n",
       "      <td>NaN</td>\n",
       "    </tr>\n",
       "    <tr>\n",
       "      <th>4</th>\n",
       "      <td>YUCADA-14-3260-auto</td>\n",
       "      <td>3.796466</td>\n",
       "      <td>3.374783</td>\n",
       "      <td>3.883090</td>\n",
       "      <td>4.085648</td>\n",
       "      <td>5.103905</td>\n",
       "      <td>4.264995</td>\n",
       "      <td>4.103394</td>\n",
       "      <td>3.924869</td>\n",
       "      <td>4.396875</td>\n",
       "      <td>...</td>\n",
       "      <td>15.909903</td>\n",
       "      <td>16.118907</td>\n",
       "      <td>11.302709</td>\n",
       "      <td>15.765537</td>\n",
       "      <td>0.238037</td>\n",
       "      <td>0.227859</td>\n",
       "      <td>-1.171666</td>\n",
       "      <td>-0.716764</td>\n",
       "      <td>NaN</td>\n",
       "      <td>NaN</td>\n",
       "    </tr>\n",
       "  </tbody>\n",
       "</table>\n",
       "<p>5 rows × 38 columns</p>\n",
       "</div>"
      ],
      "text/plain": [
       "               Mixture  Naive CD4 T  Naive CD8   Naive B      NK_x    Mono_x  \\\n",
       "0  YUALOE-20-4117-auto     3.486732   3.203924  3.813109  3.954008  4.750200   \n",
       "1  YUARGE-14-3173-auto     3.460535   3.334532  4.188991  3.723046  4.017930   \n",
       "2  YUBAIX-15-3422-auto     3.358083   3.408130  3.718981  3.988179  4.584372   \n",
       "3  YUBIFO-15-3368-auto     3.612930   3.973339  3.846230  4.225009  3.927643   \n",
       "4  YUCADA-14-3260-auto     3.796466   3.374783  3.883090  4.085648  5.103905   \n",
       "\n",
       "   Mac (M0)  Mac (M1)  Mac (M2)       iDC  ...      Bcell        CD4  \\\n",
       "0  4.773674  4.298200  4.033450  4.593498  ...  14.616935  14.089715   \n",
       "1  5.383950  5.674409  4.235804  3.972492  ...  14.768629  18.611069   \n",
       "2  4.595531  4.122248  3.895946  4.172684  ...  14.207386  11.674035   \n",
       "3  5.149107  5.371289  4.964708  4.119997  ...  15.056122  17.243284   \n",
       "4  4.264995  4.103394  3.924869  4.396875  ...  15.909903  16.118907   \n",
       "\n",
       "         CD8       NK_y  CD4TCM_dividedby_CD4  CD4TEM_dividedby_CD4  \\\n",
       "0  11.221483  17.170296              0.249316              0.244236   \n",
       "1  15.927072  18.515512              0.254318              0.302025   \n",
       "2  10.885113  16.580754              0.286379              0.295201   \n",
       "3  16.054438  20.307240              0.245492              0.264764   \n",
       "4  11.302709  15.765537              0.238037              0.227859   \n",
       "\n",
       "   CD4TEM_dividedby_CD4 (z-score)  CD4TCM_dividedby_CD4 (z-score)  YU ID  \\\n",
       "0                       -0.820118                       -0.417713    NaN   \n",
       "1                        0.420356                       -0.285093    NaN   \n",
       "2                        0.273866                        0.564938    NaN   \n",
       "3                       -0.379481                       -0.519104    NaN   \n",
       "4                       -1.171666                       -0.716764    NaN   \n",
       "\n",
       "   Total  \n",
       "0    NaN  \n",
       "1    NaN  \n",
       "2    NaN  \n",
       "3    NaN  \n",
       "4    NaN  \n",
       "\n",
       "[5 rows x 38 columns]"
      ]
     },
     "execution_count": 1,
     "metadata": {},
     "output_type": "execute_result"
    }
   ],
   "source": [
    "import pandas as pd\n",
    "import seaborn as sns\n",
    "from statannot import add_stat_annotation\n",
    "import matplotlib.pyplot as plt\n",
    "\n",
    "infile='/Users/irffanalahi/Research/Research_update/SoftRD/largerEXP/OurCD8TIL_ranked/compare_BSseq_EMseq_result/cobining_EXTENDEDsmwithMajorSM/combining_EM_BS/selective_zscore_row_combined.txt'\n",
    "outfile=infile\n",
    "indf=pd.read_csv(infile,sep='\\t')\n",
    "indf.head()"
   ]
  },
  {
   "cell_type": "code",
   "execution_count": 2,
   "metadata": {},
   "outputs": [],
   "source": [
    "zscoredDF=indf"
   ]
  },
  {
   "cell_type": "code",
   "execution_count": 3,
   "metadata": {},
   "outputs": [
    {
     "name": "stdout",
     "output_type": "stream",
     "text": [
      "DCB v.s. NDB: Mann-Whitney-Wilcoxon test two-sided with Bonferroni correction, P_val=2.437e-01 U_stat=1.270e+02\n"
     ]
    },
    {
     "data": {
      "image/png": "[encoded data removed]",
      "text/plain": [
       "<Figure size 432x288 with 1 Axes>"
      ]
     },
     "metadata": {
      "needs_background": "light"
     },
     "output_type": "display_data"
    }
   ],
   "source": [
    "y='CD8TIL'\n",
    "x='Response'\n",
    "order=['DCB','NDB']\n",
    "ax=sns.boxplot(x=x, y=y, data=zscoredDF,order=order,color='white')\n",
    "ax=sns.stripplot(x=x, y=y, data=zscoredDF,order=order,color='black')\n",
    "ax.set_ylabel(y+\" (z-score)\")\n",
    "add_stat_annotation(ax,x=x, y=y, data=zscoredDF,box_pairs=[('DCB','NDB')],test='Mann-Whitney', text_format='simple', loc='inside')\n",
    "plt.savefig(outfile + '_'+x+'_'+y+'.pdf', bbox_inches='tight')"
   ]
  },
  {
   "cell_type": "code",
   "execution_count": 4,
   "metadata": {},
   "outputs": [
    {
     "name": "stdout",
     "output_type": "stream",
     "text": [
      "Severe irAE v.s. No severe irAE: Mann-Whitney-Wilcoxon test two-sided with Bonferroni correction, P_val=1.094e-01 U_stat=1.610e+02\n"
     ]
    },
    {
     "data": {
      "image/png": "[encoded data removed]",
      "text/plain": [
       "<Figure size 432x288 with 1 Axes>"
      ]
     },
     "metadata": {
      "needs_background": "light"
     },
     "output_type": "display_data"
    }
   ],
   "source": [
    "y='CD4TEM_dividedby_CD4 (z-score)'\n",
    "x='irAE'\n",
    "order=['No severe irAE','Severe irAE']\n",
    "ax=sns.boxplot(x=x, y=y, data=zscoredDF,order=order,color='white')\n",
    "ax=sns.stripplot(x=x, y=y, data=zscoredDF,order=order,color='black')\n",
    "ax.set_ylabel(y)\n",
    "add_stat_annotation(ax,x=x, y=y, data=zscoredDF,box_pairs=[('No severe irAE','Severe irAE')],test='Mann-Whitney', text_format='simple', loc='inside')\n",
    "plt.savefig(outfile + '_'+x+'_'+y+'.pdf', bbox_inches='tight')"
   ]
  },
  {
   "cell_type": "code",
   "execution_count": 5,
   "metadata": {},
   "outputs": [
    {
     "name": "stdout",
     "output_type": "stream",
     "text": [
      "Severe irAE v.s. No severe irAE: Mann-Whitney-Wilcoxon test two-sided with Bonferroni correction, P_val=5.039e-02 U_stat=1.700e+02\n"
     ]
    },
    {
     "data": {
      "image/png": "[encoded data removed]",
      "text/plain": [
       "<Figure size 432x288 with 1 Axes>"
      ]
     },
     "metadata": {
      "needs_background": "light"
     },
     "output_type": "display_data"
    }
   ],
   "source": [
    "y='CD4TCM_dividedby_CD4 (z-score)'\n",
    "x='irAE'\n",
    "order=['No severe irAE','Severe irAE']\n",
    "ax=sns.boxplot(x=x, y=y, data=zscoredDF,order=order,color='white')\n",
    "ax=sns.stripplot(x=x, y=y, data=zscoredDF,order=order,color='black')\n",
    "ax.set_ylabel(y)\n",
    "add_stat_annotation(ax,x=x, y=y, data=zscoredDF,box_pairs=[('No severe irAE','Severe irAE')],test='Mann-Whitney', text_format='simple', loc='inside')\n",
    "plt.savefig(outfile + '_'+x+'_'+y+'.pdf', bbox_inches='tight')"
   ]
  }
 ],
 "metadata": {
  "kernelspec": {
   "display_name": "Python 3",
   "language": "python",
   "name": "python3"
  },
  "language_info": {
   "codemirror_mode": {
    "name": "ipython",
    "version": 3
   },
   "file_extension": ".py",
   "mimetype": "text/x-python",
   "name": "python",
   "nbconvert_exporter": "python",
   "pygments_lexer": "ipython3",
   "version": "3.6.7"
  }
 },
 "nbformat": 4,
 "nbformat_minor": 2
}
