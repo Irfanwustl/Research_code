{
 "cells": [
  {
   "cell_type": "code",
   "execution_count": 1,
   "metadata": {},
   "outputs": [
    {
     "data": {
      "text/html": [
       "<div>\n",
       "<style scoped>\n",
       "    .dataframe tbody tr th:only-of-type {\n",
       "        vertical-align: middle;\n",
       "    }\n",
       "\n",
       "    .dataframe tbody tr th {\n",
       "        vertical-align: top;\n",
       "    }\n",
       "\n",
       "    .dataframe thead th {\n",
       "        text-align: right;\n",
       "    }\n",
       "</style>\n",
       "<table border=\"1\" class=\"dataframe\">\n",
       "  <thead>\n",
       "    <tr style=\"text-align: right;\">\n",
       "      <th></th>\n",
       "      <th>Mixture</th>\n",
       "      <th>Toxicity</th>\n",
       "      <th>irAE</th>\n",
       "      <th>CD4TEM_dividedby_CD4 (z-score)</th>\n",
       "      <th>CD4TCM_dividedby_CD4 (z-score)</th>\n",
       "    </tr>\n",
       "  </thead>\n",
       "  <tbody>\n",
       "    <tr>\n",
       "      <th>0</th>\n",
       "      <td>irfrestartYUADD-20-4110-auto</td>\n",
       "      <td>0</td>\n",
       "      <td>No severe irAE</td>\n",
       "      <td>1.112551</td>\n",
       "      <td>0.966931</td>\n",
       "    </tr>\n",
       "    <tr>\n",
       "      <th>1</th>\n",
       "      <td>irfrestartYUBLIT-11-2164-auto</td>\n",
       "      <td>2</td>\n",
       "      <td>No severe irAE</td>\n",
       "      <td>-0.554361</td>\n",
       "      <td>-0.544768</td>\n",
       "    </tr>\n",
       "    <tr>\n",
       "      <th>2</th>\n",
       "      <td>irfrestartYUBRET-15-3411-auto</td>\n",
       "      <td>2</td>\n",
       "      <td>No severe irAE</td>\n",
       "      <td>0.207969</td>\n",
       "      <td>0.252454</td>\n",
       "    </tr>\n",
       "    <tr>\n",
       "      <th>3</th>\n",
       "      <td>irfrestartYUBUMP-14-3166-auto</td>\n",
       "      <td>0</td>\n",
       "      <td>No severe irAE</td>\n",
       "      <td>-1.968597</td>\n",
       "      <td>-1.564909</td>\n",
       "    </tr>\n",
       "    <tr>\n",
       "      <th>4</th>\n",
       "      <td>irfrestartYUCEVO-20-4119-auto</td>\n",
       "      <td>1</td>\n",
       "      <td>No severe irAE</td>\n",
       "      <td>-1.816696</td>\n",
       "      <td>-2.042757</td>\n",
       "    </tr>\n",
       "  </tbody>\n",
       "</table>\n",
       "</div>"
      ],
      "text/plain": [
       "                         Mixture  Toxicity            irAE  \\\n",
       "0   irfrestartYUADD-20-4110-auto         0  No severe irAE   \n",
       "1  irfrestartYUBLIT-11-2164-auto         2  No severe irAE   \n",
       "2  irfrestartYUBRET-15-3411-auto         2  No severe irAE   \n",
       "3  irfrestartYUBUMP-14-3166-auto         0  No severe irAE   \n",
       "4  irfrestartYUCEVO-20-4119-auto         1  No severe irAE   \n",
       "\n",
       "   CD4TEM_dividedby_CD4 (z-score)  CD4TCM_dividedby_CD4 (z-score)  \n",
       "0                        1.112551                        0.966931  \n",
       "1                       -0.554361                       -0.544768  \n",
       "2                        0.207969                        0.252454  \n",
       "3                       -1.968597                       -1.564909  \n",
       "4                       -1.816696                       -2.042757  "
      ]
     },
     "execution_count": 1,
     "metadata": {},
     "output_type": "execute_result"
    }
   ],
   "source": [
    "import pandas as pd\n",
    "import seaborn as sns\n",
    "from statannot import add_stat_annotation\n",
    "import matplotlib.pyplot as plt\n",
    "\n",
    "infile='/Users/irffanalahi/Research/Research_update/SoftRD/largerEXP/OurCD8TIL_ranked/melanoma_EMseq_secondlane/EM_seconbatch_result/using_majorlineage/fortox/combining/method1Fract_CD8TIL_pbl_tum_ranked_SM_top100_SM_unique_maxscore_CSxOut.txt_ctrename.txt_method1Fract_BLU2_majorrankedV1_index.txt_inflectionSM.txt_maxscore_CSxOut.txt_zscore_BSseq.txt'\n",
    "outfile=infile\n",
    "indf=pd.read_csv(infile,sep='\\t')\n",
    "indf.head()"
   ]
  },
  {
   "cell_type": "code",
   "execution_count": 2,
   "metadata": {},
   "outputs": [],
   "source": [
    "zscoredDF=indf"
   ]
  },
  {
   "cell_type": "code",
   "execution_count": 3,
   "metadata": {},
   "outputs": [
    {
     "data": {
      "text/plain": [
       "\"\\ny='CD8TIL_dividedby_CD8 (z-score)'\\nx='Response'\\norder=['DCB','NDB']\\nax=sns.boxplot(x=x, y=y, data=zscoredDF,order=order,color='white')\\nax=sns.stripplot(x=x, y=y, data=zscoredDF,order=order,color='black')\\nax.set_ylabel(y)\\nadd_stat_annotation(ax,x=x, y=y, data=zscoredDF,box_pairs=[('DCB','NDB')],test='Mann-Whitney', text_format='simple', loc='inside')\\nplt.savefig(outfile + '_'+x+'_'+y+'.pdf', bbox_inches='tight')\\n\""
      ]
     },
     "execution_count": 3,
     "metadata": {},
     "output_type": "execute_result"
    }
   ],
   "source": [
    "'''\n",
    "y='CD8TIL_dividedby_CD8 (z-score)'\n",
    "x='Response'\n",
    "order=['DCB','NDB']\n",
    "ax=sns.boxplot(x=x, y=y, data=zscoredDF,order=order,color='white')\n",
    "ax=sns.stripplot(x=x, y=y, data=zscoredDF,order=order,color='black')\n",
    "ax.set_ylabel(y)\n",
    "add_stat_annotation(ax,x=x, y=y, data=zscoredDF,box_pairs=[('DCB','NDB')],test='Mann-Whitney', text_format='simple', loc='inside')\n",
    "plt.savefig(outfile + '_'+x+'_'+y+'.pdf', bbox_inches='tight')\n",
    "'''"
   ]
  },
  {
   "cell_type": "code",
   "execution_count": 4,
   "metadata": {},
   "outputs": [
    {
     "name": "stdout",
     "output_type": "stream",
     "text": [
      "No severe irAE v.s. Severe irAE: Mann-Whitney-Wilcoxon test two-sided with Bonferroni correction, P_val=3.379e-02 U_stat=1.780e+02\n"
     ]
    },
    {
     "data": {
      "image/png": "[encoded data removed]",
      "text/plain": [
       "<Figure size 432x288 with 1 Axes>"
      ]
     },
     "metadata": {
      "needs_background": "light"
     },
     "output_type": "display_data"
    }
   ],
   "source": [
    "y='CD4TEM_dividedby_CD4 (z-score)'\n",
    "x='irAE'\n",
    "order=['No severe irAE','Severe irAE']\n",
    "ax=sns.boxplot(x=x, y=y, data=zscoredDF,order=order,color='white')\n",
    "ax=sns.stripplot(x=x, y=y, data=zscoredDF,order=order,color='black')\n",
    "ax.set_ylabel(y)\n",
    "add_stat_annotation(ax,x=x, y=y, data=zscoredDF,box_pairs=[('No severe irAE','Severe irAE')],test='Mann-Whitney', text_format='simple', loc='inside')\n",
    "plt.savefig(outfile + '_'+x+'_'+y+'.pdf', bbox_inches='tight')"
   ]
  },
  {
   "cell_type": "code",
   "execution_count": 5,
   "metadata": {},
   "outputs": [
    {
     "name": "stdout",
     "output_type": "stream",
     "text": [
      "No severe irAE v.s. Severe irAE: Mann-Whitney-Wilcoxon test two-sided with Bonferroni correction, P_val=1.665e-02 U_stat=1.650e+02\n"
     ]
    },
    {
     "data": {
      "image/png": "[encoded data removed]",
      "text/plain": [
       "<Figure size 432x288 with 1 Axes>"
      ]
     },
     "metadata": {
      "needs_background": "light"
     },
     "output_type": "display_data"
    }
   ],
   "source": [
    "y='CD4TCM_dividedby_CD4 (z-score)'\n",
    "x='irAE'\n",
    "order=['No severe irAE','Severe irAE']\n",
    "ax=sns.boxplot(x=x, y=y, data=zscoredDF,order=order,color='white')\n",
    "ax=sns.stripplot(x=x, y=y, data=zscoredDF,order=order,color='black')\n",
    "ax.set_ylabel(y)\n",
    "add_stat_annotation(ax,x=x, y=y, data=zscoredDF,box_pairs=[('No severe irAE','Severe irAE')],test='Mann-Whitney', text_format='simple', loc='inside')\n",
    "plt.savefig(outfile + '_'+x+'_'+y+'.pdf', bbox_inches='tight')"
   ]
  }
 ],
 "metadata": {
  "kernelspec": {
   "display_name": "Python 3",
   "language": "python",
   "name": "python3"
  },
  "language_info": {
   "codemirror_mode": {
    "name": "ipython",
    "version": 3
   },
   "file_extension": ".py",
   "mimetype": "text/x-python",
   "name": "python",
   "nbconvert_exporter": "python",
   "pygments_lexer": "ipython3",
   "version": "3.6.7"
  }
 },
 "nbformat": 4,
 "nbformat_minor": 2
}
