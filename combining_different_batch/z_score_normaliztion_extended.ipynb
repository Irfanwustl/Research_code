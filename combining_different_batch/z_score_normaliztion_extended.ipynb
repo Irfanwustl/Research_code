{
 "cells": [
  {
   "cell_type": "code",
   "execution_count": 1,
   "metadata": {},
   "outputs": [
    {
     "data": {
      "text/html": [
       "<div>\n",
       "<style scoped>\n",
       "    .dataframe tbody tr th:only-of-type {\n",
       "        vertical-align: middle;\n",
       "    }\n",
       "\n",
       "    .dataframe tbody tr th {\n",
       "        vertical-align: top;\n",
       "    }\n",
       "\n",
       "    .dataframe thead th {\n",
       "        text-align: right;\n",
       "    }\n",
       "</style>\n",
       "<table border=\"1\" class=\"dataframe\">\n",
       "  <thead>\n",
       "    <tr style=\"text-align: right;\">\n",
       "      <th></th>\n",
       "      <th>CD4</th>\n",
       "      <th>CD8</th>\n",
       "      <th>NK</th>\n",
       "      <th>Mono</th>\n",
       "      <th>Bcell</th>\n",
       "      <th>Total</th>\n",
       "      <th>Response</th>\n",
       "      <th>Toxicity</th>\n",
       "      <th>Batch</th>\n",
       "      <th>Sequencing Technology</th>\n",
       "    </tr>\n",
       "    <tr>\n",
       "      <th>Mixture</th>\n",
       "      <th></th>\n",
       "      <th></th>\n",
       "      <th></th>\n",
       "      <th></th>\n",
       "      <th></th>\n",
       "      <th></th>\n",
       "      <th></th>\n",
       "      <th></th>\n",
       "      <th></th>\n",
       "      <th></th>\n",
       "    </tr>\n",
       "  </thead>\n",
       "  <tbody>\n",
       "    <tr>\n",
       "      <th>YUTACI</th>\n",
       "      <td>7.537161</td>\n",
       "      <td>7.654764</td>\n",
       "      <td>13.717121</td>\n",
       "      <td>64.967443</td>\n",
       "      <td>6.123511</td>\n",
       "      <td>100.0</td>\n",
       "      <td>DCB</td>\n",
       "      <td>0.0</td>\n",
       "      <td>1</td>\n",
       "      <td>BS-seq</td>\n",
       "    </tr>\n",
       "    <tr>\n",
       "      <th>YUTORY</th>\n",
       "      <td>13.739127</td>\n",
       "      <td>11.347472</td>\n",
       "      <td>18.417407</td>\n",
       "      <td>44.519744</td>\n",
       "      <td>11.976250</td>\n",
       "      <td>100.0</td>\n",
       "      <td>NDB</td>\n",
       "      <td>3.0</td>\n",
       "      <td>1</td>\n",
       "      <td>BS-seq</td>\n",
       "    </tr>\n",
       "    <tr>\n",
       "      <th>YULENIO</th>\n",
       "      <td>12.929012</td>\n",
       "      <td>7.551904</td>\n",
       "      <td>13.729540</td>\n",
       "      <td>57.912697</td>\n",
       "      <td>7.876848</td>\n",
       "      <td>100.0</td>\n",
       "      <td>DCB</td>\n",
       "      <td>NaN</td>\n",
       "      <td>1</td>\n",
       "      <td>BS-seq</td>\n",
       "    </tr>\n",
       "    <tr>\n",
       "      <th>YUAMIGO</th>\n",
       "      <td>12.069571</td>\n",
       "      <td>11.975249</td>\n",
       "      <td>16.094739</td>\n",
       "      <td>51.785331</td>\n",
       "      <td>8.075110</td>\n",
       "      <td>100.0</td>\n",
       "      <td>DCB</td>\n",
       "      <td>3.0</td>\n",
       "      <td>1</td>\n",
       "      <td>BS-seq</td>\n",
       "    </tr>\n",
       "    <tr>\n",
       "      <th>YUZIRG</th>\n",
       "      <td>9.958169</td>\n",
       "      <td>11.016241</td>\n",
       "      <td>18.783299</td>\n",
       "      <td>52.618689</td>\n",
       "      <td>7.623601</td>\n",
       "      <td>100.0</td>\n",
       "      <td>NDB</td>\n",
       "      <td>0.0</td>\n",
       "      <td>1</td>\n",
       "      <td>BS-seq</td>\n",
       "    </tr>\n",
       "  </tbody>\n",
       "</table>\n",
       "</div>"
      ],
      "text/plain": [
       "               CD4        CD8         NK       Mono      Bcell  Total  \\\n",
       "Mixture                                                                 \n",
       "YUTACI    7.537161   7.654764  13.717121  64.967443   6.123511  100.0   \n",
       "YUTORY   13.739127  11.347472  18.417407  44.519744  11.976250  100.0   \n",
       "YULENIO  12.929012   7.551904  13.729540  57.912697   7.876848  100.0   \n",
       "YUAMIGO  12.069571  11.975249  16.094739  51.785331   8.075110  100.0   \n",
       "YUZIRG    9.958169  11.016241  18.783299  52.618689   7.623601  100.0   \n",
       "\n",
       "        Response  Toxicity  Batch Sequencing Technology  \n",
       "Mixture                                                  \n",
       "YUTACI       DCB       0.0      1                BS-seq  \n",
       "YUTORY       NDB       3.0      1                BS-seq  \n",
       "YULENIO      DCB       NaN      1                BS-seq  \n",
       "YUAMIGO      DCB       3.0      1                BS-seq  \n",
       "YUZIRG       NDB       0.0      1                BS-seq  "
      ]
     },
     "execution_count": 1,
     "metadata": {},
     "output_type": "execute_result"
    }
   ],
   "source": [
    "import pandas as pd\n",
    "import seaborn as sns\n",
    "from statannot import add_stat_annotation\n",
    "import matplotlib.pyplot as plt\n",
    "\n",
    "infile='/Users/irffanalahi/Research/from_irf2_account/for_052622/for_052622/Deconresult_gt/all_melanoma_cfDNA_v2.xlsx'\n",
    "\n",
    "celltype='Mono'\n",
    "the_sheet_name='Major Lineage SM'\n",
    "outfile=infile+\"_\"+the_sheet_name+\"_zscore\"\n",
    "\n",
    "indf=pd.read_excel(open(infile, 'rb'),sheet_name=the_sheet_name,index_col='Mixture')\n",
    "indf.head()"
   ]
  },
  {
   "cell_type": "code",
   "execution_count": 2,
   "metadata": {},
   "outputs": [],
   "source": [
    "columnsfornormalization=['Naive CD4 T', 'Naive CD8', 'Naive B', 'NK', 'Mono','Mac (M0)', 'Mac (M1)', 'Mac (M2)', 'iDC', 'mDC', 'PMN', 'CD8 TCM','CD8 TEM', 'Eosinophil', 'Tregs', 'CD4 TEM', 'CD8 TEMRA','Megakaryocyte', 'CD4 TCM', 'Erythrocyte', 'Memory B', 'CD8TIL','CD4','CD8','Bcell','MelTumor']"
   ]
  },
  {
   "cell_type": "code",
   "execution_count": 3,
   "metadata": {},
   "outputs": [
    {
     "name": "stdout",
     "output_type": "stream",
     "text": [
      "DCB v.s. NDB: Mann-Whitney-Wilcoxon test two-sided with Bonferroni correction, P_val=8.634e-02 U_stat=5.810e+02\n"
     ]
    },
    {
     "data": {
      "image/png": "[encoded data removed]",
      "text/plain": [
       "<Figure size 432x288 with 1 Axes>"
      ]
     },
     "metadata": {
      "needs_background": "light"
     },
     "output_type": "display_data"
    },
    {
     "name": "stdout",
     "output_type": "stream",
     "text": [
      "DCB v.s. NDB: Mann-Whitney-Wilcoxon test two-sided with Bonferroni correction, P_val=9.449e-02 U_stat=8.100e+01\n"
     ]
    },
    {
     "data": {
      "image/png": "[encoded data removed]",
      "text/plain": [
       "<Figure size 432x288 with 1 Axes>"
      ]
     },
     "metadata": {
      "needs_background": "light"
     },
     "output_type": "display_data"
    }
   ],
   "source": [
    "sequencing_technology=list(set(indf['Sequencing Technology'].tolist()))\n",
    "sequencing_technology\n",
    "zscore_dflist=[]\n",
    "for st in sequencing_technology:\n",
    "    zscoredDF=indf[indf['Sequencing Technology']==st].copy()\n",
    "    for col in columnsfornormalization:\n",
    "        if col in indf.columns.tolist():\n",
    "            zscoredDF[col] = (zscoredDF[col] - zscoredDF[col].mean())/zscoredDF[col].std(ddof=0)\n",
    "    \n",
    "    zscore_dflist.append(zscoredDF)\n",
    "    \n",
    "\n",
    "    plt.figure()\n",
    "    y=celltype\n",
    "    x='Response'\n",
    "    order=['DCB','NDB']\n",
    "    currentdf=zscoredDF\n",
    "    ax=sns.boxplot(x=x, y=y, data=currentdf,order=order,color='white')\n",
    "    ax=sns.stripplot(x=x, y=y, data=currentdf,order=order,color='black')\n",
    "    ax.set_ylabel(y+\" (z-score)\")\n",
    "    \n",
    "    plt.title(st, pad=40)\n",
    "    \n",
    "    add_stat_annotation(ax,x=x, y=y, data=currentdf,box_pairs=[('DCB','NDB')],test='Mann-Whitney', text_format='full', loc='outside')\n",
    "    plt.savefig(outfile +'_'+st+ '_zscore_'+x+'_'+y+'.pdf', bbox_inches='tight')\n",
    "    #plt.close()\n",
    "    plt.show()"
   ]
  },
  {
   "cell_type": "code",
   "execution_count": 4,
   "metadata": {},
   "outputs": [],
   "source": [
    "zscore_dflistDF=pd.concat(zscore_dflist)\n",
    "\n",
    "zscore_dflistDF.to_csv(outfile+\".txt\",sep='\\t')"
   ]
  },
  {
   "cell_type": "code",
   "execution_count": 5,
   "metadata": {},
   "outputs": [
    {
     "name": "stdout",
     "output_type": "stream",
     "text": [
      "DCB v.s. NDB: Mann-Whitney-Wilcoxon test two-sided with Bonferroni correction, P_val=1.710e-02 U_stat=1.106e+03\n"
     ]
    },
    {
     "data": {
      "image/png": "[encoded data removed]",
      "text/plain": [
       "<Figure size 432x288 with 1 Axes>"
      ]
     },
     "metadata": {
      "needs_background": "light"
     },
     "output_type": "display_data"
    }
   ],
   "source": [
    "plt.figure()\n",
    "y=celltype\n",
    "x='Response'\n",
    "order=['DCB','NDB']\n",
    "currentdf=zscore_dflistDF\n",
    "ax=sns.boxplot(x=x, y=y, data=currentdf,order=order,color='white')\n",
    "ax=sns.stripplot(x=x, y=y, data=currentdf,order=order,color='black')\n",
    "ax.set_ylabel(y+\" (z-score)\")\n",
    "\n",
    "plt.title('all batches', pad=40)\n",
    "\n",
    "add_stat_annotation(ax,x=x, y=y, data=currentdf,box_pairs=[('DCB','NDB')],test='Mann-Whitney', text_format='full', loc='outside')\n",
    "plt.savefig(outfile +'_ALL_' '_zscore_'+x+'_'+y+'.pdf', bbox_inches='tight')\n",
    "#plt.close()\n",
    "plt.show()"
   ]
  }
 ],
 "metadata": {
  "kernelspec": {
   "display_name": "Python 3",
   "language": "python",
   "name": "python3"
  },
  "language_info": {
   "codemirror_mode": {
    "name": "ipython",
    "version": 3
   },
   "file_extension": ".py",
   "mimetype": "text/x-python",
   "name": "python",
   "nbconvert_exporter": "python",
   "pygments_lexer": "ipython3",
   "version": "3.6.7"
  }
 },
 "nbformat": 4,
 "nbformat_minor": 2
}
