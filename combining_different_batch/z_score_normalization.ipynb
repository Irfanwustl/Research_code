{
 "cells": [
  {
   "cell_type": "code",
   "execution_count": 1,
   "metadata": {},
   "outputs": [
    {
     "data": {
      "text/html": [
       "<div>\n",
       "<style scoped>\n",
       "    .dataframe tbody tr th:only-of-type {\n",
       "        vertical-align: middle;\n",
       "    }\n",
       "\n",
       "    .dataframe tbody tr th {\n",
       "        vertical-align: top;\n",
       "    }\n",
       "\n",
       "    .dataframe thead th {\n",
       "        text-align: right;\n",
       "    }\n",
       "</style>\n",
       "<table border=\"1\" class=\"dataframe\">\n",
       "  <thead>\n",
       "    <tr style=\"text-align: right;\">\n",
       "      <th></th>\n",
       "      <th>Mixture</th>\n",
       "      <th>Naive CD4 T</th>\n",
       "      <th>Naive CD8</th>\n",
       "      <th>Naive B</th>\n",
       "      <th>NK</th>\n",
       "      <th>Mono</th>\n",
       "      <th>Mac (M0)</th>\n",
       "      <th>Mac (M1)</th>\n",
       "      <th>Mac (M2)</th>\n",
       "      <th>iDC</th>\n",
       "      <th>...</th>\n",
       "      <th>Tregs</th>\n",
       "      <th>CD4 TEM</th>\n",
       "      <th>CD8 TEMRA</th>\n",
       "      <th>Megakaryocyte</th>\n",
       "      <th>CD4 TCM</th>\n",
       "      <th>Erythrocyte</th>\n",
       "      <th>Memory B</th>\n",
       "      <th>CD8TIL</th>\n",
       "      <th>Response</th>\n",
       "      <th>Toxicity</th>\n",
       "    </tr>\n",
       "  </thead>\n",
       "  <tbody>\n",
       "    <tr>\n",
       "      <th>0</th>\n",
       "      <td>tot-YUCLUE_20-3998-cfDNA</td>\n",
       "      <td>0.080211</td>\n",
       "      <td>0.076440</td>\n",
       "      <td>0.080704</td>\n",
       "      <td>0.120011</td>\n",
       "      <td>0.139718</td>\n",
       "      <td>0.127254</td>\n",
       "      <td>0.117747</td>\n",
       "      <td>0.104949</td>\n",
       "      <td>0.156625</td>\n",
       "      <td>...</td>\n",
       "      <td>0.098908</td>\n",
       "      <td>0.110806</td>\n",
       "      <td>0.126301</td>\n",
       "      <td>0.364866</td>\n",
       "      <td>0.095536</td>\n",
       "      <td>0.286877</td>\n",
       "      <td>0.075875</td>\n",
       "      <td>0.114821</td>\n",
       "      <td>NDB</td>\n",
       "      <td>NaN</td>\n",
       "    </tr>\n",
       "    <tr>\n",
       "      <th>1</th>\n",
       "      <td>tot-YUMARS_15-3443-cfDNA</td>\n",
       "      <td>0.087460</td>\n",
       "      <td>0.085309</td>\n",
       "      <td>0.086667</td>\n",
       "      <td>0.148495</td>\n",
       "      <td>0.182818</td>\n",
       "      <td>0.149817</td>\n",
       "      <td>0.134918</td>\n",
       "      <td>0.107610</td>\n",
       "      <td>0.156867</td>\n",
       "      <td>...</td>\n",
       "      <td>0.094092</td>\n",
       "      <td>0.110973</td>\n",
       "      <td>0.127492</td>\n",
       "      <td>0.355343</td>\n",
       "      <td>0.095317</td>\n",
       "      <td>0.281729</td>\n",
       "      <td>0.074866</td>\n",
       "      <td>0.131806</td>\n",
       "      <td>DCB</td>\n",
       "      <td>NaN</td>\n",
       "    </tr>\n",
       "    <tr>\n",
       "      <th>2</th>\n",
       "      <td>tot-YUMICRO_20-4006-cfDNA</td>\n",
       "      <td>0.105366</td>\n",
       "      <td>0.108974</td>\n",
       "      <td>0.102689</td>\n",
       "      <td>0.107147</td>\n",
       "      <td>0.125235</td>\n",
       "      <td>0.149912</td>\n",
       "      <td>0.164340</td>\n",
       "      <td>0.148150</td>\n",
       "      <td>0.138021</td>\n",
       "      <td>...</td>\n",
       "      <td>0.099994</td>\n",
       "      <td>0.135910</td>\n",
       "      <td>0.107257</td>\n",
       "      <td>0.234098</td>\n",
       "      <td>0.123518</td>\n",
       "      <td>0.165975</td>\n",
       "      <td>0.088051</td>\n",
       "      <td>0.103787</td>\n",
       "      <td>NDB</td>\n",
       "      <td>NaN</td>\n",
       "    </tr>\n",
       "    <tr>\n",
       "      <th>3</th>\n",
       "      <td>tot-YUMOTE_17-3755-cfDNA</td>\n",
       "      <td>0.093555</td>\n",
       "      <td>0.093465</td>\n",
       "      <td>0.096344</td>\n",
       "      <td>0.103077</td>\n",
       "      <td>0.164439</td>\n",
       "      <td>0.157373</td>\n",
       "      <td>0.162598</td>\n",
       "      <td>0.120904</td>\n",
       "      <td>0.143685</td>\n",
       "      <td>...</td>\n",
       "      <td>0.096139</td>\n",
       "      <td>0.117725</td>\n",
       "      <td>0.106207</td>\n",
       "      <td>0.294016</td>\n",
       "      <td>0.108213</td>\n",
       "      <td>0.250253</td>\n",
       "      <td>0.088282</td>\n",
       "      <td>0.114117</td>\n",
       "      <td>NDB</td>\n",
       "      <td>NaN</td>\n",
       "    </tr>\n",
       "    <tr>\n",
       "      <th>4</th>\n",
       "      <td>tot-YUPRAF_19-3925-cfDNA</td>\n",
       "      <td>0.094513</td>\n",
       "      <td>0.094132</td>\n",
       "      <td>0.090885</td>\n",
       "      <td>0.128325</td>\n",
       "      <td>0.188432</td>\n",
       "      <td>0.144568</td>\n",
       "      <td>0.138062</td>\n",
       "      <td>0.117094</td>\n",
       "      <td>0.152535</td>\n",
       "      <td>...</td>\n",
       "      <td>0.105292</td>\n",
       "      <td>0.125465</td>\n",
       "      <td>0.146364</td>\n",
       "      <td>0.251690</td>\n",
       "      <td>0.121105</td>\n",
       "      <td>0.207566</td>\n",
       "      <td>0.076611</td>\n",
       "      <td>0.163490</td>\n",
       "      <td>DCB</td>\n",
       "      <td>1.0</td>\n",
       "    </tr>\n",
       "  </tbody>\n",
       "</table>\n",
       "<p>5 rows × 25 columns</p>\n",
       "</div>"
      ],
      "text/plain": [
       "                     Mixture  Naive CD4 T  Naive CD8   Naive B        NK  \\\n",
       "0   tot-YUCLUE_20-3998-cfDNA     0.080211   0.076440  0.080704  0.120011   \n",
       "1   tot-YUMARS_15-3443-cfDNA     0.087460   0.085309  0.086667  0.148495   \n",
       "2  tot-YUMICRO_20-4006-cfDNA     0.105366   0.108974  0.102689  0.107147   \n",
       "3   tot-YUMOTE_17-3755-cfDNA     0.093555   0.093465  0.096344  0.103077   \n",
       "4   tot-YUPRAF_19-3925-cfDNA     0.094513   0.094132  0.090885  0.128325   \n",
       "\n",
       "       Mono  Mac (M0)  Mac (M1)  Mac (M2)       iDC  ...     Tregs   CD4 TEM  \\\n",
       "0  0.139718  0.127254  0.117747  0.104949  0.156625  ...  0.098908  0.110806   \n",
       "1  0.182818  0.149817  0.134918  0.107610  0.156867  ...  0.094092  0.110973   \n",
       "2  0.125235  0.149912  0.164340  0.148150  0.138021  ...  0.099994  0.135910   \n",
       "3  0.164439  0.157373  0.162598  0.120904  0.143685  ...  0.096139  0.117725   \n",
       "4  0.188432  0.144568  0.138062  0.117094  0.152535  ...  0.105292  0.125465   \n",
       "\n",
       "   CD8 TEMRA  Megakaryocyte   CD4 TCM  Erythrocyte  Memory B    CD8TIL  \\\n",
       "0   0.126301       0.364866  0.095536     0.286877  0.075875  0.114821   \n",
       "1   0.127492       0.355343  0.095317     0.281729  0.074866  0.131806   \n",
       "2   0.107257       0.234098  0.123518     0.165975  0.088051  0.103787   \n",
       "3   0.106207       0.294016  0.108213     0.250253  0.088282  0.114117   \n",
       "4   0.146364       0.251690  0.121105     0.207566  0.076611  0.163490   \n",
       "\n",
       "   Response  Toxicity  \n",
       "0       NDB       NaN  \n",
       "1       DCB       NaN  \n",
       "2       NDB       NaN  \n",
       "3       NDB       NaN  \n",
       "4       DCB       1.0  \n",
       "\n",
       "[5 rows x 25 columns]"
      ]
     },
     "execution_count": 1,
     "metadata": {},
     "output_type": "execute_result"
    }
   ],
   "source": [
    "import pandas as pd\n",
    "import seaborn as sns\n",
    "from statannot import add_stat_annotation\n",
    "import matplotlib.pyplot as plt\n",
    "\n",
    "infile='/Users/irffanalahi/Research/Research_update/SoftRD/largerEXP/OurCD8TIL_ranked/compare_BSseq_EMseq_result/cross_correlation_divideby_mappedreads/cross_corr_divide_by_avilable_fragmens/raw_score_divby_testedfrag_rename/corr/divbyctfrag_row_combined_allBS.txt'\n",
    "outfile=infile+\"_zscore\"\n",
    "indf=pd.read_csv(infile,sep='\\t')\n",
    "indf.head()"
   ]
  },
  {
   "cell_type": "code",
   "execution_count": 2,
   "metadata": {},
   "outputs": [
    {
     "data": {
      "text/plain": [
       "Index(['Mixture', 'Naive CD4 T', 'Naive CD8', 'Naive B', 'NK', 'Mono',\n",
       "       'Mac (M0)', 'Mac (M1)', 'Mac (M2)', 'iDC', 'mDC', 'PMN', 'CD8 TCM',\n",
       "       'CD8 TEM', 'Eosinophil', 'Tregs', 'CD4 TEM', 'CD8 TEMRA',\n",
       "       'Megakaryocyte', 'CD4 TCM', 'Erythrocyte', 'Memory B', 'CD8TIL',\n",
       "       'Response', 'Toxicity'],\n",
       "      dtype='object')"
      ]
     },
     "execution_count": 2,
     "metadata": {},
     "output_type": "execute_result"
    }
   ],
   "source": [
    "indf.columns"
   ]
  },
  {
   "cell_type": "code",
   "execution_count": 3,
   "metadata": {},
   "outputs": [],
   "source": [
    "zscoredDF=indf.copy()"
   ]
  },
  {
   "cell_type": "code",
   "execution_count": 4,
   "metadata": {},
   "outputs": [],
   "source": [
    "columnsfornormalization=['Naive CD4 T', 'Naive CD8', 'Naive B', 'NK', 'Mono','Mac (M0)', 'Mac (M1)', 'Mac (M2)', 'iDC', 'mDC', 'PMN', 'CD8 TCM','CD8 TEM', 'Eosinophil', 'Tregs', 'CD4 TEM', 'CD8 TEMRA','Megakaryocyte', 'CD4 TCM', 'Erythrocyte', 'Memory B', 'CD8TIL','CD4','CD8','Bcell']"
   ]
  },
  {
   "cell_type": "code",
   "execution_count": 5,
   "metadata": {},
   "outputs": [],
   "source": [
    "for col in columnsfornormalization:\n",
    "    if col in indf.columns.tolist():\n",
    "        zscoredDF[col] = (zscoredDF[col] - zscoredDF[col].mean())/zscoredDF[col].std(ddof=0)"
   ]
  },
  {
   "cell_type": "code",
   "execution_count": 6,
   "metadata": {},
   "outputs": [
    {
     "data": {
      "text/html": [
       "<div>\n",
       "<style scoped>\n",
       "    .dataframe tbody tr th:only-of-type {\n",
       "        vertical-align: middle;\n",
       "    }\n",
       "\n",
       "    .dataframe tbody tr th {\n",
       "        vertical-align: top;\n",
       "    }\n",
       "\n",
       "    .dataframe thead th {\n",
       "        text-align: right;\n",
       "    }\n",
       "</style>\n",
       "<table border=\"1\" class=\"dataframe\">\n",
       "  <thead>\n",
       "    <tr style=\"text-align: right;\">\n",
       "      <th></th>\n",
       "      <th>Mixture</th>\n",
       "      <th>Naive CD4 T</th>\n",
       "      <th>Naive CD8</th>\n",
       "      <th>Naive B</th>\n",
       "      <th>NK</th>\n",
       "      <th>Mono</th>\n",
       "      <th>Mac (M0)</th>\n",
       "      <th>Mac (M1)</th>\n",
       "      <th>Mac (M2)</th>\n",
       "      <th>iDC</th>\n",
       "      <th>...</th>\n",
       "      <th>Tregs</th>\n",
       "      <th>CD4 TEM</th>\n",
       "      <th>CD8 TEMRA</th>\n",
       "      <th>Megakaryocyte</th>\n",
       "      <th>CD4 TCM</th>\n",
       "      <th>Erythrocyte</th>\n",
       "      <th>Memory B</th>\n",
       "      <th>CD8TIL</th>\n",
       "      <th>Response</th>\n",
       "      <th>Toxicity</th>\n",
       "    </tr>\n",
       "  </thead>\n",
       "  <tbody>\n",
       "    <tr>\n",
       "      <th>0</th>\n",
       "      <td>tot-YUCLUE_20-3998-cfDNA</td>\n",
       "      <td>-0.386162</td>\n",
       "      <td>-0.242050</td>\n",
       "      <td>-0.269723</td>\n",
       "      <td>0.140179</td>\n",
       "      <td>-0.593829</td>\n",
       "      <td>-0.520838</td>\n",
       "      <td>-0.402323</td>\n",
       "      <td>0.014269</td>\n",
       "      <td>0.735687</td>\n",
       "      <td>...</td>\n",
       "      <td>0.741844</td>\n",
       "      <td>0.379284</td>\n",
       "      <td>1.062354</td>\n",
       "      <td>0.794395</td>\n",
       "      <td>0.122884</td>\n",
       "      <td>0.664482</td>\n",
       "      <td>0.383496</td>\n",
       "      <td>-0.335980</td>\n",
       "      <td>NDB</td>\n",
       "      <td>NaN</td>\n",
       "    </tr>\n",
       "    <tr>\n",
       "      <th>1</th>\n",
       "      <td>tot-YUMARS_15-3443-cfDNA</td>\n",
       "      <td>0.134730</td>\n",
       "      <td>0.471548</td>\n",
       "      <td>0.255134</td>\n",
       "      <td>1.753762</td>\n",
       "      <td>1.188847</td>\n",
       "      <td>0.758667</td>\n",
       "      <td>0.489676</td>\n",
       "      <td>0.172414</td>\n",
       "      <td>0.751309</td>\n",
       "      <td>...</td>\n",
       "      <td>0.383312</td>\n",
       "      <td>0.388042</td>\n",
       "      <td>1.136692</td>\n",
       "      <td>0.652019</td>\n",
       "      <td>0.110656</td>\n",
       "      <td>0.578374</td>\n",
       "      <td>0.293035</td>\n",
       "      <td>0.069687</td>\n",
       "      <td>DCB</td>\n",
       "      <td>NaN</td>\n",
       "    </tr>\n",
       "    <tr>\n",
       "      <th>2</th>\n",
       "      <td>tot-YUMICRO_20-4006-cfDNA</td>\n",
       "      <td>1.421279</td>\n",
       "      <td>2.375837</td>\n",
       "      <td>1.665396</td>\n",
       "      <td>-0.588551</td>\n",
       "      <td>-1.192877</td>\n",
       "      <td>0.764057</td>\n",
       "      <td>2.018103</td>\n",
       "      <td>2.581170</td>\n",
       "      <td>-0.465003</td>\n",
       "      <td>...</td>\n",
       "      <td>0.822717</td>\n",
       "      <td>1.695980</td>\n",
       "      <td>-0.126523</td>\n",
       "      <td>-1.160714</td>\n",
       "      <td>1.684963</td>\n",
       "      <td>-1.357871</td>\n",
       "      <td>1.475661</td>\n",
       "      <td>-0.599535</td>\n",
       "      <td>NDB</td>\n",
       "      <td>NaN</td>\n",
       "    </tr>\n",
       "    <tr>\n",
       "      <th>3</th>\n",
       "      <td>tot-YUMOTE_17-3755-cfDNA</td>\n",
       "      <td>0.572634</td>\n",
       "      <td>1.127846</td>\n",
       "      <td>1.106879</td>\n",
       "      <td>-0.819151</td>\n",
       "      <td>0.428665</td>\n",
       "      <td>1.187161</td>\n",
       "      <td>1.927597</td>\n",
       "      <td>0.962290</td>\n",
       "      <td>-0.099446</td>\n",
       "      <td>...</td>\n",
       "      <td>0.535736</td>\n",
       "      <td>0.742210</td>\n",
       "      <td>-0.192017</td>\n",
       "      <td>-0.264881</td>\n",
       "      <td>0.830604</td>\n",
       "      <td>0.051864</td>\n",
       "      <td>1.496397</td>\n",
       "      <td>-0.352802</td>\n",
       "      <td>NDB</td>\n",
       "      <td>NaN</td>\n",
       "    </tr>\n",
       "    <tr>\n",
       "      <th>4</th>\n",
       "      <td>tot-YUPRAF_19-3925-cfDNA</td>\n",
       "      <td>0.641461</td>\n",
       "      <td>1.181515</td>\n",
       "      <td>0.626382</td>\n",
       "      <td>0.611114</td>\n",
       "      <td>1.421019</td>\n",
       "      <td>0.460978</td>\n",
       "      <td>0.652972</td>\n",
       "      <td>0.735925</td>\n",
       "      <td>0.471707</td>\n",
       "      <td>...</td>\n",
       "      <td>1.217157</td>\n",
       "      <td>1.148180</td>\n",
       "      <td>2.314789</td>\n",
       "      <td>-0.897694</td>\n",
       "      <td>1.550268</td>\n",
       "      <td>-0.662163</td>\n",
       "      <td>0.449571</td>\n",
       "      <td>0.826431</td>\n",
       "      <td>DCB</td>\n",
       "      <td>1.0</td>\n",
       "    </tr>\n",
       "  </tbody>\n",
       "</table>\n",
       "<p>5 rows × 25 columns</p>\n",
       "</div>"
      ],
      "text/plain": [
       "                     Mixture  Naive CD4 T  Naive CD8   Naive B        NK  \\\n",
       "0   tot-YUCLUE_20-3998-cfDNA    -0.386162  -0.242050 -0.269723  0.140179   \n",
       "1   tot-YUMARS_15-3443-cfDNA     0.134730   0.471548  0.255134  1.753762   \n",
       "2  tot-YUMICRO_20-4006-cfDNA     1.421279   2.375837  1.665396 -0.588551   \n",
       "3   tot-YUMOTE_17-3755-cfDNA     0.572634   1.127846  1.106879 -0.819151   \n",
       "4   tot-YUPRAF_19-3925-cfDNA     0.641461   1.181515  0.626382  0.611114   \n",
       "\n",
       "       Mono  Mac (M0)  Mac (M1)  Mac (M2)       iDC  ...     Tregs   CD4 TEM  \\\n",
       "0 -0.593829 -0.520838 -0.402323  0.014269  0.735687  ...  0.741844  0.379284   \n",
       "1  1.188847  0.758667  0.489676  0.172414  0.751309  ...  0.383312  0.388042   \n",
       "2 -1.192877  0.764057  2.018103  2.581170 -0.465003  ...  0.822717  1.695980   \n",
       "3  0.428665  1.187161  1.927597  0.962290 -0.099446  ...  0.535736  0.742210   \n",
       "4  1.421019  0.460978  0.652972  0.735925  0.471707  ...  1.217157  1.148180   \n",
       "\n",
       "   CD8 TEMRA  Megakaryocyte   CD4 TCM  Erythrocyte  Memory B    CD8TIL  \\\n",
       "0   1.062354       0.794395  0.122884     0.664482  0.383496 -0.335980   \n",
       "1   1.136692       0.652019  0.110656     0.578374  0.293035  0.069687   \n",
       "2  -0.126523      -1.160714  1.684963    -1.357871  1.475661 -0.599535   \n",
       "3  -0.192017      -0.264881  0.830604     0.051864  1.496397 -0.352802   \n",
       "4   2.314789      -0.897694  1.550268    -0.662163  0.449571  0.826431   \n",
       "\n",
       "   Response  Toxicity  \n",
       "0       NDB       NaN  \n",
       "1       DCB       NaN  \n",
       "2       NDB       NaN  \n",
       "3       NDB       NaN  \n",
       "4       DCB       1.0  \n",
       "\n",
       "[5 rows x 25 columns]"
      ]
     },
     "execution_count": 6,
     "metadata": {},
     "output_type": "execute_result"
    }
   ],
   "source": [
    "zscoredDF.head()"
   ]
  },
  {
   "cell_type": "code",
   "execution_count": 7,
   "metadata": {},
   "outputs": [],
   "source": [
    "zscoredDF.to_csv(outfile+\".txt\",sep='\\t',index=False,na_rep='NA')"
   ]
  },
  {
   "cell_type": "code",
   "execution_count": 8,
   "metadata": {},
   "outputs": [],
   "source": [
    "zscoredDF.loc[zscoredDF['Toxicity']>2,'irAE']='Severe irAE'\n",
    "zscoredDF.loc[zscoredDF['Toxicity']<=2,'irAE']='No severe irAE'"
   ]
  },
  {
   "cell_type": "code",
   "execution_count": 9,
   "metadata": {},
   "outputs": [
    {
     "name": "stdout",
     "output_type": "stream",
     "text": [
      "NDB v.s. DCB: Mann-Whitney-Wilcoxon test two-sided with Bonferroni correction, P_val=1.854e-02 U_stat=2.100e+01\n"
     ]
    },
    {
     "data": {
      "text/plain": [
       "(<matplotlib.axes._subplots.AxesSubplot at 0x7fd212726b70>,\n",
       " [<statannot.StatResult.StatResult at 0x7fd21302c898>])"
      ]
     },
     "execution_count": 9,
     "metadata": {},
     "output_type": "execute_result"
    },
    {
     "data": {
      "image/png": "[encoded data removed]",
      "text/plain": [
       "<Figure size 432x288 with 1 Axes>"
      ]
     },
     "metadata": {
      "needs_background": "light"
     },
     "output_type": "display_data"
    }
   ],
   "source": [
    "ax=sns.boxplot(x='Response', y='CD8TIL', data=zscoredDF,color='white',order=['DCB','NDB'])\n",
    "ax=sns.stripplot(x='Response', y='CD8TIL', data=zscoredDF,color='black',order=['DCB','NDB'])\n",
    "add_stat_annotation(ax,x='Response', y='CD8TIL', data=zscoredDF,box_pairs=[('DCB','NDB')],test='Mann-Whitney', text_format='simple', loc='inside')"
   ]
  },
  {
   "cell_type": "code",
   "execution_count": 10,
   "metadata": {},
   "outputs": [
    {
     "name": "stdout",
     "output_type": "stream",
     "text": [
      "NDB v.s. DCB: Mann-Whitney-Wilcoxon test two-sided with Bonferroni correction, P_val=1.854e-02 U_stat=2.100e+01\n"
     ]
    },
    {
     "data": {
      "image/png": "[encoded data removed]",
      "text/plain": [
       "<Figure size 432x288 with 1 Axes>"
      ]
     },
     "metadata": {
      "needs_background": "light"
     },
     "output_type": "display_data"
    }
   ],
   "source": [
    "y='CD8TIL'\n",
    "x='Response'\n",
    "order=['DCB','NDB']\n",
    "ax=sns.boxplot(x=x, y=y, data=zscoredDF,order=order,color='white')\n",
    "ax=sns.stripplot(x=x, y=y, data=zscoredDF,order=order,color='black')\n",
    "ax.set_ylabel(y+\" (z-score)\")\n",
    "add_stat_annotation(ax,x=x, y=y, data=zscoredDF,box_pairs=[('DCB','NDB')],test='Mann-Whitney', text_format='simple', loc='inside')\n",
    "plt.savefig(outfile + '_'+x+'_'+y+'.pdf', bbox_inches='tight')"
   ]
  },
  {
   "cell_type": "code",
   "execution_count": 11,
   "metadata": {
    "scrolled": true
   },
   "outputs": [
    {
     "name": "stderr",
     "output_type": "stream",
     "text": [
      "/Library/Frameworks/Python.framework/Versions/3.6/lib/python3.6/site-packages/numpy/core/_asarray.py:83: VisibleDeprecationWarning: Creating an ndarray from ragged nested sequences (which is a list-or-tuple of lists-or-tuples-or ndarrays with different lengths or shapes) is deprecated. If you meant to do this, you must specify 'dtype=object' when creating the ndarray\n",
      "  return array(a, dtype, copy=False, order=order)\n"
     ]
    },
    {
     "data": {
      "text/plain": [
       "<matplotlib.axes._subplots.AxesSubplot at 0x7fd213388be0>"
      ]
     },
     "execution_count": 11,
     "metadata": {},
     "output_type": "execute_result"
    },
    {
     "data": {
      "image/png": "[encoded data removed]",
      "text/plain": [
       "<Figure size 432x288 with 1 Axes>"
      ]
     },
     "metadata": {
      "needs_background": "light"
     },
     "output_type": "display_data"
    }
   ],
   "source": [
    "zscoredDF.boxplot(column='CD8TIL', by='Response')"
   ]
  },
  {
   "cell_type": "code",
   "execution_count": 12,
   "metadata": {},
   "outputs": [
    {
     "name": "stdout",
     "output_type": "stream",
     "text": [
      "No severe irAE v.s. Severe irAE: Mann-Whitney-Wilcoxon test two-sided with Bonferroni correction, P_val=3.165e-01 U_stat=1.800e+01\n"
     ]
    },
    {
     "data": {
      "image/png": "[encoded data removed]",
      "text/plain": [
       "<Figure size 432x288 with 1 Axes>"
      ]
     },
     "metadata": {
      "needs_background": "light"
     },
     "output_type": "display_data"
    }
   ],
   "source": [
    "\n",
    "y='CD4 TCM'\n",
    "x='irAE'\n",
    "order=['No severe irAE','Severe irAE']\n",
    "ax=sns.boxplot(x=x, y=y, data=zscoredDF,order=order,color='white')\n",
    "ax=sns.stripplot(x=x, y=y, data=zscoredDF,order=order,color='black')\n",
    "ax.set_ylabel(y+\" (z-score)\")\n",
    "add_stat_annotation(ax,x=x, y=y, data=zscoredDF,box_pairs=[('No severe irAE','Severe irAE')],test='Mann-Whitney', text_format='simple', loc='inside')\n",
    "plt.savefig(outfile + '_'+x+'_'+y+'.pdf', bbox_inches='tight')"
   ]
  },
  {
   "cell_type": "code",
   "execution_count": 13,
   "metadata": {
    "scrolled": true
   },
   "outputs": [
    {
     "name": "stderr",
     "output_type": "stream",
     "text": [
      "/Library/Frameworks/Python.framework/Versions/3.6/lib/python3.6/site-packages/numpy/core/_asarray.py:83: VisibleDeprecationWarning: Creating an ndarray from ragged nested sequences (which is a list-or-tuple of lists-or-tuples-or ndarrays with different lengths or shapes) is deprecated. If you meant to do this, you must specify 'dtype=object' when creating the ndarray\n",
      "  return array(a, dtype, copy=False, order=order)\n"
     ]
    },
    {
     "data": {
      "text/plain": [
       "<matplotlib.axes._subplots.AxesSubplot at 0x7fd213466860>"
      ]
     },
     "execution_count": 13,
     "metadata": {},
     "output_type": "execute_result"
    },
    {
     "data": {
      "image/png": "[encoded data removed]",
      "text/plain": [
       "<Figure size 432x288 with 1 Axes>"
      ]
     },
     "metadata": {
      "needs_background": "light"
     },
     "output_type": "display_data"
    }
   ],
   "source": [
    "zscoredDF.boxplot(column='CD4 TCM', by='irAE')"
   ]
  },
  {
   "cell_type": "code",
   "execution_count": 14,
   "metadata": {},
   "outputs": [
    {
     "name": "stdout",
     "output_type": "stream",
     "text": [
      "No severe irAE v.s. Severe irAE: Mann-Whitney-Wilcoxon test two-sided with Bonferroni correction, P_val=2.629e-01 U_stat=1.700e+01\n"
     ]
    },
    {
     "data": {
      "image/png": "[encoded data removed]",
      "text/plain": [
       "<Figure size 432x288 with 1 Axes>"
      ]
     },
     "metadata": {
      "needs_background": "light"
     },
     "output_type": "display_data"
    }
   ],
   "source": [
    "y='CD4 TEM'\n",
    "x='irAE'\n",
    "order=['No severe irAE','Severe irAE']\n",
    "ax=sns.boxplot(x=x, y=y, data=zscoredDF,order=order,color='white')\n",
    "ax=sns.stripplot(x=x, y=y, data=zscoredDF,order=order,color='black')\n",
    "ax.set_ylabel(y+\" (z-score)\")\n",
    "add_stat_annotation(ax,x=x, y=y, data=zscoredDF,box_pairs=[('No severe irAE','Severe irAE')],test='Mann-Whitney', text_format='simple', loc='inside')\n",
    "plt.savefig(outfile + '_'+x+'_'+y+'.pdf', bbox_inches='tight')"
   ]
  },
  {
   "cell_type": "code",
   "execution_count": 15,
   "metadata": {},
   "outputs": [
    {
     "name": "stderr",
     "output_type": "stream",
     "text": [
      "/Library/Frameworks/Python.framework/Versions/3.6/lib/python3.6/site-packages/numpy/core/_asarray.py:83: VisibleDeprecationWarning: Creating an ndarray from ragged nested sequences (which is a list-or-tuple of lists-or-tuples-or ndarrays with different lengths or shapes) is deprecated. If you meant to do this, you must specify 'dtype=object' when creating the ndarray\n",
      "  return array(a, dtype, copy=False, order=order)\n"
     ]
    },
    {
     "data": {
      "text/plain": [
       "<matplotlib.axes._subplots.AxesSubplot at 0x7fd2135b9630>"
      ]
     },
     "execution_count": 15,
     "metadata": {},
     "output_type": "execute_result"
    },
    {
     "data": {
      "image/png": "[encoded data removed]",
      "text/plain": [
       "<Figure size 432x288 with 1 Axes>"
      ]
     },
     "metadata": {
      "needs_background": "light"
     },
     "output_type": "display_data"
    }
   ],
   "source": [
    "zscoredDF.boxplot(column='CD4 TEM', by='irAE')"
   ]
  },
  {
   "cell_type": "code",
   "execution_count": 16,
   "metadata": {},
   "outputs": [
    {
     "name": "stderr",
     "output_type": "stream",
     "text": [
      "/Library/Frameworks/Python.framework/Versions/3.6/lib/python3.6/site-packages/numpy/core/_asarray.py:83: VisibleDeprecationWarning: Creating an ndarray from ragged nested sequences (which is a list-or-tuple of lists-or-tuples-or ndarrays with different lengths or shapes) is deprecated. If you meant to do this, you must specify 'dtype=object' when creating the ndarray\n",
      "  return array(a, dtype, copy=False, order=order)\n"
     ]
    },
    {
     "data": {
      "text/plain": [
       "<matplotlib.axes._subplots.AxesSubplot at 0x7fd2138672b0>"
      ]
     },
     "execution_count": 16,
     "metadata": {},
     "output_type": "execute_result"
    },
    {
     "data": {
      "image/png": "[encoded data removed]",
      "text/plain": [
       "<Figure size 432x288 with 1 Axes>"
      ]
     },
     "metadata": {
      "needs_background": "light"
     },
     "output_type": "display_data"
    }
   ],
   "source": [
    "zscoredDF.boxplot(column='CD4 TCM', by='Toxicity')"
   ]
  },
  {
   "cell_type": "code",
   "execution_count": 17,
   "metadata": {},
   "outputs": [
    {
     "name": "stderr",
     "output_type": "stream",
     "text": [
      "/Library/Frameworks/Python.framework/Versions/3.6/lib/python3.6/site-packages/numpy/core/_asarray.py:83: VisibleDeprecationWarning: Creating an ndarray from ragged nested sequences (which is a list-or-tuple of lists-or-tuples-or ndarrays with different lengths or shapes) is deprecated. If you meant to do this, you must specify 'dtype=object' when creating the ndarray\n",
      "  return array(a, dtype, copy=False, order=order)\n"
     ]
    },
    {
     "data": {
      "text/plain": [
       "<matplotlib.axes._subplots.AxesSubplot at 0x7fd213ad8ef0>"
      ]
     },
     "execution_count": 17,
     "metadata": {},
     "output_type": "execute_result"
    },
    {
     "data": {
      "image/png": "[encoded data removed]",
      "text/plain": [
       "<Figure size 432x288 with 1 Axes>"
      ]
     },
     "metadata": {
      "needs_background": "light"
     },
     "output_type": "display_data"
    }
   ],
   "source": [
    "zscoredDF.boxplot(column='CD4 TEM', by='Toxicity')"
   ]
  },
  {
   "cell_type": "code",
   "execution_count": 18,
   "metadata": {},
   "outputs": [],
   "source": [
    "zscoredDF.to_csv(outfile+\"_fullannotattion.txt\",sep='\\t',index=False,na_rep='NA')"
   ]
  }
 ],
 "metadata": {
  "kernelspec": {
   "display_name": "Python 3",
   "language": "python",
   "name": "python3"
  },
  "language_info": {
   "codemirror_mode": {
    "name": "ipython",
    "version": 3
   },
   "file_extension": ".py",
   "mimetype": "text/x-python",
   "name": "python",
   "nbconvert_exporter": "python",
   "pygments_lexer": "ipython3",
   "version": "3.6.7"
  }
 },
 "nbformat": 4,
 "nbformat_minor": 2
}
