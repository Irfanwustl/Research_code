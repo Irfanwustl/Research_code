{
 "cells": [
  {
   "cell_type": "code",
   "execution_count": 1,
   "metadata": {},
   "outputs": [
    {
     "data": {
      "text/html": [
       "<div>\n",
       "<style scoped>\n",
       "    .dataframe tbody tr th:only-of-type {\n",
       "        vertical-align: middle;\n",
       "    }\n",
       "\n",
       "    .dataframe tbody tr th {\n",
       "        vertical-align: top;\n",
       "    }\n",
       "\n",
       "    .dataframe thead th {\n",
       "        text-align: right;\n",
       "    }\n",
       "</style>\n",
       "<table border=\"1\" class=\"dataframe\">\n",
       "  <thead>\n",
       "    <tr style=\"text-align: right;\">\n",
       "      <th></th>\n",
       "      <th>YU ID</th>\n",
       "      <th>Naive CD4 T</th>\n",
       "      <th>Naive CD8</th>\n",
       "      <th>Naive B</th>\n",
       "      <th>NK</th>\n",
       "      <th>Mono</th>\n",
       "      <th>Mac (M0)</th>\n",
       "      <th>Mac (M1)</th>\n",
       "      <th>Mac (M2)</th>\n",
       "      <th>iDC</th>\n",
       "      <th>...</th>\n",
       "      <th>CD4 TEM</th>\n",
       "      <th>CD8 TEMRA</th>\n",
       "      <th>Megakaryocyte</th>\n",
       "      <th>CD4 TCM</th>\n",
       "      <th>Erythrocyte</th>\n",
       "      <th>Memory B</th>\n",
       "      <th>CD8TIL</th>\n",
       "      <th>Total</th>\n",
       "      <th>Response</th>\n",
       "      <th>Toxicity</th>\n",
       "    </tr>\n",
       "    <tr>\n",
       "      <th>Mixture</th>\n",
       "      <th></th>\n",
       "      <th></th>\n",
       "      <th></th>\n",
       "      <th></th>\n",
       "      <th></th>\n",
       "      <th></th>\n",
       "      <th></th>\n",
       "      <th></th>\n",
       "      <th></th>\n",
       "      <th></th>\n",
       "      <th></th>\n",
       "      <th></th>\n",
       "      <th></th>\n",
       "      <th></th>\n",
       "      <th></th>\n",
       "      <th></th>\n",
       "      <th></th>\n",
       "      <th></th>\n",
       "      <th></th>\n",
       "      <th></th>\n",
       "      <th></th>\n",
       "    </tr>\n",
       "  </thead>\n",
       "  <tbody>\n",
       "    <tr>\n",
       "      <th>tot-YUCLUE_20-3998-cfDNA</th>\n",
       "      <td>YUCLUE</td>\n",
       "      <td>2.493639</td>\n",
       "      <td>2.464160</td>\n",
       "      <td>2.490712</td>\n",
       "      <td>3.141181</td>\n",
       "      <td>4.396388</td>\n",
       "      <td>4.806204</td>\n",
       "      <td>4.119200</td>\n",
       "      <td>3.264635</td>\n",
       "      <td>4.716480</td>\n",
       "      <td>...</td>\n",
       "      <td>3.705564</td>\n",
       "      <td>3.496888</td>\n",
       "      <td>11.678026</td>\n",
       "      <td>3.197163</td>\n",
       "      <td>8.854778</td>\n",
       "      <td>2.034696</td>\n",
       "      <td>2.610428</td>\n",
       "      <td>100</td>\n",
       "      <td>NDB</td>\n",
       "      <td>NaN</td>\n",
       "    </tr>\n",
       "    <tr>\n",
       "      <th>tot-YUMARS_15-3443-cfDNA</th>\n",
       "      <td>YUMARS</td>\n",
       "      <td>2.494741</td>\n",
       "      <td>2.525881</td>\n",
       "      <td>2.529701</td>\n",
       "      <td>3.624588</td>\n",
       "      <td>5.597168</td>\n",
       "      <td>5.382108</td>\n",
       "      <td>4.511471</td>\n",
       "      <td>3.157593</td>\n",
       "      <td>4.364970</td>\n",
       "      <td>...</td>\n",
       "      <td>3.837251</td>\n",
       "      <td>3.462013</td>\n",
       "      <td>11.058916</td>\n",
       "      <td>3.186244</td>\n",
       "      <td>8.419081</td>\n",
       "      <td>1.977156</td>\n",
       "      <td>2.580922</td>\n",
       "      <td>100</td>\n",
       "      <td>DCB</td>\n",
       "      <td>NaN</td>\n",
       "    </tr>\n",
       "    <tr>\n",
       "      <th>tot-YUMICRO_20-4006-cfDNA</th>\n",
       "      <td>YUMICRO</td>\n",
       "      <td>3.328265</td>\n",
       "      <td>3.491512</td>\n",
       "      <td>3.306904</td>\n",
       "      <td>2.868509</td>\n",
       "      <td>4.253649</td>\n",
       "      <td>5.836782</td>\n",
       "      <td>5.787147</td>\n",
       "      <td>4.643044</td>\n",
       "      <td>4.217909</td>\n",
       "      <td>...</td>\n",
       "      <td>5.294548</td>\n",
       "      <td>3.189113</td>\n",
       "      <td>8.359426</td>\n",
       "      <td>4.619817</td>\n",
       "      <td>5.500469</td>\n",
       "      <td>2.522093</td>\n",
       "      <td>2.391333</td>\n",
       "      <td>100</td>\n",
       "      <td>NDB</td>\n",
       "      <td>NaN</td>\n",
       "    </tr>\n",
       "    <tr>\n",
       "      <th>tot-YUMOTE_17-3755-cfDNA</th>\n",
       "      <td>YUMOTE</td>\n",
       "      <td>2.728999</td>\n",
       "      <td>2.936065</td>\n",
       "      <td>2.912076</td>\n",
       "      <td>2.629696</td>\n",
       "      <td>5.241654</td>\n",
       "      <td>5.774284</td>\n",
       "      <td>5.465563</td>\n",
       "      <td>3.550091</td>\n",
       "      <td>3.929663</td>\n",
       "      <td>...</td>\n",
       "      <td>4.593062</td>\n",
       "      <td>2.964417</td>\n",
       "      <td>10.225553</td>\n",
       "      <td>3.977248</td>\n",
       "      <td>7.891040</td>\n",
       "      <td>2.374546</td>\n",
       "      <td>2.636142</td>\n",
       "      <td>100</td>\n",
       "      <td>NDB</td>\n",
       "      <td>NaN</td>\n",
       "    </tr>\n",
       "    <tr>\n",
       "      <th>tot-YUPRAF_19-3925-cfDNA</th>\n",
       "      <td>YUPRAF</td>\n",
       "      <td>2.680527</td>\n",
       "      <td>2.696936</td>\n",
       "      <td>2.587731</td>\n",
       "      <td>3.112085</td>\n",
       "      <td>5.621401</td>\n",
       "      <td>4.968412</td>\n",
       "      <td>4.521435</td>\n",
       "      <td>3.304701</td>\n",
       "      <td>4.160581</td>\n",
       "      <td>...</td>\n",
       "      <td>4.420184</td>\n",
       "      <td>3.933808</td>\n",
       "      <td>8.091075</td>\n",
       "      <td>4.129331</td>\n",
       "      <td>6.133583</td>\n",
       "      <td>1.957386</td>\n",
       "      <td>3.268887</td>\n",
       "      <td>100</td>\n",
       "      <td>DCB</td>\n",
       "      <td>1.0</td>\n",
       "    </tr>\n",
       "  </tbody>\n",
       "</table>\n",
       "<p>5 rows × 26 columns</p>\n",
       "</div>"
      ],
      "text/plain": [
       "                             YU ID  Naive CD4 T  Naive CD8   Naive B  \\\n",
       "Mixture                                                                \n",
       "tot-YUCLUE_20-3998-cfDNA    YUCLUE     2.493639   2.464160  2.490712   \n",
       "tot-YUMARS_15-3443-cfDNA    YUMARS     2.494741   2.525881  2.529701   \n",
       "tot-YUMICRO_20-4006-cfDNA  YUMICRO     3.328265   3.491512  3.306904   \n",
       "tot-YUMOTE_17-3755-cfDNA    YUMOTE     2.728999   2.936065  2.912076   \n",
       "tot-YUPRAF_19-3925-cfDNA    YUPRAF     2.680527   2.696936  2.587731   \n",
       "\n",
       "                                 NK      Mono  Mac (M0)  Mac (M1)  Mac (M2)  \\\n",
       "Mixture                                                                       \n",
       "tot-YUCLUE_20-3998-cfDNA   3.141181  4.396388  4.806204  4.119200  3.264635   \n",
       "tot-YUMARS_15-3443-cfDNA   3.624588  5.597168  5.382108  4.511471  3.157593   \n",
       "tot-YUMICRO_20-4006-cfDNA  2.868509  4.253649  5.836782  5.787147  4.643044   \n",
       "tot-YUMOTE_17-3755-cfDNA   2.629696  5.241654  5.774284  5.465563  3.550091   \n",
       "tot-YUPRAF_19-3925-cfDNA   3.112085  5.621401  4.968412  4.521435  3.304701   \n",
       "\n",
       "                                iDC  ...   CD4 TEM  CD8 TEMRA  Megakaryocyte  \\\n",
       "Mixture                              ...                                       \n",
       "tot-YUCLUE_20-3998-cfDNA   4.716480  ...  3.705564   3.496888      11.678026   \n",
       "tot-YUMARS_15-3443-cfDNA   4.364970  ...  3.837251   3.462013      11.058916   \n",
       "tot-YUMICRO_20-4006-cfDNA  4.217909  ...  5.294548   3.189113       8.359426   \n",
       "tot-YUMOTE_17-3755-cfDNA   3.929663  ...  4.593062   2.964417      10.225553   \n",
       "tot-YUPRAF_19-3925-cfDNA   4.160581  ...  4.420184   3.933808       8.091075   \n",
       "\n",
       "                            CD4 TCM  Erythrocyte  Memory B    CD8TIL  Total  \\\n",
       "Mixture                                                                       \n",
       "tot-YUCLUE_20-3998-cfDNA   3.197163     8.854778  2.034696  2.610428    100   \n",
       "tot-YUMARS_15-3443-cfDNA   3.186244     8.419081  1.977156  2.580922    100   \n",
       "tot-YUMICRO_20-4006-cfDNA  4.619817     5.500469  2.522093  2.391333    100   \n",
       "tot-YUMOTE_17-3755-cfDNA   3.977248     7.891040  2.374546  2.636142    100   \n",
       "tot-YUPRAF_19-3925-cfDNA   4.129331     6.133583  1.957386  3.268887    100   \n",
       "\n",
       "                           Response  Toxicity  \n",
       "Mixture                                        \n",
       "tot-YUCLUE_20-3998-cfDNA        NDB       NaN  \n",
       "tot-YUMARS_15-3443-cfDNA        DCB       NaN  \n",
       "tot-YUMICRO_20-4006-cfDNA       NDB       NaN  \n",
       "tot-YUMOTE_17-3755-cfDNA        NDB       NaN  \n",
       "tot-YUPRAF_19-3925-cfDNA        DCB       1.0  \n",
       "\n",
       "[5 rows x 26 columns]"
      ]
     },
     "execution_count": 1,
     "metadata": {},
     "output_type": "execute_result"
    }
   ],
   "source": [
    "import pandas as pd\n",
    "import matplotlib.pyplot as plt\n",
    "import seaborn as sns\n",
    "from statannot import add_stat_annotation\n",
    "import os\n",
    "\n",
    "infile='/Users/irffanalahi/Research/Research_update/SoftRD/largerEXP/OurCD8TIL_ranked/compare_BSseq_EMseq_result/cobining_EXTENDEDsmwithMajorSM/BS_melanoma_cfDNA_relative.txt'\n",
    "majorlineagefile='/Users/irffanalahi/Research/Research_update/SoftRD/largerEXP/OurCD8TIL_ranked/compare_BSseq_EMseq_result/cobining_EXTENDEDsmwithMajorSM/BS_majorlineageSM.txt'\n",
    "\n",
    "outname=infile+\"_\"+os.path.basename(majorlineagefile)+\"_zscore\"\n",
    "\n",
    "indf=pd.read_csv(infile,sep='\\t',index_col='Mixture')\n",
    "indf.head()"
   ]
  },
  {
   "cell_type": "code",
   "execution_count": 2,
   "metadata": {},
   "outputs": [],
   "source": [
    "indf.loc[indf['Toxicity']>2,'irAE']='Severe irAE'\n",
    "indf.loc[indf['Toxicity']<=2,'irAE']='No severe irAE'"
   ]
  },
  {
   "cell_type": "code",
   "execution_count": 3,
   "metadata": {},
   "outputs": [
    {
     "data": {
      "text/plain": [
       "(15, 27)"
      ]
     },
     "execution_count": 3,
     "metadata": {},
     "output_type": "execute_result"
    }
   ],
   "source": [
    "toxdf=indf[indf['Toxicity'].notna()]\n",
    "toxdf.shape"
   ]
  },
  {
   "cell_type": "code",
   "execution_count": 4,
   "metadata": {},
   "outputs": [
    {
     "name": "stdout",
     "output_type": "stream",
     "text": [
      "No severe irAE v.s. Severe irAE: Mann-Whitney-Wilcoxon test two-sided with Bonferroni correction, P_val=8.748e-02 U_stat=1.200e+01\n"
     ]
    },
    {
     "data": {
      "text/plain": [
       "(<matplotlib.axes._subplots.AxesSubplot at 0x7faf94cfc4e0>,\n",
       " [<statannot.StatResult.StatResult at 0x7faf94dac2e8>])"
      ]
     },
     "execution_count": 4,
     "metadata": {},
     "output_type": "execute_result"
    },
    {
     "data": {
      "image/png": "[encoded data removed]",
      "text/plain": [
       "<Figure size 432x288 with 1 Axes>"
      ]
     },
     "metadata": {
      "needs_background": "light"
     },
     "output_type": "display_data"
    }
   ],
   "source": [
    "y='CD4 TEM'\n",
    "x='irAE'\n",
    "order=['No severe irAE','Severe irAE']\n",
    "\n",
    "plottingdf=toxdf\n",
    "\n",
    "ax=sns.boxplot(x=x, y=y, data=plottingdf,order=order,color='white')\n",
    "ax=sns.stripplot(x=x, y=y, data=plottingdf,order=order,color='black')\n",
    "ax.set_ylabel(y)\n",
    "add_stat_annotation(ax,x=x, y=y, data=plottingdf,box_pairs=[('No severe irAE','Severe irAE')],test='Mann-Whitney', text_format='simple', loc='inside')\n",
    "#plt.savefig(outfile + '_'+x+'_'+y+'.pdf', bbox_inches='tight')"
   ]
  },
  {
   "cell_type": "code",
   "execution_count": 5,
   "metadata": {},
   "outputs": [
    {
     "name": "stdout",
     "output_type": "stream",
     "text": [
      "No severe irAE v.s. Severe irAE: Mann-Whitney-Wilcoxon test two-sided with Bonferroni correction, P_val=2.924e-02 U_stat=8.000e+00\n"
     ]
    },
    {
     "data": {
      "text/plain": [
       "(<matplotlib.axes._subplots.AxesSubplot at 0x7faf94e85748>,\n",
       " [<statannot.StatResult.StatResult at 0x7faf94deb128>])"
      ]
     },
     "execution_count": 5,
     "metadata": {},
     "output_type": "execute_result"
    },
    {
     "data": {
      "image/png": "[encoded data removed]",
      "text/plain": [
       "<Figure size 432x288 with 1 Axes>"
      ]
     },
     "metadata": {
      "needs_background": "light"
     },
     "output_type": "display_data"
    }
   ],
   "source": [
    "y='CD4 TCM'\n",
    "x='irAE'\n",
    "order=['No severe irAE','Severe irAE']\n",
    "\n",
    "plottingdf=toxdf\n",
    "\n",
    "ax=sns.boxplot(x=x, y=y, data=plottingdf,order=order,color='white')\n",
    "ax=sns.stripplot(x=x, y=y, data=plottingdf,order=order,color='black')\n",
    "ax.set_ylabel(y)\n",
    "add_stat_annotation(ax,x=x, y=y, data=plottingdf,box_pairs=[('No severe irAE','Severe irAE')],test='Mann-Whitney', text_format='simple', loc='inside')\n",
    "#plt.savefig(outfile + '_'+x+'_'+y+'.pdf', bbox_inches='tight')"
   ]
  },
  {
   "cell_type": "code",
   "execution_count": 6,
   "metadata": {},
   "outputs": [
    {
     "data": {
      "text/html": [
       "<div>\n",
       "<style scoped>\n",
       "    .dataframe tbody tr th:only-of-type {\n",
       "        vertical-align: middle;\n",
       "    }\n",
       "\n",
       "    .dataframe tbody tr th {\n",
       "        vertical-align: top;\n",
       "    }\n",
       "\n",
       "    .dataframe thead th {\n",
       "        text-align: right;\n",
       "    }\n",
       "</style>\n",
       "<table border=\"1\" class=\"dataframe\">\n",
       "  <thead>\n",
       "    <tr style=\"text-align: right;\">\n",
       "      <th></th>\n",
       "      <th>Mono</th>\n",
       "      <th>Bcell</th>\n",
       "      <th>CD4</th>\n",
       "      <th>CD8</th>\n",
       "      <th>NK</th>\n",
       "    </tr>\n",
       "    <tr>\n",
       "      <th>Mixture</th>\n",
       "      <th></th>\n",
       "      <th></th>\n",
       "      <th></th>\n",
       "      <th></th>\n",
       "      <th></th>\n",
       "    </tr>\n",
       "  </thead>\n",
       "  <tbody>\n",
       "    <tr>\n",
       "      <th>Y-3674-cfDNA</th>\n",
       "      <td>64.967443</td>\n",
       "      <td>6.123511</td>\n",
       "      <td>7.537161</td>\n",
       "      <td>7.654764</td>\n",
       "      <td>13.717121</td>\n",
       "    </tr>\n",
       "    <tr>\n",
       "      <th>Y-3685-cfDNA</th>\n",
       "      <td>56.367785</td>\n",
       "      <td>7.374727</td>\n",
       "      <td>10.657174</td>\n",
       "      <td>9.571538</td>\n",
       "      <td>16.028775</td>\n",
       "    </tr>\n",
       "    <tr>\n",
       "      <th>Y-3688-cfDNA</th>\n",
       "      <td>44.519744</td>\n",
       "      <td>11.976250</td>\n",
       "      <td>13.739127</td>\n",
       "      <td>11.347472</td>\n",
       "      <td>18.417407</td>\n",
       "    </tr>\n",
       "    <tr>\n",
       "      <th>Y-3694-cfDNA</th>\n",
       "      <td>57.912697</td>\n",
       "      <td>7.876848</td>\n",
       "      <td>12.929012</td>\n",
       "      <td>7.551904</td>\n",
       "      <td>13.729540</td>\n",
       "    </tr>\n",
       "    <tr>\n",
       "      <th>Y-3703-cfDNA</th>\n",
       "      <td>51.785331</td>\n",
       "      <td>8.075110</td>\n",
       "      <td>12.069571</td>\n",
       "      <td>11.975249</td>\n",
       "      <td>16.094739</td>\n",
       "    </tr>\n",
       "  </tbody>\n",
       "</table>\n",
       "</div>"
      ],
      "text/plain": [
       "                   Mono      Bcell        CD4        CD8         NK\n",
       "Mixture                                                            \n",
       "Y-3674-cfDNA  64.967443   6.123511   7.537161   7.654764  13.717121\n",
       "Y-3685-cfDNA  56.367785   7.374727  10.657174   9.571538  16.028775\n",
       "Y-3688-cfDNA  44.519744  11.976250  13.739127  11.347472  18.417407\n",
       "Y-3694-cfDNA  57.912697   7.876848  12.929012   7.551904  13.729540\n",
       "Y-3703-cfDNA  51.785331   8.075110  12.069571  11.975249  16.094739"
      ]
     },
     "execution_count": 6,
     "metadata": {},
     "output_type": "execute_result"
    }
   ],
   "source": [
    "majorlineageDF=pd.read_csv(majorlineagefile,sep='\\t',index_col='Mixture')\n",
    "majorlineageDF.head()"
   ]
  },
  {
   "cell_type": "code",
   "execution_count": 7,
   "metadata": {},
   "outputs": [
    {
     "data": {
      "text/plain": [
       "(35, 5)"
      ]
     },
     "execution_count": 7,
     "metadata": {},
     "output_type": "execute_result"
    }
   ],
   "source": [
    "majorlineageDF.shape"
   ]
  },
  {
   "cell_type": "code",
   "execution_count": 8,
   "metadata": {},
   "outputs": [
    {
     "data": {
      "text/plain": [
       "(15, 32)"
      ]
     },
     "execution_count": 8,
     "metadata": {},
     "output_type": "execute_result"
    }
   ],
   "source": [
    "toxdfmerged_with_majorSM=toxdf.merge(majorlineageDF,how='inner',left_index=True,right_index=True)\n",
    "toxdfmerged_with_majorSM.shape"
   ]
  },
  {
   "cell_type": "code",
   "execution_count": 9,
   "metadata": {},
   "outputs": [
    {
     "data": {
      "text/html": [
       "<div>\n",
       "<style scoped>\n",
       "    .dataframe tbody tr th:only-of-type {\n",
       "        vertical-align: middle;\n",
       "    }\n",
       "\n",
       "    .dataframe tbody tr th {\n",
       "        vertical-align: top;\n",
       "    }\n",
       "\n",
       "    .dataframe thead th {\n",
       "        text-align: right;\n",
       "    }\n",
       "</style>\n",
       "<table border=\"1\" class=\"dataframe\">\n",
       "  <thead>\n",
       "    <tr style=\"text-align: right;\">\n",
       "      <th></th>\n",
       "      <th>YU ID</th>\n",
       "      <th>Naive CD4 T</th>\n",
       "      <th>Naive CD8</th>\n",
       "      <th>Naive B</th>\n",
       "      <th>NK_x</th>\n",
       "      <th>Mono_x</th>\n",
       "      <th>Mac (M0)</th>\n",
       "      <th>Mac (M1)</th>\n",
       "      <th>Mac (M2)</th>\n",
       "      <th>iDC</th>\n",
       "      <th>...</th>\n",
       "      <th>CD8TIL</th>\n",
       "      <th>Total</th>\n",
       "      <th>Response</th>\n",
       "      <th>Toxicity</th>\n",
       "      <th>irAE</th>\n",
       "      <th>Mono_y</th>\n",
       "      <th>Bcell</th>\n",
       "      <th>CD4</th>\n",
       "      <th>CD8</th>\n",
       "      <th>NK_y</th>\n",
       "    </tr>\n",
       "    <tr>\n",
       "      <th>Mixture</th>\n",
       "      <th></th>\n",
       "      <th></th>\n",
       "      <th></th>\n",
       "      <th></th>\n",
       "      <th></th>\n",
       "      <th></th>\n",
       "      <th></th>\n",
       "      <th></th>\n",
       "      <th></th>\n",
       "      <th></th>\n",
       "      <th></th>\n",
       "      <th></th>\n",
       "      <th></th>\n",
       "      <th></th>\n",
       "      <th></th>\n",
       "      <th></th>\n",
       "      <th></th>\n",
       "      <th></th>\n",
       "      <th></th>\n",
       "      <th></th>\n",
       "      <th></th>\n",
       "    </tr>\n",
       "  </thead>\n",
       "  <tbody>\n",
       "    <tr>\n",
       "      <th>tot-YUPRAF_19-3925-cfDNA</th>\n",
       "      <td>YUPRAF</td>\n",
       "      <td>2.680527</td>\n",
       "      <td>2.696936</td>\n",
       "      <td>2.587731</td>\n",
       "      <td>3.112085</td>\n",
       "      <td>5.621401</td>\n",
       "      <td>4.968412</td>\n",
       "      <td>4.521435</td>\n",
       "      <td>3.304701</td>\n",
       "      <td>4.160581</td>\n",
       "      <td>...</td>\n",
       "      <td>3.268887</td>\n",
       "      <td>100</td>\n",
       "      <td>DCB</td>\n",
       "      <td>1.0</td>\n",
       "      <td>No severe irAE</td>\n",
       "      <td>56.196056</td>\n",
       "      <td>8.166483</td>\n",
       "      <td>15.055818</td>\n",
       "      <td>9.405084</td>\n",
       "      <td>11.176560</td>\n",
       "    </tr>\n",
       "    <tr>\n",
       "      <th>tot-YUTAUR_19-3926-cfDNA</th>\n",
       "      <td>YUTAUR</td>\n",
       "      <td>2.771289</td>\n",
       "      <td>2.776680</td>\n",
       "      <td>2.974914</td>\n",
       "      <td>2.818570</td>\n",
       "      <td>4.350046</td>\n",
       "      <td>4.832852</td>\n",
       "      <td>3.825769</td>\n",
       "      <td>3.115073</td>\n",
       "      <td>4.671348</td>\n",
       "      <td>...</td>\n",
       "      <td>2.714369</td>\n",
       "      <td>100</td>\n",
       "      <td>NDB</td>\n",
       "      <td>3.0</td>\n",
       "      <td>Severe irAE</td>\n",
       "      <td>66.816954</td>\n",
       "      <td>7.747746</td>\n",
       "      <td>8.433764</td>\n",
       "      <td>8.161446</td>\n",
       "      <td>8.840090</td>\n",
       "    </tr>\n",
       "    <tr>\n",
       "      <th>tot-YUTHEA_20-4000-cfDNA</th>\n",
       "      <td>YUTHEA</td>\n",
       "      <td>2.522323</td>\n",
       "      <td>2.405377</td>\n",
       "      <td>2.850539</td>\n",
       "      <td>2.874306</td>\n",
       "      <td>4.311861</td>\n",
       "      <td>4.661645</td>\n",
       "      <td>4.245958</td>\n",
       "      <td>3.186905</td>\n",
       "      <td>4.209391</td>\n",
       "      <td>...</td>\n",
       "      <td>3.025842</td>\n",
       "      <td>100</td>\n",
       "      <td>DCB</td>\n",
       "      <td>1.0</td>\n",
       "      <td>No severe irAE</td>\n",
       "      <td>51.557802</td>\n",
       "      <td>11.538136</td>\n",
       "      <td>12.270180</td>\n",
       "      <td>11.464133</td>\n",
       "      <td>13.169749</td>\n",
       "    </tr>\n",
       "    <tr>\n",
       "      <th>Y-3674-cfDNA</th>\n",
       "      <td>YUTACI</td>\n",
       "      <td>2.605752</td>\n",
       "      <td>2.188441</td>\n",
       "      <td>2.441870</td>\n",
       "      <td>3.292435</td>\n",
       "      <td>5.037876</td>\n",
       "      <td>4.821285</td>\n",
       "      <td>3.857961</td>\n",
       "      <td>2.619172</td>\n",
       "      <td>4.592556</td>\n",
       "      <td>...</td>\n",
       "      <td>4.740623</td>\n",
       "      <td>100</td>\n",
       "      <td>DCB</td>\n",
       "      <td>0.0</td>\n",
       "      <td>No severe irAE</td>\n",
       "      <td>64.967443</td>\n",
       "      <td>6.123511</td>\n",
       "      <td>7.537161</td>\n",
       "      <td>7.654764</td>\n",
       "      <td>13.717121</td>\n",
       "    </tr>\n",
       "    <tr>\n",
       "      <th>Y-3688-cfDNA</th>\n",
       "      <td>YUTORY</td>\n",
       "      <td>2.959900</td>\n",
       "      <td>2.953132</td>\n",
       "      <td>2.667324</td>\n",
       "      <td>3.089844</td>\n",
       "      <td>4.106894</td>\n",
       "      <td>6.180695</td>\n",
       "      <td>5.321778</td>\n",
       "      <td>3.316228</td>\n",
       "      <td>4.561571</td>\n",
       "      <td>...</td>\n",
       "      <td>1.047482</td>\n",
       "      <td>100</td>\n",
       "      <td>NDB</td>\n",
       "      <td>3.0</td>\n",
       "      <td>Severe irAE</td>\n",
       "      <td>44.519744</td>\n",
       "      <td>11.976250</td>\n",
       "      <td>13.739127</td>\n",
       "      <td>11.347472</td>\n",
       "      <td>18.417407</td>\n",
       "    </tr>\n",
       "  </tbody>\n",
       "</table>\n",
       "<p>5 rows × 32 columns</p>\n",
       "</div>"
      ],
      "text/plain": [
       "                           YU ID  Naive CD4 T  Naive CD8   Naive B      NK_x  \\\n",
       "Mixture                                                                        \n",
       "tot-YUPRAF_19-3925-cfDNA  YUPRAF     2.680527   2.696936  2.587731  3.112085   \n",
       "tot-YUTAUR_19-3926-cfDNA  YUTAUR     2.771289   2.776680  2.974914  2.818570   \n",
       "tot-YUTHEA_20-4000-cfDNA  YUTHEA     2.522323   2.405377  2.850539  2.874306   \n",
       "Y-3674-cfDNA              YUTACI     2.605752   2.188441  2.441870  3.292435   \n",
       "Y-3688-cfDNA              YUTORY     2.959900   2.953132  2.667324  3.089844   \n",
       "\n",
       "                            Mono_x  Mac (M0)  Mac (M1)  Mac (M2)       iDC  \\\n",
       "Mixture                                                                      \n",
       "tot-YUPRAF_19-3925-cfDNA  5.621401  4.968412  4.521435  3.304701  4.160581   \n",
       "tot-YUTAUR_19-3926-cfDNA  4.350046  4.832852  3.825769  3.115073  4.671348   \n",
       "tot-YUTHEA_20-4000-cfDNA  4.311861  4.661645  4.245958  3.186905  4.209391   \n",
       "Y-3674-cfDNA              5.037876  4.821285  3.857961  2.619172  4.592556   \n",
       "Y-3688-cfDNA              4.106894  6.180695  5.321778  3.316228  4.561571   \n",
       "\n",
       "                          ...    CD8TIL  Total  Response  Toxicity  \\\n",
       "Mixture                   ...                                        \n",
       "tot-YUPRAF_19-3925-cfDNA  ...  3.268887    100       DCB       1.0   \n",
       "tot-YUTAUR_19-3926-cfDNA  ...  2.714369    100       NDB       3.0   \n",
       "tot-YUTHEA_20-4000-cfDNA  ...  3.025842    100       DCB       1.0   \n",
       "Y-3674-cfDNA              ...  4.740623    100       DCB       0.0   \n",
       "Y-3688-cfDNA              ...  1.047482    100       NDB       3.0   \n",
       "\n",
       "                                    irAE     Mono_y      Bcell        CD4  \\\n",
       "Mixture                                                                     \n",
       "tot-YUPRAF_19-3925-cfDNA  No severe irAE  56.196056   8.166483  15.055818   \n",
       "tot-YUTAUR_19-3926-cfDNA     Severe irAE  66.816954   7.747746   8.433764   \n",
       "tot-YUTHEA_20-4000-cfDNA  No severe irAE  51.557802  11.538136  12.270180   \n",
       "Y-3674-cfDNA              No severe irAE  64.967443   6.123511   7.537161   \n",
       "Y-3688-cfDNA                 Severe irAE  44.519744  11.976250  13.739127   \n",
       "\n",
       "                                CD8       NK_y  \n",
       "Mixture                                         \n",
       "tot-YUPRAF_19-3925-cfDNA   9.405084  11.176560  \n",
       "tot-YUTAUR_19-3926-cfDNA   8.161446   8.840090  \n",
       "tot-YUTHEA_20-4000-cfDNA  11.464133  13.169749  \n",
       "Y-3674-cfDNA               7.654764  13.717121  \n",
       "Y-3688-cfDNA              11.347472  18.417407  \n",
       "\n",
       "[5 rows x 32 columns]"
      ]
     },
     "execution_count": 9,
     "metadata": {},
     "output_type": "execute_result"
    }
   ],
   "source": [
    "toxdfmerged_with_majorSM.head()"
   ]
  },
  {
   "cell_type": "code",
   "execution_count": 10,
   "metadata": {},
   "outputs": [
    {
     "data": {
      "image/png": "[encoded data removed]",
      "text/plain": [
       "<Figure size 432x288 with 2 Axes>"
      ]
     },
     "metadata": {
      "needs_background": "light"
     },
     "output_type": "display_data"
    }
   ],
   "source": [
    "onlythosethreeCT=toxdfmerged_with_majorSM[['CD4','CD4 TEM','CD4 TCM']]\n",
    "corr = onlythosethreeCT.corr(method='pearson')\n",
    "sns.heatmap(corr, \n",
    "        xticklabels=corr.columns,\n",
    "        yticklabels=corr.columns,cmap='viridis',annot=True)\n",
    "plt.savefig(infile + '_CD4thosethree_crosscorrelation.pdf', bbox_inches='tight')"
   ]
  },
  {
   "cell_type": "code",
   "execution_count": 11,
   "metadata": {},
   "outputs": [
    {
     "data": {
      "text/html": [
       "<div>\n",
       "<style scoped>\n",
       "    .dataframe tbody tr th:only-of-type {\n",
       "        vertical-align: middle;\n",
       "    }\n",
       "\n",
       "    .dataframe tbody tr th {\n",
       "        vertical-align: top;\n",
       "    }\n",
       "\n",
       "    .dataframe thead th {\n",
       "        text-align: right;\n",
       "    }\n",
       "</style>\n",
       "<table border=\"1\" class=\"dataframe\">\n",
       "  <thead>\n",
       "    <tr style=\"text-align: right;\">\n",
       "      <th></th>\n",
       "      <th>YU ID</th>\n",
       "      <th>Naive CD4 T</th>\n",
       "      <th>Naive CD8</th>\n",
       "      <th>Naive B</th>\n",
       "      <th>NK_x</th>\n",
       "      <th>Mono_x</th>\n",
       "      <th>Mac (M0)</th>\n",
       "      <th>Mac (M1)</th>\n",
       "      <th>Mac (M2)</th>\n",
       "      <th>iDC</th>\n",
       "      <th>...</th>\n",
       "      <th>Response</th>\n",
       "      <th>Toxicity</th>\n",
       "      <th>irAE</th>\n",
       "      <th>Mono_y</th>\n",
       "      <th>Bcell</th>\n",
       "      <th>CD4</th>\n",
       "      <th>CD8</th>\n",
       "      <th>NK_y</th>\n",
       "      <th>CD4TCM_dividedby_CD4</th>\n",
       "      <th>CD4TEM_dividedby_CD4</th>\n",
       "    </tr>\n",
       "    <tr>\n",
       "      <th>Mixture</th>\n",
       "      <th></th>\n",
       "      <th></th>\n",
       "      <th></th>\n",
       "      <th></th>\n",
       "      <th></th>\n",
       "      <th></th>\n",
       "      <th></th>\n",
       "      <th></th>\n",
       "      <th></th>\n",
       "      <th></th>\n",
       "      <th></th>\n",
       "      <th></th>\n",
       "      <th></th>\n",
       "      <th></th>\n",
       "      <th></th>\n",
       "      <th></th>\n",
       "      <th></th>\n",
       "      <th></th>\n",
       "      <th></th>\n",
       "      <th></th>\n",
       "      <th></th>\n",
       "    </tr>\n",
       "  </thead>\n",
       "  <tbody>\n",
       "    <tr>\n",
       "      <th>tot-YUPRAF_19-3925-cfDNA</th>\n",
       "      <td>YUPRAF</td>\n",
       "      <td>2.680527</td>\n",
       "      <td>2.696936</td>\n",
       "      <td>2.587731</td>\n",
       "      <td>3.112085</td>\n",
       "      <td>5.621401</td>\n",
       "      <td>4.968412</td>\n",
       "      <td>4.521435</td>\n",
       "      <td>3.304701</td>\n",
       "      <td>4.160581</td>\n",
       "      <td>...</td>\n",
       "      <td>DCB</td>\n",
       "      <td>1.0</td>\n",
       "      <td>No severe irAE</td>\n",
       "      <td>56.196056</td>\n",
       "      <td>8.166483</td>\n",
       "      <td>15.055818</td>\n",
       "      <td>9.405084</td>\n",
       "      <td>11.176560</td>\n",
       "      <td>0.274268</td>\n",
       "      <td>0.293586</td>\n",
       "    </tr>\n",
       "    <tr>\n",
       "      <th>tot-YUTAUR_19-3926-cfDNA</th>\n",
       "      <td>YUTAUR</td>\n",
       "      <td>2.771289</td>\n",
       "      <td>2.776680</td>\n",
       "      <td>2.974914</td>\n",
       "      <td>2.818570</td>\n",
       "      <td>4.350046</td>\n",
       "      <td>4.832852</td>\n",
       "      <td>3.825769</td>\n",
       "      <td>3.115073</td>\n",
       "      <td>4.671348</td>\n",
       "      <td>...</td>\n",
       "      <td>NDB</td>\n",
       "      <td>3.0</td>\n",
       "      <td>Severe irAE</td>\n",
       "      <td>66.816954</td>\n",
       "      <td>7.747746</td>\n",
       "      <td>8.433764</td>\n",
       "      <td>8.161446</td>\n",
       "      <td>8.840090</td>\n",
       "      <td>0.419513</td>\n",
       "      <td>0.505824</td>\n",
       "    </tr>\n",
       "    <tr>\n",
       "      <th>tot-YUTHEA_20-4000-cfDNA</th>\n",
       "      <td>YUTHEA</td>\n",
       "      <td>2.522323</td>\n",
       "      <td>2.405377</td>\n",
       "      <td>2.850539</td>\n",
       "      <td>2.874306</td>\n",
       "      <td>4.311861</td>\n",
       "      <td>4.661645</td>\n",
       "      <td>4.245958</td>\n",
       "      <td>3.186905</td>\n",
       "      <td>4.209391</td>\n",
       "      <td>...</td>\n",
       "      <td>DCB</td>\n",
       "      <td>1.0</td>\n",
       "      <td>No severe irAE</td>\n",
       "      <td>51.557802</td>\n",
       "      <td>11.538136</td>\n",
       "      <td>12.270180</td>\n",
       "      <td>11.464133</td>\n",
       "      <td>13.169749</td>\n",
       "      <td>0.267192</td>\n",
       "      <td>0.344639</td>\n",
       "    </tr>\n",
       "    <tr>\n",
       "      <th>Y-3674-cfDNA</th>\n",
       "      <td>YUTACI</td>\n",
       "      <td>2.605752</td>\n",
       "      <td>2.188441</td>\n",
       "      <td>2.441870</td>\n",
       "      <td>3.292435</td>\n",
       "      <td>5.037876</td>\n",
       "      <td>4.821285</td>\n",
       "      <td>3.857961</td>\n",
       "      <td>2.619172</td>\n",
       "      <td>4.592556</td>\n",
       "      <td>...</td>\n",
       "      <td>DCB</td>\n",
       "      <td>0.0</td>\n",
       "      <td>No severe irAE</td>\n",
       "      <td>64.967443</td>\n",
       "      <td>6.123511</td>\n",
       "      <td>7.537161</td>\n",
       "      <td>7.654764</td>\n",
       "      <td>13.717121</td>\n",
       "      <td>0.334777</td>\n",
       "      <td>0.449087</td>\n",
       "    </tr>\n",
       "    <tr>\n",
       "      <th>Y-3688-cfDNA</th>\n",
       "      <td>YUTORY</td>\n",
       "      <td>2.959900</td>\n",
       "      <td>2.953132</td>\n",
       "      <td>2.667324</td>\n",
       "      <td>3.089844</td>\n",
       "      <td>4.106894</td>\n",
       "      <td>6.180695</td>\n",
       "      <td>5.321778</td>\n",
       "      <td>3.316228</td>\n",
       "      <td>4.561571</td>\n",
       "      <td>...</td>\n",
       "      <td>NDB</td>\n",
       "      <td>3.0</td>\n",
       "      <td>Severe irAE</td>\n",
       "      <td>44.519744</td>\n",
       "      <td>11.976250</td>\n",
       "      <td>13.739127</td>\n",
       "      <td>11.347472</td>\n",
       "      <td>18.417407</td>\n",
       "      <td>0.260843</td>\n",
       "      <td>0.369591</td>\n",
       "    </tr>\n",
       "  </tbody>\n",
       "</table>\n",
       "<p>5 rows × 34 columns</p>\n",
       "</div>"
      ],
      "text/plain": [
       "                           YU ID  Naive CD4 T  Naive CD8   Naive B      NK_x  \\\n",
       "Mixture                                                                        \n",
       "tot-YUPRAF_19-3925-cfDNA  YUPRAF     2.680527   2.696936  2.587731  3.112085   \n",
       "tot-YUTAUR_19-3926-cfDNA  YUTAUR     2.771289   2.776680  2.974914  2.818570   \n",
       "tot-YUTHEA_20-4000-cfDNA  YUTHEA     2.522323   2.405377  2.850539  2.874306   \n",
       "Y-3674-cfDNA              YUTACI     2.605752   2.188441  2.441870  3.292435   \n",
       "Y-3688-cfDNA              YUTORY     2.959900   2.953132  2.667324  3.089844   \n",
       "\n",
       "                            Mono_x  Mac (M0)  Mac (M1)  Mac (M2)       iDC  \\\n",
       "Mixture                                                                      \n",
       "tot-YUPRAF_19-3925-cfDNA  5.621401  4.968412  4.521435  3.304701  4.160581   \n",
       "tot-YUTAUR_19-3926-cfDNA  4.350046  4.832852  3.825769  3.115073  4.671348   \n",
       "tot-YUTHEA_20-4000-cfDNA  4.311861  4.661645  4.245958  3.186905  4.209391   \n",
       "Y-3674-cfDNA              5.037876  4.821285  3.857961  2.619172  4.592556   \n",
       "Y-3688-cfDNA              4.106894  6.180695  5.321778  3.316228  4.561571   \n",
       "\n",
       "                          ...  Response  Toxicity            irAE     Mono_y  \\\n",
       "Mixture                   ...                                                  \n",
       "tot-YUPRAF_19-3925-cfDNA  ...       DCB       1.0  No severe irAE  56.196056   \n",
       "tot-YUTAUR_19-3926-cfDNA  ...       NDB       3.0     Severe irAE  66.816954   \n",
       "tot-YUTHEA_20-4000-cfDNA  ...       DCB       1.0  No severe irAE  51.557802   \n",
       "Y-3674-cfDNA              ...       DCB       0.0  No severe irAE  64.967443   \n",
       "Y-3688-cfDNA              ...       NDB       3.0     Severe irAE  44.519744   \n",
       "\n",
       "                              Bcell        CD4        CD8       NK_y  \\\n",
       "Mixture                                                                \n",
       "tot-YUPRAF_19-3925-cfDNA   8.166483  15.055818   9.405084  11.176560   \n",
       "tot-YUTAUR_19-3926-cfDNA   7.747746   8.433764   8.161446   8.840090   \n",
       "tot-YUTHEA_20-4000-cfDNA  11.538136  12.270180  11.464133  13.169749   \n",
       "Y-3674-cfDNA               6.123511   7.537161   7.654764  13.717121   \n",
       "Y-3688-cfDNA              11.976250  13.739127  11.347472  18.417407   \n",
       "\n",
       "                          CD4TCM_dividedby_CD4  CD4TEM_dividedby_CD4  \n",
       "Mixture                                                               \n",
       "tot-YUPRAF_19-3925-cfDNA              0.274268              0.293586  \n",
       "tot-YUTAUR_19-3926-cfDNA              0.419513              0.505824  \n",
       "tot-YUTHEA_20-4000-cfDNA              0.267192              0.344639  \n",
       "Y-3674-cfDNA                          0.334777              0.449087  \n",
       "Y-3688-cfDNA                          0.260843              0.369591  \n",
       "\n",
       "[5 rows x 34 columns]"
      ]
     },
     "execution_count": 11,
     "metadata": {},
     "output_type": "execute_result"
    }
   ],
   "source": [
    "toxdfmerged_with_majorSM['CD4TCM_dividedby_CD4']=toxdfmerged_with_majorSM['CD4 TCM']/toxdfmerged_with_majorSM['CD4']\n",
    "toxdfmerged_with_majorSM['CD4TEM_dividedby_CD4']=toxdfmerged_with_majorSM['CD4 TEM']/toxdfmerged_with_majorSM['CD4']\n",
    "toxdfmerged_with_majorSM.head()"
   ]
  },
  {
   "cell_type": "code",
   "execution_count": 12,
   "metadata": {},
   "outputs": [
    {
     "name": "stdout",
     "output_type": "stream",
     "text": [
      "No severe irAE v.s. Severe irAE: Mann-Whitney-Wilcoxon test two-sided with Bonferroni correction, P_val=8.597e-01 U_stat=2.500e+01\n"
     ]
    },
    {
     "data": {
      "image/png": "[encoded data removed]",
      "text/plain": [
       "<Figure size 432x288 with 1 Axes>"
      ]
     },
     "metadata": {
      "needs_background": "light"
     },
     "output_type": "display_data"
    }
   ],
   "source": [
    "y='CD4'\n",
    "x='irAE'\n",
    "order=['No severe irAE','Severe irAE']\n",
    "\n",
    "plottingdf=toxdfmerged_with_majorSM\n",
    "\n",
    "ax=sns.boxplot(x=x, y=y, data=plottingdf,order=order,color='white')\n",
    "ax=sns.stripplot(x=x, y=y, data=plottingdf,order=order,color='black')\n",
    "ax.set_ylabel(y)\n",
    "add_stat_annotation(ax,x=x, y=y, data=plottingdf,box_pairs=[('No severe irAE','Severe irAE')],test='Mann-Whitney', text_format='simple', loc='inside')\n",
    "plt.savefig(outname + '_'+x+'_'+y+'.pdf', bbox_inches='tight')"
   ]
  },
  {
   "cell_type": "code",
   "execution_count": 13,
   "metadata": {},
   "outputs": [
    {
     "name": "stdout",
     "output_type": "stream",
     "text": [
      "No severe irAE v.s. Severe irAE: Mann-Whitney-Wilcoxon test two-sided with Bonferroni correction, P_val=2.159e-01 U_stat=1.600e+01\n"
     ]
    },
    {
     "data": {
      "image/png": "[encoded data removed]",
      "text/plain": [
       "<Figure size 432x288 with 1 Axes>"
      ]
     },
     "metadata": {
      "needs_background": "light"
     },
     "output_type": "display_data"
    }
   ],
   "source": [
    "y='CD4TCM_dividedby_CD4'\n",
    "x='irAE'\n",
    "order=['No severe irAE','Severe irAE']\n",
    "\n",
    "plottingdf=toxdfmerged_with_majorSM\n",
    "\n",
    "ax=sns.boxplot(x=x, y=y, data=plottingdf,order=order,color='white')\n",
    "ax=sns.stripplot(x=x, y=y, data=plottingdf,order=order,color='black')\n",
    "ax.set_ylabel(y)\n",
    "add_stat_annotation(ax,x=x, y=y, data=plottingdf,box_pairs=[('No severe irAE','Severe irAE')],test='Mann-Whitney', text_format='simple', loc='inside')\n",
    "plt.savefig(outname + '_'+x+'_'+y+'.pdf', bbox_inches='tight')"
   ]
  },
  {
   "cell_type": "code",
   "execution_count": 14,
   "metadata": {},
   "outputs": [
    {
     "name": "stdout",
     "output_type": "stream",
     "text": [
      "No severe irAE v.s. Severe irAE: Mann-Whitney-Wilcoxon test two-sided with Bonferroni correction, P_val=1.753e-01 U_stat=1.500e+01\n"
     ]
    },
    {
     "data": {
      "image/png": "[encoded data removed]",
      "text/plain": [
       "<Figure size 432x288 with 1 Axes>"
      ]
     },
     "metadata": {
      "needs_background": "light"
     },
     "output_type": "display_data"
    }
   ],
   "source": [
    "y='CD4TEM_dividedby_CD4'\n",
    "x='irAE'\n",
    "order=['No severe irAE','Severe irAE']\n",
    "\n",
    "plottingdf=toxdfmerged_with_majorSM\n",
    "\n",
    "ax=sns.boxplot(x=x, y=y, data=plottingdf,order=order,color='white')\n",
    "ax=sns.stripplot(x=x, y=y, data=plottingdf,order=order,color='black')\n",
    "ax.set_ylabel(y)\n",
    "add_stat_annotation(ax,x=x, y=y, data=plottingdf,box_pairs=[('No severe irAE','Severe irAE')],test='Mann-Whitney', text_format='simple', loc='inside')\n",
    "plt.savefig(outname + '_'+x+'_'+y+'.pdf', bbox_inches='tight')"
   ]
  },
  {
   "cell_type": "code",
   "execution_count": 15,
   "metadata": {},
   "outputs": [],
   "source": [
    "col='CD4TEM_dividedby_CD4'\n",
    "toxdfmerged_with_majorSM[col+\" (z-score)\"] = (toxdfmerged_with_majorSM[col] - toxdfmerged_with_majorSM[col].mean())/toxdfmerged_with_majorSM[col].std(ddof=0)\n",
    "\n",
    "\n",
    "col='CD4TCM_dividedby_CD4'\n",
    "toxdfmerged_with_majorSM[col+\" (z-score)\"] = (toxdfmerged_with_majorSM[col] - toxdfmerged_with_majorSM[col].mean())/toxdfmerged_with_majorSM[col].std(ddof=0)"
   ]
  },
  {
   "cell_type": "code",
   "execution_count": 16,
   "metadata": {},
   "outputs": [
    {
     "name": "stdout",
     "output_type": "stream",
     "text": [
      "No severe irAE v.s. Severe irAE: Mann-Whitney-Wilcoxon test two-sided with Bonferroni correction, P_val=1.753e-01 U_stat=1.500e+01\n"
     ]
    },
    {
     "data": {
      "image/png": "[encoded data removed]",
      "text/plain": [
       "<Figure size 432x288 with 1 Axes>"
      ]
     },
     "metadata": {
      "needs_background": "light"
     },
     "output_type": "display_data"
    }
   ],
   "source": [
    "y='CD4TEM_dividedby_CD4 (z-score)'\n",
    "x='irAE'\n",
    "order=['No severe irAE','Severe irAE']\n",
    "\n",
    "plottingdf=toxdfmerged_with_majorSM\n",
    "\n",
    "ax=sns.boxplot(x=x, y=y, data=plottingdf,order=order,color='white')\n",
    "ax=sns.stripplot(x=x, y=y, data=plottingdf,order=order,color='black')\n",
    "ax.set_ylabel(y)\n",
    "add_stat_annotation(ax,x=x, y=y, data=plottingdf,box_pairs=[('No severe irAE','Severe irAE')],test='Mann-Whitney', text_format='simple', loc='inside')\n",
    "plt.savefig(outname + '_'+x+'_'+y+'.pdf', bbox_inches='tight')"
   ]
  },
  {
   "cell_type": "code",
   "execution_count": 17,
   "metadata": {},
   "outputs": [
    {
     "name": "stdout",
     "output_type": "stream",
     "text": [
      "No severe irAE v.s. Severe irAE: Mann-Whitney-Wilcoxon test two-sided with Bonferroni correction, P_val=2.159e-01 U_stat=1.600e+01\n"
     ]
    },
    {
     "data": {
      "image/png": "[encoded data removed]",
      "text/plain": [
       "<Figure size 432x288 with 1 Axes>"
      ]
     },
     "metadata": {
      "needs_background": "light"
     },
     "output_type": "display_data"
    }
   ],
   "source": [
    "y='CD4TCM_dividedby_CD4 (z-score)'\n",
    "x='irAE'\n",
    "order=['No severe irAE','Severe irAE']\n",
    "\n",
    "plottingdf=toxdfmerged_with_majorSM\n",
    "\n",
    "ax=sns.boxplot(x=x, y=y, data=plottingdf,order=order,color='white')\n",
    "ax=sns.stripplot(x=x, y=y, data=plottingdf,order=order,color='black')\n",
    "ax.set_ylabel(y)\n",
    "add_stat_annotation(ax,x=x, y=y, data=plottingdf,box_pairs=[('No severe irAE','Severe irAE')],test='Mann-Whitney', text_format='simple', loc='inside')\n",
    "plt.savefig(outname + '_'+x+'_'+y+'.pdf', bbox_inches='tight')"
   ]
  },
  {
   "cell_type": "code",
   "execution_count": 18,
   "metadata": {},
   "outputs": [],
   "source": [
    "toxdfmerged_with_majorSM.to_csv(outname+\".txt\",sep='\\t')"
   ]
  }
 ],
 "metadata": {
  "kernelspec": {
   "display_name": "Python 3",
   "language": "python",
   "name": "python3"
  },
  "language_info": {
   "codemirror_mode": {
    "name": "ipython",
    "version": 3
   },
   "file_extension": ".py",
   "mimetype": "text/x-python",
   "name": "python",
   "nbconvert_exporter": "python",
   "pygments_lexer": "ipython3",
   "version": "3.6.7"
  }
 },
 "nbformat": 4,
 "nbformat_minor": 2
}
