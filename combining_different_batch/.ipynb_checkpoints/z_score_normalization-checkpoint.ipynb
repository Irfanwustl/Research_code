{
 "cells": [
  {
   "cell_type": "code",
   "execution_count": 1,
   "metadata": {},
   "outputs": [
    {
     "data": {
      "text/html": [
       "<div>\n",
       "<style scoped>\n",
       "    .dataframe tbody tr th:only-of-type {\n",
       "        vertical-align: middle;\n",
       "    }\n",
       "\n",
       "    .dataframe tbody tr th {\n",
       "        vertical-align: top;\n",
       "    }\n",
       "\n",
       "    .dataframe thead th {\n",
       "        text-align: right;\n",
       "    }\n",
       "</style>\n",
       "<table border=\"1\" class=\"dataframe\">\n",
       "  <thead>\n",
       "    <tr style=\"text-align: right;\">\n",
       "      <th></th>\n",
       "      <th>Mixture</th>\n",
       "      <th>Mono</th>\n",
       "      <th>Bcell</th>\n",
       "      <th>CD4</th>\n",
       "      <th>CD8</th>\n",
       "      <th>NK</th>\n",
       "    </tr>\n",
       "  </thead>\n",
       "  <tbody>\n",
       "    <tr>\n",
       "      <th>0</th>\n",
       "      <td>Y-3674-cfDNA</td>\n",
       "      <td>64.967443</td>\n",
       "      <td>6.123511</td>\n",
       "      <td>7.537161</td>\n",
       "      <td>7.654764</td>\n",
       "      <td>13.717121</td>\n",
       "    </tr>\n",
       "    <tr>\n",
       "      <th>1</th>\n",
       "      <td>Y-3685-cfDNA</td>\n",
       "      <td>56.367785</td>\n",
       "      <td>7.374727</td>\n",
       "      <td>10.657174</td>\n",
       "      <td>9.571538</td>\n",
       "      <td>16.028775</td>\n",
       "    </tr>\n",
       "    <tr>\n",
       "      <th>2</th>\n",
       "      <td>Y-3688-cfDNA</td>\n",
       "      <td>44.519744</td>\n",
       "      <td>11.976250</td>\n",
       "      <td>13.739127</td>\n",
       "      <td>11.347472</td>\n",
       "      <td>18.417407</td>\n",
       "    </tr>\n",
       "    <tr>\n",
       "      <th>3</th>\n",
       "      <td>Y-3694-cfDNA</td>\n",
       "      <td>57.912697</td>\n",
       "      <td>7.876848</td>\n",
       "      <td>12.929012</td>\n",
       "      <td>7.551904</td>\n",
       "      <td>13.729540</td>\n",
       "    </tr>\n",
       "    <tr>\n",
       "      <th>4</th>\n",
       "      <td>Y-3703-cfDNA</td>\n",
       "      <td>51.785331</td>\n",
       "      <td>8.075110</td>\n",
       "      <td>12.069571</td>\n",
       "      <td>11.975249</td>\n",
       "      <td>16.094739</td>\n",
       "    </tr>\n",
       "  </tbody>\n",
       "</table>\n",
       "</div>"
      ],
      "text/plain": [
       "        Mixture       Mono      Bcell        CD4        CD8         NK\n",
       "0  Y-3674-cfDNA  64.967443   6.123511   7.537161   7.654764  13.717121\n",
       "1  Y-3685-cfDNA  56.367785   7.374727  10.657174   9.571538  16.028775\n",
       "2  Y-3688-cfDNA  44.519744  11.976250  13.739127  11.347472  18.417407\n",
       "3  Y-3694-cfDNA  57.912697   7.876848  12.929012   7.551904  13.729540\n",
       "4  Y-3703-cfDNA  51.785331   8.075110  12.069571  11.975249  16.094739"
      ]
     },
     "execution_count": 1,
     "metadata": {},
     "output_type": "execute_result"
    }
   ],
   "source": [
    "import pandas as pd\n",
    "import seaborn as sns\n",
    "from statannot import add_stat_annotation\n",
    "import matplotlib.pyplot as plt\n",
    "\n",
    "infile='/Users/irffanalahi/Research/Research_update/SoftRD/largerEXP/MajorLineage/melanoma/deconresultZscore/method1Fract_BLU2_majorrankedV1_index.txt_inflectionSM.txt_result_dupindex_binnedstats.pkl_maxscore_CSxOut.txt'\n",
    "outfile=infile+\"_zscore\"\n",
    "indf=pd.read_csv(infile,sep='\\t')\n",
    "indf.head()"
   ]
  },
  {
   "cell_type": "code",
   "execution_count": 2,
   "metadata": {},
   "outputs": [
    {
     "data": {
      "text/plain": [
       "Index(['Mixture', 'Mono', 'Bcell', 'CD4', 'CD8', 'NK'], dtype='object')"
      ]
     },
     "execution_count": 2,
     "metadata": {},
     "output_type": "execute_result"
    }
   ],
   "source": [
    "indf.columns"
   ]
  },
  {
   "cell_type": "code",
   "execution_count": 3,
   "metadata": {},
   "outputs": [],
   "source": [
    "zscoredDF=indf.copy()"
   ]
  },
  {
   "cell_type": "code",
   "execution_count": 4,
   "metadata": {},
   "outputs": [],
   "source": [
    "columnsfornormalization=['Naive CD4 T', 'Naive CD8', 'Naive B', 'NK', 'Mono','Mac (M0)', 'Mac (M1)', 'Mac (M2)', 'iDC', 'mDC', 'PMN', 'CD8 TCM','CD8 TEM', 'Eosinophil', 'Tregs', 'CD4 TEM', 'CD8 TEMRA','Megakaryocyte', 'CD4 TCM', 'Erythrocyte', 'Memory B', 'CD8TIL','CD4','CD8','Bcell']"
   ]
  },
  {
   "cell_type": "code",
   "execution_count": 5,
   "metadata": {},
   "outputs": [],
   "source": [
    "for col in columnsfornormalization:\n",
    "    if col in indf.columns.tolist():\n",
    "        zscoredDF[col] = (zscoredDF[col] - zscoredDF[col].mean())/zscoredDF[col].std(ddof=0)"
   ]
  },
  {
   "cell_type": "code",
   "execution_count": 6,
   "metadata": {},
   "outputs": [
    {
     "data": {
      "text/html": [
       "<div>\n",
       "<style scoped>\n",
       "    .dataframe tbody tr th:only-of-type {\n",
       "        vertical-align: middle;\n",
       "    }\n",
       "\n",
       "    .dataframe tbody tr th {\n",
       "        vertical-align: top;\n",
       "    }\n",
       "\n",
       "    .dataframe thead th {\n",
       "        text-align: right;\n",
       "    }\n",
       "</style>\n",
       "<table border=\"1\" class=\"dataframe\">\n",
       "  <thead>\n",
       "    <tr style=\"text-align: right;\">\n",
       "      <th></th>\n",
       "      <th>Mixture</th>\n",
       "      <th>Mono</th>\n",
       "      <th>Bcell</th>\n",
       "      <th>CD4</th>\n",
       "      <th>CD8</th>\n",
       "      <th>NK</th>\n",
       "    </tr>\n",
       "  </thead>\n",
       "  <tbody>\n",
       "    <tr>\n",
       "      <th>0</th>\n",
       "      <td>Y-3674-cfDNA</td>\n",
       "      <td>1.451385</td>\n",
       "      <td>-1.595569</td>\n",
       "      <td>-1.501279</td>\n",
       "      <td>-0.945203</td>\n",
       "      <td>0.072778</td>\n",
       "    </tr>\n",
       "    <tr>\n",
       "      <th>1</th>\n",
       "      <td>Y-3685-cfDNA</td>\n",
       "      <td>0.172195</td>\n",
       "      <td>-0.822351</td>\n",
       "      <td>-0.607696</td>\n",
       "      <td>-0.099787</td>\n",
       "      <td>0.875810</td>\n",
       "    </tr>\n",
       "    <tr>\n",
       "      <th>2</th>\n",
       "      <td>Y-3688-cfDNA</td>\n",
       "      <td>-1.590189</td>\n",
       "      <td>2.021270</td>\n",
       "      <td>0.274986</td>\n",
       "      <td>0.683511</td>\n",
       "      <td>1.705583</td>\n",
       "    </tr>\n",
       "    <tr>\n",
       "      <th>3</th>\n",
       "      <td>Y-3694-cfDNA</td>\n",
       "      <td>0.401999</td>\n",
       "      <td>-0.512054</td>\n",
       "      <td>0.042966</td>\n",
       "      <td>-0.990571</td>\n",
       "      <td>0.077092</td>\n",
       "    </tr>\n",
       "    <tr>\n",
       "      <th>4</th>\n",
       "      <td>Y-3703-cfDNA</td>\n",
       "      <td>-0.509440</td>\n",
       "      <td>-0.389532</td>\n",
       "      <td>-0.203181</td>\n",
       "      <td>0.960400</td>\n",
       "      <td>0.898725</td>\n",
       "    </tr>\n",
       "  </tbody>\n",
       "</table>\n",
       "</div>"
      ],
      "text/plain": [
       "        Mixture      Mono     Bcell       CD4       CD8        NK\n",
       "0  Y-3674-cfDNA  1.451385 -1.595569 -1.501279 -0.945203  0.072778\n",
       "1  Y-3685-cfDNA  0.172195 -0.822351 -0.607696 -0.099787  0.875810\n",
       "2  Y-3688-cfDNA -1.590189  2.021270  0.274986  0.683511  1.705583\n",
       "3  Y-3694-cfDNA  0.401999 -0.512054  0.042966 -0.990571  0.077092\n",
       "4  Y-3703-cfDNA -0.509440 -0.389532 -0.203181  0.960400  0.898725"
      ]
     },
     "execution_count": 6,
     "metadata": {},
     "output_type": "execute_result"
    }
   ],
   "source": [
    "zscoredDF.head()"
   ]
  },
  {
   "cell_type": "code",
   "execution_count": 7,
   "metadata": {},
   "outputs": [],
   "source": [
    "zscoredDF.to_csv(outfile+\".txt\",sep='\\t',index=False,na_rep='NA')"
   ]
  },
  {
   "cell_type": "code",
   "execution_count": 8,
   "metadata": {},
   "outputs": [
    {
     "ename": "KeyError",
     "evalue": "'Toxicity'",
     "output_type": "error",
     "traceback": [
      "\u001b[0;31m---------------------------------------------------------------------------\u001b[0m",
      "\u001b[0;31mKeyError\u001b[0m                                  Traceback (most recent call last)",
      "\u001b[0;32m/Library/Frameworks/Python.framework/Versions/3.6/lib/python3.6/site-packages/pandas/core/indexes/base.py\u001b[0m in \u001b[0;36mget_loc\u001b[0;34m(self, key, method, tolerance)\u001b[0m\n\u001b[1;32m   2645\u001b[0m             \u001b[0;32mtry\u001b[0m\u001b[0;34m:\u001b[0m\u001b[0;34m\u001b[0m\u001b[0;34m\u001b[0m\u001b[0m\n\u001b[0;32m-> 2646\u001b[0;31m                 \u001b[0;32mreturn\u001b[0m \u001b[0mself\u001b[0m\u001b[0;34m.\u001b[0m\u001b[0m_engine\u001b[0m\u001b[0;34m.\u001b[0m\u001b[0mget_loc\u001b[0m\u001b[0;34m(\u001b[0m\u001b[0mkey\u001b[0m\u001b[0;34m)\u001b[0m\u001b[0;34m\u001b[0m\u001b[0;34m\u001b[0m\u001b[0m\n\u001b[0m\u001b[1;32m   2647\u001b[0m             \u001b[0;32mexcept\u001b[0m \u001b[0mKeyError\u001b[0m\u001b[0;34m:\u001b[0m\u001b[0;34m\u001b[0m\u001b[0;34m\u001b[0m\u001b[0m\n",
      "\u001b[0;32mpandas/_libs/index.pyx\u001b[0m in \u001b[0;36mpandas._libs.index.IndexEngine.get_loc\u001b[0;34m()\u001b[0m\n",
      "\u001b[0;32mpandas/_libs/index.pyx\u001b[0m in \u001b[0;36mpandas._libs.index.IndexEngine.get_loc\u001b[0;34m()\u001b[0m\n",
      "\u001b[0;32mpandas/_libs/hashtable_class_helper.pxi\u001b[0m in \u001b[0;36mpandas._libs.hashtable.PyObjectHashTable.get_item\u001b[0;34m()\u001b[0m\n",
      "\u001b[0;32mpandas/_libs/hashtable_class_helper.pxi\u001b[0m in \u001b[0;36mpandas._libs.hashtable.PyObjectHashTable.get_item\u001b[0;34m()\u001b[0m\n",
      "\u001b[0;31mKeyError\u001b[0m: 'Toxicity'",
      "\nDuring handling of the above exception, another exception occurred:\n",
      "\u001b[0;31mKeyError\u001b[0m                                  Traceback (most recent call last)",
      "\u001b[0;32m<ipython-input-8-b5a6a00c69ef>\u001b[0m in \u001b[0;36m<module>\u001b[0;34m\u001b[0m\n\u001b[0;32m----> 1\u001b[0;31m \u001b[0mzscoredDF\u001b[0m\u001b[0;34m.\u001b[0m\u001b[0mloc\u001b[0m\u001b[0;34m[\u001b[0m\u001b[0mzscoredDF\u001b[0m\u001b[0;34m[\u001b[0m\u001b[0;34m'Toxicity'\u001b[0m\u001b[0;34m]\u001b[0m\u001b[0;34m>\u001b[0m\u001b[0;36m2\u001b[0m\u001b[0;34m,\u001b[0m\u001b[0;34m'irAE'\u001b[0m\u001b[0;34m]\u001b[0m\u001b[0;34m=\u001b[0m\u001b[0;34m'Severe irAE'\u001b[0m\u001b[0;34m\u001b[0m\u001b[0;34m\u001b[0m\u001b[0m\n\u001b[0m\u001b[1;32m      2\u001b[0m \u001b[0mzscoredDF\u001b[0m\u001b[0;34m.\u001b[0m\u001b[0mloc\u001b[0m\u001b[0;34m[\u001b[0m\u001b[0mzscoredDF\u001b[0m\u001b[0;34m[\u001b[0m\u001b[0;34m'Toxicity'\u001b[0m\u001b[0;34m]\u001b[0m\u001b[0;34m<=\u001b[0m\u001b[0;36m2\u001b[0m\u001b[0;34m,\u001b[0m\u001b[0;34m'irAE'\u001b[0m\u001b[0;34m]\u001b[0m\u001b[0;34m=\u001b[0m\u001b[0;34m'No severe irAE'\u001b[0m\u001b[0;34m\u001b[0m\u001b[0;34m\u001b[0m\u001b[0m\n",
      "\u001b[0;32m/Library/Frameworks/Python.framework/Versions/3.6/lib/python3.6/site-packages/pandas/core/frame.py\u001b[0m in \u001b[0;36m__getitem__\u001b[0;34m(self, key)\u001b[0m\n\u001b[1;32m   2798\u001b[0m             \u001b[0;32mif\u001b[0m \u001b[0mself\u001b[0m\u001b[0;34m.\u001b[0m\u001b[0mcolumns\u001b[0m\u001b[0;34m.\u001b[0m\u001b[0mnlevels\u001b[0m \u001b[0;34m>\u001b[0m \u001b[0;36m1\u001b[0m\u001b[0;34m:\u001b[0m\u001b[0;34m\u001b[0m\u001b[0;34m\u001b[0m\u001b[0m\n\u001b[1;32m   2799\u001b[0m                 \u001b[0;32mreturn\u001b[0m \u001b[0mself\u001b[0m\u001b[0;34m.\u001b[0m\u001b[0m_getitem_multilevel\u001b[0m\u001b[0;34m(\u001b[0m\u001b[0mkey\u001b[0m\u001b[0;34m)\u001b[0m\u001b[0;34m\u001b[0m\u001b[0;34m\u001b[0m\u001b[0m\n\u001b[0;32m-> 2800\u001b[0;31m             \u001b[0mindexer\u001b[0m \u001b[0;34m=\u001b[0m \u001b[0mself\u001b[0m\u001b[0;34m.\u001b[0m\u001b[0mcolumns\u001b[0m\u001b[0;34m.\u001b[0m\u001b[0mget_loc\u001b[0m\u001b[0;34m(\u001b[0m\u001b[0mkey\u001b[0m\u001b[0;34m)\u001b[0m\u001b[0;34m\u001b[0m\u001b[0;34m\u001b[0m\u001b[0m\n\u001b[0m\u001b[1;32m   2801\u001b[0m             \u001b[0;32mif\u001b[0m \u001b[0mis_integer\u001b[0m\u001b[0;34m(\u001b[0m\u001b[0mindexer\u001b[0m\u001b[0;34m)\u001b[0m\u001b[0;34m:\u001b[0m\u001b[0;34m\u001b[0m\u001b[0;34m\u001b[0m\u001b[0m\n\u001b[1;32m   2802\u001b[0m                 \u001b[0mindexer\u001b[0m \u001b[0;34m=\u001b[0m \u001b[0;34m[\u001b[0m\u001b[0mindexer\u001b[0m\u001b[0;34m]\u001b[0m\u001b[0;34m\u001b[0m\u001b[0;34m\u001b[0m\u001b[0m\n",
      "\u001b[0;32m/Library/Frameworks/Python.framework/Versions/3.6/lib/python3.6/site-packages/pandas/core/indexes/base.py\u001b[0m in \u001b[0;36mget_loc\u001b[0;34m(self, key, method, tolerance)\u001b[0m\n\u001b[1;32m   2646\u001b[0m                 \u001b[0;32mreturn\u001b[0m \u001b[0mself\u001b[0m\u001b[0;34m.\u001b[0m\u001b[0m_engine\u001b[0m\u001b[0;34m.\u001b[0m\u001b[0mget_loc\u001b[0m\u001b[0;34m(\u001b[0m\u001b[0mkey\u001b[0m\u001b[0;34m)\u001b[0m\u001b[0;34m\u001b[0m\u001b[0;34m\u001b[0m\u001b[0m\n\u001b[1;32m   2647\u001b[0m             \u001b[0;32mexcept\u001b[0m \u001b[0mKeyError\u001b[0m\u001b[0;34m:\u001b[0m\u001b[0;34m\u001b[0m\u001b[0;34m\u001b[0m\u001b[0m\n\u001b[0;32m-> 2648\u001b[0;31m                 \u001b[0;32mreturn\u001b[0m \u001b[0mself\u001b[0m\u001b[0;34m.\u001b[0m\u001b[0m_engine\u001b[0m\u001b[0;34m.\u001b[0m\u001b[0mget_loc\u001b[0m\u001b[0;34m(\u001b[0m\u001b[0mself\u001b[0m\u001b[0;34m.\u001b[0m\u001b[0m_maybe_cast_indexer\u001b[0m\u001b[0;34m(\u001b[0m\u001b[0mkey\u001b[0m\u001b[0;34m)\u001b[0m\u001b[0;34m)\u001b[0m\u001b[0;34m\u001b[0m\u001b[0;34m\u001b[0m\u001b[0m\n\u001b[0m\u001b[1;32m   2649\u001b[0m         \u001b[0mindexer\u001b[0m \u001b[0;34m=\u001b[0m \u001b[0mself\u001b[0m\u001b[0;34m.\u001b[0m\u001b[0mget_indexer\u001b[0m\u001b[0;34m(\u001b[0m\u001b[0;34m[\u001b[0m\u001b[0mkey\u001b[0m\u001b[0;34m]\u001b[0m\u001b[0;34m,\u001b[0m \u001b[0mmethod\u001b[0m\u001b[0;34m=\u001b[0m\u001b[0mmethod\u001b[0m\u001b[0;34m,\u001b[0m \u001b[0mtolerance\u001b[0m\u001b[0;34m=\u001b[0m\u001b[0mtolerance\u001b[0m\u001b[0;34m)\u001b[0m\u001b[0;34m\u001b[0m\u001b[0;34m\u001b[0m\u001b[0m\n\u001b[1;32m   2650\u001b[0m         \u001b[0;32mif\u001b[0m \u001b[0mindexer\u001b[0m\u001b[0;34m.\u001b[0m\u001b[0mndim\u001b[0m \u001b[0;34m>\u001b[0m \u001b[0;36m1\u001b[0m \u001b[0;32mor\u001b[0m \u001b[0mindexer\u001b[0m\u001b[0;34m.\u001b[0m\u001b[0msize\u001b[0m \u001b[0;34m>\u001b[0m \u001b[0;36m1\u001b[0m\u001b[0;34m:\u001b[0m\u001b[0;34m\u001b[0m\u001b[0;34m\u001b[0m\u001b[0m\n",
      "\u001b[0;32mpandas/_libs/index.pyx\u001b[0m in \u001b[0;36mpandas._libs.index.IndexEngine.get_loc\u001b[0;34m()\u001b[0m\n",
      "\u001b[0;32mpandas/_libs/index.pyx\u001b[0m in \u001b[0;36mpandas._libs.index.IndexEngine.get_loc\u001b[0;34m()\u001b[0m\n",
      "\u001b[0;32mpandas/_libs/hashtable_class_helper.pxi\u001b[0m in \u001b[0;36mpandas._libs.hashtable.PyObjectHashTable.get_item\u001b[0;34m()\u001b[0m\n",
      "\u001b[0;32mpandas/_libs/hashtable_class_helper.pxi\u001b[0m in \u001b[0;36mpandas._libs.hashtable.PyObjectHashTable.get_item\u001b[0;34m()\u001b[0m\n",
      "\u001b[0;31mKeyError\u001b[0m: 'Toxicity'"
     ]
    }
   ],
   "source": [
    "zscoredDF.loc[zscoredDF['Toxicity']>2,'irAE']='Severe irAE'\n",
    "zscoredDF.loc[zscoredDF['Toxicity']<=2,'irAE']='No severe irAE'"
   ]
  },
  {
   "cell_type": "code",
   "execution_count": null,
   "metadata": {},
   "outputs": [],
   "source": [
    "ax=sns.boxplot(x='Response', y='CD8TIL', data=zscoredDF,color='white',order=['DCB','NDB'])\n",
    "ax=sns.stripplot(x='Response', y='CD8TIL', data=zscoredDF,color='black',order=['DCB','NDB'])\n",
    "add_stat_annotation(ax,x='Response', y='CD8TIL', data=zscoredDF,box_pairs=[('DCB','NDB')],test='Mann-Whitney', text_format='simple', loc='inside')"
   ]
  },
  {
   "cell_type": "code",
   "execution_count": null,
   "metadata": {},
   "outputs": [],
   "source": [
    "y='CD8TIL'\n",
    "x='Response'\n",
    "order=['DCB','NDB']\n",
    "ax=sns.boxplot(x=x, y=y, data=zscoredDF,order=order,color='white')\n",
    "ax=sns.stripplot(x=x, y=y, data=zscoredDF,order=order,color='black')\n",
    "ax.set_ylabel(y+\" (z-score)\")\n",
    "add_stat_annotation(ax,x=x, y=y, data=zscoredDF,box_pairs=[('DCB','NDB')],test='Mann-Whitney', text_format='simple', loc='inside')\n",
    "plt.savefig(outfile + '_'+x+'_'+y+'.pdf', bbox_inches='tight')"
   ]
  },
  {
   "cell_type": "code",
   "execution_count": null,
   "metadata": {
    "scrolled": true
   },
   "outputs": [],
   "source": [
    "zscoredDF.boxplot(column='CD8TIL', by='Response')"
   ]
  },
  {
   "cell_type": "code",
   "execution_count": null,
   "metadata": {},
   "outputs": [],
   "source": [
    "\n",
    "y='CD4 TCM'\n",
    "x='irAE'\n",
    "order=['No severe irAE','Severe irAE']\n",
    "ax=sns.boxplot(x=x, y=y, data=zscoredDF,order=order,color='white')\n",
    "ax=sns.stripplot(x=x, y=y, data=zscoredDF,order=order,color='black')\n",
    "ax.set_ylabel(y+\" (z-score)\")\n",
    "add_stat_annotation(ax,x=x, y=y, data=zscoredDF,box_pairs=[('No severe irAE','Severe irAE')],test='Mann-Whitney', text_format='simple', loc='inside')\n",
    "plt.savefig(outfile + '_'+x+'_'+y+'.pdf', bbox_inches='tight')"
   ]
  },
  {
   "cell_type": "code",
   "execution_count": null,
   "metadata": {
    "scrolled": true
   },
   "outputs": [],
   "source": [
    "zscoredDF.boxplot(column='CD4 TCM', by='irAE')"
   ]
  },
  {
   "cell_type": "code",
   "execution_count": null,
   "metadata": {},
   "outputs": [],
   "source": [
    "y='CD4 TEM'\n",
    "x='irAE'\n",
    "order=['No severe irAE','Severe irAE']\n",
    "ax=sns.boxplot(x=x, y=y, data=zscoredDF,order=order,color='white')\n",
    "ax=sns.stripplot(x=x, y=y, data=zscoredDF,order=order,color='black')\n",
    "ax.set_ylabel(y+\" (z-score)\")\n",
    "add_stat_annotation(ax,x=x, y=y, data=zscoredDF,box_pairs=[('No severe irAE','Severe irAE')],test='Mann-Whitney', text_format='simple', loc='inside')\n",
    "plt.savefig(outfile + '_'+x+'_'+y+'.pdf', bbox_inches='tight')"
   ]
  },
  {
   "cell_type": "code",
   "execution_count": null,
   "metadata": {},
   "outputs": [],
   "source": [
    "zscoredDF.boxplot(column='CD4 TEM', by='irAE')"
   ]
  },
  {
   "cell_type": "code",
   "execution_count": null,
   "metadata": {},
   "outputs": [],
   "source": [
    "zscoredDF.boxplot(column='CD4 TCM', by='Toxicity')"
   ]
  },
  {
   "cell_type": "code",
   "execution_count": null,
   "metadata": {},
   "outputs": [],
   "source": [
    "zscoredDF.boxplot(column='CD4 TEM', by='Toxicity')"
   ]
  },
  {
   "cell_type": "code",
   "execution_count": null,
   "metadata": {},
   "outputs": [],
   "source": [
    "zscoredDF.to_csv(outfile+\"_fullannotattion.txt\",sep='\\t',index=False,na_rep='NA')"
   ]
  }
 ],
 "metadata": {
  "kernelspec": {
   "display_name": "Python 3",
   "language": "python",
   "name": "python3"
  },
  "language_info": {
   "codemirror_mode": {
    "name": "ipython",
    "version": 3
   },
   "file_extension": ".py",
   "mimetype": "text/x-python",
   "name": "python",
   "nbconvert_exporter": "python",
   "pygments_lexer": "ipython3",
   "version": "3.6.7"
  }
 },
 "nbformat": 4,
 "nbformat_minor": 2
}
