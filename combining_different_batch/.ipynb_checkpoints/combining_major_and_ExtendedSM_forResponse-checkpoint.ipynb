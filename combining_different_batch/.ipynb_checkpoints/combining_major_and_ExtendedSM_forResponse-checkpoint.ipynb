{
 "cells": [
  {
   "cell_type": "code",
   "execution_count": 1,
   "metadata": {},
   "outputs": [
    {
     "data": {
      "text/html": [
       "<div>\n",
       "<style scoped>\n",
       "    .dataframe tbody tr th:only-of-type {\n",
       "        vertical-align: middle;\n",
       "    }\n",
       "\n",
       "    .dataframe tbody tr th {\n",
       "        vertical-align: top;\n",
       "    }\n",
       "\n",
       "    .dataframe thead th {\n",
       "        text-align: right;\n",
       "    }\n",
       "</style>\n",
       "<table border=\"1\" class=\"dataframe\">\n",
       "  <thead>\n",
       "    <tr style=\"text-align: right;\">\n",
       "      <th></th>\n",
       "      <th>NaiveCD4</th>\n",
       "      <th>NaiveCD8</th>\n",
       "      <th>nB</th>\n",
       "      <th>NK</th>\n",
       "      <th>PC</th>\n",
       "      <th>Mono</th>\n",
       "      <th>M0</th>\n",
       "      <th>M1</th>\n",
       "      <th>M2</th>\n",
       "      <th>iDC</th>\n",
       "      <th>...</th>\n",
       "      <th>Eo</th>\n",
       "      <th>Tregs</th>\n",
       "      <th>CD4 TEM</th>\n",
       "      <th>ed8</th>\n",
       "      <th>Mg</th>\n",
       "      <th>CD4 TCM</th>\n",
       "      <th>Er</th>\n",
       "      <th>mB</th>\n",
       "      <th>CD8TIL</th>\n",
       "      <th>Toxicity</th>\n",
       "    </tr>\n",
       "    <tr>\n",
       "      <th>Mixture</th>\n",
       "      <th></th>\n",
       "      <th></th>\n",
       "      <th></th>\n",
       "      <th></th>\n",
       "      <th></th>\n",
       "      <th></th>\n",
       "      <th></th>\n",
       "      <th></th>\n",
       "      <th></th>\n",
       "      <th></th>\n",
       "      <th></th>\n",
       "      <th></th>\n",
       "      <th></th>\n",
       "      <th></th>\n",
       "      <th></th>\n",
       "      <th></th>\n",
       "      <th></th>\n",
       "      <th></th>\n",
       "      <th></th>\n",
       "      <th></th>\n",
       "      <th></th>\n",
       "    </tr>\n",
       "  </thead>\n",
       "  <tbody>\n",
       "    <tr>\n",
       "      <th>irfrestartYUADD-20-4110-auto</th>\n",
       "      <td>3.042793</td>\n",
       "      <td>2.758049</td>\n",
       "      <td>3.417834</td>\n",
       "      <td>3.433857</td>\n",
       "      <td>0</td>\n",
       "      <td>5.094478</td>\n",
       "      <td>4.632205</td>\n",
       "      <td>4.342432</td>\n",
       "      <td>3.702112</td>\n",
       "      <td>4.518334</td>\n",
       "      <td>...</td>\n",
       "      <td>6.182536</td>\n",
       "      <td>3.244714</td>\n",
       "      <td>3.538142</td>\n",
       "      <td>3.438064</td>\n",
       "      <td>7.421293</td>\n",
       "      <td>3.237323</td>\n",
       "      <td>6.267486</td>\n",
       "      <td>2.942280</td>\n",
       "      <td>4.643362</td>\n",
       "      <td>0.0</td>\n",
       "    </tr>\n",
       "    <tr>\n",
       "      <th>irfrestartYUBLIT-11-2164-auto</th>\n",
       "      <td>2.789613</td>\n",
       "      <td>3.594492</td>\n",
       "      <td>3.304648</td>\n",
       "      <td>3.470132</td>\n",
       "      <td>0</td>\n",
       "      <td>5.545010</td>\n",
       "      <td>5.382506</td>\n",
       "      <td>4.622957</td>\n",
       "      <td>3.776820</td>\n",
       "      <td>4.690597</td>\n",
       "      <td>...</td>\n",
       "      <td>4.809648</td>\n",
       "      <td>3.577598</td>\n",
       "      <td>3.746580</td>\n",
       "      <td>3.703385</td>\n",
       "      <td>9.274178</td>\n",
       "      <td>3.608610</td>\n",
       "      <td>8.199986</td>\n",
       "      <td>2.740111</td>\n",
       "      <td>4.518322</td>\n",
       "      <td>2.0</td>\n",
       "    </tr>\n",
       "    <tr>\n",
       "      <th>irfrestartYUBRET-15-3411-auto</th>\n",
       "      <td>3.355530</td>\n",
       "      <td>3.658127</td>\n",
       "      <td>3.662609</td>\n",
       "      <td>3.878924</td>\n",
       "      <td>0</td>\n",
       "      <td>4.447035</td>\n",
       "      <td>4.306827</td>\n",
       "      <td>3.987767</td>\n",
       "      <td>3.705169</td>\n",
       "      <td>4.143537</td>\n",
       "      <td>...</td>\n",
       "      <td>5.375786</td>\n",
       "      <td>3.644886</td>\n",
       "      <td>3.545147</td>\n",
       "      <td>3.617759</td>\n",
       "      <td>9.845234</td>\n",
       "      <td>3.371908</td>\n",
       "      <td>7.732538</td>\n",
       "      <td>3.326680</td>\n",
       "      <td>4.065404</td>\n",
       "      <td>2.0</td>\n",
       "    </tr>\n",
       "    <tr>\n",
       "      <th>irfrestartYUBUMP-14-3166-auto</th>\n",
       "      <td>3.623301</td>\n",
       "      <td>2.921395</td>\n",
       "      <td>3.776146</td>\n",
       "      <td>3.814303</td>\n",
       "      <td>0</td>\n",
       "      <td>4.433174</td>\n",
       "      <td>4.615345</td>\n",
       "      <td>4.321107</td>\n",
       "      <td>4.249944</td>\n",
       "      <td>4.691179</td>\n",
       "      <td>...</td>\n",
       "      <td>5.250385</td>\n",
       "      <td>3.114092</td>\n",
       "      <td>3.008823</td>\n",
       "      <td>3.413882</td>\n",
       "      <td>9.830042</td>\n",
       "      <td>3.248598</td>\n",
       "      <td>8.779211</td>\n",
       "      <td>3.113404</td>\n",
       "      <td>4.779995</td>\n",
       "      <td>0.0</td>\n",
       "    </tr>\n",
       "    <tr>\n",
       "      <th>irfrestartYUCEVO-20-4119-auto</th>\n",
       "      <td>3.290976</td>\n",
       "      <td>2.998540</td>\n",
       "      <td>3.554726</td>\n",
       "      <td>3.506960</td>\n",
       "      <td>0</td>\n",
       "      <td>3.660463</td>\n",
       "      <td>3.941154</td>\n",
       "      <td>3.798624</td>\n",
       "      <td>3.698900</td>\n",
       "      <td>4.122373</td>\n",
       "      <td>...</td>\n",
       "      <td>4.848588</td>\n",
       "      <td>3.438098</td>\n",
       "      <td>3.821051</td>\n",
       "      <td>3.539166</td>\n",
       "      <td>12.178349</td>\n",
       "      <td>3.670086</td>\n",
       "      <td>9.871005</td>\n",
       "      <td>2.751290</td>\n",
       "      <td>4.873366</td>\n",
       "      <td>1.0</td>\n",
       "    </tr>\n",
       "  </tbody>\n",
       "</table>\n",
       "<p>5 rows × 24 columns</p>\n",
       "</div>"
      ],
      "text/plain": [
       "                               NaiveCD4  NaiveCD8        nB        NK  PC  \\\n",
       "Mixture                                                                     \n",
       "irfrestartYUADD-20-4110-auto   3.042793  2.758049  3.417834  3.433857   0   \n",
       "irfrestartYUBLIT-11-2164-auto  2.789613  3.594492  3.304648  3.470132   0   \n",
       "irfrestartYUBRET-15-3411-auto  3.355530  3.658127  3.662609  3.878924   0   \n",
       "irfrestartYUBUMP-14-3166-auto  3.623301  2.921395  3.776146  3.814303   0   \n",
       "irfrestartYUCEVO-20-4119-auto  3.290976  2.998540  3.554726  3.506960   0   \n",
       "\n",
       "                                   Mono        M0        M1        M2  \\\n",
       "Mixture                                                                 \n",
       "irfrestartYUADD-20-4110-auto   5.094478  4.632205  4.342432  3.702112   \n",
       "irfrestartYUBLIT-11-2164-auto  5.545010  5.382506  4.622957  3.776820   \n",
       "irfrestartYUBRET-15-3411-auto  4.447035  4.306827  3.987767  3.705169   \n",
       "irfrestartYUBUMP-14-3166-auto  4.433174  4.615345  4.321107  4.249944   \n",
       "irfrestartYUCEVO-20-4119-auto  3.660463  3.941154  3.798624  3.698900   \n",
       "\n",
       "                                    iDC  ...        Eo     Tregs   CD4 TEM  \\\n",
       "Mixture                                  ...                                 \n",
       "irfrestartYUADD-20-4110-auto   4.518334  ...  6.182536  3.244714  3.538142   \n",
       "irfrestartYUBLIT-11-2164-auto  4.690597  ...  4.809648  3.577598  3.746580   \n",
       "irfrestartYUBRET-15-3411-auto  4.143537  ...  5.375786  3.644886  3.545147   \n",
       "irfrestartYUBUMP-14-3166-auto  4.691179  ...  5.250385  3.114092  3.008823   \n",
       "irfrestartYUCEVO-20-4119-auto  4.122373  ...  4.848588  3.438098  3.821051   \n",
       "\n",
       "                                    ed8         Mg   CD4 TCM        Er  \\\n",
       "Mixture                                                                  \n",
       "irfrestartYUADD-20-4110-auto   3.438064   7.421293  3.237323  6.267486   \n",
       "irfrestartYUBLIT-11-2164-auto  3.703385   9.274178  3.608610  8.199986   \n",
       "irfrestartYUBRET-15-3411-auto  3.617759   9.845234  3.371908  7.732538   \n",
       "irfrestartYUBUMP-14-3166-auto  3.413882   9.830042  3.248598  8.779211   \n",
       "irfrestartYUCEVO-20-4119-auto  3.539166  12.178349  3.670086  9.871005   \n",
       "\n",
       "                                     mB    CD8TIL  Toxicity  \n",
       "Mixture                                                      \n",
       "irfrestartYUADD-20-4110-auto   2.942280  4.643362       0.0  \n",
       "irfrestartYUBLIT-11-2164-auto  2.740111  4.518322       2.0  \n",
       "irfrestartYUBRET-15-3411-auto  3.326680  4.065404       2.0  \n",
       "irfrestartYUBUMP-14-3166-auto  3.113404  4.779995       0.0  \n",
       "irfrestartYUCEVO-20-4119-auto  2.751290  4.873366       1.0  \n",
       "\n",
       "[5 rows x 24 columns]"
      ]
     },
     "execution_count": 1,
     "metadata": {},
     "output_type": "execute_result"
    }
   ],
   "source": [
    "import pandas as pd\n",
    "import matplotlib.pyplot as plt\n",
    "import seaborn as sns\n",
    "from statannot import add_stat_annotation\n",
    "import os\n",
    "\n",
    "infile='/Users/irffanalahi/Research/Research_update/SoftRD/largerEXP/OurCD8TIL_ranked/melanoma_EMseq_secondlane/EM_seconbatch_result/fortox/method1Fract_CD8TIL_pbl_tum_ranked_SM_top100_SM_unique_maxscore_CSxOut.txt'\n",
    "majorlineagefile='/Users/irffanalahi/Research/Research_update/SoftRD/largerEXP/OurCD8TIL_ranked/melanoma_EMseq_secondlane/EM_seconbatch_result/fortox/method1Fract_BLU2_majorrankedV1_index.txt_inflectionSM.txt_maxscore_CSxOut.txt'\n",
    "\n",
    "outname=infile+\"_\"+os.path.basename(majorlineagefile)+\"_zscore\"\n",
    "\n",
    "indf=pd.read_csv(infile,sep='\\t',index_col='Mixture')\n",
    "indf.head()"
   ]
  },
  {
   "cell_type": "code",
   "execution_count": 2,
   "metadata": {},
   "outputs": [],
   "source": [
    "indf.loc[indf['Toxicity']>2,'irAE']='Severe irAE'\n",
    "indf.loc[indf['Toxicity']<=2,'irAE']='No severe irAE'"
   ]
  },
  {
   "cell_type": "code",
   "execution_count": 3,
   "metadata": {},
   "outputs": [
    {
     "data": {
      "text/plain": [
       "(17, 25)"
      ]
     },
     "execution_count": 3,
     "metadata": {},
     "output_type": "execute_result"
    }
   ],
   "source": [
    "toxdf=indf[indf['Toxicity'].notna()]\n",
    "toxdf.shape"
   ]
  },
  {
   "cell_type": "code",
   "execution_count": 4,
   "metadata": {},
   "outputs": [
    {
     "name": "stdout",
     "output_type": "stream",
     "text": [
      "No severe irAE v.s. Severe irAE: Mann-Whitney-Wilcoxon test two-sided with Bonferroni correction, P_val=6.104e-01 U_stat=3.100e+01\n"
     ]
    },
    {
     "data": {
      "text/plain": [
       "(<matplotlib.axes._subplots.AxesSubplot at 0x7fcb4760f3c8>,\n",
       " [<statannot.StatResult.StatResult at 0x7fcb476ad048>])"
      ]
     },
     "execution_count": 4,
     "metadata": {},
     "output_type": "execute_result"
    },
    {
     "data": {
      "image/png": "[encoded data removed]",
      "text/plain": [
       "<Figure size 432x288 with 1 Axes>"
      ]
     },
     "metadata": {
      "needs_background": "light"
     },
     "output_type": "display_data"
    }
   ],
   "source": [
    "y='CD4 TEM'\n",
    "x='irAE'\n",
    "order=['No severe irAE','Severe irAE']\n",
    "\n",
    "plottingdf=toxdf\n",
    "\n",
    "ax=sns.boxplot(x=x, y=y, data=plottingdf,order=order,color='white')\n",
    "ax=sns.stripplot(x=x, y=y, data=plottingdf,order=order,color='black')\n",
    "ax.set_ylabel(y)\n",
    "add_stat_annotation(ax,x=x, y=y, data=plottingdf,box_pairs=[('No severe irAE','Severe irAE')],test='Mann-Whitney', text_format='simple', loc='inside')\n",
    "#plt.savefig(outfile + '_'+x+'_'+y+'.pdf', bbox_inches='tight')"
   ]
  },
  {
   "cell_type": "code",
   "execution_count": 5,
   "metadata": {},
   "outputs": [
    {
     "name": "stdout",
     "output_type": "stream",
     "text": [
      "No severe irAE v.s. Severe irAE: Mann-Whitney-Wilcoxon test two-sided with Bonferroni correction, P_val=6.919e-01 U_stat=3.000e+01\n"
     ]
    },
    {
     "data": {
      "text/plain": [
       "(<matplotlib.axes._subplots.AxesSubplot at 0x7fcb47793d30>,\n",
       " [<statannot.StatResult.StatResult at 0x7fcb476e7a58>])"
      ]
     },
     "execution_count": 5,
     "metadata": {},
     "output_type": "execute_result"
    },
    {
     "data": {
      "image/png": "[encoded data removed]",
      "text/plain": [
       "<Figure size 432x288 with 1 Axes>"
      ]
     },
     "metadata": {
      "needs_background": "light"
     },
     "output_type": "display_data"
    }
   ],
   "source": [
    "y='CD4 TCM'\n",
    "x='irAE'\n",
    "order=['No severe irAE','Severe irAE']\n",
    "\n",
    "plottingdf=toxdf\n",
    "\n",
    "ax=sns.boxplot(x=x, y=y, data=plottingdf,order=order,color='white')\n",
    "ax=sns.stripplot(x=x, y=y, data=plottingdf,order=order,color='black')\n",
    "ax.set_ylabel(y)\n",
    "add_stat_annotation(ax,x=x, y=y, data=plottingdf,box_pairs=[('No severe irAE','Severe irAE')],test='Mann-Whitney', text_format='simple', loc='inside')\n",
    "#plt.savefig(outfile + '_'+x+'_'+y+'.pdf', bbox_inches='tight')"
   ]
  },
  {
   "cell_type": "code",
   "execution_count": 6,
   "metadata": {},
   "outputs": [
    {
     "data": {
      "text/html": [
       "<div>\n",
       "<style scoped>\n",
       "    .dataframe tbody tr th:only-of-type {\n",
       "        vertical-align: middle;\n",
       "    }\n",
       "\n",
       "    .dataframe tbody tr th {\n",
       "        vertical-align: top;\n",
       "    }\n",
       "\n",
       "    .dataframe thead th {\n",
       "        text-align: right;\n",
       "    }\n",
       "</style>\n",
       "<table border=\"1\" class=\"dataframe\">\n",
       "  <thead>\n",
       "    <tr style=\"text-align: right;\">\n",
       "      <th></th>\n",
       "      <th>Mono</th>\n",
       "      <th>Bcell</th>\n",
       "      <th>CD4</th>\n",
       "      <th>CD8</th>\n",
       "      <th>NK</th>\n",
       "    </tr>\n",
       "    <tr>\n",
       "      <th>Mixture</th>\n",
       "      <th></th>\n",
       "      <th></th>\n",
       "      <th></th>\n",
       "      <th></th>\n",
       "      <th></th>\n",
       "    </tr>\n",
       "  </thead>\n",
       "  <tbody>\n",
       "    <tr>\n",
       "      <th>irfrestartYUADD-20-4110-auto</th>\n",
       "      <td>56.385202</td>\n",
       "      <td>10.866405</td>\n",
       "      <td>10.831456</td>\n",
       "      <td>9.825738</td>\n",
       "      <td>12.091199</td>\n",
       "    </tr>\n",
       "    <tr>\n",
       "      <th>irfrestartYUBLIT-11-2164-auto</th>\n",
       "      <td>47.249560</td>\n",
       "      <td>13.315469</td>\n",
       "      <td>14.696087</td>\n",
       "      <td>10.522319</td>\n",
       "      <td>14.216564</td>\n",
       "    </tr>\n",
       "    <tr>\n",
       "      <th>irfrestartYUBRET-15-3411-auto</th>\n",
       "      <td>43.334562</td>\n",
       "      <td>15.386760</td>\n",
       "      <td>12.320849</td>\n",
       "      <td>11.801398</td>\n",
       "      <td>17.156431</td>\n",
       "    </tr>\n",
       "    <tr>\n",
       "      <th>irfrestartYUBUMP-14-3166-auto</th>\n",
       "      <td>42.856376</td>\n",
       "      <td>12.907822</td>\n",
       "      <td>15.502103</td>\n",
       "      <td>12.187656</td>\n",
       "      <td>16.546044</td>\n",
       "    </tr>\n",
       "    <tr>\n",
       "      <th>irfrestartYUCEVO-20-4119-auto</th>\n",
       "      <td>38.510852</td>\n",
       "      <td>13.913024</td>\n",
       "      <td>19.045583</td>\n",
       "      <td>11.466375</td>\n",
       "      <td>17.064166</td>\n",
       "    </tr>\n",
       "  </tbody>\n",
       "</table>\n",
       "</div>"
      ],
      "text/plain": [
       "                                    Mono      Bcell        CD4        CD8  \\\n",
       "Mixture                                                                     \n",
       "irfrestartYUADD-20-4110-auto   56.385202  10.866405  10.831456   9.825738   \n",
       "irfrestartYUBLIT-11-2164-auto  47.249560  13.315469  14.696087  10.522319   \n",
       "irfrestartYUBRET-15-3411-auto  43.334562  15.386760  12.320849  11.801398   \n",
       "irfrestartYUBUMP-14-3166-auto  42.856376  12.907822  15.502103  12.187656   \n",
       "irfrestartYUCEVO-20-4119-auto  38.510852  13.913024  19.045583  11.466375   \n",
       "\n",
       "                                      NK  \n",
       "Mixture                                   \n",
       "irfrestartYUADD-20-4110-auto   12.091199  \n",
       "irfrestartYUBLIT-11-2164-auto  14.216564  \n",
       "irfrestartYUBRET-15-3411-auto  17.156431  \n",
       "irfrestartYUBUMP-14-3166-auto  16.546044  \n",
       "irfrestartYUCEVO-20-4119-auto  17.064166  "
      ]
     },
     "execution_count": 6,
     "metadata": {},
     "output_type": "execute_result"
    }
   ],
   "source": [
    "majorlineageDF=pd.read_csv(majorlineagefile,sep='\\t',index_col='Mixture')\n",
    "majorlineageDF.head()"
   ]
  },
  {
   "cell_type": "code",
   "execution_count": 7,
   "metadata": {},
   "outputs": [
    {
     "data": {
      "text/plain": [
       "(23, 5)"
      ]
     },
     "execution_count": 7,
     "metadata": {},
     "output_type": "execute_result"
    }
   ],
   "source": [
    "majorlineageDF.shape"
   ]
  },
  {
   "cell_type": "code",
   "execution_count": 8,
   "metadata": {},
   "outputs": [
    {
     "data": {
      "text/plain": [
       "(17, 30)"
      ]
     },
     "execution_count": 8,
     "metadata": {},
     "output_type": "execute_result"
    }
   ],
   "source": [
    "toxdfmerged_with_majorSM=toxdf.merge(majorlineageDF,how='inner',left_index=True,right_index=True)\n",
    "toxdfmerged_with_majorSM.shape"
   ]
  },
  {
   "cell_type": "code",
   "execution_count": 9,
   "metadata": {},
   "outputs": [
    {
     "data": {
      "text/html": [
       "<div>\n",
       "<style scoped>\n",
       "    .dataframe tbody tr th:only-of-type {\n",
       "        vertical-align: middle;\n",
       "    }\n",
       "\n",
       "    .dataframe tbody tr th {\n",
       "        vertical-align: top;\n",
       "    }\n",
       "\n",
       "    .dataframe thead th {\n",
       "        text-align: right;\n",
       "    }\n",
       "</style>\n",
       "<table border=\"1\" class=\"dataframe\">\n",
       "  <thead>\n",
       "    <tr style=\"text-align: right;\">\n",
       "      <th></th>\n",
       "      <th>NaiveCD4</th>\n",
       "      <th>NaiveCD8</th>\n",
       "      <th>nB</th>\n",
       "      <th>NK_x</th>\n",
       "      <th>PC</th>\n",
       "      <th>Mono_x</th>\n",
       "      <th>M0</th>\n",
       "      <th>M1</th>\n",
       "      <th>M2</th>\n",
       "      <th>iDC</th>\n",
       "      <th>...</th>\n",
       "      <th>Er</th>\n",
       "      <th>mB</th>\n",
       "      <th>CD8TIL</th>\n",
       "      <th>Toxicity</th>\n",
       "      <th>irAE</th>\n",
       "      <th>Mono_y</th>\n",
       "      <th>Bcell</th>\n",
       "      <th>CD4</th>\n",
       "      <th>CD8</th>\n",
       "      <th>NK_y</th>\n",
       "    </tr>\n",
       "    <tr>\n",
       "      <th>Mixture</th>\n",
       "      <th></th>\n",
       "      <th></th>\n",
       "      <th></th>\n",
       "      <th></th>\n",
       "      <th></th>\n",
       "      <th></th>\n",
       "      <th></th>\n",
       "      <th></th>\n",
       "      <th></th>\n",
       "      <th></th>\n",
       "      <th></th>\n",
       "      <th></th>\n",
       "      <th></th>\n",
       "      <th></th>\n",
       "      <th></th>\n",
       "      <th></th>\n",
       "      <th></th>\n",
       "      <th></th>\n",
       "      <th></th>\n",
       "      <th></th>\n",
       "      <th></th>\n",
       "    </tr>\n",
       "  </thead>\n",
       "  <tbody>\n",
       "    <tr>\n",
       "      <th>irfrestartYUADD-20-4110-auto</th>\n",
       "      <td>3.042793</td>\n",
       "      <td>2.758049</td>\n",
       "      <td>3.417834</td>\n",
       "      <td>3.433857</td>\n",
       "      <td>0</td>\n",
       "      <td>5.094478</td>\n",
       "      <td>4.632205</td>\n",
       "      <td>4.342432</td>\n",
       "      <td>3.702112</td>\n",
       "      <td>4.518334</td>\n",
       "      <td>...</td>\n",
       "      <td>6.267486</td>\n",
       "      <td>2.942280</td>\n",
       "      <td>4.643362</td>\n",
       "      <td>0.0</td>\n",
       "      <td>No severe irAE</td>\n",
       "      <td>56.385202</td>\n",
       "      <td>10.866405</td>\n",
       "      <td>10.831456</td>\n",
       "      <td>9.825738</td>\n",
       "      <td>12.091199</td>\n",
       "    </tr>\n",
       "    <tr>\n",
       "      <th>irfrestartYUBLIT-11-2164-auto</th>\n",
       "      <td>2.789613</td>\n",
       "      <td>3.594492</td>\n",
       "      <td>3.304648</td>\n",
       "      <td>3.470132</td>\n",
       "      <td>0</td>\n",
       "      <td>5.545010</td>\n",
       "      <td>5.382506</td>\n",
       "      <td>4.622957</td>\n",
       "      <td>3.776820</td>\n",
       "      <td>4.690597</td>\n",
       "      <td>...</td>\n",
       "      <td>8.199986</td>\n",
       "      <td>2.740111</td>\n",
       "      <td>4.518322</td>\n",
       "      <td>2.0</td>\n",
       "      <td>No severe irAE</td>\n",
       "      <td>47.249560</td>\n",
       "      <td>13.315469</td>\n",
       "      <td>14.696087</td>\n",
       "      <td>10.522319</td>\n",
       "      <td>14.216564</td>\n",
       "    </tr>\n",
       "    <tr>\n",
       "      <th>irfrestartYUBRET-15-3411-auto</th>\n",
       "      <td>3.355530</td>\n",
       "      <td>3.658127</td>\n",
       "      <td>3.662609</td>\n",
       "      <td>3.878924</td>\n",
       "      <td>0</td>\n",
       "      <td>4.447035</td>\n",
       "      <td>4.306827</td>\n",
       "      <td>3.987767</td>\n",
       "      <td>3.705169</td>\n",
       "      <td>4.143537</td>\n",
       "      <td>...</td>\n",
       "      <td>7.732538</td>\n",
       "      <td>3.326680</td>\n",
       "      <td>4.065404</td>\n",
       "      <td>2.0</td>\n",
       "      <td>No severe irAE</td>\n",
       "      <td>43.334562</td>\n",
       "      <td>15.386760</td>\n",
       "      <td>12.320849</td>\n",
       "      <td>11.801398</td>\n",
       "      <td>17.156431</td>\n",
       "    </tr>\n",
       "    <tr>\n",
       "      <th>irfrestartYUBUMP-14-3166-auto</th>\n",
       "      <td>3.623301</td>\n",
       "      <td>2.921395</td>\n",
       "      <td>3.776146</td>\n",
       "      <td>3.814303</td>\n",
       "      <td>0</td>\n",
       "      <td>4.433174</td>\n",
       "      <td>4.615345</td>\n",
       "      <td>4.321107</td>\n",
       "      <td>4.249944</td>\n",
       "      <td>4.691179</td>\n",
       "      <td>...</td>\n",
       "      <td>8.779211</td>\n",
       "      <td>3.113404</td>\n",
       "      <td>4.779995</td>\n",
       "      <td>0.0</td>\n",
       "      <td>No severe irAE</td>\n",
       "      <td>42.856376</td>\n",
       "      <td>12.907822</td>\n",
       "      <td>15.502103</td>\n",
       "      <td>12.187656</td>\n",
       "      <td>16.546044</td>\n",
       "    </tr>\n",
       "    <tr>\n",
       "      <th>irfrestartYUCEVO-20-4119-auto</th>\n",
       "      <td>3.290976</td>\n",
       "      <td>2.998540</td>\n",
       "      <td>3.554726</td>\n",
       "      <td>3.506960</td>\n",
       "      <td>0</td>\n",
       "      <td>3.660463</td>\n",
       "      <td>3.941154</td>\n",
       "      <td>3.798624</td>\n",
       "      <td>3.698900</td>\n",
       "      <td>4.122373</td>\n",
       "      <td>...</td>\n",
       "      <td>9.871005</td>\n",
       "      <td>2.751290</td>\n",
       "      <td>4.873366</td>\n",
       "      <td>1.0</td>\n",
       "      <td>No severe irAE</td>\n",
       "      <td>38.510852</td>\n",
       "      <td>13.913024</td>\n",
       "      <td>19.045583</td>\n",
       "      <td>11.466375</td>\n",
       "      <td>17.064166</td>\n",
       "    </tr>\n",
       "  </tbody>\n",
       "</table>\n",
       "<p>5 rows × 30 columns</p>\n",
       "</div>"
      ],
      "text/plain": [
       "                               NaiveCD4  NaiveCD8        nB      NK_x  PC  \\\n",
       "Mixture                                                                     \n",
       "irfrestartYUADD-20-4110-auto   3.042793  2.758049  3.417834  3.433857   0   \n",
       "irfrestartYUBLIT-11-2164-auto  2.789613  3.594492  3.304648  3.470132   0   \n",
       "irfrestartYUBRET-15-3411-auto  3.355530  3.658127  3.662609  3.878924   0   \n",
       "irfrestartYUBUMP-14-3166-auto  3.623301  2.921395  3.776146  3.814303   0   \n",
       "irfrestartYUCEVO-20-4119-auto  3.290976  2.998540  3.554726  3.506960   0   \n",
       "\n",
       "                                 Mono_x        M0        M1        M2  \\\n",
       "Mixture                                                                 \n",
       "irfrestartYUADD-20-4110-auto   5.094478  4.632205  4.342432  3.702112   \n",
       "irfrestartYUBLIT-11-2164-auto  5.545010  5.382506  4.622957  3.776820   \n",
       "irfrestartYUBRET-15-3411-auto  4.447035  4.306827  3.987767  3.705169   \n",
       "irfrestartYUBUMP-14-3166-auto  4.433174  4.615345  4.321107  4.249944   \n",
       "irfrestartYUCEVO-20-4119-auto  3.660463  3.941154  3.798624  3.698900   \n",
       "\n",
       "                                    iDC  ...        Er        mB    CD8TIL  \\\n",
       "Mixture                                  ...                                 \n",
       "irfrestartYUADD-20-4110-auto   4.518334  ...  6.267486  2.942280  4.643362   \n",
       "irfrestartYUBLIT-11-2164-auto  4.690597  ...  8.199986  2.740111  4.518322   \n",
       "irfrestartYUBRET-15-3411-auto  4.143537  ...  7.732538  3.326680  4.065404   \n",
       "irfrestartYUBUMP-14-3166-auto  4.691179  ...  8.779211  3.113404  4.779995   \n",
       "irfrestartYUCEVO-20-4119-auto  4.122373  ...  9.871005  2.751290  4.873366   \n",
       "\n",
       "                               Toxicity            irAE     Mono_y      Bcell  \\\n",
       "Mixture                                                                         \n",
       "irfrestartYUADD-20-4110-auto        0.0  No severe irAE  56.385202  10.866405   \n",
       "irfrestartYUBLIT-11-2164-auto       2.0  No severe irAE  47.249560  13.315469   \n",
       "irfrestartYUBRET-15-3411-auto       2.0  No severe irAE  43.334562  15.386760   \n",
       "irfrestartYUBUMP-14-3166-auto       0.0  No severe irAE  42.856376  12.907822   \n",
       "irfrestartYUCEVO-20-4119-auto       1.0  No severe irAE  38.510852  13.913024   \n",
       "\n",
       "                                     CD4        CD8       NK_y  \n",
       "Mixture                                                         \n",
       "irfrestartYUADD-20-4110-auto   10.831456   9.825738  12.091199  \n",
       "irfrestartYUBLIT-11-2164-auto  14.696087  10.522319  14.216564  \n",
       "irfrestartYUBRET-15-3411-auto  12.320849  11.801398  17.156431  \n",
       "irfrestartYUBUMP-14-3166-auto  15.502103  12.187656  16.546044  \n",
       "irfrestartYUCEVO-20-4119-auto  19.045583  11.466375  17.064166  \n",
       "\n",
       "[5 rows x 30 columns]"
      ]
     },
     "execution_count": 9,
     "metadata": {},
     "output_type": "execute_result"
    }
   ],
   "source": [
    "toxdfmerged_with_majorSM.head()"
   ]
  },
  {
   "cell_type": "code",
   "execution_count": 10,
   "metadata": {},
   "outputs": [
    {
     "data": {
      "image/png": "[encoded data removed]",
      "text/plain": [
       "<Figure size 432x288 with 2 Axes>"
      ]
     },
     "metadata": {
      "needs_background": "light"
     },
     "output_type": "display_data"
    }
   ],
   "source": [
    "onlythosethreeCT=toxdfmerged_with_majorSM[['CD4','CD4 TEM','CD4 TCM']]\n",
    "corr = onlythosethreeCT.corr(method='pearson')\n",
    "sns.heatmap(corr, \n",
    "        xticklabels=corr.columns,\n",
    "        yticklabels=corr.columns,cmap='viridis',annot=True)\n",
    "plt.savefig(infile + '_CD4thosethree_crosscorrelation.pdf', bbox_inches='tight')"
   ]
  },
  {
   "cell_type": "code",
   "execution_count": 11,
   "metadata": {},
   "outputs": [
    {
     "data": {
      "text/html": [
       "<div>\n",
       "<style scoped>\n",
       "    .dataframe tbody tr th:only-of-type {\n",
       "        vertical-align: middle;\n",
       "    }\n",
       "\n",
       "    .dataframe tbody tr th {\n",
       "        vertical-align: top;\n",
       "    }\n",
       "\n",
       "    .dataframe thead th {\n",
       "        text-align: right;\n",
       "    }\n",
       "</style>\n",
       "<table border=\"1\" class=\"dataframe\">\n",
       "  <thead>\n",
       "    <tr style=\"text-align: right;\">\n",
       "      <th></th>\n",
       "      <th>NaiveCD4</th>\n",
       "      <th>NaiveCD8</th>\n",
       "      <th>nB</th>\n",
       "      <th>NK_x</th>\n",
       "      <th>PC</th>\n",
       "      <th>Mono_x</th>\n",
       "      <th>M0</th>\n",
       "      <th>M1</th>\n",
       "      <th>M2</th>\n",
       "      <th>iDC</th>\n",
       "      <th>...</th>\n",
       "      <th>CD8TIL</th>\n",
       "      <th>Toxicity</th>\n",
       "      <th>irAE</th>\n",
       "      <th>Mono_y</th>\n",
       "      <th>Bcell</th>\n",
       "      <th>CD4</th>\n",
       "      <th>CD8</th>\n",
       "      <th>NK_y</th>\n",
       "      <th>CD4TCM_dividedby_CD4</th>\n",
       "      <th>CD4TEM_dividedby_CD4</th>\n",
       "    </tr>\n",
       "    <tr>\n",
       "      <th>Mixture</th>\n",
       "      <th></th>\n",
       "      <th></th>\n",
       "      <th></th>\n",
       "      <th></th>\n",
       "      <th></th>\n",
       "      <th></th>\n",
       "      <th></th>\n",
       "      <th></th>\n",
       "      <th></th>\n",
       "      <th></th>\n",
       "      <th></th>\n",
       "      <th></th>\n",
       "      <th></th>\n",
       "      <th></th>\n",
       "      <th></th>\n",
       "      <th></th>\n",
       "      <th></th>\n",
       "      <th></th>\n",
       "      <th></th>\n",
       "      <th></th>\n",
       "      <th></th>\n",
       "    </tr>\n",
       "  </thead>\n",
       "  <tbody>\n",
       "    <tr>\n",
       "      <th>irfrestartYUADD-20-4110-auto</th>\n",
       "      <td>3.042793</td>\n",
       "      <td>2.758049</td>\n",
       "      <td>3.417834</td>\n",
       "      <td>3.433857</td>\n",
       "      <td>0</td>\n",
       "      <td>5.094478</td>\n",
       "      <td>4.632205</td>\n",
       "      <td>4.342432</td>\n",
       "      <td>3.702112</td>\n",
       "      <td>4.518334</td>\n",
       "      <td>...</td>\n",
       "      <td>4.643362</td>\n",
       "      <td>0.0</td>\n",
       "      <td>No severe irAE</td>\n",
       "      <td>56.385202</td>\n",
       "      <td>10.866405</td>\n",
       "      <td>10.831456</td>\n",
       "      <td>9.825738</td>\n",
       "      <td>12.091199</td>\n",
       "      <td>0.298882</td>\n",
       "      <td>0.326654</td>\n",
       "    </tr>\n",
       "    <tr>\n",
       "      <th>irfrestartYUBLIT-11-2164-auto</th>\n",
       "      <td>2.789613</td>\n",
       "      <td>3.594492</td>\n",
       "      <td>3.304648</td>\n",
       "      <td>3.470132</td>\n",
       "      <td>0</td>\n",
       "      <td>5.545010</td>\n",
       "      <td>5.382506</td>\n",
       "      <td>4.622957</td>\n",
       "      <td>3.776820</td>\n",
       "      <td>4.690597</td>\n",
       "      <td>...</td>\n",
       "      <td>4.518322</td>\n",
       "      <td>2.0</td>\n",
       "      <td>No severe irAE</td>\n",
       "      <td>47.249560</td>\n",
       "      <td>13.315469</td>\n",
       "      <td>14.696087</td>\n",
       "      <td>10.522319</td>\n",
       "      <td>14.216564</td>\n",
       "      <td>0.245549</td>\n",
       "      <td>0.254937</td>\n",
       "    </tr>\n",
       "    <tr>\n",
       "      <th>irfrestartYUBRET-15-3411-auto</th>\n",
       "      <td>3.355530</td>\n",
       "      <td>3.658127</td>\n",
       "      <td>3.662609</td>\n",
       "      <td>3.878924</td>\n",
       "      <td>0</td>\n",
       "      <td>4.447035</td>\n",
       "      <td>4.306827</td>\n",
       "      <td>3.987767</td>\n",
       "      <td>3.705169</td>\n",
       "      <td>4.143537</td>\n",
       "      <td>...</td>\n",
       "      <td>4.065404</td>\n",
       "      <td>2.0</td>\n",
       "      <td>No severe irAE</td>\n",
       "      <td>43.334562</td>\n",
       "      <td>15.386760</td>\n",
       "      <td>12.320849</td>\n",
       "      <td>11.801398</td>\n",
       "      <td>17.156431</td>\n",
       "      <td>0.273675</td>\n",
       "      <td>0.287736</td>\n",
       "    </tr>\n",
       "    <tr>\n",
       "      <th>irfrestartYUBUMP-14-3166-auto</th>\n",
       "      <td>3.623301</td>\n",
       "      <td>2.921395</td>\n",
       "      <td>3.776146</td>\n",
       "      <td>3.814303</td>\n",
       "      <td>0</td>\n",
       "      <td>4.433174</td>\n",
       "      <td>4.615345</td>\n",
       "      <td>4.321107</td>\n",
       "      <td>4.249944</td>\n",
       "      <td>4.691179</td>\n",
       "      <td>...</td>\n",
       "      <td>4.779995</td>\n",
       "      <td>0.0</td>\n",
       "      <td>No severe irAE</td>\n",
       "      <td>42.856376</td>\n",
       "      <td>12.907822</td>\n",
       "      <td>15.502103</td>\n",
       "      <td>12.187656</td>\n",
       "      <td>16.546044</td>\n",
       "      <td>0.209559</td>\n",
       "      <td>0.194091</td>\n",
       "    </tr>\n",
       "    <tr>\n",
       "      <th>irfrestartYUCEVO-20-4119-auto</th>\n",
       "      <td>3.290976</td>\n",
       "      <td>2.998540</td>\n",
       "      <td>3.554726</td>\n",
       "      <td>3.506960</td>\n",
       "      <td>0</td>\n",
       "      <td>3.660463</td>\n",
       "      <td>3.941154</td>\n",
       "      <td>3.798624</td>\n",
       "      <td>3.698900</td>\n",
       "      <td>4.122373</td>\n",
       "      <td>...</td>\n",
       "      <td>4.873366</td>\n",
       "      <td>1.0</td>\n",
       "      <td>No severe irAE</td>\n",
       "      <td>38.510852</td>\n",
       "      <td>13.913024</td>\n",
       "      <td>19.045583</td>\n",
       "      <td>11.466375</td>\n",
       "      <td>17.064166</td>\n",
       "      <td>0.192700</td>\n",
       "      <td>0.200627</td>\n",
       "    </tr>\n",
       "  </tbody>\n",
       "</table>\n",
       "<p>5 rows × 32 columns</p>\n",
       "</div>"
      ],
      "text/plain": [
       "                               NaiveCD4  NaiveCD8        nB      NK_x  PC  \\\n",
       "Mixture                                                                     \n",
       "irfrestartYUADD-20-4110-auto   3.042793  2.758049  3.417834  3.433857   0   \n",
       "irfrestartYUBLIT-11-2164-auto  2.789613  3.594492  3.304648  3.470132   0   \n",
       "irfrestartYUBRET-15-3411-auto  3.355530  3.658127  3.662609  3.878924   0   \n",
       "irfrestartYUBUMP-14-3166-auto  3.623301  2.921395  3.776146  3.814303   0   \n",
       "irfrestartYUCEVO-20-4119-auto  3.290976  2.998540  3.554726  3.506960   0   \n",
       "\n",
       "                                 Mono_x        M0        M1        M2  \\\n",
       "Mixture                                                                 \n",
       "irfrestartYUADD-20-4110-auto   5.094478  4.632205  4.342432  3.702112   \n",
       "irfrestartYUBLIT-11-2164-auto  5.545010  5.382506  4.622957  3.776820   \n",
       "irfrestartYUBRET-15-3411-auto  4.447035  4.306827  3.987767  3.705169   \n",
       "irfrestartYUBUMP-14-3166-auto  4.433174  4.615345  4.321107  4.249944   \n",
       "irfrestartYUCEVO-20-4119-auto  3.660463  3.941154  3.798624  3.698900   \n",
       "\n",
       "                                    iDC  ...    CD8TIL  Toxicity  \\\n",
       "Mixture                                  ...                       \n",
       "irfrestartYUADD-20-4110-auto   4.518334  ...  4.643362       0.0   \n",
       "irfrestartYUBLIT-11-2164-auto  4.690597  ...  4.518322       2.0   \n",
       "irfrestartYUBRET-15-3411-auto  4.143537  ...  4.065404       2.0   \n",
       "irfrestartYUBUMP-14-3166-auto  4.691179  ...  4.779995       0.0   \n",
       "irfrestartYUCEVO-20-4119-auto  4.122373  ...  4.873366       1.0   \n",
       "\n",
       "                                         irAE     Mono_y      Bcell  \\\n",
       "Mixture                                                               \n",
       "irfrestartYUADD-20-4110-auto   No severe irAE  56.385202  10.866405   \n",
       "irfrestartYUBLIT-11-2164-auto  No severe irAE  47.249560  13.315469   \n",
       "irfrestartYUBRET-15-3411-auto  No severe irAE  43.334562  15.386760   \n",
       "irfrestartYUBUMP-14-3166-auto  No severe irAE  42.856376  12.907822   \n",
       "irfrestartYUCEVO-20-4119-auto  No severe irAE  38.510852  13.913024   \n",
       "\n",
       "                                     CD4        CD8       NK_y  \\\n",
       "Mixture                                                          \n",
       "irfrestartYUADD-20-4110-auto   10.831456   9.825738  12.091199   \n",
       "irfrestartYUBLIT-11-2164-auto  14.696087  10.522319  14.216564   \n",
       "irfrestartYUBRET-15-3411-auto  12.320849  11.801398  17.156431   \n",
       "irfrestartYUBUMP-14-3166-auto  15.502103  12.187656  16.546044   \n",
       "irfrestartYUCEVO-20-4119-auto  19.045583  11.466375  17.064166   \n",
       "\n",
       "                               CD4TCM_dividedby_CD4  CD4TEM_dividedby_CD4  \n",
       "Mixture                                                                    \n",
       "irfrestartYUADD-20-4110-auto               0.298882              0.326654  \n",
       "irfrestartYUBLIT-11-2164-auto              0.245549              0.254937  \n",
       "irfrestartYUBRET-15-3411-auto              0.273675              0.287736  \n",
       "irfrestartYUBUMP-14-3166-auto              0.209559              0.194091  \n",
       "irfrestartYUCEVO-20-4119-auto              0.192700              0.200627  \n",
       "\n",
       "[5 rows x 32 columns]"
      ]
     },
     "execution_count": 11,
     "metadata": {},
     "output_type": "execute_result"
    }
   ],
   "source": [
    "toxdfmerged_with_majorSM['CD4TCM_dividedby_CD4']=toxdfmerged_with_majorSM['CD4 TCM']/toxdfmerged_with_majorSM['CD4']\n",
    "toxdfmerged_with_majorSM['CD4TEM_dividedby_CD4']=toxdfmerged_with_majorSM['CD4 TEM']/toxdfmerged_with_majorSM['CD4']\n",
    "toxdfmerged_with_majorSM.head()"
   ]
  },
  {
   "cell_type": "code",
   "execution_count": 12,
   "metadata": {},
   "outputs": [
    {
     "name": "stdout",
     "output_type": "stream",
     "text": [
      "No severe irAE v.s. Severe irAE: Mann-Whitney-Wilcoxon test two-sided with Bonferroni correction, P_val=2.345e-01 U_stat=3.700e+01\n"
     ]
    },
    {
     "data": {
      "image/png": "[encoded data removed]",
      "text/plain": [
       "<Figure size 432x288 with 1 Axes>"
      ]
     },
     "metadata": {
      "needs_background": "light"
     },
     "output_type": "display_data"
    }
   ],
   "source": [
    "y='CD4'\n",
    "x='irAE'\n",
    "order=['No severe irAE','Severe irAE']\n",
    "\n",
    "plottingdf=toxdfmerged_with_majorSM\n",
    "\n",
    "ax=sns.boxplot(x=x, y=y, data=plottingdf,order=order,color='white')\n",
    "ax=sns.stripplot(x=x, y=y, data=plottingdf,order=order,color='black')\n",
    "ax.set_ylabel(y)\n",
    "add_stat_annotation(ax,x=x, y=y, data=plottingdf,box_pairs=[('No severe irAE','Severe irAE')],test='Mann-Whitney', text_format='simple', loc='inside')\n",
    "plt.savefig(outname + '_'+x+'_'+y+'.pdf', bbox_inches='tight')"
   ]
  },
  {
   "cell_type": "code",
   "execution_count": 13,
   "metadata": {},
   "outputs": [
    {
     "name": "stdout",
     "output_type": "stream",
     "text": [
      "No severe irAE v.s. Severe irAE: Mann-Whitney-Wilcoxon test two-sided with Bonferroni correction, P_val=1.570e-01 U_stat=1.300e+01\n"
     ]
    },
    {
     "data": {
      "image/png": "[encoded data removed]",
      "text/plain": [
       "<Figure size 432x288 with 1 Axes>"
      ]
     },
     "metadata": {
      "needs_background": "light"
     },
     "output_type": "display_data"
    }
   ],
   "source": [
    "y='CD4TCM_dividedby_CD4'\n",
    "x='irAE'\n",
    "order=['No severe irAE','Severe irAE']\n",
    "\n",
    "plottingdf=toxdfmerged_with_majorSM\n",
    "\n",
    "ax=sns.boxplot(x=x, y=y, data=plottingdf,order=order,color='white')\n",
    "ax=sns.stripplot(x=x, y=y, data=plottingdf,order=order,color='black')\n",
    "ax.set_ylabel(y)\n",
    "add_stat_annotation(ax,x=x, y=y, data=plottingdf,box_pairs=[('No severe irAE','Severe irAE')],test='Mann-Whitney', text_format='simple', loc='inside')\n",
    "plt.savefig(outname + '_'+x+'_'+y+'.pdf', bbox_inches='tight')"
   ]
  },
  {
   "cell_type": "code",
   "execution_count": 14,
   "metadata": {},
   "outputs": [
    {
     "name": "stdout",
     "output_type": "stream",
     "text": [
      "No severe irAE v.s. Severe irAE: Mann-Whitney-Wilcoxon test two-sided with Bonferroni correction, P_val=1.929e-01 U_stat=1.400e+01\n"
     ]
    },
    {
     "data": {
      "image/png": "[encoded data removed]",
      "text/plain": [
       "<Figure size 432x288 with 1 Axes>"
      ]
     },
     "metadata": {
      "needs_background": "light"
     },
     "output_type": "display_data"
    }
   ],
   "source": [
    "y='CD4TEM_dividedby_CD4'\n",
    "x='irAE'\n",
    "order=['No severe irAE','Severe irAE']\n",
    "\n",
    "plottingdf=toxdfmerged_with_majorSM\n",
    "\n",
    "ax=sns.boxplot(x=x, y=y, data=plottingdf,order=order,color='white')\n",
    "ax=sns.stripplot(x=x, y=y, data=plottingdf,order=order,color='black')\n",
    "ax.set_ylabel(y)\n",
    "add_stat_annotation(ax,x=x, y=y, data=plottingdf,box_pairs=[('No severe irAE','Severe irAE')],test='Mann-Whitney', text_format='simple', loc='inside')\n",
    "plt.savefig(outname + '_'+x+'_'+y+'.pdf', bbox_inches='tight')"
   ]
  },
  {
   "cell_type": "code",
   "execution_count": 15,
   "metadata": {},
   "outputs": [],
   "source": [
    "col='CD4TEM_dividedby_CD4'\n",
    "toxdfmerged_with_majorSM[col+\" (z-score)\"] = (toxdfmerged_with_majorSM[col] - toxdfmerged_with_majorSM[col].mean())/toxdfmerged_with_majorSM[col].std(ddof=0)\n",
    "\n",
    "\n",
    "col='CD4TCM_dividedby_CD4'\n",
    "toxdfmerged_with_majorSM[col+\" (z-score)\"] = (toxdfmerged_with_majorSM[col] - toxdfmerged_with_majorSM[col].mean())/toxdfmerged_with_majorSM[col].std(ddof=0)"
   ]
  },
  {
   "cell_type": "code",
   "execution_count": 16,
   "metadata": {},
   "outputs": [
    {
     "name": "stdout",
     "output_type": "stream",
     "text": [
      "No severe irAE v.s. Severe irAE: Mann-Whitney-Wilcoxon test two-sided with Bonferroni correction, P_val=1.929e-01 U_stat=1.400e+01\n"
     ]
    },
    {
     "data": {
      "image/png": "[encoded data removed]",
      "text/plain": [
       "<Figure size 432x288 with 1 Axes>"
      ]
     },
     "metadata": {
      "needs_background": "light"
     },
     "output_type": "display_data"
    }
   ],
   "source": [
    "y='CD4TEM_dividedby_CD4 (z-score)'\n",
    "x='irAE'\n",
    "order=['No severe irAE','Severe irAE']\n",
    "\n",
    "plottingdf=toxdfmerged_with_majorSM\n",
    "\n",
    "ax=sns.boxplot(x=x, y=y, data=plottingdf,order=order,color='white')\n",
    "ax=sns.stripplot(x=x, y=y, data=plottingdf,order=order,color='black')\n",
    "ax.set_ylabel(y)\n",
    "add_stat_annotation(ax,x=x, y=y, data=plottingdf,box_pairs=[('No severe irAE','Severe irAE')],test='Mann-Whitney', text_format='simple', loc='inside')\n",
    "plt.savefig(outname + '_'+x+'_'+y+'.pdf', bbox_inches='tight')"
   ]
  },
  {
   "cell_type": "code",
   "execution_count": 17,
   "metadata": {},
   "outputs": [
    {
     "name": "stdout",
     "output_type": "stream",
     "text": [
      "No severe irAE v.s. Severe irAE: Mann-Whitney-Wilcoxon test two-sided with Bonferroni correction, P_val=1.570e-01 U_stat=1.300e+01\n"
     ]
    },
    {
     "data": {
      "image/png": "[encoded data removed]",
      "text/plain": [
       "<Figure size 432x288 with 1 Axes>"
      ]
     },
     "metadata": {
      "needs_background": "light"
     },
     "output_type": "display_data"
    }
   ],
   "source": [
    "y='CD4TCM_dividedby_CD4 (z-score)'\n",
    "x='irAE'\n",
    "order=['No severe irAE','Severe irAE']\n",
    "\n",
    "plottingdf=toxdfmerged_with_majorSM\n",
    "\n",
    "ax=sns.boxplot(x=x, y=y, data=plottingdf,order=order,color='white')\n",
    "ax=sns.stripplot(x=x, y=y, data=plottingdf,order=order,color='black')\n",
    "ax.set_ylabel(y)\n",
    "add_stat_annotation(ax,x=x, y=y, data=plottingdf,box_pairs=[('No severe irAE','Severe irAE')],test='Mann-Whitney', text_format='simple', loc='inside')\n",
    "plt.savefig(outname + '_'+x+'_'+y+'.pdf', bbox_inches='tight')"
   ]
  },
  {
   "cell_type": "code",
   "execution_count": 18,
   "metadata": {},
   "outputs": [],
   "source": [
    "toxdfmerged_with_majorSM.to_csv(outname+\".txt\",sep='\\t')"
   ]
  }
 ],
 "metadata": {
  "kernelspec": {
   "display_name": "Python 3",
   "language": "python",
   "name": "python3"
  },
  "language_info": {
   "codemirror_mode": {
    "name": "ipython",
    "version": 3
   },
   "file_extension": ".py",
   "mimetype": "text/x-python",
   "name": "python",
   "nbconvert_exporter": "python",
   "pygments_lexer": "ipython3",
   "version": "3.6.7"
  }
 },
 "nbformat": 4,
 "nbformat_minor": 2
}
