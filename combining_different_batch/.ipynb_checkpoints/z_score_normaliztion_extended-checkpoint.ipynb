{
 "cells": [
  {
   "cell_type": "code",
   "execution_count": 1,
   "metadata": {},
   "outputs": [
    {
     "data": {
      "text/html": [
       "<div>\n",
       "<style scoped>\n",
       "    .dataframe tbody tr th:only-of-type {\n",
       "        vertical-align: middle;\n",
       "    }\n",
       "\n",
       "    .dataframe tbody tr th {\n",
       "        vertical-align: top;\n",
       "    }\n",
       "\n",
       "    .dataframe thead th {\n",
       "        text-align: right;\n",
       "    }\n",
       "</style>\n",
       "<table border=\"1\" class=\"dataframe\">\n",
       "  <thead>\n",
       "    <tr style=\"text-align: right;\">\n",
       "      <th></th>\n",
       "      <th>Naive CD4 T</th>\n",
       "      <th>CD4 TEM</th>\n",
       "      <th>CD4 TCM</th>\n",
       "      <th>Tregs</th>\n",
       "      <th>Naive CD8</th>\n",
       "      <th>CD8 TEM</th>\n",
       "      <th>CD8 TCM</th>\n",
       "      <th>CD8 TEMRA</th>\n",
       "      <th>NK</th>\n",
       "      <th>Naive B</th>\n",
       "      <th>...</th>\n",
       "      <th>Eosinophil</th>\n",
       "      <th>Megakaryocyte</th>\n",
       "      <th>Erythrocyte</th>\n",
       "      <th>CD8TIL</th>\n",
       "      <th>MelTumor</th>\n",
       "      <th>Total</th>\n",
       "      <th>Response</th>\n",
       "      <th>Toxicity</th>\n",
       "      <th>Batch</th>\n",
       "      <th>Sequencing Technology</th>\n",
       "    </tr>\n",
       "    <tr>\n",
       "      <th>Mixture</th>\n",
       "      <th></th>\n",
       "      <th></th>\n",
       "      <th></th>\n",
       "      <th></th>\n",
       "      <th></th>\n",
       "      <th></th>\n",
       "      <th></th>\n",
       "      <th></th>\n",
       "      <th></th>\n",
       "      <th></th>\n",
       "      <th></th>\n",
       "      <th></th>\n",
       "      <th></th>\n",
       "      <th></th>\n",
       "      <th></th>\n",
       "      <th></th>\n",
       "      <th></th>\n",
       "      <th></th>\n",
       "      <th></th>\n",
       "      <th></th>\n",
       "      <th></th>\n",
       "    </tr>\n",
       "  </thead>\n",
       "  <tbody>\n",
       "    <tr>\n",
       "      <th>YUCLUE</th>\n",
       "      <td>2.411246</td>\n",
       "      <td>3.583128</td>\n",
       "      <td>3.091526</td>\n",
       "      <td>3.055059</td>\n",
       "      <td>2.382742</td>\n",
       "      <td>3.400598</td>\n",
       "      <td>3.378708</td>\n",
       "      <td>3.381347</td>\n",
       "      <td>3.037393</td>\n",
       "      <td>2.408416</td>\n",
       "      <td>...</td>\n",
       "      <td>4.990822</td>\n",
       "      <td>11.292172</td>\n",
       "      <td>8.550914</td>\n",
       "      <td>3.577783</td>\n",
       "      <td>2.266126</td>\n",
       "      <td>100.0</td>\n",
       "      <td>NDB</td>\n",
       "      <td>NaN</td>\n",
       "      <td>2</td>\n",
       "      <td>BS-seq</td>\n",
       "    </tr>\n",
       "    <tr>\n",
       "      <th>YUMARS</th>\n",
       "      <td>2.435903</td>\n",
       "      <td>3.746750</td>\n",
       "      <td>3.111098</td>\n",
       "      <td>3.093575</td>\n",
       "      <td>2.466309</td>\n",
       "      <td>3.804729</td>\n",
       "      <td>3.454543</td>\n",
       "      <td>3.380362</td>\n",
       "      <td>3.539103</td>\n",
       "      <td>2.470039</td>\n",
       "      <td>...</td>\n",
       "      <td>5.764080</td>\n",
       "      <td>10.798094</td>\n",
       "      <td>8.220519</td>\n",
       "      <td>3.206033</td>\n",
       "      <td>1.671082</td>\n",
       "      <td>100.0</td>\n",
       "      <td>DCB</td>\n",
       "      <td>NaN</td>\n",
       "      <td>2</td>\n",
       "      <td>BS-seq</td>\n",
       "    </tr>\n",
       "    <tr>\n",
       "      <th>YUMICRO</th>\n",
       "      <td>3.031496</td>\n",
       "      <td>4.821289</td>\n",
       "      <td>4.207885</td>\n",
       "      <td>3.370307</td>\n",
       "      <td>3.180187</td>\n",
       "      <td>4.429851</td>\n",
       "      <td>4.439835</td>\n",
       "      <td>2.904752</td>\n",
       "      <td>2.612735</td>\n",
       "      <td>3.012040</td>\n",
       "      <td>...</td>\n",
       "      <td>3.979050</td>\n",
       "      <td>7.614049</td>\n",
       "      <td>4.999903</td>\n",
       "      <td>2.789268</td>\n",
       "      <td>8.320364</td>\n",
       "      <td>100.0</td>\n",
       "      <td>NDB</td>\n",
       "      <td>NaN</td>\n",
       "      <td>2</td>\n",
       "      <td>BS-seq</td>\n",
       "    </tr>\n",
       "    <tr>\n",
       "      <th>YUMOTE</th>\n",
       "      <td>2.589696</td>\n",
       "      <td>4.358607</td>\n",
       "      <td>3.774227</td>\n",
       "      <td>3.291109</td>\n",
       "      <td>2.786193</td>\n",
       "      <td>3.985276</td>\n",
       "      <td>4.028784</td>\n",
       "      <td>2.813097</td>\n",
       "      <td>2.495462</td>\n",
       "      <td>2.763428</td>\n",
       "      <td>...</td>\n",
       "      <td>4.540403</td>\n",
       "      <td>9.703585</td>\n",
       "      <td>7.467545</td>\n",
       "      <td>2.889377</td>\n",
       "      <td>4.738595</td>\n",
       "      <td>100.0</td>\n",
       "      <td>NDB</td>\n",
       "      <td>NaN</td>\n",
       "      <td>2</td>\n",
       "      <td>BS-seq</td>\n",
       "    </tr>\n",
       "    <tr>\n",
       "      <th>YUPRAF</th>\n",
       "      <td>2.606783</td>\n",
       "      <td>4.298580</td>\n",
       "      <td>4.015729</td>\n",
       "      <td>3.401613</td>\n",
       "      <td>2.622740</td>\n",
       "      <td>4.186778</td>\n",
       "      <td>4.188389</td>\n",
       "      <td>3.825584</td>\n",
       "      <td>3.026468</td>\n",
       "      <td>2.516540</td>\n",
       "      <td>...</td>\n",
       "      <td>6.831393</td>\n",
       "      <td>7.868481</td>\n",
       "      <td>5.955377</td>\n",
       "      <td>3.738415</td>\n",
       "      <td>2.199436</td>\n",
       "      <td>100.0</td>\n",
       "      <td>DCB</td>\n",
       "      <td>1.0</td>\n",
       "      <td>2</td>\n",
       "      <td>BS-seq</td>\n",
       "    </tr>\n",
       "  </tbody>\n",
       "</table>\n",
       "<p>5 rows × 28 columns</p>\n",
       "</div>"
      ],
      "text/plain": [
       "         Naive CD4 T   CD4 TEM   CD4 TCM     Tregs  Naive CD8   CD8 TEM  \\\n",
       "Mixture                                                                   \n",
       "YUCLUE      2.411246  3.583128  3.091526  3.055059   2.382742  3.400598   \n",
       "YUMARS      2.435903  3.746750  3.111098  3.093575   2.466309  3.804729   \n",
       "YUMICRO     3.031496  4.821289  4.207885  3.370307   3.180187  4.429851   \n",
       "YUMOTE      2.589696  4.358607  3.774227  3.291109   2.786193  3.985276   \n",
       "YUPRAF      2.606783  4.298580  4.015729  3.401613   2.622740  4.186778   \n",
       "\n",
       "          CD8 TCM  CD8 TEMRA        NK   Naive B  ...  Eosinophil  \\\n",
       "Mixture                                           ...               \n",
       "YUCLUE   3.378708   3.381347  3.037393  2.408416  ...    4.990822   \n",
       "YUMARS   3.454543   3.380362  3.539103  2.470039  ...    5.764080   \n",
       "YUMICRO  4.439835   2.904752  2.612735  3.012040  ...    3.979050   \n",
       "YUMOTE   4.028784   2.813097  2.495462  2.763428  ...    4.540403   \n",
       "YUPRAF   4.188389   3.825584  3.026468  2.516540  ...    6.831393   \n",
       "\n",
       "         Megakaryocyte  Erythrocyte    CD8TIL  MelTumor  Total  Response  \\\n",
       "Mixture                                                                    \n",
       "YUCLUE       11.292172     8.550914  3.577783  2.266126  100.0       NDB   \n",
       "YUMARS       10.798094     8.220519  3.206033  1.671082  100.0       DCB   \n",
       "YUMICRO       7.614049     4.999903  2.789268  8.320364  100.0       NDB   \n",
       "YUMOTE        9.703585     7.467545  2.889377  4.738595  100.0       NDB   \n",
       "YUPRAF        7.868481     5.955377  3.738415  2.199436  100.0       DCB   \n",
       "\n",
       "         Toxicity  Batch  Sequencing Technology  \n",
       "Mixture                                          \n",
       "YUCLUE        NaN      2                 BS-seq  \n",
       "YUMARS        NaN      2                 BS-seq  \n",
       "YUMICRO       NaN      2                 BS-seq  \n",
       "YUMOTE        NaN      2                 BS-seq  \n",
       "YUPRAF        1.0      2                 BS-seq  \n",
       "\n",
       "[5 rows x 28 columns]"
      ]
     },
     "execution_count": 1,
     "metadata": {},
     "output_type": "execute_result"
    }
   ],
   "source": [
    "import pandas as pd\n",
    "import seaborn as sns\n",
    "from statannot import add_stat_annotation\n",
    "import matplotlib.pyplot as plt\n",
    "\n",
    "infile='/Users/irffanalahi/Research/from_irf2_account/for_052622/for_052622/Deconresult_gt/all_melanoma_cfDNA_v2_EM_only_10ng_BStot.xlsx'\n",
    "outfile=infile+\"_zscore\"\n",
    "celltype='Mono'\n",
    "\n",
    "indf=pd.read_excel(open(infile, 'rb'),sheet_name='Extended SM',index_col='Mixture')\n",
    "indf.head()"
   ]
  },
  {
   "cell_type": "code",
   "execution_count": 2,
   "metadata": {},
   "outputs": [],
   "source": [
    "columnsfornormalization=['Naive CD4 T', 'Naive CD8', 'Naive B', 'NK', 'Mono','Mac (M0)', 'Mac (M1)', 'Mac (M2)', 'iDC', 'mDC', 'PMN', 'CD8 TCM','CD8 TEM', 'Eosinophil', 'Tregs', 'CD4 TEM', 'CD8 TEMRA','Megakaryocyte', 'CD4 TCM', 'Erythrocyte', 'Memory B', 'CD8TIL','CD4','CD8','Bcell','MelTumor']"
   ]
  },
  {
   "cell_type": "code",
   "execution_count": 3,
   "metadata": {},
   "outputs": [
    {
     "name": "stdout",
     "output_type": "stream",
     "text": [
      "DCB v.s. NDB: Mann-Whitney-Wilcoxon test two-sided with Bonferroni correction, P_val=3.019e-02 U_stat=8.500e+01\n"
     ]
    },
    {
     "data": {
      "image/png": "[encoded data removed]",
      "text/plain": [
       "<Figure size 432x288 with 1 Axes>"
      ]
     },
     "metadata": {
      "needs_background": "light"
     },
     "output_type": "display_data"
    },
    {
     "name": "stdout",
     "output_type": "stream",
     "text": [
      "NDB v.s. DCB: Mann-Whitney-Wilcoxon test two-sided with Bonferroni correction, P_val=4.034e-01 U_stat=8.000e+00\n"
     ]
    },
    {
     "data": {
      "image/png": "[encoded data removed]",
      "text/plain": [
       "<Figure size 432x288 with 1 Axes>"
      ]
     },
     "metadata": {
      "needs_background": "light"
     },
     "output_type": "display_data"
    }
   ],
   "source": [
    "sequencing_technology=list(set(indf['Sequencing Technology'].tolist()))\n",
    "sequencing_technology\n",
    "zscore_dflist=[]\n",
    "for st in sequencing_technology:\n",
    "    zscoredDF=indf[indf['Sequencing Technology']==st].copy()\n",
    "    for col in columnsfornormalization:\n",
    "        if col in indf.columns.tolist():\n",
    "            zscoredDF[col] = (zscoredDF[col] - zscoredDF[col].mean())/zscoredDF[col].std(ddof=0)\n",
    "    \n",
    "    zscore_dflist.append(zscoredDF)\n",
    "    \n",
    "\n",
    "    plt.figure()\n",
    "    y='CD8TIL'\n",
    "    x='Response'\n",
    "    order=['DCB','NDB']\n",
    "    currentdf=zscoredDF\n",
    "    ax=sns.boxplot(x=x, y=y, data=currentdf,order=order,color='white')\n",
    "    ax=sns.stripplot(x=x, y=y, data=currentdf,order=order,color='black')\n",
    "    ax.set_ylabel(y+\" (z-score)\")\n",
    "    \n",
    "    plt.title(st, pad=40)\n",
    "    \n",
    "    add_stat_annotation(ax,x=x, y=y, data=currentdf,box_pairs=[('DCB','NDB')],test='Mann-Whitney', text_format='full', loc='outside')\n",
    "    plt.savefig(outfile +'_'+st+ '_zscore_'+x+'_'+y+'.pdf', bbox_inches='tight')\n",
    "    #plt.close()\n",
    "    plt.show()"
   ]
  },
  {
   "cell_type": "code",
   "execution_count": 4,
   "metadata": {},
   "outputs": [],
   "source": [
    "zscore_dflistDF=pd.concat(zscore_dflist)\n",
    "\n",
    "zscore_dflistDF.to_csv(outfile+\".txt\",sep='\\t')"
   ]
  },
  {
   "cell_type": "code",
   "execution_count": 5,
   "metadata": {},
   "outputs": [
    {
     "name": "stdout",
     "output_type": "stream",
     "text": [
      "DCB v.s. NDB: Mann-Whitney-Wilcoxon test two-sided with Bonferroni correction, P_val=2.491e-02 U_stat=1.760e+02\n"
     ]
    },
    {
     "data": {
      "image/png": "[encoded data removed]",
      "text/plain": [
       "<Figure size 432x288 with 1 Axes>"
      ]
     },
     "metadata": {
      "needs_background": "light"
     },
     "output_type": "display_data"
    }
   ],
   "source": [
    "plt.figure()\n",
    "y='CD8TIL'\n",
    "x='Response'\n",
    "order=['DCB','NDB']\n",
    "currentdf=zscore_dflistDF\n",
    "ax=sns.boxplot(x=x, y=y, data=currentdf,order=order,color='white')\n",
    "ax=sns.stripplot(x=x, y=y, data=currentdf,order=order,color='black')\n",
    "ax.set_ylabel(y+\" (z-score)\")\n",
    "\n",
    "plt.title('all batches', pad=40)\n",
    "\n",
    "add_stat_annotation(ax,x=x, y=y, data=currentdf,box_pairs=[('DCB','NDB')],test='Mann-Whitney', text_format='full', loc='outside')\n",
    "plt.savefig(outfile +'_ALL_' '_zscore_'+x+'_'+y+'.pdf', bbox_inches='tight')\n",
    "#plt.close()\n",
    "plt.show()"
   ]
  }
 ],
 "metadata": {
  "kernelspec": {
   "display_name": "Python 3",
   "language": "python",
   "name": "python3"
  },
  "language_info": {
   "codemirror_mode": {
    "name": "ipython",
    "version": 3
   },
   "file_extension": ".py",
   "mimetype": "text/x-python",
   "name": "python",
   "nbconvert_exporter": "python",
   "pygments_lexer": "ipython3",
   "version": "3.6.7"
  }
 },
 "nbformat": 4,
 "nbformat_minor": 2
}
