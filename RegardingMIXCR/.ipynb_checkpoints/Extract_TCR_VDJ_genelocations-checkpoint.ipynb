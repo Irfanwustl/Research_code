{
 "cells": [
  {
   "cell_type": "code",
   "execution_count": 1,
   "metadata": {},
   "outputs": [
    {
     "data": {
      "text/html": [
       "<div>\n",
       "<style scoped>\n",
       "    .dataframe tbody tr th:only-of-type {\n",
       "        vertical-align: middle;\n",
       "    }\n",
       "\n",
       "    .dataframe tbody tr th {\n",
       "        vertical-align: top;\n",
       "    }\n",
       "\n",
       "    .dataframe thead th {\n",
       "        text-align: right;\n",
       "    }\n",
       "</style>\n",
       "<table border=\"1\" class=\"dataframe\">\n",
       "  <thead>\n",
       "    <tr style=\"text-align: right;\">\n",
       "      <th></th>\n",
       "      <th>HGNC ID</th>\n",
       "      <th>Approved symbol</th>\n",
       "      <th>Approved name</th>\n",
       "      <th>Status</th>\n",
       "      <th>Locus type</th>\n",
       "      <th>Previous symbols</th>\n",
       "      <th>Alias symbols</th>\n",
       "      <th>Chromosome</th>\n",
       "      <th>NCBI Gene ID</th>\n",
       "      <th>Ensembl gene ID</th>\n",
       "      <th>Vega gene ID</th>\n",
       "      <th>Group ID</th>\n",
       "      <th>Group name</th>\n",
       "    </tr>\n",
       "  </thead>\n",
       "  <tbody>\n",
       "    <tr>\n",
       "      <th>0</th>\n",
       "      <td>HGNC:12027</td>\n",
       "      <td>TRA</td>\n",
       "      <td>T cell receptor alpha locus</td>\n",
       "      <td>Approved</td>\n",
       "      <td>gene with protein product</td>\n",
       "      <td>TCRA, TRA@</td>\n",
       "      <td>NaN</td>\n",
       "      <td>14q11.2</td>\n",
       "      <td>6955</td>\n",
       "      <td>NaN</td>\n",
       "      <td>NaN</td>\n",
       "      <td>371</td>\n",
       "      <td>T cell receptor alpha locus at 14q11.2</td>\n",
       "    </tr>\n",
       "    <tr>\n",
       "      <th>1</th>\n",
       "      <td>HGNC:12146</td>\n",
       "      <td>TRAV8-1</td>\n",
       "      <td>T cell receptor alpha variable 8-1</td>\n",
       "      <td>Approved</td>\n",
       "      <td>T cell receptor gene</td>\n",
       "      <td>NaN</td>\n",
       "      <td>NaN</td>\n",
       "      <td>14q11.2</td>\n",
       "      <td>28685</td>\n",
       "      <td>ENSG00000211782</td>\n",
       "      <td>OTTHUMG00000168986</td>\n",
       "      <td>371</td>\n",
       "      <td>T cell receptor alpha locus at 14q11.2</td>\n",
       "    </tr>\n",
       "    <tr>\n",
       "      <th>2</th>\n",
       "      <td>HGNC:12076</td>\n",
       "      <td>TRAJ45</td>\n",
       "      <td>T cell receptor alpha joining 45</td>\n",
       "      <td>Approved</td>\n",
       "      <td>T cell receptor gene</td>\n",
       "      <td>NaN</td>\n",
       "      <td>NaN</td>\n",
       "      <td>14q11.2</td>\n",
       "      <td>28710</td>\n",
       "      <td>ENSG00000211844</td>\n",
       "      <td>OTTHUMG00000170922</td>\n",
       "      <td>371</td>\n",
       "      <td>T cell receptor alpha locus at 14q11.2</td>\n",
       "    </tr>\n",
       "    <tr>\n",
       "      <th>3</th>\n",
       "      <td>HGNC:12077</td>\n",
       "      <td>TRAJ46</td>\n",
       "      <td>T cell receptor alpha joining 46</td>\n",
       "      <td>Approved</td>\n",
       "      <td>T cell receptor gene</td>\n",
       "      <td>NaN</td>\n",
       "      <td>NaN</td>\n",
       "      <td>14q11.2</td>\n",
       "      <td>28709</td>\n",
       "      <td>ENSG00000211843</td>\n",
       "      <td>OTTHUMG00000170921</td>\n",
       "      <td>371</td>\n",
       "      <td>T cell receptor alpha locus at 14q11.2</td>\n",
       "    </tr>\n",
       "    <tr>\n",
       "      <th>4</th>\n",
       "      <td>HGNC:12078</td>\n",
       "      <td>TRAJ47</td>\n",
       "      <td>T cell receptor alpha joining 47</td>\n",
       "      <td>Approved</td>\n",
       "      <td>T cell receptor gene</td>\n",
       "      <td>NaN</td>\n",
       "      <td>NaN</td>\n",
       "      <td>14q11.2</td>\n",
       "      <td>28708</td>\n",
       "      <td>ENSG00000211842</td>\n",
       "      <td>OTTHUMG00000170920</td>\n",
       "      <td>371</td>\n",
       "      <td>T cell receptor alpha locus at 14q11.2</td>\n",
       "    </tr>\n",
       "  </tbody>\n",
       "</table>\n",
       "</div>"
      ],
      "text/plain": [
       "      HGNC ID Approved symbol                       Approved name    Status  \\\n",
       "0  HGNC:12027             TRA         T cell receptor alpha locus  Approved   \n",
       "1  HGNC:12146         TRAV8-1  T cell receptor alpha variable 8-1  Approved   \n",
       "2  HGNC:12076          TRAJ45    T cell receptor alpha joining 45  Approved   \n",
       "3  HGNC:12077          TRAJ46    T cell receptor alpha joining 46  Approved   \n",
       "4  HGNC:12078          TRAJ47    T cell receptor alpha joining 47  Approved   \n",
       "\n",
       "                  Locus type Previous symbols Alias symbols Chromosome  \\\n",
       "0  gene with protein product       TCRA, TRA@           NaN    14q11.2   \n",
       "1       T cell receptor gene              NaN           NaN    14q11.2   \n",
       "2       T cell receptor gene              NaN           NaN    14q11.2   \n",
       "3       T cell receptor gene              NaN           NaN    14q11.2   \n",
       "4       T cell receptor gene              NaN           NaN    14q11.2   \n",
       "\n",
       "   NCBI Gene ID  Ensembl gene ID        Vega gene ID  Group ID  \\\n",
       "0          6955              NaN                 NaN       371   \n",
       "1         28685  ENSG00000211782  OTTHUMG00000168986       371   \n",
       "2         28710  ENSG00000211844  OTTHUMG00000170922       371   \n",
       "3         28709  ENSG00000211843  OTTHUMG00000170921       371   \n",
       "4         28708  ENSG00000211842  OTTHUMG00000170920       371   \n",
       "\n",
       "                               Group name  \n",
       "0  T cell receptor alpha locus at 14q11.2  \n",
       "1  T cell receptor alpha locus at 14q11.2  \n",
       "2  T cell receptor alpha locus at 14q11.2  \n",
       "3  T cell receptor alpha locus at 14q11.2  \n",
       "4  T cell receptor alpha locus at 14q11.2  "
      ]
     },
     "execution_count": 1,
     "metadata": {},
     "output_type": "execute_result"
    }
   ],
   "source": [
    "import pandas as pd\n",
    "\n",
    "genelist='/Users/irffanalahi/Research/Research_update/GENE/TCR_VDJ/HGNC_IDApproved_symbolApproved_nameStatusLocus.txt'\n",
    "\n",
    "UCSC_genetrack='/Users/irffanalahi/Research/Research_update/GENE/TCR_VDJ/All_Genecode_V40_gene.txt'\n",
    "\n",
    "\n",
    "geneDF=pd.read_csv(genelist,sep='\\t')\n",
    "\n",
    "geneDF.head()"
   ]
  },
  {
   "cell_type": "code",
   "execution_count": 2,
   "metadata": {},
   "outputs": [
    {
     "data": {
      "text/plain": [
       "(247, 13)"
      ]
     },
     "execution_count": 2,
     "metadata": {},
     "output_type": "execute_result"
    }
   ],
   "source": [
    "geneDF.shape"
   ]
  },
  {
   "cell_type": "code",
   "execution_count": 3,
   "metadata": {},
   "outputs": [
    {
     "data": {
      "text/html": [
       "<div>\n",
       "<style scoped>\n",
       "    .dataframe tbody tr th:only-of-type {\n",
       "        vertical-align: middle;\n",
       "    }\n",
       "\n",
       "    .dataframe tbody tr th {\n",
       "        vertical-align: top;\n",
       "    }\n",
       "\n",
       "    .dataframe thead th {\n",
       "        text-align: right;\n",
       "    }\n",
       "</style>\n",
       "<table border=\"1\" class=\"dataframe\">\n",
       "  <thead>\n",
       "    <tr style=\"text-align: right;\">\n",
       "      <th></th>\n",
       "      <th>#bin</th>\n",
       "      <th>name</th>\n",
       "      <th>chrom</th>\n",
       "      <th>strand</th>\n",
       "      <th>txStart</th>\n",
       "      <th>txEnd</th>\n",
       "      <th>cdsStart</th>\n",
       "      <th>cdsEnd</th>\n",
       "      <th>exonCount</th>\n",
       "      <th>exonStarts</th>\n",
       "      <th>exonEnds</th>\n",
       "      <th>score</th>\n",
       "      <th>name2</th>\n",
       "      <th>cdsStartStat</th>\n",
       "      <th>cdsEndStat</th>\n",
       "      <th>exonFrames</th>\n",
       "    </tr>\n",
       "  </thead>\n",
       "  <tbody>\n",
       "    <tr>\n",
       "      <th>0</th>\n",
       "      <td>0</td>\n",
       "      <td>ENST00000684719.1</td>\n",
       "      <td>chr1</td>\n",
       "      <td>-</td>\n",
       "      <td>67092164</td>\n",
       "      <td>67134970</td>\n",
       "      <td>67093004</td>\n",
       "      <td>67127240</td>\n",
       "      <td>8</td>\n",
       "      <td>67092164,67095234,67096251,67115351,67125751,6...</td>\n",
       "      <td>67093604,67095421,67096321,67115464,67125909,6...</td>\n",
       "      <td>0</td>\n",
       "      <td>C1orf141</td>\n",
       "      <td>cmpl</td>\n",
       "      <td>cmpl</td>\n",
       "      <td>0,2,1,2,0,0,-1,-1,</td>\n",
       "    </tr>\n",
       "    <tr>\n",
       "      <th>1</th>\n",
       "      <td>0</td>\n",
       "      <td>ENST00000371007.6</td>\n",
       "      <td>chr1</td>\n",
       "      <td>-</td>\n",
       "      <td>67092164</td>\n",
       "      <td>67231852</td>\n",
       "      <td>67093004</td>\n",
       "      <td>67127240</td>\n",
       "      <td>8</td>\n",
       "      <td>67092164,67095234,67096251,67115351,67125751,6...</td>\n",
       "      <td>67093604,67095421,67096321,67115464,67125909,6...</td>\n",
       "      <td>0</td>\n",
       "      <td>C1orf141</td>\n",
       "      <td>cmpl</td>\n",
       "      <td>cmpl</td>\n",
       "      <td>0,2,1,2,0,0,-1,-1,</td>\n",
       "    </tr>\n",
       "    <tr>\n",
       "      <th>2</th>\n",
       "      <td>0</td>\n",
       "      <td>ENST00000371006.5</td>\n",
       "      <td>chr1</td>\n",
       "      <td>-</td>\n",
       "      <td>67092175</td>\n",
       "      <td>67127261</td>\n",
       "      <td>67093004</td>\n",
       "      <td>67127240</td>\n",
       "      <td>6</td>\n",
       "      <td>67092175,67095234,67096251,67115351,67125751,6...</td>\n",
       "      <td>67093604,67095421,67096321,67115464,67125909,6...</td>\n",
       "      <td>0</td>\n",
       "      <td>C1orf141</td>\n",
       "      <td>cmpl</td>\n",
       "      <td>cmpl</td>\n",
       "      <td>0,2,1,2,0,0,</td>\n",
       "    </tr>\n",
       "    <tr>\n",
       "      <th>3</th>\n",
       "      <td>0</td>\n",
       "      <td>ENST00000475209.6</td>\n",
       "      <td>chr1</td>\n",
       "      <td>-</td>\n",
       "      <td>67092175</td>\n",
       "      <td>67127261</td>\n",
       "      <td>67093579</td>\n",
       "      <td>67127240</td>\n",
       "      <td>7</td>\n",
       "      <td>67092175,67096251,67103237,67111576,67115351,6...</td>\n",
       "      <td>67093604,67096321,67103382,67111644,67115464,6...</td>\n",
       "      <td>0</td>\n",
       "      <td>C1orf141</td>\n",
       "      <td>cmpl</td>\n",
       "      <td>cmpl</td>\n",
       "      <td>2,1,0,1,2,0,0,</td>\n",
       "    </tr>\n",
       "    <tr>\n",
       "      <th>4</th>\n",
       "      <td>0</td>\n",
       "      <td>ENST00000371004.6</td>\n",
       "      <td>chr1</td>\n",
       "      <td>-</td>\n",
       "      <td>67092394</td>\n",
       "      <td>67134970</td>\n",
       "      <td>67092394</td>\n",
       "      <td>67092394</td>\n",
       "      <td>5</td>\n",
       "      <td>67092394,67125751,67127165,67131141,67134929,</td>\n",
       "      <td>67096321,67125909,67127257,67131227,67134970,</td>\n",
       "      <td>0</td>\n",
       "      <td>C1orf141</td>\n",
       "      <td>none</td>\n",
       "      <td>none</td>\n",
       "      <td>-1,-1,-1,-1,-1,</td>\n",
       "    </tr>\n",
       "  </tbody>\n",
       "</table>\n",
       "</div>"
      ],
      "text/plain": [
       "   #bin               name chrom strand   txStart     txEnd  cdsStart  \\\n",
       "0     0  ENST00000684719.1  chr1      -  67092164  67134970  67093004   \n",
       "1     0  ENST00000371007.6  chr1      -  67092164  67231852  67093004   \n",
       "2     0  ENST00000371006.5  chr1      -  67092175  67127261  67093004   \n",
       "3     0  ENST00000475209.6  chr1      -  67092175  67127261  67093579   \n",
       "4     0  ENST00000371004.6  chr1      -  67092394  67134970  67092394   \n",
       "\n",
       "     cdsEnd  exonCount                                         exonStarts  \\\n",
       "0  67127240          8  67092164,67095234,67096251,67115351,67125751,6...   \n",
       "1  67127240          8  67092164,67095234,67096251,67115351,67125751,6...   \n",
       "2  67127240          6  67092175,67095234,67096251,67115351,67125751,6...   \n",
       "3  67127240          7  67092175,67096251,67103237,67111576,67115351,6...   \n",
       "4  67092394          5      67092394,67125751,67127165,67131141,67134929,   \n",
       "\n",
       "                                            exonEnds  score     name2  \\\n",
       "0  67093604,67095421,67096321,67115464,67125909,6...      0  C1orf141   \n",
       "1  67093604,67095421,67096321,67115464,67125909,6...      0  C1orf141   \n",
       "2  67093604,67095421,67096321,67115464,67125909,6...      0  C1orf141   \n",
       "3  67093604,67096321,67103382,67111644,67115464,6...      0  C1orf141   \n",
       "4      67096321,67125909,67127257,67131227,67134970,      0  C1orf141   \n",
       "\n",
       "  cdsStartStat cdsEndStat          exonFrames  \n",
       "0         cmpl       cmpl  0,2,1,2,0,0,-1,-1,  \n",
       "1         cmpl       cmpl  0,2,1,2,0,0,-1,-1,  \n",
       "2         cmpl       cmpl        0,2,1,2,0,0,  \n",
       "3         cmpl       cmpl      2,1,0,1,2,0,0,  \n",
       "4         none       none     -1,-1,-1,-1,-1,  "
      ]
     },
     "execution_count": 3,
     "metadata": {},
     "output_type": "execute_result"
    }
   ],
   "source": [
    "UCSC_genedf=pd.read_csv(UCSC_genetrack,sep='\\t')\n",
    "UCSC_genedf.head()"
   ]
  },
  {
   "cell_type": "code",
   "execution_count": 4,
   "metadata": {},
   "outputs": [
    {
     "data": {
      "text/plain": [
       "(245791, 16)"
      ]
     },
     "execution_count": 4,
     "metadata": {},
     "output_type": "execute_result"
    }
   ],
   "source": [
    "UCSC_genedf.shape"
   ]
  },
  {
   "cell_type": "code",
   "execution_count": 5,
   "metadata": {},
   "outputs": [
    {
     "data": {
      "text/plain": [
       "(262, 29)"
      ]
     },
     "execution_count": 5,
     "metadata": {},
     "output_type": "execute_result"
    }
   ],
   "source": [
    "merged=geneDF.merge(UCSC_genedf,left_on='Approved symbol',right_on='name2')\n",
    "merged.shape"
   ]
  },
  {
   "cell_type": "code",
   "execution_count": 6,
   "metadata": {},
   "outputs": [
    {
     "data": {
      "text/plain": [
       "196"
      ]
     },
     "execution_count": 6,
     "metadata": {},
     "output_type": "execute_result"
    }
   ],
   "source": [
    "len(set(merged['Approved symbol'].tolist()))"
   ]
  },
  {
   "cell_type": "code",
   "execution_count": 7,
   "metadata": {},
   "outputs": [],
   "source": [
    "#set(geneDF['Approved symbol'].tolist())-set(merged['Approved symbol'].tolist())"
   ]
  },
  {
   "cell_type": "code",
   "execution_count": 8,
   "metadata": {},
   "outputs": [],
   "source": [
    "#merged[merged.duplicated(subset=['Approved symbol'])]"
   ]
  },
  {
   "cell_type": "code",
   "execution_count": 9,
   "metadata": {},
   "outputs": [
    {
     "data": {
      "text/plain": [
       "{'chr14', 'chr7', 'chr7_KI270803v1_alt', 'chr9'}"
      ]
     },
     "execution_count": 9,
     "metadata": {},
     "output_type": "execute_result"
    }
   ],
   "source": [
    "set(merged['chrom'].tolist())"
   ]
  },
  {
   "cell_type": "code",
   "execution_count": 10,
   "metadata": {},
   "outputs": [],
   "source": [
    "merged=merged[merged['chrom']!='chr7_KI270803v1_alt']\n",
    "\n"
   ]
  },
  {
   "cell_type": "code",
   "execution_count": 11,
   "metadata": {},
   "outputs": [
    {
     "data": {
      "text/plain": [
       "(196, 29)"
      ]
     },
     "execution_count": 11,
     "metadata": {},
     "output_type": "execute_result"
    }
   ],
   "source": [
    "merged.shape"
   ]
  },
  {
   "cell_type": "code",
   "execution_count": 12,
   "metadata": {},
   "outputs": [],
   "source": [
    "merged['padded_txStart']=merged['txStart']-1000\n",
    "merged['padded_txEnd']=merged['txEnd']+1000"
   ]
  },
  {
   "cell_type": "code",
   "execution_count": 13,
   "metadata": {},
   "outputs": [
    {
     "data": {
      "text/html": [
       "<div>\n",
       "<style scoped>\n",
       "    .dataframe tbody tr th:only-of-type {\n",
       "        vertical-align: middle;\n",
       "    }\n",
       "\n",
       "    .dataframe tbody tr th {\n",
       "        vertical-align: top;\n",
       "    }\n",
       "\n",
       "    .dataframe thead th {\n",
       "        text-align: right;\n",
       "    }\n",
       "</style>\n",
       "<table border=\"1\" class=\"dataframe\">\n",
       "  <thead>\n",
       "    <tr style=\"text-align: right;\">\n",
       "      <th></th>\n",
       "      <th>chrom</th>\n",
       "      <th>padded_txStart</th>\n",
       "      <th>padded_txEnd</th>\n",
       "    </tr>\n",
       "  </thead>\n",
       "  <tbody>\n",
       "    <tr>\n",
       "      <th>0</th>\n",
       "      <td>chr14</td>\n",
       "      <td>21796286</td>\n",
       "      <td>21798886</td>\n",
       "    </tr>\n",
       "    <tr>\n",
       "      <th>1</th>\n",
       "      <td>chr14</td>\n",
       "      <td>22492924</td>\n",
       "      <td>22494990</td>\n",
       "    </tr>\n",
       "    <tr>\n",
       "      <th>2</th>\n",
       "      <td>chr14</td>\n",
       "      <td>22492402</td>\n",
       "      <td>22494465</td>\n",
       "    </tr>\n",
       "    <tr>\n",
       "      <th>3</th>\n",
       "      <td>chr14</td>\n",
       "      <td>22491850</td>\n",
       "      <td>22493907</td>\n",
       "    </tr>\n",
       "    <tr>\n",
       "      <th>4</th>\n",
       "      <td>chr14</td>\n",
       "      <td>22489490</td>\n",
       "      <td>22491553</td>\n",
       "    </tr>\n",
       "  </tbody>\n",
       "</table>\n",
       "</div>"
      ],
      "text/plain": [
       "   chrom  padded_txStart  padded_txEnd\n",
       "0  chr14        21796286      21798886\n",
       "1  chr14        22492924      22494990\n",
       "2  chr14        22492402      22494465\n",
       "3  chr14        22491850      22493907\n",
       "4  chr14        22489490      22491553"
      ]
     },
     "execution_count": 13,
     "metadata": {},
     "output_type": "execute_result"
    }
   ],
   "source": [
    "outdf=merged[['chrom','padded_txStart','padded_txEnd']]\n",
    "outdf.head()"
   ]
  },
  {
   "cell_type": "code",
   "execution_count": null,
   "metadata": {},
   "outputs": [],
   "source": [
    "#save both nameand unnamed versions"
   ]
  }
 ],
 "metadata": {
  "kernelspec": {
   "display_name": "Python 3",
   "language": "python",
   "name": "python3"
  },
  "language_info": {
   "codemirror_mode": {
    "name": "ipython",
    "version": 3
   },
   "file_extension": ".py",
   "mimetype": "text/x-python",
   "name": "python",
   "nbconvert_exporter": "python",
   "pygments_lexer": "ipython3",
   "version": "3.6.7"
  }
 },
 "nbformat": 4,
 "nbformat_minor": 2
}
