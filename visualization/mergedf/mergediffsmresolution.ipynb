{
 "cells": [
  {
   "cell_type": "code",
   "execution_count": 1,
   "metadata": {},
   "outputs": [],
   "source": [
    "import pandas as pd\n",
    "import os"
   ]
  },
  {
   "cell_type": "code",
   "execution_count": 2,
   "metadata": {},
   "outputs": [],
   "source": [
    "in1=\"/Users/irffanalahi/Research/weekly/for_8_13_20/roundrobinanalysis/leuko/hypo_hyper_combined/forheatmap/Heatmap_with_Neu/masterperf_CSxout_gt_merged_smgoodname.txt\"\n",
    "in2=\"/Users/irffanalahi/Research/weekly/for_8_13_20/roundrobinanalysis/leuko/hypo_hyper_combined/forheatmap/Heatmap_with_Neu/masterperf_CSxoutNeu_gtNeu_merged_smgoodname.txt\"\n",
    "outdir=\"/Users/irffanalahi/Research/weekly/for_8_13_20/roundrobinanalysis/leuko/hypo_hyper_combined/forheatmap/Heatmap_with_Neu\"\n",
    "df1=pd.read_csv(in1,sep=\"\\t\")\n",
    "df2=pd.read_csv(in2,sep=\"\\t\")\n"
   ]
  },
  {
   "cell_type": "code",
   "execution_count": 3,
   "metadata": {},
   "outputs": [],
   "source": [
    "in1baase=os.path.basename(in1)\n",
    "in2base=os.path.basename(in2)\n",
    "outname=outdir+\"/\"+in1baase+\"_\"+in2base"
   ]
  },
  {
   "cell_type": "code",
   "execution_count": 4,
   "metadata": {},
   "outputs": [],
   "source": [
    "mergeddf=pd.merge(df1,df2,on=\"Sm\",how=\"outer\")\n",
    "mergeddf.to_csv(outname,sep=\"\\t\",index=False)\n"
   ]
  }
 ],
 "metadata": {
  "kernelspec": {
   "display_name": "Python 3",
   "language": "python",
   "name": "python3"
  },
  "language_info": {
   "codemirror_mode": {
    "name": "ipython",
    "version": 3
   },
   "file_extension": ".py",
   "mimetype": "text/x-python",
   "name": "python",
   "nbconvert_exporter": "python",
   "pygments_lexer": "ipython3",
   "version": "3.6.7"
  }
 },
 "nbformat": 4,
 "nbformat_minor": 2
}
