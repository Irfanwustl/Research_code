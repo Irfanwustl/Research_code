{
 "cells": [
  {
   "cell_type": "code",
   "execution_count": 1,
   "metadata": {},
   "outputs": [],
   "source": [
    "import pandas as pd\n",
    "from scipy.stats import pearsonr\n",
    "import os\n",
    "\n",
    "\n"
   ]
  },
  {
   "cell_type": "code",
   "execution_count": 2,
   "metadata": {},
   "outputs": [
    {
     "name": "stdout",
     "output_type": "stream",
     "text": [
      "['rendata_gt3.txt', 'blueprint_rein_our_pbmc_puregt.txt', 'faltu.txt']\n"
     ]
    }
   ],
   "source": [
    "#param\n",
    "allinonefile=\"data/diffDataExpanded_SigMatrixpy_g50Onlyposition_intersected_cyberin_scaled_inverted_selectedinverted_CSxOut.txt_rendata_gt3.txt_oneline\"\n",
    "gtpath=\"dummyfolder/gtfolder\"\n",
    "allgtlist=[f for f in os.listdir(gtpath) if not f.startswith('.')] #os.listdir( gtpath )#[\"blueprint_rein_our_pbmc_puregt.txt\",\"rendata_gt3.txt\"]\n",
    "gtfilename=\"rendata_gt3.txt\"\n",
    "purgtfilename=[\"blueprint_rein_our_pbmc_puregt.txt\",\"blueprint_puregt.txt\",\"our_pbmc_puregt.txt\",\"rein_puregt.txt\"]\n",
    "masterfilename=\"data/Masterperf.txt\"\n",
    "allinonedf=pd.read_csv(allinonefile,sep=\"\\t\")\n",
    "print(allgtlist)"
   ]
  },
  {
   "cell_type": "code",
   "execution_count": 3,
   "metadata": {},
   "outputs": [],
   "source": [
    "def metric_for_mixture(df):\n",
    "    corr = pearsonr(df['ground_truth'], df['predicted'])\n",
    "    return corr[0]\n"
   ]
  },
  {
   "cell_type": "code",
   "execution_count": 4,
   "metadata": {},
   "outputs": [],
   "source": [
    "def metric_for_pure(df):\n",
    "    diff=df['ground_truth']-df['predicted']\n",
    "    \n",
    "    \n",
    "    result=1-(diff.abs()).mean()\n",
    "    return result"
   ]
  },
  {
   "cell_type": "code",
   "execution_count": 5,
   "metadata": {},
   "outputs": [],
   "source": [
    "def savetomastermat(df,gtfilename,purgtfilename,masterperf,dffilename):\n",
    "    \n",
    "    \n",
    "    if gtfilename in purgtfilename:\n",
    "        metric=metric_for_pure(df)\n",
    "    else:\n",
    "        metric=metric_for_mixture(df)\n",
    "        \n",
    "        \n",
    "    smname=os.path.basename(dffilename)\n",
    "    \n",
    "    smname,sep, tail=smname.partition('_CSxOut')\n",
    "    \n",
    "    if os.path.exists(masterperf):\n",
    "        masterperfdf=pd.read_csv(masterperf,sep=\"\\t\")\n",
    "        \n",
    "        \n",
    "        if smname in masterperfdf[\"Sm\"].tolist():\n",
    "            \n",
    "            \n",
    "            masterperfdf.loc[masterperfdf[\"Sm\"]==smname,gtfilename]=metric\n",
    "\n",
    "        \n",
    "        else:\n",
    "            \n",
    "            dic={}\n",
    "            dic[\"Sm\"]=smname\n",
    "\n",
    "            for cl in allgtlist:\n",
    "                dic[cl]=\"NA\"\n",
    "\n",
    "\n",
    "            masterperfdf=masterperfdf.append(dic,ignore_index=True)\n",
    "\n",
    "            masterperfdf.loc[masterperfdf[\"Sm\"]==smname,gtfilename]=metric\n",
    "        \n",
    "        \n",
    "    else:\n",
    "        masterperfdf=pd.DataFrame(columns=[\"Sm\"]+allgtlist)\n",
    "        dic={}\n",
    "        dic[\"Sm\"]=smname\n",
    "        \n",
    "        for cl in allgtlist:\n",
    "            dic[cl]=\"NA\"\n",
    "            \n",
    "        \n",
    "        masterperfdf=masterperfdf.append(dic,ignore_index=True)\n",
    "        \n",
    "       \n",
    "        masterperfdf.loc[masterperfdf[\"Sm\"]==smname,gtfilename]=metric\n",
    "        \n",
    "\n",
    "        \n",
    "        \n",
    "        \n",
    "      \n",
    "    masterperfdf.to_csv(masterperf,sep=\"\\t\",index=False)"
   ]
  },
  {
   "cell_type": "code",
   "execution_count": 6,
   "metadata": {},
   "outputs": [],
   "source": [
    "savetomastermat(allinonedf,gtfilename,purgtfilename,masterfilename,allinonefile)"
   ]
  }
 ],
 "metadata": {
  "kernelspec": {
   "display_name": "Python 3",
   "language": "python",
   "name": "python3"
  },
  "language_info": {
   "codemirror_mode": {
    "name": "ipython",
    "version": 3
   },
   "file_extension": ".py",
   "mimetype": "text/x-python",
   "name": "python",
   "nbconvert_exporter": "python",
   "pygments_lexer": "ipython3",
   "version": "3.6.7"
  }
 },
 "nbformat": 4,
 "nbformat_minor": 2
}
