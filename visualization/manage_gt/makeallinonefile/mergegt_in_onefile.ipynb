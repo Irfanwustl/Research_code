{
 "cells": [
  {
   "cell_type": "code",
   "execution_count": 1,
   "metadata": {},
   "outputs": [],
   "source": [
    "from scipy.stats import pearsonr\n",
    "import numpy as np\n",
    "import pandas as pd\n",
    "import seaborn as sns\n",
    "import matplotlib.pyplot as plt\n",
    "%matplotlib inline"
   ]
  },
  {
   "cell_type": "code",
   "execution_count": 2,
   "metadata": {},
   "outputs": [],
   "source": [
    "####param\n",
    "mergedfile=\"data/py_50_merged_gt3.txt\"\n",
    "outname=mergedfile+\"_onefile\"\n",
    "gt_suffix=\"real\"\n",
    "prdictedlist=[\"CD14\",\"CD19\",\"CD56\",\"CD4\",\"CD8\"] ###\n",
    "mergeddf=pd.read_csv(mergedfile,sep=\"\\t\")"
   ]
  },
  {
   "cell_type": "code",
   "execution_count": 3,
   "metadata": {},
   "outputs": [],
   "source": [
    "def genRealList(plist,suffix):\n",
    "    glist=[]\n",
    "    for cell in plist:\n",
    "        glist.append(cell+\"_\"+suffix)\n",
    "    return glist"
   ]
  },
  {
   "cell_type": "code",
   "execution_count": 4,
   "metadata": {},
   "outputs": [],
   "source": [
    "def gencolums(df,plist,glist):\n",
    "    r,c=df.shape\n",
    "    \n",
    "   \n",
    "    \n",
    "    pcolum=[]\n",
    "    gcolum=[]\n",
    "    celltype=[]\n",
    "    \n",
    "    \n",
    "    for index in range(len(plist)):\n",
    "        \n",
    "        pcolum.append(df[plist[index]].tolist())\n",
    "        gcolum.append(df[glist[index]].tolist())\n",
    "        for i in range(r):\n",
    "            celltype.append(plist[index])\n",
    "            \n",
    "        \n",
    "        \n",
    "    flatpcolum = [x for sublist in pcolum for x in sublist] \n",
    "    flatgcolum= [x for sublist in gcolum for x in sublist] \n",
    "    \n",
    "    return flatpcolum,flatgcolum,celltype\n",
    "        \n",
    "\n",
    "\n",
    "\n",
    "def generateonefile(df,plist,glist):\n",
    "    pcolum,gcolum,celltype=gencolums(df,plist,glist)\n",
    "    \n",
    "    dic={\"predicted\":pcolum,\"ground_truth\":gcolum,\"celltype\":celltype}\n",
    "    resultdf=pd.DataFrame(dic)\n",
    "    return resultdf\n",
    " \n",
    "    \n",
    "    "
   ]
  },
  {
   "cell_type": "code",
   "execution_count": 5,
   "metadata": {},
   "outputs": [],
   "source": [
    "\n",
    "groundtruthlistList=genRealList(prdictedlist,gt_suffix)\n",
    "outdf=generateonefile(mergeddf,prdictedlist,groundtruthlistList)\n",
    "outdf.to_csv(outname,sep=\"\\t\",index=False)"
   ]
  }
 ],
 "metadata": {
  "kernelspec": {
   "display_name": "Python 3",
   "language": "python",
   "name": "python3"
  },
  "language_info": {
   "codemirror_mode": {
    "name": "ipython",
    "version": 3
   },
   "file_extension": ".py",
   "mimetype": "text/x-python",
   "name": "python",
   "nbconvert_exporter": "python",
   "pygments_lexer": "ipython3",
   "version": "3.6.7"
  }
 },
 "nbformat": 4,
 "nbformat_minor": 2
}
