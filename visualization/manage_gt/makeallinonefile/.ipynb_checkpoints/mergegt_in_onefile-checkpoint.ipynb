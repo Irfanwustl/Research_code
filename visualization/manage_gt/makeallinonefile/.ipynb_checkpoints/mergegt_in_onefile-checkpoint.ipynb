{
 "cells": [
  {
   "cell_type": "code",
   "execution_count": 1,
   "metadata": {},
   "outputs": [],
   "source": [
    "from scipy.stats import pearsonr\n",
    "import numpy as np\n",
    "import pandas as pd\n",
    "import seaborn as sns\n",
    "import matplotlib.pyplot as plt\n",
    "%matplotlib inline"
   ]
  },
  {
   "cell_type": "code",
   "execution_count": 2,
   "metadata": {},
   "outputs": [],
   "source": [
    "####param\n",
    "mergedfile=\"data/renonlyleuko_g50_merged\"\n",
    "gt_suffix=\"real\"\n",
    "prdictedlist=[\"CD14\",\"CD19\",\"CD56\",\"CD4\",\"CD8\"]\n",
    "mergeddf=pd.read_csv(mergedfile,sep=\"\\t\")"
   ]
  },
  {
   "cell_type": "code",
   "execution_count": 3,
   "metadata": {},
   "outputs": [],
   "source": [
    "def genRealList(plist,suffix):\n",
    "    glist=[]\n",
    "    for cell in plist:\n",
    "        glist.append(cell+\"_\"+suffix)\n",
    "    return glist"
   ]
  },
  {
   "cell_type": "code",
   "execution_count": 4,
   "metadata": {},
   "outputs": [],
   "source": [
    "def gencelltypecolum(df,plist,glist):\n",
    "    r,c=df.shape\n",
    "    \n",
    "    celltype=[]\n",
    "    pcolum=[]\n",
    "    for cell in plist:\n",
    "        \n",
    "        pcolum.append(df[cell].tolist())\n",
    "        for i in range(r):\n",
    "            celltype.append(cell)\n",
    "            \n",
    "    return pcolum,celltype\n",
    "        \n",
    "\n",
    "\n",
    "\n",
    "def generateonefile(df,plist,glist):\n",
    "    pcolum,celltype=gencelltypecolum(df,plist)\n",
    "    print(pcolum)\n",
    "    print(celltype)\n",
    "    \n",
    "    "
   ]
  },
  {
   "cell_type": "code",
   "execution_count": 5,
   "metadata": {},
   "outputs": [
    {
     "name": "stdout",
     "output_type": "stream",
     "text": [
      "[[0.947378311086565, 0.9499209836556421, 0.975775991891178, 0.9933731180542651, 0.960977581676106, 0.9608113299318041, 0.296074446191497, 0.22462740674913, 0.28722658967291803, 0.22579197174138896, 0.40941321845357, 0.23015674646116, 0.515061799091133, 0.6701080626155022, 0.686758940255752, 0.6030374991724371, 0.773832578269416, 0.5950931505991021], [0.0, 0.0, 0.0, 0.0, 0.0, 0.0, 0.0564951847453921, 0.19643137608175698, 0.0681767655171425, 0.16752859777351198, 0.11571868845530901, 0.12562750044157903, 0.0156279714064021, 0.0304731380784224, 0.0, 0.0802118003714519, 0.0373084033053233, 0.0630487459586709], [0.0262955753886319, 0.028991152306647002, 0.0, 0.0, 0.0187124480697497, 0.0167055293477891, 0.24181343201795, 0.227565936669524, 0.0758846904511556, 0.08165487704171699, 0.0166500768101462, 0.170477754111592, 0.20562986875829897, 0.121281910598822, 0.0383851977162438, 0.0633939174460391, 0.0215099650491944, 0.103872868558512], [0.00504281934282856, 0.00843120051942302, 0.0, 0.00662688194573465, 0.0203099702541443, 0.0224831407204075, 0.23169392794182897, 0.333257422796302, 0.34085217786126504, 0.332826277207546, 0.333916256832596, 0.365689848915086, 0.153503105203138, 0.132439746741852, 0.131136956125801, 0.134494301488009, 0.11455273393668498, 0.170055524117543], [0.0212832941819749, 0.0126566635182882, 0.0242240081088217, 0.0, 0.0, 0.0, 0.173923009103331, 0.0181178577032876, 0.22785977649751898, 0.19219827623583605, 0.124301759448379, 0.10804815007058301, 0.110177255541028, 0.0456971419654018, 0.143718905902204, 0.118862481522063, 0.052796319439382004, 0.0679297107661723]]\n",
      "['CD14', 'CD14', 'CD14', 'CD14', 'CD14', 'CD14', 'CD14', 'CD14', 'CD14', 'CD14', 'CD14', 'CD14', 'CD14', 'CD14', 'CD14', 'CD14', 'CD14', 'CD14', 'CD19', 'CD19', 'CD19', 'CD19', 'CD19', 'CD19', 'CD19', 'CD19', 'CD19', 'CD19', 'CD19', 'CD19', 'CD19', 'CD19', 'CD19', 'CD19', 'CD19', 'CD19', 'CD56', 'CD56', 'CD56', 'CD56', 'CD56', 'CD56', 'CD56', 'CD56', 'CD56', 'CD56', 'CD56', 'CD56', 'CD56', 'CD56', 'CD56', 'CD56', 'CD56', 'CD56', 'CD4', 'CD4', 'CD4', 'CD4', 'CD4', 'CD4', 'CD4', 'CD4', 'CD4', 'CD4', 'CD4', 'CD4', 'CD4', 'CD4', 'CD4', 'CD4', 'CD4', 'CD4', 'CD8', 'CD8', 'CD8', 'CD8', 'CD8', 'CD8', 'CD8', 'CD8', 'CD8', 'CD8', 'CD8', 'CD8', 'CD8', 'CD8', 'CD8', 'CD8', 'CD8', 'CD8']\n"
     ]
    }
   ],
   "source": [
    "\n",
    "groundtruthlistList=genRealList(prdictedlist,gt_suffix)\n",
    "generateonefile(mergeddf,prdictedlist,groundtruthlistList)"
   ]
  }
 ],
 "metadata": {
  "kernelspec": {
   "display_name": "Python 3",
   "language": "python",
   "name": "python3"
  },
  "language_info": {
   "codemirror_mode": {
    "name": "ipython",
    "version": 3
   },
   "file_extension": ".py",
   "mimetype": "text/x-python",
   "name": "python",
   "nbconvert_exporter": "python",
   "pygments_lexer": "ipython3",
   "version": "3.6.7"
  }
 },
 "nbformat": 4,
 "nbformat_minor": 2
}
