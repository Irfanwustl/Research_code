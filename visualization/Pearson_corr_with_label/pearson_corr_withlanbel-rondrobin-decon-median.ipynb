{
 "cells": [
  {
   "cell_type": "code",
   "execution_count": 1,
   "metadata": {},
   "outputs": [],
   "source": [
    "from scipy.stats import pearsonr\n",
    "import numpy as np\n",
    "import pandas as pd\n",
    "import seaborn as sns\n",
    "import matplotlib.pyplot as plt\n",
    "from matplotlib.offsetbox import AnchoredText\n",
    "%matplotlib inline\n"
   ]
  },
  {
   "cell_type": "code",
   "execution_count": 2,
   "metadata": {},
   "outputs": [],
   "source": [
    "filename=\"/Users/irffanalahi/Research/weekly/for_12_23_20/traditional_decon_result/downstream/tileup/data_tileup/scatter_plot/plot/newlanepbl.txt\"\n",
    "\n",
    "df=pd.read_csv(filename,sep=\"\\t\")\n",
    "\n",
    "x=  'Blueprint_SM'\n",
    "y= 'New_lane (PBL)'\n",
    "celltype=\"celltype\" #\"celltype\"\n",
    "\n",
    "xyfixed_lim=True\n",
    "\n",
    "only_scatter=True"
   ]
  },
  {
   "cell_type": "code",
   "execution_count": 3,
   "metadata": {},
   "outputs": [
    {
     "data": {
      "text/html": [
       "<div>\n",
       "<style scoped>\n",
       "    .dataframe tbody tr th:only-of-type {\n",
       "        vertical-align: middle;\n",
       "    }\n",
       "\n",
       "    .dataframe tbody tr th {\n",
       "        vertical-align: top;\n",
       "    }\n",
       "\n",
       "    .dataframe thead th {\n",
       "        text-align: right;\n",
       "    }\n",
       "</style>\n",
       "<table border=\"1\" class=\"dataframe\">\n",
       "  <thead>\n",
       "    <tr style=\"text-align: right;\">\n",
       "      <th></th>\n",
       "      <th>New_lane (PBL)</th>\n",
       "      <th>Blueprint_SM</th>\n",
       "    </tr>\n",
       "  </thead>\n",
       "  <tbody>\n",
       "    <tr>\n",
       "      <th>New_lane (PBL)</th>\n",
       "      <td>1.000000</td>\n",
       "      <td>0.959539</td>\n",
       "    </tr>\n",
       "    <tr>\n",
       "      <th>Blueprint_SM</th>\n",
       "      <td>0.959539</td>\n",
       "      <td>1.000000</td>\n",
       "    </tr>\n",
       "  </tbody>\n",
       "</table>\n",
       "</div>"
      ],
      "text/plain": [
       "                New_lane (PBL)  Blueprint_SM\n",
       "New_lane (PBL)        1.000000      0.959539\n",
       "Blueprint_SM          0.959539      1.000000"
      ]
     },
     "execution_count": 3,
     "metadata": {},
     "output_type": "execute_result"
    }
   ],
   "source": [
    "df.corr()"
   ]
  },
  {
   "cell_type": "code",
   "execution_count": 4,
   "metadata": {},
   "outputs": [
    {
     "name": "stdout",
     "output_type": "stream",
     "text": [
      "(0.959539103582207, 0.18171391469800363)\n"
     ]
    }
   ],
   "source": [
    "corr = pearsonr(df[x], df[y])\n",
    "\n",
    "#corr = [np.round(c, 5) for c in corr]\n",
    "print(corr)\n",
    "text='r = %s \\nP = %s' % (format(corr[0], '.3f'), format(corr[1], \".3e\") )"
   ]
  },
  {
   "cell_type": "code",
   "execution_count": 5,
   "metadata": {},
   "outputs": [
    {
     "data": {
      "image/png": "[encoded data removed]",
      "text/plain": [
       "<Figure size 432x288 with 1 Axes>"
      ]
     },
     "metadata": {},
     "output_type": "display_data"
    }
   ],
   "source": [
    "#sns.set(context='notebook', style='white', palette='deep', font='sans-serif', font_scale=1.5, color_codes=False, rc=None)\n",
    "sns.set(style=\"ticks\",font_scale=1.5)\n",
    "if xyfixed_lim==True:\n",
    "    plt.xlim([0, 100])\n",
    "    plt.ylim([0, 100])\n",
    "    \n",
    "    linex = np.linspace(0,100 , 1000)\n",
    "    liney=linex\n",
    "\n",
    "g=sns.scatterplot(df[x], df[y],hue=df[celltype],edgecolor='none',s=80)\n",
    "g.legend(loc='center left', bbox_to_anchor=(1.02, 0.5), ncol=1)\n",
    "\n",
    "if only_scatter==False:\n",
    "    ax=sns.regplot(df[x], df[y],scatter=False)\n",
    "\n",
    "\n",
    "\n",
    "\n",
    "    anc = AnchoredText(text, loc=\"upper left\", frameon=False,prop=dict(fontstyle=\"italic\"))\n",
    "    ax.add_artist(anc)\n",
    "\n",
    "\n",
    "plt.plot(linex, liney, '--k')   \n",
    "    \n",
    "#default 12\n",
    "plt.rcParams[\"axes.labelsize\"] = 14\n",
    "plt.rcParams['font.family']='sans-serif'\n",
    "plt.rcParams['font.sans-serif'] = ['Arial']\n",
    "\n",
    "\n",
    "\n",
    "\n",
    "#hfont = {'fontname':'Helvetica'}\n",
    "#plt.title('title',**hfont)\n",
    "\n",
    "savename=filename+\"_\"+x+\"_\"+y+\".pdf\"\n",
    "plt.savefig(savename,dpi=300,bbox_inches=\"tight\")\n",
    "plt.show()\n",
    "#sns.jointplot(data=df, x=x, y=y, kind='reg', hue=df[celltype])"
   ]
  }
 ],
 "metadata": {
  "kernelspec": {
   "display_name": "Python 3",
   "language": "python",
   "name": "python3"
  },
  "language_info": {
   "codemirror_mode": {
    "name": "ipython",
    "version": 3
   },
   "file_extension": ".py",
   "mimetype": "text/x-python",
   "name": "python",
   "nbconvert_exporter": "python",
   "pygments_lexer": "ipython3",
   "version": "3.6.7"
  }
 },
 "nbformat": 4,
 "nbformat_minor": 2
}
