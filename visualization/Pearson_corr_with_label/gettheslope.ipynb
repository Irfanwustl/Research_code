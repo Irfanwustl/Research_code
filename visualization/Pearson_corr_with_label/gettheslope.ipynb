{
 "cells": [
  {
   "cell_type": "code",
   "execution_count": 1,
   "metadata": {},
   "outputs": [],
   "source": [
    "import pandas as pd\n",
    "from scipy.stats import linregress"
   ]
  },
  {
   "cell_type": "code",
   "execution_count": 2,
   "metadata": {},
   "outputs": [],
   "source": [
    "infile=\"/Users/irffanalahi/Research/weekly/for_11_18_20/adjust_ref/classification/CpGCount/sm100/notadjusted/scalingwiththese/corr/plot/bothlane/bothlanerecord_pure_mincpg1_corrected_scaleapplied_CSxOut.txt_bulk_pbmc_gt_scaled_withneu_no82.txt_onefile.txt\"\n",
    "X=\"ground_truth\"\n",
    "Y=\"predicted\"\n",
    "infiledf=pd.read_csv(infile,sep=\"\\t\")"
   ]
  },
  {
   "cell_type": "code",
   "execution_count": 3,
   "metadata": {},
   "outputs": [
    {
     "name": "stdout",
     "output_type": "stream",
     "text": [
      "0.7368617905862923 0.021670495246047874\n"
     ]
    }
   ],
   "source": [
    "slope, intercept, r_value, p_value, std_err = linregress(infiledf[X],infiledf[Y])\n",
    "print(slope,intercept)"
   ]
  }
 ],
 "metadata": {
  "kernelspec": {
   "display_name": "Python 3",
   "language": "python",
   "name": "python3"
  },
  "language_info": {
   "codemirror_mode": {
    "name": "ipython",
    "version": 3
   },
   "file_extension": ".py",
   "mimetype": "text/x-python",
   "name": "python",
   "nbconvert_exporter": "python",
   "pygments_lexer": "ipython3",
   "version": "3.6.7"
  }
 },
 "nbformat": 4,
 "nbformat_minor": 2
}
