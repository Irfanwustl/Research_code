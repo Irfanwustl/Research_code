{
 "cells": [
  {
   "cell_type": "code",
   "execution_count": 1,
   "metadata": {},
   "outputs": [],
   "source": [
    "from scipy.stats import pearsonr\n",
    "import numpy as np\n",
    "import pandas as pd\n",
    "import seaborn as sns\n",
    "import matplotlib.pyplot as plt\n",
    "from matplotlib.offsetbox import AnchoredText\n",
    "%matplotlib inline\n"
   ]
  },
  {
   "cell_type": "code",
   "execution_count": 2,
   "metadata": {},
   "outputs": [],
   "source": [
    "filename=\"/Users/irffanalahi/Research/weekly/for_8_13_20/crc_plot/scatterplot/only_scatter/scale_8/blneug50_median_onefile.txt\"\n",
    "\n",
    "df=pd.read_csv(filename,sep=\"\\t\")\n",
    "\n",
    "x=  'cfDNA (Healthy)'\n",
    "y='cfDNA (CRC)'\n",
    "celltype=\"Cell Type\" #\"celltype\"\n",
    "\n",
    "xyfixed_lim=True\n",
    "\n",
    "only_scatter=True"
   ]
  },
  {
   "cell_type": "code",
   "execution_count": 3,
   "metadata": {},
   "outputs": [
    {
     "data": {
      "text/html": [
       "<div>\n",
       "<style scoped>\n",
       "    .dataframe tbody tr th:only-of-type {\n",
       "        vertical-align: middle;\n",
       "    }\n",
       "\n",
       "    .dataframe tbody tr th {\n",
       "        vertical-align: top;\n",
       "    }\n",
       "\n",
       "    .dataframe thead th {\n",
       "        text-align: right;\n",
       "    }\n",
       "</style>\n",
       "<table border=\"1\" class=\"dataframe\">\n",
       "  <thead>\n",
       "    <tr style=\"text-align: right;\">\n",
       "      <th></th>\n",
       "      <th>cfDNA (CRC)</th>\n",
       "      <th>cfDNA (Healthy)</th>\n",
       "      <th>Whole Blood (Accomando + Reinius)</th>\n",
       "      <th>PBMC (Reinius)</th>\n",
       "      <th>PBMC (Our)</th>\n",
       "    </tr>\n",
       "  </thead>\n",
       "  <tbody>\n",
       "    <tr>\n",
       "      <th>cfDNA (CRC)</th>\n",
       "      <td>1.000000</td>\n",
       "      <td>0.990512</td>\n",
       "      <td>0.874312</td>\n",
       "      <td>-0.188419</td>\n",
       "      <td>0.024676</td>\n",
       "    </tr>\n",
       "    <tr>\n",
       "      <th>cfDNA (Healthy)</th>\n",
       "      <td>0.990512</td>\n",
       "      <td>1.000000</td>\n",
       "      <td>0.924838</td>\n",
       "      <td>-0.264879</td>\n",
       "      <td>-0.103328</td>\n",
       "    </tr>\n",
       "    <tr>\n",
       "      <th>Whole Blood (Accomando + Reinius)</th>\n",
       "      <td>0.874312</td>\n",
       "      <td>0.924838</td>\n",
       "      <td>1.000000</td>\n",
       "      <td>-0.243097</td>\n",
       "      <td>-0.376044</td>\n",
       "    </tr>\n",
       "    <tr>\n",
       "      <th>PBMC (Reinius)</th>\n",
       "      <td>-0.188419</td>\n",
       "      <td>-0.264879</td>\n",
       "      <td>-0.243097</td>\n",
       "      <td>1.000000</td>\n",
       "      <td>0.649840</td>\n",
       "    </tr>\n",
       "    <tr>\n",
       "      <th>PBMC (Our)</th>\n",
       "      <td>0.024676</td>\n",
       "      <td>-0.103328</td>\n",
       "      <td>-0.376044</td>\n",
       "      <td>0.649840</td>\n",
       "      <td>1.000000</td>\n",
       "    </tr>\n",
       "  </tbody>\n",
       "</table>\n",
       "</div>"
      ],
      "text/plain": [
       "                                   cfDNA (CRC)  cfDNA (Healthy)  \\\n",
       "cfDNA (CRC)                           1.000000         0.990512   \n",
       "cfDNA (Healthy)                       0.990512         1.000000   \n",
       "Whole Blood (Accomando + Reinius)     0.874312         0.924838   \n",
       "PBMC (Reinius)                       -0.188419        -0.264879   \n",
       "PBMC (Our)                            0.024676        -0.103328   \n",
       "\n",
       "                                   Whole Blood (Accomando + Reinius)  \\\n",
       "cfDNA (CRC)                                                 0.874312   \n",
       "cfDNA (Healthy)                                             0.924838   \n",
       "Whole Blood (Accomando + Reinius)                           1.000000   \n",
       "PBMC (Reinius)                                             -0.243097   \n",
       "PBMC (Our)                                                 -0.376044   \n",
       "\n",
       "                                   PBMC (Reinius)  PBMC (Our)  \n",
       "cfDNA (CRC)                             -0.188419    0.024676  \n",
       "cfDNA (Healthy)                         -0.264879   -0.103328  \n",
       "Whole Blood (Accomando + Reinius)       -0.243097   -0.376044  \n",
       "PBMC (Reinius)                           1.000000    0.649840  \n",
       "PBMC (Our)                               0.649840    1.000000  "
      ]
     },
     "execution_count": 3,
     "metadata": {},
     "output_type": "execute_result"
    }
   ],
   "source": [
    "df.corr()"
   ]
  },
  {
   "cell_type": "code",
   "execution_count": 4,
   "metadata": {},
   "outputs": [
    {
     "name": "stdout",
     "output_type": "stream",
     "text": [
      "(0.9905121910631849, 0.00013460073838048384)\n"
     ]
    }
   ],
   "source": [
    "corr = pearsonr(df[x], df[y])\n",
    "\n",
    "#corr = [np.round(c, 5) for c in corr]\n",
    "print(corr)\n",
    "text='r = %s \\nP = %s' % (format(corr[0], '.3f'), format(corr[1], \".3e\") )"
   ]
  },
  {
   "cell_type": "code",
   "execution_count": 5,
   "metadata": {},
   "outputs": [
    {
     "data": {
      "image/png": "[encoded data removed]",
      "text/plain": [
       "<Figure size 432x288 with 1 Axes>"
      ]
     },
     "metadata": {
      "needs_background": "light"
     },
     "output_type": "display_data"
    }
   ],
   "source": [
    "\n",
    "if xyfixed_lim==True:\n",
    "    plt.xlim([0, 0.8])\n",
    "    plt.ylim([0, 0.8])\n",
    "\n",
    "g=sns.scatterplot(df[x], df[y],hue=df[celltype],edgecolor='none')\n",
    "g.legend(loc='center left', bbox_to_anchor=(1.02, 0.5), ncol=1)\n",
    "\n",
    "if only_scatter==False:\n",
    "    ax=sns.regplot(df[x], df[y],scatter=False)\n",
    "\n",
    "\n",
    "\n",
    "\n",
    "    anc = AnchoredText(text, loc=\"upper left\", frameon=False,prop=dict(fontstyle=\"italic\"))\n",
    "    ax.add_artist(anc)\n",
    "\n",
    "\n",
    "#default 12\n",
    "plt.rcParams[\"axes.labelsize\"] = 14\n",
    "plt.rcParams['font.family']='sans-serif'\n",
    "plt.rcParams['font.sans-serif'] = ['Arial']\n",
    "\n",
    "\n",
    "\n",
    "\n",
    "#hfont = {'fontname':'Helvetica'}\n",
    "#plt.title('title',**hfont)\n",
    "\n",
    "savename=filename+\"_\"+x+\"_\"+y+\".pdf\"\n",
    "plt.savefig(savename,dpi=300,bbox_inches=\"tight\")\n",
    "plt.show()\n",
    "#sns.jointplot(data=df, x=x, y=y, kind='reg', hue=df[celltype])"
   ]
  }
 ],
 "metadata": {
  "kernelspec": {
   "display_name": "Python 3",
   "language": "python",
   "name": "python3"
  },
  "language_info": {
   "codemirror_mode": {
    "name": "ipython",
    "version": 3
   },
   "file_extension": ".py",
   "mimetype": "text/x-python",
   "name": "python",
   "nbconvert_exporter": "python",
   "pygments_lexer": "ipython3",
   "version": "3.6.7"
  }
 },
 "nbformat": 4,
 "nbformat_minor": 2
}
