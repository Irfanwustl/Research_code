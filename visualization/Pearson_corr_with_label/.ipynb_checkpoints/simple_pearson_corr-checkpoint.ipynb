{
 "cells": [
  {
   "cell_type": "code",
   "execution_count": 1,
   "metadata": {},
   "outputs": [],
   "source": [
    "from scipy.stats import pearsonr\n",
    "import numpy as np\n",
    "import pandas as pd\n",
    "import seaborn as sns\n",
    "import matplotlib.pyplot as plt\n",
    "from matplotlib.offsetbox import AnchoredText\n",
    "%matplotlib inline\n"
   ]
  },
  {
   "cell_type": "code",
   "execution_count": 2,
   "metadata": {},
   "outputs": [],
   "source": [
    "filename=\"/Users/irffanalahi/Research/weekly/for_1_28_21/friday/all_mr.txt\"\n",
    "\n",
    "df=pd.read_csv(filename,sep=\"\\t\")\n",
    "\n",
    "x=  'median depth'\n",
    "y='mapped read'\n",
    "\n",
    "xyfixed_lim=False\n",
    "\n",
    "only_scatter=False"
   ]
  },
  {
   "cell_type": "code",
   "execution_count": 3,
   "metadata": {},
   "outputs": [
    {
     "data": {
      "text/html": [
       "<div>\n",
       "<style scoped>\n",
       "    .dataframe tbody tr th:only-of-type {\n",
       "        vertical-align: middle;\n",
       "    }\n",
       "\n",
       "    .dataframe tbody tr th {\n",
       "        vertical-align: top;\n",
       "    }\n",
       "\n",
       "    .dataframe thead th {\n",
       "        text-align: right;\n",
       "    }\n",
       "</style>\n",
       "<table border=\"1\" class=\"dataframe\">\n",
       "  <thead>\n",
       "    <tr style=\"text-align: right;\">\n",
       "      <th></th>\n",
       "      <th>median depth</th>\n",
       "      <th>mapped read</th>\n",
       "    </tr>\n",
       "  </thead>\n",
       "  <tbody>\n",
       "    <tr>\n",
       "      <th>0</th>\n",
       "      <td>18.5017</td>\n",
       "      <td>778421501</td>\n",
       "    </tr>\n",
       "    <tr>\n",
       "      <th>1</th>\n",
       "      <td>21.1399</td>\n",
       "      <td>976267927</td>\n",
       "    </tr>\n",
       "    <tr>\n",
       "      <th>2</th>\n",
       "      <td>27.7766</td>\n",
       "      <td>916573544</td>\n",
       "    </tr>\n",
       "    <tr>\n",
       "      <th>3</th>\n",
       "      <td>15.2152</td>\n",
       "      <td>530480799</td>\n",
       "    </tr>\n",
       "    <tr>\n",
       "      <th>4</th>\n",
       "      <td>12.0983</td>\n",
       "      <td>429679330</td>\n",
       "    </tr>\n",
       "  </tbody>\n",
       "</table>\n",
       "</div>"
      ],
      "text/plain": [
       "   median depth  mapped read\n",
       "0       18.5017    778421501\n",
       "1       21.1399    976267927\n",
       "2       27.7766    916573544\n",
       "3       15.2152    530480799\n",
       "4       12.0983    429679330"
      ]
     },
     "execution_count": 3,
     "metadata": {},
     "output_type": "execute_result"
    }
   ],
   "source": [
    "df.head()"
   ]
  },
  {
   "cell_type": "code",
   "execution_count": 4,
   "metadata": {},
   "outputs": [
    {
     "data": {
      "text/html": [
       "<div>\n",
       "<style scoped>\n",
       "    .dataframe tbody tr th:only-of-type {\n",
       "        vertical-align: middle;\n",
       "    }\n",
       "\n",
       "    .dataframe tbody tr th {\n",
       "        vertical-align: top;\n",
       "    }\n",
       "\n",
       "    .dataframe thead th {\n",
       "        text-align: right;\n",
       "    }\n",
       "</style>\n",
       "<table border=\"1\" class=\"dataframe\">\n",
       "  <thead>\n",
       "    <tr style=\"text-align: right;\">\n",
       "      <th></th>\n",
       "      <th>median depth</th>\n",
       "      <th>mapped read</th>\n",
       "    </tr>\n",
       "  </thead>\n",
       "  <tbody>\n",
       "    <tr>\n",
       "      <th>0</th>\n",
       "      <td>18.5017</td>\n",
       "      <td>778421501</td>\n",
       "    </tr>\n",
       "    <tr>\n",
       "      <th>1</th>\n",
       "      <td>21.1399</td>\n",
       "      <td>976267927</td>\n",
       "    </tr>\n",
       "    <tr>\n",
       "      <th>2</th>\n",
       "      <td>27.7766</td>\n",
       "      <td>916573544</td>\n",
       "    </tr>\n",
       "    <tr>\n",
       "      <th>3</th>\n",
       "      <td>15.2152</td>\n",
       "      <td>530480799</td>\n",
       "    </tr>\n",
       "    <tr>\n",
       "      <th>4</th>\n",
       "      <td>12.0983</td>\n",
       "      <td>429679330</td>\n",
       "    </tr>\n",
       "  </tbody>\n",
       "</table>\n",
       "</div>"
      ],
      "text/plain": [
       "   median depth  mapped read\n",
       "0       18.5017    778421501\n",
       "1       21.1399    976267927\n",
       "2       27.7766    916573544\n",
       "3       15.2152    530480799\n",
       "4       12.0983    429679330"
      ]
     },
     "execution_count": 4,
     "metadata": {},
     "output_type": "execute_result"
    }
   ],
   "source": [
    "\n",
    "df=pd.DataFrame({ x: df[x], y: df[y] })\n",
    "df.head()"
   ]
  },
  {
   "cell_type": "code",
   "execution_count": 5,
   "metadata": {},
   "outputs": [
    {
     "data": {
      "text/html": [
       "<div>\n",
       "<style scoped>\n",
       "    .dataframe tbody tr th:only-of-type {\n",
       "        vertical-align: middle;\n",
       "    }\n",
       "\n",
       "    .dataframe tbody tr th {\n",
       "        vertical-align: top;\n",
       "    }\n",
       "\n",
       "    .dataframe thead th {\n",
       "        text-align: right;\n",
       "    }\n",
       "</style>\n",
       "<table border=\"1\" class=\"dataframe\">\n",
       "  <thead>\n",
       "    <tr style=\"text-align: right;\">\n",
       "      <th></th>\n",
       "      <th>median depth</th>\n",
       "      <th>mapped read</th>\n",
       "    </tr>\n",
       "  </thead>\n",
       "  <tbody>\n",
       "    <tr>\n",
       "      <th>0</th>\n",
       "      <td>18.5017</td>\n",
       "      <td>778421501</td>\n",
       "    </tr>\n",
       "    <tr>\n",
       "      <th>1</th>\n",
       "      <td>21.1399</td>\n",
       "      <td>976267927</td>\n",
       "    </tr>\n",
       "    <tr>\n",
       "      <th>2</th>\n",
       "      <td>27.7766</td>\n",
       "      <td>916573544</td>\n",
       "    </tr>\n",
       "    <tr>\n",
       "      <th>3</th>\n",
       "      <td>15.2152</td>\n",
       "      <td>530480799</td>\n",
       "    </tr>\n",
       "    <tr>\n",
       "      <th>4</th>\n",
       "      <td>12.0983</td>\n",
       "      <td>429679330</td>\n",
       "    </tr>\n",
       "  </tbody>\n",
       "</table>\n",
       "</div>"
      ],
      "text/plain": [
       "   median depth  mapped read\n",
       "0       18.5017    778421501\n",
       "1       21.1399    976267927\n",
       "2       27.7766    916573544\n",
       "3       15.2152    530480799\n",
       "4       12.0983    429679330"
      ]
     },
     "execution_count": 5,
     "metadata": {},
     "output_type": "execute_result"
    }
   ],
   "source": [
    "df=df.dropna()\n",
    "df.head()"
   ]
  },
  {
   "cell_type": "code",
   "execution_count": 6,
   "metadata": {},
   "outputs": [
    {
     "name": "stdout",
     "output_type": "stream",
     "text": [
      "(0.837480993007935, 2.53136670559886e-16)\n"
     ]
    }
   ],
   "source": [
    "corr = pearsonr(df[x], df[y])\n",
    "\n",
    "#corr = [np.round(c, 5) for c in corr]\n",
    "print(corr)\n",
    "\n",
    "text='r = %s \\nP = %s' % (format(corr[0], '.3f'), format(corr[1], \".3e\") )\n",
    "\n",
    "if corr[1]==0:\n",
    "   text='r = %s \\nP < 0.0001' % (format(corr[0], '.3f') ) "
   ]
  },
  {
   "cell_type": "code",
   "execution_count": 7,
   "metadata": {},
   "outputs": [
    {
     "data": {
      "image/png": "[encoded data removed]",
      "text/plain": [
       "<Figure size 432x288 with 1 Axes>"
      ]
     },
     "metadata": {},
     "output_type": "display_data"
    }
   ],
   "source": [
    "sns.set(style=\"ticks\",font_scale=1.5)\n",
    "if xyfixed_lim==True:\n",
    "    plt.xlim([0, 0.8])\n",
    "    plt.ylim([0, 0.8])\n",
    "\n",
    "g=sns.scatterplot(df[x], df[y],edgecolor='none')\n",
    "#g.legend(loc='center left', bbox_to_anchor=(1.02, 0.5), ncol=1)\n",
    "\n",
    "if only_scatter==False:\n",
    "    ax=sns.regplot(df[x], df[y],scatter=False,color=\"g\")\n",
    "\n",
    "\n",
    "\n",
    "\n",
    "    anc = AnchoredText(text, loc=\"upper left\", frameon=False,prop=dict(fontstyle=\"italic\"))\n",
    "    ax.add_artist(anc)\n",
    "\n",
    "\n",
    "#default 12\n",
    "plt.rcParams[\"axes.labelsize\"] = 14\n",
    "plt.rcParams['font.family']='sans-serif'\n",
    "plt.rcParams['font.sans-serif'] = ['Arial']\n",
    "\n",
    "\n",
    "\n",
    "\n",
    "#hfont = {'fontname':'Helvetica'}\n",
    "#plt.title('title',**hfont)\n",
    "\n",
    "savename=filename+\"_\"+x+\"_\"+y+\".pdf\"\n",
    "plt.savefig(savename,dpi=300,bbox_inches=\"tight\")\n",
    "plt.show()\n",
    "#sns.jointplot(data=df, x=x, y=y, kind='reg', hue=df[celltype])"
   ]
  }
 ],
 "metadata": {
  "kernelspec": {
   "display_name": "Python 3",
   "language": "python",
   "name": "python3"
  },
  "language_info": {
   "codemirror_mode": {
    "name": "ipython",
    "version": 3
   },
   "file_extension": ".py",
   "mimetype": "text/x-python",
   "name": "python",
   "nbconvert_exporter": "python",
   "pygments_lexer": "ipython3",
   "version": "3.6.7"
  }
 },
 "nbformat": 4,
 "nbformat_minor": 2
}
