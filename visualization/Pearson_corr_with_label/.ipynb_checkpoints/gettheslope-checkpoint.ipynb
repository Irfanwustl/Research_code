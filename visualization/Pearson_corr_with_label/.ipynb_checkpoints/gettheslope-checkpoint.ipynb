{
 "cells": [
  {
   "cell_type": "code",
   "execution_count": 1,
   "metadata": {},
   "outputs": [],
   "source": [
    "import pandas as pd"
   ]
  },
  {
   "cell_type": "code",
   "execution_count": null,
   "metadata": {},
   "outputs": [],
   "source": [
    "infile=\"/Users/irffanalahi/Research/weekly/for_11_18_20/adjust_ref/classification/CpGCount/sm100/notadjusted/scalingwiththese/corr/plot/blwithneu_hypo_stat.txt_0.01_2_g100.txtWithSurrounding.txt_1cpgnc.txt_result_nocov_mincpg3_ABSreadcount_divisioned.txt_CSxOut.txt_bulk_pbmc_gt_scaled_withneu_no82.txt_onefile\"\n",
    "X=\"ground_truth\"\n",
    "Y=\"predicted\"\n"
   ]
  }
 ],
 "metadata": {
  "kernelspec": {
   "display_name": "Python 3",
   "language": "python",
   "name": "python3"
  },
  "language_info": {
   "codemirror_mode": {
    "name": "ipython",
    "version": 3
   },
   "file_extension": ".py",
   "mimetype": "text/x-python",
   "name": "python",
   "nbconvert_exporter": "python",
   "pygments_lexer": "ipython3",
   "version": "3.6.7"
  }
 },
 "nbformat": 4,
 "nbformat_minor": 2
}
