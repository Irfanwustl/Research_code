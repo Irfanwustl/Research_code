{
 "cells": [
  {
   "cell_type": "code",
   "execution_count": 1,
   "metadata": {},
   "outputs": [
    {
     "data": {
      "text/html": [
       "<div>\n",
       "<style scoped>\n",
       "    .dataframe tbody tr th:only-of-type {\n",
       "        vertical-align: middle;\n",
       "    }\n",
       "\n",
       "    .dataframe tbody tr th {\n",
       "        vertical-align: top;\n",
       "    }\n",
       "\n",
       "    .dataframe thead th {\n",
       "        text-align: right;\n",
       "    }\n",
       "</style>\n",
       "<table border=\"1\" class=\"dataframe\">\n",
       "  <thead>\n",
       "    <tr style=\"text-align: right;\">\n",
       "      <th></th>\n",
       "      <th>variable</th>\n",
       "      <th>value</th>\n",
       "    </tr>\n",
       "  </thead>\n",
       "  <tbody>\n",
       "    <tr>\n",
       "      <th>0</th>\n",
       "      <td>aS007DD51.CPG_methylation_calls.bs_call.GRCh38...</td>\n",
       "      <td>0.963</td>\n",
       "    </tr>\n",
       "    <tr>\n",
       "      <th>1</th>\n",
       "      <td>aS007DD51.CPG_methylation_calls.bs_call.GRCh38...</td>\n",
       "      <td>1.000</td>\n",
       "    </tr>\n",
       "    <tr>\n",
       "      <th>2</th>\n",
       "      <td>aS007DD51.CPG_methylation_calls.bs_call.GRCh38...</td>\n",
       "      <td>0.986</td>\n",
       "    </tr>\n",
       "    <tr>\n",
       "      <th>3</th>\n",
       "      <td>aS007DD51.CPG_methylation_calls.bs_call.GRCh38...</td>\n",
       "      <td>0.963</td>\n",
       "    </tr>\n",
       "    <tr>\n",
       "      <th>4</th>\n",
       "      <td>aS007DD51.CPG_methylation_calls.bs_call.GRCh38...</td>\n",
       "      <td>0.966</td>\n",
       "    </tr>\n",
       "  </tbody>\n",
       "</table>\n",
       "</div>"
      ],
      "text/plain": [
       "                                            variable  value\n",
       "0  aS007DD51.CPG_methylation_calls.bs_call.GRCh38...  0.963\n",
       "1  aS007DD51.CPG_methylation_calls.bs_call.GRCh38...  1.000\n",
       "2  aS007DD51.CPG_methylation_calls.bs_call.GRCh38...  0.986\n",
       "3  aS007DD51.CPG_methylation_calls.bs_call.GRCh38...  0.963\n",
       "4  aS007DD51.CPG_methylation_calls.bs_call.GRCh38...  0.966"
      ]
     },
     "execution_count": 1,
     "metadata": {},
     "output_type": "execute_result"
    }
   ],
   "source": [
    "import pandas as pd\n",
    "infilepoint5='/Users/irffanalahi/Research/Research_update/for_backgroundcalculation/try1/distribution_of_Hyper/allsmdistribution/sm.5_stacked.txt'\n",
    "infilepoint7='/Users/irffanalahi/Research/Research_update/for_backgroundcalculation/try1/distribution_of_Hyper/allsmdistribution/sm.7_stacked.txt'\n",
    "infilepoint9='/Users/irffanalahi/Research/Research_update/for_backgroundcalculation/try1/distribution_of_Hyper/allsmdistribution/sm.9_stacked.txt'\n",
    "\n",
    "\n",
    "infilepoint5df=pd.read_csv(infilepoint5,sep='\\t',index_col=0)\n",
    "\n",
    "infilepoint5df.head()\n",
    "\n",
    "\n"
   ]
  },
  {
   "cell_type": "code",
   "execution_count": 2,
   "metadata": {},
   "outputs": [],
   "source": [
    "infilepoint7df=pd.read_csv(infilepoint7,sep='\\t',index_col=0)\n",
    "infilepoint9df=pd.read_csv(infilepoint9,sep='\\t',index_col=0)"
   ]
  },
  {
   "cell_type": "code",
   "execution_count": 4,
   "metadata": {},
   "outputs": [
    {
     "data": {
      "text/plain": [
       "<matplotlib.axes._subplots.AxesSubplot at 0x7fa4f80902e8>"
      ]
     },
     "execution_count": 4,
     "metadata": {},
     "output_type": "execute_result"
    },
    {
     "data": {
      "image/png": "[encoded data removed]",
      "text/plain": [
       "<Figure size 432x288 with 1 Axes>"
      ]
     },
     "metadata": {
      "needs_background": "light"
     },
     "output_type": "display_data"
    }
   ],
   "source": [
    "import seaborn as sns\n",
    "import matplotlib.pyplot as plt\n",
    "fig = plt.figure()\n",
    "\n",
    "\n",
    "sns.kdeplot(infilepoint5df['value'],label='TP_fragment', shade=True,color='green')\n",
    "sns.kdeplot(infilepoint9df['value'],label='FP_fragment', shade=True,color='red')\n",
    "\n",
    "#fig.savefig(outfile+'_kde.pdf',dpi=300, bbox_inches='tight')"
   ]
  }
 ],
 "metadata": {
  "kernelspec": {
   "display_name": "Python 3",
   "language": "python",
   "name": "python3"
  },
  "language_info": {
   "codemirror_mode": {
    "name": "ipython",
    "version": 3
   },
   "file_extension": ".py",
   "mimetype": "text/x-python",
   "name": "python",
   "nbconvert_exporter": "python",
   "pygments_lexer": "ipython3",
   "version": "3.6.7"
  }
 },
 "nbformat": 4,
 "nbformat_minor": 2
}
