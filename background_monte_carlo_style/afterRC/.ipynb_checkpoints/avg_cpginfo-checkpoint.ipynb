{
 "cells": [
  {
   "cell_type": "code",
   "execution_count": 1,
   "metadata": {},
   "outputs": [],
   "source": [
    "import pandas as pd\n",
    "\n",
    "import glob, os\n",
    "infolder='/Users/irffanalahi/Research/Research_update/for_backgroundcalculation/hyper.9/EMseq'\n",
    "out=infolder+\"_avg.txt\""
   ]
  },
  {
   "cell_type": "code",
   "execution_count": 2,
   "metadata": {},
   "outputs": [],
   "source": [
    "files = glob.glob(infolder+'/*.txt')\n",
    "filesdf=[]\n",
    "for fp in files:\n",
    "    tmpdf=pd.read_csv(fp,sep=\"\\t\")\n",
    "    tmpdf['filename']=os.path.basename(fp)\n",
    "    filesdf.append(tmpdf)"
   ]
  },
  {
   "cell_type": "code",
   "execution_count": 3,
   "metadata": {},
   "outputs": [
    {
     "data": {
      "text/html": [
       "<div>\n",
       "<style scoped>\n",
       "    .dataframe tbody tr th:only-of-type {\n",
       "        vertical-align: middle;\n",
       "    }\n",
       "\n",
       "    .dataframe tbody tr th {\n",
       "        vertical-align: top;\n",
       "    }\n",
       "\n",
       "    .dataframe thead th {\n",
       "        text-align: right;\n",
       "    }\n",
       "</style>\n",
       "<table border=\"1\" class=\"dataframe\">\n",
       "  <thead>\n",
       "    <tr style=\"text-align: right;\">\n",
       "      <th></th>\n",
       "      <th>Mixture</th>\n",
       "      <th>EPCAM</th>\n",
       "      <th>FakeCell</th>\n",
       "      <th>filename</th>\n",
       "    </tr>\n",
       "  </thead>\n",
       "  <tbody>\n",
       "    <tr>\n",
       "      <th>0</th>\n",
       "      <td>BS-Seq_07-no-spike_sorted_binnedstats.pkl</td>\n",
       "      <td>1409.24</td>\n",
       "      <td>0</td>\n",
       "      <td>EM-Seq_07-no-spike.bedgraph_rolled.bedgraph_hy...</td>\n",
       "    </tr>\n",
       "    <tr>\n",
       "      <th>1</th>\n",
       "      <td>EM-Seq_07-no-spike_sorted_binnedstats.pkl</td>\n",
       "      <td>1080.45</td>\n",
       "      <td>0</td>\n",
       "      <td>EM-Seq_07-no-spike.bedgraph_rolled.bedgraph_hy...</td>\n",
       "    </tr>\n",
       "    <tr>\n",
       "      <th>0</th>\n",
       "      <td>BS-Seq_07-no-spike_sorted_binnedstats.pkl</td>\n",
       "      <td>1456.77</td>\n",
       "      <td>0</td>\n",
       "      <td>EM-Seq_07-no-spike.bedgraph_rolled.bedgraph_hy...</td>\n",
       "    </tr>\n",
       "    <tr>\n",
       "      <th>1</th>\n",
       "      <td>EM-Seq_07-no-spike_sorted_binnedstats.pkl</td>\n",
       "      <td>1099.56</td>\n",
       "      <td>0</td>\n",
       "      <td>EM-Seq_07-no-spike.bedgraph_rolled.bedgraph_hy...</td>\n",
       "    </tr>\n",
       "    <tr>\n",
       "      <th>0</th>\n",
       "      <td>BS-Seq_07-no-spike_sorted_binnedstats.pkl</td>\n",
       "      <td>1542.52</td>\n",
       "      <td>0</td>\n",
       "      <td>EM-Seq_07-no-spike.bedgraph_rolled.bedgraph_hy...</td>\n",
       "    </tr>\n",
       "  </tbody>\n",
       "</table>\n",
       "</div>"
      ],
      "text/plain": [
       "                                     Mixture    EPCAM  FakeCell  \\\n",
       "0  BS-Seq_07-no-spike_sorted_binnedstats.pkl  1409.24         0   \n",
       "1  EM-Seq_07-no-spike_sorted_binnedstats.pkl  1080.45         0   \n",
       "0  BS-Seq_07-no-spike_sorted_binnedstats.pkl  1456.77         0   \n",
       "1  EM-Seq_07-no-spike_sorted_binnedstats.pkl  1099.56         0   \n",
       "0  BS-Seq_07-no-spike_sorted_binnedstats.pkl  1542.52         0   \n",
       "\n",
       "                                            filename  \n",
       "0  EM-Seq_07-no-spike.bedgraph_rolled.bedgraph_hy...  \n",
       "1  EM-Seq_07-no-spike.bedgraph_rolled.bedgraph_hy...  \n",
       "0  EM-Seq_07-no-spike.bedgraph_rolled.bedgraph_hy...  \n",
       "1  EM-Seq_07-no-spike.bedgraph_rolled.bedgraph_hy...  \n",
       "0  EM-Seq_07-no-spike.bedgraph_rolled.bedgraph_hy...  "
      ]
     },
     "execution_count": 3,
     "metadata": {},
     "output_type": "execute_result"
    }
   ],
   "source": [
    "df_combined = pd.concat(filesdf, axis=0)\n",
    "df_combined.head()"
   ]
  },
  {
   "cell_type": "code",
   "execution_count": 4,
   "metadata": {},
   "outputs": [],
   "source": [
    "df_combined.to_csv(infolder+\"_combined.txt\",sep='\\t',index=False)"
   ]
  },
  {
   "cell_type": "code",
   "execution_count": 5,
   "metadata": {},
   "outputs": [
    {
     "data": {
      "text/plain": [
       "EPCAM       1271.8685\n",
       "FakeCell       0.0000\n",
       "dtype: float64"
      ]
     },
     "execution_count": 5,
     "metadata": {},
     "output_type": "execute_result"
    }
   ],
   "source": [
    "df_combined.mean()"
   ]
  },
  {
   "cell_type": "code",
   "execution_count": 6,
   "metadata": {},
   "outputs": [
    {
     "data": {
      "text/plain": [
       "EPCAM       1265.915\n",
       "FakeCell       0.000\n",
       "dtype: float64"
      ]
     },
     "execution_count": 6,
     "metadata": {},
     "output_type": "execute_result"
    }
   ],
   "source": [
    "df_combined.median()"
   ]
  },
  {
   "cell_type": "code",
   "execution_count": 7,
   "metadata": {},
   "outputs": [
    {
     "data": {
      "text/plain": [
       "<matplotlib.axes._subplots.AxesSubplot at 0x7fa4ab1c3be0>"
      ]
     },
     "execution_count": 7,
     "metadata": {},
     "output_type": "execute_result"
    },
    {
     "data": {
      "image/png": "[encoded data removed]",
      "text/plain": [
       "<Figure size 432x288 with 1 Axes>"
      ]
     },
     "metadata": {
      "needs_background": "light"
     },
     "output_type": "display_data"
    }
   ],
   "source": [
    "df_combined.boxplot(column='EPCAM')"
   ]
  },
  {
   "cell_type": "code",
   "execution_count": 8,
   "metadata": {},
   "outputs": [
    {
     "data": {
      "text/plain": [
       "{'BS-Seq_07-no-spike_sorted_binnedstats.pkl',\n",
       " 'EM-Seq_07-no-spike_sorted_binnedstats.pkl'}"
      ]
     },
     "execution_count": 8,
     "metadata": {},
     "output_type": "execute_result"
    }
   ],
   "source": [
    "set(df_combined['Mixture'].tolist())"
   ]
  },
  {
   "cell_type": "code",
   "execution_count": 9,
   "metadata": {},
   "outputs": [
    {
     "data": {
      "text/plain": [
       "EPCAM       1431.78\n",
       "FakeCell       0.00\n",
       "dtype: float64"
      ]
     },
     "execution_count": 9,
     "metadata": {},
     "output_type": "execute_result"
    }
   ],
   "source": [
    "dfbs=df_combined[df_combined['Mixture']=='BS-Seq_07-no-spike_sorted_binnedstats.pkl']\n",
    "dfbs.mean()"
   ]
  },
  {
   "cell_type": "code",
   "execution_count": 10,
   "metadata": {},
   "outputs": [
    {
     "data": {
      "text/plain": [
       "EPCAM       1418.06\n",
       "FakeCell       0.00\n",
       "dtype: float64"
      ]
     },
     "execution_count": 10,
     "metadata": {},
     "output_type": "execute_result"
    }
   ],
   "source": [
    "dfbs.median()"
   ]
  },
  {
   "cell_type": "code",
   "execution_count": 11,
   "metadata": {},
   "outputs": [
    {
     "data": {
      "text/plain": [
       "EPCAM       1111.957\n",
       "FakeCell       0.000\n",
       "dtype: float64"
      ]
     },
     "execution_count": 11,
     "metadata": {},
     "output_type": "execute_result"
    }
   ],
   "source": [
    "dfem=df_combined[df_combined['Mixture']=='EM-Seq_07-no-spike_sorted_binnedstats.pkl']\n",
    "dfem.mean()"
   ]
  }
 ],
 "metadata": {
  "kernelspec": {
   "display_name": "Python 3",
   "language": "python",
   "name": "python3"
  },
  "language_info": {
   "codemirror_mode": {
    "name": "ipython",
    "version": 3
   },
   "file_extension": ".py",
   "mimetype": "text/x-python",
   "name": "python",
   "nbconvert_exporter": "python",
   "pygments_lexer": "ipython3",
   "version": "3.6.7"
  }
 },
 "nbformat": 4,
 "nbformat_minor": 2
}
