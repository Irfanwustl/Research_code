{
 "cells": [
  {
   "cell_type": "code",
   "execution_count": 1,
   "metadata": {},
   "outputs": [],
   "source": [
    "import pandas as pd\n",
    "\n",
    "import glob, os\n",
    "infolder='/Users/irffanalahi/Research/Research_update/for_backgroundcalculation/try1/RCresult/corefromserver/hyper.7'\n",
    "out=infolder+\"_avg.txt\""
   ]
  },
  {
   "cell_type": "code",
   "execution_count": 2,
   "metadata": {},
   "outputs": [],
   "source": [
    "files = glob.glob(infolder+'/*.txt')\n",
    "filesdf=[]\n",
    "for fp in files:\n",
    "    tmpdf=pd.read_csv(fp,sep=\"\\t\")\n",
    "    tmpdf['filename']=os.path.basename(fp)\n",
    "    filesdf.append(tmpdf)"
   ]
  },
  {
   "cell_type": "code",
   "execution_count": 3,
   "metadata": {},
   "outputs": [
    {
     "data": {
      "text/html": [
       "<div>\n",
       "<style scoped>\n",
       "    .dataframe tbody tr th:only-of-type {\n",
       "        vertical-align: middle;\n",
       "    }\n",
       "\n",
       "    .dataframe tbody tr th {\n",
       "        vertical-align: top;\n",
       "    }\n",
       "\n",
       "    .dataframe thead th {\n",
       "        text-align: right;\n",
       "    }\n",
       "</style>\n",
       "<table border=\"1\" class=\"dataframe\">\n",
       "  <thead>\n",
       "    <tr style=\"text-align: right;\">\n",
       "      <th></th>\n",
       "      <th>Mixture</th>\n",
       "      <th>EPCAM</th>\n",
       "      <th>FakeCell</th>\n",
       "      <th>filename</th>\n",
       "    </tr>\n",
       "  </thead>\n",
       "  <tbody>\n",
       "    <tr>\n",
       "      <th>0</th>\n",
       "      <td>BS-Seq_07-no-spike_sorted_binnedstats.pkl</td>\n",
       "      <td>1016.75</td>\n",
       "      <td>0</td>\n",
       "      <td>BL22EPCAM_prom_all_matrix_NO_NA_withmincol.txt...</td>\n",
       "    </tr>\n",
       "    <tr>\n",
       "      <th>1</th>\n",
       "      <td>EM-Seq_07-no-spike_sorted_binnedstats.pkl</td>\n",
       "      <td>888.86</td>\n",
       "      <td>0</td>\n",
       "      <td>BL22EPCAM_prom_all_matrix_NO_NA_withmincol.txt...</td>\n",
       "    </tr>\n",
       "    <tr>\n",
       "      <th>0</th>\n",
       "      <td>BS-Seq_07-no-spike_sorted_binnedstats.pkl</td>\n",
       "      <td>995.19</td>\n",
       "      <td>0</td>\n",
       "      <td>BL22EPCAM_prom_all_matrix_NO_NA_withmincol.txt...</td>\n",
       "    </tr>\n",
       "    <tr>\n",
       "      <th>1</th>\n",
       "      <td>EM-Seq_07-no-spike_sorted_binnedstats.pkl</td>\n",
       "      <td>836.43</td>\n",
       "      <td>0</td>\n",
       "      <td>BL22EPCAM_prom_all_matrix_NO_NA_withmincol.txt...</td>\n",
       "    </tr>\n",
       "    <tr>\n",
       "      <th>0</th>\n",
       "      <td>BS-Seq_07-no-spike_sorted_binnedstats.pkl</td>\n",
       "      <td>999.60</td>\n",
       "      <td>0</td>\n",
       "      <td>BL22EPCAM_prom_all_matrix_NO_NA_withmincol.txt...</td>\n",
       "    </tr>\n",
       "  </tbody>\n",
       "</table>\n",
       "</div>"
      ],
      "text/plain": [
       "                                     Mixture    EPCAM  FakeCell  \\\n",
       "0  BS-Seq_07-no-spike_sorted_binnedstats.pkl  1016.75         0   \n",
       "1  EM-Seq_07-no-spike_sorted_binnedstats.pkl   888.86         0   \n",
       "0  BS-Seq_07-no-spike_sorted_binnedstats.pkl   995.19         0   \n",
       "1  EM-Seq_07-no-spike_sorted_binnedstats.pkl   836.43         0   \n",
       "0  BS-Seq_07-no-spike_sorted_binnedstats.pkl   999.60         0   \n",
       "\n",
       "                                            filename  \n",
       "0  BL22EPCAM_prom_all_matrix_NO_NA_withmincol.txt...  \n",
       "1  BL22EPCAM_prom_all_matrix_NO_NA_withmincol.txt...  \n",
       "0  BL22EPCAM_prom_all_matrix_NO_NA_withmincol.txt...  \n",
       "1  BL22EPCAM_prom_all_matrix_NO_NA_withmincol.txt...  \n",
       "0  BL22EPCAM_prom_all_matrix_NO_NA_withmincol.txt...  "
      ]
     },
     "execution_count": 3,
     "metadata": {},
     "output_type": "execute_result"
    }
   ],
   "source": [
    "df_combined = pd.concat(filesdf, axis=0)\n",
    "df_combined.head()"
   ]
  },
  {
   "cell_type": "code",
   "execution_count": 4,
   "metadata": {},
   "outputs": [],
   "source": [
    "df_combined.to_csv(infolder+\"_combined.txt\",sep='\\t',index=False)"
   ]
  },
  {
   "cell_type": "code",
   "execution_count": 5,
   "metadata": {},
   "outputs": [
    {
     "data": {
      "text/plain": [
       "EPCAM       910.999833\n",
       "FakeCell      0.000000\n",
       "dtype: float64"
      ]
     },
     "execution_count": 5,
     "metadata": {},
     "output_type": "execute_result"
    }
   ],
   "source": [
    "df_combined.mean()"
   ]
  },
  {
   "cell_type": "code",
   "execution_count": 6,
   "metadata": {},
   "outputs": [
    {
     "data": {
      "text/plain": [
       "EPCAM       910.42\n",
       "FakeCell      0.00\n",
       "dtype: float64"
      ]
     },
     "execution_count": 6,
     "metadata": {},
     "output_type": "execute_result"
    }
   ],
   "source": [
    "df_combined.median()"
   ]
  },
  {
   "cell_type": "code",
   "execution_count": 7,
   "metadata": {},
   "outputs": [
    {
     "data": {
      "text/plain": [
       "<matplotlib.axes._subplots.AxesSubplot at 0x7fbb8e504358>"
      ]
     },
     "execution_count": 7,
     "metadata": {},
     "output_type": "execute_result"
    },
    {
     "data": {
      "image/png": "[encoded data removed]",
      "text/plain": [
       "<Figure size 432x288 with 1 Axes>"
      ]
     },
     "metadata": {
      "needs_background": "light"
     },
     "output_type": "display_data"
    }
   ],
   "source": [
    "df_combined.boxplot(column='EPCAM')"
   ]
  },
  {
   "cell_type": "code",
   "execution_count": 8,
   "metadata": {},
   "outputs": [
    {
     "data": {
      "text/plain": [
       "{'BS-Seq_07-no-spike_sorted_binnedstats.pkl',\n",
       " 'EM-Seq_07-no-spike_sorted_binnedstats.pkl'}"
      ]
     },
     "execution_count": 8,
     "metadata": {},
     "output_type": "execute_result"
    }
   ],
   "source": [
    "set(df_combined['Mixture'].tolist())"
   ]
  },
  {
   "cell_type": "code",
   "execution_count": 15,
   "metadata": {},
   "outputs": [],
   "source": [
    "dfbs=df_combined[df_combined['Mixture']=='BS-Seq_07-no-spike_sorted_binnedstats.pkl']\n",
    "dfbsmean=dfbs.mean()"
   ]
  },
  {
   "cell_type": "code",
   "execution_count": 22,
   "metadata": {},
   "outputs": [],
   "source": [
    "dfbsmeandf=dfbsmean.to_frame(name='BSseq')"
   ]
  },
  {
   "cell_type": "code",
   "execution_count": 10,
   "metadata": {},
   "outputs": [],
   "source": [
    "dfbs.to_csv(infolder+\"_combined_bs.txt\",sep='\\t',index=False)"
   ]
  },
  {
   "cell_type": "code",
   "execution_count": 11,
   "metadata": {},
   "outputs": [
    {
     "data": {
      "text/plain": [
       "EPCAM       985.635\n",
       "FakeCell      0.000\n",
       "dtype: float64"
      ]
     },
     "execution_count": 11,
     "metadata": {},
     "output_type": "execute_result"
    }
   ],
   "source": [
    "dfbs.median()"
   ]
  },
  {
   "cell_type": "code",
   "execution_count": 20,
   "metadata": {},
   "outputs": [],
   "source": [
    "dfem=df_combined[df_combined['Mixture']=='EM-Seq_07-no-spike_sorted_binnedstats.pkl']\n",
    "dfemmean=dfem.mean()"
   ]
  },
  {
   "cell_type": "code",
   "execution_count": 23,
   "metadata": {},
   "outputs": [],
   "source": [
    "dfemmeanDF=dfemmean.to_frame(name='EMseq')"
   ]
  },
  {
   "cell_type": "code",
   "execution_count": 25,
   "metadata": {},
   "outputs": [
    {
     "data": {
      "text/html": [
       "<div>\n",
       "<style scoped>\n",
       "    .dataframe tbody tr th:only-of-type {\n",
       "        vertical-align: middle;\n",
       "    }\n",
       "\n",
       "    .dataframe tbody tr th {\n",
       "        vertical-align: top;\n",
       "    }\n",
       "\n",
       "    .dataframe thead th {\n",
       "        text-align: right;\n",
       "    }\n",
       "</style>\n",
       "<table border=\"1\" class=\"dataframe\">\n",
       "  <thead>\n",
       "    <tr style=\"text-align: right;\">\n",
       "      <th></th>\n",
       "      <th>BSseq</th>\n",
       "      <th>EMseq</th>\n",
       "    </tr>\n",
       "  </thead>\n",
       "  <tbody>\n",
       "    <tr>\n",
       "      <th>EPCAM</th>\n",
       "      <td>978.758667</td>\n",
       "      <td>843.241</td>\n",
       "    </tr>\n",
       "    <tr>\n",
       "      <th>FakeCell</th>\n",
       "      <td>0.000000</td>\n",
       "      <td>0.000</td>\n",
       "    </tr>\n",
       "  </tbody>\n",
       "</table>\n",
       "</div>"
      ],
      "text/plain": [
       "               BSseq    EMseq\n",
       "EPCAM     978.758667  843.241\n",
       "FakeCell    0.000000    0.000"
      ]
     },
     "execution_count": 25,
     "metadata": {},
     "output_type": "execute_result"
    }
   ],
   "source": [
    "meancombined=pd.concat([dfbsmeandf,dfemmeanDF],axis=1)\n",
    "meancombined"
   ]
  }
 ],
 "metadata": {
  "kernelspec": {
   "display_name": "Python 3",
   "language": "python",
   "name": "python3"
  },
  "language_info": {
   "codemirror_mode": {
    "name": "ipython",
    "version": 3
   },
   "file_extension": ".py",
   "mimetype": "text/x-python",
   "name": "python",
   "nbconvert_exporter": "python",
   "pygments_lexer": "ipython3",
   "version": "3.6.7"
  }
 },
 "nbformat": 4,
 "nbformat_minor": 2
}
