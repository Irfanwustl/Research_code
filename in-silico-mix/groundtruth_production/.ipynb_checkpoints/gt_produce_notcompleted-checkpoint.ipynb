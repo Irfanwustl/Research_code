{
 "cells": [
  {
   "cell_type": "code",
   "execution_count": 1,
   "metadata": {},
   "outputs": [
    {
     "data": {
      "text/html": [
       "<div>\n",
       "<style scoped>\n",
       "    .dataframe tbody tr th:only-of-type {\n",
       "        vertical-align: middle;\n",
       "    }\n",
       "\n",
       "    .dataframe tbody tr th {\n",
       "        vertical-align: top;\n",
       "    }\n",
       "\n",
       "    .dataframe thead th {\n",
       "        text-align: right;\n",
       "    }\n",
       "</style>\n",
       "<table border=\"1\" class=\"dataframe\">\n",
       "  <thead>\n",
       "    <tr style=\"text-align: right;\">\n",
       "      <th></th>\n",
       "      <th>Mixture</th>\n",
       "      <th>'CD14'</th>\n",
       "      <th>'CD19'</th>\n",
       "      <th>'CD4'</th>\n",
       "      <th>'CD8'</th>\n",
       "      <th>'CD56'</th>\n",
       "      <th>'Neu'</th>\n",
       "    </tr>\n",
       "  </thead>\n",
       "  <tbody>\n",
       "    <tr>\n",
       "      <th>0</th>\n",
       "      <td>insilmix_NR_400000_cd4naive_s_30_cd8naive_s_29...</td>\n",
       "      <td>0.128205</td>\n",
       "      <td>0.026738</td>\n",
       "      <td>0.200000</td>\n",
       "      <td>0.223776</td>\n",
       "      <td>0.118421</td>\n",
       "      <td>0.030612</td>\n",
       "    </tr>\n",
       "    <tr>\n",
       "      <th>1</th>\n",
       "      <td>insilmix_NR_400000_cd4naive_s_8_cd8naive_s_35_...</td>\n",
       "      <td>0.133333</td>\n",
       "      <td>0.000000</td>\n",
       "      <td>0.043860</td>\n",
       "      <td>0.249201</td>\n",
       "      <td>0.201717</td>\n",
       "      <td>0.030928</td>\n",
       "    </tr>\n",
       "    <tr>\n",
       "      <th>2</th>\n",
       "      <td>insilmix_NR_400000_cd4naive_s_7_cd8naive_s_3_m...</td>\n",
       "      <td>0.135135</td>\n",
       "      <td>0.160428</td>\n",
       "      <td>0.033333</td>\n",
       "      <td>0.041916</td>\n",
       "      <td>0.115741</td>\n",
       "      <td>0.220779</td>\n",
       "    </tr>\n",
       "    <tr>\n",
       "      <th>3</th>\n",
       "      <td>insilmix_NR_400000_cd4naive_s_12_cd8naive_s_24...</td>\n",
       "      <td>0.153846</td>\n",
       "      <td>0.049451</td>\n",
       "      <td>0.052174</td>\n",
       "      <td>0.171053</td>\n",
       "      <td>0.189076</td>\n",
       "      <td>0.031579</td>\n",
       "    </tr>\n",
       "    <tr>\n",
       "      <th>4</th>\n",
       "      <td>insilmix_NR_400000_cd4naive_s_30_cd8naive_s_14...</td>\n",
       "      <td>0.269231</td>\n",
       "      <td>0.076471</td>\n",
       "      <td>0.192982</td>\n",
       "      <td>0.107744</td>\n",
       "      <td>0.007968</td>\n",
       "      <td>0.076190</td>\n",
       "    </tr>\n",
       "  </tbody>\n",
       "</table>\n",
       "</div>"
      ],
      "text/plain": [
       "                                             Mixture    'CD14'    'CD19'  \\\n",
       "0  insilmix_NR_400000_cd4naive_s_30_cd8naive_s_29...  0.128205  0.026738   \n",
       "1  insilmix_NR_400000_cd4naive_s_8_cd8naive_s_35_...  0.133333  0.000000   \n",
       "2  insilmix_NR_400000_cd4naive_s_7_cd8naive_s_3_m...  0.135135  0.160428   \n",
       "3  insilmix_NR_400000_cd4naive_s_12_cd8naive_s_24...  0.153846  0.049451   \n",
       "4  insilmix_NR_400000_cd4naive_s_30_cd8naive_s_14...  0.269231  0.076471   \n",
       "\n",
       "      'CD4'     'CD8'    'CD56'     'Neu'  \n",
       "0  0.200000  0.223776  0.118421  0.030612  \n",
       "1  0.043860  0.249201  0.201717  0.030928  \n",
       "2  0.033333  0.041916  0.115741  0.220779  \n",
       "3  0.052174  0.171053  0.189076  0.031579  \n",
       "4  0.192982  0.107744  0.007968  0.076190  "
      ]
     },
     "execution_count": 1,
     "metadata": {},
     "output_type": "execute_result"
    }
   ],
   "source": [
    "import pandas as pd\n",
    "import re\n",
    "\n",
    "infile=\"data/blwithneu_hypo_stat.txt_0.01_2_g50.txtWithSurrounding.txt_1cpgnc.txt_result_nocov_mincpg5_ABSreadcount_divisioned.txt_CSxOut.txt\"\n",
    "\n",
    "#cellmapping\n",
    "indf=pd.read_csv(infile,sep=\"\\t\")\n",
    "indf.head()"
   ]
  },
  {
   "cell_type": "code",
   "execution_count": 4,
   "metadata": {},
   "outputs": [
    {
     "name": "stdout",
     "output_type": "stream",
     "text": [
      "(.+?)\n"
     ]
    }
   ],
   "source": [
    "firstmixname=indf['Mixture'][0]\n",
    "\n",
    "numberofcells=firstmixname.count(\"_s_\")\n",
    "querstr='(.+?)'\n",
    "\n",
    "for i in reang(numberofcells):\n",
    "    querstr=querstr+\"_s_\"\n",
    "    "
   ]
  },
  {
   "cell_type": "code",
   "execution_count": 3,
   "metadata": {},
   "outputs": [
    {
     "name": "stdout",
     "output_type": "stream",
     "text": [
      "insilmix_NR_400000_cd4naive_s_30_cd8naive_s_29_mNeu_s_9_mono_s_10_nB_s_5_NK_s_17_bg\n",
      "6\n"
     ]
    }
   ],
   "source": [
    "for index, row in indf.iterrows():\n",
    "    print(row['Mixture'])\n",
    "    \n",
    "    print(row['Mixture'].count(\"_s_\"))\n",
    "    '''\n",
    "    m = re.search('insilmix_NR_\\d+_(.+?)_s_(.+?)_', row['Mixture'])\n",
    "    print(m.group(2))\n",
    "    '''\n",
    "    break"
   ]
  }
 ],
 "metadata": {
  "kernelspec": {
   "display_name": "Python 3",
   "language": "python",
   "name": "python3"
  },
  "language_info": {
   "codemirror_mode": {
    "name": "ipython",
    "version": 3
   },
   "file_extension": ".py",
   "mimetype": "text/x-python",
   "name": "python",
   "nbconvert_exporter": "python",
   "pygments_lexer": "ipython3",
   "version": "3.6.7"
  }
 },
 "nbformat": 4,
 "nbformat_minor": 2
}
