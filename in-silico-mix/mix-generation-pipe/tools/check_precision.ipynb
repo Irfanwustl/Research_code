{
 "cells": [
  {
   "cell_type": "code",
   "execution_count": 1,
   "metadata": {},
   "outputs": [],
   "source": [
    "import numpy as np\n",
    "import os\n",
    "import subprocess\n",
    "import sys\n",
    "import pandas as pd"
   ]
  },
  {
   "cell_type": "code",
   "execution_count": 2,
   "metadata": {},
   "outputs": [],
   "source": [
    "bam_file_directory = '/Users/irffanalahi/Research/Research_code/gitignorefolder/in-silico-mix/pipe/fromserver/toy/mixture_output'#sys.argv[1]\n",
    "mix_input_file = '/Users/irffanalahi/Research/Research_code/gitignorefolder/in-silico-mix/pipe/fromserver/toy/toyprop.txt'#sys.argv[2]\n",
    "df_mix=pd.read_csv(mix_input_file,sep=\"\\t\") #############irf######"
   ]
  },
  {
   "cell_type": "code",
   "execution_count": 3,
   "metadata": {},
   "outputs": [],
   "source": [
    "bam_file_list = [f for f in os.listdir(bam_file_directory) if f.endswith('.bam')]\n",
    "bam_file_list = [bam_file_directory+'/'+bam_file_list[i] for i in range(len(bam_file_list))]"
   ]
  },
  {
   "cell_type": "code",
   "execution_count": 4,
   "metadata": {},
   "outputs": [
    {
     "name": "stdout",
     "output_type": "stream",
     "text": [
      "/Users/irffanalahi/Research/Research_code/gitignorefolder/in-silico-mix/pipe/fromserver/toy/mixture_output/toyprop_NR_100_insilmix1.bam\n",
      "/Users/irffanalahi/Research/Research_code/gitignorefolder/in-silico-mix/pipe/fromserver/toy/mixture_output/toyprop_NR_100_insilmix2.bam\n"
     ]
    }
   ],
   "source": [
    "cell_type_list = list(df_mix.columns)\n",
    "df_summ = pd.DataFrame(columns = cell_type_list)\n",
    "for bf in bam_file_list:\n",
    "    print(bf)\n",
    "    bash_command = 'samtools view '+bf+' | cut -f 1 > temp.txt'\n",
    "    subprocess.call(bash_command,shell=True)\n",
    "    with open('temp.txt') as f:\n",
    "        read_names = f.read()\n",
    "    read_names = np.array(read_names.splitlines())\n",
    "    read_ct = np.array([c.split('.')[0] for c in read_names])\n",
    "    ct_count = []\n",
    "    for ct in cell_type_list:\n",
    "        ct_count.append(sum(read_ct==ct))\n",
    "    df_summ.loc[bf.split('/')[-1].replace('.bam','')] = ct_count"
   ]
  },
  {
   "cell_type": "code",
   "execution_count": 5,
   "metadata": {},
   "outputs": [],
   "source": [
    "df_summ_norm = df_summ.div(0.01*df_summ.sum(axis=1),axis=0)"
   ]
  },
  {
   "cell_type": "code",
   "execution_count": 6,
   "metadata": {},
   "outputs": [
    {
     "data": {
      "text/html": [
       "<div>\n",
       "<style scoped>\n",
       "    .dataframe tbody tr th:only-of-type {\n",
       "        vertical-align: middle;\n",
       "    }\n",
       "\n",
       "    .dataframe tbody tr th {\n",
       "        vertical-align: top;\n",
       "    }\n",
       "\n",
       "    .dataframe thead th {\n",
       "        text-align: right;\n",
       "    }\n",
       "</style>\n",
       "<table border=\"1\" class=\"dataframe\">\n",
       "  <thead>\n",
       "    <tr style=\"text-align: right;\">\n",
       "      <th></th>\n",
       "      <th>bulkbam</th>\n",
       "      <th>bulkbam2</th>\n",
       "      <th>cd8</th>\n",
       "    </tr>\n",
       "  </thead>\n",
       "  <tbody>\n",
       "    <tr>\n",
       "      <th>toyprop_NR_100_insilmix1</th>\n",
       "      <td>9.27835</td>\n",
       "      <td>19.5876</td>\n",
       "      <td>71.134</td>\n",
       "    </tr>\n",
       "    <tr>\n",
       "      <th>toyprop_NR_100_insilmix2</th>\n",
       "      <td>17.3469</td>\n",
       "      <td>2.04082</td>\n",
       "      <td>80.6122</td>\n",
       "    </tr>\n",
       "  </tbody>\n",
       "</table>\n",
       "</div>"
      ],
      "text/plain": [
       "                          bulkbam bulkbam2      cd8\n",
       "toyprop_NR_100_insilmix1  9.27835  19.5876   71.134\n",
       "toyprop_NR_100_insilmix2  17.3469  2.04082  80.6122"
      ]
     },
     "execution_count": 6,
     "metadata": {},
     "output_type": "execute_result"
    }
   ],
   "source": [
    "df_summ_norm"
   ]
  },
  {
   "cell_type": "code",
   "execution_count": 7,
   "metadata": {},
   "outputs": [
    {
     "data": {
      "text/html": [
       "<div>\n",
       "<style scoped>\n",
       "    .dataframe tbody tr th:only-of-type {\n",
       "        vertical-align: middle;\n",
       "    }\n",
       "\n",
       "    .dataframe tbody tr th {\n",
       "        vertical-align: top;\n",
       "    }\n",
       "\n",
       "    .dataframe thead th {\n",
       "        text-align: right;\n",
       "    }\n",
       "</style>\n",
       "<table border=\"1\" class=\"dataframe\">\n",
       "  <thead>\n",
       "    <tr style=\"text-align: right;\">\n",
       "      <th></th>\n",
       "      <th>bulkbam</th>\n",
       "      <th>bulkbam2</th>\n",
       "      <th>cd8</th>\n",
       "    </tr>\n",
       "  </thead>\n",
       "  <tbody>\n",
       "    <tr>\n",
       "      <th>0</th>\n",
       "      <td>10</td>\n",
       "      <td>20</td>\n",
       "      <td>70</td>\n",
       "    </tr>\n",
       "    <tr>\n",
       "      <th>1</th>\n",
       "      <td>20</td>\n",
       "      <td>3</td>\n",
       "      <td>77</td>\n",
       "    </tr>\n",
       "  </tbody>\n",
       "</table>\n",
       "</div>"
      ],
      "text/plain": [
       "   bulkbam  bulkbam2  cd8\n",
       "0       10        20   70\n",
       "1       20         3   77"
      ]
     },
     "execution_count": 7,
     "metadata": {},
     "output_type": "execute_result"
    }
   ],
   "source": [
    "df_mix"
   ]
  },
  {
   "cell_type": "code",
   "execution_count": 8,
   "metadata": {},
   "outputs": [
    {
     "data": {
      "text/html": [
       "<div>\n",
       "<style scoped>\n",
       "    .dataframe tbody tr th:only-of-type {\n",
       "        vertical-align: middle;\n",
       "    }\n",
       "\n",
       "    .dataframe tbody tr th {\n",
       "        vertical-align: top;\n",
       "    }\n",
       "\n",
       "    .dataframe thead th {\n",
       "        text-align: right;\n",
       "    }\n",
       "</style>\n",
       "<table border=\"1\" class=\"dataframe\">\n",
       "  <thead>\n",
       "    <tr style=\"text-align: right;\">\n",
       "      <th></th>\n",
       "      <th>bulkbam</th>\n",
       "      <th>bulkbam2</th>\n",
       "      <th>cd8</th>\n",
       "    </tr>\n",
       "  </thead>\n",
       "  <tbody>\n",
       "    <tr>\n",
       "      <th>toyprop_NR_100_insilmix1</th>\n",
       "      <td>9</td>\n",
       "      <td>19</td>\n",
       "      <td>69</td>\n",
       "    </tr>\n",
       "    <tr>\n",
       "      <th>toyprop_NR_100_insilmix2</th>\n",
       "      <td>17</td>\n",
       "      <td>2</td>\n",
       "      <td>79</td>\n",
       "    </tr>\n",
       "  </tbody>\n",
       "</table>\n",
       "</div>"
      ],
      "text/plain": [
       "                         bulkbam bulkbam2 cd8\n",
       "toyprop_NR_100_insilmix1       9       19  69\n",
       "toyprop_NR_100_insilmix2      17        2  79"
      ]
     },
     "execution_count": 8,
     "metadata": {},
     "output_type": "execute_result"
    }
   ],
   "source": [
    " df_summ"
   ]
  }
 ],
 "metadata": {
  "kernelspec": {
   "display_name": "Python 3",
   "language": "python",
   "name": "python3"
  },
  "language_info": {
   "codemirror_mode": {
    "name": "ipython",
    "version": 3
   },
   "file_extension": ".py",
   "mimetype": "text/x-python",
   "name": "python",
   "nbconvert_exporter": "python",
   "pygments_lexer": "ipython3",
   "version": "3.6.7"
  }
 },
 "nbformat": 4,
 "nbformat_minor": 5
}
