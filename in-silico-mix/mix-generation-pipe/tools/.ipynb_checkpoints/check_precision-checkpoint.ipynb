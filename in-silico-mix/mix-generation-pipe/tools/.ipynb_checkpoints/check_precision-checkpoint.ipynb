{
 "cells": [
  {
   "cell_type": "code",
   "execution_count": 1,
   "metadata": {},
   "outputs": [],
   "source": [
    "import numpy as np\n",
    "import os\n",
    "import subprocess\n",
    "import sys\n",
    "import pandas as pd"
   ]
  },
  {
   "cell_type": "code",
   "execution_count": 2,
   "metadata": {},
   "outputs": [],
   "source": [
    "bam_file_directory = '/Users/irffanalahi/Research/Research_code/gitignorefolder/in-silico-mix/pipe/fromserver/mixture_output'#sys.argv[1]\n",
    "mix_input_file = '/Users/irffanalahi/Research/Research_code/gitignorefolder/in-silico-mix/pipe/toyprop.txt'#sys.argv[2]"
   ]
  },
  {
   "cell_type": "code",
   "execution_count": 3,
   "metadata": {},
   "outputs": [],
   "source": [
    "bam_file_list = [f for f in os.listdir(bam_file_directory) if f.endswith('.bam')]\n",
    "bam_file_list = [bam_file_directory+'/'+bam_file_list[i] for i in range(len(bam_file_list))]"
   ]
  },
  {
   "cell_type": "code",
   "execution_count": 4,
   "metadata": {},
   "outputs": [
    {
     "ename": "NameError",
     "evalue": "name 'df_mix' is not defined",
     "output_type": "error",
     "traceback": [
      "\u001b[0;31m---------------------------------------------------------------------------\u001b[0m",
      "\u001b[0;31mNameError\u001b[0m                                 Traceback (most recent call last)",
      "\u001b[0;32m<ipython-input-4-797e35783cd6>\u001b[0m in \u001b[0;36m<module>\u001b[0;34m\u001b[0m\n\u001b[0;32m----> 1\u001b[0;31m \u001b[0mcell_type_list\u001b[0m \u001b[0;34m=\u001b[0m \u001b[0mlist\u001b[0m\u001b[0;34m(\u001b[0m\u001b[0mdf_mix\u001b[0m\u001b[0;34m.\u001b[0m\u001b[0mcolumns\u001b[0m\u001b[0;34m)\u001b[0m\u001b[0;34m\u001b[0m\u001b[0;34m\u001b[0m\u001b[0m\n\u001b[0m\u001b[1;32m      2\u001b[0m \u001b[0mdf_summ\u001b[0m \u001b[0;34m=\u001b[0m \u001b[0mpd\u001b[0m\u001b[0;34m.\u001b[0m\u001b[0mDataFrame\u001b[0m\u001b[0;34m(\u001b[0m\u001b[0mcolumns\u001b[0m \u001b[0;34m=\u001b[0m \u001b[0mcell_type_list\u001b[0m\u001b[0;34m)\u001b[0m\u001b[0;34m\u001b[0m\u001b[0;34m\u001b[0m\u001b[0m\n\u001b[1;32m      3\u001b[0m \u001b[0;32mfor\u001b[0m \u001b[0mbf\u001b[0m \u001b[0;32min\u001b[0m \u001b[0mbam_file_list\u001b[0m\u001b[0;34m:\u001b[0m\u001b[0;34m\u001b[0m\u001b[0;34m\u001b[0m\u001b[0m\n\u001b[1;32m      4\u001b[0m     \u001b[0mprint\u001b[0m\u001b[0;34m(\u001b[0m\u001b[0mbf\u001b[0m\u001b[0;34m)\u001b[0m\u001b[0;34m\u001b[0m\u001b[0;34m\u001b[0m\u001b[0m\n\u001b[1;32m      5\u001b[0m     \u001b[0mbash_command\u001b[0m \u001b[0;34m=\u001b[0m \u001b[0;34m'samtools view '\u001b[0m\u001b[0;34m+\u001b[0m\u001b[0mbf\u001b[0m\u001b[0;34m+\u001b[0m\u001b[0;34m' | cut -f 1 > temp.txt'\u001b[0m\u001b[0;34m\u001b[0m\u001b[0;34m\u001b[0m\u001b[0m\n",
      "\u001b[0;31mNameError\u001b[0m: name 'df_mix' is not defined"
     ]
    }
   ],
   "source": [
    "cell_type_list = list(df_mix.columns)\n",
    "df_summ = pd.DataFrame(columns = cell_type_list)\n",
    "for bf in bam_file_list:\n",
    "    print(bf)\n",
    "    bash_command = 'samtools view '+bf+' | cut -f 1 > temp.txt'\n",
    "    subprocess.call(bash_command,shell=True)\n",
    "    with open('temp.txt') as f:\n",
    "        read_names = f.read()\n",
    "    read_names = np.array(read_names.splitlines())\n",
    "    read_ct = np.array([c.split('.')[0] for c in read_names])\n",
    "    ct_count = []\n",
    "    for ct in cell_type_list:\n",
    "        ct_count.append(sum(read_ct==ct))\n",
    "    df_summ.loc[bf.split('/')[-1].replace('.bam','')] = ct_count"
   ]
  },
  {
   "cell_type": "code",
   "execution_count": null,
   "metadata": {},
   "outputs": [],
   "source": [
    "df_summ_norm = df_summ.div(0.01*df_summ.sum(axis=1),axis=0)"
   ]
  },
  {
   "cell_type": "code",
   "execution_count": null,
   "metadata": {},
   "outputs": [],
   "source": [
    "df_summ_norm"
   ]
  },
  {
   "cell_type": "code",
   "execution_count": null,
   "metadata": {},
   "outputs": [],
   "source": [
    "df_mix"
   ]
  },
  {
   "cell_type": "code",
   "execution_count": null,
   "metadata": {},
   "outputs": [],
   "source": []
  }
 ],
 "metadata": {
  "kernelspec": {
   "display_name": "Python 3",
   "language": "python",
   "name": "python3"
  },
  "language_info": {
   "codemirror_mode": {
    "name": "ipython",
    "version": 3
   },
   "file_extension": ".py",
   "mimetype": "text/x-python",
   "name": "python",
   "nbconvert_exporter": "python",
   "pygments_lexer": "ipython3",
   "version": "3.6.7"
  }
 },
 "nbformat": 4,
 "nbformat_minor": 5
}
