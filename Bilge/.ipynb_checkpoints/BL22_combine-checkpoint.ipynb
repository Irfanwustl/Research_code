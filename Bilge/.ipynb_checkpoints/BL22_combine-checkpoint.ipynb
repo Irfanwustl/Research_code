{
 "cells": [
  {
   "cell_type": "code",
   "execution_count": 1,
   "metadata": {},
   "outputs": [],
   "source": [
    "import os\n",
    "import pandas as pd\n",
    "import numpy as np"
   ]
  },
  {
   "cell_type": "code",
   "execution_count": 2,
   "metadata": {},
   "outputs": [],
   "source": [
    "fol = '/Users/irffanalahi/Research/Research_update/SoftRD/hashtable_stats/TissuTypes/TCGA/SM/TCGA_Traindata_int_Train_ready_otherct_atleastMeanBeta_0.5_all_matrix_allout_ranked_inflectionpos_sortedby_Train_ready_otherct_atleastMeanBeta_0.5_all_matrix_allout_ranked_inflectionpos'\n",
    "\n",
    "file_lst = os.listdir(fol)\n",
    "\n",
    "if '.ipynb_checkpoints' in file_lst:\n",
    "    file_lst.remove('.ipynb_checkpoints')\n",
    "\n",
    "if '.DS_Store' in file_lst:\n",
    "    file_lst.remove('.DS_Store')\n",
    "\n",
    "cells = ['AdrenalGlandNormal','AdrenalGlandTumor','BladderNormal','BladderTumor','BreastNormal','BreastTumor','EsophagusNormal','EsophagusTumor','KidneyNormal','KidneyTumor','PancreasNormal','PancreasTumor']\n",
    "#['AdrenalGlandNormal','AdrenalGlandTumor','BladderNormal','BladderTumor','BreastNormal','BreastTumor','EsophagusNormal','EsophagusTumor','KidneyNormal','KidneyTumor','PancreasNormal','PancreasTumor','SkinNormal','SkinTumor','StomachNormal','StomachTumor','ThymusNormal','ThymusTumor']\n",
    "\n",
    "#['NaiveCD4','em4','cm4', 'Tregs','NaiveCD8','em8', 'cm8','ed8','NK', 'nB','mB',    \\\n",
    "         # 'Mono',  'M0',  'M1','M2','iDC',  \\\n",
    "         #'mDC','PMN','Mg', 'Eo', 'Er' ]"
   ]
  },
  {
   "cell_type": "code",
   "execution_count": 3,
   "metadata": {},
   "outputs": [],
   "source": [
    "df_lst = []\n",
    "for cell in cells:\n",
    "    for file in file_lst:\n",
    "        if cell in file:\n",
    "            file_name = fol + '/' + file\n",
    "            df = pd.read_csv(file_name, sep='\\t')\n",
    "            df_lst.append(df)\n",
    "            break\n",
    "            \n",
    "df_concat = pd.concat(df_lst, axis=0)\n",
    "\n",
    "df_concat.to_csv(fol + '.txt', sep='\\t', index=None,na_rep='NA')"
   ]
  },
  {
   "cell_type": "code",
   "execution_count": null,
   "metadata": {},
   "outputs": [],
   "source": []
  }
 ],
 "metadata": {
  "kernelspec": {
   "display_name": "Python 3",
   "language": "python",
   "name": "python3"
  },
  "language_info": {
   "codemirror_mode": {
    "name": "ipython",
    "version": 3
   },
   "file_extension": ".py",
   "mimetype": "text/x-python",
   "name": "python",
   "nbconvert_exporter": "python",
   "pygments_lexer": "ipython3",
   "version": "3.6.7"
  }
 },
 "nbformat": 4,
 "nbformat_minor": 5
}
