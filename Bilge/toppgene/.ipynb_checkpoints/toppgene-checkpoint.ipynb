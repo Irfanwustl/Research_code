{
 "cells": [
  {
   "cell_type": "code",
   "execution_count": 1,
   "metadata": {},
   "outputs": [],
   "source": [
    "import requests\n",
    "import pandas as pd\n",
    "import numpy as np\n",
    "import json"
   ]
  },
  {
   "cell_type": "code",
   "execution_count": 2,
   "metadata": {},
   "outputs": [],
   "source": [
    "file = 'genes.txt'#'genes[10405].txt'\n",
    "out = file + '_toppgene.txt'\n",
    "data = pd.read_csv(file, sep='\\t', header=None)\n",
    "df = pd.DataFrame(data)\n",
    "\n",
    "headers = {\n",
    "    'Content-Type': 'text/json',\n",
    "}\n",
    "\n",
    "genes = list(df[0])\n",
    "data = str(dict(Symbols = genes))\n",
    "data = ''.join(data.split(' '))\n",
    "data = data.replace('\\'', '\"')"
   ]
  },
  {
   "cell_type": "code",
   "execution_count": 3,
   "metadata": {},
   "outputs": [],
   "source": [
    "response = requests.post('https://toppgene.cchmc.org/API/lookup', headers=headers, data=data)\n",
    "if response:\n",
    "    data_genes = dict(response.json())\n",
    "\n",
    "    data_gene_symbols = []\n",
    "    for dic in data_genes['Genes']:\n",
    "        data_gene_symbols.append(dic['Entrez'])\n",
    "        \n",
    "else:\n",
    "    print('Failed to lookup gene symbols.')"
   ]
  },
  {
   "cell_type": "code",
   "execution_count": 4,
   "metadata": {},
   "outputs": [
    {
     "data": {
      "text/plain": [
       "'{\"Genes\":[914,91452,9044,29121,100233209,91523,100616486,161291,5583,84166,999,130589,4773,56916,6836,169436]}'"
      ]
     },
     "execution_count": 4,
     "metadata": {},
     "output_type": "execute_result"
    }
   ],
   "source": [
    "gene_data = str(dict(Genes = data_gene_symbols))\n",
    "gene_data = ''.join(gene_data.split(' '))\n",
    "gene_data = gene_data.replace('\\'', '\"')\n",
    "\n",
    "gene_data"
   ]
  },
  {
   "cell_type": "code",
   "execution_count": 5,
   "metadata": {},
   "outputs": [],
   "source": [
    "headers = {\n",
    "    'Content-Type': 'text/json',\n",
    "}\n",
    "\n",
    "url = 'https://toppgene.cchmc.org/API/enrich'\n",
    "response = requests.post(url, headers=headers, data=gene_data)"
   ]
  },
  {
   "cell_type": "code",
   "execution_count": 6,
   "metadata": {},
   "outputs": [],
   "source": [
    "with open(out, \"w\") as f:\n",
    "    formatted = json.dumps(response.json(), indent=1)\n",
    "    f.write(formatted)"
   ]
  },
  {
   "cell_type": "code",
   "execution_count": null,
   "metadata": {},
   "outputs": [],
   "source": []
  }
 ],
 "metadata": {
  "kernelspec": {
   "display_name": "Python 3",
   "language": "python",
   "name": "python3"
  },
  "language_info": {
   "codemirror_mode": {
    "name": "ipython",
    "version": 3
   },
   "file_extension": ".py",
   "mimetype": "text/x-python",
   "name": "python",
   "nbconvert_exporter": "python",
   "pygments_lexer": "ipython3",
   "version": "3.6.7"
  }
 },
 "nbformat": 4,
 "nbformat_minor": 4
}
