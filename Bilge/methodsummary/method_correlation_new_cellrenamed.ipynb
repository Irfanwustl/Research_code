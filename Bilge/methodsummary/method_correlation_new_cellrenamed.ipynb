{
 "cells": [
  {
   "cell_type": "code",
   "execution_count": 1,
   "metadata": {},
   "outputs": [],
   "source": [
    "import pandas as pd\n",
    "import numpy as np\n",
    "import seaborn as sns\n",
    "import matplotlib.pyplot as plt\n",
    "import os\n",
    "from scipy.stats.mstats import pearsonr, spearmanr"
   ]
  },
  {
   "cell_type": "code",
   "execution_count": 2,
   "metadata": {},
   "outputs": [],
   "source": [
    "subset = False\n",
    "fol = '/Users/irffanalahi/Research/Research_update/SoftRD/largerEXP/BL22_tiered/PBMC_decon/em4_cm4/corr/perctcorr/em4'\n",
    "\n",
    "files = os.listdir(fol)\n",
    "\n",
    "if '.ipynb_checkpoints' in files:\n",
    "    files.remove('.ipynb_checkpoints')\n",
    "\n",
    "if '.DS_Store' in files:\n",
    "    files.remove('.DS_Store')"
   ]
  },
  {
   "cell_type": "code",
   "execution_count": 3,
   "metadata": {},
   "outputs": [
    {
     "name": "stdout",
     "output_type": "stream",
     "text": [
      "['em4', 'cm4', 'NaiveCD8', 'ed8', 'PC', 'NK', 'Mono', 'em8', 'NaiveCD4', 'mB', 'nB', 'cm8', 'Tregs']\n"
     ]
    }
   ],
   "source": [
    "dfs = []\n",
    "for i, file in enumerate(files):\n",
    "    data = pd.read_csv(fol + '/' + file, sep='\\t', index_col=0)\n",
    "    df = pd.DataFrame(data)\n",
    "    dfs.append(df.copy())\n",
    "    \n",
    "for i, df in enumerate(dfs):\n",
    "    cols = []\n",
    "    for cell in list(df.columns):\n",
    "        if '.x' in cell:\n",
    "            cols.append(cell.split('.')[0])\n",
    "        elif '.y' in cell:\n",
    "            cols.append(cell.split('.')[0] + '_real')\n",
    "        else:\n",
    "            cols.append(cell)\n",
    "    df.columns = cols\n",
    "\n",
    "for i, df in enumerate(dfs): \n",
    "    if i == 0:\n",
    "        samples = list(df.index)\n",
    "        columns = list(df.columns)\n",
    "    else:\n",
    "        new_samples = list(df.index)\n",
    "        new_columns = list(df.columns)\n",
    "        samples = list(set(new_samples).intersection(samples))\n",
    "        columns = list(set(new_columns + columns))\n",
    "    columns = list(set(columns))\n",
    "\n",
    "\n",
    "new_columns = []\n",
    "for col in columns:\n",
    "    if '_real' in col:\n",
    "        new_columns.append(col.split('_')[0])\n",
    "        \n",
    "columns = new_columns\n",
    "print(columns)"
   ]
  },
  {
   "cell_type": "code",
   "execution_count": 4,
   "metadata": {},
   "outputs": [],
   "source": [
    "def generate_df_dic(correlation, dfs, columns):\n",
    "    df_corr = {}\n",
    "    for i, df in enumerate(dfs):\n",
    "        if subset:\n",
    "            df = df.loc[samples, :]\n",
    "        for cell in columns:\n",
    "            if cell in df.columns:\n",
    "                if cell not in df_corr:\n",
    "                    df_corr[cell] = []\n",
    "                corr = correlation(list(df[cell]), list(df[cell + '_real']))[0]\n",
    "                df_corr[cell].append(corr)\n",
    "            else:\n",
    "                df_corr[cell].append(float('NaN'))\n",
    "    return df_corr"
   ]
  },
  {
   "cell_type": "code",
   "execution_count": 5,
   "metadata": {},
   "outputs": [
    {
     "name": "stderr",
     "output_type": "stream",
     "text": [
      "/Library/Frameworks/Python.framework/Versions/3.6/lib/python3.6/site-packages/scipy/stats/mstats_basic.py:387: RuntimeWarning: invalid value encountered in double_scalars\n",
      "  r = r_num / r_den\n"
     ]
    },
    {
     "ename": "KeyError",
     "evalue": "'NaiveCD8'",
     "output_type": "error",
     "traceback": [
      "\u001b[0;31m---------------------------------------------------------------------------\u001b[0m",
      "\u001b[0;31mKeyError\u001b[0m                                  Traceback (most recent call last)",
      "\u001b[0;32m<ipython-input-5-c6a3155a1dca>\u001b[0m in \u001b[0;36m<module>\u001b[0;34m\u001b[0m\n\u001b[0;32m----> 1\u001b[0;31m \u001b[0mdf_pearson_dic\u001b[0m \u001b[0;34m=\u001b[0m \u001b[0mgenerate_df_dic\u001b[0m\u001b[0;34m(\u001b[0m\u001b[0mpearsonr\u001b[0m\u001b[0;34m,\u001b[0m \u001b[0mdfs\u001b[0m\u001b[0;34m,\u001b[0m \u001b[0mcolumns\u001b[0m\u001b[0;34m)\u001b[0m\u001b[0;34m\u001b[0m\u001b[0;34m\u001b[0m\u001b[0m\n\u001b[0m\u001b[1;32m      2\u001b[0m \u001b[0mdf_spearman_dic\u001b[0m \u001b[0;34m=\u001b[0m \u001b[0mgenerate_df_dic\u001b[0m\u001b[0;34m(\u001b[0m\u001b[0mspearmanr\u001b[0m\u001b[0;34m,\u001b[0m \u001b[0mdfs\u001b[0m\u001b[0;34m,\u001b[0m \u001b[0mcolumns\u001b[0m\u001b[0;34m)\u001b[0m\u001b[0;34m\u001b[0m\u001b[0;34m\u001b[0m\u001b[0m\n",
      "\u001b[0;32m<ipython-input-4-5c69f5b10334>\u001b[0m in \u001b[0;36mgenerate_df_dic\u001b[0;34m(correlation, dfs, columns)\u001b[0m\n\u001b[1;32m     11\u001b[0m                 \u001b[0mdf_corr\u001b[0m\u001b[0;34m[\u001b[0m\u001b[0mcell\u001b[0m\u001b[0;34m]\u001b[0m\u001b[0;34m.\u001b[0m\u001b[0mappend\u001b[0m\u001b[0;34m(\u001b[0m\u001b[0mcorr\u001b[0m\u001b[0;34m)\u001b[0m\u001b[0;34m\u001b[0m\u001b[0;34m\u001b[0m\u001b[0m\n\u001b[1;32m     12\u001b[0m             \u001b[0;32melse\u001b[0m\u001b[0;34m:\u001b[0m\u001b[0;34m\u001b[0m\u001b[0;34m\u001b[0m\u001b[0m\n\u001b[0;32m---> 13\u001b[0;31m                 \u001b[0mdf_corr\u001b[0m\u001b[0;34m[\u001b[0m\u001b[0mcell\u001b[0m\u001b[0;34m]\u001b[0m\u001b[0;34m.\u001b[0m\u001b[0mappend\u001b[0m\u001b[0;34m(\u001b[0m\u001b[0mfloat\u001b[0m\u001b[0;34m(\u001b[0m\u001b[0;34m'NaN'\u001b[0m\u001b[0;34m)\u001b[0m\u001b[0;34m)\u001b[0m\u001b[0;34m\u001b[0m\u001b[0;34m\u001b[0m\u001b[0m\n\u001b[0m\u001b[1;32m     14\u001b[0m     \u001b[0;32mreturn\u001b[0m \u001b[0mdf_corr\u001b[0m\u001b[0;34m\u001b[0m\u001b[0;34m\u001b[0m\u001b[0m\n",
      "\u001b[0;31mKeyError\u001b[0m: 'NaiveCD8'"
     ]
    }
   ],
   "source": [
    "df_pearson_dic = generate_df_dic(pearsonr, dfs, columns)\n",
    "df_spearman_dic = generate_df_dic(spearmanr, dfs, columns)"
   ]
  },
  {
   "cell_type": "code",
   "execution_count": null,
   "metadata": {},
   "outputs": [],
   "source": [
    "df_pearson = pd.DataFrame.from_dict(df_pearson_dic, orient='index', columns = files)\n",
    "df_spearman = pd.DataFrame.from_dict(df_spearman_dic, orient='index', columns = files)\n",
    "display(df_pearson)\n",
    "\n"
   ]
  },
  {
   "cell_type": "code",
   "execution_count": null,
   "metadata": {},
   "outputs": [],
   "source": [
    "df_pearson.rename(index={\"NaiveCD8\":\"Naive CD8 T\",\"NaiveCD4\":\"Naive CD4 T\",\"CD4\": \"Naive CD4\", \"CD8\": \"Naive CD8\",\"mB\":\"Memory B\",'Mn':'Mono','CD14':'Mono','CD19':'B Cell','nB':'Naive B','PC':'Palsma','cm8':'CD8 central memory','em8':'CD8 effector memory','m8':'CD8 memory','ed8':'CD8 effector','cm4':'CD4 central memory','em4':'CD4 effector memory','m4':'CD4 memory','mNeu':'PMN','Eo':'Eosinophil','Tr':'Tregs','Mg':'Megakaryocyte'},inplace=True)\n",
    "display(df_pearson)"
   ]
  },
  {
   "cell_type": "code",
   "execution_count": null,
   "metadata": {},
   "outputs": [],
   "source": [
    "df_spearman.rename(index={\"NaiveCD8\":\"Naive CD8 T\",\"NaiveCD4\":\"Naive CD4 T\",\"CD4\": \"Naive CD4\", \"CD8\": \"Naive CD8\",\"mB\":\"Memory B\",'Mn':'Mono','CD14':'Mono','CD19':'B Cell','nB':'Naive B','PC':'Palsma','cm8':'CD8 central memory','em8':'CD8 effector memory','m8':'CD8 memory','ed8':'CD8 effector','cm4':'CD4 central memory','em4':'CD4 effector memory','m4':'CD4 memory','mNeu':'PMN','Eo':'Eosinophil','Tr':'Tregs','Mg':'Megakaryocyte'},inplace=True)\n",
    "df_spearman.head()"
   ]
  },
  {
   "cell_type": "code",
   "execution_count": null,
   "metadata": {},
   "outputs": [],
   "source": [
    "df_pearson.to_csv(fol + '_pearson_correlation.txt', sep='\\t')\n",
    "df_spearman.to_csv(fol + '_spearman_correlation.txt', sep='\\t')"
   ]
  },
  {
   "cell_type": "code",
   "execution_count": null,
   "metadata": {},
   "outputs": [],
   "source": [
    "plt.figure(figsize=(20,15))\n",
    "pearson_heatmap = sns.heatmap(df_pearson, cmap='viridis', annot=True, vmin=0.0, vmax=1.0)\n",
    "pearson_heatmap.set_facecolor('gray')\n",
    "plt.savefig(fol + '_pearson_heatmap.pdf', bbox_inches='tight')"
   ]
  },
  {
   "cell_type": "code",
   "execution_count": null,
   "metadata": {},
   "outputs": [],
   "source": [
    "plt.figure(figsize=(20,15))\n",
    "spearman_heatmap = sns.heatmap(df_spearman, cmap='viridis', annot=True, vmin=0.0, vmax=1.0)\n",
    "spearman_heatmap.set_facecolor('gray')\n",
    "plt.savefig(fol + '_spearman_heatmap.pdf', bbox_inches='tight')"
   ]
  },
  {
   "cell_type": "code",
   "execution_count": null,
   "metadata": {},
   "outputs": [],
   "source": []
  }
 ],
 "metadata": {
  "kernelspec": {
   "display_name": "Python 3",
   "language": "python",
   "name": "python3"
  },
  "language_info": {
   "codemirror_mode": {
    "name": "ipython",
    "version": 3
   },
   "file_extension": ".py",
   "mimetype": "text/x-python",
   "name": "python",
   "nbconvert_exporter": "python",
   "pygments_lexer": "ipython3",
   "version": "3.6.7"
  }
 },
 "nbformat": 4,
 "nbformat_minor": 4
}
