{
 "cells": [
  {
   "cell_type": "code",
   "execution_count": 1,
   "metadata": {},
   "outputs": [],
   "source": [
    "import pandas as pd\n",
    "import numpy as np\n",
    "import matplotlib.pyplot as plt\n",
    "from scipy.stats import wilcoxon"
   ]
  },
  {
   "cell_type": "code",
   "execution_count": 2,
   "metadata": {},
   "outputs": [],
   "source": [
    "sample1 = 'TieredSM'\n",
    "sample2 = 'OldSM'\n",
    "#p_value = '0.04'\n",
    "color1 = 'goldenrod'\n",
    "color2 = 'darkgreen'\n",
    "irfylabel='rho'"
   ]
  },
  {
   "cell_type": "code",
   "execution_count": 3,
   "metadata": {},
   "outputs": [],
   "source": [
    "file = '/Users/irffanalahi/Research/Research_update/SoftRD/largerEXP/BL22_tiered/PBMC_decon/All/perctcorr/methodsumary_newposscore_spearman_correlation_FLOW.txt'\n",
    "data = pd.read_csv(file, sep='\\t', index_col=0)\n",
    "df = pd.DataFrame(data)\n",
    "\n",
    "df_pos = df[df[sample1] > df[sample2]]\n",
    "df_neg = df[df[sample1] < df[sample2]]"
   ]
  },
  {
   "cell_type": "code",
   "execution_count": 4,
   "metadata": {},
   "outputs": [
    {
     "name": "stderr",
     "output_type": "stream",
     "text": [
      "/Library/Frameworks/Python.framework/Versions/3.6/lib/python3.6/site-packages/scipy/stats/morestats.py:2863: UserWarning: Sample size too small for normal approximation.\n",
      "  warnings.warn(\"Sample size too small for normal approximation.\")\n"
     ]
    }
   ],
   "source": [
    "_,p_value=np.around(wilcoxon(df[sample1],df[sample2]),decimals=2)"
   ]
  },
  {
   "cell_type": "code",
   "execution_count": 5,
   "metadata": {},
   "outputs": [
    {
     "data": {
      "image/png": "[encoded data removed]",
      "text/plain": [
       "<Figure size 360x504 with 1 Axes>"
      ]
     },
     "metadata": {
      "needs_background": "light"
     },
     "output_type": "display_data"
    }
   ],
   "source": [
    "hfont = {'fontname':'Arial'}\n",
    "arr_0 = df_pos[sample2]\n",
    "arr_1 = df_pos[sample1]\n",
    "\n",
    "arr_2 = df_neg[sample2]\n",
    "arr_3 = df_neg[sample1]\n",
    "\n",
    "fig, ax = plt.subplots(1, 1, figsize=(5, 7))\n",
    "for i in range(len(arr_2)):\n",
    "    plt.plot([0.0, 1.0], [arr_2[i], arr_3[i]], c=color1, ls='--')\n",
    "    \n",
    "ax.scatter(np.zeros(len(arr_2)), arr_2, c=color1, s=50)\n",
    "ax.scatter(np.zeros(len(arr_3)) + 1, arr_3, c=color1, s=50)\n",
    "    \n",
    "for i in range(len(arr_0)):\n",
    "    plt.plot([0.0, 1.0], [arr_0[i], arr_1[i]], c=color2)\n",
    "ax.scatter(np.zeros(len(arr_0)), arr_0, c=color2, s=50)\n",
    "ax.scatter(np.zeros(len(arr_1)) + 1, arr_1, c=color2, s=50)\n",
    "\n",
    "ax.set_xlim(-0.5, 1.5)\n",
    "ax.spines['right'].set_visible(False)\n",
    "ax.spines['top'].set_visible(False)\n",
    "\n",
    "\n",
    "plt.xticks([0.0, 1.0], [sample2, sample1])\n",
    "#plt.ylim([-0.1, 1.0])\n",
    "plt.yticks([0.0, 0.2, 0.4, 0.6, 0.8, 1.0])\n",
    "\n",
    "for label in ax.get_xticklabels():\n",
    "    label.set_fontproperties('Arial')\n",
    "    \n",
    "for label in ax.get_yticklabels():\n",
    "    label.set_fontproperties('Arial')\n",
    "\n",
    "plt.annotate('', xy=(0.245, 1.07), xycoords='axes fraction', \\\n",
    "             xytext=(0.755, 1.07), fontsize=18, ha='left', \\\n",
    "             arrowprops=dict(arrowstyle=\"-\", color='k', lw=1.5))\n",
    "\n",
    "plt.annotate('', xy=(0.25, 1.075), xycoords='axes fraction', \\\n",
    "             xytext=(0.25, 1.00), fontsize=18, ha='left', \\\n",
    "             arrowprops=dict(arrowstyle=\"-\", color='k', lw=1.5))\n",
    "\n",
    "plt.annotate('', xy=(0.75, 1.075), xycoords='axes fraction', \\\n",
    "             xytext=(0.75, 1.00), fontsize=18, ha='left', \\\n",
    "             arrowprops=dict(arrowstyle=\"-\", color='k', lw=1.5))\n",
    "\n",
    "plt.annotate(p_value, xy=(0.5, 1.09), xycoords='axes fraction', fontsize=18, ha='center', va='bottom', **hfont)\n",
    "    \n",
    "ax.set_ylabel('Pearson R',fontsize=20, labelpad=8, **hfont)\n",
    "ax.tick_params(labelsize=16, size=5)"
   ]
  },
  {
   "cell_type": "code",
   "execution_count": 6,
   "metadata": {},
   "outputs": [],
   "source": [
    "fig.savefig(file + '_corr.pdf', dpi=300, bbox_inches='tight')"
   ]
  },
  {
   "cell_type": "code",
   "execution_count": null,
   "metadata": {},
   "outputs": [],
   "source": []
  }
 ],
 "metadata": {
  "kernelspec": {
   "display_name": "Python 3",
   "language": "python",
   "name": "python3"
  },
  "language_info": {
   "codemirror_mode": {
    "name": "ipython",
    "version": 3
   },
   "file_extension": ".py",
   "mimetype": "text/x-python",
   "name": "python",
   "nbconvert_exporter": "python",
   "pygments_lexer": "ipython3",
   "version": "3.6.7"
  }
 },
 "nbformat": 4,
 "nbformat_minor": 4
}
