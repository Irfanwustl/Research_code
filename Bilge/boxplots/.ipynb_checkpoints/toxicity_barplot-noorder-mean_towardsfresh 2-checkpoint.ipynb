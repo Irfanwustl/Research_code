{
 "cells": [
  {
   "cell_type": "code",
   "execution_count": 1,
   "metadata": {},
   "outputs": [],
   "source": [
    "import pandas as pd\n",
    "import matplotlib.pyplot as plt\n",
    "import seaborn as sns\n",
    "import numpy as np\n",
    "from scipy.stats import wilcoxon, mannwhitneyu"
   ]
  },
  {
   "cell_type": "code",
   "execution_count": 2,
   "metadata": {},
   "outputs": [
    {
     "data": {
      "text/plain": [
       "\"\\norder=df.columns.tolist()\\norder.remove('Toxicity')\\norder.remove('Total')\\norder.remove('Response')\\norder.remove('Batch')\\norder.remove('Sequencing Technology')\\n\""
      ]
     },
     "execution_count": 2,
     "metadata": {},
     "output_type": "execute_result"
    }
   ],
   "source": [
    "cutoff = 2\n",
    "#order = ['Memory B cell',  'CD8 effector','NK','Naive B cell','Naive CD8','CD8 central memory','Plasma','Mono', 'CD8 effector memory', 'Tregs','Naive CD4',\n",
    "        #'CD4 effector memory','CD4 central memory']\n",
    "file = '/Users/irffanalahi/Research/Research_update/SoftRD/largerEXP/OurCD8TIL_ranked/melanoma_EMseq_thirdbatch/combined_result/deconresult_gt/fresh/method1Fract_BLU2_majorrankedV1_index.txt_inflectionSM.txt_result_posscore.txt_CSxOut.txt_yale3rdbatch_gt.txt_ctrename.txt'\n",
    "data = pd.read_csv(file, sep='\\t', index_col=0)\n",
    "df = pd.DataFrame(data)\n",
    "\n",
    "order=['iDC', 'Mono', 'mDC', 'NK', 'PMN', 'Megakaryocyte', 'Eosinophil', 'Erythrocyte', 'Mac (M1)', 'CD8TIL', 'Mac (M0)', 'Naive B', 'CD8 TEMRA', 'CD8 TCM', 'Mac (M2)', 'Memory B', 'Tregs', 'CD8 TEM', 'MelTumor', 'CD4 TEM', 'Naive CD4 T',  'Naive CD8 T','CD4 TCM']\n",
    "\n",
    "#order=['NK', 'Bcell', 'Mono', 'CD4', 'CD8']\n",
    "'''\n",
    "order=df.columns.tolist()\n",
    "order.remove('Toxicity')\n",
    "order.remove('Total')\n",
    "order.remove('Response')\n",
    "order.remove('Batch')\n",
    "order.remove('Sequencing Technology')\n",
    "'''\n"
   ]
  },
  {
   "cell_type": "code",
   "execution_count": 3,
   "metadata": {},
   "outputs": [],
   "source": [
    "df = df[df['Toxicity'].notna()]"
   ]
  },
  {
   "cell_type": "code",
   "execution_count": 4,
   "metadata": {},
   "outputs": [
    {
     "data": {
      "text/html": [
       "<div>\n",
       "<style scoped>\n",
       "    .dataframe tbody tr th:only-of-type {\n",
       "        vertical-align: middle;\n",
       "    }\n",
       "\n",
       "    .dataframe tbody tr th {\n",
       "        vertical-align: top;\n",
       "    }\n",
       "\n",
       "    .dataframe thead th {\n",
       "        text-align: right;\n",
       "    }\n",
       "</style>\n",
       "<table border=\"1\" class=\"dataframe\">\n",
       "  <thead>\n",
       "    <tr style=\"text-align: right;\">\n",
       "      <th></th>\n",
       "      <th>Mono</th>\n",
       "      <th>Bcell</th>\n",
       "      <th>CD4</th>\n",
       "      <th>CD8</th>\n",
       "      <th>NK</th>\n",
       "      <th>Response</th>\n",
       "      <th>Toxicity</th>\n",
       "      <th>Toxic</th>\n",
       "    </tr>\n",
       "    <tr>\n",
       "      <th>Mixture</th>\n",
       "      <th></th>\n",
       "      <th></th>\n",
       "      <th></th>\n",
       "      <th></th>\n",
       "      <th></th>\n",
       "      <th></th>\n",
       "      <th></th>\n",
       "      <th></th>\n",
       "    </tr>\n",
       "  </thead>\n",
       "  <tbody>\n",
       "    <tr>\n",
       "      <th>YUBROMO-18-3798-auto</th>\n",
       "      <td>45.044526</td>\n",
       "      <td>14.872779</td>\n",
       "      <td>11.366829</td>\n",
       "      <td>11.248157</td>\n",
       "      <td>17.467710</td>\n",
       "      <td>NaN</td>\n",
       "      <td>3.0</td>\n",
       "      <td>toxicity &gt; 2</td>\n",
       "    </tr>\n",
       "    <tr>\n",
       "      <th>YUGIRL-18-3842-auto</th>\n",
       "      <td>43.311273</td>\n",
       "      <td>12.912803</td>\n",
       "      <td>16.916614</td>\n",
       "      <td>10.373048</td>\n",
       "      <td>16.486261</td>\n",
       "      <td>NaN</td>\n",
       "      <td>0.0</td>\n",
       "      <td>toxicity &lt;= 2</td>\n",
       "    </tr>\n",
       "    <tr>\n",
       "      <th>YUHELIX-12-2576-auto</th>\n",
       "      <td>61.296101</td>\n",
       "      <td>10.179731</td>\n",
       "      <td>11.312070</td>\n",
       "      <td>7.719336</td>\n",
       "      <td>9.492762</td>\n",
       "      <td>DCB</td>\n",
       "      <td>3.0</td>\n",
       "      <td>toxicity &gt; 2</td>\n",
       "    </tr>\n",
       "    <tr>\n",
       "      <th>YUKEID-16-3541-auto</th>\n",
       "      <td>40.302637</td>\n",
       "      <td>12.640917</td>\n",
       "      <td>17.068102</td>\n",
       "      <td>12.540811</td>\n",
       "      <td>17.447532</td>\n",
       "      <td>NaN</td>\n",
       "      <td>3.0</td>\n",
       "      <td>toxicity &gt; 2</td>\n",
       "    </tr>\n",
       "    <tr>\n",
       "      <th>YUPALUS-21-4277-auto</th>\n",
       "      <td>48.196668</td>\n",
       "      <td>13.671154</td>\n",
       "      <td>11.937015</td>\n",
       "      <td>10.158530</td>\n",
       "      <td>16.036634</td>\n",
       "      <td>NDB</td>\n",
       "      <td>4.0</td>\n",
       "      <td>toxicity &gt; 2</td>\n",
       "    </tr>\n",
       "    <tr>\n",
       "      <th>YUPARIO-14-3264-auto</th>\n",
       "      <td>47.067997</td>\n",
       "      <td>12.679146</td>\n",
       "      <td>14.505060</td>\n",
       "      <td>10.603374</td>\n",
       "      <td>15.144422</td>\n",
       "      <td>DCB</td>\n",
       "      <td>3.0</td>\n",
       "      <td>toxicity &gt; 2</td>\n",
       "    </tr>\n",
       "    <tr>\n",
       "      <th>YUPESO-14-3267-auto</th>\n",
       "      <td>42.713235</td>\n",
       "      <td>16.004940</td>\n",
       "      <td>13.165771</td>\n",
       "      <td>11.402146</td>\n",
       "      <td>16.713909</td>\n",
       "      <td>DCB</td>\n",
       "      <td>2.0</td>\n",
       "      <td>toxicity &lt;= 2</td>\n",
       "    </tr>\n",
       "    <tr>\n",
       "      <th>YUROD-17-3671-auto</th>\n",
       "      <td>40.630944</td>\n",
       "      <td>15.481365</td>\n",
       "      <td>12.513455</td>\n",
       "      <td>12.125894</td>\n",
       "      <td>19.248341</td>\n",
       "      <td>DCB</td>\n",
       "      <td>2.0</td>\n",
       "      <td>toxicity &lt;= 2</td>\n",
       "    </tr>\n",
       "    <tr>\n",
       "      <th>YUVITZ-08-656-auto</th>\n",
       "      <td>51.254494</td>\n",
       "      <td>12.590762</td>\n",
       "      <td>12.243678</td>\n",
       "      <td>10.896336</td>\n",
       "      <td>13.014729</td>\n",
       "      <td>DCB</td>\n",
       "      <td>1.0</td>\n",
       "      <td>toxicity &lt;= 2</td>\n",
       "    </tr>\n",
       "    <tr>\n",
       "      <th>YUWHEY-20-4154-auto</th>\n",
       "      <td>42.524171</td>\n",
       "      <td>15.121011</td>\n",
       "      <td>13.857828</td>\n",
       "      <td>11.367768</td>\n",
       "      <td>17.129223</td>\n",
       "      <td>NaN</td>\n",
       "      <td>0.0</td>\n",
       "      <td>toxicity &lt;= 2</td>\n",
       "    </tr>\n",
       "    <tr>\n",
       "      <th>YUWINTER-14-3259-auto</th>\n",
       "      <td>59.385904</td>\n",
       "      <td>9.550598</td>\n",
       "      <td>11.120483</td>\n",
       "      <td>8.338229</td>\n",
       "      <td>11.604786</td>\n",
       "      <td>DCB</td>\n",
       "      <td>2.0</td>\n",
       "      <td>toxicity &lt;= 2</td>\n",
       "    </tr>\n",
       "  </tbody>\n",
       "</table>\n",
       "</div>"
      ],
      "text/plain": [
       "                            Mono      Bcell        CD4        CD8         NK  \\\n",
       "Mixture                                                                        \n",
       "YUBROMO-18-3798-auto   45.044526  14.872779  11.366829  11.248157  17.467710   \n",
       "YUGIRL-18-3842-auto    43.311273  12.912803  16.916614  10.373048  16.486261   \n",
       "YUHELIX-12-2576-auto   61.296101  10.179731  11.312070   7.719336   9.492762   \n",
       "YUKEID-16-3541-auto    40.302637  12.640917  17.068102  12.540811  17.447532   \n",
       "YUPALUS-21-4277-auto   48.196668  13.671154  11.937015  10.158530  16.036634   \n",
       "YUPARIO-14-3264-auto   47.067997  12.679146  14.505060  10.603374  15.144422   \n",
       "YUPESO-14-3267-auto    42.713235  16.004940  13.165771  11.402146  16.713909   \n",
       "YUROD-17-3671-auto     40.630944  15.481365  12.513455  12.125894  19.248341   \n",
       "YUVITZ-08-656-auto     51.254494  12.590762  12.243678  10.896336  13.014729   \n",
       "YUWHEY-20-4154-auto    42.524171  15.121011  13.857828  11.367768  17.129223   \n",
       "YUWINTER-14-3259-auto  59.385904   9.550598  11.120483   8.338229  11.604786   \n",
       "\n",
       "                      Response  Toxicity          Toxic  \n",
       "Mixture                                                  \n",
       "YUBROMO-18-3798-auto       NaN       3.0   toxicity > 2  \n",
       "YUGIRL-18-3842-auto        NaN       0.0  toxicity <= 2  \n",
       "YUHELIX-12-2576-auto       DCB       3.0   toxicity > 2  \n",
       "YUKEID-16-3541-auto        NaN       3.0   toxicity > 2  \n",
       "YUPALUS-21-4277-auto       NDB       4.0   toxicity > 2  \n",
       "YUPARIO-14-3264-auto       DCB       3.0   toxicity > 2  \n",
       "YUPESO-14-3267-auto        DCB       2.0  toxicity <= 2  \n",
       "YUROD-17-3671-auto         DCB       2.0  toxicity <= 2  \n",
       "YUVITZ-08-656-auto         DCB       1.0  toxicity <= 2  \n",
       "YUWHEY-20-4154-auto        NaN       0.0  toxicity <= 2  \n",
       "YUWINTER-14-3259-auto      DCB       2.0  toxicity <= 2  "
      ]
     },
     "execution_count": 4,
     "metadata": {},
     "output_type": "execute_result"
    }
   ],
   "source": [
    "conditions = [(df['Toxicity'] <= cutoff), (df['Toxicity'] > cutoff)]\n",
    "values = ['toxicity <= ' + str(cutoff), 'toxicity > ' + str(cutoff)]\n",
    "df['Toxic'] = np.select(conditions, values)\n",
    "df"
   ]
  },
  {
   "cell_type": "code",
   "execution_count": 5,
   "metadata": {},
   "outputs": [
    {
     "data": {
      "text/plain": [
       "{'NK': -0.032796379112229115,\n",
       " 'Bcell': -0.28165058675720694,\n",
       " 'Mono': 0.18837347957880382,\n",
       " 'CD4': -0.032796379112229115,\n",
       " 'CD8': -0.18837347957880382}"
      ]
     },
     "execution_count": 5,
     "metadata": {},
     "output_type": "execute_result"
    }
   ],
   "source": [
    "p_vals = {}\n",
    "for cell in order:\n",
    "    p_val_list = []\n",
    "    if cell not in ['Toxicity', 'Toxic']:\n",
    "        multi = 1\n",
    "        for i, toxicity in enumerate(values):\n",
    "            y = np.array(df[df['Toxic'] == toxicity][cell])\n",
    "            p_val_list.append(y)\n",
    "        if np.mean(p_val_list[0]) >= np.mean(p_val_list[1]):\n",
    "            multi = -1\n",
    "        p_vals[cell] = -np.log10(mannwhitneyu(p_val_list[0], p_val_list[1], alternative='two-sided')[1]) * multi\n",
    "        \n",
    "p_vals"
   ]
  },
  {
   "cell_type": "code",
   "execution_count": 6,
   "metadata": {},
   "outputs": [
    {
     "data": {
      "text/plain": [
       "'\\ntype(p_vals)\\np_vals={k: v for k, v in sorted(p_vals.items(), key=lambda item: item[1])}\\nprint(p_vals)\\norder=p_vals.keys()\\nprint(order)\\n'"
      ]
     },
     "execution_count": 6,
     "metadata": {},
     "output_type": "execute_result"
    }
   ],
   "source": [
    "'''\n",
    "type(p_vals)\n",
    "p_vals={k: v for k, v in sorted(p_vals.items(), key=lambda item: item[1])}\n",
    "print(p_vals)\n",
    "order=p_vals.keys()\n",
    "print(order)\n",
    "'''"
   ]
  },
  {
   "cell_type": "code",
   "execution_count": 7,
   "metadata": {},
   "outputs": [
    {
     "data": {
      "image/png": "[encoded data removed]",
      "text/plain": [
       "<Figure size 360x360 with 1 Axes>"
      ]
     },
     "metadata": {
      "needs_background": "light"
     },
     "output_type": "display_data"
    }
   ],
   "source": [
    "fig, ax = plt.subplots(1, 1, figsize=(5, 5))\n",
    "for cell in order:\n",
    "    y = p_vals[cell]\n",
    "    if y <= 0:\n",
    "        ax.barh(cell, y, color='r')\n",
    "    else:\n",
    "        ax.barh(cell, y, color='b')\n",
    "        \n",
    "ax.axvline(linewidth=1, color='k')\n",
    "ax.axvline(x=-np.log10(0.05), linewidth=1.5, color='k', ls='--')\n",
    "ax.axvline(x=np.log10(0.05), linewidth=1.5, color='k', ls='--')\n",
    "#ax.annotate('P < 0.05', (0.85, 10), fontsize=12)\n",
    "ax.set_xlabel('-log10(P)')\n",
    "plt.savefig(file+'_cutoff_'+str(cutoff)+'_toxicity_barplot_mean.pdf', bbox_inches='tight')"
   ]
  },
  {
   "cell_type": "code",
   "execution_count": null,
   "metadata": {},
   "outputs": [],
   "source": []
  }
 ],
 "metadata": {
  "kernelspec": {
   "display_name": "Python 3",
   "language": "python",
   "name": "python3"
  },
  "language_info": {
   "codemirror_mode": {
    "name": "ipython",
    "version": 3
   },
   "file_extension": ".py",
   "mimetype": "text/x-python",
   "name": "python",
   "nbconvert_exporter": "python",
   "pygments_lexer": "ipython3",
   "version": "3.6.7"
  }
 },
 "nbformat": 4,
 "nbformat_minor": 4
}
