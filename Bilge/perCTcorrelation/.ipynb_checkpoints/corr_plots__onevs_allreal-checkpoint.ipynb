{
 "cells": [
  {
   "cell_type": "code",
   "execution_count": 1,
   "metadata": {},
   "outputs": [],
   "source": [
    "import pandas as pd\n",
    "import matplotlib.pyplot as plt\n",
    "import numpy as np\n",
    "from scipy.stats import pearsonr\n",
    "from scipy.stats import spearmanr\n",
    "plt.rc('font', family='Arial')"
   ]
  },
  {
   "cell_type": "code",
   "execution_count": 2,
   "metadata": {},
   "outputs": [
    {
     "data": {
      "text/plain": [
       "Index(['NaiveCD4', 'NaiveCD8', 'nB', 'NK', 'PC', 'Mono', 'M0', 'M1', 'M2',\n",
       "       'iDC', 'mDC', 'PMN', 'cm8', 'em8', 'Eo', 'Tregs', 'em4', 'ed8', 'Mg',\n",
       "       'cm4', 'Er', 'mB', 'Mono_real', 'NK_real', 'mB_real', 'nB_real',\n",
       "       'NaiveCD4_real', 'Tregs_real', 'cm4_real', 'em4_real'],\n",
       "      dtype='object')"
      ]
     },
     "execution_count": 2,
     "metadata": {},
     "output_type": "execute_result"
    }
   ],
   "source": [
    "file = '/Users/irffanalahi/Research/Research_update/SoftRD/largerEXP/BL22_tiered/PBMC_decon/All/perectcorr_hardRC_softRC_withmincpg/try1_goodname/flow_corr/Soft RC (mincpg=3)'\n",
    "data = pd.read_csv(file, sep='\\t', index_col=0)\n",
    "df = pd.DataFrame(data)\n",
    "\n",
    "#Cytof\n",
    "#order = ['NaiveCD4','cm4', 'em4','Tregs','NK','Mono','NaiveCD8','cm8','em8','ed8', 'nB','mB']\n",
    "\n",
    "#Flow\n",
    "x='em4'\n",
    "y='em4_real'\n",
    "\n",
    "colors = ['b','c','g','r','m','y','tab:blue','tab:orange','tab:purple','tab:pink','darkviolet','dodgerblue', 'coral', 'brown']\n",
    "\n",
    "row_num = 2\n",
    "col_num = 4\n",
    "\n",
    "df.columns"
   ]
  },
  {
   "cell_type": "code",
   "execution_count": 3,
   "metadata": {},
   "outputs": [],
   "source": [
    "def renamect(act):\n",
    "    if act=='CD4':\n",
    "        return 'Naive CD4 T'\n",
    "    if act=='CD8':\n",
    "        return 'Naive CD8 T'\n",
    "\n",
    "    if act=='NaiveCD4':\n",
    "        return 'Naive CD4 T'\n",
    "    if act=='NaiveCD8':\n",
    "        return 'Naive CD8 T'\n",
    "    if act=='Tr':\n",
    "        return 'Tregs'\n",
    "    if act=='mB':\n",
    "        return 'Memory B'\n",
    "    if act=='nB':\n",
    "        return 'Naive B'\n",
    "    if act=='m4':\n",
    "        return 'Memory CD4 T'\n",
    "    if act=='m8':\n",
    "        return 'Memory CD8 T'\n",
    "    if act=='Mn':\n",
    "        return 'Monocyte'\n",
    "\n",
    "\n",
    "    if act=='em8':\n",
    "        return 'CD8 TEM'\n",
    "    if act=='cm8':\n",
    "        return 'CD8 TCM'\n",
    "\n",
    "    if act=='em4':\n",
    "        return 'CD4 TEM'\n",
    "    if act=='cm4':\n",
    "        return 'CD4 TCM'\n",
    "\n",
    "\n",
    "    if act=='ed8':\n",
    "        return 'CD8 TEMRA'\n",
    "\n",
    "    if act=='PC':\n",
    "        return 'PC'\n",
    "\n",
    "    if act=='M0':\n",
    "        return 'Mac (M0)'\n",
    "\n",
    "    if act=='M1':\n",
    "        return 'Mac (M1)'\n",
    "\n",
    "    if act=='M2':\n",
    "        return 'Mac (M2)'\n",
    "    if act=='Eo':\n",
    "        return 'Eos'\n",
    "\n",
    "    if act=='Mg':\n",
    "        return 'MK'\n",
    "\n",
    "\n",
    "\n",
    "\n",
    "    return act"
   ]
  },
  {
   "cell_type": "code",
   "execution_count": null,
   "metadata": {},
   "outputs": [],
   "source": [
    "R = np.around(pearsonr(df[x], df[y])[0], decimals=2)\n",
    "rho = np.around(spearmanr(df[x], df[y])[0], decimals=2)"
   ]
  },
  {
   "cell_type": "code",
   "execution_count": 5,
   "metadata": {},
   "outputs": [],
   "source": [
    "fig.savefig(file +'_'+x+'_'+y+'.pdf', dpi=300, bbox_inches='tight')"
   ]
  },
  {
   "cell_type": "code",
   "execution_count": null,
   "metadata": {},
   "outputs": [],
   "source": []
  },
  {
   "cell_type": "code",
   "execution_count": null,
   "metadata": {},
   "outputs": [],
   "source": []
  }
 ],
 "metadata": {
  "kernelspec": {
   "display_name": "Python 3",
   "language": "python",
   "name": "python3"
  },
  "language_info": {
   "codemirror_mode": {
    "name": "ipython",
    "version": 3
   },
   "file_extension": ".py",
   "mimetype": "text/x-python",
   "name": "python",
   "nbconvert_exporter": "python",
   "pygments_lexer": "ipython3",
   "version": "3.6.7"
  }
 },
 "nbformat": 4,
 "nbformat_minor": 4
}
