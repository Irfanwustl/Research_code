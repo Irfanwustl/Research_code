{
 "cells": [
  {
   "cell_type": "code",
   "execution_count": 1,
   "metadata": {},
   "outputs": [],
   "source": [
    "import pandas as pd\n",
    "import matplotlib.pyplot as plt\n",
    "import numpy as np\n",
    "import seaborn as sns\n",
    "from scipy.stats import pearsonr\n",
    "from scipy.stats import spearmanr\n",
    "from matplotlib.offsetbox import AnchoredText\n",
    "plt.rc('font', family='Arial')"
   ]
  },
  {
   "cell_type": "code",
   "execution_count": 2,
   "metadata": {},
   "outputs": [
    {
     "data": {
      "text/plain": [
       "Index(['NaiveCD4', 'nB', 'NK', 'Mono', 'M0', 'M1', 'M2', 'iDC', 'mDC', 'PMN',\n",
       "       'cm8', 'em8', 'Eo', 'Tregs', 'em4', 'ed8', 'Mg', 'cm4', 'Er', 'mB',\n",
       "       'Mono_real', 'NK_real', 'mB_real', 'nB_real', 'NaiveCD4_real',\n",
       "       'Tregs_real', 'cm4_real', 'em4_real'],\n",
       "      dtype='object')"
      ]
     },
     "execution_count": 2,
     "metadata": {},
     "output_type": "execute_result"
    }
   ],
   "source": [
    "file = '/Users/irffanalahi/Research/Research_update/SoftRD/largerEXP/BL22_tiered/PBMC_decon/All/perectcorr_hardRC_softRC_withmincpg/try1_goodname/CD4TCM_TEM/Soft_RC_flow.txt'\n",
    "data = pd.read_csv(file, sep='\\t', index_col=0)\n",
    "df = pd.DataFrame(data)\n",
    "\n",
    "#Cytof\n",
    "#order = ['NaiveCD4','cm4', 'em4','Tregs','NK','Mono','NaiveCD8','cm8','em8','ed8', 'nB','mB']\n",
    "\n",
    "#Flow\n",
    "\n",
    "x='cm4_real'\n",
    "y='em4'\n",
    "\n",
    "colors = ['b','c','g','r','m','y','tab:blue','tab:orange','tab:purple','tab:pink','darkviolet','dodgerblue', 'coral', 'brown']\n",
    "\n",
    "row_num = 2\n",
    "col_num = 4\n",
    "\n",
    "df.columns"
   ]
  },
  {
   "cell_type": "code",
   "execution_count": 3,
   "metadata": {},
   "outputs": [],
   "source": [
    "def renamect(act):\n",
    "    if act=='CD4':\n",
    "        return 'Naive CD4 T'\n",
    "    if act=='CD8':\n",
    "        return 'Naive CD8 T'\n",
    "\n",
    "    if act=='NaiveCD4':\n",
    "        return 'Naive CD4 T'\n",
    "    if act=='NaiveCD8':\n",
    "        return 'Naive CD8 T'\n",
    "    if act=='Tr':\n",
    "        return 'Tregs'\n",
    "    if act=='mB':\n",
    "        return 'Memory B'\n",
    "    if act=='nB':\n",
    "        return 'Naive B'\n",
    "    if act=='m4':\n",
    "        return 'Memory CD4 T'\n",
    "    if act=='m8':\n",
    "        return 'Memory CD8 T'\n",
    "    if act=='Mn':\n",
    "        return 'Monocyte'\n",
    "\n",
    "\n",
    "    if act=='em8':\n",
    "        return 'CD8 TEM'\n",
    "    if act=='cm8':\n",
    "        return 'CD8 TCM'\n",
    "\n",
    "    if act=='em4':\n",
    "        return 'CD4 TEM'\n",
    "    if act=='cm4':\n",
    "        return 'CD4 TCM'\n",
    "\n",
    "\n",
    "    if act=='ed8':\n",
    "        return 'CD8 TEMRA'\n",
    "\n",
    "    if act=='PC':\n",
    "        return 'PC'\n",
    "\n",
    "    if act=='M0':\n",
    "        return 'Mac (M0)'\n",
    "\n",
    "    if act=='M1':\n",
    "        return 'Mac (M1)'\n",
    "\n",
    "    if act=='M2':\n",
    "        return 'Mac (M2)'\n",
    "    if act=='Eo':\n",
    "        return 'Eos'\n",
    "\n",
    "    if act=='Mg':\n",
    "        return 'MK'\n",
    "\n",
    "\n",
    "\n",
    "\n",
    "    return act"
   ]
  },
  {
   "cell_type": "code",
   "execution_count": 4,
   "metadata": {},
   "outputs": [],
   "source": [
    "R = np.around(pearsonr(df[x], df[y])[0], decimals=2)\n",
    "rho = np.around(spearmanr(df[x], df[y])[0], decimals=2)"
   ]
  },
  {
   "cell_type": "code",
   "execution_count": 5,
   "metadata": {},
   "outputs": [
    {
     "name": "stderr",
     "output_type": "stream",
     "text": [
      "/Library/Frameworks/Python.framework/Versions/3.6/lib/python3.6/site-packages/seaborn/_decorators.py:43: FutureWarning: Pass the following variables as keyword args: x, y. From version 0.12, the only valid positional argument will be `data`, and passing other arguments without an explicit keyword will result in an error or misinterpretation.\n",
      "  FutureWarning\n",
      "/Library/Frameworks/Python.framework/Versions/3.6/lib/python3.6/site-packages/seaborn/_decorators.py:43: FutureWarning: Pass the following variables as keyword args: x, y. From version 0.12, the only valid positional argument will be `data`, and passing other arguments without an explicit keyword will result in an error or misinterpretation.\n",
      "  FutureWarning\n"
     ]
    },
    {
     "data": {
      "image/png": "[encoded data removed]",
      "text/plain": [
       "<Figure size 432x288 with 1 Axes>"
      ]
     },
     "metadata": {
      "needs_background": "light"
     },
     "output_type": "display_data"
    }
   ],
   "source": [
    "ax=sns.scatterplot(df[x], df[y])\n",
    "xi = np.array(df[x])\n",
    "yi = np.array(df[y])\n",
    "\n",
    "m, b = np.polyfit(xi, yi, deg=1)\n",
    "y_fit = m * xi + b\n",
    "\n",
    "#ax=sns.regplot(df[x], df[y]\n",
    "\n",
    "ax=sns.regplot(df[x], df[y],scatter=False,ci = None)\n",
    "\n",
    "text='$\\it{R = }$' + str(R)+\", $\\it{rho = }$\"+str(rho)\n",
    "\n",
    "anc = AnchoredText(text, loc=\"upper left\", frameon=False,prop=dict(fontsize=18))\n",
    "ax.add_artist(anc)\n",
    "plt.savefig(file +'_'+x+'_'+y+'.pdf', dpi=300, bbox_inches='tight')\n",
    "#plt.text(0.05, 0.9, '$\\it{R = }$' + str(R)+\", $\\it{rho = }$\"+str(rho), horizontalalignment='left', verticalalignment='bottom', fontsize=30)"
   ]
  },
  {
   "cell_type": "code",
   "execution_count": null,
   "metadata": {},
   "outputs": [],
   "source": []
  },
  {
   "cell_type": "code",
   "execution_count": null,
   "metadata": {},
   "outputs": [],
   "source": []
  },
  {
   "cell_type": "code",
   "execution_count": null,
   "metadata": {},
   "outputs": [],
   "source": []
  }
 ],
 "metadata": {
  "kernelspec": {
   "display_name": "Python 3",
   "language": "python",
   "name": "python3"
  },
  "language_info": {
   "codemirror_mode": {
    "name": "ipython",
    "version": 3
   },
   "file_extension": ".py",
   "mimetype": "text/x-python",
   "name": "python",
   "nbconvert_exporter": "python",
   "pygments_lexer": "ipython3",
   "version": "3.6.7"
  }
 },
 "nbformat": 4,
 "nbformat_minor": 4
}
