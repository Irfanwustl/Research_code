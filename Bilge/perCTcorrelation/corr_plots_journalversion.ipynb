{
 "cells": [
  {
   "cell_type": "code",
   "execution_count": 1,
   "metadata": {},
   "outputs": [],
   "source": [
    "import pandas as pd\n",
    "import matplotlib.pyplot as plt\n",
    "import numpy as np\n",
    "from scipy.stats import pearsonr\n",
    "from scipy.stats import spearmanr\n",
    "plt.rc('font', family='Arial')"
   ]
  },
  {
   "cell_type": "code",
   "execution_count": 2,
   "metadata": {},
   "outputs": [
    {
     "data": {
      "text/plain": [
       "Index(['NaiveCD4', 'NaiveCD8', 'nB', 'NK', 'PC', 'Mono', 'M0', 'M1', 'M2',\n",
       "       'iDC', 'mDC', 'PMN', 'cm8', 'em8', 'Eo', 'Tregs', 'em4', 'ed8', 'Mg',\n",
       "       'cm4', 'Er', 'mB', 'Mono_real', 'NK_real', 'mB_real', 'nB_real',\n",
       "       'NaiveCD4_real', 'NaiveCD8_real', 'Tregs_real', 'cm4_real', 'em4_real',\n",
       "       'cm8_real', 'em8_real', 'ed8_real', 'PC_real'],\n",
       "      dtype='object')"
      ]
     },
     "execution_count": 2,
     "metadata": {},
     "output_type": "execute_result"
    }
   ],
   "source": [
    "file = '/Users/irffanalahi/Research/Research_update/SoftRD/largerEXP/BL22_tiered/PBMC_decon/trytoreproduce_em4_cm4/perctcorr/hardrc/cm4_mean_result_dupindex_binnedstats.pkl_pattern.5_mincpg3_CSxOut.txt_1stflow_7samples_fixedDCm4trfixed_morect_8subsetANDPCfromcytof.txt'\n",
    "data = pd.read_csv(file, sep='\\t', index_col=0)\n",
    "df = pd.DataFrame(data)\n",
    "\n",
    "#Cytof\n",
    "#order = ['NaiveCD4','cm4', 'em4','Tregs','NK','Mono','NaiveCD8','cm8','em8','ed8', 'nB','mB']\n",
    "\n",
    "#Flow\n",
    "#order = ['NaiveCD4','cm4', 'em4','Tregs','NK','Mono', 'nB','mB']\n",
    "\n",
    "order = ['cm4']\n",
    "\n",
    "colors = ['b','c','g','r','m','y','tab:blue','tab:orange','tab:purple','tab:pink','darkviolet','dodgerblue', 'coral', 'brown']\n",
    "\n",
    "row_num = 1\n",
    "col_num = 1\n",
    "\n",
    "df.columns"
   ]
  },
  {
   "cell_type": "code",
   "execution_count": 3,
   "metadata": {},
   "outputs": [],
   "source": [
    "def renamect(act):\n",
    "    if act=='CD4':\n",
    "        return 'Naive CD4 T'\n",
    "    if act=='CD8':\n",
    "        return 'Naive CD8 T'\n",
    "\n",
    "    if act=='NaiveCD4':\n",
    "        return 'Naive CD4 T'\n",
    "    if act=='NaiveCD8':\n",
    "        return 'Naive CD8 T'\n",
    "    if act=='Tr':\n",
    "        return 'Tregs'\n",
    "    if act=='mB':\n",
    "        return 'Memory B'\n",
    "    if act=='nB':\n",
    "        return 'Naive B'\n",
    "    if act=='m4':\n",
    "        return 'Memory CD4 T'\n",
    "    if act=='m8':\n",
    "        return 'Memory CD8 T'\n",
    "    if act=='Mn':\n",
    "        return 'Monocyte'\n",
    "\n",
    "\n",
    "    if act=='em8':\n",
    "        return 'CD8 TEM'\n",
    "    if act=='cm8':\n",
    "        return 'CD8 TCM'\n",
    "\n",
    "    if act=='em4':\n",
    "        return 'CD4 TEM'\n",
    "    if act=='cm4':\n",
    "        return 'CD4 TCM'\n",
    "\n",
    "\n",
    "    if act=='ed8':\n",
    "        return 'CD8 TEMRA'\n",
    "\n",
    "    if act=='PC':\n",
    "        return 'PC'\n",
    "\n",
    "    if act=='M0':\n",
    "        return 'Mac (M0)'\n",
    "\n",
    "    if act=='M1':\n",
    "        return 'Mac (M1)'\n",
    "\n",
    "    if act=='M2':\n",
    "        return 'Mac (M2)'\n",
    "    if act=='Eo':\n",
    "        return 'Eos'\n",
    "\n",
    "    if act=='Mg':\n",
    "        return 'MK'\n",
    "\n",
    "\n",
    "\n",
    "\n",
    "    return act"
   ]
  },
  {
   "cell_type": "code",
   "execution_count": 4,
   "metadata": {},
   "outputs": [
    {
     "name": "stdout",
     "output_type": "stream",
     "text": [
      "0 0\n"
     ]
    },
    {
     "ename": "TypeError",
     "evalue": "'AxesSubplot' object does not support indexing",
     "output_type": "error",
     "traceback": [
      "\u001b[0;31m---------------------------------------------------------------------------\u001b[0m",
      "\u001b[0;31mTypeError\u001b[0m                                 Traceback (most recent call last)",
      "\u001b[0;32m<ipython-input-4-95fae78e8687>\u001b[0m in \u001b[0;36m<module>\u001b[0;34m\u001b[0m\n\u001b[1;32m     12\u001b[0m     \u001b[0mR\u001b[0m \u001b[0;34m=\u001b[0m \u001b[0mnp\u001b[0m\u001b[0;34m.\u001b[0m\u001b[0maround\u001b[0m\u001b[0;34m(\u001b[0m\u001b[0mpearsonr\u001b[0m\u001b[0;34m(\u001b[0m\u001b[0mx\u001b[0m\u001b[0;34m,\u001b[0m \u001b[0my\u001b[0m\u001b[0;34m)\u001b[0m\u001b[0;34m[\u001b[0m\u001b[0;36m0\u001b[0m\u001b[0;34m]\u001b[0m\u001b[0;34m,\u001b[0m \u001b[0mdecimals\u001b[0m\u001b[0;34m=\u001b[0m\u001b[0;36m2\u001b[0m\u001b[0;34m)\u001b[0m\u001b[0;34m\u001b[0m\u001b[0;34m\u001b[0m\u001b[0m\n\u001b[1;32m     13\u001b[0m     \u001b[0mrho\u001b[0m \u001b[0;34m=\u001b[0m \u001b[0mnp\u001b[0m\u001b[0;34m.\u001b[0m\u001b[0maround\u001b[0m\u001b[0;34m(\u001b[0m\u001b[0mspearmanr\u001b[0m\u001b[0;34m(\u001b[0m\u001b[0mx\u001b[0m\u001b[0;34m,\u001b[0m \u001b[0my\u001b[0m\u001b[0;34m)\u001b[0m\u001b[0;34m[\u001b[0m\u001b[0;36m0\u001b[0m\u001b[0;34m]\u001b[0m\u001b[0;34m,\u001b[0m \u001b[0mdecimals\u001b[0m\u001b[0;34m=\u001b[0m\u001b[0;36m2\u001b[0m\u001b[0;34m)\u001b[0m\u001b[0;34m\u001b[0m\u001b[0;34m\u001b[0m\u001b[0m\n\u001b[0;32m---> 14\u001b[0;31m     \u001b[0;32mif\u001b[0m \u001b[0mc\u001b[0m \u001b[0;34m>=\u001b[0m \u001b[0mlen\u001b[0m\u001b[0;34m(\u001b[0m\u001b[0maxs\u001b[0m\u001b[0;34m[\u001b[0m\u001b[0;36m0\u001b[0m\u001b[0;34m]\u001b[0m\u001b[0;34m)\u001b[0m\u001b[0;34m:\u001b[0m\u001b[0;34m\u001b[0m\u001b[0;34m\u001b[0m\u001b[0m\n\u001b[0m\u001b[1;32m     15\u001b[0m         \u001b[0mc\u001b[0m \u001b[0;34m=\u001b[0m \u001b[0;36m0\u001b[0m\u001b[0;34m\u001b[0m\u001b[0;34m\u001b[0m\u001b[0m\n\u001b[1;32m     16\u001b[0m         \u001b[0mr\u001b[0m \u001b[0;34m+=\u001b[0m \u001b[0;36m1\u001b[0m\u001b[0;34m\u001b[0m\u001b[0;34m\u001b[0m\u001b[0m\n",
      "\u001b[0;31mTypeError\u001b[0m: 'AxesSubplot' object does not support indexing"
     ]
    },
    {
     "data": {
      "image/png": "[encoded data removed]",
      "text/plain": [
       "<Figure size 504x504 with 1 Axes>"
      ]
     },
     "metadata": {
      "needs_background": "light"
     },
     "output_type": "display_data"
    }
   ],
   "source": [
    "fig, axs = plt.subplots(row_num, col_num, figsize=(col_num * 7, row_num * 7))\n",
    "fig.tight_layout(pad=10)\n",
    "\n",
    "r = 0\n",
    "c = 0\n",
    "for i, cell in enumerate(order):\n",
    "    print(r, c)\n",
    "    x = np.array(df[cell + '_real'])\n",
    "    y = np.array(df[cell])\n",
    "    m, b = np.polyfit(x, y, deg=1)\n",
    "    y_fit = m * x + b\n",
    "    R = np.around(pearsonr(x, y)[0], decimals=2)\n",
    "    rho = np.around(spearmanr(x, y)[0], decimals=2)\n",
    "    if c >= len(axs[0]):\n",
    "        c = 0\n",
    "        r += 1\n",
    "    axs[r][c].scatter(x, y, c=colors[i], s=170)\n",
    "    axs[r][c].plot(x, y_fit, c='k', alpha=0.7, lw=3)\n",
    "    axs[r][c].set_title(renamect(cell), fontsize=30, pad=20)\n",
    "    xticks = axs[r][c].get_xticks()\n",
    "    axs[r][c].set_xticks([xticks[0], (xticks[0] + xticks[-1])/2, xticks[-1]])\n",
    "    yticks = axs[r][c].get_yticks()\n",
    "    axs[r][c].set_yticks([yticks[0], (yticks[0] + yticks[-1])/2, yticks[-1]])\n",
    "    axs[r][c].tick_params(axis='both', labelsize=24, pad=15, direction='out', length=10, width=2)\n",
    "    for axis in ['top','bottom','left','right']:\n",
    "        axs[r][c].spines[axis].set_linewidth(2)\n",
    "    axs[r][c].text(0.05, 0.9, '$\\it{R = }$' + str(R)+\", $\\it{rho = }$\"+str(rho), horizontalalignment='left', verticalalignment='bottom', fontsize=30, transform=axs[r][c].transAxes)\n",
    "    #axs[r][c].annotate('0.25 on axes', (0.25, 0.25), textcoords='axes fraction', size=20)\n",
    "    #axs[r][c].text(0.5, 0.5, 'R = ' + str(R), size=24, ha='left', va='top')\n",
    "    #plt.annotate('R = ' + str(R), xy=(0.9, 0.1), xycoords='axes fraction')\n",
    "    axs[r][c].spines['right'].set_visible(False)\n",
    "    axs[r][c].spines['top'].set_visible(False)\n",
    "    c += 1\n",
    "\n",
    "'''\n",
    "plt.annotate('', xy=(-1.3, -0.29), xycoords='axes fraction', xytext=(1.0, -0.29), fontsize=18, ha='left',\n",
    "            arrowprops=dict(arrowstyle=\"-\", color='k', lw=2))\n",
    "plt.annotate('', xy=(1.0, -0.35), xycoords='axes fraction', xytext=(1.0, -0.23), fontsize=18, ha='left',\n",
    "            arrowprops=dict(arrowstyle=\"-\", color='k', lw=2))\n",
    "\n",
    "plt.annotate('', xy=(-5.485, -0.35), xycoords='axes fraction', xytext=(-5.485, -0.23), fontsize=18, ha='left',\n",
    "            arrowprops=dict(arrowstyle=\"-\", color='k', lw=2))\n",
    "plt.annotate('', xy=(-5.485, -0.29), xycoords='axes fraction', xytext=(-3.2, -0.29), fontsize=18, ha='left',\n",
    "            arrowprops=dict(arrowstyle=\"-\", color='k', lw=2))\n",
    "\n",
    "plt.annotate('', xy=(-5.767, 0.0), xycoords='axes fraction', xytext=(-5.767, 0.7), fontsize=18, ha='left',\n",
    "            arrowprops=dict(arrowstyle=\"-\", color='k', lw=2))\n",
    "plt.annotate('', xy=(-5.707, 0.0), xycoords='axes fraction', xytext=(-5.827, 0.0), fontsize=18, ha='left',\n",
    "            arrowprops=dict(arrowstyle=\"-\", color='k', lw=2))\n",
    "\n",
    "plt.annotate('', xy=(-5.767, 1.6), xycoords='axes fraction', xytext=(-5.767, 2.365), fontsize=18, ha='left',\n",
    "            arrowprops=dict(arrowstyle=\"-\", color='k', lw=2))\n",
    "plt.annotate('', xy=(-5.707, 2.365), xycoords='axes fraction', xytext=(-5.827, 2.365), fontsize=18, ha='left',\n",
    "            arrowprops=dict(arrowstyle=\"-\", color='k', lw=2))\n",
    "#fig.text(0.45, 0.055, '_____________________________________________________________________', ha='right', va='center', size=35)\n",
    "#fig.text(0.55, 0.055, '_____________________________________________________________________', ha='left', va='center', size=35)\n",
    "\n",
    "#fig.text(-0.005, 0.85, '____________', ha='center', va='top', rotation='vertical', size=35)\n",
    "#fig.text(-0.005, 0.17, '___________', ha='center', va='bottom', rotation='vertical', size=35)\n",
    "'''\n",
    "fig.text(0.5, 0.02, 'Flow', ha='center', va='center', size=35)\n",
    "fig.text(0.008, 0.5, 'soft RC score (mincpg=3)', ha='center', va='center', rotation='vertical', size=35)"
   ]
  },
  {
   "cell_type": "code",
   "execution_count": null,
   "metadata": {},
   "outputs": [],
   "source": [
    "fig.savefig(file + '_figure_combined_cell.pdf', dpi=300, bbox_inches='tight')"
   ]
  },
  {
   "cell_type": "code",
   "execution_count": null,
   "metadata": {},
   "outputs": [],
   "source": []
  },
  {
   "cell_type": "code",
   "execution_count": null,
   "metadata": {},
   "outputs": [],
   "source": []
  }
 ],
 "metadata": {
  "kernelspec": {
   "display_name": "Python 3",
   "language": "python",
   "name": "python3"
  },
  "language_info": {
   "codemirror_mode": {
    "name": "ipython",
    "version": 3
   },
   "file_extension": ".py",
   "mimetype": "text/x-python",
   "name": "python",
   "nbconvert_exporter": "python",
   "pygments_lexer": "ipython3",
   "version": "3.6.7"
  }
 },
 "nbformat": 4,
 "nbformat_minor": 4
}
