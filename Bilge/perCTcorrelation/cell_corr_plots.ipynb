{
 "cells": [
  {
   "cell_type": "code",
   "execution_count": 1,
   "metadata": {},
   "outputs": [],
   "source": [
    "import numpy as np\n",
    "import pandas as pd\n",
    "import matplotlib.pyplot as plt\n",
    "from random import randint\n",
    "import os"
   ]
  },
  {
   "cell_type": "code",
   "execution_count": 2,
   "metadata": {},
   "outputs": [
    {
     "ename": "FileNotFoundError",
     "evalue": "[Errno 2] File correlation_CS/pearson_comCD8.txt does not exist: 'correlation_CS/pearson_comCD8.txt'",
     "output_type": "error",
     "traceback": [
      "\u001b[0;31m---------------------------------------------------------------------------\u001b[0m",
      "\u001b[0;31mFileNotFoundError\u001b[0m                         Traceback (most recent call last)",
      "\u001b[0;32m<ipython-input-2-4dd82b9b5da8>\u001b[0m in \u001b[0;36m<module>\u001b[0;34m\u001b[0m\n\u001b[1;32m      5\u001b[0m \u001b[0mspearman_file\u001b[0m \u001b[0;34m=\u001b[0m \u001b[0;34m'correlation_CS/spearman_comCD8.txt'\u001b[0m\u001b[0;34m\u001b[0m\u001b[0;34m\u001b[0m\u001b[0m\n\u001b[1;32m      6\u001b[0m \u001b[0;34m\u001b[0m\u001b[0m\n\u001b[0;32m----> 7\u001b[0;31m \u001b[0mp_data\u001b[0m \u001b[0;34m=\u001b[0m \u001b[0mpd\u001b[0m\u001b[0;34m.\u001b[0m\u001b[0mread_csv\u001b[0m\u001b[0;34m(\u001b[0m\u001b[0mpearson_file\u001b[0m\u001b[0;34m,\u001b[0m \u001b[0msep\u001b[0m\u001b[0;34m=\u001b[0m\u001b[0;34m'\\t'\u001b[0m\u001b[0;34m,\u001b[0m \u001b[0mindex_col\u001b[0m\u001b[0;34m=\u001b[0m\u001b[0;36m0\u001b[0m\u001b[0;34m)\u001b[0m\u001b[0;34m\u001b[0m\u001b[0;34m\u001b[0m\u001b[0m\n\u001b[0m\u001b[1;32m      8\u001b[0m \u001b[0ms_data\u001b[0m \u001b[0;34m=\u001b[0m \u001b[0mpd\u001b[0m\u001b[0;34m.\u001b[0m\u001b[0mread_csv\u001b[0m\u001b[0;34m(\u001b[0m\u001b[0mspearman_file\u001b[0m\u001b[0;34m,\u001b[0m \u001b[0msep\u001b[0m\u001b[0;34m=\u001b[0m\u001b[0;34m'\\t'\u001b[0m\u001b[0;34m,\u001b[0m \u001b[0mindex_col\u001b[0m\u001b[0;34m=\u001b[0m\u001b[0;36m0\u001b[0m\u001b[0;34m)\u001b[0m\u001b[0;34m\u001b[0m\u001b[0;34m\u001b[0m\u001b[0m\n\u001b[1;32m      9\u001b[0m \u001b[0;34m\u001b[0m\u001b[0m\n",
      "\u001b[0;32m/Library/Frameworks/Python.framework/Versions/3.6/lib/python3.6/site-packages/pandas/io/parsers.py\u001b[0m in \u001b[0;36mparser_f\u001b[0;34m(filepath_or_buffer, sep, delimiter, header, names, index_col, usecols, squeeze, prefix, mangle_dupe_cols, dtype, engine, converters, true_values, false_values, skipinitialspace, skiprows, skipfooter, nrows, na_values, keep_default_na, na_filter, verbose, skip_blank_lines, parse_dates, infer_datetime_format, keep_date_col, date_parser, dayfirst, cache_dates, iterator, chunksize, compression, thousands, decimal, lineterminator, quotechar, quoting, doublequote, escapechar, comment, encoding, dialect, error_bad_lines, warn_bad_lines, delim_whitespace, low_memory, memory_map, float_precision)\u001b[0m\n\u001b[1;32m    674\u001b[0m         )\n\u001b[1;32m    675\u001b[0m \u001b[0;34m\u001b[0m\u001b[0m\n\u001b[0;32m--> 676\u001b[0;31m         \u001b[0;32mreturn\u001b[0m \u001b[0m_read\u001b[0m\u001b[0;34m(\u001b[0m\u001b[0mfilepath_or_buffer\u001b[0m\u001b[0;34m,\u001b[0m \u001b[0mkwds\u001b[0m\u001b[0;34m)\u001b[0m\u001b[0;34m\u001b[0m\u001b[0;34m\u001b[0m\u001b[0m\n\u001b[0m\u001b[1;32m    677\u001b[0m \u001b[0;34m\u001b[0m\u001b[0m\n\u001b[1;32m    678\u001b[0m     \u001b[0mparser_f\u001b[0m\u001b[0;34m.\u001b[0m\u001b[0m__name__\u001b[0m \u001b[0;34m=\u001b[0m \u001b[0mname\u001b[0m\u001b[0;34m\u001b[0m\u001b[0;34m\u001b[0m\u001b[0m\n",
      "\u001b[0;32m/Library/Frameworks/Python.framework/Versions/3.6/lib/python3.6/site-packages/pandas/io/parsers.py\u001b[0m in \u001b[0;36m_read\u001b[0;34m(filepath_or_buffer, kwds)\u001b[0m\n\u001b[1;32m    446\u001b[0m \u001b[0;34m\u001b[0m\u001b[0m\n\u001b[1;32m    447\u001b[0m     \u001b[0;31m# Create the parser.\u001b[0m\u001b[0;34m\u001b[0m\u001b[0;34m\u001b[0m\u001b[0;34m\u001b[0m\u001b[0m\n\u001b[0;32m--> 448\u001b[0;31m     \u001b[0mparser\u001b[0m \u001b[0;34m=\u001b[0m \u001b[0mTextFileReader\u001b[0m\u001b[0;34m(\u001b[0m\u001b[0mfp_or_buf\u001b[0m\u001b[0;34m,\u001b[0m \u001b[0;34m**\u001b[0m\u001b[0mkwds\u001b[0m\u001b[0;34m)\u001b[0m\u001b[0;34m\u001b[0m\u001b[0;34m\u001b[0m\u001b[0m\n\u001b[0m\u001b[1;32m    449\u001b[0m \u001b[0;34m\u001b[0m\u001b[0m\n\u001b[1;32m    450\u001b[0m     \u001b[0;32mif\u001b[0m \u001b[0mchunksize\u001b[0m \u001b[0;32mor\u001b[0m \u001b[0miterator\u001b[0m\u001b[0;34m:\u001b[0m\u001b[0;34m\u001b[0m\u001b[0;34m\u001b[0m\u001b[0m\n",
      "\u001b[0;32m/Library/Frameworks/Python.framework/Versions/3.6/lib/python3.6/site-packages/pandas/io/parsers.py\u001b[0m in \u001b[0;36m__init__\u001b[0;34m(self, f, engine, **kwds)\u001b[0m\n\u001b[1;32m    878\u001b[0m             \u001b[0mself\u001b[0m\u001b[0;34m.\u001b[0m\u001b[0moptions\u001b[0m\u001b[0;34m[\u001b[0m\u001b[0;34m\"has_index_names\"\u001b[0m\u001b[0;34m]\u001b[0m \u001b[0;34m=\u001b[0m \u001b[0mkwds\u001b[0m\u001b[0;34m[\u001b[0m\u001b[0;34m\"has_index_names\"\u001b[0m\u001b[0;34m]\u001b[0m\u001b[0;34m\u001b[0m\u001b[0;34m\u001b[0m\u001b[0m\n\u001b[1;32m    879\u001b[0m \u001b[0;34m\u001b[0m\u001b[0m\n\u001b[0;32m--> 880\u001b[0;31m         \u001b[0mself\u001b[0m\u001b[0;34m.\u001b[0m\u001b[0m_make_engine\u001b[0m\u001b[0;34m(\u001b[0m\u001b[0mself\u001b[0m\u001b[0;34m.\u001b[0m\u001b[0mengine\u001b[0m\u001b[0;34m)\u001b[0m\u001b[0;34m\u001b[0m\u001b[0;34m\u001b[0m\u001b[0m\n\u001b[0m\u001b[1;32m    881\u001b[0m \u001b[0;34m\u001b[0m\u001b[0m\n\u001b[1;32m    882\u001b[0m     \u001b[0;32mdef\u001b[0m \u001b[0mclose\u001b[0m\u001b[0;34m(\u001b[0m\u001b[0mself\u001b[0m\u001b[0;34m)\u001b[0m\u001b[0;34m:\u001b[0m\u001b[0;34m\u001b[0m\u001b[0;34m\u001b[0m\u001b[0m\n",
      "\u001b[0;32m/Library/Frameworks/Python.framework/Versions/3.6/lib/python3.6/site-packages/pandas/io/parsers.py\u001b[0m in \u001b[0;36m_make_engine\u001b[0;34m(self, engine)\u001b[0m\n\u001b[1;32m   1112\u001b[0m     \u001b[0;32mdef\u001b[0m \u001b[0m_make_engine\u001b[0m\u001b[0;34m(\u001b[0m\u001b[0mself\u001b[0m\u001b[0;34m,\u001b[0m \u001b[0mengine\u001b[0m\u001b[0;34m=\u001b[0m\u001b[0;34m\"c\"\u001b[0m\u001b[0;34m)\u001b[0m\u001b[0;34m:\u001b[0m\u001b[0;34m\u001b[0m\u001b[0;34m\u001b[0m\u001b[0m\n\u001b[1;32m   1113\u001b[0m         \u001b[0;32mif\u001b[0m \u001b[0mengine\u001b[0m \u001b[0;34m==\u001b[0m \u001b[0;34m\"c\"\u001b[0m\u001b[0;34m:\u001b[0m\u001b[0;34m\u001b[0m\u001b[0;34m\u001b[0m\u001b[0m\n\u001b[0;32m-> 1114\u001b[0;31m             \u001b[0mself\u001b[0m\u001b[0;34m.\u001b[0m\u001b[0m_engine\u001b[0m \u001b[0;34m=\u001b[0m \u001b[0mCParserWrapper\u001b[0m\u001b[0;34m(\u001b[0m\u001b[0mself\u001b[0m\u001b[0;34m.\u001b[0m\u001b[0mf\u001b[0m\u001b[0;34m,\u001b[0m \u001b[0;34m**\u001b[0m\u001b[0mself\u001b[0m\u001b[0;34m.\u001b[0m\u001b[0moptions\u001b[0m\u001b[0;34m)\u001b[0m\u001b[0;34m\u001b[0m\u001b[0;34m\u001b[0m\u001b[0m\n\u001b[0m\u001b[1;32m   1115\u001b[0m         \u001b[0;32melse\u001b[0m\u001b[0;34m:\u001b[0m\u001b[0;34m\u001b[0m\u001b[0;34m\u001b[0m\u001b[0m\n\u001b[1;32m   1116\u001b[0m             \u001b[0;32mif\u001b[0m \u001b[0mengine\u001b[0m \u001b[0;34m==\u001b[0m \u001b[0;34m\"python\"\u001b[0m\u001b[0;34m:\u001b[0m\u001b[0;34m\u001b[0m\u001b[0;34m\u001b[0m\u001b[0m\n",
      "\u001b[0;32m/Library/Frameworks/Python.framework/Versions/3.6/lib/python3.6/site-packages/pandas/io/parsers.py\u001b[0m in \u001b[0;36m__init__\u001b[0;34m(self, src, **kwds)\u001b[0m\n\u001b[1;32m   1889\u001b[0m         \u001b[0mkwds\u001b[0m\u001b[0;34m[\u001b[0m\u001b[0;34m\"usecols\"\u001b[0m\u001b[0;34m]\u001b[0m \u001b[0;34m=\u001b[0m \u001b[0mself\u001b[0m\u001b[0;34m.\u001b[0m\u001b[0musecols\u001b[0m\u001b[0;34m\u001b[0m\u001b[0;34m\u001b[0m\u001b[0m\n\u001b[1;32m   1890\u001b[0m \u001b[0;34m\u001b[0m\u001b[0m\n\u001b[0;32m-> 1891\u001b[0;31m         \u001b[0mself\u001b[0m\u001b[0;34m.\u001b[0m\u001b[0m_reader\u001b[0m \u001b[0;34m=\u001b[0m \u001b[0mparsers\u001b[0m\u001b[0;34m.\u001b[0m\u001b[0mTextReader\u001b[0m\u001b[0;34m(\u001b[0m\u001b[0msrc\u001b[0m\u001b[0;34m,\u001b[0m \u001b[0;34m**\u001b[0m\u001b[0mkwds\u001b[0m\u001b[0;34m)\u001b[0m\u001b[0;34m\u001b[0m\u001b[0;34m\u001b[0m\u001b[0m\n\u001b[0m\u001b[1;32m   1892\u001b[0m         \u001b[0mself\u001b[0m\u001b[0;34m.\u001b[0m\u001b[0munnamed_cols\u001b[0m \u001b[0;34m=\u001b[0m \u001b[0mself\u001b[0m\u001b[0;34m.\u001b[0m\u001b[0m_reader\u001b[0m\u001b[0;34m.\u001b[0m\u001b[0munnamed_cols\u001b[0m\u001b[0;34m\u001b[0m\u001b[0;34m\u001b[0m\u001b[0m\n\u001b[1;32m   1893\u001b[0m \u001b[0;34m\u001b[0m\u001b[0m\n",
      "\u001b[0;32mpandas/_libs/parsers.pyx\u001b[0m in \u001b[0;36mpandas._libs.parsers.TextReader.__cinit__\u001b[0;34m()\u001b[0m\n",
      "\u001b[0;32mpandas/_libs/parsers.pyx\u001b[0m in \u001b[0;36mpandas._libs.parsers.TextReader._setup_parser_source\u001b[0;34m()\u001b[0m\n",
      "\u001b[0;31mFileNotFoundError\u001b[0m: [Errno 2] File correlation_CS/pearson_comCD8.txt does not exist: 'correlation_CS/pearson_comCD8.txt'"
     ]
    }
   ],
   "source": [
    "CS_file = '/Users/irffanalahi/Research/Research_update/SoftRD/largerEXP/genepromdelta.7/REAL_samples/deconprepare/corr/allmethodsummary/try4_corrplot/7pbmc_firstflow_m8real2.txt'\n",
    "est_files = ['/Users/irffanalahi/Research/Research_update/SoftRD/largerEXP/genepromdelta.7/REAL_samples/deconprepare/corr/allmethodsummary/try4_corrplot/BL14_genepromSM_0.7.txt_bestref.txt_result_dupindex_binnedstats.pkladjustedScore_minus_avg_CSxOut.txt']\n",
    "\n",
    "pearson_file = 'correlation_CS/pearson_comCD8.txt'\n",
    "spearman_file = 'correlation_CS/spearman_comCD8.txt'\n",
    "\n",
    "p_data = pd.read_csv(pearson_file, sep='\\t', index_col=0)\n",
    "s_data = pd.read_csv(spearman_file, sep='\\t', index_col=0)\n",
    "\n",
    "df_p = pd.DataFrame(p_data)\n",
    "df_s = pd.DataFrame(s_data)\n",
    "\n",
    "CS_data = pd.read_csv(CS_file, index_col=0)\n",
    "df_CS = pd.DataFrame(CS_data)\n",
    "df_CS = df_CS.sort_index()\n",
    "\n",
    "outfol = '/Users/irffanalahi/Research/Research_update/SoftRD/largerEXP/genepromdelta.7/REAL_samples/deconprepare/corr/allmethodsummary/try4_corrplot/firtgt'\n",
    "os.mkdir(outfol)"
   ]
  },
  {
   "cell_type": "code",
   "execution_count": null,
   "metadata": {},
   "outputs": [],
   "source": [
    "df_CS.columns"
   ]
  },
  {
   "cell_type": "code",
   "execution_count": null,
   "metadata": {},
   "outputs": [],
   "source": [
    "est_cells = ['CD4', 'CD8', 'NK', 'Mn', 'mNeu', 'nB']\n",
    "CS_cells = ['T cells CD4 naive', 'T cells CD8', 'NK cells resting/NK cells activated', 'Monocytes', 'Neutrophils', 'B cells naive']"
   ]
  },
  {
   "cell_type": "code",
   "execution_count": null,
   "metadata": {},
   "outputs": [],
   "source": [
    "def get_cell_vals(cell, df):\n",
    "    split = cell.split('/')\n",
    "    val = np.zeros(len(np.array(df[split[0]])))\n",
    "    for i in range(len(split)):\n",
    "        val += np.array(df[split[i]])\n",
    "    return val"
   ]
  },
  {
   "cell_type": "code",
   "execution_count": null,
   "metadata": {},
   "outputs": [],
   "source": [
    "for j in range(len(est_files)):\n",
    "    fig, axs = plt.subplots(1, len(est_cells), figsize=(10 * len(est_cells), 10))\n",
    "    est_data = pd.read_csv(est_files[j], sep='\\t', index_col=0)\n",
    "    df_est = pd.DataFrame(est_data)\n",
    "    df_est = df_est.sort_index()\n",
    "    for i in range(len(est_cells)):\n",
    "        est_arr = get_cell_vals(est_cells[i], df_est)\n",
    "        CS_arr = get_cell_vals(CS_cells[i], df_CS)\n",
    "        m, b = np.polyfit(CS_arr, est_arr, 1)\n",
    "        axs[i].scatter(CS_arr, est_arr)\n",
    "        axs[i].plot(CS_arr, m*CS_arr + b, '--', alpha=0.5)\n",
    "        axs[i].set_title(est_cells[i])\n",
    "        axs[i].set_xlabel('CIBERSORTx')\n",
    "        axs[i].set_ylabel('Estimation (' + est_files[j].split('_')[-4] + ')')\n",
    "        corr_col = ''\n",
    "        for col in list(df_p.columns):\n",
    "            if est_cells[i] in col:\n",
    "                corr_col = col\n",
    "        p_corr = np.around(float(df_p[(df_p.index == est_files[j].split('/')[1])][corr_col]), decimals=3)\n",
    "        s_corr = np.around(float(df_s[(df_s.index == est_files[j].split('/')[1])][corr_col]), decimals=3)\n",
    "        xy = (0.1, 0.1)\n",
    "        axs[i].text(0.1, 0.9, 'r = ' + str(p_corr) + '\\nrho = ' + str(s_corr), horizontalalignment='left', verticalalignment='bottom', transform=axs[i].transAxes)\n",
    "    \n",
    "    fig.suptitle(est_files[0])\n",
    "    plt.savefig(outfol + '/' + est_files[j].split('/')[1] + '_figure_separate_cell.pdf', dpi=300, bbox_inches='tight')"
   ]
  },
  {
   "cell_type": "code",
   "execution_count": null,
   "metadata": {},
   "outputs": [],
   "source": [
    "fig, axs = plt.subplots(1, len(est_files), figsize=(10 * len(est_files), 10))\n",
    "\n",
    "for j in range(len(est_files)):\n",
    "    est_data = pd.read_csv(est_files[j], sep='\\t', index_col=0)\n",
    "    df_est = pd.DataFrame(est_data)\n",
    "    df_est = df_est.sort_index()\n",
    "    diag_arr = np.array([])\n",
    "    est_tot_arr = np.array([])\n",
    "    p_arr = np.zeros(len(est_cells))\n",
    "    s_arr = np.zeros(len(est_cells))\n",
    "    for i in range(len(est_cells)):\n",
    "        est_arr = get_cell_vals(est_cells[i], df_est)\n",
    "        CS_arr = get_cell_vals(CS_cells[i], df_CS)\n",
    "        m, b = np.polyfit(CS_arr, est_arr, 1)\n",
    "        axs[j].scatter(CS_arr, est_arr, label=est_cells[i])\n",
    "        diag_arr = np.concatenate((diag_arr, CS_arr), axis=None)\n",
    "        est_tot_arr = np.concatenate((est_tot_arr, est_arr))\n",
    "        corr_col = ''\n",
    "        for col in list(df_p.columns):\n",
    "            if est_cells[i] in col:\n",
    "                corr_col = col\n",
    "        p_corr = float(df_p[(df_p.index == est_files[j].split('/')[1])][corr_col])\n",
    "        s_corr = float(df_s[(df_s.index == est_files[j].split('/')[1])][corr_col])\n",
    "        p_arr[i] = p_corr\n",
    "        s_arr[i] = s_corr\n",
    "    p_corr_mean = np.around(np.mean(p_corr), decimals=3)\n",
    "    s_corr_mean = np.around(np.mean(s_corr), decimals=3)\n",
    "    m, b = np.polyfit(diag_arr, est_tot_arr, 1)\n",
    "    axs[j].plot(diag_arr, m*diag_arr + b, '--', alpha=0.3, c='k')\n",
    "    axs[j].text(0.1, 0.9, 'r = ' + str(p_corr_mean) + '\\nrho = ' + str(s_corr_mean), horizontalalignment='left', verticalalignment='bottom', transform=axs[j].transAxes)\n",
    "    axs[j].set_title(est_files[j].split('_')[-4])\n",
    "    axs[j].set_xlabel('CIBERSORTx')\n",
    "    axs[j].set_ylabel('Estimation')\n",
    "    plt.legend(loc=(1.05,0.72), fontsize=16)\n",
    "    \n",
    "plt.savefig(outfol + '/' + est_files[j].split('/')[1] + '_figure_combined_cell.pdf', dpi=300, bbox_inches='tight')"
   ]
  },
  {
   "cell_type": "code",
   "execution_count": null,
   "metadata": {},
   "outputs": [],
   "source": []
  }
 ],
 "metadata": {
  "kernelspec": {
   "display_name": "Python 3",
   "language": "python",
   "name": "python3"
  },
  "language_info": {
   "codemirror_mode": {
    "name": "ipython",
    "version": 3
   },
   "file_extension": ".py",
   "mimetype": "text/x-python",
   "name": "python",
   "nbconvert_exporter": "python",
   "pygments_lexer": "ipython3",
   "version": "3.6.7"
  }
 },
 "nbformat": 4,
 "nbformat_minor": 4
}
