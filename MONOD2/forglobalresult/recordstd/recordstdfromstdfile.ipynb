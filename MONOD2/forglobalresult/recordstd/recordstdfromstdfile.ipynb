{
 "cells": [
  {
   "cell_type": "code",
   "execution_count": 1,
   "metadata": {},
   "outputs": [],
   "source": [
    "import pandas as pd\n",
    "import glob\n",
    "import os.path"
   ]
  },
  {
   "cell_type": "code",
   "execution_count": 2,
   "metadata": {},
   "outputs": [],
   "source": [
    "\n",
    "path = \"/Users/irffanalahi/Research/weekly/for_8_27_20/MONOD_analysis/result/realMONOD2/downstreamanalysis2withcpgthresholed/alldata_std_cpgcutoff_3\" # use your path\n",
    "\n",
    "outfilename= path+\"_combinedSTD.txt\"\n",
    "\n",
    "all_files = glob.glob(path + \"/*std\")"
   ]
  },
  {
   "cell_type": "code",
   "execution_count": 3,
   "metadata": {},
   "outputs": [
    {
     "name": "stdout",
     "output_type": "stream",
     "text": [
      "Done\n"
     ]
    }
   ],
   "source": [
    "\n",
    "li = []\n",
    "\n",
    "for filename in all_files:\n",
    "    \n",
    "    df = pd.read_csv(filename, index_col=0, header=None,sep=\"\\t\")\n",
    "    df = df.rename(columns={1: \"std\",2:\"cpg\" })\n",
    "    \n",
    "    \n",
    "    tempmean=df[\"std\"].mean(axis = 0)\n",
    "    tempmedian=df[\"std\"].median(axis = 0)\n",
    "    \n",
    "    \n",
    "    tempdict={\"Filename\":os.path.basename(filename),\"meanSTDvalue\":tempmean,\"medianSTDvalue\":tempmedian}\n",
    "    \n",
    "\n",
    "       \n",
    "    li.append(tempdict)\n",
    "    \n",
    "outdf = pd.DataFrame(li)\n",
    "\n",
    "outdf.to_csv(outfilename,sep=\"\\t\",index=False)\n",
    "\n",
    "\n",
    "print(\"Done\")"
   ]
  }
 ],
 "metadata": {
  "kernelspec": {
   "display_name": "Python 3",
   "language": "python",
   "name": "python3"
  },
  "language_info": {
   "codemirror_mode": {
    "name": "ipython",
    "version": 3
   },
   "file_extension": ".py",
   "mimetype": "text/x-python",
   "name": "python",
   "nbconvert_exporter": "python",
   "pygments_lexer": "ipython3",
   "version": "3.6.7"
  }
 },
 "nbformat": 4,
 "nbformat_minor": 2
}
