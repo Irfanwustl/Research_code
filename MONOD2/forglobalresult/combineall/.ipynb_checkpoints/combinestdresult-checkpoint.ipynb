{
 "cells": [
  {
   "cell_type": "code",
   "execution_count": 1,
   "metadata": {},
   "outputs": [],
   "source": [
    "import pandas as pd\n",
    "import glob\n",
    "import os.path "
   ]
  },
  {
   "cell_type": "code",
   "execution_count": 2,
   "metadata": {},
   "outputs": [],
   "source": [
    "path = \"/Users/irffanalahi/Research/Research_code/gitignorefolder/dataformonod2analysis/test/toy\" # use your path\n",
    "\n",
    "outfilename=\"/Users/irffanalahi/Research/Research_code/gitignorefolder/dataformonod2analysis/test/toyout\"\n",
    "\n",
    "all_files = glob.glob(path + \"/*std\")\n"
   ]
  },
  {
   "cell_type": "code",
   "execution_count": 3,
   "metadata": {
    "scrolled": true
   },
   "outputs": [],
   "source": [
    "li = []\n",
    "\n",
    "for filename in all_files:\n",
    "    df = pd.read_csv(filename, index_col=0, header=None,sep=\"\\t\")\n",
    "    df = df.rename(columns={1: os.path.basename(filename),2:\"cpg\" })\n",
    "    \n",
    "    df=df.drop(\"cpg\",axis=1)\n",
    "   \n",
    "    li.append(df)\n",
    "\n",
    "frame = pd.concat(li, axis=1)\n",
    "\n",
    "frame.to_csv(outfilename+\"withna.txt\",sep=\"\\t\",na_rep='NA')"
   ]
  },
  {
   "cell_type": "code",
   "execution_count": 4,
   "metadata": {},
   "outputs": [],
   "source": [
    "outdf=frame.dropna()\n",
    "outdf.to_csv(outfilename+\"nona.txt\",sep=\"\\t\")"
   ]
  }
 ],
 "metadata": {
  "kernelspec": {
   "display_name": "Python 3",
   "language": "python",
   "name": "python3"
  },
  "language_info": {
   "codemirror_mode": {
    "name": "ipython",
    "version": 3
   },
   "file_extension": ".py",
   "mimetype": "text/x-python",
   "name": "python",
   "nbconvert_exporter": "python",
   "pygments_lexer": "ipython3",
   "version": "3.6.7"
  }
 },
 "nbformat": 4,
 "nbformat_minor": 2
}
