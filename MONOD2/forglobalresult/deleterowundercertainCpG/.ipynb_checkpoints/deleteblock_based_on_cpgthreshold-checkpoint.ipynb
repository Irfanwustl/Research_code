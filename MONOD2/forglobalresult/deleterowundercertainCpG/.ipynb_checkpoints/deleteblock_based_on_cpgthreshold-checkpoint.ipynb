{
 "cells": [
  {
   "cell_type": "code",
   "execution_count": 1,
   "metadata": {},
   "outputs": [],
   "source": [
    "import pandas as pd\n",
    "import glob\n",
    "import os\n",
    "import sys"
   ]
  },
  {
   "cell_type": "code",
   "execution_count": 2,
   "metadata": {},
   "outputs": [],
   "source": [
    "path = \"/Users/irffanalahi/Research/Research_code/gitignorefolder/dataformonod2analysis/test/toy\" # use your path\n",
    "\n",
    "cpgthreshold=3 ### >= i.e. at least this many. \n",
    "\n",
    "\n"
   ]
  },
  {
   "cell_type": "code",
   "execution_count": 3,
   "metadata": {},
   "outputs": [],
   "source": [
    "outfoldername=path+\"_cpgcutoff_\"+str(cpgthreshold)\n",
    "\n",
    "\n",
    "if not os.path.exists(outfoldername):\n",
    "    os.makedirs(outfoldername)\n",
    "else:\n",
    "    print(\"Directory already existing\")\n",
    "    sys.exit(1)\n",
    "\n",
    "all_files = glob.glob(path + \"/*std\")"
   ]
  },
  {
   "cell_type": "code",
   "execution_count": 4,
   "metadata": {},
   "outputs": [
    {
     "name": "stdout",
     "output_type": "stream",
     "text": [
      "done\n"
     ]
    }
   ],
   "source": [
    "for filename in all_files:\n",
    "    df = pd.read_csv(filename, index_col=0, header=None,sep=\"\\t\")\n",
    "    df = df.rename(columns={1: os.path.basename(filename),2:\"cpg\" })\n",
    "    \n",
    "    df = df[df.cpg >= cpgthreshold]\n",
    "    \n",
    "    df.to_csv(outfoldername+\"/\"+os.path.basename(filename),sep=\"\\t\",header = False)\n",
    "\n",
    "\n",
    "    \n",
    "    \n",
    "    \n",
    "print(\"done\")"
   ]
  }
 ],
 "metadata": {
  "kernelspec": {
   "display_name": "Python 3",
   "language": "python",
   "name": "python3"
  },
  "language_info": {
   "codemirror_mode": {
    "name": "ipython",
    "version": 3
   },
   "file_extension": ".py",
   "mimetype": "text/x-python",
   "name": "python",
   "nbconvert_exporter": "python",
   "pygments_lexer": "ipython3",
   "version": "3.6.7"
  }
 },
 "nbformat": 4,
 "nbformat_minor": 2
}
