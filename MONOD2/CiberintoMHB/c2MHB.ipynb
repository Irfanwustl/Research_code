{
 "cells": [
  {
   "cell_type": "code",
   "execution_count": 1,
   "metadata": {},
   "outputs": [],
   "source": [
    "import pandas as pd\n",
    "from itertools import chain "
   ]
  },
  {
   "cell_type": "code",
   "execution_count": 2,
   "metadata": {},
   "outputs": [],
   "source": [
    "cin=\"/Users/irffanalahi/Research/weekly/for_9_24_20/preparation/SM/MHBcpg2/smMHB_cd4_cd8_g50_hypo\"\n",
    "mhb=\"/Users/irffanalahi/Research/Research_code/MONOD2/UseTheirMHB/mond2_mhb_hg38_sorted_merged.bed\"\n",
    "outname=cin+\"_mhb\"\n",
    "cindf=pd.read_csv(cin,index_col=0,sep=\"\\t\")\n",
    "mhbdf=pd.read_csv(mhb,sep=\"\\t\",header=None)\n",
    "mhbdf=mhbdf.rename(columns={0: \"chr\",1:\"start\",2:\"end\" })"
   ]
  },
  {
   "cell_type": "code",
   "execution_count": 3,
   "metadata": {},
   "outputs": [
    {
     "data": {
      "text/html": [
       "<div>\n",
       "<style scoped>\n",
       "    .dataframe tbody tr th:only-of-type {\n",
       "        vertical-align: middle;\n",
       "    }\n",
       "\n",
       "    .dataframe tbody tr th {\n",
       "        vertical-align: top;\n",
       "    }\n",
       "\n",
       "    .dataframe thead th {\n",
       "        text-align: right;\n",
       "    }\n",
       "</style>\n",
       "<table border=\"1\" class=\"dataframe\">\n",
       "  <thead>\n",
       "    <tr style=\"text-align: right;\">\n",
       "      <th></th>\n",
       "      <th>CD14</th>\n",
       "      <th>CD19</th>\n",
       "      <th>CD4CD8</th>\n",
       "      <th>CD56</th>\n",
       "    </tr>\n",
       "    <tr>\n",
       "      <th>NAME</th>\n",
       "      <th></th>\n",
       "      <th></th>\n",
       "      <th></th>\n",
       "      <th></th>\n",
       "    </tr>\n",
       "  </thead>\n",
       "  <tbody>\n",
       "    <tr>\n",
       "      <th>chr7:139259372</th>\n",
       "      <td>101.00</td>\n",
       "      <td>3.10</td>\n",
       "      <td>1.00</td>\n",
       "      <td>1.00</td>\n",
       "    </tr>\n",
       "    <tr>\n",
       "      <th>chr19:48967438</th>\n",
       "      <td>92.40</td>\n",
       "      <td>3.25</td>\n",
       "      <td>1.00</td>\n",
       "      <td>3.25</td>\n",
       "    </tr>\n",
       "    <tr>\n",
       "      <th>chr1:224391317</th>\n",
       "      <td>82.40</td>\n",
       "      <td>1.00</td>\n",
       "      <td>1.00</td>\n",
       "      <td>3.10</td>\n",
       "    </tr>\n",
       "    <tr>\n",
       "      <th>chr2:223871096</th>\n",
       "      <td>99.35</td>\n",
       "      <td>1.00</td>\n",
       "      <td>2.85</td>\n",
       "      <td>5.30</td>\n",
       "    </tr>\n",
       "    <tr>\n",
       "      <th>chr4:184813576</th>\n",
       "      <td>100.50</td>\n",
       "      <td>2.85</td>\n",
       "      <td>3.50</td>\n",
       "      <td>1.65</td>\n",
       "    </tr>\n",
       "  </tbody>\n",
       "</table>\n",
       "</div>"
      ],
      "text/plain": [
       "                  CD14  CD19  CD4CD8  CD56\n",
       "NAME                                      \n",
       "chr7:139259372  101.00  3.10    1.00  1.00\n",
       "chr19:48967438   92.40  3.25    1.00  3.25\n",
       "chr1:224391317   82.40  1.00    1.00  3.10\n",
       "chr2:223871096   99.35  1.00    2.85  5.30\n",
       "chr4:184813576  100.50  2.85    3.50  1.65"
      ]
     },
     "execution_count": 3,
     "metadata": {},
     "output_type": "execute_result"
    }
   ],
   "source": [
    "cindf.head()"
   ]
  },
  {
   "cell_type": "code",
   "execution_count": 4,
   "metadata": {},
   "outputs": [],
   "source": [
    "def c2mhb(clist,mdf,oname):\n",
    "    allmhb=[]\n",
    "    \n",
    "    for c in clist:\n",
    "        strlist=c.split(\":\")\n",
    "        current_chr=strlist[0]\n",
    "        current_end=int(strlist[1])+1\n",
    "        \n",
    "        \n",
    "        corresmhb=(mdf.loc[(mdf['chr'] == current_chr) & (mdf[\"end\"] ==current_end)]).values.tolist()\n",
    "      \n",
    "        if len(corresmhb)!=1:\n",
    "            print(\"errrrrrrrooorrrr: not unique mhb\")\n",
    "        corresmhb=list(chain.from_iterable(corresmhb))\n",
    "        \n",
    "        allmhb.append(corresmhb)\n",
    "        \n",
    "    outdf=pd.DataFrame(allmhb)\n",
    "    if outdf.shape[0]!=len(clist):\n",
    "        print(\"error:length mismatch\")\n",
    "    outdf.to_csv(oname,sep=\"\\t\",index=False,header = False)\n",
    "        \n",
    "        "
   ]
  },
  {
   "cell_type": "code",
   "execution_count": 5,
   "metadata": {},
   "outputs": [],
   "source": [
    "cinlist=cindf.index.tolist()\n",
    "c2mhb(cinlist,mhbdf,outname)"
   ]
  }
 ],
 "metadata": {
  "kernelspec": {
   "display_name": "Python 3",
   "language": "python",
   "name": "python3"
  },
  "language_info": {
   "codemirror_mode": {
    "name": "ipython",
    "version": 3
   },
   "file_extension": ".py",
   "mimetype": "text/x-python",
   "name": "python",
   "nbconvert_exporter": "python",
   "pygments_lexer": "ipython3",
   "version": "3.6.7"
  }
 },
 "nbformat": 4,
 "nbformat_minor": 2
}
