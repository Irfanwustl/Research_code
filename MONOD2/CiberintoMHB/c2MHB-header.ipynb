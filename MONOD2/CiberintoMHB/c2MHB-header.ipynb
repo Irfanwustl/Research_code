{
 "cells": [
  {
   "cell_type": "code",
   "execution_count": 1,
   "metadata": {},
   "outputs": [],
   "source": [
    "import pandas as pd\n",
    "from itertools import chain "
   ]
  },
  {
   "cell_type": "code",
   "execution_count": 2,
   "metadata": {},
   "outputs": [],
   "source": [
    "cin=\"/Users/irffanalahi/Research/weekly/for_9_24_20/Usig_Single_Cpg_SM/450ksm/SM/blleuko450kg50_hypo_assigned.txt\"#\"/Users/irffanalahi/Research/weekly/for_9_24_20/preparation/SM/MHBcpg2/smMHB_cd4_cd8_g50_hypo_assigned.txt\"#\"blumhb50SM.txt_assigned.txt\"\n",
    "mhb=\"/Users/irffanalahi/Research/weekly/for_9_24_20/Usig_Single_Cpg_SM/450ksm/SM/blleuko450kg50_hypo_pos_sorted\"#\"/Users/irffanalahi/Research/Research_code/MONOD2/UseTheirMHB/mond2_mhb_hg38_sorted_merged.bed\"\n",
    "outname=cin+\"_mhb\"\n",
    "cindf=pd.read_csv(cin,index_col=0,sep=\"\\t\")\n",
    "mhbdf=pd.read_csv(mhb,sep=\"\\t\",header=None)\n",
    "mhbdf=mhbdf.rename(columns={0: \"chr\",1:\"start\",2:\"end\" })"
   ]
  },
  {
   "cell_type": "code",
   "execution_count": 3,
   "metadata": {},
   "outputs": [
    {
     "data": {
      "text/html": [
       "<div>\n",
       "<style scoped>\n",
       "    .dataframe tbody tr th:only-of-type {\n",
       "        vertical-align: middle;\n",
       "    }\n",
       "\n",
       "    .dataframe tbody tr th {\n",
       "        vertical-align: top;\n",
       "    }\n",
       "\n",
       "    .dataframe thead th {\n",
       "        text-align: right;\n",
       "    }\n",
       "</style>\n",
       "<table border=\"1\" class=\"dataframe\">\n",
       "  <thead>\n",
       "    <tr style=\"text-align: right;\">\n",
       "      <th></th>\n",
       "      <th>celltype</th>\n",
       "    </tr>\n",
       "    <tr>\n",
       "      <th>NAME</th>\n",
       "      <th></th>\n",
       "    </tr>\n",
       "  </thead>\n",
       "  <tbody>\n",
       "    <tr>\n",
       "      <th>chr6:127346546</th>\n",
       "      <td>CD14</td>\n",
       "    </tr>\n",
       "    <tr>\n",
       "      <th>chr19:48966708</th>\n",
       "      <td>CD14</td>\n",
       "    </tr>\n",
       "    <tr>\n",
       "      <th>chr11:68928064</th>\n",
       "      <td>CD14</td>\n",
       "    </tr>\n",
       "    <tr>\n",
       "      <th>chr8:29583900</th>\n",
       "      <td>CD14</td>\n",
       "    </tr>\n",
       "    <tr>\n",
       "      <th>chr17:64008172</th>\n",
       "      <td>CD14</td>\n",
       "    </tr>\n",
       "  </tbody>\n",
       "</table>\n",
       "</div>"
      ],
      "text/plain": [
       "               celltype\n",
       "NAME                   \n",
       "chr6:127346546     CD14\n",
       "chr19:48966708     CD14\n",
       "chr11:68928064     CD14\n",
       "chr8:29583900      CD14\n",
       "chr17:64008172     CD14"
      ]
     },
     "execution_count": 3,
     "metadata": {},
     "output_type": "execute_result"
    }
   ],
   "source": [
    "cindf.head()"
   ]
  },
  {
   "cell_type": "code",
   "execution_count": 4,
   "metadata": {},
   "outputs": [],
   "source": [
    "def c2mhb(clist,mdf,oname,cdf):\n",
    "    allmhb=[]\n",
    "    \n",
    "    for c in clist:\n",
    "        strlist=c.split(\":\")\n",
    "        current_chr=strlist[0]\n",
    "        current_end=int(strlist[1])+1\n",
    "        \n",
    "        \n",
    "        corresmhb=(mdf.loc[(mdf['chr'] == current_chr) & (mdf[\"end\"] ==current_end)]).values.tolist()\n",
    "      \n",
    "        if len(corresmhb)!=1:\n",
    "            print(\"errrrrrrrooorrrr: not unique mhb\")\n",
    "        corresmhb=list(chain.from_iterable(corresmhb))\n",
    "        \n",
    "        temp=[[\"chrom\",corresmhb[0]],[\"start\",corresmhb[1]],[\"end\",corresmhb[2]]]\n",
    "        index, value = zip(*temp)\n",
    "        tempS = pd.Series(value, index=index)\n",
    "        \n",
    "       \n",
    "        tempS=tempS.append(cdf.loc[c])\n",
    "        \n",
    "        \n",
    "        allmhb.append(tempS)\n",
    "        \n",
    "    outdf=pd.DataFrame(allmhb)\n",
    "    if outdf.shape[0]!=len(clist):\n",
    "        print(\"error:length mismatch\")\n",
    "    outdf.to_csv(oname,sep=\"\\t\",index=False)\n",
    "        \n",
    "        "
   ]
  },
  {
   "cell_type": "code",
   "execution_count": 5,
   "metadata": {},
   "outputs": [],
   "source": [
    "cinlist=cindf.index.tolist()\n",
    "c2mhb(cinlist,mhbdf,outname,cindf)"
   ]
  }
 ],
 "metadata": {
  "kernelspec": {
   "display_name": "Python 3",
   "language": "python",
   "name": "python3"
  },
  "language_info": {
   "codemirror_mode": {
    "name": "ipython",
    "version": 3
   },
   "file_extension": ".py",
   "mimetype": "text/x-python",
   "name": "python",
   "nbconvert_exporter": "python",
   "pygments_lexer": "ipython3",
   "version": "3.6.7"
  }
 },
 "nbformat": 4,
 "nbformat_minor": 2
}
