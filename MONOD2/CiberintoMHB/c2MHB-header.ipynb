{
 "cells": [
  {
   "cell_type": "code",
   "execution_count": 1,
   "metadata": {},
   "outputs": [],
   "source": [
    "import pandas as pd\n",
    "from itertools import chain "
   ]
  },
  {
   "cell_type": "code",
   "execution_count": 2,
   "metadata": {},
   "outputs": [],
   "source": [
    "cin=\"/Users/irffanalahi/Research/weekly/for_10_1_20/SM/poormanMHB/cd4cd8/processthelonglist/process_downsample/SMfromdownsample/CD4CD8poormanMHB_hypo.txt\"#\"/Users/irffanalahi/Research/weekly/for_9_24_20/preparation/SM/MHBcpg2/smMHB_cd4_cd8_g50_hypo_assigned.txt\"#\"blumhb50SM.txt_assigned.txt\"\n",
    "mhb=\"/Users/irffanalahi/Research/weekly/for_10_1_20/SM/poormanMHB/cd4cd8/processthelonglist/process_downsample/SMfromdownsample/CD4CD8poormanMHB_hypo.txt_assigned_withsortedpos.txt_mhb_downsampled_pos.txt\"#\"/Users/irffanalahi/Research/Research_code/MONOD2/UseTheirMHB/mond2_mhb_hg38_sorted_merged.bed\"\n",
    "outname=cin+\"_mhb\"\n",
    "cindf=pd.read_csv(cin,index_col=0,sep=\"\\t\")\n",
    "mhbdf=pd.read_csv(mhb,sep=\"\\t\",header=None)\n",
    "mhbdf=mhbdf.rename(columns={0: \"chr\",1:\"start\",2:\"end\" })"
   ]
  },
  {
   "cell_type": "code",
   "execution_count": 3,
   "metadata": {},
   "outputs": [
    {
     "data": {
      "text/html": [
       "<div>\n",
       "<style scoped>\n",
       "    .dataframe tbody tr th:only-of-type {\n",
       "        vertical-align: middle;\n",
       "    }\n",
       "\n",
       "    .dataframe tbody tr th {\n",
       "        vertical-align: top;\n",
       "    }\n",
       "\n",
       "    .dataframe thead th {\n",
       "        text-align: right;\n",
       "    }\n",
       "</style>\n",
       "<table border=\"1\" class=\"dataframe\">\n",
       "  <thead>\n",
       "    <tr style=\"text-align: right;\">\n",
       "      <th></th>\n",
       "      <th>CD14</th>\n",
       "      <th>CD19</th>\n",
       "      <th>CD4CD8</th>\n",
       "      <th>CD56</th>\n",
       "    </tr>\n",
       "    <tr>\n",
       "      <th>NAME</th>\n",
       "      <th></th>\n",
       "      <th></th>\n",
       "      <th></th>\n",
       "      <th></th>\n",
       "    </tr>\n",
       "  </thead>\n",
       "  <tbody>\n",
       "    <tr>\n",
       "      <th>chr5:133468858</th>\n",
       "      <td>101.0</td>\n",
       "      <td>1.0</td>\n",
       "      <td>1.0</td>\n",
       "      <td>1.0</td>\n",
       "    </tr>\n",
       "    <tr>\n",
       "      <th>chr3:12354871</th>\n",
       "      <td>91.9</td>\n",
       "      <td>1.0</td>\n",
       "      <td>1.0</td>\n",
       "      <td>1.0</td>\n",
       "    </tr>\n",
       "    <tr>\n",
       "      <th>chr3:43695596</th>\n",
       "      <td>101.0</td>\n",
       "      <td>1.0</td>\n",
       "      <td>1.0</td>\n",
       "      <td>1.0</td>\n",
       "    </tr>\n",
       "    <tr>\n",
       "      <th>chr18:58730616</th>\n",
       "      <td>89.2</td>\n",
       "      <td>1.0</td>\n",
       "      <td>1.0</td>\n",
       "      <td>1.0</td>\n",
       "    </tr>\n",
       "    <tr>\n",
       "      <th>chr2:101180118</th>\n",
       "      <td>101.0</td>\n",
       "      <td>1.0</td>\n",
       "      <td>1.0</td>\n",
       "      <td>1.0</td>\n",
       "    </tr>\n",
       "  </tbody>\n",
       "</table>\n",
       "</div>"
      ],
      "text/plain": [
       "                 CD14  CD19  CD4CD8  CD56\n",
       "NAME                                     \n",
       "chr5:133468858  101.0   1.0     1.0   1.0\n",
       "chr3:12354871    91.9   1.0     1.0   1.0\n",
       "chr3:43695596   101.0   1.0     1.0   1.0\n",
       "chr18:58730616   89.2   1.0     1.0   1.0\n",
       "chr2:101180118  101.0   1.0     1.0   1.0"
      ]
     },
     "execution_count": 3,
     "metadata": {},
     "output_type": "execute_result"
    }
   ],
   "source": [
    "cindf.head()"
   ]
  },
  {
   "cell_type": "code",
   "execution_count": 4,
   "metadata": {},
   "outputs": [],
   "source": [
    "def c2mhb(clist,mdf,oname,cdf):\n",
    "    allmhb=[]\n",
    "    \n",
    "    for c in clist:\n",
    "        strlist=c.split(\":\")\n",
    "        current_chr=strlist[0]\n",
    "        current_end=int(strlist[1])+1\n",
    "        \n",
    "        \n",
    "        corresmhb=(mdf.loc[(mdf['chr'] == current_chr) & (mdf[\"end\"] ==current_end)]).values.tolist()\n",
    "      \n",
    "        if len(corresmhb)!=1:\n",
    "            print(\"errrrrrrrooorrrr: not unique mhb\")\n",
    "        corresmhb=list(chain.from_iterable(corresmhb))\n",
    "        \n",
    "        temp=[[\"chrom\",corresmhb[0]],[\"start\",corresmhb[1]],[\"end\",corresmhb[2]]]\n",
    "        index, value = zip(*temp)\n",
    "        tempS = pd.Series(value, index=index)\n",
    "        \n",
    "       \n",
    "        tempS=tempS.append(cdf.loc[c])\n",
    "        \n",
    "        \n",
    "        allmhb.append(tempS)\n",
    "        \n",
    "    outdf=pd.DataFrame(allmhb)\n",
    "    if outdf.shape[0]!=len(clist):\n",
    "        print(\"error:length mismatch\")\n",
    "    outdf.to_csv(oname,sep=\"\\t\",index=False)\n",
    "        \n",
    "        "
   ]
  },
  {
   "cell_type": "code",
   "execution_count": 5,
   "metadata": {},
   "outputs": [
    {
     "name": "stdout",
     "output_type": "stream",
     "text": [
      "[]\n",
      "errrrrrrrooorrrr: not unique mhb\n"
     ]
    },
    {
     "ename": "IndexError",
     "evalue": "list index out of range",
     "output_type": "error",
     "traceback": [
      "\u001b[0;31m---------------------------------------------------------------------------\u001b[0m",
      "\u001b[0;31mIndexError\u001b[0m                                Traceback (most recent call last)",
      "\u001b[0;32m<ipython-input-5-47ddec6ee07c>\u001b[0m in \u001b[0;36m<module>\u001b[0;34m\u001b[0m\n\u001b[1;32m      1\u001b[0m \u001b[0mcinlist\u001b[0m\u001b[0;34m=\u001b[0m\u001b[0mcindf\u001b[0m\u001b[0;34m.\u001b[0m\u001b[0mindex\u001b[0m\u001b[0;34m.\u001b[0m\u001b[0mtolist\u001b[0m\u001b[0;34m(\u001b[0m\u001b[0;34m)\u001b[0m\u001b[0;34m\u001b[0m\u001b[0;34m\u001b[0m\u001b[0m\n\u001b[0;32m----> 2\u001b[0;31m \u001b[0mc2mhb\u001b[0m\u001b[0;34m(\u001b[0m\u001b[0mcinlist\u001b[0m\u001b[0;34m,\u001b[0m\u001b[0mmhbdf\u001b[0m\u001b[0;34m,\u001b[0m\u001b[0moutname\u001b[0m\u001b[0;34m,\u001b[0m\u001b[0mcindf\u001b[0m\u001b[0;34m)\u001b[0m\u001b[0;34m\u001b[0m\u001b[0;34m\u001b[0m\u001b[0m\n\u001b[0m",
      "\u001b[0;32m<ipython-input-4-8114765beda5>\u001b[0m in \u001b[0;36mc2mhb\u001b[0;34m(clist, mdf, oname, cdf)\u001b[0m\n\u001b[1;32m     15\u001b[0m         \u001b[0mcorresmhb\u001b[0m\u001b[0;34m=\u001b[0m\u001b[0mlist\u001b[0m\u001b[0;34m(\u001b[0m\u001b[0mchain\u001b[0m\u001b[0;34m.\u001b[0m\u001b[0mfrom_iterable\u001b[0m\u001b[0;34m(\u001b[0m\u001b[0mcorresmhb\u001b[0m\u001b[0;34m)\u001b[0m\u001b[0;34m)\u001b[0m\u001b[0;34m\u001b[0m\u001b[0;34m\u001b[0m\u001b[0m\n\u001b[1;32m     16\u001b[0m \u001b[0;34m\u001b[0m\u001b[0m\n\u001b[0;32m---> 17\u001b[0;31m         \u001b[0mtemp\u001b[0m\u001b[0;34m=\u001b[0m\u001b[0;34m[\u001b[0m\u001b[0;34m[\u001b[0m\u001b[0;34m\"chrom\"\u001b[0m\u001b[0;34m,\u001b[0m\u001b[0mcorresmhb\u001b[0m\u001b[0;34m[\u001b[0m\u001b[0;36m0\u001b[0m\u001b[0;34m]\u001b[0m\u001b[0;34m]\u001b[0m\u001b[0;34m,\u001b[0m\u001b[0;34m[\u001b[0m\u001b[0;34m\"start\"\u001b[0m\u001b[0;34m,\u001b[0m\u001b[0mcorresmhb\u001b[0m\u001b[0;34m[\u001b[0m\u001b[0;36m1\u001b[0m\u001b[0;34m]\u001b[0m\u001b[0;34m]\u001b[0m\u001b[0;34m,\u001b[0m\u001b[0;34m[\u001b[0m\u001b[0;34m\"end\"\u001b[0m\u001b[0;34m,\u001b[0m\u001b[0mcorresmhb\u001b[0m\u001b[0;34m[\u001b[0m\u001b[0;36m2\u001b[0m\u001b[0;34m]\u001b[0m\u001b[0;34m]\u001b[0m\u001b[0;34m]\u001b[0m\u001b[0;34m\u001b[0m\u001b[0;34m\u001b[0m\u001b[0m\n\u001b[0m\u001b[1;32m     18\u001b[0m         \u001b[0mindex\u001b[0m\u001b[0;34m,\u001b[0m \u001b[0mvalue\u001b[0m \u001b[0;34m=\u001b[0m \u001b[0mzip\u001b[0m\u001b[0;34m(\u001b[0m\u001b[0;34m*\u001b[0m\u001b[0mtemp\u001b[0m\u001b[0;34m)\u001b[0m\u001b[0;34m\u001b[0m\u001b[0;34m\u001b[0m\u001b[0m\n\u001b[1;32m     19\u001b[0m         \u001b[0mtempS\u001b[0m \u001b[0;34m=\u001b[0m \u001b[0mpd\u001b[0m\u001b[0;34m.\u001b[0m\u001b[0mSeries\u001b[0m\u001b[0;34m(\u001b[0m\u001b[0mvalue\u001b[0m\u001b[0;34m,\u001b[0m \u001b[0mindex\u001b[0m\u001b[0;34m=\u001b[0m\u001b[0mindex\u001b[0m\u001b[0;34m)\u001b[0m\u001b[0;34m\u001b[0m\u001b[0;34m\u001b[0m\u001b[0m\n",
      "\u001b[0;31mIndexError\u001b[0m: list index out of range"
     ]
    }
   ],
   "source": [
    "cinlist=cindf.index.tolist()\n",
    "c2mhb(cinlist,mhbdf,outname,cindf)"
   ]
  }
 ],
 "metadata": {
  "kernelspec": {
   "display_name": "Python 3",
   "language": "python",
   "name": "python3"
  },
  "language_info": {
   "codemirror_mode": {
    "name": "ipython",
    "version": 3
   },
   "file_extension": ".py",
   "mimetype": "text/x-python",
   "name": "python",
   "nbconvert_exporter": "python",
   "pygments_lexer": "ipython3",
   "version": "3.6.7"
  }
 },
 "nbformat": 4,
 "nbformat_minor": 2
}
