{
 "cells": [
  {
   "cell_type": "code",
   "execution_count": 1,
   "metadata": {},
   "outputs": [],
   "source": [
    "import pandas as pd\n",
    "from itertools import chain "
   ]
  },
  {
   "cell_type": "code",
   "execution_count": 2,
   "metadata": {},
   "outputs": [],
   "source": [
    "cin=\"blumhb50SM.txt\"\n",
    "mhb=\"/Users/irffanalahi/Research/Research_code/MONOD2/UseTheirMHB/mond2_mhb_hg38_sorted_merged.bed\"\n",
    "outname=cin+\"_mhb\"\n",
    "cindf=pd.read_csv(cin,index_col=0,sep=\"\\t\")\n",
    "mhbdf=pd.read_csv(mhb,sep=\"\\t\",header=None)\n",
    "mhbdf=mhbdf.rename(columns={0: \"chr\",1:\"start\",2:\"end\" })"
   ]
  },
  {
   "cell_type": "code",
   "execution_count": 3,
   "metadata": {},
   "outputs": [
    {
     "data": {
      "text/html": [
       "<div>\n",
       "<style scoped>\n",
       "    .dataframe tbody tr th:only-of-type {\n",
       "        vertical-align: middle;\n",
       "    }\n",
       "\n",
       "    .dataframe tbody tr th {\n",
       "        vertical-align: top;\n",
       "    }\n",
       "\n",
       "    .dataframe thead th {\n",
       "        text-align: right;\n",
       "    }\n",
       "</style>\n",
       "<table border=\"1\" class=\"dataframe\">\n",
       "  <thead>\n",
       "    <tr style=\"text-align: right;\">\n",
       "      <th></th>\n",
       "      <th>CD14</th>\n",
       "      <th>CD19</th>\n",
       "      <th>CD4</th>\n",
       "      <th>CD8</th>\n",
       "      <th>CD56</th>\n",
       "    </tr>\n",
       "    <tr>\n",
       "      <th>NAME</th>\n",
       "      <th></th>\n",
       "      <th></th>\n",
       "      <th></th>\n",
       "      <th></th>\n",
       "      <th></th>\n",
       "    </tr>\n",
       "  </thead>\n",
       "  <tbody>\n",
       "    <tr>\n",
       "      <th>chr6:13761191</th>\n",
       "      <td>101.000000</td>\n",
       "      <td>5.833333</td>\n",
       "      <td>2.750000</td>\n",
       "      <td>3.933333</td>\n",
       "      <td>2.666667</td>\n",
       "    </tr>\n",
       "    <tr>\n",
       "      <th>chr17:77100327</th>\n",
       "      <td>89.933333</td>\n",
       "      <td>4.233333</td>\n",
       "      <td>2.633333</td>\n",
       "      <td>2.866667</td>\n",
       "      <td>4.733333</td>\n",
       "    </tr>\n",
       "    <tr>\n",
       "      <th>chr16:12344913</th>\n",
       "      <td>79.400000</td>\n",
       "      <td>1.733333</td>\n",
       "      <td>3.850000</td>\n",
       "      <td>4.933333</td>\n",
       "      <td>4.166667</td>\n",
       "    </tr>\n",
       "    <tr>\n",
       "      <th>chr8:27391187</th>\n",
       "      <td>99.900000</td>\n",
       "      <td>4.700000</td>\n",
       "      <td>1.933333</td>\n",
       "      <td>3.133333</td>\n",
       "      <td>4.333333</td>\n",
       "    </tr>\n",
       "    <tr>\n",
       "      <th>chr10:127918798</th>\n",
       "      <td>101.000000</td>\n",
       "      <td>6.033333</td>\n",
       "      <td>2.950000</td>\n",
       "      <td>3.200000</td>\n",
       "      <td>6.166667</td>\n",
       "    </tr>\n",
       "  </tbody>\n",
       "</table>\n",
       "</div>"
      ],
      "text/plain": [
       "                       CD14      CD19       CD4       CD8      CD56\n",
       "NAME                                                               \n",
       "chr6:13761191    101.000000  5.833333  2.750000  3.933333  2.666667\n",
       "chr17:77100327    89.933333  4.233333  2.633333  2.866667  4.733333\n",
       "chr16:12344913    79.400000  1.733333  3.850000  4.933333  4.166667\n",
       "chr8:27391187     99.900000  4.700000  1.933333  3.133333  4.333333\n",
       "chr10:127918798  101.000000  6.033333  2.950000  3.200000  6.166667"
      ]
     },
     "execution_count": 3,
     "metadata": {},
     "output_type": "execute_result"
    }
   ],
   "source": [
    "cindf.head()"
   ]
  },
  {
   "cell_type": "code",
   "execution_count": 4,
   "metadata": {},
   "outputs": [],
   "source": [
    "def c2mhb(clist,mdf,oname,cdf):\n",
    "    allmhb=[]\n",
    "    \n",
    "    for c in clist:\n",
    "        strlist=c.split(\":\")\n",
    "        current_chr=strlist[0]\n",
    "        current_end=int(strlist[1])+1\n",
    "        \n",
    "        \n",
    "        corresmhb=(mdf.loc[(mdf['chr'] == current_chr) & (mdf[\"end\"] ==current_end)]).values.tolist()\n",
    "      \n",
    "        if len(corresmhb)!=1:\n",
    "            print(\"errrrrrrrooorrrr: not unique mhb\")\n",
    "        corresmhb=list(chain.from_iterable(corresmhb))\n",
    "        \n",
    "        temp=[[\"chrom\",corresmhb[0]],[\"start\",corresmhb[1]],[\"end\",corresmhb[2]]]\n",
    "        index, value = zip(*temp)\n",
    "        tempS = pd.Series(value, index=index)\n",
    "        \n",
    "       \n",
    "        tempS=tempS.append(cdf.loc[c])\n",
    "        \n",
    "        \n",
    "        allmhb.append(tempS)\n",
    "        \n",
    "    outdf=pd.DataFrame(allmhb)\n",
    "    if outdf.shape[0]!=len(clist):\n",
    "        print(\"error:length mismatch\")\n",
    "    outdf.to_csv(oname,sep=\"\\t\",index=False)\n",
    "        \n",
    "        "
   ]
  },
  {
   "cell_type": "code",
   "execution_count": 5,
   "metadata": {},
   "outputs": [],
   "source": [
    "cinlist=cindf.index.tolist()\n",
    "c2mhb(cinlist,mhbdf,outname,cindf)"
   ]
  }
 ],
 "metadata": {
  "kernelspec": {
   "display_name": "Python 3",
   "language": "python",
   "name": "python3"
  },
  "language_info": {
   "codemirror_mode": {
    "name": "ipython",
    "version": 3
   },
   "file_extension": ".py",
   "mimetype": "text/x-python",
   "name": "python",
   "nbconvert_exporter": "python",
   "pygments_lexer": "ipython3",
   "version": "3.6.7"
  }
 },
 "nbformat": 4,
 "nbformat_minor": 2
}
