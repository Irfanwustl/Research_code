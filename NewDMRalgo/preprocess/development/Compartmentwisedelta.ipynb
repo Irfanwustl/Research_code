{
 "cells": [
  {
   "cell_type": "code",
   "execution_count": 1,
   "metadata": {},
   "outputs": [],
   "source": [
    "import pandas as pd\n",
    "rowmeanfile=\"/Users/irffanalahi/Research/Research_code/gitignorefolder/DMRrelated/ITGAE_patternrecognition/changepointtest/preproocess_Develop/ITGAEandERICH1_cin_nr0.5_imputed_rowmean.txt\"\n",
    "\n",
    "phenfile=\"/Users/irffanalahi/Research/Research_code/gitignorefolder/DMRrelated/ITGAE_patternrecognition/changepointtest/preproocess_Develop/LTMEourCD8TILLwithBLOURPBLPhenoClass.txt\"\n",
    "celltype=\"CD8TIL\"\n",
    "pheno=pd.read_csv(phenfile,sep=\"\\t\", header=None, index_col=0)\n",
    "outfile=rowmeanfile+\"_compdeltafor_\"+celltype+\".txt\"\n",
    "rowmeandf=pd.read_csv(rowmeanfile,sep=\"\\t\",index_col=0)\n",
    "\n"
   ]
  },
  {
   "cell_type": "code",
   "execution_count": 2,
   "metadata": {},
   "outputs": [],
   "source": [
    "def comparmentwisdiff():\n",
    "    cells=(pheno.index).tolist()\n",
    "\n",
    "    newdf=pd.DataFrame()\n",
    "    for cell in cells:\n",
    "        if cell!=celltype:\n",
    "            tempdelta=celltype+\"-\"+cell\n",
    "            newdf[tempdelta]=rowmeandf[celltype]-rowmeandf[cell]\n",
    "\n",
    "    return newdf       "
   ]
  },
  {
   "cell_type": "code",
   "execution_count": 3,
   "metadata": {},
   "outputs": [],
   "source": [
    "outdf=comparmentwisdiff()\n",
    "outdf.to_csv(outfile,sep=\"\\t\")"
   ]
  }
 ],
 "metadata": {
  "kernelspec": {
   "display_name": "Python 3",
   "language": "python",
   "name": "python3"
  },
  "language_info": {
   "codemirror_mode": {
    "name": "ipython",
    "version": 3
   },
   "file_extension": ".py",
   "mimetype": "text/x-python",
   "name": "python",
   "nbconvert_exporter": "python",
   "pygments_lexer": "ipython3",
   "version": "3.6.7"
  }
 },
 "nbformat": 4,
 "nbformat_minor": 2
}
