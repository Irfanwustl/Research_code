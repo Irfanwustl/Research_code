{
 "cells": [
  {
   "cell_type": "code",
   "execution_count": 1,
   "metadata": {},
   "outputs": [],
   "source": [
    "import pandas as pd\n",
    "import glob\n",
    "compdelta=\"/Users/irffanalahi/Research/Research_code/gitignorefolder/DMRrelated/ITGAE_patternrecognition/changepointtest/preproocess_Develop/e2e/ITGAEandERICH1_cin_nr0.5_imputed_rowmean.txt_compdeltafor_bg\"\n",
    "metout=\"/Users/irffanalahi/Research/Research_code/gitignorefolder/DMRrelated/ITGAE_patternrecognition/changepointtest/preproocess_Develop/e2e/input_out_mincpg2toy\""
   ]
  },
  {
   "cell_type": "code",
   "execution_count": 2,
   "metadata": {},
   "outputs": [],
   "source": [
    "compdeltafilelist=glob.glob(compdelta+\"/*.txt\")\n",
    "metoutlfilelist=glob.glob(metout+\"/*.txt\")"
   ]
  },
  {
   "cell_type": "code",
   "execution_count": 3,
   "metadata": {},
   "outputs": [
    {
     "name": "stdout",
     "output_type": "stream",
     "text": [
      "['/Users/irffanalahi/Research/Research_code/gitignorefolder/DMRrelated/ITGAE_patternrecognition/changepointtest/preproocess_Develop/e2e/ITGAEandERICH1_cin_nr0.5_imputed_rowmean.txt_compdeltafor_bg/ITGAEandERICH1_cin_nr0.5_imputed_rowmean.txt_compdeltafor_g1_cB.txt', '/Users/irffanalahi/Research/Research_code/gitignorefolder/DMRrelated/ITGAE_patternrecognition/changepointtest/preproocess_Develop/e2e/ITGAEandERICH1_cin_nr0.5_imputed_rowmean.txt_compdeltafor_bg/ITGAEandERICH1_cin_nr0.5_imputed_rowmean.txt_compdeltafor_g1_nB.txt', '/Users/irffanalahi/Research/Research_code/gitignorefolder/DMRrelated/ITGAE_patternrecognition/changepointtest/preproocess_Develop/e2e/ITGAEandERICH1_cin_nr0.5_imputed_rowmean.txt_compdeltafor_bg/ITGAEandERICH1_cin_nr0.5_imputed_rowmean.txt_compdeltafor_g1_CD8bluourPBL.txt', '/Users/irffanalahi/Research/Research_code/gitignorefolder/DMRrelated/ITGAE_patternrecognition/changepointtest/preproocess_Develop/e2e/ITGAEandERICH1_cin_nr0.5_imputed_rowmean.txt_compdeltafor_bg/ITGAEandERICH1_cin_nr0.5_imputed_rowmean.txt_compdeltafor_g1_CD8TIL.txt', '/Users/irffanalahi/Research/Research_code/gitignorefolder/DMRrelated/ITGAE_patternrecognition/changepointtest/preproocess_Develop/e2e/ITGAEandERICH1_cin_nr0.5_imputed_rowmean.txt_compdeltafor_bg/ITGAEandERICH1_cin_nr0.5_imputed_rowmean.txt_compdeltafor_g1_MnbluourPBL.txt', '/Users/irffanalahi/Research/Research_code/gitignorefolder/DMRrelated/ITGAE_patternrecognition/changepointtest/preproocess_Develop/e2e/ITGAEandERICH1_cin_nr0.5_imputed_rowmean.txt_compdeltafor_bg/ITGAEandERICH1_cin_nr0.5_imputed_rowmean.txt_compdeltafor_g1_CD4bluourPBL.txt', '/Users/irffanalahi/Research/Research_code/gitignorefolder/DMRrelated/ITGAE_patternrecognition/changepointtest/preproocess_Develop/e2e/ITGAEandERICH1_cin_nr0.5_imputed_rowmean.txt_compdeltafor_bg/ITGAEandERICH1_cin_nr0.5_imputed_rowmean.txt_compdeltafor_g1_mDC.txt', '/Users/irffanalahi/Research/Research_code/gitignorefolder/DMRrelated/ITGAE_patternrecognition/changepointtest/preproocess_Develop/e2e/ITGAEandERICH1_cin_nr0.5_imputed_rowmean.txt_compdeltafor_bg/ITGAEandERICH1_cin_nr0.5_imputed_rowmean.txt_compdeltafor_g1_MEL_TUMOR.txt', '/Users/irffanalahi/Research/Research_code/gitignorefolder/DMRrelated/ITGAE_patternrecognition/changepointtest/preproocess_Develop/e2e/ITGAEandERICH1_cin_nr0.5_imputed_rowmean.txt_compdeltafor_bg/ITGAEandERICH1_cin_nr0.5_imputed_rowmean.txt_compdeltafor_g1_iDC.txt', '/Users/irffanalahi/Research/Research_code/gitignorefolder/DMRrelated/ITGAE_patternrecognition/changepointtest/preproocess_Develop/e2e/ITGAEandERICH1_cin_nr0.5_imputed_rowmean.txt_compdeltafor_bg/ITGAEandERICH1_cin_nr0.5_imputed_rowmean.txt_compdeltafor_g1_mNeu.txt', '/Users/irffanalahi/Research/Research_code/gitignorefolder/DMRrelated/ITGAE_patternrecognition/changepointtest/preproocess_Develop/e2e/ITGAEandERICH1_cin_nr0.5_imputed_rowmean.txt_compdeltafor_bg/ITGAEandERICH1_cin_nr0.5_imputed_rowmean.txt_compdeltafor_g1_NK.txt']\n",
      "['/Users/irffanalahi/Research/Research_code/gitignorefolder/DMRrelated/ITGAE_patternrecognition/changepointtest/preproocess_Develop/e2e/input_out_mincpg2toy/ITGAEp_cin_nr0.5_imputed_g1_CD19TIL_3_g2_others_36_v0.8.txt', '/Users/irffanalahi/Research/Research_code/gitignorefolder/DMRrelated/ITGAE_patternrecognition/changepointtest/preproocess_Develop/e2e/input_out_mincpg2toy/ITGAEp_cin_nr0.5_imputed_g1_iDC_3_g2_others_36_v0.9.txt', '/Users/irffanalahi/Research/Research_code/gitignorefolder/DMRrelated/ITGAE_patternrecognition/changepointtest/preproocess_Develop/e2e/input_out_mincpg2toy/ITGAEp_cin_nr0.5_imputed_g1_CD8TIL_3_g2_others_36_default_ERICH1.txt', '/Users/irffanalahi/Research/Research_code/gitignorefolder/DMRrelated/ITGAE_patternrecognition/changepointtest/preproocess_Develop/e2e/input_out_mincpg2toy/ITGAEp_cin_nr0.5_imputed_g1_CD4bluourPBL_3_g2_others_36_default.txt', '/Users/irffanalahi/Research/Research_code/gitignorefolder/DMRrelated/ITGAE_patternrecognition/changepointtest/preproocess_Develop/e2e/input_out_mincpg2toy/ITGAEp_cin_nr0.5_imputed_g1_mNeu_3_g2_others_36_v1.txt']\n"
     ]
    }
   ],
   "source": [
    "print(compdeltafilelist)\n",
    "print(metoutlfilelist)"
   ]
  }
 ],
 "metadata": {
  "kernelspec": {
   "display_name": "Python 3",
   "language": "python",
   "name": "python3"
  },
  "language_info": {
   "codemirror_mode": {
    "name": "ipython",
    "version": 3
   },
   "file_extension": ".py",
   "mimetype": "text/x-python",
   "name": "python",
   "nbconvert_exporter": "python",
   "pygments_lexer": "ipython3",
   "version": "3.6.7"
  }
 },
 "nbformat": 4,
 "nbformat_minor": 2
}
