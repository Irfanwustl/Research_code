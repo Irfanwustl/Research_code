{
 "cells": [
  {
   "cell_type": "code",
   "execution_count": 1,
   "metadata": {},
   "outputs": [],
   "source": [
    "import pandas as pd\n",
    "import glob\n",
    "import re\n",
    "import sys\n",
    "import os\n",
    "import subprocess\n",
    "compdelta=\"/Users/irffanalahi/Research/Research_code/gitignorefolder/DMRrelated/ITGAE_patternrecognition/changepointtest/preproocess_Develop/e2e/ITGAEandERICH1_cin_nr0.5_imputed_rowmean.txt_compdeltafor_bg\"\n",
    "metout=\"/Users/irffanalahi/Research/Research_code/gitignorefolder/DMRrelated/ITGAE_patternrecognition/changepointtest/preproocess_Develop/e2e/input_out_mincpg2toy\"\n",
    "outfolder=metout+\"_intersected\""
   ]
  },
  {
   "cell_type": "code",
   "execution_count": 2,
   "metadata": {},
   "outputs": [],
   "source": [
    "compdeltafilelist=glob.glob(compdelta+\"/*.txt\")\n",
    "metoutlfilelist=glob.glob(metout+\"/*.txt\")"
   ]
  },
  {
   "cell_type": "code",
   "execution_count": 3,
   "metadata": {},
   "outputs": [],
   "source": [
    "#print(compdeltafilelist)\n",
    "#print(metoutlfilelist)"
   ]
  },
  {
   "cell_type": "code",
   "execution_count": 4,
   "metadata": {},
   "outputs": [],
   "source": [
    "filepairs=[]\n",
    "for cmpdeltafile in compdeltafilelist:\n",
    "    \n",
    "    cmpdeltafilebase=os.path.basename(cmpdeltafile)\n",
    "\n",
    "    m = re.search('g1_(.+?).txt', cmpdeltafilebase)\n",
    "    if m:\n",
    "        found = m.group(1)\n",
    "\n",
    "    else:\n",
    "        print(\"cell type not found\", cmpdeltafilebase)\n",
    "        print(\"exiting\")\n",
    "        sys.exit(1)\n",
    " \n",
    "    for metoutfile in metoutlfilelist:\n",
    "        metoutfilebase=os.path.basename(metoutfile)\n",
    "     \n",
    "        mm=re.search('g1_(.+?)_\\d+_g2', metoutfilebase)\n",
    "        if mm:\n",
    "            found2 = mm.group(1)\n",
    "\n",
    "        else:\n",
    "            print(\"cell type not found\",  metoutfilebase)\n",
    "            print(\"exiting\")\n",
    "            sys.exit(1)\n",
    "       \n",
    "        if found==found2:\n",
    "            outfilename=outfolder+\"/\"+metoutfilebase\n",
    "            with open(outfilename, \"w\") as outfile:\n",
    "    \n",
    "                subprocess.run(['bedtools','intersect','-wa','-wb','-a',cmpdeltafile,'-b',metoutfile,'-header'],stdout=outfile)\n",
    "                filepairs.append((cmpdeltafile,metoutfile))\n",
    "               \n",
    "            \n",
    "    "
   ]
  }
 ],
 "metadata": {
  "kernelspec": {
   "display_name": "Python 3",
   "language": "python",
   "name": "python3"
  },
  "language_info": {
   "codemirror_mode": {
    "name": "ipython",
    "version": 3
   },
   "file_extension": ".py",
   "mimetype": "text/x-python",
   "name": "python",
   "nbconvert_exporter": "python",
   "pygments_lexer": "ipython3",
   "version": "3.6.7"
  }
 },
 "nbformat": 4,
 "nbformat_minor": 2
}
