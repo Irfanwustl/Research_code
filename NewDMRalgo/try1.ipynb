{
 "cells": [
  {
   "cell_type": "code",
   "execution_count": 1,
   "metadata": {},
   "outputs": [
    {
     "data": {
      "text/html": [
       "<div>\n",
       "<style scoped>\n",
       "    .dataframe tbody tr th:only-of-type {\n",
       "        vertical-align: middle;\n",
       "    }\n",
       "\n",
       "    .dataframe tbody tr th {\n",
       "        vertical-align: top;\n",
       "    }\n",
       "\n",
       "    .dataframe thead th {\n",
       "        text-align: right;\n",
       "    }\n",
       "</style>\n",
       "<table border=\"1\" class=\"dataframe\">\n",
       "  <thead>\n",
       "    <tr style=\"text-align: right;\">\n",
       "      <th></th>\n",
       "      <th>CD8TIL-others</th>\n",
       "    </tr>\n",
       "    <tr>\n",
       "      <th>position</th>\n",
       "      <th></th>\n",
       "    </tr>\n",
       "  </thead>\n",
       "  <tbody>\n",
       "    <tr>\n",
       "      <th>chr17:3800170</th>\n",
       "      <td>-0.430697</td>\n",
       "    </tr>\n",
       "    <tr>\n",
       "      <th>chr17:3800341</th>\n",
       "      <td>-0.371307</td>\n",
       "    </tr>\n",
       "    <tr>\n",
       "      <th>chr17:3800417</th>\n",
       "      <td>-0.313747</td>\n",
       "    </tr>\n",
       "    <tr>\n",
       "      <th>chr17:3800454</th>\n",
       "      <td>-0.329560</td>\n",
       "    </tr>\n",
       "    <tr>\n",
       "      <th>chr17:3800480</th>\n",
       "      <td>-0.205080</td>\n",
       "    </tr>\n",
       "  </tbody>\n",
       "</table>\n",
       "</div>"
      ],
      "text/plain": [
       "               CD8TIL-others\n",
       "position                    \n",
       "chr17:3800170      -0.430697\n",
       "chr17:3800341      -0.371307\n",
       "chr17:3800417      -0.313747\n",
       "chr17:3800454      -0.329560\n",
       "chr17:3800480      -0.205080"
      ]
     },
     "execution_count": 1,
     "metadata": {},
     "output_type": "execute_result"
    }
   ],
   "source": [
    "import time  # for execution time comparison\n",
    "\n",
    "import matplotlib.pyplot as plt  # for display purposes\n",
    "import my_plotter\n",
    "import ruptures as rpt  # our package\n",
    "from ruptures.metrics import hausdorff\n",
    "import pandas as pd\n",
    "infile=\"/Users/irffanalahi/Research/Research_code/gitignorefolder/DMRrelated/ITGAE_patternrecognition/changepointtest/ITGAEp_cin_nr0.5_imputed_rowmean_diif.txt\"\n",
    "indf=pd.read_csv(infile,sep=\"\\t\",index_col=0)\n",
    "minCpG=2\n",
    "indf.head()"
   ]
  },
  {
   "cell_type": "code",
   "execution_count": 2,
   "metadata": {},
   "outputs": [],
   "source": [
    "signal=indf.to_numpy()\n",
    "n_bkps=2"
   ]
  },
  {
   "cell_type": "code",
   "execution_count": 3,
   "metadata": {},
   "outputs": [
    {
     "data": {
      "text/plain": [
       "(<Figure size 720x180 with 1 Axes>,\n",
       " [<matplotlib.axes._subplots.AxesSubplot at 0x7fd898007ef0>])"
      ]
     },
     "execution_count": 3,
     "metadata": {},
     "output_type": "execute_result"
    },
    {
     "data": {
      "image/png": "[encoded data removed]",
      "text/plain": [
       "<Figure size 720x180 with 1 Axes>"
      ]
     },
     "metadata": {
      "needs_background": "light"
     },
     "output_type": "display_data"
    }
   ],
   "source": [
    "bkps=[12,23]\n",
    "\n",
    "my_plotter.display(indf,bkps)"
   ]
  },
  {
   "cell_type": "code",
   "execution_count": 4,
   "metadata": {},
   "outputs": [
    {
     "name": "stdout",
     "output_type": "stream",
     "text": [
      "Python implementation:\t0.009 s\n",
      "C implementation:\t0.000 s\n"
     ]
    }
   ],
   "source": [
    "algo_python = rpt.Dynp(model=\"l2\", jump=1, min_size=minCpG).fit(\n",
    "    signal\n",
    ")  # written in pure python\n",
    "algo_c = rpt.KernelCPD(kernel=\"linear\", min_size=minCpG).fit(signal)  # written in C\n",
    "\n",
    "for (label, algo) in zip(\n",
    "    (\"Python implementation\", \"C implementation\"), (algo_python, algo_c)\n",
    "):\n",
    "    start_time = time.time()\n",
    "    result = algo.predict(n_bkps=n_bkps)\n",
    "    print(f\"{label}:\\t{time.time() - start_time:.3f} s\")"
   ]
  },
  {
   "cell_type": "code",
   "execution_count": 5,
   "metadata": {},
   "outputs": [
    {
     "name": "stdout",
     "output_type": "stream",
     "text": [
      "Python implementation:\t[10, 13, 28]\n",
      "C implementation:\t[10, 13, 28]\n",
      "(Hausdorff distance: 0 samples)\n"
     ]
    }
   ],
   "source": [
    "bkps_python = algo_python.predict(n_bkps=n_bkps)\n",
    "bkps_c = algo_c.predict(n_bkps=n_bkps)\n",
    "print(f\"Python implementation:\\t{bkps_python}\")\n",
    "print(f\"C implementation:\\t{bkps_c}\")\n",
    "print(f\"(Hausdorff distance: {hausdorff(bkps_python, bkps_c):.0f} samples)\")"
   ]
  },
  {
   "cell_type": "code",
   "execution_count": 6,
   "metadata": {},
   "outputs": [
    {
     "name": "stdout",
     "output_type": "stream",
     "text": [
      "Python implementation:\t0.004 s\n",
      "C implementation:\t0.000 s\n"
     ]
    }
   ],
   "source": [
    "params = {\"gamma\": 1e-2}\n",
    "algo_python = rpt.Dynp(model=\"rbf\", params=params, jump=1, min_size=minCpG).fit(\n",
    "    signal\n",
    ")  # written in pure python\n",
    "algo_c = rpt.KernelCPD(kernel=\"rbf\", params=params, min_size=minCpG).fit(\n",
    "    signal\n",
    ")  # written in C\n",
    "\n",
    "for (label, algo) in zip(\n",
    "    (\"Python implementation\", \"C implementation\"), (algo_python, algo_c)\n",
    "):\n",
    "    start_time = time.time()\n",
    "    result = algo.predict(n_bkps=n_bkps)\n",
    "    print(f\"{label}:\\t{time.time() - start_time:.3f} s\")"
   ]
  },
  {
   "cell_type": "code",
   "execution_count": 7,
   "metadata": {},
   "outputs": [
    {
     "name": "stdout",
     "output_type": "stream",
     "text": [
      "Python implementation:\t[7, 14, 28]\n",
      "C implementation:\t[2, 8, 28]\n",
      "(Hausdorff distance: 6 samples)\n"
     ]
    }
   ],
   "source": [
    "bkps_python = algo_python.predict(n_bkps=n_bkps)\n",
    "bkps_c = algo_c.predict(n_bkps=n_bkps)\n",
    "print(f\"Python implementation:\\t{bkps_python}\")\n",
    "print(f\"C implementation:\\t{bkps_c}\")\n",
    "print(f\"(Hausdorff distance: {hausdorff(bkps_python, bkps_c):.0f} samples)\")"
   ]
  },
  {
   "cell_type": "code",
   "execution_count": 8,
   "metadata": {},
   "outputs": [
    {
     "name": "stdout",
     "output_type": "stream",
     "text": [
      "Python implementation:\t0.012 s\n",
      "C implementation:\t0.000 s\n"
     ]
    }
   ],
   "source": [
    "#####PELT#####\n",
    "algo_python = rpt.Pelt(model=\"l2\", jump=1, min_size=minCpG).fit(\n",
    "    signal\n",
    ")  # written in pure python\n",
    "algo_c = rpt.KernelCPD(kernel=\"linear\", min_size=minCpG).fit(\n",
    "    signal\n",
    ")  # written in C, same class as before\n",
    "\n",
    "\n",
    "penalty_value = 100  # beta\n",
    "\n",
    "for (label, algo) in zip(\n",
    "    (\"Python implementation\", \"C implementation\"), (algo_python, algo_c)\n",
    "):\n",
    "    start_time = time.time()\n",
    "    result = algo.predict(pen=penalty_value)\n",
    "    print(f\"{label}:\\t{time.time() - start_time:.3f} s\")"
   ]
  },
  {
   "cell_type": "code",
   "execution_count": 9,
   "metadata": {},
   "outputs": [
    {
     "name": "stdout",
     "output_type": "stream",
     "text": [
      "Python implementation:\t[28]\n",
      "C implementation:\t[28]\n"
     ]
    }
   ],
   "source": [
    "bkps_python = algo_python.predict(pen=penalty_value)\n",
    "bkps_c = algo_c.predict(pen=penalty_value)\n",
    "print(f\"Python implementation:\\t{bkps_python}\")\n",
    "print(f\"C implementation:\\t{bkps_c}\")\n",
    "#print(f\"(Hausdorff distance: {hausdorff(bkps_python, bkps_c):.0f} samples)\")"
   ]
  },
  {
   "cell_type": "code",
   "execution_count": 10,
   "metadata": {},
   "outputs": [],
   "source": [
    "#fig,_=my_plotter.display(indf, bkps, bkps_python)\n",
    "#plt.show()\n",
    "#fig.savefig(infile+\"_linearresult\"+str(minCpG)+\".pdf\")"
   ]
  },
  {
   "cell_type": "code",
   "execution_count": 11,
   "metadata": {},
   "outputs": [
    {
     "name": "stdout",
     "output_type": "stream",
     "text": [
      "Python implementation:\t0.003 s\n",
      "C implementation:\t0.000 s\n"
     ]
    }
   ],
   "source": [
    "algo_python = rpt.Pelt(model=\"rbf\", jump=1, min_size=minCpG).fit(\n",
    "    signal\n",
    ")  # written in pure python\n",
    "algo_c = rpt.KernelCPD(kernel=\"rbf\", min_size=minCpG).fit(\n",
    "    signal\n",
    ")  # written in C, same class as before\n",
    "\n",
    "\n",
    "penalty_value = 1  # beta\n",
    "\n",
    "for (label, algo) in zip(\n",
    "    (\"Python implementation\", \"C implementation\"), (algo_python, algo_c)\n",
    "):\n",
    "    start_time = time.time()\n",
    "    result = algo.predict(pen=penalty_value)\n",
    "    print(f\"{label}:\\t{time.time() - start_time:.3f} s\")"
   ]
  },
  {
   "cell_type": "code",
   "execution_count": 12,
   "metadata": {},
   "outputs": [
    {
     "name": "stdout",
     "output_type": "stream",
     "text": [
      "Python implementation:\t[10, 13, 22, 24, 28]\n",
      "C implementation:\t[10, 13, 22, 24, 28]\n",
      "(Hausdorff distance: 0 samples)\n"
     ]
    }
   ],
   "source": [
    "bkps_python = algo_python.predict(pen=penalty_value)\n",
    "bkps_c = algo_c.predict(pen=penalty_value)\n",
    "print(f\"Python implementation:\\t{bkps_python}\")\n",
    "print(f\"C implementation:\\t{bkps_c}\")\n",
    "print(f\"(Hausdorff distance: {hausdorff(bkps_python, bkps_c):.0f} samples)\")"
   ]
  },
  {
   "cell_type": "code",
   "execution_count": 13,
   "metadata": {},
   "outputs": [
    {
     "name": "stdout",
     "output_type": "stream",
     "text": [
      "hereeeee\n"
     ]
    },
    {
     "data": {
      "text/plain": [
       "Index(['chr17:3800956', 'chr17:3801162', 'chr17:3801494', 'chr17:3801514',\n",
       "       'chr17:3801628'],\n",
       "      dtype='object', name='position')"
      ]
     },
     "execution_count": 13,
     "metadata": {},
     "output_type": "execute_result"
    }
   ],
   "source": [
    "\n",
    "\n",
    "forindexgenerate=bkps_python\n",
    "if forindexgenerate[-1]==len(indf.index):\n",
    "    print(\"hereeeee\")\n",
    "    forindexgenerate[-1]=forindexgenerate[-1]-1\n",
    "indf.index[forindexgenerate]\n"
   ]
  },
  {
   "cell_type": "code",
   "execution_count": 14,
   "metadata": {},
   "outputs": [
    {
     "data": {
      "image/png": "[encoded data removed]",
      "text/plain": [
       "<Figure size 720x180 with 1 Axes>"
      ]
     },
     "metadata": {
      "needs_background": "light"
     },
     "output_type": "display_data"
    }
   ],
   "source": [
    "fig,_=my_plotter.display(indf, bkps, bkps_python)\n",
    "plt.show()\n",
    "fig.savefig(infile+\"_RBFresult\"+str(minCpG)+\".pdf\")"
   ]
  }
 ],
 "metadata": {
  "kernelspec": {
   "display_name": "Python 3",
   "language": "python",
   "name": "python3"
  },
  "language_info": {
   "codemirror_mode": {
    "name": "ipython",
    "version": 3
   },
   "file_extension": ".py",
   "mimetype": "text/x-python",
   "name": "python",
   "nbconvert_exporter": "python",
   "pygments_lexer": "ipython3",
   "version": "3.6.7"
  }
 },
 "nbformat": 4,
 "nbformat_minor": 2
}
