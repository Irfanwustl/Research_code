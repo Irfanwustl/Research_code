{
 "cells": [
  {
   "cell_type": "code",
   "execution_count": 1,
   "metadata": {},
   "outputs": [],
   "source": [
    "import pandas as pd\n",
    "import glob, os"
   ]
  },
  {
   "cell_type": "code",
   "execution_count": 2,
   "metadata": {},
   "outputs": [],
   "source": [
    "result_folder=\"/Users/irffanalahi/Research/weekly/for_10_8_20/faltutryRnadomAgain/allpblsubset/runhere/outfolder/relativelonglist\"#\"/Users/irffanalahi/Research/Research_code/MHB_per_read/ReadBasedDecon/data/resultfolder\"\n",
    "outname=result_folder+\".txt\""
   ]
  },
  {
   "cell_type": "code",
   "execution_count": 3,
   "metadata": {},
   "outputs": [
    {
     "name": "stdout",
     "output_type": "stream",
     "text": [
      "['/Users/irffanalahi/Research/weekly/for_10_8_20/faltutryRnadomAgain/allpblsubset/runhere/outfolder/relativelonglist/BULK-PBMC-1313.bg_howsm_single_mode_pp_rawcountNormalized.txt', '/Users/irffanalahi/Research/weekly/for_10_8_20/faltutryRnadomAgain/allpblsubset/runhere/outfolder/relativelonglist/BULK-PBMC-1382.bg_howsm_single_mode_pp_rawcountNormalized.txt', '/Users/irffanalahi/Research/weekly/for_10_8_20/faltutryRnadomAgain/allpblsubset/runhere/outfolder/relativelonglist/BULK-PBMC-1389.bg_howsm_single_mode_pp_rawcountNormalized.txt']\n"
     ]
    }
   ],
   "source": [
    "files = glob.glob(result_folder+'/*.txt')\n",
    "print (files)"
   ]
  },
  {
   "cell_type": "code",
   "execution_count": 4,
   "metadata": {},
   "outputs": [],
   "source": [
    "df = pd.concat([pd.read_csv(fp,sep=\"\\t\").assign(Mixture=os.path.basename(fp)) for fp in files])\n"
   ]
  },
  {
   "cell_type": "code",
   "execution_count": 5,
   "metadata": {},
   "outputs": [
    {
     "name": "stdout",
     "output_type": "stream",
     "text": [
      "done\n"
     ]
    }
   ],
   "source": [
    "df=df.set_index('Mixture')\n",
    "df.to_csv(outname,sep=\"\\t\")\n",
    "print(\"done\")"
   ]
  }
 ],
 "metadata": {
  "kernelspec": {
   "display_name": "Python 3",
   "language": "python",
   "name": "python3"
  },
  "language_info": {
   "codemirror_mode": {
    "name": "ipython",
    "version": 3
   },
   "file_extension": ".py",
   "mimetype": "text/x-python",
   "name": "python",
   "nbconvert_exporter": "python",
   "pygments_lexer": "ipython3",
   "version": "3.6.7"
  }
 },
 "nbformat": 4,
 "nbformat_minor": 2
}
