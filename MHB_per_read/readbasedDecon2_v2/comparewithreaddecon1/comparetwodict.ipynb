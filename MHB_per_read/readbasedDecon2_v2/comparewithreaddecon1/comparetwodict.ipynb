{
 "cells": [
  {
   "cell_type": "code",
   "execution_count": 1,
   "metadata": {},
   "outputs": [],
   "source": [
    "import ast\n",
    "firstassigned=\"/Users/irffanalahi/Research/weekly/for_10_8_20/Debug_readcount/resultfrom_rd1/TWCY-1313-1313-BULK-PBMC_sorted_out_fordecon.txt_readassigned_unique.txt\" ##comes from monod2 mhb per read anal=ysis\n",
    "secondassigned=\"/Users/irffanalahi/Research/weekly/for_10_8_20/Debug_readcount/out/1313/TWCY-1313-1313-BULK-PBMC_sorted.bam_rd2out_howsm_single_mode_single_read_readassigned.txt\"#\"/Users/irffanalahi/Research/Research_code/MHB_per_read/readbasedDecon2_v2/data/thorough_checking/try1/corres_pos_cgr1-1222701_nodup_sorted.bam_rd2out_howsm_single_mode_pp_readassigned.txt\" ##comes from poorman mhb\n",
    "\n"
   ]
  },
  {
   "cell_type": "code",
   "execution_count": 2,
   "metadata": {},
   "outputs": [],
   "source": [
    "firstdict=open(firstassigned,\"r\")\n",
    "firstdict=firstdict.read()\n",
    "firstdict=ast.literal_eval(firstdict)\n",
    "\n",
    "\n",
    "\n",
    "seconddict=open(secondassigned,\"r\")\n",
    "seconddict=seconddict.read()\n",
    "seconddict=ast.literal_eval(seconddict)\n",
    "\n",
    "'''\n",
    "print(\"firstdict\")\n",
    "print(firstdict)\n",
    "\n",
    "print(\"secondict\")\n",
    "print(seconddict)\n",
    "\n",
    "'''\n"
   ]
  },
  {
   "cell_type": "code",
   "execution_count": 3,
   "metadata": {},
   "outputs": [
    {
     "data": {
      "text/plain": [
       "False"
      ]
     },
     "execution_count": 3,
     "metadata": {},
     "output_type": "execute_result"
    }
   ],
   "source": [
    "list(firstdict.keys())[0]==eval(list(seconddict.keys())[0])"
   ]
  },
  {
   "cell_type": "code",
   "execution_count": 4,
   "metadata": {},
   "outputs": [
    {
     "data": {
      "text/plain": [
       "'A00580:76:HFLG2DSXX:2:1342:13331:3161'"
      ]
     },
     "execution_count": 4,
     "metadata": {},
     "output_type": "execute_result"
    }
   ],
   "source": [
    "firstdict['CD14'][0]"
   ]
  },
  {
   "cell_type": "code",
   "execution_count": 5,
   "metadata": {},
   "outputs": [
    {
     "data": {
      "text/plain": [
       "'A00580:76:HFLG2DSXX:4:1130:17897:19617'"
      ]
     },
     "execution_count": 5,
     "metadata": {},
     "output_type": "execute_result"
    }
   ],
   "source": [
    "seconddict[list(seconddict.keys())[0]][0]"
   ]
  },
  {
   "cell_type": "code",
   "execution_count": 6,
   "metadata": {},
   "outputs": [
    {
     "name": "stdout",
     "output_type": "stream",
     "text": [
      "['CD14', 'CD19', 'CD4CD8', 'CD56']\n"
     ]
    }
   ],
   "source": [
    "firstdictkeys=list(firstdict.keys())\n",
    "print(firstdictkeys)"
   ]
  },
  {
   "cell_type": "code",
   "execution_count": 7,
   "metadata": {},
   "outputs": [
    {
     "name": "stdout",
     "output_type": "stream",
     "text": [
      "[\"'CD4CD8'\", \"'CD56'\", \"'CD14'\", \"'CD19'\"]\n"
     ]
    }
   ],
   "source": [
    "seconddictkeys=list(seconddict.keys())\n",
    "print(seconddictkeys)"
   ]
  },
  {
   "cell_type": "code",
   "execution_count": 8,
   "metadata": {},
   "outputs": [
    {
     "name": "stdout",
     "output_type": "stream",
     "text": [
      "CD4CD8\n"
     ]
    }
   ],
   "source": [
    "k1=list(firstdict.keys())[2] #### seelct the cell type\n",
    "print(k1)"
   ]
  },
  {
   "cell_type": "code",
   "execution_count": 9,
   "metadata": {},
   "outputs": [
    {
     "name": "stdout",
     "output_type": "stream",
     "text": [
      "'CD4CD8'\n"
     ]
    }
   ],
   "source": [
    "k2=list(seconddict.keys())[0]  #### seelct the cell type\n",
    "print(k2)"
   ]
  },
  {
   "cell_type": "code",
   "execution_count": 10,
   "metadata": {},
   "outputs": [
    {
     "data": {
      "text/plain": [
       "123"
      ]
     },
     "execution_count": 10,
     "metadata": {},
     "output_type": "execute_result"
    }
   ],
   "source": [
    "len(firstdict[k1])"
   ]
  },
  {
   "cell_type": "code",
   "execution_count": 11,
   "metadata": {},
   "outputs": [
    {
     "data": {
      "text/plain": [
       "87"
      ]
     },
     "execution_count": 11,
     "metadata": {},
     "output_type": "execute_result"
    }
   ],
   "source": [
    "len(seconddict[k2])"
   ]
  },
  {
   "cell_type": "code",
   "execution_count": 12,
   "metadata": {},
   "outputs": [
    {
     "name": "stdout",
     "output_type": "stream",
     "text": [
      "48\n",
      "['A00118:116:HJ7VFDSXX:3:2571:4354:35618', 'A00580:76:HFLG2DSXX:2:1678:6922:28635', 'A00118:116:HJ7VFDSXX:3:2255:16450:13886', 'A00580:76:HFLG2DSXX:3:1652:30635:34507', 'A00118:116:HJ7VFDSXX:3:2248:25572:4664', 'A00580:76:HFLG2DSXX:2:1319:26847:31485', 'A00580:76:HFLG2DSXX:4:1553:26765:19946', 'A00580:76:HFLG2DSXX:3:1278:11397:15749', 'A00580:76:HFLG2DSXX:4:2672:27444:21339', 'A00580:76:HFLG2DSXX:2:1178:11017:12367', 'A00118:116:HJ7VFDSXX:3:1342:11134:17112', 'A00580:76:HFLG2DSXX:4:1140:15826:22138', 'A00580:76:HFLG2DSXX:3:1444:10547:7639', 'A00580:76:HFLG2DSXX:4:2407:31349:31234', 'A00580:76:HFLG2DSXX:2:1121:20292:16125', 'A00580:76:HFLG2DSXX:4:2329:17607:18082', 'A00118:116:HJ7VFDSXX:3:2601:8350:11600', 'A00580:76:HFLG2DSXX:3:1138:14624:24189', 'A00580:76:HFLG2DSXX:3:2352:16957:10316', 'A00118:116:HJ7VFDSXX:3:2223:11451:26209', 'A00118:116:HJ7VFDSXX:3:1431:7057:27680', 'A00580:76:HFLG2DSXX:4:1375:17671:29183', 'A00118:116:HJ7VFDSXX:3:1664:19840:14810', 'A00580:76:HFLG2DSXX:4:2632:19822:6042', 'A00580:76:HFLG2DSXX:2:2615:26838:22701', 'A00580:76:HFLG2DSXX:2:1377:22462:36542', 'A00118:116:HJ7VFDSXX:3:1338:1009:31454', 'A00580:76:HFLG2DSXX:2:1557:32606:19601', 'A00580:76:HFLG2DSXX:4:1422:20265:33959', 'A00580:76:HFLG2DSXX:3:2652:14154:32894', 'A00580:76:HFLG2DSXX:4:2549:12102:20478', 'A00580:76:HFLG2DSXX:2:2106:13205:2284', 'A00580:76:HFLG2DSXX:3:2513:6162:13886', 'A00580:76:HFLG2DSXX:2:1246:25364:24752', 'A00118:116:HJ7VFDSXX:3:1257:8513:7122', 'A00118:116:HJ7VFDSXX:3:1275:16098:36229', 'A00118:116:HJ7VFDSXX:3:1362:6976:4554', 'A00580:76:HFLG2DSXX:4:2343:19859:9580', 'A00580:76:HFLG2DSXX:3:1301:31702:11992', 'A00580:76:HFLG2DSXX:4:2547:30174:18521', 'A00118:116:HJ7VFDSXX:3:2258:28727:29731', 'A00580:76:HFLG2DSXX:2:2177:30219:13745', 'A00580:76:HFLG2DSXX:4:1358:27263:13823', 'A00580:76:HFLG2DSXX:3:1345:2257:16924', 'A00118:116:HJ7VFDSXX:3:2350:24379:2660', 'A00118:116:HJ7VFDSXX:3:2173:2410:27586', 'A00580:76:HFLG2DSXX:4:1333:10312:24549', 'A00580:76:HFLG2DSXX:3:1552:31069:26396']\n"
     ]
    }
   ],
   "source": [
    "common=list(set(firstdict[k1]).intersection(seconddict[k2]))\n",
    "print(len(common))\n",
    "print(common)"
   ]
  },
  {
   "cell_type": "code",
   "execution_count": 13,
   "metadata": {},
   "outputs": [
    {
     "name": "stdout",
     "output_type": "stream",
     "text": [
      "75\n",
      "['A00118:116:HJ7VFDSXX:3:1371:1850:27868', 'A00118:116:HJ7VFDSXX:3:1457:28619:8907', 'A00580:76:HFLG2DSXX:2:2264:28989:16877', 'A00580:76:HFLG2DSXX:3:2524:29026:22701', 'A00580:76:HFLG2DSXX:2:1578:17128:17378', 'A00580:76:HFLG2DSXX:3:2346:2926:26412', 'A00580:76:HFLG2DSXX:2:1330:1624:31579', 'A00580:76:HFLG2DSXX:3:2361:30852:11052', 'A00580:76:HFLG2DSXX:3:1622:27154:19147', 'A00118:116:HJ7VFDSXX:3:2305:24985:1485', 'A00580:76:HFLG2DSXX:4:2272:17580:4726', 'A00580:76:HFLG2DSXX:4:1678:20790:32863', 'A00580:76:HFLG2DSXX:4:2247:11026:24784', 'A00580:76:HFLG2DSXX:3:2275:3757:18928', 'A00580:76:HFLG2DSXX:2:2570:21070:19257', 'A00580:76:HFLG2DSXX:2:2113:9462:12148', 'A00580:76:HFLG2DSXX:4:2414:8323:20791', 'A00580:76:HFLG2DSXX:3:2165:15673:27884', 'A00580:76:HFLG2DSXX:2:1202:28655:3114', 'A00580:76:HFLG2DSXX:3:2209:30951:34616', 'A00580:76:HFLG2DSXX:2:2162:20365:19539', 'A00580:76:HFLG2DSXX:3:1337:17526:33974', 'A00580:76:HFLG2DSXX:3:1356:16062:18787', 'A00118:116:HJ7VFDSXX:3:2342:22327:9189', 'A00580:76:HFLG2DSXX:4:1150:8269:12555', 'A00580:76:HFLG2DSXX:3:2160:17228:13917', 'A00580:76:HFLG2DSXX:4:1666:22779:10692', 'A00580:76:HFLG2DSXX:2:2610:9055:4147', 'A00580:76:HFLG2DSXX:3:1555:8757:33692', 'A00580:76:HFLG2DSXX:2:2243:3278:4726', 'A00580:76:HFLG2DSXX:2:2247:18177:8954', 'A00118:116:HJ7VFDSXX:3:2373:13612:13761', 'A00118:116:HJ7VFDSXX:3:2456:4752:36213', 'A00118:116:HJ7VFDSXX:3:1140:32597:8531', 'A00580:76:HFLG2DSXX:3:2250:1181:19727', 'A00118:116:HJ7VFDSXX:3:1224:28836:32268', 'A00118:116:HJ7VFDSXX:3:1609:3468:9251', 'A00580:76:HFLG2DSXX:3:1573:9932:12336', 'A00580:76:HFLG2DSXX:3:1517:14181:23766', 'A00118:116:HJ7VFDSXX:3:2523:8034:27649', 'A00580:76:HFLG2DSXX:3:2566:20012:14888', 'A00118:116:HJ7VFDSXX:3:1469:18557:36260', 'A00118:116:HJ7VFDSXX:3:1576:29830:6809', 'A00580:76:HFLG2DSXX:4:1258:12120:3349', 'A00580:76:HFLG2DSXX:3:1601:22290:3803', 'A00580:76:HFLG2DSXX:4:1639:1172:35336', 'A00580:76:HFLG2DSXX:4:2436:22435:34272', 'A00580:76:HFLG2DSXX:3:1360:26024:9111', 'A00580:76:HFLG2DSXX:2:1639:31168:20870', 'A00580:76:HFLG2DSXX:4:1346:31964:6496', 'A00580:76:HFLG2DSXX:2:1124:23249:19680', 'A00118:116:HJ7VFDSXX:3:2671:18285:28808', 'A00580:76:HFLG2DSXX:3:1353:27163:2722', 'A00580:76:HFLG2DSXX:4:1309:20238:6104', 'A00580:76:HFLG2DSXX:4:2676:2031:30060', 'A00580:76:HFLG2DSXX:4:1655:30951:23625', 'A00580:76:HFLG2DSXX:3:1414:32642:32534', 'A00118:116:HJ7VFDSXX:3:1129:8947:13980', 'A00580:76:HFLG2DSXX:2:2145:17788:30953', 'A00580:76:HFLG2DSXX:4:1665:23746:23829', 'A00580:76:HFLG2DSXX:4:2471:10339:25817', 'A00580:76:HFLG2DSXX:2:1206:4661:16830', 'A00580:76:HFLG2DSXX:2:2434:19090:9533', 'A00580:76:HFLG2DSXX:2:2101:23122:19241', 'A00580:76:HFLG2DSXX:3:2104:26151:17409', 'A00580:76:HFLG2DSXX:2:1206:26847:10942', 'A00580:76:HFLG2DSXX:2:2474:16550:1219', 'A00580:76:HFLG2DSXX:3:1638:12608:14121', 'A00118:116:HJ7VFDSXX:3:2253:2980:32174', 'A00118:116:HJ7VFDSXX:3:1657:18222:5087', 'A00580:76:HFLG2DSXX:3:2246:3658:32158', 'A00580:76:HFLG2DSXX:2:1321:8006:28729', 'A00580:76:HFLG2DSXX:3:1427:32497:1720', 'A00580:76:HFLG2DSXX:4:2145:10438:4225', 'A00580:76:HFLG2DSXX:3:2638:22679:36511']\n"
     ]
    }
   ],
   "source": [
    "exclfirst=list(set(firstdict[k1]).difference(seconddict[k2]))\n",
    "print(len(exclfirst))\n",
    "print(exclfirst)"
   ]
  },
  {
   "cell_type": "code",
   "execution_count": 14,
   "metadata": {},
   "outputs": [
    {
     "name": "stdout",
     "output_type": "stream",
     "text": [
      "15\n",
      "['A00580:76:HFLG2DSXX:3:2532:13069:32737', 'A00580:76:HFLG2DSXX:4:2606:26901:20932', 'A00580:76:HFLG2DSXX:4:1130:17897:19617', 'A00118:116:HJ7VFDSXX:3:1674:11966:4429', 'A00118:116:HJ7VFDSXX:3:2374:4625:33051', 'A00580:76:HFLG2DSXX:4:1305:28664:29997', 'A00580:76:HFLG2DSXX:4:2134:18249:7169', 'A00580:76:HFLG2DSXX:4:1671:15438:7122', 'A00580:76:HFLG2DSXX:3:1370:27344:23735', 'A00580:76:HFLG2DSXX:2:2412:12373:26365', 'A00580:76:HFLG2DSXX:3:2530:16532:17848', 'A00580:76:HFLG2DSXX:2:2426:22905:27414', 'A00580:76:HFLG2DSXX:2:1467:21224:10629', 'A00580:76:HFLG2DSXX:4:1625:17580:28776', 'A00580:76:HFLG2DSXX:2:1147:19479:17440']\n"
     ]
    }
   ],
   "source": [
    "exclsecond=list(set(seconddict[k2]).difference(firstdict[k1]))\n",
    "print(len(exclsecond))\n",
    "print(exclsecond)"
   ]
  }
 ],
 "metadata": {
  "kernelspec": {
   "display_name": "Python 3",
   "language": "python",
   "name": "python3"
  },
  "language_info": {
   "codemirror_mode": {
    "name": "ipython",
    "version": 3
   },
   "file_extension": ".py",
   "mimetype": "text/x-python",
   "name": "python",
   "nbconvert_exporter": "python",
   "pygments_lexer": "ipython3",
   "version": "3.6.7"
  }
 },
 "nbformat": 4,
 "nbformat_minor": 2
}
