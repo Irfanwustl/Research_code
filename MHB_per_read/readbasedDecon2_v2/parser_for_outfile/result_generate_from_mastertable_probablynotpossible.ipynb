{
 "cells": [
  {
   "cell_type": "code",
   "execution_count": 1,
   "metadata": {},
   "outputs": [],
   "source": [
    "import pandas as pd"
   ]
  },
  {
   "cell_type": "code",
   "execution_count": 2,
   "metadata": {},
   "outputs": [
    {
     "data": {
      "text/html": [
       "<div>\n",
       "<style scoped>\n",
       "    .dataframe tbody tr th:only-of-type {\n",
       "        vertical-align: middle;\n",
       "    }\n",
       "\n",
       "    .dataframe tbody tr th {\n",
       "        vertical-align: top;\n",
       "    }\n",
       "\n",
       "    .dataframe thead th {\n",
       "        text-align: right;\n",
       "    }\n",
       "</style>\n",
       "<table border=\"1\" class=\"dataframe\">\n",
       "  <thead>\n",
       "    <tr style=\"text-align: right;\">\n",
       "      <th></th>\n",
       "      <th>A00580:76:HFLG2DSXX:3:1655:9670:13980</th>\n",
       "      <th>A00580:76:HFLG2DSXX:3:2328:26006:36793</th>\n",
       "      <th>A00580:76:HFLG2DSXX:4:2312:22345:11381</th>\n",
       "      <th>A00580:76:HFLG2DSXX:3:1227:19849:32142</th>\n",
       "    </tr>\n",
       "    <tr>\n",
       "      <th>celltype</th>\n",
       "      <th></th>\n",
       "      <th></th>\n",
       "      <th></th>\n",
       "      <th></th>\n",
       "    </tr>\n",
       "  </thead>\n",
       "  <tbody>\n",
       "    <tr>\n",
       "      <th>'CD8'</th>\n",
       "      <td>[]</td>\n",
       "      <td>[]</td>\n",
       "      <td>[]</td>\n",
       "      <td>[]</td>\n",
       "    </tr>\n",
       "    <tr>\n",
       "      <th>'CD14'</th>\n",
       "      <td>['chr1:1222700']</td>\n",
       "      <td>[]</td>\n",
       "      <td>[]</td>\n",
       "      <td>[]</td>\n",
       "    </tr>\n",
       "    <tr>\n",
       "      <th>'CD56'</th>\n",
       "      <td>[]</td>\n",
       "      <td>[]</td>\n",
       "      <td>[]</td>\n",
       "      <td>['chr1:1222781']</td>\n",
       "    </tr>\n",
       "    <tr>\n",
       "      <th>'CD4'</th>\n",
       "      <td>[]</td>\n",
       "      <td>[]</td>\n",
       "      <td>[]</td>\n",
       "      <td>[]</td>\n",
       "    </tr>\n",
       "  </tbody>\n",
       "</table>\n",
       "</div>"
      ],
      "text/plain": [
       "         A00580:76:HFLG2DSXX:3:1655:9670:13980  \\\n",
       "celltype                                         \n",
       " 'CD8'                                      []   \n",
       "'CD14'                        ['chr1:1222700']   \n",
       "'CD56'                                      []   \n",
       "'CD4'                                       []   \n",
       "\n",
       "         A00580:76:HFLG2DSXX:3:2328:26006:36793  \\\n",
       "celltype                                          \n",
       " 'CD8'                                       []   \n",
       "'CD14'                                       []   \n",
       "'CD56'                                       []   \n",
       "'CD4'                                        []   \n",
       "\n",
       "         A00580:76:HFLG2DSXX:4:2312:22345:11381  \\\n",
       "celltype                                          \n",
       " 'CD8'                                       []   \n",
       "'CD14'                                       []   \n",
       "'CD56'                                       []   \n",
       "'CD4'                                        []   \n",
       "\n",
       "         A00580:76:HFLG2DSXX:3:1227:19849:32142  \n",
       "celltype                                         \n",
       " 'CD8'                                       []  \n",
       "'CD14'                                       []  \n",
       "'CD56'                         ['chr1:1222781']  \n",
       "'CD4'                                        []  "
      ]
     },
     "execution_count": 2,
     "metadata": {},
     "output_type": "execute_result"
    }
   ],
   "source": [
    "mastermat=\"/Users/irffanalahi/Research/Research_code/MHB_per_read/readbasedDecon2_v2/data/thorough_checking/try1/corres_pos_cgr1-1222701_nodup_sorted.bam_rd2out_howsm_single_mode_pp_readCpG.txt_mastertable.txt\"\n",
    "outname=mastermat+\"_binarized.txt\"\n",
    "\n",
    "\n",
    "mmdf=pd.read_csv(mastermat,sep=\"\\t\",index_col=0)\n",
    "\n",
    "mmdf.head()"
   ]
  },
  {
   "cell_type": "code",
   "execution_count": 3,
   "metadata": {},
   "outputs": [],
   "source": [
    "outdf=mmdf.copy()\n",
    "\n",
    "for key, value in mmdf.iteritems(): \n",
    "    colval=mmdf[key]\n",
    "    #print(colval)\n",
    "    \n",
    "    #print(max(colval,key=len))\n",
    "    assignedcelltype=(colval[colval==max(colval,key=len)].index.values).tolist()\n",
    "    outdf[key]=0\n",
    "    #print(assignedcelltype)\n",
    "    if len(assignedcelltype)==1:\n",
    "        outdf.at[assignedcelltype[0],key]=1\n",
    "    \n",
    "    #print(mmdf)\n",
    "    #print(outdf)\n",
    "    \n",
    "    \n",
    "    \n",
    "    \n",
    "outdf.to_csv(outname,sep='\\t')\n",
    "    "
   ]
  },
  {
   "cell_type": "code",
   "execution_count": 4,
   "metadata": {},
   "outputs": [
    {
     "name": "stdout",
     "output_type": "stream",
     "text": [
      "done\n"
     ]
    }
   ],
   "source": [
    "outdfrawcount=(pd.DataFrame(outdf.sum(axis=1))).transpose()\n",
    "outdfrawcount.to_csv(outname+\"_rawcount.txt\",sep='\\t',index=False)\n",
    "print(\"done\")"
   ]
  }
 ],
 "metadata": {
  "kernelspec": {
   "display_name": "Python 3",
   "language": "python",
   "name": "python3"
  },
  "language_info": {
   "codemirror_mode": {
    "name": "ipython",
    "version": 3
   },
   "file_extension": ".py",
   "mimetype": "text/x-python",
   "name": "python",
   "nbconvert_exporter": "python",
   "pygments_lexer": "ipython3",
   "version": "3.6.7"
  }
 },
 "nbformat": 4,
 "nbformat_minor": 2
}
