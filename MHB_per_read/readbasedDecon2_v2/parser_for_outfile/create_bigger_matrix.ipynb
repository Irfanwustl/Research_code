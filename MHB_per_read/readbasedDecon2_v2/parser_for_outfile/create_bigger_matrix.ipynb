{
 "cells": [
  {
   "cell_type": "code",
   "execution_count": 1,
   "metadata": {},
   "outputs": [],
   "source": [
    "import pandas as pd\n",
    "import ast"
   ]
  },
  {
   "cell_type": "code",
   "execution_count": 2,
   "metadata": {},
   "outputs": [],
   "source": [
    "\n",
    "readcpg=\"/Users/irffanalahi/Research/weekly/for_10_8_20/graphics/mhb_cd4_cd8/uncollapse_mhb/analyse_readassign_ok/outfolder/alldefault/stat/BULK-PBMC-1389.bg_howsm_single_mode_pp_readALLCpG.txt\"#\"/Users/irffanalahi/Research/weekly/for_10_8_20/graphics/forcodedevelopment/data/out/corres_pos_cgr1-1222701_nodup_sorted.bam_rd2out_howsm_single_mode_pp_readALLCpG.txt\"\n",
    "cpgcelltype= \"/Users/irffanalahi/Research/weekly/for_10_8_20/graphics/mhb_cd4_cd8/uncollapse_mhb/analyse_readassign_ok/blnoneu_all_matrix_intesectedwith_smMHB_cd4_cd8_g50_hypo_assigned.txt_mhb.txt\"#\"/Users/irffanalahi/Research/weekly/for_10_8_20/graphics/forcodedevelopment/data/corres_pos_cgr1-1222701_nodup_sorted_cpg_testSM2.txt\" #\"/Users/irffanalahi/Research/Research_code/MHB_per_read/readbasedDecon2_v2/data/thorough_checking/corres_pos_cgr1-1222701_nodup_sorted_cpg_testSM2.txt\" ##assigned_mhb like \n",
    "\n",
    "outname=readcpg+\"_mastertable.txt\""
   ]
  },
  {
   "cell_type": "code",
   "execution_count": 3,
   "metadata": {},
   "outputs": [],
   "source": [
    "readcpgDict=open(readcpg,\"r\")\n",
    "readcpgDict=readcpgDict.read()\n",
    "readcpgDict=ast.literal_eval(readcpgDict)\n",
    "#print(readcpgDict)"
   ]
  },
  {
   "cell_type": "code",
   "execution_count": 4,
   "metadata": {},
   "outputs": [
    {
     "data": {
      "text/html": [
       "<div>\n",
       "<style scoped>\n",
       "    .dataframe tbody tr th:only-of-type {\n",
       "        vertical-align: middle;\n",
       "    }\n",
       "\n",
       "    .dataframe tbody tr th {\n",
       "        vertical-align: top;\n",
       "    }\n",
       "\n",
       "    .dataframe thead th {\n",
       "        text-align: right;\n",
       "    }\n",
       "</style>\n",
       "<table border=\"1\" class=\"dataframe\">\n",
       "  <thead>\n",
       "    <tr style=\"text-align: right;\">\n",
       "      <th></th>\n",
       "      <th>chrom</th>\n",
       "      <th>start</th>\n",
       "      <th>end</th>\n",
       "      <th>celltype</th>\n",
       "    </tr>\n",
       "  </thead>\n",
       "  <tbody>\n",
       "    <tr>\n",
       "      <th>0</th>\n",
       "      <td>chr1</td>\n",
       "      <td>1764382</td>\n",
       "      <td>1764384</td>\n",
       "      <td>['CD14']</td>\n",
       "    </tr>\n",
       "    <tr>\n",
       "      <th>1</th>\n",
       "      <td>chr1</td>\n",
       "      <td>1764416</td>\n",
       "      <td>1764418</td>\n",
       "      <td>['CD14']</td>\n",
       "    </tr>\n",
       "    <tr>\n",
       "      <th>2</th>\n",
       "      <td>chr1</td>\n",
       "      <td>2251996</td>\n",
       "      <td>2251998</td>\n",
       "      <td>['CD4CD8']</td>\n",
       "    </tr>\n",
       "    <tr>\n",
       "      <th>3</th>\n",
       "      <td>chr1</td>\n",
       "      <td>2251998</td>\n",
       "      <td>2252000</td>\n",
       "      <td>['CD4CD8']</td>\n",
       "    </tr>\n",
       "    <tr>\n",
       "      <th>4</th>\n",
       "      <td>chr1</td>\n",
       "      <td>6670015</td>\n",
       "      <td>6670017</td>\n",
       "      <td>['CD56']</td>\n",
       "    </tr>\n",
       "  </tbody>\n",
       "</table>\n",
       "</div>"
      ],
      "text/plain": [
       "  chrom    start      end    celltype\n",
       "0  chr1  1764382  1764384    ['CD14']\n",
       "1  chr1  1764416  1764418    ['CD14']\n",
       "2  chr1  2251996  2251998  ['CD4CD8']\n",
       "3  chr1  2251998  2252000  ['CD4CD8']\n",
       "4  chr1  6670015  6670017    ['CD56']"
      ]
     },
     "execution_count": 4,
     "metadata": {},
     "output_type": "execute_result"
    }
   ],
   "source": [
    "cpgcelltypedf=pd.read_csv(cpgcelltype,sep=\"\\t\")\n",
    "cpgcelltypedf['celltype'] = cpgcelltypedf.celltype.apply(lambda x: x[1:-1].split(','))\n",
    "cpgcelltypedf.head()"
   ]
  },
  {
   "cell_type": "code",
   "execution_count": 5,
   "metadata": {},
   "outputs": [
    {
     "data": {
      "text/plain": [
       "[\"'CD19'\", \"'CD14'\", \"'CD4CD8'\", \"'CD56'\"]"
      ]
     },
     "execution_count": 5,
     "metadata": {},
     "output_type": "execute_result"
    }
   ],
   "source": [
    "allcells=cpgcelltypedf['celltype'].tolist()\n",
    "allcells_flat_list = [item for sublist in allcells for item in sublist]\n",
    "allcellsunique=list(set(allcells_flat_list))\n",
    "allcellsunique"
   ]
  },
  {
   "cell_type": "code",
   "execution_count": 6,
   "metadata": {},
   "outputs": [],
   "source": [
    "outdf=pd.DataFrame(index=allcellsunique,columns=list(readcpgDict.keys()))\n",
    "outdf.index.name = 'celltype'\n",
    "#outdf"
   ]
  },
  {
   "cell_type": "code",
   "execution_count": 7,
   "metadata": {},
   "outputs": [
    {
     "name": "stdout",
     "output_type": "stream",
     "text": [
      "done\n"
     ]
    }
   ],
   "source": [
    "for cell in allcellsunique:\n",
    "    finallist={}  ###all read for a cell type\n",
    "    #print(cell)\n",
    "    for read in readcpgDict:\n",
    "        readlist=[] ### all cpg for a read\n",
    "        uniquecpgintheread=(list(set(readcpgDict[read])))  ###paired reads ek e jaygay map korle cpg repeat hote pare\n",
    "      \n",
    "        for cpg in uniquecpgintheread:\n",
    "            if not cpg:\n",
    "                continue\n",
    "            cpgchrom,cpgstart=cpg.split(\":\")\n",
    "            cpgstart=int(cpgstart)\n",
    "            #print(cpgchrom)\n",
    "            #print(cpgstart)\n",
    "            \n",
    "            cpgcorresscelltype=((cpgcelltypedf[(cpgcelltypedf['chrom']==cpgchrom) & (cpgcelltypedf['start'] ==cpgstart)])['celltype']).tolist()\n",
    "            cpgcorresscelltype=[item for sublist in cpgcorresscelltype for item in sublist]\n",
    "            \n",
    "            if cell in cpgcorresscelltype:\n",
    "                readlist.append(cpg)\n",
    "                \n",
    "        finallist[read]=readlist\n",
    "        \n",
    "    #print(finallist)\n",
    "        \n",
    "        \n",
    "    outdf.loc[cell]=pd.Series(finallist)\n",
    "outdf.to_csv(outname,sep='\\t')\n",
    "\n",
    "print(\"done\")"
   ]
  }
 ],
 "metadata": {
  "kernelspec": {
   "display_name": "Python 3",
   "language": "python",
   "name": "python3"
  },
  "language_info": {
   "codemirror_mode": {
    "name": "ipython",
    "version": 3
   },
   "file_extension": ".py",
   "mimetype": "text/x-python",
   "name": "python",
   "nbconvert_exporter": "python",
   "pygments_lexer": "ipython3",
   "version": "3.6.7"
  }
 },
 "nbformat": 4,
 "nbformat_minor": 2
}
