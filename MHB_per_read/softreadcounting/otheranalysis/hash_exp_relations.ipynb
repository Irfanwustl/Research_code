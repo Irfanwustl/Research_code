{
 "cells": [
  {
   "cell_type": "code",
   "execution_count": 1,
   "metadata": {},
   "outputs": [
    {
     "data": {
      "text/html": [
       "<div>\n",
       "<style scoped>\n",
       "    .dataframe tbody tr th:only-of-type {\n",
       "        vertical-align: middle;\n",
       "    }\n",
       "\n",
       "    .dataframe tbody tr th {\n",
       "        vertical-align: top;\n",
       "    }\n",
       "\n",
       "    .dataframe thead th {\n",
       "        text-align: right;\n",
       "    }\n",
       "</style>\n",
       "<table border=\"1\" class=\"dataframe\">\n",
       "  <thead>\n",
       "    <tr style=\"text-align: right;\">\n",
       "      <th></th>\n",
       "      <th>index</th>\n",
       "      <th>Filename</th>\n",
       "      <th>Average Value</th>\n",
       "      <th>Line Count</th>\n",
       "      <th>CenterLineNumber</th>\n",
       "      <th>Cell Type</th>\n",
       "      <th>SM</th>\n",
       "    </tr>\n",
       "  </thead>\n",
       "  <tbody>\n",
       "    <tr>\n",
       "      <th>0</th>\n",
       "      <td>0</td>\n",
       "      <td>g1_n4_g2_NKn4_-0.2_int_g1_n4_g2_Tregsn4_-0.2_i...</td>\n",
       "      <td>0.375</td>\n",
       "      <td>21</td>\n",
       "      <td>20</td>\n",
       "      <td>NaiveCD4</td>\n",
       "      <td>SMNaiveCD4_0</td>\n",
       "    </tr>\n",
       "    <tr>\n",
       "      <th>1</th>\n",
       "      <td>1</td>\n",
       "      <td>g1_n4_g2_NKn4_-0.2_int_g1_n4_g2_Tregsn4_-0.4_i...</td>\n",
       "      <td>0.375</td>\n",
       "      <td>20</td>\n",
       "      <td>20</td>\n",
       "      <td>NaiveCD4</td>\n",
       "      <td>SMNaiveCD4_1</td>\n",
       "    </tr>\n",
       "    <tr>\n",
       "      <th>2</th>\n",
       "      <td>2</td>\n",
       "      <td>g1_n4_g2_NKn4_-0.2_int_g1_n4_g2_Tregsn4_-0.4_i...</td>\n",
       "      <td>0.400</td>\n",
       "      <td>19</td>\n",
       "      <td>20</td>\n",
       "      <td>NaiveCD4</td>\n",
       "      <td>SMNaiveCD4_2</td>\n",
       "    </tr>\n",
       "    <tr>\n",
       "      <th>3</th>\n",
       "      <td>3</td>\n",
       "      <td>g1_n4_g2_NKn4_-0.8_int_g1_n4_g2_Tregsn4_-0.6_i...</td>\n",
       "      <td>0.500</td>\n",
       "      <td>22</td>\n",
       "      <td>20</td>\n",
       "      <td>NaiveCD4</td>\n",
       "      <td>SMNaiveCD4_3</td>\n",
       "    </tr>\n",
       "    <tr>\n",
       "      <th>4</th>\n",
       "      <td>4</td>\n",
       "      <td>g1_n4_g2_NKn4_-0.4_int_g1_n4_g2_Tregsn4_-0.2_i...</td>\n",
       "      <td>0.575</td>\n",
       "      <td>20</td>\n",
       "      <td>20</td>\n",
       "      <td>NaiveCD4</td>\n",
       "      <td>SMNaiveCD4_4</td>\n",
       "    </tr>\n",
       "  </tbody>\n",
       "</table>\n",
       "</div>"
      ],
      "text/plain": [
       "   index                                           Filename  Average Value  \\\n",
       "0      0  g1_n4_g2_NKn4_-0.2_int_g1_n4_g2_Tregsn4_-0.2_i...          0.375   \n",
       "1      1  g1_n4_g2_NKn4_-0.2_int_g1_n4_g2_Tregsn4_-0.4_i...          0.375   \n",
       "2      2  g1_n4_g2_NKn4_-0.2_int_g1_n4_g2_Tregsn4_-0.4_i...          0.400   \n",
       "3      3  g1_n4_g2_NKn4_-0.8_int_g1_n4_g2_Tregsn4_-0.6_i...          0.500   \n",
       "4      4  g1_n4_g2_NKn4_-0.4_int_g1_n4_g2_Tregsn4_-0.2_i...          0.575   \n",
       "\n",
       "   Line Count  CenterLineNumber Cell Type            SM  \n",
       "0          21                20  NaiveCD4  SMNaiveCD4_0  \n",
       "1          20                20  NaiveCD4  SMNaiveCD4_1  \n",
       "2          19                20  NaiveCD4  SMNaiveCD4_2  \n",
       "3          22                20  NaiveCD4  SMNaiveCD4_3  \n",
       "4          20                20  NaiveCD4  SMNaiveCD4_4  "
      ]
     },
     "execution_count": 1,
     "metadata": {},
     "output_type": "execute_result"
    }
   ],
   "source": [
    "import pandas as pd\n",
    "import seaborn as sns\n",
    "import os\n",
    "sminfofile='/Users/irffanalahi/Research/Research_update/SoftRD/hash_EXP_relations/n4_thresholdpos_allthresholdcombinations.txt_fianlselection.txt'\n",
    "perfromance_file='/Users/irffanalahi/Research/Research_update/SoftRD/hash_EXP_relations/n4masterperf_deconresult_gt_merged_pearson.txt'\n",
    "\n",
    "sminfodf=pd.read_csv(sminfofile,sep='\\t')\n",
    "sminfodf.head()"
   ]
  },
  {
   "cell_type": "code",
   "execution_count": 2,
   "metadata": {},
   "outputs": [
    {
     "data": {
      "text/html": [
       "<div>\n",
       "<style scoped>\n",
       "    .dataframe tbody tr th:only-of-type {\n",
       "        vertical-align: middle;\n",
       "    }\n",
       "\n",
       "    .dataframe tbody tr th {\n",
       "        vertical-align: top;\n",
       "    }\n",
       "\n",
       "    .dataframe thead th {\n",
       "        text-align: right;\n",
       "    }\n",
       "</style>\n",
       "<table border=\"1\" class=\"dataframe\">\n",
       "  <thead>\n",
       "    <tr style=\"text-align: right;\">\n",
       "      <th></th>\n",
       "      <th>Sm</th>\n",
       "      <th>cytof</th>\n",
       "      <th>1stflow</th>\n",
       "    </tr>\n",
       "  </thead>\n",
       "  <tbody>\n",
       "    <tr>\n",
       "      <th>0</th>\n",
       "      <td>SMNaiveCD4_0_result_dupindex_binnedstats.pkl_m...</td>\n",
       "      <td>0.130920</td>\n",
       "      <td>0.618042</td>\n",
       "    </tr>\n",
       "    <tr>\n",
       "      <th>1</th>\n",
       "      <td>SMNaiveCD4_10_result_dupindex_binnedstats.pkl_...</td>\n",
       "      <td>0.710218</td>\n",
       "      <td>0.797455</td>\n",
       "    </tr>\n",
       "    <tr>\n",
       "      <th>2</th>\n",
       "      <td>SMNaiveCD4_11_result_dupindex_binnedstats.pkl_...</td>\n",
       "      <td>0.192388</td>\n",
       "      <td>0.609470</td>\n",
       "    </tr>\n",
       "    <tr>\n",
       "      <th>3</th>\n",
       "      <td>SMNaiveCD4_12_result_dupindex_binnedstats.pkl_...</td>\n",
       "      <td>0.845882</td>\n",
       "      <td>0.745488</td>\n",
       "    </tr>\n",
       "    <tr>\n",
       "      <th>4</th>\n",
       "      <td>SMNaiveCD4_13_result_dupindex_binnedstats.pkl_...</td>\n",
       "      <td>0.763176</td>\n",
       "      <td>0.706285</td>\n",
       "    </tr>\n",
       "  </tbody>\n",
       "</table>\n",
       "</div>"
      ],
      "text/plain": [
       "                                                  Sm     cytof   1stflow\n",
       "0  SMNaiveCD4_0_result_dupindex_binnedstats.pkl_m...  0.130920  0.618042\n",
       "1  SMNaiveCD4_10_result_dupindex_binnedstats.pkl_...  0.710218  0.797455\n",
       "2  SMNaiveCD4_11_result_dupindex_binnedstats.pkl_...  0.192388  0.609470\n",
       "3  SMNaiveCD4_12_result_dupindex_binnedstats.pkl_...  0.845882  0.745488\n",
       "4  SMNaiveCD4_13_result_dupindex_binnedstats.pkl_...  0.763176  0.706285"
      ]
     },
     "execution_count": 2,
     "metadata": {},
     "output_type": "execute_result"
    }
   ],
   "source": [
    "perfromancedf=pd.read_csv(perfromance_file,sep='\\t')\n",
    "perfromancedf.head()"
   ]
  },
  {
   "cell_type": "code",
   "execution_count": 3,
   "metadata": {},
   "outputs": [
    {
     "name": "stdout",
     "output_type": "stream",
     "text": [
      "(43, 7)\n",
      "(43, 3)\n"
     ]
    }
   ],
   "source": [
    "print(sminfodf.shape)\n",
    "print(perfromancedf.shape)"
   ]
  },
  {
   "cell_type": "code",
   "execution_count": 4,
   "metadata": {},
   "outputs": [
    {
     "data": {
      "text/html": [
       "<div>\n",
       "<style scoped>\n",
       "    .dataframe tbody tr th:only-of-type {\n",
       "        vertical-align: middle;\n",
       "    }\n",
       "\n",
       "    .dataframe tbody tr th {\n",
       "        vertical-align: top;\n",
       "    }\n",
       "\n",
       "    .dataframe thead th {\n",
       "        text-align: right;\n",
       "    }\n",
       "</style>\n",
       "<table border=\"1\" class=\"dataframe\">\n",
       "  <thead>\n",
       "    <tr style=\"text-align: right;\">\n",
       "      <th></th>\n",
       "      <th>Sm</th>\n",
       "      <th>cytof</th>\n",
       "      <th>1stflow</th>\n",
       "      <th>SM</th>\n",
       "      <th>Last</th>\n",
       "    </tr>\n",
       "  </thead>\n",
       "  <tbody>\n",
       "    <tr>\n",
       "      <th>0</th>\n",
       "      <td>SMNaiveCD4_0_result_dupindex_binnedstats.pkl_m...</td>\n",
       "      <td>0.130920</td>\n",
       "      <td>0.618042</td>\n",
       "      <td>SMNaiveCD4_0</td>\n",
       "      <td>dupindex_binnedstats.pkl_maxscore</td>\n",
       "    </tr>\n",
       "    <tr>\n",
       "      <th>1</th>\n",
       "      <td>SMNaiveCD4_10_result_dupindex_binnedstats.pkl_...</td>\n",
       "      <td>0.710218</td>\n",
       "      <td>0.797455</td>\n",
       "      <td>SMNaiveCD4_10</td>\n",
       "      <td>dupindex_binnedstats.pkl_maxscore</td>\n",
       "    </tr>\n",
       "    <tr>\n",
       "      <th>2</th>\n",
       "      <td>SMNaiveCD4_11_result_dupindex_binnedstats.pkl_...</td>\n",
       "      <td>0.192388</td>\n",
       "      <td>0.609470</td>\n",
       "      <td>SMNaiveCD4_11</td>\n",
       "      <td>dupindex_binnedstats.pkl_maxscore</td>\n",
       "    </tr>\n",
       "    <tr>\n",
       "      <th>3</th>\n",
       "      <td>SMNaiveCD4_12_result_dupindex_binnedstats.pkl_...</td>\n",
       "      <td>0.845882</td>\n",
       "      <td>0.745488</td>\n",
       "      <td>SMNaiveCD4_12</td>\n",
       "      <td>dupindex_binnedstats.pkl_maxscore</td>\n",
       "    </tr>\n",
       "    <tr>\n",
       "      <th>4</th>\n",
       "      <td>SMNaiveCD4_13_result_dupindex_binnedstats.pkl_...</td>\n",
       "      <td>0.763176</td>\n",
       "      <td>0.706285</td>\n",
       "      <td>SMNaiveCD4_13</td>\n",
       "      <td>dupindex_binnedstats.pkl_maxscore</td>\n",
       "    </tr>\n",
       "  </tbody>\n",
       "</table>\n",
       "</div>"
      ],
      "text/plain": [
       "                                                  Sm     cytof   1stflow  \\\n",
       "0  SMNaiveCD4_0_result_dupindex_binnedstats.pkl_m...  0.130920  0.618042   \n",
       "1  SMNaiveCD4_10_result_dupindex_binnedstats.pkl_...  0.710218  0.797455   \n",
       "2  SMNaiveCD4_11_result_dupindex_binnedstats.pkl_...  0.192388  0.609470   \n",
       "3  SMNaiveCD4_12_result_dupindex_binnedstats.pkl_...  0.845882  0.745488   \n",
       "4  SMNaiveCD4_13_result_dupindex_binnedstats.pkl_...  0.763176  0.706285   \n",
       "\n",
       "              SM                               Last  \n",
       "0   SMNaiveCD4_0  dupindex_binnedstats.pkl_maxscore  \n",
       "1  SMNaiveCD4_10  dupindex_binnedstats.pkl_maxscore  \n",
       "2  SMNaiveCD4_11  dupindex_binnedstats.pkl_maxscore  \n",
       "3  SMNaiveCD4_12  dupindex_binnedstats.pkl_maxscore  \n",
       "4  SMNaiveCD4_13  dupindex_binnedstats.pkl_maxscore  "
      ]
     },
     "execution_count": 4,
     "metadata": {},
     "output_type": "execute_result"
    }
   ],
   "source": [
    "perfromancedf[['SM','Last']] = perfromancedf.Sm.str.split(\"_result_\",expand=True)\n",
    "perfromancedf.head()"
   ]
  },
  {
   "cell_type": "code",
   "execution_count": 5,
   "metadata": {},
   "outputs": [
    {
     "data": {
      "text/html": [
       "<div>\n",
       "<style scoped>\n",
       "    .dataframe tbody tr th:only-of-type {\n",
       "        vertical-align: middle;\n",
       "    }\n",
       "\n",
       "    .dataframe tbody tr th {\n",
       "        vertical-align: top;\n",
       "    }\n",
       "\n",
       "    .dataframe thead th {\n",
       "        text-align: right;\n",
       "    }\n",
       "</style>\n",
       "<table border=\"1\" class=\"dataframe\">\n",
       "  <thead>\n",
       "    <tr style=\"text-align: right;\">\n",
       "      <th></th>\n",
       "      <th>index</th>\n",
       "      <th>Filename</th>\n",
       "      <th>Average Value</th>\n",
       "      <th>Line Count</th>\n",
       "      <th>CenterLineNumber</th>\n",
       "      <th>Cell Type</th>\n",
       "      <th>SM</th>\n",
       "      <th>Sm</th>\n",
       "      <th>cytof</th>\n",
       "      <th>1stflow</th>\n",
       "      <th>Last</th>\n",
       "    </tr>\n",
       "  </thead>\n",
       "  <tbody>\n",
       "    <tr>\n",
       "      <th>0</th>\n",
       "      <td>0</td>\n",
       "      <td>g1_n4_g2_NKn4_-0.2_int_g1_n4_g2_Tregsn4_-0.2_i...</td>\n",
       "      <td>0.375</td>\n",
       "      <td>21</td>\n",
       "      <td>20</td>\n",
       "      <td>NaiveCD4</td>\n",
       "      <td>SMNaiveCD4_0</td>\n",
       "      <td>SMNaiveCD4_0_result_dupindex_binnedstats.pkl_m...</td>\n",
       "      <td>0.130920</td>\n",
       "      <td>0.618042</td>\n",
       "      <td>dupindex_binnedstats.pkl_maxscore</td>\n",
       "    </tr>\n",
       "    <tr>\n",
       "      <th>1</th>\n",
       "      <td>1</td>\n",
       "      <td>g1_n4_g2_NKn4_-0.2_int_g1_n4_g2_Tregsn4_-0.4_i...</td>\n",
       "      <td>0.375</td>\n",
       "      <td>20</td>\n",
       "      <td>20</td>\n",
       "      <td>NaiveCD4</td>\n",
       "      <td>SMNaiveCD4_1</td>\n",
       "      <td>SMNaiveCD4_1_result_dupindex_binnedstats.pkl_m...</td>\n",
       "      <td>0.130920</td>\n",
       "      <td>0.618042</td>\n",
       "      <td>dupindex_binnedstats.pkl_maxscore</td>\n",
       "    </tr>\n",
       "    <tr>\n",
       "      <th>2</th>\n",
       "      <td>2</td>\n",
       "      <td>g1_n4_g2_NKn4_-0.2_int_g1_n4_g2_Tregsn4_-0.4_i...</td>\n",
       "      <td>0.400</td>\n",
       "      <td>19</td>\n",
       "      <td>20</td>\n",
       "      <td>NaiveCD4</td>\n",
       "      <td>SMNaiveCD4_2</td>\n",
       "      <td>SMNaiveCD4_2_result_dupindex_binnedstats.pkl_m...</td>\n",
       "      <td>0.672997</td>\n",
       "      <td>0.798928</td>\n",
       "      <td>dupindex_binnedstats.pkl_maxscore</td>\n",
       "    </tr>\n",
       "    <tr>\n",
       "      <th>3</th>\n",
       "      <td>3</td>\n",
       "      <td>g1_n4_g2_NKn4_-0.8_int_g1_n4_g2_Tregsn4_-0.6_i...</td>\n",
       "      <td>0.500</td>\n",
       "      <td>22</td>\n",
       "      <td>20</td>\n",
       "      <td>NaiveCD4</td>\n",
       "      <td>SMNaiveCD4_3</td>\n",
       "      <td>SMNaiveCD4_3_result_dupindex_binnedstats.pkl_m...</td>\n",
       "      <td>0.360039</td>\n",
       "      <td>0.482325</td>\n",
       "      <td>dupindex_binnedstats.pkl_maxscore</td>\n",
       "    </tr>\n",
       "    <tr>\n",
       "      <th>4</th>\n",
       "      <td>4</td>\n",
       "      <td>g1_n4_g2_NKn4_-0.4_int_g1_n4_g2_Tregsn4_-0.2_i...</td>\n",
       "      <td>0.575</td>\n",
       "      <td>20</td>\n",
       "      <td>20</td>\n",
       "      <td>NaiveCD4</td>\n",
       "      <td>SMNaiveCD4_4</td>\n",
       "      <td>SMNaiveCD4_4_result_dupindex_binnedstats.pkl_m...</td>\n",
       "      <td>0.475028</td>\n",
       "      <td>0.666729</td>\n",
       "      <td>dupindex_binnedstats.pkl_maxscore</td>\n",
       "    </tr>\n",
       "  </tbody>\n",
       "</table>\n",
       "</div>"
      ],
      "text/plain": [
       "   index                                           Filename  Average Value  \\\n",
       "0      0  g1_n4_g2_NKn4_-0.2_int_g1_n4_g2_Tregsn4_-0.2_i...          0.375   \n",
       "1      1  g1_n4_g2_NKn4_-0.2_int_g1_n4_g2_Tregsn4_-0.4_i...          0.375   \n",
       "2      2  g1_n4_g2_NKn4_-0.2_int_g1_n4_g2_Tregsn4_-0.4_i...          0.400   \n",
       "3      3  g1_n4_g2_NKn4_-0.8_int_g1_n4_g2_Tregsn4_-0.6_i...          0.500   \n",
       "4      4  g1_n4_g2_NKn4_-0.4_int_g1_n4_g2_Tregsn4_-0.2_i...          0.575   \n",
       "\n",
       "   Line Count  CenterLineNumber Cell Type            SM  \\\n",
       "0          21                20  NaiveCD4  SMNaiveCD4_0   \n",
       "1          20                20  NaiveCD4  SMNaiveCD4_1   \n",
       "2          19                20  NaiveCD4  SMNaiveCD4_2   \n",
       "3          22                20  NaiveCD4  SMNaiveCD4_3   \n",
       "4          20                20  NaiveCD4  SMNaiveCD4_4   \n",
       "\n",
       "                                                  Sm     cytof   1stflow  \\\n",
       "0  SMNaiveCD4_0_result_dupindex_binnedstats.pkl_m...  0.130920  0.618042   \n",
       "1  SMNaiveCD4_1_result_dupindex_binnedstats.pkl_m...  0.130920  0.618042   \n",
       "2  SMNaiveCD4_2_result_dupindex_binnedstats.pkl_m...  0.672997  0.798928   \n",
       "3  SMNaiveCD4_3_result_dupindex_binnedstats.pkl_m...  0.360039  0.482325   \n",
       "4  SMNaiveCD4_4_result_dupindex_binnedstats.pkl_m...  0.475028  0.666729   \n",
       "\n",
       "                                Last  \n",
       "0  dupindex_binnedstats.pkl_maxscore  \n",
       "1  dupindex_binnedstats.pkl_maxscore  \n",
       "2  dupindex_binnedstats.pkl_maxscore  \n",
       "3  dupindex_binnedstats.pkl_maxscore  \n",
       "4  dupindex_binnedstats.pkl_maxscore  "
      ]
     },
     "execution_count": 5,
     "metadata": {},
     "output_type": "execute_result"
    }
   ],
   "source": [
    "sminfodfmerged=sminfodf.merge(perfromancedf,on='SM')\n",
    "sminfodfmerged.head()"
   ]
  },
  {
   "cell_type": "code",
   "execution_count": 6,
   "metadata": {},
   "outputs": [
    {
     "name": "stderr",
     "output_type": "stream",
     "text": [
      "/Library/Frameworks/Python.framework/Versions/3.6/lib/python3.6/site-packages/numpy/core/_asarray.py:83: VisibleDeprecationWarning: Creating an ndarray from ragged nested sequences (which is a list-or-tuple of lists-or-tuples-or ndarrays with different lengths or shapes) is deprecated. If you meant to do this, you must specify 'dtype=object' when creating the ndarray\n",
      "  return array(a, dtype, copy=False, order=order)\n"
     ]
    },
    {
     "data": {
      "text/plain": [
       "<matplotlib.axes._subplots.AxesSubplot at 0x7f8f05636c50>"
      ]
     },
     "execution_count": 6,
     "metadata": {},
     "output_type": "execute_result"
    },
    {
     "data": {
      "image/png": "[encoded data removed]",
      "text/plain": [
       "<Figure size 432x288 with 1 Axes>"
      ]
     },
     "metadata": {
      "needs_background": "light"
     },
     "output_type": "display_data"
    }
   ],
   "source": [
    "sminfodfmerged.boxplot(column=['1stflow'], by='CenterLineNumber',grid=False)"
   ]
  },
  {
   "cell_type": "code",
   "execution_count": 7,
   "metadata": {},
   "outputs": [
    {
     "data": {
      "image/png": "[encoded data removed]",
      "text/plain": [
       "<Figure size 432x288 with 1 Axes>"
      ]
     },
     "metadata": {
      "needs_background": "light"
     },
     "output_type": "display_data"
    }
   ],
   "source": [
    "ax=sns.boxplot(data=sminfodfmerged,color='white',x='CenterLineNumber', y='1stflow')\n",
    "ax=sns.stripplot(color = 'red',data = sminfodfmerged,size =3,x='CenterLineNumber', y='1stflow')\n",
    "\n",
    "\n",
    "\n",
    "for i,box in enumerate(ax.artists):\n",
    "    box.set_edgecolor('black')\n",
    "    box.set_facecolor('white')\n",
    "\n",
    "    # iterate over whiskers and median lines\n",
    "    for j in range(6*i,6*(i+1)):\n",
    "         ax.lines[j].set_color('black')\n",
    "\n",
    "\n"
   ]
  },
  {
   "cell_type": "code",
   "execution_count": 8,
   "metadata": {},
   "outputs": [
    {
     "data": {
      "image/png": "[encoded data removed]",
      "text/plain": [
       "<Figure size 432x288 with 1 Axes>"
      ]
     },
     "metadata": {
      "needs_background": "light"
     },
     "output_type": "display_data"
    }
   ],
   "source": [
    "ax=sns.boxplot(data=sminfodfmerged,color='white',x='CenterLineNumber', y='cytof')\n",
    "ax=sns.stripplot(color = 'red',data = sminfodfmerged,size =3,x='CenterLineNumber', y='cytof')\n",
    "\n",
    "\n",
    "\n",
    "for i,box in enumerate(ax.artists):\n",
    "    box.set_edgecolor('black')\n",
    "    box.set_facecolor('white')\n",
    "\n",
    "    # iterate over whiskers and median lines\n",
    "    for j in range(6*i,6*(i+1)):\n",
    "         ax.lines[j].set_color('black')\n"
   ]
  },
  {
   "cell_type": "code",
   "execution_count": 9,
   "metadata": {},
   "outputs": [
    {
     "name": "stderr",
     "output_type": "stream",
     "text": [
      "/Library/Frameworks/Python.framework/Versions/3.6/lib/python3.6/site-packages/numpy/core/_asarray.py:83: VisibleDeprecationWarning: Creating an ndarray from ragged nested sequences (which is a list-or-tuple of lists-or-tuples-or ndarrays with different lengths or shapes) is deprecated. If you meant to do this, you must specify 'dtype=object' when creating the ndarray\n",
      "  return array(a, dtype, copy=False, order=order)\n"
     ]
    },
    {
     "data": {
      "text/plain": [
       "<matplotlib.axes._subplots.AxesSubplot at 0x7f8f0624aac8>"
      ]
     },
     "execution_count": 9,
     "metadata": {},
     "output_type": "execute_result"
    },
    {
     "data": {
      "image/png": "[encoded data removed]",
      "text/plain": [
       "<Figure size 432x288 with 1 Axes>"
      ]
     },
     "metadata": {
      "needs_background": "light"
     },
     "output_type": "display_data"
    }
   ],
   "source": [
    "sminfodfmerged.boxplot(column=['cytof'], by='CenterLineNumber',grid=False)"
   ]
  },
  {
   "cell_type": "code",
   "execution_count": 10,
   "metadata": {},
   "outputs": [],
   "source": [
    "sminfodfmerged.to_csv(sminfofile+os.path.basename(perfromance_file),sep=\"\\t\",index=False)"
   ]
  }
 ],
 "metadata": {
  "kernelspec": {
   "display_name": "Python 3",
   "language": "python",
   "name": "python3"
  },
  "language_info": {
   "codemirror_mode": {
    "name": "ipython",
    "version": 3
   },
   "file_extension": ".py",
   "mimetype": "text/x-python",
   "name": "python",
   "nbconvert_exporter": "python",
   "pygments_lexer": "ipython3",
   "version": "3.6.7"
  }
 },
 "nbformat": 4,
 "nbformat_minor": 2
}
