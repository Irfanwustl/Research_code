{
 "cells": [
  {
   "cell_type": "code",
   "execution_count": 1,
   "metadata": {},
   "outputs": [
    {
     "data": {
      "text/plain": [
       "13"
      ]
     },
     "execution_count": 1,
     "metadata": {},
     "output_type": "execute_result"
    }
   ],
   "source": [
    "import pandas as pd\n",
    "smfile='/Users/irffanalahi/Research/Research_code/gitignorefolder/MHB_per_read/softreadcounting/testtheidea/BL14_all_matrixCin_nr0.4_imputed_rowmean.txt_bg_intesectedwith_CD4DMRofBL14atleast.2SM.txt'\n",
    "cpgdf=pd.read_csv(smfile,sep=\"\\t\",index_col=['chrom','start','end'])\n",
    "celltype='CD4'\n",
    "\n",
    "cpgdf=cpgdf.drop(['shouldbechrom','pos'],axis=1)\n",
    "colnames=cpgdf.columns.tolist()\n",
    "otherct=colnames[0:colnames.index('DMRchr')]\n",
    "otherct.remove(celltype)\n",
    "len(otherct)\n"
   ]
  },
  {
   "cell_type": "code",
   "execution_count": 2,
   "metadata": {},
   "outputs": [
    {
     "data": {
      "text/plain": [
       "['CD8',\n",
       " 'nB',\n",
       " 'NK',\n",
       " 'Mn',\n",
       " 'mNeu',\n",
       " 'm8',\n",
       " 'DC',\n",
       " 'Eo',\n",
       " 'Tr',\n",
       " 'm4',\n",
       " 'Mg',\n",
       " 'Er',\n",
       " 'mB']"
      ]
     },
     "execution_count": 2,
     "metadata": {},
     "output_type": "execute_result"
    }
   ],
   "source": [
    "otherct"
   ]
  },
  {
   "cell_type": "code",
   "execution_count": 3,
   "metadata": {},
   "outputs": [
    {
     "data": {
      "text/plain": [
       "<matplotlib.axes._subplots.AxesSubplot at 0x7fb374a76b70>"
      ]
     },
     "execution_count": 3,
     "metadata": {},
     "output_type": "execute_result"
    },
    {
     "data": {
      "image/png": "[encoded data removed]",
      "text/plain": [
       "<Figure size 432x288 with 1 Axes>"
      ]
     },
     "metadata": {
      "needs_background": "light"
     },
     "output_type": "display_data"
    }
   ],
   "source": [
    "othermean=cpgdf[otherct].mean(axis=1)\n",
    "cpgdf['othermean']=othermean\n",
    "cpgdf['1-othermean']=1-cpgdf['othermean']\n",
    "cpgdf['1-'+celltype]=1-cpgdf[celltype]\n",
    "\n",
    "cpgdf[celltype+\"-othermean\"]=cpgdf[celltype]-cpgdf['othermean']\n",
    "\n",
    "cpgdf.plot.scatter(x='1-othermean',y='1-'+celltype)"
   ]
  },
  {
   "cell_type": "code",
   "execution_count": 4,
   "metadata": {},
   "outputs": [],
   "source": [
    "cpgdf.to_csv(smfile+\"_formatted.txt\",sep=\"\\t\")"
   ]
  }
 ],
 "metadata": {
  "kernelspec": {
   "display_name": "Python 3",
   "language": "python",
   "name": "python3"
  },
  "language_info": {
   "codemirror_mode": {
    "name": "ipython",
    "version": 3
   },
   "file_extension": ".py",
   "mimetype": "text/x-python",
   "name": "python",
   "nbconvert_exporter": "python",
   "pygments_lexer": "ipython3",
   "version": "3.6.7"
  }
 },
 "nbformat": 4,
 "nbformat_minor": 2
}
