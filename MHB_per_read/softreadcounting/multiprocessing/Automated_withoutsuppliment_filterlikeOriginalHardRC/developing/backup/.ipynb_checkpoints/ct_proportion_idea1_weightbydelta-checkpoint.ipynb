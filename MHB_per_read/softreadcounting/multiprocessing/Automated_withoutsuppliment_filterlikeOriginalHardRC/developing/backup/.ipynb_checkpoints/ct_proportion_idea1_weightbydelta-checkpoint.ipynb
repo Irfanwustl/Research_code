{
 "cells": [
  {
   "cell_type": "code",
   "execution_count": null,
   "metadata": {},
   "outputs": [],
   "source": [
    "import pandas as pd\n",
    "from collections import defaultdict\n",
    "import sys\n",
    "\n",
    "\n",
    "posscorefile='CD8TIL_pbl_tum_all_matrix_allout_ranked_SM_top50_maxscore_CSxOut.txt' #sys.argv[1] #'/Users/irffanalahi/Research/Research_code/gitignorefolder/MHB_per_read/softreadcounting/pipe_maxpossiblescore_idea/oldsmset2_toy_somesamples_globalout_binnedstats.pkl_onlydup_softRC/BL22_TILAUC1_dummyfull.txt_result_dupindex_binnedstats.pkl_maxscore_CSxOut.txt'\n",
    "\n",
    "outfile=  #sys.argv[2] #posscorefile+\"_proportion.txt\"\n",
    "\n",
    "smfile='CD8TIL_pbl_tum_all_matrix_allout_ranked_SM_top50_SM_unique' #sys.argv[3] #'/Users/irffanalahi/Research/Research_code/gitignorefolder/MHB_per_read/softreadcounting/pipe_maxpossiblescore_idea/oldsmset2_toy/BL22_TILAUC1_dummy_partialCauseBL22impute.txt'\n",
    "\n",
    "posscoredf=pd.read_csv(posscorefile,sep=\"\\t\",index_col='Mixture')\n",
    "\n",
    "\n",
    "\n",
    "smdf=pd.read_csv(smfile,sep=\"\\t\",index_col=['chrom','start'])\n",
    "smdf.head()"
   ]
  },
  {
   "cell_type": "code",
   "execution_count": null,
   "metadata": {},
   "outputs": [],
   "source": [
    "smdf['mincolname']=smdf.idxmin(axis=1)\n",
    "smdf.head()"
   ]
  },
  {
   "cell_type": "code",
   "execution_count": null,
   "metadata": {},
   "outputs": [],
   "source": [
    "grouped=smdf.groupby('mincolname')\n",
    "outlist=defaultdict(list)\n",
    "for name, group in grouped:\n",
    "    tempct=name.replace('-others','')\n",
    "    outlist[tempct].append(group.shape[0])"
   ]
  },
  {
   "cell_type": "code",
   "execution_count": null,
   "metadata": {},
   "outputs": [],
   "source": [
    "outdf=pd.DataFrame.from_dict(outlist,orient='index',columns=['#CpG'])\n",
    "outdf.index.name='Celltype'\n",
    "ct_cpgdf=outdf.copy()\n",
    "ct_cpgdf.reset_index(inplace=True)\n",
    "ct_cpgdf.head()"
   ]
  },
  {
   "cell_type": "code",
   "execution_count": null,
   "metadata": {},
   "outputs": [],
   "source": [
    "posscoredf.head()"
   ]
  },
  {
   "cell_type": "code",
   "execution_count": null,
   "metadata": {},
   "outputs": [],
   "source": [
    "\n",
    "allct=ct_cpgdf['Celltype'].tolist()\n",
    "len(allct)"
   ]
  },
  {
   "cell_type": "code",
   "execution_count": null,
   "metadata": {},
   "outputs": [],
   "source": [
    "for ct in allct:\n",
    "    posscoredf[ct]=posscoredf[ct]/int(ct_cpgdf.loc[ct_cpgdf['Celltype']==ct,'#CpG'])\n"
   ]
  },
  {
   "cell_type": "code",
   "execution_count": null,
   "metadata": {},
   "outputs": [],
   "source": [
    "posscoredf.head()"
   ]
  },
  {
   "cell_type": "code",
   "execution_count": null,
   "metadata": {},
   "outputs": [],
   "source": [
    "\n",
    "sumofnormalizedctscore=posscoredf[allct].sum(axis=1)"
   ]
  },
  {
   "cell_type": "code",
   "execution_count": null,
   "metadata": {},
   "outputs": [],
   "source": [
    "for ct in allct:\n",
    "    posscoredf[ct]=posscoredf[ct]/sumofnormalizedctscore*100"
   ]
  },
  {
   "cell_type": "code",
   "execution_count": null,
   "metadata": {},
   "outputs": [],
   "source": [
    "posscoredf.head()"
   ]
  },
  {
   "cell_type": "code",
   "execution_count": null,
   "metadata": {},
   "outputs": [],
   "source": [
    "posscoredf.to_csv(outfile,sep='\\t')"
   ]
  }
 ],
 "metadata": {
  "kernelspec": {
   "display_name": "Python 3",
   "language": "python",
   "name": "python3"
  },
  "language_info": {
   "codemirror_mode": {
    "name": "ipython",
    "version": 3
   },
   "file_extension": ".py",
   "mimetype": "text/x-python",
   "name": "python",
   "nbconvert_exporter": "python",
   "pygments_lexer": "ipython3",
   "version": "3.6.7"
  }
 },
 "nbformat": 4,
 "nbformat_minor": 2
}
