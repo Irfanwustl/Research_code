{
 "cells": [
  {
   "cell_type": "code",
   "execution_count": 1,
   "metadata": {},
   "outputs": [
    {
     "data": {
      "text/html": [
       "<div>\n",
       "<style scoped>\n",
       "    .dataframe tbody tr th:only-of-type {\n",
       "        vertical-align: middle;\n",
       "    }\n",
       "\n",
       "    .dataframe tbody tr th {\n",
       "        vertical-align: top;\n",
       "    }\n",
       "\n",
       "    .dataframe thead th {\n",
       "        text-align: right;\n",
       "    }\n",
       "</style>\n",
       "<table border=\"1\" class=\"dataframe\">\n",
       "  <thead>\n",
       "    <tr style=\"text-align: right;\">\n",
       "      <th></th>\n",
       "      <th></th>\n",
       "      <th>cm4-others</th>\n",
       "      <th>em4-others</th>\n",
       "      <th>Tcell-others</th>\n",
       "    </tr>\n",
       "    <tr>\n",
       "      <th>chrom</th>\n",
       "      <th>start</th>\n",
       "      <th></th>\n",
       "      <th></th>\n",
       "      <th></th>\n",
       "    </tr>\n",
       "  </thead>\n",
       "  <tbody>\n",
       "    <tr>\n",
       "      <th rowspan=\"5\" valign=\"top\">chr12</th>\n",
       "      <th>24839288</th>\n",
       "      <td>0.1</td>\n",
       "      <td>-0.599212</td>\n",
       "      <td>0.1</td>\n",
       "    </tr>\n",
       "    <tr>\n",
       "      <th>24839321</th>\n",
       "      <td>0.1</td>\n",
       "      <td>-0.563052</td>\n",
       "      <td>0.1</td>\n",
       "    </tr>\n",
       "    <tr>\n",
       "      <th>24839327</th>\n",
       "      <td>0.1</td>\n",
       "      <td>-0.617624</td>\n",
       "      <td>0.1</td>\n",
       "    </tr>\n",
       "    <tr>\n",
       "      <th>24839335</th>\n",
       "      <td>0.1</td>\n",
       "      <td>-0.583388</td>\n",
       "      <td>0.1</td>\n",
       "    </tr>\n",
       "    <tr>\n",
       "      <th>24839342</th>\n",
       "      <td>0.1</td>\n",
       "      <td>-0.594756</td>\n",
       "      <td>0.1</td>\n",
       "    </tr>\n",
       "  </tbody>\n",
       "</table>\n",
       "</div>"
      ],
      "text/plain": [
       "                cm4-others  em4-others  Tcell-others\n",
       "chrom start                                         \n",
       "chr12 24839288         0.1   -0.599212           0.1\n",
       "      24839321         0.1   -0.563052           0.1\n",
       "      24839327         0.1   -0.617624           0.1\n",
       "      24839335         0.1   -0.583388           0.1\n",
       "      24839342         0.1   -0.594756           0.1"
      ]
     },
     "execution_count": 1,
     "metadata": {},
     "output_type": "execute_result"
    }
   ],
   "source": [
    "import pandas as pd\n",
    "from collections import defaultdict\n",
    "\n",
    "\n",
    "posscorefile='/Users/irffanalahi/Research/Research_code/gitignorefolder/MHB_per_read/softreadcounting/pipe_maxpossiblescore_idea/oldsmset2_toy_somesamples_globalout_binnedstats.pkl_onlydup_softRC/BL22_TILAUC1_dummyfull.txt_result_dupindex_binnedstats.pkl_maxscore_CSxOut.txt'\n",
    "\n",
    "outfile=posscorefile+\"_proportion.txt\"\n",
    "\n",
    "smfile='/Users/irffanalahi/Research/Research_code/gitignorefolder/MHB_per_read/softreadcounting/pipe_maxpossiblescore_idea/oldsmset2_toy/BL22_TILAUC1_dummy_partialCauseBL22impute.txt'\n",
    "\n",
    "posscoredf=pd.read_csv(posscorefile,sep=\"\\t\",index_col='Mixture')\n",
    "\n",
    "\n",
    "\n",
    "smdf=pd.read_csv(smfile,sep=\"\\t\",index_col=['chrom','start'])\n",
    "smdf.head()"
   ]
  },
  {
   "cell_type": "code",
   "execution_count": 2,
   "metadata": {},
   "outputs": [
    {
     "data": {
      "text/html": [
       "<div>\n",
       "<style scoped>\n",
       "    .dataframe tbody tr th:only-of-type {\n",
       "        vertical-align: middle;\n",
       "    }\n",
       "\n",
       "    .dataframe tbody tr th {\n",
       "        vertical-align: top;\n",
       "    }\n",
       "\n",
       "    .dataframe thead th {\n",
       "        text-align: right;\n",
       "    }\n",
       "</style>\n",
       "<table border=\"1\" class=\"dataframe\">\n",
       "  <thead>\n",
       "    <tr style=\"text-align: right;\">\n",
       "      <th></th>\n",
       "      <th></th>\n",
       "      <th>cm4-others</th>\n",
       "      <th>em4-others</th>\n",
       "      <th>Tcell-others</th>\n",
       "      <th>mincolname</th>\n",
       "    </tr>\n",
       "    <tr>\n",
       "      <th>chrom</th>\n",
       "      <th>start</th>\n",
       "      <th></th>\n",
       "      <th></th>\n",
       "      <th></th>\n",
       "      <th></th>\n",
       "    </tr>\n",
       "  </thead>\n",
       "  <tbody>\n",
       "    <tr>\n",
       "      <th rowspan=\"5\" valign=\"top\">chr12</th>\n",
       "      <th>24839288</th>\n",
       "      <td>0.1</td>\n",
       "      <td>-0.599212</td>\n",
       "      <td>0.1</td>\n",
       "      <td>em4-others</td>\n",
       "    </tr>\n",
       "    <tr>\n",
       "      <th>24839321</th>\n",
       "      <td>0.1</td>\n",
       "      <td>-0.563052</td>\n",
       "      <td>0.1</td>\n",
       "      <td>em4-others</td>\n",
       "    </tr>\n",
       "    <tr>\n",
       "      <th>24839327</th>\n",
       "      <td>0.1</td>\n",
       "      <td>-0.617624</td>\n",
       "      <td>0.1</td>\n",
       "      <td>em4-others</td>\n",
       "    </tr>\n",
       "    <tr>\n",
       "      <th>24839335</th>\n",
       "      <td>0.1</td>\n",
       "      <td>-0.583388</td>\n",
       "      <td>0.1</td>\n",
       "      <td>em4-others</td>\n",
       "    </tr>\n",
       "    <tr>\n",
       "      <th>24839342</th>\n",
       "      <td>0.1</td>\n",
       "      <td>-0.594756</td>\n",
       "      <td>0.1</td>\n",
       "      <td>em4-others</td>\n",
       "    </tr>\n",
       "  </tbody>\n",
       "</table>\n",
       "</div>"
      ],
      "text/plain": [
       "                cm4-others  em4-others  Tcell-others  mincolname\n",
       "chrom start                                                     \n",
       "chr12 24839288         0.1   -0.599212           0.1  em4-others\n",
       "      24839321         0.1   -0.563052           0.1  em4-others\n",
       "      24839327         0.1   -0.617624           0.1  em4-others\n",
       "      24839335         0.1   -0.583388           0.1  em4-others\n",
       "      24839342         0.1   -0.594756           0.1  em4-others"
      ]
     },
     "execution_count": 2,
     "metadata": {},
     "output_type": "execute_result"
    }
   ],
   "source": [
    "smdf['mincolname']=smdf.idxmin(axis=1)\n",
    "smdf.head()"
   ]
  },
  {
   "cell_type": "code",
   "execution_count": 3,
   "metadata": {},
   "outputs": [],
   "source": [
    "grouped=smdf.groupby('mincolname')\n",
    "outlist=defaultdict(list)\n",
    "for name, group in grouped:\n",
    "    tempct=name.replace('-others','')\n",
    "    outlist[tempct].append(group.shape[0])"
   ]
  },
  {
   "cell_type": "code",
   "execution_count": 4,
   "metadata": {},
   "outputs": [
    {
     "data": {
      "text/html": [
       "<div>\n",
       "<style scoped>\n",
       "    .dataframe tbody tr th:only-of-type {\n",
       "        vertical-align: middle;\n",
       "    }\n",
       "\n",
       "    .dataframe tbody tr th {\n",
       "        vertical-align: top;\n",
       "    }\n",
       "\n",
       "    .dataframe thead th {\n",
       "        text-align: right;\n",
       "    }\n",
       "</style>\n",
       "<table border=\"1\" class=\"dataframe\">\n",
       "  <thead>\n",
       "    <tr style=\"text-align: right;\">\n",
       "      <th></th>\n",
       "      <th>Celltype</th>\n",
       "      <th>#CpG</th>\n",
       "    </tr>\n",
       "  </thead>\n",
       "  <tbody>\n",
       "    <tr>\n",
       "      <th>0</th>\n",
       "      <td>em4</td>\n",
       "      <td>7</td>\n",
       "    </tr>\n",
       "  </tbody>\n",
       "</table>\n",
       "</div>"
      ],
      "text/plain": [
       "  Celltype  #CpG\n",
       "0      em4     7"
      ]
     },
     "execution_count": 4,
     "metadata": {},
     "output_type": "execute_result"
    }
   ],
   "source": [
    "outdf=pd.DataFrame.from_dict(outlist,orient='index',columns=['#CpG'])\n",
    "outdf.index.name='Celltype'\n",
    "ct_cpgdf=outdf.copy()\n",
    "ct_cpgdf.reset_index(inplace=True)\n",
    "ct_cpgdf.head()"
   ]
  },
  {
   "cell_type": "code",
   "execution_count": 5,
   "metadata": {},
   "outputs": [
    {
     "data": {
      "text/html": [
       "<div>\n",
       "<style scoped>\n",
       "    .dataframe tbody tr th:only-of-type {\n",
       "        vertical-align: middle;\n",
       "    }\n",
       "\n",
       "    .dataframe tbody tr th {\n",
       "        vertical-align: top;\n",
       "    }\n",
       "\n",
       "    .dataframe thead th {\n",
       "        text-align: right;\n",
       "    }\n",
       "</style>\n",
       "<table border=\"1\" class=\"dataframe\">\n",
       "  <thead>\n",
       "    <tr style=\"text-align: right;\">\n",
       "      <th></th>\n",
       "      <th>cm4</th>\n",
       "      <th>em4</th>\n",
       "      <th>Tcell</th>\n",
       "    </tr>\n",
       "    <tr>\n",
       "      <th>Mixture</th>\n",
       "      <th></th>\n",
       "      <th></th>\n",
       "      <th></th>\n",
       "    </tr>\n",
       "  </thead>\n",
       "  <tbody>\n",
       "    <tr>\n",
       "      <th>tot-66-cfDNA_binnedstats.pkl</th>\n",
       "      <td>0</td>\n",
       "      <td>2.540391</td>\n",
       "      <td>0</td>\n",
       "    </tr>\n",
       "    <tr>\n",
       "      <th>tot-67-cfDNA_binnedstats.pkl</th>\n",
       "      <td>0</td>\n",
       "      <td>2.904089</td>\n",
       "      <td>0</td>\n",
       "    </tr>\n",
       "    <tr>\n",
       "      <th>tot-72-cfDNA_binnedstats.pkl</th>\n",
       "      <td>0</td>\n",
       "      <td>11.632723</td>\n",
       "      <td>0</td>\n",
       "    </tr>\n",
       "  </tbody>\n",
       "</table>\n",
       "</div>"
      ],
      "text/plain": [
       "                              cm4        em4  Tcell\n",
       "Mixture                                            \n",
       "tot-66-cfDNA_binnedstats.pkl    0   2.540391      0\n",
       "tot-67-cfDNA_binnedstats.pkl    0   2.904089      0\n",
       "tot-72-cfDNA_binnedstats.pkl    0  11.632723      0"
      ]
     },
     "execution_count": 5,
     "metadata": {},
     "output_type": "execute_result"
    }
   ],
   "source": [
    "posscoredf.head()"
   ]
  },
  {
   "cell_type": "code",
   "execution_count": 6,
   "metadata": {},
   "outputs": [
    {
     "data": {
      "text/plain": [
       "1"
      ]
     },
     "execution_count": 6,
     "metadata": {},
     "output_type": "execute_result"
    }
   ],
   "source": [
    "allct=ct_cpgdf['Celltype'].tolist()\n",
    "len(allct)"
   ]
  },
  {
   "cell_type": "code",
   "execution_count": 7,
   "metadata": {},
   "outputs": [],
   "source": [
    "for ct in allct:\n",
    "    posscoredf[ct]=posscoredf[ct]/int(ct_cpgdf.loc[ct_cpgdf['Celltype']==ct,'#CpG'])"
   ]
  },
  {
   "cell_type": "code",
   "execution_count": 8,
   "metadata": {},
   "outputs": [
    {
     "data": {
      "text/html": [
       "<div>\n",
       "<style scoped>\n",
       "    .dataframe tbody tr th:only-of-type {\n",
       "        vertical-align: middle;\n",
       "    }\n",
       "\n",
       "    .dataframe tbody tr th {\n",
       "        vertical-align: top;\n",
       "    }\n",
       "\n",
       "    .dataframe thead th {\n",
       "        text-align: right;\n",
       "    }\n",
       "</style>\n",
       "<table border=\"1\" class=\"dataframe\">\n",
       "  <thead>\n",
       "    <tr style=\"text-align: right;\">\n",
       "      <th></th>\n",
       "      <th>cm4</th>\n",
       "      <th>em4</th>\n",
       "      <th>Tcell</th>\n",
       "    </tr>\n",
       "    <tr>\n",
       "      <th>Mixture</th>\n",
       "      <th></th>\n",
       "      <th></th>\n",
       "      <th></th>\n",
       "    </tr>\n",
       "  </thead>\n",
       "  <tbody>\n",
       "    <tr>\n",
       "      <th>tot-66-cfDNA_binnedstats.pkl</th>\n",
       "      <td>0</td>\n",
       "      <td>0.362913</td>\n",
       "      <td>0</td>\n",
       "    </tr>\n",
       "    <tr>\n",
       "      <th>tot-67-cfDNA_binnedstats.pkl</th>\n",
       "      <td>0</td>\n",
       "      <td>0.414870</td>\n",
       "      <td>0</td>\n",
       "    </tr>\n",
       "    <tr>\n",
       "      <th>tot-72-cfDNA_binnedstats.pkl</th>\n",
       "      <td>0</td>\n",
       "      <td>1.661818</td>\n",
       "      <td>0</td>\n",
       "    </tr>\n",
       "  </tbody>\n",
       "</table>\n",
       "</div>"
      ],
      "text/plain": [
       "                              cm4       em4  Tcell\n",
       "Mixture                                           \n",
       "tot-66-cfDNA_binnedstats.pkl    0  0.362913      0\n",
       "tot-67-cfDNA_binnedstats.pkl    0  0.414870      0\n",
       "tot-72-cfDNA_binnedstats.pkl    0  1.661818      0"
      ]
     },
     "execution_count": 8,
     "metadata": {},
     "output_type": "execute_result"
    }
   ],
   "source": [
    "posscoredf.head()"
   ]
  },
  {
   "cell_type": "code",
   "execution_count": 9,
   "metadata": {},
   "outputs": [],
   "source": [
    "sumofnormalizedctscore=posscoredf[allct].sum(axis=1)"
   ]
  },
  {
   "cell_type": "code",
   "execution_count": 10,
   "metadata": {},
   "outputs": [],
   "source": [
    "for ct in allct:\n",
    "    posscoredf[ct]=posscoredf[ct]/sumofnormalizedctscore*100"
   ]
  },
  {
   "cell_type": "code",
   "execution_count": 11,
   "metadata": {},
   "outputs": [
    {
     "data": {
      "text/html": [
       "<div>\n",
       "<style scoped>\n",
       "    .dataframe tbody tr th:only-of-type {\n",
       "        vertical-align: middle;\n",
       "    }\n",
       "\n",
       "    .dataframe tbody tr th {\n",
       "        vertical-align: top;\n",
       "    }\n",
       "\n",
       "    .dataframe thead th {\n",
       "        text-align: right;\n",
       "    }\n",
       "</style>\n",
       "<table border=\"1\" class=\"dataframe\">\n",
       "  <thead>\n",
       "    <tr style=\"text-align: right;\">\n",
       "      <th></th>\n",
       "      <th>cm4</th>\n",
       "      <th>em4</th>\n",
       "      <th>Tcell</th>\n",
       "    </tr>\n",
       "    <tr>\n",
       "      <th>Mixture</th>\n",
       "      <th></th>\n",
       "      <th></th>\n",
       "      <th></th>\n",
       "    </tr>\n",
       "  </thead>\n",
       "  <tbody>\n",
       "    <tr>\n",
       "      <th>tot-66-cfDNA_binnedstats.pkl</th>\n",
       "      <td>0</td>\n",
       "      <td>100.0</td>\n",
       "      <td>0</td>\n",
       "    </tr>\n",
       "    <tr>\n",
       "      <th>tot-67-cfDNA_binnedstats.pkl</th>\n",
       "      <td>0</td>\n",
       "      <td>100.0</td>\n",
       "      <td>0</td>\n",
       "    </tr>\n",
       "    <tr>\n",
       "      <th>tot-72-cfDNA_binnedstats.pkl</th>\n",
       "      <td>0</td>\n",
       "      <td>100.0</td>\n",
       "      <td>0</td>\n",
       "    </tr>\n",
       "  </tbody>\n",
       "</table>\n",
       "</div>"
      ],
      "text/plain": [
       "                              cm4    em4  Tcell\n",
       "Mixture                                        \n",
       "tot-66-cfDNA_binnedstats.pkl    0  100.0      0\n",
       "tot-67-cfDNA_binnedstats.pkl    0  100.0      0\n",
       "tot-72-cfDNA_binnedstats.pkl    0  100.0      0"
      ]
     },
     "execution_count": 11,
     "metadata": {},
     "output_type": "execute_result"
    }
   ],
   "source": [
    "posscoredf.head()"
   ]
  },
  {
   "cell_type": "code",
   "execution_count": 12,
   "metadata": {},
   "outputs": [],
   "source": [
    "posscoredf.to_csv(outfile,sep='\\t')"
   ]
  }
 ],
 "metadata": {
  "kernelspec": {
   "display_name": "Python 3",
   "language": "python",
   "name": "python3"
  },
  "language_info": {
   "codemirror_mode": {
    "name": "ipython",
    "version": 3
   },
   "file_extension": ".py",
   "mimetype": "text/x-python",
   "name": "python",
   "nbconvert_exporter": "python",
   "pygments_lexer": "ipython3",
   "version": "3.6.7"
  }
 },
 "nbformat": 4,
 "nbformat_minor": 2
}
