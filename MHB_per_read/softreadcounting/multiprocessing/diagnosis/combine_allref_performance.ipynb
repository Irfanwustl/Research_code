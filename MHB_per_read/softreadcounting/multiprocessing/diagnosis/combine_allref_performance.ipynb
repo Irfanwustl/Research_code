{
 "cells": [
  {
   "cell_type": "code",
   "execution_count": 1,
   "metadata": {},
   "outputs": [],
   "source": [
    "import pandas as pd\n",
    "import glob\n",
    "import os\n",
    "import time\n",
    "import sys\n",
    "\n",
    "start_time = time.time()\n",
    "\n",
    "\n",
    "infol='/Users/irffanalahi/Research/Research_update/SoftRD/largerEXP/genepromdelta.7/combine_all_refperformance/SM2_CD4geneprom.7mixture_output_mdadded_sorted_globalout_binnedstats.pkl'\n",
    "\n",
    "suffix='_dupindex_binnedstats.pkl_AllhyperTrue_AUC.txt'\n",
    "\n",
    "hardrdcol='LENhypoCpG'\n",
    "softrdcol='adjustedScore_minus_avg'\n",
    "\n",
    "allstatfiles=glob.glob(infol+\"/*\"+suffix)\n"
   ]
  },
  {
   "cell_type": "code",
   "execution_count": 2,
   "metadata": {},
   "outputs": [],
   "source": [
    "filesoftRCdf=[]\n",
    "fileHARDRCdf=[]\n",
    "for fp in allstatfiles:\n",
    " \n",
    "    \n",
    "    tmpdf=pd.read_csv(fp,sep=\"\\t\",index_col=0)\n",
    "    tmpdfsoftRC=tmpdf[[softrdcol]]\n",
    "    tmpdfhardRC=tmpdf[[hardrdcol]]\n",
    "    \n",
    "    \n",
    "    currentfilename=os.path.basename(fp)\n",
    "    \n",
    "    tmpdfsoftRC=tmpdfsoftRC.rename(columns={softrdcol:currentfilename},errors=\"raise\")\n",
    "    tmpdfhardRC=tmpdfhardRC.rename(columns={hardrdcol:currentfilename},errors=\"raise\")\n",
    "   \n",
    "   \n",
    "    filesoftRCdf.append(tmpdfsoftRC)\n",
    "    fileHARDRCdf.append(tmpdfhardRC)"
   ]
  },
  {
   "cell_type": "code",
   "execution_count": 3,
   "metadata": {},
   "outputs": [],
   "source": [
    "allsoftRCdf=pd.concat(filesoftRCdf,axis=1)\n",
    "\n",
    "allhardRCdf=pd.concat(fileHARDRCdf,axis=1)"
   ]
  },
  {
   "cell_type": "code",
   "execution_count": 4,
   "metadata": {},
   "outputs": [],
   "source": [
    "allsoftRCdf.to_csv(infol+\"_\"+suffix+softrdcol+\".txt\",sep=\"\\t\")\n",
    "allhardRCdf.to_csv(infol+\"_\"+suffix+hardrdcol+\".txt\",sep=\"\\t\")"
   ]
  }
 ],
 "metadata": {
  "kernelspec": {
   "display_name": "Python 3",
   "language": "python",
   "name": "python3"
  },
  "language_info": {
   "codemirror_mode": {
    "name": "ipython",
    "version": 3
   },
   "file_extension": ".py",
   "mimetype": "text/x-python",
   "name": "python",
   "nbconvert_exporter": "python",
   "pygments_lexer": "ipython3",
   "version": "3.6.7"
  }
 },
 "nbformat": 4,
 "nbformat_minor": 2
}
