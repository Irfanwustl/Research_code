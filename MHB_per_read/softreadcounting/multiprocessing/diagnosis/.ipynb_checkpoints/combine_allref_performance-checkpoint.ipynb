{
 "cells": [
  {
   "cell_type": "code",
   "execution_count": 2,
   "metadata": {},
   "outputs": [],
   "source": [
    "import pandas as pd\n",
    "import glob\n",
    "import os\n",
    "import time\n",
    "start_time = time.time()\n",
    "\n",
    "\n",
    "infol='/Users/irffanalahi/Research/Research_update/SoftRD/largerEXP/genepromdelta.7/combine_all_refperformance/SM2_CD4geneprom.7mixture_output_mdadded_sorted_globalout_binnedstats.pkl'\n",
    "\n",
    "suffix='nodupindex_binnedstats.pkl_AllhyperTrue_AUC.txt'\n",
    "\n",
    "allstatfiles=glob.glob(infol+\"/*\"+suffix)\n"
   ]
  },
  {
   "cell_type": "code",
   "execution_count": null,
   "metadata": {},
   "outputs": [],
   "source": [
    "filesoftRCdf=[]\n",
    "fileHARDRCdf=[]\n",
    "for fp in allstatfiles:\n",
    "    tmpdf=pd.read_pickle(fp)\n",
    "    tmpdf['filename']=os.path.basename(fp)\n",
    "    filesdf.append(tmpdf)"
   ]
  }
 ],
 "metadata": {
  "kernelspec": {
   "display_name": "Python 3",
   "language": "python",
   "name": "python3"
  },
  "language_info": {
   "codemirror_mode": {
    "name": "ipython",
    "version": 3
   },
   "file_extension": ".py",
   "mimetype": "text/x-python",
   "name": "python",
   "nbconvert_exporter": "python",
   "pygments_lexer": "ipython3",
   "version": "3.6.7"
  }
 },
 "nbformat": 4,
 "nbformat_minor": 2
}
