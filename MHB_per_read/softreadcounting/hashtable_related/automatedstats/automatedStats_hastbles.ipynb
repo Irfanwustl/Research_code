{
 "cells": [
  {
   "cell_type": "code",
   "execution_count": 1,
   "metadata": {},
   "outputs": [],
   "source": [
    "import pandas as pd\n",
    "import glob\n",
    "import os\n",
    "from collections import defaultdict\n",
    "\n",
    "#infol must have only one cutoff for  one comparison. other 2 vary.\n",
    "infol='/Users/irffanalahi/Research/Research_code/gitignorefolder/MHB_per_read/softreadcounting/downstream/hashtablestats/test'\n",
    "\n",
    "celltype='CD8TIL'\n"
   ]
  },
  {
   "cell_type": "code",
   "execution_count": 2,
   "metadata": {},
   "outputs": [],
   "source": [
    "def listdir_nohidden(path):\n",
    "    return glob.glob(os.path.join(path, '*'))"
   ]
  },
  {
   "cell_type": "code",
   "execution_count": 3,
   "metadata": {},
   "outputs": [],
   "source": [
    "allfiles=listdir_nohidden(infol)\n"
   ]
  },
  {
   "cell_type": "code",
   "execution_count": 4,
   "metadata": {},
   "outputs": [],
   "source": [
    "outdict= defaultdict(list)\n",
    "\n",
    "for  f in  allfiles:\n",
    "    tempdf=pd.read_csv(f,sep='\\t',index_col=['chrom','start'])\n",
    "    tempdf['mincolname']=tempdf.idxmin(axis=1)\n",
    "    ctspecificcpg=tempdf[tempdf['mincolname']==celltype+\"-others\"]\n",
    "    \n",
    "    \n",
    "    if  ctspecificcpg.shape[0]!=tempdf.shape[0]:\n",
    "        print(\"if this is supposed to one ct ref file, it is an error. LOOK CAREFULLY\")\n",
    "    outdict[os.path.basename(f)].append(ctspecificcpg.shape[0])\n",
    "    "
   ]
  },
  {
   "cell_type": "code",
   "execution_count": 11,
   "metadata": {},
   "outputs": [],
   "source": [
    "outdf=pd.DataFrame.from_dict(outdict,orient='index',columns=[celltype])\n",
    "outdf.index.name='SM'\n",
    "\n",
    "outdf.to_csv(infol+\"_\"+celltype+\"_cpgnumber.txt\",sep='\\t')"
   ]
  }
 ],
 "metadata": {
  "kernelspec": {
   "display_name": "Python 3",
   "language": "python",
   "name": "python3"
  },
  "language_info": {
   "codemirror_mode": {
    "name": "ipython",
    "version": 3
   },
   "file_extension": ".py",
   "mimetype": "text/x-python",
   "name": "python",
   "nbconvert_exporter": "python",
   "pygments_lexer": "ipython3",
   "version": "3.6.7"
  }
 },
 "nbformat": 4,
 "nbformat_minor": 2
}
