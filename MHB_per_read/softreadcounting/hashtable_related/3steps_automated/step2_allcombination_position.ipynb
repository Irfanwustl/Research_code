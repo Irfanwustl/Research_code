{
 "cells": [
  {
   "cell_type": "code",
   "execution_count": 1,
   "metadata": {},
   "outputs": [],
   "source": [
    "\n",
    "import os\n",
    "import glob\n",
    "import pybedtools\n",
    "\n",
    "\n",
    "infolder='/Users/irffanalahi/Research/Research_update/SoftRD/hashtable_stats/B22withLTME/automate_v3_3steps/deltafolder_withend_allout'\n",
    "\n",
    "outfolder='/Users/irffanalahi/Research/Research_update/SoftRD/hashtable_stats/B22withLTME/automate_v3_3steps/allcombination'\n",
    "\n",
    "\n"
   ]
  },
  {
   "cell_type": "code",
   "execution_count": 2,
   "metadata": {},
   "outputs": [],
   "source": [
    "def listdir_nohidden(path):\n",
    "    return glob.glob(os.path.join(path, '*'))"
   ]
  },
  {
   "cell_type": "code",
   "execution_count": 3,
   "metadata": {},
   "outputs": [],
   "source": [
    "allfolders=listdir_nohidden(infolder)"
   ]
  },
  {
   "cell_type": "code",
   "execution_count": 4,
   "metadata": {},
   "outputs": [],
   "source": [
    "def runbedinter(filelist1,filelist2):\n",
    "    for  f1 in filelist1:\n",
    "        for f2 in filelist2:\n",
    "            f1bed=pybedtools.BedTool(f1)\n",
    "            f2bed=pybedtools.BedTool(f2)\n",
    "            f1intf2=f1bed.intersect(f2bed)\n",
    "            \n",
    "            f1base=os.path.basename(f1)\n",
    "            f2base=os.path.basename(f2)\n",
    "            \n",
    "            outname=outfolder+'/'+f1base+'_int_'+f2base\n",
    "            \n",
    "            \n",
    "           \n",
    "            \n",
    "            f1intf2.moveto(outname)\n",
    "            \n",
    "            \n",
    "           \n",
    "        "
   ]
  },
  {
   "cell_type": "code",
   "execution_count": 5,
   "metadata": {},
   "outputs": [],
   "source": [
    "totalfolders=len(allfolders)\n",
    "\n",
    "i=0\n",
    "\n",
    "while i<totalfolders:\n",
    "    tempfilelist1=listdir_nohidden(allfolders[i])\n",
    "    \n",
    "   \n",
    "    \n",
    "    j=i+1\n",
    "    while j<totalfolders:\n",
    "        tempfilelist2=listdir_nohidden(allfolders[j])\n",
    "        \n",
    "        \n",
    "        \n",
    "        runbedinter(tempfilelist1,tempfilelist2)\n",
    "        \n",
    "        j=j+1\n",
    "    \n",
    "    i=i+1\n",
    "    \n",
    "   "
   ]
  }
 ],
 "metadata": {
  "kernelspec": {
   "display_name": "Python 3",
   "language": "python",
   "name": "python3"
  },
  "language_info": {
   "codemirror_mode": {
    "name": "ipython",
    "version": 3
   },
   "file_extension": ".py",
   "mimetype": "text/x-python",
   "name": "python",
   "nbconvert_exporter": "python",
   "pygments_lexer": "ipython3",
   "version": "3.6.7"
  }
 },
 "nbformat": 4,
 "nbformat_minor": 2
}
