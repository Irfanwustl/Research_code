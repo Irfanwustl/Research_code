{
 "cells": [
  {
   "cell_type": "code",
   "execution_count": 1,
   "metadata": {},
   "outputs": [
    {
     "data": {
      "text/html": [
       "<div>\n",
       "<style scoped>\n",
       "    .dataframe tbody tr th:only-of-type {\n",
       "        vertical-align: middle;\n",
       "    }\n",
       "\n",
       "    .dataframe tbody tr th {\n",
       "        vertical-align: top;\n",
       "    }\n",
       "\n",
       "    .dataframe thead th {\n",
       "        text-align: right;\n",
       "    }\n",
       "</style>\n",
       "<table border=\"1\" class=\"dataframe\">\n",
       "  <thead>\n",
       "    <tr style=\"text-align: right;\">\n",
       "      <th></th>\n",
       "      <th></th>\n",
       "      <th></th>\n",
       "      <th>NaiveMyloid-others</th>\n",
       "      <th>CD8TIL-others</th>\n",
       "    </tr>\n",
       "    <tr>\n",
       "      <th>chrom</th>\n",
       "      <th>start</th>\n",
       "      <th>end</th>\n",
       "      <th></th>\n",
       "      <th></th>\n",
       "    </tr>\n",
       "  </thead>\n",
       "  <tbody>\n",
       "    <tr>\n",
       "      <th rowspan=\"5\" valign=\"top\">chr1</th>\n",
       "      <th>965868</th>\n",
       "      <th>965870</th>\n",
       "      <td>0.276694</td>\n",
       "      <td>-0.276694</td>\n",
       "    </tr>\n",
       "    <tr>\n",
       "      <th>965889</th>\n",
       "      <th>965891</th>\n",
       "      <td>0.175824</td>\n",
       "      <td>-0.175824</td>\n",
       "    </tr>\n",
       "    <tr>\n",
       "      <th>965932</th>\n",
       "      <th>965934</th>\n",
       "      <td>0.143775</td>\n",
       "      <td>-0.143775</td>\n",
       "    </tr>\n",
       "    <tr>\n",
       "      <th>965991</th>\n",
       "      <th>965993</th>\n",
       "      <td>0.005459</td>\n",
       "      <td>-0.005459</td>\n",
       "    </tr>\n",
       "    <tr>\n",
       "      <th>965997</th>\n",
       "      <th>965999</th>\n",
       "      <td>0.064640</td>\n",
       "      <td>-0.064640</td>\n",
       "    </tr>\n",
       "  </tbody>\n",
       "</table>\n",
       "</div>"
      ],
      "text/plain": [
       "                     NaiveMyloid-others  CD8TIL-others\n",
       "chrom start  end                                      \n",
       "chr1  965868 965870            0.276694      -0.276694\n",
       "      965889 965891            0.175824      -0.175824\n",
       "      965932 965934            0.143775      -0.143775\n",
       "      965991 965993            0.005459      -0.005459\n",
       "      965997 965999            0.064640      -0.064640"
      ]
     },
     "execution_count": 1,
     "metadata": {},
     "output_type": "execute_result"
    }
   ],
   "source": [
    "import pandas as pd\n",
    "from collections import defaultdict\n",
    "\n",
    "infile='/Users/irffanalahi/Research/Research_update/SoftRD/hashtable_stats/B22withLTME/v3_3steps/thirdstepanalysis/try2/naive_myloid_CD8TIL_OthermeanIINTWITH_melCD8TIL_activatted-.1'\n",
    "\n",
    "thresh=-.1\n",
    "\n",
    "cellType='CD8TIL'\n",
    "\n",
    "indf=pd.read_csv(infile,sep=\"\\t\",index_col=['chrom','start','end'])\n",
    "indf.head()"
   ]
  },
  {
   "cell_type": "code",
   "execution_count": 2,
   "metadata": {},
   "outputs": [
    {
     "data": {
      "text/html": [
       "<div>\n",
       "<style scoped>\n",
       "    .dataframe tbody tr th:only-of-type {\n",
       "        vertical-align: middle;\n",
       "    }\n",
       "\n",
       "    .dataframe tbody tr th {\n",
       "        vertical-align: top;\n",
       "    }\n",
       "\n",
       "    .dataframe thead th {\n",
       "        text-align: right;\n",
       "    }\n",
       "</style>\n",
       "<table border=\"1\" class=\"dataframe\">\n",
       "  <thead>\n",
       "    <tr style=\"text-align: right;\">\n",
       "      <th></th>\n",
       "      <th></th>\n",
       "      <th></th>\n",
       "      <th>NaiveMyloid-others</th>\n",
       "      <th>CD8TIL-others</th>\n",
       "      <th>mincolname</th>\n",
       "    </tr>\n",
       "    <tr>\n",
       "      <th>chrom</th>\n",
       "      <th>start</th>\n",
       "      <th>end</th>\n",
       "      <th></th>\n",
       "      <th></th>\n",
       "      <th></th>\n",
       "    </tr>\n",
       "  </thead>\n",
       "  <tbody>\n",
       "    <tr>\n",
       "      <th rowspan=\"5\" valign=\"top\">chr1</th>\n",
       "      <th>965868</th>\n",
       "      <th>965870</th>\n",
       "      <td>0.276694</td>\n",
       "      <td>-0.276694</td>\n",
       "      <td>CD8TIL-others</td>\n",
       "    </tr>\n",
       "    <tr>\n",
       "      <th>965889</th>\n",
       "      <th>965891</th>\n",
       "      <td>0.175824</td>\n",
       "      <td>-0.175824</td>\n",
       "      <td>CD8TIL-others</td>\n",
       "    </tr>\n",
       "    <tr>\n",
       "      <th>965932</th>\n",
       "      <th>965934</th>\n",
       "      <td>0.143775</td>\n",
       "      <td>-0.143775</td>\n",
       "      <td>CD8TIL-others</td>\n",
       "    </tr>\n",
       "    <tr>\n",
       "      <th>965991</th>\n",
       "      <th>965993</th>\n",
       "      <td>0.005459</td>\n",
       "      <td>-0.005459</td>\n",
       "      <td>CD8TIL-others</td>\n",
       "    </tr>\n",
       "    <tr>\n",
       "      <th>965997</th>\n",
       "      <th>965999</th>\n",
       "      <td>0.064640</td>\n",
       "      <td>-0.064640</td>\n",
       "      <td>CD8TIL-others</td>\n",
       "    </tr>\n",
       "  </tbody>\n",
       "</table>\n",
       "</div>"
      ],
      "text/plain": [
       "                     NaiveMyloid-others  CD8TIL-others     mincolname\n",
       "chrom start  end                                                     \n",
       "chr1  965868 965870            0.276694      -0.276694  CD8TIL-others\n",
       "      965889 965891            0.175824      -0.175824  CD8TIL-others\n",
       "      965932 965934            0.143775      -0.143775  CD8TIL-others\n",
       "      965991 965993            0.005459      -0.005459  CD8TIL-others\n",
       "      965997 965999            0.064640      -0.064640  CD8TIL-others"
      ]
     },
     "execution_count": 2,
     "metadata": {},
     "output_type": "execute_result"
    }
   ],
   "source": [
    "indf['mincolname']=indf.idxmin(axis=1)\n",
    "indf.head()"
   ]
  },
  {
   "cell_type": "code",
   "execution_count": 3,
   "metadata": {},
   "outputs": [
    {
     "data": {
      "text/html": [
       "<div>\n",
       "<style scoped>\n",
       "    .dataframe tbody tr th:only-of-type {\n",
       "        vertical-align: middle;\n",
       "    }\n",
       "\n",
       "    .dataframe tbody tr th {\n",
       "        vertical-align: top;\n",
       "    }\n",
       "\n",
       "    .dataframe thead th {\n",
       "        text-align: right;\n",
       "    }\n",
       "</style>\n",
       "<table border=\"1\" class=\"dataframe\">\n",
       "  <thead>\n",
       "    <tr style=\"text-align: right;\">\n",
       "      <th></th>\n",
       "      <th></th>\n",
       "      <th></th>\n",
       "      <th>NaiveMyloid-others</th>\n",
       "      <th>CD8TIL-others</th>\n",
       "      <th>mincolname</th>\n",
       "    </tr>\n",
       "    <tr>\n",
       "      <th>chrom</th>\n",
       "      <th>start</th>\n",
       "      <th>end</th>\n",
       "      <th></th>\n",
       "      <th></th>\n",
       "      <th></th>\n",
       "    </tr>\n",
       "  </thead>\n",
       "  <tbody>\n",
       "    <tr>\n",
       "      <th rowspan=\"5\" valign=\"top\">chr1</th>\n",
       "      <th>965868</th>\n",
       "      <th>965870</th>\n",
       "      <td>0.276694</td>\n",
       "      <td>-0.276694</td>\n",
       "      <td>CD8TIL-others</td>\n",
       "    </tr>\n",
       "    <tr>\n",
       "      <th>965889</th>\n",
       "      <th>965891</th>\n",
       "      <td>0.175824</td>\n",
       "      <td>-0.175824</td>\n",
       "      <td>CD8TIL-others</td>\n",
       "    </tr>\n",
       "    <tr>\n",
       "      <th>965932</th>\n",
       "      <th>965934</th>\n",
       "      <td>0.143775</td>\n",
       "      <td>-0.143775</td>\n",
       "      <td>CD8TIL-others</td>\n",
       "    </tr>\n",
       "    <tr>\n",
       "      <th>973625</th>\n",
       "      <th>973627</th>\n",
       "      <td>0.730712</td>\n",
       "      <td>-0.730712</td>\n",
       "      <td>CD8TIL-others</td>\n",
       "    </tr>\n",
       "    <tr>\n",
       "      <th>983075</th>\n",
       "      <th>983077</th>\n",
       "      <td>0.339054</td>\n",
       "      <td>-0.339054</td>\n",
       "      <td>CD8TIL-others</td>\n",
       "    </tr>\n",
       "  </tbody>\n",
       "</table>\n",
       "</div>"
      ],
      "text/plain": [
       "                     NaiveMyloid-others  CD8TIL-others     mincolname\n",
       "chrom start  end                                                     \n",
       "chr1  965868 965870            0.276694      -0.276694  CD8TIL-others\n",
       "      965889 965891            0.175824      -0.175824  CD8TIL-others\n",
       "      965932 965934            0.143775      -0.143775  CD8TIL-others\n",
       "      973625 973627            0.730712      -0.730712  CD8TIL-others\n",
       "      983075 983077            0.339054      -0.339054  CD8TIL-others"
      ]
     },
     "execution_count": 3,
     "metadata": {},
     "output_type": "execute_result"
    }
   ],
   "source": [
    "CTspecific=indf[(indf['mincolname']==cellType+\"-others\") & (indf[cellType+\"-others\"]<=thresh)]\n",
    "CTspecific.head()"
   ]
  },
  {
   "cell_type": "code",
   "execution_count": 4,
   "metadata": {},
   "outputs": [
    {
     "data": {
      "text/plain": [
       "(83906, 3)"
      ]
     },
     "execution_count": 4,
     "metadata": {},
     "output_type": "execute_result"
    }
   ],
   "source": [
    "CTspecific.shape"
   ]
  },
  {
   "cell_type": "code",
   "execution_count": 5,
   "metadata": {},
   "outputs": [
    {
     "data": {
      "text/plain": [
       "-0.9845833333333334"
      ]
     },
     "execution_count": 5,
     "metadata": {},
     "output_type": "execute_result"
    }
   ],
   "source": [
    "CTspecific[cellType+\"-others\"].min()"
   ]
  },
  {
   "cell_type": "code",
   "execution_count": 6,
   "metadata": {},
   "outputs": [
    {
     "data": {
      "text/plain": [
       "-0.10000000000000002"
      ]
     },
     "execution_count": 6,
     "metadata": {},
     "output_type": "execute_result"
    }
   ],
   "source": [
    "CTspecific[cellType+\"-others\"].max()"
   ]
  },
  {
   "cell_type": "code",
   "execution_count": 7,
   "metadata": {},
   "outputs": [
    {
     "data": {
      "text/html": [
       "<div>\n",
       "<style scoped>\n",
       "    .dataframe tbody tr th:only-of-type {\n",
       "        vertical-align: middle;\n",
       "    }\n",
       "\n",
       "    .dataframe tbody tr th {\n",
       "        vertical-align: top;\n",
       "    }\n",
       "\n",
       "    .dataframe thead th {\n",
       "        text-align: right;\n",
       "    }\n",
       "</style>\n",
       "<table border=\"1\" class=\"dataframe\">\n",
       "  <thead>\n",
       "    <tr style=\"text-align: right;\">\n",
       "      <th></th>\n",
       "      <th>chrom</th>\n",
       "      <th>start</th>\n",
       "      <th>end</th>\n",
       "      <th>NaiveMyloid-others</th>\n",
       "      <th>CD8TIL-others</th>\n",
       "      <th>mincolname</th>\n",
       "    </tr>\n",
       "  </thead>\n",
       "  <tbody>\n",
       "    <tr>\n",
       "      <th>0</th>\n",
       "      <td>chr1</td>\n",
       "      <td>965868</td>\n",
       "      <td>965870</td>\n",
       "      <td>0.276694</td>\n",
       "      <td>-0.276694</td>\n",
       "      <td>CD8TIL-others</td>\n",
       "    </tr>\n",
       "    <tr>\n",
       "      <th>1</th>\n",
       "      <td>chr1</td>\n",
       "      <td>965889</td>\n",
       "      <td>965891</td>\n",
       "      <td>0.175824</td>\n",
       "      <td>-0.175824</td>\n",
       "      <td>CD8TIL-others</td>\n",
       "    </tr>\n",
       "    <tr>\n",
       "      <th>2</th>\n",
       "      <td>chr1</td>\n",
       "      <td>965932</td>\n",
       "      <td>965934</td>\n",
       "      <td>0.143775</td>\n",
       "      <td>-0.143775</td>\n",
       "      <td>CD8TIL-others</td>\n",
       "    </tr>\n",
       "    <tr>\n",
       "      <th>3</th>\n",
       "      <td>chr1</td>\n",
       "      <td>973625</td>\n",
       "      <td>973627</td>\n",
       "      <td>0.730712</td>\n",
       "      <td>-0.730712</td>\n",
       "      <td>CD8TIL-others</td>\n",
       "    </tr>\n",
       "    <tr>\n",
       "      <th>4</th>\n",
       "      <td>chr1</td>\n",
       "      <td>983075</td>\n",
       "      <td>983077</td>\n",
       "      <td>0.339054</td>\n",
       "      <td>-0.339054</td>\n",
       "      <td>CD8TIL-others</td>\n",
       "    </tr>\n",
       "  </tbody>\n",
       "</table>\n",
       "</div>"
      ],
      "text/plain": [
       "  chrom   start     end  NaiveMyloid-others  CD8TIL-others     mincolname\n",
       "0  chr1  965868  965870            0.276694      -0.276694  CD8TIL-others\n",
       "1  chr1  965889  965891            0.175824      -0.175824  CD8TIL-others\n",
       "2  chr1  965932  965934            0.143775      -0.143775  CD8TIL-others\n",
       "3  chr1  973625  973627            0.730712      -0.730712  CD8TIL-others\n",
       "4  chr1  983075  983077            0.339054      -0.339054  CD8TIL-others"
      ]
     },
     "execution_count": 7,
     "metadata": {},
     "output_type": "execute_result"
    }
   ],
   "source": [
    "outdf=CTspecific.reset_index()\n",
    "outdf.head()"
   ]
  },
  {
   "cell_type": "code",
   "execution_count": 8,
   "metadata": {},
   "outputs": [
    {
     "data": {
      "text/plain": [
       "-0.9845833333333334"
      ]
     },
     "execution_count": 8,
     "metadata": {},
     "output_type": "execute_result"
    }
   ],
   "source": [
    "outdf[cellType+\"-others\"].min()"
   ]
  },
  {
   "cell_type": "code",
   "execution_count": 9,
   "metadata": {},
   "outputs": [
    {
     "data": {
      "text/plain": [
       "-0.10000000000000002"
      ]
     },
     "execution_count": 9,
     "metadata": {},
     "output_type": "execute_result"
    }
   ],
   "source": [
    "outdf[cellType+\"-others\"].max()"
   ]
  },
  {
   "cell_type": "code",
   "execution_count": 10,
   "metadata": {},
   "outputs": [
    {
     "data": {
      "text/html": [
       "<div>\n",
       "<style scoped>\n",
       "    .dataframe tbody tr th:only-of-type {\n",
       "        vertical-align: middle;\n",
       "    }\n",
       "\n",
       "    .dataframe tbody tr th {\n",
       "        vertical-align: top;\n",
       "    }\n",
       "\n",
       "    .dataframe thead th {\n",
       "        text-align: right;\n",
       "    }\n",
       "</style>\n",
       "<table border=\"1\" class=\"dataframe\">\n",
       "  <thead>\n",
       "    <tr style=\"text-align: right;\">\n",
       "      <th></th>\n",
       "      <th>chrom</th>\n",
       "      <th>start</th>\n",
       "      <th>end</th>\n",
       "    </tr>\n",
       "  </thead>\n",
       "  <tbody>\n",
       "    <tr>\n",
       "      <th>0</th>\n",
       "      <td>chr1</td>\n",
       "      <td>965868</td>\n",
       "      <td>965870</td>\n",
       "    </tr>\n",
       "    <tr>\n",
       "      <th>1</th>\n",
       "      <td>chr1</td>\n",
       "      <td>965889</td>\n",
       "      <td>965891</td>\n",
       "    </tr>\n",
       "    <tr>\n",
       "      <th>2</th>\n",
       "      <td>chr1</td>\n",
       "      <td>965932</td>\n",
       "      <td>965934</td>\n",
       "    </tr>\n",
       "    <tr>\n",
       "      <th>3</th>\n",
       "      <td>chr1</td>\n",
       "      <td>973625</td>\n",
       "      <td>973627</td>\n",
       "    </tr>\n",
       "    <tr>\n",
       "      <th>4</th>\n",
       "      <td>chr1</td>\n",
       "      <td>983075</td>\n",
       "      <td>983077</td>\n",
       "    </tr>\n",
       "  </tbody>\n",
       "</table>\n",
       "</div>"
      ],
      "text/plain": [
       "  chrom   start     end\n",
       "0  chr1  965868  965870\n",
       "1  chr1  965889  965891\n",
       "2  chr1  965932  965934\n",
       "3  chr1  973625  973627\n",
       "4  chr1  983075  983077"
      ]
     },
     "execution_count": 10,
     "metadata": {},
     "output_type": "execute_result"
    }
   ],
   "source": [
    "outdf=outdf[['chrom','start','end']]\n",
    "outdf.head()"
   ]
  },
  {
   "cell_type": "code",
   "execution_count": 11,
   "metadata": {},
   "outputs": [
    {
     "data": {
      "text/plain": [
       "(83906, 3)"
      ]
     },
     "execution_count": 11,
     "metadata": {},
     "output_type": "execute_result"
    }
   ],
   "source": [
    "outdf.shape"
   ]
  },
  {
   "cell_type": "code",
   "execution_count": 12,
   "metadata": {},
   "outputs": [],
   "source": [
    "outdf.to_csv(infile+cellType+\"_\"+str(thresh)+\"_onlypos\",sep=\"\\t\",index=False,header=False)"
   ]
  }
 ],
 "metadata": {
  "kernelspec": {
   "display_name": "Python 3",
   "language": "python",
   "name": "python3"
  },
  "language_info": {
   "codemirror_mode": {
    "name": "ipython",
    "version": 3
   },
   "file_extension": ".py",
   "mimetype": "text/x-python",
   "name": "python",
   "nbconvert_exporter": "python",
   "pygments_lexer": "ipython3",
   "version": "3.6.7"
  }
 },
 "nbformat": 4,
 "nbformat_minor": 2
}
