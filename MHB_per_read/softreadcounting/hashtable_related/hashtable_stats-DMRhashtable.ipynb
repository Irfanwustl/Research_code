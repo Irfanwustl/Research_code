{
 "cells": [
  {
   "cell_type": "code",
   "execution_count": 1,
   "metadata": {},
   "outputs": [
    {
     "data": {
      "text/html": [
       "<div>\n",
       "<style scoped>\n",
       "    .dataframe tbody tr th:only-of-type {\n",
       "        vertical-align: middle;\n",
       "    }\n",
       "\n",
       "    .dataframe tbody tr th {\n",
       "        vertical-align: top;\n",
       "    }\n",
       "\n",
       "    .dataframe thead th {\n",
       "        text-align: right;\n",
       "    }\n",
       "</style>\n",
       "<table border=\"1\" class=\"dataframe\">\n",
       "  <thead>\n",
       "    <tr style=\"text-align: right;\">\n",
       "      <th></th>\n",
       "      <th></th>\n",
       "      <th></th>\n",
       "      <th>NaiveMyloid-others</th>\n",
       "      <th>CD8TIL-others</th>\n",
       "    </tr>\n",
       "    <tr>\n",
       "      <th>chrom</th>\n",
       "      <th>start</th>\n",
       "      <th>end</th>\n",
       "      <th></th>\n",
       "      <th></th>\n",
       "    </tr>\n",
       "  </thead>\n",
       "  <tbody>\n",
       "    <tr>\n",
       "      <th rowspan=\"5\" valign=\"top\">chr1</th>\n",
       "      <th>40388990</th>\n",
       "      <th>40388992</th>\n",
       "      <td>0.613333</td>\n",
       "      <td>-0.613333</td>\n",
       "    </tr>\n",
       "    <tr>\n",
       "      <th>40389034</th>\n",
       "      <th>40389036</th>\n",
       "      <td>0.570917</td>\n",
       "      <td>-0.570917</td>\n",
       "    </tr>\n",
       "    <tr>\n",
       "      <th>42930753</th>\n",
       "      <th>42930755</th>\n",
       "      <td>0.819108</td>\n",
       "      <td>-0.819108</td>\n",
       "    </tr>\n",
       "    <tr>\n",
       "      <th>47308236</th>\n",
       "      <th>47308238</th>\n",
       "      <td>0.840167</td>\n",
       "      <td>-0.840167</td>\n",
       "    </tr>\n",
       "    <tr>\n",
       "      <th>52919601</th>\n",
       "      <th>52919603</th>\n",
       "      <td>0.781802</td>\n",
       "      <td>-0.781802</td>\n",
       "    </tr>\n",
       "  </tbody>\n",
       "</table>\n",
       "</div>"
      ],
      "text/plain": [
       "                         NaiveMyloid-others  CD8TIL-others\n",
       "chrom start    end                                        \n",
       "chr1  40388990 40388992            0.613333      -0.613333\n",
       "      40389034 40389036            0.570917      -0.570917\n",
       "      42930753 42930755            0.819108      -0.819108\n",
       "      47308236 47308238            0.840167      -0.840167\n",
       "      52919601 52919603            0.781802      -0.781802"
      ]
     },
     "execution_count": 1,
     "metadata": {},
     "output_type": "execute_result"
    }
   ],
   "source": [
    "import pandas as pd\n",
    "from collections import defaultdict\n",
    "import sys\n",
    "import time\n",
    "start_time = time.time()\n",
    "\n",
    "infile=\"/Users/irffanalahi/Research/Research_update/SoftRD/hashtable_stats/B22withLTME/v3_3steps/thirdstepanalysis/try3/naive_myloid_CD8TIL_OthermeanIINTWITH_melCD8TIL_activatted-.5_intwith_CD8tilmel-.9\"\n",
    "\n",
    "\n",
    "outfile=infile\n",
    "\n",
    "\n",
    "##########when WG just chrom start, else chrom start end\n",
    "indf=pd.read_csv(infile,sep=\"\\t\",index_col=['chrom','start','end']) #############\n",
    "\n",
    "\n",
    "\n",
    "indf.head()"
   ]
  },
  {
   "cell_type": "code",
   "execution_count": 2,
   "metadata": {},
   "outputs": [
    {
     "data": {
      "text/html": [
       "<div>\n",
       "<style scoped>\n",
       "    .dataframe tbody tr th:only-of-type {\n",
       "        vertical-align: middle;\n",
       "    }\n",
       "\n",
       "    .dataframe tbody tr th {\n",
       "        vertical-align: top;\n",
       "    }\n",
       "\n",
       "    .dataframe thead th {\n",
       "        text-align: right;\n",
       "    }\n",
       "</style>\n",
       "<table border=\"1\" class=\"dataframe\">\n",
       "  <thead>\n",
       "    <tr style=\"text-align: right;\">\n",
       "      <th></th>\n",
       "      <th></th>\n",
       "      <th></th>\n",
       "      <th>NaiveMyloid-others</th>\n",
       "      <th>CD8TIL-others</th>\n",
       "    </tr>\n",
       "    <tr>\n",
       "      <th>chrom</th>\n",
       "      <th>start</th>\n",
       "      <th>end</th>\n",
       "      <th></th>\n",
       "      <th></th>\n",
       "    </tr>\n",
       "  </thead>\n",
       "  <tbody>\n",
       "    <tr>\n",
       "      <th rowspan=\"5\" valign=\"top\">chr1</th>\n",
       "      <th>40388990</th>\n",
       "      <th>40388992</th>\n",
       "      <td>-0.613333</td>\n",
       "      <td>0.613333</td>\n",
       "    </tr>\n",
       "    <tr>\n",
       "      <th>40389034</th>\n",
       "      <th>40389036</th>\n",
       "      <td>-0.570917</td>\n",
       "      <td>0.570917</td>\n",
       "    </tr>\n",
       "    <tr>\n",
       "      <th>42930753</th>\n",
       "      <th>42930755</th>\n",
       "      <td>-0.819108</td>\n",
       "      <td>0.819108</td>\n",
       "    </tr>\n",
       "    <tr>\n",
       "      <th>47308236</th>\n",
       "      <th>47308238</th>\n",
       "      <td>-0.840167</td>\n",
       "      <td>0.840167</td>\n",
       "    </tr>\n",
       "    <tr>\n",
       "      <th>52919601</th>\n",
       "      <th>52919603</th>\n",
       "      <td>-0.781802</td>\n",
       "      <td>0.781802</td>\n",
       "    </tr>\n",
       "  </tbody>\n",
       "</table>\n",
       "</div>"
      ],
      "text/plain": [
       "                         NaiveMyloid-others  CD8TIL-others\n",
       "chrom start    end                                        \n",
       "chr1  40388990 40388992           -0.613333       0.613333\n",
       "      40389034 40389036           -0.570917       0.570917\n",
       "      42930753 42930755           -0.819108       0.819108\n",
       "      47308236 47308238           -0.840167       0.840167\n",
       "      52919601 52919603           -0.781802       0.781802"
      ]
     },
     "execution_count": 2,
     "metadata": {},
     "output_type": "execute_result"
    }
   ],
   "source": [
    "negindf=-1*indf\n",
    "negindf.head()"
   ]
  },
  {
   "cell_type": "code",
   "execution_count": 3,
   "metadata": {},
   "outputs": [],
   "source": [
    "alldelta=[.05,.1,.2,.3,.4,.5,.6,.7,.8,0.9]"
   ]
  },
  {
   "cell_type": "code",
   "execution_count": 4,
   "metadata": {},
   "outputs": [],
   "source": [
    "scorecolumns=negindf.columns\n"
   ]
  },
  {
   "cell_type": "code",
   "execution_count": 5,
   "metadata": {},
   "outputs": [],
   "source": [
    "celltypeStats=defaultdict(list)\n",
    "\n",
    "allindex=defaultdict(list)\n",
    "for score in scorecolumns:\n",
    "\n",
    "    for delta in alldelta:\n",
    "        tmpdf=negindf[negindf[score]>=delta]\n",
    "        allindex[delta]=allindex[delta]+tmpdf.index.tolist()\n",
    "        \n",
    "        celltypeStats[score]=celltypeStats[score]+[tmpdf.shape[0]]\n",
    "        \n",
    "        \n",
    "    "
   ]
  },
  {
   "cell_type": "code",
   "execution_count": 6,
   "metadata": {},
   "outputs": [
    {
     "data": {
      "text/html": [
       "<div>\n",
       "<style scoped>\n",
       "    .dataframe tbody tr th:only-of-type {\n",
       "        vertical-align: middle;\n",
       "    }\n",
       "\n",
       "    .dataframe tbody tr th {\n",
       "        vertical-align: top;\n",
       "    }\n",
       "\n",
       "    .dataframe thead th {\n",
       "        text-align: right;\n",
       "    }\n",
       "</style>\n",
       "<table border=\"1\" class=\"dataframe\">\n",
       "  <thead>\n",
       "    <tr style=\"text-align: right;\">\n",
       "      <th></th>\n",
       "      <th>0.05</th>\n",
       "      <th>0.10</th>\n",
       "      <th>0.20</th>\n",
       "      <th>0.30</th>\n",
       "      <th>0.40</th>\n",
       "      <th>0.50</th>\n",
       "      <th>0.60</th>\n",
       "      <th>0.70</th>\n",
       "      <th>0.80</th>\n",
       "      <th>0.90</th>\n",
       "    </tr>\n",
       "    <tr>\n",
       "      <th>Celltype</th>\n",
       "      <th></th>\n",
       "      <th></th>\n",
       "      <th></th>\n",
       "      <th></th>\n",
       "      <th></th>\n",
       "      <th></th>\n",
       "      <th></th>\n",
       "      <th></th>\n",
       "      <th></th>\n",
       "      <th></th>\n",
       "    </tr>\n",
       "  </thead>\n",
       "  <tbody>\n",
       "    <tr>\n",
       "      <th>NaiveMyloid-others</th>\n",
       "      <td>0</td>\n",
       "      <td>0</td>\n",
       "      <td>0</td>\n",
       "      <td>0</td>\n",
       "      <td>0</td>\n",
       "      <td>0</td>\n",
       "      <td>0</td>\n",
       "      <td>0</td>\n",
       "      <td>0</td>\n",
       "      <td>0</td>\n",
       "    </tr>\n",
       "    <tr>\n",
       "      <th>CD8TIL-others</th>\n",
       "      <td>110</td>\n",
       "      <td>110</td>\n",
       "      <td>109</td>\n",
       "      <td>109</td>\n",
       "      <td>103</td>\n",
       "      <td>101</td>\n",
       "      <td>99</td>\n",
       "      <td>94</td>\n",
       "      <td>75</td>\n",
       "      <td>8</td>\n",
       "    </tr>\n",
       "  </tbody>\n",
       "</table>\n",
       "</div>"
      ],
      "text/plain": [
       "                    0.05  0.10  0.20  0.30  0.40  0.50  0.60  0.70  0.80  0.90\n",
       "Celltype                                                                      \n",
       "NaiveMyloid-others     0     0     0     0     0     0     0     0     0     0\n",
       "CD8TIL-others        110   110   109   109   103   101    99    94    75     8"
      ]
     },
     "execution_count": 6,
     "metadata": {},
     "output_type": "execute_result"
    }
   ],
   "source": [
    "celltypeStatsdf=pd.DataFrame.from_dict(celltypeStats, orient='index',columns=alldelta)\n",
    "celltypeStatsdf.index.name = 'Celltype'\n",
    "celltypeStatsdf.head()"
   ]
  },
  {
   "cell_type": "code",
   "execution_count": 7,
   "metadata": {},
   "outputs": [],
   "source": [
    "celltypeStatsdf.to_csv(outfile+\"_stats.txt\",sep=\"\\t\")"
   ]
  },
  {
   "cell_type": "code",
   "execution_count": 8,
   "metadata": {},
   "outputs": [],
   "source": [
    "alluniqueindexlen=defaultdict(list)\n",
    "for key in allindex:\n",
    "    alluniqueindexlen[key].append(len(set(allindex[key]))) "
   ]
  },
  {
   "cell_type": "code",
   "execution_count": 9,
   "metadata": {},
   "outputs": [
    {
     "data": {
      "text/plain": [
       "defaultdict(list,\n",
       "            {0.05: [110],\n",
       "             0.1: [110],\n",
       "             0.2: [109],\n",
       "             0.3: [109],\n",
       "             0.4: [103],\n",
       "             0.5: [101],\n",
       "             0.6: [99],\n",
       "             0.7: [94],\n",
       "             0.8: [75],\n",
       "             0.9: [8]})"
      ]
     },
     "execution_count": 9,
     "metadata": {},
     "output_type": "execute_result"
    }
   ],
   "source": [
    "alluniqueindexlen"
   ]
  },
  {
   "cell_type": "code",
   "execution_count": 10,
   "metadata": {},
   "outputs": [
    {
     "data": {
      "text/html": [
       "<div>\n",
       "<style scoped>\n",
       "    .dataframe tbody tr th:only-of-type {\n",
       "        vertical-align: middle;\n",
       "    }\n",
       "\n",
       "    .dataframe tbody tr th {\n",
       "        vertical-align: top;\n",
       "    }\n",
       "\n",
       "    .dataframe thead th {\n",
       "        text-align: right;\n",
       "    }\n",
       "</style>\n",
       "<table border=\"1\" class=\"dataframe\">\n",
       "  <thead>\n",
       "    <tr style=\"text-align: right;\">\n",
       "      <th></th>\n",
       "      <th>0.05</th>\n",
       "      <th>0.10</th>\n",
       "      <th>0.20</th>\n",
       "      <th>0.30</th>\n",
       "      <th>0.40</th>\n",
       "      <th>0.50</th>\n",
       "      <th>0.60</th>\n",
       "      <th>0.70</th>\n",
       "      <th>0.80</th>\n",
       "      <th>0.90</th>\n",
       "    </tr>\n",
       "  </thead>\n",
       "  <tbody>\n",
       "    <tr>\n",
       "      <th>0</th>\n",
       "      <td>110</td>\n",
       "      <td>110</td>\n",
       "      <td>109</td>\n",
       "      <td>109</td>\n",
       "      <td>103</td>\n",
       "      <td>101</td>\n",
       "      <td>99</td>\n",
       "      <td>94</td>\n",
       "      <td>75</td>\n",
       "      <td>8</td>\n",
       "    </tr>\n",
       "  </tbody>\n",
       "</table>\n",
       "</div>"
      ],
      "text/plain": [
       "   0.05  0.10  0.20  0.30  0.40  0.50  0.60  0.70  0.80  0.90\n",
       "0   110   110   109   109   103   101    99    94    75     8"
      ]
     },
     "execution_count": 10,
     "metadata": {},
     "output_type": "execute_result"
    }
   ],
   "source": [
    "alluniqueindexlendf=pd.DataFrame.from_dict(alluniqueindexlen)\n",
    "alluniqueindexlendf.head()"
   ]
  },
  {
   "cell_type": "code",
   "execution_count": 11,
   "metadata": {},
   "outputs": [],
   "source": [
    "alluniqueindexlendf.to_csv(outfile+\"_uniquecpgs.txt\",sep=\"\\t\")"
   ]
  },
  {
   "cell_type": "code",
   "execution_count": 12,
   "metadata": {},
   "outputs": [
    {
     "name": "stdout",
     "output_type": "stream",
     "text": [
      "0.1393721103668213\n"
     ]
    }
   ],
   "source": [
    "end_time = time.time()\n",
    "\n",
    "time_elapsed = (end_time - start_time)\n",
    "\n",
    "print(time_elapsed)"
   ]
  }
 ],
 "metadata": {
  "kernelspec": {
   "display_name": "Python 3",
   "language": "python",
   "name": "python3"
  },
  "language_info": {
   "codemirror_mode": {
    "name": "ipython",
    "version": 3
   },
   "file_extension": ".py",
   "mimetype": "text/x-python",
   "name": "python",
   "nbconvert_exporter": "python",
   "pygments_lexer": "ipython3",
   "version": "3.6.7"
  }
 },
 "nbformat": 4,
 "nbformat_minor": 2
}
