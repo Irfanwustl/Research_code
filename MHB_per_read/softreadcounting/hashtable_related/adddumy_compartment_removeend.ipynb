{
 "cells": [
  {
   "cell_type": "code",
   "execution_count": 1,
   "metadata": {},
   "outputs": [
    {
     "data": {
      "text/html": [
       "<div>\n",
       "<style scoped>\n",
       "    .dataframe tbody tr th:only-of-type {\n",
       "        vertical-align: middle;\n",
       "    }\n",
       "\n",
       "    .dataframe tbody tr th {\n",
       "        vertical-align: top;\n",
       "    }\n",
       "\n",
       "    .dataframe thead th {\n",
       "        text-align: right;\n",
       "    }\n",
       "</style>\n",
       "<table border=\"1\" class=\"dataframe\">\n",
       "  <thead>\n",
       "    <tr style=\"text-align: right;\">\n",
       "      <th></th>\n",
       "      <th>chrom</th>\n",
       "      <th>start</th>\n",
       "      <th>end</th>\n",
       "      <th>activated-others</th>\n",
       "      <th>CD8TIL-others</th>\n",
       "    </tr>\n",
       "  </thead>\n",
       "  <tbody>\n",
       "    <tr>\n",
       "      <th>0</th>\n",
       "      <td>chr1</td>\n",
       "      <td>1053242</td>\n",
       "      <td>1053244</td>\n",
       "      <td>0.144941</td>\n",
       "      <td>-0.144941</td>\n",
       "    </tr>\n",
       "    <tr>\n",
       "      <th>1</th>\n",
       "      <td>chr1</td>\n",
       "      <td>1099266</td>\n",
       "      <td>1099268</td>\n",
       "      <td>0.265333</td>\n",
       "      <td>-0.265333</td>\n",
       "    </tr>\n",
       "    <tr>\n",
       "      <th>2</th>\n",
       "      <td>chr1</td>\n",
       "      <td>1099418</td>\n",
       "      <td>1099420</td>\n",
       "      <td>0.369733</td>\n",
       "      <td>-0.369733</td>\n",
       "    </tr>\n",
       "    <tr>\n",
       "      <th>3</th>\n",
       "      <td>chr1</td>\n",
       "      <td>1216788</td>\n",
       "      <td>1216790</td>\n",
       "      <td>0.199444</td>\n",
       "      <td>-0.199444</td>\n",
       "    </tr>\n",
       "    <tr>\n",
       "      <th>4</th>\n",
       "      <td>chr1</td>\n",
       "      <td>1216816</td>\n",
       "      <td>1216818</td>\n",
       "      <td>0.349600</td>\n",
       "      <td>-0.349600</td>\n",
       "    </tr>\n",
       "  </tbody>\n",
       "</table>\n",
       "</div>"
      ],
      "text/plain": [
       "  chrom    start      end  activated-others  CD8TIL-others\n",
       "0  chr1  1053242  1053244          0.144941      -0.144941\n",
       "1  chr1  1099266  1099268          0.265333      -0.265333\n",
       "2  chr1  1099418  1099420          0.369733      -0.369733\n",
       "3  chr1  1216788  1216790          0.199444      -0.199444\n",
       "4  chr1  1216816  1216818          0.349600      -0.349600"
      ]
     },
     "execution_count": 1,
     "metadata": {},
     "output_type": "execute_result"
    }
   ],
   "source": [
    "import pandas as pd\n",
    "import sys\n",
    "infile='/Users/irffanalahi/Research/Research_update/SoftRD/hashtable_stats/B22withLTME/v3_3steps/thirdstepanalysis/try3/towardsSM/test/activated_CD8TIL_all_matrixCin_nr0.5_imputed_rowmean_bg_othermean.txt_withend.txt_intwith_naive_myloid_CD8TIL_OthermeanIINTWITH_melCD8TIL_activatted-.1_intwith_CD8TL_melCD8TIL_-0.7CD8TIL_-0.7_onlypos'\n",
    "outfile=infile+\"_dummy.txt\"\n",
    "\n",
    "\n",
    "\n",
    "\n",
    "total_compartments=['chrom','start','CD8TIL-others','MelTumor-others','activated-others','NaiveMyloid-others']\n",
    "\n",
    "finalcompartmentshouldbe=len(total_compartments)\n",
    "total_compartments_set=set(total_compartments)\n",
    "\n",
    "indf=pd.read_csv(infile,sep=\"\\t\")\n",
    "indf.head()"
   ]
  },
  {
   "cell_type": "code",
   "execution_count": 2,
   "metadata": {},
   "outputs": [
    {
     "data": {
      "text/plain": [
       "{'CD8TIL-others', 'activated-others', 'chrom', 'end', 'start'}"
      ]
     },
     "execution_count": 2,
     "metadata": {},
     "output_type": "execute_result"
    }
   ],
   "source": [
    "indfcolumns=set(indf.columns.tolist())\n",
    "indfcolumns"
   ]
  },
  {
   "cell_type": "code",
   "execution_count": 3,
   "metadata": {},
   "outputs": [
    {
     "data": {
      "text/plain": [
       "['NaiveMyloid-others', 'MelTumor-others']"
      ]
     },
     "execution_count": 3,
     "metadata": {},
     "output_type": "execute_result"
    }
   ],
   "source": [
    "missingcols=total_compartments_set-indfcolumns\n",
    "missingcolslist=list(missingcols)\n",
    "missingcolslist"
   ]
  },
  {
   "cell_type": "code",
   "execution_count": 4,
   "metadata": {},
   "outputs": [],
   "source": [
    "for micol in missingcolslist:\n",
    "    indf[micol]=0.9\n",
    "    "
   ]
  },
  {
   "cell_type": "code",
   "execution_count": 5,
   "metadata": {},
   "outputs": [
    {
     "data": {
      "text/html": [
       "<div>\n",
       "<style scoped>\n",
       "    .dataframe tbody tr th:only-of-type {\n",
       "        vertical-align: middle;\n",
       "    }\n",
       "\n",
       "    .dataframe tbody tr th {\n",
       "        vertical-align: top;\n",
       "    }\n",
       "\n",
       "    .dataframe thead th {\n",
       "        text-align: right;\n",
       "    }\n",
       "</style>\n",
       "<table border=\"1\" class=\"dataframe\">\n",
       "  <thead>\n",
       "    <tr style=\"text-align: right;\">\n",
       "      <th></th>\n",
       "      <th>chrom</th>\n",
       "      <th>start</th>\n",
       "      <th>end</th>\n",
       "      <th>activated-others</th>\n",
       "      <th>CD8TIL-others</th>\n",
       "      <th>NaiveMyloid-others</th>\n",
       "      <th>MelTumor-others</th>\n",
       "    </tr>\n",
       "  </thead>\n",
       "  <tbody>\n",
       "    <tr>\n",
       "      <th>0</th>\n",
       "      <td>chr1</td>\n",
       "      <td>1053242</td>\n",
       "      <td>1053244</td>\n",
       "      <td>0.144941</td>\n",
       "      <td>-0.144941</td>\n",
       "      <td>0.9</td>\n",
       "      <td>0.9</td>\n",
       "    </tr>\n",
       "    <tr>\n",
       "      <th>1</th>\n",
       "      <td>chr1</td>\n",
       "      <td>1099266</td>\n",
       "      <td>1099268</td>\n",
       "      <td>0.265333</td>\n",
       "      <td>-0.265333</td>\n",
       "      <td>0.9</td>\n",
       "      <td>0.9</td>\n",
       "    </tr>\n",
       "    <tr>\n",
       "      <th>2</th>\n",
       "      <td>chr1</td>\n",
       "      <td>1099418</td>\n",
       "      <td>1099420</td>\n",
       "      <td>0.369733</td>\n",
       "      <td>-0.369733</td>\n",
       "      <td>0.9</td>\n",
       "      <td>0.9</td>\n",
       "    </tr>\n",
       "    <tr>\n",
       "      <th>3</th>\n",
       "      <td>chr1</td>\n",
       "      <td>1216788</td>\n",
       "      <td>1216790</td>\n",
       "      <td>0.199444</td>\n",
       "      <td>-0.199444</td>\n",
       "      <td>0.9</td>\n",
       "      <td>0.9</td>\n",
       "    </tr>\n",
       "    <tr>\n",
       "      <th>4</th>\n",
       "      <td>chr1</td>\n",
       "      <td>1216816</td>\n",
       "      <td>1216818</td>\n",
       "      <td>0.349600</td>\n",
       "      <td>-0.349600</td>\n",
       "      <td>0.9</td>\n",
       "      <td>0.9</td>\n",
       "    </tr>\n",
       "  </tbody>\n",
       "</table>\n",
       "</div>"
      ],
      "text/plain": [
       "  chrom    start      end  activated-others  CD8TIL-others  \\\n",
       "0  chr1  1053242  1053244          0.144941      -0.144941   \n",
       "1  chr1  1099266  1099268          0.265333      -0.265333   \n",
       "2  chr1  1099418  1099420          0.369733      -0.369733   \n",
       "3  chr1  1216788  1216790          0.199444      -0.199444   \n",
       "4  chr1  1216816  1216818          0.349600      -0.349600   \n",
       "\n",
       "   NaiveMyloid-others  MelTumor-others  \n",
       "0                 0.9              0.9  \n",
       "1                 0.9              0.9  \n",
       "2                 0.9              0.9  \n",
       "3                 0.9              0.9  \n",
       "4                 0.9              0.9  "
      ]
     },
     "execution_count": 5,
     "metadata": {},
     "output_type": "execute_result"
    }
   ],
   "source": [
    "indf.head()"
   ]
  },
  {
   "cell_type": "code",
   "execution_count": 6,
   "metadata": {},
   "outputs": [],
   "source": [
    "outdf=indf.drop(['end'], axis=1)\n",
    "if outdf.shape[1]!=finalcompartmentshouldbe:\n",
    "    print(infile)\n",
    "    print(\"error. Exiting\")\n",
    "    sys.exit(1)"
   ]
  },
  {
   "cell_type": "code",
   "execution_count": 7,
   "metadata": {},
   "outputs": [
    {
     "data": {
      "text/html": [
       "<div>\n",
       "<style scoped>\n",
       "    .dataframe tbody tr th:only-of-type {\n",
       "        vertical-align: middle;\n",
       "    }\n",
       "\n",
       "    .dataframe tbody tr th {\n",
       "        vertical-align: top;\n",
       "    }\n",
       "\n",
       "    .dataframe thead th {\n",
       "        text-align: right;\n",
       "    }\n",
       "</style>\n",
       "<table border=\"1\" class=\"dataframe\">\n",
       "  <thead>\n",
       "    <tr style=\"text-align: right;\">\n",
       "      <th></th>\n",
       "      <th>chrom</th>\n",
       "      <th>start</th>\n",
       "      <th>CD8TIL-others</th>\n",
       "      <th>MelTumor-others</th>\n",
       "      <th>activated-others</th>\n",
       "      <th>NaiveMyloid-others</th>\n",
       "    </tr>\n",
       "  </thead>\n",
       "  <tbody>\n",
       "    <tr>\n",
       "      <th>0</th>\n",
       "      <td>chr1</td>\n",
       "      <td>1053242</td>\n",
       "      <td>-0.144941</td>\n",
       "      <td>0.9</td>\n",
       "      <td>0.144941</td>\n",
       "      <td>0.9</td>\n",
       "    </tr>\n",
       "    <tr>\n",
       "      <th>1</th>\n",
       "      <td>chr1</td>\n",
       "      <td>1099266</td>\n",
       "      <td>-0.265333</td>\n",
       "      <td>0.9</td>\n",
       "      <td>0.265333</td>\n",
       "      <td>0.9</td>\n",
       "    </tr>\n",
       "    <tr>\n",
       "      <th>2</th>\n",
       "      <td>chr1</td>\n",
       "      <td>1099418</td>\n",
       "      <td>-0.369733</td>\n",
       "      <td>0.9</td>\n",
       "      <td>0.369733</td>\n",
       "      <td>0.9</td>\n",
       "    </tr>\n",
       "    <tr>\n",
       "      <th>3</th>\n",
       "      <td>chr1</td>\n",
       "      <td>1216788</td>\n",
       "      <td>-0.199444</td>\n",
       "      <td>0.9</td>\n",
       "      <td>0.199444</td>\n",
       "      <td>0.9</td>\n",
       "    </tr>\n",
       "    <tr>\n",
       "      <th>4</th>\n",
       "      <td>chr1</td>\n",
       "      <td>1216816</td>\n",
       "      <td>-0.349600</td>\n",
       "      <td>0.9</td>\n",
       "      <td>0.349600</td>\n",
       "      <td>0.9</td>\n",
       "    </tr>\n",
       "  </tbody>\n",
       "</table>\n",
       "</div>"
      ],
      "text/plain": [
       "  chrom    start  CD8TIL-others  MelTumor-others  activated-others  \\\n",
       "0  chr1  1053242      -0.144941              0.9          0.144941   \n",
       "1  chr1  1099266      -0.265333              0.9          0.265333   \n",
       "2  chr1  1099418      -0.369733              0.9          0.369733   \n",
       "3  chr1  1216788      -0.199444              0.9          0.199444   \n",
       "4  chr1  1216816      -0.349600              0.9          0.349600   \n",
       "\n",
       "   NaiveMyloid-others  \n",
       "0                 0.9  \n",
       "1                 0.9  \n",
       "2                 0.9  \n",
       "3                 0.9  \n",
       "4                 0.9  "
      ]
     },
     "execution_count": 7,
     "metadata": {},
     "output_type": "execute_result"
    }
   ],
   "source": [
    "outdf=outdf[total_compartments]\n",
    "outdf.head()"
   ]
  },
  {
   "cell_type": "code",
   "execution_count": 8,
   "metadata": {},
   "outputs": [],
   "source": [
    "outdf.to_csv(outfile,sep=\"\\t\",index=False)"
   ]
  }
 ],
 "metadata": {
  "kernelspec": {
   "display_name": "Python 3",
   "language": "python",
   "name": "python3"
  },
  "language_info": {
   "codemirror_mode": {
    "name": "ipython",
    "version": 3
   },
   "file_extension": ".py",
   "mimetype": "text/x-python",
   "name": "python",
   "nbconvert_exporter": "python",
   "pygments_lexer": "ipython3",
   "version": "3.6.7"
  }
 },
 "nbformat": 4,
 "nbformat_minor": 2
}
