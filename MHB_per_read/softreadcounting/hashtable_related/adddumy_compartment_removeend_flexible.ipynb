{
 "cells": [
  {
   "cell_type": "code",
   "execution_count": 1,
   "metadata": {},
   "outputs": [
    {
     "data": {
      "text/html": [
       "<div>\n",
       "<style scoped>\n",
       "    .dataframe tbody tr th:only-of-type {\n",
       "        vertical-align: middle;\n",
       "    }\n",
       "\n",
       "    .dataframe tbody tr th {\n",
       "        vertical-align: top;\n",
       "    }\n",
       "\n",
       "    .dataframe thead th {\n",
       "        text-align: right;\n",
       "    }\n",
       "</style>\n",
       "<table border=\"1\" class=\"dataframe\">\n",
       "  <thead>\n",
       "    <tr style=\"text-align: right;\">\n",
       "      <th></th>\n",
       "      <th>chrom</th>\n",
       "      <th>start</th>\n",
       "      <th>end</th>\n",
       "      <th>NaiveMyloid-others</th>\n",
       "      <th>CD8TIL-others</th>\n",
       "    </tr>\n",
       "  </thead>\n",
       "  <tbody>\n",
       "    <tr>\n",
       "      <th>0</th>\n",
       "      <td>chr1</td>\n",
       "      <td>6202818</td>\n",
       "      <td>6202820</td>\n",
       "      <td>0.706212</td>\n",
       "      <td>-0.706212</td>\n",
       "    </tr>\n",
       "    <tr>\n",
       "      <th>1</th>\n",
       "      <td>chr1</td>\n",
       "      <td>7939056</td>\n",
       "      <td>7939058</td>\n",
       "      <td>0.787261</td>\n",
       "      <td>-0.787261</td>\n",
       "    </tr>\n",
       "    <tr>\n",
       "      <th>2</th>\n",
       "      <td>chr1</td>\n",
       "      <td>7939089</td>\n",
       "      <td>7939091</td>\n",
       "      <td>0.764207</td>\n",
       "      <td>-0.764207</td>\n",
       "    </tr>\n",
       "    <tr>\n",
       "      <th>3</th>\n",
       "      <td>chr1</td>\n",
       "      <td>7939179</td>\n",
       "      <td>7939181</td>\n",
       "      <td>0.677360</td>\n",
       "      <td>-0.677360</td>\n",
       "    </tr>\n",
       "    <tr>\n",
       "      <th>4</th>\n",
       "      <td>chr1</td>\n",
       "      <td>7939511</td>\n",
       "      <td>7939513</td>\n",
       "      <td>0.877802</td>\n",
       "      <td>-0.877802</td>\n",
       "    </tr>\n",
       "  </tbody>\n",
       "</table>\n",
       "</div>"
      ],
      "text/plain": [
       "  chrom    start      end  NaiveMyloid-others  CD8TIL-others\n",
       "0  chr1  6202818  6202820            0.706212      -0.706212\n",
       "1  chr1  7939056  7939058            0.787261      -0.787261\n",
       "2  chr1  7939089  7939091            0.764207      -0.764207\n",
       "3  chr1  7939179  7939181            0.677360      -0.677360\n",
       "4  chr1  7939511  7939513            0.877802      -0.877802"
      ]
     },
     "execution_count": 1,
     "metadata": {},
     "output_type": "execute_result"
    }
   ],
   "source": [
    "import pandas as pd\n",
    "import sys\n",
    "import glob \n",
    "import os\n",
    "\n",
    "\n",
    "infile='/Users/irffanalahi/Research/Research_update/SoftRD/hashtable_stats/B22withLTME/automate_v3_3steps/deltafolder_withend_shortname_int_deltafolder_withend_shortname_thresholdpos_allthresholdcombinations/naiveMyloid_CD8TIL_withend.txt_intwith_CD8TL_mel_withend.txtCD8TIL_-0.5_onlypos_int_activated_CD8TIL_withend.txtCD8TIL_-0.5_onlypos'\n",
    "\n",
    "origfolder='/Users/irffanalahi/Research/Research_update/SoftRD/hashtable_stats/B22withLTME/automate_v3_3steps/deltafolder_withend_shortname'\n",
    "\n",
    "outfile=infile+\"_dummy.txt\"\n",
    "\n",
    "\n",
    "\n",
    "\n",
    "\n",
    "\n",
    "indf=pd.read_csv(infile,sep=\"\\t\")\n",
    "indf.head()"
   ]
  },
  {
   "cell_type": "code",
   "execution_count": 2,
   "metadata": {},
   "outputs": [],
   "source": [
    "def listdir_nohidden(path):\n",
    "    return glob.glob(os.path.join(path, '*'))\n",
    "\n",
    "origfiles=listdir_nohidden(origfolder)\n",
    "\n",
    "columnsoforigfiles=[]\n",
    "for orf in origfiles:\n",
    "    orfdf=pd.read_csv(orf,sep='\\t')\n",
    "    orfdf.set_index(['chrom','start','end'], inplace=True)\n",
    "    orfdfcolumns=set(orfdf.columns.tolist())\n",
    "    columnsoforigfiles.append(orfdfcolumns)\n"
   ]
  },
  {
   "cell_type": "code",
   "execution_count": 3,
   "metadata": {},
   "outputs": [],
   "source": [
    "\n",
    "columnsoforigfilesunion=list(set.union(*columnsoforigfiles))\n",
    "columnsoforigfilesunion.sort()\n",
    "\n",
    "columnsoforigfilesunion.insert(0, 'chrom')\n",
    "columnsoforigfilesunion.insert(1, 'start')\n"
   ]
  },
  {
   "cell_type": "code",
   "execution_count": 4,
   "metadata": {},
   "outputs": [],
   "source": [
    "total_compartments=columnsoforigfilesunion\n",
    "\n",
    "finalcompartmentshouldbe=len(total_compartments)\n",
    "total_compartments_set=set(total_compartments)"
   ]
  },
  {
   "cell_type": "code",
   "execution_count": 5,
   "metadata": {},
   "outputs": [
    {
     "data": {
      "text/plain": [
       "{'CD8TIL-others', 'NaiveMyloid-others', 'chrom', 'end', 'start'}"
      ]
     },
     "execution_count": 5,
     "metadata": {},
     "output_type": "execute_result"
    }
   ],
   "source": [
    "indfcolumns=set(indf.columns.tolist())\n",
    "indfcolumns"
   ]
  },
  {
   "cell_type": "code",
   "execution_count": 6,
   "metadata": {},
   "outputs": [
    {
     "data": {
      "text/plain": [
       "['activated-others', 'MelTumor-others']"
      ]
     },
     "execution_count": 6,
     "metadata": {},
     "output_type": "execute_result"
    }
   ],
   "source": [
    "missingcols=total_compartments_set-indfcolumns\n",
    "missingcolslist=list(missingcols)\n",
    "missingcolslist"
   ]
  },
  {
   "cell_type": "code",
   "execution_count": 7,
   "metadata": {},
   "outputs": [],
   "source": [
    "for micol in missingcolslist:\n",
    "    indf[micol]=0.9\n",
    "    "
   ]
  },
  {
   "cell_type": "code",
   "execution_count": 8,
   "metadata": {},
   "outputs": [
    {
     "data": {
      "text/html": [
       "<div>\n",
       "<style scoped>\n",
       "    .dataframe tbody tr th:only-of-type {\n",
       "        vertical-align: middle;\n",
       "    }\n",
       "\n",
       "    .dataframe tbody tr th {\n",
       "        vertical-align: top;\n",
       "    }\n",
       "\n",
       "    .dataframe thead th {\n",
       "        text-align: right;\n",
       "    }\n",
       "</style>\n",
       "<table border=\"1\" class=\"dataframe\">\n",
       "  <thead>\n",
       "    <tr style=\"text-align: right;\">\n",
       "      <th></th>\n",
       "      <th>chrom</th>\n",
       "      <th>start</th>\n",
       "      <th>end</th>\n",
       "      <th>NaiveMyloid-others</th>\n",
       "      <th>CD8TIL-others</th>\n",
       "      <th>activated-others</th>\n",
       "      <th>MelTumor-others</th>\n",
       "    </tr>\n",
       "  </thead>\n",
       "  <tbody>\n",
       "    <tr>\n",
       "      <th>0</th>\n",
       "      <td>chr1</td>\n",
       "      <td>6202818</td>\n",
       "      <td>6202820</td>\n",
       "      <td>0.706212</td>\n",
       "      <td>-0.706212</td>\n",
       "      <td>0.9</td>\n",
       "      <td>0.9</td>\n",
       "    </tr>\n",
       "    <tr>\n",
       "      <th>1</th>\n",
       "      <td>chr1</td>\n",
       "      <td>7939056</td>\n",
       "      <td>7939058</td>\n",
       "      <td>0.787261</td>\n",
       "      <td>-0.787261</td>\n",
       "      <td>0.9</td>\n",
       "      <td>0.9</td>\n",
       "    </tr>\n",
       "    <tr>\n",
       "      <th>2</th>\n",
       "      <td>chr1</td>\n",
       "      <td>7939089</td>\n",
       "      <td>7939091</td>\n",
       "      <td>0.764207</td>\n",
       "      <td>-0.764207</td>\n",
       "      <td>0.9</td>\n",
       "      <td>0.9</td>\n",
       "    </tr>\n",
       "    <tr>\n",
       "      <th>3</th>\n",
       "      <td>chr1</td>\n",
       "      <td>7939179</td>\n",
       "      <td>7939181</td>\n",
       "      <td>0.677360</td>\n",
       "      <td>-0.677360</td>\n",
       "      <td>0.9</td>\n",
       "      <td>0.9</td>\n",
       "    </tr>\n",
       "    <tr>\n",
       "      <th>4</th>\n",
       "      <td>chr1</td>\n",
       "      <td>7939511</td>\n",
       "      <td>7939513</td>\n",
       "      <td>0.877802</td>\n",
       "      <td>-0.877802</td>\n",
       "      <td>0.9</td>\n",
       "      <td>0.9</td>\n",
       "    </tr>\n",
       "  </tbody>\n",
       "</table>\n",
       "</div>"
      ],
      "text/plain": [
       "  chrom    start      end  NaiveMyloid-others  CD8TIL-others  \\\n",
       "0  chr1  6202818  6202820            0.706212      -0.706212   \n",
       "1  chr1  7939056  7939058            0.787261      -0.787261   \n",
       "2  chr1  7939089  7939091            0.764207      -0.764207   \n",
       "3  chr1  7939179  7939181            0.677360      -0.677360   \n",
       "4  chr1  7939511  7939513            0.877802      -0.877802   \n",
       "\n",
       "   activated-others  MelTumor-others  \n",
       "0               0.9              0.9  \n",
       "1               0.9              0.9  \n",
       "2               0.9              0.9  \n",
       "3               0.9              0.9  \n",
       "4               0.9              0.9  "
      ]
     },
     "execution_count": 8,
     "metadata": {},
     "output_type": "execute_result"
    }
   ],
   "source": [
    "indf.head()"
   ]
  },
  {
   "cell_type": "code",
   "execution_count": 9,
   "metadata": {},
   "outputs": [],
   "source": [
    "outdf=indf.drop(['end'], axis=1)\n",
    "if outdf.shape[1]!=finalcompartmentshouldbe:\n",
    "    print(infile)\n",
    "    print(\"error. Exiting\")\n",
    "    sys.exit(1)"
   ]
  },
  {
   "cell_type": "code",
   "execution_count": 10,
   "metadata": {},
   "outputs": [
    {
     "data": {
      "text/html": [
       "<div>\n",
       "<style scoped>\n",
       "    .dataframe tbody tr th:only-of-type {\n",
       "        vertical-align: middle;\n",
       "    }\n",
       "\n",
       "    .dataframe tbody tr th {\n",
       "        vertical-align: top;\n",
       "    }\n",
       "\n",
       "    .dataframe thead th {\n",
       "        text-align: right;\n",
       "    }\n",
       "</style>\n",
       "<table border=\"1\" class=\"dataframe\">\n",
       "  <thead>\n",
       "    <tr style=\"text-align: right;\">\n",
       "      <th></th>\n",
       "      <th>chrom</th>\n",
       "      <th>start</th>\n",
       "      <th>CD8TIL-others</th>\n",
       "      <th>MelTumor-others</th>\n",
       "      <th>NaiveMyloid-others</th>\n",
       "      <th>activated-others</th>\n",
       "    </tr>\n",
       "  </thead>\n",
       "  <tbody>\n",
       "    <tr>\n",
       "      <th>0</th>\n",
       "      <td>chr1</td>\n",
       "      <td>6202818</td>\n",
       "      <td>-0.706212</td>\n",
       "      <td>0.9</td>\n",
       "      <td>0.706212</td>\n",
       "      <td>0.9</td>\n",
       "    </tr>\n",
       "    <tr>\n",
       "      <th>1</th>\n",
       "      <td>chr1</td>\n",
       "      <td>7939056</td>\n",
       "      <td>-0.787261</td>\n",
       "      <td>0.9</td>\n",
       "      <td>0.787261</td>\n",
       "      <td>0.9</td>\n",
       "    </tr>\n",
       "    <tr>\n",
       "      <th>2</th>\n",
       "      <td>chr1</td>\n",
       "      <td>7939089</td>\n",
       "      <td>-0.764207</td>\n",
       "      <td>0.9</td>\n",
       "      <td>0.764207</td>\n",
       "      <td>0.9</td>\n",
       "    </tr>\n",
       "    <tr>\n",
       "      <th>3</th>\n",
       "      <td>chr1</td>\n",
       "      <td>7939179</td>\n",
       "      <td>-0.677360</td>\n",
       "      <td>0.9</td>\n",
       "      <td>0.677360</td>\n",
       "      <td>0.9</td>\n",
       "    </tr>\n",
       "    <tr>\n",
       "      <th>4</th>\n",
       "      <td>chr1</td>\n",
       "      <td>7939511</td>\n",
       "      <td>-0.877802</td>\n",
       "      <td>0.9</td>\n",
       "      <td>0.877802</td>\n",
       "      <td>0.9</td>\n",
       "    </tr>\n",
       "  </tbody>\n",
       "</table>\n",
       "</div>"
      ],
      "text/plain": [
       "  chrom    start  CD8TIL-others  MelTumor-others  NaiveMyloid-others  \\\n",
       "0  chr1  6202818      -0.706212              0.9            0.706212   \n",
       "1  chr1  7939056      -0.787261              0.9            0.787261   \n",
       "2  chr1  7939089      -0.764207              0.9            0.764207   \n",
       "3  chr1  7939179      -0.677360              0.9            0.677360   \n",
       "4  chr1  7939511      -0.877802              0.9            0.877802   \n",
       "\n",
       "   activated-others  \n",
       "0               0.9  \n",
       "1               0.9  \n",
       "2               0.9  \n",
       "3               0.9  \n",
       "4               0.9  "
      ]
     },
     "execution_count": 10,
     "metadata": {},
     "output_type": "execute_result"
    }
   ],
   "source": [
    "outdf=outdf[total_compartments]\n",
    "outdf.head()"
   ]
  },
  {
   "cell_type": "code",
   "execution_count": 11,
   "metadata": {},
   "outputs": [],
   "source": [
    "outdf.to_csv(outfile,sep=\"\\t\",index=False)"
   ]
  }
 ],
 "metadata": {
  "kernelspec": {
   "display_name": "Python 3",
   "language": "python",
   "name": "python3"
  },
  "language_info": {
   "codemirror_mode": {
    "name": "ipython",
    "version": 3
   },
   "file_extension": ".py",
   "mimetype": "text/x-python",
   "name": "python",
   "nbconvert_exporter": "python",
   "pygments_lexer": "ipython3",
   "version": "3.6.7"
  }
 },
 "nbformat": 4,
 "nbformat_minor": 2
}
