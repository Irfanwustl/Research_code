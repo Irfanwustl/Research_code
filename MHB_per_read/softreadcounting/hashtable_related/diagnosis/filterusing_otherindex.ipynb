{
 "cells": [
  {
   "cell_type": "code",
   "execution_count": 1,
   "metadata": {},
   "outputs": [
    {
     "data": {
      "text/html": [
       "<div>\n",
       "<style scoped>\n",
       "    .dataframe tbody tr th:only-of-type {\n",
       "        vertical-align: middle;\n",
       "    }\n",
       "\n",
       "    .dataframe tbody tr th {\n",
       "        vertical-align: top;\n",
       "    }\n",
       "\n",
       "    .dataframe thead th {\n",
       "        text-align: right;\n",
       "    }\n",
       "</style>\n",
       "<table border=\"1\" class=\"dataframe\">\n",
       "  <thead>\n",
       "    <tr style=\"text-align: right;\">\n",
       "      <th></th>\n",
       "      <th></th>\n",
       "      <th>CD8TIL-others</th>\n",
       "      <th>MelTumor-others</th>\n",
       "      <th>activated-others</th>\n",
       "      <th>NaiveMyloid-others</th>\n",
       "    </tr>\n",
       "    <tr>\n",
       "      <th>chrom</th>\n",
       "      <th>start</th>\n",
       "      <th></th>\n",
       "      <th></th>\n",
       "      <th></th>\n",
       "      <th></th>\n",
       "    </tr>\n",
       "  </thead>\n",
       "  <tbody>\n",
       "    <tr>\n",
       "      <th rowspan=\"5\" valign=\"top\">chr1</th>\n",
       "      <th>926156</th>\n",
       "      <td>-0.135222</td>\n",
       "      <td>0.9</td>\n",
       "      <td>0.135222</td>\n",
       "      <td>0.9</td>\n",
       "    </tr>\n",
       "    <tr>\n",
       "      <th>931519</th>\n",
       "      <td>-0.209611</td>\n",
       "      <td>0.9</td>\n",
       "      <td>0.209611</td>\n",
       "      <td>0.9</td>\n",
       "    </tr>\n",
       "    <tr>\n",
       "      <th>931556</th>\n",
       "      <td>-0.281179</td>\n",
       "      <td>0.9</td>\n",
       "      <td>0.281179</td>\n",
       "      <td>0.9</td>\n",
       "    </tr>\n",
       "    <tr>\n",
       "      <th>933922</th>\n",
       "      <td>-0.166933</td>\n",
       "      <td>0.9</td>\n",
       "      <td>0.166933</td>\n",
       "      <td>0.9</td>\n",
       "    </tr>\n",
       "    <tr>\n",
       "      <th>934911</th>\n",
       "      <td>-0.115725</td>\n",
       "      <td>0.9</td>\n",
       "      <td>0.115725</td>\n",
       "      <td>0.9</td>\n",
       "    </tr>\n",
       "  </tbody>\n",
       "</table>\n",
       "</div>"
      ],
      "text/plain": [
       "              CD8TIL-others  MelTumor-others  activated-others  \\\n",
       "chrom start                                                      \n",
       "chr1  926156      -0.135222              0.9          0.135222   \n",
       "      931519      -0.209611              0.9          0.209611   \n",
       "      931556      -0.281179              0.9          0.281179   \n",
       "      933922      -0.166933              0.9          0.166933   \n",
       "      934911      -0.115725              0.9          0.115725   \n",
       "\n",
       "              NaiveMyloid-others  \n",
       "chrom start                       \n",
       "chr1  926156                 0.9  \n",
       "      931519                 0.9  \n",
       "      931556                 0.9  \n",
       "      933922                 0.9  \n",
       "      934911                 0.9  "
      ]
     },
     "execution_count": 1,
     "metadata": {},
     "output_type": "execute_result"
    }
   ],
   "source": [
    "import pandas as pd\n",
    "currentref='/Users/irffanalahi/Research/Research_update/SoftRD/hashtable_stats/CD8TIL_CD8PBL_meltumor/comparewitholdref/activatedPatientTcell_CD8TIL_intwith_naiveMyloidPateintCD14_CD8TILCD8TIL_-0.1_int_CD8TIL_melCD8TIL_-0.1_int_activatedPatientTcell_CD8TILCD8TIL_-0.1_SM'\n",
    "otherfile='/Users/irffanalahi/Research/Research_update/SoftRD/hashtable_stats/CD8TIL_CD8PBL_meltumor/comparewitholdref/PBLtilMel_meldiff-.7_other-.1_q0.00001_sorted4_1_singleCpG_final_assignedref.txt_uniqTIL.txt'\n",
    "\n",
    "\n",
    "\n",
    "currenrefdf=pd.read_csv(currentref,sep='\\t',index_col=['chrom','start'])\n",
    "otherfiledf=pd.read_csv(otherfile,sep='\\t',index_col=['chrom','start'])\n",
    "\n",
    "currenrefdf.head()"
   ]
  },
  {
   "cell_type": "code",
   "execution_count": 2,
   "metadata": {},
   "outputs": [
    {
     "data": {
      "text/html": [
       "<div>\n",
       "<style scoped>\n",
       "    .dataframe tbody tr th:only-of-type {\n",
       "        vertical-align: middle;\n",
       "    }\n",
       "\n",
       "    .dataframe tbody tr th {\n",
       "        vertical-align: top;\n",
       "    }\n",
       "\n",
       "    .dataframe thead th {\n",
       "        text-align: right;\n",
       "    }\n",
       "</style>\n",
       "<table border=\"1\" class=\"dataframe\">\n",
       "  <thead>\n",
       "    <tr style=\"text-align: right;\">\n",
       "      <th></th>\n",
       "      <th></th>\n",
       "      <th>end</th>\n",
       "      <th>celltype</th>\n",
       "    </tr>\n",
       "    <tr>\n",
       "      <th>chrom</th>\n",
       "      <th>start</th>\n",
       "      <th></th>\n",
       "      <th></th>\n",
       "    </tr>\n",
       "  </thead>\n",
       "  <tbody>\n",
       "    <tr>\n",
       "      <th rowspan=\"5\" valign=\"top\">chr9</th>\n",
       "      <th>127977558</th>\n",
       "      <td>127977560</td>\n",
       "      <td>[TIL]</td>\n",
       "    </tr>\n",
       "    <tr>\n",
       "      <th>127977573</th>\n",
       "      <td>127977575</td>\n",
       "      <td>[TIL]</td>\n",
       "    </tr>\n",
       "    <tr>\n",
       "      <th>127977617</th>\n",
       "      <td>127977619</td>\n",
       "      <td>[TIL]</td>\n",
       "    </tr>\n",
       "    <tr>\n",
       "      <th>127977629</th>\n",
       "      <td>127977631</td>\n",
       "      <td>[TIL]</td>\n",
       "    </tr>\n",
       "    <tr>\n",
       "      <th>127977645</th>\n",
       "      <td>127977647</td>\n",
       "      <td>[TIL]</td>\n",
       "    </tr>\n",
       "  </tbody>\n",
       "</table>\n",
       "</div>"
      ],
      "text/plain": [
       "                       end celltype\n",
       "chrom start                        \n",
       "chr9  127977558  127977560    [TIL]\n",
       "      127977573  127977575    [TIL]\n",
       "      127977617  127977619    [TIL]\n",
       "      127977629  127977631    [TIL]\n",
       "      127977645  127977647    [TIL]"
      ]
     },
     "execution_count": 2,
     "metadata": {},
     "output_type": "execute_result"
    }
   ],
   "source": [
    "otherfiledf.head()"
   ]
  },
  {
   "cell_type": "code",
   "execution_count": 3,
   "metadata": {},
   "outputs": [
    {
     "data": {
      "text/plain": [
       "MultiIndex([('chr9', 127977558),\n",
       "            ('chr9', 127977573),\n",
       "            ('chr9', 127977617),\n",
       "            ('chr9', 127977629),\n",
       "            ('chr9', 127977645),\n",
       "            ('chr3', 114318398),\n",
       "            ('chr3', 114318453),\n",
       "            ('chr3', 114318562),\n",
       "            ('chr3', 114318666),\n",
       "            ('chr3', 114318692),\n",
       "            ...\n",
       "            ('chr7',  43784504),\n",
       "            ('chr7',  43784641),\n",
       "            ('chr7',  43784679),\n",
       "            ('chr7',  43784696),\n",
       "            ('chr7',  43784705),\n",
       "            ('chr7',  43784751),\n",
       "            ('chr7',  43784815),\n",
       "            ('chr7',  43784850),\n",
       "            ('chr7',  43784957),\n",
       "            ('chr7',  43785164)],\n",
       "           names=['chrom', 'start'], length=300)"
      ]
     },
     "execution_count": 3,
     "metadata": {},
     "output_type": "execute_result"
    }
   ],
   "source": [
    "otherfiledf.index"
   ]
  },
  {
   "cell_type": "code",
   "execution_count": 4,
   "metadata": {},
   "outputs": [],
   "source": [
    "outdf=currenrefdf.reindex(otherfiledf.index.tolist())"
   ]
  },
  {
   "cell_type": "code",
   "execution_count": 5,
   "metadata": {},
   "outputs": [],
   "source": [
    "outdf.to_csv(currentref+\"_substted.txt\",sep='\\t')"
   ]
  }
 ],
 "metadata": {
  "kernelspec": {
   "display_name": "Python 3",
   "language": "python",
   "name": "python3"
  },
  "language_info": {
   "codemirror_mode": {
    "name": "ipython",
    "version": 3
   },
   "file_extension": ".py",
   "mimetype": "text/x-python",
   "name": "python",
   "nbconvert_exporter": "python",
   "pygments_lexer": "ipython3",
   "version": "3.6.7"
  }
 },
 "nbformat": 4,
 "nbformat_minor": 2
}
