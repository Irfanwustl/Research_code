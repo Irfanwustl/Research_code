{
 "cells": [
  {
   "cell_type": "code",
   "execution_count": 1,
   "metadata": {},
   "outputs": [
    {
     "data": {
      "text/plain": [
       "['/Users/irffanalahi/Research/Research_code/gitignorefolder/MHB_per_read/softreadcounting/testtheidea/veryefficient/fulltest/allct_nohyper/CD4allrange_NR_1000000_insilmix60_sorted_scored_nohyper.txt_binned_stats.txt',\n",
       " '/Users/irffanalahi/Research/Research_code/gitignorefolder/MHB_per_read/softreadcounting/testtheidea/veryefficient/fulltest/allct_nohyper/CD4allrange_NR_1000000_insilmix52_sorted_scored_nohyper.txt_binned_stats.txt',\n",
       " '/Users/irffanalahi/Research/Research_code/gitignorefolder/MHB_per_read/softreadcounting/testtheidea/veryefficient/fulltest/allct_nohyper/CD4allrange_NR_1000000_insilmix45_sorted_scored_nohyper.txt_binned_stats.txt',\n",
       " '/Users/irffanalahi/Research/Research_code/gitignorefolder/MHB_per_read/softreadcounting/testtheidea/veryefficient/fulltest/allct_nohyper/CD4allrange_NR_1000000_insilmix50_sorted_scored_nohyper.txt_binned_stats.txt',\n",
       " '/Users/irffanalahi/Research/Research_code/gitignorefolder/MHB_per_read/softreadcounting/testtheidea/veryefficient/fulltest/allct_nohyper/CD4allrange_NR_1000000_insilmix41_sorted_scored_nohyper.txt_binned_stats.txt']"
      ]
     },
     "execution_count": 1,
     "metadata": {},
     "output_type": "execute_result"
    }
   ],
   "source": [
    "import pandas as pd\n",
    "import glob\n",
    "import os\n",
    "from collections import defaultdict\n",
    "\n",
    "infol='/Users/irffanalahi/Research/Research_code/gitignorefolder/MHB_per_read/softreadcounting/testtheidea/veryefficient/fulltest/allct_nohyper'\n",
    "\n",
    "allct=['CD4','CD8','nB','NK','Mn','mNeu','m8','DC','Eo','Tr','m4','Mg','Er','mB']\n",
    "statfiles=glob.glob(infol+\"/*binned_stats.txt\")\n",
    "statfiles"
   ]
  },
  {
   "cell_type": "code",
   "execution_count": 2,
   "metadata": {},
   "outputs": [],
   "source": [
    "TPRdflist=[]\n",
    "FPRdflist=[]\n",
    "for statfile in statfiles:\n",
    "    currentdf=pd.read_csv(statfile,sep=\"\\t\",index_col=0)\n",
    "    \n",
    "    \n",
    " \n",
    "    \n",
    "    totalreadlist=currentdf.index.tolist()\n",
    "    \n",
    "    row = defaultdict(list)\n",
    "    \n",
    "    for celltype in allct:\n",
    "        \n",
    "        totalreadCT=len([i for i in totalreadlist if celltype in i]) \n",
    "        totalreadnonCT=len([i for i in totalreadlist if celltype not in i])\n",
    "  \n",
    "        accepteddf = currentdf[currentdf['maxscoredCT'] == celltype+\"-others\"]\n",
    "        \n",
    "        acc_rname = accepteddf.index.tolist()\n",
    "        acceptedtrueCTcount = len([i for i in acc_rname if celltype in i]) \n",
    "        \n",
    "        \n",
    "        TPR=acceptedtrueCTcount/totalreadCT\n",
    "        \n",
    "        row[celltype].append(TPR) \n",
    "        \n",
    "        acceptedfalseCTcount = len(acc_rname) - acceptedtrueCTcount\n",
    "        \n",
    "        FPR=acceptedfalseCTcount/totalreadnonCT\n",
    "        \n",
    "        rowFPR[celltype].append(FPR)\n",
    "        \n",
    "    TPRdf=pd.DataFrame.from_dict(row)\n",
    "    \n",
    "    FPRdf=pd.DataFrame.from_dict(rowFPR)\n",
    "        \n",
    "    TPRdf['Mixture']=os.path.basename(statfile)\n",
    "    \n",
    "    FPRdf['Mixture']=os.path.basename(statfile)\n",
    "    \n",
    "    \n",
    "    FPRdflist.append(FPRdf)\n",
    " \n",
    "        \n",
    "    TPRdflist.append(TPRdf)\n",
    "        \n"
   ]
  },
  {
   "cell_type": "code",
   "execution_count": 3,
   "metadata": {},
   "outputs": [],
   "source": [
    "allTPRdf=pd.concat(TPRdflist)\n",
    "\n",
    "allFPRdf=pd.concat(FPRdflist)\n",
    "allTPRdf.to_csv(infol+\"_TPR.txt\",sep=\"\\t\",index=False)\n",
    "\n",
    "allFPRdf.to_csv(infol+\"_FPR.txt\",sep=\"\\t\",index=False)"
   ]
  }
 ],
 "metadata": {
  "kernelspec": {
   "display_name": "Python 3",
   "language": "python",
   "name": "python3"
  },
  "language_info": {
   "codemirror_mode": {
    "name": "ipython",
    "version": 3
   },
   "file_extension": ".py",
   "mimetype": "text/x-python",
   "name": "python",
   "nbconvert_exporter": "python",
   "pygments_lexer": "ipython3",
   "version": "3.6.7"
  }
 },
 "nbformat": 4,
 "nbformat_minor": 2
}
