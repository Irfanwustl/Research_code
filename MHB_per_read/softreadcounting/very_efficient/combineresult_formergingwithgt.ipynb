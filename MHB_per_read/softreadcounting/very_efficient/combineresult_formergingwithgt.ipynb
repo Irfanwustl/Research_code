{
 "cells": [
  {
   "cell_type": "code",
   "execution_count": 1,
   "metadata": {},
   "outputs": [
    {
     "data": {
      "text/plain": [
       "['/Users/irffanalahi/Research/Research_code/gitignorefolder/MHB_per_read/softreadcounting/testtheidea/veryefficient/fulltest/bined_cpginfo_allct/CD4allrange_NR_1000000_insilmix60_sorted_scored_nohyper.txt_cpgweightedforBIN.txt_posscore.txt',\n",
       " '/Users/irffanalahi/Research/Research_code/gitignorefolder/MHB_per_read/softreadcounting/testtheidea/veryefficient/fulltest/bined_cpginfo_allct/CD4allrange_NR_1000000_insilmix52_sorted_scored_nohyper.txt_cpgweightedforBIN.txt_posscore.txt',\n",
       " '/Users/irffanalahi/Research/Research_code/gitignorefolder/MHB_per_read/softreadcounting/testtheidea/veryefficient/fulltest/bined_cpginfo_allct/CD4allrange_NR_1000000_insilmix45_sorted_scored_nohyper.txt_cpgweightedforBIN.txt_posscore.txt',\n",
       " '/Users/irffanalahi/Research/Research_code/gitignorefolder/MHB_per_read/softreadcounting/testtheidea/veryefficient/fulltest/bined_cpginfo_allct/CD4allrange_NR_1000000_insilmix50_sorted_scored_nohyper.txt_cpgweightedforBIN.txt_posscore.txt',\n",
       " '/Users/irffanalahi/Research/Research_code/gitignorefolder/MHB_per_read/softreadcounting/testtheidea/veryefficient/fulltest/bined_cpginfo_allct/CD4allrange_NR_1000000_insilmix41_sorted_scored_nohyper.txt_cpgweightedforBIN.txt_posscore.txt']"
      ]
     },
     "execution_count": 1,
     "metadata": {},
     "output_type": "execute_result"
    }
   ],
   "source": [
    "import pandas as pd\n",
    "import glob\n",
    "import os\n",
    "\n",
    "infol='/Users/irffanalahi/Research/Research_code/gitignorefolder/MHB_per_read/softreadcounting/testtheidea/veryefficient/fulltest/bined_cpginfo_allct'\n",
    "\n",
    "suffix='posscore.txt'\n",
    "\n",
    "posscorefiles=glob.glob(infol+\"/*\"+suffix)\n",
    "\n",
    "posscorefiles"
   ]
  },
  {
   "cell_type": "code",
   "execution_count": 2,
   "metadata": {},
   "outputs": [],
   "source": [
    "\n",
    "outdflist=[]\n",
    "for posscorefile in posscorefiles:\n",
    "    currentdf=pd.read_csv(posscorefile,sep=\"\\t\")\n",
    "    \n",
    "    currentdf['Mixture']=os.path.basename(posscorefile)\n",
    "    \n",
    "   \n",
    "\n",
    "    outdflist.append(currentdf)\n",
    "    "
   ]
  },
  {
   "cell_type": "code",
   "execution_count": 3,
   "metadata": {},
   "outputs": [],
   "source": [
    "outdf=pd.concat(outdflist)\n",
    "outdf=outdf.set_index('Mixture')\n",
    "outdf.to_csv(infol+\"_\"+suffix+\"_CSxOut.txt\",sep=\"\\t\")"
   ]
  }
 ],
 "metadata": {
  "kernelspec": {
   "display_name": "Python 3",
   "language": "python",
   "name": "python3"
  },
  "language_info": {
   "codemirror_mode": {
    "name": "ipython",
    "version": 3
   },
   "file_extension": ".py",
   "mimetype": "text/x-python",
   "name": "python",
   "nbconvert_exporter": "python",
   "pygments_lexer": "ipython3",
   "version": "3.6.7"
  }
 },
 "nbformat": 4,
 "nbformat_minor": 2
}
