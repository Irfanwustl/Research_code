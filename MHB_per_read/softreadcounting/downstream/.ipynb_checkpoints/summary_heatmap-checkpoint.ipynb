{
 "cells": [
  {
   "cell_type": "code",
   "execution_count": 1,
   "metadata": {},
   "outputs": [
    {
     "data": {
      "text/html": [
       "<div>\n",
       "<style scoped>\n",
       "    .dataframe tbody tr th:only-of-type {\n",
       "        vertical-align: middle;\n",
       "    }\n",
       "\n",
       "    .dataframe tbody tr th {\n",
       "        vertical-align: top;\n",
       "    }\n",
       "\n",
       "    .dataframe thead th {\n",
       "        text-align: right;\n",
       "    }\n",
       "</style>\n",
       "<table border=\"1\" class=\"dataframe\">\n",
       "  <thead>\n",
       "    <tr style=\"text-align: right;\">\n",
       "      <th></th>\n",
       "      <th>CD8TIL</th>\n",
       "    </tr>\n",
       "    <tr>\n",
       "      <th>SM</th>\n",
       "      <th></th>\n",
       "    </tr>\n",
       "  </thead>\n",
       "  <tbody>\n",
       "    <tr>\n",
       "      <th>activated_CD8TIL_withend.txt_intwith_CD8TL_mel_withend.txtCD8TIL_-0.1_onlypos_int_naiveMyloid_CD8TIL_withend.txtCD8TIL_-0.5_onlypos_int_activated_CD8TIL_withend.txtCD8TIL_-0.1_onlypos_SM</th>\n",
       "      <td>80490</td>\n",
       "    </tr>\n",
       "    <tr>\n",
       "      <th>activated_CD8TIL_withend.txt_intwith_CD8TL_mel_withend.txtCD8TIL_-0.1_onlypos_int_naiveMyloid_CD8TIL_withend.txtCD8TIL_-0.1_onlypos_int_activated_CD8TIL_withend.txtCD8TIL_-0.5_onlypos_SM</th>\n",
       "      <td>4851</td>\n",
       "    </tr>\n",
       "    <tr>\n",
       "      <th>activated_CD8TIL_withend.txt_intwith_CD8TL_mel_withend.txtCD8TIL_-0.1_onlypos_int_naiveMyloid_CD8TIL_withend.txtCD8TIL_-0.5_onlypos_int_activated_CD8TIL_withend.txtCD8TIL_-0.5_onlypos_SM</th>\n",
       "      <td>4380</td>\n",
       "    </tr>\n",
       "    <tr>\n",
       "      <th>activated_CD8TIL_withend.txt_intwith_CD8TL_mel_withend.txtCD8TIL_-0.1_onlypos_int_naiveMyloid_CD8TIL_withend.txtCD8TIL_-0.1_onlypos_int_activated_CD8TIL_withend.txtCD8TIL_-0.1_onlypos_SM</th>\n",
       "      <td>252529</td>\n",
       "    </tr>\n",
       "  </tbody>\n",
       "</table>\n",
       "</div>"
      ],
      "text/plain": [
       "                                                    CD8TIL\n",
       "SM                                                        \n",
       "activated_CD8TIL_withend.txt_intwith_CD8TL_mel_...   80490\n",
       "activated_CD8TIL_withend.txt_intwith_CD8TL_mel_...    4851\n",
       "activated_CD8TIL_withend.txt_intwith_CD8TL_mel_...    4380\n",
       "activated_CD8TIL_withend.txt_intwith_CD8TL_mel_...  252529"
      ]
     },
     "execution_count": 1,
     "metadata": {},
     "output_type": "execute_result"
    }
   ],
   "source": [
    "import pandas  as  pd\n",
    "import re\n",
    "import sys\n",
    "\n",
    "infile='/Users/irffanalahi/Research/Research_code/gitignorefolder/MHB_per_read/softreadcounting/downstream/hashtablestats/test_CD8TIL_cpgnumber.txt'\n",
    "\n",
    "\n",
    "####the pattern must be just upto the number####\n",
    "heatxaxis='naiveMyloid_CD8TIL_withend.txtCD8TIL_'\n",
    "heatyaxis='activated_CD8TIL_withend.txtCD8TIL_'\n",
    "\n",
    "\n",
    "indf=pd.read_csv(infile,sep='\\t',index_col=0)\n",
    "indf.head()\n"
   ]
  },
  {
   "cell_type": "code",
   "execution_count": 2,
   "metadata": {},
   "outputs": [],
   "source": [
    "def findoutvalue(fname, pattern):\n",
    "\n",
    "   \n",
    "    m = re.search(pattern+'(.+?)_', fname)\n",
    "    if m:\n",
    "        found = m.group(1)\n",
    "        \n",
    "\n",
    "    else:\n",
    "        print(\"found=\",found)\n",
    "        print(\"exiting\")\n",
    "\n",
    "        sys.exit(1)\n",
    "    value=float(found)\n",
    "    return value\n",
    "    "
   ]
  },
  {
   "cell_type": "code",
   "execution_count": 4,
   "metadata": {},
   "outputs": [],
   "source": [
    "outindex=[]\n",
    "outcols=[]\n",
    "\n",
    "for index, row in indf.iterrows():\n",
    "   \n",
    "    tempval=findoutvalue(index,heatxaxis)\n",
    "    outcols.append(-1*tempval)\n",
    "    tempval2=findoutvalue(index,heatyaxis)\n",
    "    outindex.append(-1*tempval2)\n",
    "   \n",
    "    "
   ]
  }
 ],
 "metadata": {
  "kernelspec": {
   "display_name": "Python 3",
   "language": "python",
   "name": "python3"
  },
  "language_info": {
   "codemirror_mode": {
    "name": "ipython",
    "version": 3
   },
   "file_extension": ".py",
   "mimetype": "text/x-python",
   "name": "python",
   "nbconvert_exporter": "python",
   "pygments_lexer": "ipython3",
   "version": "3.6.7"
  }
 },
 "nbformat": 4,
 "nbformat_minor": 2
}
