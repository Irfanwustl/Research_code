{
 "cells": [
  {
   "cell_type": "code",
   "execution_count": 1,
   "metadata": {},
   "outputs": [
    {
     "data": {
      "text/html": [
       "<div>\n",
       "<style scoped>\n",
       "    .dataframe tbody tr th:only-of-type {\n",
       "        vertical-align: middle;\n",
       "    }\n",
       "\n",
       "    .dataframe tbody tr th {\n",
       "        vertical-align: top;\n",
       "    }\n",
       "\n",
       "    .dataframe thead th {\n",
       "        text-align: right;\n",
       "    }\n",
       "</style>\n",
       "<table border=\"1\" class=\"dataframe\">\n",
       "  <thead>\n",
       "    <tr style=\"text-align: right;\">\n",
       "      <th></th>\n",
       "      <th>CD8TIL</th>\n",
       "    </tr>\n",
       "    <tr>\n",
       "      <th>SM</th>\n",
       "      <th></th>\n",
       "    </tr>\n",
       "  </thead>\n",
       "  <tbody>\n",
       "    <tr>\n",
       "      <th>CD8TIL_mel_intwith_naiveMyloidPateintCD14_CD8TILCD8TIL_-0.9_int_CD8TIL_melCD8TIL_-0.9_int_activatedPatientTcell_CD8TILCD8TIL_-0.4_SM</th>\n",
       "      <td>9</td>\n",
       "    </tr>\n",
       "    <tr>\n",
       "      <th>CD8TIL_mel_intwith_naiveMyloidPateintCD14_CD8TILCD8TIL_-0.3_int_CD8TIL_melCD8TIL_-0.9_int_activatedPatientTcell_CD8TILCD8TIL_-0.1_SM</th>\n",
       "      <td>1184</td>\n",
       "    </tr>\n",
       "    <tr>\n",
       "      <th>CD8TIL_mel_intwith_naiveMyloidPateintCD14_CD8TILCD8TIL_-0.5_int_CD8TIL_melCD8TIL_-0.9_int_activatedPatientTcell_CD8TILCD8TIL_-0.2_SM</th>\n",
       "      <td>616</td>\n",
       "    </tr>\n",
       "    <tr>\n",
       "      <th>CD8TIL_mel_intwith_naiveMyloidPateintCD14_CD8TILCD8TIL_-0.1_int_CD8TIL_melCD8TIL_-0.9_int_activatedPatientTcell_CD8TILCD8TIL_-0.7_SM</th>\n",
       "      <td>0</td>\n",
       "    </tr>\n",
       "    <tr>\n",
       "      <th>CD8TIL_mel_intwith_naiveMyloidPateintCD14_CD8TILCD8TIL_-0.7_int_CD8TIL_melCD8TIL_-0.9_int_activatedPatientTcell_CD8TILCD8TIL_-0.4_SM</th>\n",
       "      <td>129</td>\n",
       "    </tr>\n",
       "  </tbody>\n",
       "</table>\n",
       "</div>"
      ],
      "text/plain": [
       "                                                    CD8TIL\n",
       "SM                                                        \n",
       "CD8TIL_mel_intwith_naiveMyloidPateintCD14_CD8TI...       9\n",
       "CD8TIL_mel_intwith_naiveMyloidPateintCD14_CD8TI...    1184\n",
       "CD8TIL_mel_intwith_naiveMyloidPateintCD14_CD8TI...     616\n",
       "CD8TIL_mel_intwith_naiveMyloidPateintCD14_CD8TI...       0\n",
       "CD8TIL_mel_intwith_naiveMyloidPateintCD14_CD8TI...     129"
      ]
     },
     "execution_count": 1,
     "metadata": {},
     "output_type": "execute_result"
    }
   ],
   "source": [
    "import pandas  as  pd\n",
    "import re\n",
    "import sys\n",
    "import seaborn as sns; sns.set()\n",
    "%matplotlib inline \n",
    "import matplotlib.pyplot as plt\n",
    "import time\n",
    "start_time = time.time()\n",
    "\n",
    "infile='/Users/irffanalahi/Research/Research_update/SoftRD/hashtable_stats/BL22LTMEpatientPBLs/melcd8.9_onesetall_cpgcount.txt'\n",
    "\n",
    "columnofinterest='CD8TIL'\n",
    "\n",
    "####the pattern must be just upto the number####\n",
    "heatxaxis='naiveMyloidPateintCD14_CD8TILCD8TIL_'\n",
    "heatyaxis='activatedPatientTcell_CD8TILCD8TIL_'\n",
    "\n",
    "\n",
    "\n",
    "indf=pd.read_csv(infile,sep='\\t',index_col=0)\n",
    "indf.head()\n"
   ]
  },
  {
   "cell_type": "code",
   "execution_count": 2,
   "metadata": {},
   "outputs": [],
   "source": [
    "def findoutvalue(fname, pattern):\n",
    "\n",
    "   \n",
    "    m = re.search(pattern+'(.+?)_', fname)\n",
    "    if m:\n",
    "        found = m.group(1)\n",
    "        \n",
    "\n",
    "    else:\n",
    "        print(\"found=\",found)\n",
    "        print(\"exiting\")\n",
    "\n",
    "        sys.exit(1)\n",
    "    value=float(found)\n",
    "    return value\n",
    "    "
   ]
  },
  {
   "cell_type": "code",
   "execution_count": 3,
   "metadata": {},
   "outputs": [],
   "source": [
    "outindex=[]\n",
    "outcols=[]\n",
    "\n",
    "for index, row in indf.iterrows():\n",
    "   \n",
    "    tempval=findoutvalue(index,heatxaxis)\n",
    "    outcols.append(-1*tempval)\n",
    "\n",
    "    \n",
    "    tempval2=findoutvalue(index,heatyaxis)\n",
    "    outindex.append(-1*tempval2)\n",
    "\n",
    "\n",
    "outcols=list(set(outcols))\n",
    "outcols.sort()\n",
    "\n",
    "outindex=list(set(outindex))\n",
    "outindex.sort()\n",
    "\n",
    "\n",
    "    "
   ]
  },
  {
   "cell_type": "code",
   "execution_count": 4,
   "metadata": {},
   "outputs": [
    {
     "data": {
      "text/html": [
       "<div>\n",
       "<style scoped>\n",
       "    .dataframe tbody tr th:only-of-type {\n",
       "        vertical-align: middle;\n",
       "    }\n",
       "\n",
       "    .dataframe tbody tr th {\n",
       "        vertical-align: top;\n",
       "    }\n",
       "\n",
       "    .dataframe thead th {\n",
       "        text-align: right;\n",
       "    }\n",
       "</style>\n",
       "<table border=\"1\" class=\"dataframe\">\n",
       "  <thead>\n",
       "    <tr style=\"text-align: right;\">\n",
       "      <th></th>\n",
       "      <th>0.1</th>\n",
       "      <th>0.2</th>\n",
       "      <th>0.3</th>\n",
       "      <th>0.4</th>\n",
       "      <th>0.5</th>\n",
       "      <th>0.6</th>\n",
       "      <th>0.7</th>\n",
       "      <th>0.8</th>\n",
       "      <th>0.9</th>\n",
       "    </tr>\n",
       "  </thead>\n",
       "  <tbody>\n",
       "    <tr>\n",
       "      <th>0.1</th>\n",
       "      <td>NaN</td>\n",
       "      <td>NaN</td>\n",
       "      <td>NaN</td>\n",
       "      <td>NaN</td>\n",
       "      <td>NaN</td>\n",
       "      <td>NaN</td>\n",
       "      <td>NaN</td>\n",
       "      <td>NaN</td>\n",
       "      <td>NaN</td>\n",
       "    </tr>\n",
       "    <tr>\n",
       "      <th>0.2</th>\n",
       "      <td>NaN</td>\n",
       "      <td>NaN</td>\n",
       "      <td>NaN</td>\n",
       "      <td>NaN</td>\n",
       "      <td>NaN</td>\n",
       "      <td>NaN</td>\n",
       "      <td>NaN</td>\n",
       "      <td>NaN</td>\n",
       "      <td>NaN</td>\n",
       "    </tr>\n",
       "    <tr>\n",
       "      <th>0.3</th>\n",
       "      <td>NaN</td>\n",
       "      <td>NaN</td>\n",
       "      <td>NaN</td>\n",
       "      <td>NaN</td>\n",
       "      <td>NaN</td>\n",
       "      <td>NaN</td>\n",
       "      <td>NaN</td>\n",
       "      <td>NaN</td>\n",
       "      <td>NaN</td>\n",
       "    </tr>\n",
       "    <tr>\n",
       "      <th>0.4</th>\n",
       "      <td>NaN</td>\n",
       "      <td>NaN</td>\n",
       "      <td>NaN</td>\n",
       "      <td>NaN</td>\n",
       "      <td>NaN</td>\n",
       "      <td>NaN</td>\n",
       "      <td>NaN</td>\n",
       "      <td>NaN</td>\n",
       "      <td>NaN</td>\n",
       "    </tr>\n",
       "    <tr>\n",
       "      <th>0.5</th>\n",
       "      <td>NaN</td>\n",
       "      <td>NaN</td>\n",
       "      <td>NaN</td>\n",
       "      <td>NaN</td>\n",
       "      <td>NaN</td>\n",
       "      <td>NaN</td>\n",
       "      <td>NaN</td>\n",
       "      <td>NaN</td>\n",
       "      <td>NaN</td>\n",
       "    </tr>\n",
       "  </tbody>\n",
       "</table>\n",
       "</div>"
      ],
      "text/plain": [
       "     0.1  0.2  0.3  0.4  0.5  0.6  0.7  0.8  0.9\n",
       "0.1  NaN  NaN  NaN  NaN  NaN  NaN  NaN  NaN  NaN\n",
       "0.2  NaN  NaN  NaN  NaN  NaN  NaN  NaN  NaN  NaN\n",
       "0.3  NaN  NaN  NaN  NaN  NaN  NaN  NaN  NaN  NaN\n",
       "0.4  NaN  NaN  NaN  NaN  NaN  NaN  NaN  NaN  NaN\n",
       "0.5  NaN  NaN  NaN  NaN  NaN  NaN  NaN  NaN  NaN"
      ]
     },
     "execution_count": 4,
     "metadata": {},
     "output_type": "execute_result"
    }
   ],
   "source": [
    "outdf = pd.DataFrame(index = outindex,columns =outcols)\n",
    "outdf.head()"
   ]
  },
  {
   "cell_type": "code",
   "execution_count": 5,
   "metadata": {},
   "outputs": [],
   "source": [
    "for index, row in indf.iterrows():\n",
    "    tempcol=-1*findoutvalue(index,heatxaxis)\n",
    "    tempindex=-1*findoutvalue(index,heatyaxis)\n",
    "    outdf.loc[tempindex,tempcol]=row[columnofinterest]\n",
    "  \n",
    "    "
   ]
  },
  {
   "cell_type": "code",
   "execution_count": 6,
   "metadata": {},
   "outputs": [
    {
     "data": {
      "text/plain": [
       "0.1    object\n",
       "0.2    object\n",
       "0.3    object\n",
       "0.4    object\n",
       "0.5    object\n",
       "0.6    object\n",
       "0.7    object\n",
       "0.8    object\n",
       "0.9    object\n",
       "dtype: object"
      ]
     },
     "execution_count": 6,
     "metadata": {},
     "output_type": "execute_result"
    }
   ],
   "source": [
    "outdf.dtypes"
   ]
  },
  {
   "cell_type": "code",
   "execution_count": 7,
   "metadata": {},
   "outputs": [],
   "source": [
    "outdf = outdf.astype(float)"
   ]
  },
  {
   "cell_type": "code",
   "execution_count": 8,
   "metadata": {},
   "outputs": [],
   "source": [
    "outdf.to_csv(infile+'_'+columnofinterest+'_summaryforheat.txt',sep='\\t')"
   ]
  },
  {
   "cell_type": "code",
   "execution_count": 15,
   "metadata": {},
   "outputs": [
    {
     "data": {
      "image/png": "[encoded data removed]",
      "text/plain": [
       "<Figure size 720x576 with 2 Axes>"
      ]
     },
     "metadata": {
      "needs_background": "light"
     },
     "output_type": "display_data"
    }
   ],
   "source": [
    "plt.figure(figsize=(10,8))\n",
    "mycmap = plt.cm.viridis\n",
    "mycmap.set_bad(\"dimgrey\")\n",
    "aaa=sns.heatmap(outdf, cmap=mycmap,annot=True,fmt='.1f')\n",
    "#aaa.invert_yaxis()\n",
    "plt.ylabel(heatyaxis)\n",
    "plt.xlabel(heatxaxis)\n",
    "\n",
    "heatname=infile+'_'+columnofinterest+\".pdf\"\n",
    "plt.savefig(heatname,bbox_inches = \"tight\")\n",
    "#plt.show()"
   ]
  },
  {
   "cell_type": "code",
   "execution_count": 10,
   "metadata": {},
   "outputs": [
    {
     "name": "stdout",
     "output_type": "stream",
     "text": [
      "0.9353280067443848\n"
     ]
    }
   ],
   "source": [
    "end_time = time.time()\n",
    "\n",
    "time_elapsed = (end_time - start_time)\n",
    "\n",
    "print(time_elapsed)"
   ]
  }
 ],
 "metadata": {
  "kernelspec": {
   "display_name": "Python 3",
   "language": "python",
   "name": "python3"
  },
  "language_info": {
   "codemirror_mode": {
    "name": "ipython",
    "version": 3
   },
   "file_extension": ".py",
   "mimetype": "text/x-python",
   "name": "python",
   "nbconvert_exporter": "python",
   "pygments_lexer": "ipython3",
   "version": "3.6.7"
  }
 },
 "nbformat": 4,
 "nbformat_minor": 2
}
