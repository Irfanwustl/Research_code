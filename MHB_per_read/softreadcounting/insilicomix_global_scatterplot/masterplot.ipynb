{
 "cells": [
  {
   "cell_type": "code",
   "execution_count": 1,
   "metadata": {},
   "outputs": [
    {
     "data": {
      "text/html": [
       "<div>\n",
       "<style scoped>\n",
       "    .dataframe tbody tr th:only-of-type {\n",
       "        vertical-align: middle;\n",
       "    }\n",
       "\n",
       "    .dataframe tbody tr th {\n",
       "        vertical-align: top;\n",
       "    }\n",
       "\n",
       "    .dataframe thead th {\n",
       "        text-align: right;\n",
       "    }\n",
       "</style>\n",
       "<table border=\"1\" class=\"dataframe\">\n",
       "  <thead>\n",
       "    <tr style=\"text-align: right;\">\n",
       "      <th></th>\n",
       "      <th>Naive CD4 T</th>\n",
       "      <th>Naive CD8 T</th>\n",
       "      <th>Naive B</th>\n",
       "      <th>NK</th>\n",
       "      <th>PC</th>\n",
       "      <th>Mono</th>\n",
       "      <th>Mac (M0)</th>\n",
       "      <th>Mac (M1)</th>\n",
       "      <th>Mac (M2)</th>\n",
       "      <th>iDC</th>\n",
       "      <th>...</th>\n",
       "      <th>CD8 TCM</th>\n",
       "      <th>CD8 TEM</th>\n",
       "      <th>Eosinophil</th>\n",
       "      <th>Tregs</th>\n",
       "      <th>CD4 TEM</th>\n",
       "      <th>CD8 TEMRA</th>\n",
       "      <th>Megakaryocyte</th>\n",
       "      <th>CD4 TCM</th>\n",
       "      <th>Erythrocyte</th>\n",
       "      <th>Memory B</th>\n",
       "    </tr>\n",
       "    <tr>\n",
       "      <th>Mixture</th>\n",
       "      <th></th>\n",
       "      <th></th>\n",
       "      <th></th>\n",
       "      <th></th>\n",
       "      <th></th>\n",
       "      <th></th>\n",
       "      <th></th>\n",
       "      <th></th>\n",
       "      <th></th>\n",
       "      <th></th>\n",
       "      <th></th>\n",
       "      <th></th>\n",
       "      <th></th>\n",
       "      <th></th>\n",
       "      <th></th>\n",
       "      <th></th>\n",
       "      <th></th>\n",
       "      <th></th>\n",
       "      <th></th>\n",
       "      <th></th>\n",
       "      <th></th>\n",
       "    </tr>\n",
       "  </thead>\n",
       "  <tbody>\n",
       "    <tr>\n",
       "      <th>BL22test_NR_3215798_insilmix1</th>\n",
       "      <td>0.001567</td>\n",
       "      <td>0.008916</td>\n",
       "      <td>0.089903</td>\n",
       "      <td>0.061825</td>\n",
       "      <td>0.050337</td>\n",
       "      <td>0.098178</td>\n",
       "      <td>0.096435</td>\n",
       "      <td>0.015229</td>\n",
       "      <td>0.020884</td>\n",
       "      <td>0.038765</td>\n",
       "      <td>...</td>\n",
       "      <td>0.034814</td>\n",
       "      <td>0.097541</td>\n",
       "      <td>0.051067</td>\n",
       "      <td>0.009634</td>\n",
       "      <td>0.081890</td>\n",
       "      <td>0.036467</td>\n",
       "      <td>0.030411</td>\n",
       "      <td>0.012113</td>\n",
       "      <td>0.001277</td>\n",
       "      <td>0.052114</td>\n",
       "    </tr>\n",
       "    <tr>\n",
       "      <th>BL22test_NR_3215798_insilmix2</th>\n",
       "      <td>0.019763</td>\n",
       "      <td>0.067135</td>\n",
       "      <td>0.078821</td>\n",
       "      <td>0.008333</td>\n",
       "      <td>0.086130</td>\n",
       "      <td>0.032387</td>\n",
       "      <td>0.090040</td>\n",
       "      <td>0.081458</td>\n",
       "      <td>0.030769</td>\n",
       "      <td>0.040650</td>\n",
       "      <td>...</td>\n",
       "      <td>0.025479</td>\n",
       "      <td>0.094256</td>\n",
       "      <td>0.098377</td>\n",
       "      <td>0.016312</td>\n",
       "      <td>0.006932</td>\n",
       "      <td>0.002470</td>\n",
       "      <td>0.070859</td>\n",
       "      <td>0.007504</td>\n",
       "      <td>0.001665</td>\n",
       "      <td>0.039045</td>\n",
       "    </tr>\n",
       "    <tr>\n",
       "      <th>BL22test_NR_3215798_insilmix3</th>\n",
       "      <td>0.016832</td>\n",
       "      <td>0.063332</td>\n",
       "      <td>0.027583</td>\n",
       "      <td>0.030681</td>\n",
       "      <td>0.036016</td>\n",
       "      <td>0.021821</td>\n",
       "      <td>0.000066</td>\n",
       "      <td>0.057864</td>\n",
       "      <td>0.008802</td>\n",
       "      <td>0.081407</td>\n",
       "      <td>...</td>\n",
       "      <td>0.002127</td>\n",
       "      <td>0.063747</td>\n",
       "      <td>0.016275</td>\n",
       "      <td>0.069077</td>\n",
       "      <td>0.061973</td>\n",
       "      <td>0.081773</td>\n",
       "      <td>0.069628</td>\n",
       "      <td>0.080661</td>\n",
       "      <td>0.017842</td>\n",
       "      <td>0.086525</td>\n",
       "    </tr>\n",
       "    <tr>\n",
       "      <th>BL22test_NR_3215798_insilmix4</th>\n",
       "      <td>0.025658</td>\n",
       "      <td>0.077149</td>\n",
       "      <td>0.025406</td>\n",
       "      <td>0.039902</td>\n",
       "      <td>0.070235</td>\n",
       "      <td>0.057107</td>\n",
       "      <td>0.062788</td>\n",
       "      <td>0.064365</td>\n",
       "      <td>0.044093</td>\n",
       "      <td>0.019512</td>\n",
       "      <td>...</td>\n",
       "      <td>0.058935</td>\n",
       "      <td>0.021134</td>\n",
       "      <td>0.031924</td>\n",
       "      <td>0.026297</td>\n",
       "      <td>0.066437</td>\n",
       "      <td>0.079915</td>\n",
       "      <td>0.069884</td>\n",
       "      <td>0.085429</td>\n",
       "      <td>0.022945</td>\n",
       "      <td>0.014311</td>\n",
       "    </tr>\n",
       "    <tr>\n",
       "      <th>BL22test_NR_3215798_insilmix5</th>\n",
       "      <td>0.075323</td>\n",
       "      <td>0.052262</td>\n",
       "      <td>0.046414</td>\n",
       "      <td>0.054890</td>\n",
       "      <td>0.061212</td>\n",
       "      <td>0.003146</td>\n",
       "      <td>0.014326</td>\n",
       "      <td>0.085246</td>\n",
       "      <td>0.012295</td>\n",
       "      <td>0.103779</td>\n",
       "      <td>...</td>\n",
       "      <td>0.018251</td>\n",
       "      <td>0.014336</td>\n",
       "      <td>0.029931</td>\n",
       "      <td>0.055539</td>\n",
       "      <td>0.031640</td>\n",
       "      <td>0.095913</td>\n",
       "      <td>0.002125</td>\n",
       "      <td>0.075938</td>\n",
       "      <td>0.092160</td>\n",
       "      <td>0.023713</td>\n",
       "    </tr>\n",
       "  </tbody>\n",
       "</table>\n",
       "<p>5 rows × 22 columns</p>\n",
       "</div>"
      ],
      "text/plain": [
       "                               Naive CD4 T  Naive CD8 T   Naive B        NK  \\\n",
       "Mixture                                                                       \n",
       "BL22test_NR_3215798_insilmix1     0.001567     0.008916  0.089903  0.061825   \n",
       "BL22test_NR_3215798_insilmix2     0.019763     0.067135  0.078821  0.008333   \n",
       "BL22test_NR_3215798_insilmix3     0.016832     0.063332  0.027583  0.030681   \n",
       "BL22test_NR_3215798_insilmix4     0.025658     0.077149  0.025406  0.039902   \n",
       "BL22test_NR_3215798_insilmix5     0.075323     0.052262  0.046414  0.054890   \n",
       "\n",
       "                                     PC      Mono  Mac (M0)  Mac (M1)  \\\n",
       "Mixture                                                                 \n",
       "BL22test_NR_3215798_insilmix1  0.050337  0.098178  0.096435  0.015229   \n",
       "BL22test_NR_3215798_insilmix2  0.086130  0.032387  0.090040  0.081458   \n",
       "BL22test_NR_3215798_insilmix3  0.036016  0.021821  0.000066  0.057864   \n",
       "BL22test_NR_3215798_insilmix4  0.070235  0.057107  0.062788  0.064365   \n",
       "BL22test_NR_3215798_insilmix5  0.061212  0.003146  0.014326  0.085246   \n",
       "\n",
       "                               Mac (M2)       iDC  ...   CD8 TCM   CD8 TEM  \\\n",
       "Mixture                                            ...                       \n",
       "BL22test_NR_3215798_insilmix1  0.020884  0.038765  ...  0.034814  0.097541   \n",
       "BL22test_NR_3215798_insilmix2  0.030769  0.040650  ...  0.025479  0.094256   \n",
       "BL22test_NR_3215798_insilmix3  0.008802  0.081407  ...  0.002127  0.063747   \n",
       "BL22test_NR_3215798_insilmix4  0.044093  0.019512  ...  0.058935  0.021134   \n",
       "BL22test_NR_3215798_insilmix5  0.012295  0.103779  ...  0.018251  0.014336   \n",
       "\n",
       "                               Eosinophil     Tregs   CD4 TEM  CD8 TEMRA  \\\n",
       "Mixture                                                                    \n",
       "BL22test_NR_3215798_insilmix1    0.051067  0.009634  0.081890   0.036467   \n",
       "BL22test_NR_3215798_insilmix2    0.098377  0.016312  0.006932   0.002470   \n",
       "BL22test_NR_3215798_insilmix3    0.016275  0.069077  0.061973   0.081773   \n",
       "BL22test_NR_3215798_insilmix4    0.031924  0.026297  0.066437   0.079915   \n",
       "BL22test_NR_3215798_insilmix5    0.029931  0.055539  0.031640   0.095913   \n",
       "\n",
       "                               Megakaryocyte   CD4 TCM  Erythrocyte  Memory B  \n",
       "Mixture                                                                        \n",
       "BL22test_NR_3215798_insilmix1       0.030411  0.012113     0.001277  0.052114  \n",
       "BL22test_NR_3215798_insilmix2       0.070859  0.007504     0.001665  0.039045  \n",
       "BL22test_NR_3215798_insilmix3       0.069628  0.080661     0.017842  0.086525  \n",
       "BL22test_NR_3215798_insilmix4       0.069884  0.085429     0.022945  0.014311  \n",
       "BL22test_NR_3215798_insilmix5       0.002125  0.075938     0.092160  0.023713  \n",
       "\n",
       "[5 rows x 22 columns]"
      ]
     },
     "execution_count": 1,
     "metadata": {},
     "output_type": "execute_result"
    }
   ],
   "source": [
    "import pandas as pd\n",
    "import matplotlib.pyplot as plt\n",
    "import seaborn as sns\n",
    "plt.rc('font', family='Arial')\n",
    "gtfile='/Users/irffanalahi/Research/Research_update/SoftRD/largerEXP/BL22genepromdelta.7/insilico/training/bestrefperfforTEST/ROC_plots/BL22_binned/troubleshooting/finalize/finalize2/BL22Testmixture_outputgt_fract.txt_ctrename.txt'\n",
    "tprFPR='/Users/irffanalahi/Research/Research_update/SoftRD/largerEXP/BL22genepromdelta.7/insilico/training/bestrefperfforTEST/ROC_plots/BL22_binned/troubleshooting/finalize/finalize2/BL22_genepromSM_0.7.txt_TRAININGbestref.txt_result_dupindex_binnedstats.pkl_optCutpoint_TPR_FPR.txt_ctrename.txt'\n",
    "\n",
    "gtdf=pd.read_csv(gtfile,sep='\\t',index_col=0)\n",
    "tprFPRdf=pd.read_csv(tprFPR,sep='\\t',index_col=0)\n",
    "tprFPRdf.reset_index(inplace=True)\n",
    "gtdf.head()\n"
   ]
  },
  {
   "cell_type": "code",
   "execution_count": 2,
   "metadata": {},
   "outputs": [
    {
     "data": {
      "text/html": [
       "<div>\n",
       "<style scoped>\n",
       "    .dataframe tbody tr th:only-of-type {\n",
       "        vertical-align: middle;\n",
       "    }\n",
       "\n",
       "    .dataframe tbody tr th {\n",
       "        vertical-align: top;\n",
       "    }\n",
       "\n",
       "    .dataframe thead th {\n",
       "        text-align: right;\n",
       "    }\n",
       "</style>\n",
       "<table border=\"1\" class=\"dataframe\">\n",
       "  <thead>\n",
       "    <tr style=\"text-align: right;\">\n",
       "      <th></th>\n",
       "      <th>celltype</th>\n",
       "      <th>TPR</th>\n",
       "      <th>FPR</th>\n",
       "    </tr>\n",
       "  </thead>\n",
       "  <tbody>\n",
       "    <tr>\n",
       "      <th>0</th>\n",
       "      <td>Eosinophil</td>\n",
       "      <td>1.000000</td>\n",
       "      <td>0.040657</td>\n",
       "    </tr>\n",
       "    <tr>\n",
       "      <th>1</th>\n",
       "      <td>Erythroblast</td>\n",
       "      <td>0.977941</td>\n",
       "      <td>0.037611</td>\n",
       "    </tr>\n",
       "    <tr>\n",
       "      <th>2</th>\n",
       "      <td>Macrophage (M0)</td>\n",
       "      <td>0.911765</td>\n",
       "      <td>0.179619</td>\n",
       "    </tr>\n",
       "    <tr>\n",
       "      <th>3</th>\n",
       "      <td>Macrophage (M1)</td>\n",
       "      <td>0.850000</td>\n",
       "      <td>0.140075</td>\n",
       "    </tr>\n",
       "    <tr>\n",
       "      <th>4</th>\n",
       "      <td>Macrophage (M2)</td>\n",
       "      <td>0.940828</td>\n",
       "      <td>0.147554</td>\n",
       "    </tr>\n",
       "  </tbody>\n",
       "</table>\n",
       "</div>"
      ],
      "text/plain": [
       "          celltype       TPR       FPR\n",
       "0       Eosinophil  1.000000  0.040657\n",
       "1     Erythroblast  0.977941  0.037611\n",
       "2  Macrophage (M0)  0.911765  0.179619\n",
       "3  Macrophage (M1)  0.850000  0.140075\n",
       "4  Macrophage (M2)  0.940828  0.147554"
      ]
     },
     "execution_count": 2,
     "metadata": {},
     "output_type": "execute_result"
    }
   ],
   "source": [
    "tprFPRdf.head()"
   ]
  },
  {
   "cell_type": "code",
   "execution_count": 3,
   "metadata": {},
   "outputs": [
    {
     "data": {
      "image/png": "[encoded data removed]",
      "text/plain": [
       "<Figure size 432x288 with 1 Axes>"
      ]
     },
     "metadata": {
      "needs_background": "light"
     },
     "output_type": "display_data"
    }
   ],
   "source": [
    "\n",
    "#gtdf =gtdf.sort_index(axis=1)\n",
    "\n",
    "tprFPRdfmean=tprFPRdf.mean()\n",
    "\n",
    "ax=sns.boxplot(data=gtdf,color='white')\n",
    "ax=sns.stripplot(color = 'black',data = gtdf,alpha = 0.3,size =3)\n",
    "plt.axhline(y=tprFPRdfmean['FPR'],color='red')\n",
    "for i,box in enumerate(ax.artists):\n",
    "    box.set_edgecolor('black')\n",
    "    box.set_facecolor('white')\n",
    "\n",
    "    # iterate over whiskers and median lines\n",
    "    for j in range(6*i,6*(i+1)):\n",
    "         ax.lines[j].set_color('black')\n",
    "\n",
    "ax.set_xticklabels(ax.get_xticklabels(),rotation=90)\n",
    "\n",
    "plt.savefig(gtfile+'.pdf', bbox_inches='tight')"
   ]
  },
  {
   "cell_type": "code",
   "execution_count": 4,
   "metadata": {},
   "outputs": [
    {
     "data": {
      "text/plain": [
       "<matplotlib.axes._subplots.AxesSubplot at 0x7f94499a0860>"
      ]
     },
     "execution_count": 4,
     "metadata": {},
     "output_type": "execute_result"
    },
    {
     "data": {
      "image/png": "[encoded data removed]",
      "text/plain": [
       "<Figure size 432x288 with 1 Axes>"
      ]
     },
     "metadata": {
      "needs_background": "light"
     },
     "output_type": "display_data"
    }
   ],
   "source": [
    "sns.scatterplot(data=tprFPRdf, x=\"celltype\", y=\"FPR\")"
   ]
  },
  {
   "cell_type": "code",
   "execution_count": 5,
   "metadata": {},
   "outputs": [
    {
     "data": {
      "text/plain": [
       "(0.0, 0.25)"
      ]
     },
     "execution_count": 5,
     "metadata": {},
     "output_type": "execute_result"
    },
    {
     "data": {
      "image/png": "[encoded data removed]",
      "text/plain": [
       "<Figure size 432x288 with 1 Axes>"
      ]
     },
     "metadata": {
      "needs_background": "light"
     },
     "output_type": "display_data"
    }
   ],
   "source": [
    "fig, ax = plt.subplots()\n",
    "sns.boxplot(data=gtdf,ax=ax)\n",
    "#sns.scatterplot(data=tprFPRdf, x=\"celltype\", y=\"FPR\", ax=ax)\n",
    "plt.plot(\"celltype\", \"FPR\", data=tprFPRdf, linestyle='-', marker='o')\n",
    "ax.set_xticklabels(ax.get_xticklabels(),rotation=90)\n",
    "ax.set_ylim([0,.25])"
   ]
  },
  {
   "cell_type": "code",
   "execution_count": 6,
   "metadata": {},
   "outputs": [],
   "source": [
    "tprFPRdfmean=tprFPRdf.mean()"
   ]
  },
  {
   "cell_type": "code",
   "execution_count": 7,
   "metadata": {},
   "outputs": [
    {
     "data": {
      "text/plain": [
       "0.10667398919906614"
      ]
     },
     "execution_count": 7,
     "metadata": {},
     "output_type": "execute_result"
    }
   ],
   "source": [
    "tprFPRdfmean['FPR']"
   ]
  },
  {
   "cell_type": "code",
   "execution_count": 8,
   "metadata": {},
   "outputs": [
    {
     "data": {
      "text/plain": [
       "0.09959500875656743"
      ]
     },
     "execution_count": 8,
     "metadata": {},
     "output_type": "execute_result"
    }
   ],
   "source": [
    "tprFPRdfmedian=tprFPRdf.median()\n",
    "tprFPRdfmedian['FPR']"
   ]
  },
  {
   "cell_type": "code",
   "execution_count": 9,
   "metadata": {},
   "outputs": [
    {
     "data": {
      "text/plain": [
       "[Text(0, 0, 'Naive CD4 T'),\n",
       " Text(0, 0, 'Naive CD8 T'),\n",
       " Text(0, 0, 'Naive B'),\n",
       " Text(0, 0, 'NK'),\n",
       " Text(0, 0, 'PC'),\n",
       " Text(0, 0, 'Mono'),\n",
       " Text(0, 0, 'Mac (M0)'),\n",
       " Text(0, 0, 'Mac (M1)'),\n",
       " Text(0, 0, 'Mac (M2)'),\n",
       " Text(0, 0, 'iDC'),\n",
       " Text(0, 0, 'mDC'),\n",
       " Text(0, 0, 'PMN'),\n",
       " Text(0, 0, 'CD8 TCM'),\n",
       " Text(0, 0, 'CD8 TEM'),\n",
       " Text(0, 0, 'Eosinophil'),\n",
       " Text(0, 0, 'Tregs'),\n",
       " Text(0, 0, 'CD4 TEM'),\n",
       " Text(0, 0, 'CD8 TEMRA'),\n",
       " Text(0, 0, 'Megakaryocyte'),\n",
       " Text(0, 0, 'CD4 TCM'),\n",
       " Text(0, 0, 'Erythrocyte'),\n",
       " Text(0, 0, 'Memory B')]"
      ]
     },
     "execution_count": 9,
     "metadata": {},
     "output_type": "execute_result"
    },
    {
     "data": {
      "image/png": "[encoded data removed]",
      "text/plain": [
       "<Figure size 432x288 with 1 Axes>"
      ]
     },
     "metadata": {
      "needs_background": "light"
     },
     "output_type": "display_data"
    }
   ],
   "source": [
    "fig, ax = plt.subplots()\n",
    "sns.boxplot(data=gtdf,ax=ax)\n",
    "#sns.scatterplot(data=tprFPRdf, x=\"celltype\", y=\"FPR\", ax=ax)\n",
    "plt.axhline(y=tprFPRdfmean['FPR'])\n",
    "ax.set_xticklabels(ax.get_xticklabels(),rotation=90)"
   ]
  },
  {
   "cell_type": "code",
   "execution_count": 10,
   "metadata": {},
   "outputs": [
    {
     "data": {
      "text/html": [
       "<div>\n",
       "<style scoped>\n",
       "    .dataframe tbody tr th:only-of-type {\n",
       "        vertical-align: middle;\n",
       "    }\n",
       "\n",
       "    .dataframe tbody tr th {\n",
       "        vertical-align: top;\n",
       "    }\n",
       "\n",
       "    .dataframe thead th {\n",
       "        text-align: right;\n",
       "    }\n",
       "</style>\n",
       "<table border=\"1\" class=\"dataframe\">\n",
       "  <thead>\n",
       "    <tr style=\"text-align: right;\">\n",
       "      <th></th>\n",
       "      <th>Naive CD4 T</th>\n",
       "      <th>Naive CD8 T</th>\n",
       "      <th>Naive B</th>\n",
       "      <th>NK</th>\n",
       "      <th>PC</th>\n",
       "      <th>Mono</th>\n",
       "      <th>Mac (M0)</th>\n",
       "      <th>Mac (M1)</th>\n",
       "      <th>Mac (M2)</th>\n",
       "      <th>iDC</th>\n",
       "      <th>...</th>\n",
       "      <th>CD8 TCM</th>\n",
       "      <th>CD8 TEM</th>\n",
       "      <th>Eosinophil</th>\n",
       "      <th>Tregs</th>\n",
       "      <th>CD4 TEM</th>\n",
       "      <th>CD8 TEMRA</th>\n",
       "      <th>Megakaryocyte</th>\n",
       "      <th>CD4 TCM</th>\n",
       "      <th>Erythrocyte</th>\n",
       "      <th>Memory B</th>\n",
       "    </tr>\n",
       "    <tr>\n",
       "      <th>Mixture</th>\n",
       "      <th></th>\n",
       "      <th></th>\n",
       "      <th></th>\n",
       "      <th></th>\n",
       "      <th></th>\n",
       "      <th></th>\n",
       "      <th></th>\n",
       "      <th></th>\n",
       "      <th></th>\n",
       "      <th></th>\n",
       "      <th></th>\n",
       "      <th></th>\n",
       "      <th></th>\n",
       "      <th></th>\n",
       "      <th></th>\n",
       "      <th></th>\n",
       "      <th></th>\n",
       "      <th></th>\n",
       "      <th></th>\n",
       "      <th></th>\n",
       "      <th></th>\n",
       "    </tr>\n",
       "  </thead>\n",
       "  <tbody>\n",
       "    <tr>\n",
       "      <th>BL22test_NR_3215798_insilmix10_sorted_binnedstats.pkl</th>\n",
       "      <td>0.791439</td>\n",
       "      <td>0.784977</td>\n",
       "      <td>0.917918</td>\n",
       "      <td>0.892480</td>\n",
       "      <td>0.616768</td>\n",
       "      <td>0.763596</td>\n",
       "      <td>0.748548</td>\n",
       "      <td>0.916952</td>\n",
       "      <td>0.778355</td>\n",
       "      <td>0.668547</td>\n",
       "      <td>...</td>\n",
       "      <td>0.956676</td>\n",
       "      <td>0.796524</td>\n",
       "      <td>0.402540</td>\n",
       "      <td>0.804162</td>\n",
       "      <td>0.0</td>\n",
       "      <td>0.318584</td>\n",
       "      <td>0.532693</td>\n",
       "      <td>0.587268</td>\n",
       "      <td>0.364019</td>\n",
       "      <td>0.747863</td>\n",
       "    </tr>\n",
       "    <tr>\n",
       "      <th>BL22test_NR_3215798_insilmix1_sorted_binnedstats.pkl</th>\n",
       "      <td>1.000000</td>\n",
       "      <td>0.916332</td>\n",
       "      <td>0.377657</td>\n",
       "      <td>0.520839</td>\n",
       "      <td>0.507980</td>\n",
       "      <td>0.660581</td>\n",
       "      <td>0.692154</td>\n",
       "      <td>0.919164</td>\n",
       "      <td>0.870428</td>\n",
       "      <td>0.856321</td>\n",
       "      <td>...</td>\n",
       "      <td>0.956249</td>\n",
       "      <td>0.520554</td>\n",
       "      <td>0.448473</td>\n",
       "      <td>1.000000</td>\n",
       "      <td>0.0</td>\n",
       "      <td>0.336207</td>\n",
       "      <td>0.718905</td>\n",
       "      <td>1.000000</td>\n",
       "      <td>1.000000</td>\n",
       "      <td>0.558603</td>\n",
       "    </tr>\n",
       "    <tr>\n",
       "      <th>BL22test_NR_3215798_insilmix2_sorted_binnedstats.pkl</th>\n",
       "      <td>0.917940</td>\n",
       "      <td>0.682900</td>\n",
       "      <td>0.409514</td>\n",
       "      <td>0.863712</td>\n",
       "      <td>0.292653</td>\n",
       "      <td>0.861297</td>\n",
       "      <td>0.705039</td>\n",
       "      <td>0.655484</td>\n",
       "      <td>0.849534</td>\n",
       "      <td>0.858326</td>\n",
       "      <td>...</td>\n",
       "      <td>1.000000</td>\n",
       "      <td>0.504771</td>\n",
       "      <td>0.218457</td>\n",
       "      <td>1.000000</td>\n",
       "      <td>0.0</td>\n",
       "      <td>1.000000</td>\n",
       "      <td>0.502089</td>\n",
       "      <td>1.000000</td>\n",
       "      <td>1.000000</td>\n",
       "      <td>0.606667</td>\n",
       "    </tr>\n",
       "    <tr>\n",
       "      <th>BL22test_NR_3215798_insilmix3_sorted_binnedstats.pkl</th>\n",
       "      <td>0.916583</td>\n",
       "      <td>0.716787</td>\n",
       "      <td>0.779025</td>\n",
       "      <td>0.655924</td>\n",
       "      <td>0.517590</td>\n",
       "      <td>0.924909</td>\n",
       "      <td>1.000000</td>\n",
       "      <td>0.708904</td>\n",
       "      <td>0.943260</td>\n",
       "      <td>0.649292</td>\n",
       "      <td>...</td>\n",
       "      <td>1.000000</td>\n",
       "      <td>0.617498</td>\n",
       "      <td>0.834479</td>\n",
       "      <td>0.611650</td>\n",
       "      <td>0.0</td>\n",
       "      <td>0.193717</td>\n",
       "      <td>0.524575</td>\n",
       "      <td>0.620464</td>\n",
       "      <td>0.514512</td>\n",
       "      <td>0.349743</td>\n",
       "    </tr>\n",
       "    <tr>\n",
       "      <th>BL22test_NR_3215798_insilmix4_sorted_binnedstats.pkl</th>\n",
       "      <td>0.860256</td>\n",
       "      <td>0.667368</td>\n",
       "      <td>0.765551</td>\n",
       "      <td>0.624664</td>\n",
       "      <td>0.375485</td>\n",
       "      <td>0.777281</td>\n",
       "      <td>0.771006</td>\n",
       "      <td>0.665999</td>\n",
       "      <td>0.797801</td>\n",
       "      <td>0.871952</td>\n",
       "      <td>...</td>\n",
       "      <td>0.918475</td>\n",
       "      <td>0.838895</td>\n",
       "      <td>0.589586</td>\n",
       "      <td>0.891452</td>\n",
       "      <td>0.0</td>\n",
       "      <td>0.230000</td>\n",
       "      <td>0.516171</td>\n",
       "      <td>0.587268</td>\n",
       "      <td>0.519496</td>\n",
       "      <td>1.000000</td>\n",
       "    </tr>\n",
       "  </tbody>\n",
       "</table>\n",
       "<p>5 rows × 22 columns</p>\n",
       "</div>"
      ],
      "text/plain": [
       "                                                    Naive CD4 T  Naive CD8 T  \\\n",
       "Mixture                                                                        \n",
       "BL22test_NR_3215798_insilmix10_sorted_binnedsta...     0.791439     0.784977   \n",
       "BL22test_NR_3215798_insilmix1_sorted_binnedstat...     1.000000     0.916332   \n",
       "BL22test_NR_3215798_insilmix2_sorted_binnedstat...     0.917940     0.682900   \n",
       "BL22test_NR_3215798_insilmix3_sorted_binnedstat...     0.916583     0.716787   \n",
       "BL22test_NR_3215798_insilmix4_sorted_binnedstat...     0.860256     0.667368   \n",
       "\n",
       "                                                     Naive B        NK  \\\n",
       "Mixture                                                                  \n",
       "BL22test_NR_3215798_insilmix10_sorted_binnedsta...  0.917918  0.892480   \n",
       "BL22test_NR_3215798_insilmix1_sorted_binnedstat...  0.377657  0.520839   \n",
       "BL22test_NR_3215798_insilmix2_sorted_binnedstat...  0.409514  0.863712   \n",
       "BL22test_NR_3215798_insilmix3_sorted_binnedstat...  0.779025  0.655924   \n",
       "BL22test_NR_3215798_insilmix4_sorted_binnedstat...  0.765551  0.624664   \n",
       "\n",
       "                                                          PC      Mono  \\\n",
       "Mixture                                                                  \n",
       "BL22test_NR_3215798_insilmix10_sorted_binnedsta...  0.616768  0.763596   \n",
       "BL22test_NR_3215798_insilmix1_sorted_binnedstat...  0.507980  0.660581   \n",
       "BL22test_NR_3215798_insilmix2_sorted_binnedstat...  0.292653  0.861297   \n",
       "BL22test_NR_3215798_insilmix3_sorted_binnedstat...  0.517590  0.924909   \n",
       "BL22test_NR_3215798_insilmix4_sorted_binnedstat...  0.375485  0.777281   \n",
       "\n",
       "                                                    Mac (M0)  Mac (M1)  \\\n",
       "Mixture                                                                  \n",
       "BL22test_NR_3215798_insilmix10_sorted_binnedsta...  0.748548  0.916952   \n",
       "BL22test_NR_3215798_insilmix1_sorted_binnedstat...  0.692154  0.919164   \n",
       "BL22test_NR_3215798_insilmix2_sorted_binnedstat...  0.705039  0.655484   \n",
       "BL22test_NR_3215798_insilmix3_sorted_binnedstat...  1.000000  0.708904   \n",
       "BL22test_NR_3215798_insilmix4_sorted_binnedstat...  0.771006  0.665999   \n",
       "\n",
       "                                                    Mac (M2)       iDC  ...  \\\n",
       "Mixture                                                                 ...   \n",
       "BL22test_NR_3215798_insilmix10_sorted_binnedsta...  0.778355  0.668547  ...   \n",
       "BL22test_NR_3215798_insilmix1_sorted_binnedstat...  0.870428  0.856321  ...   \n",
       "BL22test_NR_3215798_insilmix2_sorted_binnedstat...  0.849534  0.858326  ...   \n",
       "BL22test_NR_3215798_insilmix3_sorted_binnedstat...  0.943260  0.649292  ...   \n",
       "BL22test_NR_3215798_insilmix4_sorted_binnedstat...  0.797801  0.871952  ...   \n",
       "\n",
       "                                                     CD8 TCM   CD8 TEM  \\\n",
       "Mixture                                                                  \n",
       "BL22test_NR_3215798_insilmix10_sorted_binnedsta...  0.956676  0.796524   \n",
       "BL22test_NR_3215798_insilmix1_sorted_binnedstat...  0.956249  0.520554   \n",
       "BL22test_NR_3215798_insilmix2_sorted_binnedstat...  1.000000  0.504771   \n",
       "BL22test_NR_3215798_insilmix3_sorted_binnedstat...  1.000000  0.617498   \n",
       "BL22test_NR_3215798_insilmix4_sorted_binnedstat...  0.918475  0.838895   \n",
       "\n",
       "                                                    Eosinophil     Tregs  \\\n",
       "Mixture                                                                    \n",
       "BL22test_NR_3215798_insilmix10_sorted_binnedsta...    0.402540  0.804162   \n",
       "BL22test_NR_3215798_insilmix1_sorted_binnedstat...    0.448473  1.000000   \n",
       "BL22test_NR_3215798_insilmix2_sorted_binnedstat...    0.218457  1.000000   \n",
       "BL22test_NR_3215798_insilmix3_sorted_binnedstat...    0.834479  0.611650   \n",
       "BL22test_NR_3215798_insilmix4_sorted_binnedstat...    0.589586  0.891452   \n",
       "\n",
       "                                                    CD4 TEM  CD8 TEMRA  \\\n",
       "Mixture                                                                  \n",
       "BL22test_NR_3215798_insilmix10_sorted_binnedsta...      0.0   0.318584   \n",
       "BL22test_NR_3215798_insilmix1_sorted_binnedstat...      0.0   0.336207   \n",
       "BL22test_NR_3215798_insilmix2_sorted_binnedstat...      0.0   1.000000   \n",
       "BL22test_NR_3215798_insilmix3_sorted_binnedstat...      0.0   0.193717   \n",
       "BL22test_NR_3215798_insilmix4_sorted_binnedstat...      0.0   0.230000   \n",
       "\n",
       "                                                    Megakaryocyte   CD4 TCM  \\\n",
       "Mixture                                                                       \n",
       "BL22test_NR_3215798_insilmix10_sorted_binnedsta...       0.532693  0.587268   \n",
       "BL22test_NR_3215798_insilmix1_sorted_binnedstat...       0.718905  1.000000   \n",
       "BL22test_NR_3215798_insilmix2_sorted_binnedstat...       0.502089  1.000000   \n",
       "BL22test_NR_3215798_insilmix3_sorted_binnedstat...       0.524575  0.620464   \n",
       "BL22test_NR_3215798_insilmix4_sorted_binnedstat...       0.516171  0.587268   \n",
       "\n",
       "                                                    Erythrocyte  Memory B  \n",
       "Mixture                                                                    \n",
       "BL22test_NR_3215798_insilmix10_sorted_binnedsta...     0.364019  0.747863  \n",
       "BL22test_NR_3215798_insilmix1_sorted_binnedstat...     1.000000  0.558603  \n",
       "BL22test_NR_3215798_insilmix2_sorted_binnedstat...     1.000000  0.606667  \n",
       "BL22test_NR_3215798_insilmix3_sorted_binnedstat...     0.514512  0.349743  \n",
       "BL22test_NR_3215798_insilmix4_sorted_binnedstat...     0.519496  1.000000  \n",
       "\n",
       "[5 rows x 22 columns]"
      ]
     },
     "execution_count": 10,
     "metadata": {},
     "output_type": "execute_result"
    }
   ],
   "source": [
    "theoriticalfdr='/Users/irffanalahi/Research/Research_update/SoftRD/largerEXP/BL22genepromdelta.7/insilico/training/bestrefperfforTEST/ROC_plots/BL22_binned/troubleshooting/finalize/finalize2/BL22_genepromSM_0.7.txt_TRAININGbestref.txt_result_dupindex_binnedstats.pkl_theoriticalFDR.txt_ctrename.txt'\n",
    "theoriticalfdrDF=pd.read_csv(theoriticalfdr,sep='\\t',index_col=0)\n",
    "theoriticalfdrDF.head()"
   ]
  },
  {
   "cell_type": "code",
   "execution_count": 11,
   "metadata": {},
   "outputs": [
    {
     "data": {
      "text/plain": [
       "Naive CD4 T    0.869097\n",
       "Naive CD8 T    0.775657\n",
       "Naive B        0.618232\n",
       "NK             0.616688\n",
       "PC             0.565742\n",
       "dtype: float64"
      ]
     },
     "execution_count": 11,
     "metadata": {},
     "output_type": "execute_result"
    }
   ],
   "source": [
    "theoriticalfdrDFmean=theoriticalfdrDF.mean(axis=0)\n",
    "theoriticalfdrDFmean.head()"
   ]
  },
  {
   "cell_type": "code",
   "execution_count": 12,
   "metadata": {},
   "outputs": [
    {
     "data": {
      "text/html": [
       "<div>\n",
       "<style scoped>\n",
       "    .dataframe tbody tr th:only-of-type {\n",
       "        vertical-align: middle;\n",
       "    }\n",
       "\n",
       "    .dataframe tbody tr th {\n",
       "        vertical-align: top;\n",
       "    }\n",
       "\n",
       "    .dataframe thead th {\n",
       "        text-align: right;\n",
       "    }\n",
       "</style>\n",
       "<table border=\"1\" class=\"dataframe\">\n",
       "  <thead>\n",
       "    <tr style=\"text-align: right;\">\n",
       "      <th></th>\n",
       "      <th>index</th>\n",
       "      <th>0</th>\n",
       "    </tr>\n",
       "  </thead>\n",
       "  <tbody>\n",
       "    <tr>\n",
       "      <th>0</th>\n",
       "      <td>Naive CD4 T</td>\n",
       "      <td>0.869097</td>\n",
       "    </tr>\n",
       "    <tr>\n",
       "      <th>1</th>\n",
       "      <td>Naive CD8 T</td>\n",
       "      <td>0.775657</td>\n",
       "    </tr>\n",
       "    <tr>\n",
       "      <th>2</th>\n",
       "      <td>Naive B</td>\n",
       "      <td>0.618232</td>\n",
       "    </tr>\n",
       "    <tr>\n",
       "      <th>3</th>\n",
       "      <td>NK</td>\n",
       "      <td>0.616688</td>\n",
       "    </tr>\n",
       "    <tr>\n",
       "      <th>4</th>\n",
       "      <td>PC</td>\n",
       "      <td>0.565742</td>\n",
       "    </tr>\n",
       "  </tbody>\n",
       "</table>\n",
       "</div>"
      ],
      "text/plain": [
       "         index         0\n",
       "0  Naive CD4 T  0.869097\n",
       "1  Naive CD8 T  0.775657\n",
       "2      Naive B  0.618232\n",
       "3           NK  0.616688\n",
       "4           PC  0.565742"
      ]
     },
     "execution_count": 12,
     "metadata": {},
     "output_type": "execute_result"
    }
   ],
   "source": [
    "theoriticalfdrDFmeandf=theoriticalfdrDFmean.to_frame()\n",
    "theoriticalfdrDFmeandf.reset_index(inplace=True)\n",
    "theoriticalfdrDFmeandf.to_csv(theoriticalfdr+\"_mean.txt\",sep='\\t',index=False)\n",
    "theoriticalfdrDFmeandf.head()"
   ]
  },
  {
   "cell_type": "code",
   "execution_count": 13,
   "metadata": {},
   "outputs": [
    {
     "data": {
      "text/html": [
       "<div>\n",
       "<style scoped>\n",
       "    .dataframe tbody tr th:only-of-type {\n",
       "        vertical-align: middle;\n",
       "    }\n",
       "\n",
       "    .dataframe tbody tr th {\n",
       "        vertical-align: top;\n",
       "    }\n",
       "\n",
       "    .dataframe thead th {\n",
       "        text-align: right;\n",
       "    }\n",
       "</style>\n",
       "<table border=\"1\" class=\"dataframe\">\n",
       "  <thead>\n",
       "    <tr style=\"text-align: right;\">\n",
       "      <th></th>\n",
       "      <th>index</th>\n",
       "      <th>0</th>\n",
       "    </tr>\n",
       "  </thead>\n",
       "  <tbody>\n",
       "    <tr>\n",
       "      <th>0</th>\n",
       "      <td>Naive CD4 T</td>\n",
       "      <td>0.869097</td>\n",
       "    </tr>\n",
       "    <tr>\n",
       "      <th>1</th>\n",
       "      <td>Naive CD8 T</td>\n",
       "      <td>0.775657</td>\n",
       "    </tr>\n",
       "    <tr>\n",
       "      <th>2</th>\n",
       "      <td>Naive B</td>\n",
       "      <td>0.618232</td>\n",
       "    </tr>\n",
       "    <tr>\n",
       "      <th>3</th>\n",
       "      <td>NK</td>\n",
       "      <td>0.616688</td>\n",
       "    </tr>\n",
       "    <tr>\n",
       "      <th>4</th>\n",
       "      <td>PC</td>\n",
       "      <td>0.565742</td>\n",
       "    </tr>\n",
       "  </tbody>\n",
       "</table>\n",
       "</div>"
      ],
      "text/plain": [
       "         index         0\n",
       "0  Naive CD4 T  0.869097\n",
       "1  Naive CD8 T  0.775657\n",
       "2      Naive B  0.618232\n",
       "3           NK  0.616688\n",
       "4           PC  0.565742"
      ]
     },
     "execution_count": 13,
     "metadata": {},
     "output_type": "execute_result"
    }
   ],
   "source": [
    "theoriticalfdrDFmeandfagain =pd.read_csv('/Users/irffanalahi/Research/Research_update/SoftRD/largerEXP/BL22genepromdelta.7/insilico/training/bestrefperfforTEST/ROC_plots/BL22_binned/troubleshooting/finalize/finalize2/BL22_genepromSM_0.7.txt_TRAININGbestref.txt_result_dupindex_binnedstats.pkl_theoriticalFDR.txt_ctrename.txt_mean.txt',sep='\\t')\n",
    "theoriticalfdrDFmeandfagain.head()"
   ]
  },
  {
   "cell_type": "code",
   "execution_count": 18,
   "metadata": {},
   "outputs": [
    {
     "data": {
      "image/png": "[encoded data removed]",
      "text/plain": [
       "<Figure size 432x288 with 1 Axes>"
      ]
     },
     "metadata": {
      "needs_background": "light"
     },
     "output_type": "display_data"
    }
   ],
   "source": [
    "#theoriticalfdrDFmeandfagain =pd.read_csv('/Users/irffanalahi/Research/Research_update/SoftRD/largerEXP/BL22genepromdelta.7/insilico/training/bestrefperfforTEST/ROC_plots/BL22_binned/troubleshooting/finalize/finalize2/BL22_genepromSM_0.7.txt_TRAININGbestref.txt_result_dupindex_binnedstats.pkl_theoriticalFDR.txt_ctrename.txt_mean.txt',sep='\\t')\n",
    "\n",
    "ax = sns.barplot(x=\"index\", y=0, data=theoriticalfdrDFmeandf,color='k')\n",
    "ax.set_xticklabels(ax.get_xticklabels(),rotation=90)\n",
    "plt.savefig(gtfile+'_FDR.pdf', bbox_inches='tight')"
   ]
  },
  {
   "cell_type": "code",
   "execution_count": 15,
   "metadata": {
    "scrolled": true
   },
   "outputs": [
    {
     "data": {
      "text/plain": [
       "[Text(0, 0, 'Naive CD4 T'),\n",
       " Text(0, 0, 'Naive CD8 T'),\n",
       " Text(0, 0, 'Naive B'),\n",
       " Text(0, 0, 'NK'),\n",
       " Text(0, 0, 'PC'),\n",
       " Text(0, 0, 'Mono'),\n",
       " Text(0, 0, 'Mac (M0)'),\n",
       " Text(0, 0, 'Mac (M1)'),\n",
       " Text(0, 0, 'Mac (M2)'),\n",
       " Text(0, 0, 'iDC'),\n",
       " Text(0, 0, 'mDC'),\n",
       " Text(0, 0, 'PMN'),\n",
       " Text(0, 0, 'CD8 TCM'),\n",
       " Text(0, 0, 'CD8 TEM'),\n",
       " Text(0, 0, 'Eosinophil'),\n",
       " Text(0, 0, 'Tregs'),\n",
       " Text(0, 0, 'CD4 TEM'),\n",
       " Text(0, 0, 'CD8 TEMRA'),\n",
       " Text(0, 0, 'Megakaryocyte'),\n",
       " Text(0, 0, 'CD4 TCM'),\n",
       " Text(0, 0, 'Erythrocyte'),\n",
       " Text(0, 0, 'Memory B')]"
      ]
     },
     "execution_count": 15,
     "metadata": {},
     "output_type": "execute_result"
    },
    {
     "data": {
      "image/png": "[encoded data removed]",
      "text/plain": [
       "<Figure size 432x288 with 1 Axes>"
      ]
     },
     "metadata": {
      "needs_background": "light"
     },
     "output_type": "display_data"
    }
   ],
   "source": [
    "fig, ax = plt.subplots()\n",
    "sns.boxplot(data=gtdf,ax=ax)\n",
    "sns.scatterplot(data=theoriticalfdrDFmeandf, x=\"index\", y=0, ax=ax)\n",
    "#plt.axhline(y=tprFPRdfmean['FPR'])\n",
    "ax.set_xticklabels(ax.get_xticklabels(),rotation=90)"
   ]
  },
  {
   "cell_type": "code",
   "execution_count": 16,
   "metadata": {},
   "outputs": [
    {
     "data": {
      "text/html": [
       "<div>\n",
       "<style scoped>\n",
       "    .dataframe tbody tr th:only-of-type {\n",
       "        vertical-align: middle;\n",
       "    }\n",
       "\n",
       "    .dataframe tbody tr th {\n",
       "        vertical-align: top;\n",
       "    }\n",
       "\n",
       "    .dataframe thead th {\n",
       "        text-align: right;\n",
       "    }\n",
       "</style>\n",
       "<table border=\"1\" class=\"dataframe\">\n",
       "  <thead>\n",
       "    <tr style=\"text-align: right;\">\n",
       "      <th></th>\n",
       "      <th>0</th>\n",
       "    </tr>\n",
       "  </thead>\n",
       "  <tbody>\n",
       "    <tr>\n",
       "      <th>Naive CD4 T</th>\n",
       "      <td>0.028272</td>\n",
       "    </tr>\n",
       "    <tr>\n",
       "      <th>Naive CD8 T</th>\n",
       "      <td>0.039934</td>\n",
       "    </tr>\n",
       "    <tr>\n",
       "      <th>Naive B</th>\n",
       "      <td>0.048547</td>\n",
       "    </tr>\n",
       "    <tr>\n",
       "      <th>NK</th>\n",
       "      <td>0.046403</td>\n",
       "    </tr>\n",
       "    <tr>\n",
       "      <th>PC</th>\n",
       "      <td>0.043450</td>\n",
       "    </tr>\n",
       "  </tbody>\n",
       "</table>\n",
       "</div>"
      ],
      "text/plain": [
       "                    0\n",
       "Naive CD4 T  0.028272\n",
       "Naive CD8 T  0.039934\n",
       "Naive B      0.048547\n",
       "NK           0.046403\n",
       "PC           0.043450"
      ]
     },
     "execution_count": 16,
     "metadata": {},
     "output_type": "execute_result"
    }
   ],
   "source": [
    "\n",
    "gtdfmean=gtdf.mean()\n",
    "gtdfmeandf=gtdfmean.to_frame()\n",
    "gtdfmeandf.to_csv(gtfile+\"_mean.txt\",sep='\\t')\n",
    "gtdfmeandf.head()"
   ]
  }
 ],
 "metadata": {
  "kernelspec": {
   "display_name": "Python 3",
   "language": "python",
   "name": "python3"
  },
  "language_info": {
   "codemirror_mode": {
    "name": "ipython",
    "version": 3
   },
   "file_extension": ".py",
   "mimetype": "text/x-python",
   "name": "python",
   "nbconvert_exporter": "python",
   "pygments_lexer": "ipython3",
   "version": "3.6.7"
  }
 },
 "nbformat": 4,
 "nbformat_minor": 2
}
