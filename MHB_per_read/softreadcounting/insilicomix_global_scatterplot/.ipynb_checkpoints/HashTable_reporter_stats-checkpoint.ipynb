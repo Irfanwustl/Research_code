{
 "cells": [
  {
   "cell_type": "code",
   "execution_count": 1,
   "metadata": {},
   "outputs": [],
   "source": [
    "import pandas as pd\n",
    "import glob\n",
    "import os\n",
    "from collections import defaultdict\n",
    "import matplotlib.pyplot as plt\n",
    "\n",
    "\n",
    "infol='/Users/irffanalahi/Research/Research_update/SoftRD/hashtable_stats/BL22/moreSM/Thebestref/heatmaps/deltaheat/linked_nonlinked/BL22trainingbestrefallct_seperated_mergedtogetreporter'\n",
    "\n"
   ]
  },
  {
   "cell_type": "code",
   "execution_count": 2,
   "metadata": {},
   "outputs": [],
   "source": [
    "def listdir_nohidden(path):\n",
    "    return glob.glob(os.path.join(path, '*'))"
   ]
  },
  {
   "cell_type": "code",
   "execution_count": 3,
   "metadata": {},
   "outputs": [],
   "source": [
    "allctfiles=listdir_nohidden(infol)\n"
   ]
  },
  {
   "cell_type": "code",
   "execution_count": 4,
   "metadata": {},
   "outputs": [],
   "source": [
    "def renamect(act):\n",
    "    if act=='CD4':\n",
    "        return 'Naive CD4 T'\n",
    "    if act=='CD8':\n",
    "        return 'Naive CD8 T'\n",
    "\n",
    "    if act=='NaiveCD4':\n",
    "        return 'Naive CD4 T'\n",
    "    if act=='NaiveCD8':\n",
    "        return 'Naive CD8 T'\n",
    "    if act=='Tr':\n",
    "        return 'Tregs'\n",
    "    if act=='mB':\n",
    "        return 'Memory B'\n",
    "    if act=='nB':\n",
    "        return 'Naive B'\n",
    "    if act=='m4':\n",
    "        return 'Memory CD4 T'\n",
    "    if act=='m8':\n",
    "        return 'Memory CD8 T'\n",
    "    if act=='Mn':\n",
    "        return 'Monocytes'\n",
    "\n",
    "\n",
    "    if act=='em8':\n",
    "        return 'CD8 TEM'\n",
    "    if act=='cm8':\n",
    "        return 'CD8 TCM'\n",
    "\n",
    "    if act=='em4':\n",
    "        return 'CD4 TEM'\n",
    "    if act=='cm4':\n",
    "        return 'CD4 TCM'\n",
    "\n",
    "\n",
    "    if act=='ed8':\n",
    "        return 'CD8 TEMRA'\n",
    "\n",
    "    if act=='PC':\n",
    "        return 'PC'\n",
    "\n",
    "    if act=='M0':\n",
    "        return 'Mac (M0)'\n",
    "\n",
    "    if act=='M1':\n",
    "        return 'Mac (M1)'\n",
    "\n",
    "    if act=='M2':\n",
    "        return 'Mac (M2)'\n",
    "    if act=='Eo':\n",
    "        return 'Eos'\n",
    "\n",
    "    if act=='Mg':\n",
    "        return 'Megakaryocyte'\n",
    "\n",
    "\n",
    "\n",
    "\n",
    "    return act"
   ]
  },
  {
   "cell_type": "code",
   "execution_count": 5,
   "metadata": {},
   "outputs": [],
   "source": [
    "reportercountdict = defaultdict(list)\n",
    "cpginreporterdict=defaultdict(list)\n",
    "for  actfile in allctfiles:\n",
    "    actdf=pd.read_csv(actfile,sep='\\t',header=None)\n",
    "    actdfreporter=actdf[actdf[3]>1]\n",
    "    \n",
    "    \n",
    "    ctname=renamect(os.path.basename(actfile))\n",
    "    reportercountdict[ctname].append(actdfreporter.shape[0])\n",
    "    cpginreporterdict[ctname]=actdfreporter[3].tolist()\n",
    "    \n"
   ]
  },
  {
   "cell_type": "code",
   "execution_count": 6,
   "metadata": {},
   "outputs": [
    {
     "data": {
      "text/html": [
       "<div>\n",
       "<style scoped>\n",
       "    .dataframe tbody tr th:only-of-type {\n",
       "        vertical-align: middle;\n",
       "    }\n",
       "\n",
       "    .dataframe tbody tr th {\n",
       "        vertical-align: top;\n",
       "    }\n",
       "\n",
       "    .dataframe thead th {\n",
       "        text-align: right;\n",
       "    }\n",
       "</style>\n",
       "<table border=\"1\" class=\"dataframe\">\n",
       "  <thead>\n",
       "    <tr style=\"text-align: right;\">\n",
       "      <th></th>\n",
       "      <th>0</th>\n",
       "    </tr>\n",
       "  </thead>\n",
       "  <tbody>\n",
       "    <tr>\n",
       "      <th>CD4 TCM</th>\n",
       "      <td>5</td>\n",
       "    </tr>\n",
       "    <tr>\n",
       "      <th>PC</th>\n",
       "      <td>2</td>\n",
       "    </tr>\n",
       "    <tr>\n",
       "      <th>CD8 TEM</th>\n",
       "      <td>3</td>\n",
       "    </tr>\n",
       "    <tr>\n",
       "      <th>mDC</th>\n",
       "      <td>6</td>\n",
       "    </tr>\n",
       "    <tr>\n",
       "      <th>Naive CD4 T</th>\n",
       "      <td>44</td>\n",
       "    </tr>\n",
       "  </tbody>\n",
       "</table>\n",
       "</div>"
      ],
      "text/plain": [
       "              0\n",
       "CD4 TCM       5\n",
       "PC            2\n",
       "CD8 TEM       3\n",
       "mDC           6\n",
       "Naive CD4 T  44"
      ]
     },
     "execution_count": 6,
     "metadata": {},
     "output_type": "execute_result"
    }
   ],
   "source": [
    "reportercountdictDF=pd.DataFrame.from_dict(reportercountdict,orient='index')\n",
    "reportercountdictDF.head()"
   ]
  },
  {
   "cell_type": "code",
   "execution_count": 12,
   "metadata": {},
   "outputs": [
    {
     "data": {
      "text/plain": [
       "Text(0, 0.5, '#reporter')"
      ]
     },
     "execution_count": 12,
     "metadata": {},
     "output_type": "execute_result"
    },
    {
     "data": {
      "image/png": "[encoded data removed]",
      "text/plain": [
       "<Figure size 432x288 with 1 Axes>"
      ]
     },
     "metadata": {
      "needs_background": "light"
     },
     "output_type": "display_data"
    }
   ],
   "source": [
    "\n",
    "reportercountdictDF.plot.bar(rot=90,grid=False,legend=False)\n",
    "plt.ylabel('#reporter')"
   ]
  },
  {
   "cell_type": "code",
   "execution_count": 8,
   "metadata": {},
   "outputs": [
    {
     "data": {
      "text/html": [
       "<div>\n",
       "<style scoped>\n",
       "    .dataframe tbody tr th:only-of-type {\n",
       "        vertical-align: middle;\n",
       "    }\n",
       "\n",
       "    .dataframe tbody tr th {\n",
       "        vertical-align: top;\n",
       "    }\n",
       "\n",
       "    .dataframe thead th {\n",
       "        text-align: right;\n",
       "    }\n",
       "</style>\n",
       "<table border=\"1\" class=\"dataframe\">\n",
       "  <thead>\n",
       "    <tr style=\"text-align: right;\">\n",
       "      <th></th>\n",
       "      <th>CD4 TCM</th>\n",
       "      <th>PC</th>\n",
       "      <th>CD8 TEM</th>\n",
       "      <th>mDC</th>\n",
       "      <th>Naive CD4 T</th>\n",
       "      <th>iDC</th>\n",
       "      <th>CD8 TEMRA</th>\n",
       "      <th>Mac (M1)</th>\n",
       "      <th>Mac (M0)</th>\n",
       "      <th>Megakaryocyte</th>\n",
       "      <th>...</th>\n",
       "      <th>Naive CD8 T</th>\n",
       "      <th>CD8 TCM</th>\n",
       "      <th>Memory B</th>\n",
       "      <th>Mac (M2)</th>\n",
       "      <th>NK</th>\n",
       "      <th>Mono</th>\n",
       "      <th>Naive B</th>\n",
       "      <th>Eos</th>\n",
       "      <th>Tregs</th>\n",
       "      <th>Er</th>\n",
       "    </tr>\n",
       "  </thead>\n",
       "  <tbody>\n",
       "    <tr>\n",
       "      <th>0</th>\n",
       "      <td>3.0</td>\n",
       "      <td>4.0</td>\n",
       "      <td>2.0</td>\n",
       "      <td>2.0</td>\n",
       "      <td>4.0</td>\n",
       "      <td>3.0</td>\n",
       "      <td>2.0</td>\n",
       "      <td>2.0</td>\n",
       "      <td>2.0</td>\n",
       "      <td>2.0</td>\n",
       "      <td>...</td>\n",
       "      <td>2.0</td>\n",
       "      <td>5.0</td>\n",
       "      <td>2.0</td>\n",
       "      <td>2.0</td>\n",
       "      <td>5</td>\n",
       "      <td>2.0</td>\n",
       "      <td>2.0</td>\n",
       "      <td>2.0</td>\n",
       "      <td>2.0</td>\n",
       "      <td>2.0</td>\n",
       "    </tr>\n",
       "    <tr>\n",
       "      <th>1</th>\n",
       "      <td>3.0</td>\n",
       "      <td>2.0</td>\n",
       "      <td>4.0</td>\n",
       "      <td>2.0</td>\n",
       "      <td>3.0</td>\n",
       "      <td>2.0</td>\n",
       "      <td>3.0</td>\n",
       "      <td>2.0</td>\n",
       "      <td>4.0</td>\n",
       "      <td>2.0</td>\n",
       "      <td>...</td>\n",
       "      <td>3.0</td>\n",
       "      <td>4.0</td>\n",
       "      <td>3.0</td>\n",
       "      <td>2.0</td>\n",
       "      <td>3</td>\n",
       "      <td>2.0</td>\n",
       "      <td>2.0</td>\n",
       "      <td>2.0</td>\n",
       "      <td>3.0</td>\n",
       "      <td>2.0</td>\n",
       "    </tr>\n",
       "    <tr>\n",
       "      <th>2</th>\n",
       "      <td>3.0</td>\n",
       "      <td>NaN</td>\n",
       "      <td>2.0</td>\n",
       "      <td>2.0</td>\n",
       "      <td>2.0</td>\n",
       "      <td>2.0</td>\n",
       "      <td>10.0</td>\n",
       "      <td>3.0</td>\n",
       "      <td>2.0</td>\n",
       "      <td>2.0</td>\n",
       "      <td>...</td>\n",
       "      <td>13.0</td>\n",
       "      <td>2.0</td>\n",
       "      <td>3.0</td>\n",
       "      <td>2.0</td>\n",
       "      <td>2</td>\n",
       "      <td>4.0</td>\n",
       "      <td>NaN</td>\n",
       "      <td>2.0</td>\n",
       "      <td>2.0</td>\n",
       "      <td>3.0</td>\n",
       "    </tr>\n",
       "    <tr>\n",
       "      <th>3</th>\n",
       "      <td>2.0</td>\n",
       "      <td>NaN</td>\n",
       "      <td>NaN</td>\n",
       "      <td>3.0</td>\n",
       "      <td>3.0</td>\n",
       "      <td>2.0</td>\n",
       "      <td>2.0</td>\n",
       "      <td>NaN</td>\n",
       "      <td>4.0</td>\n",
       "      <td>2.0</td>\n",
       "      <td>...</td>\n",
       "      <td>2.0</td>\n",
       "      <td>15.0</td>\n",
       "      <td>2.0</td>\n",
       "      <td>2.0</td>\n",
       "      <td>2</td>\n",
       "      <td>2.0</td>\n",
       "      <td>NaN</td>\n",
       "      <td>2.0</td>\n",
       "      <td>10.0</td>\n",
       "      <td>3.0</td>\n",
       "    </tr>\n",
       "    <tr>\n",
       "      <th>4</th>\n",
       "      <td>3.0</td>\n",
       "      <td>NaN</td>\n",
       "      <td>NaN</td>\n",
       "      <td>2.0</td>\n",
       "      <td>2.0</td>\n",
       "      <td>5.0</td>\n",
       "      <td>2.0</td>\n",
       "      <td>NaN</td>\n",
       "      <td>8.0</td>\n",
       "      <td>4.0</td>\n",
       "      <td>...</td>\n",
       "      <td>3.0</td>\n",
       "      <td>2.0</td>\n",
       "      <td>2.0</td>\n",
       "      <td>2.0</td>\n",
       "      <td>6</td>\n",
       "      <td>2.0</td>\n",
       "      <td>NaN</td>\n",
       "      <td>2.0</td>\n",
       "      <td>9.0</td>\n",
       "      <td>2.0</td>\n",
       "    </tr>\n",
       "  </tbody>\n",
       "</table>\n",
       "<p>5 rows × 22 columns</p>\n",
       "</div>"
      ],
      "text/plain": [
       "   CD4 TCM   PC  CD8 TEM  mDC  Naive CD4 T  iDC  CD8 TEMRA  Mac (M1)  \\\n",
       "0      3.0  4.0      2.0  2.0          4.0  3.0        2.0       2.0   \n",
       "1      3.0  2.0      4.0  2.0          3.0  2.0        3.0       2.0   \n",
       "2      3.0  NaN      2.0  2.0          2.0  2.0       10.0       3.0   \n",
       "3      2.0  NaN      NaN  3.0          3.0  2.0        2.0       NaN   \n",
       "4      3.0  NaN      NaN  2.0          2.0  5.0        2.0       NaN   \n",
       "\n",
       "   Mac (M0)  Megakaryocyte  ...  Naive CD8 T  CD8 TCM  Memory B  Mac (M2)  NK  \\\n",
       "0       2.0            2.0  ...          2.0      5.0       2.0       2.0   5   \n",
       "1       4.0            2.0  ...          3.0      4.0       3.0       2.0   3   \n",
       "2       2.0            2.0  ...         13.0      2.0       3.0       2.0   2   \n",
       "3       4.0            2.0  ...          2.0     15.0       2.0       2.0   2   \n",
       "4       8.0            4.0  ...          3.0      2.0       2.0       2.0   6   \n",
       "\n",
       "   Mono  Naive B  Eos  Tregs   Er  \n",
       "0   2.0      2.0  2.0    2.0  2.0  \n",
       "1   2.0      2.0  2.0    3.0  2.0  \n",
       "2   4.0      NaN  2.0    2.0  3.0  \n",
       "3   2.0      NaN  2.0   10.0  3.0  \n",
       "4   2.0      NaN  2.0    9.0  2.0  \n",
       "\n",
       "[5 rows x 22 columns]"
      ]
     },
     "execution_count": 8,
     "metadata": {},
     "output_type": "execute_result"
    }
   ],
   "source": [
    "cpginreporterdictDF=pd.DataFrame(dict([ (k,pd.Series(v)) for k,v in cpginreporterdict.items() ]))\n",
    "cpginreporterdictDF.head()"
   ]
  },
  {
   "cell_type": "code",
   "execution_count": 10,
   "metadata": {},
   "outputs": [
    {
     "name": "stderr",
     "output_type": "stream",
     "text": [
      "/Library/Frameworks/Python.framework/Versions/3.6/lib/python3.6/site-packages/numpy/core/_asarray.py:83: VisibleDeprecationWarning: Creating an ndarray from ragged nested sequences (which is a list-or-tuple of lists-or-tuples-or ndarrays with different lengths or shapes) is deprecated. If you meant to do this, you must specify 'dtype=object' when creating the ndarray\n",
      "  return array(a, dtype, copy=False, order=order)\n"
     ]
    },
    {
     "data": {
      "text/plain": [
       "Text(0, 0.5, '#CpG in a  reporter')"
      ]
     },
     "execution_count": 10,
     "metadata": {},
     "output_type": "execute_result"
    },
    {
     "data": {
      "image/png": "[encoded data removed]",
      "text/plain": [
       "<Figure size 432x288 with 1 Axes>"
      ]
     },
     "metadata": {
      "needs_background": "light"
     },
     "output_type": "display_data"
    }
   ],
   "source": [
    "cpginreporterdictDF.boxplot(rot=90,grid=False)\n",
    "plt.ylabel('#CpG in a  reporter')"
   ]
  }
 ],
 "metadata": {
  "kernelspec": {
   "display_name": "Python 3",
   "language": "python",
   "name": "python3"
  },
  "language_info": {
   "codemirror_mode": {
    "name": "ipython",
    "version": 3
   },
   "file_extension": ".py",
   "mimetype": "text/x-python",
   "name": "python",
   "nbconvert_exporter": "python",
   "pygments_lexer": "ipython3",
   "version": "3.6.7"
  }
 },
 "nbformat": 4,
 "nbformat_minor": 2
}
