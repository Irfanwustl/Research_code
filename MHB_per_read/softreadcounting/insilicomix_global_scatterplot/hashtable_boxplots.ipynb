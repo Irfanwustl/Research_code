{
 "cells": [
  {
   "cell_type": "code",
   "execution_count": 1,
   "metadata": {},
   "outputs": [
    {
     "data": {
      "text/html": [
       "<div>\n",
       "<style scoped>\n",
       "    .dataframe tbody tr th:only-of-type {\n",
       "        vertical-align: middle;\n",
       "    }\n",
       "\n",
       "    .dataframe tbody tr th {\n",
       "        vertical-align: top;\n",
       "    }\n",
       "\n",
       "    .dataframe thead th {\n",
       "        text-align: right;\n",
       "    }\n",
       "</style>\n",
       "<table border=\"1\" class=\"dataframe\">\n",
       "  <thead>\n",
       "    <tr style=\"text-align: right;\">\n",
       "      <th></th>\n",
       "      <th>Naive CD4 T</th>\n",
       "      <th>Naive CD8 T</th>\n",
       "      <th>Naive B</th>\n",
       "      <th>NK</th>\n",
       "      <th>PC</th>\n",
       "      <th>Mac (M0)</th>\n",
       "      <th>Mac (M1)</th>\n",
       "      <th>Mac (M2)</th>\n",
       "      <th>iDC</th>\n",
       "      <th>mDC</th>\n",
       "      <th>PMN</th>\n",
       "      <th>Meemory B</th>\n",
       "    </tr>\n",
       "    <tr>\n",
       "      <th>position</th>\n",
       "      <th></th>\n",
       "      <th></th>\n",
       "      <th></th>\n",
       "      <th></th>\n",
       "      <th></th>\n",
       "      <th></th>\n",
       "      <th></th>\n",
       "      <th></th>\n",
       "      <th></th>\n",
       "      <th></th>\n",
       "      <th></th>\n",
       "      <th></th>\n",
       "    </tr>\n",
       "  </thead>\n",
       "  <tbody>\n",
       "    <tr>\n",
       "      <th>chr10:103889104</th>\n",
       "      <td>1.0</td>\n",
       "      <td>0.970</td>\n",
       "      <td>1.000</td>\n",
       "      <td>1.00</td>\n",
       "      <td>0.982</td>\n",
       "      <td>0.957</td>\n",
       "      <td>0.925</td>\n",
       "      <td>0.842</td>\n",
       "      <td>1.000</td>\n",
       "      <td>1.000</td>\n",
       "      <td>0.000</td>\n",
       "      <td>NaN</td>\n",
       "    </tr>\n",
       "    <tr>\n",
       "      <th>chr11:33698883</th>\n",
       "      <td>1.0</td>\n",
       "      <td>0.905</td>\n",
       "      <td>NaN</td>\n",
       "      <td>1.00</td>\n",
       "      <td>0.925</td>\n",
       "      <td>0.960</td>\n",
       "      <td>0.944</td>\n",
       "      <td>0.947</td>\n",
       "      <td>1.000</td>\n",
       "      <td>1.000</td>\n",
       "      <td>0.000</td>\n",
       "      <td>NaN</td>\n",
       "    </tr>\n",
       "    <tr>\n",
       "      <th>chr12:12469460</th>\n",
       "      <td>1.0</td>\n",
       "      <td>0.985</td>\n",
       "      <td>0.951</td>\n",
       "      <td>0.98</td>\n",
       "      <td>0.977</td>\n",
       "      <td>0.983</td>\n",
       "      <td>0.963</td>\n",
       "      <td>0.964</td>\n",
       "      <td>0.931</td>\n",
       "      <td>0.964</td>\n",
       "      <td>0.017</td>\n",
       "      <td>NaN</td>\n",
       "    </tr>\n",
       "    <tr>\n",
       "      <th>chr12:98700816</th>\n",
       "      <td>1.0</td>\n",
       "      <td>0.917</td>\n",
       "      <td>1.000</td>\n",
       "      <td>1.00</td>\n",
       "      <td>0.657</td>\n",
       "      <td>1.000</td>\n",
       "      <td>0.926</td>\n",
       "      <td>1.000</td>\n",
       "      <td>0.929</td>\n",
       "      <td>0.971</td>\n",
       "      <td>0.036</td>\n",
       "      <td>NaN</td>\n",
       "    </tr>\n",
       "    <tr>\n",
       "      <th>chr14:90738801</th>\n",
       "      <td>1.0</td>\n",
       "      <td>0.923</td>\n",
       "      <td>1.000</td>\n",
       "      <td>1.00</td>\n",
       "      <td>0.929</td>\n",
       "      <td>1.000</td>\n",
       "      <td>0.769</td>\n",
       "      <td>0.929</td>\n",
       "      <td>1.000</td>\n",
       "      <td>0.957</td>\n",
       "      <td>0.000</td>\n",
       "      <td>NaN</td>\n",
       "    </tr>\n",
       "  </tbody>\n",
       "</table>\n",
       "</div>"
      ],
      "text/plain": [
       "                 Naive CD4 T  Naive CD8 T  Naive B    NK     PC  Mac (M0)  \\\n",
       "position                                                                    \n",
       "chr10:103889104          1.0        0.970    1.000  1.00  0.982     0.957   \n",
       "chr11:33698883           1.0        0.905      NaN  1.00  0.925     0.960   \n",
       "chr12:12469460           1.0        0.985    0.951  0.98  0.977     0.983   \n",
       "chr12:98700816           1.0        0.917    1.000  1.00  0.657     1.000   \n",
       "chr14:90738801           1.0        0.923    1.000  1.00  0.929     1.000   \n",
       "\n",
       "                 Mac (M1)  Mac (M2)    iDC    mDC    PMN  Meemory B  \n",
       "position                                                             \n",
       "chr10:103889104     0.925     0.842  1.000  1.000  0.000        NaN  \n",
       "chr11:33698883      0.944     0.947  1.000  1.000  0.000        NaN  \n",
       "chr12:12469460      0.963     0.964  0.931  0.964  0.017        NaN  \n",
       "chr12:98700816      0.926     1.000  0.929  0.971  0.036        NaN  \n",
       "chr14:90738801      0.769     0.929  1.000  0.957  0.000        NaN  "
      ]
     },
     "execution_count": 1,
     "metadata": {},
     "output_type": "execute_result"
    }
   ],
   "source": [
    "import pandas as pd\n",
    "import pandas as pd\n",
    "from collections import defaultdict\n",
    "from sklearn import metrics\n",
    "import numpy as np\n",
    "import sys\n",
    "import time\n",
    "import matplotlib.pyplot as plt\n",
    "import seaborn as sns\n",
    "\n",
    "infile='/Users/irffanalahi/Research/Research_update/SoftRD/hashtable_stats/BL22/moreSM/Thebestref/heatmaps/deltaheat/heldoutdataforPMN_position/boxplots/heldout_all_matrix_intwith_BL22_genepromSM_0.7.txt_TRAININGbestref.txt_PMNpos.txt_testonly.txt_cyberin_forbox.txt'\n",
    "\n",
    "indf=pd.read_csv(infile,sep='\\t',index_col=0)\n",
    "indf.head()"
   ]
  },
  {
   "cell_type": "code",
   "execution_count": 2,
   "metadata": {},
   "outputs": [],
   "source": [
    "negindf=-1*indf"
   ]
  },
  {
   "cell_type": "code",
   "execution_count": 3,
   "metadata": {},
   "outputs": [
    {
     "name": "stderr",
     "output_type": "stream",
     "text": [
      "/Library/Frameworks/Python.framework/Versions/3.6/lib/python3.6/site-packages/numpy/core/_asarray.py:83: VisibleDeprecationWarning: Creating an ndarray from ragged nested sequences (which is a list-or-tuple of lists-or-tuples-or ndarrays with different lengths or shapes) is deprecated. If you meant to do this, you must specify 'dtype=object' when creating the ndarray\n",
      "  return array(a, dtype, copy=False, order=order)\n"
     ]
    },
    {
     "data": {
      "image/png": "[encoded data removed]",
      "text/plain": [
       "<Figure size 432x288 with 1 Axes>"
      ]
     },
     "metadata": {
      "needs_background": "light"
     },
     "output_type": "display_data"
    }
   ],
   "source": [
    "negindf.boxplot(rot=90,grid=False)\n",
    "plt.ylabel('Methylation rate')\n",
    "plt.savefig(infile+\"_negboxplots.pdf\", bbox_inches='tight')"
   ]
  },
  {
   "cell_type": "code",
   "execution_count": 4,
   "metadata": {},
   "outputs": [
    {
     "data": {
      "text/plain": [
       "\"\\ndf_melted = pd.melt(negindf)\\nax=sns.boxplot(x='variable', y='value', data=df_melted)\\n\""
      ]
     },
     "execution_count": 4,
     "metadata": {},
     "output_type": "execute_result"
    }
   ],
   "source": [
    "'''\n",
    "df_melted = pd.melt(negindf)\n",
    "ax=sns.boxplot(x='variable', y='value', data=df_melted)\n",
    "'''"
   ]
  }
 ],
 "metadata": {
  "kernelspec": {
   "display_name": "Python 3",
   "language": "python",
   "name": "python3"
  },
  "language_info": {
   "codemirror_mode": {
    "name": "ipython",
    "version": 3
   },
   "file_extension": ".py",
   "mimetype": "text/x-python",
   "name": "python",
   "nbconvert_exporter": "python",
   "pygments_lexer": "ipython3",
   "version": "3.6.7"
  }
 },
 "nbformat": 4,
 "nbformat_minor": 2
}
