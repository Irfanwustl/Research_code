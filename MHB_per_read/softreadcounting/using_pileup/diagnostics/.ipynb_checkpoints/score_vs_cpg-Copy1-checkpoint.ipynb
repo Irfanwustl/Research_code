{
 "cells": [
  {
   "cell_type": "code",
   "execution_count": 1,
   "metadata": {},
   "outputs": [
    {
     "data": {
      "text/html": [
       "<div>\n",
       "<style scoped>\n",
       "    .dataframe tbody tr th:only-of-type {\n",
       "        vertical-align: middle;\n",
       "    }\n",
       "\n",
       "    .dataframe tbody tr th {\n",
       "        vertical-align: top;\n",
       "    }\n",
       "\n",
       "    .dataframe thead th {\n",
       "        text-align: right;\n",
       "    }\n",
       "</style>\n",
       "<table border=\"1\" class=\"dataframe\">\n",
       "  <thead>\n",
       "    <tr style=\"text-align: right;\">\n",
       "      <th></th>\n",
       "      <th>CD8-others</th>\n",
       "      <th>nB-others</th>\n",
       "      <th>NK-others</th>\n",
       "      <th>Mn-others</th>\n",
       "      <th>mNeu-others</th>\n",
       "      <th>m8-others</th>\n",
       "      <th>DC-others</th>\n",
       "      <th>Eo-others</th>\n",
       "      <th>Tr-others</th>\n",
       "      <th>m4-others</th>\n",
       "      <th>...</th>\n",
       "      <th>total_cpg</th>\n",
       "      <th>LENhypoCpG_BY_total_cpg</th>\n",
       "      <th>maxscoredCT</th>\n",
       "      <th>maxscore</th>\n",
       "      <th>deltabasedfragassignment</th>\n",
       "      <th>secondmaxScore</th>\n",
       "      <th>secondmaxScoreCT</th>\n",
       "      <th>adjustedScore_minus</th>\n",
       "      <th>adjustedScore_minus_avg</th>\n",
       "      <th>filename</th>\n",
       "    </tr>\n",
       "    <tr>\n",
       "      <th>CD4-others</th>\n",
       "      <th></th>\n",
       "      <th></th>\n",
       "      <th></th>\n",
       "      <th></th>\n",
       "      <th></th>\n",
       "      <th></th>\n",
       "      <th></th>\n",
       "      <th></th>\n",
       "      <th></th>\n",
       "      <th></th>\n",
       "      <th></th>\n",
       "      <th></th>\n",
       "      <th></th>\n",
       "      <th></th>\n",
       "      <th></th>\n",
       "      <th></th>\n",
       "      <th></th>\n",
       "      <th></th>\n",
       "      <th></th>\n",
       "      <th></th>\n",
       "      <th></th>\n",
       "    </tr>\n",
       "  </thead>\n",
       "  <tbody>\n",
       "    <tr>\n",
       "      <th>-0.107538</th>\n",
       "      <td>0.014513</td>\n",
       "      <td>-0.115436</td>\n",
       "      <td>0.782718</td>\n",
       "      <td>-0.084564</td>\n",
       "      <td>-0.119026</td>\n",
       "      <td>-0.114359</td>\n",
       "      <td>-0.028205</td>\n",
       "      <td>-0.031974</td>\n",
       "      <td>-0.102513</td>\n",
       "      <td>-0.045974</td>\n",
       "      <td>...</td>\n",
       "      <td>1.0</td>\n",
       "      <td>1.0</td>\n",
       "      <td>NK-others</td>\n",
       "      <td>0.782718</td>\n",
       "      <td>NK-others</td>\n",
       "      <td>0.014513</td>\n",
       "      <td>CD8-others</td>\n",
       "      <td>0.768205</td>\n",
       "      <td>0.775462</td>\n",
       "      <td>CD4allrange_NR_1000000_insilmix41_sorted_binne...</td>\n",
       "    </tr>\n",
       "    <tr>\n",
       "      <th>-0.053769</th>\n",
       "      <td>0.007256</td>\n",
       "      <td>-0.057718</td>\n",
       "      <td>0.391359</td>\n",
       "      <td>-0.042282</td>\n",
       "      <td>-0.059513</td>\n",
       "      <td>-0.057179</td>\n",
       "      <td>-0.014103</td>\n",
       "      <td>-0.015987</td>\n",
       "      <td>-0.051256</td>\n",
       "      <td>-0.022987</td>\n",
       "      <td>...</td>\n",
       "      <td>2.0</td>\n",
       "      <td>0.5</td>\n",
       "      <td>NK-others</td>\n",
       "      <td>0.391359</td>\n",
       "      <td>NK-others</td>\n",
       "      <td>0.007256</td>\n",
       "      <td>CD8-others</td>\n",
       "      <td>0.384103</td>\n",
       "      <td>0.387731</td>\n",
       "      <td>CD4allrange_NR_1000000_insilmix41_sorted_binne...</td>\n",
       "    </tr>\n",
       "    <tr>\n",
       "      <th>-0.207295</th>\n",
       "      <td>0.003782</td>\n",
       "      <td>-0.220936</td>\n",
       "      <td>1.572859</td>\n",
       "      <td>-0.169962</td>\n",
       "      <td>-0.211244</td>\n",
       "      <td>-0.183782</td>\n",
       "      <td>-0.065500</td>\n",
       "      <td>-0.021705</td>\n",
       "      <td>-0.181090</td>\n",
       "      <td>-0.074474</td>\n",
       "      <td>...</td>\n",
       "      <td>2.0</td>\n",
       "      <td>1.0</td>\n",
       "      <td>NK-others</td>\n",
       "      <td>1.572859</td>\n",
       "      <td>NK-others</td>\n",
       "      <td>0.003782</td>\n",
       "      <td>CD8-others</td>\n",
       "      <td>1.569077</td>\n",
       "      <td>1.570968</td>\n",
       "      <td>CD4allrange_NR_1000000_insilmix41_sorted_binne...</td>\n",
       "    </tr>\n",
       "    <tr>\n",
       "      <th>-0.516487</th>\n",
       "      <td>-0.067051</td>\n",
       "      <td>-0.574641</td>\n",
       "      <td>4.146590</td>\n",
       "      <td>-0.531564</td>\n",
       "      <td>-0.389769</td>\n",
       "      <td>-0.438231</td>\n",
       "      <td>-0.183359</td>\n",
       "      <td>0.005462</td>\n",
       "      <td>-0.487769</td>\n",
       "      <td>-0.131846</td>\n",
       "      <td>...</td>\n",
       "      <td>5.0</td>\n",
       "      <td>1.0</td>\n",
       "      <td>NK-others</td>\n",
       "      <td>4.146590</td>\n",
       "      <td>NK-others</td>\n",
       "      <td>0.005462</td>\n",
       "      <td>Eo-others</td>\n",
       "      <td>4.141128</td>\n",
       "      <td>4.143859</td>\n",
       "      <td>CD4allrange_NR_1000000_insilmix41_sorted_binne...</td>\n",
       "    </tr>\n",
       "    <tr>\n",
       "      <th>-0.049878</th>\n",
       "      <td>-0.005365</td>\n",
       "      <td>-0.052750</td>\n",
       "      <td>0.395071</td>\n",
       "      <td>-0.042699</td>\n",
       "      <td>-0.046109</td>\n",
       "      <td>-0.034712</td>\n",
       "      <td>-0.018647</td>\n",
       "      <td>0.005135</td>\n",
       "      <td>-0.039288</td>\n",
       "      <td>-0.014250</td>\n",
       "      <td>...</td>\n",
       "      <td>2.0</td>\n",
       "      <td>0.5</td>\n",
       "      <td>NK-others</td>\n",
       "      <td>0.395071</td>\n",
       "      <td>NK-others</td>\n",
       "      <td>0.005135</td>\n",
       "      <td>Eo-others</td>\n",
       "      <td>0.389936</td>\n",
       "      <td>0.392503</td>\n",
       "      <td>CD4allrange_NR_1000000_insilmix41_sorted_binne...</td>\n",
       "    </tr>\n",
       "  </tbody>\n",
       "</table>\n",
       "<p>5 rows × 27 columns</p>\n",
       "</div>"
      ],
      "text/plain": [
       "            CD8-others  nB-others  NK-others  Mn-others  mNeu-others  \\\n",
       "CD4-others                                                             \n",
       "-0.107538     0.014513  -0.115436   0.782718  -0.084564    -0.119026   \n",
       "-0.053769     0.007256  -0.057718   0.391359  -0.042282    -0.059513   \n",
       "-0.207295     0.003782  -0.220936   1.572859  -0.169962    -0.211244   \n",
       "-0.516487    -0.067051  -0.574641   4.146590  -0.531564    -0.389769   \n",
       "-0.049878    -0.005365  -0.052750   0.395071  -0.042699    -0.046109   \n",
       "\n",
       "            m8-others  DC-others  Eo-others  Tr-others  m4-others  ...  \\\n",
       "CD4-others                                                         ...   \n",
       "-0.107538   -0.114359  -0.028205  -0.031974  -0.102513  -0.045974  ...   \n",
       "-0.053769   -0.057179  -0.014103  -0.015987  -0.051256  -0.022987  ...   \n",
       "-0.207295   -0.183782  -0.065500  -0.021705  -0.181090  -0.074474  ...   \n",
       "-0.516487   -0.438231  -0.183359   0.005462  -0.487769  -0.131846  ...   \n",
       "-0.049878   -0.034712  -0.018647   0.005135  -0.039288  -0.014250  ...   \n",
       "\n",
       "            total_cpg  LENhypoCpG_BY_total_cpg  maxscoredCT  maxscore  \\\n",
       "CD4-others                                                              \n",
       "-0.107538         1.0                      1.0    NK-others  0.782718   \n",
       "-0.053769         2.0                      0.5    NK-others  0.391359   \n",
       "-0.207295         2.0                      1.0    NK-others  1.572859   \n",
       "-0.516487         5.0                      1.0    NK-others  4.146590   \n",
       "-0.049878         2.0                      0.5    NK-others  0.395071   \n",
       "\n",
       "            deltabasedfragassignment secondmaxScore  secondmaxScoreCT  \\\n",
       "CD4-others                                                              \n",
       "-0.107538                  NK-others       0.014513        CD8-others   \n",
       "-0.053769                  NK-others       0.007256        CD8-others   \n",
       "-0.207295                  NK-others       0.003782        CD8-others   \n",
       "-0.516487                  NK-others       0.005462         Eo-others   \n",
       "-0.049878                  NK-others       0.005135         Eo-others   \n",
       "\n",
       "            adjustedScore_minus  adjustedScore_minus_avg  \\\n",
       "CD4-others                                                 \n",
       "-0.107538              0.768205                 0.775462   \n",
       "-0.053769              0.384103                 0.387731   \n",
       "-0.207295              1.569077                 1.570968   \n",
       "-0.516487              4.141128                 4.143859   \n",
       "-0.049878              0.389936                 0.392503   \n",
       "\n",
       "                                                     filename  \n",
       "CD4-others                                                     \n",
       "-0.107538   CD4allrange_NR_1000000_insilmix41_sorted_binne...  \n",
       "-0.053769   CD4allrange_NR_1000000_insilmix41_sorted_binne...  \n",
       "-0.207295   CD4allrange_NR_1000000_insilmix41_sorted_binne...  \n",
       "-0.516487   CD4allrange_NR_1000000_insilmix41_sorted_binne...  \n",
       "-0.049878   CD4allrange_NR_1000000_insilmix41_sorted_binne...  \n",
       "\n",
       "[5 rows x 27 columns]"
      ]
     },
     "execution_count": 1,
     "metadata": {},
     "output_type": "execute_result"
    }
   ],
   "source": [
    "import pandas as pd\n",
    "import seaborn as sns\n",
    "import matplotlib.pyplot as plt\n",
    "infile=\"/Users/irffanalahi/Research/Research_code/gitignorefolder/MHB_per_read/softreadcounting/testtheidea/softRD_pileup/cd4binnstatsfiles_rebindiffdelta_nodupindex_rebinstats.txt\"\n",
    "celltype='CD4'\n",
    "indf=pd.read_csv(infile,sep=\"\\t\",index_col=0)\n",
    "indf.head()"
   ]
  },
  {
   "cell_type": "code",
   "execution_count": 2,
   "metadata": {},
   "outputs": [
    {
     "ename": "ValueError",
     "evalue": "Could not interpret input 'CD4-others'",
     "output_type": "error",
     "traceback": [
      "\u001b[0;31m---------------------------------------------------------------------------\u001b[0m",
      "\u001b[0;31mValueError\u001b[0m                                Traceback (most recent call last)",
      "\u001b[0;32m<ipython-input-2-bf26a7d7b358>\u001b[0m in \u001b[0;36m<module>\u001b[0;34m\u001b[0m\n\u001b[0;32m----> 1\u001b[0;31m \u001b[0msns\u001b[0m\u001b[0;34m.\u001b[0m\u001b[0mscatterplot\u001b[0m\u001b[0;34m(\u001b[0m\u001b[0mdata\u001b[0m\u001b[0;34m=\u001b[0m\u001b[0mindf\u001b[0m\u001b[0;34m,\u001b[0m \u001b[0mx\u001b[0m\u001b[0;34m=\u001b[0m\u001b[0;34m\"LENhypoCpG\"\u001b[0m\u001b[0;34m,\u001b[0m \u001b[0my\u001b[0m\u001b[0;34m=\u001b[0m\u001b[0mcelltype\u001b[0m\u001b[0;34m+\u001b[0m\u001b[0;34m'-others'\u001b[0m\u001b[0;34m,\u001b[0m\u001b[0mhue\u001b[0m\u001b[0;34m=\u001b[0m\u001b[0;34m'deltabasedfragassignment'\u001b[0m\u001b[0;34m)\u001b[0m\u001b[0;34m\u001b[0m\u001b[0;34m\u001b[0m\u001b[0m\n\u001b[0m\u001b[1;32m      2\u001b[0m \u001b[0mplt\u001b[0m\u001b[0;34m.\u001b[0m\u001b[0mlegend\u001b[0m\u001b[0;34m(\u001b[0m\u001b[0mbbox_to_anchor\u001b[0m\u001b[0;34m=\u001b[0m\u001b[0;34m(\u001b[0m\u001b[0;36m1.02\u001b[0m\u001b[0;34m,\u001b[0m \u001b[0;36m1\u001b[0m\u001b[0;34m)\u001b[0m\u001b[0;34m,\u001b[0m \u001b[0mloc\u001b[0m\u001b[0;34m=\u001b[0m\u001b[0;34m'upper left'\u001b[0m\u001b[0;34m,\u001b[0m \u001b[0mborderaxespad\u001b[0m\u001b[0;34m=\u001b[0m\u001b[0;36m0\u001b[0m\u001b[0;34m)\u001b[0m\u001b[0;34m\u001b[0m\u001b[0;34m\u001b[0m\u001b[0m\n",
      "\u001b[0;32m/Library/Frameworks/Python.framework/Versions/3.6/lib/python3.6/site-packages/seaborn/relational.py\u001b[0m in \u001b[0;36mscatterplot\u001b[0;34m(x, y, hue, style, size, data, palette, hue_order, hue_norm, sizes, size_order, size_norm, markers, style_order, x_bins, y_bins, units, estimator, ci, n_boot, alpha, x_jitter, y_jitter, legend, ax, **kwargs)\u001b[0m\n\u001b[1;32m   1333\u001b[0m         \u001b[0mx_bins\u001b[0m\u001b[0;34m=\u001b[0m\u001b[0mx_bins\u001b[0m\u001b[0;34m,\u001b[0m \u001b[0my_bins\u001b[0m\u001b[0;34m=\u001b[0m\u001b[0my_bins\u001b[0m\u001b[0;34m,\u001b[0m\u001b[0;34m\u001b[0m\u001b[0;34m\u001b[0m\u001b[0m\n\u001b[1;32m   1334\u001b[0m         \u001b[0mestimator\u001b[0m\u001b[0;34m=\u001b[0m\u001b[0mestimator\u001b[0m\u001b[0;34m,\u001b[0m \u001b[0mci\u001b[0m\u001b[0;34m=\u001b[0m\u001b[0mci\u001b[0m\u001b[0;34m,\u001b[0m \u001b[0mn_boot\u001b[0m\u001b[0;34m=\u001b[0m\u001b[0mn_boot\u001b[0m\u001b[0;34m,\u001b[0m\u001b[0;34m\u001b[0m\u001b[0;34m\u001b[0m\u001b[0m\n\u001b[0;32m-> 1335\u001b[0;31m         \u001b[0malpha\u001b[0m\u001b[0;34m=\u001b[0m\u001b[0malpha\u001b[0m\u001b[0;34m,\u001b[0m \u001b[0mx_jitter\u001b[0m\u001b[0;34m=\u001b[0m\u001b[0mx_jitter\u001b[0m\u001b[0;34m,\u001b[0m \u001b[0my_jitter\u001b[0m\u001b[0;34m=\u001b[0m\u001b[0my_jitter\u001b[0m\u001b[0;34m,\u001b[0m \u001b[0mlegend\u001b[0m\u001b[0;34m=\u001b[0m\u001b[0mlegend\u001b[0m\u001b[0;34m,\u001b[0m\u001b[0;34m\u001b[0m\u001b[0;34m\u001b[0m\u001b[0m\n\u001b[0m\u001b[1;32m   1336\u001b[0m     )\n\u001b[1;32m   1337\u001b[0m \u001b[0;34m\u001b[0m\u001b[0m\n",
      "\u001b[0;32m/Library/Frameworks/Python.framework/Versions/3.6/lib/python3.6/site-packages/seaborn/relational.py\u001b[0m in \u001b[0;36m__init__\u001b[0;34m(self, x, y, hue, size, style, data, palette, hue_order, hue_norm, sizes, size_order, size_norm, dashes, markers, style_order, x_bins, y_bins, units, estimator, ci, n_boot, alpha, x_jitter, y_jitter, legend)\u001b[0m\n\u001b[1;32m    850\u001b[0m \u001b[0;34m\u001b[0m\u001b[0m\n\u001b[1;32m    851\u001b[0m         plot_data = self.establish_variables(\n\u001b[0;32m--> 852\u001b[0;31m             \u001b[0mx\u001b[0m\u001b[0;34m,\u001b[0m \u001b[0my\u001b[0m\u001b[0;34m,\u001b[0m \u001b[0mhue\u001b[0m\u001b[0;34m,\u001b[0m \u001b[0msize\u001b[0m\u001b[0;34m,\u001b[0m \u001b[0mstyle\u001b[0m\u001b[0;34m,\u001b[0m \u001b[0munits\u001b[0m\u001b[0;34m,\u001b[0m \u001b[0mdata\u001b[0m\u001b[0;34m\u001b[0m\u001b[0;34m\u001b[0m\u001b[0m\n\u001b[0m\u001b[1;32m    853\u001b[0m         )\n\u001b[1;32m    854\u001b[0m \u001b[0;34m\u001b[0m\u001b[0m\n",
      "\u001b[0;32m/Library/Frameworks/Python.framework/Versions/3.6/lib/python3.6/site-packages/seaborn/relational.py\u001b[0m in \u001b[0;36mestablish_variables\u001b[0;34m(self, x, y, hue, size, style, units, data)\u001b[0m\n\u001b[1;32m    140\u001b[0m                 \u001b[0;32mif\u001b[0m \u001b[0misinstance\u001b[0m\u001b[0;34m(\u001b[0m\u001b[0mvar\u001b[0m\u001b[0;34m,\u001b[0m \u001b[0mstring_types\u001b[0m\u001b[0;34m)\u001b[0m\u001b[0;34m:\u001b[0m\u001b[0;34m\u001b[0m\u001b[0;34m\u001b[0m\u001b[0m\n\u001b[1;32m    141\u001b[0m                     \u001b[0merr\u001b[0m \u001b[0;34m=\u001b[0m \u001b[0;34m\"Could not interpret input '{}'\"\u001b[0m\u001b[0;34m.\u001b[0m\u001b[0mformat\u001b[0m\u001b[0;34m(\u001b[0m\u001b[0mvar\u001b[0m\u001b[0;34m)\u001b[0m\u001b[0;34m\u001b[0m\u001b[0;34m\u001b[0m\u001b[0m\n\u001b[0;32m--> 142\u001b[0;31m                     \u001b[0;32mraise\u001b[0m \u001b[0mValueError\u001b[0m\u001b[0;34m(\u001b[0m\u001b[0merr\u001b[0m\u001b[0;34m)\u001b[0m\u001b[0;34m\u001b[0m\u001b[0;34m\u001b[0m\u001b[0m\n\u001b[0m\u001b[1;32m    143\u001b[0m \u001b[0;34m\u001b[0m\u001b[0m\n\u001b[1;32m    144\u001b[0m             \u001b[0;31m# Extract variable names\u001b[0m\u001b[0;34m\u001b[0m\u001b[0;34m\u001b[0m\u001b[0;34m\u001b[0m\u001b[0m\n",
      "\u001b[0;31mValueError\u001b[0m: Could not interpret input 'CD4-others'"
     ]
    }
   ],
   "source": [
    "sns.scatterplot(data=indf, x=\"LENhypoCpG\", y=celltype+'-others',hue='deltabasedfragassignment')\n",
    "plt.legend(bbox_to_anchor=(1.02, 1), loc='upper left', borderaxespad=0)"
   ]
  },
  {
   "cell_type": "code",
   "execution_count": null,
   "metadata": {},
   "outputs": [],
   "source": [
    "onlyposforthatct=indf[indf[celltype+'-others']>0]\n",
    "onlyposforthatct.head()"
   ]
  },
  {
   "cell_type": "code",
   "execution_count": null,
   "metadata": {},
   "outputs": [],
   "source": [
    "sns.scatterplot(data=onlyposforthatct, x=\"LENhypoCpG\", y=celltype+'-others',hue='deltabasedfragassignment')\n",
    "plt.legend(bbox_to_anchor=(1.02, 1), loc='upper left', borderaxespad=0)"
   ]
  },
  {
   "cell_type": "code",
   "execution_count": null,
   "metadata": {},
   "outputs": [],
   "source": [
    "onlyassignedbinthatct=indf[indf['deltabasedfragassignment']==celltype+\"-others\"].copy()\n",
    "onlyassignedbinthatct.head()"
   ]
  },
  {
   "cell_type": "code",
   "execution_count": null,
   "metadata": {},
   "outputs": [],
   "source": [
    "onlyassignedbinthatct['Correct Bin?']='No'\n"
   ]
  },
  {
   "cell_type": "code",
   "execution_count": null,
   "metadata": {},
   "outputs": [],
   "source": [
    "onlyassignedbinthatct.loc[onlyassignedbinthatct.index.str.contains(celltype),'Correct Bin?']='Yes'\n",
    "\n",
    "onlyassignedbinthatct.head()"
   ]
  },
  {
   "cell_type": "code",
   "execution_count": null,
   "metadata": {},
   "outputs": [],
   "source": [
    "sns.scatterplot(data=onlyassignedbinthatct, x=\"LENhypoCpG\", y=celltype+'-others',hue='Correct Bin?')\n",
    "plt.legend(bbox_to_anchor=(1.02, 1), loc='upper left', borderaxespad=0)"
   ]
  },
  {
   "cell_type": "code",
   "execution_count": null,
   "metadata": {},
   "outputs": [],
   "source": [
    "sns.scatterplot(data=onlyassignedbinthatct, x=\"LENhypoCpG\", y=celltype+'-others',hue='total_cpg')\n",
    "plt.legend(bbox_to_anchor=(1.02, 1), loc='upper left', borderaxespad=0)"
   ]
  },
  {
   "cell_type": "code",
   "execution_count": null,
   "metadata": {},
   "outputs": [],
   "source": [
    "sns.scatterplot(data=onlyassignedbinthatct, x=\"LENhypoCpG_BY_total_cpg\", y=celltype+'-others',hue='Correct Bin?')\n",
    "plt.legend(bbox_to_anchor=(1.02, 1), loc='upper left', borderaxespad=0)"
   ]
  },
  {
   "cell_type": "code",
   "execution_count": null,
   "metadata": {},
   "outputs": [],
   "source": [
    "sns.scatterplot(data=onlyassignedbinthatct, x=\"LENhypoCpG_BY_total_cpg\", y=celltype+'-others',hue='total_cpg')\n",
    "plt.legend(bbox_to_anchor=(1.02, 1), loc='upper left', borderaxespad=0)"
   ]
  },
  {
   "cell_type": "code",
   "execution_count": null,
   "metadata": {},
   "outputs": [],
   "source": [
    "sns.scatterplot(data=onlyassignedbinthatct, x=\"LENhypoCpG_BY_total_cpg\", y=\"total_cpg\",hue='Correct Bin?')\n",
    "plt.legend(bbox_to_anchor=(1.02, 1), loc='upper left', borderaxespad=0)"
   ]
  },
  {
   "cell_type": "code",
   "execution_count": null,
   "metadata": {},
   "outputs": [],
   "source": [
    "onlyassignedbinthatct[(onlyassignedbinthatct[\"LENhypoCpG\"]>=9) & (onlyassignedbinthatct[\"LENhypoCpG_BY_total_cpg\"]==1) & (onlyassignedbinthatct['Correct Bin?']=='No')]"
   ]
  },
  {
   "cell_type": "code",
   "execution_count": null,
   "metadata": {},
   "outputs": [],
   "source": [
    "sns.scatterplot(data=onlyassignedbinthatct, x=\"LENhyperCpG\", y=celltype+'-others',hue='Correct Bin?')\n",
    "plt.legend(bbox_to_anchor=(1.02, 1), loc='upper left', borderaxespad=0)"
   ]
  },
  {
   "cell_type": "code",
   "execution_count": null,
   "metadata": {},
   "outputs": [],
   "source": [
    "sns.scatterplot(data=onlyassignedbinthatct, x=\"total_cpg\", y=celltype+'-others',hue='Correct Bin?')\n",
    "plt.legend(bbox_to_anchor=(1.02, 1), loc='upper left', borderaxespad=0)"
   ]
  },
  {
   "cell_type": "code",
   "execution_count": null,
   "metadata": {},
   "outputs": [],
   "source": [
    "sns.scatterplot(data=onlyassignedbinthatct[onlyassignedbinthatct['Correct Bin?']=='Yes'], x=\"total_cpg\", y=celltype+'-others')\n",
    "plt.xlim((0, 12))\n",
    "plt.ylim((0, 12))\n",
    "\n",
    "#plt.legend(bbox_to_anchor=(1.02, 1), loc='upper left', borderaxespad=0)"
   ]
  },
  {
   "cell_type": "code",
   "execution_count": null,
   "metadata": {},
   "outputs": [],
   "source": [
    "sns.scatterplot(data=onlyassignedbinthatct[onlyassignedbinthatct['Correct Bin?']=='No'], x=\"total_cpg\", y=celltype+'-others')\n",
    "#plt.legend(bbox_to_anchor=(1.02, 1), loc='upper left', borderaxespad=0)\n",
    "plt.xlim((0, 12))\n",
    "plt.ylim((0, 12))"
   ]
  },
  {
   "cell_type": "code",
   "execution_count": null,
   "metadata": {},
   "outputs": [],
   "source": [
    "sns.scatterplot(data=onlyassignedbinthatct[onlyassignedbinthatct['Correct Bin?']=='Yes'], x=\"LENhypoCpG_BY_total_cpg\", y=\"total_cpg\")\n"
   ]
  },
  {
   "cell_type": "code",
   "execution_count": null,
   "metadata": {},
   "outputs": [],
   "source": [
    "sns.scatterplot(data=onlyassignedbinthatct[onlyassignedbinthatct['Correct Bin?']=='No'], x=\"LENhypoCpG_BY_total_cpg\", y=\"total_cpg\")\n"
   ]
  },
  {
   "cell_type": "code",
   "execution_count": null,
   "metadata": {},
   "outputs": [],
   "source": [
    "import matplotlib.pyplot as plt\n",
    "plt.rcParams['figure.figsize'] = [10, 5]"
   ]
  },
  {
   "cell_type": "code",
   "execution_count": null,
   "metadata": {
    "scrolled": true
   },
   "outputs": [],
   "source": [
    "boxplot = onlyassignedbinthatct.boxplot(column=[celltype+'-others'],by=['Correct Bin?'] )"
   ]
  },
  {
   "cell_type": "code",
   "execution_count": null,
   "metadata": {},
   "outputs": [],
   "source": [
    "boxplot = onlyassignedbinthatct.boxplot(column=[celltype+'-others'],by=['Correct Bin?'] )"
   ]
  },
  {
   "cell_type": "code",
   "execution_count": null,
   "metadata": {},
   "outputs": [],
   "source": [
    "sns.boxplot(y=celltype+'-others', x='LENhypoCpG', \n",
    "                 data=onlyassignedbinthatct, \n",
    "                 palette=\"colorblind\",\n",
    "                 hue='Correct Bin?')\n"
   ]
  },
  {
   "cell_type": "code",
   "execution_count": null,
   "metadata": {},
   "outputs": [],
   "source": [
    "sns.boxplot(y=celltype+'-others', x='total_cpg', \n",
    "                 data=onlyassignedbinthatct, \n",
    "                 palette=\"colorblind\",\n",
    "                 hue='Correct Bin?')"
   ]
  },
  {
   "cell_type": "code",
   "execution_count": null,
   "metadata": {},
   "outputs": [],
   "source": [
    "sns.boxplot(y=celltype+'-others', x='LENhypoCpG_BY_total_cpg', \n",
    "                 data=onlyassignedbinthatct, \n",
    "                 palette=\"colorblind\",\n",
    "                 hue='Correct Bin?')"
   ]
  },
  {
   "cell_type": "code",
   "execution_count": null,
   "metadata": {},
   "outputs": [],
   "source": [
    "#onlyassignedbinthatct.to_csv(infile+\"_diagnosis.txt\",sep=\"\\t\")"
   ]
  }
 ],
 "metadata": {
  "kernelspec": {
   "display_name": "Python 3",
   "language": "python",
   "name": "python3"
  },
  "language_info": {
   "codemirror_mode": {
    "name": "ipython",
    "version": 3
   },
   "file_extension": ".py",
   "mimetype": "text/x-python",
   "name": "python",
   "nbconvert_exporter": "python",
   "pygments_lexer": "ipython3",
   "version": "3.6.7"
  }
 },
 "nbformat": 4,
 "nbformat_minor": 2
}
