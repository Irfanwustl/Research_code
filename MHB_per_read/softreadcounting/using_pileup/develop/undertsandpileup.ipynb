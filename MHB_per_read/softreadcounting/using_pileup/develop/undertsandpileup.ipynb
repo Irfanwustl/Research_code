{
 "cells": [
  {
   "cell_type": "code",
   "execution_count": 1,
   "metadata": {},
   "outputs": [],
   "source": [
    "from collections import defaultdict\n",
    "from operator import add\n",
    "import pandas as pd\n",
    "import pysam\n",
    "import time\n",
    "import sys\n",
    "import numpy as np\n",
    "\n",
    "start_time = time.time()\n",
    "\n",
    "bamfile ='/Users/irffanalahi/Research/Research_code/gitignorefolder/MHB_per_read/softreadcounting/testtheidea/softRD_pileup/CD4allrange_NR_1000000_insilmix41_sorted'\n",
    "\n"
   ]
  },
  {
   "cell_type": "code",
   "execution_count": 2,
   "metadata": {},
   "outputs": [],
   "source": [
    "bam = pysam.AlignmentFile(bamfile, 'rb')\n"
   ]
  },
  {
   "cell_type": "code",
   "execution_count": 3,
   "metadata": {},
   "outputs": [
    {
     "name": "stdout",
     "output_type": "stream",
     "text": [
      "CD8.HWI-ST459_144:7:1110:6555:16366#0\t163\t0\t1221989\t60\t101M\t0\t1222065\t101\tAAAAAAATATATATTACTAATAAATTAAACAAACACAAAAAATAAAAATATAAAATACACCCAACCTACCAAAAACAACCCCATATCACATAACCAATCCC\tarray('B', [34, 34, 34, 37, 37, 37, 37, 37, 39, 39, 39, 39, 39, 41, 41, 41, 41, 41, 41, 41, 41, 41, 41, 41, 41, 41, 41, 41, 40, 41, 41, 41, 40, 41, 41, 41, 41, 41, 41, 41, 41, 41, 41, 41, 40, 41, 41, 41, 41, 41, 41, 40, 41, 41, 41, 41, 41, 41, 41, 41, 41, 39, 39, 39, 37, 37, 37, 37, 36, 36, 36, 36, 35, 35, 35, 35, 35, 35, 35, 35, 35, 35, 35, 35, 35, 35, 35, 36, 35, 35, 35, 35, 35, 35, 35, 35, 35, 35, 35, 35, 34])\t[('XB', 'G'), ('AS', 101), ('MQ', 60), ('MS', 3684), ('MC', 1222166), ('NM', 25), ('MD', '0G1G0G4G1G1G5G4G4G2G0G13G0G1G3G9G3G3G0G1G2G4G6G1G4G4'), ('RG', '1-68A0E342')]\n",
      "[(0, 1221989, 'g'), (1, 1221990, 'A'), (2, 1221991, 'g'), (3, 1221992, 'g'), (4, 1221993, 'A'), (5, 1221994, 'A'), (6, 1221995, 'A'), (7, 1221996, 'T'), (8, 1221997, 'g'), (9, 1221998, 'T'), (10, 1221999, 'g'), (11, 1222000, 'T'), (12, 1222001, 'g'), (13, 1222002, 'T'), (14, 1222003, 'T'), (15, 1222004, 'A'), (16, 1222005, 'C'), (17, 1222006, 'T'), (18, 1222007, 'g'), (19, 1222008, 'A'), (20, 1222009, 'T'), (21, 1222010, 'A'), (22, 1222011, 'A'), (23, 1222012, 'g'), (24, 1222013, 'T'), (25, 1222014, 'T'), (26, 1222015, 'A'), (27, 1222016, 'A'), (28, 1222017, 'g'), (29, 1222018, 'C'), (30, 1222019, 'A'), (31, 1222020, 'g'), (32, 1222021, 'g'), (33, 1222022, 'C'), (34, 1222023, 'A'), (35, 1222024, 'C'), (36, 1222025, 'A'), (37, 1222026, 'A'), (38, 1222027, 'A'), (39, 1222028, 'A'), (40, 1222029, 'A'), (41, 1222030, 'A'), (42, 1222031, 'T'), (43, 1222032, 'A'), (44, 1222033, 'A'), (45, 1222034, 'A'), (46, 1222035, 'g'), (47, 1222036, 'g'), (48, 1222037, 'T'), (49, 1222038, 'g'), (50, 1222039, 'T'), (51, 1222040, 'A'), (52, 1222041, 'A'), (53, 1222042, 'g'), (54, 1222043, 'A'), (55, 1222044, 'T'), (56, 1222045, 'A'), (57, 1222046, 'C'), (58, 1222047, 'A'), (59, 1222048, 'C'), (60, 1222049, 'C'), (61, 1222050, 'C'), (62, 1222051, 'A'), (63, 1222052, 'g'), (64, 1222053, 'C'), (65, 1222054, 'C'), (66, 1222055, 'T'), (67, 1222056, 'g'), (68, 1222057, 'C'), (69, 1222058, 'C'), (70, 1222059, 'A'), (71, 1222060, 'g'), (72, 1222061, 'g'), (73, 1222062, 'A'), (74, 1222063, 'g'), (75, 1222064, 'C'), (76, 1222065, 'A'), (77, 1222066, 'g'), (78, 1222067, 'C'), (79, 1222068, 'C'), (80, 1222069, 'C'), (81, 1222070, 'C'), (82, 1222071, 'g'), (83, 1222072, 'T'), (84, 1222073, 'A'), (85, 1222074, 'T'), (86, 1222075, 'C'), (87, 1222076, 'A'), (88, 1222077, 'C'), (89, 1222078, 'g'), (90, 1222079, 'T'), (91, 1222080, 'g'), (92, 1222081, 'A'), (93, 1222082, 'C'), (94, 1222083, 'C'), (95, 1222084, 'A'), (96, 1222085, 'g'), (97, 1222086, 'T'), (98, 1222087, 'C'), (99, 1222088, 'C'), (100, 1222089, 'C')]\n",
      "60\n"
     ]
    }
   ],
   "source": [
    "for aRead in bam.fetch():\n",
    "    \n",
    "    if aRead.query_name == 'CD8.HWI-ST459_144:7:1110:6555:16366#0':\n",
    "        print(aRead)\n",
    "        print(aRead.get_aligned_pairs(with_seq=True))\n",
    "        \n",
    "        print(aRead.mapping_quality)\n",
    "\n",
    "        break"
   ]
  }
 ],
 "metadata": {
  "kernelspec": {
   "display_name": "Python 3",
   "language": "python",
   "name": "python3"
  },
  "language_info": {
   "codemirror_mode": {
    "name": "ipython",
    "version": 3
   },
   "file_extension": ".py",
   "mimetype": "text/x-python",
   "name": "python",
   "nbconvert_exporter": "python",
   "pygments_lexer": "ipython3",
   "version": "3.6.7"
  }
 },
 "nbformat": 4,
 "nbformat_minor": 2
}
