{
 "cells": [
  {
   "cell_type": "code",
   "execution_count": 1,
   "metadata": {},
   "outputs": [],
   "source": [
    "import pandas as pd\n",
    "import pysam\n"
   ]
  },
  {
   "cell_type": "code",
   "execution_count": 2,
   "metadata": {},
   "outputs": [],
   "source": [
    "class ParseBam:\n",
    "    def __init__(self, bamfile, quality_score,phred_score,sm,outpath,**kwargs):\n",
    "        self.mapping_quality = quality_score\n",
    "        self.phred_score=phred_score\n",
    "        self.bamfile = bamfile\n",
    "        \n",
    "        \n",
    "        #self.handleread()\n",
    "        self.read_pair_generator()\n",
    "        \n",
    "\n",
    "    \n",
    "    def handleread(self):\n",
    "        pass\n",
    "            \n",
    "    def read_pair_generator(self):\n",
    "        \"\"\"\n",
    "        Generate read pairs in a BAM file or within a region string.\n",
    "        Reads are added to read_dict until a pair is found.\n",
    "        \"\"\"\n",
    "        read_dict = defaultdict(lambda: [None, None])\n",
    "        for read in bam.fetch(region=region_string):\n",
    "            if not read.is_proper_pair or read.is_secondary or read.is_supplementary:\n",
    "                continue\n",
    "            qname = read.query_name\n",
    "            if qname not in read_dict:\n",
    "                if read.is_read1:\n",
    "                    read_dict[qname][0] = read\n",
    "                else:\n",
    "                    read_dict[qname][1] = read\n",
    "            else:\n",
    "                if read.is_read1:\n",
    "                    yield read, read_dict[qname][1]\n",
    "                else:\n",
    "                    yield read_dict[qname][0], read\n",
    "                del read_dict[qname]\n",
    "            "
   ]
  },
  {
   "cell_type": "code",
   "execution_count": 3,
   "metadata": {},
   "outputs": [
    {
     "ename": "AttributeError",
     "evalue": "'ParseBam' object has no attribute 'read_pair_generator'",
     "output_type": "error",
     "traceback": [
      "\u001b[0;31m---------------------------------------------------------------------------\u001b[0m",
      "\u001b[0;31mAttributeError\u001b[0m                            Traceback (most recent call last)",
      "\u001b[0;32m<ipython-input-3-e896cd758df5>\u001b[0m in \u001b[0;36m<module>\u001b[0;34m\u001b[0m\n\u001b[1;32m      1\u001b[0m \u001b[0;32mif\u001b[0m \u001b[0m__name__\u001b[0m \u001b[0;34m==\u001b[0m \u001b[0;34m\"__main__\"\u001b[0m\u001b[0;34m:\u001b[0m\u001b[0;34m\u001b[0m\u001b[0;34m\u001b[0m\u001b[0m\n\u001b[1;32m      2\u001b[0m     \u001b[0mbamfile\u001b[0m\u001b[0;34m=\u001b[0m\u001b[0;34m'/Users/irffanalahi/Research/Research_code/gitignorefolder/MHB_per_read/softreadcounting/testtheidea/try3/bulkbam_subnoindex/BULK-PBMC-1313.bg'\u001b[0m\u001b[0;34m\u001b[0m\u001b[0;34m\u001b[0m\u001b[0m\n\u001b[0;32m----> 3\u001b[0;31m     \u001b[0mpbam\u001b[0m\u001b[0;34m=\u001b[0m\u001b[0mParseBam\u001b[0m\u001b[0;34m(\u001b[0m\u001b[0mbamfile\u001b[0m\u001b[0;34m,\u001b[0m\u001b[0;34m'dummy'\u001b[0m\u001b[0;34m,\u001b[0m\u001b[0;36m40\u001b[0m\u001b[0;34m,\u001b[0m\u001b[0;36m30\u001b[0m\u001b[0;34m,\u001b[0m\u001b[0;34m'dummy'\u001b[0m\u001b[0;34m)\u001b[0m\u001b[0;34m\u001b[0m\u001b[0;34m\u001b[0m\u001b[0m\n\u001b[0m",
      "\u001b[0;32m<ipython-input-2-21b0ef135166>\u001b[0m in \u001b[0;36m__init__\u001b[0;34m(self, bamfile, quality_score, phred_score, sm, outpath, **kwargs)\u001b[0m\n\u001b[1;32m      7\u001b[0m \u001b[0;34m\u001b[0m\u001b[0m\n\u001b[1;32m      8\u001b[0m         \u001b[0;31m#self.handleread()\u001b[0m\u001b[0;34m\u001b[0m\u001b[0;34m\u001b[0m\u001b[0;34m\u001b[0m\u001b[0m\n\u001b[0;32m----> 9\u001b[0;31m         \u001b[0mself\u001b[0m\u001b[0;34m.\u001b[0m\u001b[0mread_pair_generator\u001b[0m\u001b[0;34m(\u001b[0m\u001b[0;34m)\u001b[0m\u001b[0;34m\u001b[0m\u001b[0;34m\u001b[0m\u001b[0m\n\u001b[0m\u001b[1;32m     10\u001b[0m \u001b[0;34m\u001b[0m\u001b[0m\n\u001b[1;32m     11\u001b[0m \u001b[0;34m\u001b[0m\u001b[0m\n",
      "\u001b[0;31mAttributeError\u001b[0m: 'ParseBam' object has no attribute 'read_pair_generator'"
     ]
    }
   ],
   "source": [
    "if __name__ == \"__main__\":\n",
    "    bamfile='/Users/irffanalahi/Research/Research_code/gitignorefolder/MHB_per_read/softreadcounting/testtheidea/try3/bulkbam_subnoindex/BULK-PBMC-1313.bg'\n",
    "    pbam=ParseBam(bamfile,'dummy',40,30,'dummy')"
   ]
  }
 ],
 "metadata": {
  "kernelspec": {
   "display_name": "Python 3",
   "language": "python",
   "name": "python3"
  },
  "language_info": {
   "codemirror_mode": {
    "name": "ipython",
    "version": 3
   },
   "file_extension": ".py",
   "mimetype": "text/x-python",
   "name": "python",
   "nbconvert_exporter": "python",
   "pygments_lexer": "ipython3",
   "version": "3.6.7"
  }
 },
 "nbformat": 4,
 "nbformat_minor": 2
}
