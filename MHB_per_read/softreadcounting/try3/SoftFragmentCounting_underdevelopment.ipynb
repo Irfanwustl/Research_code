{
 "cells": [
  {
   "cell_type": "code",
   "execution_count": 1,
   "metadata": {},
   "outputs": [],
   "source": [
    "import pandas as pd\n",
    "import pysam\n",
    "from collections import defaultdict\n"
   ]
  },
  {
   "cell_type": "code",
   "execution_count": 2,
   "metadata": {},
   "outputs": [],
   "source": [
    "class ParseBam:\n",
    "    def __init__(self, bamfile, quality_score,phred_score,sm,outpath,**kwargs):\n",
    "        self.mapping_quality = quality_score\n",
    "        self.phred_score=phred_score\n",
    "        self.bamfile = bamfile\n",
    "        \n",
    "        \n",
    " \n",
    "        self.process_ppRead()\n",
    "        \n",
    "        \n",
    "\n",
    "    \n",
    "    def parseread(self,read):\n",
    "        \n",
    "        chrom = read.reference_name\n",
    "        \n",
    "        if read.mapping_quality < self.mapping_quality:\n",
    "            return\n",
    "        if read.is_duplicate == True:\n",
    "            return\n",
    "        offset = 0\n",
    "\n",
    "        if read.has_tag('YD'):\n",
    "            yd = read.get_tag(\"YD\")\n",
    "            if yd == \"r\":\n",
    "                offset = 1\n",
    "\n",
    "        elif read.has_tag('XB'):\n",
    "            xb=read.get_tag(\"XB\")\n",
    "\n",
    "            if xb=='G':\n",
    "                offset=1\n",
    "            elif xb=='C':\n",
    "                pass\n",
    "            else:\n",
    "                print(\"unknown xb value. Exiting....\")\n",
    "                print(read.query_name)\n",
    "\n",
    "                sys.exit(1)\n",
    "\n",
    "        else:\n",
    "            print(\"no tag found. Exiting\")\n",
    "            print(read.query_name)\n",
    "            sys.exit(1)\n",
    "            \n",
    "            \n",
    "        alignedpairs=read.get_aligned_pairs(with_seq=True)\n",
    "        \n",
    "        \n",
    "        \n",
    "    def process_ppRead(self):\n",
    "        for read1, read2 in self.read_pair_generator():\n",
    "            print(read1)\n",
    "            print(read2)\n",
    "            break\n",
    "    \n",
    "    def read_pair_generator(self):\n",
    "        \"\"\"\n",
    "        Generate read pairs in a BAM file or within a region string.\n",
    "        Reads are added to read_dict until a pair is found.\n",
    "        \"\"\"\n",
    "        bam=pysam.AlignmentFile(self.bamfile, 'rb')\n",
    "        read_dict = defaultdict(lambda: [None, None])\n",
    "        for read in bam.fetch(until_eof=True):   #####################################check this\n",
    "            if not read.is_proper_pair or read.is_secondary or read.is_supplementary:\n",
    "                continue\n",
    "            qname = read.query_name\n",
    "            if qname not in read_dict:\n",
    "                if read.is_read1:\n",
    "                    read_dict[qname][0] = read\n",
    "                else:\n",
    "                    read_dict[qname][1] = read\n",
    "            else:\n",
    "                if read.is_read1:\n",
    "                    yield read, read_dict[qname][1]\n",
    "                else:\n",
    "                    yield read_dict[qname][0], read\n",
    "                del read_dict[qname] \n",
    "            "
   ]
  },
  {
   "cell_type": "code",
   "execution_count": 3,
   "metadata": {},
   "outputs": [
    {
     "name": "stdout",
     "output_type": "stream",
     "text": [
      "A00580:76:HFLG2DSXX:4:2350:9281:22514\t83\t525\t795709\t15\t151M\t525\t795682\t151\tTTCAAACGATTCTCCAACCTCAACTTCCCGAACAACTAACATTACAAATACATACCACCATACCCGACTAATTTTCTATATACCTAACTAAATTCTATATTTTTAATAAAAACAAATTTCACCATATTAGCCGAACTAATCTCAAACTCCT\tarray('B', [37, 37, 37, 37, 37, 37, 37, 37, 25, 11, 37, 37, 37, 37, 37, 37, 37, 37, 37, 37, 37, 37, 37, 37, 25, 37, 37, 37, 25, 37, 37, 37, 37, 37, 37, 37, 37, 37, 37, 37, 37, 37, 37, 37, 37, 37, 37, 25, 37, 37, 37, 37, 37, 37, 37, 37, 37, 37, 37, 37, 37, 37, 37, 37, 25, 37, 37, 37, 37, 37, 37, 37, 37, 37, 37, 37, 37, 37, 37, 37, 37, 37, 37, 37, 37, 37, 37, 37, 37, 37, 37, 37, 37, 37, 37, 37, 37, 37, 37, 37, 37, 37, 37, 37, 37, 37, 37, 37, 37, 37, 37, 37, 37, 37, 37, 37, 37, 37, 37, 37, 37, 37, 37, 37, 37, 37, 37, 37, 37, 37, 37, 37, 37, 37, 37, 37, 37, 37, 37, 37, 37, 37, 37, 37, 37, 37, 37, 37, 37, 37, 37])\t[('ZC', 30), ('ZR', 5), ('AS', 151), ('XS', 148), ('XL', 151), ('XA', 'chr1,-224020618,151M,1'), ('XB', '1,0'), ('YD', 'r'), ('MD', '5G10G5G8G2G2G0G7G0G1G3G7G4G10G3G3G0G4G4G8G2G1G3G0G9G2G4G0G2G0G12'), ('NM', 30), ('RG', '2900918055')]\n",
      "A00580:76:HFLG2DSXX:4:2350:9281:22514\t163\t525\t795682\t15\t22S129M\t525\t795709\t129\tGGGAAGGAGAGAGAAAAAGGAGGACTCACTACAACCTCTACTTCCTAAATTCAAACGATTCTCCAACCTCAACTTCCCGAACAACTAACATTACAAATACATACCACCATACCCGACTAATTTTCTATATACCTAACTAAATTCTATATTT\tarray('B', [37, 37, 37, 37, 37, 37, 37, 37, 37, 37, 37, 37, 37, 37, 37, 37, 37, 37, 37, 37, 37, 37, 37, 37, 37, 37, 37, 37, 37, 37, 37, 37, 37, 37, 37, 37, 37, 37, 37, 37, 37, 37, 37, 37, 37, 37, 37, 37, 37, 37, 37, 25, 37, 37, 37, 37, 37, 37, 37, 37, 37, 37, 37, 37, 37, 37, 37, 37, 37, 37, 37, 37, 37, 37, 37, 37, 37, 37, 37, 37, 37, 37, 37, 37, 37, 37, 11, 37, 37, 37, 37, 37, 37, 37, 37, 25, 37, 37, 37, 37, 37, 37, 37, 37, 37, 37, 37, 37, 37, 37, 37, 37, 37, 37, 37, 37, 37, 37, 37, 37, 37, 37, 37, 37, 37, 37, 37, 37, 25, 37, 37, 37, 37, 37, 37, 37, 37, 37, 25, 37, 25, 37, 37, 37, 37, 11, 37, 37, 37, 37, 37])\t[('ZC', 25), ('ZR', 4), ('AS', 129), ('XS', 129), ('XL', 151), ('XA', 'chr1,+224020591,22S129M,0'), ('XB', '1,0'), ('YD', 'r'), ('MD', '1G6G8G6G0G0G5G10G5G8G2G2G0G7G0G1G3G7G4G10G3G3G0G4G4G5'), ('NM', 25), ('RG', '2900918055')]\n"
     ]
    }
   ],
   "source": [
    "if __name__ == \"__main__\":\n",
    "    bamfile='/Users/irffanalahi/Research/Research_code/gitignorefolder/MHB_per_read/softreadcounting/testtheidea/try3/bulkbam_subnoindex/BULK-PBMC-1313.bg'\n",
    "    pbam=ParseBam(bamfile,'dummy',40,30,'dummy')"
   ]
  }
 ],
 "metadata": {
  "kernelspec": {
   "display_name": "Python 3",
   "language": "python",
   "name": "python3"
  },
  "language_info": {
   "codemirror_mode": {
    "name": "ipython",
    "version": 3
   },
   "file_extension": ".py",
   "mimetype": "text/x-python",
   "name": "python",
   "nbconvert_exporter": "python",
   "pygments_lexer": "ipython3",
   "version": "3.6.7"
  }
 },
 "nbformat": 4,
 "nbformat_minor": 2
}
