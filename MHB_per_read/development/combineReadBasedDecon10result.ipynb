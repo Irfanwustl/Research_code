{
 "cells": [
  {
   "cell_type": "code",
   "execution_count": 1,
   "metadata": {},
   "outputs": [],
   "source": [
    "import pandas as pd\n",
    "import os\n",
    "import glob\n",
    "grandfatherfolder='/Users/irffanalahi/Research/Research_code/gitignorefolder/MHB_per_read/ReadBaseddeocn10/sm_bamreadysorted_globalout'\n",
    "\n",
    "outfolderWCP=grandfatherfolder+\"_weightedCellProportion_mincpg1\"\n",
    "os.mkdir(outfolderWCP)\n",
    "\n",
    "\n",
    "outfolderWFrag=grandfatherfolder+\"_weightedFragment_mincpg1\"\n",
    "os.mkdir(outfolderWFrag)\n",
    "\n",
    "\n"
   ]
  },
  {
   "cell_type": "code",
   "execution_count": 2,
   "metadata": {},
   "outputs": [],
   "source": [
    "allsmresult=[x[0] for x in os.walk(grandfatherfolder)]\n",
    "\n",
    "allsmresult.remove(grandfatherfolder)\n"
   ]
  },
  {
   "cell_type": "code",
   "execution_count": 3,
   "metadata": {},
   "outputs": [],
   "source": [
    "for smresult in allsmresult:\n",
    "   \n",
    "    resultfile=glob.glob(smresult+\"/*\"+\"weightedCellProportion_mincpg1.txt\")\n",
    "    \n",
    "    resultdf = pd.concat([pd.read_csv(fp,sep=\"\\t\").assign(Mixture=os.path.basename(fp)) for fp in resultfile])\n",
    "    resultdf=resultdf.set_index('Mixture')\n",
    "    \n",
    "    resultdf.to_csv(outfolderWCP+\"/\"+os.path.basename(smresult)+'_weightedCellProportion_mincpg1_CSxOut.txt',sep=\"\\t\")\n",
    "    \n",
    "    \n",
    "    \n",
    "    resultWF=glob.glob(smresult+\"/*\"+\"weightedFragmentResult_mincpg1.txt\")\n",
    "    resultWFdf=pd.concat([pd.read_csv(fp,sep=\"\\t\").assign(Mixture=os.path.basename(fp)) for fp in resultWF])\n",
    "    resultWFdf=resultWFdf.set_index('Mixture')\n",
    "    resultWFdf.to_csv(outfolderWFrag+\"/\"+os.path.basename(smresult)+'_weightedFragmentResult_mincpg1_CSxOut.txt',sep=\"\\t\")\n",
    "    \n",
    "    "
   ]
  }
 ],
 "metadata": {
  "kernelspec": {
   "display_name": "Python 3",
   "language": "python",
   "name": "python3"
  },
  "language_info": {
   "codemirror_mode": {
    "name": "ipython",
    "version": 3
   },
   "file_extension": ".py",
   "mimetype": "text/x-python",
   "name": "python",
   "nbconvert_exporter": "python",
   "pygments_lexer": "ipython3",
   "version": "3.6.7"
  }
 },
 "nbformat": 4,
 "nbformat_minor": 2
}
