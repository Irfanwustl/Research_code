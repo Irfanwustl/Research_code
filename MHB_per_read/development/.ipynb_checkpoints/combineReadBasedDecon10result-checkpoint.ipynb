{
 "cells": [
  {
   "cell_type": "code",
   "execution_count": 1,
   "metadata": {},
   "outputs": [
    {
     "ename": "FileExistsError",
     "evalue": "[Errno 17] File exists: '/Users/irffanalahi/Research/Research_code/gitignorefolder/MHB_per_read/ReadBaseddeocn10/sm_bamreadysorted_globalout_weightedCellProportion_mincpg1'",
     "output_type": "error",
     "traceback": [
      "\u001b[0;31m---------------------------------------------------------------------------\u001b[0m",
      "\u001b[0;31mFileExistsError\u001b[0m                           Traceback (most recent call last)",
      "\u001b[0;32m<ipython-input-1-6a52603318e5>\u001b[0m in \u001b[0;36m<module>\u001b[0;34m\u001b[0m\n\u001b[1;32m      5\u001b[0m \u001b[0;34m\u001b[0m\u001b[0m\n\u001b[1;32m      6\u001b[0m \u001b[0moutfolderWCP\u001b[0m\u001b[0;34m=\u001b[0m\u001b[0mgrandfatherfolder\u001b[0m\u001b[0;34m+\u001b[0m\u001b[0;34m\"_weightedCellProportion_mincpg1\"\u001b[0m\u001b[0;34m\u001b[0m\u001b[0;34m\u001b[0m\u001b[0m\n\u001b[0;32m----> 7\u001b[0;31m \u001b[0mos\u001b[0m\u001b[0;34m.\u001b[0m\u001b[0mmkdir\u001b[0m\u001b[0;34m(\u001b[0m\u001b[0moutfolderWCP\u001b[0m\u001b[0;34m)\u001b[0m\u001b[0;34m\u001b[0m\u001b[0;34m\u001b[0m\u001b[0m\n\u001b[0m\u001b[1;32m      8\u001b[0m \u001b[0;34m\u001b[0m\u001b[0m\n\u001b[1;32m      9\u001b[0m \u001b[0;34m\u001b[0m\u001b[0m\n",
      "\u001b[0;31mFileExistsError\u001b[0m: [Errno 17] File exists: '/Users/irffanalahi/Research/Research_code/gitignorefolder/MHB_per_read/ReadBaseddeocn10/sm_bamreadysorted_globalout_weightedCellProportion_mincpg1'"
     ]
    }
   ],
   "source": [
    "import pandas as pd\n",
    "import os\n",
    "import glob\n",
    "grandfatherfolder='/Users/irffanalahi/Research/Research_code/gitignorefolder/MHB_per_read/ReadBaseddeocn10/sm_bamreadysorted_globalout'\n",
    "\n",
    "outfolderWCP=grandfatherfolder+\"_weightedCellProportion_mincpg1\"\n",
    "os.mkdir(outfolderWCP)\n",
    "\n",
    "\n",
    "outfolderWFrag=grandfatherfolder+\"_weightedFragment_mincpg1\"\n",
    "os.mkdir(outfolderWFrag)\n",
    "\n",
    "\n"
   ]
  },
  {
   "cell_type": "code",
   "execution_count": null,
   "metadata": {},
   "outputs": [],
   "source": [
    "allsmresult=[x[0] for x in os.walk(grandfatherfolder)]\n",
    "\n",
    "allsmresult.remove(grandfatherfolder)\n"
   ]
  },
  {
   "cell_type": "code",
   "execution_count": null,
   "metadata": {},
   "outputs": [],
   "source": [
    "for smresult in allsmresult:\n",
    "    print(smresult)\n",
    "    resultfile=glob.glob(smresult+\"/*\"+\"weightedCellProportion_mincpg1.txt\")\n",
    "    \n",
    "    resultdf = pd.concat([pd.read_csv(fp,sep=\"\\t\").assign(Mixture=os.path.basename(fp)) for fp in resultfile])\n",
    "    resultdf=resultdf.set_index('Mixture')\n",
    "    \n",
    "    resultdf.to_csv(outfolderWCP+\"/\"+os.path.basename(smresult)+'weightedCellProportion_mincpg1_CSxOut.txt',sep=\"\\t\")\n",
    "    \n",
    "    \n",
    "    \n",
    "    resultWF=glob.glob(smresult+\"/*\"+\"weightedFragmentResult_mincpg1.txt\")\n",
    "    resultWFdf=pd.concat([pd.read_csv(fp,sep=\"\\t\").assign(Mixture=os.path.basename(fp)) for fp in resultWF])\n",
    "    resultWFdf=resultWFdf.set_index('Mixture')\n",
    "    resultWFdf.to_csv(outfolderWCP+\"/\"+os.path.basename(smresult)+'weightedFragmentResult_mincpg1_CSxOut.txt',sep=\"\\t\")\n",
    "    \n",
    "    break"
   ]
  }
 ],
 "metadata": {
  "kernelspec": {
   "display_name": "Python 3",
   "language": "python",
   "name": "python3"
  },
  "language_info": {
   "codemirror_mode": {
    "name": "ipython",
    "version": 3
   },
   "file_extension": ".py",
   "mimetype": "text/x-python",
   "name": "python",
   "nbconvert_exporter": "python",
   "pygments_lexer": "ipython3",
   "version": "3.6.7"
  }
 },
 "nbformat": 4,
 "nbformat_minor": 2
}
