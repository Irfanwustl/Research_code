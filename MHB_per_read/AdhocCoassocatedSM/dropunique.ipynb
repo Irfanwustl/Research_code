{
 "cells": [
  {
   "cell_type": "code",
   "execution_count": 1,
   "metadata": {},
   "outputs": [],
   "source": [
    "import pandas as pd\n",
    "import sys"
   ]
  },
  {
   "cell_type": "code",
   "execution_count": 2,
   "metadata": {},
   "outputs": [
    {
     "data": {
      "text/html": [
       "<div>\n",
       "<style scoped>\n",
       "    .dataframe tbody tr th:only-of-type {\n",
       "        vertical-align: middle;\n",
       "    }\n",
       "\n",
       "    .dataframe tbody tr th {\n",
       "        vertical-align: top;\n",
       "    }\n",
       "\n",
       "    .dataframe thead th {\n",
       "        text-align: right;\n",
       "    }\n",
       "</style>\n",
       "<table border=\"1\" class=\"dataframe\">\n",
       "  <thead>\n",
       "    <tr style=\"text-align: right;\">\n",
       "      <th></th>\n",
       "      <th>chrom</th>\n",
       "      <th>start</th>\n",
       "      <th>end</th>\n",
       "      <th>celltype</th>\n",
       "      <th>blockchr</th>\n",
       "      <th>blockstart</th>\n",
       "      <th>blockend</th>\n",
       "    </tr>\n",
       "  </thead>\n",
       "  <tbody>\n",
       "    <tr>\n",
       "      <th>0</th>\n",
       "      <td>chr6</td>\n",
       "      <td>127346545</td>\n",
       "      <td>127346547</td>\n",
       "      <td>['CD14']</td>\n",
       "      <td>chr6</td>\n",
       "      <td>127346396</td>\n",
       "      <td>127346696</td>\n",
       "    </tr>\n",
       "    <tr>\n",
       "      <th>1</th>\n",
       "      <td>chr19</td>\n",
       "      <td>48966707</td>\n",
       "      <td>48966709</td>\n",
       "      <td>['CD14']</td>\n",
       "      <td>chr19</td>\n",
       "      <td>48966558</td>\n",
       "      <td>48966858</td>\n",
       "    </tr>\n",
       "    <tr>\n",
       "      <th>2</th>\n",
       "      <td>chr11</td>\n",
       "      <td>68928063</td>\n",
       "      <td>68928065</td>\n",
       "      <td>['CD14']</td>\n",
       "      <td>chr11</td>\n",
       "      <td>68927914</td>\n",
       "      <td>68928214</td>\n",
       "    </tr>\n",
       "    <tr>\n",
       "      <th>3</th>\n",
       "      <td>chr8</td>\n",
       "      <td>29583899</td>\n",
       "      <td>29583901</td>\n",
       "      <td>['CD14']</td>\n",
       "      <td>chr8</td>\n",
       "      <td>29583750</td>\n",
       "      <td>29584050</td>\n",
       "    </tr>\n",
       "    <tr>\n",
       "      <th>4</th>\n",
       "      <td>chr1</td>\n",
       "      <td>235920018</td>\n",
       "      <td>235920020</td>\n",
       "      <td>['CD14']</td>\n",
       "      <td>chr1</td>\n",
       "      <td>235919758</td>\n",
       "      <td>235920058</td>\n",
       "    </tr>\n",
       "  </tbody>\n",
       "</table>\n",
       "</div>"
      ],
      "text/plain": [
       "   chrom      start        end  celltype blockchr  blockstart   blockend\n",
       "0   chr6  127346545  127346547  ['CD14']     chr6   127346396  127346696\n",
       "1  chr19   48966707   48966709  ['CD14']    chr19    48966558   48966858\n",
       "2  chr11   68928063   68928065  ['CD14']    chr11    68927914   68928214\n",
       "3   chr8   29583899   29583901  ['CD14']     chr8    29583750   29584050\n",
       "4   chr1  235920018  235920020  ['CD14']     chr1   235919758  235920058"
      ]
     },
     "execution_count": 2,
     "metadata": {},
     "output_type": "execute_result"
    }
   ],
   "source": [
    "fname=\"/Users/irffanalahi/Research/weekly/for_10_8_20/my/adhocsm_allpblsubset/450kpos/pblsubsetpoormanMHB_hypo.txt_assigned.txt_mhb_intwith_blleuko450kg50_hyporadius_150bpSortedMerged.txt\"\n",
    "\n",
    "atleastcpg=2\n",
    "\n",
    "outname=fname+\"_atleast\"+str(atleastcpg)+\"cpg.txt\"\n",
    "\n",
    "df=pd.read_csv(fname,sep=\"\\t\")\n",
    "df.head()"
   ]
  },
  {
   "cell_type": "code",
   "execution_count": 3,
   "metadata": {},
   "outputs": [
    {
     "name": "stdout",
     "output_type": "stream",
     "text": [
      "56\n",
      "[6, 9, 10, 12, 18, 24, 26, 30, 31, 33, 38, 39, 42, 46, 53, 55, 188, 206, 224, 241, 245, 259, 263, 271, 456, 461, 466, 469, 475, 483, 495, 498, 505, 512, 513, 518, 522, 523, 526, 530, 532, 536, 697, 710, 713, 718, 719, 732, 768, 770, 771, 786, 790, 810, 814, 827]\n"
     ]
    }
   ],
   "source": [
    "outdf=df.copy()\n",
    "uniqindex=[]\n",
    "for index, row in df.iterrows():\n",
    "    currentchr=row['blockchr']\n",
    "    currentstart=row['blockstart']\n",
    "    count=0\n",
    "    for i2,r2 in df.iterrows():\n",
    "        if (r2['blockchr']==currentchr) and (r2['blockstart']==currentstart):\n",
    "            count=count+1\n",
    "            if count==atleastcpg:\n",
    "                break\n",
    "    if count==0:\n",
    "        print(\"error\")\n",
    "        sys.exit()\n",
    "    elif count < atleastcpg:\n",
    "        \n",
    "        uniqindex.append(index)\n",
    "\n",
    "\n",
    "print(len(uniqindex))\n",
    "print(uniqindex)\n",
    "        \n",
    "outdf=outdf.drop(uniqindex)\n",
    "    \n"
   ]
  },
  {
   "cell_type": "code",
   "execution_count": 4,
   "metadata": {},
   "outputs": [],
   "source": [
    "outdf.to_csv(outname,sep=\"\\t\",index=False)"
   ]
  }
 ],
 "metadata": {
  "kernelspec": {
   "display_name": "Python 3",
   "language": "python",
   "name": "python3"
  },
  "language_info": {
   "codemirror_mode": {
    "name": "ipython",
    "version": 3
   },
   "file_extension": ".py",
   "mimetype": "text/x-python",
   "name": "python",
   "nbconvert_exporter": "python",
   "pygments_lexer": "ipython3",
   "version": "3.6.7"
  }
 },
 "nbformat": 4,
 "nbformat_minor": 2
}
