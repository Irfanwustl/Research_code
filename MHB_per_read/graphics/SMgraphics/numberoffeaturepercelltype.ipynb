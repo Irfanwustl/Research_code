{
 "cells": [
  {
   "cell_type": "code",
   "execution_count": 1,
   "metadata": {},
   "outputs": [],
   "source": [
    "import pandas as pd"
   ]
  },
  {
   "cell_type": "code",
   "execution_count": 2,
   "metadata": {},
   "outputs": [
    {
     "data": {
      "text/html": [
       "<div>\n",
       "<style scoped>\n",
       "    .dataframe tbody tr th:only-of-type {\n",
       "        vertical-align: middle;\n",
       "    }\n",
       "\n",
       "    .dataframe tbody tr th {\n",
       "        vertical-align: top;\n",
       "    }\n",
       "\n",
       "    .dataframe thead th {\n",
       "        text-align: right;\n",
       "    }\n",
       "</style>\n",
       "<table border=\"1\" class=\"dataframe\">\n",
       "  <thead>\n",
       "    <tr style=\"text-align: right;\">\n",
       "      <th></th>\n",
       "      <th>chrom</th>\n",
       "      <th>start</th>\n",
       "      <th>end</th>\n",
       "      <th>celltype</th>\n",
       "    </tr>\n",
       "  </thead>\n",
       "  <tbody>\n",
       "    <tr>\n",
       "      <th>0</th>\n",
       "      <td>chr5</td>\n",
       "      <td>133468857</td>\n",
       "      <td>133468859</td>\n",
       "      <td>['CD14']</td>\n",
       "    </tr>\n",
       "    <tr>\n",
       "      <th>1</th>\n",
       "      <td>chr3</td>\n",
       "      <td>12354870</td>\n",
       "      <td>12354872</td>\n",
       "      <td>['CD14']</td>\n",
       "    </tr>\n",
       "    <tr>\n",
       "      <th>2</th>\n",
       "      <td>chr3</td>\n",
       "      <td>43695595</td>\n",
       "      <td>43695597</td>\n",
       "      <td>['CD14']</td>\n",
       "    </tr>\n",
       "    <tr>\n",
       "      <th>3</th>\n",
       "      <td>chr18</td>\n",
       "      <td>58730615</td>\n",
       "      <td>58730617</td>\n",
       "      <td>['CD14']</td>\n",
       "    </tr>\n",
       "    <tr>\n",
       "      <th>4</th>\n",
       "      <td>chr2</td>\n",
       "      <td>101180117</td>\n",
       "      <td>101180119</td>\n",
       "      <td>['CD14']</td>\n",
       "    </tr>\n",
       "  </tbody>\n",
       "</table>\n",
       "</div>"
      ],
      "text/plain": [
       "   chrom      start        end  celltype\n",
       "0   chr5  133468857  133468859  ['CD14']\n",
       "1   chr3   12354870   12354872  ['CD14']\n",
       "2   chr3   43695595   43695597  ['CD14']\n",
       "3  chr18   58730615   58730617  ['CD14']\n",
       "4   chr2  101180117  101180119  ['CD14']"
      ]
     },
     "execution_count": 2,
     "metadata": {},
     "output_type": "execute_result"
    }
   ],
   "source": [
    "assigned=\"/Users/irffanalahi/Research/weekly/for_10_8_20/my/adhocSM/OnlyWGBSList/CD4CD8poormanMHB_hypo.txt_assigned_withsortedpos.txt_mhb\"  ## this is robust: works if it has celltype column, regardless of others.\n",
    "outname=assigned+\"_featurecount.txt\"\n",
    "assdf=pd.read_csv(assigned,sep=\"\\t\")\n",
    "assdf.head()"
   ]
  },
  {
   "cell_type": "code",
   "execution_count": 3,
   "metadata": {},
   "outputs": [
    {
     "data": {
      "text/html": [
       "<div>\n",
       "<style scoped>\n",
       "    .dataframe tbody tr th:only-of-type {\n",
       "        vertical-align: middle;\n",
       "    }\n",
       "\n",
       "    .dataframe tbody tr th {\n",
       "        vertical-align: top;\n",
       "    }\n",
       "\n",
       "    .dataframe thead th {\n",
       "        text-align: right;\n",
       "    }\n",
       "</style>\n",
       "<table border=\"1\" class=\"dataframe\">\n",
       "  <thead>\n",
       "    <tr style=\"text-align: right;\">\n",
       "      <th></th>\n",
       "      <th>chrom</th>\n",
       "      <th>start</th>\n",
       "      <th>end</th>\n",
       "      <th>celltype</th>\n",
       "    </tr>\n",
       "  </thead>\n",
       "  <tbody>\n",
       "    <tr>\n",
       "      <th>0</th>\n",
       "      <td>chr5</td>\n",
       "      <td>133468857</td>\n",
       "      <td>133468859</td>\n",
       "      <td>['CD14']</td>\n",
       "    </tr>\n",
       "    <tr>\n",
       "      <th>1</th>\n",
       "      <td>chr3</td>\n",
       "      <td>12354870</td>\n",
       "      <td>12354872</td>\n",
       "      <td>['CD14']</td>\n",
       "    </tr>\n",
       "    <tr>\n",
       "      <th>2</th>\n",
       "      <td>chr3</td>\n",
       "      <td>43695595</td>\n",
       "      <td>43695597</td>\n",
       "      <td>['CD14']</td>\n",
       "    </tr>\n",
       "    <tr>\n",
       "      <th>3</th>\n",
       "      <td>chr18</td>\n",
       "      <td>58730615</td>\n",
       "      <td>58730617</td>\n",
       "      <td>['CD14']</td>\n",
       "    </tr>\n",
       "    <tr>\n",
       "      <th>4</th>\n",
       "      <td>chr2</td>\n",
       "      <td>101180117</td>\n",
       "      <td>101180119</td>\n",
       "      <td>['CD14']</td>\n",
       "    </tr>\n",
       "  </tbody>\n",
       "</table>\n",
       "</div>"
      ],
      "text/plain": [
       "   chrom      start        end  celltype\n",
       "0   chr5  133468857  133468859  ['CD14']\n",
       "1   chr3   12354870   12354872  ['CD14']\n",
       "2   chr3   43695595   43695597  ['CD14']\n",
       "3  chr18   58730615   58730617  ['CD14']\n",
       "4   chr2  101180117  101180119  ['CD14']"
      ]
     },
     "execution_count": 3,
     "metadata": {},
     "output_type": "execute_result"
    }
   ],
   "source": [
    "assdf['celltype'] = assdf.celltype.apply(lambda x: x[1:-1].split(','))\n",
    "assdf.head()"
   ]
  },
  {
   "cell_type": "code",
   "execution_count": 4,
   "metadata": {},
   "outputs": [],
   "source": [
    "allcells=assdf['celltype'].tolist()\n",
    "#print(allcells)"
   ]
  },
  {
   "cell_type": "code",
   "execution_count": 5,
   "metadata": {},
   "outputs": [],
   "source": [
    "flat_list = [item for sublist in allcells for item in sublist]\n",
    "#print(flat_list)"
   ]
  },
  {
   "cell_type": "code",
   "execution_count": 6,
   "metadata": {},
   "outputs": [
    {
     "name": "stdout",
     "output_type": "stream",
     "text": [
      "{\"'CD14'\": 298745, \"'CD19'\": 53831, \" 'CD56'\": 23, \"'CD56'\": 84617, \" 'CD19'\": 20, \"'CD4CD8'\": 4255}\n",
      "'CD14' ->  298745\n",
      "'CD19' ->  53831\n",
      " 'CD56' ->  23\n",
      "'CD56' ->  84617\n",
      " 'CD19' ->  20\n",
      "'CD4CD8' ->  4255\n"
     ]
    }
   ],
   "source": [
    "frequency = {}\n",
    "for item in flat_list:\n",
    "    if (item in frequency):\n",
    "        frequency[item] += 1\n",
    "    else:\n",
    "        frequency[item] = 1\n",
    "\n",
    "print(frequency)\n",
    "for key, value in frequency.items():\n",
    "    print(\"% s -> % d\" % (key, value))"
   ]
  },
  {
   "cell_type": "code",
   "execution_count": 7,
   "metadata": {},
   "outputs": [
    {
     "name": "stdout",
     "output_type": "stream",
     "text": [
      "done\n"
     ]
    }
   ],
   "source": [
    "with open(outname, 'w') as f:\n",
    "    print(frequency, file=f)\n",
    "print(\"done\")"
   ]
  }
 ],
 "metadata": {
  "kernelspec": {
   "display_name": "Python 3",
   "language": "python",
   "name": "python3"
  },
  "language_info": {
   "codemirror_mode": {
    "name": "ipython",
    "version": 3
   },
   "file_extension": ".py",
   "mimetype": "text/x-python",
   "name": "python",
   "nbconvert_exporter": "python",
   "pygments_lexer": "ipython3",
   "version": "3.6.7"
  }
 },
 "nbformat": 4,
 "nbformat_minor": 2
}
