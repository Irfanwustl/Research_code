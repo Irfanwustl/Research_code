{
 "cells": [
  {
   "cell_type": "code",
   "execution_count": 1,
   "metadata": {},
   "outputs": [],
   "source": [
    "import pandas as pd\n",
    "import os\n",
    "import glob\n",
    "import sys\n",
    "\n",
    "infolder = '/Users/irffanalahi/Research/Research_code/gitignorefolder/MHB_per_read/ReadBaseddeocn10/debugRD10/testwithneu/rd9run/afterrun/weightedresult/min1to9'\n",
    "outfile=infolder+\"_weightedresult_CSxOut.txt\"\n",
    "\n",
    "allfiles=glob.glob(infolder+\"/*.txt\")\n",
    "\n",
    "\n"
   ]
  },
  {
   "cell_type": "code",
   "execution_count": 2,
   "metadata": {},
   "outputs": [],
   "source": [
    "allmincpgcutoff=[]\n",
    "filecounter=0\n",
    "for infile in allfiles:\n",
    "    infile_basename=os.path.basename(infile)\n",
    "    mincpg=int((infile_basename.split('_mincpg')[1]).split('_')[0])\n",
    "    allmincpgcutoff.append(mincpg)\n",
    "    \n",
    "\n",
    "    indf=pd.read_csv(infile,sep=\"\\t\",index_col=0)\n",
    "    \n",
    "\n",
    "    \n",
    "    multdf=mincpg*indf\n",
    "    \n",
    "    if filecounter==0:\n",
    "        prevdf=multdf\n",
    "    \n",
    "    else:\n",
    "        prevdf=prevdf+multdf\n",
    "    \n",
    "    filecounter=filecounter+1\n",
    "\n",
    "    \n",
    "   \n",
    "    \n"
   ]
  },
  {
   "cell_type": "code",
   "execution_count": 3,
   "metadata": {},
   "outputs": [
    {
     "data": {
      "text/html": [
       "<div>\n",
       "<style scoped>\n",
       "    .dataframe tbody tr th:only-of-type {\n",
       "        vertical-align: middle;\n",
       "    }\n",
       "\n",
       "    .dataframe tbody tr th {\n",
       "        vertical-align: top;\n",
       "    }\n",
       "\n",
       "    .dataframe thead th {\n",
       "        text-align: right;\n",
       "    }\n",
       "</style>\n",
       "<table border=\"1\" class=\"dataframe\">\n",
       "  <thead>\n",
       "    <tr style=\"text-align: right;\">\n",
       "      <th></th>\n",
       "      <th>CD4</th>\n",
       "      <th>m4</th>\n",
       "      <th>Tr</th>\n",
       "      <th>CD8</th>\n",
       "      <th>m8</th>\n",
       "      <th>nB</th>\n",
       "      <th>mB</th>\n",
       "      <th>NK</th>\n",
       "      <th>Mn</th>\n",
       "      <th>mNeu</th>\n",
       "      <th>DC</th>\n",
       "      <th>Eo</th>\n",
       "      <th>Mg</th>\n",
       "      <th>Er</th>\n",
       "    </tr>\n",
       "    <tr>\n",
       "      <th>Mixture</th>\n",
       "      <th></th>\n",
       "      <th></th>\n",
       "      <th></th>\n",
       "      <th></th>\n",
       "      <th></th>\n",
       "      <th></th>\n",
       "      <th></th>\n",
       "      <th></th>\n",
       "      <th></th>\n",
       "      <th></th>\n",
       "      <th></th>\n",
       "      <th></th>\n",
       "      <th></th>\n",
       "      <th></th>\n",
       "    </tr>\n",
       "  </thead>\n",
       "  <tbody>\n",
       "    <tr>\n",
       "      <th>mNeuallrange_NR_1000000_insilmix47</th>\n",
       "      <td>0</td>\n",
       "      <td>0</td>\n",
       "      <td>0</td>\n",
       "      <td>0</td>\n",
       "      <td>0</td>\n",
       "      <td>0</td>\n",
       "      <td>0</td>\n",
       "      <td>0</td>\n",
       "      <td>0</td>\n",
       "      <td>38.833995</td>\n",
       "      <td>0</td>\n",
       "      <td>0</td>\n",
       "      <td>0</td>\n",
       "      <td>0</td>\n",
       "    </tr>\n",
       "  </tbody>\n",
       "</table>\n",
       "</div>"
      ],
      "text/plain": [
       "                                    CD4  m4  Tr  CD8  m8  nB  mB  NK  Mn  \\\n",
       "Mixture                                                                    \n",
       "mNeuallrange_NR_1000000_insilmix47    0   0   0    0   0   0   0   0   0   \n",
       "\n",
       "                                         mNeu  DC  Eo  Mg  Er  \n",
       "Mixture                                                        \n",
       "mNeuallrange_NR_1000000_insilmix47  38.833995   0   0   0   0  "
      ]
     },
     "execution_count": 3,
     "metadata": {},
     "output_type": "execute_result"
    }
   ],
   "source": [
    "prevdf.head()"
   ]
  },
  {
   "cell_type": "code",
   "execution_count": 4,
   "metadata": {},
   "outputs": [
    {
     "data": {
      "text/plain": [
       "45"
      ]
     },
     "execution_count": 4,
     "metadata": {},
     "output_type": "execute_result"
    }
   ],
   "source": [
    "normalizer=sum(allmincpgcutoff)\n",
    "normalizer"
   ]
  },
  {
   "cell_type": "code",
   "execution_count": 5,
   "metadata": {},
   "outputs": [],
   "source": [
    "adjustedRDresult=prevdf/normalizer\n",
    "\n",
    "adjustedRDresult.to_csv(outfile,sep=\"\\t\")"
   ]
  }
 ],
 "metadata": {
  "kernelspec": {
   "display_name": "Python 3",
   "language": "python",
   "name": "python3"
  },
  "language_info": {
   "codemirror_mode": {
    "name": "ipython",
    "version": 3
   },
   "file_extension": ".py",
   "mimetype": "text/x-python",
   "name": "python",
   "nbconvert_exporter": "python",
   "pygments_lexer": "ipython3",
   "version": "3.6.7"
  }
 },
 "nbformat": 4,
 "nbformat_minor": 2
}
