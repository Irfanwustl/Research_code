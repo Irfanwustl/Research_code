{
 "cells": [
  {
   "cell_type": "code",
   "execution_count": 1,
   "metadata": {},
   "outputs": [],
   "source": [
    "#### inv vs inv NOT same###\n",
    "\n",
    "import pandas as pd"
   ]
  },
  {
   "cell_type": "code",
   "execution_count": 2,
   "metadata": {},
   "outputs": [],
   "source": [
    "invfile=\"/Users/irffanalahi/Research/weekly/for_10_15_20/friday_morning/Analysis/codedevelop/corr/deconresult/atleast3cpg.txt_ABSreadcount_divisionedNormalized.txt_CSxOut.txt\"\n",
    "noinvfile=\"/Users/irffanalahi/Research/weekly/for_10_15_20/friday_morning/Analysis/codedevelop/corr_checkinvertedcomma/deconresult/atleast3cpg.txt_ABSreadcount_divisionedNormalized.txt_CSxOut.txt\"\n",
    "\n",
    "invdf=pd.read_csv(invfile,sep=\"\\t\")\n",
    "noinvdf=pd.read_csv(noinvfile,sep=\"\\t\")\n"
   ]
  },
  {
   "cell_type": "code",
   "execution_count": 3,
   "metadata": {},
   "outputs": [
    {
     "data": {
      "text/html": [
       "<div>\n",
       "<style scoped>\n",
       "    .dataframe tbody tr th:only-of-type {\n",
       "        vertical-align: middle;\n",
       "    }\n",
       "\n",
       "    .dataframe tbody tr th {\n",
       "        vertical-align: top;\n",
       "    }\n",
       "\n",
       "    .dataframe thead th {\n",
       "        text-align: right;\n",
       "    }\n",
       "</style>\n",
       "<table border=\"1\" class=\"dataframe\">\n",
       "  <thead>\n",
       "    <tr style=\"text-align: right;\">\n",
       "      <th></th>\n",
       "      <th>Mixture</th>\n",
       "      <th>'CD14'</th>\n",
       "      <th>'CD19'</th>\n",
       "      <th>'CD4'</th>\n",
       "      <th>'CD56'</th>\n",
       "      <th>'CD8'</th>\n",
       "    </tr>\n",
       "  </thead>\n",
       "  <tbody>\n",
       "    <tr>\n",
       "      <th>0</th>\n",
       "      <td>BULK-PBMC-1389.bg</td>\n",
       "      <td>0.491144</td>\n",
       "      <td>0.126583</td>\n",
       "      <td>0.083168</td>\n",
       "      <td>0.216485</td>\n",
       "      <td>0.082620</td>\n",
       "    </tr>\n",
       "    <tr>\n",
       "      <th>1</th>\n",
       "      <td>BULK-PBMC-1382.bg</td>\n",
       "      <td>0.693479</td>\n",
       "      <td>0.036266</td>\n",
       "      <td>0.114845</td>\n",
       "      <td>0.096537</td>\n",
       "      <td>0.058873</td>\n",
       "    </tr>\n",
       "    <tr>\n",
       "      <th>2</th>\n",
       "      <td>BULK-PBMC-1313.bg</td>\n",
       "      <td>0.452232</td>\n",
       "      <td>0.121049</td>\n",
       "      <td>0.137795</td>\n",
       "      <td>0.201558</td>\n",
       "      <td>0.087366</td>\n",
       "    </tr>\n",
       "  </tbody>\n",
       "</table>\n",
       "</div>"
      ],
      "text/plain": [
       "             Mixture    'CD14'    'CD19'     'CD4'    'CD56'     'CD8'\n",
       "0  BULK-PBMC-1389.bg  0.491144  0.126583  0.083168  0.216485  0.082620\n",
       "1  BULK-PBMC-1382.bg  0.693479  0.036266  0.114845  0.096537  0.058873\n",
       "2  BULK-PBMC-1313.bg  0.452232  0.121049  0.137795  0.201558  0.087366"
      ]
     },
     "execution_count": 3,
     "metadata": {},
     "output_type": "execute_result"
    }
   ],
   "source": [
    "invdf.head()"
   ]
  },
  {
   "cell_type": "code",
   "execution_count": 4,
   "metadata": {},
   "outputs": [
    {
     "data": {
      "text/html": [
       "<div>\n",
       "<style scoped>\n",
       "    .dataframe tbody tr th:only-of-type {\n",
       "        vertical-align: middle;\n",
       "    }\n",
       "\n",
       "    .dataframe tbody tr th {\n",
       "        vertical-align: top;\n",
       "    }\n",
       "\n",
       "    .dataframe thead th {\n",
       "        text-align: right;\n",
       "    }\n",
       "</style>\n",
       "<table border=\"1\" class=\"dataframe\">\n",
       "  <thead>\n",
       "    <tr style=\"text-align: right;\">\n",
       "      <th></th>\n",
       "      <th>Mixture</th>\n",
       "      <th>CD14</th>\n",
       "      <th>CD19</th>\n",
       "      <th>CD4</th>\n",
       "      <th>CD56</th>\n",
       "      <th>CD8</th>\n",
       "    </tr>\n",
       "  </thead>\n",
       "  <tbody>\n",
       "    <tr>\n",
       "      <th>0</th>\n",
       "      <td>BULK-PBMC-1389.bg</td>\n",
       "      <td>0.491144</td>\n",
       "      <td>0.126583</td>\n",
       "      <td>0.083168</td>\n",
       "      <td>0.216485</td>\n",
       "      <td>0.082620</td>\n",
       "    </tr>\n",
       "    <tr>\n",
       "      <th>1</th>\n",
       "      <td>BULK-PBMC-1382.bg</td>\n",
       "      <td>0.693479</td>\n",
       "      <td>0.036266</td>\n",
       "      <td>0.114845</td>\n",
       "      <td>0.096537</td>\n",
       "      <td>0.058873</td>\n",
       "    </tr>\n",
       "    <tr>\n",
       "      <th>2</th>\n",
       "      <td>BULK-PBMC-1313.bg</td>\n",
       "      <td>0.452232</td>\n",
       "      <td>0.121049</td>\n",
       "      <td>0.137795</td>\n",
       "      <td>0.201558</td>\n",
       "      <td>0.087366</td>\n",
       "    </tr>\n",
       "  </tbody>\n",
       "</table>\n",
       "</div>"
      ],
      "text/plain": [
       "             Mixture      CD14      CD19       CD4      CD56       CD8\n",
       "0  BULK-PBMC-1389.bg  0.491144  0.126583  0.083168  0.216485  0.082620\n",
       "1  BULK-PBMC-1382.bg  0.693479  0.036266  0.114845  0.096537  0.058873\n",
       "2  BULK-PBMC-1313.bg  0.452232  0.121049  0.137795  0.201558  0.087366"
      ]
     },
     "execution_count": 4,
     "metadata": {},
     "output_type": "execute_result"
    }
   ],
   "source": [
    "noinvdf.head()"
   ]
  },
  {
   "cell_type": "code",
   "execution_count": 5,
   "metadata": {},
   "outputs": [
    {
     "data": {
      "text/plain": [
       "array([ True, False, False, False, False, False])"
      ]
     },
     "execution_count": 5,
     "metadata": {},
     "output_type": "execute_result"
    }
   ],
   "source": [
    "invdf.columns==noinvdf.columns"
   ]
  }
 ],
 "metadata": {
  "kernelspec": {
   "display_name": "Python 3",
   "language": "python",
   "name": "python3"
  },
  "language_info": {
   "codemirror_mode": {
    "name": "ipython",
    "version": 3
   },
   "file_extension": ".py",
   "mimetype": "text/x-python",
   "name": "python",
   "nbconvert_exporter": "python",
   "pygments_lexer": "ipython3",
   "version": "3.6.7"
  }
 },
 "nbformat": 4,
 "nbformat_minor": 2
}
