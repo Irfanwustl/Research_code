{
 "cells": [
  {
   "cell_type": "code",
   "execution_count": 1,
   "metadata": {},
   "outputs": [
    {
     "data": {
      "text/plain": [
       "['/Users/irffanalahi/Research/Research_code/gitignorefolder/met/pairwise/aftermet/forfolderwiseinsruction/infolder/c.txt',\n",
       " '/Users/irffanalahi/Research/Research_code/gitignorefolder/met/pairwise/aftermet/forfolderwiseinsruction/infolder/b.txt',\n",
       " '/Users/irffanalahi/Research/Research_code/gitignorefolder/met/pairwise/aftermet/forfolderwiseinsruction/infolder/a.txt']"
      ]
     },
     "execution_count": 1,
     "metadata": {},
     "output_type": "execute_result"
    }
   ],
   "source": [
    "\n",
    "import pybedtools\n",
    "import pandas as pd\n",
    "\n",
    "import glob\n",
    "\n",
    "infol='/Users/irffanalahi/Research/Research_code/gitignorefolder/met/pairwise/aftermet/forfolderwiseinsruction/infolder'\n",
    "\n",
    "allfiles=glob.glob(infol+\"/*.txt\")\n",
    "allfiles"
   ]
  },
  {
   "cell_type": "code",
   "execution_count": 2,
   "metadata": {},
   "outputs": [
    {
     "data": {
      "text/plain": [
       "'/Users/irffanalahi/Research/Research_code/gitignorefolder/met/pairwise/aftermet/forfolderwiseinsruction/infolder/c.txt'"
      ]
     },
     "execution_count": 2,
     "metadata": {},
     "output_type": "execute_result"
    }
   ],
   "source": [
    "firstfile=allfiles.pop(0)\n",
    "firstfile"
   ]
  },
  {
   "cell_type": "code",
   "execution_count": 3,
   "metadata": {},
   "outputs": [
    {
     "data": {
      "text/plain": [
       "['/Users/irffanalahi/Research/Research_code/gitignorefolder/met/pairwise/aftermet/forfolderwiseinsruction/infolder/b.txt',\n",
       " '/Users/irffanalahi/Research/Research_code/gitignorefolder/met/pairwise/aftermet/forfolderwiseinsruction/infolder/a.txt']"
      ]
     },
     "execution_count": 3,
     "metadata": {},
     "output_type": "execute_result"
    }
   ],
   "source": [
    "allfiles"
   ]
  },
  {
   "cell_type": "code",
   "execution_count": 8,
   "metadata": {},
   "outputs": [],
   "source": [
    "currentfile=pybedtools.BedTool(firstfile)\n",
    "\n",
    "for afile in allfiles:\n",
    "    abed=pybedtools.BedTool(afile)\n",
    "    currentfile=currentfile.intersect(abed,wa=True, wb=True)\n",
    "   \n",
    "\n",
    "\n",
    "\n",
    "    "
   ]
  },
  {
   "cell_type": "code",
   "execution_count": 9,
   "metadata": {},
   "outputs": [
    {
     "data": {
      "text/plain": [
       "<BedTool(/Users/irffanalahi/Research/Research_code/gitignorefolder/met/pairwise/aftermet/forfolderwiseinsruction/infolder.bed)>"
      ]
     },
     "execution_count": 9,
     "metadata": {},
     "output_type": "execute_result"
    }
   ],
   "source": [
    "currentfile.saveas(infol+\".bed\")"
   ]
  }
 ],
 "metadata": {
  "kernelspec": {
   "display_name": "Python 3",
   "language": "python",
   "name": "python3"
  },
  "language_info": {
   "codemirror_mode": {
    "name": "ipython",
    "version": 3
   },
   "file_extension": ".py",
   "mimetype": "text/x-python",
   "name": "python",
   "nbconvert_exporter": "python",
   "pygments_lexer": "ipython3",
   "version": "3.6.7"
  }
 },
 "nbformat": 4,
 "nbformat_minor": 2
}
