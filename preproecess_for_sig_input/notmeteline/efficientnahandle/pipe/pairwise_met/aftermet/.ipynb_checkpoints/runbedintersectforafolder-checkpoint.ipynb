{
 "cells": [
  {
   "cell_type": "code",
   "execution_count": 1,
   "metadata": {},
   "outputs": [
    {
     "data": {
      "text/plain": [
       "['/Users/irffanalahi/Research/Research_code/gitignorefolder/met/pairwise/aftermet/forfolderwiseinsruction/infolder/c.txt',\n",
       " '/Users/irffanalahi/Research/Research_code/gitignorefolder/met/pairwise/aftermet/forfolderwiseinsruction/infolder/b.txt',\n",
       " '/Users/irffanalahi/Research/Research_code/gitignorefolder/met/pairwise/aftermet/forfolderwiseinsruction/infolder/a.txt']"
      ]
     },
     "execution_count": 1,
     "metadata": {},
     "output_type": "execute_result"
    }
   ],
   "source": [
    "\n",
    "import pybedtools\n",
    "import pandas as pd\n",
    "\n",
    "import glob\n",
    "\n",
    "infol='/Users/irffanalahi/Research/Research_code/gitignorefolder/met/pairwise/aftermet/forfolderwiseinsruction/infolder'\n",
    "\n",
    "allfiles=glob.glob(infol+\"/*.txt\")\n",
    "allfiles"
   ]
  },
  {
   "cell_type": "code",
   "execution_count": 2,
   "metadata": {},
   "outputs": [
    {
     "data": {
      "text/plain": [
       "'/Users/irffanalahi/Research/Research_code/gitignorefolder/met/pairwise/aftermet/forfolderwiseinsruction/infolder/c.txt'"
      ]
     },
     "execution_count": 2,
     "metadata": {},
     "output_type": "execute_result"
    }
   ],
   "source": [
    "firstfile=allfiles.pop(0)\n",
    "firstfile"
   ]
  },
  {
   "cell_type": "code",
   "execution_count": 3,
   "metadata": {},
   "outputs": [
    {
     "data": {
      "text/plain": [
       "['/Users/irffanalahi/Research/Research_code/gitignorefolder/met/pairwise/aftermet/forfolderwiseinsruction/infolder/b.txt',\n",
       " '/Users/irffanalahi/Research/Research_code/gitignorefolder/met/pairwise/aftermet/forfolderwiseinsruction/infolder/a.txt']"
      ]
     },
     "execution_count": 3,
     "metadata": {},
     "output_type": "execute_result"
    }
   ],
   "source": [
    "allfiles"
   ]
  },
  {
   "cell_type": "code",
   "execution_count": 7,
   "metadata": {},
   "outputs": [
    {
     "name": "stdout",
     "output_type": "stream",
     "text": [
      "chr1\t5\t600\tepcam\tchr1\t4\t6\tepcam\n",
      "chr1\t5\t600\tepcam\tchr1\t5\t11\tpbl\n",
      "chr1\t8\t9\tpbl\tchr1\t5\t11\tpbl\n",
      "chr6\t23\t100\ttil\tchr6\t67\t445\ttil\n",
      "\n",
      "chr1\t5\t600\tepcam\tchr1\t4\t6\tepcam\tchr1\t10\t20\tEPCAM\tNM_001276352.2_exon_0_0_chr1_67092165_r\t0\t-\tchr1\t670\t672\tC1orf141\n",
      "chr1\t5\t600\tepcam\tchr1\t4\t6\tepcam\tchr1\t11\t20\tDDDD\tgggg\t0\t+\tchr6\t67\t445\tjki\n",
      "chr1\t5\t600\tepcam\tchr1\t4\t6\tepcam\tchr1\t13\t21\thjhjb\tnhju\t0\t-\tchr8\t90\t92\tasd\n",
      "chr1\t5\t600\tepcam\tchr1\t5\t11\tpbl\tchr1\t10\t20\tEPCAM\tNM_001276352.2_exon_0_0_chr1_67092165_r\t0\t-\tchr1\t670\t672\tC1orf141\n",
      "chr1\t5\t600\tepcam\tchr1\t5\t11\tpbl\tchr1\t11\t20\tDDDD\tgggg\t0\t+\tchr6\t67\t445\tjki\n",
      "chr1\t5\t600\tepcam\tchr1\t5\t11\tpbl\tchr1\t13\t21\thjhjb\tnhju\t0\t-\tchr8\t90\t92\tasd\n",
      "\n",
      "chr1\t5\t600\tepcam\tchr1\t4\t6\tepcam\tchr1\t10\t20\tEPCAM\tNM_001276352.2_exon_0_0_chr1_67092165_r\t0\t-\tchr1\t670\t672\tC1orf141\n",
      "chr1\t5\t600\tepcam\tchr1\t4\t6\tepcam\tchr1\t11\t20\tDDDD\tgggg\t0\t+\tchr6\t67\t445\tjki\n",
      "chr1\t5\t600\tepcam\tchr1\t4\t6\tepcam\tchr1\t13\t21\thjhjb\tnhju\t0\t-\tchr8\t90\t92\tasd\n",
      "chr1\t5\t600\tepcam\tchr1\t5\t11\tpbl\tchr1\t10\t20\tEPCAM\tNM_001276352.2_exon_0_0_chr1_67092165_r\t0\t-\tchr1\t670\t672\tC1orf141\n",
      "chr1\t5\t600\tepcam\tchr1\t5\t11\tpbl\tchr1\t11\t20\tDDDD\tgggg\t0\t+\tchr6\t67\t445\tjki\n",
      "chr1\t5\t600\tepcam\tchr1\t5\t11\tpbl\tchr1\t13\t21\thjhjb\tnhju\t0\t-\tchr8\t90\t92\tasd\n",
      "\n"
     ]
    }
   ],
   "source": [
    "currentfile=pybedtools.BedTool(firstfile)\n",
    "\n",
    "for afile in allfiles:\n",
    "    abed=pybedtools.BedTool(afile)\n",
    "    currentfile=currentfile.intersect(abed,wa=True, wb=True)\n",
    "   \n",
    "\n",
    "print(currentfile)\n",
    "\n",
    "    "
   ]
  }
 ],
 "metadata": {
  "kernelspec": {
   "display_name": "Python 3",
   "language": "python",
   "name": "python3"
  },
  "language_info": {
   "codemirror_mode": {
    "name": "ipython",
    "version": 3
   },
   "file_extension": ".py",
   "mimetype": "text/x-python",
   "name": "python",
   "nbconvert_exporter": "python",
   "pygments_lexer": "ipython3",
   "version": "3.6.7"
  }
 },
 "nbformat": 4,
 "nbformat_minor": 2
}
