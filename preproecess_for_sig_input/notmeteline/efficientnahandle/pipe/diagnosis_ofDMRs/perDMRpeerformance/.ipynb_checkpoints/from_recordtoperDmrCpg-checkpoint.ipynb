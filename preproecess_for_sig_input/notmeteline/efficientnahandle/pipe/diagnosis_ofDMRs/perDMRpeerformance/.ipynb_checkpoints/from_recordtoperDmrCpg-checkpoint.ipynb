{
 "cells": [
  {
   "cell_type": "code",
   "execution_count": 1,
   "metadata": {},
   "outputs": [
    {
     "data": {
      "text/html": [
       "<div>\n",
       "<style scoped>\n",
       "    .dataframe tbody tr th:only-of-type {\n",
       "        vertical-align: middle;\n",
       "    }\n",
       "\n",
       "    .dataframe tbody tr th {\n",
       "        vertical-align: top;\n",
       "    }\n",
       "\n",
       "    .dataframe thead th {\n",
       "        text-align: right;\n",
       "    }\n",
       "</style>\n",
       "<table border=\"1\" class=\"dataframe\">\n",
       "  <thead>\n",
       "    <tr style=\"text-align: right;\">\n",
       "      <th></th>\n",
       "      <th>DMRchr</th>\n",
       "      <th>DMRstart</th>\n",
       "      <th>DMRend</th>\n",
       "      <th>q</th>\n",
       "      <th>diff</th>\n",
       "      <th>chrom</th>\n",
       "      <th>start</th>\n",
       "      <th>end</th>\n",
       "      <th>celltype</th>\n",
       "    </tr>\n",
       "  </thead>\n",
       "  <tbody>\n",
       "    <tr>\n",
       "      <th>0</th>\n",
       "      <td>chr10</td>\n",
       "      <td>68525812</td>\n",
       "      <td>68526086</td>\n",
       "      <td>3.090000e-14</td>\n",
       "      <td>-0.900649</td>\n",
       "      <td>chr10</td>\n",
       "      <td>68525811</td>\n",
       "      <td>68525813</td>\n",
       "      <td>[MEL_TUMOR]</td>\n",
       "    </tr>\n",
       "    <tr>\n",
       "      <th>1</th>\n",
       "      <td>chr10</td>\n",
       "      <td>68525812</td>\n",
       "      <td>68526086</td>\n",
       "      <td>3.090000e-14</td>\n",
       "      <td>-0.900649</td>\n",
       "      <td>chr10</td>\n",
       "      <td>68525860</td>\n",
       "      <td>68525862</td>\n",
       "      <td>[MEL_TUMOR]</td>\n",
       "    </tr>\n",
       "    <tr>\n",
       "      <th>2</th>\n",
       "      <td>chr10</td>\n",
       "      <td>68525812</td>\n",
       "      <td>68526086</td>\n",
       "      <td>3.090000e-14</td>\n",
       "      <td>-0.900649</td>\n",
       "      <td>chr10</td>\n",
       "      <td>68525961</td>\n",
       "      <td>68525963</td>\n",
       "      <td>[MEL_TUMOR]</td>\n",
       "    </tr>\n",
       "    <tr>\n",
       "      <th>3</th>\n",
       "      <td>chr10</td>\n",
       "      <td>68525812</td>\n",
       "      <td>68526086</td>\n",
       "      <td>3.090000e-14</td>\n",
       "      <td>-0.900649</td>\n",
       "      <td>chr10</td>\n",
       "      <td>68525969</td>\n",
       "      <td>68525971</td>\n",
       "      <td>[MEL_TUMOR]</td>\n",
       "    </tr>\n",
       "    <tr>\n",
       "      <th>4</th>\n",
       "      <td>chr10</td>\n",
       "      <td>68525812</td>\n",
       "      <td>68526086</td>\n",
       "      <td>3.090000e-14</td>\n",
       "      <td>-0.900649</td>\n",
       "      <td>chr10</td>\n",
       "      <td>68526037</td>\n",
       "      <td>68526039</td>\n",
       "      <td>[MEL_TUMOR]</td>\n",
       "    </tr>\n",
       "  </tbody>\n",
       "</table>\n",
       "</div>"
      ],
      "text/plain": [
       "  DMRchr  DMRstart    DMRend             q      diff  chrom     start  \\\n",
       "0  chr10  68525812  68526086  3.090000e-14 -0.900649  chr10  68525811   \n",
       "1  chr10  68525812  68526086  3.090000e-14 -0.900649  chr10  68525860   \n",
       "2  chr10  68525812  68526086  3.090000e-14 -0.900649  chr10  68525961   \n",
       "3  chr10  68525812  68526086  3.090000e-14 -0.900649  chr10  68525969   \n",
       "4  chr10  68525812  68526086  3.090000e-14 -0.900649  chr10  68526037   \n",
       "\n",
       "        end     celltype  \n",
       "0  68525813  [MEL_TUMOR]  \n",
       "1  68525862  [MEL_TUMOR]  \n",
       "2  68525963  [MEL_TUMOR]  \n",
       "3  68525971  [MEL_TUMOR]  \n",
       "4  68526039  [MEL_TUMOR]  "
      ]
     },
     "execution_count": 1,
     "metadata": {},
     "output_type": "execute_result"
    }
   ],
   "source": [
    "import pandas as pd\n",
    "recordfile=\"/Users/irffanalahi/Research/Research_update/SM/melcfdref/bestworkingref/PBLtilMel_meldiff-.7_other-.1_q0.00001_sorted4_1_singleCpG_final_record.txt\"\n",
    "outfolder=\"/Users/irffanalahi/Research/Research_update/SM/melcfdref/bestworkingref/perDMRcpg\"\n",
    "recorddf=pd.read_csv(recordfile,sep=\"\\t\")\n",
    "recorddf.head()"
   ]
  },
  {
   "cell_type": "code",
   "execution_count": 2,
   "metadata": {},
   "outputs": [],
   "source": [
    "grouped=recorddf.groupby([\"DMRchr\",\"DMRstart\",\"DMRend\"])"
   ]
  },
  {
   "cell_type": "code",
   "execution_count": 3,
   "metadata": {},
   "outputs": [],
   "source": [
    "def convertTuple(tup):\n",
    "    str =  '_'.join(tup)\n",
    "    return str"
   ]
  },
  {
   "cell_type": "code",
   "execution_count": 4,
   "metadata": {},
   "outputs": [],
   "source": [
    "for name,group in grouped:\n",
    "    group[['chrom','start','end','celltype']].to_csv(outfolder+\"/\"+convertTuple(map(str, name))+\".txt\",sep=\"\\t\",index=False)\n",
    "    \n"
   ]
  }
 ],
 "metadata": {
  "kernelspec": {
   "display_name": "Python 3",
   "language": "python",
   "name": "python3"
  },
  "language_info": {
   "codemirror_mode": {
    "name": "ipython",
    "version": 3
   },
   "file_extension": ".py",
   "mimetype": "text/x-python",
   "name": "python",
   "nbconvert_exporter": "python",
   "pygments_lexer": "ipython3",
   "version": "3.6.7"
  }
 },
 "nbformat": 4,
 "nbformat_minor": 2
}
