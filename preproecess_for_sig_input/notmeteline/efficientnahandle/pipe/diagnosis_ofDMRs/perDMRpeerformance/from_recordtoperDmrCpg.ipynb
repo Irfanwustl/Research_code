{
 "cells": [
  {
   "cell_type": "code",
   "execution_count": 1,
   "metadata": {},
   "outputs": [
    {
     "data": {
      "text/html": [
       "<div>\n",
       "<style scoped>\n",
       "    .dataframe tbody tr th:only-of-type {\n",
       "        vertical-align: middle;\n",
       "    }\n",
       "\n",
       "    .dataframe tbody tr th {\n",
       "        vertical-align: top;\n",
       "    }\n",
       "\n",
       "    .dataframe thead th {\n",
       "        text-align: right;\n",
       "    }\n",
       "</style>\n",
       "<table border=\"1\" class=\"dataframe\">\n",
       "  <thead>\n",
       "    <tr style=\"text-align: right;\">\n",
       "      <th></th>\n",
       "      <th>DMRchr</th>\n",
       "      <th>DMRstart</th>\n",
       "      <th>DMRend</th>\n",
       "      <th>q</th>\n",
       "      <th>diff</th>\n",
       "      <th>chrom</th>\n",
       "      <th>start</th>\n",
       "      <th>end</th>\n",
       "      <th>celltype</th>\n",
       "    </tr>\n",
       "  </thead>\n",
       "  <tbody>\n",
       "    <tr>\n",
       "      <th>0</th>\n",
       "      <td>chr9</td>\n",
       "      <td>127977559</td>\n",
       "      <td>127977647</td>\n",
       "      <td>0.000009</td>\n",
       "      <td>-0.482432</td>\n",
       "      <td>chr9</td>\n",
       "      <td>127977558</td>\n",
       "      <td>127977560</td>\n",
       "      <td>[TIL]</td>\n",
       "    </tr>\n",
       "    <tr>\n",
       "      <th>1</th>\n",
       "      <td>chr9</td>\n",
       "      <td>127977559</td>\n",
       "      <td>127977647</td>\n",
       "      <td>0.000009</td>\n",
       "      <td>-0.482432</td>\n",
       "      <td>chr9</td>\n",
       "      <td>127977573</td>\n",
       "      <td>127977575</td>\n",
       "      <td>[TIL]</td>\n",
       "    </tr>\n",
       "    <tr>\n",
       "      <th>2</th>\n",
       "      <td>chr9</td>\n",
       "      <td>127977559</td>\n",
       "      <td>127977647</td>\n",
       "      <td>0.000009</td>\n",
       "      <td>-0.482432</td>\n",
       "      <td>chr9</td>\n",
       "      <td>127977617</td>\n",
       "      <td>127977619</td>\n",
       "      <td>[TIL]</td>\n",
       "    </tr>\n",
       "    <tr>\n",
       "      <th>3</th>\n",
       "      <td>chr9</td>\n",
       "      <td>127977559</td>\n",
       "      <td>127977647</td>\n",
       "      <td>0.000009</td>\n",
       "      <td>-0.482432</td>\n",
       "      <td>chr9</td>\n",
       "      <td>127977629</td>\n",
       "      <td>127977631</td>\n",
       "      <td>[TIL]</td>\n",
       "    </tr>\n",
       "    <tr>\n",
       "      <th>4</th>\n",
       "      <td>chr9</td>\n",
       "      <td>127977559</td>\n",
       "      <td>127977647</td>\n",
       "      <td>0.000009</td>\n",
       "      <td>-0.482432</td>\n",
       "      <td>chr9</td>\n",
       "      <td>127977645</td>\n",
       "      <td>127977647</td>\n",
       "      <td>[TIL]</td>\n",
       "    </tr>\n",
       "  </tbody>\n",
       "</table>\n",
       "</div>"
      ],
      "text/plain": [
       "  DMRchr   DMRstart     DMRend         q      diff chrom      start  \\\n",
       "0   chr9  127977559  127977647  0.000009 -0.482432  chr9  127977558   \n",
       "1   chr9  127977559  127977647  0.000009 -0.482432  chr9  127977573   \n",
       "2   chr9  127977559  127977647  0.000009 -0.482432  chr9  127977617   \n",
       "3   chr9  127977559  127977647  0.000009 -0.482432  chr9  127977629   \n",
       "4   chr9  127977559  127977647  0.000009 -0.482432  chr9  127977645   \n",
       "\n",
       "         end celltype  \n",
       "0  127977560    [TIL]  \n",
       "1  127977575    [TIL]  \n",
       "2  127977619    [TIL]  \n",
       "3  127977631    [TIL]  \n",
       "4  127977647    [TIL]  "
      ]
     },
     "execution_count": 1,
     "metadata": {},
     "output_type": "execute_result"
    }
   ],
   "source": [
    "import pandas as pd\n",
    "recordfile=\"/Users/irffanalahi/Research/Research_update/SM/melcfdref/bestworkingref/PBLtilMel_meldiff-.7_other-.1_q0.00001_sorted4_1_singleCpG_final_record_TIL.txt\"\n",
    "outfolder=\"/Users/irffanalahi/Research/Research_update/SM/melcfdref/bestworkingref/perDMRcpgTIL\"\n",
    "recorddf=pd.read_csv(recordfile,sep=\"\\t\")\n",
    "recorddf.head()"
   ]
  },
  {
   "cell_type": "code",
   "execution_count": 2,
   "metadata": {},
   "outputs": [],
   "source": [
    "grouped=recorddf.groupby([\"DMRchr\",\"DMRstart\",\"DMRend\"])"
   ]
  },
  {
   "cell_type": "code",
   "execution_count": 3,
   "metadata": {},
   "outputs": [],
   "source": [
    "def convertTuple(tup):\n",
    "    str =  '_'.join(tup)\n",
    "    return str"
   ]
  },
  {
   "cell_type": "code",
   "execution_count": 4,
   "metadata": {},
   "outputs": [],
   "source": [
    "for name,group in grouped:\n",
    "    group[['chrom','start','end','celltype']].to_csv(outfolder+\"/\"+convertTuple(map(str, name))+\".txt\",sep=\"\\t\",index=False)\n",
    "    \n"
   ]
  }
 ],
 "metadata": {
  "kernelspec": {
   "display_name": "Python 3",
   "language": "python",
   "name": "python3"
  },
  "language_info": {
   "codemirror_mode": {
    "name": "ipython",
    "version": 3
   },
   "file_extension": ".py",
   "mimetype": "text/x-python",
   "name": "python",
   "nbconvert_exporter": "python",
   "pygments_lexer": "ipython3",
   "version": "3.6.7"
  }
 },
 "nbformat": 4,
 "nbformat_minor": 2
}
