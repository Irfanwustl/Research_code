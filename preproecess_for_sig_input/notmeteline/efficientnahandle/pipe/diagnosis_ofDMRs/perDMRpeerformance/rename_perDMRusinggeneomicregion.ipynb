{
 "cells": [
  {
   "cell_type": "code",
   "execution_count": 1,
   "metadata": {},
   "outputs": [
    {
     "data": {
      "text/html": [
       "<div>\n",
       "<style scoped>\n",
       "    .dataframe tbody tr th:only-of-type {\n",
       "        vertical-align: middle;\n",
       "    }\n",
       "\n",
       "    .dataframe tbody tr th {\n",
       "        vertical-align: top;\n",
       "    }\n",
       "\n",
       "    .dataframe thead th {\n",
       "        text-align: right;\n",
       "    }\n",
       "</style>\n",
       "<table border=\"1\" class=\"dataframe\">\n",
       "  <thead>\n",
       "    <tr style=\"text-align: right;\">\n",
       "      <th></th>\n",
       "      <th>chrom</th>\n",
       "      <th>start</th>\n",
       "      <th>end</th>\n",
       "      <th>Gene</th>\n",
       "    </tr>\n",
       "  </thead>\n",
       "  <tbody>\n",
       "    <tr>\n",
       "      <th>0</th>\n",
       "      <td>chr9</td>\n",
       "      <td>127977559</td>\n",
       "      <td>127977647</td>\n",
       "      <td>FAM102A</td>\n",
       "    </tr>\n",
       "    <tr>\n",
       "      <th>1</th>\n",
       "      <td>chr3</td>\n",
       "      <td>114318399</td>\n",
       "      <td>114318771</td>\n",
       "      <td>MIR568</td>\n",
       "    </tr>\n",
       "    <tr>\n",
       "      <th>2</th>\n",
       "      <td>chr3</td>\n",
       "      <td>114318399</td>\n",
       "      <td>114318771</td>\n",
       "      <td>ZBTB20</td>\n",
       "    </tr>\n",
       "    <tr>\n",
       "      <th>3</th>\n",
       "      <td>chr3</td>\n",
       "      <td>114318399</td>\n",
       "      <td>114318771</td>\n",
       "      <td>TIGIT</td>\n",
       "    </tr>\n",
       "    <tr>\n",
       "      <th>4</th>\n",
       "      <td>chr9</td>\n",
       "      <td>37528929</td>\n",
       "      <td>37529490</td>\n",
       "      <td>FBXO10</td>\n",
       "    </tr>\n",
       "  </tbody>\n",
       "</table>\n",
       "</div>"
      ],
      "text/plain": [
       "  chrom      start        end     Gene\n",
       "0  chr9  127977559  127977647  FAM102A\n",
       "1  chr3  114318399  114318771   MIR568\n",
       "2  chr3  114318399  114318771   ZBTB20\n",
       "3  chr3  114318399  114318771    TIGIT\n",
       "4  chr9   37528929   37529490   FBXO10"
      ]
     },
     "execution_count": 1,
     "metadata": {},
     "output_type": "execute_result"
    }
   ],
   "source": [
    "import pandas as pd\n",
    "import glob\n",
    "import os.path\n",
    "perDMRcpgfolder=\"/Users/irffanalahi/Research/Research_update/SM/melcfdref/bestworkingref/perDMRcpgTIL\"\n",
    "genomicregion=\"/Users/irffanalahi/Research/Research_update/SM/melcfdref/bestworkingref/corresgenesnoregionTIL.txt\"\n",
    "\n",
    "genomicregiondf=pd.read_csv(genomicregion,sep=\"\\t\")\n",
    "genomicregiondf.head()"
   ]
  },
  {
   "cell_type": "code",
   "execution_count": 2,
   "metadata": {},
   "outputs": [],
   "source": [
    "def convertTuple(tup):\n",
    "    str =  '_'.join(tup)\n",
    "    return str"
   ]
  },
  {
   "cell_type": "code",
   "execution_count": 3,
   "metadata": {},
   "outputs": [],
   "source": [
    "def newnamegenerate(origname,dmrchr,dmrstart,dmrend):\n",
    "    subset=genomicregiondf[(genomicregiondf['chrom']==dmrchr) & (genomicregiondf['start']==dmrstart) & (genomicregiondf['end']==dmrend)]\n",
    "    \n",
    "    \n",
    "    genelist=subset['Gene'].tolist()\n",
    "    newname=origname+\"_\"+convertTuple(genelist)+\".txt\"\n",
    "    return newname\n",
    "    "
   ]
  },
  {
   "cell_type": "code",
   "execution_count": 4,
   "metadata": {},
   "outputs": [],
   "source": [
    "perDMRcpgfilelist=glob.glob(perDMRcpgfolder+\"/*.txt\")\n",
    "for file in perDMRcpgfilelist:\n",
    "    base=os.path.basename(file)\n",
    "    base=os.path.splitext(base)[0]\n",
    "    strlist=base.split(\"_\")\n",
    "    chrom=strlist[0]\n",
    "    start=int(strlist[1])\n",
    "    end=int(strlist[2])\n",
    "    \n",
    "    newname=newnamegenerate(file,chrom,start,end)\n",
    "    os.rename(file, newname)"
   ]
  }
 ],
 "metadata": {
  "kernelspec": {
   "display_name": "Python 3",
   "language": "python",
   "name": "python3"
  },
  "language_info": {
   "codemirror_mode": {
    "name": "ipython",
    "version": 3
   },
   "file_extension": ".py",
   "mimetype": "text/x-python",
   "name": "python",
   "nbconvert_exporter": "python",
   "pygments_lexer": "ipython3",
   "version": "3.6.7"
  }
 },
 "nbformat": 4,
 "nbformat_minor": 2
}
