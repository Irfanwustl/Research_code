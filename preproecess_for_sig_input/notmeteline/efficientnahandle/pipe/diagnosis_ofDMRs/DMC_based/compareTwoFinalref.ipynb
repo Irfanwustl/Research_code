{
 "cells": [
  {
   "cell_type": "code",
   "execution_count": 1,
   "metadata": {},
   "outputs": [
    {
     "data": {
      "text/html": [
       "<div>\n",
       "<style scoped>\n",
       "    .dataframe tbody tr th:only-of-type {\n",
       "        vertical-align: middle;\n",
       "    }\n",
       "\n",
       "    .dataframe tbody tr th {\n",
       "        vertical-align: top;\n",
       "    }\n",
       "\n",
       "    .dataframe thead th {\n",
       "        text-align: right;\n",
       "    }\n",
       "</style>\n",
       "<table border=\"1\" class=\"dataframe\">\n",
       "  <thead>\n",
       "    <tr style=\"text-align: right;\">\n",
       "      <th></th>\n",
       "      <th>chrom</th>\n",
       "      <th>start</th>\n",
       "      <th>end</th>\n",
       "      <th>celltype</th>\n",
       "    </tr>\n",
       "  </thead>\n",
       "  <tbody>\n",
       "    <tr>\n",
       "      <th>0</th>\n",
       "      <td>chr1</td>\n",
       "      <td>12168469</td>\n",
       "      <td>12168471</td>\n",
       "      <td>[Tr]</td>\n",
       "    </tr>\n",
       "    <tr>\n",
       "      <th>1</th>\n",
       "      <td>chr1</td>\n",
       "      <td>12168485</td>\n",
       "      <td>12168487</td>\n",
       "      <td>[Tr]</td>\n",
       "    </tr>\n",
       "    <tr>\n",
       "      <th>2</th>\n",
       "      <td>chr1</td>\n",
       "      <td>12168489</td>\n",
       "      <td>12168491</td>\n",
       "      <td>[Tr]</td>\n",
       "    </tr>\n",
       "    <tr>\n",
       "      <th>3</th>\n",
       "      <td>chr1</td>\n",
       "      <td>12168553</td>\n",
       "      <td>12168555</td>\n",
       "      <td>[Tr]</td>\n",
       "    </tr>\n",
       "    <tr>\n",
       "      <th>4</th>\n",
       "      <td>chr1</td>\n",
       "      <td>12168794</td>\n",
       "      <td>12168796</td>\n",
       "      <td>[Tr]</td>\n",
       "    </tr>\n",
       "  </tbody>\n",
       "</table>\n",
       "</div>"
      ],
      "text/plain": [
       "  chrom     start       end celltype\n",
       "0  chr1  12168469  12168471     [Tr]\n",
       "1  chr1  12168485  12168487     [Tr]\n",
       "2  chr1  12168489  12168491     [Tr]\n",
       "3  chr1  12168553  12168555     [Tr]\n",
       "4  chr1  12168794  12168796     [Tr]"
      ]
     },
     "execution_count": 1,
     "metadata": {},
     "output_type": "execute_result"
    }
   ],
   "source": [
    "import pandas as pd\n",
    "sm1file='/Users/irffanalahi/Research/Research_update/SM/ShowcaseSM/BL17_14/DMC_based/BL14/BL14_CD4Neu_in_out_DMC/finalrefANDbam/compare_with_prev/BL14_atleast.2_top-1_singleCpG_final_assignedref_uniq.txt'\n",
    "sm2file='/Users/irffanalahi/Research/Research_update/SM/ShowcaseSM/BL17_14/DMC_based/BL14/BL14_CD4Neu_in_out_DMC/finalrefANDbam/compare_with_prev/BL14DMCnaiveCD4diff-.7_top-1_singleCpG_final_assignedref_uniq.txt'\n",
    "\n",
    "celltype='CD4'\n",
    "\n",
    "sm1df=pd.read_csv(sm1file,sep=\"\\t\")\n",
    "sm1df.head()"
   ]
  },
  {
   "cell_type": "code",
   "execution_count": 2,
   "metadata": {},
   "outputs": [
    {
     "data": {
      "text/html": [
       "<div>\n",
       "<style scoped>\n",
       "    .dataframe tbody tr th:only-of-type {\n",
       "        vertical-align: middle;\n",
       "    }\n",
       "\n",
       "    .dataframe tbody tr th {\n",
       "        vertical-align: top;\n",
       "    }\n",
       "\n",
       "    .dataframe thead th {\n",
       "        text-align: right;\n",
       "    }\n",
       "</style>\n",
       "<table border=\"1\" class=\"dataframe\">\n",
       "  <thead>\n",
       "    <tr style=\"text-align: right;\">\n",
       "      <th></th>\n",
       "      <th>chrom</th>\n",
       "      <th>start</th>\n",
       "      <th>end</th>\n",
       "      <th>celltype</th>\n",
       "    </tr>\n",
       "  </thead>\n",
       "  <tbody>\n",
       "    <tr>\n",
       "      <th>0</th>\n",
       "      <td>chr20</td>\n",
       "      <td>366280</td>\n",
       "      <td>366282</td>\n",
       "      <td>[CD4]</td>\n",
       "    </tr>\n",
       "    <tr>\n",
       "      <th>1</th>\n",
       "      <td>chr20</td>\n",
       "      <td>366337</td>\n",
       "      <td>366339</td>\n",
       "      <td>[CD4]</td>\n",
       "    </tr>\n",
       "    <tr>\n",
       "      <th>2</th>\n",
       "      <td>chr6</td>\n",
       "      <td>455506</td>\n",
       "      <td>455508</td>\n",
       "      <td>[CD4]</td>\n",
       "    </tr>\n",
       "    <tr>\n",
       "      <th>3</th>\n",
       "      <td>chr6</td>\n",
       "      <td>455512</td>\n",
       "      <td>455514</td>\n",
       "      <td>[CD4]</td>\n",
       "    </tr>\n",
       "    <tr>\n",
       "      <th>4</th>\n",
       "      <td>chr7</td>\n",
       "      <td>832588</td>\n",
       "      <td>832590</td>\n",
       "      <td>[CD4]</td>\n",
       "    </tr>\n",
       "  </tbody>\n",
       "</table>\n",
       "</div>"
      ],
      "text/plain": [
       "   chrom   start     end celltype\n",
       "0  chr20  366280  366282    [CD4]\n",
       "1  chr20  366337  366339    [CD4]\n",
       "2   chr6  455506  455508    [CD4]\n",
       "3   chr6  455512  455514    [CD4]\n",
       "4   chr7  832588  832590    [CD4]"
      ]
     },
     "execution_count": 2,
     "metadata": {},
     "output_type": "execute_result"
    }
   ],
   "source": [
    "sm2df=pd.read_csv(sm2file,sep=\"\\t\")\n",
    "sm2df.head()"
   ]
  },
  {
   "cell_type": "code",
   "execution_count": 3,
   "metadata": {},
   "outputs": [
    {
     "data": {
      "text/html": [
       "<div>\n",
       "<style scoped>\n",
       "    .dataframe tbody tr th:only-of-type {\n",
       "        vertical-align: middle;\n",
       "    }\n",
       "\n",
       "    .dataframe tbody tr th {\n",
       "        vertical-align: top;\n",
       "    }\n",
       "\n",
       "    .dataframe thead th {\n",
       "        text-align: right;\n",
       "    }\n",
       "</style>\n",
       "<table border=\"1\" class=\"dataframe\">\n",
       "  <thead>\n",
       "    <tr style=\"text-align: right;\">\n",
       "      <th></th>\n",
       "      <th>chrom</th>\n",
       "      <th>start</th>\n",
       "      <th>end</th>\n",
       "      <th>celltype</th>\n",
       "    </tr>\n",
       "  </thead>\n",
       "  <tbody>\n",
       "    <tr>\n",
       "      <th>6705</th>\n",
       "      <td>chr1</td>\n",
       "      <td>32387132</td>\n",
       "      <td>32387134</td>\n",
       "      <td>[CD4]</td>\n",
       "    </tr>\n",
       "    <tr>\n",
       "      <th>6706</th>\n",
       "      <td>chr1</td>\n",
       "      <td>32387376</td>\n",
       "      <td>32387378</td>\n",
       "      <td>[CD4]</td>\n",
       "    </tr>\n",
       "    <tr>\n",
       "      <th>6707</th>\n",
       "      <td>chr1</td>\n",
       "      <td>32387403</td>\n",
       "      <td>32387405</td>\n",
       "      <td>[CD4]</td>\n",
       "    </tr>\n",
       "    <tr>\n",
       "      <th>6708</th>\n",
       "      <td>chr1</td>\n",
       "      <td>32387409</td>\n",
       "      <td>32387411</td>\n",
       "      <td>[CD4]</td>\n",
       "    </tr>\n",
       "    <tr>\n",
       "      <th>6709</th>\n",
       "      <td>chr1</td>\n",
       "      <td>32387417</td>\n",
       "      <td>32387419</td>\n",
       "      <td>[CD4]</td>\n",
       "    </tr>\n",
       "  </tbody>\n",
       "</table>\n",
       "</div>"
      ],
      "text/plain": [
       "     chrom     start       end celltype\n",
       "6705  chr1  32387132  32387134    [CD4]\n",
       "6706  chr1  32387376  32387378    [CD4]\n",
       "6707  chr1  32387403  32387405    [CD4]\n",
       "6708  chr1  32387409  32387411    [CD4]\n",
       "6709  chr1  32387417  32387419    [CD4]"
      ]
     },
     "execution_count": 3,
     "metadata": {},
     "output_type": "execute_result"
    }
   ],
   "source": [
    "sm1df=sm1df[sm1df['celltype']=='['+celltype+']']\n",
    "sm1df.head()"
   ]
  },
  {
   "cell_type": "code",
   "execution_count": 4,
   "metadata": {},
   "outputs": [
    {
     "data": {
      "text/html": [
       "<div>\n",
       "<style scoped>\n",
       "    .dataframe tbody tr th:only-of-type {\n",
       "        vertical-align: middle;\n",
       "    }\n",
       "\n",
       "    .dataframe tbody tr th {\n",
       "        vertical-align: top;\n",
       "    }\n",
       "\n",
       "    .dataframe thead th {\n",
       "        text-align: right;\n",
       "    }\n",
       "</style>\n",
       "<table border=\"1\" class=\"dataframe\">\n",
       "  <thead>\n",
       "    <tr style=\"text-align: right;\">\n",
       "      <th></th>\n",
       "      <th>chrom</th>\n",
       "      <th>start</th>\n",
       "      <th>end</th>\n",
       "      <th>celltype</th>\n",
       "    </tr>\n",
       "  </thead>\n",
       "  <tbody>\n",
       "    <tr>\n",
       "      <th>0</th>\n",
       "      <td>chr20</td>\n",
       "      <td>366280</td>\n",
       "      <td>366282</td>\n",
       "      <td>[CD4]</td>\n",
       "    </tr>\n",
       "    <tr>\n",
       "      <th>1</th>\n",
       "      <td>chr20</td>\n",
       "      <td>366337</td>\n",
       "      <td>366339</td>\n",
       "      <td>[CD4]</td>\n",
       "    </tr>\n",
       "    <tr>\n",
       "      <th>2</th>\n",
       "      <td>chr6</td>\n",
       "      <td>455506</td>\n",
       "      <td>455508</td>\n",
       "      <td>[CD4]</td>\n",
       "    </tr>\n",
       "    <tr>\n",
       "      <th>3</th>\n",
       "      <td>chr6</td>\n",
       "      <td>455512</td>\n",
       "      <td>455514</td>\n",
       "      <td>[CD4]</td>\n",
       "    </tr>\n",
       "    <tr>\n",
       "      <th>4</th>\n",
       "      <td>chr7</td>\n",
       "      <td>832588</td>\n",
       "      <td>832590</td>\n",
       "      <td>[CD4]</td>\n",
       "    </tr>\n",
       "  </tbody>\n",
       "</table>\n",
       "</div>"
      ],
      "text/plain": [
       "   chrom   start     end celltype\n",
       "0  chr20  366280  366282    [CD4]\n",
       "1  chr20  366337  366339    [CD4]\n",
       "2   chr6  455506  455508    [CD4]\n",
       "3   chr6  455512  455514    [CD4]\n",
       "4   chr7  832588  832590    [CD4]"
      ]
     },
     "execution_count": 4,
     "metadata": {},
     "output_type": "execute_result"
    }
   ],
   "source": [
    "sm2df=sm2df[sm2df['celltype']=='['+celltype+']']\n",
    "sm2df.head()"
   ]
  },
  {
   "cell_type": "code",
   "execution_count": 5,
   "metadata": {},
   "outputs": [],
   "source": [
    "merged = pd.merge(sm1df, sm2df, how='inner', on=['chrom','start','end','celltype'])\n",
    "merged.to_csv(sm1file+\"_\"+celltype+\"common.txt\",sep=\"\\t\",index=False)"
   ]
  },
  {
   "cell_type": "code",
   "execution_count": 6,
   "metadata": {},
   "outputs": [
    {
     "data": {
      "text/plain": [
       "(37, 4)"
      ]
     },
     "execution_count": 6,
     "metadata": {},
     "output_type": "execute_result"
    }
   ],
   "source": [
    "merged.shape"
   ]
  },
  {
   "cell_type": "code",
   "execution_count": 7,
   "metadata": {},
   "outputs": [
    {
     "data": {
      "text/plain": [
       "(166, 4)"
      ]
     },
     "execution_count": 7,
     "metadata": {},
     "output_type": "execute_result"
    }
   ],
   "source": [
    "sm1df.shape"
   ]
  },
  {
   "cell_type": "code",
   "execution_count": 8,
   "metadata": {},
   "outputs": [
    {
     "data": {
      "text/plain": [
       "(1148, 4)"
      ]
     },
     "execution_count": 8,
     "metadata": {},
     "output_type": "execute_result"
    }
   ],
   "source": [
    "sm2df.shape"
   ]
  }
 ],
 "metadata": {
  "kernelspec": {
   "display_name": "Python 3",
   "language": "python",
   "name": "python3"
  },
  "language_info": {
   "codemirror_mode": {
    "name": "ipython",
    "version": 3
   },
   "file_extension": ".py",
   "mimetype": "text/x-python",
   "name": "python",
   "nbconvert_exporter": "python",
   "pygments_lexer": "ipython3",
   "version": "3.6.7"
  }
 },
 "nbformat": 4,
 "nbformat_minor": 2
}
