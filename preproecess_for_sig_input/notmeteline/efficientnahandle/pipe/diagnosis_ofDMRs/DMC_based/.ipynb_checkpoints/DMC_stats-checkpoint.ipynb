{
 "cells": [
  {
   "cell_type": "code",
   "execution_count": 1,
   "metadata": {},
   "outputs": [
    {
     "data": {
      "text/html": [
       "<div>\n",
       "<style scoped>\n",
       "    .dataframe tbody tr th:only-of-type {\n",
       "        vertical-align: middle;\n",
       "    }\n",
       "\n",
       "    .dataframe tbody tr th {\n",
       "        vertical-align: top;\n",
       "    }\n",
       "\n",
       "    .dataframe thead th {\n",
       "        text-align: right;\n",
       "    }\n",
       "</style>\n",
       "<table border=\"1\" class=\"dataframe\">\n",
       "  <thead>\n",
       "    <tr style=\"text-align: right;\">\n",
       "      <th></th>\n",
       "      <th>0</th>\n",
       "      <th>1</th>\n",
       "      <th>2</th>\n",
       "      <th>3</th>\n",
       "      <th>4</th>\n",
       "      <th>5</th>\n",
       "      <th>6</th>\n",
       "      <th>7</th>\n",
       "      <th>8</th>\n",
       "      <th>9</th>\n",
       "    </tr>\n",
       "  </thead>\n",
       "  <tbody>\n",
       "    <tr>\n",
       "      <th>0</th>\n",
       "      <td>chr1</td>\n",
       "      <td>101831</td>\n",
       "      <td>101832</td>\n",
       "      <td>0.30833</td>\n",
       "      <td>0.159758</td>\n",
       "      <td>1</td>\n",
       "      <td>0.020445</td>\n",
       "      <td>.</td>\n",
       "      <td>0.97767</td>\n",
       "      <td>0.81791</td>\n",
       "    </tr>\n",
       "    <tr>\n",
       "      <th>1</th>\n",
       "      <td>chr1</td>\n",
       "      <td>102933</td>\n",
       "      <td>102934</td>\n",
       "      <td>0.31793</td>\n",
       "      <td>0.119212</td>\n",
       "      <td>1</td>\n",
       "      <td>0.042165</td>\n",
       "      <td>.</td>\n",
       "      <td>0.96833</td>\n",
       "      <td>0.84912</td>\n",
       "    </tr>\n",
       "    <tr>\n",
       "      <th>2</th>\n",
       "      <td>chr1</td>\n",
       "      <td>109176</td>\n",
       "      <td>109177</td>\n",
       "      <td>0.49689</td>\n",
       "      <td>0.115515</td>\n",
       "      <td>1</td>\n",
       "      <td>0.218480</td>\n",
       "      <td>.</td>\n",
       "      <td>0.85567</td>\n",
       "      <td>0.74015</td>\n",
       "    </tr>\n",
       "    <tr>\n",
       "      <th>3</th>\n",
       "      <td>chr1</td>\n",
       "      <td>127750</td>\n",
       "      <td>127751</td>\n",
       "      <td>0.30833</td>\n",
       "      <td>0.196773</td>\n",
       "      <td>1</td>\n",
       "      <td>0.036696</td>\n",
       "      <td>.</td>\n",
       "      <td>0.97333</td>\n",
       "      <td>0.77656</td>\n",
       "    </tr>\n",
       "    <tr>\n",
       "      <th>4</th>\n",
       "      <td>chr1</td>\n",
       "      <td>129631</td>\n",
       "      <td>129632</td>\n",
       "      <td>0.30833</td>\n",
       "      <td>-0.187333</td>\n",
       "      <td>1</td>\n",
       "      <td>0.036696</td>\n",
       "      <td>.</td>\n",
       "      <td>0.72100</td>\n",
       "      <td>0.90833</td>\n",
       "    </tr>\n",
       "  </tbody>\n",
       "</table>\n",
       "</div>"
      ],
      "text/plain": [
       "      0       1       2        3         4  5         6  7        8        9\n",
       "0  chr1  101831  101832  0.30833  0.159758  1  0.020445  .  0.97767  0.81791\n",
       "1  chr1  102933  102934  0.31793  0.119212  1  0.042165  .  0.96833  0.84912\n",
       "2  chr1  109176  109177  0.49689  0.115515  1  0.218480  .  0.85567  0.74015\n",
       "3  chr1  127750  127751  0.30833  0.196773  1  0.036696  .  0.97333  0.77656\n",
       "4  chr1  129631  129632  0.30833 -0.187333  1  0.036696  .  0.72100  0.90833"
      ]
     },
     "execution_count": 1,
     "metadata": {},
     "output_type": "execute_result"
    }
   ],
   "source": [
    "import pandas  as pd\n",
    "import os\n",
    "import  re\n",
    "import numpy as np\n",
    "import collections\n",
    "import seaborn as sns\n",
    "import matplotlib.pyplot as plt\n",
    "\n",
    "\n",
    "DMCfile=\"/Users/irffanalahi/Research/Research_update/SM/ShowcaseSM/BL17_14/DMC_based/BL14/BL14_CD4Neu_in_out_DMC/BL14_all_matrixCin_nr0.4_imputed_g1_CD4_3_g2_others_33_DMC.txt\"\n",
    "\n",
    "\n",
    "\n",
    "\n",
    "tentativefraglength=220\n",
    "diffcut=-.75\n",
    "\n",
    "\n",
    "outfile=DMCfile+\"_diff_\"+str(diffcut)+\".txt\"\n",
    "\n",
    "\n",
    "\n",
    "DMCdf=pd.read_csv(DMCfile,sep=\"\\t\",header=None)\n",
    "DMCdf.head()"
   ]
  },
  {
   "cell_type": "code",
   "execution_count": 2,
   "metadata": {},
   "outputs": [
    {
     "data": {
      "text/html": [
       "<div>\n",
       "<style scoped>\n",
       "    .dataframe tbody tr th:only-of-type {\n",
       "        vertical-align: middle;\n",
       "    }\n",
       "\n",
       "    .dataframe tbody tr th {\n",
       "        vertical-align: top;\n",
       "    }\n",
       "\n",
       "    .dataframe thead th {\n",
       "        text-align: right;\n",
       "    }\n",
       "</style>\n",
       "<table border=\"1\" class=\"dataframe\">\n",
       "  <thead>\n",
       "    <tr style=\"text-align: right;\">\n",
       "      <th></th>\n",
       "      <th>chrom</th>\n",
       "      <th>start</th>\n",
       "      <th>end</th>\n",
       "      <th>q</th>\n",
       "      <th>diff</th>\n",
       "      <th>#cpg</th>\n",
       "      <th>p(MWU)</th>\n",
       "      <th>p(2dks)</th>\n",
       "      <th>CD4</th>\n",
       "      <th>others</th>\n",
       "    </tr>\n",
       "  </thead>\n",
       "  <tbody>\n",
       "    <tr>\n",
       "      <th>0</th>\n",
       "      <td>chr1</td>\n",
       "      <td>101831</td>\n",
       "      <td>101832</td>\n",
       "      <td>0.30833</td>\n",
       "      <td>0.159758</td>\n",
       "      <td>1</td>\n",
       "      <td>0.020445</td>\n",
       "      <td>.</td>\n",
       "      <td>0.97767</td>\n",
       "      <td>0.81791</td>\n",
       "    </tr>\n",
       "    <tr>\n",
       "      <th>1</th>\n",
       "      <td>chr1</td>\n",
       "      <td>102933</td>\n",
       "      <td>102934</td>\n",
       "      <td>0.31793</td>\n",
       "      <td>0.119212</td>\n",
       "      <td>1</td>\n",
       "      <td>0.042165</td>\n",
       "      <td>.</td>\n",
       "      <td>0.96833</td>\n",
       "      <td>0.84912</td>\n",
       "    </tr>\n",
       "    <tr>\n",
       "      <th>2</th>\n",
       "      <td>chr1</td>\n",
       "      <td>109176</td>\n",
       "      <td>109177</td>\n",
       "      <td>0.49689</td>\n",
       "      <td>0.115515</td>\n",
       "      <td>1</td>\n",
       "      <td>0.218480</td>\n",
       "      <td>.</td>\n",
       "      <td>0.85567</td>\n",
       "      <td>0.74015</td>\n",
       "    </tr>\n",
       "    <tr>\n",
       "      <th>3</th>\n",
       "      <td>chr1</td>\n",
       "      <td>127750</td>\n",
       "      <td>127751</td>\n",
       "      <td>0.30833</td>\n",
       "      <td>0.196773</td>\n",
       "      <td>1</td>\n",
       "      <td>0.036696</td>\n",
       "      <td>.</td>\n",
       "      <td>0.97333</td>\n",
       "      <td>0.77656</td>\n",
       "    </tr>\n",
       "    <tr>\n",
       "      <th>4</th>\n",
       "      <td>chr1</td>\n",
       "      <td>129631</td>\n",
       "      <td>129632</td>\n",
       "      <td>0.30833</td>\n",
       "      <td>-0.187333</td>\n",
       "      <td>1</td>\n",
       "      <td>0.036696</td>\n",
       "      <td>.</td>\n",
       "      <td>0.72100</td>\n",
       "      <td>0.90833</td>\n",
       "    </tr>\n",
       "  </tbody>\n",
       "</table>\n",
       "</div>"
      ],
      "text/plain": [
       "  chrom   start     end        q      diff  #cpg    p(MWU) p(2dks)      CD4  \\\n",
       "0  chr1  101831  101832  0.30833  0.159758     1  0.020445       .  0.97767   \n",
       "1  chr1  102933  102934  0.31793  0.119212     1  0.042165       .  0.96833   \n",
       "2  chr1  109176  109177  0.49689  0.115515     1  0.218480       .  0.85567   \n",
       "3  chr1  127750  127751  0.30833  0.196773     1  0.036696       .  0.97333   \n",
       "4  chr1  129631  129632  0.30833 -0.187333     1  0.036696       .  0.72100   \n",
       "\n",
       "    others  \n",
       "0  0.81791  \n",
       "1  0.84912  \n",
       "2  0.74015  \n",
       "3  0.77656  \n",
       "4  0.90833  "
      ]
     },
     "execution_count": 2,
     "metadata": {},
     "output_type": "execute_result"
    }
   ],
   "source": [
    "m = re.search('g1_(.+?)_\\d+_g2', os.path.basename(DMCfile))\n",
    "if m:\n",
    "    found = m.group(1)\n",
    "\n",
    "else:\n",
    "    print(\"cell type not found\", os.path.basename(DMCfile))\n",
    "    print(\"exiting\")\n",
    "\n",
    "    sys.exit(1)\n",
    "\n",
    "celltype = found\n",
    "\n",
    "\n",
    "DMCdf.rename(columns={0:'chrom',1:'start',2:'end',3:'q',4:'diff',5:'#cpg',6:'p(MWU)',7:'p(2dks)',8:celltype,9:'others'},inplace=True,errors='raise')\n",
    "\n",
    "DMCdf.head()"
   ]
  },
  {
   "cell_type": "code",
   "execution_count": 3,
   "metadata": {},
   "outputs": [
    {
     "name": "stdout",
     "output_type": "stream",
     "text": [
      "-0.860848\n"
     ]
    }
   ],
   "source": [
    "print(DMCdf['diff'].min())"
   ]
  },
  {
   "cell_type": "code",
   "execution_count": 4,
   "metadata": {},
   "outputs": [
    {
     "data": {
      "text/plain": [
       "<matplotlib.axes._subplots.AxesSubplot at 0x7f9fe05efa58>"
      ]
     },
     "execution_count": 4,
     "metadata": {},
     "output_type": "execute_result"
    },
    {
     "data": {
      "image/png": "[encoded data removed]",
      "text/plain": [
       "<Figure size 432x288 with 1 Axes>"
      ]
     },
     "metadata": {
      "needs_background": "light"
     },
     "output_type": "display_data"
    }
   ],
   "source": [
    "DMCdf['neglogq']=-np.log10(DMCdf['q'])\n",
    "\n",
    "DMCdf.plot.scatter(x='diff',y='neglogq')"
   ]
  },
  {
   "cell_type": "code",
   "execution_count": 5,
   "metadata": {},
   "outputs": [
    {
     "data": {
      "text/plain": [
       "<matplotlib.axes._subplots.AxesSubplot at 0x7f9fbf993d30>"
      ]
     },
     "execution_count": 5,
     "metadata": {},
     "output_type": "execute_result"
    },
    {
     "data": {
      "image/png": "[encoded data removed]",
      "text/plain": [
       "<Figure size 432x288 with 1 Axes>"
      ]
     },
     "metadata": {
      "needs_background": "light"
     },
     "output_type": "display_data"
    }
   ],
   "source": [
    "DMCdf.plot.scatter(x='diff',y='q')"
   ]
  },
  {
   "cell_type": "code",
   "execution_count": 6,
   "metadata": {},
   "outputs": [
    {
     "data": {
      "text/plain": [
       "<matplotlib.axes._subplots.AxesSubplot at 0x7f9f991440b8>"
      ]
     },
     "execution_count": 6,
     "metadata": {},
     "output_type": "execute_result"
    },
    {
     "data": {
      "image/png": "[encoded data removed]",
      "text/plain": [
       "<Figure size 432x288 with 1 Axes>"
      ]
     },
     "metadata": {
      "needs_background": "light"
     },
     "output_type": "display_data"
    }
   ],
   "source": [
    "DMCdf['q'].plot.hist()"
   ]
  },
  {
   "cell_type": "code",
   "execution_count": 7,
   "metadata": {},
   "outputs": [
    {
     "data": {
      "image/png": "[encoded data removed]",
      "text/plain": [
       "<Figure size 432x288 with 1 Axes>"
      ]
     },
     "metadata": {
      "needs_background": "light"
     },
     "output_type": "display_data"
    }
   ],
   "source": [
    "boxplot = DMCdf.boxplot(column=['q'])"
   ]
  },
  {
   "cell_type": "code",
   "execution_count": 8,
   "metadata": {},
   "outputs": [
    {
     "data": {
      "image/png": "[encoded data removed]",
      "text/plain": [
       "<Figure size 432x288 with 1 Axes>"
      ]
     },
     "metadata": {
      "needs_background": "light"
     },
     "output_type": "display_data"
    }
   ],
   "source": [
    "boxplot = DMCdf.boxplot(column=['diff'])"
   ]
  },
  {
   "cell_type": "code",
   "execution_count": 9,
   "metadata": {},
   "outputs": [
    {
     "data": {
      "text/plain": [
       "(319, 11)"
      ]
     },
     "execution_count": 9,
     "metadata": {},
     "output_type": "execute_result"
    }
   ],
   "source": [
    "\n",
    "DMCdfdiffcut=DMCdf[DMCdf['diff']<=diffcut]\n",
    "DMCdfdiffcut.shape"
   ]
  },
  {
   "cell_type": "code",
   "execution_count": 10,
   "metadata": {},
   "outputs": [
    {
     "data": {
      "text/plain": [
       "<matplotlib.axes._subplots.AxesSubplot at 0x7f9f93a037f0>"
      ]
     },
     "execution_count": 10,
     "metadata": {},
     "output_type": "execute_result"
    },
    {
     "data": {
      "image/png": "[encoded data removed]",
      "text/plain": [
       "<Figure size 432x288 with 1 Axes>"
      ]
     },
     "metadata": {
      "needs_background": "light"
     },
     "output_type": "display_data"
    }
   ],
   "source": [
    "DMCdfdiffcut.boxplot(column=['diff'])"
   ]
  },
  {
   "cell_type": "code",
   "execution_count": 11,
   "metadata": {},
   "outputs": [
    {
     "data": {
      "text/plain": [
       "<matplotlib.axes._subplots.AxesSubplot at 0x7f9feddab208>"
      ]
     },
     "execution_count": 11,
     "metadata": {},
     "output_type": "execute_result"
    },
    {
     "data": {
      "image/png": "[encoded data removed]",
      "text/plain": [
       "<Figure size 432x288 with 1 Axes>"
      ]
     },
     "metadata": {
      "needs_background": "light"
     },
     "output_type": "display_data"
    }
   ],
   "source": [
    "DMCdfdiffcut['diff'].plot.kde()"
   ]
  },
  {
   "cell_type": "code",
   "execution_count": 12,
   "metadata": {},
   "outputs": [
    {
     "data": {
      "text/plain": [
       "<matplotlib.axes._subplots.AxesSubplot at 0x7f9f923d9a20>"
      ]
     },
     "execution_count": 12,
     "metadata": {},
     "output_type": "execute_result"
    },
    {
     "data": {
      "image/png": "[encoded data removed]",
      "text/plain": [
       "<Figure size 432x288 with 1 Axes>"
      ]
     },
     "metadata": {
      "needs_background": "light"
     },
     "output_type": "display_data"
    }
   ],
   "source": [
    "DMCdfdiffcut.boxplot(column=['p(MWU)'])"
   ]
  },
  {
   "cell_type": "code",
   "execution_count": 13,
   "metadata": {},
   "outputs": [
    {
     "data": {
      "text/plain": [
       "<matplotlib.axes._subplots.AxesSubplot at 0x7f9f9273f630>"
      ]
     },
     "execution_count": 13,
     "metadata": {},
     "output_type": "execute_result"
    },
    {
     "data": {
      "image/png": "[encoded data removed]",
      "text/plain": [
       "<Figure size 432x288 with 1 Axes>"
      ]
     },
     "metadata": {
      "needs_background": "light"
     },
     "output_type": "display_data"
    }
   ],
   "source": [
    "DMCdfdiffcut['p(MWU)'].plot.kde()"
   ]
  },
  {
   "cell_type": "code",
   "execution_count": 14,
   "metadata": {},
   "outputs": [
    {
     "data": {
      "text/html": [
       "<div>\n",
       "<style scoped>\n",
       "    .dataframe tbody tr th:only-of-type {\n",
       "        vertical-align: middle;\n",
       "    }\n",
       "\n",
       "    .dataframe tbody tr th {\n",
       "        vertical-align: top;\n",
       "    }\n",
       "\n",
       "    .dataframe thead th {\n",
       "        text-align: right;\n",
       "    }\n",
       "</style>\n",
       "<table border=\"1\" class=\"dataframe\">\n",
       "  <thead>\n",
       "    <tr style=\"text-align: right;\">\n",
       "      <th></th>\n",
       "      <th>chrom</th>\n",
       "      <th>start</th>\n",
       "      <th>end</th>\n",
       "      <th>q</th>\n",
       "      <th>diff</th>\n",
       "      <th>#cpg</th>\n",
       "      <th>p(MWU)</th>\n",
       "      <th>p(2dks)</th>\n",
       "      <th>CD4</th>\n",
       "      <th>others</th>\n",
       "      <th>neglogq</th>\n",
       "    </tr>\n",
       "  </thead>\n",
       "  <tbody>\n",
       "    <tr>\n",
       "      <th>19802</th>\n",
       "      <td>chr1</td>\n",
       "      <td>8407861</td>\n",
       "      <td>8407862</td>\n",
       "      <td>0.30833</td>\n",
       "      <td>-0.758121</td>\n",
       "      <td>1</td>\n",
       "      <td>0.004608</td>\n",
       "      <td>.</td>\n",
       "      <td>0.000000</td>\n",
       "      <td>0.75812</td>\n",
       "      <td>0.510984</td>\n",
       "    </tr>\n",
       "    <tr>\n",
       "      <th>20496</th>\n",
       "      <td>chr1</td>\n",
       "      <td>8970154</td>\n",
       "      <td>8970155</td>\n",
       "      <td>0.30833</td>\n",
       "      <td>-0.796833</td>\n",
       "      <td>1</td>\n",
       "      <td>0.005504</td>\n",
       "      <td>.</td>\n",
       "      <td>0.023500</td>\n",
       "      <td>0.82033</td>\n",
       "      <td>0.510984</td>\n",
       "    </tr>\n",
       "    <tr>\n",
       "      <th>20497</th>\n",
       "      <td>chr1</td>\n",
       "      <td>8970160</td>\n",
       "      <td>8970161</td>\n",
       "      <td>0.30833</td>\n",
       "      <td>-0.797182</td>\n",
       "      <td>1</td>\n",
       "      <td>0.004608</td>\n",
       "      <td>.</td>\n",
       "      <td>0.020000</td>\n",
       "      <td>0.81718</td>\n",
       "      <td>0.510984</td>\n",
       "    </tr>\n",
       "    <tr>\n",
       "      <th>20499</th>\n",
       "      <td>chr1</td>\n",
       "      <td>8970183</td>\n",
       "      <td>8970184</td>\n",
       "      <td>0.30833</td>\n",
       "      <td>-0.752000</td>\n",
       "      <td>1</td>\n",
       "      <td>0.004608</td>\n",
       "      <td>.</td>\n",
       "      <td>0.037000</td>\n",
       "      <td>0.78900</td>\n",
       "      <td>0.510984</td>\n",
       "    </tr>\n",
       "    <tr>\n",
       "      <th>20500</th>\n",
       "      <td>chr1</td>\n",
       "      <td>8970191</td>\n",
       "      <td>8970192</td>\n",
       "      <td>0.30833</td>\n",
       "      <td>-0.781697</td>\n",
       "      <td>1</td>\n",
       "      <td>0.004608</td>\n",
       "      <td>.</td>\n",
       "      <td>0.028667</td>\n",
       "      <td>0.81036</td>\n",
       "      <td>0.510984</td>\n",
       "    </tr>\n",
       "  </tbody>\n",
       "</table>\n",
       "</div>"
      ],
      "text/plain": [
       "      chrom    start      end        q      diff  #cpg    p(MWU) p(2dks)  \\\n",
       "19802  chr1  8407861  8407862  0.30833 -0.758121     1  0.004608       .   \n",
       "20496  chr1  8970154  8970155  0.30833 -0.796833     1  0.005504       .   \n",
       "20497  chr1  8970160  8970161  0.30833 -0.797182     1  0.004608       .   \n",
       "20499  chr1  8970183  8970184  0.30833 -0.752000     1  0.004608       .   \n",
       "20500  chr1  8970191  8970192  0.30833 -0.781697     1  0.004608       .   \n",
       "\n",
       "            CD4   others   neglogq  \n",
       "19802  0.000000  0.75812  0.510984  \n",
       "20496  0.023500  0.82033  0.510984  \n",
       "20497  0.020000  0.81718  0.510984  \n",
       "20499  0.037000  0.78900  0.510984  \n",
       "20500  0.028667  0.81036  0.510984  "
      ]
     },
     "execution_count": 14,
     "metadata": {},
     "output_type": "execute_result"
    }
   ],
   "source": [
    "##### distance measurement######\n",
    "\n",
    "DMCdfdiffcut.head()"
   ]
  },
  {
   "cell_type": "code",
   "execution_count": 15,
   "metadata": {},
   "outputs": [
    {
     "data": {
      "text/plain": [
       "0.027551999999999997"
      ]
     },
     "execution_count": 15,
     "metadata": {},
     "output_type": "execute_result"
    }
   ],
   "source": [
    "DMCdfdiffcut['p(MWU)'].max()"
   ]
  },
  {
   "cell_type": "code",
   "execution_count": 16,
   "metadata": {},
   "outputs": [
    {
     "data": {
      "text/html": [
       "<div>\n",
       "<style scoped>\n",
       "    .dataframe tbody tr th:only-of-type {\n",
       "        vertical-align: middle;\n",
       "    }\n",
       "\n",
       "    .dataframe tbody tr th {\n",
       "        vertical-align: top;\n",
       "    }\n",
       "\n",
       "    .dataframe thead th {\n",
       "        text-align: right;\n",
       "    }\n",
       "</style>\n",
       "<table border=\"1\" class=\"dataframe\">\n",
       "  <thead>\n",
       "    <tr style=\"text-align: right;\">\n",
       "      <th></th>\n",
       "      <th>chrom</th>\n",
       "      <th>start</th>\n",
       "      <th>end</th>\n",
       "      <th>q</th>\n",
       "      <th>diff</th>\n",
       "      <th>#cpg</th>\n",
       "      <th>p(MWU)</th>\n",
       "      <th>p(2dks)</th>\n",
       "      <th>CD4</th>\n",
       "      <th>others</th>\n",
       "      <th>neglogq</th>\n",
       "    </tr>\n",
       "  </thead>\n",
       "  <tbody>\n",
       "    <tr>\n",
       "      <th>2067153</th>\n",
       "      <td>chr6</td>\n",
       "      <td>455507</td>\n",
       "      <td>455508</td>\n",
       "      <td>0.30833</td>\n",
       "      <td>-0.761364</td>\n",
       "      <td>1</td>\n",
       "      <td>0.005504</td>\n",
       "      <td>.</td>\n",
       "      <td>0.1110</td>\n",
       "      <td>0.87236</td>\n",
       "      <td>0.510984</td>\n",
       "    </tr>\n",
       "    <tr>\n",
       "      <th>2067154</th>\n",
       "      <td>chr6</td>\n",
       "      <td>455513</td>\n",
       "      <td>455514</td>\n",
       "      <td>0.30833</td>\n",
       "      <td>-0.763894</td>\n",
       "      <td>1</td>\n",
       "      <td>0.006553</td>\n",
       "      <td>.</td>\n",
       "      <td>0.1000</td>\n",
       "      <td>0.86389</td>\n",
       "      <td>0.510984</td>\n",
       "    </tr>\n",
       "    <tr>\n",
       "      <th>2204687</th>\n",
       "      <td>chr7</td>\n",
       "      <td>832595</td>\n",
       "      <td>832596</td>\n",
       "      <td>0.30833</td>\n",
       "      <td>-0.773212</td>\n",
       "      <td>1</td>\n",
       "      <td>0.004608</td>\n",
       "      <td>.</td>\n",
       "      <td>0.1050</td>\n",
       "      <td>0.87821</td>\n",
       "      <td>0.510984</td>\n",
       "    </tr>\n",
       "    <tr>\n",
       "      <th>1143973</th>\n",
       "      <td>chr19</td>\n",
       "      <td>1072194</td>\n",
       "      <td>1072195</td>\n",
       "      <td>0.30833</td>\n",
       "      <td>-0.821773</td>\n",
       "      <td>1</td>\n",
       "      <td>0.004608</td>\n",
       "      <td>.</td>\n",
       "      <td>0.0295</td>\n",
       "      <td>0.85127</td>\n",
       "      <td>0.510984</td>\n",
       "    </tr>\n",
       "    <tr>\n",
       "      <th>2596001</th>\n",
       "      <td>chrX</td>\n",
       "      <td>2703524</td>\n",
       "      <td>2703525</td>\n",
       "      <td>0.30833</td>\n",
       "      <td>-0.771955</td>\n",
       "      <td>1</td>\n",
       "      <td>0.004608</td>\n",
       "      <td>.</td>\n",
       "      <td>0.0245</td>\n",
       "      <td>0.79645</td>\n",
       "      <td>0.510984</td>\n",
       "    </tr>\n",
       "  </tbody>\n",
       "</table>\n",
       "</div>"
      ],
      "text/plain": [
       "         chrom    start      end        q      diff  #cpg    p(MWU) p(2dks)  \\\n",
       "2067153   chr6   455507   455508  0.30833 -0.761364     1  0.005504       .   \n",
       "2067154   chr6   455513   455514  0.30833 -0.763894     1  0.006553       .   \n",
       "2204687   chr7   832595   832596  0.30833 -0.773212     1  0.004608       .   \n",
       "1143973  chr19  1072194  1072195  0.30833 -0.821773     1  0.004608       .   \n",
       "2596001   chrX  2703524  2703525  0.30833 -0.771955     1  0.004608       .   \n",
       "\n",
       "            CD4   others   neglogq  \n",
       "2067153  0.1110  0.87236  0.510984  \n",
       "2067154  0.1000  0.86389  0.510984  \n",
       "2204687  0.1050  0.87821  0.510984  \n",
       "1143973  0.0295  0.85127  0.510984  \n",
       "2596001  0.0245  0.79645  0.510984  "
      ]
     },
     "execution_count": 16,
     "metadata": {},
     "output_type": "execute_result"
    }
   ],
   "source": [
    "DMCdfdiffcut=DMCdfdiffcut.sort_values(by=['start'])\n",
    "DMCdfdiffcut.head()"
   ]
  },
  {
   "cell_type": "code",
   "execution_count": 17,
   "metadata": {},
   "outputs": [],
   "source": [
    "DMCdfdiffcut_linkageGroupINFO=DMCdfdiffcut.copy()\n",
    "\n",
    "DMCdfdiffcut_linkageGroupINFO['highestDMRparticipation']=-1\n",
    "\n",
    "\n",
    "\n",
    "probableDMRcpg=[]\n",
    "\n",
    "DMCdfdiffcutgrouped=DMCdfdiffcut_linkageGroupINFO.groupby('chrom')\n",
    "\n",
    "\n",
    "for name, group in DMCdfdiffcutgrouped:\n",
    "  \n",
    "    for index, row in group.iterrows():\n",
    "        linkagelength=group[(group['start']>=row['start']) & (group['start']<=row['start']+tentativefraglength)].shape[0]\n",
    "        probableDMRcpg.append(linkagelength)\n",
    "        \n",
    "        currentlinkagelength=row['highestDMRparticipation']\n",
    "        \n",
    "        if currentlinkagelength < linkagelength:\n",
    "            DMCdfdiffcut_linkageGroupINFO.loc[index,'highestDMRparticipation']=linkagelength\n",
    "            \n",
    "        \n",
    "        \n",
    "    \n"
   ]
  },
  {
   "cell_type": "code",
   "execution_count": 26,
   "metadata": {},
   "outputs": [
    {
     "ename": "SyntaxError",
     "evalue": "unexpected EOF while parsing (<ipython-input-26-0d6554639297>, line 4)",
     "output_type": "error",
     "traceback": [
      "\u001b[0;36m  File \u001b[0;32m\"<ipython-input-26-0d6554639297>\"\u001b[0;36m, line \u001b[0;32m4\u001b[0m\n\u001b[0;31m    DMCdfdiffcut_linkageGroupINFO.plot.scatter(x='1-others',y='1-'+celltype,xlim([0.05,0.4])\u001b[0m\n\u001b[0m                                                                                            ^\u001b[0m\n\u001b[0;31mSyntaxError\u001b[0m\u001b[0;31m:\u001b[0m unexpected EOF while parsing\n"
     ]
    }
   ],
   "source": [
    "DMCdfdiffcut_linkageGroupINFO['1-'+celltype]=1-DMCdfdiffcut_linkageGroupINFO[celltype]\n",
    "DMCdfdiffcut_linkageGroupINFO['1-others']=1-DMCdfdiffcut_linkageGroupINFO['others']\n",
    "\n",
    "DMCdfdiffcut_linkageGroupINFO.plot.scatter(x='1-others',y='1-'+celltype)\n",
    "plt.xlim([0.05,0.4])"
   ]
  },
  {
   "cell_type": "code",
   "execution_count": 19,
   "metadata": {},
   "outputs": [],
   "source": [
    "DMCdfdiffcut_linkageGroupINFO.to_csv(outfile+\"_log.txt\",sep=\"\\t\",index=False)"
   ]
  },
  {
   "cell_type": "code",
   "execution_count": 20,
   "metadata": {},
   "outputs": [
    {
     "data": {
      "text/plain": [
       "319"
      ]
     },
     "execution_count": 20,
     "metadata": {},
     "output_type": "execute_result"
    }
   ],
   "source": [
    "len(probableDMRcpg)"
   ]
  },
  {
   "cell_type": "code",
   "execution_count": 21,
   "metadata": {},
   "outputs": [],
   "source": [
    "counter=collections.Counter(probableDMRcpg)"
   ]
  },
  {
   "cell_type": "code",
   "execution_count": 22,
   "metadata": {},
   "outputs": [
    {
     "name": "stdout",
     "output_type": "stream",
     "text": [
      "Counter({1: 197, 2: 60, 3: 28, 4: 15, 5: 8, 6: 7, 7: 3, 8: 1})\n"
     ]
    }
   ],
   "source": [
    "print(counter)"
   ]
  },
  {
   "cell_type": "code",
   "execution_count": 23,
   "metadata": {},
   "outputs": [
    {
     "data": {
      "text/html": [
       "<div>\n",
       "<style scoped>\n",
       "    .dataframe tbody tr th:only-of-type {\n",
       "        vertical-align: middle;\n",
       "    }\n",
       "\n",
       "    .dataframe tbody tr th {\n",
       "        vertical-align: top;\n",
       "    }\n",
       "\n",
       "    .dataframe thead th {\n",
       "        text-align: right;\n",
       "    }\n",
       "</style>\n",
       "<table border=\"1\" class=\"dataframe\">\n",
       "  <thead>\n",
       "    <tr style=\"text-align: right;\">\n",
       "      <th></th>\n",
       "      <th>chrom</th>\n",
       "      <th>start</th>\n",
       "      <th>end</th>\n",
       "      <th>q</th>\n",
       "      <th>diff</th>\n",
       "      <th>#cpg</th>\n",
       "      <th>p(MWU)</th>\n",
       "      <th>p(2dks)</th>\n",
       "      <th>CD4</th>\n",
       "      <th>others</th>\n",
       "    </tr>\n",
       "  </thead>\n",
       "  <tbody>\n",
       "    <tr>\n",
       "      <th>2067153</th>\n",
       "      <td>chr6</td>\n",
       "      <td>455507</td>\n",
       "      <td>455508</td>\n",
       "      <td>0.30833</td>\n",
       "      <td>-0.761364</td>\n",
       "      <td>1</td>\n",
       "      <td>0.005504</td>\n",
       "      <td>.</td>\n",
       "      <td>0.1110</td>\n",
       "      <td>0.87236</td>\n",
       "    </tr>\n",
       "    <tr>\n",
       "      <th>2067154</th>\n",
       "      <td>chr6</td>\n",
       "      <td>455513</td>\n",
       "      <td>455514</td>\n",
       "      <td>0.30833</td>\n",
       "      <td>-0.763894</td>\n",
       "      <td>1</td>\n",
       "      <td>0.006553</td>\n",
       "      <td>.</td>\n",
       "      <td>0.1000</td>\n",
       "      <td>0.86389</td>\n",
       "    </tr>\n",
       "    <tr>\n",
       "      <th>2204687</th>\n",
       "      <td>chr7</td>\n",
       "      <td>832595</td>\n",
       "      <td>832596</td>\n",
       "      <td>0.30833</td>\n",
       "      <td>-0.773212</td>\n",
       "      <td>1</td>\n",
       "      <td>0.004608</td>\n",
       "      <td>.</td>\n",
       "      <td>0.1050</td>\n",
       "      <td>0.87821</td>\n",
       "    </tr>\n",
       "    <tr>\n",
       "      <th>1143973</th>\n",
       "      <td>chr19</td>\n",
       "      <td>1072194</td>\n",
       "      <td>1072195</td>\n",
       "      <td>0.30833</td>\n",
       "      <td>-0.821773</td>\n",
       "      <td>1</td>\n",
       "      <td>0.004608</td>\n",
       "      <td>.</td>\n",
       "      <td>0.0295</td>\n",
       "      <td>0.85127</td>\n",
       "    </tr>\n",
       "    <tr>\n",
       "      <th>2596001</th>\n",
       "      <td>chrX</td>\n",
       "      <td>2703524</td>\n",
       "      <td>2703525</td>\n",
       "      <td>0.30833</td>\n",
       "      <td>-0.771955</td>\n",
       "      <td>1</td>\n",
       "      <td>0.004608</td>\n",
       "      <td>.</td>\n",
       "      <td>0.0245</td>\n",
       "      <td>0.79645</td>\n",
       "    </tr>\n",
       "  </tbody>\n",
       "</table>\n",
       "</div>"
      ],
      "text/plain": [
       "         chrom    start      end        q      diff  #cpg    p(MWU) p(2dks)  \\\n",
       "2067153   chr6   455507   455508  0.30833 -0.761364     1  0.005504       .   \n",
       "2067154   chr6   455513   455514  0.30833 -0.763894     1  0.006553       .   \n",
       "2204687   chr7   832595   832596  0.30833 -0.773212     1  0.004608       .   \n",
       "1143973  chr19  1072194  1072195  0.30833 -0.821773     1  0.004608       .   \n",
       "2596001   chrX  2703524  2703525  0.30833 -0.771955     1  0.004608       .   \n",
       "\n",
       "            CD4   others  \n",
       "2067153  0.1110  0.87236  \n",
       "2067154  0.1000  0.86389  \n",
       "2204687  0.1050  0.87821  \n",
       "1143973  0.0295  0.85127  \n",
       "2596001  0.0245  0.79645  "
      ]
     },
     "execution_count": 23,
     "metadata": {},
     "output_type": "execute_result"
    }
   ],
   "source": [
    "outdf=DMCdfdiffcut.copy()\n",
    "outdf.drop(['neglogq'],axis=1,inplace=True)\n",
    "outdf.head()"
   ]
  },
  {
   "cell_type": "code",
   "execution_count": 24,
   "metadata": {},
   "outputs": [],
   "source": [
    "#outdf.to_csv(outfile,sep=\"\\t\",index=False)"
   ]
  }
 ],
 "metadata": {
  "kernelspec": {
   "display_name": "Python 3",
   "language": "python",
   "name": "python3"
  },
  "language_info": {
   "codemirror_mode": {
    "name": "ipython",
    "version": 3
   },
   "file_extension": ".py",
   "mimetype": "text/x-python",
   "name": "python",
   "nbconvert_exporter": "python",
   "pygments_lexer": "ipython3",
   "version": "3.6.7"
  }
 },
 "nbformat": 4,
 "nbformat_minor": 2
}
