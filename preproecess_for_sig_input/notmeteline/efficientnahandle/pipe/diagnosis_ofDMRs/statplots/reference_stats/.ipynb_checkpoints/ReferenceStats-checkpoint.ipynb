{
 "cells": [
  {
   "cell_type": "code",
   "execution_count": 1,
   "metadata": {},
   "outputs": [],
   "source": [
    "import pandas as pd\n",
    "import re\n",
    "import glob, os\n",
    "import math\n",
    "import sys\n",
    "import matplotlib.pyplot as plt\n",
    "\n",
    "cwmetfolder=\"/Users/irffanalahi/Research/Research_update/SM/ShowcaseSM/BL19_V2/forfig/myversion/BL19v2metin_out_mincpg2_q0.5_addedcol_q1e-05_maxCompartmentwisedelta-0.1_rarect_goodothers\"\n",
    "fragsize=170\n"
   ]
  },
  {
   "cell_type": "code",
   "execution_count": 2,
   "metadata": {},
   "outputs": [],
   "source": [
    "class cellTypeProfile:\n",
    "    def __init__(self, ctf,fsize,outname,**kwargs):\n",
    "        self.ctname=determineCT(ctf)\n",
    "        self.frag=fsize\n",
    "        self.outname=outname\n",
    "        \n",
    "        self.ctdf=pd.read_csv(ctf, sep=\"\\t\")\n",
    "        self.setotherinfos()\n",
    "    \n",
    "    def setotherinfos(self):\n",
    "        self.ctdf['DMRlength']=self.ctdf['end']-self.ctdf['start']\n",
    "        self.ctdf['reporter']=1.0*self.ctdf['DMRlength']/self.frag\n",
    "        self.ctdf['cpg_per_reporter']=1.0*self.ctdf['#cpg']/self.ctdf['reporter']\n",
    "        \n",
    "        self.totalReporter=self.ctdf['reporter'].sum()\n",
    "        \n",
    "        self.avgCpGperDMR=self.ctdf['#cpg'].mean()\n",
    "        self.avgCpGperReporter=self.ctdf['cpg_per_reporter'].mean()\n",
    "        \n",
    "        self.ctdf['avg_reporter']=self.ctdf['reporter'].mean()\n",
    "        \n",
    "        self.ctdf['avg#cpg']=self.avgCpGperDMR\n",
    "        self.ctdf['avg_cpg_per_reporter']=self.avgCpGperReporter\n",
    "        \n",
    "        \n",
    "        self.ctdf.to_csv(self.outname,sep=\"\\t\",index=False)\n",
    "        \n",
    "        \n",
    "        \n",
    "        \n",
    "        \n",
    "        \n",
    "        \n",
    "        histcols=['DMRlength','reporter','#cpg','cpg_per_reporter']\n",
    "        \n",
    "      \n",
    "        \n",
    "        #########plot the histograms##################\n",
    "      \n",
    "        \n",
    "        \n",
    "        \n",
    "      \n",
    "        \n",
    "        \n",
    "        \n",
    "     \n",
    "\n",
    "        \n",
    "        #fig.savefig(self.outname+'demo-file.pdf',dpi=300, bbox_inches='tight')\n",
    "        \n",
    "        \n",
    "       \n",
    "        \n",
    "        "
   ]
  },
  {
   "cell_type": "code",
   "execution_count": 3,
   "metadata": {},
   "outputs": [],
   "source": [
    "\n",
    "\n",
    "def determineCT(fname):\n",
    "\n",
    "    m = re.search('g1_(.+?)_\\d+_g2', fname)\n",
    "    if m:\n",
    "        found = m.group(1)\n",
    "\n",
    "    else:\n",
    "        print(\"cell type not found\", fname)\n",
    "        print(\"exiting\")\n",
    "\n",
    "        sys.exit(1)\n",
    "\n",
    "    celltype = found\n",
    "    \n",
    "  \n",
    "    \n",
    "    \n",
    "    \n",
    "    return celltype"
   ]
  },
  {
   "cell_type": "code",
   "execution_count": 4,
   "metadata": {},
   "outputs": [
    {
     "name": "stdout",
     "output_type": "stream",
     "text": [
      "DMRlength\n",
      "reporter\n",
      "#cpg\n",
      "cpg_per_reporter\n"
     ]
    },
    {
     "data": {
      "image/png": "[encoded data removed]",
      "text/plain": [
       "<Figure size 1440x720 with 4 Axes>"
      ]
     },
     "metadata": {
      "needs_background": "light"
     },
     "output_type": "display_data"
    }
   ],
   "source": [
    "\n",
    "outdir=cwmetfolder+\"_stats\"\n",
    "if not os.path.exists(outdir):\n",
    "    os.makedirs(outdir)\n",
    "else:\n",
    "    print(\"folder exist. Exiting\")\n",
    "    sys.exit(1)\n",
    "\n",
    "\n",
    "files = glob.glob(cwmetfolder+'/*.txt')\n",
    "\n",
    "ctprofilelist=[]\n",
    "for file in files:\n",
    "    outfile=outdir+\"/\"+os.path.basename(file)\n",
    "    ctprofilelist.append(cellTypeProfile(file,fragsize,outfile))\n",
    "    \n",
    "    break\n",
    "    \n",
    "\n",
    "    \n",
    "    "
   ]
  },
  {
   "cell_type": "code",
   "execution_count": 5,
   "metadata": {},
   "outputs": [
    {
     "name": "stdout",
     "output_type": "stream",
     "text": [
      "done\n"
     ]
    }
   ],
   "source": [
    "print(\"done\")"
   ]
  }
 ],
 "metadata": {
  "kernelspec": {
   "display_name": "Python 3",
   "language": "python",
   "name": "python3"
  },
  "language_info": {
   "codemirror_mode": {
    "name": "ipython",
    "version": 3
   },
   "file_extension": ".py",
   "mimetype": "text/x-python",
   "name": "python",
   "nbconvert_exporter": "python",
   "pygments_lexer": "ipython3",
   "version": "3.6.7"
  }
 },
 "nbformat": 4,
 "nbformat_minor": 2
}
