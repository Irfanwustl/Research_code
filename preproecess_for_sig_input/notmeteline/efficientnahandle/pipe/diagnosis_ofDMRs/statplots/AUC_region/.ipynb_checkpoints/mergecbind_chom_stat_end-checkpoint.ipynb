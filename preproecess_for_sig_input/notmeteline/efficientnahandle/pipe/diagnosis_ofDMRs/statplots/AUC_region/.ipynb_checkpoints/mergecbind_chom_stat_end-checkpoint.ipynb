{
 "cells": [
  {
   "cell_type": "code",
   "execution_count": 1,
   "metadata": {},
   "outputs": [],
   "source": [
    "import pandas as pd\n",
    "import os.path\n",
    "f1AUC=\"/Users/irffanalahi/Research/Research_update/SM/melcfdref/LargerLTME/BluOurPBL/RD/forfinalcollect/allfinals/BlOurPBLourCD8TIL_maxcompperc75percetile/getAUC/dashboard/AUC_and_Region/prepare_regionfile/compartmentCD8TIL_response.txt_PreTxDCBvsNDB_AUC_CD8TIL.txt\"\n",
    "f2=\"/Users/irffanalahi/Research/Research_update/SM/melcfdref/LargerLTME/BluOurPBL/RD/forfinalcollect/allfinals/BlOurPBLourCD8TIL_maxcompperc75percetile/getAUC/dashboard/AUC_and_Region/prepare_regionfile/CD8TIL_row_combined.txt_prioritizedregion.txt\"\n",
    "outfile=f1AUC+os.path.basename(f2)\n",
    "f1df=pd.read_csv(f1AUC,sep=\"\\t\",index_col=[0,1,2])\n",
    "f2df=pd.read_csv(f2,sep=\"\\t\",index_col=[0,1,2])\n",
    "\n"
   ]
  },
  {
   "cell_type": "code",
   "execution_count": 2,
   "metadata": {},
   "outputs": [
    {
     "data": {
      "text/html": [
       "<div>\n",
       "<style scoped>\n",
       "    .dataframe tbody tr th:only-of-type {\n",
       "        vertical-align: middle;\n",
       "    }\n",
       "\n",
       "    .dataframe tbody tr th {\n",
       "        vertical-align: top;\n",
       "    }\n",
       "\n",
       "    .dataframe thead th {\n",
       "        text-align: right;\n",
       "    }\n",
       "</style>\n",
       "<table border=\"1\" class=\"dataframe\">\n",
       "  <thead>\n",
       "    <tr style=\"text-align: right;\">\n",
       "      <th></th>\n",
       "      <th></th>\n",
       "      <th></th>\n",
       "      <th>c</th>\n",
       "      <th>Region</th>\n",
       "    </tr>\n",
       "    <tr>\n",
       "      <th>chrom</th>\n",
       "      <th>start</th>\n",
       "      <th>end</th>\n",
       "      <th></th>\n",
       "      <th></th>\n",
       "    </tr>\n",
       "  </thead>\n",
       "  <tbody>\n",
       "    <tr>\n",
       "      <th>chr8</th>\n",
       "      <th>664479</th>\n",
       "      <th>665977</th>\n",
       "      <td>0.42</td>\n",
       "      <td>cds</td>\n",
       "    </tr>\n",
       "    <tr>\n",
       "      <th>chr4</th>\n",
       "      <th>77608166</th>\n",
       "      <th>77608745</th>\n",
       "      <td>0.50</td>\n",
       "      <td>intron</td>\n",
       "    </tr>\n",
       "    <tr>\n",
       "      <th>chr1</th>\n",
       "      <th>7932658</th>\n",
       "      <th>7933198</th>\n",
       "      <td>0.60</td>\n",
       "      <td>cds</td>\n",
       "    </tr>\n",
       "    <tr>\n",
       "      <th>chr10</th>\n",
       "      <th>124281041</th>\n",
       "      <th>124282218</th>\n",
       "      <td>0.64</td>\n",
       "      <td>repeat</td>\n",
       "    </tr>\n",
       "    <tr>\n",
       "      <th>chr5</th>\n",
       "      <th>157344083</th>\n",
       "      <th>157344794</th>\n",
       "      <td>0.60</td>\n",
       "      <td>intron</td>\n",
       "    </tr>\n",
       "  </tbody>\n",
       "</table>\n",
       "</div>"
      ],
      "text/plain": [
       "                              c  Region\n",
       "chrom start     end                    \n",
       "chr8  664479    665977     0.42     cds\n",
       "chr4  77608166  77608745   0.50  intron\n",
       "chr1  7932658   7933198    0.60     cds\n",
       "chr10 124281041 124282218  0.64  repeat\n",
       "chr5  157344083 157344794  0.60  intron"
      ]
     },
     "execution_count": 2,
     "metadata": {},
     "output_type": "execute_result"
    }
   ],
   "source": [
    "df_combined =f1df.merge(f2df,how=\"left\",on=['chrom','start','end']) #pd.concat([f1df,f2df], axis=1,join='inner')\n",
    "df_combined.head()"
   ]
  },
  {
   "cell_type": "code",
   "execution_count": 3,
   "metadata": {},
   "outputs": [],
   "source": [
    "df_combined.to_csv(outfile,sep=\"\\t\",na_rep=\"Else\")"
   ]
  }
 ],
 "metadata": {
  "kernelspec": {
   "display_name": "Python 3",
   "language": "python",
   "name": "python3"
  },
  "language_info": {
   "codemirror_mode": {
    "name": "ipython",
    "version": 3
   },
   "file_extension": ".py",
   "mimetype": "text/x-python",
   "name": "python",
   "nbconvert_exporter": "python",
   "pygments_lexer": "ipython3",
   "version": "3.6.7"
  }
 },
 "nbformat": 4,
 "nbformat_minor": 2
}
