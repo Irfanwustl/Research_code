{
 "cells": [
  {
   "cell_type": "code",
   "execution_count": 1,
   "metadata": {},
   "outputs": [],
   "source": [
    "import pandas as pd\n",
    "import glob\n",
    "import numpy as np\n",
    "import os\n",
    "metfolder=\"data_addedcol\"\n",
    "qcol=\"q\"\n",
    "deltacol=\"maxCompartmentwisedelta\"\n",
    "qcutoff=0.5#0.00001\n",
    "deltastart=-0.1\n",
    "deltaend=-0.6\n",
    "deltagap=-.1\n"
   ]
  },
  {
   "cell_type": "code",
   "execution_count": 2,
   "metadata": {},
   "outputs": [
    {
     "name": "stdout",
     "output_type": "stream",
     "text": [
      "[-0.1, -0.2, -0.3, -0.4, -0.5, -0.6]\n"
     ]
    }
   ],
   "source": [
    "totalnum=int(abs((deltaend-deltastart))*10+1)\n",
    "\n",
    "deltalist=(np.linspace(deltastart, deltaend, num=totalnum,retstep=deltagap)[0]).tolist()\n",
    "\n",
    "deltalist=[ round(elem, 2) for elem in deltalist ]\n",
    "\n",
    "print(deltalist)"
   ]
  },
  {
   "cell_type": "code",
   "execution_count": 3,
   "metadata": {},
   "outputs": [],
   "source": [
    "allmetfile=glob.glob(metfolder+\"/*.txt\")"
   ]
  },
  {
   "cell_type": "code",
   "execution_count": 4,
   "metadata": {},
   "outputs": [],
   "source": [
    "for tmpdelta in deltalist:\n",
    "    tmpoutdir=metfolder+\"_\"+qcol+str(qcutoff)+\"_\"+deltacol+str(tmpdelta)\n",
    "    os.makedirs(metfolder+\"_\"+qcol+str(qcutoff)+\"_\"+deltacol+str(tmpdelta))\n",
    "    for tmpmetfile in allmetfile:\n",
    "        tmpmetdf=pd.read_csv(tmpmetfile,sep=\"\\t\")\n",
    "        tmpoutdf=tmpmetdf.loc[(tmpmetdf[qcol]<=qcutoff) & (tmpmetdf[deltacol]<=tmpdelta)]\n",
    "        if tmpoutdf.shape[0]!=0:\n",
    "            tmpoutdf.to_csv(tmpoutdir+\"/\"+os.path.basename(tmpmetfile),sep=\"\\t\",index=False)\n",
    "       \n",
    "    "
   ]
  }
 ],
 "metadata": {
  "kernelspec": {
   "display_name": "Python 3",
   "language": "python",
   "name": "python3"
  },
  "language_info": {
   "codemirror_mode": {
    "name": "ipython",
    "version": 3
   },
   "file_extension": ".py",
   "mimetype": "text/x-python",
   "name": "python",
   "nbconvert_exporter": "python",
   "pygments_lexer": "ipython3",
   "version": "3.6.7"
  }
 },
 "nbformat": 4,
 "nbformat_minor": 2
}
