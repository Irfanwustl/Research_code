{
 "cells": [
  {
   "cell_type": "code",
   "execution_count": 1,
   "metadata": {},
   "outputs": [],
   "source": [
    "import pandas as pd\n",
    "import os\n",
    "import background_calculation"
   ]
  },
  {
   "cell_type": "code",
   "execution_count": 2,
   "metadata": {},
   "outputs": [],
   "source": [
    "\n",
    "infol = '/Users/irffanalahi/Research/Research_update/in-silico/background_calculation/binom_corr/DMR10.txt_result_final.txt_folder'\n",
    "gtfile='/Users/irffanalahi/Research/Research_update/in-silico/background_calculation/binom_corr/mixture_output_81205allrange_nozero.txt'  #mixture_output_81205allrange_nozero.txt\n",
    "gtdf=pd.read_csv(gtfile,sep=\"\\t\")\n",
    "celltype='mNeu'\n",
    "gtdf=gtdf[['Mixture',celltype+\"_real\"]]\n",
    "\n",
    "infiles = os.listdir(infol)\n",
    "\n",
    "if '.DS_Store' in infiles:\n",
    "    infiles.remove('.DS_Store')\n",
    "    \n",
    "if '.ipynb_checkpoints' in infiles:\n",
    "    infiles.remove('.ipynb_checkpoints')"
   ]
  },
  {
   "cell_type": "code",
   "execution_count": 3,
   "metadata": {},
   "outputs": [],
   "source": [
    "outdflist=[]\n",
    "\n",
    "\n",
    "for name in infiles:\n",
    "    file = infol + '/' + name\n",
    "    new_df = background_calculation.decode_files(file,celltype)\n",
    "    outdflist.append(new_df)\n",
    "out_df = pd.concat(outdflist, axis=0)"
   ]
  },
  {
   "cell_type": "code",
   "execution_count": 4,
   "metadata": {},
   "outputs": [],
   "source": [
    "out_df['false_neg/all_pos']=out_df['rejectedfalseCTcount'].astype('float64')/(out_df['acceptedtrueCTcount'].astype('float64')+out_df['rejectedfalseCTcount'].astype('float64'))\n",
    "out_df['false_neg/all_pos'] = out_df['false_neg/all_pos'].fillna(-1)\n",
    "\n",
    "out_df['false_pos/all_neg']=out_df['acceptedfalseCTcount'].astype('float64')/(out_df['acceptedfalseCTcount'].astype('float64')+out_df['rejectedtrueCTcount'].astype('float64'))\n",
    "out_df['false_pos/all_neg'] = out_df['false_pos/all_neg'].fillna(-1)\n",
    "\n",
    "out_df['F1-score']=out_df['acceptedtrueCTcount']/(out_df['acceptedtrueCTcount']+0.5*(out_df['acceptedfalseCTcount']+out_df['rejectedfalseCTcount']))\n",
    "\n",
    "out_df['F1-score']=out_df['F1-score'].fillna(-1)\n",
    "\n",
    "\n",
    "out_df['totalTestedreadCT']=out_df['acceptedtrueCTcount']+out_df['rejectedfalseCTcount']\n",
    "out_df['totalTestedreadnonCT']=out_df['acceptedfalseCTcount']+out_df['rejectedtrueCTcount']\n",
    "out_df['totalTestedread']=out_df['totalTestedreadCT']+out_df['totalTestedreadnonCT']\n",
    "out_df['totalread']=out_df['totalreadCT'] + out_df['totalreadnonCT']\n",
    "\n",
    "out_df[celltype+\"_real_rdtotal\"]=out_df['totalreadCT']/out_df['totalread']\n",
    "out_df[celltype+\"_real_rdtested\"]=out_df['totalTestedreadCT']/out_df['totalTestedread']"
   ]
  },
  {
   "cell_type": "code",
   "execution_count": 5,
   "metadata": {},
   "outputs": [],
   "source": [
    "out_df=out_df.merge(gtdf,on='Mixture')"
   ]
  },
  {
   "cell_type": "code",
   "execution_count": 6,
   "metadata": {},
   "outputs": [],
   "source": [
    "out_df.to_csv(infol+'collected_file.txt', sep='\\t', index=False)"
   ]
  }
 ],
 "metadata": {
  "kernelspec": {
   "display_name": "Python 3",
   "language": "python",
   "name": "python3"
  },
  "language_info": {
   "codemirror_mode": {
    "name": "ipython",
    "version": 3
   },
   "file_extension": ".py",
   "mimetype": "text/x-python",
   "name": "python",
   "nbconvert_exporter": "python",
   "pygments_lexer": "ipython3",
   "version": "3.6.7"
  }
 },
 "nbformat": 4,
 "nbformat_minor": 4
}
