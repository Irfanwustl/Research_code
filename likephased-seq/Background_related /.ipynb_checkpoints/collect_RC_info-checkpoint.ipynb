{
 "cells": [
  {
   "cell_type": "code",
   "execution_count": 1,
   "metadata": {},
   "outputs": [],
   "source": [
    "import pandas as pd\n",
    "import os\n",
    "import background_calculation"
   ]
  },
  {
   "cell_type": "code",
   "execution_count": 2,
   "metadata": {},
   "outputs": [],
   "source": [
    "cols = ['sample', 'mincpg', 'acceptedtrueCTcount', 'acceptedfalseCTcount', 'true_pos/all_pos', 'rejectedtrueCTcount', 'rejectedfalseCTcount', 'true_neg/all_neg']\n",
    "infol = '/Users/irffanalahi/Research/Research_code/gitignorefolder/backgroundCalculation/DMR5.txt_result_final.txt_foldersome'\n",
    "celltype='mNeu'\n",
    "infiles = os.listdir(infol)\n",
    "\n",
    "if '.DS_Store' in infiles:\n",
    "    infiles.remove('.DS_Store')\n",
    "    \n",
    "if '.ipynb_checkpoints' in infiles:\n",
    "    infiles.remove('.ipynb_checkpoints')"
   ]
  },
  {
   "cell_type": "code",
   "execution_count": 3,
   "metadata": {},
   "outputs": [],
   "source": [
    "out_df = pd.DataFrame(columns=cols)\n",
    "\n",
    "for name in infiles:\n",
    "    file = infol + '/' + name\n",
    "    new_df = background_calculation.decode_files(file, cols)\n",
    "    out_df = pd.concat([out_df, new_df], axis=0)"
   ]
  },
  {
   "cell_type": "code",
   "execution_count": 4,
   "metadata": {},
   "outputs": [],
   "source": [
    "out_df['false_neg/all_pos']=out_df['rejectedfalseCTcount'].astype('float64')/(out_df['acceptedtrueCTcount'].astype('float64')+out_df['rejectedfalseCTcount'].astype('float64'))\n",
    "out_df['false_neg/all_pos'] = out_df['false_neg/all_pos'].fillna(-1)\n",
    "\n",
    "out_df['false_pos/all_neg']=out_df['acceptedfalseCTcount'].astype('float64')/(out_df['acceptedfalseCTcount'].astype('float64')+out_df['rejectedtrueCTcount'].astype('float64'))\n",
    "out_df['false_pos/all_neg'] = out_df['false_pos/all_neg'].fillna(-1)"
   ]
  },
  {
   "cell_type": "code",
   "execution_count": 5,
   "metadata": {},
   "outputs": [],
   "source": [
    "out_df.to_csv(infol+'collected_file.txt', sep='\\t', index=False)"
   ]
  }
 ],
 "metadata": {
  "kernelspec": {
   "display_name": "Python 3",
   "language": "python",
   "name": "python3"
  },
  "language_info": {
   "codemirror_mode": {
    "name": "ipython",
    "version": 3
   },
   "file_extension": ".py",
   "mimetype": "text/x-python",
   "name": "python",
   "nbconvert_exporter": "python",
   "pygments_lexer": "ipython3",
   "version": "3.6.7"
  }
 },
 "nbformat": 4,
 "nbformat_minor": 4
}
