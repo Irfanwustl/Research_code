{
 "cells": [
  {
   "cell_type": "code",
   "execution_count": 1,
   "metadata": {},
   "outputs": [
    {
     "data": {
      "text/html": [
       "<div>\n",
       "<style scoped>\n",
       "    .dataframe tbody tr th:only-of-type {\n",
       "        vertical-align: middle;\n",
       "    }\n",
       "\n",
       "    .dataframe tbody tr th {\n",
       "        vertical-align: top;\n",
       "    }\n",
       "\n",
       "    .dataframe thead th {\n",
       "        text-align: right;\n",
       "    }\n",
       "</style>\n",
       "<table border=\"1\" class=\"dataframe\">\n",
       "  <thead>\n",
       "    <tr style=\"text-align: right;\">\n",
       "      <th></th>\n",
       "      <th>chrom</th>\n",
       "      <th>start</th>\n",
       "      <th>end</th>\n",
       "      <th>#TP_fragment</th>\n",
       "      <th>#FP_fragment</th>\n",
       "      <th>#TN_fragment</th>\n",
       "      <th>#FN_fragment</th>\n",
       "      <th>#Total_Fragment</th>\n",
       "      <th>TPR</th>\n",
       "      <th>FPR</th>\n",
       "      <th>FDR</th>\n",
       "    </tr>\n",
       "  </thead>\n",
       "  <tbody>\n",
       "    <tr>\n",
       "      <th>0</th>\n",
       "      <td>chr1</td>\n",
       "      <td>32387133</td>\n",
       "      <td>32387499</td>\n",
       "      <td>0.822727</td>\n",
       "      <td>2.109091</td>\n",
       "      <td>123.093939</td>\n",
       "      <td>1.772727</td>\n",
       "      <td>127.798485</td>\n",
       "      <td>0.624073</td>\n",
       "      <td>0.013452</td>\n",
       "      <td>0.851987</td>\n",
       "    </tr>\n",
       "    <tr>\n",
       "      <th>1</th>\n",
       "      <td>chr10</td>\n",
       "      <td>5754070</td>\n",
       "      <td>5754515</td>\n",
       "      <td>1.392308</td>\n",
       "      <td>5.670513</td>\n",
       "      <td>131.166667</td>\n",
       "      <td>1.261538</td>\n",
       "      <td>139.491026</td>\n",
       "      <td>0.344499</td>\n",
       "      <td>0.042307</td>\n",
       "      <td>0.885537</td>\n",
       "    </tr>\n",
       "    <tr>\n",
       "      <th>2</th>\n",
       "      <td>chr11</td>\n",
       "      <td>64490608</td>\n",
       "      <td>64490797</td>\n",
       "      <td>4.360000</td>\n",
       "      <td>51.411667</td>\n",
       "      <td>282.495000</td>\n",
       "      <td>3.370000</td>\n",
       "      <td>341.636667</td>\n",
       "      <td>0.427657</td>\n",
       "      <td>0.153829</td>\n",
       "      <td>0.937214</td>\n",
       "    </tr>\n",
       "    <tr>\n",
       "      <th>3</th>\n",
       "      <td>chr12</td>\n",
       "      <td>3905651</td>\n",
       "      <td>3906251</td>\n",
       "      <td>3.587500</td>\n",
       "      <td>30.597917</td>\n",
       "      <td>182.606250</td>\n",
       "      <td>1.950000</td>\n",
       "      <td>218.741667</td>\n",
       "      <td>0.568029</td>\n",
       "      <td>0.125205</td>\n",
       "      <td>0.882720</td>\n",
       "    </tr>\n",
       "    <tr>\n",
       "      <th>4</th>\n",
       "      <td>chr14</td>\n",
       "      <td>77029428</td>\n",
       "      <td>77029733</td>\n",
       "      <td>2.050000</td>\n",
       "      <td>23.165152</td>\n",
       "      <td>201.709091</td>\n",
       "      <td>1.345455</td>\n",
       "      <td>228.269697</td>\n",
       "      <td>0.399051</td>\n",
       "      <td>0.108957</td>\n",
       "      <td>0.935254</td>\n",
       "    </tr>\n",
       "  </tbody>\n",
       "</table>\n",
       "</div>"
      ],
      "text/plain": [
       "   chrom     start       end  #TP_fragment  #FP_fragment  #TN_fragment  \\\n",
       "0   chr1  32387133  32387499      0.822727      2.109091    123.093939   \n",
       "1  chr10   5754070   5754515      1.392308      5.670513    131.166667   \n",
       "2  chr11  64490608  64490797      4.360000     51.411667    282.495000   \n",
       "3  chr12   3905651   3906251      3.587500     30.597917    182.606250   \n",
       "4  chr14  77029428  77029733      2.050000     23.165152    201.709091   \n",
       "\n",
       "   #FN_fragment  #Total_Fragment       TPR       FPR       FDR  \n",
       "0      1.772727       127.798485  0.624073  0.013452  0.851987  \n",
       "1      1.261538       139.491026  0.344499  0.042307  0.885537  \n",
       "2      3.370000       341.636667  0.427657  0.153829  0.937214  \n",
       "3      1.950000       218.741667  0.568029  0.125205  0.882720  \n",
       "4      1.345455       228.269697  0.399051  0.108957  0.935254  "
      ]
     },
     "execution_count": 1,
     "metadata": {},
     "output_type": "execute_result"
    }
   ],
   "source": [
    "import pandas as pd\n",
    "from scipy.stats.mstats import pearsonr, spearmanr\n",
    "import seaborn as sns\n",
    "import matplotlib.pyplot as plt\n",
    "import numpy as np\n",
    "\n",
    "DMRsigfile=\"/Users/irffanalahi/Research/Research_update/SM/ShowcaseSM/BL17_14/BL14_feature_significance/CD4/mincpg1_feature_significance_Allfile_DMRwise_avg.txt\"\n",
    "\n",
    "metCWfile=\"/Users/irffanalahi/Research/Research_update/SM/ShowcaseSM/BL17_14/BL14_feature_significance/CD4/BL14_all_matrixCin_nr0.4_imputed_g1_CD4_3_g2_others_33.txt\"\n",
    "\n",
    "\n",
    "DMRsigdf=pd.read_csv(DMRsigfile,sep=\"\\t\")\n",
    "\n",
    "DMRsigdf.rename(columns={'DMRchr':'chrom','DMRstart':'start','DMRend':'end'},inplace=True)\n",
    "DMRsigdf.head()\n"
   ]
  },
  {
   "cell_type": "code",
   "execution_count": 2,
   "metadata": {},
   "outputs": [
    {
     "data": {
      "text/html": [
       "<div>\n",
       "<style scoped>\n",
       "    .dataframe tbody tr th:only-of-type {\n",
       "        vertical-align: middle;\n",
       "    }\n",
       "\n",
       "    .dataframe tbody tr th {\n",
       "        vertical-align: top;\n",
       "    }\n",
       "\n",
       "    .dataframe thead th {\n",
       "        text-align: right;\n",
       "    }\n",
       "</style>\n",
       "<table border=\"1\" class=\"dataframe\">\n",
       "  <thead>\n",
       "    <tr style=\"text-align: right;\">\n",
       "      <th></th>\n",
       "      <th>chrom</th>\n",
       "      <th>start</th>\n",
       "      <th>end</th>\n",
       "      <th>q</th>\n",
       "      <th>diff</th>\n",
       "      <th>#cpg</th>\n",
       "      <th>p(MWU)</th>\n",
       "      <th>p(2dks)</th>\n",
       "      <th>CD4</th>\n",
       "      <th>others</th>\n",
       "      <th>...</th>\n",
       "      <th>CD4-m8</th>\n",
       "      <th>CD4-DC</th>\n",
       "      <th>CD4-Eo</th>\n",
       "      <th>CD4-Tr</th>\n",
       "      <th>CD4-m4</th>\n",
       "      <th>CD4-Mg</th>\n",
       "      <th>CD4-Er</th>\n",
       "      <th>CD4-mB</th>\n",
       "      <th>maxCompartmentwisedelta</th>\n",
       "      <th>minCompartmentwiseDelta</th>\n",
       "    </tr>\n",
       "  </thead>\n",
       "  <tbody>\n",
       "    <tr>\n",
       "      <th>0</th>\n",
       "      <td>chr1</td>\n",
       "      <td>32387133</td>\n",
       "      <td>32387499</td>\n",
       "      <td>1.785900e-12</td>\n",
       "      <td>-0.584534</td>\n",
       "      <td>11</td>\n",
       "      <td>4.363200e-14</td>\n",
       "      <td>9.452200e-17</td>\n",
       "      <td>0.35261</td>\n",
       "      <td>0.93714</td>\n",
       "      <td>...</td>\n",
       "      <td>-0.590663</td>\n",
       "      <td>-0.627905</td>\n",
       "      <td>-0.584754</td>\n",
       "      <td>-0.501935</td>\n",
       "      <td>-0.452617</td>\n",
       "      <td>-0.601208</td>\n",
       "      <td>-0.608663</td>\n",
       "      <td>-0.614178</td>\n",
       "      <td>-0.452617</td>\n",
       "      <td>-0.635087</td>\n",
       "    </tr>\n",
       "    <tr>\n",
       "      <th>1</th>\n",
       "      <td>chr10</td>\n",
       "      <td>5754070</td>\n",
       "      <td>5754515</td>\n",
       "      <td>1.133300e-13</td>\n",
       "      <td>-0.583604</td>\n",
       "      <td>13</td>\n",
       "      <td>4.496400e-14</td>\n",
       "      <td>4.844000e-18</td>\n",
       "      <td>0.30687</td>\n",
       "      <td>0.89048</td>\n",
       "      <td>...</td>\n",
       "      <td>-0.434899</td>\n",
       "      <td>-0.660617</td>\n",
       "      <td>-0.611245</td>\n",
       "      <td>-0.352938</td>\n",
       "      <td>-0.337668</td>\n",
       "      <td>-0.662784</td>\n",
       "      <td>-0.663015</td>\n",
       "      <td>-0.661489</td>\n",
       "      <td>-0.337668</td>\n",
       "      <td>-0.675412</td>\n",
       "    </tr>\n",
       "    <tr>\n",
       "      <th>2</th>\n",
       "      <td>chr11</td>\n",
       "      <td>64490608</td>\n",
       "      <td>64490797</td>\n",
       "      <td>3.732800e-10</td>\n",
       "      <td>-0.555806</td>\n",
       "      <td>10</td>\n",
       "      <td>4.196600e-14</td>\n",
       "      <td>3.598000e-14</td>\n",
       "      <td>0.19153</td>\n",
       "      <td>0.74734</td>\n",
       "      <td>...</td>\n",
       "      <td>-0.354470</td>\n",
       "      <td>-0.628070</td>\n",
       "      <td>-0.602220</td>\n",
       "      <td>-0.519620</td>\n",
       "      <td>-0.316970</td>\n",
       "      <td>-0.726920</td>\n",
       "      <td>-0.669520</td>\n",
       "      <td>-0.539303</td>\n",
       "      <td>-0.316970</td>\n",
       "      <td>-0.726920</td>\n",
       "    </tr>\n",
       "    <tr>\n",
       "      <th>3</th>\n",
       "      <td>chr12</td>\n",
       "      <td>3905651</td>\n",
       "      <td>3906251</td>\n",
       "      <td>2.642700e-10</td>\n",
       "      <td>-0.658527</td>\n",
       "      <td>8</td>\n",
       "      <td>5.173600e-14</td>\n",
       "      <td>2.418200e-14</td>\n",
       "      <td>0.17879</td>\n",
       "      <td>0.83732</td>\n",
       "      <td>...</td>\n",
       "      <td>-0.552210</td>\n",
       "      <td>-0.770793</td>\n",
       "      <td>-0.317085</td>\n",
       "      <td>-0.674397</td>\n",
       "      <td>-0.467648</td>\n",
       "      <td>-0.630022</td>\n",
       "      <td>-0.632148</td>\n",
       "      <td>-0.704043</td>\n",
       "      <td>-0.317085</td>\n",
       "      <td>-0.790710</td>\n",
       "    </tr>\n",
       "    <tr>\n",
       "      <th>4</th>\n",
       "      <td>chr14</td>\n",
       "      <td>77029428</td>\n",
       "      <td>77029733</td>\n",
       "      <td>1.273400e-14</td>\n",
       "      <td>-0.587526</td>\n",
       "      <td>11</td>\n",
       "      <td>4.607400e-14</td>\n",
       "      <td>4.440900e-19</td>\n",
       "      <td>0.18803</td>\n",
       "      <td>0.77556</td>\n",
       "      <td>...</td>\n",
       "      <td>-0.630197</td>\n",
       "      <td>-0.707849</td>\n",
       "      <td>-0.569470</td>\n",
       "      <td>-0.372152</td>\n",
       "      <td>-0.406061</td>\n",
       "      <td>-0.703652</td>\n",
       "      <td>-0.691561</td>\n",
       "      <td>-0.399818</td>\n",
       "      <td>-0.366546</td>\n",
       "      <td>-0.744940</td>\n",
       "    </tr>\n",
       "  </tbody>\n",
       "</table>\n",
       "<p>5 rows × 40 columns</p>\n",
       "</div>"
      ],
      "text/plain": [
       "   chrom     start       end             q      diff  #cpg        p(MWU)  \\\n",
       "0   chr1  32387133  32387499  1.785900e-12 -0.584534    11  4.363200e-14   \n",
       "1  chr10   5754070   5754515  1.133300e-13 -0.583604    13  4.496400e-14   \n",
       "2  chr11  64490608  64490797  3.732800e-10 -0.555806    10  4.196600e-14   \n",
       "3  chr12   3905651   3906251  2.642700e-10 -0.658527     8  5.173600e-14   \n",
       "4  chr14  77029428  77029733  1.273400e-14 -0.587526    11  4.607400e-14   \n",
       "\n",
       "        p(2dks)      CD4   others  ...    CD4-m8    CD4-DC    CD4-Eo  \\\n",
       "0  9.452200e-17  0.35261  0.93714  ... -0.590663 -0.627905 -0.584754   \n",
       "1  4.844000e-18  0.30687  0.89048  ... -0.434899 -0.660617 -0.611245   \n",
       "2  3.598000e-14  0.19153  0.74734  ... -0.354470 -0.628070 -0.602220   \n",
       "3  2.418200e-14  0.17879  0.83732  ... -0.552210 -0.770793 -0.317085   \n",
       "4  4.440900e-19  0.18803  0.77556  ... -0.630197 -0.707849 -0.569470   \n",
       "\n",
       "     CD4-Tr    CD4-m4    CD4-Mg    CD4-Er    CD4-mB  maxCompartmentwisedelta  \\\n",
       "0 -0.501935 -0.452617 -0.601208 -0.608663 -0.614178                -0.452617   \n",
       "1 -0.352938 -0.337668 -0.662784 -0.663015 -0.661489                -0.337668   \n",
       "2 -0.519620 -0.316970 -0.726920 -0.669520 -0.539303                -0.316970   \n",
       "3 -0.674397 -0.467648 -0.630022 -0.632148 -0.704043                -0.317085   \n",
       "4 -0.372152 -0.406061 -0.703652 -0.691561 -0.399818                -0.366546   \n",
       "\n",
       "   minCompartmentwiseDelta  \n",
       "0                -0.635087  \n",
       "1                -0.675412  \n",
       "2                -0.726920  \n",
       "3                -0.790710  \n",
       "4                -0.744940  \n",
       "\n",
       "[5 rows x 40 columns]"
      ]
     },
     "execution_count": 2,
     "metadata": {},
     "output_type": "execute_result"
    }
   ],
   "source": [
    "metCWdf=pd.read_csv(metCWfile,sep=\"\\t\")\n",
    "metCWdf.head()"
   ]
  },
  {
   "cell_type": "code",
   "execution_count": 3,
   "metadata": {},
   "outputs": [
    {
     "data": {
      "text/html": [
       "<div>\n",
       "<style scoped>\n",
       "    .dataframe tbody tr th:only-of-type {\n",
       "        vertical-align: middle;\n",
       "    }\n",
       "\n",
       "    .dataframe tbody tr th {\n",
       "        vertical-align: top;\n",
       "    }\n",
       "\n",
       "    .dataframe thead th {\n",
       "        text-align: right;\n",
       "    }\n",
       "</style>\n",
       "<table border=\"1\" class=\"dataframe\">\n",
       "  <thead>\n",
       "    <tr style=\"text-align: right;\">\n",
       "      <th></th>\n",
       "      <th>chrom</th>\n",
       "      <th>start</th>\n",
       "      <th>end</th>\n",
       "      <th>#TP_fragment</th>\n",
       "      <th>#FP_fragment</th>\n",
       "      <th>#TN_fragment</th>\n",
       "      <th>#FN_fragment</th>\n",
       "      <th>#Total_Fragment</th>\n",
       "      <th>TPR</th>\n",
       "      <th>FPR</th>\n",
       "      <th>...</th>\n",
       "      <th>CD4-m8</th>\n",
       "      <th>CD4-DC</th>\n",
       "      <th>CD4-Eo</th>\n",
       "      <th>CD4-Tr</th>\n",
       "      <th>CD4-m4</th>\n",
       "      <th>CD4-Mg</th>\n",
       "      <th>CD4-Er</th>\n",
       "      <th>CD4-mB</th>\n",
       "      <th>maxCompartmentwisedelta</th>\n",
       "      <th>minCompartmentwiseDelta</th>\n",
       "    </tr>\n",
       "  </thead>\n",
       "  <tbody>\n",
       "    <tr>\n",
       "      <th>0</th>\n",
       "      <td>chr1</td>\n",
       "      <td>32387133</td>\n",
       "      <td>32387499</td>\n",
       "      <td>0.822727</td>\n",
       "      <td>2.109091</td>\n",
       "      <td>123.093939</td>\n",
       "      <td>1.772727</td>\n",
       "      <td>127.798485</td>\n",
       "      <td>0.624073</td>\n",
       "      <td>0.013452</td>\n",
       "      <td>...</td>\n",
       "      <td>-0.590663</td>\n",
       "      <td>-0.627905</td>\n",
       "      <td>-0.584754</td>\n",
       "      <td>-0.501935</td>\n",
       "      <td>-0.452617</td>\n",
       "      <td>-0.601208</td>\n",
       "      <td>-0.608663</td>\n",
       "      <td>-0.614178</td>\n",
       "      <td>-0.452617</td>\n",
       "      <td>-0.635087</td>\n",
       "    </tr>\n",
       "    <tr>\n",
       "      <th>1</th>\n",
       "      <td>chr10</td>\n",
       "      <td>5754070</td>\n",
       "      <td>5754515</td>\n",
       "      <td>1.392308</td>\n",
       "      <td>5.670513</td>\n",
       "      <td>131.166667</td>\n",
       "      <td>1.261538</td>\n",
       "      <td>139.491026</td>\n",
       "      <td>0.344499</td>\n",
       "      <td>0.042307</td>\n",
       "      <td>...</td>\n",
       "      <td>-0.434899</td>\n",
       "      <td>-0.660617</td>\n",
       "      <td>-0.611245</td>\n",
       "      <td>-0.352938</td>\n",
       "      <td>-0.337668</td>\n",
       "      <td>-0.662784</td>\n",
       "      <td>-0.663015</td>\n",
       "      <td>-0.661489</td>\n",
       "      <td>-0.337668</td>\n",
       "      <td>-0.675412</td>\n",
       "    </tr>\n",
       "    <tr>\n",
       "      <th>2</th>\n",
       "      <td>chr11</td>\n",
       "      <td>64490608</td>\n",
       "      <td>64490797</td>\n",
       "      <td>4.360000</td>\n",
       "      <td>51.411667</td>\n",
       "      <td>282.495000</td>\n",
       "      <td>3.370000</td>\n",
       "      <td>341.636667</td>\n",
       "      <td>0.427657</td>\n",
       "      <td>0.153829</td>\n",
       "      <td>...</td>\n",
       "      <td>-0.354470</td>\n",
       "      <td>-0.628070</td>\n",
       "      <td>-0.602220</td>\n",
       "      <td>-0.519620</td>\n",
       "      <td>-0.316970</td>\n",
       "      <td>-0.726920</td>\n",
       "      <td>-0.669520</td>\n",
       "      <td>-0.539303</td>\n",
       "      <td>-0.316970</td>\n",
       "      <td>-0.726920</td>\n",
       "    </tr>\n",
       "    <tr>\n",
       "      <th>3</th>\n",
       "      <td>chr12</td>\n",
       "      <td>3905651</td>\n",
       "      <td>3906251</td>\n",
       "      <td>3.587500</td>\n",
       "      <td>30.597917</td>\n",
       "      <td>182.606250</td>\n",
       "      <td>1.950000</td>\n",
       "      <td>218.741667</td>\n",
       "      <td>0.568029</td>\n",
       "      <td>0.125205</td>\n",
       "      <td>...</td>\n",
       "      <td>-0.552210</td>\n",
       "      <td>-0.770793</td>\n",
       "      <td>-0.317085</td>\n",
       "      <td>-0.674397</td>\n",
       "      <td>-0.467648</td>\n",
       "      <td>-0.630022</td>\n",
       "      <td>-0.632148</td>\n",
       "      <td>-0.704043</td>\n",
       "      <td>-0.317085</td>\n",
       "      <td>-0.790710</td>\n",
       "    </tr>\n",
       "    <tr>\n",
       "      <th>4</th>\n",
       "      <td>chr14</td>\n",
       "      <td>77029428</td>\n",
       "      <td>77029733</td>\n",
       "      <td>2.050000</td>\n",
       "      <td>23.165152</td>\n",
       "      <td>201.709091</td>\n",
       "      <td>1.345455</td>\n",
       "      <td>228.269697</td>\n",
       "      <td>0.399051</td>\n",
       "      <td>0.108957</td>\n",
       "      <td>...</td>\n",
       "      <td>-0.630197</td>\n",
       "      <td>-0.707849</td>\n",
       "      <td>-0.569470</td>\n",
       "      <td>-0.372152</td>\n",
       "      <td>-0.406061</td>\n",
       "      <td>-0.703652</td>\n",
       "      <td>-0.691561</td>\n",
       "      <td>-0.399818</td>\n",
       "      <td>-0.366546</td>\n",
       "      <td>-0.744940</td>\n",
       "    </tr>\n",
       "  </tbody>\n",
       "</table>\n",
       "<p>5 rows × 48 columns</p>\n",
       "</div>"
      ],
      "text/plain": [
       "   chrom     start       end  #TP_fragment  #FP_fragment  #TN_fragment  \\\n",
       "0   chr1  32387133  32387499      0.822727      2.109091    123.093939   \n",
       "1  chr10   5754070   5754515      1.392308      5.670513    131.166667   \n",
       "2  chr11  64490608  64490797      4.360000     51.411667    282.495000   \n",
       "3  chr12   3905651   3906251      3.587500     30.597917    182.606250   \n",
       "4  chr14  77029428  77029733      2.050000     23.165152    201.709091   \n",
       "\n",
       "   #FN_fragment  #Total_Fragment       TPR       FPR  ...    CD4-m8    CD4-DC  \\\n",
       "0      1.772727       127.798485  0.624073  0.013452  ... -0.590663 -0.627905   \n",
       "1      1.261538       139.491026  0.344499  0.042307  ... -0.434899 -0.660617   \n",
       "2      3.370000       341.636667  0.427657  0.153829  ... -0.354470 -0.628070   \n",
       "3      1.950000       218.741667  0.568029  0.125205  ... -0.552210 -0.770793   \n",
       "4      1.345455       228.269697  0.399051  0.108957  ... -0.630197 -0.707849   \n",
       "\n",
       "     CD4-Eo    CD4-Tr    CD4-m4    CD4-Mg    CD4-Er    CD4-mB  \\\n",
       "0 -0.584754 -0.501935 -0.452617 -0.601208 -0.608663 -0.614178   \n",
       "1 -0.611245 -0.352938 -0.337668 -0.662784 -0.663015 -0.661489   \n",
       "2 -0.602220 -0.519620 -0.316970 -0.726920 -0.669520 -0.539303   \n",
       "3 -0.317085 -0.674397 -0.467648 -0.630022 -0.632148 -0.704043   \n",
       "4 -0.569470 -0.372152 -0.406061 -0.703652 -0.691561 -0.399818   \n",
       "\n",
       "   maxCompartmentwisedelta  minCompartmentwiseDelta  \n",
       "0                -0.452617                -0.635087  \n",
       "1                -0.337668                -0.675412  \n",
       "2                -0.316970                -0.726920  \n",
       "3                -0.317085                -0.790710  \n",
       "4                -0.366546                -0.744940  \n",
       "\n",
       "[5 rows x 48 columns]"
      ]
     },
     "execution_count": 3,
     "metadata": {},
     "output_type": "execute_result"
    }
   ],
   "source": [
    "combined=DMRsigdf.merge(metCWdf,on=['chrom','start','end'])\n",
    "combined.head()"
   ]
  },
  {
   "cell_type": "code",
   "execution_count": 4,
   "metadata": {},
   "outputs": [
    {
     "data": {
      "text/plain": [
       "(21, 48)"
      ]
     },
     "execution_count": 4,
     "metadata": {},
     "output_type": "execute_result"
    }
   ],
   "source": [
    "combined.shape"
   ]
  },
  {
   "cell_type": "code",
   "execution_count": 5,
   "metadata": {},
   "outputs": [
    {
     "data": {
      "text/html": [
       "<div>\n",
       "<style scoped>\n",
       "    .dataframe tbody tr th:only-of-type {\n",
       "        vertical-align: middle;\n",
       "    }\n",
       "\n",
       "    .dataframe tbody tr th {\n",
       "        vertical-align: top;\n",
       "    }\n",
       "\n",
       "    .dataframe thead th {\n",
       "        text-align: right;\n",
       "    }\n",
       "</style>\n",
       "<table border=\"1\" class=\"dataframe\">\n",
       "  <thead>\n",
       "    <tr style=\"text-align: right;\">\n",
       "      <th></th>\n",
       "      <th>chrom</th>\n",
       "      <th>start</th>\n",
       "      <th>end</th>\n",
       "      <th>#TP_fragment</th>\n",
       "      <th>#FP_fragment</th>\n",
       "      <th>#TN_fragment</th>\n",
       "      <th>#FN_fragment</th>\n",
       "      <th>#Total_Fragment</th>\n",
       "      <th>TPR</th>\n",
       "      <th>FPR</th>\n",
       "      <th>...</th>\n",
       "      <th>CD4-m4</th>\n",
       "      <th>CD4-Mg</th>\n",
       "      <th>CD4-Er</th>\n",
       "      <th>CD4-mB</th>\n",
       "      <th>maxCompartmentwisedelta</th>\n",
       "      <th>minCompartmentwiseDelta</th>\n",
       "      <th>DMRlength</th>\n",
       "      <th>#cpg/DMRlength</th>\n",
       "      <th>DMRlength/#Total_Fragment</th>\n",
       "      <th>#Total_Fragment/DMRlength</th>\n",
       "    </tr>\n",
       "  </thead>\n",
       "  <tbody>\n",
       "    <tr>\n",
       "      <th>0</th>\n",
       "      <td>chr1</td>\n",
       "      <td>32387133</td>\n",
       "      <td>32387499</td>\n",
       "      <td>0.822727</td>\n",
       "      <td>2.109091</td>\n",
       "      <td>123.093939</td>\n",
       "      <td>1.772727</td>\n",
       "      <td>127.798485</td>\n",
       "      <td>0.624073</td>\n",
       "      <td>0.013452</td>\n",
       "      <td>...</td>\n",
       "      <td>-0.452617</td>\n",
       "      <td>-0.601208</td>\n",
       "      <td>-0.608663</td>\n",
       "      <td>-0.614178</td>\n",
       "      <td>-0.452617</td>\n",
       "      <td>-0.635087</td>\n",
       "      <td>366</td>\n",
       "      <td>0.030055</td>\n",
       "      <td>2.863884</td>\n",
       "      <td>0.349176</td>\n",
       "    </tr>\n",
       "    <tr>\n",
       "      <th>1</th>\n",
       "      <td>chr10</td>\n",
       "      <td>5754070</td>\n",
       "      <td>5754515</td>\n",
       "      <td>1.392308</td>\n",
       "      <td>5.670513</td>\n",
       "      <td>131.166667</td>\n",
       "      <td>1.261538</td>\n",
       "      <td>139.491026</td>\n",
       "      <td>0.344499</td>\n",
       "      <td>0.042307</td>\n",
       "      <td>...</td>\n",
       "      <td>-0.337668</td>\n",
       "      <td>-0.662784</td>\n",
       "      <td>-0.663015</td>\n",
       "      <td>-0.661489</td>\n",
       "      <td>-0.337668</td>\n",
       "      <td>-0.675412</td>\n",
       "      <td>445</td>\n",
       "      <td>0.029213</td>\n",
       "      <td>3.190169</td>\n",
       "      <td>0.313463</td>\n",
       "    </tr>\n",
       "    <tr>\n",
       "      <th>2</th>\n",
       "      <td>chr11</td>\n",
       "      <td>64490608</td>\n",
       "      <td>64490797</td>\n",
       "      <td>4.360000</td>\n",
       "      <td>51.411667</td>\n",
       "      <td>282.495000</td>\n",
       "      <td>3.370000</td>\n",
       "      <td>341.636667</td>\n",
       "      <td>0.427657</td>\n",
       "      <td>0.153829</td>\n",
       "      <td>...</td>\n",
       "      <td>-0.316970</td>\n",
       "      <td>-0.726920</td>\n",
       "      <td>-0.669520</td>\n",
       "      <td>-0.539303</td>\n",
       "      <td>-0.316970</td>\n",
       "      <td>-0.726920</td>\n",
       "      <td>189</td>\n",
       "      <td>0.052910</td>\n",
       "      <td>0.553219</td>\n",
       "      <td>1.807601</td>\n",
       "    </tr>\n",
       "    <tr>\n",
       "      <th>3</th>\n",
       "      <td>chr12</td>\n",
       "      <td>3905651</td>\n",
       "      <td>3906251</td>\n",
       "      <td>3.587500</td>\n",
       "      <td>30.597917</td>\n",
       "      <td>182.606250</td>\n",
       "      <td>1.950000</td>\n",
       "      <td>218.741667</td>\n",
       "      <td>0.568029</td>\n",
       "      <td>0.125205</td>\n",
       "      <td>...</td>\n",
       "      <td>-0.467648</td>\n",
       "      <td>-0.630022</td>\n",
       "      <td>-0.632148</td>\n",
       "      <td>-0.704043</td>\n",
       "      <td>-0.317085</td>\n",
       "      <td>-0.790710</td>\n",
       "      <td>600</td>\n",
       "      <td>0.013333</td>\n",
       "      <td>2.742962</td>\n",
       "      <td>0.364569</td>\n",
       "    </tr>\n",
       "    <tr>\n",
       "      <th>4</th>\n",
       "      <td>chr14</td>\n",
       "      <td>77029428</td>\n",
       "      <td>77029733</td>\n",
       "      <td>2.050000</td>\n",
       "      <td>23.165152</td>\n",
       "      <td>201.709091</td>\n",
       "      <td>1.345455</td>\n",
       "      <td>228.269697</td>\n",
       "      <td>0.399051</td>\n",
       "      <td>0.108957</td>\n",
       "      <td>...</td>\n",
       "      <td>-0.406061</td>\n",
       "      <td>-0.703652</td>\n",
       "      <td>-0.691561</td>\n",
       "      <td>-0.399818</td>\n",
       "      <td>-0.366546</td>\n",
       "      <td>-0.744940</td>\n",
       "      <td>305</td>\n",
       "      <td>0.036066</td>\n",
       "      <td>1.336139</td>\n",
       "      <td>0.748425</td>\n",
       "    </tr>\n",
       "  </tbody>\n",
       "</table>\n",
       "<p>5 rows × 52 columns</p>\n",
       "</div>"
      ],
      "text/plain": [
       "   chrom     start       end  #TP_fragment  #FP_fragment  #TN_fragment  \\\n",
       "0   chr1  32387133  32387499      0.822727      2.109091    123.093939   \n",
       "1  chr10   5754070   5754515      1.392308      5.670513    131.166667   \n",
       "2  chr11  64490608  64490797      4.360000     51.411667    282.495000   \n",
       "3  chr12   3905651   3906251      3.587500     30.597917    182.606250   \n",
       "4  chr14  77029428  77029733      2.050000     23.165152    201.709091   \n",
       "\n",
       "   #FN_fragment  #Total_Fragment       TPR       FPR  ...    CD4-m4    CD4-Mg  \\\n",
       "0      1.772727       127.798485  0.624073  0.013452  ... -0.452617 -0.601208   \n",
       "1      1.261538       139.491026  0.344499  0.042307  ... -0.337668 -0.662784   \n",
       "2      3.370000       341.636667  0.427657  0.153829  ... -0.316970 -0.726920   \n",
       "3      1.950000       218.741667  0.568029  0.125205  ... -0.467648 -0.630022   \n",
       "4      1.345455       228.269697  0.399051  0.108957  ... -0.406061 -0.703652   \n",
       "\n",
       "     CD4-Er    CD4-mB  maxCompartmentwisedelta  minCompartmentwiseDelta  \\\n",
       "0 -0.608663 -0.614178                -0.452617                -0.635087   \n",
       "1 -0.663015 -0.661489                -0.337668                -0.675412   \n",
       "2 -0.669520 -0.539303                -0.316970                -0.726920   \n",
       "3 -0.632148 -0.704043                -0.317085                -0.790710   \n",
       "4 -0.691561 -0.399818                -0.366546                -0.744940   \n",
       "\n",
       "   DMRlength  #cpg/DMRlength  DMRlength/#Total_Fragment  \\\n",
       "0        366        0.030055                   2.863884   \n",
       "1        445        0.029213                   3.190169   \n",
       "2        189        0.052910                   0.553219   \n",
       "3        600        0.013333                   2.742962   \n",
       "4        305        0.036066                   1.336139   \n",
       "\n",
       "   #Total_Fragment/DMRlength  \n",
       "0                   0.349176  \n",
       "1                   0.313463  \n",
       "2                   1.807601  \n",
       "3                   0.364569  \n",
       "4                   0.748425  \n",
       "\n",
       "[5 rows x 52 columns]"
      ]
     },
     "execution_count": 5,
     "metadata": {},
     "output_type": "execute_result"
    }
   ],
   "source": [
    "combined['DMRlength']=combined['end']-combined['start']\n",
    "combined['#cpg/DMRlength']=combined['#cpg']/combined['DMRlength']\n",
    "combined['DMRlength/#Total_Fragment']=combined['DMRlength']/combined['#Total_Fragment']\n",
    "combined['#Total_Fragment/DMRlength']=combined['#Total_Fragment']/combined['DMRlength']\n",
    "combined.head()"
   ]
  },
  {
   "cell_type": "code",
   "execution_count": 6,
   "metadata": {},
   "outputs": [
    {
     "data": {
      "text/plain": [
       "<matplotlib.axes._subplots.AxesSubplot at 0x7f848aa3ffd0>"
      ]
     },
     "execution_count": 6,
     "metadata": {},
     "output_type": "execute_result"
    },
    {
     "data": {
      "image/png": "[encoded data removed]",
      "text/plain": [
       "<Figure size 432x288 with 1 Axes>"
      ]
     },
     "metadata": {
      "needs_background": "light"
     },
     "output_type": "display_data"
    }
   ],
   "source": [
    "combined['#Total_Fragment'].plot.kde() #hist()"
   ]
  },
  {
   "cell_type": "code",
   "execution_count": 7,
   "metadata": {},
   "outputs": [
    {
     "data": {
      "text/plain": [
       "<matplotlib.axes._subplots.AxesSubplot at 0x7f848aae6be0>"
      ]
     },
     "execution_count": 7,
     "metadata": {},
     "output_type": "execute_result"
    },
    {
     "data": {
      "image/png": "[encoded data removed]",
      "text/plain": [
       "<Figure size 432x288 with 1 Axes>"
      ]
     },
     "metadata": {
      "needs_background": "light"
     },
     "output_type": "display_data"
    }
   ],
   "source": [
    "combined['#Total_Fragment'].plot.bar(rot=0)"
   ]
  },
  {
   "cell_type": "code",
   "execution_count": 8,
   "metadata": {},
   "outputs": [
    {
     "data": {
      "text/plain": [
       "<matplotlib.axes._subplots.AxesSubplot at 0x7f848ad94908>"
      ]
     },
     "execution_count": 8,
     "metadata": {},
     "output_type": "execute_result"
    },
    {
     "data": {
      "image/png": "[encoded data removed]",
      "text/plain": [
       "<Figure size 432x288 with 1 Axes>"
      ]
     },
     "metadata": {
      "needs_background": "light"
     },
     "output_type": "display_data"
    }
   ],
   "source": [
    "combined['DMRlength'].plot.bar(rot=0)"
   ]
  },
  {
   "cell_type": "code",
   "execution_count": 9,
   "metadata": {},
   "outputs": [
    {
     "data": {
      "text/plain": [
       "<matplotlib.axes._subplots.AxesSubplot at 0x7f848ae18978>"
      ]
     },
     "execution_count": 9,
     "metadata": {},
     "output_type": "execute_result"
    },
    {
     "data": {
      "image/png": "[encoded data removed]",
      "text/plain": [
       "<Figure size 432x288 with 1 Axes>"
      ]
     },
     "metadata": {
      "needs_background": "light"
     },
     "output_type": "display_data"
    }
   ],
   "source": [
    "combined['DMRlength/#Total_Fragment'].plot.kde()"
   ]
  },
  {
   "cell_type": "code",
   "execution_count": 10,
   "metadata": {},
   "outputs": [
    {
     "data": {
      "text/plain": [
       "<matplotlib.axes._subplots.AxesSubplot at 0x7f848b12c438>"
      ]
     },
     "execution_count": 10,
     "metadata": {},
     "output_type": "execute_result"
    },
    {
     "data": {
      "image/png": "[encoded data removed]",
      "text/plain": [
       "<Figure size 432x288 with 1 Axes>"
      ]
     },
     "metadata": {
      "needs_background": "light"
     },
     "output_type": "display_data"
    }
   ],
   "source": [
    "combined['#Total_Fragment/DMRlength'].plot.kde()"
   ]
  },
  {
   "cell_type": "code",
   "execution_count": 11,
   "metadata": {},
   "outputs": [
    {
     "data": {
      "text/plain": [
       "<matplotlib.axes._subplots.AxesSubplot at 0x7f848b324a90>"
      ]
     },
     "execution_count": 11,
     "metadata": {},
     "output_type": "execute_result"
    },
    {
     "data": {
      "image/png": "[encoded data removed]",
      "text/plain": [
       "<Figure size 432x288 with 1 Axes>"
      ]
     },
     "metadata": {
      "needs_background": "light"
     },
     "output_type": "display_data"
    }
   ],
   "source": [
    "combined['DMRlength/#Total_Fragment'].plot.bar(rot=0)"
   ]
  },
  {
   "cell_type": "code",
   "execution_count": 12,
   "metadata": {
    "scrolled": true
   },
   "outputs": [
    {
     "data": {
      "text/plain": [
       "<matplotlib.axes._subplots.AxesSubplot at 0x7f848b505748>"
      ]
     },
     "execution_count": 12,
     "metadata": {},
     "output_type": "execute_result"
    },
    {
     "data": {
      "image/png": "[encoded data removed]",
      "text/plain": [
       "<Figure size 432x288 with 1 Axes>"
      ]
     },
     "metadata": {
      "needs_background": "light"
     },
     "output_type": "display_data"
    }
   ],
   "source": [
    "combined['FPR'].plot.kde() #hist()"
   ]
  },
  {
   "cell_type": "code",
   "execution_count": 13,
   "metadata": {},
   "outputs": [
    {
     "data": {
      "text/plain": [
       "<matplotlib.axes._subplots.AxesSubplot at 0x7f848b617898>"
      ]
     },
     "execution_count": 13,
     "metadata": {},
     "output_type": "execute_result"
    },
    {
     "data": {
      "image/png": "[encoded data removed]",
      "text/plain": [
       "<Figure size 432x288 with 1 Axes>"
      ]
     },
     "metadata": {
      "needs_background": "light"
     },
     "output_type": "display_data"
    }
   ],
   "source": [
    "combined['FPR'].plot.hist()"
   ]
  },
  {
   "cell_type": "code",
   "execution_count": 14,
   "metadata": {},
   "outputs": [
    {
     "data": {
      "text/plain": [
       "<matplotlib.axes._subplots.AxesSubplot at 0x7f848b137c88>"
      ]
     },
     "execution_count": 14,
     "metadata": {},
     "output_type": "execute_result"
    },
    {
     "data": {
      "image/png": "[encoded data removed]",
      "text/plain": [
       "<Figure size 432x288 with 1 Axes>"
      ]
     },
     "metadata": {
      "needs_background": "light"
     },
     "output_type": "display_data"
    }
   ],
   "source": [
    "combined.plot.scatter(x='FPR',y='TPR')"
   ]
  },
  {
   "cell_type": "code",
   "execution_count": 15,
   "metadata": {},
   "outputs": [
    {
     "data": {
      "text/plain": [
       "<matplotlib.axes._subplots.AxesSubplot at 0x7f848ae18588>"
      ]
     },
     "execution_count": 15,
     "metadata": {},
     "output_type": "execute_result"
    },
    {
     "data": {
      "image/png": "[encoded data removed]",
      "text/plain": [
       "<Figure size 432x288 with 1 Axes>"
      ]
     },
     "metadata": {
      "needs_background": "light"
     },
     "output_type": "display_data"
    }
   ],
   "source": [
    "combined['FPR'].sort_values().plot.bar(rot=0)"
   ]
  },
  {
   "cell_type": "code",
   "execution_count": 16,
   "metadata": {},
   "outputs": [
    {
     "data": {
      "text/html": [
       "<div>\n",
       "<style scoped>\n",
       "    .dataframe tbody tr th:only-of-type {\n",
       "        vertical-align: middle;\n",
       "    }\n",
       "\n",
       "    .dataframe tbody tr th {\n",
       "        vertical-align: top;\n",
       "    }\n",
       "\n",
       "    .dataframe thead th {\n",
       "        text-align: right;\n",
       "    }\n",
       "</style>\n",
       "<table border=\"1\" class=\"dataframe\">\n",
       "  <thead>\n",
       "    <tr style=\"text-align: right;\">\n",
       "      <th></th>\n",
       "      <th>chrom</th>\n",
       "      <th>start</th>\n",
       "      <th>end</th>\n",
       "      <th>#TP_fragment</th>\n",
       "      <th>#FP_fragment</th>\n",
       "      <th>#TN_fragment</th>\n",
       "      <th>#FN_fragment</th>\n",
       "      <th>#Total_Fragment</th>\n",
       "      <th>TPR</th>\n",
       "      <th>FPR</th>\n",
       "      <th>...</th>\n",
       "      <th>CD4-m4</th>\n",
       "      <th>CD4-Mg</th>\n",
       "      <th>CD4-Er</th>\n",
       "      <th>CD4-mB</th>\n",
       "      <th>maxCompartmentwisedelta</th>\n",
       "      <th>minCompartmentwiseDelta</th>\n",
       "      <th>DMRlength</th>\n",
       "      <th>#cpg/DMRlength</th>\n",
       "      <th>DMRlength/#Total_Fragment</th>\n",
       "      <th>#Total_Fragment/DMRlength</th>\n",
       "    </tr>\n",
       "  </thead>\n",
       "  <tbody>\n",
       "    <tr>\n",
       "      <th>0</th>\n",
       "      <td>chr1</td>\n",
       "      <td>32387133</td>\n",
       "      <td>32387499</td>\n",
       "      <td>0.822727</td>\n",
       "      <td>2.109091</td>\n",
       "      <td>123.093939</td>\n",
       "      <td>1.772727</td>\n",
       "      <td>127.798485</td>\n",
       "      <td>0.624073</td>\n",
       "      <td>0.013452</td>\n",
       "      <td>...</td>\n",
       "      <td>-0.452617</td>\n",
       "      <td>-0.601208</td>\n",
       "      <td>-0.608663</td>\n",
       "      <td>-0.614178</td>\n",
       "      <td>-0.452617</td>\n",
       "      <td>-0.635087</td>\n",
       "      <td>366</td>\n",
       "      <td>0.030055</td>\n",
       "      <td>2.863884</td>\n",
       "      <td>0.349176</td>\n",
       "    </tr>\n",
       "  </tbody>\n",
       "</table>\n",
       "<p>1 rows × 52 columns</p>\n",
       "</div>"
      ],
      "text/plain": [
       "  chrom     start       end  #TP_fragment  #FP_fragment  #TN_fragment  \\\n",
       "0  chr1  32387133  32387499      0.822727      2.109091    123.093939   \n",
       "\n",
       "   #FN_fragment  #Total_Fragment       TPR       FPR  ...    CD4-m4    CD4-Mg  \\\n",
       "0      1.772727       127.798485  0.624073  0.013452  ... -0.452617 -0.601208   \n",
       "\n",
       "     CD4-Er    CD4-mB  maxCompartmentwisedelta  minCompartmentwiseDelta  \\\n",
       "0 -0.608663 -0.614178                -0.452617                -0.635087   \n",
       "\n",
       "   DMRlength  #cpg/DMRlength  DMRlength/#Total_Fragment  \\\n",
       "0        366        0.030055                   2.863884   \n",
       "\n",
       "   #Total_Fragment/DMRlength  \n",
       "0                   0.349176  \n",
       "\n",
       "[1 rows x 52 columns]"
      ]
     },
     "execution_count": 16,
     "metadata": {},
     "output_type": "execute_result"
    }
   ],
   "source": [
    "combined[combined['FPR']==combined['FPR'].sort_values()[0]]"
   ]
  },
  {
   "cell_type": "code",
   "execution_count": 17,
   "metadata": {},
   "outputs": [
    {
     "data": {
      "text/plain": [
       "0.06929416834925661"
      ]
     },
     "execution_count": 17,
     "metadata": {},
     "output_type": "execute_result"
    }
   ],
   "source": [
    "combined['FPR'].mean()"
   ]
  },
  {
   "cell_type": "code",
   "execution_count": 18,
   "metadata": {},
   "outputs": [
    {
     "data": {
      "text/plain": [
       "<matplotlib.axes._subplots.AxesSubplot at 0x7f848b7b4470>"
      ]
     },
     "execution_count": 18,
     "metadata": {},
     "output_type": "execute_result"
    },
    {
     "data": {
      "image/png": "[encoded data removed]",
      "text/plain": [
       "<Figure size 432x288 with 1 Axes>"
      ]
     },
     "metadata": {
      "needs_background": "light"
     },
     "output_type": "display_data"
    }
   ],
   "source": [
    "combined['TPR'].sort_values().plot.bar(rot=0)"
   ]
  },
  {
   "cell_type": "code",
   "execution_count": 19,
   "metadata": {},
   "outputs": [
    {
     "data": {
      "text/html": [
       "<div>\n",
       "<style scoped>\n",
       "    .dataframe tbody tr th:only-of-type {\n",
       "        vertical-align: middle;\n",
       "    }\n",
       "\n",
       "    .dataframe tbody tr th {\n",
       "        vertical-align: top;\n",
       "    }\n",
       "\n",
       "    .dataframe thead th {\n",
       "        text-align: right;\n",
       "    }\n",
       "</style>\n",
       "<table border=\"1\" class=\"dataframe\">\n",
       "  <thead>\n",
       "    <tr style=\"text-align: right;\">\n",
       "      <th></th>\n",
       "      <th>chrom</th>\n",
       "      <th>start</th>\n",
       "      <th>end</th>\n",
       "      <th>#TP_fragment</th>\n",
       "      <th>#FP_fragment</th>\n",
       "      <th>#TN_fragment</th>\n",
       "      <th>#FN_fragment</th>\n",
       "      <th>#Total_Fragment</th>\n",
       "      <th>TPR</th>\n",
       "      <th>FPR</th>\n",
       "      <th>...</th>\n",
       "      <th>CD4-m4</th>\n",
       "      <th>CD4-Mg</th>\n",
       "      <th>CD4-Er</th>\n",
       "      <th>CD4-mB</th>\n",
       "      <th>maxCompartmentwisedelta</th>\n",
       "      <th>minCompartmentwiseDelta</th>\n",
       "      <th>DMRlength</th>\n",
       "      <th>#cpg/DMRlength</th>\n",
       "      <th>DMRlength/#Total_Fragment</th>\n",
       "      <th>#Total_Fragment/DMRlength</th>\n",
       "    </tr>\n",
       "  </thead>\n",
       "  <tbody>\n",
       "    <tr>\n",
       "      <th>18</th>\n",
       "      <td>chr6</td>\n",
       "      <td>33630045</td>\n",
       "      <td>33630328</td>\n",
       "      <td>3.500000</td>\n",
       "      <td>10.497619</td>\n",
       "      <td>148.242857</td>\n",
       "      <td>1.121429</td>\n",
       "      <td>163.361905</td>\n",
       "      <td>0.911462</td>\n",
       "      <td>0.065441</td>\n",
       "      <td>...</td>\n",
       "      <td>-0.314810</td>\n",
       "      <td>-0.698953</td>\n",
       "      <td>-0.631881</td>\n",
       "      <td>-0.724834</td>\n",
       "      <td>-0.314810</td>\n",
       "      <td>-0.756739</td>\n",
       "      <td>283</td>\n",
       "      <td>0.024735</td>\n",
       "      <td>1.732350</td>\n",
       "      <td>0.577251</td>\n",
       "    </tr>\n",
       "    <tr>\n",
       "      <th>8</th>\n",
       "      <td>chr16</td>\n",
       "      <td>50550239</td>\n",
       "      <td>50550307</td>\n",
       "      <td>6.166667</td>\n",
       "      <td>22.991667</td>\n",
       "      <td>268.027778</td>\n",
       "      <td>0.616667</td>\n",
       "      <td>297.802778</td>\n",
       "      <td>0.962866</td>\n",
       "      <td>0.078934</td>\n",
       "      <td>...</td>\n",
       "      <td>-0.598611</td>\n",
       "      <td>-0.856361</td>\n",
       "      <td>-0.849694</td>\n",
       "      <td>-0.869111</td>\n",
       "      <td>-0.309111</td>\n",
       "      <td>-0.882166</td>\n",
       "      <td>68</td>\n",
       "      <td>0.088235</td>\n",
       "      <td>0.228339</td>\n",
       "      <td>4.379453</td>\n",
       "    </tr>\n",
       "    <tr>\n",
       "      <th>20</th>\n",
       "      <td>chr8</td>\n",
       "      <td>66026537</td>\n",
       "      <td>66026883</td>\n",
       "      <td>2.781250</td>\n",
       "      <td>8.406250</td>\n",
       "      <td>119.579167</td>\n",
       "      <td>1.037500</td>\n",
       "      <td>131.804167</td>\n",
       "      <td>0.780225</td>\n",
       "      <td>0.065443</td>\n",
       "      <td>...</td>\n",
       "      <td>-0.458268</td>\n",
       "      <td>-0.687768</td>\n",
       "      <td>-0.655642</td>\n",
       "      <td>-0.715205</td>\n",
       "      <td>-0.447705</td>\n",
       "      <td>-0.715205</td>\n",
       "      <td>346</td>\n",
       "      <td>0.023121</td>\n",
       "      <td>2.625107</td>\n",
       "      <td>0.380937</td>\n",
       "    </tr>\n",
       "  </tbody>\n",
       "</table>\n",
       "<p>3 rows × 52 columns</p>\n",
       "</div>"
      ],
      "text/plain": [
       "    chrom     start       end  #TP_fragment  #FP_fragment  #TN_fragment  \\\n",
       "18   chr6  33630045  33630328      3.500000     10.497619    148.242857   \n",
       "8   chr16  50550239  50550307      6.166667     22.991667    268.027778   \n",
       "20   chr8  66026537  66026883      2.781250      8.406250    119.579167   \n",
       "\n",
       "    #FN_fragment  #Total_Fragment       TPR       FPR  ...    CD4-m4  \\\n",
       "18      1.121429       163.361905  0.911462  0.065441  ... -0.314810   \n",
       "8       0.616667       297.802778  0.962866  0.078934  ... -0.598611   \n",
       "20      1.037500       131.804167  0.780225  0.065443  ... -0.458268   \n",
       "\n",
       "      CD4-Mg    CD4-Er    CD4-mB  maxCompartmentwisedelta  \\\n",
       "18 -0.698953 -0.631881 -0.724834                -0.314810   \n",
       "8  -0.856361 -0.849694 -0.869111                -0.309111   \n",
       "20 -0.687768 -0.655642 -0.715205                -0.447705   \n",
       "\n",
       "    minCompartmentwiseDelta  DMRlength  #cpg/DMRlength  \\\n",
       "18                -0.756739        283        0.024735   \n",
       "8                 -0.882166         68        0.088235   \n",
       "20                -0.715205        346        0.023121   \n",
       "\n",
       "    DMRlength/#Total_Fragment  #Total_Fragment/DMRlength  \n",
       "18                   1.732350                   0.577251  \n",
       "8                    0.228339                   4.379453  \n",
       "20                   2.625107                   0.380937  \n",
       "\n",
       "[3 rows x 52 columns]"
      ]
     },
     "execution_count": 19,
     "metadata": {},
     "output_type": "execute_result"
    }
   ],
   "source": [
    "combined.loc[[18,8,20]]"
   ]
  },
  {
   "cell_type": "code",
   "execution_count": 20,
   "metadata": {},
   "outputs": [
    {
     "data": {
      "text/plain": [
       "<matplotlib.axes._subplots.AxesSubplot at 0x7f848bc95a58>"
      ]
     },
     "execution_count": 20,
     "metadata": {},
     "output_type": "execute_result"
    },
    {
     "data": {
      "image/png": "[encoded data removed]",
      "text/plain": [
       "<Figure size 432x288 with 1 Axes>"
      ]
     },
     "metadata": {
      "needs_background": "light"
     },
     "output_type": "display_data"
    }
   ],
   "source": [
    "combined['FDR'].plot.kde() #.hist()"
   ]
  },
  {
   "cell_type": "code",
   "execution_count": 21,
   "metadata": {},
   "outputs": [
    {
     "data": {
      "text/plain": [
       "<matplotlib.axes._subplots.AxesSubplot at 0x7f848bccc198>"
      ]
     },
     "execution_count": 21,
     "metadata": {},
     "output_type": "execute_result"
    },
    {
     "data": {
      "image/png": "[encoded data removed]",
      "text/plain": [
       "<Figure size 432x288 with 1 Axes>"
      ]
     },
     "metadata": {
      "needs_background": "light"
     },
     "output_type": "display_data"
    }
   ],
   "source": [
    "combined['FDR'].sort_values().plot.bar(rot=0)"
   ]
  },
  {
   "cell_type": "code",
   "execution_count": 22,
   "metadata": {},
   "outputs": [],
   "source": [
    "combined.to_csv(DMRsigfile+\"_stats.txt\",sep=\"\\t\",index=False)"
   ]
  },
  {
   "cell_type": "code",
   "execution_count": 23,
   "metadata": {
    "scrolled": true
   },
   "outputs": [
    {
     "data": {
      "text/plain": [
       "others                      -0.928313\n",
       "CD4                         -0.764774\n",
       "CD4.1                       -0.764769\n",
       "m4                          -0.728097\n",
       "minCompartmentwiseDelta     -0.703520\n",
       "m8                          -0.698794\n",
       "NK                          -0.689519\n",
       "CD4-Mg                      -0.680957\n",
       "nB                          -0.658551\n",
       "CD8                         -0.655956\n",
       "CD4-Mn                      -0.634229\n",
       "Eo                          -0.627099\n",
       "CD4-Er                      -0.595228\n",
       "Tr                          -0.586093\n",
       "CD4-DC                      -0.572671\n",
       "mB                          -0.558600\n",
       "CD4-mNeu                    -0.555408\n",
       "Er                          -0.554618\n",
       "DC                          -0.543353\n",
       "CD4-nB                      -0.537801\n",
       "diff                        -0.513052\n",
       "mNeu                        -0.511059\n",
       "Mn                          -0.437148\n",
       "CD4-NK                      -0.403401\n",
       "CD4-Tr                      -0.391564\n",
       "Mg                          -0.372029\n",
       "#FN_fragment                -0.314707\n",
       "CD4-mB                      -0.309873\n",
       "CD4-m8                      -0.271946\n",
       "p(2dks)                     -0.250869\n",
       "q                           -0.244754\n",
       "CD4-m4                      -0.216682\n",
       "CD4-Eo                      -0.162708\n",
       "#Total_Fragment/DMRlength   -0.053311\n",
       "#TN_fragment                -0.017806\n",
       "maxCompartmentwisedelta     -0.014000\n",
       "DMRlength/#Total_Fragment   -0.010979\n",
       "mycpgcount                  -0.009733\n",
       "#cpg                        -0.009733\n",
       "#cpg/DMRlength               0.001177\n",
       "CD4-CD8                      0.032183\n",
       "p(MWU)                       0.034266\n",
       "#Total_Fragment              0.103886\n",
       "DMRlength                    0.202971\n",
       "TPR                          0.280330\n",
       "start                        0.358669\n",
       "end                          0.358670\n",
       "#TP_fragment                 0.543393\n",
       "FDR                          0.548560\n",
       "#FP_fragment                 0.849921\n",
       "FPR                          1.000000\n",
       "Name: FPR, dtype: float64"
      ]
     },
     "execution_count": 23,
     "metadata": {},
     "output_type": "execute_result"
    }
   ],
   "source": [
    "corrdf=combined.corr()\n",
    "corrdf['FPR'].sort_values()"
   ]
  },
  {
   "cell_type": "code",
   "execution_count": 24,
   "metadata": {},
   "outputs": [
    {
     "data": {
      "text/plain": [
       "CD4-nB                      -0.710605\n",
       "diff                        -0.692461\n",
       "CD4-mB                      -0.680107\n",
       "CD4-mNeu                    -0.667419\n",
       "minCompartmentwiseDelta     -0.658101\n",
       "CD4-DC                      -0.653272\n",
       "CD4-Mg                      -0.649204\n",
       "CD4.1                       -0.637458\n",
       "CD4                         -0.637455\n",
       "#FN_fragment                -0.633126\n",
       "CD4-Mn                      -0.619710\n",
       "CD4-Er                      -0.600416\n",
       "CD4-NK                      -0.568771\n",
       "CD4-m8                      -0.563743\n",
       "CD4-Eo                      -0.560825\n",
       "CD4-Tr                      -0.524589\n",
       "CD8                         -0.516212\n",
       "m4                          -0.473060\n",
       "q                           -0.447967\n",
       "p(2dks)                     -0.435183\n",
       "CD4-m4                      -0.348128\n",
       "p(MWU)                      -0.319631\n",
       "others                      -0.274971\n",
       "FDR                         -0.274738\n",
       "Tr                          -0.265149\n",
       "Er                          -0.208880\n",
       "NK                          -0.196693\n",
       "start                       -0.151169\n",
       "end                         -0.151168\n",
       "m8                          -0.147810\n",
       "#cpg/DMRlength              -0.128335\n",
       "#TN_fragment                -0.120356\n",
       "Mg                          -0.111891\n",
       "#Total_Fragment             -0.080078\n",
       "Mn                          -0.076650\n",
       "maxCompartmentwisedelta     -0.063751\n",
       "Eo                          -0.056594\n",
       "DC                          -0.027420\n",
       "CD4-CD8                     -0.021318\n",
       "#Total_Fragment/DMRlength   -0.002300\n",
       "mNeu                         0.025538\n",
       "mycpgcount                   0.065479\n",
       "#cpg                         0.065479\n",
       "nB                           0.097614\n",
       "mB                           0.110924\n",
       "#FP_fragment                 0.217670\n",
       "FPR                          0.280330\n",
       "DMRlength/#Total_Fragment    0.291013\n",
       "DMRlength                    0.305003\n",
       "#TP_fragment                 0.614267\n",
       "TPR                          1.000000\n",
       "Name: TPR, dtype: float64"
      ]
     },
     "execution_count": 24,
     "metadata": {},
     "output_type": "execute_result"
    }
   ],
   "source": [
    "corrdf['TPR'].sort_values()"
   ]
  },
  {
   "cell_type": "code",
   "execution_count": 25,
   "metadata": {},
   "outputs": [
    {
     "data": {
      "text/plain": [
       "nB                          -0.724036\n",
       "others                      -0.627011\n",
       "DC                          -0.604463\n",
       "m8                          -0.548447\n",
       "mNeu                        -0.516632\n",
       "mB                          -0.506958\n",
       "Mn                          -0.473255\n",
       "NK                          -0.443057\n",
       "Eo                          -0.422166\n",
       "Tr                          -0.388970\n",
       "CD8                         -0.368816\n",
       "TPR                         -0.274738\n",
       "DMRlength/#Total_Fragment   -0.232357\n",
       "m4                          -0.197498\n",
       "p(2dks)                     -0.164780\n",
       "CD4-Mg                      -0.161092\n",
       "q                           -0.160452\n",
       "CD4-Er                      -0.128972\n",
       "CD4                         -0.104197\n",
       "CD4.1                       -0.104190\n",
       "p(MWU)                      -0.057611\n",
       "minCompartmentwiseDelta     -0.017040\n",
       "#TP_fragment                -0.008850\n",
       "DMRlength                    0.001379\n",
       "#Total_Fragment/DMRlength    0.009548\n",
       "Er                           0.040773\n",
       "CD4-Mn                       0.044527\n",
       "CD4-m4                       0.093525\n",
       "#FN_fragment                 0.113449\n",
       "start                        0.113460\n",
       "end                          0.113460\n",
       "Mg                           0.115224\n",
       "CD4-mNeu                     0.126757\n",
       "CD4-DC                       0.141314\n",
       "#cpg/DMRlength               0.144656\n",
       "#TN_fragment                 0.147603\n",
       "CD4-NK                       0.159775\n",
       "maxCompartmentwisedelta      0.164748\n",
       "CD4-nB                       0.184105\n",
       "diff                         0.195851\n",
       "#Total_Fragment              0.214886\n",
       "CD4-Tr                       0.220950\n",
       "CD4-mB                       0.273015\n",
       "CD4-Eo                       0.285009\n",
       "CD4-m8                       0.314434\n",
       "#cpg                         0.355306\n",
       "mycpgcount                   0.355306\n",
       "CD4-CD8                      0.444866\n",
       "FPR                          0.548560\n",
       "#FP_fragment                 0.565877\n",
       "FDR                          1.000000\n",
       "Name: FDR, dtype: float64"
      ]
     },
     "execution_count": 25,
     "metadata": {},
     "output_type": "execute_result"
    }
   ],
   "source": [
    "corrdf['FDR'].sort_values()"
   ]
  },
  {
   "cell_type": "code",
   "execution_count": 26,
   "metadata": {},
   "outputs": [
    {
     "data": {
      "text/plain": [
       "DMRlength/#Total_Fragment   -0.527598\n",
       "end                         -0.330848\n",
       "start                       -0.330848\n",
       "m8                          -0.262110\n",
       "nB                          -0.258788\n",
       "q                           -0.182833\n",
       "NK                          -0.177133\n",
       "CD8                         -0.167496\n",
       "p(2dks)                     -0.158636\n",
       "others                      -0.108759\n",
       "DC                          -0.087858\n",
       "DMRlength                   -0.084700\n",
       "TPR                         -0.080078\n",
       "mB                          -0.072003\n",
       "CD4-Mg                      -0.029639\n",
       "p(MWU)                      -0.019338\n",
       "CD4-Tr                      -0.019150\n",
       "Er                          -0.013823\n",
       "#cpg/DMRlength              -0.000066\n",
       "m4                           0.010430\n",
       "Eo                           0.020620\n",
       "CD4-Eo                       0.021756\n",
       "CD4-mNeu                     0.022306\n",
       "CD4-Mn                       0.026200\n",
       "CD4                          0.042222\n",
       "CD4.1                        0.042229\n",
       "mNeu                         0.046670\n",
       "CD4-m4                       0.049226\n",
       "CD4-Er                       0.051151\n",
       "Mn                           0.051987\n",
       "mycpgcount                   0.071471\n",
       "#cpg                         0.071471\n",
       "minCompartmentwiseDelta      0.073236\n",
       "Tr                           0.078301\n",
       "CD4-DC                       0.080351\n",
       "CD4-mB                       0.092353\n",
       "FPR                          0.103886\n",
       "diff                         0.113283\n",
       "CD4-nB                       0.149450\n",
       "CD4-NK                       0.154640\n",
       "Mg                           0.183824\n",
       "FDR                          0.214886\n",
       "CD4-m8                       0.248198\n",
       "CD4-CD8                      0.319328\n",
       "maxCompartmentwisedelta      0.463458\n",
       "#TP_fragment                 0.499252\n",
       "#Total_Fragment/DMRlength    0.500299\n",
       "#FP_fragment                 0.509611\n",
       "#FN_fragment                 0.621417\n",
       "#TN_fragment                 0.991467\n",
       "#Total_Fragment              1.000000\n",
       "Name: #Total_Fragment, dtype: float64"
      ]
     },
     "execution_count": 26,
     "metadata": {},
     "output_type": "execute_result"
    }
   ],
   "source": [
    "corrdf['#Total_Fragment'].sort_values()"
   ]
  },
  {
   "cell_type": "code",
   "execution_count": 27,
   "metadata": {},
   "outputs": [],
   "source": [
    "# sns.scatterplot(combined['FDR'], combined['FPR'])\n",
    "corrdf_pearson=combined.corr(method='pearson')\n",
    "corrdf_spearman=combined.corr(method='spearman')\n",
    "def plt_corr(x, y):\n",
    "    fig = plt.figure()\n",
    "    lm = sns.lmplot(x=x, y=y, data=combined)\n",
    "    ax = lm.axes[0, 0]\n",
    "    p_corr = np.around(corrdf_pearson[x][y], decimals=3)\n",
    "    s_corr = np.around(corrdf_spearman[x][y], decimals=3)\n",
    "    p_val_pearson = np.around(pearsonr(combined[x], combined[y])[1], decimals=8)\n",
    "    p_val_spearman = np.around(spearmanr(combined[x], combined[y])[1], decimals=8)\n",
    "    txt = 'r = ' + str(p_corr) + ', p-val = ' + str(p_val_pearson) + '\\nrho = ' + str(s_corr) + ', p-val = ' + str(p_val_spearman)\n",
    "    ax.text(np.array(combined[x].sort_values())[0], np.array(combined[y].sort_values())[-2], txt, horizontalalignment='left', verticalalignment='bottom')\n",
    "    return lm"
   ]
  },
  {
   "cell_type": "code",
   "execution_count": 28,
   "metadata": {},
   "outputs": [
    {
     "data": {
      "text/plain": [
       "<Figure size 432x288 with 0 Axes>"
      ]
     },
     "metadata": {},
     "output_type": "display_data"
    },
    {
     "data": {
      "image/png": "[encoded data removed]",
      "text/plain": [
       "<Figure size 360x360 with 1 Axes>"
      ]
     },
     "metadata": {
      "needs_background": "light"
     },
     "output_type": "display_data"
    }
   ],
   "source": [
    "x1 = 'FDR'\n",
    "y1 = 'FPR'\n",
    "fig1 = plt_corr(x1, y1)\n",
    "fig1.savefig(DMRsigfile+x1+y1+\".pdf\",dpi=300)"
   ]
  },
  {
   "cell_type": "code",
   "execution_count": 29,
   "metadata": {},
   "outputs": [
    {
     "data": {
      "text/plain": [
       "<Figure size 432x288 with 0 Axes>"
      ]
     },
     "metadata": {},
     "output_type": "display_data"
    },
    {
     "data": {
      "image/png": "[encoded data removed]",
      "text/plain": [
       "<Figure size 360x360 with 1 Axes>"
      ]
     },
     "metadata": {
      "needs_background": "light"
     },
     "output_type": "display_data"
    }
   ],
   "source": [
    "x1 = '#cpg/DMRlength'\n",
    "y1 = 'FPR'\n",
    "fig2 = plt_corr(x1, y1)\n",
    "fig2.savefig(DMRsigfile+\"#cpgdivbyDMRlength\"+y1+\".pdf\",dpi=300)"
   ]
  },
  {
   "cell_type": "code",
   "execution_count": 30,
   "metadata": {},
   "outputs": [
    {
     "data": {
      "text/plain": [
       "<Figure size 432x288 with 0 Axes>"
      ]
     },
     "metadata": {},
     "output_type": "display_data"
    },
    {
     "data": {
      "image/png": "[encoded data removed]",
      "text/plain": [
       "<Figure size 360x360 with 1 Axes>"
      ]
     },
     "metadata": {
      "needs_background": "light"
     },
     "output_type": "display_data"
    }
   ],
   "source": [
    "x1 = 'DMRlength'\n",
    "y1 = 'FPR'\n",
    "fig3 = plt_corr(x1, y1)\n",
    "fig3.savefig(DMRsigfile+x1+y1+\".pdf\",dpi=300)"
   ]
  },
  {
   "cell_type": "code",
   "execution_count": 31,
   "metadata": {},
   "outputs": [
    {
     "data": {
      "text/plain": [
       "<Figure size 432x288 with 0 Axes>"
      ]
     },
     "metadata": {},
     "output_type": "display_data"
    },
    {
     "data": {
      "image/png": "[encoded data removed]",
      "text/plain": [
       "<Figure size 360x360 with 1 Axes>"
      ]
     },
     "metadata": {
      "needs_background": "light"
     },
     "output_type": "display_data"
    }
   ],
   "source": [
    "x1 = '#cpg'\n",
    "y1 = 'FPR'\n",
    "fig3 = plt_corr(x1, y1)\n",
    "fig3.savefig(DMRsigfile+x1+y1+\".pdf\",dpi=300)"
   ]
  },
  {
   "cell_type": "code",
   "execution_count": 32,
   "metadata": {},
   "outputs": [
    {
     "data": {
      "text/plain": [
       "<Figure size 432x288 with 0 Axes>"
      ]
     },
     "metadata": {},
     "output_type": "display_data"
    },
    {
     "data": {
      "image/png": "[encoded data removed]",
      "text/plain": [
       "<Figure size 360x360 with 1 Axes>"
      ]
     },
     "metadata": {
      "needs_background": "light"
     },
     "output_type": "display_data"
    }
   ],
   "source": [
    "x1 = 'q'\n",
    "y1 = 'FPR'\n",
    "fig3 = plt_corr(x1, y1)\n",
    "fig3.savefig(DMRsigfile+x1+y1+\".pdf\",dpi=300)"
   ]
  },
  {
   "cell_type": "code",
   "execution_count": 33,
   "metadata": {},
   "outputs": [
    {
     "data": {
      "text/plain": [
       "<Figure size 432x288 with 0 Axes>"
      ]
     },
     "metadata": {},
     "output_type": "display_data"
    },
    {
     "data": {
      "image/png": "[encoded data removed]",
      "text/plain": [
       "<Figure size 360x360 with 1 Axes>"
      ]
     },
     "metadata": {
      "needs_background": "light"
     },
     "output_type": "display_data"
    }
   ],
   "source": [
    "x1 = 'diff'\n",
    "y1 = 'FPR'\n",
    "fig3 = plt_corr(x1, y1)\n",
    "fig3.savefig(DMRsigfile+x1+y1+\".pdf\",dpi=300)"
   ]
  },
  {
   "cell_type": "code",
   "execution_count": 34,
   "metadata": {},
   "outputs": [
    {
     "data": {
      "text/plain": [
       "<Figure size 432x288 with 0 Axes>"
      ]
     },
     "metadata": {},
     "output_type": "display_data"
    },
    {
     "data": {
      "image/png": "[encoded data removed]",
      "text/plain": [
       "<Figure size 360x360 with 1 Axes>"
      ]
     },
     "metadata": {
      "needs_background": "light"
     },
     "output_type": "display_data"
    }
   ],
   "source": [
    "x1 = 'maxCompartmentwisedelta'\n",
    "y1 = 'FPR'\n",
    "fig3 = plt_corr(x1, y1)\n",
    "fig3.savefig(DMRsigfile+x1+y1+\".pdf\",dpi=300)"
   ]
  },
  {
   "cell_type": "code",
   "execution_count": 35,
   "metadata": {},
   "outputs": [
    {
     "data": {
      "text/plain": [
       "<Figure size 432x288 with 0 Axes>"
      ]
     },
     "metadata": {},
     "output_type": "display_data"
    },
    {
     "data": {
      "image/png": "[encoded data removed]",
      "text/plain": [
       "<Figure size 360x360 with 1 Axes>"
      ]
     },
     "metadata": {
      "needs_background": "light"
     },
     "output_type": "display_data"
    }
   ],
   "source": [
    "x1 = 'DMRlength'\n",
    "y1 = '#Total_Fragment'\n",
    "fig3 = plt_corr(x1, y1)\n",
    "fig3.savefig(DMRsigfile+x1+y1+\".pdf\",dpi=300)"
   ]
  },
  {
   "cell_type": "code",
   "execution_count": null,
   "metadata": {},
   "outputs": [],
   "source": [
    "x1 = 'diff'\n",
    "y1 = 'TPR'\n",
    "fig3 = plt_corr(x1, y1)\n",
    "fig3.savefig(DMRsigfile+x1+y1+\".pdf\",dpi=300)"
   ]
  }
 ],
 "metadata": {
  "kernelspec": {
   "display_name": "Python 3",
   "language": "python",
   "name": "python3"
  },
  "language_info": {
   "codemirror_mode": {
    "name": "ipython",
    "version": 3
   },
   "file_extension": ".py",
   "mimetype": "text/x-python",
   "name": "python",
   "nbconvert_exporter": "python",
   "pygments_lexer": "ipython3",
   "version": "3.6.7"
  }
 },
 "nbformat": 4,
 "nbformat_minor": 2
}
