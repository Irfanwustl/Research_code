{
 "cells": [
  {
   "cell_type": "code",
   "execution_count": 1,
   "metadata": {},
   "outputs": [
    {
     "data": {
      "text/html": [
       "<div>\n",
       "<style scoped>\n",
       "    .dataframe tbody tr th:only-of-type {\n",
       "        vertical-align: middle;\n",
       "    }\n",
       "\n",
       "    .dataframe tbody tr th {\n",
       "        vertical-align: top;\n",
       "    }\n",
       "\n",
       "    .dataframe thead th {\n",
       "        text-align: right;\n",
       "    }\n",
       "</style>\n",
       "<table border=\"1\" class=\"dataframe\">\n",
       "  <thead>\n",
       "    <tr style=\"text-align: right;\">\n",
       "      <th></th>\n",
       "      <th>chrom</th>\n",
       "      <th>start</th>\n",
       "      <th>end</th>\n",
       "      <th>#TP_fragment</th>\n",
       "      <th>#FP_fragment</th>\n",
       "      <th>#TN_fragment</th>\n",
       "      <th>#FN_fragment</th>\n",
       "      <th>#Total_Fragment</th>\n",
       "      <th>TPR</th>\n",
       "      <th>FPR</th>\n",
       "      <th>FDR</th>\n",
       "    </tr>\n",
       "  </thead>\n",
       "  <tbody>\n",
       "    <tr>\n",
       "      <th>0</th>\n",
       "      <td>chr1</td>\n",
       "      <td>13711401</td>\n",
       "      <td>13711603</td>\n",
       "      <td>1.875000</td>\n",
       "      <td>9.236111</td>\n",
       "      <td>172.708333</td>\n",
       "      <td>0.000000</td>\n",
       "      <td>183.819444</td>\n",
       "      <td>1.000000</td>\n",
       "      <td>0.058323</td>\n",
       "      <td>0.828144</td>\n",
       "    </tr>\n",
       "    <tr>\n",
       "      <th>1</th>\n",
       "      <td>chr1</td>\n",
       "      <td>21459675</td>\n",
       "      <td>21459830</td>\n",
       "      <td>1.541667</td>\n",
       "      <td>11.333333</td>\n",
       "      <td>260.666667</td>\n",
       "      <td>0.958333</td>\n",
       "      <td>274.500000</td>\n",
       "      <td>0.409028</td>\n",
       "      <td>0.038782</td>\n",
       "      <td>0.825493</td>\n",
       "    </tr>\n",
       "    <tr>\n",
       "      <th>2</th>\n",
       "      <td>chr1</td>\n",
       "      <td>36418604</td>\n",
       "      <td>36418987</td>\n",
       "      <td>0.083333</td>\n",
       "      <td>6.590278</td>\n",
       "      <td>154.375000</td>\n",
       "      <td>0.020833</td>\n",
       "      <td>161.069444</td>\n",
       "      <td>0.875000</td>\n",
       "      <td>0.042761</td>\n",
       "      <td>0.994884</td>\n",
       "    </tr>\n",
       "    <tr>\n",
       "      <th>3</th>\n",
       "      <td>chr1</td>\n",
       "      <td>38493747</td>\n",
       "      <td>38493790</td>\n",
       "      <td>0.000000</td>\n",
       "      <td>3.402778</td>\n",
       "      <td>129.097222</td>\n",
       "      <td>0.000000</td>\n",
       "      <td>132.500000</td>\n",
       "      <td>NaN</td>\n",
       "      <td>0.025272</td>\n",
       "      <td>1.000000</td>\n",
       "    </tr>\n",
       "    <tr>\n",
       "      <th>4</th>\n",
       "      <td>chr1</td>\n",
       "      <td>44333641</td>\n",
       "      <td>44333776</td>\n",
       "      <td>0.166667</td>\n",
       "      <td>7.666667</td>\n",
       "      <td>216.083333</td>\n",
       "      <td>0.000000</td>\n",
       "      <td>223.916667</td>\n",
       "      <td>1.000000</td>\n",
       "      <td>0.034856</td>\n",
       "      <td>0.978764</td>\n",
       "    </tr>\n",
       "  </tbody>\n",
       "</table>\n",
       "</div>"
      ],
      "text/plain": [
       "  chrom     start       end  #TP_fragment  #FP_fragment  #TN_fragment  \\\n",
       "0  chr1  13711401  13711603      1.875000      9.236111    172.708333   \n",
       "1  chr1  21459675  21459830      1.541667     11.333333    260.666667   \n",
       "2  chr1  36418604  36418987      0.083333      6.590278    154.375000   \n",
       "3  chr1  38493747  38493790      0.000000      3.402778    129.097222   \n",
       "4  chr1  44333641  44333776      0.166667      7.666667    216.083333   \n",
       "\n",
       "   #FN_fragment  #Total_Fragment       TPR       FPR       FDR  \n",
       "0      0.000000       183.819444  1.000000  0.058323  0.828144  \n",
       "1      0.958333       274.500000  0.409028  0.038782  0.825493  \n",
       "2      0.020833       161.069444  0.875000  0.042761  0.994884  \n",
       "3      0.000000       132.500000       NaN  0.025272  1.000000  \n",
       "4      0.000000       223.916667  1.000000  0.034856  0.978764  "
      ]
     },
     "execution_count": 1,
     "metadata": {},
     "output_type": "execute_result"
    }
   ],
   "source": [
    "import pandas as pd\n",
    "from scipy.stats.mstats import pearsonr, spearmanr\n",
    "import seaborn as sns\n",
    "import matplotlib.pyplot as plt\n",
    "import numpy as np\n",
    "\n",
    "DMRsigfile=\"/Users/irffanalahi/Research/Research_update/SM/ShowcaseSM/BL17_14/BL14_feature_significance/mNeu1to.1_mincpg1_feature_significance_Allfile_DMRwise_avg.txt\"\n",
    "\n",
    "metCWfile=\"/Users/irffanalahi/Research/Research_update/SM/ShowcaseSM/BL17_14/BL14_feature_significance/BL14_all_matrixCin_nr0.4_imputed_g1_mNeu_3_g2_others_33_CW.7.txt\"\n",
    "\n",
    "\n",
    "DMRsigdf=pd.read_csv(DMRsigfile,sep=\"\\t\")\n",
    "\n",
    "DMRsigdf.rename(columns={'DMRchr':'chrom','DMRstart':'start','DMRend':'end'},inplace=True)\n",
    "DMRsigdf.head()\n"
   ]
  },
  {
   "cell_type": "code",
   "execution_count": 2,
   "metadata": {},
   "outputs": [
    {
     "data": {
      "text/html": [
       "<div>\n",
       "<style scoped>\n",
       "    .dataframe tbody tr th:only-of-type {\n",
       "        vertical-align: middle;\n",
       "    }\n",
       "\n",
       "    .dataframe tbody tr th {\n",
       "        vertical-align: top;\n",
       "    }\n",
       "\n",
       "    .dataframe thead th {\n",
       "        text-align: right;\n",
       "    }\n",
       "</style>\n",
       "<table border=\"1\" class=\"dataframe\">\n",
       "  <thead>\n",
       "    <tr style=\"text-align: right;\">\n",
       "      <th></th>\n",
       "      <th>chrom</th>\n",
       "      <th>start</th>\n",
       "      <th>end</th>\n",
       "      <th>q</th>\n",
       "      <th>diff</th>\n",
       "      <th>#cpg</th>\n",
       "      <th>p(MWU)</th>\n",
       "      <th>p(2dks)</th>\n",
       "      <th>mNeu</th>\n",
       "      <th>others</th>\n",
       "      <th>...</th>\n",
       "      <th>mNeu-m8</th>\n",
       "      <th>mNeu-DC</th>\n",
       "      <th>mNeu-Eo</th>\n",
       "      <th>mNeu-Tr</th>\n",
       "      <th>mNeu-m4</th>\n",
       "      <th>mNeu-Mg</th>\n",
       "      <th>mNeu-Er</th>\n",
       "      <th>mNeu-mB</th>\n",
       "      <th>maxCompartmentwisedelta</th>\n",
       "      <th>minCompartmentwiseDelta</th>\n",
       "    </tr>\n",
       "  </thead>\n",
       "  <tbody>\n",
       "    <tr>\n",
       "      <th>0</th>\n",
       "      <td>chr1</td>\n",
       "      <td>13711401</td>\n",
       "      <td>13711603</td>\n",
       "      <td>2.165600e-06</td>\n",
       "      <td>-0.921644</td>\n",
       "      <td>4</td>\n",
       "      <td>1.036100e-08</td>\n",
       "      <td>2.007600e-09</td>\n",
       "      <td>0.016000</td>\n",
       "      <td>0.93764</td>\n",
       "      <td>...</td>\n",
       "      <td>-0.962125</td>\n",
       "      <td>-0.890417</td>\n",
       "      <td>-0.743000</td>\n",
       "      <td>-0.963875</td>\n",
       "      <td>-0.953500</td>\n",
       "      <td>-0.917125</td>\n",
       "      <td>-0.851750</td>\n",
       "      <td>-0.940750</td>\n",
       "      <td>-0.743000</td>\n",
       "      <td>-0.967000</td>\n",
       "    </tr>\n",
       "    <tr>\n",
       "      <th>1</th>\n",
       "      <td>chr1</td>\n",
       "      <td>21459675</td>\n",
       "      <td>21459830</td>\n",
       "      <td>1.548500e-06</td>\n",
       "      <td>-0.839886</td>\n",
       "      <td>4</td>\n",
       "      <td>1.036100e-08</td>\n",
       "      <td>1.330100e-09</td>\n",
       "      <td>0.106580</td>\n",
       "      <td>0.94647</td>\n",
       "      <td>...</td>\n",
       "      <td>-0.883420</td>\n",
       "      <td>-0.779170</td>\n",
       "      <td>-0.709920</td>\n",
       "      <td>-0.857795</td>\n",
       "      <td>-0.863795</td>\n",
       "      <td>-0.857045</td>\n",
       "      <td>-0.871920</td>\n",
       "      <td>-0.859837</td>\n",
       "      <td>-0.709920</td>\n",
       "      <td>-0.883420</td>\n",
       "    </tr>\n",
       "    <tr>\n",
       "      <th>2</th>\n",
       "      <td>chr1</td>\n",
       "      <td>36418604</td>\n",
       "      <td>36418987</td>\n",
       "      <td>2.424900e-12</td>\n",
       "      <td>-0.816691</td>\n",
       "      <td>8</td>\n",
       "      <td>4.518600e-14</td>\n",
       "      <td>3.427800e-16</td>\n",
       "      <td>0.119120</td>\n",
       "      <td>0.93582</td>\n",
       "      <td>...</td>\n",
       "      <td>-0.813942</td>\n",
       "      <td>-0.829317</td>\n",
       "      <td>-0.719692</td>\n",
       "      <td>-0.800880</td>\n",
       "      <td>-0.833567</td>\n",
       "      <td>-0.819255</td>\n",
       "      <td>-0.792318</td>\n",
       "      <td>-0.820297</td>\n",
       "      <td>-0.719692</td>\n",
       "      <td>-0.860672</td>\n",
       "    </tr>\n",
       "    <tr>\n",
       "      <th>3</th>\n",
       "      <td>chr1</td>\n",
       "      <td>38493747</td>\n",
       "      <td>38493790</td>\n",
       "      <td>8.917500e-06</td>\n",
       "      <td>-0.870515</td>\n",
       "      <td>4</td>\n",
       "      <td>1.036100e-08</td>\n",
       "      <td>1.089100e-08</td>\n",
       "      <td>0.015750</td>\n",
       "      <td>0.88627</td>\n",
       "      <td>...</td>\n",
       "      <td>-0.860000</td>\n",
       "      <td>-0.846833</td>\n",
       "      <td>-0.778750</td>\n",
       "      <td>-0.854625</td>\n",
       "      <td>-0.895000</td>\n",
       "      <td>-0.824125</td>\n",
       "      <td>-0.869125</td>\n",
       "      <td>-0.879917</td>\n",
       "      <td>-0.778750</td>\n",
       "      <td>-0.942750</td>\n",
       "    </tr>\n",
       "    <tr>\n",
       "      <th>4</th>\n",
       "      <td>chr1</td>\n",
       "      <td>44333641</td>\n",
       "      <td>44333776</td>\n",
       "      <td>1.730800e-06</td>\n",
       "      <td>-0.861364</td>\n",
       "      <td>4</td>\n",
       "      <td>1.036100e-08</td>\n",
       "      <td>1.529600e-09</td>\n",
       "      <td>0.087333</td>\n",
       "      <td>0.94870</td>\n",
       "      <td>...</td>\n",
       "      <td>-0.887917</td>\n",
       "      <td>-0.820834</td>\n",
       "      <td>-0.789792</td>\n",
       "      <td>-0.880292</td>\n",
       "      <td>-0.891667</td>\n",
       "      <td>-0.874792</td>\n",
       "      <td>-0.825667</td>\n",
       "      <td>-0.883834</td>\n",
       "      <td>-0.789792</td>\n",
       "      <td>-0.892334</td>\n",
       "    </tr>\n",
       "  </tbody>\n",
       "</table>\n",
       "<p>5 rows × 40 columns</p>\n",
       "</div>"
      ],
      "text/plain": [
       "  chrom     start       end             q      diff  #cpg        p(MWU)  \\\n",
       "0  chr1  13711401  13711603  2.165600e-06 -0.921644     4  1.036100e-08   \n",
       "1  chr1  21459675  21459830  1.548500e-06 -0.839886     4  1.036100e-08   \n",
       "2  chr1  36418604  36418987  2.424900e-12 -0.816691     8  4.518600e-14   \n",
       "3  chr1  38493747  38493790  8.917500e-06 -0.870515     4  1.036100e-08   \n",
       "4  chr1  44333641  44333776  1.730800e-06 -0.861364     4  1.036100e-08   \n",
       "\n",
       "        p(2dks)      mNeu   others  ...   mNeu-m8   mNeu-DC   mNeu-Eo  \\\n",
       "0  2.007600e-09  0.016000  0.93764  ... -0.962125 -0.890417 -0.743000   \n",
       "1  1.330100e-09  0.106580  0.94647  ... -0.883420 -0.779170 -0.709920   \n",
       "2  3.427800e-16  0.119120  0.93582  ... -0.813942 -0.829317 -0.719692   \n",
       "3  1.089100e-08  0.015750  0.88627  ... -0.860000 -0.846833 -0.778750   \n",
       "4  1.529600e-09  0.087333  0.94870  ... -0.887917 -0.820834 -0.789792   \n",
       "\n",
       "    mNeu-Tr   mNeu-m4   mNeu-Mg   mNeu-Er   mNeu-mB  maxCompartmentwisedelta  \\\n",
       "0 -0.963875 -0.953500 -0.917125 -0.851750 -0.940750                -0.743000   \n",
       "1 -0.857795 -0.863795 -0.857045 -0.871920 -0.859837                -0.709920   \n",
       "2 -0.800880 -0.833567 -0.819255 -0.792318 -0.820297                -0.719692   \n",
       "3 -0.854625 -0.895000 -0.824125 -0.869125 -0.879917                -0.778750   \n",
       "4 -0.880292 -0.891667 -0.874792 -0.825667 -0.883834                -0.789792   \n",
       "\n",
       "   minCompartmentwiseDelta  \n",
       "0                -0.967000  \n",
       "1                -0.883420  \n",
       "2                -0.860672  \n",
       "3                -0.942750  \n",
       "4                -0.892334  \n",
       "\n",
       "[5 rows x 40 columns]"
      ]
     },
     "execution_count": 2,
     "metadata": {},
     "output_type": "execute_result"
    }
   ],
   "source": [
    "metCWdf=pd.read_csv(metCWfile,sep=\"\\t\")\n",
    "metCWdf.head()"
   ]
  },
  {
   "cell_type": "code",
   "execution_count": 3,
   "metadata": {},
   "outputs": [
    {
     "data": {
      "text/html": [
       "<div>\n",
       "<style scoped>\n",
       "    .dataframe tbody tr th:only-of-type {\n",
       "        vertical-align: middle;\n",
       "    }\n",
       "\n",
       "    .dataframe tbody tr th {\n",
       "        vertical-align: top;\n",
       "    }\n",
       "\n",
       "    .dataframe thead th {\n",
       "        text-align: right;\n",
       "    }\n",
       "</style>\n",
       "<table border=\"1\" class=\"dataframe\">\n",
       "  <thead>\n",
       "    <tr style=\"text-align: right;\">\n",
       "      <th></th>\n",
       "      <th>chrom</th>\n",
       "      <th>start</th>\n",
       "      <th>end</th>\n",
       "      <th>#TP_fragment</th>\n",
       "      <th>#FP_fragment</th>\n",
       "      <th>#TN_fragment</th>\n",
       "      <th>#FN_fragment</th>\n",
       "      <th>#Total_Fragment</th>\n",
       "      <th>TPR</th>\n",
       "      <th>FPR</th>\n",
       "      <th>...</th>\n",
       "      <th>mNeu-m8</th>\n",
       "      <th>mNeu-DC</th>\n",
       "      <th>mNeu-Eo</th>\n",
       "      <th>mNeu-Tr</th>\n",
       "      <th>mNeu-m4</th>\n",
       "      <th>mNeu-Mg</th>\n",
       "      <th>mNeu-Er</th>\n",
       "      <th>mNeu-mB</th>\n",
       "      <th>maxCompartmentwisedelta</th>\n",
       "      <th>minCompartmentwiseDelta</th>\n",
       "    </tr>\n",
       "  </thead>\n",
       "  <tbody>\n",
       "    <tr>\n",
       "      <th>0</th>\n",
       "      <td>chr1</td>\n",
       "      <td>13711401</td>\n",
       "      <td>13711603</td>\n",
       "      <td>1.875000</td>\n",
       "      <td>9.236111</td>\n",
       "      <td>172.708333</td>\n",
       "      <td>0.000000</td>\n",
       "      <td>183.819444</td>\n",
       "      <td>1.000000</td>\n",
       "      <td>0.058323</td>\n",
       "      <td>...</td>\n",
       "      <td>-0.962125</td>\n",
       "      <td>-0.890417</td>\n",
       "      <td>-0.743000</td>\n",
       "      <td>-0.963875</td>\n",
       "      <td>-0.953500</td>\n",
       "      <td>-0.917125</td>\n",
       "      <td>-0.851750</td>\n",
       "      <td>-0.940750</td>\n",
       "      <td>-0.743000</td>\n",
       "      <td>-0.967000</td>\n",
       "    </tr>\n",
       "    <tr>\n",
       "      <th>1</th>\n",
       "      <td>chr1</td>\n",
       "      <td>21459675</td>\n",
       "      <td>21459830</td>\n",
       "      <td>1.541667</td>\n",
       "      <td>11.333333</td>\n",
       "      <td>260.666667</td>\n",
       "      <td>0.958333</td>\n",
       "      <td>274.500000</td>\n",
       "      <td>0.409028</td>\n",
       "      <td>0.038782</td>\n",
       "      <td>...</td>\n",
       "      <td>-0.883420</td>\n",
       "      <td>-0.779170</td>\n",
       "      <td>-0.709920</td>\n",
       "      <td>-0.857795</td>\n",
       "      <td>-0.863795</td>\n",
       "      <td>-0.857045</td>\n",
       "      <td>-0.871920</td>\n",
       "      <td>-0.859837</td>\n",
       "      <td>-0.709920</td>\n",
       "      <td>-0.883420</td>\n",
       "    </tr>\n",
       "    <tr>\n",
       "      <th>2</th>\n",
       "      <td>chr1</td>\n",
       "      <td>36418604</td>\n",
       "      <td>36418987</td>\n",
       "      <td>0.083333</td>\n",
       "      <td>6.590278</td>\n",
       "      <td>154.375000</td>\n",
       "      <td>0.020833</td>\n",
       "      <td>161.069444</td>\n",
       "      <td>0.875000</td>\n",
       "      <td>0.042761</td>\n",
       "      <td>...</td>\n",
       "      <td>-0.813942</td>\n",
       "      <td>-0.829317</td>\n",
       "      <td>-0.719692</td>\n",
       "      <td>-0.800880</td>\n",
       "      <td>-0.833567</td>\n",
       "      <td>-0.819255</td>\n",
       "      <td>-0.792318</td>\n",
       "      <td>-0.820297</td>\n",
       "      <td>-0.719692</td>\n",
       "      <td>-0.860672</td>\n",
       "    </tr>\n",
       "    <tr>\n",
       "      <th>3</th>\n",
       "      <td>chr1</td>\n",
       "      <td>38493747</td>\n",
       "      <td>38493790</td>\n",
       "      <td>0.000000</td>\n",
       "      <td>3.402778</td>\n",
       "      <td>129.097222</td>\n",
       "      <td>0.000000</td>\n",
       "      <td>132.500000</td>\n",
       "      <td>NaN</td>\n",
       "      <td>0.025272</td>\n",
       "      <td>...</td>\n",
       "      <td>-0.860000</td>\n",
       "      <td>-0.846833</td>\n",
       "      <td>-0.778750</td>\n",
       "      <td>-0.854625</td>\n",
       "      <td>-0.895000</td>\n",
       "      <td>-0.824125</td>\n",
       "      <td>-0.869125</td>\n",
       "      <td>-0.879917</td>\n",
       "      <td>-0.778750</td>\n",
       "      <td>-0.942750</td>\n",
       "    </tr>\n",
       "    <tr>\n",
       "      <th>4</th>\n",
       "      <td>chr1</td>\n",
       "      <td>44333641</td>\n",
       "      <td>44333776</td>\n",
       "      <td>0.166667</td>\n",
       "      <td>7.666667</td>\n",
       "      <td>216.083333</td>\n",
       "      <td>0.000000</td>\n",
       "      <td>223.916667</td>\n",
       "      <td>1.000000</td>\n",
       "      <td>0.034856</td>\n",
       "      <td>...</td>\n",
       "      <td>-0.887917</td>\n",
       "      <td>-0.820834</td>\n",
       "      <td>-0.789792</td>\n",
       "      <td>-0.880292</td>\n",
       "      <td>-0.891667</td>\n",
       "      <td>-0.874792</td>\n",
       "      <td>-0.825667</td>\n",
       "      <td>-0.883834</td>\n",
       "      <td>-0.789792</td>\n",
       "      <td>-0.892334</td>\n",
       "    </tr>\n",
       "  </tbody>\n",
       "</table>\n",
       "<p>5 rows × 48 columns</p>\n",
       "</div>"
      ],
      "text/plain": [
       "  chrom     start       end  #TP_fragment  #FP_fragment  #TN_fragment  \\\n",
       "0  chr1  13711401  13711603      1.875000      9.236111    172.708333   \n",
       "1  chr1  21459675  21459830      1.541667     11.333333    260.666667   \n",
       "2  chr1  36418604  36418987      0.083333      6.590278    154.375000   \n",
       "3  chr1  38493747  38493790      0.000000      3.402778    129.097222   \n",
       "4  chr1  44333641  44333776      0.166667      7.666667    216.083333   \n",
       "\n",
       "   #FN_fragment  #Total_Fragment       TPR       FPR  ...   mNeu-m8   mNeu-DC  \\\n",
       "0      0.000000       183.819444  1.000000  0.058323  ... -0.962125 -0.890417   \n",
       "1      0.958333       274.500000  0.409028  0.038782  ... -0.883420 -0.779170   \n",
       "2      0.020833       161.069444  0.875000  0.042761  ... -0.813942 -0.829317   \n",
       "3      0.000000       132.500000       NaN  0.025272  ... -0.860000 -0.846833   \n",
       "4      0.000000       223.916667  1.000000  0.034856  ... -0.887917 -0.820834   \n",
       "\n",
       "    mNeu-Eo   mNeu-Tr   mNeu-m4   mNeu-Mg   mNeu-Er   mNeu-mB  \\\n",
       "0 -0.743000 -0.963875 -0.953500 -0.917125 -0.851750 -0.940750   \n",
       "1 -0.709920 -0.857795 -0.863795 -0.857045 -0.871920 -0.859837   \n",
       "2 -0.719692 -0.800880 -0.833567 -0.819255 -0.792318 -0.820297   \n",
       "3 -0.778750 -0.854625 -0.895000 -0.824125 -0.869125 -0.879917   \n",
       "4 -0.789792 -0.880292 -0.891667 -0.874792 -0.825667 -0.883834   \n",
       "\n",
       "   maxCompartmentwisedelta  minCompartmentwiseDelta  \n",
       "0                -0.743000                -0.967000  \n",
       "1                -0.709920                -0.883420  \n",
       "2                -0.719692                -0.860672  \n",
       "3                -0.778750                -0.942750  \n",
       "4                -0.789792                -0.892334  \n",
       "\n",
       "[5 rows x 48 columns]"
      ]
     },
     "execution_count": 3,
     "metadata": {},
     "output_type": "execute_result"
    }
   ],
   "source": [
    "combined=DMRsigdf.merge(metCWdf,on=['chrom','start','end'])\n",
    "combined.head()"
   ]
  },
  {
   "cell_type": "code",
   "execution_count": 4,
   "metadata": {},
   "outputs": [
    {
     "data": {
      "text/plain": [
       "(89, 48)"
      ]
     },
     "execution_count": 4,
     "metadata": {},
     "output_type": "execute_result"
    }
   ],
   "source": [
    "combined.shape"
   ]
  },
  {
   "cell_type": "code",
   "execution_count": 5,
   "metadata": {},
   "outputs": [
    {
     "data": {
      "text/html": [
       "<div>\n",
       "<style scoped>\n",
       "    .dataframe tbody tr th:only-of-type {\n",
       "        vertical-align: middle;\n",
       "    }\n",
       "\n",
       "    .dataframe tbody tr th {\n",
       "        vertical-align: top;\n",
       "    }\n",
       "\n",
       "    .dataframe thead th {\n",
       "        text-align: right;\n",
       "    }\n",
       "</style>\n",
       "<table border=\"1\" class=\"dataframe\">\n",
       "  <thead>\n",
       "    <tr style=\"text-align: right;\">\n",
       "      <th></th>\n",
       "      <th>chrom</th>\n",
       "      <th>start</th>\n",
       "      <th>end</th>\n",
       "      <th>#TP_fragment</th>\n",
       "      <th>#FP_fragment</th>\n",
       "      <th>#TN_fragment</th>\n",
       "      <th>#FN_fragment</th>\n",
       "      <th>#Total_Fragment</th>\n",
       "      <th>TPR</th>\n",
       "      <th>FPR</th>\n",
       "      <th>...</th>\n",
       "      <th>mNeu-m4</th>\n",
       "      <th>mNeu-Mg</th>\n",
       "      <th>mNeu-Er</th>\n",
       "      <th>mNeu-mB</th>\n",
       "      <th>maxCompartmentwisedelta</th>\n",
       "      <th>minCompartmentwiseDelta</th>\n",
       "      <th>DMRlength</th>\n",
       "      <th>#cpg/DMRlength</th>\n",
       "      <th>DMRlength/#Total_Fragment</th>\n",
       "      <th>#Total_Fragment/DMRlength</th>\n",
       "    </tr>\n",
       "  </thead>\n",
       "  <tbody>\n",
       "    <tr>\n",
       "      <th>0</th>\n",
       "      <td>chr1</td>\n",
       "      <td>13711401</td>\n",
       "      <td>13711603</td>\n",
       "      <td>1.875000</td>\n",
       "      <td>9.236111</td>\n",
       "      <td>172.708333</td>\n",
       "      <td>0.000000</td>\n",
       "      <td>183.819444</td>\n",
       "      <td>1.000000</td>\n",
       "      <td>0.058323</td>\n",
       "      <td>...</td>\n",
       "      <td>-0.953500</td>\n",
       "      <td>-0.917125</td>\n",
       "      <td>-0.851750</td>\n",
       "      <td>-0.940750</td>\n",
       "      <td>-0.743000</td>\n",
       "      <td>-0.967000</td>\n",
       "      <td>202</td>\n",
       "      <td>0.019802</td>\n",
       "      <td>1.098904</td>\n",
       "      <td>0.909997</td>\n",
       "    </tr>\n",
       "    <tr>\n",
       "      <th>1</th>\n",
       "      <td>chr1</td>\n",
       "      <td>21459675</td>\n",
       "      <td>21459830</td>\n",
       "      <td>1.541667</td>\n",
       "      <td>11.333333</td>\n",
       "      <td>260.666667</td>\n",
       "      <td>0.958333</td>\n",
       "      <td>274.500000</td>\n",
       "      <td>0.409028</td>\n",
       "      <td>0.038782</td>\n",
       "      <td>...</td>\n",
       "      <td>-0.863795</td>\n",
       "      <td>-0.857045</td>\n",
       "      <td>-0.871920</td>\n",
       "      <td>-0.859837</td>\n",
       "      <td>-0.709920</td>\n",
       "      <td>-0.883420</td>\n",
       "      <td>155</td>\n",
       "      <td>0.025806</td>\n",
       "      <td>0.564663</td>\n",
       "      <td>1.770968</td>\n",
       "    </tr>\n",
       "    <tr>\n",
       "      <th>2</th>\n",
       "      <td>chr1</td>\n",
       "      <td>36418604</td>\n",
       "      <td>36418987</td>\n",
       "      <td>0.083333</td>\n",
       "      <td>6.590278</td>\n",
       "      <td>154.375000</td>\n",
       "      <td>0.020833</td>\n",
       "      <td>161.069444</td>\n",
       "      <td>0.875000</td>\n",
       "      <td>0.042761</td>\n",
       "      <td>...</td>\n",
       "      <td>-0.833567</td>\n",
       "      <td>-0.819255</td>\n",
       "      <td>-0.792318</td>\n",
       "      <td>-0.820297</td>\n",
       "      <td>-0.719692</td>\n",
       "      <td>-0.860672</td>\n",
       "      <td>383</td>\n",
       "      <td>0.020888</td>\n",
       "      <td>2.377856</td>\n",
       "      <td>0.420547</td>\n",
       "    </tr>\n",
       "    <tr>\n",
       "      <th>3</th>\n",
       "      <td>chr1</td>\n",
       "      <td>38493747</td>\n",
       "      <td>38493790</td>\n",
       "      <td>0.000000</td>\n",
       "      <td>3.402778</td>\n",
       "      <td>129.097222</td>\n",
       "      <td>0.000000</td>\n",
       "      <td>132.500000</td>\n",
       "      <td>NaN</td>\n",
       "      <td>0.025272</td>\n",
       "      <td>...</td>\n",
       "      <td>-0.895000</td>\n",
       "      <td>-0.824125</td>\n",
       "      <td>-0.869125</td>\n",
       "      <td>-0.879917</td>\n",
       "      <td>-0.778750</td>\n",
       "      <td>-0.942750</td>\n",
       "      <td>43</td>\n",
       "      <td>0.093023</td>\n",
       "      <td>0.324528</td>\n",
       "      <td>3.081395</td>\n",
       "    </tr>\n",
       "    <tr>\n",
       "      <th>4</th>\n",
       "      <td>chr1</td>\n",
       "      <td>44333641</td>\n",
       "      <td>44333776</td>\n",
       "      <td>0.166667</td>\n",
       "      <td>7.666667</td>\n",
       "      <td>216.083333</td>\n",
       "      <td>0.000000</td>\n",
       "      <td>223.916667</td>\n",
       "      <td>1.000000</td>\n",
       "      <td>0.034856</td>\n",
       "      <td>...</td>\n",
       "      <td>-0.891667</td>\n",
       "      <td>-0.874792</td>\n",
       "      <td>-0.825667</td>\n",
       "      <td>-0.883834</td>\n",
       "      <td>-0.789792</td>\n",
       "      <td>-0.892334</td>\n",
       "      <td>135</td>\n",
       "      <td>0.029630</td>\n",
       "      <td>0.602903</td>\n",
       "      <td>1.658642</td>\n",
       "    </tr>\n",
       "  </tbody>\n",
       "</table>\n",
       "<p>5 rows × 52 columns</p>\n",
       "</div>"
      ],
      "text/plain": [
       "  chrom     start       end  #TP_fragment  #FP_fragment  #TN_fragment  \\\n",
       "0  chr1  13711401  13711603      1.875000      9.236111    172.708333   \n",
       "1  chr1  21459675  21459830      1.541667     11.333333    260.666667   \n",
       "2  chr1  36418604  36418987      0.083333      6.590278    154.375000   \n",
       "3  chr1  38493747  38493790      0.000000      3.402778    129.097222   \n",
       "4  chr1  44333641  44333776      0.166667      7.666667    216.083333   \n",
       "\n",
       "   #FN_fragment  #Total_Fragment       TPR       FPR  ...   mNeu-m4   mNeu-Mg  \\\n",
       "0      0.000000       183.819444  1.000000  0.058323  ... -0.953500 -0.917125   \n",
       "1      0.958333       274.500000  0.409028  0.038782  ... -0.863795 -0.857045   \n",
       "2      0.020833       161.069444  0.875000  0.042761  ... -0.833567 -0.819255   \n",
       "3      0.000000       132.500000       NaN  0.025272  ... -0.895000 -0.824125   \n",
       "4      0.000000       223.916667  1.000000  0.034856  ... -0.891667 -0.874792   \n",
       "\n",
       "    mNeu-Er   mNeu-mB  maxCompartmentwisedelta  minCompartmentwiseDelta  \\\n",
       "0 -0.851750 -0.940750                -0.743000                -0.967000   \n",
       "1 -0.871920 -0.859837                -0.709920                -0.883420   \n",
       "2 -0.792318 -0.820297                -0.719692                -0.860672   \n",
       "3 -0.869125 -0.879917                -0.778750                -0.942750   \n",
       "4 -0.825667 -0.883834                -0.789792                -0.892334   \n",
       "\n",
       "   DMRlength  #cpg/DMRlength  DMRlength/#Total_Fragment  \\\n",
       "0        202        0.019802                   1.098904   \n",
       "1        155        0.025806                   0.564663   \n",
       "2        383        0.020888                   2.377856   \n",
       "3         43        0.093023                   0.324528   \n",
       "4        135        0.029630                   0.602903   \n",
       "\n",
       "   #Total_Fragment/DMRlength  \n",
       "0                   0.909997  \n",
       "1                   1.770968  \n",
       "2                   0.420547  \n",
       "3                   3.081395  \n",
       "4                   1.658642  \n",
       "\n",
       "[5 rows x 52 columns]"
      ]
     },
     "execution_count": 5,
     "metadata": {},
     "output_type": "execute_result"
    }
   ],
   "source": [
    "combined['DMRlength']=combined['end']-combined['start']\n",
    "combined['#cpg/DMRlength']=combined['#cpg']/combined['DMRlength']\n",
    "combined['DMRlength/#Total_Fragment']=combined['DMRlength']/combined['#Total_Fragment']\n",
    "combined['#Total_Fragment/DMRlength']=combined['#Total_Fragment']/combined['DMRlength']\n",
    "combined.head()"
   ]
  },
  {
   "cell_type": "code",
   "execution_count": 6,
   "metadata": {},
   "outputs": [
    {
     "data": {
      "text/plain": [
       "<matplotlib.axes._subplots.AxesSubplot at 0x7ffd5c43a2b0>"
      ]
     },
     "execution_count": 6,
     "metadata": {},
     "output_type": "execute_result"
    },
    {
     "data": {
      "image/png": "[encoded data removed]",
      "text/plain": [
       "<Figure size 432x288 with 1 Axes>"
      ]
     },
     "metadata": {
      "needs_background": "light"
     },
     "output_type": "display_data"
    }
   ],
   "source": [
    "combined['#Total_Fragment'].plot.kde() #hist()"
   ]
  },
  {
   "cell_type": "code",
   "execution_count": 7,
   "metadata": {},
   "outputs": [
    {
     "data": {
      "text/plain": [
       "<matplotlib.axes._subplots.AxesSubplot at 0x7ffd554cabe0>"
      ]
     },
     "execution_count": 7,
     "metadata": {},
     "output_type": "execute_result"
    },
    {
     "data": {
      "image/png": "[encoded data removed]",
      "text/plain": [
       "<Figure size 432x288 with 1 Axes>"
      ]
     },
     "metadata": {
      "needs_background": "light"
     },
     "output_type": "display_data"
    }
   ],
   "source": [
    "combined['#Total_Fragment'].plot.bar(rot=0)"
   ]
  },
  {
   "cell_type": "code",
   "execution_count": 8,
   "metadata": {},
   "outputs": [
    {
     "data": {
      "text/plain": [
       "<matplotlib.axes._subplots.AxesSubplot at 0x7ffd5d586e80>"
      ]
     },
     "execution_count": 8,
     "metadata": {},
     "output_type": "execute_result"
    },
    {
     "data": {
      "image/png": "[encoded data removed]",
      "text/plain": [
       "<Figure size 432x288 with 1 Axes>"
      ]
     },
     "metadata": {
      "needs_background": "light"
     },
     "output_type": "display_data"
    }
   ],
   "source": [
    "combined['DMRlength/#Total_Fragment'].plot.kde()"
   ]
  },
  {
   "cell_type": "code",
   "execution_count": 9,
   "metadata": {},
   "outputs": [
    {
     "data": {
      "text/plain": [
       "<matplotlib.axes._subplots.AxesSubplot at 0x7ffd5d695160>"
      ]
     },
     "execution_count": 9,
     "metadata": {},
     "output_type": "execute_result"
    },
    {
     "data": {
      "image/png": "[encoded data removed]",
      "text/plain": [
       "<Figure size 432x288 with 1 Axes>"
      ]
     },
     "metadata": {
      "needs_background": "light"
     },
     "output_type": "display_data"
    }
   ],
   "source": [
    "combined['#Total_Fragment/DMRlength'].plot.kde()"
   ]
  },
  {
   "cell_type": "code",
   "execution_count": 10,
   "metadata": {},
   "outputs": [
    {
     "data": {
      "text/plain": [
       "<matplotlib.axes._subplots.AxesSubplot at 0x7ffd5d4f2eb8>"
      ]
     },
     "execution_count": 10,
     "metadata": {},
     "output_type": "execute_result"
    },
    {
     "data": {
      "image/png": "[encoded data removed]",
      "text/plain": [
       "<Figure size 432x288 with 1 Axes>"
      ]
     },
     "metadata": {
      "needs_background": "light"
     },
     "output_type": "display_data"
    }
   ],
   "source": [
    "combined['DMRlength/#Total_Fragment'].plot.bar(rot=0)"
   ]
  },
  {
   "cell_type": "code",
   "execution_count": 11,
   "metadata": {
    "scrolled": true
   },
   "outputs": [
    {
     "data": {
      "text/plain": [
       "<matplotlib.axes._subplots.AxesSubplot at 0x7ffd5dc69f28>"
      ]
     },
     "execution_count": 11,
     "metadata": {},
     "output_type": "execute_result"
    },
    {
     "data": {
      "image/png": "[encoded data removed]",
      "text/plain": [
       "<Figure size 432x288 with 1 Axes>"
      ]
     },
     "metadata": {
      "needs_background": "light"
     },
     "output_type": "display_data"
    }
   ],
   "source": [
    "combined['FPR'].plot.kde() #hist()"
   ]
  },
  {
   "cell_type": "code",
   "execution_count": 18,
   "metadata": {},
   "outputs": [
    {
     "data": {
      "text/plain": [
       "<matplotlib.axes._subplots.AxesSubplot at 0x7ffd5ebee198>"
      ]
     },
     "execution_count": 18,
     "metadata": {},
     "output_type": "execute_result"
    },
    {
     "data": {
      "image/png": "[encoded data removed]",
      "text/plain": [
       "<Figure size 432x288 with 1 Axes>"
      ]
     },
     "metadata": {
      "needs_background": "light"
     },
     "output_type": "display_data"
    }
   ],
   "source": [
    "combined['FPR'].plot.hist()"
   ]
  },
  {
   "cell_type": "code",
   "execution_count": 12,
   "metadata": {},
   "outputs": [
    {
     "data": {
      "text/plain": [
       "<matplotlib.axes._subplots.AxesSubplot at 0x7ffd589174a8>"
      ]
     },
     "execution_count": 12,
     "metadata": {},
     "output_type": "execute_result"
    },
    {
     "data": {
      "image/png": "[encoded data removed]",
      "text/plain": [
       "<Figure size 432x288 with 1 Axes>"
      ]
     },
     "metadata": {
      "needs_background": "light"
     },
     "output_type": "display_data"
    }
   ],
   "source": [
    "combined['FPR'].sort_values().plot.bar(rot=0)"
   ]
  },
  {
   "cell_type": "code",
   "execution_count": 13,
   "metadata": {},
   "outputs": [
    {
     "data": {
      "text/plain": [
       "0.03214870805454365"
      ]
     },
     "execution_count": 13,
     "metadata": {},
     "output_type": "execute_result"
    }
   ],
   "source": [
    "combined['FPR'].mean()"
   ]
  },
  {
   "cell_type": "code",
   "execution_count": 14,
   "metadata": {},
   "outputs": [
    {
     "data": {
      "text/plain": [
       "<matplotlib.axes._subplots.AxesSubplot at 0x7ffd5e8ecf28>"
      ]
     },
     "execution_count": 14,
     "metadata": {},
     "output_type": "execute_result"
    },
    {
     "data": {
      "image/png": "[encoded data removed]",
      "text/plain": [
       "<Figure size 432x288 with 1 Axes>"
      ]
     },
     "metadata": {
      "needs_background": "light"
     },
     "output_type": "display_data"
    }
   ],
   "source": [
    "combined['FDR'].plot.kde() #.hist()"
   ]
  },
  {
   "cell_type": "code",
   "execution_count": 15,
   "metadata": {},
   "outputs": [
    {
     "data": {
      "text/plain": [
       "<matplotlib.axes._subplots.AxesSubplot at 0x7ffd5e866c18>"
      ]
     },
     "execution_count": 15,
     "metadata": {},
     "output_type": "execute_result"
    },
    {
     "data": {
      "image/png": "[encoded data removed]",
      "text/plain": [
       "<Figure size 432x288 with 1 Axes>"
      ]
     },
     "metadata": {
      "needs_background": "light"
     },
     "output_type": "display_data"
    }
   ],
   "source": [
    "combined['FDR'].sort_values().plot.bar(rot=0)"
   ]
  },
  {
   "cell_type": "code",
   "execution_count": 16,
   "metadata": {},
   "outputs": [
    {
     "data": {
      "text/plain": [
       "others                      -0.606440\n",
       "Tr                          -0.573262\n",
       "m4                          -0.517552\n",
       "m8                          -0.492870\n",
       "mB                          -0.485885\n",
       "NK                          -0.440615\n",
       "#cpg/DMRlength              -0.411462\n",
       "Er                          -0.405049\n",
       "CD8                         -0.378262\n",
       "Eo                          -0.357583\n",
       "Mg                          -0.348252\n",
       "nB                          -0.332776\n",
       "mNeu                        -0.307253\n",
       "mNeu.1                      -0.307250\n",
       "CD4                         -0.297205\n",
       "#cpg                        -0.263267\n",
       "mycpgcount                  -0.263267\n",
       "Mn                          -0.260132\n",
       "mNeu-nB                     -0.245568\n",
       "minCompartmentwiseDelta     -0.244273\n",
       "mNeu-CD4                    -0.237661\n",
       "#Total_Fragment/DMRlength   -0.232091\n",
       "DC                          -0.227678\n",
       "#TN_fragment                -0.195127\n",
       "mNeu-CD8                    -0.176660\n",
       "#Total_Fragment             -0.137970\n",
       "mNeu-NK                     -0.113673\n",
       "mNeu-Mg                     -0.109448\n",
       "diff                        -0.080206\n",
       "#FN_fragment                -0.072313\n",
       "mNeu-DC                     -0.071202\n",
       "mNeu-Mn                     -0.067449\n",
       "mNeu-Er                     -0.006577\n",
       "mNeu-m4                      0.007100\n",
       "#TP_fragment                 0.041856\n",
       "mNeu-m8                      0.044937\n",
       "p(2dks)                      0.058379\n",
       "mNeu-Tr                      0.064148\n",
       "mNeu-mB                      0.067166\n",
       "mNeu-Eo                      0.075715\n",
       "q                            0.081473\n",
       "maxCompartmentwisedelta      0.089104\n",
       "TPR                          0.145012\n",
       "start                        0.183614\n",
       "end                          0.183615\n",
       "p(MWU)                       0.219596\n",
       "FDR                          0.401135\n",
       "DMRlength                    0.414166\n",
       "DMRlength/#Total_Fragment    0.458424\n",
       "#FP_fragment                 0.825396\n",
       "FPR                          1.000000\n",
       "Name: FPR, dtype: float64"
      ]
     },
     "execution_count": 16,
     "metadata": {},
     "output_type": "execute_result"
    }
   ],
   "source": [
    "corrdf=combined.corr()\n",
    "corrdf['FPR'].sort_values()"
   ]
  },
  {
   "cell_type": "code",
   "execution_count": 17,
   "metadata": {},
   "outputs": [
    {
     "data": {
      "text/plain": [
       "DMRlength/#Total_Fragment   -0.369737\n",
       "q                           -0.169677\n",
       "p(2dks)                     -0.165017\n",
       "NK                          -0.153468\n",
       "p(MWU)                      -0.140055\n",
       "FPR                         -0.137970\n",
       "m8                          -0.096699\n",
       "FDR                         -0.095504\n",
       "Eo                          -0.064262\n",
       "DC                          -0.052242\n",
       "nB                          -0.046937\n",
       "Tr                          -0.036244\n",
       "others                      -0.035250\n",
       "m4                          -0.031850\n",
       "start                       -0.007824\n",
       "end                         -0.007824\n",
       "mB                           0.000449\n",
       "TPR                          0.009330\n",
       "CD8                          0.016261\n",
       "Mg                           0.022046\n",
       "#cpg/DMRlength               0.023777\n",
       "Mn                           0.032062\n",
       "Er                           0.039879\n",
       "mNeu-Er                      0.047451\n",
       "DMRlength                    0.050814\n",
       "mNeu-CD4                     0.052053\n",
       "mNeu-Mn                      0.054124\n",
       "mNeu-Mg                      0.070223\n",
       "mNeu-mB                      0.078760\n",
       "mNeu-CD8                     0.080954\n",
       "mNeu                         0.085731\n",
       "mNeu.1                       0.085732\n",
       "mNeu-nB                      0.102505\n",
       "mNeu-m4                      0.103757\n",
       "mNeu-Tr                      0.103918\n",
       "diff                         0.113877\n",
       "mNeu-DC                      0.126862\n",
       "maxCompartmentwisedelta      0.128712\n",
       "CD4                          0.131846\n",
       "minCompartmentwiseDelta      0.134304\n",
       "mNeu-m8                      0.144855\n",
       "mNeu-NK                      0.147968\n",
       "mNeu-Eo                      0.151270\n",
       "#FN_fragment                 0.172855\n",
       "mycpgcount                   0.182285\n",
       "#cpg                         0.182285\n",
       "#Total_Fragment/DMRlength    0.341892\n",
       "#FP_fragment                 0.358761\n",
       "#TP_fragment                 0.361992\n",
       "#TN_fragment                 0.998081\n",
       "#Total_Fragment              1.000000\n",
       "Name: #Total_Fragment, dtype: float64"
      ]
     },
     "execution_count": 17,
     "metadata": {},
     "output_type": "execute_result"
    }
   ],
   "source": [
    "corrdf['#Total_Fragment'].sort_values()"
   ]
  },
  {
   "cell_type": "code",
   "execution_count": null,
   "metadata": {},
   "outputs": [],
   "source": [
    "# sns.scatterplot(combined['FDR'], combined['FPR'])\n",
    "def plt_corr(x, y):\n",
    "    fig = plt.figure()\n",
    "    lm = sns.lmplot(x=x, y=y, data=combined)\n",
    "    ax = lm.axes[0, 0]\n",
    "    p_corr = np.around(corrdf_pearson[x][y], decimals=3)\n",
    "    s_corr = np.around(corrdf_spearman[x][y], decimals=3)\n",
    "    p_val_pearson = np.around(pearsonr(combined[x], combined[y])[1], decimals=8)\n",
    "    p_val_spearman = np.around(spearmanr(combined[x], combined[y])[1], decimals=8)\n",
    "    txt = 'r = ' + str(p_corr) + ', p-val = ' + str(p_val_pearson) + '\\nrho = ' + str(s_corr) + ', p-val = ' + str(p_val_spearman)\n",
    "    ax.text(np.array(combined[x].sort_values())[0], np.array(combined[y].sort_values())[-2], txt, horizontalalignment='left', verticalalignment='bottom')\n",
    "    return lm"
   ]
  }
 ],
 "metadata": {
  "kernelspec": {
   "display_name": "Python 3",
   "language": "python",
   "name": "python3"
  },
  "language_info": {
   "codemirror_mode": {
    "name": "ipython",
    "version": 3
   },
   "file_extension": ".py",
   "mimetype": "text/x-python",
   "name": "python",
   "nbconvert_exporter": "python",
   "pygments_lexer": "ipython3",
   "version": "3.6.7"
  }
 },
 "nbformat": 4,
 "nbformat_minor": 2
}
