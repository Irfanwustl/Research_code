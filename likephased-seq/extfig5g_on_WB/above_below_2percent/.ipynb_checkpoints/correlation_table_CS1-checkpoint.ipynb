{
 "cells": [
  {
   "cell_type": "code",
   "execution_count": 1,
   "metadata": {},
   "outputs": [],
   "source": [
    "import numpy as np\n",
    "import pandas as pd\n",
    "import matplotlib.pyplot as plt\n",
    "from scipy.stats.mstats import pearsonr, spearmanr\n",
    "import os\n",
    "from random import randint"
   ]
  },
  {
   "cell_type": "code",
   "execution_count": 2,
   "metadata": {},
   "outputs": [],
   "source": [
    "# est_file = 'Estimate/csxrnaseq_lymph_normalized_results.txt'\n",
    "est_fol = 'read_counting'\n",
    "est_files = list(os.listdir(est_fol))\n",
    "\n",
    "if '.DS_Store' in est_files:\n",
    "    est_files.remove('.DS_Store')\n",
    "    \n",
    "if '.ipynb_checkpoints' in est_files:\n",
    "    est_files.remove('.ipynb_checkpoints')\n",
    "\n",
    "gt_fol = 'gt'\n",
    "gt_files = os.listdir(gt_fol)\n",
    "\n",
    "if '.DS_Store' in gt_files:\n",
    "    gt_files.remove('.DS_Store')\n",
    "    \n",
    "if '.ipynb_checkpoints' in gt_files:\n",
    "    gt_files.remove('.ipynb_checkpoints')\n",
    "    \n",
    "corr = pearsonr #spearmanr\n",
    "outfile = 'spearman.txt'\n",
    "\n",
    "outfol = 'CS_corr'\n",
    "#os.mkdir(outfol)"
   ]
  },
  {
   "cell_type": "code",
   "execution_count": 3,
   "metadata": {},
   "outputs": [],
   "source": [
    "def get_correct_cols(est_cols, gt_cols):\n",
    "    est_real = []\n",
    "    gt_real = []\n",
    "    for col in gt_cols:\n",
    "        if 'real' in col:\n",
    "            gt_real.append(col)\n",
    "            est_real.append(col.split('_')[0])\n",
    "    return est_real, gt_real"
   ]
  },
  {
   "cell_type": "code",
   "execution_count": 4,
   "metadata": {},
   "outputs": [],
   "source": [
    "def get_lists(df, cells):\n",
    "    df = df.sort_index()\n",
    "    val_list = {}\n",
    "    for cell in cells:\n",
    "        val_list[cell] = np.array(df[cell])\n",
    "    return val_list"
   ]
  },
  {
   "cell_type": "code",
   "execution_count": 5,
   "metadata": {},
   "outputs": [],
   "source": [
    "def correlation(func, x1, x2):\n",
    "    return func(x1, x2)[0]"
   ]
  },
  {
   "cell_type": "code",
   "execution_count": 6,
   "metadata": {},
   "outputs": [
    {
     "data": {
      "text/html": [
       "<div>\n",
       "<style scoped>\n",
       "    .dataframe tbody tr th:only-of-type {\n",
       "        vertical-align: middle;\n",
       "    }\n",
       "\n",
       "    .dataframe tbody tr th {\n",
       "        vertical-align: top;\n",
       "    }\n",
       "\n",
       "    .dataframe thead th {\n",
       "        text-align: right;\n",
       "    }\n",
       "</style>\n",
       "<table border=\"1\" class=\"dataframe\">\n",
       "  <thead>\n",
       "    <tr style=\"text-align: right;\">\n",
       "      <th></th>\n",
       "      <th>File</th>\n",
       "      <th>gt/CSx_some.txt_nB</th>\n",
       "      <th>gt/CSx_some.txt_NK</th>\n",
       "      <th>gt/CSx_some.txt_mNeu</th>\n",
       "      <th>gt/CSx_some.txt_DC</th>\n",
       "    </tr>\n",
       "  </thead>\n",
       "  <tbody>\n",
       "    <tr>\n",
       "      <th>0</th>\n",
       "      <td>BL14_atleast.2_top-1_singleCpG_final_assignedr...</td>\n",
       "      <td>0.755245</td>\n",
       "      <td>0.762238</td>\n",
       "      <td>0.958042</td>\n",
       "      <td>0.017796</td>\n",
       "    </tr>\n",
       "  </tbody>\n",
       "</table>\n",
       "</div>"
      ],
      "text/plain": [
       "                                                File  gt/CSx_some.txt_nB  \\\n",
       "0  BL14_atleast.2_top-1_singleCpG_final_assignedr...            0.755245   \n",
       "\n",
       "   gt/CSx_some.txt_NK  gt/CSx_some.txt_mNeu  gt/CSx_some.txt_DC  \n",
       "0            0.762238              0.958042            0.017796  "
      ]
     },
     "metadata": {},
     "output_type": "display_data"
    }
   ],
   "source": [
    "dataframes = []\n",
    "\n",
    "for i in range(len(est_files)):\n",
    "    df_p1 = pd.DataFrame()\n",
    "    for j in range(len(gt_files)):\n",
    "        ex_est = est_fol + '/' + est_files[i]\n",
    "        data_est = pd.read_csv(ex_est, sep='\\t', index_col=0)\n",
    "        df_est = pd.DataFrame(data_est)\n",
    "        df_est = df_est.sort_index()\n",
    "\n",
    "        ex_gt = gt_fol + '/' + gt_files[j]\n",
    "        data_gt = pd.read_csv(ex_gt, sep='\\t', index_col=0)\n",
    "        df_gt = pd.DataFrame(data_gt)\n",
    "        df_gt = df_gt.sort_index()\n",
    "\n",
    "        \n",
    "        \n",
    "        if (i == 0) and (j == 0):\n",
    "            cells = list(df_gt.columns)\n",
    "            cells_gt = list(df_gt.columns)\n",
    "            \n",
    "        header = ['File']\n",
    "        for l in range(len(cells)):\n",
    "            col = header.append(ex_gt + '_' + cells[l])\n",
    "\n",
    "        p_list = [est_files[i]]\n",
    "        for k in range(len(cells)):\n",
    "            est_arr = np.array(df_est[cells[k]])\n",
    "            gt_arr = np.array(df_gt[cells_gt[k]])\n",
    "            p_list.append(correlation(corr, est_arr, gt_arr))\n",
    "        \n",
    "        if j == 0:\n",
    "            df_p1 = pd.DataFrame([p_list], columns=header)\n",
    "        else:\n",
    "            df_new = pd.DataFrame([p_list[1:]], columns=header[1:])\n",
    "            df_p1 = pd.concat([df_p1, df_new], axis=1)\n",
    "    display(df_p1)\n",
    "    dataframes.append(df_p1.copy())"
   ]
  },
  {
   "cell_type": "code",
   "execution_count": 7,
   "metadata": {},
   "outputs": [
    {
     "data": {
      "text/html": [
       "<div>\n",
       "<style scoped>\n",
       "    .dataframe tbody tr th:only-of-type {\n",
       "        vertical-align: middle;\n",
       "    }\n",
       "\n",
       "    .dataframe tbody tr th {\n",
       "        vertical-align: top;\n",
       "    }\n",
       "\n",
       "    .dataframe thead th {\n",
       "        text-align: right;\n",
       "    }\n",
       "</style>\n",
       "<table border=\"1\" class=\"dataframe\">\n",
       "  <thead>\n",
       "    <tr style=\"text-align: right;\">\n",
       "      <th></th>\n",
       "      <th>gt/CSx_some.txt_nB</th>\n",
       "      <th>gt/CSx_some.txt_NK</th>\n",
       "      <th>gt/CSx_some.txt_mNeu</th>\n",
       "      <th>gt/CSx_some.txt_DC</th>\n",
       "    </tr>\n",
       "    <tr>\n",
       "      <th>File</th>\n",
       "      <th></th>\n",
       "      <th></th>\n",
       "      <th></th>\n",
       "      <th></th>\n",
       "    </tr>\n",
       "  </thead>\n",
       "  <tbody>\n",
       "    <tr>\n",
       "      <th>BL14_atleast.2_top-1_singleCpG_final_assignedref_uniq.txt_result_nocov_mincpg3_ABSreadcount_divisioned.txt_CSxOut.txt</th>\n",
       "      <td>0.755245</td>\n",
       "      <td>0.762238</td>\n",
       "      <td>0.958042</td>\n",
       "      <td>0.017796</td>\n",
       "    </tr>\n",
       "  </tbody>\n",
       "</table>\n",
       "</div>"
      ],
      "text/plain": [
       "                                                    gt/CSx_some.txt_nB  \\\n",
       "File                                                                     \n",
       "BL14_atleast.2_top-1_singleCpG_final_assignedre...            0.755245   \n",
       "\n",
       "                                                    gt/CSx_some.txt_NK  \\\n",
       "File                                                                     \n",
       "BL14_atleast.2_top-1_singleCpG_final_assignedre...            0.762238   \n",
       "\n",
       "                                                    gt/CSx_some.txt_mNeu  \\\n",
       "File                                                                       \n",
       "BL14_atleast.2_top-1_singleCpG_final_assignedre...              0.958042   \n",
       "\n",
       "                                                    gt/CSx_some.txt_DC  \n",
       "File                                                                    \n",
       "BL14_atleast.2_top-1_singleCpG_final_assignedre...            0.017796  "
      ]
     },
     "metadata": {},
     "output_type": "display_data"
    }
   ],
   "source": [
    "for i in range(len(dataframes)):\n",
    "    dataframes[i] = dataframes[i].set_index('File')\n",
    "    display(dataframes[i])"
   ]
  },
  {
   "cell_type": "code",
   "execution_count": 8,
   "metadata": {},
   "outputs": [
    {
     "data": {
      "text/html": [
       "<div>\n",
       "<style scoped>\n",
       "    .dataframe tbody tr th:only-of-type {\n",
       "        vertical-align: middle;\n",
       "    }\n",
       "\n",
       "    .dataframe tbody tr th {\n",
       "        vertical-align: top;\n",
       "    }\n",
       "\n",
       "    .dataframe thead th {\n",
       "        text-align: right;\n",
       "    }\n",
       "</style>\n",
       "<table border=\"1\" class=\"dataframe\">\n",
       "  <thead>\n",
       "    <tr style=\"text-align: right;\">\n",
       "      <th></th>\n",
       "      <th>gt/CSx_some.txt_nB</th>\n",
       "      <th>gt/CSx_some.txt_NK</th>\n",
       "      <th>gt/CSx_some.txt_mNeu</th>\n",
       "      <th>gt/CSx_some.txt_DC</th>\n",
       "    </tr>\n",
       "    <tr>\n",
       "      <th>File</th>\n",
       "      <th></th>\n",
       "      <th></th>\n",
       "      <th></th>\n",
       "      <th></th>\n",
       "    </tr>\n",
       "  </thead>\n",
       "  <tbody>\n",
       "    <tr>\n",
       "      <th>BL14_atleast.2_top-1_singleCpG_final_assignedref_uniq.txt_result_nocov_mincpg3_ABSreadcount_divisioned.txt_CSxOut.txt</th>\n",
       "      <td>0.755245</td>\n",
       "      <td>0.762238</td>\n",
       "      <td>0.958042</td>\n",
       "      <td>0.017796</td>\n",
       "    </tr>\n",
       "  </tbody>\n",
       "</table>\n",
       "</div>"
      ],
      "text/plain": [
       "                                                    gt/CSx_some.txt_nB  \\\n",
       "File                                                                     \n",
       "BL14_atleast.2_top-1_singleCpG_final_assignedre...            0.755245   \n",
       "\n",
       "                                                    gt/CSx_some.txt_NK  \\\n",
       "File                                                                     \n",
       "BL14_atleast.2_top-1_singleCpG_final_assignedre...            0.762238   \n",
       "\n",
       "                                                    gt/CSx_some.txt_mNeu  \\\n",
       "File                                                                       \n",
       "BL14_atleast.2_top-1_singleCpG_final_assignedre...              0.958042   \n",
       "\n",
       "                                                    gt/CSx_some.txt_DC  \n",
       "File                                                                    \n",
       "BL14_atleast.2_top-1_singleCpG_final_assignedre...            0.017796  "
      ]
     },
     "execution_count": 8,
     "metadata": {},
     "output_type": "execute_result"
    }
   ],
   "source": [
    "df_p1 = pd.DataFrame()\n",
    "\n",
    "for i in range(len(dataframes)):\n",
    "    if i == 0:\n",
    "        df_p1 = dataframes[i].copy()\n",
    "    else:\n",
    "        df_p1 = pd.concat([df_p1, dataframes[i]], axis=0)\n",
    "\n",
    "df_p1"
   ]
  },
  {
   "cell_type": "code",
   "execution_count": 9,
   "metadata": {},
   "outputs": [],
   "source": [
    "df_p1.to_csv(outfol + '/' + outfile, sep='\\t')"
   ]
  }
 ],
 "metadata": {
  "kernelspec": {
   "display_name": "Python 3",
   "language": "python",
   "name": "python3"
  },
  "language_info": {
   "codemirror_mode": {
    "name": "ipython",
    "version": 3
   },
   "file_extension": ".py",
   "mimetype": "text/x-python",
   "name": "python",
   "nbconvert_exporter": "python",
   "pygments_lexer": "ipython3",
   "version": "3.6.7"
  }
 },
 "nbformat": 4,
 "nbformat_minor": 4
}
