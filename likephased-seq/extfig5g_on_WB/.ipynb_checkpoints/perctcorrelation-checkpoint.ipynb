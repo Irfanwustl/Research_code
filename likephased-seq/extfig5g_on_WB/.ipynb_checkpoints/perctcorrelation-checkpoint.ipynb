{
 "cells": [
  {
   "cell_type": "code",
   "execution_count": 44,
   "metadata": {},
   "outputs": [],
   "source": [
    "import numpy as np\n",
    "import pandas as pd\n",
    "import matplotlib.pyplot as plt\n",
    "from scipy.stats.mstats import pearsonr, spearmanr\n",
    "import os\n",
    "from random import randint"
   ]
  },
  {
   "cell_type": "code",
   "execution_count": 46,
   "metadata": {},
   "outputs": [],
   "source": [
    "# est_file = 'Estimate/csxrnaseq_lymph_normalized_results.txt'\n",
    "est_fol = 'Estimate'\n",
    "est_files = os.listdir(est_fol)\n",
    "\n",
    "gt_fol = 'gt'\n",
    "gt_files = os.listdir(gt_fol)\n",
    "\n",
    "outfol = 'boxplots'\n",
    "os.mkdir(outfol)\n",
    "\n",
    "# est_data = pd.read_csv(est_file, sep='\\t', index_col=0)\n",
    "# gt_data = pd.read_csv(gt_file, sep='\\t', index_col=0)\n",
    "\n",
    "# est_df = pd.DataFrame(est_data)\n",
    "# gt_df = pd.DataFrame(gt_data)\n",
    "\n",
    "# Transpose dataframes\n",
    "# est_df = est_df.T\n",
    "# gt_df = gt_df.T"
   ]
  },
  {
   "cell_type": "code",
   "execution_count": 47,
   "metadata": {},
   "outputs": [],
   "source": [
    "def corr(gt_files, est_df, correlation):\n",
    "    corr_lists = []\n",
    "    labels = []\n",
    "\n",
    "    for file in gt_files:\n",
    "        print(file)\n",
    "        gt_file = gt_fol + '/' + file\n",
    "        gt_data = pd.read_csv(gt_file, sep='\\t', index_col=0)\n",
    "        gt_df = pd.DataFrame(gt_data)\n",
    "        #gt_df = gt_df.T\n",
    "        gt_df = gt_df.sort_index()\n",
    "        corr_list = []\n",
    "        for col in list(est_df.columns):\n",
    "            est_list = np.array(est_df[col])\n",
    "            gt_list = np.array(gt_df[col])\n",
    "            corr_list.append(correlation(est_list, gt_list)[0])\n",
    "            print(col, correlation(est_list, gt_list)[0])\n",
    "        corr_lists.append(corr_list)\n",
    "    \n",
    "        labels.append(file.split('_')[0])\n",
    "    return corr_lists, labels"
   ]
  },
  {
   "cell_type": "code",
   "execution_count": 48,
   "metadata": {},
   "outputs": [],
   "source": [
    "def plot_estimate(corr_lists, labels, est_df, ax, est_file, correlation, colors):\n",
    "    ax.boxplot(corr_lists, labels=labels, widths=0.6)\n",
    "        \n",
    "    for i in range(len(corr_lists)):\n",
    "        for j in range(len(corr_lists[i])):\n",
    "            p = corr_lists[i][j]\n",
    "            if i == 0:\n",
    "                ax.plot(i + 1, p, marker='o', markersize=7, color=colors[j], label=est_df.columns[j])\n",
    "            else:\n",
    "                ax.plot(i + 1, p, marker='o', markersize=7, color=colors[j])\n",
    "    # ax.set_ylim(y_lim)\n",
    "    ax.set_title(est_file)\n",
    "    return fig, ax"
   ]
  },
  {
   "cell_type": "code",
   "execution_count": 49,
   "metadata": {},
   "outputs": [
    {
     "name": "stdout",
     "output_type": "stream",
     "text": [
      "csxwgbs_lymph_normalized_results_wholeblood.txt\n",
      "cytof_lymph_normalized_results.txt\n",
      "B_cells 0.26095025407563033\n",
      "NK_cells 0.20374997373968523\n",
      "CD4 0.21025149128128898\n",
      "CD8 0.6575887133697146\n",
      "clinflow_lymph_normalized_results.txt\n",
      "B_cells 0.4412999333432762\n",
      "NK_cells 0.8497405266376653\n",
      "CD4 0.5730185645991503\n",
      "CD8 0.5144070746747738\n",
      "cw13ct_hypo_top150dmr_t1_0.15_t2_0.15_mincpg2_lymph_normalized_results_wholeblood.txt\n",
      "cytof_lymph_normalized_results.txt\n",
      "B_cells 0.5831658505790588\n",
      "NK_cells 0.49578189628457614\n",
      "CD4 0.6507110527923267\n",
      "CD8 0.01947468427944488\n",
      "clinflow_lymph_normalized_results.txt\n",
      "B_cells 0.926699307907441\n",
      "NK_cells 0.9496182388481644\n",
      "CD4 0.8140479178153438\n",
      "CD8 0.35592889610613104\n",
      "csxrnaseq_lymph_normalized_results.txt\n",
      "cytof_lymph_normalized_results.txt\n",
      "B_cells 0.6087983387042343\n",
      "NK_cells 0.13795930955799465\n",
      "CD4 0.19781244943724913\n",
      "CD8 0.7589435838124603\n",
      "clinflow_lymph_normalized_results.txt\n",
      "B_cells 0.904173484453213\n",
      "NK_cells 0.5017388800953846\n",
      "CD4 0.23414392788378344\n",
      "CD8 0.71105577710942\n",
      "ref6ct_g100_mincpg3_lymph_normalized_results_wholeblood.txt\n",
      "cytof_lymph_normalized_results.txt\n",
      "B_cells 0.4650667021695466\n",
      "NK_cells 0.29388217809145\n",
      "CD4 0.41852007990331386\n",
      "CD8 0.12145102964935567\n",
      "clinflow_lymph_normalized_results.txt\n",
      "B_cells 0.8678994248543039\n",
      "NK_cells 0.8743326128001023\n",
      "CD4 0.7289210927979604\n",
      "CD8 0.4371994766335046\n"
     ]
    },
    {
     "data": {
      "image/png": "[encoded data removed]",
      "text/plain": [
       "<Figure size 432x288 with 4 Axes>"
      ]
     },
     "metadata": {
      "needs_background": "light"
     },
     "output_type": "display_data"
    }
   ],
   "source": [
    "fig, axs = plt.subplots(1, 4, sharey=True)\n",
    "\n",
    "colors = []\n",
    "\n",
    "for i in range(len(est_files)):\n",
    "    file = est_files[i]\n",
    "    print(file)\n",
    "    est_file = est_fol + '/' + file\n",
    "    est_data = pd.read_csv(est_file, sep='\\t', index_col=0)\n",
    "    est_df = pd.DataFrame(est_data)\n",
    "    #est_df = est_df.T\n",
    "    est_df = est_df.sort_index()\n",
    "    est_name = file.split('_')[0]\n",
    "    if i == 0:\n",
    "        n = len(est_df.columns)\n",
    "        for j in range(n):\n",
    "            colors.append('#%06X' % randint(0, 0xFFFFFF))\n",
    "    p_lists, labels = corr(gt_files, est_df, pearsonr)\n",
    "    plot_estimate(p_lists, labels, est_df, axs[i], est_name, 'Pearson Correlation', colors)\n",
    "\n",
    "fig.subplots_adjust(wspace=0)\n",
    "plt.legend(loc=(1.1, 0.7))\n",
    "axs[0].set_ylabel('Pearson Correlation')\n",
    "fig.savefig(outfol + '/pearson_corr.pdf',dpi=300, bbox_inches='tight')"
   ]
  },
  {
   "cell_type": "code",
   "execution_count": 51,
   "metadata": {},
   "outputs": [
    {
     "name": "stdout",
     "output_type": "stream",
     "text": [
      "csxwgbs_lymph_normalized_results_wholeblood.txt\n",
      "cytof_lymph_normalized_results.txt\n",
      "B_cells 0.4834758110141772\n",
      "NK_cells 0.1188811188811189\n",
      "CD4 0.25874125874125875\n",
      "CD8 0.7902097902097902\n",
      "clinflow_lymph_normalized_results.txt\n",
      "B_cells 0.34311186588102893\n",
      "NK_cells 0.5734265734265734\n",
      "CD4 0.6153846153846154\n",
      "CD8 0.46153846153846156\n",
      "cw13ct_hypo_top150dmr_t1_0.15_t2_0.15_mincpg2_lymph_normalized_results_wholeblood.txt\n",
      "cytof_lymph_normalized_results.txt\n",
      "B_cells 0.6783216783216784\n",
      "NK_cells 0.5524475524475525\n",
      "CD4 0.5524475524475525\n",
      "CD8 0.027972027972027972\n",
      "clinflow_lymph_normalized_results.txt\n",
      "B_cells 0.8881118881118882\n",
      "NK_cells 0.8601398601398602\n",
      "CD4 0.9440559440559441\n",
      "CD8 0.40559440559440557\n",
      "csxrnaseq_lymph_normalized_results.txt\n",
      "cytof_lymph_normalized_results.txt\n",
      "B_cells 0.6783216783216784\n",
      "NK_cells 0.20279720279720279\n",
      "CD4 0.18881118881118883\n",
      "CD8 0.8111888111888111\n",
      "clinflow_lymph_normalized_results.txt\n",
      "B_cells 0.8811188811188811\n",
      "NK_cells 0.49650349650349657\n",
      "CD4 0.19580419580419584\n",
      "CD8 0.6013986013986015\n",
      "ref6ct_g100_mincpg3_lymph_normalized_results_wholeblood.txt\n",
      "cytof_lymph_normalized_results.txt\n",
      "B_cells 0.6783216783216784\n",
      "NK_cells 0.2517482517482518\n",
      "CD4 0.30069930069930073\n",
      "CD8 0.22377622377622378\n",
      "clinflow_lymph_normalized_results.txt\n",
      "B_cells 0.8321678321678322\n",
      "NK_cells 0.7272727272727273\n",
      "CD4 0.6993006993006994\n",
      "CD8 0.48251748251748255\n"
     ]
    },
    {
     "data": {
      "image/png": "[encoded data removed]",
      "text/plain": [
       "<Figure size 432x288 with 4 Axes>"
      ]
     },
     "metadata": {
      "needs_background": "light"
     },
     "output_type": "display_data"
    }
   ],
   "source": [
    "fig2, axs2 = plt.subplots(1, 4, sharey=True)\n",
    "# y_lim = [0.0, 1.0]\n",
    "for i in range(len(est_files)):\n",
    "    file = est_files[i]\n",
    "    print(file)\n",
    "    est_file = est_fol + '/' + file\n",
    "    est_data = pd.read_csv(est_file, sep='\\t', index_col=0)\n",
    "    est_df = pd.DataFrame(est_data)\n",
    "    est_df = est_df.T\n",
    "    est_df = est_df.sort_index()\n",
    "    est_name = file.split('_')[0]\n",
    "    s_lists, labels = corr(gt_files, est_df, spearmanr)\n",
    "    plot_estimate(s_lists, labels, est_df, axs2[i], est_name, 'Spearman Correlation', colors)\n",
    "\n",
    "fig2.subplots_adjust(wspace=0)\n",
    "plt.legend(loc=(1.1, 0.7))\n",
    "axs2[0].set_ylabel('Spearman Correlation')\n",
    "fig2.savefig(outfol + '/spearman_corr.pdf',dpi=300, bbox_inches='tight')"
   ]
  },
  {
   "cell_type": "code",
   "execution_count": null,
   "metadata": {},
   "outputs": [],
   "source": []
  }
 ],
 "metadata": {
  "kernelspec": {
   "display_name": "Python 3",
   "language": "python",
   "name": "python3"
  },
  "language_info": {
   "codemirror_mode": {
    "name": "ipython",
    "version": 3
   },
   "file_extension": ".py",
   "mimetype": "text/x-python",
   "name": "python",
   "nbconvert_exporter": "python",
   "pygments_lexer": "ipython3",
   "version": "3.6.7"
  }
 },
 "nbformat": 4,
 "nbformat_minor": 4
}
