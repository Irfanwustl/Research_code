{
 "cells": [
  {
   "cell_type": "code",
   "execution_count": 1,
   "metadata": {},
   "outputs": [
    {
     "data": {
      "text/html": [
       "<div>\n",
       "<style scoped>\n",
       "    .dataframe tbody tr th:only-of-type {\n",
       "        vertical-align: middle;\n",
       "    }\n",
       "\n",
       "    .dataframe tbody tr th {\n",
       "        vertical-align: top;\n",
       "    }\n",
       "\n",
       "    .dataframe thead th {\n",
       "        text-align: right;\n",
       "    }\n",
       "</style>\n",
       "<table border=\"1\" class=\"dataframe\">\n",
       "  <thead>\n",
       "    <tr style=\"text-align: right;\">\n",
       "      <th></th>\n",
       "      <th>chrom</th>\n",
       "      <th>start</th>\n",
       "      <th>end</th>\n",
       "      <th>q</th>\n",
       "      <th>Mel_Tumor-others</th>\n",
       "      <th>#cpg</th>\n",
       "      <th>p(MWU)</th>\n",
       "      <th>p(2dks)</th>\n",
       "      <th>Mel_Tumor</th>\n",
       "      <th>Others</th>\n",
       "      <th>...</th>\n",
       "      <th>#hg38.knownCanonical.chrom_x</th>\n",
       "      <th>hg38.knownCanonical.chromStart_x</th>\n",
       "      <th>hg38.knownCanonical.chromEnd_x</th>\n",
       "      <th>hg38.knownCanonical.transcript</th>\n",
       "      <th>transcriptno</th>\n",
       "      <th>direction</th>\n",
       "      <th>#hg38.knownCanonical.chrom_y</th>\n",
       "      <th>hg38.knownCanonical.chromStart_y</th>\n",
       "      <th>hg38.knownCanonical.chromEnd_y</th>\n",
       "      <th>hg38.kgXref.geneSymbol</th>\n",
       "    </tr>\n",
       "  </thead>\n",
       "  <tbody>\n",
       "    <tr>\n",
       "      <th>0</th>\n",
       "      <td>chr6</td>\n",
       "      <td>116557987</td>\n",
       "      <td>116558060</td>\n",
       "      <td>1.050000e-08</td>\n",
       "      <td>-0.875465</td>\n",
       "      <td>5</td>\n",
       "      <td>1.130000e-09</td>\n",
       "      <td>1.560000e-10</td>\n",
       "      <td>0.027067</td>\n",
       "      <td>0.90253</td>\n",
       "      <td>...</td>\n",
       "      <td>chr6</td>\n",
       "      <td>116557824</td>\n",
       "      <td>116558575</td>\n",
       "      <td>ENST00000368596.3</td>\n",
       "      <td>1</td>\n",
       "      <td>+</td>\n",
       "      <td>chr6</td>\n",
       "      <td>116553749</td>\n",
       "      <td>116558575</td>\n",
       "      <td>CALHM4</td>\n",
       "    </tr>\n",
       "    <tr>\n",
       "      <th>1</th>\n",
       "      <td>chr16</td>\n",
       "      <td>88533427</td>\n",
       "      <td>88533891</td>\n",
       "      <td>0.000000e+00</td>\n",
       "      <td>-0.861474</td>\n",
       "      <td>70</td>\n",
       "      <td>4.840000e-14</td>\n",
       "      <td>2.840000e-99</td>\n",
       "      <td>0.027260</td>\n",
       "      <td>0.88873</td>\n",
       "      <td>...</td>\n",
       "      <td>chr16</td>\n",
       "      <td>88533147</td>\n",
       "      <td>88537031</td>\n",
       "      <td>ENST00000319555.8</td>\n",
       "      <td>9</td>\n",
       "      <td>+</td>\n",
       "      <td>chr16</td>\n",
       "      <td>88453279</td>\n",
       "      <td>88537031</td>\n",
       "      <td>ZFPM1</td>\n",
       "    </tr>\n",
       "    <tr>\n",
       "      <th>2</th>\n",
       "      <td>chr17</td>\n",
       "      <td>63681549</td>\n",
       "      <td>63681900</td>\n",
       "      <td>2.840000e-13</td>\n",
       "      <td>-0.857708</td>\n",
       "      <td>8</td>\n",
       "      <td>5.360000e-14</td>\n",
       "      <td>2.170000e-15</td>\n",
       "      <td>0.030958</td>\n",
       "      <td>0.88867</td>\n",
       "      <td>...</td>\n",
       "      <td>chr17</td>\n",
       "      <td>63681765</td>\n",
       "      <td>63681899</td>\n",
       "      <td>ENST00000577395.5</td>\n",
       "      <td>6</td>\n",
       "      <td>+</td>\n",
       "      <td>chr17</td>\n",
       "      <td>63622709</td>\n",
       "      <td>63693874</td>\n",
       "      <td>MAP3K3</td>\n",
       "    </tr>\n",
       "    <tr>\n",
       "      <th>3</th>\n",
       "      <td>chr8</td>\n",
       "      <td>31087378</td>\n",
       "      <td>31087802</td>\n",
       "      <td>3.180000e-13</td>\n",
       "      <td>-0.855212</td>\n",
       "      <td>8</td>\n",
       "      <td>5.360000e-14</td>\n",
       "      <td>2.450000e-15</td>\n",
       "      <td>0.067958</td>\n",
       "      <td>0.92317</td>\n",
       "      <td>...</td>\n",
       "      <td>chr8</td>\n",
       "      <td>31087775</td>\n",
       "      <td>31087920</td>\n",
       "      <td>ENST00000298139.7</td>\n",
       "      <td>11</td>\n",
       "      <td>+</td>\n",
       "      <td>chr8</td>\n",
       "      <td>31033809</td>\n",
       "      <td>31176138</td>\n",
       "      <td>WRN</td>\n",
       "    </tr>\n",
       "    <tr>\n",
       "      <th>4</th>\n",
       "      <td>chr6</td>\n",
       "      <td>158707205</td>\n",
       "      <td>158707330</td>\n",
       "      <td>1.440000e-08</td>\n",
       "      <td>-0.851735</td>\n",
       "      <td>5</td>\n",
       "      <td>1.130000e-09</td>\n",
       "      <td>2.180000e-10</td>\n",
       "      <td>0.060400</td>\n",
       "      <td>0.91214</td>\n",
       "      <td>...</td>\n",
       "      <td>chr6</td>\n",
       "      <td>158707229</td>\n",
       "      <td>158707281</td>\n",
       "      <td>ENST00000611299.4</td>\n",
       "      <td>6</td>\n",
       "      <td>+</td>\n",
       "      <td>chr6</td>\n",
       "      <td>158650013</td>\n",
       "      <td>158764876</td>\n",
       "      <td>SYTL3</td>\n",
       "    </tr>\n",
       "  </tbody>\n",
       "</table>\n",
       "<p>5 rows × 26 columns</p>\n",
       "</div>"
      ],
      "text/plain": [
       "   chrom      start        end             q  Mel_Tumor-others  #cpg  \\\n",
       "0   chr6  116557987  116558060  1.050000e-08         -0.875465     5   \n",
       "1  chr16   88533427   88533891  0.000000e+00         -0.861474    70   \n",
       "2  chr17   63681549   63681900  2.840000e-13         -0.857708     8   \n",
       "3   chr8   31087378   31087802  3.180000e-13         -0.855212     8   \n",
       "4   chr6  158707205  158707330  1.440000e-08         -0.851735     5   \n",
       "\n",
       "         p(MWU)       p(2dks)  Mel_Tumor   Others  ...  \\\n",
       "0  1.130000e-09  1.560000e-10   0.027067  0.90253  ...   \n",
       "1  4.840000e-14  2.840000e-99   0.027260  0.88873  ...   \n",
       "2  5.360000e-14  2.170000e-15   0.030958  0.88867  ...   \n",
       "3  5.360000e-14  2.450000e-15   0.067958  0.92317  ...   \n",
       "4  1.130000e-09  2.180000e-10   0.060400  0.91214  ...   \n",
       "\n",
       "   #hg38.knownCanonical.chrom_x  hg38.knownCanonical.chromStart_x  \\\n",
       "0                          chr6                         116557824   \n",
       "1                         chr16                          88533147   \n",
       "2                         chr17                          63681765   \n",
       "3                          chr8                          31087775   \n",
       "4                          chr6                         158707229   \n",
       "\n",
       "   hg38.knownCanonical.chromEnd_x  hg38.knownCanonical.transcript  \\\n",
       "0                       116558575               ENST00000368596.3   \n",
       "1                        88537031               ENST00000319555.8   \n",
       "2                        63681899               ENST00000577395.5   \n",
       "3                        31087920               ENST00000298139.7   \n",
       "4                       158707281               ENST00000611299.4   \n",
       "\n",
       "   transcriptno  direction #hg38.knownCanonical.chrom_y  \\\n",
       "0             1          +                         chr6   \n",
       "1             9          +                        chr16   \n",
       "2             6          +                        chr17   \n",
       "3            11          +                         chr8   \n",
       "4             6          +                         chr6   \n",
       "\n",
       "   hg38.knownCanonical.chromStart_y  hg38.knownCanonical.chromEnd_y  \\\n",
       "0                         116553749                       116558575   \n",
       "1                          88453279                        88537031   \n",
       "2                          63622709                        63693874   \n",
       "3                          31033809                        31176138   \n",
       "4                         158650013                       158764876   \n",
       "\n",
       "  hg38.kgXref.geneSymbol  \n",
       "0                 CALHM4  \n",
       "1                  ZFPM1  \n",
       "2                 MAP3K3  \n",
       "3                    WRN  \n",
       "4                  SYTL3  \n",
       "\n",
       "[5 rows x 26 columns]"
      ]
     },
     "execution_count": 1,
     "metadata": {},
     "output_type": "execute_result"
    }
   ],
   "source": [
    "import pandas as pd\n",
    "import matplotlib.pyplot as plt\n",
    "infile=\"/Users/irffanalahi/Research/Research_code/gitignorefolder/DMRrelated/diagnosis/genomic_feature_allwithheader/PBLtilMel_meldiff-.7_other-.1_q0.00001_sorted4_1_genomic_feature_intron_exon_segregated_celltypeseperated/MEL_TUMOR/promdataready_all_matrixCin_nr0.5_imputed_g1_MEL_TUMOR_3_g2_others_15.txt_q0.01_diff0.7_hypo.txt_exon_genecode_v36_modified.txt_canonical.txt_proteinCodingGene.txt.txt\"\n",
    "\n",
    "indf=pd.read_csv(infile,sep=\"\\t\")\n",
    "\n",
    "diffcol='Mel_Tumor-others'\n",
    "\n",
    "\n",
    "diffrange=[.1,.3,.5,.7,.9]\n",
    "\n",
    "\n",
    "indf.head()"
   ]
  },
  {
   "cell_type": "code",
   "execution_count": 2,
   "metadata": {
    "scrolled": true
   },
   "outputs": [
    {
     "data": {
      "text/plain": [
       "{'+', '-'}"
      ]
     },
     "execution_count": 2,
     "metadata": {},
     "output_type": "execute_result"
    }
   ],
   "source": [
    "set(indf['direction'].tolist())"
   ]
  },
  {
   "cell_type": "code",
   "execution_count": 3,
   "metadata": {},
   "outputs": [],
   "source": [
    "indfposdirection=indf[indf['direction']=='+']\n",
    "indfnegdirection=indf[indf['direction']=='-']"
   ]
  },
  {
   "cell_type": "code",
   "execution_count": 4,
   "metadata": {},
   "outputs": [],
   "source": [
    "#indfposdirection['transcriptno'].plot.kde()"
   ]
  },
  {
   "cell_type": "code",
   "execution_count": 5,
   "metadata": {},
   "outputs": [
    {
     "data": {
      "text/plain": [
       "(112, 26)"
      ]
     },
     "execution_count": 5,
     "metadata": {},
     "output_type": "execute_result"
    }
   ],
   "source": [
    "indfposdirection.shape"
   ]
  },
  {
   "cell_type": "code",
   "execution_count": 6,
   "metadata": {},
   "outputs": [
    {
     "data": {
      "text/plain": [
       "<matplotlib.axes._subplots.AxesSubplot at 0x7faf813294a8>"
      ]
     },
     "execution_count": 6,
     "metadata": {},
     "output_type": "execute_result"
    },
    {
     "data": {
      "image/png": "[encoded data removed]",
      "text/plain": [
       "<Figure size 432x288 with 1 Axes>"
      ]
     },
     "metadata": {
      "needs_background": "light"
     },
     "output_type": "display_data"
    }
   ],
   "source": [
    "fig, ax = plt.subplots()\n",
    "indfposdirection['transcriptno'].value_counts().plot(ax=ax, kind='bar')"
   ]
  }
 ],
 "metadata": {
  "kernelspec": {
   "display_name": "Python 3",
   "language": "python",
   "name": "python3"
  },
  "language_info": {
   "codemirror_mode": {
    "name": "ipython",
    "version": 3
   },
   "file_extension": ".py",
   "mimetype": "text/x-python",
   "name": "python",
   "nbconvert_exporter": "python",
   "pygments_lexer": "ipython3",
   "version": "3.6.7"
  }
 },
 "nbformat": 4,
 "nbformat_minor": 2
}
