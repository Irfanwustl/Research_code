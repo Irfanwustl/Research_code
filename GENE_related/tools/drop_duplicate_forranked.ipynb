{
 "cells": [
  {
   "cell_type": "code",
   "execution_count": 1,
   "metadata": {},
   "outputs": [
    {
     "data": {
      "text/html": [
       "<div>\n",
       "<style scoped>\n",
       "    .dataframe tbody tr th:only-of-type {\n",
       "        vertical-align: middle;\n",
       "    }\n",
       "\n",
       "    .dataframe tbody tr th {\n",
       "        vertical-align: top;\n",
       "    }\n",
       "\n",
       "    .dataframe thead th {\n",
       "        text-align: right;\n",
       "    }\n",
       "</style>\n",
       "<table border=\"1\" class=\"dataframe\">\n",
       "  <thead>\n",
       "    <tr style=\"text-align: right;\">\n",
       "      <th></th>\n",
       "      <th>chrom</th>\n",
       "      <th>start</th>\n",
       "      <th>end</th>\n",
       "      <th>3</th>\n",
       "      <th>4</th>\n",
       "      <th>5</th>\n",
       "      <th>Gene/Repeat type</th>\n",
       "      <th>Region</th>\n",
       "    </tr>\n",
       "  </thead>\n",
       "  <tbody>\n",
       "    <tr>\n",
       "      <th>0</th>\n",
       "      <td>chr4</td>\n",
       "      <td>39632731</td>\n",
       "      <td>39632733</td>\n",
       "      <td>chr4</td>\n",
       "      <td>39632511</td>\n",
       "      <td>39632775</td>\n",
       "      <td>AluJb</td>\n",
       "      <td>repeat</td>\n",
       "    </tr>\n",
       "    <tr>\n",
       "      <th>1</th>\n",
       "      <td>chr16</td>\n",
       "      <td>11966064</td>\n",
       "      <td>11966066</td>\n",
       "      <td>chr16</td>\n",
       "      <td>11965824</td>\n",
       "      <td>11966139</td>\n",
       "      <td>AluSx</td>\n",
       "      <td>repeat</td>\n",
       "    </tr>\n",
       "    <tr>\n",
       "      <th>2</th>\n",
       "      <td>chr11</td>\n",
       "      <td>2393735</td>\n",
       "      <td>2393737</td>\n",
       "      <td>chr11</td>\n",
       "      <td>2393724</td>\n",
       "      <td>2393792</td>\n",
       "      <td>G-rich</td>\n",
       "      <td>repeat</td>\n",
       "    </tr>\n",
       "    <tr>\n",
       "      <th>3</th>\n",
       "      <td>chr3</td>\n",
       "      <td>18213977</td>\n",
       "      <td>18213979</td>\n",
       "      <td>chr3</td>\n",
       "      <td>18213787</td>\n",
       "      <td>18214097</td>\n",
       "      <td>AluSx1</td>\n",
       "      <td>repeat</td>\n",
       "    </tr>\n",
       "    <tr>\n",
       "      <th>4</th>\n",
       "      <td>chr16</td>\n",
       "      <td>50194810</td>\n",
       "      <td>50194812</td>\n",
       "      <td>chr16</td>\n",
       "      <td>50194744</td>\n",
       "      <td>50195048</td>\n",
       "      <td>AluY</td>\n",
       "      <td>repeat</td>\n",
       "    </tr>\n",
       "  </tbody>\n",
       "</table>\n",
       "</div>"
      ],
      "text/plain": [
       "   chrom     start       end      3         4         5 Gene/Repeat type  \\\n",
       "0   chr4  39632731  39632733   chr4  39632511  39632775            AluJb   \n",
       "1  chr16  11966064  11966066  chr16  11965824  11966139            AluSx   \n",
       "2  chr11   2393735   2393737  chr11   2393724   2393792           G-rich   \n",
       "3   chr3  18213977  18213979   chr3  18213787  18214097           AluSx1   \n",
       "4  chr16  50194810  50194812  chr16  50194744  50195048             AluY   \n",
       "\n",
       "   Region  \n",
       "0  repeat  \n",
       "1  repeat  \n",
       "2  repeat  \n",
       "3  repeat  \n",
       "4  repeat  "
      ]
     },
     "execution_count": 1,
     "metadata": {},
     "output_type": "execute_result"
    }
   ],
   "source": [
    "import pandas as pd\n",
    "infile='/Users/irffanalahi/Research/Research_update/SoftRD/hashtable_stats/tieredApproach/Majorlineage/Genomic_feature/BLU_inflection/Bcell_CpGdelta_info_faster.txt_5000_forheatunderlyingdata_ranked.txt_pos.txt__row_combined.txt'\n",
    "outfile=infile+\"_nondup.txt\"\n",
    "\n",
    "\n",
    "indf=pd.read_csv(infile,sep='\\t')\n",
    "\n",
    "indf.head()"
   ]
  },
  {
   "cell_type": "code",
   "execution_count": 2,
   "metadata": {},
   "outputs": [
    {
     "data": {
      "text/html": [
       "<div>\n",
       "<style scoped>\n",
       "    .dataframe tbody tr th:only-of-type {\n",
       "        vertical-align: middle;\n",
       "    }\n",
       "\n",
       "    .dataframe tbody tr th {\n",
       "        vertical-align: top;\n",
       "    }\n",
       "\n",
       "    .dataframe thead th {\n",
       "        text-align: right;\n",
       "    }\n",
       "</style>\n",
       "<table border=\"1\" class=\"dataframe\">\n",
       "  <thead>\n",
       "    <tr style=\"text-align: right;\">\n",
       "      <th></th>\n",
       "      <th>chrom</th>\n",
       "      <th>start</th>\n",
       "      <th>end</th>\n",
       "      <th>Gene/Repeat type</th>\n",
       "      <th>Region</th>\n",
       "    </tr>\n",
       "  </thead>\n",
       "  <tbody>\n",
       "    <tr>\n",
       "      <th>0</th>\n",
       "      <td>chr4</td>\n",
       "      <td>39632731</td>\n",
       "      <td>39632733</td>\n",
       "      <td>AluJb</td>\n",
       "      <td>repeat</td>\n",
       "    </tr>\n",
       "    <tr>\n",
       "      <th>1</th>\n",
       "      <td>chr16</td>\n",
       "      <td>11966064</td>\n",
       "      <td>11966066</td>\n",
       "      <td>AluSx</td>\n",
       "      <td>repeat</td>\n",
       "    </tr>\n",
       "    <tr>\n",
       "      <th>2</th>\n",
       "      <td>chr11</td>\n",
       "      <td>2393735</td>\n",
       "      <td>2393737</td>\n",
       "      <td>G-rich</td>\n",
       "      <td>repeat</td>\n",
       "    </tr>\n",
       "    <tr>\n",
       "      <th>3</th>\n",
       "      <td>chr3</td>\n",
       "      <td>18213977</td>\n",
       "      <td>18213979</td>\n",
       "      <td>AluSx1</td>\n",
       "      <td>repeat</td>\n",
       "    </tr>\n",
       "    <tr>\n",
       "      <th>4</th>\n",
       "      <td>chr16</td>\n",
       "      <td>50194810</td>\n",
       "      <td>50194812</td>\n",
       "      <td>AluY</td>\n",
       "      <td>repeat</td>\n",
       "    </tr>\n",
       "  </tbody>\n",
       "</table>\n",
       "</div>"
      ],
      "text/plain": [
       "   chrom     start       end Gene/Repeat type  Region\n",
       "0   chr4  39632731  39632733            AluJb  repeat\n",
       "1  chr16  11966064  11966066            AluSx  repeat\n",
       "2  chr11   2393735   2393737           G-rich  repeat\n",
       "3   chr3  18213977  18213979           AluSx1  repeat\n",
       "4  chr16  50194810  50194812             AluY  repeat"
      ]
     },
     "execution_count": 2,
     "metadata": {},
     "output_type": "execute_result"
    }
   ],
   "source": [
    "outdf=indf.drop(['3','4','5'],axis=1)\n",
    "outdf.head()"
   ]
  },
  {
   "cell_type": "code",
   "execution_count": 3,
   "metadata": {},
   "outputs": [
    {
     "data": {
      "text/plain": [
       "(3799, 5)"
      ]
     },
     "execution_count": 3,
     "metadata": {},
     "output_type": "execute_result"
    }
   ],
   "source": [
    "outdf.shape"
   ]
  },
  {
   "cell_type": "code",
   "execution_count": 4,
   "metadata": {},
   "outputs": [],
   "source": [
    "outdf.drop_duplicates(inplace=True)"
   ]
  },
  {
   "cell_type": "code",
   "execution_count": 5,
   "metadata": {},
   "outputs": [
    {
     "data": {
      "text/plain": [
       "(496, 5)"
      ]
     },
     "execution_count": 5,
     "metadata": {},
     "output_type": "execute_result"
    }
   ],
   "source": [
    "outdf.shape"
   ]
  },
  {
   "cell_type": "code",
   "execution_count": 6,
   "metadata": {},
   "outputs": [],
   "source": [
    "outdf.to_csv(outfile,sep='\\t',index=False)"
   ]
  }
 ],
 "metadata": {
  "kernelspec": {
   "display_name": "Python 3",
   "language": "python",
   "name": "python3"
  },
  "language_info": {
   "codemirror_mode": {
    "name": "ipython",
    "version": 3
   },
   "file_extension": ".py",
   "mimetype": "text/x-python",
   "name": "python",
   "nbconvert_exporter": "python",
   "pygments_lexer": "ipython3",
   "version": "3.6.7"
  }
 },
 "nbformat": 4,
 "nbformat_minor": 2
}
