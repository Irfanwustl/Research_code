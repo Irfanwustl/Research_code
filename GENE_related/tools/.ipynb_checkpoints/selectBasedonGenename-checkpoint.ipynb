{
 "cells": [
  {
   "cell_type": "code",
   "execution_count": 1,
   "metadata": {},
   "outputs": [
    {
     "data": {
      "text/html": [
       "<div>\n",
       "<style scoped>\n",
       "    .dataframe tbody tr th:only-of-type {\n",
       "        vertical-align: middle;\n",
       "    }\n",
       "\n",
       "    .dataframe tbody tr th {\n",
       "        vertical-align: top;\n",
       "    }\n",
       "\n",
       "    .dataframe thead th {\n",
       "        text-align: right;\n",
       "    }\n",
       "</style>\n",
       "<table border=\"1\" class=\"dataframe\">\n",
       "  <thead>\n",
       "    <tr style=\"text-align: right;\">\n",
       "      <th></th>\n",
       "      <th>0</th>\n",
       "      <th>1</th>\n",
       "      <th>2</th>\n",
       "      <th>3</th>\n",
       "    </tr>\n",
       "  </thead>\n",
       "  <tbody>\n",
       "    <tr>\n",
       "      <th>0</th>\n",
       "      <td>chr1</td>\n",
       "      <td>10873</td>\n",
       "      <td>11873</td>\n",
       "      <td>DDX11L1</td>\n",
       "    </tr>\n",
       "    <tr>\n",
       "      <th>1</th>\n",
       "      <td>chr1</td>\n",
       "      <td>17436</td>\n",
       "      <td>18436</td>\n",
       "      <td>MIR6859-1</td>\n",
       "    </tr>\n",
       "    <tr>\n",
       "      <th>2</th>\n",
       "      <td>chr1</td>\n",
       "      <td>28925</td>\n",
       "      <td>29925</td>\n",
       "      <td>MIR1302-2HG</td>\n",
       "    </tr>\n",
       "    <tr>\n",
       "      <th>3</th>\n",
       "      <td>chr1</td>\n",
       "      <td>29365</td>\n",
       "      <td>30365</td>\n",
       "      <td>MIR1302-2</td>\n",
       "    </tr>\n",
       "    <tr>\n",
       "      <th>4</th>\n",
       "      <td>chr1</td>\n",
       "      <td>29370</td>\n",
       "      <td>30370</td>\n",
       "      <td>WASH7P</td>\n",
       "    </tr>\n",
       "  </tbody>\n",
       "</table>\n",
       "</div>"
      ],
      "text/plain": [
       "      0      1      2            3\n",
       "0  chr1  10873  11873      DDX11L1\n",
       "1  chr1  17436  18436    MIR6859-1\n",
       "2  chr1  28925  29925  MIR1302-2HG\n",
       "3  chr1  29365  30365    MIR1302-2\n",
       "4  chr1  29370  30370       WASH7P"
      ]
     },
     "execution_count": 1,
     "metadata": {},
     "output_type": "execute_result"
    }
   ],
   "source": [
    "import pandas as pd\n",
    "largefile=\"/Users/irffanalahi/Research/Research_update/GENE/fromsever/genomic_feature_withrepeat/All_Gene_Info.txt_prom1000_sorted\"\n",
    "genelist=['CD3D','CD3E','CD3G','CD4','CD8A','CD8B','CD19','CD27','CD14','FCGR3A','FCGR3B','GP1BA','FCGR1A','FCGR1B','FCGR1CP','PTPRC','CEACAM8','NCAM1','SDC1','ITGAX','CD80','CD86','GNLY','NKG7','MRC1','CD83','CD68']\n",
    "outfile=\"/Users/irffanalahi/Research/Research_update/GENE/Blueprint_marker/BL_marker_and_abulsuggestion_promready.txt\"\n",
    "\n",
    "largedf=pd.read_csv(largefile,sep=\"\\t\",header=None)\n",
    "largedf.head()"
   ]
  },
  {
   "cell_type": "code",
   "execution_count": 2,
   "metadata": {},
   "outputs": [],
   "source": [
    "outdf=(largedf[largedf[3].isin(genelist)]).copy()\n",
    "mask = outdf[3].duplicated(keep=False)\n",
    "outdf.loc[mask, 3]=outdf.loc[mask, 3]+\"_irf\"\n",
    "\n",
    "outdf.loc[mask, 3] += outdf.groupby(3).cumcount().add(1).astype(str)\n",
    "outdf.to_csv(outfile,sep=\"\\t\",header=False, index=False)"
   ]
  }
 ],
 "metadata": {
  "kernelspec": {
   "display_name": "Python 3",
   "language": "python",
   "name": "python3"
  },
  "language_info": {
   "codemirror_mode": {
    "name": "ipython",
    "version": 3
   },
   "file_extension": ".py",
   "mimetype": "text/x-python",
   "name": "python",
   "nbconvert_exporter": "python",
   "pygments_lexer": "ipython3",
   "version": "3.6.7"
  }
 },
 "nbformat": 4,
 "nbformat_minor": 2
}
