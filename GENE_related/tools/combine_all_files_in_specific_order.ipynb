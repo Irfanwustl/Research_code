{
 "cells": [
  {
   "cell_type": "code",
   "execution_count": 1,
   "metadata": {},
   "outputs": [],
   "source": [
    "import pandas as pd \n",
    "import glob\n",
    "import os\n",
    "\n",
    "infolder='/Users/irffanalahi/Research/Research_update/SoftRD/hashtable_stats/tieredApproach/rankspace_idea/ALLct/heatmaps/BL22promfolder_int_rankedtry2_pos_sortedby_rankedtry2_pos'"
   ]
  },
  {
   "cell_type": "code",
   "execution_count": 2,
   "metadata": {},
   "outputs": [],
   "source": [
    "def listdir_nohidden(path):\n",
    "    return glob.glob(os.path.join(path, '*'))"
   ]
  },
  {
   "cell_type": "code",
   "execution_count": 4,
   "metadata": {},
   "outputs": [
    {
     "data": {
      "text/plain": [
       "['/Users/irffanalahi/Research/Research_update/SoftRD/hashtable_stats/tieredApproach/rankspace_idea/ALLct/heatmaps/BL22promfolder_int_rankedtry2_pos_sortedby_rankedtry2_pos/BL22_all_matrix_promdata_intwith_NaiveCD8_CpGdelta_info_faster.txt_5000_forheatunderlyingdata_ranked_pos.txt_sorted.txt',\n",
       " '/Users/irffanalahi/Research/Research_update/SoftRD/hashtable_stats/tieredApproach/rankspace_idea/ALLct/heatmaps/BL22promfolder_int_rankedtry2_pos_sortedby_rankedtry2_pos/BL22_all_matrix_promdata_intwith_Mg_CpGdelta_info_faster.txt_5000_forheatunderlyingdata_ranked_pos.txt_sorted.txt',\n",
       " '/Users/irffanalahi/Research/Research_update/SoftRD/hashtable_stats/tieredApproach/rankspace_idea/ALLct/heatmaps/BL22promfolder_int_rankedtry2_pos_sortedby_rankedtry2_pos/BL22_all_matrix_promdata_intwith_Er_CpGdelta_info_faster.txt_5000_forheatunderlyingdata_ranked_pos.txt_sorted.txt',\n",
       " '/Users/irffanalahi/Research/Research_update/SoftRD/hashtable_stats/tieredApproach/rankspace_idea/ALLct/heatmaps/BL22promfolder_int_rankedtry2_pos_sortedby_rankedtry2_pos/BL22_all_matrix_promdata_intwith_em8_CpGdelta_info_faster.txt_5000_forheatunderlyingdata_ranked_pos.txt_sorted.txt',\n",
       " '/Users/irffanalahi/Research/Research_update/SoftRD/hashtable_stats/tieredApproach/rankspace_idea/ALLct/heatmaps/BL22promfolder_int_rankedtry2_pos_sortedby_rankedtry2_pos/BL22_all_matrix_promdata_intwith_ed8_CpGdelta_info_faster.txt_5000_forheatunderlyingdata_ranked_pos.txt_sorted.txt',\n",
       " '/Users/irffanalahi/Research/Research_update/SoftRD/hashtable_stats/tieredApproach/rankspace_idea/ALLct/heatmaps/BL22promfolder_int_rankedtry2_pos_sortedby_rankedtry2_pos/BL22_all_matrix_promdata_intwith_iDC_CpGdelta_info_faster.txt_5000_forheatunderlyingdata_ranked_pos.txt_sorted.txt',\n",
       " '/Users/irffanalahi/Research/Research_update/SoftRD/hashtable_stats/tieredApproach/rankspace_idea/ALLct/heatmaps/BL22promfolder_int_rankedtry2_pos_sortedby_rankedtry2_pos/BL22_all_matrix_promdata_intwith_PC_CpGdelta_info_faster.txt_5000_forheatunderlyingdata_ranked_pos.txt_sorted.txt',\n",
       " '/Users/irffanalahi/Research/Research_update/SoftRD/hashtable_stats/tieredApproach/rankspace_idea/ALLct/heatmaps/BL22promfolder_int_rankedtry2_pos_sortedby_rankedtry2_pos/BL22_all_matrix_promdata_intwith_PMN_CpGdelta_info_faster.txt_5000_forheatunderlyingdata_ranked_pos.txt_sorted.txt',\n",
       " '/Users/irffanalahi/Research/Research_update/SoftRD/hashtable_stats/tieredApproach/rankspace_idea/ALLct/heatmaps/BL22promfolder_int_rankedtry2_pos_sortedby_rankedtry2_pos/BL22_all_matrix_promdata_intwith_cm8_CpGdelta_info_faster.txt_5000_forheatunderlyingdata_ranked_pos.txt_sorted.txt',\n",
       " '/Users/irffanalahi/Research/Research_update/SoftRD/hashtable_stats/tieredApproach/rankspace_idea/ALLct/heatmaps/BL22promfolder_int_rankedtry2_pos_sortedby_rankedtry2_pos/BL22_all_matrix_promdata_intwith_Mono_CpGdelta_info_faster.txt_5000_forheatunderlyingdata_ranked_pos.txt_sorted.txt',\n",
       " '/Users/irffanalahi/Research/Research_update/SoftRD/hashtable_stats/tieredApproach/rankspace_idea/ALLct/heatmaps/BL22promfolder_int_rankedtry2_pos_sortedby_rankedtry2_pos/BL22_all_matrix_promdata_intwith_nB_CpGdelta_info_faster.txt_5000_forheatunderlyingdata_ranked_pos.txt_sorted.txt',\n",
       " '/Users/irffanalahi/Research/Research_update/SoftRD/hashtable_stats/tieredApproach/rankspace_idea/ALLct/heatmaps/BL22promfolder_int_rankedtry2_pos_sortedby_rankedtry2_pos/BL22_all_matrix_promdata_intwith_M0_CpGdelta_info_faster.txt_5000_forheatunderlyingdata_ranked_pos.txt_sorted.txt',\n",
       " '/Users/irffanalahi/Research/Research_update/SoftRD/hashtable_stats/tieredApproach/rankspace_idea/ALLct/heatmaps/BL22promfolder_int_rankedtry2_pos_sortedby_rankedtry2_pos/BL22_all_matrix_promdata_intwith_NK_CpGdelta_info_faster.txt_5000_forheatunderlyingdata_ranked_pos.txt_sorted.txt',\n",
       " '/Users/irffanalahi/Research/Research_update/SoftRD/hashtable_stats/tieredApproach/rankspace_idea/ALLct/heatmaps/BL22promfolder_int_rankedtry2_pos_sortedby_rankedtry2_pos/BL22_all_matrix_promdata_intwith_M1_CpGdelta_info_faster.txt_5000_forheatunderlyingdata_ranked_pos.txt_sorted.txt',\n",
       " '/Users/irffanalahi/Research/Research_update/SoftRD/hashtable_stats/tieredApproach/rankspace_idea/ALLct/heatmaps/BL22promfolder_int_rankedtry2_pos_sortedby_rankedtry2_pos/BL22_all_matrix_promdata_intwith_cm4_CpGdelta_info_faster.txt_5000_forheatunderlyingdata_ranked_pos.txt_sorted.txt',\n",
       " '/Users/irffanalahi/Research/Research_update/SoftRD/hashtable_stats/tieredApproach/rankspace_idea/ALLct/heatmaps/BL22promfolder_int_rankedtry2_pos_sortedby_rankedtry2_pos/BL22_all_matrix_promdata_intwith_Tregs_CpGdelta_info_faster.txt_5000_forheatunderlyingdata_ranked_pos.txt_sorted.txt',\n",
       " '/Users/irffanalahi/Research/Research_update/SoftRD/hashtable_stats/tieredApproach/rankspace_idea/ALLct/heatmaps/BL22promfolder_int_rankedtry2_pos_sortedby_rankedtry2_pos/BL22_all_matrix_promdata_intwith_mB_CpGdelta_info_faster.txt_5000_forheatunderlyingdata_ranked_pos.txt_sorted.txt',\n",
       " '/Users/irffanalahi/Research/Research_update/SoftRD/hashtable_stats/tieredApproach/rankspace_idea/ALLct/heatmaps/BL22promfolder_int_rankedtry2_pos_sortedby_rankedtry2_pos/BL22_all_matrix_promdata_intwith_mDC_CpGdelta_info_faster.txt_5000_forheatunderlyingdata_ranked_pos.txt_sorted.txt',\n",
       " '/Users/irffanalahi/Research/Research_update/SoftRD/hashtable_stats/tieredApproach/rankspace_idea/ALLct/heatmaps/BL22promfolder_int_rankedtry2_pos_sortedby_rankedtry2_pos/BL22_all_matrix_promdata_intwith_NaiveCD4_CpGdelta_info_faster.txt_5000_forheatunderlyingdata_ranked_pos.txt_sorted.txt',\n",
       " '/Users/irffanalahi/Research/Research_update/SoftRD/hashtable_stats/tieredApproach/rankspace_idea/ALLct/heatmaps/BL22promfolder_int_rankedtry2_pos_sortedby_rankedtry2_pos/BL22_all_matrix_promdata_intwith_Eo_CpGdelta_info_faster.txt_5000_forheatunderlyingdata_ranked_pos.txt_sorted.txt',\n",
       " '/Users/irffanalahi/Research/Research_update/SoftRD/hashtable_stats/tieredApproach/rankspace_idea/ALLct/heatmaps/BL22promfolder_int_rankedtry2_pos_sortedby_rankedtry2_pos/BL22_all_matrix_promdata_intwith_em4_CpGdelta_info_faster.txt_5000_forheatunderlyingdata_ranked_pos.txt_sorted.txt',\n",
       " '/Users/irffanalahi/Research/Research_update/SoftRD/hashtable_stats/tieredApproach/rankspace_idea/ALLct/heatmaps/BL22promfolder_int_rankedtry2_pos_sortedby_rankedtry2_pos/BL22_all_matrix_promdata_intwith_M2_CpGdelta_info_faster.txt_5000_forheatunderlyingdata_ranked_pos.txt_sorted.txt']"
      ]
     },
     "execution_count": 4,
     "metadata": {},
     "output_type": "execute_result"
    }
   ],
   "source": [
    "allfiles=listdir_nohidden(infolder)\n",
    "allfiles"
   ]
  }
 ],
 "metadata": {
  "kernelspec": {
   "display_name": "Python 3",
   "language": "python",
   "name": "python3"
  },
  "language_info": {
   "codemirror_mode": {
    "name": "ipython",
    "version": 3
   },
   "file_extension": ".py",
   "mimetype": "text/x-python",
   "name": "python",
   "nbconvert_exporter": "python",
   "pygments_lexer": "ipython3",
   "version": "3.6.7"
  }
 },
 "nbformat": 4,
 "nbformat_minor": 2
}
