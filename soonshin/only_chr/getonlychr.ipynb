{
 "cells": [
  {
   "cell_type": "code",
   "execution_count": 14,
   "metadata": {},
   "outputs": [],
   "source": [
    "# Shoonhsin Li\n",
    "# 02/12/2022\n",
    "\n",
    "import pandas as pd\n",
    "\n",
    "# develop list of wanted chromosome positions\n",
    "chrs = [\"chr\" + str(i) for i in range(1, 23)]\n",
    "chrs.append(\"chrX\")\n",
    "chrs.append(\"chrY\")\n",
    "\n",
    "filename = \"genepromoter_1000_1000_sorted_onlypos_merged.txt\"\n",
    "data = pd.read_csv(filename, sep='\\t', header=None, index_col=0)\n",
    "df = data.loc[chrs]\n",
    "\n",
    "df.to_csv(\"genepromoter_onlychrs.txt\", sep='\\t', header=None)"
   ]
  },
  {
   "cell_type": "code",
   "execution_count": null,
   "metadata": {},
   "outputs": [],
   "source": []
  }
 ],
 "metadata": {
  "interpreter": {
   "hash": "02029989564ce44242bfb54a3d44351d508c64e81bcdb3b855e681023d3c9ea7"
  },
  "kernelspec": {
   "display_name": "Python 3",
   "language": "python",
   "name": "python3"
  },
  "language_info": {
   "codemirror_mode": {
    "name": "ipython",
    "version": 3
   },
   "file_extension": ".py",
   "mimetype": "text/x-python",
   "name": "python",
   "nbconvert_exporter": "python",
   "pygments_lexer": "ipython3",
   "version": "3.6.7"
  }
 },
 "nbformat": 4,
 "nbformat_minor": 2
}
