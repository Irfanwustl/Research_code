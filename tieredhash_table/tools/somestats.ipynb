{
 "cells": [
  {
   "cell_type": "code",
   "execution_count": 1,
   "metadata": {},
   "outputs": [
    {
     "data": {
      "text/html": [
       "<div>\n",
       "<style scoped>\n",
       "    .dataframe tbody tr th:only-of-type {\n",
       "        vertical-align: middle;\n",
       "    }\n",
       "\n",
       "    .dataframe tbody tr th {\n",
       "        vertical-align: top;\n",
       "    }\n",
       "\n",
       "    .dataframe thead th {\n",
       "        text-align: right;\n",
       "    }\n",
       "</style>\n",
       "<table border=\"1\" class=\"dataframe\">\n",
       "  <thead>\n",
       "    <tr style=\"text-align: right;\">\n",
       "      <th></th>\n",
       "      <th>Filename</th>\n",
       "      <th>Average Value</th>\n",
       "      <th>Line Count</th>\n",
       "    </tr>\n",
       "  </thead>\n",
       "  <tbody>\n",
       "    <tr>\n",
       "      <th>0</th>\n",
       "      <td>g1_em4_g2_NaiveCD8em4_-0.4_int_g1_em4_g2_cm4em...</td>\n",
       "      <td>0.575</td>\n",
       "      <td>4</td>\n",
       "    </tr>\n",
       "    <tr>\n",
       "      <th>1</th>\n",
       "      <td>g1_em4_g2_NaiveCD8em4_-0.2_int_g1_em4_g2_cm4em...</td>\n",
       "      <td>0.575</td>\n",
       "      <td>3</td>\n",
       "    </tr>\n",
       "    <tr>\n",
       "      <th>2</th>\n",
       "      <td>g1_em4_g2_NaiveCD8em4_-0.2_int_g1_em4_g2_cm4em...</td>\n",
       "      <td>0.500</td>\n",
       "      <td>10</td>\n",
       "    </tr>\n",
       "    <tr>\n",
       "      <th>3</th>\n",
       "      <td>g1_em4_g2_NaiveCD8em4_-0.8_int_g1_em4_g2_cm4em...</td>\n",
       "      <td>0.550</td>\n",
       "      <td>5</td>\n",
       "    </tr>\n",
       "    <tr>\n",
       "      <th>4</th>\n",
       "      <td>g1_em4_g2_NaiveCD8em4_-0.2_int_g1_em4_g2_cm4em...</td>\n",
       "      <td>0.500</td>\n",
       "      <td>3</td>\n",
       "    </tr>\n",
       "  </tbody>\n",
       "</table>\n",
       "</div>"
      ],
      "text/plain": [
       "                                            Filename  Average Value  \\\n",
       "0  g1_em4_g2_NaiveCD8em4_-0.4_int_g1_em4_g2_cm4em...          0.575   \n",
       "1  g1_em4_g2_NaiveCD8em4_-0.2_int_g1_em4_g2_cm4em...          0.575   \n",
       "2  g1_em4_g2_NaiveCD8em4_-0.2_int_g1_em4_g2_cm4em...          0.500   \n",
       "3  g1_em4_g2_NaiveCD8em4_-0.8_int_g1_em4_g2_cm4em...          0.550   \n",
       "4  g1_em4_g2_NaiveCD8em4_-0.2_int_g1_em4_g2_cm4em...          0.500   \n",
       "\n",
       "   Line Count  \n",
       "0           4  \n",
       "1           3  \n",
       "2          10  \n",
       "3           5  \n",
       "4           3  "
      ]
     },
     "execution_count": 1,
     "metadata": {},
     "output_type": "execute_result"
    }
   ],
   "source": [
    "import pandas as pd\n",
    "import seaborn as sns\n",
    "import matplotlib.pyplot as plt\n",
    "\n",
    "infile='/Users/irffanalahi/Research/Research_update/SoftRD/hashtable_stats/tieredApproach/OwnGrouptest/try1/someTcell/someTcell_linecount/em4_thresholdpos_allthresholdcombinations.txt'\n",
    "\n",
    "currentct='em4'\n",
    "\n",
    "indf=pd.read_csv(infile,sep='\\t')\n",
    "indf.head()"
   ]
  },
  {
   "cell_type": "code",
   "execution_count": 2,
   "metadata": {},
   "outputs": [
    {
     "data": {
      "text/html": [
       "<div>\n",
       "<style scoped>\n",
       "    .dataframe tbody tr th:only-of-type {\n",
       "        vertical-align: middle;\n",
       "    }\n",
       "\n",
       "    .dataframe tbody tr th {\n",
       "        vertical-align: top;\n",
       "    }\n",
       "\n",
       "    .dataframe thead th {\n",
       "        text-align: right;\n",
       "    }\n",
       "</style>\n",
       "<table border=\"1\" class=\"dataframe\">\n",
       "  <thead>\n",
       "    <tr style=\"text-align: right;\">\n",
       "      <th></th>\n",
       "      <th>Filename</th>\n",
       "      <th>Average Value</th>\n",
       "      <th>Line Count</th>\n",
       "      <th>firstnamee</th>\n",
       "      <th>lastname</th>\n",
       "    </tr>\n",
       "  </thead>\n",
       "  <tbody>\n",
       "    <tr>\n",
       "      <th>0</th>\n",
       "      <td>g1_em4_g2_NaiveCD8em4_-0.4_int_g1_em4_g2_cm4em...</td>\n",
       "      <td>0.575</td>\n",
       "      <td>4</td>\n",
       "      <td>g1_em4_g2_NaiveCD8em4_-0.4_int_g1_em4_g2</td>\n",
       "      <td>-0.6_int_g1_em4_g2_em8em4_-0.2_int_g1_em4_g2_c...</td>\n",
       "    </tr>\n",
       "    <tr>\n",
       "      <th>1</th>\n",
       "      <td>g1_em4_g2_NaiveCD8em4_-0.2_int_g1_em4_g2_cm4em...</td>\n",
       "      <td>0.575</td>\n",
       "      <td>3</td>\n",
       "      <td>g1_em4_g2_NaiveCD8em4_-0.2_int_g1_em4_g2</td>\n",
       "      <td>-0.8_int_g1_em4_g2_em8em4_-0.4_int_g1_em4_g2_c...</td>\n",
       "    </tr>\n",
       "    <tr>\n",
       "      <th>2</th>\n",
       "      <td>g1_em4_g2_NaiveCD8em4_-0.2_int_g1_em4_g2_cm4em...</td>\n",
       "      <td>0.500</td>\n",
       "      <td>10</td>\n",
       "      <td>g1_em4_g2_NaiveCD8em4_-0.2_int_g1_em4_g2</td>\n",
       "      <td>-0.8_int_g1_em4_g2_em8em4_-0.4_int_g1_em4_g2_c...</td>\n",
       "    </tr>\n",
       "    <tr>\n",
       "      <th>3</th>\n",
       "      <td>g1_em4_g2_NaiveCD8em4_-0.8_int_g1_em4_g2_cm4em...</td>\n",
       "      <td>0.550</td>\n",
       "      <td>5</td>\n",
       "      <td>g1_em4_g2_NaiveCD8em4_-0.8_int_g1_em4_g2</td>\n",
       "      <td>-0.2_int_g1_em4_g2_em8em4_-0.6_int_g1_em4_g2_c...</td>\n",
       "    </tr>\n",
       "    <tr>\n",
       "      <th>4</th>\n",
       "      <td>g1_em4_g2_NaiveCD8em4_-0.2_int_g1_em4_g2_cm4em...</td>\n",
       "      <td>0.500</td>\n",
       "      <td>3</td>\n",
       "      <td>g1_em4_g2_NaiveCD8em4_-0.2_int_g1_em4_g2</td>\n",
       "      <td>-0.8_int_g1_em4_g2_em8em4_-0.8_int_g1_em4_g2_c...</td>\n",
       "    </tr>\n",
       "  </tbody>\n",
       "</table>\n",
       "</div>"
      ],
      "text/plain": [
       "                                            Filename  Average Value  \\\n",
       "0  g1_em4_g2_NaiveCD8em4_-0.4_int_g1_em4_g2_cm4em...          0.575   \n",
       "1  g1_em4_g2_NaiveCD8em4_-0.2_int_g1_em4_g2_cm4em...          0.575   \n",
       "2  g1_em4_g2_NaiveCD8em4_-0.2_int_g1_em4_g2_cm4em...          0.500   \n",
       "3  g1_em4_g2_NaiveCD8em4_-0.8_int_g1_em4_g2_cm4em...          0.550   \n",
       "4  g1_em4_g2_NaiveCD8em4_-0.2_int_g1_em4_g2_cm4em...          0.500   \n",
       "\n",
       "   Line Count                                firstnamee  \\\n",
       "0           4  g1_em4_g2_NaiveCD8em4_-0.4_int_g1_em4_g2   \n",
       "1           3  g1_em4_g2_NaiveCD8em4_-0.2_int_g1_em4_g2   \n",
       "2          10  g1_em4_g2_NaiveCD8em4_-0.2_int_g1_em4_g2   \n",
       "3           5  g1_em4_g2_NaiveCD8em4_-0.8_int_g1_em4_g2   \n",
       "4           3  g1_em4_g2_NaiveCD8em4_-0.2_int_g1_em4_g2   \n",
       "\n",
       "                                            lastname  \n",
       "0  -0.6_int_g1_em4_g2_em8em4_-0.2_int_g1_em4_g2_c...  \n",
       "1  -0.8_int_g1_em4_g2_em8em4_-0.4_int_g1_em4_g2_c...  \n",
       "2  -0.8_int_g1_em4_g2_em8em4_-0.4_int_g1_em4_g2_c...  \n",
       "3  -0.2_int_g1_em4_g2_em8em4_-0.6_int_g1_em4_g2_c...  \n",
       "4  -0.8_int_g1_em4_g2_em8em4_-0.8_int_g1_em4_g2_c...  "
      ]
     },
     "execution_count": 2,
     "metadata": {},
     "output_type": "execute_result"
    }
   ],
   "source": [
    "g2='cm4'\n",
    "indf[['firstnamee','lastname']]=indf.Filename.str.split(\"_\"+g2+currentct+\"_\",expand=True)\n",
    "indf.head()"
   ]
  },
  {
   "cell_type": "code",
   "execution_count": 3,
   "metadata": {},
   "outputs": [
    {
     "data": {
      "text/html": [
       "<div>\n",
       "<style scoped>\n",
       "    .dataframe tbody tr th:only-of-type {\n",
       "        vertical-align: middle;\n",
       "    }\n",
       "\n",
       "    .dataframe tbody tr th {\n",
       "        vertical-align: top;\n",
       "    }\n",
       "\n",
       "    .dataframe thead th {\n",
       "        text-align: right;\n",
       "    }\n",
       "</style>\n",
       "<table border=\"1\" class=\"dataframe\">\n",
       "  <thead>\n",
       "    <tr style=\"text-align: right;\">\n",
       "      <th></th>\n",
       "      <th>Filename</th>\n",
       "      <th>Average Value</th>\n",
       "      <th>Line Count</th>\n",
       "      <th>firstnamee</th>\n",
       "      <th>lastname</th>\n",
       "      <th>cm4em4</th>\n",
       "      <th>last2</th>\n",
       "    </tr>\n",
       "  </thead>\n",
       "  <tbody>\n",
       "    <tr>\n",
       "      <th>0</th>\n",
       "      <td>g1_em4_g2_NaiveCD8em4_-0.4_int_g1_em4_g2_cm4em...</td>\n",
       "      <td>0.575</td>\n",
       "      <td>4</td>\n",
       "      <td>g1_em4_g2_NaiveCD8em4_-0.4_int_g1_em4_g2</td>\n",
       "      <td>-0.6_int_g1_em4_g2_em8em4_-0.2_int_g1_em4_g2_c...</td>\n",
       "      <td>-0.6</td>\n",
       "      <td>int_g1_em4_g2_em8em4_-0.2_int_g1_em4_g2_cm8em4...</td>\n",
       "    </tr>\n",
       "    <tr>\n",
       "      <th>1</th>\n",
       "      <td>g1_em4_g2_NaiveCD8em4_-0.2_int_g1_em4_g2_cm4em...</td>\n",
       "      <td>0.575</td>\n",
       "      <td>3</td>\n",
       "      <td>g1_em4_g2_NaiveCD8em4_-0.2_int_g1_em4_g2</td>\n",
       "      <td>-0.8_int_g1_em4_g2_em8em4_-0.4_int_g1_em4_g2_c...</td>\n",
       "      <td>-0.8</td>\n",
       "      <td>int_g1_em4_g2_em8em4_-0.4_int_g1_em4_g2_cm8em4...</td>\n",
       "    </tr>\n",
       "    <tr>\n",
       "      <th>2</th>\n",
       "      <td>g1_em4_g2_NaiveCD8em4_-0.2_int_g1_em4_g2_cm4em...</td>\n",
       "      <td>0.500</td>\n",
       "      <td>10</td>\n",
       "      <td>g1_em4_g2_NaiveCD8em4_-0.2_int_g1_em4_g2</td>\n",
       "      <td>-0.8_int_g1_em4_g2_em8em4_-0.4_int_g1_em4_g2_c...</td>\n",
       "      <td>-0.8</td>\n",
       "      <td>int_g1_em4_g2_em8em4_-0.4_int_g1_em4_g2_cm8em4...</td>\n",
       "    </tr>\n",
       "    <tr>\n",
       "      <th>3</th>\n",
       "      <td>g1_em4_g2_NaiveCD8em4_-0.8_int_g1_em4_g2_cm4em...</td>\n",
       "      <td>0.550</td>\n",
       "      <td>5</td>\n",
       "      <td>g1_em4_g2_NaiveCD8em4_-0.8_int_g1_em4_g2</td>\n",
       "      <td>-0.2_int_g1_em4_g2_em8em4_-0.6_int_g1_em4_g2_c...</td>\n",
       "      <td>-0.2</td>\n",
       "      <td>int_g1_em4_g2_em8em4_-0.6_int_g1_em4_g2_cm8em4...</td>\n",
       "    </tr>\n",
       "    <tr>\n",
       "      <th>4</th>\n",
       "      <td>g1_em4_g2_NaiveCD8em4_-0.2_int_g1_em4_g2_cm4em...</td>\n",
       "      <td>0.500</td>\n",
       "      <td>3</td>\n",
       "      <td>g1_em4_g2_NaiveCD8em4_-0.2_int_g1_em4_g2</td>\n",
       "      <td>-0.8_int_g1_em4_g2_em8em4_-0.8_int_g1_em4_g2_c...</td>\n",
       "      <td>-0.8</td>\n",
       "      <td>int_g1_em4_g2_em8em4_-0.8_int_g1_em4_g2_cm8em4...</td>\n",
       "    </tr>\n",
       "  </tbody>\n",
       "</table>\n",
       "</div>"
      ],
      "text/plain": [
       "                                            Filename  Average Value  \\\n",
       "0  g1_em4_g2_NaiveCD8em4_-0.4_int_g1_em4_g2_cm4em...          0.575   \n",
       "1  g1_em4_g2_NaiveCD8em4_-0.2_int_g1_em4_g2_cm4em...          0.575   \n",
       "2  g1_em4_g2_NaiveCD8em4_-0.2_int_g1_em4_g2_cm4em...          0.500   \n",
       "3  g1_em4_g2_NaiveCD8em4_-0.8_int_g1_em4_g2_cm4em...          0.550   \n",
       "4  g1_em4_g2_NaiveCD8em4_-0.2_int_g1_em4_g2_cm4em...          0.500   \n",
       "\n",
       "   Line Count                                firstnamee  \\\n",
       "0           4  g1_em4_g2_NaiveCD8em4_-0.4_int_g1_em4_g2   \n",
       "1           3  g1_em4_g2_NaiveCD8em4_-0.2_int_g1_em4_g2   \n",
       "2          10  g1_em4_g2_NaiveCD8em4_-0.2_int_g1_em4_g2   \n",
       "3           5  g1_em4_g2_NaiveCD8em4_-0.8_int_g1_em4_g2   \n",
       "4           3  g1_em4_g2_NaiveCD8em4_-0.2_int_g1_em4_g2   \n",
       "\n",
       "                                            lastname cm4em4  \\\n",
       "0  -0.6_int_g1_em4_g2_em8em4_-0.2_int_g1_em4_g2_c...   -0.6   \n",
       "1  -0.8_int_g1_em4_g2_em8em4_-0.4_int_g1_em4_g2_c...   -0.8   \n",
       "2  -0.8_int_g1_em4_g2_em8em4_-0.4_int_g1_em4_g2_c...   -0.8   \n",
       "3  -0.2_int_g1_em4_g2_em8em4_-0.6_int_g1_em4_g2_c...   -0.2   \n",
       "4  -0.8_int_g1_em4_g2_em8em4_-0.8_int_g1_em4_g2_c...   -0.8   \n",
       "\n",
       "                                               last2  \n",
       "0  int_g1_em4_g2_em8em4_-0.2_int_g1_em4_g2_cm8em4...  \n",
       "1  int_g1_em4_g2_em8em4_-0.4_int_g1_em4_g2_cm8em4...  \n",
       "2  int_g1_em4_g2_em8em4_-0.4_int_g1_em4_g2_cm8em4...  \n",
       "3  int_g1_em4_g2_em8em4_-0.6_int_g1_em4_g2_cm8em4...  \n",
       "4  int_g1_em4_g2_em8em4_-0.8_int_g1_em4_g2_cm8em4...  "
      ]
     },
     "execution_count": 3,
     "metadata": {},
     "output_type": "execute_result"
    }
   ],
   "source": [
    "indf[[g2+currentct,'last2']]=indf.lastname.str.split(\"_\",expand=True,n=1)\n",
    "indf.head()"
   ]
  },
  {
   "cell_type": "code",
   "execution_count": 4,
   "metadata": {},
   "outputs": [],
   "source": [
    "indf[g2+currentct] = -1*pd.to_numeric(indf[g2+currentct])"
   ]
  },
  {
   "cell_type": "code",
   "execution_count": 5,
   "metadata": {},
   "outputs": [
    {
     "data": {
      "text/plain": [
       "0.6"
      ]
     },
     "execution_count": 5,
     "metadata": {},
     "output_type": "execute_result"
    }
   ],
   "source": [
    "indf[g2+currentct][0]"
   ]
  },
  {
   "cell_type": "code",
   "execution_count": 6,
   "metadata": {},
   "outputs": [
    {
     "data": {
      "text/plain": [
       "<matplotlib.axes._subplots.AxesSubplot at 0x7fad5d0ef390>"
      ]
     },
     "execution_count": 6,
     "metadata": {},
     "output_type": "execute_result"
    },
    {
     "data": {
      "image/png": "[encoded data removed]",
      "text/plain": [
       "<Figure size 432x288 with 1 Axes>"
      ]
     },
     "metadata": {
      "needs_background": "light"
     },
     "output_type": "display_data"
    }
   ],
   "source": [
    "sns.scatterplot(x='Average Value', y=g2+currentct, color='DarkBlue', data=indf)"
   ]
  },
  {
   "cell_type": "code",
   "execution_count": 7,
   "metadata": {},
   "outputs": [
    {
     "data": {
      "text/plain": [
       "<matplotlib.axes._subplots.AxesSubplot at 0x7fad5a43b8d0>"
      ]
     },
     "execution_count": 7,
     "metadata": {},
     "output_type": "execute_result"
    },
    {
     "data": {
      "image/png": "[encoded data removed]",
      "text/plain": [
       "<Figure size 432x288 with 1 Axes>"
      ]
     },
     "metadata": {
      "needs_background": "light"
     },
     "output_type": "display_data"
    }
   ],
   "source": [
    "sns.boxplot(x=g2+currentct,y=\"Line Count\",  data=indf)"
   ]
  },
  {
   "cell_type": "code",
   "execution_count": null,
   "metadata": {},
   "outputs": [],
   "source": []
  },
  {
   "cell_type": "code",
   "execution_count": 8,
   "metadata": {
    "scrolled": true
   },
   "outputs": [
    {
     "name": "stdout",
     "output_type": "stream",
     "text": [
      "(1582, 7)\n",
      "(0, 7)\n",
      "(46, 7)\n",
      "(645, 7)\n"
     ]
    },
    {
     "data": {
      "text/plain": [
       "<matplotlib.axes._subplots.AxesSubplot at 0x7fad616a47f0>"
      ]
     },
     "execution_count": 8,
     "metadata": {},
     "output_type": "execute_result"
    },
    {
     "data": {
      "image/png": "[encoded data removed]",
      "text/plain": [
       "<Figure size 432x288 with 1 Axes>"
      ]
     },
     "metadata": {
      "needs_background": "light"
     },
     "output_type": "display_data"
    }
   ],
   "source": [
    "subset=indf[indf['Line Count']>=120] #indf[(indf[g2+currentct]>=0.6) & (indf['Line Count']>100)]\n",
    "print(subset.shape)\n",
    "print(subset[subset['Average Value']>0.45].shape)\n",
    "print(subset[subset['Average Value']>0.4].shape)\n",
    "print(subset[subset['Average Value']>0.35].shape)\n",
    "sns.scatterplot(x='Average Value', y=g2+currentct, color='DarkBlue', data=subset)"
   ]
  },
  {
   "cell_type": "code",
   "execution_count": 9,
   "metadata": {},
   "outputs": [],
   "source": [
    "finalized=subset[subset['Average Value']>0.4]\n",
    "finalized.to_csv(infile+\"_finalselection.txt\",sep='\\t',index=False)"
   ]
  },
  {
   "cell_type": "code",
   "execution_count": 10,
   "metadata": {},
   "outputs": [
    {
     "data": {
      "text/plain": [
       "<matplotlib.axes._subplots.AxesSubplot at 0x7fad613712e8>"
      ]
     },
     "execution_count": 10,
     "metadata": {},
     "output_type": "execute_result"
    },
    {
     "data": {
      "image/png": "[encoded data removed]",
      "text/plain": [
       "<Figure size 432x288 with 1 Axes>"
      ]
     },
     "metadata": {
      "needs_background": "light"
     },
     "output_type": "display_data"
    }
   ],
   "source": [
    "sns.scatterplot(x='Average Value', y=g2+currentct, color='DarkBlue', data=subset[subset['Average Value']>0.4])"
   ]
  },
  {
   "cell_type": "code",
   "execution_count": 11,
   "metadata": {},
   "outputs": [
    {
     "data": {
      "text/plain": [
       "<matplotlib.axes._subplots.AxesSubplot at 0x7fad5d4aa748>"
      ]
     },
     "execution_count": 11,
     "metadata": {},
     "output_type": "execute_result"
    },
    {
     "data": {
      "image/png": "[encoded data removed]",
      "text/plain": [
       "<Figure size 432x288 with 1 Axes>"
      ]
     },
     "metadata": {
      "needs_background": "light"
     },
     "output_type": "display_data"
    }
   ],
   "source": [
    "sns.scatterplot(x='Average Value', y=g2+currentct, color='DarkBlue', data=subset)"
   ]
  }
 ],
 "metadata": {
  "kernelspec": {
   "display_name": "Python 3",
   "language": "python",
   "name": "python3"
  },
  "language_info": {
   "codemirror_mode": {
    "name": "ipython",
    "version": 3
   },
   "file_extension": ".py",
   "mimetype": "text/x-python",
   "name": "python",
   "nbconvert_exporter": "python",
   "pygments_lexer": "ipython3",
   "version": "3.6.7"
  }
 },
 "nbformat": 4,
 "nbformat_minor": 2
}
