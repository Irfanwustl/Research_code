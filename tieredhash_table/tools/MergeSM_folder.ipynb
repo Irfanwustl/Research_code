{
 "cells": [
  {
   "cell_type": "code",
   "execution_count": 1,
   "metadata": {},
   "outputs": [],
   "source": [
    "import pandas as pd\n",
    "import glob\n",
    "import os\n",
    "import sys\n",
    "\n",
    "largersmdir='/Users/irffanalahi/Research/Research_update/SoftRD/hashtable_stats/combining_sm/largerSM'\n",
    "smallerSMdir='/Users/irffanalahi/Research/Research_update/SoftRD/hashtable_stats/combining_sm/CD4CD8TIL'\n",
    "\n",
    "\n",
    "outdir=largersmdir+\"_merged_\"+os.path.basename(smallerSMdir)\n",
    "os.mkdir(outdir)\n"
   ]
  },
  {
   "cell_type": "code",
   "execution_count": 2,
   "metadata": {},
   "outputs": [],
   "source": [
    "def listdir_nohidden(path):\n",
    "    return glob.glob(os.path.join(path, '*'))"
   ]
  },
  {
   "cell_type": "code",
   "execution_count": 3,
   "metadata": {},
   "outputs": [],
   "source": [
    "alllargerms=listdir_nohidden(largersmdir)\n",
    "allsmalersm=listdir_nohidden(smallerSMdir)"
   ]
  },
  {
   "cell_type": "code",
   "execution_count": 4,
   "metadata": {},
   "outputs": [],
   "source": [
    "for largersm in alllargerms:\n",
    "    largersmDF=pd.read_csv(largersm,sep='\\t',index_col=['chrom','start'])\n",
    "    for smallersm in allsmalersm:\n",
    "        smallersmDF=pd.read_csv(smallersm,sep='\\t',index_col=['chrom','start'])\n",
    "        \n",
    "       # mergedSM=largersmDF.merge(smallersmDF,left_index=True,right_index=True,how='outer')\n",
    "        mergedSM=pd.concat([largersmDF,smallersmDF])\n",
    "        mergedSM.fillna(.9,inplace=True)\n",
    "   \n",
    "        \n",
    "        mergedSM = mergedSM[~mergedSM.index.duplicated(keep=False)]\n",
    "        \n",
    "        currentOutName=outdir+\"/\"+os.path.basename(largersm)+\"_merged_\"+os.path.basename(smallersm)\n",
    "        mergedSM.to_csv(currentOutName,sep='\\t')\n",
    "        \n",
    "\n",
    "        \n",
    "        "
   ]
  },
  {
   "cell_type": "code",
   "execution_count": 5,
   "metadata": {},
   "outputs": [
    {
     "name": "stdout",
     "output_type": "stream",
     "text": [
      "done\n"
     ]
    }
   ],
   "source": [
    "print('done')"
   ]
  }
 ],
 "metadata": {
  "kernelspec": {
   "display_name": "Python 3",
   "language": "python",
   "name": "python3"
  },
  "language_info": {
   "codemirror_mode": {
    "name": "ipython",
    "version": 3
   },
   "file_extension": ".py",
   "mimetype": "text/x-python",
   "name": "python",
   "nbconvert_exporter": "python",
   "pygments_lexer": "ipython3",
   "version": "3.6.7"
  }
 },
 "nbformat": 4,
 "nbformat_minor": 2
}
