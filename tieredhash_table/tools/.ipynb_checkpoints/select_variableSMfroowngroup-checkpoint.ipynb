{
 "cells": [
  {
   "cell_type": "code",
   "execution_count": 1,
   "metadata": {},
   "outputs": [
    {
     "data": {
      "text/html": [
       "<div>\n",
       "<style scoped>\n",
       "    .dataframe tbody tr th:only-of-type {\n",
       "        vertical-align: middle;\n",
       "    }\n",
       "\n",
       "    .dataframe tbody tr th {\n",
       "        vertical-align: top;\n",
       "    }\n",
       "\n",
       "    .dataframe thead th {\n",
       "        text-align: right;\n",
       "    }\n",
       "</style>\n",
       "<table border=\"1\" class=\"dataframe\">\n",
       "  <thead>\n",
       "    <tr style=\"text-align: right;\">\n",
       "      <th></th>\n",
       "      <th>Filename</th>\n",
       "      <th>Average Value</th>\n",
       "      <th>Line Count</th>\n",
       "    </tr>\n",
       "  </thead>\n",
       "  <tbody>\n",
       "    <tr>\n",
       "      <th>0</th>\n",
       "      <td>g1_n8_g2_em4n8_-0.8_int_g1_n8_g2_ed8n8_-0.8_in...</td>\n",
       "      <td>0.525</td>\n",
       "      <td>8</td>\n",
       "    </tr>\n",
       "    <tr>\n",
       "      <th>1</th>\n",
       "      <td>g1_n8_g2_em4n8_-0.8_int_g1_n8_g2_ed8n8_-0.8_in...</td>\n",
       "      <td>0.500</td>\n",
       "      <td>10</td>\n",
       "    </tr>\n",
       "    <tr>\n",
       "      <th>2</th>\n",
       "      <td>g1_n8_g2_em4n8_-0.4_int_g1_n8_g2_ed8n8_-0.8_in...</td>\n",
       "      <td>0.475</td>\n",
       "      <td>6</td>\n",
       "    </tr>\n",
       "    <tr>\n",
       "      <th>3</th>\n",
       "      <td>g1_n8_g2_em4n8_-0.6_int_g1_n8_g2_ed8n8_-0.2_in...</td>\n",
       "      <td>0.525</td>\n",
       "      <td>3</td>\n",
       "    </tr>\n",
       "    <tr>\n",
       "      <th>4</th>\n",
       "      <td>g1_n8_g2_em4n8_-0.8_int_g1_n8_g2_ed8n8_-0.2_in...</td>\n",
       "      <td>0.400</td>\n",
       "      <td>25</td>\n",
       "    </tr>\n",
       "  </tbody>\n",
       "</table>\n",
       "</div>"
      ],
      "text/plain": [
       "                                            Filename  Average Value  \\\n",
       "0  g1_n8_g2_em4n8_-0.8_int_g1_n8_g2_ed8n8_-0.8_in...          0.525   \n",
       "1  g1_n8_g2_em4n8_-0.8_int_g1_n8_g2_ed8n8_-0.8_in...          0.500   \n",
       "2  g1_n8_g2_em4n8_-0.4_int_g1_n8_g2_ed8n8_-0.8_in...          0.475   \n",
       "3  g1_n8_g2_em4n8_-0.6_int_g1_n8_g2_ed8n8_-0.2_in...          0.525   \n",
       "4  g1_n8_g2_em4n8_-0.8_int_g1_n8_g2_ed8n8_-0.2_in...          0.400   \n",
       "\n",
       "   Line Count  \n",
       "0           8  \n",
       "1          10  \n",
       "2           6  \n",
       "3           3  \n",
       "4          25  "
      ]
     },
     "execution_count": 1,
     "metadata": {},
     "output_type": "execute_result"
    }
   ],
   "source": [
    "#randomly select some sm to spot checks\n",
    "\n",
    "\n",
    "\n",
    "\n",
    "\n",
    "import pandas as pd\n",
    "import sys\n",
    "infile='/Users/irffanalahi/Research/Research_update/SoftRD/hashtable_stats/tieredApproach/OwnGrouptest/try1/someTcell/n4n8/n4n8thresholder_linecount/n8_thresholdpos_allthresholdcombinations.txt'\n",
    "currentct='n8'\n",
    "\n",
    "\n",
    "howmanyrandomsampleperpart=3\n",
    "\n",
    "centerlinenumber=[20,50,100,500,1000]\n",
    "correspondinggap=[2,2,10,20,100]\n",
    "\n",
    "indf=pd.read_csv(infile,sep='\\t')\n",
    "indf.head()"
   ]
  },
  {
   "cell_type": "code",
   "execution_count": 2,
   "metadata": {},
   "outputs": [
    {
     "data": {
      "text/plain": [
       "(354, 3)"
      ]
     },
     "execution_count": 2,
     "metadata": {},
     "output_type": "execute_result"
    }
   ],
   "source": [
    "indf[indf['Line Count']>=1000].shape"
   ]
  },
  {
   "cell_type": "code",
   "execution_count": 3,
   "metadata": {},
   "outputs": [],
   "source": [
    "\n",
    "smlist=[]\n",
    "\n",
    "for i in range(len(centerlinenumber)):\n",
    "\n",
    "    tempdf=indf[(indf['Line Count']>=centerlinenumber[i]-correspondinggap[i]) & (indf['Line Count']<=centerlinenumber[i]+correspondinggap[i])]\n",
    "    if tempdf.shape[0]<10:\n",
    "        print(centerlinenumber[i])\n",
    "        print('not enough')\n",
    "        sys.exit(1)\n",
    "\n",
    "    t25=tempdf['Average Value'].quantile(q=0.25)\n",
    "    t75=tempdf['Average Value'].quantile(q=0.75)\n",
    "\n",
    "\n",
    "\n",
    "\n",
    "    \n",
    "    tempsmallerthan25perce=tempdf[tempdf['Average Value']<t25]\n",
    "    tempgreaterthan75perce=tempdf[tempdf['Average Value']>t75]\n",
    "    tempinthemiddle=tempdf[(tempdf['Average Value']>=t25) & (tempdf['Average Value']<=t75)]\n",
    "    \n",
    "    \n",
    "    try:\n",
    "        RANDOMtempsmallerthan25perce=tempsmallerthan25perce.sample(n=howmanyrandomsampleperpart,random_state=0)\n",
    "    except:\n",
    "        \n",
    "        RANDOMtempsmallerthan25perce=tempsmallerthan25perce\n",
    "        print(\"in except\")\n",
    "      \n",
    "        print(centerlinenumber[i])\n",
    "        print(\"RANDOMtempsmallerthan25perce\")\n",
    "      \n",
    "    try:\n",
    "        RANDOMtempgreaterthan75perce=tempgreaterthan75perce.sample(n=howmanyrandomsampleperpart,random_state=0)\n",
    "    except:\n",
    "        RANDOMtempgreaterthan75perce=tempgreaterthan75perce\n",
    "        print(\"in except\")\n",
    "        print(centerlinenumber[i])\n",
    "        print(\"RANDOMtempgreaterthan75perce\")\n",
    "    \n",
    "    try:\n",
    "        RANDOMtempinthemiddle=tempinthemiddle.sample(n=howmanyrandomsampleperpart,random_state=0)\n",
    "    except:\n",
    "        RANDOMtempinthemiddle=tempinthemiddle\n",
    "        print(\"in except\")\n",
    "        print(centerlinenumber[i])\n",
    "        print(\"RANDOMtempinthemiddle\")\n",
    "\n",
    "\n",
    "    tempcombined=pd.concat([RANDOMtempsmallerthan25perce,RANDOMtempgreaterthan75perce,RANDOMtempinthemiddle])\n",
    "\n",
    "    \n",
    "    if tempcombined['Filename'].is_unique==False:\n",
    "        print(centerlinenumber[i])\n",
    "        print('not unique')\n",
    "        sys.exit(1)\n",
    "\n",
    "    \n",
    "    tempcombined['CenterLineNumber']=centerlinenumber[i]\n",
    "    tempcombined['Cell Type']=currentct\n",
    "\n",
    "   \n",
    "    \n",
    "    \n",
    "    smlist.append(tempcombined)\n",
    "\n",
    "    \n"
   ]
  },
  {
   "cell_type": "code",
   "execution_count": 4,
   "metadata": {},
   "outputs": [
    {
     "data": {
      "text/plain": [
       "(45, 5)"
      ]
     },
     "execution_count": 4,
     "metadata": {},
     "output_type": "execute_result"
    }
   ],
   "source": [
    "smlistdf=pd.concat(smlist)\n",
    "smlistdf.shape"
   ]
  },
  {
   "cell_type": "code",
   "execution_count": 5,
   "metadata": {},
   "outputs": [
    {
     "data": {
      "text/plain": [
       "(45, 5)"
      ]
     },
     "execution_count": 5,
     "metadata": {},
     "output_type": "execute_result"
    }
   ],
   "source": [
    "smlistdf=smlistdf.drop_duplicates(subset='Filename', keep=\"first\")\n",
    "smlistdf.shape"
   ]
  },
  {
   "cell_type": "code",
   "execution_count": 6,
   "metadata": {},
   "outputs": [],
   "source": [
    "smlistdf.reset_index(inplace=True,drop=True)\n",
    "smlistdf.reset_index(inplace=True)"
   ]
  },
  {
   "cell_type": "code",
   "execution_count": 7,
   "metadata": {},
   "outputs": [
    {
     "data": {
      "text/plain": [
       "(45, 7)"
      ]
     },
     "execution_count": 7,
     "metadata": {},
     "output_type": "execute_result"
    }
   ],
   "source": [
    "smlistdf['SM']='SM'+smlistdf['Cell Type']+\"_\"+smlistdf['index'].map(str)\n",
    "smlistdf.shape"
   ]
  },
  {
   "cell_type": "code",
   "execution_count": 8,
   "metadata": {},
   "outputs": [
    {
     "data": {
      "text/html": [
       "<div>\n",
       "<style scoped>\n",
       "    .dataframe tbody tr th:only-of-type {\n",
       "        vertical-align: middle;\n",
       "    }\n",
       "\n",
       "    .dataframe tbody tr th {\n",
       "        vertical-align: top;\n",
       "    }\n",
       "\n",
       "    .dataframe thead th {\n",
       "        text-align: right;\n",
       "    }\n",
       "</style>\n",
       "<table border=\"1\" class=\"dataframe\">\n",
       "  <thead>\n",
       "    <tr style=\"text-align: right;\">\n",
       "      <th></th>\n",
       "      <th>index</th>\n",
       "      <th>Filename</th>\n",
       "      <th>Average Value</th>\n",
       "      <th>Line Count</th>\n",
       "      <th>CenterLineNumber</th>\n",
       "      <th>Cell Type</th>\n",
       "      <th>SM</th>\n",
       "    </tr>\n",
       "  </thead>\n",
       "  <tbody>\n",
       "    <tr>\n",
       "      <th>0</th>\n",
       "      <td>0</td>\n",
       "      <td>g1_n8_g2_em4n8_-0.2_int_g1_n8_g2_ed8n8_-0.4_in...</td>\n",
       "      <td>0.400</td>\n",
       "      <td>18</td>\n",
       "      <td>20</td>\n",
       "      <td>n8</td>\n",
       "      <td>SMn8_0</td>\n",
       "    </tr>\n",
       "    <tr>\n",
       "      <th>1</th>\n",
       "      <td>1</td>\n",
       "      <td>g1_n8_g2_em4n8_-0.2_int_g1_n8_g2_ed8n8_-0.6_in...</td>\n",
       "      <td>0.375</td>\n",
       "      <td>22</td>\n",
       "      <td>20</td>\n",
       "      <td>n8</td>\n",
       "      <td>SMn8_1</td>\n",
       "    </tr>\n",
       "    <tr>\n",
       "      <th>2</th>\n",
       "      <td>2</td>\n",
       "      <td>g1_n8_g2_em4n8_-0.2_int_g1_n8_g2_ed8n8_-0.4_in...</td>\n",
       "      <td>0.375</td>\n",
       "      <td>19</td>\n",
       "      <td>20</td>\n",
       "      <td>n8</td>\n",
       "      <td>SMn8_2</td>\n",
       "    </tr>\n",
       "    <tr>\n",
       "      <th>3</th>\n",
       "      <td>3</td>\n",
       "      <td>g1_n8_g2_em4n8_-0.8_int_g1_n8_g2_ed8n8_-0.6_in...</td>\n",
       "      <td>0.500</td>\n",
       "      <td>18</td>\n",
       "      <td>20</td>\n",
       "      <td>n8</td>\n",
       "      <td>SMn8_3</td>\n",
       "    </tr>\n",
       "    <tr>\n",
       "      <th>4</th>\n",
       "      <td>4</td>\n",
       "      <td>g1_n8_g2_em4n8_-0.2_int_g1_n8_g2_ed8n8_-0.6_in...</td>\n",
       "      <td>0.500</td>\n",
       "      <td>19</td>\n",
       "      <td>20</td>\n",
       "      <td>n8</td>\n",
       "      <td>SMn8_4</td>\n",
       "    </tr>\n",
       "  </tbody>\n",
       "</table>\n",
       "</div>"
      ],
      "text/plain": [
       "   index                                           Filename  Average Value  \\\n",
       "0      0  g1_n8_g2_em4n8_-0.2_int_g1_n8_g2_ed8n8_-0.4_in...          0.400   \n",
       "1      1  g1_n8_g2_em4n8_-0.2_int_g1_n8_g2_ed8n8_-0.6_in...          0.375   \n",
       "2      2  g1_n8_g2_em4n8_-0.2_int_g1_n8_g2_ed8n8_-0.4_in...          0.375   \n",
       "3      3  g1_n8_g2_em4n8_-0.8_int_g1_n8_g2_ed8n8_-0.6_in...          0.500   \n",
       "4      4  g1_n8_g2_em4n8_-0.2_int_g1_n8_g2_ed8n8_-0.6_in...          0.500   \n",
       "\n",
       "   Line Count  CenterLineNumber Cell Type      SM  \n",
       "0          18                20        n8  SMn8_0  \n",
       "1          22                20        n8  SMn8_1  \n",
       "2          19                20        n8  SMn8_2  \n",
       "3          18                20        n8  SMn8_3  \n",
       "4          19                20        n8  SMn8_4  "
      ]
     },
     "execution_count": 8,
     "metadata": {},
     "output_type": "execute_result"
    }
   ],
   "source": [
    "smlistdf.head()"
   ]
  },
  {
   "cell_type": "code",
   "execution_count": null,
   "metadata": {},
   "outputs": [],
   "source": [
    "if smlistd['SM'].is_unique==False:\n",
    "   \n",
    "    print('SM not unique')\n",
    "    sys.exit(1)\n"
   ]
  },
  {
   "cell_type": "code",
   "execution_count": 9,
   "metadata": {},
   "outputs": [],
   "source": [
    "smlistdf.to_csv(infile+\"_fianlselection.txt\",sep='\\t',index=False)"
   ]
  }
 ],
 "metadata": {
  "kernelspec": {
   "display_name": "Python 3",
   "language": "python",
   "name": "python3"
  },
  "language_info": {
   "codemirror_mode": {
    "name": "ipython",
    "version": 3
   },
   "file_extension": ".py",
   "mimetype": "text/x-python",
   "name": "python",
   "nbconvert_exporter": "python",
   "pygments_lexer": "ipython3",
   "version": "3.6.7"
  }
 },
 "nbformat": 4,
 "nbformat_minor": 2
}
