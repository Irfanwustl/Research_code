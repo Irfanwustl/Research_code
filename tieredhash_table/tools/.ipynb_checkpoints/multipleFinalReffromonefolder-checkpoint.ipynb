{
 "cells": [
  {
   "cell_type": "code",
   "execution_count": 1,
   "metadata": {},
   "outputs": [
    {
     "data": {
      "text/html": [
       "<div>\n",
       "<style scoped>\n",
       "    .dataframe tbody tr th:only-of-type {\n",
       "        vertical-align: middle;\n",
       "    }\n",
       "\n",
       "    .dataframe tbody tr th {\n",
       "        vertical-align: top;\n",
       "    }\n",
       "\n",
       "    .dataframe thead th {\n",
       "        text-align: right;\n",
       "    }\n",
       "</style>\n",
       "<table border=\"1\" class=\"dataframe\">\n",
       "  <thead>\n",
       "    <tr style=\"text-align: right;\">\n",
       "      <th></th>\n",
       "      <th>Filename</th>\n",
       "      <th>Average Value</th>\n",
       "      <th>Line Count</th>\n",
       "      <th>firstnamee</th>\n",
       "      <th>lastname</th>\n",
       "      <th>cm4em4</th>\n",
       "      <th>last2</th>\n",
       "    </tr>\n",
       "  </thead>\n",
       "  <tbody>\n",
       "    <tr>\n",
       "      <th>0</th>\n",
       "      <td>g1_em4_g2_NaiveCD8em4_-0.6_int_g1_em4_g2_cm4em...</td>\n",
       "      <td>0.400</td>\n",
       "      <td>120</td>\n",
       "      <td>g1_em4_g2_NaiveCD8em4_-0.6_int_g1_em4_g2</td>\n",
       "      <td>-0.2_int_g1_em4_g2_em8em4_-0.4_int_g1_em4_g2_c...</td>\n",
       "      <td>0.2</td>\n",
       "      <td>int_g1_em4_g2_em8em4_-0.4_int_g1_em4_g2_cm8em4...</td>\n",
       "    </tr>\n",
       "    <tr>\n",
       "      <th>1</th>\n",
       "      <td>g1_em4_g2_NaiveCD8em4_-0.6_int_g1_em4_g2_cm4em...</td>\n",
       "      <td>0.400</td>\n",
       "      <td>311</td>\n",
       "      <td>g1_em4_g2_NaiveCD8em4_-0.6_int_g1_em4_g2</td>\n",
       "      <td>-0.2_int_g1_em4_g2_em8em4_-0.4_int_g1_em4_g2_c...</td>\n",
       "      <td>0.2</td>\n",
       "      <td>int_g1_em4_g2_em8em4_-0.4_int_g1_em4_g2_cm8em4...</td>\n",
       "    </tr>\n",
       "    <tr>\n",
       "      <th>2</th>\n",
       "      <td>g1_em4_g2_NaiveCD8em4_-0.6_int_g1_em4_g2_cm4em...</td>\n",
       "      <td>0.400</td>\n",
       "      <td>207</td>\n",
       "      <td>g1_em4_g2_NaiveCD8em4_-0.6_int_g1_em4_g2</td>\n",
       "      <td>-0.2_int_g1_em4_g2_em8em4_-0.2_int_g1_em4_g2_c...</td>\n",
       "      <td>0.2</td>\n",
       "      <td>int_g1_em4_g2_em8em4_-0.2_int_g1_em4_g2_cm8em4...</td>\n",
       "    </tr>\n",
       "    <tr>\n",
       "      <th>3</th>\n",
       "      <td>g1_em4_g2_NaiveCD8em4_-0.6_int_g1_em4_g2_cm4em...</td>\n",
       "      <td>0.425</td>\n",
       "      <td>130</td>\n",
       "      <td>g1_em4_g2_NaiveCD8em4_-0.6_int_g1_em4_g2</td>\n",
       "      <td>-0.4_int_g1_em4_g2_em8em4_-0.4_int_g1_em4_g2_c...</td>\n",
       "      <td>0.4</td>\n",
       "      <td>int_g1_em4_g2_em8em4_-0.4_int_g1_em4_g2_cm8em4...</td>\n",
       "    </tr>\n",
       "    <tr>\n",
       "      <th>4</th>\n",
       "      <td>g1_em4_g2_NaiveCD8em4_-0.6_int_g1_em4_g2_cm4em...</td>\n",
       "      <td>0.400</td>\n",
       "      <td>159</td>\n",
       "      <td>g1_em4_g2_NaiveCD8em4_-0.6_int_g1_em4_g2</td>\n",
       "      <td>-0.2_int_g1_em4_g2_em8em4_-0.4_int_g1_em4_g2_c...</td>\n",
       "      <td>0.2</td>\n",
       "      <td>int_g1_em4_g2_em8em4_-0.4_int_g1_em4_g2_cm8em4...</td>\n",
       "    </tr>\n",
       "  </tbody>\n",
       "</table>\n",
       "</div>"
      ],
      "text/plain": [
       "                                            Filename  Average Value  \\\n",
       "0  g1_em4_g2_NaiveCD8em4_-0.6_int_g1_em4_g2_cm4em...          0.400   \n",
       "1  g1_em4_g2_NaiveCD8em4_-0.6_int_g1_em4_g2_cm4em...          0.400   \n",
       "2  g1_em4_g2_NaiveCD8em4_-0.6_int_g1_em4_g2_cm4em...          0.400   \n",
       "3  g1_em4_g2_NaiveCD8em4_-0.6_int_g1_em4_g2_cm4em...          0.425   \n",
       "4  g1_em4_g2_NaiveCD8em4_-0.6_int_g1_em4_g2_cm4em...          0.400   \n",
       "\n",
       "   Line Count                                firstnamee  \\\n",
       "0         120  g1_em4_g2_NaiveCD8em4_-0.6_int_g1_em4_g2   \n",
       "1         311  g1_em4_g2_NaiveCD8em4_-0.6_int_g1_em4_g2   \n",
       "2         207  g1_em4_g2_NaiveCD8em4_-0.6_int_g1_em4_g2   \n",
       "3         130  g1_em4_g2_NaiveCD8em4_-0.6_int_g1_em4_g2   \n",
       "4         159  g1_em4_g2_NaiveCD8em4_-0.6_int_g1_em4_g2   \n",
       "\n",
       "                                            lastname  cm4em4  \\\n",
       "0  -0.2_int_g1_em4_g2_em8em4_-0.4_int_g1_em4_g2_c...     0.2   \n",
       "1  -0.2_int_g1_em4_g2_em8em4_-0.4_int_g1_em4_g2_c...     0.2   \n",
       "2  -0.2_int_g1_em4_g2_em8em4_-0.2_int_g1_em4_g2_c...     0.2   \n",
       "3  -0.4_int_g1_em4_g2_em8em4_-0.4_int_g1_em4_g2_c...     0.4   \n",
       "4  -0.2_int_g1_em4_g2_em8em4_-0.4_int_g1_em4_g2_c...     0.2   \n",
       "\n",
       "                                               last2  \n",
       "0  int_g1_em4_g2_em8em4_-0.4_int_g1_em4_g2_cm8em4...  \n",
       "1  int_g1_em4_g2_em8em4_-0.4_int_g1_em4_g2_cm8em4...  \n",
       "2  int_g1_em4_g2_em8em4_-0.2_int_g1_em4_g2_cm8em4...  \n",
       "3  int_g1_em4_g2_em8em4_-0.4_int_g1_em4_g2_cm8em4...  \n",
       "4  int_g1_em4_g2_em8em4_-0.4_int_g1_em4_g2_cm8em4...  "
      ]
     },
     "execution_count": 1,
     "metadata": {},
     "output_type": "execute_result"
    }
   ],
   "source": [
    "import pandas as pd\n",
    "import sys\n",
    "import glob\n",
    "import os\n",
    "filelits='/Users/irffanalahi/Research/Research_update/SoftRD/hashtable_stats/tieredApproach/OwnGrouptest/try1/someTcell/someTcell_linecount/em4_thresholdpos_allthresholdcombinations.txt_finalselection.txt'\n",
    "locationofrefs='/Users/irffanalahi/Research/Research_update/SoftRD/hashtable_stats/tieredApproach/OwnGrouptest/try1/someTcell/someTcell_linecount/TowardsSM/samplin'\n",
    "outdir=locationofrefs+\"_bestref\"\n",
    "os.mkdir(outdir)\n",
    "filelistdf=pd.read_csv(filelits,sep='\\t')\n",
    "filelistdf.head()"
   ]
  },
  {
   "cell_type": "code",
   "execution_count": 2,
   "metadata": {},
   "outputs": [],
   "source": [
    "def listdir_nohidden(path):\n",
    "    return glob.glob(os.path.join(path, '*'))"
   ]
  },
  {
   "cell_type": "code",
   "execution_count": 3,
   "metadata": {},
   "outputs": [],
   "source": [
    "allfiles=listdir_nohidden(locationofrefs)"
   ]
  },
  {
   "cell_type": "code",
   "execution_count": 9,
   "metadata": {},
   "outputs": [
    {
     "name": "stdout",
     "output_type": "stream",
     "text": [
      "0\n",
      "  chrom      start        end  em4-others  FakeCell-others\n",
      "0  chr1    9359846    9359848        -0.4              0.9\n",
      "1  chr1   14790562   14790564        -0.4              0.9\n",
      "2  chr1   17275308   17275310        -0.4              0.9\n",
      "3  chr1   19518888   19518890        -0.4              0.9\n",
      "4  chr1  151827799  151827801        -0.4              0.9\n"
     ]
    }
   ],
   "source": [
    "for index, row in filelistdf.iterrows():\n",
    "    currentfile=locationofrefs+'/'+row['Filename']\n",
    "    tdf=pd.read_csv(currentfile,sep='\\t',header=None)\n",
    "    tdf.rename(columns={0:'chrom',1:'start',2:'end'},inplace=True)\n",
    "    tdf['em4-others']=-1*row['Average Value']\n",
    "    tdf['FakeCell-others']=0.9\n",
    "    outname=outdir+\"/SM_\"+str(index)\n",
    "    tdfsm=tdf[['chrom','start','em4-others','FakeCell-others']]\n",
    "    tdfsmpos=tdf[['chrom','start','end']]\n",
    "    tdf.to_csv(outname,sep='\\t',index=False)\n",
    "    break"
   ]
  }
 ],
 "metadata": {
  "kernelspec": {
   "display_name": "Python 3",
   "language": "python",
   "name": "python3"
  },
  "language_info": {
   "codemirror_mode": {
    "name": "ipython",
    "version": 3
   },
   "file_extension": ".py",
   "mimetype": "text/x-python",
   "name": "python",
   "nbconvert_exporter": "python",
   "pygments_lexer": "ipython3",
   "version": "3.6.7"
  }
 },
 "nbformat": 4,
 "nbformat_minor": 2
}
