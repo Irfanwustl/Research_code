{
 "cells": [
  {
   "cell_type": "code",
   "execution_count": 2,
   "metadata": {},
   "outputs": [
    {
     "data": {
      "text/html": [
       "<div>\n",
       "<style scoped>\n",
       "    .dataframe tbody tr th:only-of-type {\n",
       "        vertical-align: middle;\n",
       "    }\n",
       "\n",
       "    .dataframe tbody tr th {\n",
       "        vertical-align: top;\n",
       "    }\n",
       "\n",
       "    .dataframe thead th {\n",
       "        text-align: right;\n",
       "    }\n",
       "</style>\n",
       "<table border=\"1\" class=\"dataframe\">\n",
       "  <thead>\n",
       "    <tr style=\"text-align: right;\">\n",
       "      <th></th>\n",
       "      <th>Filename</th>\n",
       "      <th>Average Value</th>\n",
       "      <th>Line Count</th>\n",
       "    </tr>\n",
       "  </thead>\n",
       "  <tbody>\n",
       "    <tr>\n",
       "      <th>0</th>\n",
       "      <td>g1_em4_g2_NaiveCD8em4_-0.4_int_g1_em4_g2_cm4em...</td>\n",
       "      <td>0.575</td>\n",
       "      <td>4</td>\n",
       "    </tr>\n",
       "    <tr>\n",
       "      <th>1</th>\n",
       "      <td>g1_em4_g2_NaiveCD8em4_-0.2_int_g1_em4_g2_cm4em...</td>\n",
       "      <td>0.575</td>\n",
       "      <td>3</td>\n",
       "    </tr>\n",
       "    <tr>\n",
       "      <th>2</th>\n",
       "      <td>g1_em4_g2_NaiveCD8em4_-0.2_int_g1_em4_g2_cm4em...</td>\n",
       "      <td>0.500</td>\n",
       "      <td>10</td>\n",
       "    </tr>\n",
       "    <tr>\n",
       "      <th>3</th>\n",
       "      <td>g1_em4_g2_NaiveCD8em4_-0.8_int_g1_em4_g2_cm4em...</td>\n",
       "      <td>0.550</td>\n",
       "      <td>5</td>\n",
       "    </tr>\n",
       "    <tr>\n",
       "      <th>4</th>\n",
       "      <td>g1_em4_g2_NaiveCD8em4_-0.2_int_g1_em4_g2_cm4em...</td>\n",
       "      <td>0.500</td>\n",
       "      <td>3</td>\n",
       "    </tr>\n",
       "  </tbody>\n",
       "</table>\n",
       "</div>"
      ],
      "text/plain": [
       "                                            Filename  Average Value  \\\n",
       "0  g1_em4_g2_NaiveCD8em4_-0.4_int_g1_em4_g2_cm4em...          0.575   \n",
       "1  g1_em4_g2_NaiveCD8em4_-0.2_int_g1_em4_g2_cm4em...          0.575   \n",
       "2  g1_em4_g2_NaiveCD8em4_-0.2_int_g1_em4_g2_cm4em...          0.500   \n",
       "3  g1_em4_g2_NaiveCD8em4_-0.8_int_g1_em4_g2_cm4em...          0.550   \n",
       "4  g1_em4_g2_NaiveCD8em4_-0.2_int_g1_em4_g2_cm4em...          0.500   \n",
       "\n",
       "   Line Count  \n",
       "0           4  \n",
       "1           3  \n",
       "2          10  \n",
       "3           5  \n",
       "4           3  "
      ]
     },
     "execution_count": 2,
     "metadata": {},
     "output_type": "execute_result"
    }
   ],
   "source": [
    "import pandas as pd\n",
    "infile='/Users/irffanalahi/Research/Research_update/SoftRD/hashtable_stats/tieredApproach/OwnGrouptest/try1/someTcell/someTcell_linecount/em4_thresholdpos_allthresholdcombinations.txt'\n",
    "\n",
    "currentct='em4'\n",
    "\n",
    "indf=pd.read_csv(infile,sep='\\t')\n",
    "indf.head()"
   ]
  },
  {
   "cell_type": "code",
   "execution_count": null,
   "metadata": {},
   "outputs": [],
   "source": [
    "g2='cm4'\n"
   ]
  }
 ],
 "metadata": {
  "kernelspec": {
   "display_name": "Python 3",
   "language": "python",
   "name": "python3"
  },
  "language_info": {
   "codemirror_mode": {
    "name": "ipython",
    "version": 3
   },
   "file_extension": ".py",
   "mimetype": "text/x-python",
   "name": "python",
   "nbconvert_exporter": "python",
   "pygments_lexer": "ipython3",
   "version": "3.6.7"
  }
 },
 "nbformat": 4,
 "nbformat_minor": 2
}
