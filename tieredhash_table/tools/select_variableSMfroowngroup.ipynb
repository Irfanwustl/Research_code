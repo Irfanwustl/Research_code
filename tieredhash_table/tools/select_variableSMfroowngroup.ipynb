{
 "cells": [
  {
   "cell_type": "code",
   "execution_count": 1,
   "metadata": {},
   "outputs": [
    {
     "data": {
      "text/html": [
       "<div>\n",
       "<style scoped>\n",
       "    .dataframe tbody tr th:only-of-type {\n",
       "        vertical-align: middle;\n",
       "    }\n",
       "\n",
       "    .dataframe tbody tr th {\n",
       "        vertical-align: top;\n",
       "    }\n",
       "\n",
       "    .dataframe thead th {\n",
       "        text-align: right;\n",
       "    }\n",
       "</style>\n",
       "<table border=\"1\" class=\"dataframe\">\n",
       "  <thead>\n",
       "    <tr style=\"text-align: right;\">\n",
       "      <th></th>\n",
       "      <th>Filename</th>\n",
       "      <th>Average Value</th>\n",
       "      <th>Line Count</th>\n",
       "    </tr>\n",
       "  </thead>\n",
       "  <tbody>\n",
       "    <tr>\n",
       "      <th>0</th>\n",
       "      <td>g1_n4_g2_NKn4_-0.6_int_g1_n4_g2_Tregsn4_-0.2_i...</td>\n",
       "      <td>0.50</td>\n",
       "      <td>2</td>\n",
       "    </tr>\n",
       "    <tr>\n",
       "      <th>1</th>\n",
       "      <td>g1_n4_g2_NKn4_-0.6_int_g1_n4_g2_Tregsn4_-0.8_i...</td>\n",
       "      <td>0.60</td>\n",
       "      <td>2</td>\n",
       "    </tr>\n",
       "    <tr>\n",
       "      <th>2</th>\n",
       "      <td>g1_n4_g2_NKn4_-0.2_int_g1_n4_g2_Tregsn4_-0.4_i...</td>\n",
       "      <td>0.55</td>\n",
       "      <td>2</td>\n",
       "    </tr>\n",
       "    <tr>\n",
       "      <th>3</th>\n",
       "      <td>g1_n4_g2_NKn4_-0.6_int_g1_n4_g2_Tregsn4_-0.8_i...</td>\n",
       "      <td>0.45</td>\n",
       "      <td>17</td>\n",
       "    </tr>\n",
       "    <tr>\n",
       "      <th>4</th>\n",
       "      <td>g1_n4_g2_NKn4_-0.6_int_g1_n4_g2_Tregsn4_-0.6_i...</td>\n",
       "      <td>0.60</td>\n",
       "      <td>3</td>\n",
       "    </tr>\n",
       "  </tbody>\n",
       "</table>\n",
       "</div>"
      ],
      "text/plain": [
       "                                            Filename  Average Value  \\\n",
       "0  g1_n4_g2_NKn4_-0.6_int_g1_n4_g2_Tregsn4_-0.2_i...           0.50   \n",
       "1  g1_n4_g2_NKn4_-0.6_int_g1_n4_g2_Tregsn4_-0.8_i...           0.60   \n",
       "2  g1_n4_g2_NKn4_-0.2_int_g1_n4_g2_Tregsn4_-0.4_i...           0.55   \n",
       "3  g1_n4_g2_NKn4_-0.6_int_g1_n4_g2_Tregsn4_-0.8_i...           0.45   \n",
       "4  g1_n4_g2_NKn4_-0.6_int_g1_n4_g2_Tregsn4_-0.6_i...           0.60   \n",
       "\n",
       "   Line Count  \n",
       "0           2  \n",
       "1           2  \n",
       "2           2  \n",
       "3          17  \n",
       "4           3  "
      ]
     },
     "execution_count": 1,
     "metadata": {},
     "output_type": "execute_result"
    }
   ],
   "source": [
    "import pandas as pd\n",
    "infile='/Users/irffanalahi/Research/Research_update/SoftRD/hashtable_stats/tieredApproach/OwnGrouptest/try1/someTcell/n4n8/n4n8thresholder_linecount/n4_thresholdpos_allthresholdcombinations.txt'\n",
    "\n",
    "indf=pd.read_csv(infile,sep='\\t')\n",
    "indf.head()"
   ]
  }
 ],
 "metadata": {
  "kernelspec": {
   "display_name": "Python 3",
   "language": "python",
   "name": "python3"
  },
  "language_info": {
   "codemirror_mode": {
    "name": "ipython",
    "version": 3
   },
   "file_extension": ".py",
   "mimetype": "text/x-python",
   "name": "python",
   "nbconvert_exporter": "python",
   "pygments_lexer": "ipython3",
   "version": "3.6.7"
  }
 },
 "nbformat": 4,
 "nbformat_minor": 2
}
