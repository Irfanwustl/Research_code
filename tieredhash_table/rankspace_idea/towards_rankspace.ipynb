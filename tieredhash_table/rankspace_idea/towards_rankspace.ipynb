{
 "cells": [
  {
   "cell_type": "code",
   "execution_count": 1,
   "metadata": {},
   "outputs": [],
   "source": [
    "import pandas as pd\n",
    "import glob\n",
    "import os\n",
    "import sys\n",
    "import re\n",
    "import time\n",
    "start_time = time.time()\n",
    "\n",
    "infol='tr_sub'\n",
    "\n",
    "outname=infol+\"_CpGdelta_info.txt\"\n"
   ]
  },
  {
   "cell_type": "code",
   "execution_count": 2,
   "metadata": {},
   "outputs": [],
   "source": [
    "def listdir_nohidden(path):\n",
    "    return glob.glob(os.path.join(path, '*'))"
   ]
  },
  {
   "cell_type": "code",
   "execution_count": 3,
   "metadata": {},
   "outputs": [
    {
     "data": {
      "text/plain": [
       "['tr_sub/g1_Tregs_g2_NaiveCD8',\n",
       " 'tr_sub/g1_Tregs_g2_cm8',\n",
       " 'tr_sub/g1_Tregs_g2_NaiveCD4']"
      ]
     },
     "execution_count": 3,
     "metadata": {},
     "output_type": "execute_result"
    }
   ],
   "source": [
    "allfiles=listdir_nohidden(infol)\n",
    "allfiles"
   ]
  },
  {
   "cell_type": "code",
   "execution_count": 4,
   "metadata": {},
   "outputs": [],
   "source": [
    "\n",
    "def whichCTs(inputfile):\n",
    "    m = re.search('g1_(.+?)_g2_(.+?)$', inputfile)\n",
    "    if m:\n",
    "        found1 = m.group(1)\n",
    "        found2=m.group(2)\n",
    "\n",
    "    else:\n",
    "        print(\"found=\",found)\n",
    "        print(\"exiting\")\n",
    "\n",
    "        sys.exit(1)\n",
    "\n",
    "\n",
    "\n",
    "\n",
    "    celltype1=found1\n",
    "    celltype2=found2\n",
    "    \n",
    "    return celltype1,celltype2"
   ]
  },
  {
   "cell_type": "code",
   "execution_count": 5,
   "metadata": {},
   "outputs": [],
   "source": [
    "filesdf=[]\n",
    "\n",
    "for fp in allfiles:\n",
    "    \n",
    "    basefp=os.path.basename(fp)\n",
    "    \n",
    "    c1,c2=whichCTs(basefp)\n",
    "    \n",
    "    tmpdf=pd.read_csv(fp,sep=\"\\t\")\n",
    "    #tmpdf['filename']=basefp\n",
    "    \n",
    "    tmpdf.rename(columns={c1+\"-others\": c1+\"-\"+c2},inplace=True,errors='raise')\n",
    "    \n",
    "    tmpdf=tmpdf[['chrom','start','end',c1+\"-\"+c2]]\n",
    "    \n",
    "    filesdf.append(tmpdf)\n",
    "    "
   ]
  },
  {
   "cell_type": "code",
   "execution_count": 6,
   "metadata": {},
   "outputs": [
    {
     "data": {
      "text/html": [
       "<div>\n",
       "<style scoped>\n",
       "    .dataframe tbody tr th:only-of-type {\n",
       "        vertical-align: middle;\n",
       "    }\n",
       "\n",
       "    .dataframe tbody tr th {\n",
       "        vertical-align: top;\n",
       "    }\n",
       "\n",
       "    .dataframe thead th {\n",
       "        text-align: right;\n",
       "    }\n",
       "</style>\n",
       "<table border=\"1\" class=\"dataframe\">\n",
       "  <thead>\n",
       "    <tr style=\"text-align: right;\">\n",
       "      <th></th>\n",
       "      <th></th>\n",
       "      <th></th>\n",
       "      <th>Tregs-NaiveCD8</th>\n",
       "      <th>Tregs-cm8</th>\n",
       "      <th>Tregs-NaiveCD4</th>\n",
       "    </tr>\n",
       "    <tr>\n",
       "      <th>chrom</th>\n",
       "      <th>start</th>\n",
       "      <th>end</th>\n",
       "      <th></th>\n",
       "      <th></th>\n",
       "      <th></th>\n",
       "    </tr>\n",
       "  </thead>\n",
       "  <tbody>\n",
       "    <tr>\n",
       "      <th rowspan=\"5\" valign=\"top\">chr1</th>\n",
       "      <th>686388</th>\n",
       "      <th>686390</th>\n",
       "      <td>0.333000</td>\n",
       "      <td>NaN</td>\n",
       "      <td>NaN</td>\n",
       "    </tr>\n",
       "    <tr>\n",
       "      <th>687193</th>\n",
       "      <th>687195</th>\n",
       "      <td>-0.237500</td>\n",
       "      <td>NaN</td>\n",
       "      <td>NaN</td>\n",
       "    </tr>\n",
       "    <tr>\n",
       "      <th>687328</th>\n",
       "      <th>687330</th>\n",
       "      <td>-0.323333</td>\n",
       "      <td>NaN</td>\n",
       "      <td>NaN</td>\n",
       "    </tr>\n",
       "    <tr>\n",
       "      <th>922981</th>\n",
       "      <th>922983</th>\n",
       "      <td>-0.011167</td>\n",
       "      <td>NaN</td>\n",
       "      <td>NaN</td>\n",
       "    </tr>\n",
       "    <tr>\n",
       "      <th>922991</th>\n",
       "      <th>922993</th>\n",
       "      <td>-0.045000</td>\n",
       "      <td>NaN</td>\n",
       "      <td>NaN</td>\n",
       "    </tr>\n",
       "  </tbody>\n",
       "</table>\n",
       "</div>"
      ],
      "text/plain": [
       "                     Tregs-NaiveCD8  Tregs-cm8  Tregs-NaiveCD4\n",
       "chrom start  end                                              \n",
       "chr1  686388 686390        0.333000        NaN             NaN\n",
       "      687193 687195       -0.237500        NaN             NaN\n",
       "      687328 687330       -0.323333        NaN             NaN\n",
       "      922981 922983       -0.011167        NaN             NaN\n",
       "      922991 922993       -0.045000        NaN             NaN"
      ]
     },
     "execution_count": 6,
     "metadata": {},
     "output_type": "execute_result"
    }
   ],
   "source": [
    "df_combined = pd.concat(filesdf, axis=0)\n",
    "df_combined.set_index(['chrom','start','end'],inplace=True)\n",
    "df_combined.head()"
   ]
  },
  {
   "cell_type": "code",
   "execution_count": 7,
   "metadata": {},
   "outputs": [
    {
     "data": {
      "text/html": [
       "<div>\n",
       "<style scoped>\n",
       "    .dataframe tbody tr th:only-of-type {\n",
       "        vertical-align: middle;\n",
       "    }\n",
       "\n",
       "    .dataframe tbody tr th {\n",
       "        vertical-align: top;\n",
       "    }\n",
       "\n",
       "    .dataframe thead th {\n",
       "        text-align: right;\n",
       "    }\n",
       "</style>\n",
       "<table border=\"1\" class=\"dataframe\">\n",
       "  <thead>\n",
       "    <tr style=\"text-align: right;\">\n",
       "      <th></th>\n",
       "      <th>Tregs-NaiveCD8</th>\n",
       "      <th>Tregs-cm8</th>\n",
       "      <th>Tregs-NaiveCD4</th>\n",
       "    </tr>\n",
       "  </thead>\n",
       "  <tbody>\n",
       "    <tr>\n",
       "      <th>(chr1, 685875, 685877)</th>\n",
       "      <td>0.000000</td>\n",
       "      <td>-0.3330</td>\n",
       "      <td>-0.208000</td>\n",
       "    </tr>\n",
       "    <tr>\n",
       "      <th>(chr1, 685999, 686001)</th>\n",
       "      <td>0.000000</td>\n",
       "      <td>0.0000</td>\n",
       "      <td>-0.043000</td>\n",
       "    </tr>\n",
       "    <tr>\n",
       "      <th>(chr1, 686388, 686390)</th>\n",
       "      <td>0.333000</td>\n",
       "      <td>0.3330</td>\n",
       "      <td>0.041667</td>\n",
       "    </tr>\n",
       "    <tr>\n",
       "      <th>(chr1, 687193, 687195)</th>\n",
       "      <td>-0.237500</td>\n",
       "      <td>0.0315</td>\n",
       "      <td>-0.153833</td>\n",
       "    </tr>\n",
       "    <tr>\n",
       "      <th>(chr1, 687328, 687330)</th>\n",
       "      <td>-0.323333</td>\n",
       "      <td>0.0280</td>\n",
       "      <td>-0.347000</td>\n",
       "    </tr>\n",
       "  </tbody>\n",
       "</table>\n",
       "</div>"
      ],
      "text/plain": [
       "                        Tregs-NaiveCD8  Tregs-cm8  Tregs-NaiveCD4\n",
       "(chr1, 685875, 685877)        0.000000    -0.3330       -0.208000\n",
       "(chr1, 685999, 686001)        0.000000     0.0000       -0.043000\n",
       "(chr1, 686388, 686390)        0.333000     0.3330        0.041667\n",
       "(chr1, 687193, 687195)       -0.237500     0.0315       -0.153833\n",
       "(chr1, 687328, 687330)       -0.323333     0.0280       -0.347000"
      ]
     },
     "execution_count": 7,
     "metadata": {},
     "output_type": "execute_result"
    }
   ],
   "source": [
    "outdf=df_combined.groupby(df_combined.index).sum()\n",
    "outdf.head()"
   ]
  },
  {
   "cell_type": "code",
   "execution_count": 8,
   "metadata": {},
   "outputs": [],
   "source": [
    "outdf.reset_index(inplace=True)"
   ]
  },
  {
   "cell_type": "code",
   "execution_count": 9,
   "metadata": {},
   "outputs": [],
   "source": [
    "outdf[['chrom', 'start','end']] = pd.DataFrame(outdf['index'].tolist(), index=outdf.index)\n"
   ]
  },
  {
   "cell_type": "code",
   "execution_count": 10,
   "metadata": {},
   "outputs": [],
   "source": [
    "outdf=outdf.drop(['index'],axis=1)"
   ]
  },
  {
   "cell_type": "code",
   "execution_count": 11,
   "metadata": {},
   "outputs": [
    {
     "data": {
      "text/plain": [
       "(11, 3)"
      ]
     },
     "execution_count": 11,
     "metadata": {},
     "output_type": "execute_result"
    }
   ],
   "source": [
    "outdf=outdf.set_index(['chrom','start','end'])\n",
    "outdf.shape"
   ]
  },
  {
   "cell_type": "code",
   "execution_count": 12,
   "metadata": {},
   "outputs": [
    {
     "data": {
      "text/plain": [
       "(7, 3)"
      ]
     },
     "execution_count": 12,
     "metadata": {},
     "output_type": "execute_result"
    }
   ],
   "source": [
    "outdf=outdf[(outdf != 0).all(axis=1)]\n",
    "outdf.shape"
   ]
  },
  {
   "cell_type": "code",
   "execution_count": 13,
   "metadata": {},
   "outputs": [
    {
     "data": {
      "text/html": [
       "<div>\n",
       "<style scoped>\n",
       "    .dataframe tbody tr th:only-of-type {\n",
       "        vertical-align: middle;\n",
       "    }\n",
       "\n",
       "    .dataframe tbody tr th {\n",
       "        vertical-align: top;\n",
       "    }\n",
       "\n",
       "    .dataframe thead th {\n",
       "        text-align: right;\n",
       "    }\n",
       "</style>\n",
       "<table border=\"1\" class=\"dataframe\">\n",
       "  <thead>\n",
       "    <tr style=\"text-align: right;\">\n",
       "      <th></th>\n",
       "      <th></th>\n",
       "      <th></th>\n",
       "      <th>Tregs-NaiveCD8</th>\n",
       "      <th>Tregs-cm8</th>\n",
       "      <th>Tregs-NaiveCD4</th>\n",
       "    </tr>\n",
       "    <tr>\n",
       "      <th>chrom</th>\n",
       "      <th>start</th>\n",
       "      <th>end</th>\n",
       "      <th></th>\n",
       "      <th></th>\n",
       "      <th></th>\n",
       "    </tr>\n",
       "  </thead>\n",
       "  <tbody>\n",
       "    <tr>\n",
       "      <th rowspan=\"5\" valign=\"top\">chr1</th>\n",
       "      <th>686388</th>\n",
       "      <th>686390</th>\n",
       "      <td>0.333000</td>\n",
       "      <td>0.3330</td>\n",
       "      <td>0.041667</td>\n",
       "    </tr>\n",
       "    <tr>\n",
       "      <th>687193</th>\n",
       "      <th>687195</th>\n",
       "      <td>-0.237500</td>\n",
       "      <td>0.0315</td>\n",
       "      <td>-0.153833</td>\n",
       "    </tr>\n",
       "    <tr>\n",
       "      <th>687328</th>\n",
       "      <th>687330</th>\n",
       "      <td>-0.323333</td>\n",
       "      <td>0.0280</td>\n",
       "      <td>-0.347000</td>\n",
       "    </tr>\n",
       "    <tr>\n",
       "      <th>922981</th>\n",
       "      <th>922983</th>\n",
       "      <td>-0.011167</td>\n",
       "      <td>-0.0125</td>\n",
       "      <td>-0.023833</td>\n",
       "    </tr>\n",
       "    <tr>\n",
       "      <th>922991</th>\n",
       "      <th>922993</th>\n",
       "      <td>-0.045000</td>\n",
       "      <td>-0.0305</td>\n",
       "      <td>-0.056000</td>\n",
       "    </tr>\n",
       "  </tbody>\n",
       "</table>\n",
       "</div>"
      ],
      "text/plain": [
       "                     Tregs-NaiveCD8  Tregs-cm8  Tregs-NaiveCD4\n",
       "chrom start  end                                              \n",
       "chr1  686388 686390        0.333000     0.3330        0.041667\n",
       "      687193 687195       -0.237500     0.0315       -0.153833\n",
       "      687328 687330       -0.323333     0.0280       -0.347000\n",
       "      922981 922983       -0.011167    -0.0125       -0.023833\n",
       "      922991 922993       -0.045000    -0.0305       -0.056000"
      ]
     },
     "execution_count": 13,
     "metadata": {},
     "output_type": "execute_result"
    }
   ],
   "source": [
    "outdf.head()"
   ]
  },
  {
   "cell_type": "code",
   "execution_count": 14,
   "metadata": {},
   "outputs": [
    {
     "data": {
      "text/plain": [
       "Index(['Tregs-NaiveCD8', 'Tregs-cm8', 'Tregs-NaiveCD4'], dtype='object')"
      ]
     },
     "execution_count": 14,
     "metadata": {},
     "output_type": "execute_result"
    }
   ],
   "source": [
    "scorecols=outdf.columns\n",
    "scorecols"
   ]
  },
  {
   "cell_type": "code",
   "execution_count": 15,
   "metadata": {},
   "outputs": [
    {
     "data": {
      "text/html": [
       "<div>\n",
       "<style scoped>\n",
       "    .dataframe tbody tr th:only-of-type {\n",
       "        vertical-align: middle;\n",
       "    }\n",
       "\n",
       "    .dataframe tbody tr th {\n",
       "        vertical-align: top;\n",
       "    }\n",
       "\n",
       "    .dataframe thead th {\n",
       "        text-align: right;\n",
       "    }\n",
       "</style>\n",
       "<table border=\"1\" class=\"dataframe\">\n",
       "  <thead>\n",
       "    <tr style=\"text-align: right;\">\n",
       "      <th></th>\n",
       "      <th></th>\n",
       "      <th></th>\n",
       "      <th>Tregs-NaiveCD8</th>\n",
       "      <th>Tregs-cm8</th>\n",
       "      <th>Tregs-NaiveCD4</th>\n",
       "      <th>maxdelta</th>\n",
       "      <th>mindelta</th>\n",
       "      <th>Avgdelta</th>\n",
       "    </tr>\n",
       "    <tr>\n",
       "      <th>chrom</th>\n",
       "      <th>start</th>\n",
       "      <th>end</th>\n",
       "      <th></th>\n",
       "      <th></th>\n",
       "      <th></th>\n",
       "      <th></th>\n",
       "      <th></th>\n",
       "      <th></th>\n",
       "    </tr>\n",
       "  </thead>\n",
       "  <tbody>\n",
       "    <tr>\n",
       "      <th rowspan=\"5\" valign=\"top\">chr1</th>\n",
       "      <th>686388</th>\n",
       "      <th>686390</th>\n",
       "      <td>0.333000</td>\n",
       "      <td>0.3330</td>\n",
       "      <td>0.041667</td>\n",
       "      <td>0.333000</td>\n",
       "      <td>0.041667</td>\n",
       "      <td>0.235889</td>\n",
       "    </tr>\n",
       "    <tr>\n",
       "      <th>687193</th>\n",
       "      <th>687195</th>\n",
       "      <td>-0.237500</td>\n",
       "      <td>0.0315</td>\n",
       "      <td>-0.153833</td>\n",
       "      <td>0.031500</td>\n",
       "      <td>-0.237500</td>\n",
       "      <td>-0.119944</td>\n",
       "    </tr>\n",
       "    <tr>\n",
       "      <th>687328</th>\n",
       "      <th>687330</th>\n",
       "      <td>-0.323333</td>\n",
       "      <td>0.0280</td>\n",
       "      <td>-0.347000</td>\n",
       "      <td>0.028000</td>\n",
       "      <td>-0.347000</td>\n",
       "      <td>-0.214111</td>\n",
       "    </tr>\n",
       "    <tr>\n",
       "      <th>922981</th>\n",
       "      <th>922983</th>\n",
       "      <td>-0.011167</td>\n",
       "      <td>-0.0125</td>\n",
       "      <td>-0.023833</td>\n",
       "      <td>-0.011167</td>\n",
       "      <td>-0.023833</td>\n",
       "      <td>-0.015833</td>\n",
       "    </tr>\n",
       "    <tr>\n",
       "      <th>922991</th>\n",
       "      <th>922993</th>\n",
       "      <td>-0.045000</td>\n",
       "      <td>-0.0305</td>\n",
       "      <td>-0.056000</td>\n",
       "      <td>-0.030500</td>\n",
       "      <td>-0.056000</td>\n",
       "      <td>-0.043833</td>\n",
       "    </tr>\n",
       "  </tbody>\n",
       "</table>\n",
       "</div>"
      ],
      "text/plain": [
       "                     Tregs-NaiveCD8  Tregs-cm8  Tregs-NaiveCD4  maxdelta  \\\n",
       "chrom start  end                                                           \n",
       "chr1  686388 686390        0.333000     0.3330        0.041667  0.333000   \n",
       "      687193 687195       -0.237500     0.0315       -0.153833  0.031500   \n",
       "      687328 687330       -0.323333     0.0280       -0.347000  0.028000   \n",
       "      922981 922983       -0.011167    -0.0125       -0.023833 -0.011167   \n",
       "      922991 922993       -0.045000    -0.0305       -0.056000 -0.030500   \n",
       "\n",
       "                     mindelta  Avgdelta  \n",
       "chrom start  end                         \n",
       "chr1  686388 686390  0.041667  0.235889  \n",
       "      687193 687195 -0.237500 -0.119944  \n",
       "      687328 687330 -0.347000 -0.214111  \n",
       "      922981 922983 -0.023833 -0.015833  \n",
       "      922991 922993 -0.056000 -0.043833  "
      ]
     },
     "execution_count": 15,
     "metadata": {},
     "output_type": "execute_result"
    }
   ],
   "source": [
    "\n",
    "outdf['maxdelta']=outdf[scorecols].max(axis=1)\n",
    "outdf['mindelta']=outdf[scorecols].min(axis=1)\n",
    "outdf['Avgdelta']=outdf[scorecols].mean(axis=1)\n",
    "\n",
    "outdf.head()"
   ]
  },
  {
   "cell_type": "code",
   "execution_count": 16,
   "metadata": {},
   "outputs": [],
   "source": [
    "outdf.to_csv(outname,sep=\"\\t\")"
   ]
  },
  {
   "cell_type": "code",
   "execution_count": 17,
   "metadata": {},
   "outputs": [
    {
     "name": "stdout",
     "output_type": "stream",
     "text": [
      "0.17872905731201172\n"
     ]
    }
   ],
   "source": [
    "end_time = time.time()\n",
    "\n",
    "time_elapsed = (end_time - start_time)\n",
    "\n",
    "print(time_elapsed)"
   ]
  }
 ],
 "metadata": {
  "kernelspec": {
   "display_name": "Python 3",
   "language": "python",
   "name": "python3"
  },
  "language_info": {
   "codemirror_mode": {
    "name": "ipython",
    "version": 3
   },
   "file_extension": ".py",
   "mimetype": "text/x-python",
   "name": "python",
   "nbconvert_exporter": "python",
   "pygments_lexer": "ipython3",
   "version": "3.6.7"
  }
 },
 "nbformat": 4,
 "nbformat_minor": 2
}
