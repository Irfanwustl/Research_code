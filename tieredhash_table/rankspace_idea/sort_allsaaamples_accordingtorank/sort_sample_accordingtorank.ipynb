{
 "cells": [
  {
   "cell_type": "code",
   "execution_count": 1,
   "metadata": {},
   "outputs": [],
   "source": [
    "import pandas as pd\n",
    "import os\n",
    "import glob\n",
    "import sys\n",
    "\n",
    "inputfol='BL22promfolder_int_rankedbasedtry1'\n",
    "indexfol='rankedbasedtry1'\n",
    "\n",
    "outdir=inputfol+\"_sortedby_\"+os.path.basename(indexfol)\n",
    "os.mkdir(outdir)"
   ]
  },
  {
   "cell_type": "code",
   "execution_count": 2,
   "metadata": {},
   "outputs": [],
   "source": [
    "def listdir_nohidden(path):\n",
    "    return glob.glob(os.path.join(path, '*'))"
   ]
  },
  {
   "cell_type": "code",
   "execution_count": 3,
   "metadata": {},
   "outputs": [],
   "source": [
    "inputfiles=listdir_nohidden(inputfol)\n",
    "indexfiles=listdir_nohidden(indexfol)"
   ]
  },
  {
   "cell_type": "code",
   "execution_count": 4,
   "metadata": {},
   "outputs": [],
   "source": [
    "for indexfile in indexfiles:\n",
    "    res = [i for i in inputfiles if os.path.basename(indexfile) in i]\n",
    "   \n",
    "    \n",
    "    if len(res)!=1:\n",
    "        print(\"error\")\n",
    "        sys.exit(1)\n",
    "        \n",
    "    indexdf=pd.read_csv(indexfile,sep=\"\\t\",header=None)\n",
    "    indexdf.rename(columns={0:'chrom',1:'start',2:'end'},inplace=True)\n",
    "    indexdf.set_index(['chrom','start','end'],inplace=True)\n",
    "    resdf=pd.read_csv(res[0],sep=\"\\t\",index_col=['chrom','start','end'])\n",
    "    \n",
    "    \n",
    "    \n",
    "    \n",
    "\n",
    "\n",
    "    \n",
    "    if indexdf.shape[0]!=resdf.shape[0]:\n",
    "        print(\"error2\")\n",
    "        sys.exit(1)\n",
    "    \n",
    "    sortedres=resdf.reindex(indexdf.index)\n",
    "    \n",
    "    sortedres.to_csv(outdir+\"/\"+os.path.basename(res[0])+\"_sorted.txt\",sep=\"\\t\")\n",
    "    \n",
    "    "
   ]
  }
 ],
 "metadata": {
  "kernelspec": {
   "display_name": "Python 3",
   "language": "python",
   "name": "python3"
  },
  "language_info": {
   "codemirror_mode": {
    "name": "ipython",
    "version": 3
   },
   "file_extension": ".py",
   "mimetype": "text/x-python",
   "name": "python",
   "nbconvert_exporter": "python",
   "pygments_lexer": "ipython3",
   "version": "3.6.7"
  }
 },
 "nbformat": 4,
 "nbformat_minor": 2
}
