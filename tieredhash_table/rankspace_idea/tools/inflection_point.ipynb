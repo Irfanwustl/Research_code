{
 "cells": [
  {
   "cell_type": "code",
   "execution_count": 1,
   "metadata": {},
   "outputs": [
    {
     "data": {
      "text/html": [
       "<div>\n",
       "<style scoped>\n",
       "    .dataframe tbody tr th:only-of-type {\n",
       "        vertical-align: middle;\n",
       "    }\n",
       "\n",
       "    .dataframe tbody tr th {\n",
       "        vertical-align: top;\n",
       "    }\n",
       "\n",
       "    .dataframe thead th {\n",
       "        text-align: right;\n",
       "    }\n",
       "</style>\n",
       "<table border=\"1\" class=\"dataframe\">\n",
       "  <thead>\n",
       "    <tr style=\"text-align: right;\">\n",
       "      <th></th>\n",
       "      <th>index</th>\n",
       "      <th>chrom</th>\n",
       "      <th>start</th>\n",
       "      <th>end</th>\n",
       "      <th>Average delta rank</th>\n",
       "      <th>Minimum delta rank</th>\n",
       "      <th>Tregs-Bcell</th>\n",
       "      <th>Tregs-Myloid</th>\n",
       "      <th>Tregs-NK</th>\n",
       "      <th>Tregs-Naive CD4 T</th>\n",
       "      <th>...</th>\n",
       "      <th>Tregs-CD4 TCM</th>\n",
       "      <th>Tregs-CD8 TCM</th>\n",
       "      <th>Tregs-CD8 TEMRA</th>\n",
       "      <th>Tregs-CD4 TEM</th>\n",
       "      <th>Tregs-CD8 TEM</th>\n",
       "      <th>Minimum delta</th>\n",
       "      <th>Maximum delta</th>\n",
       "      <th>Average delta</th>\n",
       "      <th>(Minimum delta+Average delta)/2</th>\n",
       "      <th>(Minimum delta rank+Average delta rank)/2</th>\n",
       "    </tr>\n",
       "  </thead>\n",
       "  <tbody>\n",
       "    <tr>\n",
       "      <th>0</th>\n",
       "      <td>0</td>\n",
       "      <td>chrX</td>\n",
       "      <td>49260634</td>\n",
       "      <td>49260636</td>\n",
       "      <td>1</td>\n",
       "      <td>0</td>\n",
       "      <td>0.827625</td>\n",
       "      <td>0.900875</td>\n",
       "      <td>0.890667</td>\n",
       "      <td>0.866333</td>\n",
       "      <td>...</td>\n",
       "      <td>0.8230</td>\n",
       "      <td>0.9305</td>\n",
       "      <td>0.8995</td>\n",
       "      <td>0.8330</td>\n",
       "      <td>0.9095</td>\n",
       "      <td>0.823000</td>\n",
       "      <td>0.9305</td>\n",
       "      <td>0.883485</td>\n",
       "      <td>0.853242</td>\n",
       "      <td>0.5</td>\n",
       "    </tr>\n",
       "    <tr>\n",
       "      <th>1</th>\n",
       "      <td>1</td>\n",
       "      <td>chr5</td>\n",
       "      <td>180312122</td>\n",
       "      <td>180312124</td>\n",
       "      <td>2</td>\n",
       "      <td>3</td>\n",
       "      <td>0.755500</td>\n",
       "      <td>0.896818</td>\n",
       "      <td>0.844500</td>\n",
       "      <td>0.901333</td>\n",
       "      <td>...</td>\n",
       "      <td>0.9750</td>\n",
       "      <td>0.9220</td>\n",
       "      <td>1.0000</td>\n",
       "      <td>0.8975</td>\n",
       "      <td>0.7910</td>\n",
       "      <td>0.755500</td>\n",
       "      <td>1.0000</td>\n",
       "      <td>0.880059</td>\n",
       "      <td>0.817780</td>\n",
       "      <td>2.5</td>\n",
       "    </tr>\n",
       "    <tr>\n",
       "      <th>2</th>\n",
       "      <td>2</td>\n",
       "      <td>chr18</td>\n",
       "      <td>3898035</td>\n",
       "      <td>3898037</td>\n",
       "      <td>3</td>\n",
       "      <td>2</td>\n",
       "      <td>0.759000</td>\n",
       "      <td>0.896643</td>\n",
       "      <td>0.924000</td>\n",
       "      <td>0.907000</td>\n",
       "      <td>...</td>\n",
       "      <td>0.8815</td>\n",
       "      <td>0.8335</td>\n",
       "      <td>0.9065</td>\n",
       "      <td>0.8940</td>\n",
       "      <td>0.8890</td>\n",
       "      <td>0.759000</td>\n",
       "      <td>0.9240</td>\n",
       "      <td>0.879013</td>\n",
       "      <td>0.819006</td>\n",
       "      <td>2.5</td>\n",
       "    </tr>\n",
       "    <tr>\n",
       "      <th>3</th>\n",
       "      <td>3</td>\n",
       "      <td>chr2</td>\n",
       "      <td>235763066</td>\n",
       "      <td>235763068</td>\n",
       "      <td>0</td>\n",
       "      <td>6</td>\n",
       "      <td>0.740714</td>\n",
       "      <td>0.822571</td>\n",
       "      <td>0.944500</td>\n",
       "      <td>0.871333</td>\n",
       "      <td>...</td>\n",
       "      <td>0.9200</td>\n",
       "      <td>0.9645</td>\n",
       "      <td>0.9165</td>\n",
       "      <td>0.8000</td>\n",
       "      <td>1.0000</td>\n",
       "      <td>0.740714</td>\n",
       "      <td>1.0000</td>\n",
       "      <td>0.890920</td>\n",
       "      <td>0.815817</td>\n",
       "      <td>3.0</td>\n",
       "    </tr>\n",
       "    <tr>\n",
       "      <th>4</th>\n",
       "      <td>4</td>\n",
       "      <td>chrX</td>\n",
       "      <td>49260621</td>\n",
       "      <td>49260623</td>\n",
       "      <td>7</td>\n",
       "      <td>1</td>\n",
       "      <td>0.823250</td>\n",
       "      <td>0.903937</td>\n",
       "      <td>0.906000</td>\n",
       "      <td>0.827000</td>\n",
       "      <td>...</td>\n",
       "      <td>0.7725</td>\n",
       "      <td>0.8580</td>\n",
       "      <td>0.8605</td>\n",
       "      <td>0.8020</td>\n",
       "      <td>0.8690</td>\n",
       "      <td>0.772500</td>\n",
       "      <td>0.9060</td>\n",
       "      <td>0.852724</td>\n",
       "      <td>0.812612</td>\n",
       "      <td>4.0</td>\n",
       "    </tr>\n",
       "  </tbody>\n",
       "</table>\n",
       "<p>5 rows × 22 columns</p>\n",
       "</div>"
      ],
      "text/plain": [
       "   index  chrom      start        end  Average delta rank  Minimum delta rank  \\\n",
       "0      0   chrX   49260634   49260636                   1                   0   \n",
       "1      1   chr5  180312122  180312124                   2                   3   \n",
       "2      2  chr18    3898035    3898037                   3                   2   \n",
       "3      3   chr2  235763066  235763068                   0                   6   \n",
       "4      4   chrX   49260621   49260623                   7                   1   \n",
       "\n",
       "   Tregs-Bcell  Tregs-Myloid  Tregs-NK  Tregs-Naive CD4 T  ...  Tregs-CD4 TCM  \\\n",
       "0     0.827625      0.900875  0.890667           0.866333  ...         0.8230   \n",
       "1     0.755500      0.896818  0.844500           0.901333  ...         0.9750   \n",
       "2     0.759000      0.896643  0.924000           0.907000  ...         0.8815   \n",
       "3     0.740714      0.822571  0.944500           0.871333  ...         0.9200   \n",
       "4     0.823250      0.903937  0.906000           0.827000  ...         0.7725   \n",
       "\n",
       "   Tregs-CD8 TCM  Tregs-CD8 TEMRA  Tregs-CD4 TEM  Tregs-CD8 TEM  \\\n",
       "0         0.9305           0.8995         0.8330         0.9095   \n",
       "1         0.9220           1.0000         0.8975         0.7910   \n",
       "2         0.8335           0.9065         0.8940         0.8890   \n",
       "3         0.9645           0.9165         0.8000         1.0000   \n",
       "4         0.8580           0.8605         0.8020         0.8690   \n",
       "\n",
       "   Minimum delta  Maximum delta  Average delta  \\\n",
       "0       0.823000         0.9305       0.883485   \n",
       "1       0.755500         1.0000       0.880059   \n",
       "2       0.759000         0.9240       0.879013   \n",
       "3       0.740714         1.0000       0.890920   \n",
       "4       0.772500         0.9060       0.852724   \n",
       "\n",
       "   (Minimum delta+Average delta)/2  (Minimum delta rank+Average delta rank)/2  \n",
       "0                         0.853242                                        0.5  \n",
       "1                         0.817780                                        2.5  \n",
       "2                         0.819006                                        2.5  \n",
       "3                         0.815817                                        3.0  \n",
       "4                         0.812612                                        4.0  \n",
       "\n",
       "[5 rows x 22 columns]"
      ]
     },
     "execution_count": 1,
     "metadata": {},
     "output_type": "execute_result"
    }
   ],
   "source": [
    "import pandas as pd\n",
    "import numpy as np\n",
    "from kneed import KneeLocator\n",
    "import sys\n",
    "infile='/Users/irffanalahi/Research/Research_update/SoftRD/hashtable_stats/tieredApproach/rankspace_idea/debug/Tregs_CpGdelta_info_faster.txt_3000_forheatunderlyingdata_ranked.txt'\n",
    "\n",
    "indf=pd.read_csv(infile,sep='\\t')\n",
    "indf.reset_index(inplace=True)\n",
    "\n",
    "col='(Minimum delta rank+Average delta rank)/2'\n",
    "\n",
    "indf.head()"
   ]
  },
  {
   "cell_type": "code",
   "execution_count": 2,
   "metadata": {},
   "outputs": [],
   "source": [
    "indf['log10'+col]= np.log10(indf[col])"
   ]
  },
  {
   "cell_type": "code",
   "execution_count": 3,
   "metadata": {
    "scrolled": true
   },
   "outputs": [
    {
     "data": {
      "text/plain": [
       "<matplotlib.axes._subplots.AxesSubplot at 0x7fd88a896ef0>"
      ]
     },
     "execution_count": 3,
     "metadata": {},
     "output_type": "execute_result"
    },
    {
     "data": {
      "image/png": "[encoded data removed]",
      "text/plain": [
       "<Figure size 432x288 with 1 Axes>"
      ]
     },
     "metadata": {
      "needs_background": "light"
     },
     "output_type": "display_data"
    }
   ],
   "source": [
    "indf[col].plot()"
   ]
  },
  {
   "cell_type": "code",
   "execution_count": 4,
   "metadata": {},
   "outputs": [
    {
     "data": {
      "text/plain": [
       "<matplotlib.axes._subplots.AxesSubplot at 0x7fd88aa009e8>"
      ]
     },
     "execution_count": 4,
     "metadata": {},
     "output_type": "execute_result"
    },
    {
     "data": {
      "image/png": "[encoded data removed]",
      "text/plain": [
       "<Figure size 432x288 with 1 Axes>"
      ]
     },
     "metadata": {
      "needs_background": "light"
     },
     "output_type": "display_data"
    }
   ],
   "source": [
    "indf['log10'+col].plot()"
   ]
  },
  {
   "cell_type": "code",
   "execution_count": 5,
   "metadata": {},
   "outputs": [],
   "source": [
    "def NormalizeData(data):\n",
    "    return (data - np.min(data)) / (np.max(data) - np.min(data))"
   ]
  },
  {
   "cell_type": "code",
   "execution_count": 6,
   "metadata": {},
   "outputs": [],
   "source": [
    "indf['log10'+col+'_normalized']=NormalizeData(indf['log10'+col])\n",
    "\n",
    "indf['Norm_index']=NormalizeData(indf['index'])"
   ]
  },
  {
   "cell_type": "code",
   "execution_count": 9,
   "metadata": {},
   "outputs": [
    {
     "data": {
      "text/plain": [
       "<matplotlib.axes._subplots.AxesSubplot at 0x7fd88bb55ba8>"
      ]
     },
     "execution_count": 9,
     "metadata": {},
     "output_type": "execute_result"
    },
    {
     "data": {
      "image/png": "[encoded data removed]",
      "text/plain": [
       "<Figure size 432x288 with 1 Axes>"
      ]
     },
     "metadata": {
      "needs_background": "light"
     },
     "output_type": "display_data"
    }
   ],
   "source": [
    "indf.plot.scatter(y='log10'+col+'_normalized',x='Norm_index')"
   ]
  },
  {
   "cell_type": "code",
   "execution_count": null,
   "metadata": {},
   "outputs": [],
   "source": [
    "kn = KneeLocator(y=indf['log10'+col], x=indf.index.tolist(), curve='concave', direction='increasing',S=4.0)\n",
    "print(kn.knee)\n",
    "kn.plot_knee()\n"
   ]
  },
  {
   "cell_type": "code",
   "execution_count": null,
   "metadata": {},
   "outputs": [],
   "source": [
    "kn.plot_knee_normalized()"
   ]
  }
 ],
 "metadata": {
  "kernelspec": {
   "display_name": "Python 3",
   "language": "python",
   "name": "python3"
  },
  "language_info": {
   "codemirror_mode": {
    "name": "ipython",
    "version": 3
   },
   "file_extension": ".py",
   "mimetype": "text/x-python",
   "name": "python",
   "nbconvert_exporter": "python",
   "pygments_lexer": "ipython3",
   "version": "3.6.7"
  }
 },
 "nbformat": 4,
 "nbformat_minor": 2
}
