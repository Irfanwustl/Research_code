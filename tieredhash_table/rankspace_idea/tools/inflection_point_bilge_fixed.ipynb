{
 "cells": [
  {
   "cell_type": "code",
   "execution_count": 1,
   "metadata": {},
   "outputs": [],
   "source": [
    "import pandas as pd\n",
    "import numpy as np\n",
    "import os\n",
    "import sys\n",
    "import matplotlib.pyplot as plt\n",
    "infol = '/Users/irffanalahi/Research/Research_update/SoftRD/hashtable_stats/tieredApproach/Epcam_blue/UsingPdac/PDAC_epcam_rankedV1'\n",
    "\n",
    "#col='(OwnGroup_avg_delta rank+OtherGroup_avg_delta rank)/2'\n",
    "col='(Minimum delta rank+Average delta rank)/2'\n",
    "infiles = os.listdir(infol)\n",
    "if '.ipynb_checkpoints' in infiles:\n",
    "    infiles.remove('.ipynb_checkpoints')\n",
    "if '.DS_Store' in infiles:\n",
    "    infiles.remove('.DS_Store')\n",
    "    \n",
    "outfol = infol + '_figures'\n",
    "os.mkdir(infol + '_figures')\n",
    "\n",
    "outfolpos = infol + '_inflectionpos'\n",
    "os.mkdir(outfolpos)"
   ]
  },
  {
   "cell_type": "code",
   "execution_count": 2,
   "metadata": {
    "jupyter": {
     "outputs_hidden": true
    }
   },
   "outputs": [
    {
     "name": "stdout",
     "output_type": "stream",
     "text": [
      "248\n"
     ]
    },
    {
     "data": {
      "image/png": "[encoded data removed]",
      "text/plain": [
       "<Figure size 504x504 with 1 Axes>"
      ]
     },
     "metadata": {
      "needs_background": "light"
     },
     "output_type": "display_data"
    },
    {
     "data": {
      "image/png": "[encoded data removed]",
      "text/plain": [
       "<Figure size 504x504 with 1 Axes>"
      ]
     },
     "metadata": {
      "needs_background": "light"
     },
     "output_type": "display_data"
    }
   ],
   "source": [
    "def NormalizeData(data):\n",
    "    return (data - np.min(data)) / (np.max(data) - np.min(data))\n",
    "\n",
    "cell_dict = {}\n",
    "for file in infiles:\n",
    "    infile = infol + '/' + file\n",
    "    cell = file.split('_')[0]\n",
    "    indf=pd.read_csv(infile,sep='\\t')\n",
    "    indf.reset_index(inplace=True)\n",
    "   \n",
    "    indf['log10'+col]= np.log10(np.array(indf[col]) + 1e-6)\n",
    "    indf['log10'+col+'_normalized']=NormalizeData(indf['log10'+col])\n",
    "    indf['Norm_index']=NormalizeData(indf['index'])\n",
    "    spec = 1 - np.array(indf['Norm_index'])\n",
    "    sens = np.array(indf['log10'+col+'_normalized'])\n",
    "    gmeans = np.sqrt(sens * spec)\n",
    "    ix = np.argmax(gmeans)\n",
    "    thresh_x = np.array(indf['Norm_index'])[ix]\n",
    "    thresh_y = sens[ix]\n",
    "    fig1, ax1 = plt.subplots(1, 1, figsize=(7,7))\n",
    "    ax1.scatter(np.array(indf['Norm_index']), np.array(indf['log10'+col+'_normalized']))\n",
    "    ax1.plot([thresh_x, thresh_x], [min(np.array(indf['Norm_index'])), max(np.array(indf['Norm_index']))], c='k', ls='--', lw=2.5)\n",
    "    ax1.scatter([thresh_x], [thresh_y], c='r', s=50)\n",
    "    ax1.set_xlabel('#ranked CpG')\n",
    "    ax1.set_ylabel('log '+col)\n",
    "    ax1.set_title(cell)\n",
    "    fig1.savefig(outfol + '/' + file + '_roc_curve_normalized.pdf', bbox_inches='tight')\n",
    "    # print('\\nThreshold: \\nx =', np.array(indf['index'])[ix], '\\ny =', np.array(indf['log10'+col])[ix])\n",
    "    cell_dict[cell] = [np.array(indf['index'])[ix]]\n",
    "    \n",
    "    #####pos######\n",
    "    print(np.array(indf['index'])[ix])\n",
    "    (indf.head(n=np.array(indf['index'])[ix]+1))[['chrom','start','end']].to_csv(outfolpos + '/' + file +\"_pos.txt\",sep='\\t',index=None,header=None)\n",
    "    #############\n",
    "    \n",
    "    fig2, ax2 = plt.subplots(1, 1, figsize=(7,7))\n",
    "    ax2.scatter(np.array(indf['index']), np.array(indf['log10'+col]))\n",
    "    ax2.plot([np.array(indf['index'])[ix], np.array(indf['index'])[ix]], [min(np.array(indf['log10'+col])), max(np.array(indf['log10'+col]))], c='k', ls='--', lw=2.5)\n",
    "    ax2.scatter([np.array(indf.index)[ix]], [np.array(indf['log10'+col])[ix]], c='r', s=50)\n",
    "    ax2.set_xlabel('#ranked CpG')\n",
    "    ax2.set_ylabel('log '+col)\n",
    "    ax2.set_title(cell)\n",
    "    fig2.savefig(outfol + '/' + file + '_roc_curve.pdf', bbox_inches='tight')"
   ]
  },
  {
   "cell_type": "code",
   "execution_count": 3,
   "metadata": {},
   "outputs": [
    {
     "data": {
      "text/html": [
       "<div>\n",
       "<style scoped>\n",
       "    .dataframe tbody tr th:only-of-type {\n",
       "        vertical-align: middle;\n",
       "    }\n",
       "\n",
       "    .dataframe tbody tr th {\n",
       "        vertical-align: top;\n",
       "    }\n",
       "\n",
       "    .dataframe thead th {\n",
       "        text-align: right;\n",
       "    }\n",
       "</style>\n",
       "<table border=\"1\" class=\"dataframe\">\n",
       "  <thead>\n",
       "    <tr style=\"text-align: right;\">\n",
       "      <th></th>\n",
       "      <th>Index</th>\n",
       "    </tr>\n",
       "  </thead>\n",
       "  <tbody>\n",
       "    <tr>\n",
       "      <th>EPCAM</th>\n",
       "      <td>248</td>\n",
       "    </tr>\n",
       "  </tbody>\n",
       "</table>\n",
       "</div>"
      ],
      "text/plain": [
       "       Index\n",
       "EPCAM    248"
      ]
     },
     "execution_count": 3,
     "metadata": {},
     "output_type": "execute_result"
    }
   ],
   "source": [
    "df_index = pd.DataFrame.from_dict(cell_dict, columns=['Index'], orient='index')\n",
    "df_index.to_csv(infol + '_index.txt',sep='\\t')\n",
    "df_index"
   ]
  },
  {
   "cell_type": "code",
   "execution_count": 4,
   "metadata": {},
   "outputs": [],
   "source": [
    "indf['log10'+col+'_normalized']=NormalizeData(indf['log10'+col])\n",
    "\n",
    "indf['Norm_index']=NormalizeData(indf['index'])"
   ]
  },
  {
   "cell_type": "code",
   "execution_count": 5,
   "metadata": {},
   "outputs": [],
   "source": [
    "#indf.plot.scatter(y='log10'+col+'_normalized',x='Norm_index')"
   ]
  },
  {
   "cell_type": "code",
   "execution_count": 6,
   "metadata": {},
   "outputs": [],
   "source": [
    "spec = 1 - np.array(indf['Norm_index'])\n",
    "sens = np.array(indf['log10'+col+'_normalized'])\n",
    "gmeans = np.sqrt(sens * spec)\n",
    "ix = np.argmax(gmeans)\n",
    "thresh_x = np.array(indf['Norm_index'])[ix]\n",
    "thresh_y = sens[ix]"
   ]
  },
  {
   "cell_type": "code",
   "execution_count": 7,
   "metadata": {},
   "outputs": [
    {
     "name": "stdout",
     "output_type": "stream",
     "text": [
      "Normalized Threshold: \n",
      "x = 0.04960992198439688 \n",
      "y = 0.8680450227381523\n",
      "\n",
      "Threshold: \n",
      "x = 248 \n",
      "y = 2.4448252010691536\n"
     ]
    },
    {
     "data": {
      "image/png": "[encoded data removed]",
      "text/plain": [
       "<Figure size 432x288 with 1 Axes>"
      ]
     },
     "metadata": {
      "needs_background": "light"
     },
     "output_type": "display_data"
    }
   ],
   "source": [
    "import matplotlib.pyplot as plt\n",
    "plt.scatter(np.array(indf['Norm_index']), np.array(indf['log10'+col+'_normalized']))\n",
    "plt.plot([thresh_x, thresh_x], [min(np.array(indf['Norm_index'])), max(np.array(indf['Norm_index']))], c='k', ls='--', lw=2.5)\n",
    "plt.scatter([thresh_x], [thresh_y], c='r', s=50)\n",
    "print('Normalized Threshold: \\nx =', thresh_x, '\\ny =', thresh_y)\n",
    "print('\\nThreshold: \\nx =', np.array(indf.index)[ix], '\\ny =', np.array(indf['log10'+col])[ix])\n",
    "#plt.savefig(infile + '_roc_curve.pdf', bbox_inches='tight')"
   ]
  },
  {
   "cell_type": "code",
   "execution_count": null,
   "metadata": {},
   "outputs": [],
   "source": []
  },
  {
   "cell_type": "code",
   "execution_count": null,
   "metadata": {},
   "outputs": [],
   "source": []
  }
 ],
 "metadata": {
  "kernelspec": {
   "display_name": "Python 3",
   "language": "python",
   "name": "python3"
  },
  "language_info": {
   "codemirror_mode": {
    "name": "ipython",
    "version": 3
   },
   "file_extension": ".py",
   "mimetype": "text/x-python",
   "name": "python",
   "nbconvert_exporter": "python",
   "pygments_lexer": "ipython3",
   "version": "3.6.7"
  }
 },
 "nbformat": 4,
 "nbformat_minor": 4
}
