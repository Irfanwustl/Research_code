{
 "cells": [
  {
   "cell_type": "code",
   "execution_count": 1,
   "metadata": {},
   "outputs": [],
   "source": [
    "import subprocess\n",
    "import glob\n",
    "import os\n",
    "import re\n",
    "\n",
    "rankfolder='/Users/irffanalahi/Research/Research_update/SoftRD/hashtable_stats/tieredApproach/rankspace_idea/GSEA_run/rankedCT_v1_cin'\n",
    "smfolder='/Users/irffanalahi/Research/Research_update/SoftRD/hashtable_stats/tieredApproach/rankspace_idea/GSEA_run/TieredV2_overfit_rankedctv1'\n"
   ]
  },
  {
   "cell_type": "code",
   "execution_count": 2,
   "metadata": {},
   "outputs": [],
   "source": [
    "def listdir_nohidden(path):\n",
    "    return glob.glob(os.path.join(path, '*'))"
   ]
  },
  {
   "cell_type": "code",
   "execution_count": 3,
   "metadata": {},
   "outputs": [],
   "source": [
    "rankfiles=listdir_nohidden(rankfolder)\n",
    "smfiles=listdir_nohidden(smfolder)"
   ]
  },
  {
   "cell_type": "code",
   "execution_count": 4,
   "metadata": {},
   "outputs": [],
   "source": [
    "for sm in smfiles:\n",
    "    m = re.search('g1_(.+?)_', os.path.basename(sm))\n",
    "    if m:\n",
    "        found = m.group(1)\n",
    "\n",
    "    else:\n",
    "        print(\"found=\",found)\n",
    "        print(\"exiting\")\n",
    "\n",
    "        sys.exit(1)\n",
    "\n",
    "\n",
    "\n",
    "\n",
    "    celltype=found\n",
    "    \n",
    "    \n",
    "    res = [i for i in rankfiles if celltype in i]\n",
    "    \n",
    "    \n",
    "    #print(res)\n",
    "    if len(res)==1:\n",
    "        subprocess.call ([\"Rscript\",\"fgsea_meth.R\",res[0] ,sm ])"
   ]
  },
  {
   "cell_type": "code",
   "execution_count": 5,
   "metadata": {},
   "outputs": [
    {
     "data": {
      "text/plain": [
       "'\\nrankfile=\"BL22_all_matrix_promdata_intwith_Tregs_CpGdelta_info_faster.txt_3000_forheatunderlyingdata_ranked_pos.txt_sorted.txt_cyberin\"\\ngenefile=\"BL22_all_matrix_promdata_intwith_SMTregs_51pos_cyberin.txt\"\\n\\nsubprocess.call ([\"Rscript\",\"fgsea_meth.R\",rankfile ,genefile ])\\n'"
      ]
     },
     "execution_count": 5,
     "metadata": {},
     "output_type": "execute_result"
    }
   ],
   "source": [
    "\n",
    "'''\n",
    "rankfile=\"BL22_all_matrix_promdata_intwith_Tregs_CpGdelta_info_faster.txt_3000_forheatunderlyingdata_ranked_pos.txt_sorted.txt_cyberin\"\n",
    "genefile=\"BL22_all_matrix_promdata_intwith_SMTregs_51pos_cyberin.txt\"\n",
    "\n",
    "subprocess.call ([\"Rscript\",\"fgsea_meth.R\",rankfile ,genefile ])\n",
    "'''"
   ]
  }
 ],
 "metadata": {
  "kernelspec": {
   "display_name": "Python 3",
   "language": "python",
   "name": "python3"
  },
  "language_info": {
   "codemirror_mode": {
    "name": "ipython",
    "version": 3
   },
   "file_extension": ".py",
   "mimetype": "text/x-python",
   "name": "python",
   "nbconvert_exporter": "python",
   "pygments_lexer": "ipython3",
   "version": "3.6.7"
  }
 },
 "nbformat": 4,
 "nbformat_minor": 2
}
