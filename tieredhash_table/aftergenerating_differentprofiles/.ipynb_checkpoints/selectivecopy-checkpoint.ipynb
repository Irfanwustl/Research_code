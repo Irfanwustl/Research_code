{
 "cells": [
  {
   "cell_type": "code",
   "execution_count": 1,
   "metadata": {},
   "outputs": [],
   "source": [
    "import pandas as pd \n",
    "import sys\n",
    "import os.path\n",
    "import shutil\n",
    "\n",
    "import re\n",
    "\n",
    "import glob\n",
    "import os"
   ]
  },
  {
   "cell_type": "code",
   "execution_count": 2,
   "metadata": {},
   "outputs": [],
   "source": [
    "def listdir_nohidden(path):\n",
    "    return glob.glob(os.path.join(path, '*'))"
   ]
  },
  {
   "cell_type": "code",
   "execution_count": 3,
   "metadata": {},
   "outputs": [
    {
     "data": {
      "text/plain": [
       "'/Users/irffanalahi/Research/Research_update/SoftRD/hashtable_stats/tieredApproach/BL22_groupv2/em4_cm4/em4_thresholdpos_allthresholdcombinations/g1_em4_g2_Tcellem4_-0.6_int_g1_em4_g2_Bcellem4_-0.6_int_g1_em4_g2_PMNlikeem4_-0.2_int_g1_em4_g2_Myloidem4_-0.4'"
      ]
     },
     "execution_count": 3,
     "metadata": {},
     "output_type": "execute_result"
    }
   ],
   "source": [
    "infol='/Users/irffanalahi/Research/Research_update/SoftRD/hashtable_stats/tieredApproach/BL22_groupv2/em4_cm4/em4_thresholdpos_allthresholdcombinations'\n",
    "linecountfile='/Users/irffanalahi/Research/Research_update/SoftRD/hashtable_stats/tieredApproach/BL22_groupv2/em4_cm4/em4_thresholdpos_allthresholdcombinations_Shoonhsin_avg_and_linecount.txt'\n",
    "\n",
    "outfol=infol+'_'+str(avgvalcutoff)+'_'+lincountcutoff\n",
    "avgvalcutoff=0.5\n",
    "lincountcutoff=100\n",
    "\n",
    "outfol=infol+'_'+str(avgvalcutoff)+'_'+lincountcutoff\n",
    "\n",
    "allfiles=listdir_nohidden(infol)\n",
    "\n",
    "allfiles[0]"
   ]
  },
  {
   "cell_type": "code",
   "execution_count": 4,
   "metadata": {},
   "outputs": [
    {
     "data": {
      "text/html": [
       "<div>\n",
       "<style scoped>\n",
       "    .dataframe tbody tr th:only-of-type {\n",
       "        vertical-align: middle;\n",
       "    }\n",
       "\n",
       "    .dataframe tbody tr th {\n",
       "        vertical-align: top;\n",
       "    }\n",
       "\n",
       "    .dataframe thead th {\n",
       "        text-align: right;\n",
       "    }\n",
       "</style>\n",
       "<table border=\"1\" class=\"dataframe\">\n",
       "  <thead>\n",
       "    <tr style=\"text-align: right;\">\n",
       "      <th></th>\n",
       "      <th>Filename</th>\n",
       "      <th>Average Value</th>\n",
       "      <th>Line Count</th>\n",
       "    </tr>\n",
       "  </thead>\n",
       "  <tbody>\n",
       "    <tr>\n",
       "      <th>0</th>\n",
       "      <td>g1_em4_g2_Tcellem4_-0.6_int_g1_em4_g2_Bcellem4...</td>\n",
       "      <td>0.45</td>\n",
       "      <td>464</td>\n",
       "    </tr>\n",
       "    <tr>\n",
       "      <th>1</th>\n",
       "      <td>g1_em4_g2_Tcellem4_-0.2_int_g1_em4_g2_Bcellem4...</td>\n",
       "      <td>0.35</td>\n",
       "      <td>2110</td>\n",
       "    </tr>\n",
       "    <tr>\n",
       "      <th>2</th>\n",
       "      <td>g1_em4_g2_Tcellem4_-0.2_int_g1_em4_g2_Bcellem4...</td>\n",
       "      <td>0.55</td>\n",
       "      <td>4999</td>\n",
       "    </tr>\n",
       "    <tr>\n",
       "      <th>3</th>\n",
       "      <td>g1_em4_g2_Tcellem4_-0.2_int_g1_em4_g2_Bcellem4...</td>\n",
       "      <td>0.25</td>\n",
       "      <td>241755</td>\n",
       "    </tr>\n",
       "    <tr>\n",
       "      <th>4</th>\n",
       "      <td>g1_em4_g2_Tcellem4_-0.2_int_g1_em4_g2_Bcellem4...</td>\n",
       "      <td>0.60</td>\n",
       "      <td>3629</td>\n",
       "    </tr>\n",
       "  </tbody>\n",
       "</table>\n",
       "</div>"
      ],
      "text/plain": [
       "                                            Filename  Average Value  \\\n",
       "0  g1_em4_g2_Tcellem4_-0.6_int_g1_em4_g2_Bcellem4...           0.45   \n",
       "1  g1_em4_g2_Tcellem4_-0.2_int_g1_em4_g2_Bcellem4...           0.35   \n",
       "2  g1_em4_g2_Tcellem4_-0.2_int_g1_em4_g2_Bcellem4...           0.55   \n",
       "3  g1_em4_g2_Tcellem4_-0.2_int_g1_em4_g2_Bcellem4...           0.25   \n",
       "4  g1_em4_g2_Tcellem4_-0.2_int_g1_em4_g2_Bcellem4...           0.60   \n",
       "\n",
       "   Line Count  \n",
       "0         464  \n",
       "1        2110  \n",
       "2        4999  \n",
       "3      241755  \n",
       "4        3629  "
      ]
     },
     "execution_count": 4,
     "metadata": {},
     "output_type": "execute_result"
    }
   ],
   "source": [
    "lincounttdf=pd.read_csv(linecountfile,sep='\\t')\n",
    "lincounttdf.head()"
   ]
  },
  {
   "cell_type": "code",
   "execution_count": 5,
   "metadata": {},
   "outputs": [
    {
     "data": {
      "text/plain": [
       "(95, 3)"
      ]
     },
     "execution_count": 5,
     "metadata": {},
     "output_type": "execute_result"
    }
   ],
   "source": [
    "lincounttdfcutoff=lincounttdf[(lincounttdf['Average Value']>=avgvalcutoff) & (lincounttdf['Line Count']>=lincountcutoff)]\n",
    "lincounttdfcutoff.shape"
   ]
  },
  {
   "cell_type": "code",
   "execution_count": null,
   "metadata": {},
   "outputs": [],
   "source": []
  }
 ],
 "metadata": {
  "kernelspec": {
   "display_name": "Python 3",
   "language": "python",
   "name": "python3"
  },
  "language_info": {
   "codemirror_mode": {
    "name": "ipython",
    "version": 3
   },
   "file_extension": ".py",
   "mimetype": "text/x-python",
   "name": "python",
   "nbconvert_exporter": "python",
   "pygments_lexer": "ipython3",
   "version": "3.6.7"
  }
 },
 "nbformat": 4,
 "nbformat_minor": 2
}
