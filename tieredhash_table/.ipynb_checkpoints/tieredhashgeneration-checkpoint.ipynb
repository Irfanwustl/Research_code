{
 "cells": [
  {
   "cell_type": "code",
   "execution_count": 1,
   "metadata": {},
   "outputs": [],
   "source": [
    "import pandas as pd\n",
    "reffile='promdataready_all_matrixCin_head.txt'\n",
    "phenfile='CD8TIL_PHENOCLASS.txt'\n",
    "compartmentfile='CD8TIL_PHENOCLASS_compartment.txt'\n",
    "NA_tolerate_rate=0.5\n",
    "\n",
    "outfolder='testoutmultithreaded'\n",
    "\n",
    "\n",
    "refdf=pd.read_csv(reffile,sep=\"\\t\",index_col=0)\n",
    "phendf=pd.read_csv(phenfile,sep=\"\\t\",header=None,index_col=0)\n",
    "compartmentdf=pd.read_csv(compartmentfile,sep=\"\\t\",header=None,index_col=0)\n"
   ]
  },
  {
   "cell_type": "code",
   "execution_count": 2,
   "metadata": {},
   "outputs": [],
   "source": [
    "naindex=refdf.isna() "
   ]
  },
  {
   "cell_type": "code",
   "execution_count": 3,
   "metadata": {},
   "outputs": [],
   "source": [
    "def NaHandle(listoflistofindeces): #class1indices,class2indices\n",
    "    \n",
    "    allnoselindex=[]   \n",
    "    \n",
    "    for currentclassindeces in listoflistofindeces:\n",
    "       \n",
    "        currentclassindecesTOTAL=sum(currentclassindeces)\n",
    "        currentclassindecescutoff=currentclassindecesTOTAL*NA_tolerate_rate*1.0\n",
    "        tmp=naindex.iloc[:, currentclassindeces]\n",
    "        tmpsum=tmp.sum(axis=1)\n",
    "        tmpsumselectedindex=tmpsum[tmpsum>currentclassindecescutoff].index\n",
    "        allnoselindex.append(tmpsumselectedindex.tolist())\n",
    "    \n",
    "    allnoselindex = [x for sublist in allnoselindex for x in sublist]\n",
    "\n",
    "    allnoselindex=list(set(allnoselindex))\n",
    "\n",
    "    NAoutdf = refdf[~refdf.index.isin(allnoselindex)]\n",
    "    \n",
    "    #NAoutdf.to_csv('testNA.txt',sep='\\t')\n",
    "    \n",
    "    return NAoutdf\n",
    "\n",
    "    \n",
    "\n",
    "def rowmeanANDothermean(outdffrom_NaHandle,profileclassindices,compartmentaginstindices,profileclassname,compartmentagainstname):\n",
    "    \n",
    "    \n",
    "    profilemean=outdffrom_NaHandle.iloc[:, profileclassindices].mean(axis=1)\n",
    "    profilemeantempdf=profilemean.to_frame(profileclassname)\n",
    "    \n",
    "    compareagainstmean=outdffrom_NaHandle.iloc[:, compartmentaginstindices].mean(axis=1)\n",
    "    compareagainstmeantempdf=compareagainstmean.to_frame(compartmentagainstname)\n",
    "    \n",
    "    rowmeandf=pd.concat([profilemeantempdf,compareagainstmeantempdf],axis=1)\n",
    "    \n",
    "    \n",
    "    \n",
    "    #rowmeandf.to_csv('testRowMean.txt',sep='\\t')\n",
    "\n",
    "    \n",
    "    rowmeandf[profileclassname+\"-others\"]=rowmeandf[profileclassname]-rowmeandf[compartmentagainstname]\n",
    "    rowmeandf[compartmentagainstname+\"-others\"]=rowmeandf[compartmentagainstname]-rowmeandf[profileclassname]\n",
    "    \n",
    "    rowmeandf=rowmeandf[[profileclassname+\"-others\",compartmentagainstname+\"-others\"]]\n",
    "    rowmeandf.to_csv(outfolder+\"/g1_\"+profileclassname+\"_g2_\"+compartmentagainstname,sep='\\t')\n",
    "    "
   ]
  },
  {
   "cell_type": "code",
   "execution_count": 4,
   "metadata": {},
   "outputs": [],
   "source": [
    "def coreAlgo(class1indices,class2indices,class1name,class2name):\n",
    "    ###nahandle\n",
    "    NAresult=NaHandle([class1indices,class2indices])\n",
    "    \n",
    "    ###imputer (probably no need)   #######\n",
    "    rowmeanANDothermean(NAresult,class1indices,class2indices,class1name,class2name)\n",
    "    ###othermean"
   ]
  },
  {
   "cell_type": "code",
   "execution_count": 5,
   "metadata": {},
   "outputs": [],
   "source": [
    "for i in range(phendf.shape[0]):\n",
    "    classes = phendf.iloc[i, :]\n",
    "    class1 = (classes == 1).tolist()\n",
    "    allclass2 = (classes == 2).tolist()\n",
    "    \n",
    "   \n",
    "    \n",
    "    for j in range(compartmentdf.shape[0]):\n",
    "        compartmentclasses = compartmentdf.iloc[j, :]\n",
    "        \n",
    "        ###find compartment class memeber###\n",
    "        compartmentclass1=(compartmentclasses==1).tolist()\n",
    "        \n",
    "        ###find which files to compare against from this compartment ######## \n",
    "        compare_against_from_this_compartment=[allclass2 and compartmentclass1 for allclass2, compartmentclass1 in zip(allclass2, compartmentclass1)]\n",
    "        \n",
    "        \n",
    "        if True in compare_against_from_this_compartment:\n",
    "            \n",
    "            coreAlgo(class1,compare_against_from_this_compartment,phendf.index[i],compartmentdf.index[j])\n",
    "            \n",
    "            \n",
    "           "
   ]
  }
 ],
 "metadata": {
  "kernelspec": {
   "display_name": "Python 3",
   "language": "python",
   "name": "python3"
  },
  "language_info": {
   "codemirror_mode": {
    "name": "ipython",
    "version": 3
   },
   "file_extension": ".py",
   "mimetype": "text/x-python",
   "name": "python",
   "nbconvert_exporter": "python",
   "pygments_lexer": "ipython3",
   "version": "3.6.7"
  }
 },
 "nbformat": 4,
 "nbformat_minor": 2
}
