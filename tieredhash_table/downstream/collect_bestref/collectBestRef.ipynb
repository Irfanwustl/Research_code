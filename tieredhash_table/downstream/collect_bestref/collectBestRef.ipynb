{
 "cells": [
  {
   "cell_type": "code",
   "execution_count": 1,
   "metadata": {},
   "outputs": [
    {
     "data": {
      "text/html": [
       "<div>\n",
       "<style scoped>\n",
       "    .dataframe tbody tr th:only-of-type {\n",
       "        vertical-align: middle;\n",
       "    }\n",
       "\n",
       "    .dataframe tbody tr th {\n",
       "        vertical-align: top;\n",
       "    }\n",
       "\n",
       "    .dataframe thead th {\n",
       "        text-align: right;\n",
       "    }\n",
       "</style>\n",
       "<table border=\"1\" class=\"dataframe\">\n",
       "  <thead>\n",
       "    <tr style=\"text-align: right;\">\n",
       "      <th></th>\n",
       "      <th>Cells</th>\n",
       "      <th>Files</th>\n",
       "    </tr>\n",
       "  </thead>\n",
       "  <tbody>\n",
       "    <tr>\n",
       "      <th>0</th>\n",
       "      <td>cm4</td>\n",
       "      <td>g1_cm4_g2_Myloidcm4_-0.8_int_g1_cm4_g2_Bcellcm...</td>\n",
       "    </tr>\n",
       "    <tr>\n",
       "      <th>1</th>\n",
       "      <td>nB</td>\n",
       "      <td>g1_nB_g2_PMNlikenB_-0.8_int_g1_nB_g2_TcellnB_-...</td>\n",
       "    </tr>\n",
       "    <tr>\n",
       "      <th>2</th>\n",
       "      <td>M1</td>\n",
       "      <td>g1_M1_g2_PMNlikeM1_-0.6_int_g1_M1_g2_TcellM1_-...</td>\n",
       "    </tr>\n",
       "    <tr>\n",
       "      <th>3</th>\n",
       "      <td>Tregs</td>\n",
       "      <td>g1_Tregs_g2_PMNlikeTregs_-0.8_int_g1_Tregs_g2_...</td>\n",
       "    </tr>\n",
       "    <tr>\n",
       "      <th>4</th>\n",
       "      <td>mB</td>\n",
       "      <td>g1_mB_g2_TcellmB_-0.8_int_g1_mB_g2_MyloidmB_-0...</td>\n",
       "    </tr>\n",
       "  </tbody>\n",
       "</table>\n",
       "</div>"
      ],
      "text/plain": [
       "   Cells                                              Files\n",
       "0    cm4  g1_cm4_g2_Myloidcm4_-0.8_int_g1_cm4_g2_Bcellcm...\n",
       "1     nB  g1_nB_g2_PMNlikenB_-0.8_int_g1_nB_g2_TcellnB_-...\n",
       "2     M1  g1_M1_g2_PMNlikeM1_-0.6_int_g1_M1_g2_TcellM1_-...\n",
       "3  Tregs  g1_Tregs_g2_PMNlikeTregs_-0.8_int_g1_Tregs_g2_...\n",
       "4     mB  g1_mB_g2_TcellmB_-0.8_int_g1_mB_g2_MyloidmB_-0..."
      ]
     },
     "execution_count": 1,
     "metadata": {},
     "output_type": "execute_result"
    }
   ],
   "source": [
    "import pandas as pd\n",
    "import glob\n",
    "import os\n",
    "import sys\n",
    "import shutil\n",
    "\n",
    "bestreffile='/Users/irffanalahi/Research/Research_update/SoftRD/hashtable_stats/tieredApproach/BL22_groupv2/All/Alllinked/fromBilge/allct_subset_linecount_txt_filelist.txt'\n",
    "\n",
    "\n",
    "\n",
    "#####it can be both position and final SM like locations\n",
    "locationofrefs='/Users/irffanalahi/Research/Research_update/SoftRD/hashtable_stats/tieredApproach/BL22_groupv2/All/Alllinked/allct'\n",
    "outdir=locationofrefs+\"_bestref\"\n",
    "os.mkdir(outdir)\n",
    "\n",
    "bestreffiledf=pd.read_csv(bestreffile,sep='\\t')\n",
    "bestreffiledf.head()"
   ]
  },
  {
   "cell_type": "code",
   "execution_count": 2,
   "metadata": {},
   "outputs": [],
   "source": [
    "def listdir_nohidden(path):\n",
    "    return glob.glob(os.path.join(path, '*'))"
   ]
  },
  {
   "cell_type": "code",
   "execution_count": 3,
   "metadata": {},
   "outputs": [
    {
     "data": {
      "text/plain": [
       "21"
      ]
     },
     "execution_count": 3,
     "metadata": {},
     "output_type": "execute_result"
    }
   ],
   "source": [
    "locationofrefSubDir=listdir_nohidden(locationofrefs)\n",
    "len(locationofrefSubDir)"
   ]
  },
  {
   "cell_type": "code",
   "execution_count": 4,
   "metadata": {},
   "outputs": [
    {
     "name": "stdout",
     "output_type": "stream",
     "text": [
      "Tregs\n",
      "ed8\n",
      "cm8\n",
      "NK\n",
      "em8\n",
      "NaiveCD4\n",
      "PMN\n",
      "Eo\n",
      "Er\n",
      "cm4\n",
      "mB\n",
      "nB\n",
      "mDC\n",
      "Mg\n",
      "iDC\n",
      "Mono\n",
      "NaiveCD8\n",
      "M2\n",
      "M1\n",
      "em4\n",
      "M0\n"
     ]
    }
   ],
   "source": [
    "for asubdir in locationofrefSubDir:\n",
    "    whichct=os.path.basename(asubdir).split('_')[0]\n",
    "    \n",
    "    \n",
    "    print(whichct)\n",
    "    \n",
    "    corressbestref=bestreffiledf[bestreffiledf['Cells']==whichct]['Files'].tolist()[0]\n",
    "    \n",
    "    \n",
    "    \n",
    "    \n",
    "    allfiles=listdir_nohidden(asubdir)\n",
    "    \n",
    "    \n",
    "    \n",
    "    \n",
    "    matching = [s for s in allfiles if corressbestref in s]\n",
    "    \n",
    "    if len(matching)!=1:\n",
    "        print(\"Error.Exit\")\n",
    "        sys.exit(1)\n",
    "    \n",
    "    sothematchingfile=matching[0]\n",
    "    sothematchingfileBase=os.path.basename(sothematchingfile)\n",
    "    if corressbestref not in sothematchingfileBase:\n",
    "        print(\"Error2.Exit\")\n",
    "        sys.exit(1)\n",
    "    \n",
    "    \n",
    "    outname=outdir+\"/\"+sothematchingfileBase\n",
    "    \n",
    "    \n",
    "    shutil.copyfile(sothematchingfile, outname)\n"
   ]
  },
  {
   "cell_type": "code",
   "execution_count": 5,
   "metadata": {},
   "outputs": [
    {
     "name": "stdout",
     "output_type": "stream",
     "text": [
      "done\n"
     ]
    }
   ],
   "source": [
    "print('done')"
   ]
  }
 ],
 "metadata": {
  "kernelspec": {
   "display_name": "Python 3",
   "language": "python",
   "name": "python3"
  },
  "language_info": {
   "codemirror_mode": {
    "name": "ipython",
    "version": 3
   },
   "file_extension": ".py",
   "mimetype": "text/x-python",
   "name": "python",
   "nbconvert_exporter": "python",
   "pygments_lexer": "ipython3",
   "version": "3.6.7"
  }
 },
 "nbformat": 4,
 "nbformat_minor": 2
}
