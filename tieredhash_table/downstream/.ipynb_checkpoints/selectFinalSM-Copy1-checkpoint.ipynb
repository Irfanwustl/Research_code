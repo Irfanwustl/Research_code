{
 "cells": [
  {
   "cell_type": "code",
   "execution_count": 1,
   "metadata": {},
   "outputs": [
    {
     "data": {
      "text/html": [
       "<div>\n",
       "<style scoped>\n",
       "    .dataframe tbody tr th:only-of-type {\n",
       "        vertical-align: middle;\n",
       "    }\n",
       "\n",
       "    .dataframe tbody tr th {\n",
       "        vertical-align: top;\n",
       "    }\n",
       "\n",
       "    .dataframe thead th {\n",
       "        text-align: right;\n",
       "    }\n",
       "</style>\n",
       "<table border=\"1\" class=\"dataframe\">\n",
       "  <thead>\n",
       "    <tr style=\"text-align: right;\">\n",
       "      <th></th>\n",
       "      <th>Filename</th>\n",
       "      <th>Average Value</th>\n",
       "      <th>Line Count</th>\n",
       "    </tr>\n",
       "  </thead>\n",
       "  <tbody>\n",
       "    <tr>\n",
       "      <th>0</th>\n",
       "      <td>g1_em4_g2_Tcellem4_-0.6_int_g1_em4_g2_Bcellem4...</td>\n",
       "      <td>0.45</td>\n",
       "      <td>122</td>\n",
       "    </tr>\n",
       "    <tr>\n",
       "      <th>1</th>\n",
       "      <td>g1_em4_g2_Tcellem4_-0.2_int_g1_em4_g2_Bcellem4...</td>\n",
       "      <td>0.35</td>\n",
       "      <td>1178</td>\n",
       "    </tr>\n",
       "    <tr>\n",
       "      <th>2</th>\n",
       "      <td>g1_em4_g2_Tcellem4_-0.2_int_g1_em4_g2_Bcellem4...</td>\n",
       "      <td>0.55</td>\n",
       "      <td>2410</td>\n",
       "    </tr>\n",
       "    <tr>\n",
       "      <th>3</th>\n",
       "      <td>g1_em4_g2_Tcellem4_-0.2_int_g1_em4_g2_Bcellem4...</td>\n",
       "      <td>0.25</td>\n",
       "      <td>52682</td>\n",
       "    </tr>\n",
       "    <tr>\n",
       "      <th>4</th>\n",
       "      <td>g1_em4_g2_Tcellem4_-0.2_int_g1_em4_g2_Bcellem4...</td>\n",
       "      <td>0.60</td>\n",
       "      <td>1897</td>\n",
       "    </tr>\n",
       "  </tbody>\n",
       "</table>\n",
       "</div>"
      ],
      "text/plain": [
       "                                            Filename  Average Value  \\\n",
       "0  g1_em4_g2_Tcellem4_-0.6_int_g1_em4_g2_Bcellem4...           0.45   \n",
       "1  g1_em4_g2_Tcellem4_-0.2_int_g1_em4_g2_Bcellem4...           0.35   \n",
       "2  g1_em4_g2_Tcellem4_-0.2_int_g1_em4_g2_Bcellem4...           0.55   \n",
       "3  g1_em4_g2_Tcellem4_-0.2_int_g1_em4_g2_Bcellem4...           0.25   \n",
       "4  g1_em4_g2_Tcellem4_-0.2_int_g1_em4_g2_Bcellem4...           0.60   \n",
       "\n",
       "   Line Count  \n",
       "0         122  \n",
       "1        1178  \n",
       "2        2410  \n",
       "3       52682  \n",
       "4        1897  "
      ]
     },
     "execution_count": 1,
     "metadata": {},
     "output_type": "execute_result"
    }
   ],
   "source": [
    "import pandas as pd\n",
    "import sys\n",
    "\n",
    "infile='/Users/irffanalahi/Research/Research_update/SoftRD/hashtable_stats/tieredApproach/BL22_groupv2/em4_cm4/nosingleton/em4_thresholdpos_allthresholdcombinations_subset_stat.txt'#'/Users/irffanalahi/Research/Research_update/SoftRD/hashtable_stats/CD8TIL_CD8PBL_meltumor/deltaCD8tilCD8pbl_thresholdpos_allthresholdcombinations_subset_only4pos_stat.txt' #'/Users/irffanalahi/Research/Research_update/SoftRD/hashtable_stats/tieredApproach/BL22_groupv2/em4_cm4/cm4_thresholdpos_allthresholdcombinations_Shoonhsin_avg_and_linecount.txt' #\n",
    "owngroup='Tcell'  #'mel'\n",
    "celltype='em4'   #'CD8TIL'\n",
    "\n",
    "minimumTOTALcpg=250\n",
    "distancefromothergroup=0.5\n",
    "\n",
    "\n",
    "owngroupcelltype=owngroup+celltype\n",
    "\n",
    "\n",
    "indf=pd.read_csv(infile,sep='\\t')\n",
    "indf.head()"
   ]
  },
  {
   "cell_type": "code",
   "execution_count": 2,
   "metadata": {},
   "outputs": [
    {
     "data": {
      "text/html": [
       "<div>\n",
       "<style scoped>\n",
       "    .dataframe tbody tr th:only-of-type {\n",
       "        vertical-align: middle;\n",
       "    }\n",
       "\n",
       "    .dataframe tbody tr th {\n",
       "        vertical-align: top;\n",
       "    }\n",
       "\n",
       "    .dataframe thead th {\n",
       "        text-align: right;\n",
       "    }\n",
       "</style>\n",
       "<table border=\"1\" class=\"dataframe\">\n",
       "  <thead>\n",
       "    <tr style=\"text-align: right;\">\n",
       "      <th></th>\n",
       "      <th>Filename</th>\n",
       "      <th>Average Value</th>\n",
       "      <th>Line Count</th>\n",
       "      <th>other_group</th>\n",
       "      <th>other_group_sum</th>\n",
       "      <th>own_group</th>\n",
       "    </tr>\n",
       "  </thead>\n",
       "  <tbody>\n",
       "    <tr>\n",
       "      <th>0</th>\n",
       "      <td>g1_em4_g2_Tcellem4_-0.6_int_g1_em4_g2_Bcellem4...</td>\n",
       "      <td>0.45</td>\n",
       "      <td>122</td>\n",
       "      <td>-999</td>\n",
       "      <td>-999</td>\n",
       "      <td>-999</td>\n",
       "    </tr>\n",
       "    <tr>\n",
       "      <th>1</th>\n",
       "      <td>g1_em4_g2_Tcellem4_-0.2_int_g1_em4_g2_Bcellem4...</td>\n",
       "      <td>0.35</td>\n",
       "      <td>1178</td>\n",
       "      <td>-999</td>\n",
       "      <td>-999</td>\n",
       "      <td>-999</td>\n",
       "    </tr>\n",
       "    <tr>\n",
       "      <th>2</th>\n",
       "      <td>g1_em4_g2_Tcellem4_-0.2_int_g1_em4_g2_Bcellem4...</td>\n",
       "      <td>0.55</td>\n",
       "      <td>2410</td>\n",
       "      <td>-999</td>\n",
       "      <td>-999</td>\n",
       "      <td>-999</td>\n",
       "    </tr>\n",
       "    <tr>\n",
       "      <th>3</th>\n",
       "      <td>g1_em4_g2_Tcellem4_-0.2_int_g1_em4_g2_Bcellem4...</td>\n",
       "      <td>0.25</td>\n",
       "      <td>52682</td>\n",
       "      <td>-999</td>\n",
       "      <td>-999</td>\n",
       "      <td>-999</td>\n",
       "    </tr>\n",
       "    <tr>\n",
       "      <th>4</th>\n",
       "      <td>g1_em4_g2_Tcellem4_-0.2_int_g1_em4_g2_Bcellem4...</td>\n",
       "      <td>0.60</td>\n",
       "      <td>1897</td>\n",
       "      <td>-999</td>\n",
       "      <td>-999</td>\n",
       "      <td>-999</td>\n",
       "    </tr>\n",
       "  </tbody>\n",
       "</table>\n",
       "</div>"
      ],
      "text/plain": [
       "                                            Filename  Average Value  \\\n",
       "0  g1_em4_g2_Tcellem4_-0.6_int_g1_em4_g2_Bcellem4...           0.45   \n",
       "1  g1_em4_g2_Tcellem4_-0.2_int_g1_em4_g2_Bcellem4...           0.35   \n",
       "2  g1_em4_g2_Tcellem4_-0.2_int_g1_em4_g2_Bcellem4...           0.55   \n",
       "3  g1_em4_g2_Tcellem4_-0.2_int_g1_em4_g2_Bcellem4...           0.25   \n",
       "4  g1_em4_g2_Tcellem4_-0.2_int_g1_em4_g2_Bcellem4...           0.60   \n",
       "\n",
       "   Line Count  other_group  other_group_sum  own_group  \n",
       "0         122         -999             -999       -999  \n",
       "1        1178         -999             -999       -999  \n",
       "2        2410         -999             -999       -999  \n",
       "3       52682         -999             -999       -999  \n",
       "4        1897         -999             -999       -999  "
      ]
     },
     "execution_count": 2,
     "metadata": {},
     "output_type": "execute_result"
    }
   ],
   "source": [
    "indf['other_group']=-999\n",
    "indf['other_group_sum']=-999  ##############\n",
    "indf['own_group']=-999\n",
    "\n",
    "indf.head()"
   ]
  },
  {
   "cell_type": "code",
   "execution_count": 3,
   "metadata": {},
   "outputs": [],
   "source": [
    "def calculateOtherVSowngroup(fname):\n",
    "    split_lst = fname.split(\"_\")\n",
    "    total = 0\n",
    "    n = 0\n",
    "    \n",
    "    nums = [str(i) for i in list(range(0, 10))]\n",
    "    \n",
    "    prev='garbage'\n",
    "    \n",
    "    owngroupdelta=-999\n",
    "    \n",
    "    for split in split_lst:\n",
    "        \n",
    "        if \"-\" in split and split[-1] in nums: # confirm that the substring is a negative number\n",
    "            \n",
    "            if owngroupcelltype in prev:\n",
    "                \n",
    "                owngroupdelta=abs(float(split))\n",
    "            \n",
    "            else:\n",
    "            \n",
    "                n += 1\n",
    "                total += float(split)\n",
    "        else:\n",
    "            prev=split\n",
    "            \n",
    "            \n",
    "   \n",
    "    avgs=abs(total / n)\n",
    "    \n",
    "    \n",
    "    return avgs,owngroupdelta,abs(total)"
   ]
  },
  {
   "cell_type": "code",
   "execution_count": 4,
   "metadata": {},
   "outputs": [],
   "source": [
    "for index, row in indf.iterrows():\n",
    "    r1,r2,r3=calculateOtherVSowngroup(row['Filename'])\n",
    "    \n",
    "    \n",
    "    indf.iloc[index,indf.columns.get_loc('other_group')]=r1\n",
    "    \n",
    "    indf.iloc[index,indf.columns.get_loc('own_group')]=r2\n",
    "    \n",
    "    indf.iloc[index,indf.columns.get_loc('other_group_sum')]=r3\n",
    "    \n",
    "    "
   ]
  },
  {
   "cell_type": "code",
   "execution_count": 5,
   "metadata": {},
   "outputs": [
    {
     "data": {
      "text/plain": [
       "<matplotlib.axes._subplots.AxesSubplot at 0x7f94f3a38320>"
      ]
     },
     "execution_count": 5,
     "metadata": {},
     "output_type": "execute_result"
    },
    {
     "data": {
      "image/png": "[encoded data removed]",
      "text/plain": [
       "<Figure size 432x288 with 1 Axes>"
      ]
     },
     "metadata": {
      "needs_background": "light"
     },
     "output_type": "display_data"
    }
   ],
   "source": [
    "indf.boxplot(column=['Average Value'])"
   ]
  },
  {
   "cell_type": "code",
   "execution_count": 6,
   "metadata": {},
   "outputs": [
    {
     "data": {
      "text/html": [
       "<div>\n",
       "<style scoped>\n",
       "    .dataframe tbody tr th:only-of-type {\n",
       "        vertical-align: middle;\n",
       "    }\n",
       "\n",
       "    .dataframe tbody tr th {\n",
       "        vertical-align: top;\n",
       "    }\n",
       "\n",
       "    .dataframe thead th {\n",
       "        text-align: right;\n",
       "    }\n",
       "</style>\n",
       "<table border=\"1\" class=\"dataframe\">\n",
       "  <thead>\n",
       "    <tr style=\"text-align: right;\">\n",
       "      <th></th>\n",
       "      <th>Filename</th>\n",
       "      <th>Average Value</th>\n",
       "      <th>Line Count</th>\n",
       "      <th>other_group</th>\n",
       "      <th>other_group_sum</th>\n",
       "      <th>own_group</th>\n",
       "    </tr>\n",
       "  </thead>\n",
       "  <tbody>\n",
       "  </tbody>\n",
       "</table>\n",
       "</div>"
      ],
      "text/plain": [
       "Empty DataFrame\n",
       "Columns: [Filename, Average Value, Line Count, other_group, other_group_sum, own_group]\n",
       "Index: []"
      ]
     },
     "execution_count": 6,
     "metadata": {},
     "output_type": "execute_result"
    }
   ],
   "source": [
    "indf[indf['Filename']=='CD8TIL_CD8patientPBLCD8TIL_-0.6_int_CD8TIL_melCD8TIL_-0.2']"
   ]
  },
  {
   "cell_type": "code",
   "execution_count": 7,
   "metadata": {},
   "outputs": [
    {
     "data": {
      "text/plain": [
       "(128, 6)"
      ]
     },
     "execution_count": 7,
     "metadata": {},
     "output_type": "execute_result"
    }
   ],
   "source": [
    "indf[indf['other_group']>distancefromothergroup].shape"
   ]
  },
  {
   "cell_type": "code",
   "execution_count": 8,
   "metadata": {},
   "outputs": [
    {
     "name": "stdout",
     "output_type": "stream",
     "text": [
      "(56, 6)\n"
     ]
    },
    {
     "data": {
      "text/plain": [
       "0.55"
      ]
     },
     "execution_count": 8,
     "metadata": {},
     "output_type": "execute_result"
    }
   ],
   "source": [
    "try1=indf[(indf['Line Count']>minimumTOTALcpg) & (indf['other_group']>distancefromothergroup)]\n",
    "print(try1.shape)\n",
    "percentile75=try1['Average Value'].quantile(0.75)\n",
    "percentile75"
   ]
  },
  {
   "cell_type": "code",
   "execution_count": 9,
   "metadata": {},
   "outputs": [],
   "source": [
    "outdfstep1=try1[try1['Average Value']>=percentile75]"
   ]
  },
  {
   "cell_type": "code",
   "execution_count": 10,
   "metadata": {},
   "outputs": [
    {
     "data": {
      "text/plain": [
       "<matplotlib.axes._subplots.AxesSubplot at 0x7f94f3b90d68>"
      ]
     },
     "execution_count": 10,
     "metadata": {},
     "output_type": "execute_result"
    },
    {
     "data": {
      "image/png": "[encoded data removed]",
      "text/plain": [
       "<Figure size 432x288 with 1 Axes>"
      ]
     },
     "metadata": {
      "needs_background": "light"
     },
     "output_type": "display_data"
    }
   ],
   "source": [
    "outdfstep1.plot.scatter(x='Average Value',y='own_group',c='DarkBlue')"
   ]
  },
  {
   "cell_type": "code",
   "execution_count": 11,
   "metadata": {},
   "outputs": [
    {
     "data": {
      "text/plain": [
       "['g1_em4_g2_Tcellem4_-0.4_int_g1_em4_g2_Bcellem4_-0.6_int_g1_em4_g2_PMNlikeem4_-0.8_int_g1_em4_g2_Myloidem4_-0.8']"
      ]
     },
     "execution_count": 11,
     "metadata": {},
     "output_type": "execute_result"
    }
   ],
   "source": [
    "outdfstep1[(outdfstep1['Average Value']>=0.64) & (outdfstep1['own_group']>=0.4)]['Filename'].tolist()"
   ]
  },
  {
   "cell_type": "code",
   "execution_count": 12,
   "metadata": {},
   "outputs": [
    {
     "data": {
      "text/plain": [
       "['g1_em4_g2_Tcellem4_-0.2_int_g1_em4_g2_Bcellem4_-0.8_int_g1_em4_g2_PMNlikeem4_-0.8_int_g1_em4_g2_Myloidem4_-0.8',\n",
       " 'g1_em4_g2_Tcellem4_-0.4_int_g1_em4_g2_Bcellem4_-0.6_int_g1_em4_g2_PMNlikeem4_-0.8_int_g1_em4_g2_Myloidem4_-0.8']"
      ]
     },
     "execution_count": 12,
     "metadata": {},
     "output_type": "execute_result"
    }
   ],
   "source": [
    "outdfstep1[(outdfstep1['Average Value']>=0.64) ]['Filename'].tolist()"
   ]
  },
  {
   "cell_type": "code",
   "execution_count": 13,
   "metadata": {},
   "outputs": [
    {
     "data": {
      "text/html": [
       "<div>\n",
       "<style scoped>\n",
       "    .dataframe tbody tr th:only-of-type {\n",
       "        vertical-align: middle;\n",
       "    }\n",
       "\n",
       "    .dataframe tbody tr th {\n",
       "        vertical-align: top;\n",
       "    }\n",
       "\n",
       "    .dataframe thead th {\n",
       "        text-align: right;\n",
       "    }\n",
       "</style>\n",
       "<table border=\"1\" class=\"dataframe\">\n",
       "  <thead>\n",
       "    <tr style=\"text-align: right;\">\n",
       "      <th></th>\n",
       "      <th>Filename</th>\n",
       "      <th>Average Value</th>\n",
       "      <th>Line Count</th>\n",
       "      <th>other_group</th>\n",
       "      <th>other_group_sum</th>\n",
       "      <th>own_group</th>\n",
       "    </tr>\n",
       "  </thead>\n",
       "  <tbody>\n",
       "    <tr>\n",
       "      <th>2</th>\n",
       "      <td>g1_em4_g2_Tcellem4_-0.2_int_g1_em4_g2_Bcellem4...</td>\n",
       "      <td>0.55</td>\n",
       "      <td>2410</td>\n",
       "      <td>0.666667</td>\n",
       "      <td>2.0</td>\n",
       "      <td>0.2</td>\n",
       "    </tr>\n",
       "    <tr>\n",
       "      <th>4</th>\n",
       "      <td>g1_em4_g2_Tcellem4_-0.2_int_g1_em4_g2_Bcellem4...</td>\n",
       "      <td>0.60</td>\n",
       "      <td>1897</td>\n",
       "      <td>0.733333</td>\n",
       "      <td>2.2</td>\n",
       "      <td>0.2</td>\n",
       "    </tr>\n",
       "    <tr>\n",
       "      <th>11</th>\n",
       "      <td>g1_em4_g2_Tcellem4_-0.2_int_g1_em4_g2_Bcellem4...</td>\n",
       "      <td>0.55</td>\n",
       "      <td>2116</td>\n",
       "      <td>0.666667</td>\n",
       "      <td>2.0</td>\n",
       "      <td>0.2</td>\n",
       "    </tr>\n",
       "    <tr>\n",
       "      <th>31</th>\n",
       "      <td>g1_em4_g2_Tcellem4_-0.4_int_g1_em4_g2_Bcellem4...</td>\n",
       "      <td>0.55</td>\n",
       "      <td>308</td>\n",
       "      <td>0.600000</td>\n",
       "      <td>1.8</td>\n",
       "      <td>0.4</td>\n",
       "    </tr>\n",
       "    <tr>\n",
       "      <th>34</th>\n",
       "      <td>g1_em4_g2_Tcellem4_-0.4_int_g1_em4_g2_Bcellem4...</td>\n",
       "      <td>0.55</td>\n",
       "      <td>733</td>\n",
       "      <td>0.600000</td>\n",
       "      <td>1.8</td>\n",
       "      <td>0.4</td>\n",
       "    </tr>\n",
       "    <tr>\n",
       "      <th>51</th>\n",
       "      <td>g1_em4_g2_Tcellem4_-0.2_int_g1_em4_g2_Bcellem4...</td>\n",
       "      <td>0.65</td>\n",
       "      <td>750</td>\n",
       "      <td>0.800000</td>\n",
       "      <td>2.4</td>\n",
       "      <td>0.2</td>\n",
       "    </tr>\n",
       "    <tr>\n",
       "      <th>52</th>\n",
       "      <td>g1_em4_g2_Tcellem4_-0.2_int_g1_em4_g2_Bcellem4...</td>\n",
       "      <td>0.60</td>\n",
       "      <td>859</td>\n",
       "      <td>0.733333</td>\n",
       "      <td>2.2</td>\n",
       "      <td>0.2</td>\n",
       "    </tr>\n",
       "    <tr>\n",
       "      <th>58</th>\n",
       "      <td>g1_em4_g2_Tcellem4_-0.2_int_g1_em4_g2_Bcellem4...</td>\n",
       "      <td>0.55</td>\n",
       "      <td>1028</td>\n",
       "      <td>0.666667</td>\n",
       "      <td>2.0</td>\n",
       "      <td>0.2</td>\n",
       "    </tr>\n",
       "    <tr>\n",
       "      <th>59</th>\n",
       "      <td>g1_em4_g2_Tcellem4_-0.2_int_g1_em4_g2_Bcellem4...</td>\n",
       "      <td>0.60</td>\n",
       "      <td>806</td>\n",
       "      <td>0.733333</td>\n",
       "      <td>2.2</td>\n",
       "      <td>0.2</td>\n",
       "    </tr>\n",
       "    <tr>\n",
       "      <th>79</th>\n",
       "      <td>g1_em4_g2_Tcellem4_-0.4_int_g1_em4_g2_Bcellem4...</td>\n",
       "      <td>0.55</td>\n",
       "      <td>313</td>\n",
       "      <td>0.600000</td>\n",
       "      <td>1.8</td>\n",
       "      <td>0.4</td>\n",
       "    </tr>\n",
       "    <tr>\n",
       "      <th>105</th>\n",
       "      <td>g1_em4_g2_Tcellem4_-0.4_int_g1_em4_g2_Bcellem4...</td>\n",
       "      <td>0.55</td>\n",
       "      <td>831</td>\n",
       "      <td>0.600000</td>\n",
       "      <td>1.8</td>\n",
       "      <td>0.4</td>\n",
       "    </tr>\n",
       "    <tr>\n",
       "      <th>121</th>\n",
       "      <td>g1_em4_g2_Tcellem4_-0.2_int_g1_em4_g2_Bcellem4...</td>\n",
       "      <td>0.55</td>\n",
       "      <td>3520</td>\n",
       "      <td>0.666667</td>\n",
       "      <td>2.0</td>\n",
       "      <td>0.2</td>\n",
       "    </tr>\n",
       "    <tr>\n",
       "      <th>175</th>\n",
       "      <td>g1_em4_g2_Tcellem4_-0.2_int_g1_em4_g2_Bcellem4...</td>\n",
       "      <td>0.55</td>\n",
       "      <td>824</td>\n",
       "      <td>0.666667</td>\n",
       "      <td>2.0</td>\n",
       "      <td>0.2</td>\n",
       "    </tr>\n",
       "    <tr>\n",
       "      <th>178</th>\n",
       "      <td>g1_em4_g2_Tcellem4_-0.4_int_g1_em4_g2_Bcellem4...</td>\n",
       "      <td>0.55</td>\n",
       "      <td>1673</td>\n",
       "      <td>0.600000</td>\n",
       "      <td>1.8</td>\n",
       "      <td>0.4</td>\n",
       "    </tr>\n",
       "    <tr>\n",
       "      <th>179</th>\n",
       "      <td>g1_em4_g2_Tcellem4_-0.4_int_g1_em4_g2_Bcellem4...</td>\n",
       "      <td>0.60</td>\n",
       "      <td>712</td>\n",
       "      <td>0.666667</td>\n",
       "      <td>2.0</td>\n",
       "      <td>0.4</td>\n",
       "    </tr>\n",
       "    <tr>\n",
       "      <th>185</th>\n",
       "      <td>g1_em4_g2_Tcellem4_-0.4_int_g1_em4_g2_Bcellem4...</td>\n",
       "      <td>0.65</td>\n",
       "      <td>623</td>\n",
       "      <td>0.733333</td>\n",
       "      <td>2.2</td>\n",
       "      <td>0.4</td>\n",
       "    </tr>\n",
       "    <tr>\n",
       "      <th>188</th>\n",
       "      <td>g1_em4_g2_Tcellem4_-0.4_int_g1_em4_g2_Bcellem4...</td>\n",
       "      <td>0.60</td>\n",
       "      <td>816</td>\n",
       "      <td>0.666667</td>\n",
       "      <td>2.0</td>\n",
       "      <td>0.4</td>\n",
       "    </tr>\n",
       "    <tr>\n",
       "      <th>202</th>\n",
       "      <td>g1_em4_g2_Tcellem4_-0.4_int_g1_em4_g2_Bcellem4...</td>\n",
       "      <td>0.55</td>\n",
       "      <td>1642</td>\n",
       "      <td>0.600000</td>\n",
       "      <td>1.8</td>\n",
       "      <td>0.4</td>\n",
       "    </tr>\n",
       "    <tr>\n",
       "      <th>207</th>\n",
       "      <td>g1_em4_g2_Tcellem4_-0.4_int_g1_em4_g2_Bcellem4...</td>\n",
       "      <td>0.55</td>\n",
       "      <td>1998</td>\n",
       "      <td>0.600000</td>\n",
       "      <td>1.8</td>\n",
       "      <td>0.4</td>\n",
       "    </tr>\n",
       "    <tr>\n",
       "      <th>210</th>\n",
       "      <td>g1_em4_g2_Tcellem4_-0.4_int_g1_em4_g2_Bcellem4...</td>\n",
       "      <td>0.60</td>\n",
       "      <td>1426</td>\n",
       "      <td>0.666667</td>\n",
       "      <td>2.0</td>\n",
       "      <td>0.4</td>\n",
       "    </tr>\n",
       "    <tr>\n",
       "      <th>229</th>\n",
       "      <td>g1_em4_g2_Tcellem4_-0.2_int_g1_em4_g2_Bcellem4...</td>\n",
       "      <td>0.55</td>\n",
       "      <td>888</td>\n",
       "      <td>0.666667</td>\n",
       "      <td>2.0</td>\n",
       "      <td>0.2</td>\n",
       "    </tr>\n",
       "    <tr>\n",
       "      <th>236</th>\n",
       "      <td>g1_em4_g2_Tcellem4_-0.4_int_g1_em4_g2_Bcellem4...</td>\n",
       "      <td>0.55</td>\n",
       "      <td>1753</td>\n",
       "      <td>0.600000</td>\n",
       "      <td>1.8</td>\n",
       "      <td>0.4</td>\n",
       "    </tr>\n",
       "  </tbody>\n",
       "</table>\n",
       "</div>"
      ],
      "text/plain": [
       "                                              Filename  Average Value  \\\n",
       "2    g1_em4_g2_Tcellem4_-0.2_int_g1_em4_g2_Bcellem4...           0.55   \n",
       "4    g1_em4_g2_Tcellem4_-0.2_int_g1_em4_g2_Bcellem4...           0.60   \n",
       "11   g1_em4_g2_Tcellem4_-0.2_int_g1_em4_g2_Bcellem4...           0.55   \n",
       "31   g1_em4_g2_Tcellem4_-0.4_int_g1_em4_g2_Bcellem4...           0.55   \n",
       "34   g1_em4_g2_Tcellem4_-0.4_int_g1_em4_g2_Bcellem4...           0.55   \n",
       "51   g1_em4_g2_Tcellem4_-0.2_int_g1_em4_g2_Bcellem4...           0.65   \n",
       "52   g1_em4_g2_Tcellem4_-0.2_int_g1_em4_g2_Bcellem4...           0.60   \n",
       "58   g1_em4_g2_Tcellem4_-0.2_int_g1_em4_g2_Bcellem4...           0.55   \n",
       "59   g1_em4_g2_Tcellem4_-0.2_int_g1_em4_g2_Bcellem4...           0.60   \n",
       "79   g1_em4_g2_Tcellem4_-0.4_int_g1_em4_g2_Bcellem4...           0.55   \n",
       "105  g1_em4_g2_Tcellem4_-0.4_int_g1_em4_g2_Bcellem4...           0.55   \n",
       "121  g1_em4_g2_Tcellem4_-0.2_int_g1_em4_g2_Bcellem4...           0.55   \n",
       "175  g1_em4_g2_Tcellem4_-0.2_int_g1_em4_g2_Bcellem4...           0.55   \n",
       "178  g1_em4_g2_Tcellem4_-0.4_int_g1_em4_g2_Bcellem4...           0.55   \n",
       "179  g1_em4_g2_Tcellem4_-0.4_int_g1_em4_g2_Bcellem4...           0.60   \n",
       "185  g1_em4_g2_Tcellem4_-0.4_int_g1_em4_g2_Bcellem4...           0.65   \n",
       "188  g1_em4_g2_Tcellem4_-0.4_int_g1_em4_g2_Bcellem4...           0.60   \n",
       "202  g1_em4_g2_Tcellem4_-0.4_int_g1_em4_g2_Bcellem4...           0.55   \n",
       "207  g1_em4_g2_Tcellem4_-0.4_int_g1_em4_g2_Bcellem4...           0.55   \n",
       "210  g1_em4_g2_Tcellem4_-0.4_int_g1_em4_g2_Bcellem4...           0.60   \n",
       "229  g1_em4_g2_Tcellem4_-0.2_int_g1_em4_g2_Bcellem4...           0.55   \n",
       "236  g1_em4_g2_Tcellem4_-0.4_int_g1_em4_g2_Bcellem4...           0.55   \n",
       "\n",
       "     Line Count  other_group  other_group_sum  own_group  \n",
       "2          2410     0.666667              2.0        0.2  \n",
       "4          1897     0.733333              2.2        0.2  \n",
       "11         2116     0.666667              2.0        0.2  \n",
       "31          308     0.600000              1.8        0.4  \n",
       "34          733     0.600000              1.8        0.4  \n",
       "51          750     0.800000              2.4        0.2  \n",
       "52          859     0.733333              2.2        0.2  \n",
       "58         1028     0.666667              2.0        0.2  \n",
       "59          806     0.733333              2.2        0.2  \n",
       "79          313     0.600000              1.8        0.4  \n",
       "105         831     0.600000              1.8        0.4  \n",
       "121        3520     0.666667              2.0        0.2  \n",
       "175         824     0.666667              2.0        0.2  \n",
       "178        1673     0.600000              1.8        0.4  \n",
       "179         712     0.666667              2.0        0.4  \n",
       "185         623     0.733333              2.2        0.4  \n",
       "188         816     0.666667              2.0        0.4  \n",
       "202        1642     0.600000              1.8        0.4  \n",
       "207        1998     0.600000              1.8        0.4  \n",
       "210        1426     0.666667              2.0        0.4  \n",
       "229         888     0.666667              2.0        0.2  \n",
       "236        1753     0.600000              1.8        0.4  "
      ]
     },
     "execution_count": 13,
     "metadata": {},
     "output_type": "execute_result"
    }
   ],
   "source": [
    "outdfstep1"
   ]
  },
  {
   "cell_type": "code",
   "execution_count": 14,
   "metadata": {},
   "outputs": [
    {
     "data": {
      "text/plain": [
       "['g1_em4_g2_Tcellem4_-0.2_int_g1_em4_g2_Bcellem4_-0.6_int_g1_em4_g2_PMNlikeem4_-0.6_int_g1_em4_g2_Myloidem4_-0.8',\n",
       " 'g1_em4_g2_Tcellem4_-0.2_int_g1_em4_g2_Bcellem4_-0.6_int_g1_em4_g2_PMNlikeem4_-0.8_int_g1_em4_g2_Myloidem4_-0.8',\n",
       " 'g1_em4_g2_Tcellem4_-0.2_int_g1_em4_g2_Bcellem4_-0.6_int_g1_em4_g2_PMNlikeem4_-0.8_int_g1_em4_g2_Myloidem4_-0.6',\n",
       " 'g1_em4_g2_Tcellem4_-0.4_int_g1_em4_g2_Bcellem4_-0.8_int_g1_em4_g2_PMNlikeem4_-0.6_int_g1_em4_g2_Myloidem4_-0.4',\n",
       " 'g1_em4_g2_Tcellem4_-0.4_int_g1_em4_g2_Bcellem4_-0.6_int_g1_em4_g2_PMNlikeem4_-0.8_int_g1_em4_g2_Myloidem4_-0.4',\n",
       " 'g1_em4_g2_Tcellem4_-0.2_int_g1_em4_g2_Bcellem4_-0.8_int_g1_em4_g2_PMNlikeem4_-0.8_int_g1_em4_g2_Myloidem4_-0.8',\n",
       " 'g1_em4_g2_Tcellem4_-0.2_int_g1_em4_g2_Bcellem4_-0.8_int_g1_em4_g2_PMNlikeem4_-0.6_int_g1_em4_g2_Myloidem4_-0.8',\n",
       " 'g1_em4_g2_Tcellem4_-0.2_int_g1_em4_g2_Bcellem4_-0.8_int_g1_em4_g2_PMNlikeem4_-0.6_int_g1_em4_g2_Myloidem4_-0.6',\n",
       " 'g1_em4_g2_Tcellem4_-0.2_int_g1_em4_g2_Bcellem4_-0.8_int_g1_em4_g2_PMNlikeem4_-0.8_int_g1_em4_g2_Myloidem4_-0.6',\n",
       " 'g1_em4_g2_Tcellem4_-0.4_int_g1_em4_g2_Bcellem4_-0.8_int_g1_em4_g2_PMNlikeem4_-0.4_int_g1_em4_g2_Myloidem4_-0.6',\n",
       " 'g1_em4_g2_Tcellem4_-0.4_int_g1_em4_g2_Bcellem4_-0.6_int_g1_em4_g2_PMNlikeem4_-0.4_int_g1_em4_g2_Myloidem4_-0.8',\n",
       " 'g1_em4_g2_Tcellem4_-0.2_int_g1_em4_g2_Bcellem4_-0.4_int_g1_em4_g2_PMNlikeem4_-0.8_int_g1_em4_g2_Myloidem4_-0.8',\n",
       " 'g1_em4_g2_Tcellem4_-0.2_int_g1_em4_g2_Bcellem4_-0.8_int_g1_em4_g2_PMNlikeem4_-0.8_int_g1_em4_g2_Myloidem4_-0.4',\n",
       " 'g1_em4_g2_Tcellem4_-0.4_int_g1_em4_g2_Bcellem4_-0.6_int_g1_em4_g2_PMNlikeem4_-0.6_int_g1_em4_g2_Myloidem4_-0.6',\n",
       " 'g1_em4_g2_Tcellem4_-0.4_int_g1_em4_g2_Bcellem4_-0.6_int_g1_em4_g2_PMNlikeem4_-0.8_int_g1_em4_g2_Myloidem4_-0.6',\n",
       " 'g1_em4_g2_Tcellem4_-0.4_int_g1_em4_g2_Bcellem4_-0.6_int_g1_em4_g2_PMNlikeem4_-0.8_int_g1_em4_g2_Myloidem4_-0.8',\n",
       " 'g1_em4_g2_Tcellem4_-0.4_int_g1_em4_g2_Bcellem4_-0.6_int_g1_em4_g2_PMNlikeem4_-0.6_int_g1_em4_g2_Myloidem4_-0.8',\n",
       " 'g1_em4_g2_Tcellem4_-0.4_int_g1_em4_g2_Bcellem4_-0.4_int_g1_em4_g2_PMNlikeem4_-0.8_int_g1_em4_g2_Myloidem4_-0.6',\n",
       " 'g1_em4_g2_Tcellem4_-0.4_int_g1_em4_g2_Bcellem4_-0.4_int_g1_em4_g2_PMNlikeem4_-0.6_int_g1_em4_g2_Myloidem4_-0.8',\n",
       " 'g1_em4_g2_Tcellem4_-0.4_int_g1_em4_g2_Bcellem4_-0.4_int_g1_em4_g2_PMNlikeem4_-0.8_int_g1_em4_g2_Myloidem4_-0.8',\n",
       " 'g1_em4_g2_Tcellem4_-0.2_int_g1_em4_g2_Bcellem4_-0.8_int_g1_em4_g2_PMNlikeem4_-0.4_int_g1_em4_g2_Myloidem4_-0.8',\n",
       " 'g1_em4_g2_Tcellem4_-0.4_int_g1_em4_g2_Bcellem4_-0.2_int_g1_em4_g2_PMNlikeem4_-0.8_int_g1_em4_g2_Myloidem4_-0.8']"
      ]
     },
     "execution_count": 14,
     "metadata": {},
     "output_type": "execute_result"
    }
   ],
   "source": [
    "outdfstep1['Filename'].tolist()"
   ]
  },
  {
   "cell_type": "code",
   "execution_count": 15,
   "metadata": {},
   "outputs": [
    {
     "data": {
      "text/plain": [
       "22"
      ]
     },
     "execution_count": 15,
     "metadata": {},
     "output_type": "execute_result"
    }
   ],
   "source": [
    "len(outdfstep1['Filename'].tolist())"
   ]
  },
  {
   "cell_type": "code",
   "execution_count": 16,
   "metadata": {},
   "outputs": [],
   "source": [
    "#outdfstep1.to_csv(infile+\"_st1.txt\",sep='\\t',index=False)"
   ]
  }
 ],
 "metadata": {
  "kernelspec": {
   "display_name": "Python 3",
   "language": "python",
   "name": "python3"
  },
  "language_info": {
   "codemirror_mode": {
    "name": "ipython",
    "version": 3
   },
   "file_extension": ".py",
   "mimetype": "text/x-python",
   "name": "python",
   "nbconvert_exporter": "python",
   "pygments_lexer": "ipython3",
   "version": "3.6.7"
  }
 },
 "nbformat": 4,
 "nbformat_minor": 2
}
