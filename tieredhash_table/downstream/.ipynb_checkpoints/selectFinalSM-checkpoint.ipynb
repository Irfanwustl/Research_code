{
 "cells": [
  {
   "cell_type": "code",
   "execution_count": 1,
   "metadata": {},
   "outputs": [
    {
     "data": {
      "text/html": [
       "<div>\n",
       "<style scoped>\n",
       "    .dataframe tbody tr th:only-of-type {\n",
       "        vertical-align: middle;\n",
       "    }\n",
       "\n",
       "    .dataframe tbody tr th {\n",
       "        vertical-align: top;\n",
       "    }\n",
       "\n",
       "    .dataframe thead th {\n",
       "        text-align: right;\n",
       "    }\n",
       "</style>\n",
       "<table border=\"1\" class=\"dataframe\">\n",
       "  <thead>\n",
       "    <tr style=\"text-align: right;\">\n",
       "      <th></th>\n",
       "      <th>Filename</th>\n",
       "      <th>Average Value</th>\n",
       "      <th>Line Count</th>\n",
       "    </tr>\n",
       "  </thead>\n",
       "  <tbody>\n",
       "    <tr>\n",
       "      <th>0</th>\n",
       "      <td>g1_cm4_g2_Myloidcm4_-0.4_int_g1_cm4_g2_Bcellcm...</td>\n",
       "      <td>0.55</td>\n",
       "      <td>181</td>\n",
       "    </tr>\n",
       "    <tr>\n",
       "      <th>1</th>\n",
       "      <td>g1_cm4_g2_Myloidcm4_-0.8_int_g1_cm4_g2_Bcellcm...</td>\n",
       "      <td>0.70</td>\n",
       "      <td>70</td>\n",
       "    </tr>\n",
       "    <tr>\n",
       "      <th>2</th>\n",
       "      <td>g1_cm4_g2_Myloidcm4_-0.2_int_g1_cm4_g2_Bcellcm...</td>\n",
       "      <td>0.45</td>\n",
       "      <td>2031</td>\n",
       "    </tr>\n",
       "    <tr>\n",
       "      <th>3</th>\n",
       "      <td>g1_cm4_g2_Myloidcm4_-0.4_int_g1_cm4_g2_Bcellcm...</td>\n",
       "      <td>0.60</td>\n",
       "      <td>12</td>\n",
       "    </tr>\n",
       "    <tr>\n",
       "      <th>4</th>\n",
       "      <td>g1_cm4_g2_Myloidcm4_-0.4_int_g1_cm4_g2_Bcellcm...</td>\n",
       "      <td>0.30</td>\n",
       "      <td>13636</td>\n",
       "    </tr>\n",
       "  </tbody>\n",
       "</table>\n",
       "</div>"
      ],
      "text/plain": [
       "                                            Filename  Average Value  \\\n",
       "0  g1_cm4_g2_Myloidcm4_-0.4_int_g1_cm4_g2_Bcellcm...           0.55   \n",
       "1  g1_cm4_g2_Myloidcm4_-0.8_int_g1_cm4_g2_Bcellcm...           0.70   \n",
       "2  g1_cm4_g2_Myloidcm4_-0.2_int_g1_cm4_g2_Bcellcm...           0.45   \n",
       "3  g1_cm4_g2_Myloidcm4_-0.4_int_g1_cm4_g2_Bcellcm...           0.60   \n",
       "4  g1_cm4_g2_Myloidcm4_-0.4_int_g1_cm4_g2_Bcellcm...           0.30   \n",
       "\n",
       "   Line Count  \n",
       "0         181  \n",
       "1          70  \n",
       "2        2031  \n",
       "3          12  \n",
       "4       13636  "
      ]
     },
     "execution_count": 1,
     "metadata": {},
     "output_type": "execute_result"
    }
   ],
   "source": [
    "import pandas as pd\n",
    "infile='/Users/irffanalahi/Research/Research_update/SoftRD/hashtable_stats/tieredApproach/BL22_groupv2/em4_cm4/cm4_thresholdpos_allthresholdcombinations_Shoonhsin_avg_and_linecount.txt'\n",
    "\n",
    "\n",
    "minimumTOTALcpg=1000\n",
    "\n",
    "owngroup='Tcell'\n",
    "celltype='cm4'\n",
    "owngroupcelltype=owngroup+celltype\n",
    "\n",
    "\n",
    "indf=pd.read_csv(infile,sep='\\t')\n",
    "indf.head()"
   ]
  },
  {
   "cell_type": "code",
   "execution_count": 2,
   "metadata": {},
   "outputs": [
    {
     "data": {
      "text/html": [
       "<div>\n",
       "<style scoped>\n",
       "    .dataframe tbody tr th:only-of-type {\n",
       "        vertical-align: middle;\n",
       "    }\n",
       "\n",
       "    .dataframe tbody tr th {\n",
       "        vertical-align: top;\n",
       "    }\n",
       "\n",
       "    .dataframe thead th {\n",
       "        text-align: right;\n",
       "    }\n",
       "</style>\n",
       "<table border=\"1\" class=\"dataframe\">\n",
       "  <thead>\n",
       "    <tr style=\"text-align: right;\">\n",
       "      <th></th>\n",
       "      <th>Filename</th>\n",
       "      <th>Average Value</th>\n",
       "      <th>Line Count</th>\n",
       "      <th>other_group</th>\n",
       "      <th>other_group_sum</th>\n",
       "      <th>own_group</th>\n",
       "    </tr>\n",
       "  </thead>\n",
       "  <tbody>\n",
       "    <tr>\n",
       "      <th>0</th>\n",
       "      <td>g1_cm4_g2_Myloidcm4_-0.4_int_g1_cm4_g2_Bcellcm...</td>\n",
       "      <td>0.55</td>\n",
       "      <td>181</td>\n",
       "      <td>-999</td>\n",
       "      <td>-999</td>\n",
       "      <td>-999</td>\n",
       "    </tr>\n",
       "    <tr>\n",
       "      <th>1</th>\n",
       "      <td>g1_cm4_g2_Myloidcm4_-0.8_int_g1_cm4_g2_Bcellcm...</td>\n",
       "      <td>0.70</td>\n",
       "      <td>70</td>\n",
       "      <td>-999</td>\n",
       "      <td>-999</td>\n",
       "      <td>-999</td>\n",
       "    </tr>\n",
       "    <tr>\n",
       "      <th>2</th>\n",
       "      <td>g1_cm4_g2_Myloidcm4_-0.2_int_g1_cm4_g2_Bcellcm...</td>\n",
       "      <td>0.45</td>\n",
       "      <td>2031</td>\n",
       "      <td>-999</td>\n",
       "      <td>-999</td>\n",
       "      <td>-999</td>\n",
       "    </tr>\n",
       "    <tr>\n",
       "      <th>3</th>\n",
       "      <td>g1_cm4_g2_Myloidcm4_-0.4_int_g1_cm4_g2_Bcellcm...</td>\n",
       "      <td>0.60</td>\n",
       "      <td>12</td>\n",
       "      <td>-999</td>\n",
       "      <td>-999</td>\n",
       "      <td>-999</td>\n",
       "    </tr>\n",
       "    <tr>\n",
       "      <th>4</th>\n",
       "      <td>g1_cm4_g2_Myloidcm4_-0.4_int_g1_cm4_g2_Bcellcm...</td>\n",
       "      <td>0.30</td>\n",
       "      <td>13636</td>\n",
       "      <td>-999</td>\n",
       "      <td>-999</td>\n",
       "      <td>-999</td>\n",
       "    </tr>\n",
       "  </tbody>\n",
       "</table>\n",
       "</div>"
      ],
      "text/plain": [
       "                                            Filename  Average Value  \\\n",
       "0  g1_cm4_g2_Myloidcm4_-0.4_int_g1_cm4_g2_Bcellcm...           0.55   \n",
       "1  g1_cm4_g2_Myloidcm4_-0.8_int_g1_cm4_g2_Bcellcm...           0.70   \n",
       "2  g1_cm4_g2_Myloidcm4_-0.2_int_g1_cm4_g2_Bcellcm...           0.45   \n",
       "3  g1_cm4_g2_Myloidcm4_-0.4_int_g1_cm4_g2_Bcellcm...           0.60   \n",
       "4  g1_cm4_g2_Myloidcm4_-0.4_int_g1_cm4_g2_Bcellcm...           0.30   \n",
       "\n",
       "   Line Count  other_group  other_group_sum  own_group  \n",
       "0         181         -999             -999       -999  \n",
       "1          70         -999             -999       -999  \n",
       "2        2031         -999             -999       -999  \n",
       "3          12         -999             -999       -999  \n",
       "4       13636         -999             -999       -999  "
      ]
     },
     "execution_count": 2,
     "metadata": {},
     "output_type": "execute_result"
    }
   ],
   "source": [
    "indf['other_group']=-999\n",
    "indf['other_group_sum']=-999  ##############\n",
    "indf['own_group']=-999\n",
    "\n",
    "indf.head()"
   ]
  },
  {
   "cell_type": "code",
   "execution_count": 3,
   "metadata": {},
   "outputs": [],
   "source": [
    "def calculateOtherVSowngroup(fname):\n",
    "    split_lst = fname.split(\"_\")\n",
    "    total = 0\n",
    "    n = 0\n",
    "    \n",
    "    nums = [str(i) for i in list(range(0, 10))]\n",
    "    \n",
    "    prev='garbage'\n",
    "    \n",
    "    owngroupdelta=-999\n",
    "    \n",
    "    for split in split_lst:\n",
    "        \n",
    "        if \"-\" in split and split[-1] in nums: # confirm that the substring is a negative number\n",
    "            \n",
    "            if owngroupcelltype in prev:\n",
    "                \n",
    "                owngroupdelta=abs(float(split))\n",
    "            \n",
    "            else:\n",
    "            \n",
    "                n += 1\n",
    "                total += float(split)\n",
    "        else:\n",
    "            prev=split\n",
    "            \n",
    "            \n",
    "   \n",
    "    avgs=abs(total / n)\n",
    "    \n",
    "    \n",
    "    return avgs,owngroupdelta,abs(total)"
   ]
  },
  {
   "cell_type": "code",
   "execution_count": 4,
   "metadata": {},
   "outputs": [],
   "source": [
    "for index, row in indf.iterrows():\n",
    "    r1,r2,r3=calculateOtherVSowngroup(row['Filename'])\n",
    "    \n",
    "    \n",
    "    indf.iloc[index,indf.columns.get_loc('other_group')]=r1\n",
    "    \n",
    "    indf.iloc[index,indf.columns.get_loc('own_group')]=r2\n",
    "    \n",
    "    indf.iloc[index,indf.columns.get_loc('other_group_sum')]=r3\n",
    "    \n",
    "    "
   ]
  },
  {
   "cell_type": "code",
   "execution_count": 5,
   "metadata": {},
   "outputs": [
    {
     "data": {
      "text/html": [
       "<div>\n",
       "<style scoped>\n",
       "    .dataframe tbody tr th:only-of-type {\n",
       "        vertical-align: middle;\n",
       "    }\n",
       "\n",
       "    .dataframe tbody tr th {\n",
       "        vertical-align: top;\n",
       "    }\n",
       "\n",
       "    .dataframe thead th {\n",
       "        text-align: right;\n",
       "    }\n",
       "</style>\n",
       "<table border=\"1\" class=\"dataframe\">\n",
       "  <thead>\n",
       "    <tr style=\"text-align: right;\">\n",
       "      <th></th>\n",
       "      <th>Filename</th>\n",
       "      <th>Average Value</th>\n",
       "      <th>Line Count</th>\n",
       "      <th>other_group</th>\n",
       "      <th>other_group_sum</th>\n",
       "      <th>own_group</th>\n",
       "    </tr>\n",
       "  </thead>\n",
       "  <tbody>\n",
       "    <tr>\n",
       "      <th>2</th>\n",
       "      <td>g1_cm4_g2_Myloidcm4_-0.2_int_g1_cm4_g2_Bcellcm...</td>\n",
       "      <td>0.45</td>\n",
       "      <td>2031</td>\n",
       "      <td>0.533333</td>\n",
       "      <td>1.6</td>\n",
       "      <td>0.2</td>\n",
       "    </tr>\n",
       "    <tr>\n",
       "      <th>4</th>\n",
       "      <td>g1_cm4_g2_Myloidcm4_-0.4_int_g1_cm4_g2_Bcellcm...</td>\n",
       "      <td>0.30</td>\n",
       "      <td>13636</td>\n",
       "      <td>0.266667</td>\n",
       "      <td>0.8</td>\n",
       "      <td>0.4</td>\n",
       "    </tr>\n",
       "    <tr>\n",
       "      <th>6</th>\n",
       "      <td>g1_cm4_g2_Myloidcm4_-0.6_int_g1_cm4_g2_Bcellcm...</td>\n",
       "      <td>0.55</td>\n",
       "      <td>1969</td>\n",
       "      <td>0.666667</td>\n",
       "      <td>2.0</td>\n",
       "      <td>0.2</td>\n",
       "    </tr>\n",
       "    <tr>\n",
       "      <th>9</th>\n",
       "      <td>g1_cm4_g2_Myloidcm4_-0.6_int_g1_cm4_g2_Bcellcm...</td>\n",
       "      <td>0.50</td>\n",
       "      <td>5753</td>\n",
       "      <td>0.600000</td>\n",
       "      <td>1.8</td>\n",
       "      <td>0.2</td>\n",
       "    </tr>\n",
       "    <tr>\n",
       "      <th>11</th>\n",
       "      <td>g1_cm4_g2_Myloidcm4_-0.2_int_g1_cm4_g2_Bcellcm...</td>\n",
       "      <td>0.40</td>\n",
       "      <td>8803</td>\n",
       "      <td>0.466667</td>\n",
       "      <td>1.4</td>\n",
       "      <td>0.2</td>\n",
       "    </tr>\n",
       "  </tbody>\n",
       "</table>\n",
       "</div>"
      ],
      "text/plain": [
       "                                             Filename  Average Value  \\\n",
       "2   g1_cm4_g2_Myloidcm4_-0.2_int_g1_cm4_g2_Bcellcm...           0.45   \n",
       "4   g1_cm4_g2_Myloidcm4_-0.4_int_g1_cm4_g2_Bcellcm...           0.30   \n",
       "6   g1_cm4_g2_Myloidcm4_-0.6_int_g1_cm4_g2_Bcellcm...           0.55   \n",
       "9   g1_cm4_g2_Myloidcm4_-0.6_int_g1_cm4_g2_Bcellcm...           0.50   \n",
       "11  g1_cm4_g2_Myloidcm4_-0.2_int_g1_cm4_g2_Bcellcm...           0.40   \n",
       "\n",
       "    Line Count  other_group  other_group_sum  own_group  \n",
       "2         2031     0.533333              1.6        0.2  \n",
       "4        13636     0.266667              0.8        0.4  \n",
       "6         1969     0.666667              2.0        0.2  \n",
       "9         5753     0.600000              1.8        0.2  \n",
       "11        8803     0.466667              1.4        0.2  "
      ]
     },
     "execution_count": 5,
     "metadata": {},
     "output_type": "execute_result"
    }
   ],
   "source": [
    "outdfstep1=indf[indf['Line Count']>minimumTOTALcpg]\n",
    "outdfstep1.head()"
   ]
  },
  {
   "cell_type": "code",
   "execution_count": 6,
   "metadata": {},
   "outputs": [
    {
     "data": {
      "text/plain": [
       "(112, 6)"
      ]
     },
     "execution_count": 6,
     "metadata": {},
     "output_type": "execute_result"
    }
   ],
   "source": [
    "outdfstep1.shape"
   ]
  },
  {
   "cell_type": "code",
   "execution_count": 7,
   "metadata": {},
   "outputs": [
    {
     "data": {
      "text/html": [
       "<div>\n",
       "<style scoped>\n",
       "    .dataframe tbody tr th:only-of-type {\n",
       "        vertical-align: middle;\n",
       "    }\n",
       "\n",
       "    .dataframe tbody tr th {\n",
       "        vertical-align: top;\n",
       "    }\n",
       "\n",
       "    .dataframe thead th {\n",
       "        text-align: right;\n",
       "    }\n",
       "</style>\n",
       "<table border=\"1\" class=\"dataframe\">\n",
       "  <thead>\n",
       "    <tr style=\"text-align: right;\">\n",
       "      <th></th>\n",
       "      <th>Filename</th>\n",
       "      <th>Average Value</th>\n",
       "      <th>Line Count</th>\n",
       "      <th>other_group</th>\n",
       "      <th>other_group_sum</th>\n",
       "      <th>own_group</th>\n",
       "    </tr>\n",
       "  </thead>\n",
       "  <tbody>\n",
       "    <tr>\n",
       "      <th>255</th>\n",
       "      <td>g1_cm4_g2_Myloidcm4_-0.8_int_g1_cm4_g2_Bcellcm...</td>\n",
       "      <td>0.65</td>\n",
       "      <td>1052</td>\n",
       "      <td>0.733333</td>\n",
       "      <td>2.2</td>\n",
       "      <td>0.4</td>\n",
       "    </tr>\n",
       "  </tbody>\n",
       "</table>\n",
       "</div>"
      ],
      "text/plain": [
       "                                              Filename  Average Value  \\\n",
       "255  g1_cm4_g2_Myloidcm4_-0.8_int_g1_cm4_g2_Bcellcm...           0.65   \n",
       "\n",
       "     Line Count  other_group  other_group_sum  own_group  \n",
       "255        1052     0.733333              2.2        0.4  "
      ]
     },
     "execution_count": 7,
     "metadata": {},
     "output_type": "execute_result"
    }
   ],
   "source": [
    "outdfstep1[outdfstep1['Filename']=='g1_cm4_g2_Myloidcm4_-0.8_int_g1_cm4_g2_Bcellcm4_-0.6_int_g1_cm4_g2_PMNlikecm4_-0.8_int_g1_cm4_g2_Tcellcm4_-0.4']"
   ]
  },
  {
   "cell_type": "code",
   "execution_count": 8,
   "metadata": {},
   "outputs": [
    {
     "data": {
      "text/html": [
       "<div>\n",
       "<style scoped>\n",
       "    .dataframe tbody tr th:only-of-type {\n",
       "        vertical-align: middle;\n",
       "    }\n",
       "\n",
       "    .dataframe tbody tr th {\n",
       "        vertical-align: top;\n",
       "    }\n",
       "\n",
       "    .dataframe thead th {\n",
       "        text-align: right;\n",
       "    }\n",
       "</style>\n",
       "<table border=\"1\" class=\"dataframe\">\n",
       "  <thead>\n",
       "    <tr style=\"text-align: right;\">\n",
       "      <th></th>\n",
       "      <th>Filename</th>\n",
       "      <th>Average Value</th>\n",
       "      <th>Line Count</th>\n",
       "      <th>other_group</th>\n",
       "      <th>other_group_sum</th>\n",
       "      <th>own_group</th>\n",
       "    </tr>\n",
       "  </thead>\n",
       "  <tbody>\n",
       "    <tr>\n",
       "      <th>116</th>\n",
       "      <td>g1_cm4_g2_Myloidcm4_-0.6_int_g1_cm4_g2_Bcellcm...</td>\n",
       "      <td>0.60</td>\n",
       "      <td>1176</td>\n",
       "      <td>0.666667</td>\n",
       "      <td>2.0</td>\n",
       "      <td>0.4</td>\n",
       "    </tr>\n",
       "    <tr>\n",
       "      <th>151</th>\n",
       "      <td>g1_cm4_g2_Myloidcm4_-0.8_int_g1_cm4_g2_Bcellcm...</td>\n",
       "      <td>0.60</td>\n",
       "      <td>1941</td>\n",
       "      <td>0.666667</td>\n",
       "      <td>2.0</td>\n",
       "      <td>0.4</td>\n",
       "    </tr>\n",
       "    <tr>\n",
       "      <th>154</th>\n",
       "      <td>g1_cm4_g2_Myloidcm4_-0.8_int_g1_cm4_g2_Bcellcm...</td>\n",
       "      <td>0.60</td>\n",
       "      <td>1439</td>\n",
       "      <td>0.666667</td>\n",
       "      <td>2.0</td>\n",
       "      <td>0.4</td>\n",
       "    </tr>\n",
       "    <tr>\n",
       "      <th>249</th>\n",
       "      <td>g1_cm4_g2_Myloidcm4_-0.8_int_g1_cm4_g2_Bcellcm...</td>\n",
       "      <td>0.55</td>\n",
       "      <td>2808</td>\n",
       "      <td>0.600000</td>\n",
       "      <td>1.8</td>\n",
       "      <td>0.4</td>\n",
       "    </tr>\n",
       "    <tr>\n",
       "      <th>255</th>\n",
       "      <td>g1_cm4_g2_Myloidcm4_-0.8_int_g1_cm4_g2_Bcellcm...</td>\n",
       "      <td>0.65</td>\n",
       "      <td>1052</td>\n",
       "      <td>0.733333</td>\n",
       "      <td>2.2</td>\n",
       "      <td>0.4</td>\n",
       "    </tr>\n",
       "  </tbody>\n",
       "</table>\n",
       "</div>"
      ],
      "text/plain": [
       "                                              Filename  Average Value  \\\n",
       "116  g1_cm4_g2_Myloidcm4_-0.6_int_g1_cm4_g2_Bcellcm...           0.60   \n",
       "151  g1_cm4_g2_Myloidcm4_-0.8_int_g1_cm4_g2_Bcellcm...           0.60   \n",
       "154  g1_cm4_g2_Myloidcm4_-0.8_int_g1_cm4_g2_Bcellcm...           0.60   \n",
       "249  g1_cm4_g2_Myloidcm4_-0.8_int_g1_cm4_g2_Bcellcm...           0.55   \n",
       "255  g1_cm4_g2_Myloidcm4_-0.8_int_g1_cm4_g2_Bcellcm...           0.65   \n",
       "\n",
       "     Line Count  other_group  other_group_sum  own_group  \n",
       "116        1176     0.666667              2.0        0.4  \n",
       "151        1941     0.666667              2.0        0.4  \n",
       "154        1439     0.666667              2.0        0.4  \n",
       "249        2808     0.600000              1.8        0.4  \n",
       "255        1052     0.733333              2.2        0.4  "
      ]
     },
     "execution_count": 8,
     "metadata": {},
     "output_type": "execute_result"
    }
   ],
   "source": [
    "outdfstep1[(outdfstep1['own_group']>=0.4) & (outdfstep1['other_group']>0.6)]"
   ]
  },
  {
   "cell_type": "code",
   "execution_count": 9,
   "metadata": {},
   "outputs": [
    {
     "data": {
      "text/plain": [
       "<matplotlib.axes._subplots.AxesSubplot at 0x7fe0d52426a0>"
      ]
     },
     "execution_count": 9,
     "metadata": {},
     "output_type": "execute_result"
    },
    {
     "data": {
      "image/png": "[encoded data removed]",
      "text/plain": [
       "<Figure size 432x288 with 1 Axes>"
      ]
     },
     "metadata": {
      "needs_background": "light"
     },
     "output_type": "display_data"
    }
   ],
   "source": [
    "outdfstep1.plot.scatter(x='other_group',y='own_group',c='DarkBlue')"
   ]
  },
  {
   "cell_type": "code",
   "execution_count": 10,
   "metadata": {},
   "outputs": [
    {
     "data": {
      "text/plain": [
       "<matplotlib.axes._subplots.AxesSubplot at 0x7fe0d532d160>"
      ]
     },
     "execution_count": 10,
     "metadata": {},
     "output_type": "execute_result"
    },
    {
     "data": {
      "image/png": "[encoded data removed]",
      "text/plain": [
       "<Figure size 432x288 with 1 Axes>"
      ]
     },
     "metadata": {
      "needs_background": "light"
     },
     "output_type": "display_data"
    }
   ],
   "source": [
    "outdfstep1.plot.scatter(x='other_group_sum',y='own_group',c='DarkBlue')"
   ]
  },
  {
   "cell_type": "code",
   "execution_count": 11,
   "metadata": {},
   "outputs": [
    {
     "data": {
      "text/plain": [
       "<matplotlib.axes._subplots.AxesSubplot at 0x7fe0d535f9e8>"
      ]
     },
     "execution_count": 11,
     "metadata": {},
     "output_type": "execute_result"
    },
    {
     "data": {
      "image/png": "[encoded data removed]",
      "text/plain": [
       "<Figure size 432x288 with 1 Axes>"
      ]
     },
     "metadata": {
      "needs_background": "light"
     },
     "output_type": "display_data"
    }
   ],
   "source": [
    "indf.plot.scatter(x='other_group',y='own_group',c='DarkBlue')"
   ]
  },
  {
   "cell_type": "code",
   "execution_count": 12,
   "metadata": {},
   "outputs": [],
   "source": [
    "#outdfstep1.to_csv(infile+\"_st1.txt\",sep='\\t',index=False)"
   ]
  }
 ],
 "metadata": {
  "kernelspec": {
   "display_name": "Python 3",
   "language": "python",
   "name": "python3"
  },
  "language_info": {
   "codemirror_mode": {
    "name": "ipython",
    "version": 3
   },
   "file_extension": ".py",
   "mimetype": "text/x-python",
   "name": "python",
   "nbconvert_exporter": "python",
   "pygments_lexer": "ipython3",
   "version": "3.6.7"
  }
 },
 "nbformat": 4,
 "nbformat_minor": 2
}
