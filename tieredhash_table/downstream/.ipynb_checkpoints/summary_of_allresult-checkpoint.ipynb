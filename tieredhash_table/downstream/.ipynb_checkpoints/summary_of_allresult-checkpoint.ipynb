{
 "cells": [
  {
   "cell_type": "code",
   "execution_count": 1,
   "metadata": {},
   "outputs": [
    {
     "data": {
      "text/plain": [
       "22"
      ]
     },
     "execution_count": 1,
     "metadata": {},
     "output_type": "execute_result"
    }
   ],
   "source": [
    "import pandas as pd\n",
    "import glob\n",
    "from collections import defaultdict\n",
    "import os\n",
    "from statistics import mean\n",
    "from statistics import median\n",
    "\n",
    "\n",
    "infol='/Users/irffanalahi/Research/Research_update/SoftRD/hashtable_stats/tieredApproach/BL22_groupv2/All/thresholdCombinations_linecount'\n",
    "\n",
    "\n",
    "delta_cutoffs=[.2,.4,.6,.8]\n",
    "\n",
    "\n",
    "allfiles=glob.glob(infol+\"/*.txt\")\n",
    "len(allfiles)"
   ]
  },
  {
   "cell_type": "code",
   "execution_count": 2,
   "metadata": {},
   "outputs": [],
   "source": [
    "\n",
    "outdictmean= defaultdict(list)\n",
    "outdictmedian= defaultdict(list)\n",
    "outdictSMcount=defaultdict(list)\n",
    "\n",
    "for afile in allfiles:\n",
    "    \n",
    "    ctname=(os.path.basename(afile)).split(\"_\")[0]\n",
    "  \n",
    "    tempdf=pd.read_csv(afile,sep='\\t')\n",
    "  \n",
    "    \n",
    "    \n",
    "    for dcutoff in delta_cutoffs:\n",
    "        currentlinecount=(tempdf[tempdf['Average Value']>=dcutoff]['Line Count']).tolist()\n",
    "        currentSMcount=len(currentlinecount)\n",
    "        currentlinecountmean=mean(currentlinecount)\n",
    "        currentlinecountmedian=median(currentlinecount)\n",
    "        outdictmean[ctname].append(currentlinecountmean)\n",
    "        outdictmedian[ctname].append(currentlinecountmedian)\n",
    "        \n",
    "        outdictSMcount[ctname].append(currentSMcount)\n",
    "        \n",
    "   "
   ]
  },
  {
   "cell_type": "code",
   "execution_count": 3,
   "metadata": {},
   "outputs": [
    {
     "data": {
      "text/html": [
       "<div>\n",
       "<style scoped>\n",
       "    .dataframe tbody tr th:only-of-type {\n",
       "        vertical-align: middle;\n",
       "    }\n",
       "\n",
       "    .dataframe tbody tr th {\n",
       "        vertical-align: top;\n",
       "    }\n",
       "\n",
       "    .dataframe thead th {\n",
       "        text-align: right;\n",
       "    }\n",
       "</style>\n",
       "<table border=\"1\" class=\"dataframe\">\n",
       "  <thead>\n",
       "    <tr style=\"text-align: right;\">\n",
       "      <th></th>\n",
       "      <th>0.2</th>\n",
       "      <th>0.4</th>\n",
       "      <th>0.6</th>\n",
       "      <th>0.8</th>\n",
       "    </tr>\n",
       "    <tr>\n",
       "      <th>celltype</th>\n",
       "      <th></th>\n",
       "      <th></th>\n",
       "      <th></th>\n",
       "      <th></th>\n",
       "    </tr>\n",
       "  </thead>\n",
       "  <tbody>\n",
       "    <tr>\n",
       "      <th>Mg</th>\n",
       "      <td>2809.562500</td>\n",
       "      <td>1459.461538</td>\n",
       "      <td>543.287879</td>\n",
       "      <td>160</td>\n",
       "    </tr>\n",
       "    <tr>\n",
       "      <th>PMN</th>\n",
       "      <td>17040.300781</td>\n",
       "      <td>12194.977376</td>\n",
       "      <td>5214.454545</td>\n",
       "      <td>1510</td>\n",
       "    </tr>\n",
       "    <tr>\n",
       "      <th>cm4</th>\n",
       "      <td>4987.296875</td>\n",
       "      <td>2022.674208</td>\n",
       "      <td>288.939394</td>\n",
       "      <td>4</td>\n",
       "    </tr>\n",
       "    <tr>\n",
       "      <th>iDC</th>\n",
       "      <td>898.492188</td>\n",
       "      <td>393.389140</td>\n",
       "      <td>92.696970</td>\n",
       "      <td>24</td>\n",
       "    </tr>\n",
       "    <tr>\n",
       "      <th>em4</th>\n",
       "      <td>12674.570312</td>\n",
       "      <td>4118.737557</td>\n",
       "      <td>411.136364</td>\n",
       "      <td>5</td>\n",
       "    </tr>\n",
       "  </tbody>\n",
       "</table>\n",
       "</div>"
      ],
      "text/plain": [
       "                   0.2           0.4          0.6   0.8\n",
       "celltype                                               \n",
       "Mg         2809.562500   1459.461538   543.287879   160\n",
       "PMN       17040.300781  12194.977376  5214.454545  1510\n",
       "cm4        4987.296875   2022.674208   288.939394     4\n",
       "iDC         898.492188    393.389140    92.696970    24\n",
       "em4       12674.570312   4118.737557   411.136364     5"
      ]
     },
     "execution_count": 3,
     "metadata": {},
     "output_type": "execute_result"
    }
   ],
   "source": [
    "outdictmeanDF=pd.DataFrame.from_dict(outdictmean,orient='index',columns=delta_cutoffs)\n",
    "\n",
    "outdictmeanDF.index.name ='celltype'\n",
    "outdictmeanDF.head()"
   ]
  },
  {
   "cell_type": "code",
   "execution_count": 4,
   "metadata": {},
   "outputs": [
    {
     "data": {
      "text/html": [
       "<div>\n",
       "<style scoped>\n",
       "    .dataframe tbody tr th:only-of-type {\n",
       "        vertical-align: middle;\n",
       "    }\n",
       "\n",
       "    .dataframe tbody tr th {\n",
       "        vertical-align: top;\n",
       "    }\n",
       "\n",
       "    .dataframe thead th {\n",
       "        text-align: right;\n",
       "    }\n",
       "</style>\n",
       "<table border=\"1\" class=\"dataframe\">\n",
       "  <thead>\n",
       "    <tr style=\"text-align: right;\">\n",
       "      <th></th>\n",
       "      <th>0.2</th>\n",
       "      <th>0.4</th>\n",
       "      <th>0.6</th>\n",
       "      <th>0.8</th>\n",
       "    </tr>\n",
       "    <tr>\n",
       "      <th>celltype</th>\n",
       "      <th></th>\n",
       "      <th></th>\n",
       "      <th></th>\n",
       "      <th></th>\n",
       "    </tr>\n",
       "  </thead>\n",
       "  <tbody>\n",
       "    <tr>\n",
       "      <th>Mg</th>\n",
       "      <td>1256.5</td>\n",
       "      <td>999</td>\n",
       "      <td>483.5</td>\n",
       "      <td>160</td>\n",
       "    </tr>\n",
       "    <tr>\n",
       "      <th>PMN</th>\n",
       "      <td>11805.0</td>\n",
       "      <td>8028</td>\n",
       "      <td>4111.5</td>\n",
       "      <td>1510</td>\n",
       "    </tr>\n",
       "    <tr>\n",
       "      <th>cm4</th>\n",
       "      <td>420.5</td>\n",
       "      <td>320</td>\n",
       "      <td>62.0</td>\n",
       "      <td>4</td>\n",
       "    </tr>\n",
       "    <tr>\n",
       "      <th>iDC</th>\n",
       "      <td>242.0</td>\n",
       "      <td>192</td>\n",
       "      <td>56.0</td>\n",
       "      <td>24</td>\n",
       "    </tr>\n",
       "    <tr>\n",
       "      <th>em4</th>\n",
       "      <td>1098.0</td>\n",
       "      <td>706</td>\n",
       "      <td>99.0</td>\n",
       "      <td>5</td>\n",
       "    </tr>\n",
       "  </tbody>\n",
       "</table>\n",
       "</div>"
      ],
      "text/plain": [
       "              0.2   0.4     0.6   0.8\n",
       "celltype                             \n",
       "Mg         1256.5   999   483.5   160\n",
       "PMN       11805.0  8028  4111.5  1510\n",
       "cm4         420.5   320    62.0     4\n",
       "iDC         242.0   192    56.0    24\n",
       "em4        1098.0   706    99.0     5"
      ]
     },
     "execution_count": 4,
     "metadata": {},
     "output_type": "execute_result"
    }
   ],
   "source": [
    "outdictmedianDF=pd.DataFrame.from_dict(outdictmedian,orient='index',columns=delta_cutoffs)\n",
    "outdictmedianDF.index.name ='celltype'\n",
    "outdictmedianDF.head()"
   ]
  },
  {
   "cell_type": "code",
   "execution_count": null,
   "metadata": {},
   "outputs": [],
   "source": [
    "outdictSMcountDF=pd.DataFrame.from_dict(outdictSMcount,orient='index',columns=delta_cutoffs)\n",
    "outdictSMcountDF.index.name ='celltype'\n",
    "outdictSMcountDF.head()"
   ]
  },
  {
   "cell_type": "code",
   "execution_count": 5,
   "metadata": {},
   "outputs": [],
   "source": [
    "outdictmeanDF.to_csv(infol+\"_SummaryMean.txt\",sep=\"\\t\")\n",
    "outdictmedianDF.to_csv(infol+\"_SummaryMedian.txt\",sep=\"\\t\")\n",
    "outdictSMcountDF.to_csv(infol+\"_SummarySMcount.txt\",sep=\"\\t\")"
   ]
  }
 ],
 "metadata": {
  "kernelspec": {
   "display_name": "Python 3",
   "language": "python",
   "name": "python3"
  },
  "language_info": {
   "codemirror_mode": {
    "name": "ipython",
    "version": 3
   },
   "file_extension": ".py",
   "mimetype": "text/x-python",
   "name": "python",
   "nbconvert_exporter": "python",
   "pygments_lexer": "ipython3",
   "version": "3.6.7"
  }
 },
 "nbformat": 4,
 "nbformat_minor": 2
}
