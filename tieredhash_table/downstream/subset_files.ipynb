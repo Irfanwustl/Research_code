{
 "cells": [
  {
   "cell_type": "code",
   "execution_count": 62,
   "metadata": {},
   "outputs": [],
   "source": [
    "import pandas as pd\n",
    "import os\n",
    "import numpy as np\n",
    "import time"
   ]
  },
  {
   "cell_type": "code",
   "execution_count": 63,
   "metadata": {},
   "outputs": [
    {
     "ename": "FileExistsError",
     "evalue": "[Errno 17] File exists: 'PMN_thresholdpos_allthresholdcombinations_subset3'",
     "output_type": "error",
     "traceback": [
      "\u001b[0;31m---------------------------------------------------------------------------\u001b[0m",
      "\u001b[0;31mFileExistsError\u001b[0m                           Traceback (most recent call last)",
      "\u001b[0;32m<ipython-input-63-7dbc4d83dfe1>\u001b[0m in \u001b[0;36m<module>\u001b[0;34m\u001b[0m\n\u001b[1;32m      4\u001b[0m \u001b[0mcutoff\u001b[0m \u001b[0;34m=\u001b[0m \u001b[0;36m300\u001b[0m\u001b[0;34m\u001b[0m\u001b[0m\n\u001b[1;32m      5\u001b[0m \u001b[0mcpgs\u001b[0m \u001b[0;34m=\u001b[0m \u001b[0;36m2\u001b[0m\u001b[0;34m\u001b[0m\u001b[0m\n\u001b[0;32m----> 6\u001b[0;31m \u001b[0mos\u001b[0m\u001b[0;34m.\u001b[0m\u001b[0mmkdir\u001b[0m\u001b[0;34m(\u001b[0m\u001b[0moutfol\u001b[0m\u001b[0;34m)\u001b[0m\u001b[0;34m\u001b[0m\u001b[0m\n\u001b[0m",
      "\u001b[0;31mFileExistsError\u001b[0m: [Errno 17] File exists: 'PMN_thresholdpos_allthresholdcombinations_subset3'"
     ]
    }
   ],
   "source": [
    "fol = 'PMN_thresholdpos_allthresholdcombinations'\n",
    "outfol = fol + '_subset3'\n",
    "files = os.listdir(fol)\n",
    "cutoff = 300\n",
    "cpgs = 2\n",
    "os.mkdir(outfol)"
   ]
  },
  {
   "cell_type": "code",
   "execution_count": 64,
   "metadata": {},
   "outputs": [],
   "source": [
    "def subset(file):\n",
    "    path = fol + '/' + file\n",
    "    data = pd.read_csv(path, sep='\\t', header=None, names=['Chrom', 'Start', 'End'])\n",
    "    df = pd.DataFrame(data)\n",
    "    df_new = pd.DataFrame(columns=list(df.columns))\n",
    "    for ch in np.unique(df['Chrom']):\n",
    "        df_ch = df[df['Chrom'] == ch]\n",
    "        for i in df_ch.index:\n",
    "            start = df_ch.at[i, 'Start']\n",
    "            low = int(start) - cutoff\n",
    "            high = int(start) + cutoff\n",
    "            df_sub = df_ch[(df_ch['Start'] > low) & (df_ch['Start'] < high)]\n",
    "            if len(df_sub) >= cpgs:\n",
    "                df_new = df_new.append(df_ch[df_ch['Start'] == start])\n",
    "    df_new.to_csv(outfol + '/' + file, sep='\\t', index=None)"
   ]
  },
  {
   "cell_type": "code",
   "execution_count": 65,
   "metadata": {},
   "outputs": [
    {
     "name": "stdout",
     "output_type": "stream",
     "text": [
      "1233.138422012329\n"
     ]
    }
   ],
   "source": [
    "from joblib import Parallel, delayed\n",
    "start_time = time.time()\n",
    "results = Parallel(n_jobs=-1)(delayed(subset)(file) for file in files)\n",
    "print(time.time() - start_time)"
   ]
  },
  {
   "cell_type": "code",
   "execution_count": null,
   "metadata": {},
   "outputs": [],
   "source": []
  }
 ],
 "metadata": {
  "kernelspec": {
   "display_name": "Python 3",
   "language": "python",
   "name": "python3"
  },
  "language_info": {
   "codemirror_mode": {
    "name": "ipython",
    "version": 3
   },
   "file_extension": ".py",
   "mimetype": "text/x-python",
   "name": "python",
   "nbconvert_exporter": "python",
   "pygments_lexer": "ipython3",
   "version": "3.6.7"
  }
 },
 "nbformat": 4,
 "nbformat_minor": 4
}
