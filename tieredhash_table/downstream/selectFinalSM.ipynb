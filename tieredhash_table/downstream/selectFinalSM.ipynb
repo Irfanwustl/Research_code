{
 "cells": [
  {
   "cell_type": "code",
   "execution_count": 1,
   "metadata": {},
   "outputs": [],
   "source": [
    "import pandas as pd\n",
    "import sys\n",
    "import os\n",
    "import numpy as np\n",
    "import seaborn as sns\n",
    "import matplotlib.pyplot as plt\n",
    "\n",
    "infolder = '/Users/irffanalahi/Research/Research_update/SoftRD/hashtable_stats/tieredApproach/Epcam_blue/EPfromserverlinecount_text'\n",
    "outfol = infolder + '_figures'\n",
    "files = os.listdir(infolder)\n",
    "groups = '/Users/irffanalahi/Research/Research_update/SoftRD/hashtable_stats/tieredApproach/Epcam_blue/BL22EPCAM_Groups.txt'\n",
    "celltypes =  '/Users/irffanalahi/Research/Research_update/SoftRD/hashtable_stats/tieredApproach/Epcam_blue/BL22EPCAM_Phenoclass_justEPCAM.txt'\n",
    "if '.ipynb_checkpoints' in files:\n",
    "    files.remove('.ipynb_checkpoints')\n",
    "\n",
    "minimumTOTALcpg=250\n",
    "distancefromothergroup=0.5\n",
    "\n",
    "os.mkdir(outfol)"
   ]
  },
  {
   "cell_type": "code",
   "execution_count": 2,
   "metadata": {},
   "outputs": [],
   "source": [
    "df_groups = pd.read_csv(groups, sep='\\t', index_col=0, header=None)\n",
    "df_groups = df_groups.T\n",
    "\n",
    "df_cells = pd.read_csv(celltypes, sep='\\t', index_col=0, header=None)\n",
    "df_cells = df_cells.T\n",
    "\n",
    "def find_owngroup(df_group, df_cell, infile):\n",
    "    celltype = infile.split('_')[0]\n",
    "    cell_arr = np.array(df_cell[celltype])\n",
    "    idx = np.where(cell_arr == 1)[0]\n",
    "    for group in df_group.columns:\n",
    "        group_arr = np.array(df_group[group])\n",
    "        if group_arr[idx[0]] == 1:\n",
    "            return group + celltype"
   ]
  },
  {
   "cell_type": "code",
   "execution_count": 3,
   "metadata": {},
   "outputs": [],
   "source": [
    "def calculateOtherVSowngroup(fname, owngroupcelltype):\n",
    "    split_lst = fname.split(\"_\")\n",
    "    total = 0\n",
    "    n = 0\n",
    "    \n",
    "    nums = [str(i) for i in list(range(0, 10))]\n",
    "    \n",
    "    prev='garbage'\n",
    "    \n",
    "    owngroupdelta=-999\n",
    "    \n",
    "    for split in split_lst:\n",
    "        \n",
    "        if \"-\" in split and split[-1] in nums: # confirm that the substring is a negative number\n",
    "            \n",
    "            if owngroupcelltype in prev:\n",
    "                \n",
    "                owngroupdelta=abs(float(split))\n",
    "            \n",
    "            else:\n",
    "            \n",
    "                n += 1\n",
    "                total += float(split)\n",
    "        else:\n",
    "            prev=split\n",
    "            \n",
    "            \n",
    "   \n",
    "    avgs=abs(total / n)\n",
    "    \n",
    "    \n",
    "    return avgs,owngroupdelta,abs(total)\n",
    "\n",
    "def generate_df(folder, infile):\n",
    "    indf = pd.read_csv(folder + '/' + infile, sep='\\t')\n",
    "    indf['other_group']=-999\n",
    "    indf['other_group_sum']=-999  ##############\n",
    "    indf['own_group']=-999\n",
    "    owngroupcelltype = find_owngroup(df_groups, df_cells, infile)\n",
    "    for index, row in indf.iterrows():\n",
    "        r1,r2,r3=calculateOtherVSowngroup(row['Filename'], owngroupcelltype)\n",
    "    \n",
    "    \n",
    "        indf.iloc[index,indf.columns.get_loc('other_group')]=r1\n",
    "    \n",
    "        indf.iloc[index,indf.columns.get_loc('own_group')]=r2\n",
    "    \n",
    "        indf.iloc[index,indf.columns.get_loc('other_group_sum')]=r3\n",
    "        \n",
    "    try1=indf[(indf['Line Count']>minimumTOTALcpg) & (indf['other_group']>distancefromothergroup)]\n",
    "    percentile75=try1['Average Value'].quantile(0.75)\n",
    "    outdfstep1=try1[try1['Average Value']>=percentile75]\n",
    "    return outdfstep1\n",
    "    \n",
    "def find_min_dist(df_sub):\n",
    "    x = np.array(df_sub['Average Value'])\n",
    "    y = np.array(df_sub['own_group'])\n",
    "    max_p = (max(x), max(y))\n",
    "    min_p = (min(x), min(y))\n",
    "    x_dist = max_p[0] - min_p[0]\n",
    "    y_dist = max_p[1] - min_p[1]\n",
    "    if x_dist == 0:\n",
    "        x_dist = 1\n",
    "    if y_dist == 0:\n",
    "        y_dist = 1\n",
    "    new_dist = np.sqrt(np.square((x - max_p[0]) / x_dist) + np.square((y - max_p[1]) / y_dist))\n",
    "    idx = np.argmin(new_dist)\n",
    "    return list(df_sub['Filename'])[idx]"
   ]
  },
  {
   "cell_type": "code",
   "execution_count": 4,
   "metadata": {
    "jupyter": {
     "outputs_hidden": true
    }
   },
   "outputs": [
    {
     "data": {
      "image/png": "[encoded data removed]",
      "text/plain": [
       "<Figure size 504x360 with 1 Axes>"
      ]
     },
     "metadata": {
      "needs_background": "light"
     },
     "output_type": "display_data"
    }
   ],
   "source": [
    "cell_types = []\n",
    "min_files = []\n",
    "for file in files:\n",
    "    celltype = file.split('_')[0]\n",
    "    df = generate_df(infolder, file)\n",
    "    fig, ax = plt.subplots(1, 1, figsize=(7,5))\n",
    "    minfile = find_min_dist(df)\n",
    "    df_subset = df[df['Filename'] == minfile]\n",
    "    sns.scatterplot(x='Average Value', y='own_group', color='DarkBlue', ax=ax, data=df)\n",
    "    sns.scatterplot(x='Average Value', y='own_group', color='r', ax=ax, data=df_subset)\n",
    "    plt.savefig(outfol + '/' + file + '_scatterplot.pdf', bbox_inches='tight')\n",
    "    cell_types.append(celltype)\n",
    "    min_files.append(find_min_dist(df))"
   ]
  },
  {
   "cell_type": "code",
   "execution_count": 5,
   "metadata": {},
   "outputs": [],
   "source": [
    "df_dic = {'Cells':cell_types, 'Files':min_files}\n",
    "df_minfiles = pd.DataFrame.from_dict(df_dic)\n",
    "df_minfiles.to_csv(infolder + '_filelist.txt', sep='\\t', index=None)"
   ]
  }
 ],
 "metadata": {
  "kernelspec": {
   "display_name": "Python 3",
   "language": "python",
   "name": "python3"
  },
  "language_info": {
   "codemirror_mode": {
    "name": "ipython",
    "version": 3
   },
   "file_extension": ".py",
   "mimetype": "text/x-python",
   "name": "python",
   "nbconvert_exporter": "python",
   "pygments_lexer": "ipython3",
   "version": "3.6.7"
  }
 },
 "nbformat": 4,
 "nbformat_minor": 4
}
