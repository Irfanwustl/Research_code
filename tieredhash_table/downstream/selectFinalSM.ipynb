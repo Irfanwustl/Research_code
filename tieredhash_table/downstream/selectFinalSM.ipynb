{
 "cells": [
  {
   "cell_type": "code",
   "execution_count": 1,
   "metadata": {},
   "outputs": [
    {
     "data": {
      "text/html": [
       "<div>\n",
       "<style scoped>\n",
       "    .dataframe tbody tr th:only-of-type {\n",
       "        vertical-align: middle;\n",
       "    }\n",
       "\n",
       "    .dataframe tbody tr th {\n",
       "        vertical-align: top;\n",
       "    }\n",
       "\n",
       "    .dataframe thead th {\n",
       "        text-align: right;\n",
       "    }\n",
       "</style>\n",
       "<table border=\"1\" class=\"dataframe\">\n",
       "  <thead>\n",
       "    <tr style=\"text-align: right;\">\n",
       "      <th></th>\n",
       "      <th>Filename</th>\n",
       "      <th>Average Value</th>\n",
       "      <th>Line Count</th>\n",
       "    </tr>\n",
       "  </thead>\n",
       "  <tbody>\n",
       "    <tr>\n",
       "      <th>0</th>\n",
       "      <td>CD8TIL_CD8patientPBLCD8TIL_-0.6_int_CD8TIL_mel...</td>\n",
       "      <td>0.5</td>\n",
       "      <td>641</td>\n",
       "    </tr>\n",
       "    <tr>\n",
       "      <th>1</th>\n",
       "      <td>CD8TIL_CD8patientPBLCD8TIL_-0.6_int_CD8TIL_mel...</td>\n",
       "      <td>0.4</td>\n",
       "      <td>1577</td>\n",
       "    </tr>\n",
       "    <tr>\n",
       "      <th>2</th>\n",
       "      <td>CD8TIL_CD8patientPBLCD8TIL_-0.2_int_CD8TIL_mel...</td>\n",
       "      <td>0.5</td>\n",
       "      <td>1345</td>\n",
       "    </tr>\n",
       "    <tr>\n",
       "      <th>3</th>\n",
       "      <td>CD8TIL_CD8patientPBLCD8TIL_-0.2_int_CD8TIL_mel...</td>\n",
       "      <td>0.4</td>\n",
       "      <td>9564</td>\n",
       "    </tr>\n",
       "    <tr>\n",
       "      <th>4</th>\n",
       "      <td>CD8TIL_CD8patientPBLCD8TIL_-0.4_int_CD8TIL_mel...</td>\n",
       "      <td>0.4</td>\n",
       "      <td>5735</td>\n",
       "    </tr>\n",
       "  </tbody>\n",
       "</table>\n",
       "</div>"
      ],
      "text/plain": [
       "                                            Filename  Average Value  \\\n",
       "0  CD8TIL_CD8patientPBLCD8TIL_-0.6_int_CD8TIL_mel...            0.5   \n",
       "1  CD8TIL_CD8patientPBLCD8TIL_-0.6_int_CD8TIL_mel...            0.4   \n",
       "2  CD8TIL_CD8patientPBLCD8TIL_-0.2_int_CD8TIL_mel...            0.5   \n",
       "3  CD8TIL_CD8patientPBLCD8TIL_-0.2_int_CD8TIL_mel...            0.4   \n",
       "4  CD8TIL_CD8patientPBLCD8TIL_-0.4_int_CD8TIL_mel...            0.4   \n",
       "\n",
       "   Line Count  \n",
       "0         641  \n",
       "1        1577  \n",
       "2        1345  \n",
       "3        9564  \n",
       "4        5735  "
      ]
     },
     "execution_count": 1,
     "metadata": {},
     "output_type": "execute_result"
    }
   ],
   "source": [
    "import pandas as pd\n",
    "import sys\n",
    "\n",
    "infile='/Users/irffanalahi/Research/Research_update/SoftRD/hashtable_stats/CD8TIL_CD8PBL_meltumor/deltaCD8tilCD8pbl_thresholdpos_allthresholdcombinations_stat.txt'  #'/Users/irffanalahi/Research/Research_update/SoftRD/hashtable_stats/tieredApproach/BL22_groupv2/em4_cm4/cm4_thresholdpos_allthresholdcombinations_Shoonhsin_avg_and_linecount.txt'\n",
    "\n",
    "\n",
    "owngroup='mel'\n",
    "celltype='CD8TIL'\n",
    "\n",
    "minimumTOTALcpg=1000\n",
    "\n",
    "\n",
    "owngroupcelltype=owngroup+celltype\n",
    "\n",
    "\n",
    "indf=pd.read_csv(infile,sep='\\t')\n",
    "indf.head()"
   ]
  },
  {
   "cell_type": "code",
   "execution_count": 2,
   "metadata": {},
   "outputs": [
    {
     "data": {
      "text/html": [
       "<div>\n",
       "<style scoped>\n",
       "    .dataframe tbody tr th:only-of-type {\n",
       "        vertical-align: middle;\n",
       "    }\n",
       "\n",
       "    .dataframe tbody tr th {\n",
       "        vertical-align: top;\n",
       "    }\n",
       "\n",
       "    .dataframe thead th {\n",
       "        text-align: right;\n",
       "    }\n",
       "</style>\n",
       "<table border=\"1\" class=\"dataframe\">\n",
       "  <thead>\n",
       "    <tr style=\"text-align: right;\">\n",
       "      <th></th>\n",
       "      <th>Filename</th>\n",
       "      <th>Average Value</th>\n",
       "      <th>Line Count</th>\n",
       "      <th>other_group</th>\n",
       "      <th>other_group_sum</th>\n",
       "      <th>own_group</th>\n",
       "    </tr>\n",
       "  </thead>\n",
       "  <tbody>\n",
       "    <tr>\n",
       "      <th>0</th>\n",
       "      <td>CD8TIL_CD8patientPBLCD8TIL_-0.6_int_CD8TIL_mel...</td>\n",
       "      <td>0.5</td>\n",
       "      <td>641</td>\n",
       "      <td>-999</td>\n",
       "      <td>-999</td>\n",
       "      <td>-999</td>\n",
       "    </tr>\n",
       "    <tr>\n",
       "      <th>1</th>\n",
       "      <td>CD8TIL_CD8patientPBLCD8TIL_-0.6_int_CD8TIL_mel...</td>\n",
       "      <td>0.4</td>\n",
       "      <td>1577</td>\n",
       "      <td>-999</td>\n",
       "      <td>-999</td>\n",
       "      <td>-999</td>\n",
       "    </tr>\n",
       "    <tr>\n",
       "      <th>2</th>\n",
       "      <td>CD8TIL_CD8patientPBLCD8TIL_-0.2_int_CD8TIL_mel...</td>\n",
       "      <td>0.5</td>\n",
       "      <td>1345</td>\n",
       "      <td>-999</td>\n",
       "      <td>-999</td>\n",
       "      <td>-999</td>\n",
       "    </tr>\n",
       "    <tr>\n",
       "      <th>3</th>\n",
       "      <td>CD8TIL_CD8patientPBLCD8TIL_-0.2_int_CD8TIL_mel...</td>\n",
       "      <td>0.4</td>\n",
       "      <td>9564</td>\n",
       "      <td>-999</td>\n",
       "      <td>-999</td>\n",
       "      <td>-999</td>\n",
       "    </tr>\n",
       "    <tr>\n",
       "      <th>4</th>\n",
       "      <td>CD8TIL_CD8patientPBLCD8TIL_-0.4_int_CD8TIL_mel...</td>\n",
       "      <td>0.4</td>\n",
       "      <td>5735</td>\n",
       "      <td>-999</td>\n",
       "      <td>-999</td>\n",
       "      <td>-999</td>\n",
       "    </tr>\n",
       "  </tbody>\n",
       "</table>\n",
       "</div>"
      ],
      "text/plain": [
       "                                            Filename  Average Value  \\\n",
       "0  CD8TIL_CD8patientPBLCD8TIL_-0.6_int_CD8TIL_mel...            0.5   \n",
       "1  CD8TIL_CD8patientPBLCD8TIL_-0.6_int_CD8TIL_mel...            0.4   \n",
       "2  CD8TIL_CD8patientPBLCD8TIL_-0.2_int_CD8TIL_mel...            0.5   \n",
       "3  CD8TIL_CD8patientPBLCD8TIL_-0.2_int_CD8TIL_mel...            0.4   \n",
       "4  CD8TIL_CD8patientPBLCD8TIL_-0.4_int_CD8TIL_mel...            0.4   \n",
       "\n",
       "   Line Count  other_group  other_group_sum  own_group  \n",
       "0         641         -999             -999       -999  \n",
       "1        1577         -999             -999       -999  \n",
       "2        1345         -999             -999       -999  \n",
       "3        9564         -999             -999       -999  \n",
       "4        5735         -999             -999       -999  "
      ]
     },
     "execution_count": 2,
     "metadata": {},
     "output_type": "execute_result"
    }
   ],
   "source": [
    "indf['other_group']=-999\n",
    "indf['other_group_sum']=-999  ##############\n",
    "indf['own_group']=-999\n",
    "\n",
    "indf.head()"
   ]
  },
  {
   "cell_type": "code",
   "execution_count": 3,
   "metadata": {},
   "outputs": [],
   "source": [
    "def calculateOtherVSowngroup(fname):\n",
    "    split_lst = fname.split(\"_\")\n",
    "    total = 0\n",
    "    n = 0\n",
    "    \n",
    "    nums = [str(i) for i in list(range(0, 10))]\n",
    "    \n",
    "    prev='garbage'\n",
    "    \n",
    "    owngroupdelta=-999\n",
    "    \n",
    "    for split in split_lst:\n",
    "        \n",
    "        if \"-\" in split and split[-1] in nums: # confirm that the substring is a negative number\n",
    "            \n",
    "            if owngroupcelltype in prev:\n",
    "                \n",
    "                owngroupdelta=abs(float(split))\n",
    "            \n",
    "            else:\n",
    "            \n",
    "                n += 1\n",
    "                total += float(split)\n",
    "        else:\n",
    "            prev=split\n",
    "            \n",
    "            \n",
    "   \n",
    "    avgs=abs(total / n)\n",
    "    \n",
    "    \n",
    "    return avgs,owngroupdelta,abs(total)"
   ]
  },
  {
   "cell_type": "code",
   "execution_count": 4,
   "metadata": {},
   "outputs": [],
   "source": [
    "for index, row in indf.iterrows():\n",
    "    r1,r2,r3=calculateOtherVSowngroup(row['Filename'])\n",
    "    \n",
    "    \n",
    "    indf.iloc[index,indf.columns.get_loc('other_group')]=r1\n",
    "    \n",
    "    indf.iloc[index,indf.columns.get_loc('own_group')]=r2\n",
    "    \n",
    "    indf.iloc[index,indf.columns.get_loc('other_group_sum')]=r3\n",
    "    \n",
    "    "
   ]
  },
  {
   "cell_type": "code",
   "execution_count": 5,
   "metadata": {},
   "outputs": [
    {
     "data": {
      "text/plain": [
       "<matplotlib.axes._subplots.AxesSubplot at 0x7fd2f7af9e10>"
      ]
     },
     "execution_count": 5,
     "metadata": {},
     "output_type": "execute_result"
    },
    {
     "data": {
      "image/png": "[encoded data removed]",
      "text/plain": [
       "<Figure size 432x288 with 1 Axes>"
      ]
     },
     "metadata": {
      "needs_background": "light"
     },
     "output_type": "display_data"
    }
   ],
   "source": [
    "indf.boxplot(column=['Average Value'])"
   ]
  },
  {
   "cell_type": "code",
   "execution_count": 22,
   "metadata": {},
   "outputs": [
    {
     "name": "stdout",
     "output_type": "stream",
     "text": [
      "0.6000000000000001\n",
      "0.5\n"
     ]
    }
   ],
   "source": [
    "percentile75=indf['Average Value'].quantile(0.75)\n",
    "percentile50=indf['Average Value'].quantile(0.5)\n",
    "print(percentile75)\n",
    "print(percentile50)"
   ]
  },
  {
   "cell_type": "code",
   "execution_count": 7,
   "metadata": {},
   "outputs": [],
   "source": [
    "outdfstep0=indf[indf['Average Value']>=percentile75]\n",
    "outdfstep1=outdfstep0[outdfstep0['Line Count']>minimumTOTALcpg]\n",
    "if outdfstep1.shape[0]==0:\n",
    "    outdfstep0=indf[indf['Average Value']>=percentile50]\n",
    "    outdfstep1=outdfstep0[outdfstep0['Line Count']>minimumTOTALcpg]\n",
    "    if outdfstep0.shape[0]==0:\n",
    "        print(\"Need to see. Not getting 1000 CpGs\")\n",
    "        sys.exit(1)"
   ]
  },
  {
   "cell_type": "code",
   "execution_count": 8,
   "metadata": {},
   "outputs": [
    {
     "data": {
      "text/html": [
       "<div>\n",
       "<style scoped>\n",
       "    .dataframe tbody tr th:only-of-type {\n",
       "        vertical-align: middle;\n",
       "    }\n",
       "\n",
       "    .dataframe tbody tr th {\n",
       "        vertical-align: top;\n",
       "    }\n",
       "\n",
       "    .dataframe thead th {\n",
       "        text-align: right;\n",
       "    }\n",
       "</style>\n",
       "<table border=\"1\" class=\"dataframe\">\n",
       "  <thead>\n",
       "    <tr style=\"text-align: right;\">\n",
       "      <th></th>\n",
       "      <th>Filename</th>\n",
       "      <th>Average Value</th>\n",
       "      <th>Line Count</th>\n",
       "      <th>other_group</th>\n",
       "      <th>other_group_sum</th>\n",
       "      <th>own_group</th>\n",
       "    </tr>\n",
       "  </thead>\n",
       "  <tbody>\n",
       "    <tr>\n",
       "      <th>2</th>\n",
       "      <td>CD8TIL_CD8patientPBLCD8TIL_-0.2_int_CD8TIL_mel...</td>\n",
       "      <td>0.5</td>\n",
       "      <td>1345</td>\n",
       "      <td>0.2</td>\n",
       "      <td>0.2</td>\n",
       "      <td>0.8</td>\n",
       "    </tr>\n",
       "    <tr>\n",
       "      <th>13</th>\n",
       "      <td>CD8TIL_CD8patientPBLCD8TIL_-0.4_int_CD8TIL_mel...</td>\n",
       "      <td>0.5</td>\n",
       "      <td>2139</td>\n",
       "      <td>0.4</td>\n",
       "      <td>0.4</td>\n",
       "      <td>0.6</td>\n",
       "    </tr>\n",
       "  </tbody>\n",
       "</table>\n",
       "</div>"
      ],
      "text/plain": [
       "                                             Filename  Average Value  \\\n",
       "2   CD8TIL_CD8patientPBLCD8TIL_-0.2_int_CD8TIL_mel...            0.5   \n",
       "13  CD8TIL_CD8patientPBLCD8TIL_-0.4_int_CD8TIL_mel...            0.5   \n",
       "\n",
       "    Line Count  other_group  other_group_sum  own_group  \n",
       "2         1345          0.2              0.2        0.8  \n",
       "13        2139          0.4              0.4        0.6  "
      ]
     },
     "execution_count": 8,
     "metadata": {},
     "output_type": "execute_result"
    }
   ],
   "source": [
    "\n",
    "outdfstep1.head()"
   ]
  },
  {
   "cell_type": "code",
   "execution_count": 9,
   "metadata": {},
   "outputs": [
    {
     "data": {
      "text/plain": [
       "<matplotlib.axes._subplots.AxesSubplot at 0x7fd2f7c52438>"
      ]
     },
     "execution_count": 9,
     "metadata": {},
     "output_type": "execute_result"
    },
    {
     "data": {
      "image/png": "[encoded data removed]",
      "text/plain": [
       "<Figure size 432x288 with 1 Axes>"
      ]
     },
     "metadata": {
      "needs_background": "light"
     },
     "output_type": "display_data"
    }
   ],
   "source": [
    "outdfstep1.boxplot(column=['Average Value'])"
   ]
  },
  {
   "cell_type": "code",
   "execution_count": 10,
   "metadata": {},
   "outputs": [
    {
     "data": {
      "text/plain": [
       "(2, 6)"
      ]
     },
     "execution_count": 10,
     "metadata": {},
     "output_type": "execute_result"
    }
   ],
   "source": [
    "outdfstep1.shape"
   ]
  },
  {
   "cell_type": "code",
   "execution_count": 11,
   "metadata": {},
   "outputs": [
    {
     "data": {
      "text/html": [
       "<div>\n",
       "<style scoped>\n",
       "    .dataframe tbody tr th:only-of-type {\n",
       "        vertical-align: middle;\n",
       "    }\n",
       "\n",
       "    .dataframe tbody tr th {\n",
       "        vertical-align: top;\n",
       "    }\n",
       "\n",
       "    .dataframe thead th {\n",
       "        text-align: right;\n",
       "    }\n",
       "</style>\n",
       "<table border=\"1\" class=\"dataframe\">\n",
       "  <thead>\n",
       "    <tr style=\"text-align: right;\">\n",
       "      <th></th>\n",
       "      <th>Filename</th>\n",
       "      <th>Average Value</th>\n",
       "      <th>Line Count</th>\n",
       "      <th>other_group</th>\n",
       "      <th>other_group_sum</th>\n",
       "      <th>own_group</th>\n",
       "    </tr>\n",
       "  </thead>\n",
       "  <tbody>\n",
       "  </tbody>\n",
       "</table>\n",
       "</div>"
      ],
      "text/plain": [
       "Empty DataFrame\n",
       "Columns: [Filename, Average Value, Line Count, other_group, other_group_sum, own_group]\n",
       "Index: []"
      ]
     },
     "execution_count": 11,
     "metadata": {},
     "output_type": "execute_result"
    }
   ],
   "source": [
    "outdfstep1[outdfstep1['Filename']=='g1_cm4_g2_Myloidcm4_-0.8_int_g1_cm4_g2_Bcellcm4_-0.6_int_g1_cm4_g2_PMNlikecm4_-0.8_int_g1_cm4_g2_Tcellcm4_-0.4']"
   ]
  },
  {
   "cell_type": "code",
   "execution_count": 12,
   "metadata": {},
   "outputs": [
    {
     "data": {
      "text/html": [
       "<div>\n",
       "<style scoped>\n",
       "    .dataframe tbody tr th:only-of-type {\n",
       "        vertical-align: middle;\n",
       "    }\n",
       "\n",
       "    .dataframe tbody tr th {\n",
       "        vertical-align: top;\n",
       "    }\n",
       "\n",
       "    .dataframe thead th {\n",
       "        text-align: right;\n",
       "    }\n",
       "</style>\n",
       "<table border=\"1\" class=\"dataframe\">\n",
       "  <thead>\n",
       "    <tr style=\"text-align: right;\">\n",
       "      <th></th>\n",
       "      <th>Filename</th>\n",
       "      <th>Average Value</th>\n",
       "      <th>Line Count</th>\n",
       "      <th>other_group</th>\n",
       "      <th>other_group_sum</th>\n",
       "      <th>own_group</th>\n",
       "    </tr>\n",
       "  </thead>\n",
       "  <tbody>\n",
       "  </tbody>\n",
       "</table>\n",
       "</div>"
      ],
      "text/plain": [
       "Empty DataFrame\n",
       "Columns: [Filename, Average Value, Line Count, other_group, other_group_sum, own_group]\n",
       "Index: []"
      ]
     },
     "execution_count": 12,
     "metadata": {},
     "output_type": "execute_result"
    }
   ],
   "source": [
    "outdfstep1[(outdfstep1['own_group']>=0.4) & (outdfstep1['other_group']>0.6)]"
   ]
  },
  {
   "cell_type": "code",
   "execution_count": 13,
   "metadata": {},
   "outputs": [
    {
     "data": {
      "text/plain": [
       "<matplotlib.axes._subplots.AxesSubplot at 0x7fd2f7cf67f0>"
      ]
     },
     "execution_count": 13,
     "metadata": {},
     "output_type": "execute_result"
    },
    {
     "data": {
      "image/png": "[encoded data removed]",
      "text/plain": [
       "<Figure size 432x288 with 1 Axes>"
      ]
     },
     "metadata": {
      "needs_background": "light"
     },
     "output_type": "display_data"
    }
   ],
   "source": [
    "outdfstep1.boxplot(column=['other_group'])"
   ]
  },
  {
   "cell_type": "code",
   "execution_count": 15,
   "metadata": {},
   "outputs": [
    {
     "data": {
      "text/plain": [
       "<matplotlib.axes._subplots.AxesSubplot at 0x7fd2f7e27668>"
      ]
     },
     "execution_count": 15,
     "metadata": {},
     "output_type": "execute_result"
    },
    {
     "data": {
      "image/png": "[encoded data removed]",
      "text/plain": [
       "<Figure size 432x288 with 1 Axes>"
      ]
     },
     "metadata": {
      "needs_background": "light"
     },
     "output_type": "display_data"
    }
   ],
   "source": [
    "outdfstep1.boxplot(column=['own_group'])"
   ]
  },
  {
   "cell_type": "code",
   "execution_count": 16,
   "metadata": {},
   "outputs": [
    {
     "data": {
      "text/plain": [
       "<matplotlib.axes._subplots.AxesSubplot at 0x7fd2f7f12c88>"
      ]
     },
     "execution_count": 16,
     "metadata": {},
     "output_type": "execute_result"
    },
    {
     "data": {
      "image/png": "[encoded data removed]",
      "text/plain": [
       "<Figure size 432x288 with 1 Axes>"
      ]
     },
     "metadata": {
      "needs_background": "light"
     },
     "output_type": "display_data"
    }
   ],
   "source": [
    "outdfstep1.plot.scatter(x='other_group',y='own_group',c='DarkBlue')"
   ]
  },
  {
   "cell_type": "code",
   "execution_count": 17,
   "metadata": {},
   "outputs": [
    {
     "data": {
      "text/plain": [
       "<matplotlib.axes._subplots.AxesSubplot at 0x7fd2f811bc88>"
      ]
     },
     "execution_count": 17,
     "metadata": {},
     "output_type": "execute_result"
    },
    {
     "data": {
      "image/png": "[encoded data removed]",
      "text/plain": [
       "<Figure size 432x288 with 1 Axes>"
      ]
     },
     "metadata": {
      "needs_background": "light"
     },
     "output_type": "display_data"
    }
   ],
   "source": [
    "outdfstep1.plot.scatter(x='Average Value',y='own_group',c='DarkBlue')"
   ]
  },
  {
   "cell_type": "code",
   "execution_count": 18,
   "metadata": {},
   "outputs": [
    {
     "data": {
      "text/plain": [
       "<matplotlib.axes._subplots.AxesSubplot at 0x7fd2f7f32d30>"
      ]
     },
     "execution_count": 18,
     "metadata": {},
     "output_type": "execute_result"
    },
    {
     "data": {
      "image/png": "[encoded data removed]",
      "text/plain": [
       "<Figure size 432x288 with 1 Axes>"
      ]
     },
     "metadata": {
      "needs_background": "light"
     },
     "output_type": "display_data"
    }
   ],
   "source": [
    "outdfstep1.plot.scatter(x='other_group_sum',y='own_group',c='DarkBlue')"
   ]
  },
  {
   "cell_type": "code",
   "execution_count": 19,
   "metadata": {},
   "outputs": [
    {
     "data": {
      "text/plain": [
       "<matplotlib.axes._subplots.AxesSubplot at 0x7fd2f816da90>"
      ]
     },
     "execution_count": 19,
     "metadata": {},
     "output_type": "execute_result"
    },
    {
     "data": {
      "image/png": "[encoded data removed]",
      "text/plain": [
       "<Figure size 432x288 with 1 Axes>"
      ]
     },
     "metadata": {
      "needs_background": "light"
     },
     "output_type": "display_data"
    }
   ],
   "source": [
    "indf.plot.scatter(x='other_group',y='own_group',c='DarkBlue')"
   ]
  },
  {
   "cell_type": "code",
   "execution_count": 20,
   "metadata": {},
   "outputs": [],
   "source": [
    "#outdfstep1.to_csv(infile+\"_st1.txt\",sep='\\t',index=False)"
   ]
  }
 ],
 "metadata": {
  "kernelspec": {
   "display_name": "Python 3",
   "language": "python",
   "name": "python3"
  },
  "language_info": {
   "codemirror_mode": {
    "name": "ipython",
    "version": 3
   },
   "file_extension": ".py",
   "mimetype": "text/x-python",
   "name": "python",
   "nbconvert_exporter": "python",
   "pygments_lexer": "ipython3",
   "version": "3.6.7"
  }
 },
 "nbformat": 4,
 "nbformat_minor": 2
}
