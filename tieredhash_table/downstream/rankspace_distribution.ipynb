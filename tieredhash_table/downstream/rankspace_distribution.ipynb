{
 "cells": [
  {
   "cell_type": "code",
   "execution_count": 1,
   "metadata": {},
   "outputs": [
    {
     "data": {
      "text/html": [
       "<div>\n",
       "<style scoped>\n",
       "    .dataframe tbody tr th:only-of-type {\n",
       "        vertical-align: middle;\n",
       "    }\n",
       "\n",
       "    .dataframe tbody tr th {\n",
       "        vertical-align: top;\n",
       "    }\n",
       "\n",
       "    .dataframe thead th {\n",
       "        text-align: right;\n",
       "    }\n",
       "</style>\n",
       "<table border=\"1\" class=\"dataframe\">\n",
       "  <thead>\n",
       "    <tr style=\"text-align: right;\">\n",
       "      <th></th>\n",
       "      <th>Filename</th>\n",
       "      <th>Average Value</th>\n",
       "      <th>Line Count</th>\n",
       "    </tr>\n",
       "  </thead>\n",
       "  <tbody>\n",
       "    <tr>\n",
       "      <th>0</th>\n",
       "      <td>g1_Tregs_g2_cm4Tregs_-0.6_int_g1_Tregs_g2_em8T...</td>\n",
       "      <td>0.325</td>\n",
       "      <td>228</td>\n",
       "    </tr>\n",
       "    <tr>\n",
       "      <th>1</th>\n",
       "      <td>g1_Tregs_g2_cm4Tregs_-0.8_int_g1_Tregs_g2_em8T...</td>\n",
       "      <td>0.650</td>\n",
       "      <td>9</td>\n",
       "    </tr>\n",
       "    <tr>\n",
       "      <th>2</th>\n",
       "      <td>g1_Tregs_g2_cm4Tregs_-0.8_int_g1_Tregs_g2_em8T...</td>\n",
       "      <td>0.475</td>\n",
       "      <td>19</td>\n",
       "    </tr>\n",
       "    <tr>\n",
       "      <th>3</th>\n",
       "      <td>g1_Tregs_g2_cm4Tregs_-0.4_int_g1_Tregs_g2_em8T...</td>\n",
       "      <td>0.525</td>\n",
       "      <td>55</td>\n",
       "    </tr>\n",
       "    <tr>\n",
       "      <th>4</th>\n",
       "      <td>g1_Tregs_g2_cm4Tregs_-0.4_int_g1_Tregs_g2_em8T...</td>\n",
       "      <td>0.450</td>\n",
       "      <td>315</td>\n",
       "    </tr>\n",
       "  </tbody>\n",
       "</table>\n",
       "</div>"
      ],
      "text/plain": [
       "                                            Filename  Average Value  \\\n",
       "0  g1_Tregs_g2_cm4Tregs_-0.6_int_g1_Tregs_g2_em8T...          0.325   \n",
       "1  g1_Tregs_g2_cm4Tregs_-0.8_int_g1_Tregs_g2_em8T...          0.650   \n",
       "2  g1_Tregs_g2_cm4Tregs_-0.8_int_g1_Tregs_g2_em8T...          0.475   \n",
       "3  g1_Tregs_g2_cm4Tregs_-0.4_int_g1_Tregs_g2_em8T...          0.525   \n",
       "4  g1_Tregs_g2_cm4Tregs_-0.4_int_g1_Tregs_g2_em8T...          0.450   \n",
       "\n",
       "   Line Count  \n",
       "0         228  \n",
       "1           9  \n",
       "2          19  \n",
       "3          55  \n",
       "4         315  "
      ]
     },
     "execution_count": 1,
     "metadata": {},
     "output_type": "execute_result"
    }
   ],
   "source": [
    "import pandas as pd\n",
    "import re\n",
    "infile = '/Users/irffanalahi/Research/Research_update/SoftRD/hashtable_stats/tieredApproach/OwnGrouptest/try1/someTcell/Tregs/Tregs_thresholdpos_allthresholdcombinations.txt'\n",
    "inDF=pd.read_csv(infile,sep='\\t')\n",
    "inDF.head()"
   ]
  },
  {
   "cell_type": "code",
   "execution_count": 2,
   "metadata": {},
   "outputs": [],
   "source": [
    "inDF['minDelta']=-1"
   ]
  },
  {
   "cell_type": "code",
   "execution_count": 3,
   "metadata": {},
   "outputs": [],
   "source": [
    "for index, row in inDF.iterrows():\n",
    "    fname=row['Filename']\n",
    " \n",
    "    \n",
    "   \n",
    "    \n",
    "    \n",
    "    numbers = re.compile('-\\d+\\.\\d+')\n",
    "    \n",
    "    result = list(map(float, numbers.findall(fname)))\n",
    "    result=list(map(abs, result))\n",
    "    minresult=min(result)\n",
    "    inDF.loc[index,'minDelta']=minresult\n",
    "    "
   ]
  },
  {
   "cell_type": "code",
   "execution_count": 4,
   "metadata": {},
   "outputs": [
    {
     "data": {
      "text/html": [
       "<div>\n",
       "<style scoped>\n",
       "    .dataframe tbody tr th:only-of-type {\n",
       "        vertical-align: middle;\n",
       "    }\n",
       "\n",
       "    .dataframe tbody tr th {\n",
       "        vertical-align: top;\n",
       "    }\n",
       "\n",
       "    .dataframe thead th {\n",
       "        text-align: right;\n",
       "    }\n",
       "</style>\n",
       "<table border=\"1\" class=\"dataframe\">\n",
       "  <thead>\n",
       "    <tr style=\"text-align: right;\">\n",
       "      <th></th>\n",
       "      <th>Filename</th>\n",
       "      <th>Average Value</th>\n",
       "      <th>Line Count</th>\n",
       "      <th>minDelta</th>\n",
       "    </tr>\n",
       "  </thead>\n",
       "  <tbody>\n",
       "    <tr>\n",
       "      <th>0</th>\n",
       "      <td>g1_Tregs_g2_cm4Tregs_-0.6_int_g1_Tregs_g2_em8T...</td>\n",
       "      <td>0.325</td>\n",
       "      <td>228</td>\n",
       "      <td>0.2</td>\n",
       "    </tr>\n",
       "    <tr>\n",
       "      <th>1</th>\n",
       "      <td>g1_Tregs_g2_cm4Tregs_-0.8_int_g1_Tregs_g2_em8T...</td>\n",
       "      <td>0.650</td>\n",
       "      <td>9</td>\n",
       "      <td>0.2</td>\n",
       "    </tr>\n",
       "    <tr>\n",
       "      <th>2</th>\n",
       "      <td>g1_Tregs_g2_cm4Tregs_-0.8_int_g1_Tregs_g2_em8T...</td>\n",
       "      <td>0.475</td>\n",
       "      <td>19</td>\n",
       "      <td>0.2</td>\n",
       "    </tr>\n",
       "    <tr>\n",
       "      <th>3</th>\n",
       "      <td>g1_Tregs_g2_cm4Tregs_-0.4_int_g1_Tregs_g2_em8T...</td>\n",
       "      <td>0.525</td>\n",
       "      <td>55</td>\n",
       "      <td>0.4</td>\n",
       "    </tr>\n",
       "    <tr>\n",
       "      <th>4</th>\n",
       "      <td>g1_Tregs_g2_cm4Tregs_-0.4_int_g1_Tregs_g2_em8T...</td>\n",
       "      <td>0.450</td>\n",
       "      <td>315</td>\n",
       "      <td>0.2</td>\n",
       "    </tr>\n",
       "  </tbody>\n",
       "</table>\n",
       "</div>"
      ],
      "text/plain": [
       "                                            Filename  Average Value  \\\n",
       "0  g1_Tregs_g2_cm4Tregs_-0.6_int_g1_Tregs_g2_em8T...          0.325   \n",
       "1  g1_Tregs_g2_cm4Tregs_-0.8_int_g1_Tregs_g2_em8T...          0.650   \n",
       "2  g1_Tregs_g2_cm4Tregs_-0.8_int_g1_Tregs_g2_em8T...          0.475   \n",
       "3  g1_Tregs_g2_cm4Tregs_-0.4_int_g1_Tregs_g2_em8T...          0.525   \n",
       "4  g1_Tregs_g2_cm4Tregs_-0.4_int_g1_Tregs_g2_em8T...          0.450   \n",
       "\n",
       "   Line Count  minDelta  \n",
       "0         228       0.2  \n",
       "1           9       0.2  \n",
       "2          19       0.2  \n",
       "3          55       0.4  \n",
       "4         315       0.2  "
      ]
     },
     "execution_count": 4,
     "metadata": {},
     "output_type": "execute_result"
    }
   ],
   "source": [
    "inDF.head()"
   ]
  },
  {
   "cell_type": "code",
   "execution_count": 5,
   "metadata": {},
   "outputs": [
    {
     "data": {
      "text/html": [
       "<div>\n",
       "<style scoped>\n",
       "    .dataframe tbody tr th:only-of-type {\n",
       "        vertical-align: middle;\n",
       "    }\n",
       "\n",
       "    .dataframe tbody tr th {\n",
       "        vertical-align: top;\n",
       "    }\n",
       "\n",
       "    .dataframe thead th {\n",
       "        text-align: right;\n",
       "    }\n",
       "</style>\n",
       "<table border=\"1\" class=\"dataframe\">\n",
       "  <thead>\n",
       "    <tr style=\"text-align: right;\">\n",
       "      <th></th>\n",
       "      <th>Filename</th>\n",
       "      <th>Average Value</th>\n",
       "      <th>Line Count</th>\n",
       "      <th>minDelta</th>\n",
       "      <th>avgofAverage_and_mindelta</th>\n",
       "    </tr>\n",
       "  </thead>\n",
       "  <tbody>\n",
       "    <tr>\n",
       "      <th>0</th>\n",
       "      <td>g1_Tregs_g2_cm4Tregs_-0.6_int_g1_Tregs_g2_em8T...</td>\n",
       "      <td>0.325</td>\n",
       "      <td>228</td>\n",
       "      <td>0.2</td>\n",
       "      <td>0.2625</td>\n",
       "    </tr>\n",
       "    <tr>\n",
       "      <th>1</th>\n",
       "      <td>g1_Tregs_g2_cm4Tregs_-0.8_int_g1_Tregs_g2_em8T...</td>\n",
       "      <td>0.650</td>\n",
       "      <td>9</td>\n",
       "      <td>0.2</td>\n",
       "      <td>0.4250</td>\n",
       "    </tr>\n",
       "    <tr>\n",
       "      <th>2</th>\n",
       "      <td>g1_Tregs_g2_cm4Tregs_-0.8_int_g1_Tregs_g2_em8T...</td>\n",
       "      <td>0.475</td>\n",
       "      <td>19</td>\n",
       "      <td>0.2</td>\n",
       "      <td>0.3375</td>\n",
       "    </tr>\n",
       "    <tr>\n",
       "      <th>3</th>\n",
       "      <td>g1_Tregs_g2_cm4Tregs_-0.4_int_g1_Tregs_g2_em8T...</td>\n",
       "      <td>0.525</td>\n",
       "      <td>55</td>\n",
       "      <td>0.4</td>\n",
       "      <td>0.4625</td>\n",
       "    </tr>\n",
       "    <tr>\n",
       "      <th>4</th>\n",
       "      <td>g1_Tregs_g2_cm4Tregs_-0.4_int_g1_Tregs_g2_em8T...</td>\n",
       "      <td>0.450</td>\n",
       "      <td>315</td>\n",
       "      <td>0.2</td>\n",
       "      <td>0.3250</td>\n",
       "    </tr>\n",
       "  </tbody>\n",
       "</table>\n",
       "</div>"
      ],
      "text/plain": [
       "                                            Filename  Average Value  \\\n",
       "0  g1_Tregs_g2_cm4Tregs_-0.6_int_g1_Tregs_g2_em8T...          0.325   \n",
       "1  g1_Tregs_g2_cm4Tregs_-0.8_int_g1_Tregs_g2_em8T...          0.650   \n",
       "2  g1_Tregs_g2_cm4Tregs_-0.8_int_g1_Tregs_g2_em8T...          0.475   \n",
       "3  g1_Tregs_g2_cm4Tregs_-0.4_int_g1_Tregs_g2_em8T...          0.525   \n",
       "4  g1_Tregs_g2_cm4Tregs_-0.4_int_g1_Tregs_g2_em8T...          0.450   \n",
       "\n",
       "   Line Count  minDelta  avgofAverage_and_mindelta  \n",
       "0         228       0.2                     0.2625  \n",
       "1           9       0.2                     0.4250  \n",
       "2          19       0.2                     0.3375  \n",
       "3          55       0.4                     0.4625  \n",
       "4         315       0.2                     0.3250  "
      ]
     },
     "execution_count": 5,
     "metadata": {},
     "output_type": "execute_result"
    }
   ],
   "source": [
    "inDF['avgofAverage_and_mindelta']=(inDF['Average Value']+inDF['minDelta'])/2\n",
    "inDF.head()"
   ]
  },
  {
   "cell_type": "code",
   "execution_count": 6,
   "metadata": {},
   "outputs": [
    {
     "data": {
      "text/html": [
       "<div>\n",
       "<style scoped>\n",
       "    .dataframe tbody tr th:only-of-type {\n",
       "        vertical-align: middle;\n",
       "    }\n",
       "\n",
       "    .dataframe tbody tr th {\n",
       "        vertical-align: top;\n",
       "    }\n",
       "\n",
       "    .dataframe thead th {\n",
       "        text-align: right;\n",
       "    }\n",
       "</style>\n",
       "<table border=\"1\" class=\"dataframe\">\n",
       "  <thead>\n",
       "    <tr style=\"text-align: right;\">\n",
       "      <th></th>\n",
       "      <th>Filename</th>\n",
       "      <th>Average Value</th>\n",
       "      <th>Line Count</th>\n",
       "      <th>minDelta</th>\n",
       "      <th>avgofAverage_and_mindelta</th>\n",
       "      <th>avgofAverage_and_mindelta_2d</th>\n",
       "    </tr>\n",
       "  </thead>\n",
       "  <tbody>\n",
       "    <tr>\n",
       "      <th>0</th>\n",
       "      <td>g1_Tregs_g2_cm4Tregs_-0.6_int_g1_Tregs_g2_em8T...</td>\n",
       "      <td>0.325</td>\n",
       "      <td>228</td>\n",
       "      <td>0.2</td>\n",
       "      <td>0.2625</td>\n",
       "      <td>0.26</td>\n",
       "    </tr>\n",
       "    <tr>\n",
       "      <th>1</th>\n",
       "      <td>g1_Tregs_g2_cm4Tregs_-0.8_int_g1_Tregs_g2_em8T...</td>\n",
       "      <td>0.650</td>\n",
       "      <td>9</td>\n",
       "      <td>0.2</td>\n",
       "      <td>0.4250</td>\n",
       "      <td>0.43</td>\n",
       "    </tr>\n",
       "    <tr>\n",
       "      <th>2</th>\n",
       "      <td>g1_Tregs_g2_cm4Tregs_-0.8_int_g1_Tregs_g2_em8T...</td>\n",
       "      <td>0.475</td>\n",
       "      <td>19</td>\n",
       "      <td>0.2</td>\n",
       "      <td>0.3375</td>\n",
       "      <td>0.34</td>\n",
       "    </tr>\n",
       "    <tr>\n",
       "      <th>3</th>\n",
       "      <td>g1_Tregs_g2_cm4Tregs_-0.4_int_g1_Tregs_g2_em8T...</td>\n",
       "      <td>0.525</td>\n",
       "      <td>55</td>\n",
       "      <td>0.4</td>\n",
       "      <td>0.4625</td>\n",
       "      <td>0.46</td>\n",
       "    </tr>\n",
       "    <tr>\n",
       "      <th>4</th>\n",
       "      <td>g1_Tregs_g2_cm4Tregs_-0.4_int_g1_Tregs_g2_em8T...</td>\n",
       "      <td>0.450</td>\n",
       "      <td>315</td>\n",
       "      <td>0.2</td>\n",
       "      <td>0.3250</td>\n",
       "      <td>0.32</td>\n",
       "    </tr>\n",
       "  </tbody>\n",
       "</table>\n",
       "</div>"
      ],
      "text/plain": [
       "                                            Filename  Average Value  \\\n",
       "0  g1_Tregs_g2_cm4Tregs_-0.6_int_g1_Tregs_g2_em8T...          0.325   \n",
       "1  g1_Tregs_g2_cm4Tregs_-0.8_int_g1_Tregs_g2_em8T...          0.650   \n",
       "2  g1_Tregs_g2_cm4Tregs_-0.8_int_g1_Tregs_g2_em8T...          0.475   \n",
       "3  g1_Tregs_g2_cm4Tregs_-0.4_int_g1_Tregs_g2_em8T...          0.525   \n",
       "4  g1_Tregs_g2_cm4Tregs_-0.4_int_g1_Tregs_g2_em8T...          0.450   \n",
       "\n",
       "   Line Count  minDelta  avgofAverage_and_mindelta  \\\n",
       "0         228       0.2                     0.2625   \n",
       "1           9       0.2                     0.4250   \n",
       "2          19       0.2                     0.3375   \n",
       "3          55       0.4                     0.4625   \n",
       "4         315       0.2                     0.3250   \n",
       "\n",
       "   avgofAverage_and_mindelta_2d  \n",
       "0                          0.26  \n",
       "1                          0.43  \n",
       "2                          0.34  \n",
       "3                          0.46  \n",
       "4                          0.32  "
      ]
     },
     "execution_count": 6,
     "metadata": {},
     "output_type": "execute_result"
    }
   ],
   "source": [
    "inDF['avgofAverage_and_mindelta_2d']=inDF['avgofAverage_and_mindelta'].round(decimals=2)\n",
    "inDF.head()"
   ]
  },
  {
   "cell_type": "code",
   "execution_count": 7,
   "metadata": {},
   "outputs": [
    {
     "data": {
      "text/plain": [
       "79"
      ]
     },
     "execution_count": 7,
     "metadata": {},
     "output_type": "execute_result"
    }
   ],
   "source": [
    "len(set(inDF['avgofAverage_and_mindelta'].tolist()))"
   ]
  },
  {
   "cell_type": "code",
   "execution_count": 8,
   "metadata": {},
   "outputs": [
    {
     "data": {
      "text/plain": [
       "44"
      ]
     },
     "execution_count": 8,
     "metadata": {},
     "output_type": "execute_result"
    }
   ],
   "source": [
    "len(set(inDF['avgofAverage_and_mindelta_2d'].tolist()))"
   ]
  },
  {
   "cell_type": "code",
   "execution_count": 9,
   "metadata": {},
   "outputs": [
    {
     "name": "stderr",
     "output_type": "stream",
     "text": [
      "/Library/Frameworks/Python.framework/Versions/3.6/lib/python3.6/site-packages/numpy/core/_asarray.py:83: VisibleDeprecationWarning: Creating an ndarray from ragged nested sequences (which is a list-or-tuple of lists-or-tuples-or ndarrays with different lengths or shapes) is deprecated. If you meant to do this, you must specify 'dtype=object' when creating the ndarray\n",
      "  return array(a, dtype, copy=False, order=order)\n"
     ]
    },
    {
     "data": {
      "text/plain": [
       "Text(0, 0.5, '#CpG')"
      ]
     },
     "execution_count": 9,
     "metadata": {},
     "output_type": "execute_result"
    },
    {
     "data": {
      "image/png": "[encoded data removed]",
      "text/plain": [
       "<Figure size 1080x720 with 1 Axes>"
      ]
     },
     "metadata": {
      "needs_background": "light"
     },
     "output_type": "display_data"
    }
   ],
   "source": [
    "boxplot = inDF.boxplot(column=['Line Count'], by=['avgofAverage_and_mindelta_2d'],rot=90,grid=False,figsize=(15,10),fontsize=15)\n",
    "boxplot.set_xlabel(\"(minimum delta+average delta)/2\",fontsize=20)\n",
    "boxplot.set_ylabel(\"#CpG\",fontsize=20)"
   ]
  },
  {
   "cell_type": "code",
   "execution_count": 10,
   "metadata": {},
   "outputs": [],
   "source": [
    "subset=inDF[inDF['Line Count']<=2000]"
   ]
  },
  {
   "cell_type": "code",
   "execution_count": 11,
   "metadata": {},
   "outputs": [
    {
     "name": "stderr",
     "output_type": "stream",
     "text": [
      "/Library/Frameworks/Python.framework/Versions/3.6/lib/python3.6/site-packages/numpy/core/_asarray.py:83: VisibleDeprecationWarning: Creating an ndarray from ragged nested sequences (which is a list-or-tuple of lists-or-tuples-or ndarrays with different lengths or shapes) is deprecated. If you meant to do this, you must specify 'dtype=object' when creating the ndarray\n",
      "  return array(a, dtype, copy=False, order=order)\n"
     ]
    },
    {
     "data": {
      "text/plain": [
       "Text(0, 0.5, '#CpG')"
      ]
     },
     "execution_count": 11,
     "metadata": {},
     "output_type": "execute_result"
    },
    {
     "data": {
      "image/png": "[encoded data removed]",
      "text/plain": [
       "<Figure size 1080x720 with 1 Axes>"
      ]
     },
     "metadata": {
      "needs_background": "light"
     },
     "output_type": "display_data"
    }
   ],
   "source": [
    "boxplot = subset.boxplot(column=['Line Count'], by=['avgofAverage_and_mindelta_2d'],rot=90,grid=False,figsize=(15,10),fontsize=15)\n",
    "boxplot.set_xlabel(\"(minimum delta+average delta)/2\",fontsize=20)\n",
    "boxplot.set_ylabel(\"#CpG\",fontsize=20)"
   ]
  },
  {
   "cell_type": "code",
   "execution_count": 12,
   "metadata": {},
   "outputs": [],
   "source": [
    "inDF.to_csv(infile+\"_forrankspace.txt\",sep='\\t',index=False)"
   ]
  }
 ],
 "metadata": {
  "kernelspec": {
   "display_name": "Python 3",
   "language": "python",
   "name": "python3"
  },
  "language_info": {
   "codemirror_mode": {
    "name": "ipython",
    "version": 3
   },
   "file_extension": ".py",
   "mimetype": "text/x-python",
   "name": "python",
   "nbconvert_exporter": "python",
   "pygments_lexer": "ipython3",
   "version": "3.6.7"
  }
 },
 "nbformat": 4,
 "nbformat_minor": 2
}
