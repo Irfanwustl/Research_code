{
 "cells": [
  {
   "cell_type": "code",
   "execution_count": 49,
   "metadata": {},
   "outputs": [],
   "source": [
    "import requests\n",
    "import json\n",
    "from io import StringIO\n",
    "import pandas as pd\n",
    "import numpy as np\n",
    "import re\n",
    "import os\n",
    "from pandas.errors import EmptyDataError "
   ]
  },
  {
   "cell_type": "code",
   "execution_count": 50,
   "metadata": {},
   "outputs": [],
   "source": [
    "organs = ['Adrenal gland', 'Tongue', 'Bladder',\\\n",
    "       'Bone', 'Brain',\\\n",
    "       'Breast', 'Lung', 'Bronchus and lung', 'Cervix', 'Colorectal',\\\n",
    "       'Corpus uteri', 'Esophagus', 'Floor of mouth', 'Kidney', 'Larynx',\\\n",
    "       'Liver',\\\n",
    "       'Other and ill-defined sites in lip, oral cavity and pharynx',\\\n",
    "       'Other and unspecified parts of biliary tract',\\\n",
    "       'Other and unspecified parts of tongue', 'Palate', 'Pancreas',\\\n",
    "       'Prostate', 'Rectosigmoid junction', 'Skin',\\\n",
    "       'Stomach', 'Thymus', 'Thyroid', 'Uterus']"
   ]
  },
  {
   "cell_type": "code",
   "execution_count": 51,
   "metadata": {
    "tags": []
   },
   "outputs": [],
   "source": [
    "def save_files(organs):\n",
    "    for j, organ in enumerate(organs):\n",
    "        organ_name = '_'.join(organ.split(' '))\n",
    "        '''\n",
    "        try:\n",
    "            os.mkdir(organ_name)\n",
    "        except FileExistsError:\n",
    "            pass\n",
    "        '''\n",
    "        fields = [\n",
    "            \"file_name\",\n",
    "            \"cases.submitter_id\",\n",
    "            \"cases.samples.sample_type\",\n",
    "            \"cases.disease_type\",\n",
    "            \"cases.project.project_id\",\n",
    "            \"cases.primary_site\"\n",
    "            ]\n",
    "\n",
    "        fields = \",\".join(fields)\n",
    "\n",
    "        files_endpt = \"https://api.gdc.cancer.gov/files\"\n",
    "\n",
    "        filters = {\n",
    "            \"op\": \"and\",\n",
    "            \"content\":[\n",
    "                {\n",
    "                \"op\": \"in\",\n",
    "                \"content\":{\n",
    "                    \"field\": \"files.data_format\",\n",
    "                    \"value\": [\"TXT\"]\n",
    "                    }\n",
    "                },\n",
    "                {\n",
    "                \"op\": \"in\",\n",
    "                \"content\":{\n",
    "                    \"field\": \"cases.project.primary_site\",\n",
    "                    \"value\": [organ]\n",
    "                    }\n",
    "                },\n",
    "                {\n",
    "                \"op\": \"in\",\n",
    "                \"content\":{\n",
    "                    \"field\": \"files.data_category\",\n",
    "                    \"value\": [\"DNA Methylation\"]\n",
    "                    }\n",
    "                },\n",
    "                {\n",
    "                \"op\": \"in\",\n",
    "                \"content\":{\n",
    "                    \"field\": \"files.platform\",\n",
    "                    \"value\": [\"Illumina Human Methylation 450\"]\n",
    "                    }\n",
    "                },\n",
    "            ]\n",
    "        }\n",
    "\n",
    "        # A POST is used, so the filter parameters can be passed directly as a Dict object.\n",
    "        params = {\n",
    "            \"filters\": filters,\n",
    "            \"fields\": fields,\n",
    "            \"format\": \"TSV\",\n",
    "            \"size\": \"2000\"\n",
    "            }\n",
    "\n",
    "        # The parameters are passed to 'json' rather than 'params' in this case\n",
    "        response = requests.post(files_endpt, headers = {\"Content-Type\": \"application/json\"}, json = params)\n",
    "        resp = response.content.decode(\"utf-8\")\n",
    "        try:\n",
    "            resp_df = pd.read_csv(StringIO(resp), sep='\\t')\n",
    "        except EmptyDataError:\n",
    "            print('No normal tissue for', organ)\n",
    "            continue\n",
    "        u, c = np.unique(np.array(resp_df['cases.0.submitter_id']), return_counts=True)\n",
    "        dup = u[c > 1]\n",
    "        if j == 0:\n",
    "            df_new = pd.DataFrame(columns=resp_df.columns)\n",
    "        for sub in dup:\n",
    "            df_sub = resp_df[resp_df['cases.0.submitter_id'] == sub]\n",
    "            tissues = np.unique(df_sub['cases.0.samples.0.sample_type'])\n",
    "            df_new = pd.concat([df_new, df_sub])\n",
    "            '''\n",
    "            for i, ID in enumerate(np.array(df_sub['id'])):\n",
    "                file_id = ID\n",
    "                project_id = np.array(df_sub['cases.0.project.project_id'])[i]\n",
    "                tissue = np.array(df_sub['cases.0.samples.0.sample_type'])[i]\n",
    "\n",
    "                data_endpt = \"https://api.gdc.cancer.gov/data/{}\".format(file_id)\n",
    "\n",
    "                response = requests.get(data_endpt, headers = {\"Content-Type\": \"application/json\"})\n",
    "\n",
    "                # The file name can be found in the header within the Content-Disposition key.\n",
    "                response_head_cd = response.headers[\"Content-Disposition\"]\n",
    "\n",
    "                file_name = re.findall(\"filename=(.+)\", response_head_cd)[0]\n",
    "\n",
    "                tissue_name = '_'.join(tissue.split(' '))\n",
    "                full_name = organ_name + '/' + organ_name + '_' + project_id + '_' + sub + '_' + tissue_name + '_' + file_name\n",
    "                with open(full_name, \"wb\") as output_file:\n",
    "                    output_file.write(response.content)\n",
    "            '''\n",
    "    df_new.to_csv('illumina_masterfile.txt', sep='\\t', index=None)\n",
    "    return df_new"
   ]
  },
  {
   "cell_type": "code",
   "execution_count": 52,
   "metadata": {},
   "outputs": [
    {
     "name": "stdout",
     "output_type": "stream",
     "text": [
      "No normal tissue for Tongue\n",
      "No normal tissue for Bronchus and lung\n",
      "No normal tissue for Corpus uteri\n",
      "No normal tissue for Floor of mouth\n",
      "No normal tissue for Larynx\n",
      "No normal tissue for Other and ill-defined sites in lip, oral cavity and pharynx\n",
      "No normal tissue for Other and unspecified parts of biliary tract\n",
      "No normal tissue for Other and unspecified parts of tongue\n",
      "No normal tissue for Palate\n",
      "No normal tissue for Rectosigmoid junction\n"
     ]
    }
   ],
   "source": [
    "res = save_files(organs)"
   ]
  },
  {
   "cell_type": "code",
   "execution_count": 36,
   "metadata": {},
   "outputs": [
    {
     "data": {
      "text/html": [
       "<div>\n",
       "<style scoped>\n",
       "    .dataframe tbody tr th:only-of-type {\n",
       "        vertical-align: middle;\n",
       "    }\n",
       "\n",
       "    .dataframe tbody tr th {\n",
       "        vertical-align: top;\n",
       "    }\n",
       "\n",
       "    .dataframe thead th {\n",
       "        text-align: right;\n",
       "    }\n",
       "</style>\n",
       "<table border=\"1\" class=\"dataframe\">\n",
       "  <thead>\n",
       "    <tr style=\"text-align: right;\">\n",
       "      <th></th>\n",
       "      <th>cases.0.disease_type</th>\n",
       "      <th>cases.0.primary_site</th>\n",
       "      <th>cases.0.project.project_id</th>\n",
       "      <th>cases.0.samples.0.sample_type</th>\n",
       "      <th>cases.0.submitter_id</th>\n",
       "      <th>file_name</th>\n",
       "      <th>id</th>\n",
       "    </tr>\n",
       "  </thead>\n",
       "  <tbody>\n",
       "  </tbody>\n",
       "</table>\n",
       "</div>"
      ],
      "text/plain": [
       "Empty DataFrame\n",
       "Columns: [cases.0.disease_type, cases.0.primary_site, cases.0.project.project_id, cases.0.samples.0.sample_type, cases.0.submitter_id, file_name, id]\n",
       "Index: []"
      ]
     },
     "execution_count": 36,
     "metadata": {},
     "output_type": "execute_result"
    }
   ],
   "source": [
    "res"
   ]
  },
  {
   "cell_type": "code",
   "execution_count": null,
   "metadata": {},
   "outputs": [],
   "source": []
  }
 ],
 "metadata": {
  "kernelspec": {
   "display_name": "Python 3",
   "language": "python",
   "name": "python3"
  },
  "language_info": {
   "codemirror_mode": {
    "name": "ipython",
    "version": 3
   },
   "file_extension": ".py",
   "mimetype": "text/x-python",
   "name": "python",
   "nbconvert_exporter": "python",
   "pygments_lexer": "ipython3",
   "version": "3.6.7"
  }
 },
 "nbformat": 4,
 "nbformat_minor": 5
}
