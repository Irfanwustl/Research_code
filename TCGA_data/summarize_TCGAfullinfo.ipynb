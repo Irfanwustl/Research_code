{
 "cells": [
  {
   "cell_type": "code",
   "execution_count": 1,
   "metadata": {},
   "outputs": [
    {
     "data": {
      "text/html": [
       "<div>\n",
       "<style scoped>\n",
       "    .dataframe tbody tr th:only-of-type {\n",
       "        vertical-align: middle;\n",
       "    }\n",
       "\n",
       "    .dataframe tbody tr th {\n",
       "        vertical-align: top;\n",
       "    }\n",
       "\n",
       "    .dataframe thead th {\n",
       "        text-align: right;\n",
       "    }\n",
       "</style>\n",
       "<table border=\"1\" class=\"dataframe\">\n",
       "  <thead>\n",
       "    <tr style=\"text-align: right;\">\n",
       "      <th></th>\n",
       "      <th>cases.0.disease_type</th>\n",
       "      <th>cases.0.primary_site</th>\n",
       "      <th>cases.0.project.project_id</th>\n",
       "      <th>cases.0.samples.0.sample_type</th>\n",
       "      <th>cases.0.submitter_id</th>\n",
       "      <th>file_name</th>\n",
       "      <th>id</th>\n",
       "    </tr>\n",
       "  </thead>\n",
       "  <tbody>\n",
       "    <tr>\n",
       "      <th>0</th>\n",
       "      <td>Adenomas and Adenocarcinomas</td>\n",
       "      <td>Thyroid gland</td>\n",
       "      <td>TCGA-THCA</td>\n",
       "      <td>Primary Tumor</td>\n",
       "      <td>TCGA-ET-A3DT</td>\n",
       "      <td>be986e1f-ac8c-46ac-bb44-cd1d7115d40d.methylati...</td>\n",
       "      <td>0c7d8ee6-d194-4456-aacc-b9811aeed07b</td>\n",
       "    </tr>\n",
       "    <tr>\n",
       "      <th>1</th>\n",
       "      <td>Adenomas and Adenocarcinomas</td>\n",
       "      <td>Thyroid gland</td>\n",
       "      <td>TCGA-THCA</td>\n",
       "      <td>Primary Tumor</td>\n",
       "      <td>TCGA-ET-A39I</td>\n",
       "      <td>4fae9936-03c0-433a-a733-13813116caea.methylati...</td>\n",
       "      <td>2ab73bad-203d-49af-9aef-3c2a504957d8</td>\n",
       "    </tr>\n",
       "    <tr>\n",
       "      <th>2</th>\n",
       "      <td>Adenomas and Adenocarcinomas</td>\n",
       "      <td>Thyroid gland</td>\n",
       "      <td>TCGA-THCA</td>\n",
       "      <td>Primary Tumor</td>\n",
       "      <td>TCGA-FY-A76V</td>\n",
       "      <td>9ee0c762-ab8f-44f4-8c1e-b2c34d3437e2.methylati...</td>\n",
       "      <td>3ae2d457-b6df-4d22-980a-8fa4937f199c</td>\n",
       "    </tr>\n",
       "    <tr>\n",
       "      <th>3</th>\n",
       "      <td>Adenomas and Adenocarcinomas</td>\n",
       "      <td>Thyroid gland</td>\n",
       "      <td>TCGA-THCA</td>\n",
       "      <td>Primary Tumor</td>\n",
       "      <td>TCGA-DJ-A2PP</td>\n",
       "      <td>051db48e-d2ad-4efd-978c-65ff3f3206f8.methylati...</td>\n",
       "      <td>1a009fe8-32ed-46dd-ae19-b0a65e294df4</td>\n",
       "    </tr>\n",
       "    <tr>\n",
       "      <th>4</th>\n",
       "      <td>Adenomas and Adenocarcinomas</td>\n",
       "      <td>Thyroid gland</td>\n",
       "      <td>TCGA-THCA</td>\n",
       "      <td>Primary Tumor</td>\n",
       "      <td>TCGA-EM-A2CU</td>\n",
       "      <td>76dc1b21-5eec-430f-96f2-60d90f72353d.methylati...</td>\n",
       "      <td>a156eadf-9f66-479a-b2e3-abc5fdb7865f</td>\n",
       "    </tr>\n",
       "  </tbody>\n",
       "</table>\n",
       "</div>"
      ],
      "text/plain": [
       "           cases.0.disease_type cases.0.primary_site  \\\n",
       "0  Adenomas and Adenocarcinomas        Thyroid gland   \n",
       "1  Adenomas and Adenocarcinomas        Thyroid gland   \n",
       "2  Adenomas and Adenocarcinomas        Thyroid gland   \n",
       "3  Adenomas and Adenocarcinomas        Thyroid gland   \n",
       "4  Adenomas and Adenocarcinomas        Thyroid gland   \n",
       "\n",
       "  cases.0.project.project_id cases.0.samples.0.sample_type  \\\n",
       "0                  TCGA-THCA                 Primary Tumor   \n",
       "1                  TCGA-THCA                 Primary Tumor   \n",
       "2                  TCGA-THCA                 Primary Tumor   \n",
       "3                  TCGA-THCA                 Primary Tumor   \n",
       "4                  TCGA-THCA                 Primary Tumor   \n",
       "\n",
       "  cases.0.submitter_id                                          file_name  \\\n",
       "0         TCGA-ET-A3DT  be986e1f-ac8c-46ac-bb44-cd1d7115d40d.methylati...   \n",
       "1         TCGA-ET-A39I  4fae9936-03c0-433a-a733-13813116caea.methylati...   \n",
       "2         TCGA-FY-A76V  9ee0c762-ab8f-44f4-8c1e-b2c34d3437e2.methylati...   \n",
       "3         TCGA-DJ-A2PP  051db48e-d2ad-4efd-978c-65ff3f3206f8.methylati...   \n",
       "4         TCGA-EM-A2CU  76dc1b21-5eec-430f-96f2-60d90f72353d.methylati...   \n",
       "\n",
       "                                     id  \n",
       "0  0c7d8ee6-d194-4456-aacc-b9811aeed07b  \n",
       "1  2ab73bad-203d-49af-9aef-3c2a504957d8  \n",
       "2  3ae2d457-b6df-4d22-980a-8fa4937f199c  \n",
       "3  1a009fe8-32ed-46dd-ae19-b0a65e294df4  \n",
       "4  a156eadf-9f66-479a-b2e3-abc5fdb7865f  "
      ]
     },
     "execution_count": 1,
     "metadata": {},
     "output_type": "execute_result"
    }
   ],
   "source": [
    "import glob\n",
    "import os\n",
    "import pandas as pd\n",
    "\n",
    "import sys\n",
    "\n",
    "\n",
    "masterfile='TCGA_masterfile.txt'\n",
    "\n",
    "\n",
    "masterdDF=pd.read_csv(masterfile,sep='\\t')\n",
    "\n",
    "masterdDF.head()"
   ]
  },
  {
   "cell_type": "code",
   "execution_count": 2,
   "metadata": {},
   "outputs": [
    {
     "data": {
      "text/plain": [
       "(10592, 7)"
      ]
     },
     "execution_count": 2,
     "metadata": {},
     "output_type": "execute_result"
    }
   ],
   "source": [
    "masterdDF.shape"
   ]
  },
  {
   "cell_type": "code",
   "execution_count": 3,
   "metadata": {},
   "outputs": [
    {
     "data": {
      "text/plain": [
       "(10592, 7)"
      ]
     },
     "execution_count": 3,
     "metadata": {},
     "output_type": "execute_result"
    }
   ],
   "source": [
    "masterdDF.rename(columns={\"cases.0.disease_type\": \"Disease type\", \"cases.0.primary_site\": \"Primary site\",'cases.0.project.project_id':'Project','cases.0.samples.0.sample_type':'Sample type','cases.0.submitter_id':'Submitter id','file_name':'File name','id':'File UUID'},inplace=True)\n",
    "masterdDF.shape"
   ]
  },
  {
   "cell_type": "code",
   "execution_count": 4,
   "metadata": {},
   "outputs": [
    {
     "data": {
      "text/html": [
       "<div>\n",
       "<style scoped>\n",
       "    .dataframe tbody tr th:only-of-type {\n",
       "        vertical-align: middle;\n",
       "    }\n",
       "\n",
       "    .dataframe tbody tr th {\n",
       "        vertical-align: top;\n",
       "    }\n",
       "\n",
       "    .dataframe thead th {\n",
       "        text-align: right;\n",
       "    }\n",
       "</style>\n",
       "<table border=\"1\" class=\"dataframe\">\n",
       "  <thead>\n",
       "    <tr style=\"text-align: right;\">\n",
       "      <th></th>\n",
       "      <th>Disease type</th>\n",
       "      <th>Primary site</th>\n",
       "      <th>Project</th>\n",
       "      <th>Sample type</th>\n",
       "      <th>Submitter id</th>\n",
       "      <th>File name</th>\n",
       "      <th>File UUID</th>\n",
       "    </tr>\n",
       "  </thead>\n",
       "  <tbody>\n",
       "    <tr>\n",
       "      <th>0</th>\n",
       "      <td>Adenomas and Adenocarcinomas</td>\n",
       "      <td>Thyroid gland</td>\n",
       "      <td>TCGA-THCA</td>\n",
       "      <td>Primary Tumor</td>\n",
       "      <td>TCGA-ET-A3DT</td>\n",
       "      <td>be986e1f-ac8c-46ac-bb44-cd1d7115d40d.methylati...</td>\n",
       "      <td>0c7d8ee6-d194-4456-aacc-b9811aeed07b</td>\n",
       "    </tr>\n",
       "    <tr>\n",
       "      <th>1</th>\n",
       "      <td>Adenomas and Adenocarcinomas</td>\n",
       "      <td>Thyroid gland</td>\n",
       "      <td>TCGA-THCA</td>\n",
       "      <td>Primary Tumor</td>\n",
       "      <td>TCGA-ET-A39I</td>\n",
       "      <td>4fae9936-03c0-433a-a733-13813116caea.methylati...</td>\n",
       "      <td>2ab73bad-203d-49af-9aef-3c2a504957d8</td>\n",
       "    </tr>\n",
       "    <tr>\n",
       "      <th>2</th>\n",
       "      <td>Adenomas and Adenocarcinomas</td>\n",
       "      <td>Thyroid gland</td>\n",
       "      <td>TCGA-THCA</td>\n",
       "      <td>Primary Tumor</td>\n",
       "      <td>TCGA-FY-A76V</td>\n",
       "      <td>9ee0c762-ab8f-44f4-8c1e-b2c34d3437e2.methylati...</td>\n",
       "      <td>3ae2d457-b6df-4d22-980a-8fa4937f199c</td>\n",
       "    </tr>\n",
       "    <tr>\n",
       "      <th>3</th>\n",
       "      <td>Adenomas and Adenocarcinomas</td>\n",
       "      <td>Thyroid gland</td>\n",
       "      <td>TCGA-THCA</td>\n",
       "      <td>Primary Tumor</td>\n",
       "      <td>TCGA-DJ-A2PP</td>\n",
       "      <td>051db48e-d2ad-4efd-978c-65ff3f3206f8.methylati...</td>\n",
       "      <td>1a009fe8-32ed-46dd-ae19-b0a65e294df4</td>\n",
       "    </tr>\n",
       "    <tr>\n",
       "      <th>4</th>\n",
       "      <td>Adenomas and Adenocarcinomas</td>\n",
       "      <td>Thyroid gland</td>\n",
       "      <td>TCGA-THCA</td>\n",
       "      <td>Primary Tumor</td>\n",
       "      <td>TCGA-EM-A2CU</td>\n",
       "      <td>76dc1b21-5eec-430f-96f2-60d90f72353d.methylati...</td>\n",
       "      <td>a156eadf-9f66-479a-b2e3-abc5fdb7865f</td>\n",
       "    </tr>\n",
       "  </tbody>\n",
       "</table>\n",
       "</div>"
      ],
      "text/plain": [
       "                   Disease type   Primary site    Project    Sample type  \\\n",
       "0  Adenomas and Adenocarcinomas  Thyroid gland  TCGA-THCA  Primary Tumor   \n",
       "1  Adenomas and Adenocarcinomas  Thyroid gland  TCGA-THCA  Primary Tumor   \n",
       "2  Adenomas and Adenocarcinomas  Thyroid gland  TCGA-THCA  Primary Tumor   \n",
       "3  Adenomas and Adenocarcinomas  Thyroid gland  TCGA-THCA  Primary Tumor   \n",
       "4  Adenomas and Adenocarcinomas  Thyroid gland  TCGA-THCA  Primary Tumor   \n",
       "\n",
       "   Submitter id                                          File name  \\\n",
       "0  TCGA-ET-A3DT  be986e1f-ac8c-46ac-bb44-cd1d7115d40d.methylati...   \n",
       "1  TCGA-ET-A39I  4fae9936-03c0-433a-a733-13813116caea.methylati...   \n",
       "2  TCGA-FY-A76V  9ee0c762-ab8f-44f4-8c1e-b2c34d3437e2.methylati...   \n",
       "3  TCGA-DJ-A2PP  051db48e-d2ad-4efd-978c-65ff3f3206f8.methylati...   \n",
       "4  TCGA-EM-A2CU  76dc1b21-5eec-430f-96f2-60d90f72353d.methylati...   \n",
       "\n",
       "                              File UUID  \n",
       "0  0c7d8ee6-d194-4456-aacc-b9811aeed07b  \n",
       "1  2ab73bad-203d-49af-9aef-3c2a504957d8  \n",
       "2  3ae2d457-b6df-4d22-980a-8fa4937f199c  \n",
       "3  1a009fe8-32ed-46dd-ae19-b0a65e294df4  \n",
       "4  a156eadf-9f66-479a-b2e3-abc5fdb7865f  "
      ]
     },
     "execution_count": 4,
     "metadata": {},
     "output_type": "execute_result"
    }
   ],
   "source": [
    "masterdDF.head()"
   ]
  },
  {
   "cell_type": "code",
   "execution_count": 5,
   "metadata": {},
   "outputs": [
    {
     "data": {
      "text/plain": [
       "{'Additional - New Primary',\n",
       " 'Additional Metastatic',\n",
       " 'Blood Derived Normal',\n",
       " 'Bone Marrow Normal',\n",
       " 'Fibroblasts from Bone Marrow Normal',\n",
       " 'Metastatic',\n",
       " 'Primary Blood Derived Cancer - Bone Marrow',\n",
       " 'Primary Blood Derived Cancer - Peripheral Blood',\n",
       " 'Primary Tumor',\n",
       " 'Recurrent Blood Derived Cancer - Bone Marrow',\n",
       " 'Recurrent Blood Derived Cancer - Peripheral Blood',\n",
       " 'Recurrent Tumor',\n",
       " 'Solid Tissue Normal'}"
      ]
     },
     "execution_count": 5,
     "metadata": {},
     "output_type": "execute_result"
    }
   ],
   "source": [
    "set(masterdDF['Sample type'].tolist())"
   ]
  },
  {
   "cell_type": "code",
   "execution_count": 6,
   "metadata": {},
   "outputs": [],
   "source": [
    "grouped=masterdDF.groupby(['Project','Primary site'])"
   ]
  },
  {
   "cell_type": "code",
   "execution_count": 7,
   "metadata": {},
   "outputs": [],
   "source": [
    "from collections import defaultdict\n",
    "\n",
    "summarydict=defaultdict(list)\n",
    "\n",
    "for name, group in grouped:\n",
    "    normal=group[group['Sample type']=='Solid Tissue Normal'].shape[0]\n",
    "    tumor=group.shape[0]-normal\n",
    "    \n",
    "    \n",
    "    \n",
    "    summarydict['Primary site'].append(group['Primary site'].tolist()[0])\n",
    "    summarydict['Project'].append(group['Project'].tolist()[0])\n",
    "    summarydict['Normal'].append(normal)\n",
    "    summarydict['Tumor'].append(tumor)"
   ]
  },
  {
   "cell_type": "code",
   "execution_count": 8,
   "metadata": {},
   "outputs": [],
   "source": [
    "summarydf=pd.DataFrame.from_dict(summarydict)\n",
    "summarydf.to_excel(masterfile+\"_summary.xlsx\",index=False)\n"
   ]
  }
 ],
 "metadata": {
  "kernelspec": {
   "display_name": "Python 3",
   "language": "python",
   "name": "python3"
  },
  "language_info": {
   "codemirror_mode": {
    "name": "ipython",
    "version": 3
   },
   "file_extension": ".py",
   "mimetype": "text/x-python",
   "name": "python",
   "nbconvert_exporter": "python",
   "pygments_lexer": "ipython3",
   "version": "3.6.7"
  }
 },
 "nbformat": 4,
 "nbformat_minor": 2
}
