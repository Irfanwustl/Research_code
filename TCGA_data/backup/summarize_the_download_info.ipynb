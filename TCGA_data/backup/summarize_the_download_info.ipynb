{
 "cells": [
  {
   "cell_type": "code",
   "execution_count": 1,
   "metadata": {},
   "outputs": [],
   "source": [
    "import glob\n",
    "import os\n",
    "import pandas as pd\n",
    "import shutil"
   ]
  },
  {
   "cell_type": "code",
   "execution_count": 2,
   "metadata": {},
   "outputs": [],
   "source": [
    "downloadedDir='/Users/irffanalahi/Desktop/noneed/TCGA'\n",
    "outdir=downloadedDir+\"_all_info\"\n",
    "os.makedirs(outdir)"
   ]
  },
  {
   "cell_type": "code",
   "execution_count": 3,
   "metadata": {},
   "outputs": [],
   "source": [
    "def listdir_nohidden(path):\n",
    "    return glob.glob(os.path.join(path, '*'))"
   ]
  },
  {
   "cell_type": "code",
   "execution_count": 4,
   "metadata": {},
   "outputs": [
    {
     "data": {
      "text/plain": [
       "['/Users/irffanalahi/Desktop/noneed/TCGA/Skin',\n",
       " '/Users/irffanalahi/Desktop/noneed/TCGA/illumina_retrieve_pairwise.py',\n",
       " '/Users/irffanalahi/Desktop/noneed/TCGA/Larynx',\n",
       " '/Users/irffanalahi/Desktop/noneed/TCGA/Brain']"
      ]
     },
     "execution_count": 4,
     "metadata": {},
     "output_type": "execute_result"
    }
   ],
   "source": [
    "downloadedDirfiles=listdir_nohidden(downloadedDir)\n",
    "downloadedDirfiles"
   ]
  },
  {
   "cell_type": "code",
   "execution_count": 5,
   "metadata": {},
   "outputs": [
    {
     "data": {
      "text/plain": [
       "['/Users/irffanalahi/Desktop/noneed/TCGA/Skin',\n",
       " '/Users/irffanalahi/Desktop/noneed/TCGA/Larynx',\n",
       " '/Users/irffanalahi/Desktop/noneed/TCGA/Brain']"
      ]
     },
     "execution_count": 5,
     "metadata": {},
     "output_type": "execute_result"
    }
   ],
   "source": [
    "alldirs=[]\n",
    "for adriname in downloadedDirfiles:\n",
    "    if os.path.isdir(adriname):\n",
    "        alldirs.append(adriname)\n",
    "alldirs"
   ]
  },
  {
   "cell_type": "code",
   "execution_count": 6,
   "metadata": {},
   "outputs": [],
   "source": [
    "for adir in alldirs:\n",
    "    infoname=adir+\"/\"+os.path.basename(adir)+\".txt\"\n",
    "    if os.path.exists(infoname)==True:\n",
    "        shutil.copy(infoname, outdir+\"/\"+os.path.basename(adir)+\".txt\")"
   ]
  },
  {
   "cell_type": "code",
   "execution_count": 7,
   "metadata": {},
   "outputs": [],
   "source": [
    "files = glob.glob(outdir+'/*.txt')\n",
    "filesdf=[pd.read_csv(fp,sep=\"\\t\") for fp in files]"
   ]
  },
  {
   "cell_type": "code",
   "execution_count": 8,
   "metadata": {},
   "outputs": [
    {
     "data": {
      "text/html": [
       "<div>\n",
       "<style scoped>\n",
       "    .dataframe tbody tr th:only-of-type {\n",
       "        vertical-align: middle;\n",
       "    }\n",
       "\n",
       "    .dataframe tbody tr th {\n",
       "        vertical-align: top;\n",
       "    }\n",
       "\n",
       "    .dataframe thead th {\n",
       "        text-align: right;\n",
       "    }\n",
       "</style>\n",
       "<table border=\"1\" class=\"dataframe\">\n",
       "  <thead>\n",
       "    <tr style=\"text-align: right;\">\n",
       "      <th></th>\n",
       "      <th>cases.0.disease_type</th>\n",
       "      <th>cases.0.primary_site</th>\n",
       "      <th>cases.0.project.project_id</th>\n",
       "      <th>cases.0.samples.0.sample_type</th>\n",
       "      <th>cases.0.submitter_id</th>\n",
       "      <th>file_name</th>\n",
       "      <th>id</th>\n",
       "    </tr>\n",
       "  </thead>\n",
       "  <tbody>\n",
       "    <tr>\n",
       "      <th>0</th>\n",
       "      <td>Gliomas</td>\n",
       "      <td>Brain</td>\n",
       "      <td>TCGA-GBM</td>\n",
       "      <td>Primary Tumor</td>\n",
       "      <td>TCGA-74-6573</td>\n",
       "      <td>aa287e61-7e64-4f01-9e44-606abd9ac93a.methylati...</td>\n",
       "      <td>dbc50065-31b1-42ce-ab81-7e8388befdfa</td>\n",
       "    </tr>\n",
       "    <tr>\n",
       "      <th>1</th>\n",
       "      <td>Gliomas</td>\n",
       "      <td>Brain</td>\n",
       "      <td>TCGA-GBM</td>\n",
       "      <td>Solid Tissue Normal</td>\n",
       "      <td>TCGA-74-6573</td>\n",
       "      <td>07d27a99-baf0-4781-bd44-641303f93ead.methylati...</td>\n",
       "      <td>54f1b1e0-bba7-417d-9b57-8c6ffc332845</td>\n",
       "    </tr>\n",
       "    <tr>\n",
       "      <th>0</th>\n",
       "      <td>Nevi and Melanomas</td>\n",
       "      <td>Skin</td>\n",
       "      <td>TCGA-SKCM</td>\n",
       "      <td>Solid Tissue Normal</td>\n",
       "      <td>TCGA-FW-A3R5</td>\n",
       "      <td>875a9646-fef4-45ed-836b-123c2a9b0037.methylati...</td>\n",
       "      <td>3a73da68-4999-4971-b0c5-926a032f50e2</td>\n",
       "    </tr>\n",
       "    <tr>\n",
       "      <th>1</th>\n",
       "      <td>Nevi and Melanomas</td>\n",
       "      <td>Skin</td>\n",
       "      <td>TCGA-SKCM</td>\n",
       "      <td>Metastatic</td>\n",
       "      <td>TCGA-FW-A3R5</td>\n",
       "      <td>2222a810-9fd4-4dcf-8fa9-d5a6e5d9afaf.methylati...</td>\n",
       "      <td>4bd4daef-4ce5-448c-aa4e-e5e20b38a6c2</td>\n",
       "    </tr>\n",
       "    <tr>\n",
       "      <th>2</th>\n",
       "      <td>Nevi and Melanomas</td>\n",
       "      <td>Skin</td>\n",
       "      <td>TCGA-SKCM</td>\n",
       "      <td>Metastatic</td>\n",
       "      <td>TCGA-GN-A4U8</td>\n",
       "      <td>8ca8eb5c-c4da-4475-a2ef-9e8a61e2bbdd.methylati...</td>\n",
       "      <td>1beda168-eaed-4914-80a8-5e8cf588f166</td>\n",
       "    </tr>\n",
       "  </tbody>\n",
       "</table>\n",
       "</div>"
      ],
      "text/plain": [
       "  cases.0.disease_type cases.0.primary_site cases.0.project.project_id  \\\n",
       "0              Gliomas                Brain                   TCGA-GBM   \n",
       "1              Gliomas                Brain                   TCGA-GBM   \n",
       "0   Nevi and Melanomas                 Skin                  TCGA-SKCM   \n",
       "1   Nevi and Melanomas                 Skin                  TCGA-SKCM   \n",
       "2   Nevi and Melanomas                 Skin                  TCGA-SKCM   \n",
       "\n",
       "  cases.0.samples.0.sample_type cases.0.submitter_id  \\\n",
       "0                 Primary Tumor         TCGA-74-6573   \n",
       "1           Solid Tissue Normal         TCGA-74-6573   \n",
       "0           Solid Tissue Normal         TCGA-FW-A3R5   \n",
       "1                    Metastatic         TCGA-FW-A3R5   \n",
       "2                    Metastatic         TCGA-GN-A4U8   \n",
       "\n",
       "                                           file_name  \\\n",
       "0  aa287e61-7e64-4f01-9e44-606abd9ac93a.methylati...   \n",
       "1  07d27a99-baf0-4781-bd44-641303f93ead.methylati...   \n",
       "0  875a9646-fef4-45ed-836b-123c2a9b0037.methylati...   \n",
       "1  2222a810-9fd4-4dcf-8fa9-d5a6e5d9afaf.methylati...   \n",
       "2  8ca8eb5c-c4da-4475-a2ef-9e8a61e2bbdd.methylati...   \n",
       "\n",
       "                                     id  \n",
       "0  dbc50065-31b1-42ce-ab81-7e8388befdfa  \n",
       "1  54f1b1e0-bba7-417d-9b57-8c6ffc332845  \n",
       "0  3a73da68-4999-4971-b0c5-926a032f50e2  \n",
       "1  4bd4daef-4ce5-448c-aa4e-e5e20b38a6c2  \n",
       "2  1beda168-eaed-4914-80a8-5e8cf588f166  "
      ]
     },
     "execution_count": 8,
     "metadata": {},
     "output_type": "execute_result"
    }
   ],
   "source": [
    "df_combined = pd.concat(filesdf, axis=0)\n",
    "df_combined.head()"
   ]
  },
  {
   "cell_type": "code",
   "execution_count": 9,
   "metadata": {},
   "outputs": [],
   "source": [
    "df_combined_rename=df_combined.copy()"
   ]
  },
  {
   "cell_type": "code",
   "execution_count": 10,
   "metadata": {},
   "outputs": [
    {
     "data": {
      "text/html": [
       "<div>\n",
       "<style scoped>\n",
       "    .dataframe tbody tr th:only-of-type {\n",
       "        vertical-align: middle;\n",
       "    }\n",
       "\n",
       "    .dataframe tbody tr th {\n",
       "        vertical-align: top;\n",
       "    }\n",
       "\n",
       "    .dataframe thead th {\n",
       "        text-align: right;\n",
       "    }\n",
       "</style>\n",
       "<table border=\"1\" class=\"dataframe\">\n",
       "  <thead>\n",
       "    <tr style=\"text-align: right;\">\n",
       "      <th></th>\n",
       "      <th>Disease type</th>\n",
       "      <th>Primary site</th>\n",
       "      <th>Project</th>\n",
       "      <th>Sample type</th>\n",
       "      <th>Submitter id</th>\n",
       "      <th>File name</th>\n",
       "      <th>File UUID</th>\n",
       "    </tr>\n",
       "  </thead>\n",
       "  <tbody>\n",
       "    <tr>\n",
       "      <th>0</th>\n",
       "      <td>Gliomas</td>\n",
       "      <td>Brain</td>\n",
       "      <td>TCGA-GBM</td>\n",
       "      <td>Primary Tumor</td>\n",
       "      <td>TCGA-74-6573</td>\n",
       "      <td>aa287e61-7e64-4f01-9e44-606abd9ac93a.methylati...</td>\n",
       "      <td>dbc50065-31b1-42ce-ab81-7e8388befdfa</td>\n",
       "    </tr>\n",
       "    <tr>\n",
       "      <th>1</th>\n",
       "      <td>Gliomas</td>\n",
       "      <td>Brain</td>\n",
       "      <td>TCGA-GBM</td>\n",
       "      <td>Solid Tissue Normal</td>\n",
       "      <td>TCGA-74-6573</td>\n",
       "      <td>07d27a99-baf0-4781-bd44-641303f93ead.methylati...</td>\n",
       "      <td>54f1b1e0-bba7-417d-9b57-8c6ffc332845</td>\n",
       "    </tr>\n",
       "    <tr>\n",
       "      <th>0</th>\n",
       "      <td>Nevi and Melanomas</td>\n",
       "      <td>Skin</td>\n",
       "      <td>TCGA-SKCM</td>\n",
       "      <td>Solid Tissue Normal</td>\n",
       "      <td>TCGA-FW-A3R5</td>\n",
       "      <td>875a9646-fef4-45ed-836b-123c2a9b0037.methylati...</td>\n",
       "      <td>3a73da68-4999-4971-b0c5-926a032f50e2</td>\n",
       "    </tr>\n",
       "    <tr>\n",
       "      <th>1</th>\n",
       "      <td>Nevi and Melanomas</td>\n",
       "      <td>Skin</td>\n",
       "      <td>TCGA-SKCM</td>\n",
       "      <td>Metastatic</td>\n",
       "      <td>TCGA-FW-A3R5</td>\n",
       "      <td>2222a810-9fd4-4dcf-8fa9-d5a6e5d9afaf.methylati...</td>\n",
       "      <td>4bd4daef-4ce5-448c-aa4e-e5e20b38a6c2</td>\n",
       "    </tr>\n",
       "    <tr>\n",
       "      <th>2</th>\n",
       "      <td>Nevi and Melanomas</td>\n",
       "      <td>Skin</td>\n",
       "      <td>TCGA-SKCM</td>\n",
       "      <td>Metastatic</td>\n",
       "      <td>TCGA-GN-A4U8</td>\n",
       "      <td>8ca8eb5c-c4da-4475-a2ef-9e8a61e2bbdd.methylati...</td>\n",
       "      <td>1beda168-eaed-4914-80a8-5e8cf588f166</td>\n",
       "    </tr>\n",
       "  </tbody>\n",
       "</table>\n",
       "</div>"
      ],
      "text/plain": [
       "         Disease type Primary site    Project          Sample type  \\\n",
       "0             Gliomas        Brain   TCGA-GBM        Primary Tumor   \n",
       "1             Gliomas        Brain   TCGA-GBM  Solid Tissue Normal   \n",
       "0  Nevi and Melanomas         Skin  TCGA-SKCM  Solid Tissue Normal   \n",
       "1  Nevi and Melanomas         Skin  TCGA-SKCM           Metastatic   \n",
       "2  Nevi and Melanomas         Skin  TCGA-SKCM           Metastatic   \n",
       "\n",
       "   Submitter id                                          File name  \\\n",
       "0  TCGA-74-6573  aa287e61-7e64-4f01-9e44-606abd9ac93a.methylati...   \n",
       "1  TCGA-74-6573  07d27a99-baf0-4781-bd44-641303f93ead.methylati...   \n",
       "0  TCGA-FW-A3R5  875a9646-fef4-45ed-836b-123c2a9b0037.methylati...   \n",
       "1  TCGA-FW-A3R5  2222a810-9fd4-4dcf-8fa9-d5a6e5d9afaf.methylati...   \n",
       "2  TCGA-GN-A4U8  8ca8eb5c-c4da-4475-a2ef-9e8a61e2bbdd.methylati...   \n",
       "\n",
       "                              File UUID  \n",
       "0  dbc50065-31b1-42ce-ab81-7e8388befdfa  \n",
       "1  54f1b1e0-bba7-417d-9b57-8c6ffc332845  \n",
       "0  3a73da68-4999-4971-b0c5-926a032f50e2  \n",
       "1  4bd4daef-4ce5-448c-aa4e-e5e20b38a6c2  \n",
       "2  1beda168-eaed-4914-80a8-5e8cf588f166  "
      ]
     },
     "execution_count": 10,
     "metadata": {},
     "output_type": "execute_result"
    }
   ],
   "source": [
    "df_combined_rename.rename(columns={\"cases.0.disease_type\": \"Disease type\", \"cases.0.primary_site\": \"Primary site\",'cases.0.project.project_id':'Project','cases.0.samples.0.sample_type':'Sample type','cases.0.submitter_id':'Submitter id','file_name':'File name','id':'File UUID'},inplace=True)\n",
    "df_combined_rename.head()"
   ]
  },
  {
   "cell_type": "code",
   "execution_count": 11,
   "metadata": {},
   "outputs": [],
   "source": [
    "grouped=df_combined_rename.groupby('Project')"
   ]
  },
  {
   "cell_type": "code",
   "execution_count": 12,
   "metadata": {},
   "outputs": [],
   "source": [
    "from collections import defaultdict\n",
    "\n",
    "summarydict=defaultdict(list)\n",
    "\n",
    "for name, group in grouped:\n",
    "    normal=group[group['Sample type']=='Solid Tissue Normal'].shape[0]\n",
    "    tumor=group.shape[0]-normal\n",
    "    summarydict['Project'].append(name)\n",
    "    summarydict['Normal'].append(normal)\n",
    "    summarydict['Tumor'].append(tumor)\n",
    "    \n",
    "    "
   ]
  },
  {
   "cell_type": "code",
   "execution_count": 13,
   "metadata": {},
   "outputs": [
    {
     "data": {
      "text/html": [
       "<div>\n",
       "<style scoped>\n",
       "    .dataframe tbody tr th:only-of-type {\n",
       "        vertical-align: middle;\n",
       "    }\n",
       "\n",
       "    .dataframe tbody tr th {\n",
       "        vertical-align: top;\n",
       "    }\n",
       "\n",
       "    .dataframe thead th {\n",
       "        text-align: right;\n",
       "    }\n",
       "</style>\n",
       "<table border=\"1\" class=\"dataframe\">\n",
       "  <thead>\n",
       "    <tr style=\"text-align: right;\">\n",
       "      <th></th>\n",
       "      <th>Project</th>\n",
       "      <th>Normal</th>\n",
       "      <th>Tumor</th>\n",
       "    </tr>\n",
       "  </thead>\n",
       "  <tbody>\n",
       "    <tr>\n",
       "      <th>0</th>\n",
       "      <td>TCGA-GBM</td>\n",
       "      <td>1</td>\n",
       "      <td>1</td>\n",
       "    </tr>\n",
       "    <tr>\n",
       "      <th>1</th>\n",
       "      <td>TCGA-SKCM</td>\n",
       "      <td>2</td>\n",
       "      <td>2</td>\n",
       "    </tr>\n",
       "  </tbody>\n",
       "</table>\n",
       "</div>"
      ],
      "text/plain": [
       "     Project  Normal  Tumor\n",
       "0   TCGA-GBM       1      1\n",
       "1  TCGA-SKCM       2      2"
      ]
     },
     "execution_count": 13,
     "metadata": {},
     "output_type": "execute_result"
    }
   ],
   "source": [
    "summarydf=pd.DataFrame.from_dict(summarydict)\n",
    "summarydf"
   ]
  },
  {
   "cell_type": "code",
   "execution_count": 14,
   "metadata": {},
   "outputs": [
    {
     "data": {
      "text/html": [
       "<div>\n",
       "<style scoped>\n",
       "    .dataframe tbody tr th:only-of-type {\n",
       "        vertical-align: middle;\n",
       "    }\n",
       "\n",
       "    .dataframe tbody tr th {\n",
       "        vertical-align: top;\n",
       "    }\n",
       "\n",
       "    .dataframe thead th {\n",
       "        text-align: right;\n",
       "    }\n",
       "</style>\n",
       "<table border=\"1\" class=\"dataframe\">\n",
       "  <thead>\n",
       "    <tr style=\"text-align: right;\">\n",
       "      <th></th>\n",
       "      <th>Project</th>\n",
       "      <th>Primary site</th>\n",
       "      <th>Sample type</th>\n",
       "      <th>File name</th>\n",
       "      <th>File UUID</th>\n",
       "    </tr>\n",
       "  </thead>\n",
       "  <tbody>\n",
       "    <tr>\n",
       "      <th>0</th>\n",
       "      <td>TCGA-GBM</td>\n",
       "      <td>Brain</td>\n",
       "      <td>Primary Tumor</td>\n",
       "      <td>aa287e61-7e64-4f01-9e44-606abd9ac93a.methylati...</td>\n",
       "      <td>dbc50065-31b1-42ce-ab81-7e8388befdfa</td>\n",
       "    </tr>\n",
       "    <tr>\n",
       "      <th>1</th>\n",
       "      <td>TCGA-GBM</td>\n",
       "      <td>Brain</td>\n",
       "      <td>Solid Tissue Normal</td>\n",
       "      <td>07d27a99-baf0-4781-bd44-641303f93ead.methylati...</td>\n",
       "      <td>54f1b1e0-bba7-417d-9b57-8c6ffc332845</td>\n",
       "    </tr>\n",
       "    <tr>\n",
       "      <th>0</th>\n",
       "      <td>TCGA-SKCM</td>\n",
       "      <td>Skin</td>\n",
       "      <td>Solid Tissue Normal</td>\n",
       "      <td>875a9646-fef4-45ed-836b-123c2a9b0037.methylati...</td>\n",
       "      <td>3a73da68-4999-4971-b0c5-926a032f50e2</td>\n",
       "    </tr>\n",
       "    <tr>\n",
       "      <th>1</th>\n",
       "      <td>TCGA-SKCM</td>\n",
       "      <td>Skin</td>\n",
       "      <td>Metastatic</td>\n",
       "      <td>2222a810-9fd4-4dcf-8fa9-d5a6e5d9afaf.methylati...</td>\n",
       "      <td>4bd4daef-4ce5-448c-aa4e-e5e20b38a6c2</td>\n",
       "    </tr>\n",
       "    <tr>\n",
       "      <th>2</th>\n",
       "      <td>TCGA-SKCM</td>\n",
       "      <td>Skin</td>\n",
       "      <td>Metastatic</td>\n",
       "      <td>8ca8eb5c-c4da-4475-a2ef-9e8a61e2bbdd.methylati...</td>\n",
       "      <td>1beda168-eaed-4914-80a8-5e8cf588f166</td>\n",
       "    </tr>\n",
       "  </tbody>\n",
       "</table>\n",
       "</div>"
      ],
      "text/plain": [
       "     Project Primary site          Sample type  \\\n",
       "0   TCGA-GBM        Brain        Primary Tumor   \n",
       "1   TCGA-GBM        Brain  Solid Tissue Normal   \n",
       "0  TCGA-SKCM         Skin  Solid Tissue Normal   \n",
       "1  TCGA-SKCM         Skin           Metastatic   \n",
       "2  TCGA-SKCM         Skin           Metastatic   \n",
       "\n",
       "                                           File name  \\\n",
       "0  aa287e61-7e64-4f01-9e44-606abd9ac93a.methylati...   \n",
       "1  07d27a99-baf0-4781-bd44-641303f93ead.methylati...   \n",
       "0  875a9646-fef4-45ed-836b-123c2a9b0037.methylati...   \n",
       "1  2222a810-9fd4-4dcf-8fa9-d5a6e5d9afaf.methylati...   \n",
       "2  8ca8eb5c-c4da-4475-a2ef-9e8a61e2bbdd.methylati...   \n",
       "\n",
       "                              File UUID  \n",
       "0  dbc50065-31b1-42ce-ab81-7e8388befdfa  \n",
       "1  54f1b1e0-bba7-417d-9b57-8c6ffc332845  \n",
       "0  3a73da68-4999-4971-b0c5-926a032f50e2  \n",
       "1  4bd4daef-4ce5-448c-aa4e-e5e20b38a6c2  \n",
       "2  1beda168-eaed-4914-80a8-5e8cf588f166  "
      ]
     },
     "execution_count": 14,
     "metadata": {},
     "output_type": "execute_result"
    }
   ],
   "source": [
    "outexcel=df_combined_rename.drop(['Disease type','Submitter id'],axis=1)\n",
    "outexcel=outexcel[['Project','Primary site','Sample type','File name','File UUID']]\n",
    "outexcel.head()"
   ]
  },
  {
   "cell_type": "code",
   "execution_count": 15,
   "metadata": {},
   "outputs": [],
   "source": [
    "\n",
    "with pd.ExcelWriter(outdir+'.xlsx') as writer:  \n",
    "    outexcel.to_excel(writer, sheet_name='Sheet_1',index=False)\n",
    "    summarydf.to_excel(writer, sheet_name='summary',index=False)"
   ]
  },
  {
   "cell_type": "code",
   "execution_count": 16,
   "metadata": {},
   "outputs": [],
   "source": [
    "df_combined.to_excel(outdir+\"_rawinfo.xlsx\",index=False)"
   ]
  }
 ],
 "metadata": {
  "kernelspec": {
   "display_name": "Python 3",
   "language": "python",
   "name": "python3"
  },
  "language_info": {
   "codemirror_mode": {
    "name": "ipython",
    "version": 3
   },
   "file_extension": ".py",
   "mimetype": "text/x-python",
   "name": "python",
   "nbconvert_exporter": "python",
   "pygments_lexer": "ipython3",
   "version": "3.6.7"
  }
 },
 "nbformat": 4,
 "nbformat_minor": 2
}
